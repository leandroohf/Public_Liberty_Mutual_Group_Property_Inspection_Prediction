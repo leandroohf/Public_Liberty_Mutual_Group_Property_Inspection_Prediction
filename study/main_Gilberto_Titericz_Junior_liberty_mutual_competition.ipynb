{
 "metadata": {
  "name": ""
 },
 "nbformat": 3,
 "nbformat_minor": 0,
 "worksheets": [
  {
   "cells": [
    {
     "cell_type": "markdown",
     "metadata": {},
     "source": [
      "\n",
      "# Codigo para estudar na competicao liberty_mutual_competition\n",
      "\n",
      "'''\n",
      "This benchmark uses xgboost and early stopping to achieve a score of 0.38019\n",
      "In the liberty mutual group: property inspection challenge\n",
      "\n",
      "Based on Abhishek Catapillar benchmark\n",
      "https://www.kaggle.com/abhishek/caterpillar-tube-pricing/beating-the-benchmark-v1-0\n",
      "\n",
      "@author Devin\n",
      "\n",
      "Have fun;)\n",
      "'''\n",
      "Gilberto Titericz Junior, Brasileiro 2o no ranking tambem estah estudando este codigo: https://www.kaggle.com/titericz/liberty-mutual-group-property-inspection-prediction/done-done-3\n",
      " \n",
      "Parece que este codigo nao eh do Brasileiro. Outro (Devin 10 do rank kaggle: ) usuario usa codigo semelhante e cita como autor Abhishek\n",
      "\n",
      "Devin: https://www.kaggle.com/owenzhang1/liberty-mutual-group-property-inspection-prediction/nominal-ordinal-syndrome-00\n",
      "Abhishek: https://www.kaggle.com/abhishek/caterpillar-tube-pricing/beating-the-benchmark-v1-0\n"
     ]
    },
    {
     "cell_type": "code",
     "collapsed": false,
     "input": [
      "%cd ~/Documents/kaggle/Liberty_Mutual_Group_Property_Inspection_Prediction/"
     ],
     "language": "python",
     "metadata": {},
     "outputs": [
      {
       "output_type": "stream",
       "stream": "stdout",
       "text": [
        "/home/leandroohf/Documents/kaggle/Liberty_Mutual_Group_Property_Inspection_Prediction\n"
       ]
      }
     ],
     "prompt_number": 42
    },
    {
     "cell_type": "code",
     "collapsed": false,
     "input": [
      "import pandas as pd\n",
      "import numpy as np \n",
      "from sklearn import preprocessing\n",
      "import xgboost as xgb\n",
      "\n",
      "#load train and test \n",
      "train  = pd.read_csv('data/raw/train.csv', index_col=0)\n",
      "test  = pd.read_csv('data/raw/test.csv', index_col=0)\n",
      "\n",
      "print train.head()\n",
      "print \"==========================\"\n",
      "print test.head()"
     ],
     "language": "python",
     "metadata": {},
     "outputs": [
      {
       "output_type": "stream",
       "stream": "stdout",
       "text": [
        "    Hazard  T1_V1  T1_V2  T1_V3 T1_V4 T1_V5 T1_V6 T1_V7 T1_V8 T1_V9   ...    \\\n",
        "Id                                                                    ...     \n",
        "1        1     15      3      2     N     B     N     B     B     D   ...     \n",
        "2        4     16     14      5     H     B     N     B     B     C   ...     \n",
        "3        1     10     10      5     N     K     N     B     B     E   ...     \n",
        "4        1     18     18      5     N     K     N     B     B     E   ...     \n",
        "5        1     13     19      5     N     H     N     B     B     E   ...     \n",
        "\n",
        "    T2_V6 T2_V7 T2_V8  T2_V9  T2_V10 T2_V11 T2_V12 T2_V13  T2_V14  T2_V15  \n",
        "Id                                                                         \n",
        "1       2    37     1     11       6      Y      N      E       2       2  \n",
        "2       2    22     1     18       5      Y      Y      E       2       1  \n",
        "3       6    37     2     14       6      Y      Y      E       6       1  \n",
        "4       2    25     1      1       6      Y      N      C       2       6  \n",
        "5       1    22     1      2       7      N      N      E       1       1  \n",
        "\n",
        "[5 rows x 33 columns]\n",
        "==========================\n",
        "    T1_V1  T1_V2  T1_V3 T1_V4 T1_V5 T1_V6 T1_V7 T1_V8 T1_V9  T1_V10  ...    \\\n",
        "Id                                                                   ...     \n",
        "6       2     13      4     C     A     Y     B     B     D      12  ...     \n",
        "7      10     10      7     N     C     Y     B     B     D       8  ...     \n",
        "8       9     20      4     N     H     Y     B     B     E       8  ...     \n",
        "9      11     18      2     N     H     Y     B     B     D      12  ...     \n",
        "10      4      5      4     H     K     Y     B     B     E       8  ...     \n",
        "\n",
        "   T2_V6 T2_V7  T2_V8  T2_V9 T2_V10 T2_V11 T2_V12  T2_V13  T2_V14 T2_V15  \n",
        "Id                                                                        \n",
        "6      2    28      1     22      6      Y      N       E       2      7  \n",
        "7      3    28      1      4      3      Y      N       E       5      8  \n",
        "8      2    22      1      1      7      N      N       C       6      1  \n",
        "9      4    40      1     20      6      Y      N       E       5      5  \n",
        "10     2    34      1     11      7      Y      Y       E       2      1  \n",
        "\n",
        "[5 rows x 32 columns]\n"
       ]
      }
     ],
     "prompt_number": 43
    },
    {
     "cell_type": "code",
     "collapsed": false,
     "input": [
      "labels = train.Hazard\n",
      "#train.drop('Hazard', axis=1, inplace=True)\n",
      "print \"Harzard\"\n",
      "print labels.head()\n",
      "print labels.astype('category').describe()\n",
      "#print labels.value_counts()\n",
      "%matplotlib inline\n",
      "labels.hist(bins=69)"
     ],
     "language": "python",
     "metadata": {},
     "outputs": [
      {
       "output_type": "stream",
       "stream": "stdout",
       "text": [
        "Harzard\n",
        "Id\n",
        "1    1\n",
        "2    4\n",
        "3    1\n",
        "4    1\n",
        "5    1\n",
        "Name: Hazard, dtype: int64\n",
        "count     50999\n",
        "unique       50\n",
        "top           1\n",
        "freq      18981\n",
        "Name: Hazard, dtype: int64\n"
       ]
      },
      {
       "metadata": {},
       "output_type": "pyout",
       "prompt_number": 44,
       "text": [
        "<matplotlib.axes.AxesSubplot at 0x7fda80254e10>"
       ]
      },
      {
       "metadata": {},
       "output_type": "display_data",
       "png": "[encoded data removed]",
       "text": [
        "<matplotlib.figure.Figure at 0x7fda62b6bf10>"
       ]
      }
     ],
     "prompt_number": 44
    },
    {
     "cell_type": "code",
     "collapsed": false,
     "input": [
      "print train.T1_V13.astype('category').describe()\n",
      "print train.T1_V13.head()\n",
      "print \"==================\"\n",
      "print train.T1_V10.astype('category').describe()\n",
      "train.T1_V1.hist()"
     ],
     "language": "python",
     "metadata": {},
     "outputs": [
      {
       "output_type": "stream",
       "stream": "stdout",
       "text": [
        "count     50999\n",
        "unique        4\n",
        "top          10\n",
        "freq      17713\n",
        "Name: T1_V13, dtype: int64\n",
        "Id\n",
        "1    15\n",
        "2    10\n",
        "3    15\n",
        "4    15\n",
        "5    10\n",
        "Name: T1_V13, dtype: int64\n",
        "==================\n",
        "count     50999\n",
        "unique        5\n",
        "top           8\n",
        "freq      13646\n",
        "Name: T1_V10, dtype: int64\n"
       ]
      },
      {
       "metadata": {},
       "output_type": "pyout",
       "prompt_number": 45,
       "text": [
        "<matplotlib.axes.AxesSubplot at 0x7fda59ad41d0>"
       ]
      },
      {
       "metadata": {},
       "output_type": "display_data",
       "png": "[encoded data removed]",
       "text": [
        "<matplotlib.figure.Figure at 0x7fda802348d0>"
       ]
      }
     ],
     "prompt_number": 45
    },
    {
     "cell_type": "code",
     "collapsed": false,
     "input": [
      "train2 = train\n",
      "test2 = test\n",
      "\n",
      "train2.drop('Hazard', axis=1, inplace=True)\n",
      "#train2.drop('T2_V10', axis=1, inplace=True)\n",
      "#train2.drop('T2_V7', axis=1, inplace=True)\n",
      "#train2.drop('T1_V13', axis=1, inplace=True)\n",
      "#train2.drop('T1_V10', axis=1, inplace=True)\n",
      "\n",
      "#test2.drop('T2_V10', axis=1, inplace=True)\n",
      "#test2.drop('T2_V7', axis=1, inplace=True)\n",
      "#test2.drop('T1_V13', axis=1, inplace=True)\n",
      "#test2.drop('T1_V10', axis=1, inplace=True)"
     ],
     "language": "python",
     "metadata": {},
     "outputs": [],
     "prompt_number": 46
    },
    {
     "cell_type": "code",
     "collapsed": false,
     "input": [
      "columns = train.columns\n",
      "test_ind = test.index\n",
      "\n",
      "train3 = np.array(train)\n",
      "test3 = np.array(test)\n",
      "\n",
      "print columns\n",
      "print train3.shape"
     ],
     "language": "python",
     "metadata": {},
     "outputs": [
      {
       "output_type": "stream",
       "stream": "stdout",
       "text": [
        "Index([u'T1_V1', u'T1_V2', u'T1_V3', u'T1_V4', u'T1_V5', u'T1_V6', u'T1_V7',\n",
        "       u'T1_V8', u'T1_V9', u'T1_V10', u'T1_V11', u'T1_V12', u'T1_V13',\n",
        "       u'T1_V14', u'T1_V15', u'T1_V16', u'T1_V17', u'T2_V1', u'T2_V2',\n",
        "       u'T2_V3', u'T2_V4', u'T2_V5', u'T2_V6', u'T2_V7', u'T2_V8', u'T2_V9',\n",
        "       u'T2_V10', u'T2_V11', u'T2_V12', u'T2_V13', u'T2_V14', u'T2_V15'],\n",
        "      dtype='object')\n",
        "(50999, 32)\n"
       ]
      }
     ],
     "prompt_number": 47
    },
    {
     "cell_type": "markdown",
     "metadata": {},
     "source": [
      "# Ubderstnading LabelEncoder() first\n",
      "Using documentation examples"
     ]
    },
    {
     "cell_type": "code",
     "collapsed": false,
     "input": [
      "le = preprocessing.LabelEncoder()\n",
      "le.fit([1, 2, 2, 6])\n",
      "print le.classes_\n",
      "print le.transform([1, 1, 2, 6]) ## [1,1,2,6] =>[0,0,1,2]\n",
      "print le.inverse_transform([0, 0, 1, 2])\n",
      "\n",
      "#####\n",
      "print \"####################\"\n",
      "print \"Example with strings\"\n",
      "le.fit(['a', 'b', 'b', 'd'])\n",
      "print le.classes_\n",
      "print le.transform(['a', 'a', 'b', 'd']) \n",
      "print le.inverse_transform([0, 0, 1, 2])\n"
     ],
     "language": "python",
     "metadata": {},
     "outputs": [
      {
       "output_type": "stream",
       "stream": "stdout",
       "text": [
        "[1 2 6]\n",
        "[0 0 1 2]\n",
        "[1 1 2 6]\n",
        "####################\n",
        "Example with strings\n",
        "['a' 'b' 'd']\n",
        "[0 0 1 2]\n",
        "['a' 'a' 'b' 'd']\n"
       ]
      }
     ],
     "prompt_number": 48
    },
    {
     "cell_type": "code",
     "collapsed": false,
     "input": [
      "i = 1\n",
      "lbl = preprocessing.LabelEncoder()\n",
      "print train3[0:5,i]\n",
      "print columns[i]\n",
      "print train3[:,i].shape\n",
      "lbl.fit(list(train3[:,i]) + list(test3[:,i]))\n",
      "\n",
      "# label encode the categorical variables\n",
      "for i in range(train.shape[1]):\n",
      "    lbl = preprocessing.LabelEncoder()\n",
      "    lbl.fit(list(train3[:,i]) + list(test3[:,i]))\n",
      "    train3[:,i] = lbl.transform(train3[:,i])\n",
      "    test3[:,i] = lbl.transform(test3[:,i])\n",
      "\n",
      "train4 = train3.astype(float)\n",
      "test4 = test3.astype(float)\n",
      "\n",
      "train4.shape\n"
     ],
     "language": "python",
     "metadata": {},
     "outputs": [
      {
       "output_type": "stream",
       "stream": "stdout",
       "text": [
        "[3 14 10 18 19]\n",
        "T1_V2\n",
        "(50999,)\n"
       ]
      },
      {
       "metadata": {},
       "output_type": "pyout",
       "prompt_number": 49,
       "text": [
        "(50999, 32)"
       ]
      }
     ],
     "prompt_number": 49
    },
    {
     "cell_type": "code",
     "collapsed": false,
     "input": [
      "params = {}\n",
      "params[\"objective\"] = \"count:poisson\" # \"reg:linear\" \n",
      "params[\"eta\"] = 0.01\n",
      "params[\"min_child_weight\"] = 5\n",
      "params[\"subsample\"] = 0.8\n",
      "params[\"colsample_bytree\"] = 0.8\n",
      "params[\"scale_pos_weight\"] = 1.0\n",
      "params[\"silent\"] = 1\n",
      "params[\"max_depth\"] = 7\n",
      "\n",
      "plst = list(params.items())\n",
      "print \"Prameters list\"\n",
      "print plst\n",
      "\n",
      "#Using 5000 rows for early stopping. \n",
      "offset = 5000\n",
      "\n",
      "num_rounds = 2000\n",
      "xgtest = xgb.DMatrix(test4)\n",
      "\n",
      "#create a train and validation dmatrices \n",
      "xgtrain = xgb.DMatrix(train4[offset:,:], label=labels[offset:])\n",
      "xgval = xgb.DMatrix(train4[:offset,:], label=labels[:offset])\n",
      "\n",
      "print \"number of row xgtest\"\n",
      "print xgtest.num_row()\n",
      "\n",
      "print \"number of row xgtrain\"\n",
      "print xgtrain.num_row()\n"
     ],
     "language": "python",
     "metadata": {},
     "outputs": [
      {
       "output_type": "stream",
       "stream": "stdout",
       "text": [
        "Prameters list\n",
        "[('colsample_bytree', 0.8), ('silent', 1), ('scale_pos_weight', 1.0), ('min_child_weight', 5), ('subsample', 0.8), ('eta', 0.01), ('objective', 'count:poisson'), ('max_depth', 7)]\n",
        "number of row xgtest"
       ]
      },
      {
       "output_type": "stream",
       "stream": "stdout",
       "text": [
        "\n",
        "51000\n",
        "number of row xgtrain\n",
        "45999\n"
       ]
      }
     ],
     "prompt_number": 50
    },
    {
     "cell_type": "code",
     "collapsed": false,
     "input": [
      "#train using early stopping and predict\n",
      "watchlist = [(xgtrain, 'train'),(xgval, 'val')]\n",
      "model = xgb.train(plst, xgtrain, num_rounds, watchlist, early_stopping_rounds=4)"
     ],
     "language": "python",
     "metadata": {},
     "outputs": [
      {
       "output_type": "stream",
       "stream": "stderr",
       "text": [
        "Will train until val error hasn't decreased in 4 rounds.\n",
        "[0]\ttrain-poisson-nloglik:7.744856\tval-poisson-nloglik:7.739280\n"
       ]
      },
      {
       "output_type": "stream",
       "stream": "stderr",
       "text": [
        "[1]\ttrain-poisson-nloglik:7.613815\tval-poisson-nloglik:7.610776\n",
        "[2]\ttrain-poisson-nloglik:7.487465\tval-poisson-nloglik:7.487433\n"
       ]
      },
      {
       "output_type": "stream",
       "stream": "stderr",
       "text": [
        "[3]\ttrain-poisson-nloglik:7.370160\tval-poisson-nloglik:7.372574\n",
        "[4]\ttrain-poisson-nloglik:7.256043\tval-poisson-nloglik:7.261136\n",
        "[5]\ttrain-poisson-nloglik:7.147221\tval-poisson-nloglik:7.156105\n"
       ]
      },
      {
       "output_type": "stream",
       "stream": "stderr",
       "text": [
        "[6]\ttrain-poisson-nloglik:7.041502\tval-poisson-nloglik:7.054051\n",
        "[7]\ttrain-poisson-nloglik:6.941555\tval-poisson-nloglik:6.956168\n"
       ]
      },
      {
       "output_type": "stream",
       "stream": "stderr",
       "text": [
        "[8]\ttrain-poisson-nloglik:6.846399\tval-poisson-nloglik:6.863549\n",
        "[9]\ttrain-poisson-nloglik:6.753239\tval-poisson-nloglik:6.773544\n"
       ]
      },
      {
       "output_type": "stream",
       "stream": "stderr",
       "text": [
        "[10]\ttrain-poisson-nloglik:6.663325\tval-poisson-nloglik:6.685327\n",
        "[11]\ttrain-poisson-nloglik:6.577203\tval-poisson-nloglik:6.601945\n"
       ]
      },
      {
       "output_type": "stream",
       "stream": "stderr",
       "text": [
        "[12]\ttrain-poisson-nloglik:6.493645\tval-poisson-nloglik:6.521652\n",
        "[13]\ttrain-poisson-nloglik:6.414248\tval-poisson-nloglik:6.444655\n"
       ]
      },
      {
       "output_type": "stream",
       "stream": "stderr",
       "text": [
        "[14]\ttrain-poisson-nloglik:6.336861\tval-poisson-nloglik:6.369574\n",
        "[15]\ttrain-poisson-nloglik:6.261970\tval-poisson-nloglik:6.296104\n"
       ]
      },
      {
       "output_type": "stream",
       "stream": "stderr",
       "text": [
        "[16]\ttrain-poisson-nloglik:6.190165\tval-poisson-nloglik:6.225862\n",
        "[17]\ttrain-poisson-nloglik:6.120401\tval-poisson-nloglik:6.158145\n"
       ]
      },
      {
       "output_type": "stream",
       "stream": "stderr",
       "text": [
        "[18]\ttrain-poisson-nloglik:6.052311\tval-poisson-nloglik:6.092546\n",
        "[19]\ttrain-poisson-nloglik:5.985849\tval-poisson-nloglik:6.027884\n"
       ]
      },
      {
       "output_type": "stream",
       "stream": "stderr",
       "text": [
        "[20]\ttrain-poisson-nloglik:5.921682\tval-poisson-nloglik:5.965494\n",
        "[21]\ttrain-poisson-nloglik:5.859713\tval-poisson-nloglik:5.904590\n"
       ]
      },
      {
       "output_type": "stream",
       "stream": "stderr",
       "text": [
        "[22]\ttrain-poisson-nloglik:5.799173\tval-poisson-nloglik:5.846155\n",
        "[23]\ttrain-poisson-nloglik:5.740720\tval-poisson-nloglik:5.788972\n"
       ]
      },
      {
       "output_type": "stream",
       "stream": "stderr",
       "text": [
        "[24]\ttrain-poisson-nloglik:5.683562\tval-poisson-nloglik:5.733270\n",
        "[25]\ttrain-poisson-nloglik:5.628180\tval-poisson-nloglik:5.679021\n"
       ]
      },
      {
       "output_type": "stream",
       "stream": "stderr",
       "text": [
        "[26]\ttrain-poisson-nloglik:5.574213\tval-poisson-nloglik:5.626837\n",
        "[27]\ttrain-poisson-nloglik:5.521912\tval-poisson-nloglik:5.576252\n"
       ]
      },
      {
       "output_type": "stream",
       "stream": "stderr",
       "text": [
        "[28]\ttrain-poisson-nloglik:5.470975\tval-poisson-nloglik:5.526929\n",
        "[29]\ttrain-poisson-nloglik:5.421464\tval-poisson-nloglik:5.478579\n"
       ]
      },
      {
       "output_type": "stream",
       "stream": "stderr",
       "text": [
        "[30]\ttrain-poisson-nloglik:5.372931\tval-poisson-nloglik:5.431984\n",
        "[31]\ttrain-poisson-nloglik:5.325876\tval-poisson-nloglik:5.386636\n"
       ]
      },
      {
       "output_type": "stream",
       "stream": "stderr",
       "text": [
        "[32]\ttrain-poisson-nloglik:5.279616\tval-poisson-nloglik:5.342062\n",
        "[33]\ttrain-poisson-nloglik:5.234366\tval-poisson-nloglik:5.298409\n"
       ]
      },
      {
       "output_type": "stream",
       "stream": "stderr",
       "text": [
        "[34]\ttrain-poisson-nloglik:5.190591\tval-poisson-nloglik:5.255991\n",
        "[35]\ttrain-poisson-nloglik:5.147924\tval-poisson-nloglik:5.214805\n"
       ]
      },
      {
       "output_type": "stream",
       "stream": "stderr",
       "text": [
        "[36]\ttrain-poisson-nloglik:5.105943\tval-poisson-nloglik:5.174338\n",
        "[37]\ttrain-poisson-nloglik:5.065311\tval-poisson-nloglik:5.135029\n",
        "[38]\ttrain-poisson-nloglik:5.025012\tval-poisson-nloglik:5.096469\n"
       ]
      },
      {
       "output_type": "stream",
       "stream": "stderr",
       "text": [
        "[39]\ttrain-poisson-nloglik:4.986101\tval-poisson-nloglik:5.058810\n",
        "[40]\ttrain-poisson-nloglik:4.947892\tval-poisson-nloglik:5.022051\n"
       ]
      },
      {
       "output_type": "stream",
       "stream": "stderr",
       "text": [
        "[41]\ttrain-poisson-nloglik:4.910498\tval-poisson-nloglik:4.985679\n",
        "[42]\ttrain-poisson-nloglik:4.873901\tval-poisson-nloglik:4.949879\n"
       ]
      },
      {
       "output_type": "stream",
       "stream": "stderr",
       "text": [
        "[43]\ttrain-poisson-nloglik:4.838414\tval-poisson-nloglik:4.915399\n",
        "[44]\ttrain-poisson-nloglik:4.803586\tval-poisson-nloglik:4.881242\n",
        "[45]\ttrain-poisson-nloglik:4.769415\tval-poisson-nloglik:4.847671\n"
       ]
      },
      {
       "output_type": "stream",
       "stream": "stderr",
       "text": [
        "[46]\ttrain-poisson-nloglik:4.736112\tval-poisson-nloglik:4.815113\n",
        "[47]\ttrain-poisson-nloglik:4.703520\tval-poisson-nloglik:4.783287\n"
       ]
      },
      {
       "output_type": "stream",
       "stream": "stderr",
       "text": [
        "[48]\ttrain-poisson-nloglik:4.671575\tval-poisson-nloglik:4.752779\n",
        "[49]\ttrain-poisson-nloglik:4.640193\tval-poisson-nloglik:4.722376\n"
       ]
      },
      {
       "output_type": "stream",
       "stream": "stderr",
       "text": [
        "[50]\ttrain-poisson-nloglik:4.609337\tval-poisson-nloglik:4.692372\n",
        "[51]\ttrain-poisson-nloglik:4.579478\tval-poisson-nloglik:4.663456\n"
       ]
      },
      {
       "output_type": "stream",
       "stream": "stderr",
       "text": [
        "[52]\ttrain-poisson-nloglik:4.550012\tval-poisson-nloglik:4.635095\n",
        "[53]\ttrain-poisson-nloglik:4.521331\tval-poisson-nloglik:4.607394\n"
       ]
      },
      {
       "output_type": "stream",
       "stream": "stderr",
       "text": [
        "[54]\ttrain-poisson-nloglik:4.493138\tval-poisson-nloglik:4.580254\n",
        "[55]\ttrain-poisson-nloglik:4.465351\tval-poisson-nloglik:4.553334\n"
       ]
      },
      {
       "output_type": "stream",
       "stream": "stderr",
       "text": [
        "[56]\ttrain-poisson-nloglik:4.438057\tval-poisson-nloglik:4.526795\n",
        "[57]\ttrain-poisson-nloglik:4.411522\tval-poisson-nloglik:4.501411\n"
       ]
      },
      {
       "output_type": "stream",
       "stream": "stderr",
       "text": [
        "[58]\ttrain-poisson-nloglik:4.385416\tval-poisson-nloglik:4.476273\n",
        "[59]\ttrain-poisson-nloglik:4.360030\tval-poisson-nloglik:4.451869\n",
        "[60]\ttrain-poisson-nloglik:4.335047\tval-poisson-nloglik:4.427707\n"
       ]
      },
      {
       "output_type": "stream",
       "stream": "stderr",
       "text": [
        "[61]\ttrain-poisson-nloglik:4.310453\tval-poisson-nloglik:4.403600\n",
        "[62]\ttrain-poisson-nloglik:4.286337\tval-poisson-nloglik:4.380118\n"
       ]
      },
      {
       "output_type": "stream",
       "stream": "stderr",
       "text": [
        "[63]\ttrain-poisson-nloglik:4.262716\tval-poisson-nloglik:4.357225\n",
        "[64]\ttrain-poisson-nloglik:4.239425\tval-poisson-nloglik:4.334778\n"
       ]
      },
      {
       "output_type": "stream",
       "stream": "stderr",
       "text": [
        "[65]\ttrain-poisson-nloglik:4.216510\tval-poisson-nloglik:4.312853\n",
        "[66]\ttrain-poisson-nloglik:4.194228\tval-poisson-nloglik:4.291209\n"
       ]
      },
      {
       "output_type": "stream",
       "stream": "stderr",
       "text": [
        "[67]\ttrain-poisson-nloglik:4.172288\tval-poisson-nloglik:4.269990\n",
        "[68]\ttrain-poisson-nloglik:4.150640\tval-poisson-nloglik:4.249037\n",
        "[69]\ttrain-poisson-nloglik:4.129267\tval-poisson-nloglik:4.228426\n"
       ]
      },
      {
       "output_type": "stream",
       "stream": "stderr",
       "text": [
        "[70]\ttrain-poisson-nloglik:4.108375\tval-poisson-nloglik:4.208381\n",
        "[71]\ttrain-poisson-nloglik:4.087788\tval-poisson-nloglik:4.188565\n"
       ]
      },
      {
       "output_type": "stream",
       "stream": "stderr",
       "text": [
        "[72]\ttrain-poisson-nloglik:4.067476\tval-poisson-nloglik:4.169063\n",
        "[73]\ttrain-poisson-nloglik:4.047659\tval-poisson-nloglik:4.149734\n",
        "[74]\ttrain-poisson-nloglik:4.028101\tval-poisson-nloglik:4.130787\n"
       ]
      },
      {
       "output_type": "stream",
       "stream": "stderr",
       "text": [
        "[75]\ttrain-poisson-nloglik:4.008655\tval-poisson-nloglik:4.112100\n",
        "[76]\ttrain-poisson-nloglik:3.989844\tval-poisson-nloglik:4.094173\n"
       ]
      },
      {
       "output_type": "stream",
       "stream": "stderr",
       "text": [
        "[77]\ttrain-poisson-nloglik:3.971365\tval-poisson-nloglik:4.076345\n",
        "[78]\ttrain-poisson-nloglik:3.953067\tval-poisson-nloglik:4.058819\n"
       ]
      },
      {
       "output_type": "stream",
       "stream": "stderr",
       "text": [
        "[79]\ttrain-poisson-nloglik:3.935061\tval-poisson-nloglik:4.041533\n",
        "[80]\ttrain-poisson-nloglik:3.917418\tval-poisson-nloglik:4.024481\n"
       ]
      },
      {
       "output_type": "stream",
       "stream": "stderr",
       "text": [
        "[81]\ttrain-poisson-nloglik:3.900143\tval-poisson-nloglik:4.007742\n",
        "[82]\ttrain-poisson-nloglik:3.883044\tval-poisson-nloglik:3.991427\n"
       ]
      },
      {
       "output_type": "stream",
       "stream": "stderr",
       "text": [
        "[83]\ttrain-poisson-nloglik:3.866107\tval-poisson-nloglik:3.975241\n",
        "[84]\ttrain-poisson-nloglik:3.849510\tval-poisson-nloglik:3.959508\n",
        "[85]\ttrain-poisson-nloglik:3.833194\tval-poisson-nloglik:3.943797\n"
       ]
      },
      {
       "output_type": "stream",
       "stream": "stderr",
       "text": [
        "[86]\ttrain-poisson-nloglik:3.817236\tval-poisson-nloglik:3.928274\n",
        "[87]\ttrain-poisson-nloglik:3.801481\tval-poisson-nloglik:3.913279\n"
       ]
      },
      {
       "output_type": "stream",
       "stream": "stderr",
       "text": [
        "[88]\ttrain-poisson-nloglik:3.786118\tval-poisson-nloglik:3.898673\n",
        "[89]\ttrain-poisson-nloglik:3.770824\tval-poisson-nloglik:3.884008\n"
       ]
      },
      {
       "output_type": "stream",
       "stream": "stderr",
       "text": [
        "[90]\ttrain-poisson-nloglik:3.755668\tval-poisson-nloglik:3.869651\n",
        "[91]\ttrain-poisson-nloglik:3.740883\tval-poisson-nloglik:3.855469\n"
       ]
      },
      {
       "output_type": "stream",
       "stream": "stderr",
       "text": [
        "[92]\ttrain-poisson-nloglik:3.726167\tval-poisson-nloglik:3.841198\n",
        "[93]\ttrain-poisson-nloglik:3.712053\tval-poisson-nloglik:3.827571\n",
        "[94]\ttrain-poisson-nloglik:3.698127\tval-poisson-nloglik:3.813938\n"
       ]
      },
      {
       "output_type": "stream",
       "stream": "stderr",
       "text": [
        "[95]\ttrain-poisson-nloglik:3.684235\tval-poisson-nloglik:3.800739\n",
        "[96]\ttrain-poisson-nloglik:3.670661\tval-poisson-nloglik:3.787553\n"
       ]
      },
      {
       "output_type": "stream",
       "stream": "stderr",
       "text": [
        "[97]\ttrain-poisson-nloglik:3.657147\tval-poisson-nloglik:3.774714\n",
        "[98]\ttrain-poisson-nloglik:3.643893\tval-poisson-nloglik:3.762089\n"
       ]
      },
      {
       "output_type": "stream",
       "stream": "stderr",
       "text": [
        "[99]\ttrain-poisson-nloglik:3.630946\tval-poisson-nloglik:3.749752\n",
        "[100]\ttrain-poisson-nloglik:3.618300\tval-poisson-nloglik:3.737721\n"
       ]
      },
      {
       "output_type": "stream",
       "stream": "stderr",
       "text": [
        "[101]\ttrain-poisson-nloglik:3.605793\tval-poisson-nloglik:3.725652\n",
        "[102]\ttrain-poisson-nloglik:3.593462\tval-poisson-nloglik:3.713766\n"
       ]
      },
      {
       "output_type": "stream",
       "stream": "stderr",
       "text": [
        "[103]\ttrain-poisson-nloglik:3.581375\tval-poisson-nloglik:3.702175\n",
        "[104]\ttrain-poisson-nloglik:3.569346\tval-poisson-nloglik:3.690592\n"
       ]
      },
      {
       "output_type": "stream",
       "stream": "stderr",
       "text": [
        "[105]\ttrain-poisson-nloglik:3.557475\tval-poisson-nloglik:3.679030\n",
        "[106]\ttrain-poisson-nloglik:3.545795\tval-poisson-nloglik:3.667936\n"
       ]
      },
      {
       "output_type": "stream",
       "stream": "stderr",
       "text": [
        "[107]\ttrain-poisson-nloglik:3.534450\tval-poisson-nloglik:3.656828\n",
        "[108]\ttrain-poisson-nloglik:3.523013\tval-poisson-nloglik:3.645964\n",
        "[109]\ttrain-poisson-nloglik:3.511998\tval-poisson-nloglik:3.635175\n"
       ]
      },
      {
       "output_type": "stream",
       "stream": "stderr",
       "text": [
        "[110]\ttrain-poisson-nloglik:3.501027\tval-poisson-nloglik:3.624720\n",
        "[111]\ttrain-poisson-nloglik:3.490200\tval-poisson-nloglik:3.614366\n",
        "[112]\ttrain-poisson-nloglik:3.479418\tval-poisson-nloglik:3.604178\n"
       ]
      },
      {
       "output_type": "stream",
       "stream": "stderr",
       "text": [
        "[113]\ttrain-poisson-nloglik:3.468992\tval-poisson-nloglik:3.594175\n",
        "[114]\ttrain-poisson-nloglik:3.458588\tval-poisson-nloglik:3.584189\n",
        "[115]\ttrain-poisson-nloglik:3.448411\tval-poisson-nloglik:3.574586\n"
       ]
      },
      {
       "output_type": "stream",
       "stream": "stderr",
       "text": [
        "[116]\ttrain-poisson-nloglik:3.438384\tval-poisson-nloglik:3.565247\n",
        "[117]\ttrain-poisson-nloglik:3.428409\tval-poisson-nloglik:3.555792\n"
       ]
      },
      {
       "output_type": "stream",
       "stream": "stderr",
       "text": [
        "[118]\ttrain-poisson-nloglik:3.418601\tval-poisson-nloglik:3.546502\n",
        "[119]\ttrain-poisson-nloglik:3.408963\tval-poisson-nloglik:3.537343\n"
       ]
      },
      {
       "output_type": "stream",
       "stream": "stderr",
       "text": [
        "[120]\ttrain-poisson-nloglik:3.399548\tval-poisson-nloglik:3.528210\n",
        "[121]\ttrain-poisson-nloglik:3.390348\tval-poisson-nloglik:3.519339\n"
       ]
      },
      {
       "output_type": "stream",
       "stream": "stderr",
       "text": [
        "[122]\ttrain-poisson-nloglik:3.381152\tval-poisson-nloglik:3.510336\n",
        "[123]\ttrain-poisson-nloglik:3.371928\tval-poisson-nloglik:3.501602\n"
       ]
      },
      {
       "output_type": "stream",
       "stream": "stderr",
       "text": [
        "[124]\ttrain-poisson-nloglik:3.362906\tval-poisson-nloglik:3.493049\n",
        "[125]\ttrain-poisson-nloglik:3.354155\tval-poisson-nloglik:3.484746\n",
        "[126]\ttrain-poisson-nloglik:3.345444\tval-poisson-nloglik:3.476450\n"
       ]
      },
      {
       "output_type": "stream",
       "stream": "stderr",
       "text": [
        "[127]\ttrain-poisson-nloglik:3.336789\tval-poisson-nloglik:3.468204\n",
        "[128]\ttrain-poisson-nloglik:3.328271\tval-poisson-nloglik:3.460195\n"
       ]
      },
      {
       "output_type": "stream",
       "stream": "stderr",
       "text": [
        "[129]\ttrain-poisson-nloglik:3.319770\tval-poisson-nloglik:3.452245\n",
        "[130]\ttrain-poisson-nloglik:3.311464\tval-poisson-nloglik:3.444434\n"
       ]
      },
      {
       "output_type": "stream",
       "stream": "stderr",
       "text": [
        "[131]\ttrain-poisson-nloglik:3.303062\tval-poisson-nloglik:3.436713\n",
        "[132]\ttrain-poisson-nloglik:3.294958\tval-poisson-nloglik:3.428969\n"
       ]
      },
      {
       "output_type": "stream",
       "stream": "stderr",
       "text": [
        "[133]\ttrain-poisson-nloglik:3.287026\tval-poisson-nloglik:3.421554\n",
        "[134]\ttrain-poisson-nloglik:3.279131\tval-poisson-nloglik:3.414111\n"
       ]
      },
      {
       "output_type": "stream",
       "stream": "stderr",
       "text": [
        "[135]\ttrain-poisson-nloglik:3.271354\tval-poisson-nloglik:3.406878\n",
        "[136]\ttrain-poisson-nloglik:3.263703\tval-poisson-nloglik:3.399612\n"
       ]
      },
      {
       "output_type": "stream",
       "stream": "stderr",
       "text": [
        "[137]\ttrain-poisson-nloglik:3.256162\tval-poisson-nloglik:3.392429\n",
        "[138]\ttrain-poisson-nloglik:3.248563\tval-poisson-nloglik:3.385420\n"
       ]
      },
      {
       "output_type": "stream",
       "stream": "stderr",
       "text": [
        "[139]\ttrain-poisson-nloglik:3.241304\tval-poisson-nloglik:3.378595\n",
        "[140]\ttrain-poisson-nloglik:3.234053\tval-poisson-nloglik:3.371764\n"
       ]
      },
      {
       "output_type": "stream",
       "stream": "stderr",
       "text": [
        "[141]\ttrain-poisson-nloglik:3.226947\tval-poisson-nloglik:3.364974\n",
        "[142]\ttrain-poisson-nloglik:3.219982\tval-poisson-nloglik:3.358341\n"
       ]
      },
      {
       "output_type": "stream",
       "stream": "stderr",
       "text": [
        "[143]\ttrain-poisson-nloglik:3.213005\tval-poisson-nloglik:3.351716\n",
        "[144]\ttrain-poisson-nloglik:3.206043\tval-poisson-nloglik:3.345244\n"
       ]
      },
      {
       "output_type": "stream",
       "stream": "stderr",
       "text": [
        "[145]\ttrain-poisson-nloglik:3.199219\tval-poisson-nloglik:3.338912\n",
        "[146]\ttrain-poisson-nloglik:3.192597\tval-poisson-nloglik:3.332496\n"
       ]
      },
      {
       "output_type": "stream",
       "stream": "stderr",
       "text": [
        "[147]\ttrain-poisson-nloglik:3.185924\tval-poisson-nloglik:3.326280\n",
        "[148]\ttrain-poisson-nloglik:3.179433\tval-poisson-nloglik:3.320103\n"
       ]
      },
      {
       "output_type": "stream",
       "stream": "stderr",
       "text": [
        "[149]\ttrain-poisson-nloglik:3.172932\tval-poisson-nloglik:3.314073\n",
        "[150]\ttrain-poisson-nloglik:3.166622\tval-poisson-nloglik:3.308005\n"
       ]
      },
      {
       "output_type": "stream",
       "stream": "stderr",
       "text": [
        "[151]\ttrain-poisson-nloglik:3.160332\tval-poisson-nloglik:3.302129\n",
        "[152]\ttrain-poisson-nloglik:3.154252\tval-poisson-nloglik:3.296428\n"
       ]
      },
      {
       "output_type": "stream",
       "stream": "stderr",
       "text": [
        "[153]\ttrain-poisson-nloglik:3.148130\tval-poisson-nloglik:3.290593\n",
        "[154]\ttrain-poisson-nloglik:3.141910\tval-poisson-nloglik:3.284915\n"
       ]
      },
      {
       "output_type": "stream",
       "stream": "stderr",
       "text": [
        "[155]\ttrain-poisson-nloglik:3.135833\tval-poisson-nloglik:3.279266\n",
        "[156]\ttrain-poisson-nloglik:3.129884\tval-poisson-nloglik:3.273811\n"
       ]
      },
      {
       "output_type": "stream",
       "stream": "stderr",
       "text": [
        "[157]\ttrain-poisson-nloglik:3.124016\tval-poisson-nloglik:3.268497\n",
        "[158]\ttrain-poisson-nloglik:3.118253\tval-poisson-nloglik:3.263156\n"
       ]
      },
      {
       "output_type": "stream",
       "stream": "stderr",
       "text": [
        "[159]\ttrain-poisson-nloglik:3.112651\tval-poisson-nloglik:3.257896\n",
        "[160]\ttrain-poisson-nloglik:3.107044\tval-poisson-nloglik:3.252700\n"
       ]
      },
      {
       "output_type": "stream",
       "stream": "stderr",
       "text": [
        "[161]\ttrain-poisson-nloglik:3.101518\tval-poisson-nloglik:3.247470\n",
        "[162]\ttrain-poisson-nloglik:3.095971\tval-poisson-nloglik:3.242380\n"
       ]
      },
      {
       "output_type": "stream",
       "stream": "stderr",
       "text": [
        "[163]\ttrain-poisson-nloglik:3.090622\tval-poisson-nloglik:3.237154\n",
        "[164]\ttrain-poisson-nloglik:3.085189\tval-poisson-nloglik:3.232160\n"
       ]
      },
      {
       "output_type": "stream",
       "stream": "stderr",
       "text": [
        "[165]\ttrain-poisson-nloglik:3.079959\tval-poisson-nloglik:3.227245\n",
        "[166]\ttrain-poisson-nloglik:3.074733\tval-poisson-nloglik:3.222263\n",
        "[167]\ttrain-poisson-nloglik:3.069597\tval-poisson-nloglik:3.217430\n"
       ]
      },
      {
       "output_type": "stream",
       "stream": "stderr",
       "text": [
        "[168]\ttrain-poisson-nloglik:3.064493\tval-poisson-nloglik:3.212524\n",
        "[169]\ttrain-poisson-nloglik:3.059459\tval-poisson-nloglik:3.207859\n"
       ]
      },
      {
       "output_type": "stream",
       "stream": "stderr",
       "text": [
        "[170]\ttrain-poisson-nloglik:3.054563\tval-poisson-nloglik:3.203279\n",
        "[171]\ttrain-poisson-nloglik:3.049506\tval-poisson-nloglik:3.198682\n"
       ]
      },
      {
       "output_type": "stream",
       "stream": "stderr",
       "text": [
        "[172]\ttrain-poisson-nloglik:3.044689\tval-poisson-nloglik:3.194189\n",
        "[173]\ttrain-poisson-nloglik:3.039927\tval-poisson-nloglik:3.189741\n",
        "[174]\ttrain-poisson-nloglik:3.035262\tval-poisson-nloglik:3.185326\n"
       ]
      },
      {
       "output_type": "stream",
       "stream": "stderr",
       "text": [
        "[175]\ttrain-poisson-nloglik:3.030622\tval-poisson-nloglik:3.180974\n",
        "[176]\ttrain-poisson-nloglik:3.025967\tval-poisson-nloglik:3.176704\n"
       ]
      },
      {
       "output_type": "stream",
       "stream": "stderr",
       "text": [
        "[177]\ttrain-poisson-nloglik:3.021318\tval-poisson-nloglik:3.172421\n",
        "[178]\ttrain-poisson-nloglik:3.016881\tval-poisson-nloglik:3.168223\n",
        "[179]\ttrain-poisson-nloglik:3.012391\tval-poisson-nloglik:3.164068\n"
       ]
      },
      {
       "output_type": "stream",
       "stream": "stderr",
       "text": [
        "[180]\ttrain-poisson-nloglik:3.007977\tval-poisson-nloglik:3.159999\n",
        "[181]\ttrain-poisson-nloglik:3.003537\tval-poisson-nloglik:3.156087\n"
       ]
      },
      {
       "output_type": "stream",
       "stream": "stderr",
       "text": [
        "[182]\ttrain-poisson-nloglik:2.999272\tval-poisson-nloglik:3.152122\n",
        "[183]\ttrain-poisson-nloglik:2.995049\tval-poisson-nloglik:3.148159\n",
        "[184]\ttrain-poisson-nloglik:2.990955\tval-poisson-nloglik:3.144344\n"
       ]
      },
      {
       "output_type": "stream",
       "stream": "stderr",
       "text": [
        "[185]\ttrain-poisson-nloglik:2.986794\tval-poisson-nloglik:3.140439\n",
        "[186]\ttrain-poisson-nloglik:2.982628\tval-poisson-nloglik:3.136710\n"
       ]
      },
      {
       "output_type": "stream",
       "stream": "stderr",
       "text": [
        "[187]\ttrain-poisson-nloglik:2.978520\tval-poisson-nloglik:3.132941\n",
        "[188]\ttrain-poisson-nloglik:2.974507\tval-poisson-nloglik:3.129111\n"
       ]
      },
      {
       "output_type": "stream",
       "stream": "stderr",
       "text": [
        "[189]\ttrain-poisson-nloglik:2.970515\tval-poisson-nloglik:3.125562\n",
        "[190]\ttrain-poisson-nloglik:2.966520\tval-poisson-nloglik:3.121852\n"
       ]
      },
      {
       "output_type": "stream",
       "stream": "stderr",
       "text": [
        "[191]\ttrain-poisson-nloglik:2.962725\tval-poisson-nloglik:3.118234\n",
        "[192]\ttrain-poisson-nloglik:2.958951\tval-poisson-nloglik:3.114774\n"
       ]
      },
      {
       "output_type": "stream",
       "stream": "stderr",
       "text": [
        "[193]\ttrain-poisson-nloglik:2.955201\tval-poisson-nloglik:3.111373\n",
        "[194]\ttrain-poisson-nloglik:2.951346\tval-poisson-nloglik:3.107941\n"
       ]
      },
      {
       "output_type": "stream",
       "stream": "stderr",
       "text": [
        "[195]\ttrain-poisson-nloglik:2.947680\tval-poisson-nloglik:3.104589\n",
        "[196]\ttrain-poisson-nloglik:2.944104\tval-poisson-nloglik:3.101295\n"
       ]
      },
      {
       "output_type": "stream",
       "stream": "stderr",
       "text": [
        "[197]\ttrain-poisson-nloglik:2.940484\tval-poisson-nloglik:3.097974\n",
        "[198]\ttrain-poisson-nloglik:2.936988\tval-poisson-nloglik:3.094802\n",
        "[199]\ttrain-poisson-nloglik:2.933533\tval-poisson-nloglik:3.091680\n"
       ]
      },
      {
       "output_type": "stream",
       "stream": "stderr",
       "text": [
        "[200]\ttrain-poisson-nloglik:2.929927\tval-poisson-nloglik:3.088530\n",
        "[201]\ttrain-poisson-nloglik:2.926457\tval-poisson-nloglik:3.085405\n",
        "[202]\ttrain-poisson-nloglik:2.923034\tval-poisson-nloglik:3.082214\n"
       ]
      },
      {
       "output_type": "stream",
       "stream": "stderr",
       "text": [
        "[203]\ttrain-poisson-nloglik:2.919623\tval-poisson-nloglik:3.079188\n",
        "[204]\ttrain-poisson-nloglik:2.916193\tval-poisson-nloglik:3.076073\n"
       ]
      },
      {
       "output_type": "stream",
       "stream": "stderr",
       "text": [
        "[205]\ttrain-poisson-nloglik:2.912897\tval-poisson-nloglik:3.073063\n",
        "[206]\ttrain-poisson-nloglik:2.909678\tval-poisson-nloglik:3.070072\n"
       ]
      },
      {
       "output_type": "stream",
       "stream": "stderr",
       "text": [
        "[207]\ttrain-poisson-nloglik:2.906463\tval-poisson-nloglik:3.067189\n",
        "[208]\ttrain-poisson-nloglik:2.903263\tval-poisson-nloglik:3.064307\n"
       ]
      },
      {
       "output_type": "stream",
       "stream": "stderr",
       "text": [
        "[209]\ttrain-poisson-nloglik:2.900030\tval-poisson-nloglik:3.061392\n",
        "[210]\ttrain-poisson-nloglik:2.896942\tval-poisson-nloglik:3.058600\n"
       ]
      },
      {
       "output_type": "stream",
       "stream": "stderr",
       "text": [
        "[211]\ttrain-poisson-nloglik:2.893865\tval-poisson-nloglik:3.055907\n",
        "[212]\ttrain-poisson-nloglik:2.890877\tval-poisson-nloglik:3.053072\n"
       ]
      },
      {
       "output_type": "stream",
       "stream": "stderr",
       "text": [
        "[213]\ttrain-poisson-nloglik:2.887855\tval-poisson-nloglik:3.050314\n",
        "[214]\ttrain-poisson-nloglik:2.884958\tval-poisson-nloglik:3.047645\n",
        "[215]\ttrain-poisson-nloglik:2.882044\tval-poisson-nloglik:3.044976\n"
       ]
      },
      {
       "output_type": "stream",
       "stream": "stderr",
       "text": [
        "[216]\ttrain-poisson-nloglik:2.879151\tval-poisson-nloglik:3.042188\n",
        "[217]\ttrain-poisson-nloglik:2.876203\tval-poisson-nloglik:3.039605\n"
       ]
      },
      {
       "output_type": "stream",
       "stream": "stderr",
       "text": [
        "[218]\ttrain-poisson-nloglik:2.873373\tval-poisson-nloglik:3.037006\n",
        "[219]\ttrain-poisson-nloglik:2.870548\tval-poisson-nloglik:3.034451\n"
       ]
      },
      {
       "output_type": "stream",
       "stream": "stderr",
       "text": [
        "[220]\ttrain-poisson-nloglik:2.867686\tval-poisson-nloglik:3.031975\n",
        "[221]\ttrain-poisson-nloglik:2.864899\tval-poisson-nloglik:3.029526\n"
       ]
      },
      {
       "output_type": "stream",
       "stream": "stderr",
       "text": [
        "[222]\ttrain-poisson-nloglik:2.862201\tval-poisson-nloglik:3.027012\n",
        "[223]\ttrain-poisson-nloglik:2.859533\tval-poisson-nloglik:3.024614\n",
        "[224]\ttrain-poisson-nloglik:2.856834\tval-poisson-nloglik:3.022210\n"
       ]
      },
      {
       "output_type": "stream",
       "stream": "stderr",
       "text": [
        "[225]\ttrain-poisson-nloglik:2.854170\tval-poisson-nloglik:3.019875\n",
        "[226]\ttrain-poisson-nloglik:2.851605\tval-poisson-nloglik:3.017482\n"
       ]
      },
      {
       "output_type": "stream",
       "stream": "stderr",
       "text": [
        "[227]\ttrain-poisson-nloglik:2.849095\tval-poisson-nloglik:3.015216\n",
        "[228]\ttrain-poisson-nloglik:2.846541\tval-poisson-nloglik:3.013016\n"
       ]
      },
      {
       "output_type": "stream",
       "stream": "stderr",
       "text": [
        "[229]\ttrain-poisson-nloglik:2.843952\tval-poisson-nloglik:3.010757\n",
        "[230]\ttrain-poisson-nloglik:2.841446\tval-poisson-nloglik:3.008618\n"
       ]
      },
      {
       "output_type": "stream",
       "stream": "stderr",
       "text": [
        "[231]\ttrain-poisson-nloglik:2.838964\tval-poisson-nloglik:3.006438\n",
        "[232]\ttrain-poisson-nloglik:2.836448\tval-poisson-nloglik:3.004206\n"
       ]
      },
      {
       "output_type": "stream",
       "stream": "stderr",
       "text": [
        "[233]\ttrain-poisson-nloglik:2.833972\tval-poisson-nloglik:3.001952\n",
        "[234]\ttrain-poisson-nloglik:2.831655\tval-poisson-nloglik:2.999804\n"
       ]
      },
      {
       "output_type": "stream",
       "stream": "stderr",
       "text": [
        "[235]\ttrain-poisson-nloglik:2.829382\tval-poisson-nloglik:2.997757\n",
        "[236]\ttrain-poisson-nloglik:2.827080\tval-poisson-nloglik:2.995692\n"
       ]
      },
      {
       "output_type": "stream",
       "stream": "stderr",
       "text": [
        "[237]\ttrain-poisson-nloglik:2.824707\tval-poisson-nloglik:2.993600\n",
        "[238]\ttrain-poisson-nloglik:2.822304\tval-poisson-nloglik:2.991418\n"
       ]
      },
      {
       "output_type": "stream",
       "stream": "stderr",
       "text": [
        "[239]\ttrain-poisson-nloglik:2.820076\tval-poisson-nloglik:2.989500\n",
        "[240]\ttrain-poisson-nloglik:2.817799\tval-poisson-nloglik:2.987556\n",
        "[241]\ttrain-poisson-nloglik:2.815567\tval-poisson-nloglik:2.985590\n"
       ]
      },
      {
       "output_type": "stream",
       "stream": "stderr",
       "text": [
        "[242]\ttrain-poisson-nloglik:2.813254\tval-poisson-nloglik:2.983583\n",
        "[243]\ttrain-poisson-nloglik:2.811109\tval-poisson-nloglik:2.981609\n"
       ]
      },
      {
       "output_type": "stream",
       "stream": "stderr",
       "text": [
        "[244]\ttrain-poisson-nloglik:2.808981\tval-poisson-nloglik:2.979742\n",
        "[245]\ttrain-poisson-nloglik:2.806830\tval-poisson-nloglik:2.977829\n"
       ]
      },
      {
       "output_type": "stream",
       "stream": "stderr",
       "text": [
        "[246]\ttrain-poisson-nloglik:2.804624\tval-poisson-nloglik:2.976036\n",
        "[247]\ttrain-poisson-nloglik:2.802604\tval-poisson-nloglik:2.974247\n"
       ]
      },
      {
       "output_type": "stream",
       "stream": "stderr",
       "text": [
        "[248]\ttrain-poisson-nloglik:2.800513\tval-poisson-nloglik:2.972379\n",
        "[249]\ttrain-poisson-nloglik:2.798565\tval-poisson-nloglik:2.970634\n",
        "[250]\ttrain-poisson-nloglik:2.796483\tval-poisson-nloglik:2.968792\n"
       ]
      },
      {
       "output_type": "stream",
       "stream": "stderr",
       "text": [
        "[251]\ttrain-poisson-nloglik:2.794552\tval-poisson-nloglik:2.967119\n",
        "[252]\ttrain-poisson-nloglik:2.792402\tval-poisson-nloglik:2.965302\n"
       ]
      },
      {
       "output_type": "stream",
       "stream": "stderr",
       "text": [
        "[253]\ttrain-poisson-nloglik:2.790393\tval-poisson-nloglik:2.963613\n",
        "[254]\ttrain-poisson-nloglik:2.788566\tval-poisson-nloglik:2.961969\n",
        "[255]\ttrain-poisson-nloglik:2.786667\tval-poisson-nloglik:2.960323\n"
       ]
      },
      {
       "output_type": "stream",
       "stream": "stderr",
       "text": [
        "[256]\ttrain-poisson-nloglik:2.784677\tval-poisson-nloglik:2.958636\n",
        "[257]\ttrain-poisson-nloglik:2.782757\tval-poisson-nloglik:2.957045\n",
        "[258]\ttrain-poisson-nloglik:2.780895\tval-poisson-nloglik:2.955432\n"
       ]
      },
      {
       "output_type": "stream",
       "stream": "stderr",
       "text": [
        "[259]\ttrain-poisson-nloglik:2.779108\tval-poisson-nloglik:2.953817\n",
        "[260]\ttrain-poisson-nloglik:2.777154\tval-poisson-nloglik:2.952223\n"
       ]
      },
      {
       "output_type": "stream",
       "stream": "stderr",
       "text": [
        "[261]\ttrain-poisson-nloglik:2.775426\tval-poisson-nloglik:2.950671\n",
        "[262]\ttrain-poisson-nloglik:2.773601\tval-poisson-nloglik:2.949085\n"
       ]
      },
      {
       "output_type": "stream",
       "stream": "stderr",
       "text": [
        "[263]\ttrain-poisson-nloglik:2.771757\tval-poisson-nloglik:2.947483\n",
        "[264]\ttrain-poisson-nloglik:2.770000\tval-poisson-nloglik:2.945931\n"
       ]
      },
      {
       "output_type": "stream",
       "stream": "stderr",
       "text": [
        "[265]\ttrain-poisson-nloglik:2.768350\tval-poisson-nloglik:2.944353\n",
        "[266]\ttrain-poisson-nloglik:2.766551\tval-poisson-nloglik:2.942849\n",
        "[267]\ttrain-poisson-nloglik:2.764927\tval-poisson-nloglik:2.941370\n"
       ]
      },
      {
       "output_type": "stream",
       "stream": "stderr",
       "text": [
        "[268]\ttrain-poisson-nloglik:2.763311\tval-poisson-nloglik:2.939942\n",
        "[269]\ttrain-poisson-nloglik:2.761609\tval-poisson-nloglik:2.938495\n"
       ]
      },
      {
       "output_type": "stream",
       "stream": "stderr",
       "text": [
        "[270]\ttrain-poisson-nloglik:2.759886\tval-poisson-nloglik:2.937034\n",
        "[271]\ttrain-poisson-nloglik:2.758298\tval-poisson-nloglik:2.935618\n"
       ]
      },
      {
       "output_type": "stream",
       "stream": "stderr",
       "text": [
        "[272]\ttrain-poisson-nloglik:2.756661\tval-poisson-nloglik:2.934159\n",
        "[273]\ttrain-poisson-nloglik:2.755033\tval-poisson-nloglik:2.932807\n"
       ]
      },
      {
       "output_type": "stream",
       "stream": "stderr",
       "text": [
        "[274]\ttrain-poisson-nloglik:2.753395\tval-poisson-nloglik:2.931394\n",
        "[275]\ttrain-poisson-nloglik:2.751915\tval-poisson-nloglik:2.930095\n",
        "[276]\ttrain-poisson-nloglik:2.750346\tval-poisson-nloglik:2.928764\n"
       ]
      },
      {
       "output_type": "stream",
       "stream": "stderr",
       "text": [
        "[277]\ttrain-poisson-nloglik:2.748793\tval-poisson-nloglik:2.927426\n",
        "[278]\ttrain-poisson-nloglik:2.747191\tval-poisson-nloglik:2.926131\n"
       ]
      },
      {
       "output_type": "stream",
       "stream": "stderr",
       "text": [
        "[279]\ttrain-poisson-nloglik:2.745686\tval-poisson-nloglik:2.924793\n",
        "[280]\ttrain-poisson-nloglik:2.744123\tval-poisson-nloglik:2.923487\n"
       ]
      },
      {
       "output_type": "stream",
       "stream": "stderr",
       "text": [
        "[281]\ttrain-poisson-nloglik:2.742598\tval-poisson-nloglik:2.922177\n",
        "[282]\ttrain-poisson-nloglik:2.741125\tval-poisson-nloglik:2.920933\n",
        "[283]\ttrain-poisson-nloglik:2.739683\tval-poisson-nloglik:2.919798\n"
       ]
      },
      {
       "output_type": "stream",
       "stream": "stderr",
       "text": [
        "[284]\ttrain-poisson-nloglik:2.738285\tval-poisson-nloglik:2.918587\n",
        "[285]\ttrain-poisson-nloglik:2.736839\tval-poisson-nloglik:2.917396\n"
       ]
      },
      {
       "output_type": "stream",
       "stream": "stderr",
       "text": [
        "[286]\ttrain-poisson-nloglik:2.735418\tval-poisson-nloglik:2.916145\n",
        "[287]\ttrain-poisson-nloglik:2.734030\tval-poisson-nloglik:2.914982\n"
       ]
      },
      {
       "output_type": "stream",
       "stream": "stderr",
       "text": [
        "[288]\ttrain-poisson-nloglik:2.732722\tval-poisson-nloglik:2.913854\n",
        "[289]\ttrain-poisson-nloglik:2.731372\tval-poisson-nloglik:2.912591\n"
       ]
      },
      {
       "output_type": "stream",
       "stream": "stderr",
       "text": [
        "[290]\ttrain-poisson-nloglik:2.729973\tval-poisson-nloglik:2.911491\n",
        "[291]\ttrain-poisson-nloglik:2.728603\tval-poisson-nloglik:2.910331\n"
       ]
      },
      {
       "output_type": "stream",
       "stream": "stderr",
       "text": [
        "[292]\ttrain-poisson-nloglik:2.727259\tval-poisson-nloglik:2.909280\n",
        "[293]\ttrain-poisson-nloglik:2.725809\tval-poisson-nloglik:2.908195\n"
       ]
      },
      {
       "output_type": "stream",
       "stream": "stderr",
       "text": [
        "[294]\ttrain-poisson-nloglik:2.724415\tval-poisson-nloglik:2.907125\n",
        "[295]\ttrain-poisson-nloglik:2.723219\tval-poisson-nloglik:2.906110\n"
       ]
      },
      {
       "output_type": "stream",
       "stream": "stderr",
       "text": [
        "[296]\ttrain-poisson-nloglik:2.721990\tval-poisson-nloglik:2.905060\n",
        "[297]\ttrain-poisson-nloglik:2.720706\tval-poisson-nloglik:2.903965\n"
       ]
      },
      {
       "output_type": "stream",
       "stream": "stderr",
       "text": [
        "[298]\ttrain-poisson-nloglik:2.719421\tval-poisson-nloglik:2.902899\n",
        "[299]\ttrain-poisson-nloglik:2.718187\tval-poisson-nloglik:2.901903\n"
       ]
      },
      {
       "output_type": "stream",
       "stream": "stderr",
       "text": [
        "[300]\ttrain-poisson-nloglik:2.716902\tval-poisson-nloglik:2.900914\n",
        "[301]\ttrain-poisson-nloglik:2.715740\tval-poisson-nloglik:2.899922\n"
       ]
      },
      {
       "output_type": "stream",
       "stream": "stderr",
       "text": [
        "[302]\ttrain-poisson-nloglik:2.714473\tval-poisson-nloglik:2.898937\n",
        "[303]\ttrain-poisson-nloglik:2.713240\tval-poisson-nloglik:2.897916\n",
        "[304]\ttrain-poisson-nloglik:2.712006\tval-poisson-nloglik:2.896965\n"
       ]
      },
      {
       "output_type": "stream",
       "stream": "stderr",
       "text": [
        "[305]\ttrain-poisson-nloglik:2.710825\tval-poisson-nloglik:2.896034\n",
        "[306]\ttrain-poisson-nloglik:2.709620\tval-poisson-nloglik:2.895041\n"
       ]
      },
      {
       "output_type": "stream",
       "stream": "stderr",
       "text": [
        "[307]\ttrain-poisson-nloglik:2.708439\tval-poisson-nloglik:2.894113\n",
        "[308]\ttrain-poisson-nloglik:2.707271\tval-poisson-nloglik:2.893162\n"
       ]
      },
      {
       "output_type": "stream",
       "stream": "stderr",
       "text": [
        "[309]\ttrain-poisson-nloglik:2.706196\tval-poisson-nloglik:2.892288\n",
        "[310]\ttrain-poisson-nloglik:2.705110\tval-poisson-nloglik:2.891320\n"
       ]
      },
      {
       "output_type": "stream",
       "stream": "stderr",
       "text": [
        "[311]\ttrain-poisson-nloglik:2.703991\tval-poisson-nloglik:2.890452\n",
        "[312]\ttrain-poisson-nloglik:2.702842\tval-poisson-nloglik:2.889545\n"
       ]
      },
      {
       "output_type": "stream",
       "stream": "stderr",
       "text": [
        "[313]\ttrain-poisson-nloglik:2.701735\tval-poisson-nloglik:2.888637\n",
        "[314]\ttrain-poisson-nloglik:2.700587\tval-poisson-nloglik:2.887735\n"
       ]
      },
      {
       "output_type": "stream",
       "stream": "stderr",
       "text": [
        "[315]\ttrain-poisson-nloglik:2.699453\tval-poisson-nloglik:2.886888\n",
        "[316]\ttrain-poisson-nloglik:2.698327\tval-poisson-nloglik:2.885936\n",
        "[317]\ttrain-poisson-nloglik:2.697245\tval-poisson-nloglik:2.885071\n"
       ]
      },
      {
       "output_type": "stream",
       "stream": "stderr",
       "text": [
        "[318]\ttrain-poisson-nloglik:2.696178\tval-poisson-nloglik:2.884275\n",
        "[319]\ttrain-poisson-nloglik:2.695068\tval-poisson-nloglik:2.883418\n"
       ]
      },
      {
       "output_type": "stream",
       "stream": "stderr",
       "text": [
        "[320]\ttrain-poisson-nloglik:2.694074\tval-poisson-nloglik:2.882603\n",
        "[321]\ttrain-poisson-nloglik:2.692957\tval-poisson-nloglik:2.881793\n"
       ]
      },
      {
       "output_type": "stream",
       "stream": "stderr",
       "text": [
        "[322]\ttrain-poisson-nloglik:2.691972\tval-poisson-nloglik:2.880962\n",
        "[323]\ttrain-poisson-nloglik:2.690971\tval-poisson-nloglik:2.880143\n"
       ]
      },
      {
       "output_type": "stream",
       "stream": "stderr",
       "text": [
        "[324]\ttrain-poisson-nloglik:2.689929\tval-poisson-nloglik:2.879278\n",
        "[325]\ttrain-poisson-nloglik:2.688908\tval-poisson-nloglik:2.878436\n"
       ]
      },
      {
       "output_type": "stream",
       "stream": "stderr",
       "text": [
        "[326]\ttrain-poisson-nloglik:2.687894\tval-poisson-nloglik:2.877630\n",
        "[327]\ttrain-poisson-nloglik:2.686890\tval-poisson-nloglik:2.876795\n"
       ]
      },
      {
       "output_type": "stream",
       "stream": "stderr",
       "text": [
        "[328]\ttrain-poisson-nloglik:2.685922\tval-poisson-nloglik:2.876015\n",
        "[329]\ttrain-poisson-nloglik:2.684947\tval-poisson-nloglik:2.875309\n"
       ]
      },
      {
       "output_type": "stream",
       "stream": "stderr",
       "text": [
        "[330]\ttrain-poisson-nloglik:2.684004\tval-poisson-nloglik:2.874521\n",
        "[331]\ttrain-poisson-nloglik:2.683042\tval-poisson-nloglik:2.873723\n"
       ]
      },
      {
       "output_type": "stream",
       "stream": "stderr",
       "text": [
        "[332]\ttrain-poisson-nloglik:2.682120\tval-poisson-nloglik:2.873027\n",
        "[333]\ttrain-poisson-nloglik:2.681261\tval-poisson-nloglik:2.872378\n"
       ]
      },
      {
       "output_type": "stream",
       "stream": "stderr",
       "text": [
        "[334]\ttrain-poisson-nloglik:2.680409\tval-poisson-nloglik:2.871716\n",
        "[335]\ttrain-poisson-nloglik:2.679543\tval-poisson-nloglik:2.871049\n"
       ]
      },
      {
       "output_type": "stream",
       "stream": "stderr",
       "text": [
        "[336]\ttrain-poisson-nloglik:2.678552\tval-poisson-nloglik:2.870363\n",
        "[337]\ttrain-poisson-nloglik:2.677598\tval-poisson-nloglik:2.869625\n"
       ]
      },
      {
       "output_type": "stream",
       "stream": "stderr",
       "text": [
        "[338]\ttrain-poisson-nloglik:2.676706\tval-poisson-nloglik:2.868976\n",
        "[339]\ttrain-poisson-nloglik:2.675735\tval-poisson-nloglik:2.868293\n"
       ]
      },
      {
       "output_type": "stream",
       "stream": "stderr",
       "text": [
        "[340]\ttrain-poisson-nloglik:2.674858\tval-poisson-nloglik:2.867692\n",
        "[341]\ttrain-poisson-nloglik:2.674072\tval-poisson-nloglik:2.867047\n",
        "[342]\ttrain-poisson-nloglik:2.673194\tval-poisson-nloglik:2.866369\n"
       ]
      },
      {
       "output_type": "stream",
       "stream": "stderr",
       "text": [
        "[343]\ttrain-poisson-nloglik:2.672373\tval-poisson-nloglik:2.865738\n",
        "[344]\ttrain-poisson-nloglik:2.671572\tval-poisson-nloglik:2.865138\n"
       ]
      },
      {
       "output_type": "stream",
       "stream": "stderr",
       "text": [
        "[345]\ttrain-poisson-nloglik:2.670757\tval-poisson-nloglik:2.864507\n",
        "[346]\ttrain-poisson-nloglik:2.669873\tval-poisson-nloglik:2.863849\n"
       ]
      },
      {
       "output_type": "stream",
       "stream": "stderr",
       "text": [
        "[347]\ttrain-poisson-nloglik:2.669045\tval-poisson-nloglik:2.863194\n",
        "[348]\ttrain-poisson-nloglik:2.668166\tval-poisson-nloglik:2.862533\n"
       ]
      },
      {
       "output_type": "stream",
       "stream": "stderr",
       "text": [
        "[349]\ttrain-poisson-nloglik:2.667346\tval-poisson-nloglik:2.861975\n",
        "[350]\ttrain-poisson-nloglik:2.666502\tval-poisson-nloglik:2.861348\n",
        "[351]\ttrain-poisson-nloglik:2.665644\tval-poisson-nloglik:2.860803\n"
       ]
      },
      {
       "output_type": "stream",
       "stream": "stderr",
       "text": [
        "[352]\ttrain-poisson-nloglik:2.664856\tval-poisson-nloglik:2.860195\n",
        "[353]\ttrain-poisson-nloglik:2.664027\tval-poisson-nloglik:2.859610\n"
       ]
      },
      {
       "output_type": "stream",
       "stream": "stderr",
       "text": [
        "[354]\ttrain-poisson-nloglik:2.663254\tval-poisson-nloglik:2.859040\n",
        "[355]\ttrain-poisson-nloglik:2.662500\tval-poisson-nloglik:2.858488\n"
       ]
      },
      {
       "output_type": "stream",
       "stream": "stderr",
       "text": [
        "[356]\ttrain-poisson-nloglik:2.661645\tval-poisson-nloglik:2.857931\n",
        "[357]\ttrain-poisson-nloglik:2.660890\tval-poisson-nloglik:2.857394\n"
       ]
      },
      {
       "output_type": "stream",
       "stream": "stderr",
       "text": [
        "[358]\ttrain-poisson-nloglik:2.660128\tval-poisson-nloglik:2.856825\n",
        "[359]\ttrain-poisson-nloglik:2.659461\tval-poisson-nloglik:2.856312\n"
       ]
      },
      {
       "output_type": "stream",
       "stream": "stderr",
       "text": [
        "[360]\ttrain-poisson-nloglik:2.658686\tval-poisson-nloglik:2.855749\n",
        "[361]\ttrain-poisson-nloglik:2.657902\tval-poisson-nloglik:2.855223\n"
       ]
      },
      {
       "output_type": "stream",
       "stream": "stderr",
       "text": [
        "[362]\ttrain-poisson-nloglik:2.657177\tval-poisson-nloglik:2.854629\n",
        "[363]\ttrain-poisson-nloglik:2.656446\tval-poisson-nloglik:2.854118\n"
       ]
      },
      {
       "output_type": "stream",
       "stream": "stderr",
       "text": [
        "[364]\ttrain-poisson-nloglik:2.655721\tval-poisson-nloglik:2.853583\n",
        "[365]\ttrain-poisson-nloglik:2.654938\tval-poisson-nloglik:2.853063\n",
        "[366]\ttrain-poisson-nloglik:2.654272\tval-poisson-nloglik:2.852614\n"
       ]
      },
      {
       "output_type": "stream",
       "stream": "stderr",
       "text": [
        "[367]\ttrain-poisson-nloglik:2.653533\tval-poisson-nloglik:2.852163\n",
        "[368]\ttrain-poisson-nloglik:2.652798\tval-poisson-nloglik:2.851570\n"
       ]
      },
      {
       "output_type": "stream",
       "stream": "stderr",
       "text": [
        "[369]\ttrain-poisson-nloglik:2.652095\tval-poisson-nloglik:2.851106\n",
        "[370]\ttrain-poisson-nloglik:2.651400\tval-poisson-nloglik:2.850677\n",
        "[371]\ttrain-poisson-nloglik:2.650684\tval-poisson-nloglik:2.850181\n"
       ]
      },
      {
       "output_type": "stream",
       "stream": "stderr",
       "text": [
        "[372]\ttrain-poisson-nloglik:2.650010\tval-poisson-nloglik:2.849696\n",
        "[373]\ttrain-poisson-nloglik:2.649371\tval-poisson-nloglik:2.849221\n",
        "[374]\ttrain-poisson-nloglik:2.648713\tval-poisson-nloglik:2.848773\n"
       ]
      },
      {
       "output_type": "stream",
       "stream": "stderr",
       "text": [
        "[375]\ttrain-poisson-nloglik:2.647990\tval-poisson-nloglik:2.848229\n",
        "[376]\ttrain-poisson-nloglik:2.647339\tval-poisson-nloglik:2.847779\n",
        "[377]\ttrain-poisson-nloglik:2.646648\tval-poisson-nloglik:2.847318\n"
       ]
      },
      {
       "output_type": "stream",
       "stream": "stderr",
       "text": [
        "[378]\ttrain-poisson-nloglik:2.646017\tval-poisson-nloglik:2.846830\n",
        "[379]\ttrain-poisson-nloglik:2.645334\tval-poisson-nloglik:2.846362\n"
       ]
      },
      {
       "output_type": "stream",
       "stream": "stderr",
       "text": [
        "[380]\ttrain-poisson-nloglik:2.644705\tval-poisson-nloglik:2.845958\n",
        "[381]\ttrain-poisson-nloglik:2.644053\tval-poisson-nloglik:2.845527\n",
        "[382]\ttrain-poisson-nloglik:2.643482\tval-poisson-nloglik:2.845193\n"
       ]
      },
      {
       "output_type": "stream",
       "stream": "stderr",
       "text": [
        "[383]\ttrain-poisson-nloglik:2.642737\tval-poisson-nloglik:2.844738\n",
        "[384]\ttrain-poisson-nloglik:2.642105\tval-poisson-nloglik:2.844375\n",
        "[385]\ttrain-poisson-nloglik:2.641461\tval-poisson-nloglik:2.844013\n"
       ]
      },
      {
       "output_type": "stream",
       "stream": "stderr",
       "text": [
        "[386]\ttrain-poisson-nloglik:2.640848\tval-poisson-nloglik:2.843601\n",
        "[387]\ttrain-poisson-nloglik:2.640276\tval-poisson-nloglik:2.843184\n",
        "[388]\ttrain-poisson-nloglik:2.639672\tval-poisson-nloglik:2.842733\n"
       ]
      },
      {
       "output_type": "stream",
       "stream": "stderr",
       "text": [
        "[389]\ttrain-poisson-nloglik:2.639046\tval-poisson-nloglik:2.842330\n",
        "[390]\ttrain-poisson-nloglik:2.638433\tval-poisson-nloglik:2.841886\n"
       ]
      },
      {
       "output_type": "stream",
       "stream": "stderr",
       "text": [
        "[391]\ttrain-poisson-nloglik:2.637805\tval-poisson-nloglik:2.841438\n",
        "[392]\ttrain-poisson-nloglik:2.637207\tval-poisson-nloglik:2.841022\n"
       ]
      },
      {
       "output_type": "stream",
       "stream": "stderr",
       "text": [
        "[393]\ttrain-poisson-nloglik:2.636569\tval-poisson-nloglik:2.840627\n",
        "[394]\ttrain-poisson-nloglik:2.635954\tval-poisson-nloglik:2.840227\n"
       ]
      },
      {
       "output_type": "stream",
       "stream": "stderr",
       "text": [
        "[395]\ttrain-poisson-nloglik:2.635366\tval-poisson-nloglik:2.839821\n",
        "[396]\ttrain-poisson-nloglik:2.634771\tval-poisson-nloglik:2.839421\n",
        "[397]\ttrain-poisson-nloglik:2.634192\tval-poisson-nloglik:2.839035\n"
       ]
      },
      {
       "output_type": "stream",
       "stream": "stderr",
       "text": [
        "[398]\ttrain-poisson-nloglik:2.633670\tval-poisson-nloglik:2.838663\n",
        "[399]\ttrain-poisson-nloglik:2.633069\tval-poisson-nloglik:2.838230\n"
       ]
      },
      {
       "output_type": "stream",
       "stream": "stderr",
       "text": [
        "[400]\ttrain-poisson-nloglik:2.632483\tval-poisson-nloglik:2.837857\n",
        "[401]\ttrain-poisson-nloglik:2.632008\tval-poisson-nloglik:2.837509\n",
        "[402]\ttrain-poisson-nloglik:2.631510\tval-poisson-nloglik:2.837155\n"
       ]
      },
      {
       "output_type": "stream",
       "stream": "stderr",
       "text": [
        "[403]\ttrain-poisson-nloglik:2.630955\tval-poisson-nloglik:2.836775\n",
        "[404]\ttrain-poisson-nloglik:2.630429\tval-poisson-nloglik:2.836407\n"
       ]
      },
      {
       "output_type": "stream",
       "stream": "stderr",
       "text": [
        "[405]\ttrain-poisson-nloglik:2.629889\tval-poisson-nloglik:2.836045\n",
        "[406]\ttrain-poisson-nloglik:2.629392\tval-poisson-nloglik:2.835732\n",
        "[407]\ttrain-poisson-nloglik:2.628823\tval-poisson-nloglik:2.835392\n"
       ]
      },
      {
       "output_type": "stream",
       "stream": "stderr",
       "text": [
        "[408]\ttrain-poisson-nloglik:2.628301\tval-poisson-nloglik:2.835093\n",
        "[409]\ttrain-poisson-nloglik:2.627765\tval-poisson-nloglik:2.834792\n",
        "[410]\ttrain-poisson-nloglik:2.627192\tval-poisson-nloglik:2.834455\n"
       ]
      },
      {
       "output_type": "stream",
       "stream": "stderr",
       "text": [
        "[411]\ttrain-poisson-nloglik:2.626603\tval-poisson-nloglik:2.834092\n",
        "[412]\ttrain-poisson-nloglik:2.626096\tval-poisson-nloglik:2.833732\n",
        "[413]\ttrain-poisson-nloglik:2.625613\tval-poisson-nloglik:2.833462\n"
       ]
      },
      {
       "output_type": "stream",
       "stream": "stderr",
       "text": [
        "[414]\ttrain-poisson-nloglik:2.625129\tval-poisson-nloglik:2.833118\n",
        "[415]\ttrain-poisson-nloglik:2.624522\tval-poisson-nloglik:2.832760\n"
       ]
      },
      {
       "output_type": "stream",
       "stream": "stderr",
       "text": [
        "[416]\ttrain-poisson-nloglik:2.623931\tval-poisson-nloglik:2.832426\n",
        "[417]\ttrain-poisson-nloglik:2.623404\tval-poisson-nloglik:2.832167\n"
       ]
      },
      {
       "output_type": "stream",
       "stream": "stderr",
       "text": [
        "[418]\ttrain-poisson-nloglik:2.622886\tval-poisson-nloglik:2.831840\n",
        "[419]\ttrain-poisson-nloglik:2.622378\tval-poisson-nloglik:2.831546\n"
       ]
      },
      {
       "output_type": "stream",
       "stream": "stderr",
       "text": [
        "[420]\ttrain-poisson-nloglik:2.621886\tval-poisson-nloglik:2.831258\n",
        "[421]\ttrain-poisson-nloglik:2.621357\tval-poisson-nloglik:2.830997\n"
       ]
      },
      {
       "output_type": "stream",
       "stream": "stderr",
       "text": [
        "[422]\ttrain-poisson-nloglik:2.620840\tval-poisson-nloglik:2.830607\n",
        "[423]\ttrain-poisson-nloglik:2.620330\tval-poisson-nloglik:2.830305\n"
       ]
      },
      {
       "output_type": "stream",
       "stream": "stderr",
       "text": [
        "[424]\ttrain-poisson-nloglik:2.619838\tval-poisson-nloglik:2.830016\n",
        "[425]\ttrain-poisson-nloglik:2.619333\tval-poisson-nloglik:2.829778\n"
       ]
      },
      {
       "output_type": "stream",
       "stream": "stderr",
       "text": [
        "[426]\ttrain-poisson-nloglik:2.618920\tval-poisson-nloglik:2.829529\n",
        "[427]\ttrain-poisson-nloglik:2.618457\tval-poisson-nloglik:2.829233\n"
       ]
      },
      {
       "output_type": "stream",
       "stream": "stderr",
       "text": [
        "[428]\ttrain-poisson-nloglik:2.618039\tval-poisson-nloglik:2.828900\n",
        "[429]\ttrain-poisson-nloglik:2.617519\tval-poisson-nloglik:2.828616\n"
       ]
      },
      {
       "output_type": "stream",
       "stream": "stderr",
       "text": [
        "[430]\ttrain-poisson-nloglik:2.617090\tval-poisson-nloglik:2.828367\n",
        "[431]\ttrain-poisson-nloglik:2.616627\tval-poisson-nloglik:2.828120\n"
       ]
      },
      {
       "output_type": "stream",
       "stream": "stderr",
       "text": [
        "[432]\ttrain-poisson-nloglik:2.616190\tval-poisson-nloglik:2.827872\n",
        "[433]\ttrain-poisson-nloglik:2.615752\tval-poisson-nloglik:2.827587\n"
       ]
      },
      {
       "output_type": "stream",
       "stream": "stderr",
       "text": [
        "[434]\ttrain-poisson-nloglik:2.615343\tval-poisson-nloglik:2.827337\n",
        "[435]\ttrain-poisson-nloglik:2.614918\tval-poisson-nloglik:2.827028\n"
       ]
      },
      {
       "output_type": "stream",
       "stream": "stderr",
       "text": [
        "[436]\ttrain-poisson-nloglik:2.614549\tval-poisson-nloglik:2.826786\n",
        "[437]\ttrain-poisson-nloglik:2.614135\tval-poisson-nloglik:2.826506\n"
       ]
      },
      {
       "output_type": "stream",
       "stream": "stderr",
       "text": [
        "[438]\ttrain-poisson-nloglik:2.613669\tval-poisson-nloglik:2.826213\n",
        "[439]\ttrain-poisson-nloglik:2.613231\tval-poisson-nloglik:2.825952\n"
       ]
      },
      {
       "output_type": "stream",
       "stream": "stderr",
       "text": [
        "[440]\ttrain-poisson-nloglik:2.612848\tval-poisson-nloglik:2.825760\n",
        "[441]\ttrain-poisson-nloglik:2.612342\tval-poisson-nloglik:2.825549\n"
       ]
      },
      {
       "output_type": "stream",
       "stream": "stderr",
       "text": [
        "[442]\ttrain-poisson-nloglik:2.611857\tval-poisson-nloglik:2.825247\n",
        "[443]\ttrain-poisson-nloglik:2.611451\tval-poisson-nloglik:2.824980\n"
       ]
      },
      {
       "output_type": "stream",
       "stream": "stderr",
       "text": [
        "[444]\ttrain-poisson-nloglik:2.611066\tval-poisson-nloglik:2.824711\n",
        "[445]\ttrain-poisson-nloglik:2.610684\tval-poisson-nloglik:2.824499\n"
       ]
      },
      {
       "output_type": "stream",
       "stream": "stderr",
       "text": [
        "[446]\ttrain-poisson-nloglik:2.610227\tval-poisson-nloglik:2.824369\n",
        "[447]\ttrain-poisson-nloglik:2.609787\tval-poisson-nloglik:2.824122\n"
       ]
      },
      {
       "output_type": "stream",
       "stream": "stderr",
       "text": [
        "[448]\ttrain-poisson-nloglik:2.609388\tval-poisson-nloglik:2.823887\n",
        "[449]\ttrain-poisson-nloglik:2.608942\tval-poisson-nloglik:2.823660\n"
       ]
      },
      {
       "output_type": "stream",
       "stream": "stderr",
       "text": [
        "[450]\ttrain-poisson-nloglik:2.608538\tval-poisson-nloglik:2.823459\n",
        "[451]\ttrain-poisson-nloglik:2.608206\tval-poisson-nloglik:2.823244\n"
       ]
      },
      {
       "output_type": "stream",
       "stream": "stderr",
       "text": [
        "[452]\ttrain-poisson-nloglik:2.607800\tval-poisson-nloglik:2.822999\n",
        "[453]\ttrain-poisson-nloglik:2.607355\tval-poisson-nloglik:2.822836\n"
       ]
      },
      {
       "output_type": "stream",
       "stream": "stderr",
       "text": [
        "[454]\ttrain-poisson-nloglik:2.606980\tval-poisson-nloglik:2.822624\n",
        "[455]\ttrain-poisson-nloglik:2.606561\tval-poisson-nloglik:2.822406\n"
       ]
      },
      {
       "output_type": "stream",
       "stream": "stderr",
       "text": [
        "[456]\ttrain-poisson-nloglik:2.606158\tval-poisson-nloglik:2.822202\n",
        "[457]\ttrain-poisson-nloglik:2.605747\tval-poisson-nloglik:2.821971\n"
       ]
      },
      {
       "output_type": "stream",
       "stream": "stderr",
       "text": [
        "[458]\ttrain-poisson-nloglik:2.605366\tval-poisson-nloglik:2.821785\n",
        "[459]\ttrain-poisson-nloglik:2.604908\tval-poisson-nloglik:2.821554\n"
       ]
      },
      {
       "output_type": "stream",
       "stream": "stderr",
       "text": [
        "[460]\ttrain-poisson-nloglik:2.604561\tval-poisson-nloglik:2.821360\n",
        "[461]\ttrain-poisson-nloglik:2.604201\tval-poisson-nloglik:2.821174\n"
       ]
      },
      {
       "output_type": "stream",
       "stream": "stderr",
       "text": [
        "[462]\ttrain-poisson-nloglik:2.603827\tval-poisson-nloglik:2.820969\n",
        "[463]\ttrain-poisson-nloglik:2.603397\tval-poisson-nloglik:2.820762\n",
        "[464]\ttrain-poisson-nloglik:2.603030\tval-poisson-nloglik:2.820556\n"
       ]
      },
      {
       "output_type": "stream",
       "stream": "stderr",
       "text": [
        "[465]\ttrain-poisson-nloglik:2.602643\tval-poisson-nloglik:2.820394\n",
        "[466]\ttrain-poisson-nloglik:2.602285\tval-poisson-nloglik:2.820218\n",
        "[467]\ttrain-poisson-nloglik:2.601984\tval-poisson-nloglik:2.820014\n"
       ]
      },
      {
       "output_type": "stream",
       "stream": "stderr",
       "text": [
        "[468]\ttrain-poisson-nloglik:2.601641\tval-poisson-nloglik:2.819829\n",
        "[469]\ttrain-poisson-nloglik:2.601270\tval-poisson-nloglik:2.819651\n"
       ]
      },
      {
       "output_type": "stream",
       "stream": "stderr",
       "text": [
        "[470]\ttrain-poisson-nloglik:2.600845\tval-poisson-nloglik:2.819444\n",
        "[471]\ttrain-poisson-nloglik:2.600547\tval-poisson-nloglik:2.819257\n",
        "[472]\ttrain-poisson-nloglik:2.600207\tval-poisson-nloglik:2.818975\n"
       ]
      },
      {
       "output_type": "stream",
       "stream": "stderr",
       "text": [
        "[473]\ttrain-poisson-nloglik:2.599911\tval-poisson-nloglik:2.818831\n",
        "[474]\ttrain-poisson-nloglik:2.599543\tval-poisson-nloglik:2.818648\n"
       ]
      },
      {
       "output_type": "stream",
       "stream": "stderr",
       "text": [
        "[475]\ttrain-poisson-nloglik:2.599151\tval-poisson-nloglik:2.818426\n",
        "[476]\ttrain-poisson-nloglik:2.598790\tval-poisson-nloglik:2.818280\n"
       ]
      },
      {
       "output_type": "stream",
       "stream": "stderr",
       "text": [
        "[477]\ttrain-poisson-nloglik:2.598488\tval-poisson-nloglik:2.818103\n",
        "[478]\ttrain-poisson-nloglik:2.598140\tval-poisson-nloglik:2.817954\n"
       ]
      },
      {
       "output_type": "stream",
       "stream": "stderr",
       "text": [
        "[479]\ttrain-poisson-nloglik:2.597790\tval-poisson-nloglik:2.817741\n",
        "[480]\ttrain-poisson-nloglik:2.597418\tval-poisson-nloglik:2.817559\n"
       ]
      },
      {
       "output_type": "stream",
       "stream": "stderr",
       "text": [
        "[481]\ttrain-poisson-nloglik:2.597069\tval-poisson-nloglik:2.817399\n",
        "[482]\ttrain-poisson-nloglik:2.596698\tval-poisson-nloglik:2.817216\n"
       ]
      },
      {
       "output_type": "stream",
       "stream": "stderr",
       "text": [
        "[483]\ttrain-poisson-nloglik:2.596275\tval-poisson-nloglik:2.817082\n",
        "[484]\ttrain-poisson-nloglik:2.595934\tval-poisson-nloglik:2.816950\n"
       ]
      },
      {
       "output_type": "stream",
       "stream": "stderr",
       "text": [
        "[485]\ttrain-poisson-nloglik:2.595642\tval-poisson-nloglik:2.816764\n",
        "[486]\ttrain-poisson-nloglik:2.595375\tval-poisson-nloglik:2.816593\n"
       ]
      },
      {
       "output_type": "stream",
       "stream": "stderr",
       "text": [
        "[487]\ttrain-poisson-nloglik:2.594999\tval-poisson-nloglik:2.816412\n",
        "[488]\ttrain-poisson-nloglik:2.594657\tval-poisson-nloglik:2.816262\n"
       ]
      },
      {
       "output_type": "stream",
       "stream": "stderr",
       "text": [
        "[489]\ttrain-poisson-nloglik:2.594367\tval-poisson-nloglik:2.816102\n",
        "[490]\ttrain-poisson-nloglik:2.594093\tval-poisson-nloglik:2.815920\n"
       ]
      },
      {
       "output_type": "stream",
       "stream": "stderr",
       "text": [
        "[491]\ttrain-poisson-nloglik:2.593755\tval-poisson-nloglik:2.815789\n",
        "[492]\ttrain-poisson-nloglik:2.593438\tval-poisson-nloglik:2.815630\n"
       ]
      },
      {
       "output_type": "stream",
       "stream": "stderr",
       "text": [
        "[493]\ttrain-poisson-nloglik:2.593141\tval-poisson-nloglik:2.815509\n",
        "[494]\ttrain-poisson-nloglik:2.592751\tval-poisson-nloglik:2.815359\n"
       ]
      },
      {
       "output_type": "stream",
       "stream": "stderr",
       "text": [
        "[495]\ttrain-poisson-nloglik:2.592454\tval-poisson-nloglik:2.815225\n",
        "[496]\ttrain-poisson-nloglik:2.592139\tval-poisson-nloglik:2.815075\n",
        "[497]\ttrain-poisson-nloglik:2.591839\tval-poisson-nloglik:2.814929\n"
       ]
      },
      {
       "output_type": "stream",
       "stream": "stderr",
       "text": [
        "[498]\ttrain-poisson-nloglik:2.591460\tval-poisson-nloglik:2.814774\n",
        "[499]\ttrain-poisson-nloglik:2.591149\tval-poisson-nloglik:2.814626\n"
       ]
      },
      {
       "output_type": "stream",
       "stream": "stderr",
       "text": [
        "[500]\ttrain-poisson-nloglik:2.590870\tval-poisson-nloglik:2.814476\n",
        "[501]\ttrain-poisson-nloglik:2.590541\tval-poisson-nloglik:2.814337\n"
       ]
      },
      {
       "output_type": "stream",
       "stream": "stderr",
       "text": [
        "[502]\ttrain-poisson-nloglik:2.590228\tval-poisson-nloglik:2.814203\n",
        "[503]\ttrain-poisson-nloglik:2.589926\tval-poisson-nloglik:2.814052\n"
       ]
      },
      {
       "output_type": "stream",
       "stream": "stderr",
       "text": [
        "[504]\ttrain-poisson-nloglik:2.589556\tval-poisson-nloglik:2.813939\n",
        "[505]\ttrain-poisson-nloglik:2.589272\tval-poisson-nloglik:2.813816\n",
        "[506]\ttrain-poisson-nloglik:2.589013\tval-poisson-nloglik:2.813679\n"
       ]
      },
      {
       "output_type": "stream",
       "stream": "stderr",
       "text": [
        "[507]\ttrain-poisson-nloglik:2.588683\tval-poisson-nloglik:2.813602\n",
        "[508]\ttrain-poisson-nloglik:2.588365\tval-poisson-nloglik:2.813492\n"
       ]
      },
      {
       "output_type": "stream",
       "stream": "stderr",
       "text": [
        "[509]\ttrain-poisson-nloglik:2.588102\tval-poisson-nloglik:2.813363\n",
        "[510]\ttrain-poisson-nloglik:2.587843\tval-poisson-nloglik:2.813241\n",
        "[511]\ttrain-poisson-nloglik:2.587533\tval-poisson-nloglik:2.813072\n"
       ]
      },
      {
       "output_type": "stream",
       "stream": "stderr",
       "text": [
        "[512]\ttrain-poisson-nloglik:2.587268\tval-poisson-nloglik:2.812949\n",
        "[513]\ttrain-poisson-nloglik:2.586964\tval-poisson-nloglik:2.812822\n"
       ]
      },
      {
       "output_type": "stream",
       "stream": "stderr",
       "text": [
        "[514]\ttrain-poisson-nloglik:2.586707\tval-poisson-nloglik:2.812654\n",
        "[515]\ttrain-poisson-nloglik:2.586404\tval-poisson-nloglik:2.812572\n",
        "[516]\ttrain-poisson-nloglik:2.586098\tval-poisson-nloglik:2.812445\n"
       ]
      },
      {
       "output_type": "stream",
       "stream": "stderr",
       "text": [
        "[517]\ttrain-poisson-nloglik:2.585884\tval-poisson-nloglik:2.812310\n",
        "[518]\ttrain-poisson-nloglik:2.585525\tval-poisson-nloglik:2.812200\n"
       ]
      },
      {
       "output_type": "stream",
       "stream": "stderr",
       "text": [
        "[519]\ttrain-poisson-nloglik:2.585244\tval-poisson-nloglik:2.812048\n",
        "[520]\ttrain-poisson-nloglik:2.584955\tval-poisson-nloglik:2.811956\n"
       ]
      },
      {
       "output_type": "stream",
       "stream": "stderr",
       "text": [
        "[521]\ttrain-poisson-nloglik:2.584625\tval-poisson-nloglik:2.811812\n",
        "[522]\ttrain-poisson-nloglik:2.584360\tval-poisson-nloglik:2.811724\n"
       ]
      },
      {
       "output_type": "stream",
       "stream": "stderr",
       "text": [
        "[523]\ttrain-poisson-nloglik:2.584081\tval-poisson-nloglik:2.811638\n",
        "[524]\ttrain-poisson-nloglik:2.583772\tval-poisson-nloglik:2.811481\n"
       ]
      },
      {
       "output_type": "stream",
       "stream": "stderr",
       "text": [
        "[525]\ttrain-poisson-nloglik:2.583472\tval-poisson-nloglik:2.811364\n",
        "[526]\ttrain-poisson-nloglik:2.583196\tval-poisson-nloglik:2.811203\n"
       ]
      },
      {
       "output_type": "stream",
       "stream": "stderr",
       "text": [
        "[527]\ttrain-poisson-nloglik:2.582957\tval-poisson-nloglik:2.811096\n",
        "[528]\ttrain-poisson-nloglik:2.582619\tval-poisson-nloglik:2.810970\n"
       ]
      },
      {
       "output_type": "stream",
       "stream": "stderr",
       "text": [
        "[529]\ttrain-poisson-nloglik:2.582367\tval-poisson-nloglik:2.810854\n",
        "[530]\ttrain-poisson-nloglik:2.582098\tval-poisson-nloglik:2.810744\n"
       ]
      },
      {
       "output_type": "stream",
       "stream": "stderr",
       "text": [
        "[531]\ttrain-poisson-nloglik:2.581805\tval-poisson-nloglik:2.810672\n",
        "[532]\ttrain-poisson-nloglik:2.581459\tval-poisson-nloglik:2.810441\n"
       ]
      },
      {
       "output_type": "stream",
       "stream": "stderr",
       "text": [
        "[533]\ttrain-poisson-nloglik:2.581155\tval-poisson-nloglik:2.810304\n",
        "[534]\ttrain-poisson-nloglik:2.580887\tval-poisson-nloglik:2.810247\n"
       ]
      },
      {
       "output_type": "stream",
       "stream": "stderr",
       "text": [
        "[535]\ttrain-poisson-nloglik:2.580629\tval-poisson-nloglik:2.810188\n",
        "[536]\ttrain-poisson-nloglik:2.580343\tval-poisson-nloglik:2.810061\n"
       ]
      },
      {
       "output_type": "stream",
       "stream": "stderr",
       "text": [
        "[537]\ttrain-poisson-nloglik:2.580082\tval-poisson-nloglik:2.809988\n",
        "[538]\ttrain-poisson-nloglik:2.579822\tval-poisson-nloglik:2.809872\n",
        "[539]\ttrain-poisson-nloglik:2.579560\tval-poisson-nloglik:2.809778\n"
       ]
      },
      {
       "output_type": "stream",
       "stream": "stderr",
       "text": [
        "[540]\ttrain-poisson-nloglik:2.579372\tval-poisson-nloglik:2.809687\n",
        "[541]\ttrain-poisson-nloglik:2.579165\tval-poisson-nloglik:2.809611\n"
       ]
      },
      {
       "output_type": "stream",
       "stream": "stderr",
       "text": [
        "[542]\ttrain-poisson-nloglik:2.578879\tval-poisson-nloglik:2.809519\n",
        "[543]\ttrain-poisson-nloglik:2.578599\tval-poisson-nloglik:2.809474\n",
        "[544]\ttrain-poisson-nloglik:2.578428\tval-poisson-nloglik:2.809406\n"
       ]
      },
      {
       "output_type": "stream",
       "stream": "stderr",
       "text": [
        "[545]\ttrain-poisson-nloglik:2.578238\tval-poisson-nloglik:2.809309\n",
        "[546]\ttrain-poisson-nloglik:2.577922\tval-poisson-nloglik:2.809250\n"
       ]
      },
      {
       "output_type": "stream",
       "stream": "stderr",
       "text": [
        "[547]\ttrain-poisson-nloglik:2.577656\tval-poisson-nloglik:2.809082\n",
        "[548]\ttrain-poisson-nloglik:2.577388\tval-poisson-nloglik:2.809011\n",
        "[549]\ttrain-poisson-nloglik:2.577060\tval-poisson-nloglik:2.808929\n"
       ]
      },
      {
       "output_type": "stream",
       "stream": "stderr",
       "text": [
        "[550]\ttrain-poisson-nloglik:2.576806\tval-poisson-nloglik:2.808857\n",
        "[551]\ttrain-poisson-nloglik:2.576479\tval-poisson-nloglik:2.808739\n"
       ]
      },
      {
       "output_type": "stream",
       "stream": "stderr",
       "text": [
        "[552]\ttrain-poisson-nloglik:2.576201\tval-poisson-nloglik:2.808619\n",
        "[553]\ttrain-poisson-nloglik:2.575903\tval-poisson-nloglik:2.808570\n"
       ]
      },
      {
       "output_type": "stream",
       "stream": "stderr",
       "text": [
        "[554]\ttrain-poisson-nloglik:2.575601\tval-poisson-nloglik:2.808419\n",
        "[555]\ttrain-poisson-nloglik:2.575363\tval-poisson-nloglik:2.808352\n",
        "[556]\ttrain-poisson-nloglik:2.575064\tval-poisson-nloglik:2.808203\n"
       ]
      },
      {
       "output_type": "stream",
       "stream": "stderr",
       "text": [
        "[557]\ttrain-poisson-nloglik:2.574774\tval-poisson-nloglik:2.808131\n",
        "[558]\ttrain-poisson-nloglik:2.574523\tval-poisson-nloglik:2.808009\n"
       ]
      },
      {
       "output_type": "stream",
       "stream": "stderr",
       "text": [
        "[559]\ttrain-poisson-nloglik:2.574331\tval-poisson-nloglik:2.807944\n",
        "[560]\ttrain-poisson-nloglik:2.574156\tval-poisson-nloglik:2.807881\n",
        "[561]\ttrain-poisson-nloglik:2.573945\tval-poisson-nloglik:2.807777\n"
       ]
      },
      {
       "output_type": "stream",
       "stream": "stderr",
       "text": [
        "[562]\ttrain-poisson-nloglik:2.573653\tval-poisson-nloglik:2.807656\n",
        "[563]\ttrain-poisson-nloglik:2.573410\tval-poisson-nloglik:2.807598\n"
       ]
      },
      {
       "output_type": "stream",
       "stream": "stderr",
       "text": [
        "[564]\ttrain-poisson-nloglik:2.573161\tval-poisson-nloglik:2.807514\n",
        "[565]\ttrain-poisson-nloglik:2.572914\tval-poisson-nloglik:2.807483\n"
       ]
      },
      {
       "output_type": "stream",
       "stream": "stderr",
       "text": [
        "[566]\ttrain-poisson-nloglik:2.572610\tval-poisson-nloglik:2.807356\n",
        "[567]\ttrain-poisson-nloglik:2.572439\tval-poisson-nloglik:2.807259\n",
        "[568]\ttrain-poisson-nloglik:2.572152\tval-poisson-nloglik:2.807130\n"
       ]
      },
      {
       "output_type": "stream",
       "stream": "stderr",
       "text": [
        "[569]\ttrain-poisson-nloglik:2.571831\tval-poisson-nloglik:2.807061\n",
        "[570]\ttrain-poisson-nloglik:2.571569\tval-poisson-nloglik:2.807002\n"
       ]
      },
      {
       "output_type": "stream",
       "stream": "stderr",
       "text": [
        "[571]\ttrain-poisson-nloglik:2.571293\tval-poisson-nloglik:2.806840\n",
        "[572]\ttrain-poisson-nloglik:2.571040\tval-poisson-nloglik:2.806806\n",
        "[573]\ttrain-poisson-nloglik:2.570788\tval-poisson-nloglik:2.806747\n"
       ]
      },
      {
       "output_type": "stream",
       "stream": "stderr",
       "text": [
        "[574]\ttrain-poisson-nloglik:2.570580\tval-poisson-nloglik:2.806665\n",
        "[575]\ttrain-poisson-nloglik:2.570319\tval-poisson-nloglik:2.806619\n"
       ]
      },
      {
       "output_type": "stream",
       "stream": "stderr",
       "text": [
        "[576]\ttrain-poisson-nloglik:2.570094\tval-poisson-nloglik:2.806573\n",
        "[577]\ttrain-poisson-nloglik:2.569898\tval-poisson-nloglik:2.806528\n",
        "[578]\ttrain-poisson-nloglik:2.569654\tval-poisson-nloglik:2.806458\n"
       ]
      },
      {
       "output_type": "stream",
       "stream": "stderr",
       "text": [
        "[579]\ttrain-poisson-nloglik:2.569428\tval-poisson-nloglik:2.806389\n",
        "[580]\ttrain-poisson-nloglik:2.569246\tval-poisson-nloglik:2.806316\n"
       ]
      },
      {
       "output_type": "stream",
       "stream": "stderr",
       "text": [
        "[581]\ttrain-poisson-nloglik:2.568958\tval-poisson-nloglik:2.806234\n",
        "[582]\ttrain-poisson-nloglik:2.568725\tval-poisson-nloglik:2.806150\n"
       ]
      },
      {
       "output_type": "stream",
       "stream": "stderr",
       "text": [
        "[583]\ttrain-poisson-nloglik:2.568480\tval-poisson-nloglik:2.806096\n",
        "[584]\ttrain-poisson-nloglik:2.568317\tval-poisson-nloglik:2.806001\n"
       ]
      },
      {
       "output_type": "stream",
       "stream": "stderr",
       "text": [
        "[585]\ttrain-poisson-nloglik:2.568048\tval-poisson-nloglik:2.805993\n",
        "[586]\ttrain-poisson-nloglik:2.567899\tval-poisson-nloglik:2.805905\n",
        "[587]\ttrain-poisson-nloglik:2.567587\tval-poisson-nloglik:2.805889\n"
       ]
      },
      {
       "output_type": "stream",
       "stream": "stderr",
       "text": [
        "[588]\ttrain-poisson-nloglik:2.567318\tval-poisson-nloglik:2.805843\n",
        "[589]\ttrain-poisson-nloglik:2.567122\tval-poisson-nloglik:2.805796\n"
       ]
      },
      {
       "output_type": "stream",
       "stream": "stderr",
       "text": [
        "[590]\ttrain-poisson-nloglik:2.566815\tval-poisson-nloglik:2.805726\n",
        "[591]\ttrain-poisson-nloglik:2.566636\tval-poisson-nloglik:2.805676\n"
       ]
      },
      {
       "output_type": "stream",
       "stream": "stderr",
       "text": [
        "[592]\ttrain-poisson-nloglik:2.566385\tval-poisson-nloglik:2.805572\n",
        "[593]\ttrain-poisson-nloglik:2.566115\tval-poisson-nloglik:2.805461\n"
       ]
      },
      {
       "output_type": "stream",
       "stream": "stderr",
       "text": [
        "[594]\ttrain-poisson-nloglik:2.565865\tval-poisson-nloglik:2.805392\n",
        "[595]\ttrain-poisson-nloglik:2.565707\tval-poisson-nloglik:2.805319\n"
       ]
      },
      {
       "output_type": "stream",
       "stream": "stderr",
       "text": [
        "[596]\ttrain-poisson-nloglik:2.565524\tval-poisson-nloglik:2.805285\n",
        "[597]\ttrain-poisson-nloglik:2.565265\tval-poisson-nloglik:2.805225\n"
       ]
      },
      {
       "output_type": "stream",
       "stream": "stderr",
       "text": [
        "[598]\ttrain-poisson-nloglik:2.565047\tval-poisson-nloglik:2.805189\n",
        "[599]\ttrain-poisson-nloglik:2.564780\tval-poisson-nloglik:2.805141\n"
       ]
      },
      {
       "output_type": "stream",
       "stream": "stderr",
       "text": [
        "[600]\ttrain-poisson-nloglik:2.564520\tval-poisson-nloglik:2.805078\n",
        "[601]\ttrain-poisson-nloglik:2.564298\tval-poisson-nloglik:2.805036\n"
       ]
      },
      {
       "output_type": "stream",
       "stream": "stderr",
       "text": [
        "[602]\ttrain-poisson-nloglik:2.564033\tval-poisson-nloglik:2.804926\n",
        "[603]\ttrain-poisson-nloglik:2.563824\tval-poisson-nloglik:2.804893\n"
       ]
      },
      {
       "output_type": "stream",
       "stream": "stderr",
       "text": [
        "[604]\ttrain-poisson-nloglik:2.563597\tval-poisson-nloglik:2.804805\n",
        "[605]\ttrain-poisson-nloglik:2.563366\tval-poisson-nloglik:2.804743\n"
       ]
      },
      {
       "output_type": "stream",
       "stream": "stderr",
       "text": [
        "[606]\ttrain-poisson-nloglik:2.563194\tval-poisson-nloglik:2.804665\n",
        "[607]\ttrain-poisson-nloglik:2.562927\tval-poisson-nloglik:2.804679\n",
        "[608]\ttrain-poisson-nloglik:2.562733\tval-poisson-nloglik:2.804696\n"
       ]
      },
      {
       "output_type": "stream",
       "stream": "stderr",
       "text": [
        "[609]\ttrain-poisson-nloglik:2.562504\tval-poisson-nloglik:2.804637\n",
        "[610]\ttrain-poisson-nloglik:2.562297\tval-poisson-nloglik:2.804634\n"
       ]
      },
      {
       "output_type": "stream",
       "stream": "stderr",
       "text": [
        "[611]\ttrain-poisson-nloglik:2.562115\tval-poisson-nloglik:2.804599\n",
        "[612]\ttrain-poisson-nloglik:2.561870\tval-poisson-nloglik:2.804599\n"
       ]
      },
      {
       "output_type": "stream",
       "stream": "stderr",
       "text": [
        "[613]\ttrain-poisson-nloglik:2.561646\tval-poisson-nloglik:2.804544\n",
        "[614]\ttrain-poisson-nloglik:2.561409\tval-poisson-nloglik:2.804456\n"
       ]
      },
      {
       "output_type": "stream",
       "stream": "stderr",
       "text": [
        "[615]\ttrain-poisson-nloglik:2.561237\tval-poisson-nloglik:2.804373\n",
        "[616]\ttrain-poisson-nloglik:2.561024\tval-poisson-nloglik:2.804250\n",
        "[617]\ttrain-poisson-nloglik:2.560826\tval-poisson-nloglik:2.804216\n"
       ]
      },
      {
       "output_type": "stream",
       "stream": "stderr",
       "text": [
        "[618]\ttrain-poisson-nloglik:2.560547\tval-poisson-nloglik:2.804130\n",
        "[619]\ttrain-poisson-nloglik:2.560396\tval-poisson-nloglik:2.804085\n"
       ]
      },
      {
       "output_type": "stream",
       "stream": "stderr",
       "text": [
        "[620]\ttrain-poisson-nloglik:2.560160\tval-poisson-nloglik:2.804074\n",
        "[621]\ttrain-poisson-nloglik:2.559955\tval-poisson-nloglik:2.804038\n"
       ]
      },
      {
       "output_type": "stream",
       "stream": "stderr",
       "text": [
        "[622]\ttrain-poisson-nloglik:2.559701\tval-poisson-nloglik:2.803979\n",
        "[623]\ttrain-poisson-nloglik:2.559456\tval-poisson-nloglik:2.803867\n"
       ]
      },
      {
       "output_type": "stream",
       "stream": "stderr",
       "text": [
        "[624]\ttrain-poisson-nloglik:2.559195\tval-poisson-nloglik:2.803741\n",
        "[625]\ttrain-poisson-nloglik:2.559014\tval-poisson-nloglik:2.803694\n",
        "[626]\ttrain-poisson-nloglik:2.558782\tval-poisson-nloglik:2.803668\n"
       ]
      },
      {
       "output_type": "stream",
       "stream": "stderr",
       "text": [
        "[627]\ttrain-poisson-nloglik:2.558550\tval-poisson-nloglik:2.803638\n",
        "[628]\ttrain-poisson-nloglik:2.558330\tval-poisson-nloglik:2.803579\n",
        "[629]\ttrain-poisson-nloglik:2.558101\tval-poisson-nloglik:2.803561\n"
       ]
      },
      {
       "output_type": "stream",
       "stream": "stderr",
       "text": [
        "[630]\ttrain-poisson-nloglik:2.557924\tval-poisson-nloglik:2.803442\n",
        "[631]\ttrain-poisson-nloglik:2.557666\tval-poisson-nloglik:2.803419\n"
       ]
      },
      {
       "output_type": "stream",
       "stream": "stderr",
       "text": [
        "[632]\ttrain-poisson-nloglik:2.557422\tval-poisson-nloglik:2.803357\n",
        "[633]\ttrain-poisson-nloglik:2.557173\tval-poisson-nloglik:2.803354\n"
       ]
      },
      {
       "output_type": "stream",
       "stream": "stderr",
       "text": [
        "[634]\ttrain-poisson-nloglik:2.556915\tval-poisson-nloglik:2.803316\n",
        "[635]\ttrain-poisson-nloglik:2.556684\tval-poisson-nloglik:2.803253\n"
       ]
      },
      {
       "output_type": "stream",
       "stream": "stderr",
       "text": [
        "[636]\ttrain-poisson-nloglik:2.556444\tval-poisson-nloglik:2.803219\n",
        "[637]\ttrain-poisson-nloglik:2.556274\tval-poisson-nloglik:2.803162\n"
       ]
      },
      {
       "output_type": "stream",
       "stream": "stderr",
       "text": [
        "[638]\ttrain-poisson-nloglik:2.556071\tval-poisson-nloglik:2.803092\n",
        "[639]\ttrain-poisson-nloglik:2.555842\tval-poisson-nloglik:2.803067\n"
       ]
      },
      {
       "output_type": "stream",
       "stream": "stderr",
       "text": [
        "[640]\ttrain-poisson-nloglik:2.555675\tval-poisson-nloglik:2.803030\n",
        "[641]\ttrain-poisson-nloglik:2.555542\tval-poisson-nloglik:2.803011\n",
        "[642]\ttrain-poisson-nloglik:2.555321\tval-poisson-nloglik:2.802918\n"
       ]
      },
      {
       "output_type": "stream",
       "stream": "stderr",
       "text": [
        "[643]\ttrain-poisson-nloglik:2.555123\tval-poisson-nloglik:2.802881\n",
        "[644]\ttrain-poisson-nloglik:2.554952\tval-poisson-nloglik:2.802871\n"
       ]
      },
      {
       "output_type": "stream",
       "stream": "stderr",
       "text": [
        "[645]\ttrain-poisson-nloglik:2.554773\tval-poisson-nloglik:2.802830\n",
        "[646]\ttrain-poisson-nloglik:2.554579\tval-poisson-nloglik:2.802789\n",
        "[647]\ttrain-poisson-nloglik:2.554427\tval-poisson-nloglik:2.802759\n"
       ]
      },
      {
       "output_type": "stream",
       "stream": "stderr",
       "text": [
        "[648]\ttrain-poisson-nloglik:2.554209\tval-poisson-nloglik:2.802624\n",
        "[649]\ttrain-poisson-nloglik:2.553942\tval-poisson-nloglik:2.802568\n"
       ]
      },
      {
       "output_type": "stream",
       "stream": "stderr",
       "text": [
        "[650]\ttrain-poisson-nloglik:2.553739\tval-poisson-nloglik:2.802500\n",
        "[651]\ttrain-poisson-nloglik:2.553530\tval-poisson-nloglik:2.802456\n"
       ]
      },
      {
       "output_type": "stream",
       "stream": "stderr",
       "text": [
        "[652]\ttrain-poisson-nloglik:2.553310\tval-poisson-nloglik:2.802414\n",
        "[653]\ttrain-poisson-nloglik:2.553144\tval-poisson-nloglik:2.802381\n",
        "[654]\ttrain-poisson-nloglik:2.552889\tval-poisson-nloglik:2.802300\n"
       ]
      },
      {
       "output_type": "stream",
       "stream": "stderr",
       "text": [
        "[655]\ttrain-poisson-nloglik:2.552697\tval-poisson-nloglik:2.802307\n",
        "[656]\ttrain-poisson-nloglik:2.552504\tval-poisson-nloglik:2.802198\n",
        "[657]\ttrain-poisson-nloglik:2.552296\tval-poisson-nloglik:2.802127\n"
       ]
      },
      {
       "output_type": "stream",
       "stream": "stderr",
       "text": [
        "[658]\ttrain-poisson-nloglik:2.552084\tval-poisson-nloglik:2.802081\n",
        "[659]\ttrain-poisson-nloglik:2.551920\tval-poisson-nloglik:2.802012\n",
        "[660]\ttrain-poisson-nloglik:2.551677\tval-poisson-nloglik:2.802014\n"
       ]
      },
      {
       "output_type": "stream",
       "stream": "stderr",
       "text": [
        "[661]\ttrain-poisson-nloglik:2.551477\tval-poisson-nloglik:2.801976\n",
        "[662]\ttrain-poisson-nloglik:2.551291\tval-poisson-nloglik:2.801926\n",
        "[663]\ttrain-poisson-nloglik:2.551081\tval-poisson-nloglik:2.801901\n"
       ]
      },
      {
       "output_type": "stream",
       "stream": "stderr",
       "text": [
        "[664]\ttrain-poisson-nloglik:2.550917\tval-poisson-nloglik:2.801842\n",
        "[665]\ttrain-poisson-nloglik:2.550694\tval-poisson-nloglik:2.801821\n"
       ]
      },
      {
       "output_type": "stream",
       "stream": "stderr",
       "text": [
        "[666]\ttrain-poisson-nloglik:2.550466\tval-poisson-nloglik:2.801811\n",
        "[667]\ttrain-poisson-nloglik:2.550256\tval-poisson-nloglik:2.801775\n"
       ]
      },
      {
       "output_type": "stream",
       "stream": "stderr",
       "text": [
        "[668]\ttrain-poisson-nloglik:2.550071\tval-poisson-nloglik:2.801723\n",
        "[669]\ttrain-poisson-nloglik:2.549789\tval-poisson-nloglik:2.801625\n"
       ]
      },
      {
       "output_type": "stream",
       "stream": "stderr",
       "text": [
        "[670]\ttrain-poisson-nloglik:2.549637\tval-poisson-nloglik:2.801617\n",
        "[671]\ttrain-poisson-nloglik:2.549493\tval-poisson-nloglik:2.801625\n"
       ]
      },
      {
       "output_type": "stream",
       "stream": "stderr",
       "text": [
        "[672]\ttrain-poisson-nloglik:2.549365\tval-poisson-nloglik:2.801595\n",
        "[673]\ttrain-poisson-nloglik:2.549206\tval-poisson-nloglik:2.801543\n"
       ]
      },
      {
       "output_type": "stream",
       "stream": "stderr",
       "text": [
        "[674]\ttrain-poisson-nloglik:2.549013\tval-poisson-nloglik:2.801523\n",
        "[675]\ttrain-poisson-nloglik:2.548788\tval-poisson-nloglik:2.801449\n",
        "[676]\ttrain-poisson-nloglik:2.548586\tval-poisson-nloglik:2.801441\n"
       ]
      },
      {
       "output_type": "stream",
       "stream": "stderr",
       "text": [
        "[677]\ttrain-poisson-nloglik:2.548411\tval-poisson-nloglik:2.801388\n",
        "[678]\ttrain-poisson-nloglik:2.548228\tval-poisson-nloglik:2.801405\n"
       ]
      },
      {
       "output_type": "stream",
       "stream": "stderr",
       "text": [
        "[679]\ttrain-poisson-nloglik:2.548076\tval-poisson-nloglik:2.801378\n",
        "[680]\ttrain-poisson-nloglik:2.547875\tval-poisson-nloglik:2.801270\n"
       ]
      },
      {
       "output_type": "stream",
       "stream": "stderr",
       "text": [
        "[681]\ttrain-poisson-nloglik:2.547678\tval-poisson-nloglik:2.801249\n",
        "[682]\ttrain-poisson-nloglik:2.547496\tval-poisson-nloglik:2.801243\n"
       ]
      },
      {
       "output_type": "stream",
       "stream": "stderr",
       "text": [
        "[683]\ttrain-poisson-nloglik:2.547275\tval-poisson-nloglik:2.801241\n",
        "[684]\ttrain-poisson-nloglik:2.547117\tval-poisson-nloglik:2.801239\n",
        "[685]\ttrain-poisson-nloglik:2.546911\tval-poisson-nloglik:2.801248\n"
       ]
      },
      {
       "output_type": "stream",
       "stream": "stderr",
       "text": [
        "[686]\ttrain-poisson-nloglik:2.546725\tval-poisson-nloglik:2.801183\n",
        "[687]\ttrain-poisson-nloglik:2.546547\tval-poisson-nloglik:2.801155\n"
       ]
      },
      {
       "output_type": "stream",
       "stream": "stderr",
       "text": [
        "[688]\ttrain-poisson-nloglik:2.546335\tval-poisson-nloglik:2.801131\n",
        "[689]\ttrain-poisson-nloglik:2.546158\tval-poisson-nloglik:2.801132\n"
       ]
      },
      {
       "output_type": "stream",
       "stream": "stderr",
       "text": [
        "[690]\ttrain-poisson-nloglik:2.546019\tval-poisson-nloglik:2.801068\n",
        "[691]\ttrain-poisson-nloglik:2.545882\tval-poisson-nloglik:2.801042\n"
       ]
      },
      {
       "output_type": "stream",
       "stream": "stderr",
       "text": [
        "[692]\ttrain-poisson-nloglik:2.545779\tval-poisson-nloglik:2.801033\n",
        "[693]\ttrain-poisson-nloglik:2.545605\tval-poisson-nloglik:2.801023\n"
       ]
      },
      {
       "output_type": "stream",
       "stream": "stderr",
       "text": [
        "[694]\ttrain-poisson-nloglik:2.545380\tval-poisson-nloglik:2.800974\n",
        "[695]\ttrain-poisson-nloglik:2.545215\tval-poisson-nloglik:2.800958\n"
       ]
      },
      {
       "output_type": "stream",
       "stream": "stderr",
       "text": [
        "[696]\ttrain-poisson-nloglik:2.545053\tval-poisson-nloglik:2.800911\n",
        "[697]\ttrain-poisson-nloglik:2.544827\tval-poisson-nloglik:2.800864\n"
       ]
      },
      {
       "output_type": "stream",
       "stream": "stderr",
       "text": [
        "[698]\ttrain-poisson-nloglik:2.544634\tval-poisson-nloglik:2.800829\n",
        "[699]\ttrain-poisson-nloglik:2.544504\tval-poisson-nloglik:2.800749\n"
       ]
      },
      {
       "output_type": "stream",
       "stream": "stderr",
       "text": [
        "[700]\ttrain-poisson-nloglik:2.544339\tval-poisson-nloglik:2.800711\n",
        "[701]\ttrain-poisson-nloglik:2.544191\tval-poisson-nloglik:2.800710\n"
       ]
      },
      {
       "output_type": "stream",
       "stream": "stderr",
       "text": [
        "[702]\ttrain-poisson-nloglik:2.544057\tval-poisson-nloglik:2.800702\n",
        "[703]\ttrain-poisson-nloglik:2.543863\tval-poisson-nloglik:2.800695\n"
       ]
      },
      {
       "output_type": "stream",
       "stream": "stderr",
       "text": [
        "[704]\ttrain-poisson-nloglik:2.543627\tval-poisson-nloglik:2.800662\n",
        "[705]\ttrain-poisson-nloglik:2.543441\tval-poisson-nloglik:2.800657\n"
       ]
      },
      {
       "output_type": "stream",
       "stream": "stderr",
       "text": [
        "[706]\ttrain-poisson-nloglik:2.543293\tval-poisson-nloglik:2.800623\n",
        "[707]\ttrain-poisson-nloglik:2.543144\tval-poisson-nloglik:2.800580\n"
       ]
      },
      {
       "output_type": "stream",
       "stream": "stderr",
       "text": [
        "[708]\ttrain-poisson-nloglik:2.542908\tval-poisson-nloglik:2.800610\n",
        "[709]\ttrain-poisson-nloglik:2.542727\tval-poisson-nloglik:2.800566\n"
       ]
      },
      {
       "output_type": "stream",
       "stream": "stderr",
       "text": [
        "[710]\ttrain-poisson-nloglik:2.542486\tval-poisson-nloglik:2.800514\n",
        "[711]\ttrain-poisson-nloglik:2.542313\tval-poisson-nloglik:2.800472\n",
        "[712]\ttrain-poisson-nloglik:2.542111\tval-poisson-nloglik:2.800466\n"
       ]
      },
      {
       "output_type": "stream",
       "stream": "stderr",
       "text": [
        "[713]\ttrain-poisson-nloglik:2.541901\tval-poisson-nloglik:2.800390\n",
        "[714]\ttrain-poisson-nloglik:2.541720\tval-poisson-nloglik:2.800383\n"
       ]
      },
      {
       "output_type": "stream",
       "stream": "stderr",
       "text": [
        "[715]\ttrain-poisson-nloglik:2.541511\tval-poisson-nloglik:2.800334\n",
        "[716]\ttrain-poisson-nloglik:2.541286\tval-poisson-nloglik:2.800251\n"
       ]
      },
      {
       "output_type": "stream",
       "stream": "stderr",
       "text": [
        "[717]\ttrain-poisson-nloglik:2.541074\tval-poisson-nloglik:2.800225\n",
        "[718]\ttrain-poisson-nloglik:2.540924\tval-poisson-nloglik:2.800199\n"
       ]
      },
      {
       "output_type": "stream",
       "stream": "stderr",
       "text": [
        "[719]\ttrain-poisson-nloglik:2.540706\tval-poisson-nloglik:2.800199\n",
        "[720]\ttrain-poisson-nloglik:2.540555\tval-poisson-nloglik:2.800167\n"
       ]
      },
      {
       "output_type": "stream",
       "stream": "stderr",
       "text": [
        "[721]\ttrain-poisson-nloglik:2.540391\tval-poisson-nloglik:2.800141\n",
        "[722]\ttrain-poisson-nloglik:2.540205\tval-poisson-nloglik:2.800098\n"
       ]
      },
      {
       "output_type": "stream",
       "stream": "stderr",
       "text": [
        "[723]\ttrain-poisson-nloglik:2.540012\tval-poisson-nloglik:2.800076\n",
        "[724]\ttrain-poisson-nloglik:2.539837\tval-poisson-nloglik:2.800014\n"
       ]
      },
      {
       "output_type": "stream",
       "stream": "stderr",
       "text": [
        "[725]\ttrain-poisson-nloglik:2.539660\tval-poisson-nloglik:2.799947\n",
        "[726]\ttrain-poisson-nloglik:2.539456\tval-poisson-nloglik:2.799961\n"
       ]
      },
      {
       "output_type": "stream",
       "stream": "stderr",
       "text": [
        "[727]\ttrain-poisson-nloglik:2.539315\tval-poisson-nloglik:2.799914\n",
        "[728]\ttrain-poisson-nloglik:2.539171\tval-poisson-nloglik:2.799890\n",
        "[729]\ttrain-poisson-nloglik:2.538975\tval-poisson-nloglik:2.799940\n"
       ]
      },
      {
       "output_type": "stream",
       "stream": "stderr",
       "text": [
        "[730]\ttrain-poisson-nloglik:2.538864\tval-poisson-nloglik:2.799911\n",
        "[731]\ttrain-poisson-nloglik:2.538714\tval-poisson-nloglik:2.799930\n"
       ]
      },
      {
       "output_type": "stream",
       "stream": "stderr",
       "text": [
        "[732]\ttrain-poisson-nloglik:2.538519\tval-poisson-nloglik:2.799897\n",
        "Stopping. Best iteration:\n",
        "[728]\ttrain-poisson-nloglik:2.539171\tval-poisson-nloglik:2.799890\n",
        "\n"
       ]
      }
     ],
     "prompt_number": 51
    },
    {
     "cell_type": "code",
     "collapsed": false,
     "input": [
      "preds1 = model.predict(xgtest)\n",
      "print preds1\n",
      "print test4"
     ],
     "language": "python",
     "metadata": {},
     "outputs": [
      {
       "output_type": "stream",
       "stream": "stdout",
       "text": [
        "[ 2.65582204  6.70834637  6.78033972 ...,  4.51510477  3.473948    3.21626592]\n",
        "[[  1.  12.   3. ...,   4.   1.   6.]\n",
        " [  9.   9.   6. ...,   4.   4.   7.]\n",
        " [  8.  19.   3. ...,   2.   5.   0.]\n",
        " ..., \n",
        " [ 12.  23.   2. ...,   2.   1.   3.]\n",
        " [  8.   6.   4. ...,   4.   2.   0.]\n",
        " [  3.   5.   1. ...,   3.   5.   4.]]\n"
       ]
      }
     ],
     "prompt_number": 52
    },
    {
     "cell_type": "code",
     "collapsed": false,
     "input": [
      "#generate solution\n",
      "preds = pd.DataFrame({\"Id\": test_ind, \"Hazard\": preds1})\n",
      "preds = preds.set_index('Id')\n",
      "preds.to_csv('xgboost_benchmark.csv')\n",
      "%pwd"
     ],
     "language": "python",
     "metadata": {},
     "outputs": [
      {
       "metadata": {},
       "output_type": "pyout",
       "prompt_number": 53,
       "text": [
        "u'/home/leandroohf/Documents/kaggle/Liberty_Mutual_Group_Property_Inspection_Prediction'"
       ]
      }
     ],
     "prompt_number": 53
    }
   ],
   "metadata": {}
  }
 ]
}