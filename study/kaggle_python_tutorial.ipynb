{
 "metadata": {
  "name": ""
 },
 "nbformat": 3,
 "nbformat_minor": 0,
 "worksheets": [
  {
   "cells": [
    {
     "cell_type": "code",
     "collapsed": false,
     "input": [
      "from IPython.display import HTML\n",
      "HTML('<iframe src=http://archive.ics.uci.edu/ml/machine-learning-databases/iris/iris.data width=300 height=200></iframe>')"
     ],
     "language": "python",
     "metadata": {},
     "outputs": [
      {
       "html": [
        "<iframe src=http://archive.ics.uci.edu/ml/machine-learning-databases/iris/iris.data width=300 height=200></iframe>"
       ],
       "metadata": {},
       "output_type": "pyout",
       "prompt_number": 1,
       "text": [
        "<IPython.core.display.HTML at 0x7f7ce836d610>"
       ]
      }
     ],
     "prompt_number": 1
    },
    {
     "cell_type": "markdown",
     "metadata": {},
     "source": [
      "## Machine learning loading iris data base "
     ]
    },
    {
     "cell_type": "code",
     "collapsed": false,
     "input": [
      "# import load_iris function from datasets module\n",
      "from sklearn.datasets import load_iris\n",
      "\n",
      "# save \"bunch\" object containing iris dataset and its attributes\n",
      "iris = load_iris()\n",
      "type(iris)\n"
     ],
     "language": "python",
     "metadata": {},
     "outputs": [
      {
       "metadata": {},
       "output_type": "pyout",
       "prompt_number": 2,
       "text": [
        "sklearn.datasets.base.Bunch"
       ]
      }
     ],
     "prompt_number": 2
    },
    {
     "cell_type": "code",
     "collapsed": false,
     "input": [
      "# print the iris data\n",
      "print (iris.data[:7,])"
     ],
     "language": "python",
     "metadata": {},
     "outputs": [
      {
       "output_type": "stream",
       "stream": "stdout",
       "text": [
        "[[ 5.1  3.5  1.4  0.2]\n",
        " [ 4.9  3.   1.4  0.2]\n",
        " [ 4.7  3.2  1.3  0.2]\n",
        " [ 4.6  3.1  1.5  0.2]\n",
        " [ 5.   3.6  1.4  0.2]\n",
        " [ 5.4  3.9  1.7  0.4]\n",
        " [ 4.6  3.4  1.4  0.3]]\n"
       ]
      }
     ],
     "prompt_number": 3
    },
    {
     "cell_type": "code",
     "collapsed": false,
     "input": [
      "# print the names of the four features\n",
      "print \"names:\"\n",
      "print iris.feature_names\n",
      "\n",
      "\n",
      "print \"Y catgorical data names:\"\n",
      "# print the encoding scheme for species: 0 = setosa, 1 = versicolor, 2 = virginica\n",
      "print iris.target_names\n",
      "\n",
      "print \"y:\"\n",
      "# print integers representing the species of each observation\n",
      "print iris.target"
     ],
     "language": "python",
     "metadata": {},
     "outputs": [
      {
       "output_type": "stream",
       "stream": "stdout",
       "text": [
        "names:\n",
        "['sepal length (cm)', 'sepal width (cm)', 'petal length (cm)', 'petal width (cm)']\n",
        "Y catgorical data names:\n",
        "['setosa' 'versicolor' 'virginica']\n",
        "y:\n",
        "[0 0 0 0 0 0 0 0 0 0 0 0 0 0 0 0 0 0 0 0 0 0 0 0 0 0 0 0 0 0 0 0 0 0 0 0 0\n",
        " 0 0 0 0 0 0 0 0 0 0 0 0 0 1 1 1 1 1 1 1 1 1 1 1 1 1 1 1 1 1 1 1 1 1 1 1 1\n",
        " 1 1 1 1 1 1 1 1 1 1 1 1 1 1 1 1 1 1 1 1 1 1 1 1 1 1 2 2 2 2 2 2 2 2 2 2 2\n",
        " 2 2 2 2 2 2 2 2 2 2 2 2 2 2 2 2 2 2 2 2 2 2 2 2 2 2 2 2 2 2 2 2 2 2 2 2 2\n",
        " 2 2]\n"
       ]
      }
     ],
     "prompt_number": 4
    },
    {
     "cell_type": "code",
     "collapsed": false,
     "input": [
      "# check the types of the features and response\n",
      "print type(iris.data)\n",
      "print type(iris.target)"
     ],
     "language": "python",
     "metadata": {},
     "outputs": [
      {
       "output_type": "stream",
       "stream": "stdout",
       "text": [
        "<type 'numpy.ndarray'>\n",
        "<type 'numpy.ndarray'>\n"
       ]
      }
     ],
     "prompt_number": 5
    },
    {
     "cell_type": "code",
     "collapsed": false,
     "input": [
      "# check the shape of the features (first dimension = number of observations, second dimensions = number of features)\n",
      "print iris.data.shape\n",
      "\n",
      "# check the shape of the response (single dimension matching the number of observations)\n",
      "print iris.target.shape"
     ],
     "language": "python",
     "metadata": {},
     "outputs": [
      {
       "output_type": "stream",
       "stream": "stdout",
       "text": [
        "(150, 4)\n",
        "(150,)\n"
       ]
      }
     ],
     "prompt_number": 6
    },
    {
     "cell_type": "code",
     "collapsed": false,
     "input": [
      "# store feature matrix in \"X\"\n",
      "X = iris.data\n",
      "\n",
      "# store response vector in \"y\"\n",
      "y = iris.target\n",
      "\n",
      "# print the shapes of X and y\n",
      "print X.shape\n",
      "print y.shape"
     ],
     "language": "python",
     "metadata": {},
     "outputs": [
      {
       "output_type": "stream",
       "stream": "stdout",
       "text": [
        "(150, 4)\n",
        "(150,)\n"
       ]
      }
     ],
     "prompt_number": 7
    },
    {
     "cell_type": "markdown",
     "metadata": {},
     "source": [
      "# Knn\n",
      "* pick up a value of K\n"
     ]
    },
    {
     "cell_type": "code",
     "collapsed": false,
     "input": [
      "from sklearn.neighbors import KNeighborsClassifier\n",
      "\n",
      "# Init classifier\n",
      "knn = KNeighborsClassifier(n_neighbors=1)\n",
      "print knn"
     ],
     "language": "python",
     "metadata": {},
     "outputs": [
      {
       "output_type": "stream",
       "stream": "stdout",
       "text": [
        "KNeighborsClassifier(algorithm='auto', leaf_size=30, metric='minkowski',\n",
        "           metric_params=None, n_neighbors=1, p=2, weights='uniform')\n"
       ]
      }
     ],
     "prompt_number": 8
    },
    {
     "cell_type": "code",
     "collapsed": false,
     "input": [
      "knn.fit(X,y)"
     ],
     "language": "python",
     "metadata": {},
     "outputs": [
      {
       "metadata": {},
       "output_type": "pyout",
       "prompt_number": 9,
       "text": [
        "KNeighborsClassifier(algorithm='auto', leaf_size=30, metric='minkowski',\n",
        "           metric_params=None, n_neighbors=1, p=2, weights='uniform')"
       ]
      }
     ],
     "prompt_number": 9
    },
    {
     "cell_type": "markdown",
     "metadata": {},
     "source": [
      "Predict the outcome of new data"
     ]
    },
    {
     "cell_type": "code",
     "collapsed": false,
     "input": [
      "X_new = [[3, 5, 4, 2], [5, 4, 3, 2]]\n",
      "knn.predict(X_new)"
     ],
     "language": "python",
     "metadata": {},
     "outputs": [
      {
       "metadata": {},
       "output_type": "pyout",
       "prompt_number": 10,
       "text": [
        "array([2, 1])"
       ]
      }
     ],
     "prompt_number": 10
    },
    {
     "cell_type": "code",
     "collapsed": false,
     "input": [
      "# instantiate the model (using the value K=5)\n",
      "knn = KNeighborsClassifier(n_neighbors=5)\n",
      "\n",
      "# fit the model with data\n",
      "knn.fit(X, y)\n",
      "\n",
      "# predict the response for new observations\n",
      "knn.predict(X_new)"
     ],
     "language": "python",
     "metadata": {},
     "outputs": [
      {
       "metadata": {},
       "output_type": "pyout",
       "prompt_number": 11,
       "text": [
        "array([1, 1])"
       ]
      }
     ],
     "prompt_number": 11
    },
    {
     "cell_type": "code",
     "collapsed": false,
     "input": [
      "# import the class\n",
      "from sklearn.linear_model import LogisticRegression\n",
      "\n",
      "# instantiate the model (using the default parameters)\n",
      "logreg = LogisticRegression()\n",
      "\n",
      "# fit the model with data\n",
      "logreg.fit(X, y)\n",
      "\n",
      "# predict the response for new observations\n",
      "logreg.predict(X_new)"
     ],
     "language": "python",
     "metadata": {},
     "outputs": [
      {
       "metadata": {},
       "output_type": "pyout",
       "prompt_number": 12,
       "text": [
        "array([2, 0])"
       ]
      }
     ],
     "prompt_number": 12
    },
    {
     "cell_type": "code",
     "collapsed": false,
     "input": [
      "# import the class\n",
      "from sklearn.linear_model import LogisticRegression\n",
      "\n",
      "# instantiate the model (using the default parameters)\n",
      "logreg = LogisticRegression()\n",
      "\n",
      "# fit the model with data\n",
      "logreg.fit(X, y)\n",
      "\n",
      "# predict the response values for the observations in X\n",
      "print(\"Printing prediction...\")\n",
      "print(logreg.predict(X))\n",
      "\n",
      "# store the predicted response values\n",
      "y_pred = logreg.predict(X)\n",
      "\n",
      "# check how many predictions were generated\n",
      "print(\"size train: \" +  str(len(y_pred)))\n",
      "\n",
      "# compute classification accuracy for the logistic regression model\n",
      "from sklearn import metrics\n",
      "\n",
      "## Number of match/total\n",
      "print metrics.accuracy_score(y, y_pred)\n"
     ],
     "language": "python",
     "metadata": {},
     "outputs": [
      {
       "output_type": "stream",
       "stream": "stdout",
       "text": [
        "Printing prediction...\n",
        "[0 0 0 0 0 0 0 0 0 0 0 0 0 0 0 0 0 0 0 0 0 0 0 0 0 0 0 0 0 0 0 0 0 0 0 0 0\n",
        " 0 0 0 0 0 0 0 0 0 0 0 0 0 1 1 1 1 1 1 1 1 1 1 1 1 1 1 1 1 2 1 1 1 2 1 1 1\n",
        " 1 1 1 1 1 1 1 1 1 2 2 2 1 1 1 1 1 1 1 1 1 1 1 1 1 1 2 2 2 2 2 2 2 2 2 2 2\n",
        " 2 2 2 2 2 2 2 2 2 2 2 2 2 2 2 2 2 2 1 2 2 2 2 2 2 2 2 2 2 2 2 2 2 2 2 2 2\n",
        " 2 2]\n",
        "size train: 150\n",
        "0.96\n"
       ]
      }
     ],
     "prompt_number": 13
    },
    {
     "cell_type": "code",
     "collapsed": false,
     "input": [
      "from sklearn.neighbors import KNeighborsClassifier\n",
      "knn = KNeighborsClassifier(n_neighbors=5)\n",
      "knn.fit(X, y)\n",
      "y_pred = knn.predict(X)\n",
      "print metrics.accuracy_score(y, y_pred)"
     ],
     "language": "python",
     "metadata": {},
     "outputs": [
      {
       "output_type": "stream",
       "stream": "stdout",
       "text": [
        "0.966666666667\n"
       ]
      }
     ],
     "prompt_number": 14
    },
    {
     "cell_type": "code",
     "collapsed": false,
     "input": [
      "knn = KNeighborsClassifier(n_neighbors=1)\n",
      "knn.fit(X, y)\n",
      "y_pred = knn.predict(X)\n",
      "print metrics.accuracy_score(y, y_pred)\n",
      "\n",
      "print(y)\n",
      "print(y_pred)"
     ],
     "language": "python",
     "metadata": {},
     "outputs": [
      {
       "output_type": "stream",
       "stream": "stdout",
       "text": [
        "1.0\n",
        "[0 0 0 0 0 0 0 0 0 0 0 0 0 0 0 0 0 0 0 0 0 0 0 0 0 0 0 0 0 0 0 0 0 0 0 0 0\n",
        " 0 0 0 0 0 0 0 0 0 0 0 0 0 1 1 1 1 1 1 1 1 1 1 1 1 1 1 1 1 1 1 1 1 1 1 1 1\n",
        " 1 1 1 1 1 1 1 1 1 1 1 1 1 1 1 1 1 1 1 1 1 1 1 1 1 1 2 2 2 2 2 2 2 2 2 2 2\n",
        " 2 2 2 2 2 2 2 2 2 2 2 2 2 2 2 2 2 2 2 2 2 2 2 2 2 2 2 2 2 2 2 2 2 2 2 2 2\n",
        " 2 2]\n",
        "[0 0 0 0 0 0 0 0 0 0 0 0 0 0 0 0 0 0 0 0 0 0 0 0 0 0 0 0 0 0 0 0 0 0 0 0 0\n",
        " 0 0 0 0 0 0 0 0 0 0 0 0 0 1 1 1 1 1 1 1 1 1 1 1 1 1 1 1 1 1 1 1 1 1 1 1 1\n",
        " 1 1 1 1 1 1 1 1 1 1 1 1 1 1 1 1 1 1 1 1 1 1 1 1 1 1 2 2 2 2 2 2 2 2 2 2 2\n",
        " 2 2 2 2 2 2 2 2 2 2 2 2 2 2 2 2 2 2 2 2 2 2 2 2 2 2 2 2 2 2 2 2 2 2 2 2 2\n",
        " 2 2]\n"
       ]
      }
     ],
     "prompt_number": 15
    },
    {
     "cell_type": "markdown",
     "metadata": {},
     "source": [
      "* KNN com k = 1 sempre acerta tudo na base de treino"
     ]
    },
    {
     "cell_type": "code",
     "collapsed": false,
     "input": [
      "# print the shapes of X and y\n",
      "print X.shape\n",
      "print y.shape\n",
      "\n",
      "# STEP 1: split X and y into training and testing sets\n",
      "from sklearn.cross_validation import train_test_split\n",
      "\n",
      "## random_state is the seed\n",
      "X_train, X_test, y_train, y_test = train_test_split(X, y, test_size=0.4, random_state=4)\n",
      "\n",
      "print(\"train size: \" + str(y_train.shape))\n",
      "print(\"test size: \" + str(y_test.shape))\n",
      "\n"
     ],
     "language": "python",
     "metadata": {},
     "outputs": [
      {
       "output_type": "stream",
       "stream": "stdout",
       "text": [
        "(150, 4)\n",
        "(150,)\n",
        "train size: (90,)\n",
        "test size: (60,)\n"
       ]
      }
     ],
     "prompt_number": 16
    },
    {
     "cell_type": "code",
     "collapsed": false,
     "input": [
      "# STEP 2: train the model on the training set\n",
      "logreg = LogisticRegression()\n",
      "logreg.fit(X_train, y_train)\n",
      "\n",
      "# STEP 3: make predictions on the testing set\n",
      "y_pred = logreg.predict(X_test)\n",
      "\n",
      "# compare actual response values (y_test) with predicted response values (y_pred)\n",
      "print metrics.accuracy_score(y_test, y_pred)"
     ],
     "language": "python",
     "metadata": {},
     "outputs": [
      {
       "output_type": "stream",
       "stream": "stdout",
       "text": [
        "0.95\n"
       ]
      }
     ],
     "prompt_number": 17
    },
    {
     "cell_type": "code",
     "collapsed": false,
     "input": [
      "knn = KNeighborsClassifier(n_neighbors=5)\n",
      "knn.fit(X_train, y_train)\n",
      "y_pred = knn.predict(X_test)\n",
      "print metrics.accuracy_score(y_test, y_pred)"
     ],
     "language": "python",
     "metadata": {},
     "outputs": [
      {
       "output_type": "stream",
       "stream": "stdout",
       "text": [
        "0.966666666667\n"
       ]
      }
     ],
     "prompt_number": 18
    },
    {
     "cell_type": "code",
     "collapsed": false,
     "input": [
      "knn = KNeighborsClassifier(n_neighbors=1)\n",
      "knn.fit(X_train, y_train)\n",
      "y_pred = knn.predict(X_test)\n",
      "print metrics.accuracy_score(y_test, y_pred)"
     ],
     "language": "python",
     "metadata": {},
     "outputs": [
      {
       "output_type": "stream",
       "stream": "stdout",
       "text": [
        "0.95\n"
       ]
      }
     ],
     "prompt_number": 19
    },
    {
     "cell_type": "code",
     "collapsed": false,
     "input": [
      "# try K=1 through K=25 and record testing accuracy\n",
      "k_range = range(1, 26)\n",
      "scores = []\n",
      "for k in k_range:\n",
      "    knn = KNeighborsClassifier(n_neighbors=k)\n",
      "    knn.fit(X_train, y_train)\n",
      "    y_pred = knn.predict(X_test)\n",
      "    scores.append(metrics.accuracy_score(y_test, y_pred))\n",
      "    \n",
      "# import Matplotlib (scientific plotting library)\n",
      "import matplotlib.pyplot as plt\n",
      "\n",
      "# allow plots to appear within the notebook\n",
      "%matplotlib inline\n",
      "\n",
      "# plot the relationship between K and testing accuracy\n",
      "plt.plot(k_range, scores)\n",
      "plt.xlabel('Value of K for KNN')\n",
      "plt.ylabel('Testing Accuracy')"
     ],
     "language": "python",
     "metadata": {},
     "outputs": [
      {
       "metadata": {},
       "output_type": "pyout",
       "prompt_number": 20,
       "text": [
        "<matplotlib.text.Text at 0x7f7cc0047a90>"
       ]
      },
      {
       "metadata": {},
       "output_type": "display_data",
       "png": "[encoded data removed]",
       "text": [
        "<matplotlib.figure.Figure at 0x7f7cc0528c90>"
       ]
      }
     ],
     "prompt_number": 20
    },
    {
     "cell_type": "markdown",
     "metadata": {},
     "source": [
      "# Making prediction with model tuned\n",
      "* Is important to re-train the model with all points. Otherwise you are trhowing away valuable points (informations)"
     ]
    },
    {
     "cell_type": "code",
     "collapsed": false,
     "input": [
      "# instantiate the model with the best known parameters\n",
      "knn = KNeighborsClassifier(n_neighbors=11)\n",
      "\n",
      "# train the model with X and y (not X_train and y_train)\n",
      "knn.fit(X, y)\n",
      "\n",
      "# make a prediction for an out-of-sample observation\n",
      "knn.predict([3, 5, 4, 2])"
     ],
     "language": "python",
     "metadata": {},
     "outputs": [
      {
       "metadata": {},
       "output_type": "pyout",
       "prompt_number": 21,
       "text": [
        "array([1])"
       ]
      }
     ],
     "prompt_number": 21
    },
    {
     "cell_type": "markdown",
     "metadata": {},
     "source": [
      "# Video 5 working with pandas"
     ]
    },
    {
     "cell_type": "code",
     "collapsed": false,
     "input": [
      "!cd /home/leandroohf/Documents/kaggle/python_tutorial\n",
      "!pwd"
     ],
     "language": "python",
     "metadata": {},
     "outputs": [
      {
       "output_type": "stream",
       "stream": "stdout",
       "text": [
        "/home/leandroohf\r\n"
       ]
      }
     ],
     "prompt_number": 22
    },
    {
     "cell_type": "code",
     "collapsed": false,
     "input": [
      "# conventional way to import pandas\n",
      "import pandas as pd\n",
      "\n",
      "# read CSV file directly from a URL and save the results\n",
      "data = pd.read_csv('http://www-bcf.usc.edu/~gareth/ISL/Advertising.csv', index_col=0)\n",
      "\n",
      "# display the first 5 rows\n",
      "data.head()"
     ],
     "language": "python",
     "metadata": {},
     "outputs": [
      {
       "html": [
        "<div style=\"max-width:1500px;overflow:auto;\">\n",
        "<table border=\"1\" class=\"dataframe\">\n",
        "  <thead>\n",
        "    <tr style=\"text-align: right;\">\n",
        "      <th></th>\n",
        "      <th>TV</th>\n",
        "      <th>Radio</th>\n",
        "      <th>Newspaper</th>\n",
        "      <th>Sales</th>\n",
        "    </tr>\n",
        "  </thead>\n",
        "  <tbody>\n",
        "    <tr>\n",
        "      <th>1</th>\n",
        "      <td>230.1</td>\n",
        "      <td>37.8</td>\n",
        "      <td>69.2</td>\n",
        "      <td>22.1</td>\n",
        "    </tr>\n",
        "    <tr>\n",
        "      <th>2</th>\n",
        "      <td>44.5</td>\n",
        "      <td>39.3</td>\n",
        "      <td>45.1</td>\n",
        "      <td>10.4</td>\n",
        "    </tr>\n",
        "    <tr>\n",
        "      <th>3</th>\n",
        "      <td>17.2</td>\n",
        "      <td>45.9</td>\n",
        "      <td>69.3</td>\n",
        "      <td>9.3</td>\n",
        "    </tr>\n",
        "    <tr>\n",
        "      <th>4</th>\n",
        "      <td>151.5</td>\n",
        "      <td>41.3</td>\n",
        "      <td>58.5</td>\n",
        "      <td>18.5</td>\n",
        "    </tr>\n",
        "    <tr>\n",
        "      <th>5</th>\n",
        "      <td>180.8</td>\n",
        "      <td>10.8</td>\n",
        "      <td>58.4</td>\n",
        "      <td>12.9</td>\n",
        "    </tr>\n",
        "  </tbody>\n",
        "</table>\n",
        "</div>"
       ],
       "metadata": {},
       "output_type": "pyout",
       "prompt_number": 23,
       "text": [
        "      TV  Radio  Newspaper  Sales\n",
        "1  230.1   37.8       69.2   22.1\n",
        "2   44.5   39.3       45.1   10.4\n",
        "3   17.2   45.9       69.3    9.3\n",
        "4  151.5   41.3       58.5   18.5\n",
        "5  180.8   10.8       58.4   12.9"
       ]
      }
     ],
     "prompt_number": 23
    },
    {
     "cell_type": "code",
     "collapsed": false,
     "input": [
      "# display the last 5 rows\n",
      "data.tail()"
     ],
     "language": "python",
     "metadata": {},
     "outputs": [
      {
       "html": [
        "<div style=\"max-width:1500px;overflow:auto;\">\n",
        "<table border=\"1\" class=\"dataframe\">\n",
        "  <thead>\n",
        "    <tr style=\"text-align: right;\">\n",
        "      <th></th>\n",
        "      <th>TV</th>\n",
        "      <th>Radio</th>\n",
        "      <th>Newspaper</th>\n",
        "      <th>Sales</th>\n",
        "    </tr>\n",
        "  </thead>\n",
        "  <tbody>\n",
        "    <tr>\n",
        "      <th>196</th>\n",
        "      <td>38.2</td>\n",
        "      <td>3.7</td>\n",
        "      <td>13.8</td>\n",
        "      <td>7.6</td>\n",
        "    </tr>\n",
        "    <tr>\n",
        "      <th>197</th>\n",
        "      <td>94.2</td>\n",
        "      <td>4.9</td>\n",
        "      <td>8.1</td>\n",
        "      <td>9.7</td>\n",
        "    </tr>\n",
        "    <tr>\n",
        "      <th>198</th>\n",
        "      <td>177.0</td>\n",
        "      <td>9.3</td>\n",
        "      <td>6.4</td>\n",
        "      <td>12.8</td>\n",
        "    </tr>\n",
        "    <tr>\n",
        "      <th>199</th>\n",
        "      <td>283.6</td>\n",
        "      <td>42.0</td>\n",
        "      <td>66.2</td>\n",
        "      <td>25.5</td>\n",
        "    </tr>\n",
        "    <tr>\n",
        "      <th>200</th>\n",
        "      <td>232.1</td>\n",
        "      <td>8.6</td>\n",
        "      <td>8.7</td>\n",
        "      <td>13.4</td>\n",
        "    </tr>\n",
        "  </tbody>\n",
        "</table>\n",
        "</div>"
       ],
       "metadata": {},
       "output_type": "pyout",
       "prompt_number": 24,
       "text": [
        "        TV  Radio  Newspaper  Sales\n",
        "196   38.2    3.7       13.8    7.6\n",
        "197   94.2    4.9        8.1    9.7\n",
        "198  177.0    9.3        6.4   12.8\n",
        "199  283.6   42.0       66.2   25.5\n",
        "200  232.1    8.6        8.7   13.4"
       ]
      }
     ],
     "prompt_number": 24
    },
    {
     "cell_type": "code",
     "collapsed": false,
     "input": [
      "# check the shape of the DataFrame (rows, columns)\n",
      "data.shape"
     ],
     "language": "python",
     "metadata": {},
     "outputs": [
      {
       "metadata": {},
       "output_type": "pyout",
       "prompt_number": 25,
       "text": [
        "(200, 4)"
       ]
      }
     ],
     "prompt_number": 25
    },
    {
     "cell_type": "code",
     "collapsed": false,
     "input": [
      "# conventional way to import seaborn\n",
      "import seaborn as sns\n",
      "\n",
      "# allow plots to appear within the notebook\n",
      "%matplotlib inline\n",
      "\n",
      "# visualize the relationship between the features and the response using scatterplots\n",
      "sns.pairplot(data, x_vars=['TV','Radio','Newspaper'], y_vars='Sales', size=7, aspect=0.7, kind='reg')\n"
     ],
     "language": "python",
     "metadata": {},
     "outputs": [
      {
       "metadata": {},
       "output_type": "pyout",
       "prompt_number": 26,
       "text": [
        "<seaborn.axisgrid.PairGrid at 0x7f7cc46e0050>"
       ]
      },
      {
       "metadata": {},
       "output_type": "display_data",
       "png": "[encoded data removed]",
       "text": [
        "<matplotlib.figure.Figure at 0x7f7cc46e0e50>"
       ]
      }
     ],
     "prompt_number": 26
    },
    {
     "cell_type": "code",
     "collapsed": false,
     "input": [
      "# create a Python list of feature names\n",
      "feature_cols = ['TV', 'Radio', 'Newspaper']\n",
      "\n",
      "# use the list to select a subset of the original DataFrame\n",
      "X = data[feature_cols]\n",
      "\n",
      "# equivalent command to do this in one line\n",
      "X = data[['TV', 'Radio', 'Newspaper']]\n",
      "\n",
      "# print the first 5 rows\n",
      "X.head()"
     ],
     "language": "python",
     "metadata": {},
     "outputs": [
      {
       "html": [
        "<div style=\"max-width:1500px;overflow:auto;\">\n",
        "<table border=\"1\" class=\"dataframe\">\n",
        "  <thead>\n",
        "    <tr style=\"text-align: right;\">\n",
        "      <th></th>\n",
        "      <th>TV</th>\n",
        "      <th>Radio</th>\n",
        "      <th>Newspaper</th>\n",
        "    </tr>\n",
        "  </thead>\n",
        "  <tbody>\n",
        "    <tr>\n",
        "      <th>1</th>\n",
        "      <td>230.1</td>\n",
        "      <td>37.8</td>\n",
        "      <td>69.2</td>\n",
        "    </tr>\n",
        "    <tr>\n",
        "      <th>2</th>\n",
        "      <td>44.5</td>\n",
        "      <td>39.3</td>\n",
        "      <td>45.1</td>\n",
        "    </tr>\n",
        "    <tr>\n",
        "      <th>3</th>\n",
        "      <td>17.2</td>\n",
        "      <td>45.9</td>\n",
        "      <td>69.3</td>\n",
        "    </tr>\n",
        "    <tr>\n",
        "      <th>4</th>\n",
        "      <td>151.5</td>\n",
        "      <td>41.3</td>\n",
        "      <td>58.5</td>\n",
        "    </tr>\n",
        "    <tr>\n",
        "      <th>5</th>\n",
        "      <td>180.8</td>\n",
        "      <td>10.8</td>\n",
        "      <td>58.4</td>\n",
        "    </tr>\n",
        "  </tbody>\n",
        "</table>\n",
        "</div>"
       ],
       "metadata": {},
       "output_type": "pyout",
       "prompt_number": 27,
       "text": [
        "      TV  Radio  Newspaper\n",
        "1  230.1   37.8       69.2\n",
        "2   44.5   39.3       45.1\n",
        "3   17.2   45.9       69.3\n",
        "4  151.5   41.3       58.5\n",
        "5  180.8   10.8       58.4"
       ]
      }
     ],
     "prompt_number": 27
    },
    {
     "cell_type": "code",
     "collapsed": false,
     "input": [
      "# check the type and shape of X\n",
      "print type(X)\n",
      "print X.shape\n",
      "\n",
      "# select a Series from the DataFrame\n",
      "y = data['Sales']\n",
      "\n",
      "# equivalent command that works if there are no spaces in the column name\n",
      "y = data.Sales\n",
      "\n",
      "# print the first 5 values\n",
      "y.head()"
     ],
     "language": "python",
     "metadata": {},
     "outputs": [
      {
       "output_type": "stream",
       "stream": "stdout",
       "text": [
        "<class 'pandas.core.frame.DataFrame'>\n",
        "(200, 3)\n"
       ]
      },
      {
       "metadata": {},
       "output_type": "pyout",
       "prompt_number": 28,
       "text": [
        "1    22.1\n",
        "2    10.4\n",
        "3     9.3\n",
        "4    18.5\n",
        "5    12.9\n",
        "Name: Sales, dtype: float64"
       ]
      }
     ],
     "prompt_number": 28
    },
    {
     "cell_type": "markdown",
     "metadata": {},
     "source": [
      "# Video 6: Linear Regression "
     ]
    },
    {
     "cell_type": "code",
     "collapsed": false,
     "input": [
      "from sklearn.cross_validation import train_test_split\n",
      "X_train, X_test, y_train, y_test = train_test_split(X, y, random_state=1)"
     ],
     "language": "python",
     "metadata": {},
     "outputs": [],
     "prompt_number": 29
    },
    {
     "cell_type": "code",
     "collapsed": false,
     "input": [
      "# import model\n",
      "from sklearn.linear_model import LinearRegression\n",
      "\n",
      "# instantiate\n",
      "linreg = LinearRegression()\n",
      "\n",
      "# fit the model to the training data (learn the coefficients)\n",
      "linreg.fit(X_train, y_train)"
     ],
     "language": "python",
     "metadata": {},
     "outputs": [
      {
       "metadata": {},
       "output_type": "pyout",
       "prompt_number": 30,
       "text": [
        "LinearRegression(copy_X=True, fit_intercept=True, n_jobs=1, normalize=False)"
       ]
      }
     ],
     "prompt_number": 30
    },
    {
     "cell_type": "code",
     "collapsed": false,
     "input": [
      "# print the intercept and coefficients\n",
      "print linreg.intercept_\n",
      "print linreg.coef_\n",
      "\n",
      "# pair the feature names with the coefficients\n",
      "zip(feature_cols, linreg.coef_)"
     ],
     "language": "python",
     "metadata": {},
     "outputs": [
      {
       "output_type": "stream",
       "stream": "stdout",
       "text": [
        "2.87696662232\n",
        "[ 0.04656457  0.17915812  0.00345046]\n"
       ]
      },
      {
       "metadata": {},
       "output_type": "pyout",
       "prompt_number": 31,
       "text": [
        "[('TV', 0.046564567874150226),\n",
        " ('Radio', 0.17915812245088839),\n",
        " ('Newspaper', 0.0034504647111804204)]"
       ]
      }
     ],
     "prompt_number": 31
    },
    {
     "cell_type": "code",
     "collapsed": false,
     "input": [
      "# make predictions on the testing se\n",
      "y_pred = linreg.predict(X_test)\n",
      "\n",
      "print(y_pred)"
     ],
     "language": "python",
     "metadata": {},
     "outputs": [
      {
       "output_type": "stream",
       "stream": "stdout",
       "text": [
        "[ 21.70910292  16.41055243   7.60955058  17.80769552  18.6146359\n",
        "  23.83573998  16.32488681  13.43225536   9.17173403  17.333853\n",
        "  14.44479482   9.83511973  17.18797614  16.73086831  15.05529391\n",
        "  15.61434433  12.42541574  17.17716376  11.08827566  18.00537501\n",
        "   9.28438889  12.98458458   8.79950614  10.42382499  11.3846456\n",
        "  14.98082512   9.78853268  19.39643187  18.18099936  17.12807566\n",
        "  21.54670213  14.69809481  16.24641438  12.32114579  19.92422501\n",
        "  15.32498602  13.88726522  10.03162255  20.93105915   7.44936831\n",
        "   3.64695761   7.22020178   5.9962782   18.43381853   8.39408045\n",
        "  14.08371047  15.02195699  20.35836418  20.57036347  19.60636679]\n"
       ]
      }
     ],
     "prompt_number": 32
    },
    {
     "cell_type": "code",
     "collapsed": false,
     "input": [
      "## Just understandings metrics in python\n",
      "\n",
      "# define true and predicted response values\n",
      "true = [100, 50, 30, 20]\n",
      "pred = [90, 50, 50, 30]\n",
      "\n",
      "# MAE: Mea Absolute Error\n",
      "print(\"MAE: Mean abs error:\")\n",
      "\n",
      "# calculate MAE by hand. \n",
      "print (10 + 0 + 20 + 10)/4.\n",
      "\n",
      "# calculate MAE using scikit-learn\n",
      "from sklearn import metrics\n",
      "print metrics.mean_absolute_error(true, pred)\n",
      "\n",
      "print(\"MSE:\")\n",
      "\n",
      "# calculate MSE by hand\n",
      "print (10**2 + 0**2 + 20**2 + 10**2)/4.\n",
      "\n",
      "# calculate MSE using scikit-learn\n",
      "print metrics.mean_squared_error(true, pred)\n",
      "\n",
      "print(\"RMSE:\")\n",
      "\n",
      "# calculate RMSE by hand\n",
      "import numpy as np\n",
      "print np.sqrt((10**2 + 0**2 + 20**2 + 10**2)/4.)\n",
      "\n",
      "# calculate RMSE using scikit-learn\n",
      "print np.sqrt(metrics.mean_squared_error(true, pred))\n"
     ],
     "language": "python",
     "metadata": {},
     "outputs": [
      {
       "output_type": "stream",
       "stream": "stdout",
       "text": [
        "MAE: Mean abs error:\n",
        "10.0\n",
        "10.0\n",
        "MSE:\n",
        "150.0\n",
        "150.0\n",
        "RMSE:\n",
        "12.2474487139\n",
        "12.2474487139\n"
       ]
      }
     ],
     "prompt_number": 33
    },
    {
     "cell_type": "code",
     "collapsed": false,
     "input": [
      "print np.sqrt(metrics.mean_squared_error(y_test, y_pred))"
     ],
     "language": "python",
     "metadata": {},
     "outputs": [
      {
       "output_type": "stream",
       "stream": "stdout",
       "text": [
        "1.40465142303\n"
       ]
      }
     ],
     "prompt_number": 38
    },
    {
     "cell_type": "code",
     "collapsed": false,
     "input": [
      "from ggplot import *\n",
      "diamonds.head()"
     ],
     "language": "python",
     "metadata": {},
     "outputs": [
      {
       "html": [
        "<div style=\"max-width:1500px;overflow:auto;\">\n",
        "<table border=\"1\" class=\"dataframe\">\n",
        "  <thead>\n",
        "    <tr style=\"text-align: right;\">\n",
        "      <th></th>\n",
        "      <th>carat</th>\n",
        "      <th>cut</th>\n",
        "      <th>color</th>\n",
        "      <th>clarity</th>\n",
        "      <th>depth</th>\n",
        "      <th>table</th>\n",
        "      <th>price</th>\n",
        "      <th>x</th>\n",
        "      <th>y</th>\n",
        "      <th>z</th>\n",
        "    </tr>\n",
        "  </thead>\n",
        "  <tbody>\n",
        "    <tr>\n",
        "      <th>0</th>\n",
        "      <td>0.23</td>\n",
        "      <td>Ideal</td>\n",
        "      <td>E</td>\n",
        "      <td>SI2</td>\n",
        "      <td>61.5</td>\n",
        "      <td>55</td>\n",
        "      <td>326</td>\n",
        "      <td>3.95</td>\n",
        "      <td>3.98</td>\n",
        "      <td>2.43</td>\n",
        "    </tr>\n",
        "    <tr>\n",
        "      <th>1</th>\n",
        "      <td>0.21</td>\n",
        "      <td>Premium</td>\n",
        "      <td>E</td>\n",
        "      <td>SI1</td>\n",
        "      <td>59.8</td>\n",
        "      <td>61</td>\n",
        "      <td>326</td>\n",
        "      <td>3.89</td>\n",
        "      <td>3.84</td>\n",
        "      <td>2.31</td>\n",
        "    </tr>\n",
        "    <tr>\n",
        "      <th>2</th>\n",
        "      <td>0.23</td>\n",
        "      <td>Good</td>\n",
        "      <td>E</td>\n",
        "      <td>VS1</td>\n",
        "      <td>56.9</td>\n",
        "      <td>65</td>\n",
        "      <td>327</td>\n",
        "      <td>4.05</td>\n",
        "      <td>4.07</td>\n",
        "      <td>2.31</td>\n",
        "    </tr>\n",
        "    <tr>\n",
        "      <th>3</th>\n",
        "      <td>0.29</td>\n",
        "      <td>Premium</td>\n",
        "      <td>I</td>\n",
        "      <td>VS2</td>\n",
        "      <td>62.4</td>\n",
        "      <td>58</td>\n",
        "      <td>334</td>\n",
        "      <td>4.20</td>\n",
        "      <td>4.23</td>\n",
        "      <td>2.63</td>\n",
        "    </tr>\n",
        "    <tr>\n",
        "      <th>4</th>\n",
        "      <td>0.31</td>\n",
        "      <td>Good</td>\n",
        "      <td>J</td>\n",
        "      <td>SI2</td>\n",
        "      <td>63.3</td>\n",
        "      <td>58</td>\n",
        "      <td>335</td>\n",
        "      <td>4.34</td>\n",
        "      <td>4.35</td>\n",
        "      <td>2.75</td>\n",
        "    </tr>\n",
        "  </tbody>\n",
        "</table>\n",
        "</div>"
       ],
       "metadata": {},
       "output_type": "pyout",
       "prompt_number": 34,
       "text": [
        "   carat      cut color clarity  depth  table  price     x     y     z\n",
        "0   0.23    Ideal     E     SI2   61.5     55    326  3.95  3.98  2.43\n",
        "1   0.21  Premium     E     SI1   59.8     61    326  3.89  3.84  2.31\n",
        "2   0.23     Good     E     VS1   56.9     65    327  4.05  4.07  2.31\n",
        "3   0.29  Premium     I     VS2   62.4     58    334  4.20  4.23  2.63\n",
        "4   0.31     Good     J     SI2   63.3     58    335  4.34  4.35  2.75"
       ]
      }
     ],
     "prompt_number": 34
    },
    {
     "cell_type": "markdown",
     "metadata": {},
     "source": [
      "# Testing ggplot in python"
     ]
    },
    {
     "cell_type": "code",
     "collapsed": false,
     "input": [
      "p = ggplot(aes(x='date', y='beef'), data=meat)\n",
      "p = p + geom_point() + stat_smooth(color='blue')\n",
      "p"
     ],
     "language": "python",
     "metadata": {},
     "outputs": [
      {
       "metadata": {},
       "output_type": "display_data",
       "png": "[encoded data removed]",
       "text": [
        "<matplotlib.figure.Figure at 0x7f7cb2ac4a90>"
       ]
      },
      {
       "metadata": {},
       "output_type": "pyout",
       "prompt_number": 35,
       "text": [
        "<ggplot: (8760854574325)>"
       ]
      }
     ],
     "prompt_number": 35
    },
    {
     "cell_type": "markdown",
     "metadata": {},
     "source": [
      "# Video 7: Cross-validation for parameter tuning, model selection, and feature selection"
     ]
    },
    {
     "cell_type": "code",
     "collapsed": false,
     "input": [
      "from sklearn.datasets import load_iris\n",
      "from sklearn.cross_validation import train_test_split\n",
      "from sklearn.neighbors import KNeighborsClassifier\n",
      "from sklearn import metrics\n",
      "\n",
      "# read in the iris data\n",
      "iris = load_iris()\n",
      "\n",
      "# create X (features) and y (response)\n",
      "X = iris.data\n",
      "y = iris.target\n",
      "\n",
      "# use train/test split with different random_state values\n",
      "X_train, X_test, y_train, y_test = train_test_split(X, y, random_state=4)\n",
      "\n",
      "# check classification accuracy of KNN with K=5\n",
      "knn = KNeighborsClassifier(n_neighbors=5)\n",
      "knn.fit(X_train, y_train)\n",
      "y_pred = knn.predict(X_test)\n",
      "print metrics.accuracy_score(y_test, y_pred)\n"
     ],
     "language": "python",
     "metadata": {},
     "outputs": [
      {
       "output_type": "stream",
       "stream": "stdout",
       "text": [
        "0.973684210526\n"
       ]
      }
     ],
     "prompt_number": 46
    },
    {
     "cell_type": "code",
     "collapsed": false,
     "input": [
      "# simulate splitting a dataset of 25 observations into 5 folds\n",
      "from sklearn.cross_validation import KFold\n",
      "kf = KFold(25, n_folds=5, shuffle=False)\n",
      "\n",
      "# print the contents of each training and testing set\n",
      "print '{} {:^61} {}'.format('Iteration', 'Training set observations', 'Testing set observations')\n",
      "for iteration, data in enumerate(kf, start=1):\n",
      "    print '{:^9} {} {:^25}'.format(iteration, data[0], data[1])"
     ],
     "language": "python",
     "metadata": {},
     "outputs": [
      {
       "output_type": "stream",
       "stream": "stdout",
       "text": [
        "Iteration                   Training set observations                   Testing set observations\n",
        "    1     [ 5  6  7  8  9 10 11 12 13 14 15 16 17 18 19 20 21 22 23 24]        [0 1 2 3 4]       \n",
        "    2     [ 0  1  2  3  4 10 11 12 13 14 15 16 17 18 19 20 21 22 23 24]        [5 6 7 8 9]       \n",
        "    3     [ 0  1  2  3  4  5  6  7  8  9 15 16 17 18 19 20 21 22 23 24]     [10 11 12 13 14]     \n",
        "    4     [ 0  1  2  3  4  5  6  7  8  9 10 11 12 13 14 20 21 22 23 24]     [15 16 17 18 19]     \n",
        "    5     [ 0  1  2  3  4  5  6  7  8  9 10 11 12 13 14 15 16 17 18 19]     [20 21 22 23 24]     \n"
       ]
      }
     ],
     "prompt_number": 53
    },
    {
     "cell_type": "markdown",
     "metadata": {},
     "source": [
      "## Cross-validation recommendations\n",
      "\n",
      "    1. K can be any number, but K=10 is generally recommended\n",
      "    2. For classification problems, stratified sampling is recommended for creating the folds\n",
      "       * Each response class should be represented with equal proportions in each of the K folds\n",
      "       * scikit-learn's cross_val_score function does this by default"
     ]
    },
    {
     "cell_type": "code",
     "collapsed": false,
     "input": [
      "from sklearn.cross_validation import cross_val_score\n",
      "\n",
      "# 10-fold cross-validation with K=5 for KNN (the n_neighbors parameter)\n",
      "knn = KNeighborsClassifier(n_neighbors=5)\n",
      "scores = cross_val_score(knn, X, y, cv=10, scoring='accuracy')\n",
      "\n",
      "print \"Scores:\"\n",
      "print scores\n",
      "\n",
      "# use average accuracy as an estimate of out-of-sample accuracy\n",
      "print \"Mean scores:\"\n",
      "print scores.mean()"
     ],
     "language": "python",
     "metadata": {},
     "outputs": [
      {
       "output_type": "stream",
       "stream": "stdout",
       "text": [
        "Scores:\n",
        "[ 1.          0.93333333  1.          1.          0.86666667  0.93333333\n",
        "  0.93333333  1.          1.          1.        ]\n",
        "Mean scores:\n",
        "0.966666666667\n"
       ]
      }
     ],
     "prompt_number": 52
    },
    {
     "cell_type": "code",
     "collapsed": false,
     "input": [
      "# search for an optimal value of K for KNN\n",
      "k_range = range(1, 31)\n",
      "k_scores = []\n",
      "for k in k_range:\n",
      "    knn = KNeighborsClassifier(n_neighbors=k)\n",
      "    scores = cross_val_score(knn, X, y, cv=10, scoring='accuracy')\n",
      "    k_scores.append(scores.mean())\n",
      "\n",
      "import matplotlib.pyplot as plt\n",
      "%matplotlib inline\n",
      "\n",
      "# plot the value of K for KNN (x-axis) versus the cross-validated accuracy (y-axis)\n",
      "plt.plot(k_range, k_scores)\n",
      "plt.xlabel('Value of K for KNN')\n",
      "plt.ylabel('Cross-Validated Accuracy')"
     ],
     "language": "python",
     "metadata": {},
     "outputs": [
      {
       "metadata": {},
       "output_type": "pyout",
       "prompt_number": 60,
       "text": [
        "<matplotlib.text.Text at 0x7fd0111acb90>"
       ]
      },
      {
       "metadata": {},
       "output_type": "display_data",
       "png": "[encoded data removed]",
       "text": [
        "<matplotlib.figure.Figure at 0x7fd011191410>"
       ]
      }
     ],
     "prompt_number": 60
    },
    {
     "cell_type": "markdown",
     "metadata": {},
     "source": [
      "## comparing best KNN with logisc regression"
     ]
    },
    {
     "cell_type": "code",
     "collapsed": false,
     "input": [
      "# 10-fold cross-validation with the best KNN model\n",
      "knn = KNeighborsClassifier(n_neighbors=20)\n",
      "\n",
      "print \"knn mean score:\"\n",
      "print cross_val_score(knn, X, y, cv=10, scoring='accuracy').mean()\n",
      "\n",
      "# 10-fold cross-validation with logistic regression\n",
      "from sklearn.linear_model import LogisticRegression\n",
      "logreg = LogisticRegression()\n",
      "\n",
      "print \"logisc regression mean score:\"\n",
      "print cross_val_score(logreg, X, y, cv=10, scoring='accuracy').mean()"
     ],
     "language": "python",
     "metadata": {},
     "outputs": [
      {
       "output_type": "stream",
       "stream": "stdout",
       "text": [
        "knn mean score:\n",
        "0.98\n",
        "logisc regression mean score:\n",
        "0.953333333333\n"
       ]
      }
     ],
     "prompt_number": 62
    },
    {
     "cell_type": "markdown",
     "metadata": {},
     "source": [
      "## Cross-validation example: feature selection"
     ]
    },
    {
     "cell_type": "code",
     "collapsed": false,
     "input": [
      "import pandas as pd\n",
      "import numpy as np\n",
      "from sklearn.linear_model import LinearRegression\n",
      "\n",
      "# read in the advertising dataset\n",
      "data = pd.read_csv('http://www-bcf.usc.edu/~gareth/ISL/Advertising.csv', index_col=0)\n",
      "\n",
      "# create a Python list of three feature names\n",
      "feature_cols = ['TV', 'Radio', 'Newspaper']\n",
      "\n",
      "# use the list to select a subset of the DataFrame (X)\n",
      "X = data[feature_cols]\n",
      "\n",
      "# select the Sales column as the response (y)\n",
      "y = data.Sales\n",
      "\n",
      "# 10-fold cross-validation with all three features\n",
      "lm = LinearRegression()\n",
      "\n",
      "scores = cross_val_score(lm, X, y, cv=10, scoring='mean_squared_error')\n",
      "print scores\n",
      "\n",
      "# fix the sign of MSE scores\n",
      "mse_scores = -scores\n",
      "\n",
      "# convert from MSE to RMSE\n",
      "rmse_scores = np.sqrt(mse_scores)\n",
      "\n",
      "# 10-fold cross-validation with two features (excluding Newspaper)\n",
      "feature_cols = ['TV', 'Radio']\n",
      "X = data[feature_cols]\n",
      "\n",
      "print \"Features TV , Radio mean scores: \"\n",
      "print np.sqrt(-cross_val_score(lm, X, y, cv=10, scoring='mean_squared_error')).mean()\n",
      "\n",
      "print \"All features  mean scores: \"\n",
      "# calculate the average RMSE\n",
      "print rmse_scores.mean()"
     ],
     "language": "python",
     "metadata": {},
     "outputs": [
      {
       "output_type": "stream",
       "stream": "stdout",
       "text": [
        "[-3.56038438 -3.29767522 -2.08943356 -2.82474283 -1.3027754  -1.74163618\n",
        " -8.17338214 -2.11409746 -3.04273109 -2.45281793]\n",
        "Features TV , Radio mean scores: \n",
        "1.67967484191\n",
        "All features  mean scores: \n",
        "1.69135317081\n"
       ]
      },
      {
       "html": [
        "<div style=\"max-width:1500px;overflow:auto;\">\n",
        "<table border=\"1\" class=\"dataframe\">\n",
        "  <thead>\n",
        "    <tr style=\"text-align: right;\">\n",
        "      <th></th>\n",
        "      <th>TV</th>\n",
        "      <th>Radio</th>\n",
        "      <th>Newspaper</th>\n",
        "      <th>Sales</th>\n",
        "    </tr>\n",
        "  </thead>\n",
        "  <tbody>\n",
        "    <tr>\n",
        "      <th>1</th>\n",
        "      <td>230.1</td>\n",
        "      <td>37.8</td>\n",
        "      <td>69.2</td>\n",
        "      <td>22.1</td>\n",
        "    </tr>\n",
        "    <tr>\n",
        "      <th>2</th>\n",
        "      <td>44.5</td>\n",
        "      <td>39.3</td>\n",
        "      <td>45.1</td>\n",
        "      <td>10.4</td>\n",
        "    </tr>\n",
        "    <tr>\n",
        "      <th>3</th>\n",
        "      <td>17.2</td>\n",
        "      <td>45.9</td>\n",
        "      <td>69.3</td>\n",
        "      <td>9.3</td>\n",
        "    </tr>\n",
        "    <tr>\n",
        "      <th>4</th>\n",
        "      <td>151.5</td>\n",
        "      <td>41.3</td>\n",
        "      <td>58.5</td>\n",
        "      <td>18.5</td>\n",
        "    </tr>\n",
        "    <tr>\n",
        "      <th>5</th>\n",
        "      <td>180.8</td>\n",
        "      <td>10.8</td>\n",
        "      <td>58.4</td>\n",
        "      <td>12.9</td>\n",
        "    </tr>\n",
        "  </tbody>\n",
        "</table>\n",
        "</div>"
       ],
       "metadata": {},
       "output_type": "pyout",
       "prompt_number": 93,
       "text": [
        "      TV  Radio  Newspaper  Sales\n",
        "1  230.1   37.8       69.2   22.1\n",
        "2   44.5   39.3       45.1   10.4\n",
        "3   17.2   45.9       69.3    9.3\n",
        "4  151.5   41.3       58.5   18.5\n",
        "5  180.8   10.8       58.4   12.9"
       ]
      }
     ],
     "prompt_number": 93
    },
    {
     "cell_type": "markdown",
     "metadata": {},
     "source": [
      "# Video 8 Grid Search\n",
      "\n",
      "## More efficient parameter tuning using GridSearchCV\n",
      "\n",
      "Allows you to define a grid of parameters that will be searched using K-fold cross-validation\n"
     ]
    },
    {
     "cell_type": "code",
     "collapsed": false,
     "input": [
      "# read in the iris data\n",
      "iris = load_iris()\n",
      "\n",
      "# create X (features) and y (response)\n",
      "X = iris.data\n",
      "y = iris.target\n",
      "\n",
      "# 10-fold cross-validation with K=5 for KNN (the n_neighbors parameter)\n",
      "knn = KNeighborsClassifier(n_neighbors=5)\n",
      "scores = cross_val_score(knn, X, y, cv=10, scoring='accuracy')\n",
      "\n",
      "# use average accuracy as an estimate of out-of-sample accuracy\n",
      "print scores.mean()\n",
      "\n",
      "from sklearn.grid_search import GridSearchCV\n",
      "\n",
      "# define the parameter values that should be searched\n",
      "k_range = range(1, 31)\n",
      "print k_range\n",
      "\n",
      "# create a parameter grid: map the parameter names to the values that should be searched\n",
      "param_grid = dict(n_neighbors=k_range)\n",
      "print param_grid\n",
      "\n",
      "# instantiate the grid\n",
      "# n_jobs = -1 to run computations in parallel (if supported by your computer and OS)\n",
      "grid = GridSearchCV(knn, param_grid, cv=10, scoring='accuracy',n_jobs=-1)\n",
      "\n",
      "# fit the grid with data\n",
      "grid.fit(X, y)\n",
      "\n",
      "# view the complete results (list of named tuples)\n",
      "grid.grid_scores_"
     ],
     "language": "python",
     "metadata": {},
     "outputs": [
      {
       "output_type": "stream",
       "stream": "stdout",
       "text": [
        "0.966666666667\n",
        "[1, 2, 3, 4, 5, 6, 7, 8, 9, 10, 11, 12, 13, 14, 15, 16, 17, 18, 19, 20, 21, 22, 23, 24, 25, 26, 27, 28, 29, 30]\n",
        "{'n_neighbors': [1, 2, 3, 4, 5, 6, 7, 8, 9, 10, 11, 12, 13, 14, 15, 16, 17, 18, 19, 20, 21, 22, 23, 24, 25, 26, 27, 28, 29, 30]}\n"
       ]
      },
      {
       "metadata": {},
       "output_type": "pyout",
       "prompt_number": 73,
       "text": [
        "[mean: 0.96000, std: 0.05333, params: {'n_neighbors': 1},\n",
        " mean: 0.95333, std: 0.05207, params: {'n_neighbors': 2},\n",
        " mean: 0.96667, std: 0.04472, params: {'n_neighbors': 3},\n",
        " mean: 0.96667, std: 0.04472, params: {'n_neighbors': 4},\n",
        " mean: 0.96667, std: 0.04472, params: {'n_neighbors': 5},\n",
        " mean: 0.96667, std: 0.04472, params: {'n_neighbors': 6},\n",
        " mean: 0.96667, std: 0.04472, params: {'n_neighbors': 7},\n",
        " mean: 0.96667, std: 0.04472, params: {'n_neighbors': 8},\n",
        " mean: 0.97333, std: 0.03266, params: {'n_neighbors': 9},\n",
        " mean: 0.96667, std: 0.04472, params: {'n_neighbors': 10},\n",
        " mean: 0.96667, std: 0.04472, params: {'n_neighbors': 11},\n",
        " mean: 0.97333, std: 0.03266, params: {'n_neighbors': 12},\n",
        " mean: 0.98000, std: 0.03055, params: {'n_neighbors': 13},\n",
        " mean: 0.97333, std: 0.04422, params: {'n_neighbors': 14},\n",
        " mean: 0.97333, std: 0.03266, params: {'n_neighbors': 15},\n",
        " mean: 0.97333, std: 0.03266, params: {'n_neighbors': 16},\n",
        " mean: 0.97333, std: 0.03266, params: {'n_neighbors': 17},\n",
        " mean: 0.98000, std: 0.03055, params: {'n_neighbors': 18},\n",
        " mean: 0.97333, std: 0.03266, params: {'n_neighbors': 19},\n",
        " mean: 0.98000, std: 0.03055, params: {'n_neighbors': 20},\n",
        " mean: 0.96667, std: 0.03333, params: {'n_neighbors': 21},\n",
        " mean: 0.96667, std: 0.03333, params: {'n_neighbors': 22},\n",
        " mean: 0.97333, std: 0.03266, params: {'n_neighbors': 23},\n",
        " mean: 0.96000, std: 0.04422, params: {'n_neighbors': 24},\n",
        " mean: 0.96667, std: 0.03333, params: {'n_neighbors': 25},\n",
        " mean: 0.96000, std: 0.04422, params: {'n_neighbors': 26},\n",
        " mean: 0.96667, std: 0.04472, params: {'n_neighbors': 27},\n",
        " mean: 0.95333, std: 0.04269, params: {'n_neighbors': 28},\n",
        " mean: 0.95333, std: 0.04269, params: {'n_neighbors': 29},\n",
        " mean: 0.95333, std: 0.04269, params: {'n_neighbors': 30}]"
       ]
      }
     ],
     "prompt_number": 73
    },
    {
     "cell_type": "code",
     "collapsed": false,
     "input": [
      "# examine the first tuple\n",
      "print grid.grid_scores_[0].parameters\n",
      "print grid.grid_scores_[0].cv_validation_scores\n",
      "print grid.grid_scores_[0].mean_validation_score"
     ],
     "language": "python",
     "metadata": {},
     "outputs": [
      {
       "output_type": "stream",
       "stream": "stdout",
       "text": [
        "{'n_neighbors': 1}\n",
        "[ 1.          0.93333333  1.          0.93333333  0.86666667  1.\n",
        "  0.86666667  1.          1.          1.        ]\n",
        "0.96\n"
       ]
      }
     ],
     "prompt_number": 74
    },
    {
     "cell_type": "code",
     "collapsed": false,
     "input": [
      "# create a list of the mean scores only\n",
      "grid_mean_scores = [result.mean_validation_score for result in grid.grid_scores_]\n",
      "\n",
      "# plot the results\n",
      "plt.plot(k_range, grid_mean_scores)\n",
      "plt.xlabel('Value of K for KNN')\n",
      "plt.ylabel('Cross-Validated Accuracy')\n"
     ],
     "language": "python",
     "metadata": {},
     "outputs": [
      {
       "metadata": {},
       "output_type": "pyout",
       "prompt_number": 76,
       "text": [
        "<matplotlib.text.Text at 0x7fd010fb6750>"
       ]
      },
      {
       "metadata": {},
       "output_type": "display_data",
       "png": "[encoded data removed]",
       "text": [
        "<matplotlib.figure.Figure at 0x7fd0110dcf90>"
       ]
      }
     ],
     "prompt_number": 76
    },
    {
     "cell_type": "code",
     "collapsed": false,
     "input": [
      "# examine the best model\n",
      "print grid.best_score_\n",
      "print grid.best_params_\n",
      "print grid.best_estimator_"
     ],
     "language": "python",
     "metadata": {},
     "outputs": [
      {
       "output_type": "stream",
       "stream": "stdout",
       "text": [
        "0.98\n",
        "{'n_neighbors': 13}\n",
        "KNeighborsClassifier(algorithm='auto', leaf_size=30, metric='minkowski',\n",
        "           metric_params=None, n_neighbors=13, p=2, weights='uniform')\n"
       ]
      }
     ],
     "prompt_number": 78
    },
    {
     "cell_type": "markdown",
     "metadata": {},
     "source": [
      "## Searching multiple parameters simultaneously\n",
      "\n",
      "    Example: tuning max_depth and min_samples_leaf for a DecisionTreeClassifier\n",
      "   \n",
      "    Could tune parameters independently: change max_depth while leaving min_samples_leaf at its default value, and vice versa\n",
      "    But, best performance might be achieved when neither parameter is at its default value\n"
     ]
    },
    {
     "cell_type": "code",
     "collapsed": false,
     "input": [
      "# define the parameter values that should be searched\n",
      "k_range = range(1, 31)\n",
      "weight_options = ['uniform', 'distance']\n",
      "\n",
      "# create a parameter grid: map the parameter names to the values that should be searched\n",
      "param_grid = dict(n_neighbors=k_range, weights=weight_options)\n",
      "print param_grid\n",
      "\n",
      "# instantiate and fit the grid\n",
      "grid = GridSearchCV(knn, param_grid, cv=10, scoring='accuracy')\n",
      "grid.fit(X, y)\n",
      "\n",
      "# view the complete results\n",
      "grid.grid_scores_[:7]\n",
      "\n",
      "# examine the best model\n",
      "print \"Best model:\"\n",
      "print grid.best_score_\n",
      "print grid.best_params_"
     ],
     "language": "python",
     "metadata": {},
     "outputs": [
      {
       "output_type": "stream",
       "stream": "stdout",
       "text": [
        "{'n_neighbors': [1, 2, 3, 4, 5, 6, 7, 8, 9, 10, 11, 12, 13, 14, 15, 16, 17, 18, 19, 20, 21, 22, 23, 24, 25, 26, 27, 28, 29, 30], 'weights': ['uniform', 'distance']}\n",
        "Best model:"
       ]
      },
      {
       "output_type": "stream",
       "stream": "stdout",
       "text": [
        "\n",
        "0.98\n",
        "{'n_neighbors': 13, 'weights': 'uniform'}\n"
       ]
      }
     ],
     "prompt_number": 82
    },
    {
     "cell_type": "code",
     "collapsed": false,
     "input": [
      "# Using the best model\n",
      "\n",
      "# train your model using all data and the best known parameters\n",
      "knn = KNeighborsClassifier(n_neighbors=13, weights='uniform')\n",
      "knn.fit(X, y)\n",
      "\n",
      "# make a prediction on out-of-sample data\n",
      "print knn.predict([3, 5, 4, 2])\n",
      "\n",
      "# shortcut: GridSearchCV automatically refits the best model using all of the data\n",
      "print grid.predict([3, 5, 4, 2])"
     ],
     "language": "python",
     "metadata": {},
     "outputs": [
      {
       "output_type": "stream",
       "stream": "stdout",
       "text": [
        "[1]\n",
        "[1]\n"
       ]
      }
     ],
     "prompt_number": 87
    },
    {
     "cell_type": "markdown",
     "metadata": {},
     "source": [
      "## Reducing computational expense using RandomizedSearchCV"
     ]
    },
    {
     "cell_type": "code",
     "collapsed": false,
     "input": [
      "from sklearn.grid_search import RandomizedSearchCV\n",
      "\n",
      "## Important: Specify a continuous distribution (rather than a list of values) for any continous parameters\n",
      "# specify \"parameter distributions\" rather than a \"parameter grid\"\n",
      "param_dist = dict(n_neighbors=k_range, weights=weight_options)\n",
      "\n",
      "# n_iter controls the number of searches\n",
      "rand = RandomizedSearchCV(knn, param_dist, cv=10, scoring='accuracy', n_iter=10, random_state=5)\n",
      "rand.fit(X, y)\n",
      "rand.grid_scores_[:7]\n"
     ],
     "language": "python",
     "metadata": {},
     "outputs": [
      {
       "metadata": {},
       "output_type": "pyout",
       "prompt_number": 89,
       "text": [
        "[mean: 0.97333, std: 0.03266, params: {'n_neighbors': 18, 'weights': 'distance'},\n",
        " mean: 0.96667, std: 0.04472, params: {'n_neighbors': 8, 'weights': 'uniform'},\n",
        " mean: 0.97333, std: 0.03266, params: {'n_neighbors': 24, 'weights': 'distance'},\n",
        " mean: 0.98000, std: 0.03055, params: {'n_neighbors': 20, 'weights': 'uniform'},\n",
        " mean: 0.95333, std: 0.04269, params: {'n_neighbors': 28, 'weights': 'uniform'},\n",
        " mean: 0.97333, std: 0.03266, params: {'n_neighbors': 9, 'weights': 'uniform'},\n",
        " mean: 0.96667, std: 0.04472, params: {'n_neighbors': 5, 'weights': 'distance'}]"
       ]
      }
     ],
     "prompt_number": 89
    },
    {
     "cell_type": "code",
     "collapsed": false,
     "input": [
      "# examine the best model\n",
      "print rand.best_score_\n",
      "print rand.best_params_"
     ],
     "language": "python",
     "metadata": {},
     "outputs": [
      {
       "output_type": "stream",
       "stream": "stdout",
       "text": [
        "0.98\n",
        "{'n_neighbors': 20, 'weights': 'uniform'}\n"
       ]
      }
     ],
     "prompt_number": 91
    }
   ],
   "metadata": {}
  }
 ]
}