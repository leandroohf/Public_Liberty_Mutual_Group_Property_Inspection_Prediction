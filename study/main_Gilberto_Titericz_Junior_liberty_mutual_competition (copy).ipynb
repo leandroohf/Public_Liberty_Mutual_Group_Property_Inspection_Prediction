{
 "metadata": {
  "name": ""
 },
 "nbformat": 3,
 "nbformat_minor": 0,
 "worksheets": [
  {
   "cells": [
    {
     "cell_type": "markdown",
     "metadata": {},
     "source": [
      "\n",
      "# Codigo para estudar na competicao liberty_mutual_competition\n",
      "\n",
      "'''\n",
      "This benchmark uses xgboost and early stopping to achieve a score of 0.38019\n",
      "In the liberty mutual group: property inspection challenge\n",
      "\n",
      "Based on Abhishek Catapillar benchmark\n",
      "https://www.kaggle.com/abhishek/caterpillar-tube-pricing/beating-the-benchmark-v1-0\n",
      "\n",
      "@author Devin\n",
      "\n",
      "Have fun;)\n",
      "'''\n",
      "Gilberto Titericz Junior, Brasileiro 2o no ranking tambem estah estudando este codigo: https://www.kaggle.com/titericz/liberty-mutual-group-property-inspection-prediction/done-done-3\n",
      " \n",
      "Parece que este codigo nao eh do Brasileiro. Outro (Devin 10 do rank kaggle: ) usuario usa codigo semelhante e cita como autor Abhishek\n",
      "\n",
      "Devin: https://www.kaggle.com/owenzhang1/liberty-mutual-group-property-inspection-prediction/nominal-ordinal-syndrome-00\n",
      "Abhishek: https://www.kaggle.com/abhishek/caterpillar-tube-pricing/beating-the-benchmark-v1-0\n"
     ]
    },
    {
     "cell_type": "code",
     "collapsed": false,
     "input": [
      "%cd ~/Documents/kaggle/Liberty_Mutual_Group_Property_Inspection_Prediction/"
     ],
     "language": "python",
     "metadata": {},
     "outputs": [
      {
       "output_type": "stream",
       "stream": "stdout",
       "text": [
        "/home/leandroohf/Documents/kaggle/Liberty_Mutual_Group_Property_Inspection_Prediction\n"
       ]
      }
     ],
     "prompt_number": 2
    },
    {
     "cell_type": "code",
     "collapsed": false,
     "input": [
      "import pandas as pd\n",
      "import numpy as np \n",
      "from sklearn import preprocessing\n",
      "import xgboost as xgb\n",
      "\n",
      "#load train and test \n",
      "train  = pd.read_csv('data/raw/train.csv', index_col=0)\n",
      "test  = pd.read_csv('data/raw/test.csv', index_col=0)\n",
      "\n",
      "print train.head()\n",
      "print \"==========================\"\n",
      "print test.head()"
     ],
     "language": "python",
     "metadata": {},
     "outputs": [
      {
       "output_type": "stream",
       "stream": "stdout",
       "text": [
        "    Hazard  T1_V1  T1_V2  T1_V3 T1_V4 T1_V5 T1_V6 T1_V7 T1_V8 T1_V9   ...    \\\n",
        "Id                                                                    ...     \n",
        "1        1     15      3      2     N     B     N     B     B     D   ...     \n",
        "2        4     16     14      5     H     B     N     B     B     C   ...     \n",
        "3        1     10     10      5     N     K     N     B     B     E   ...     \n",
        "4        1     18     18      5     N     K     N     B     B     E   ...     \n",
        "5        1     13     19      5     N     H     N     B     B     E   ...     \n",
        "\n",
        "    T2_V6 T2_V7 T2_V8  T2_V9  T2_V10 T2_V11 T2_V12 T2_V13  T2_V14  T2_V15  \n",
        "Id                                                                         \n",
        "1       2    37     1     11       6      Y      N      E       2       2  \n",
        "2       2    22     1     18       5      Y      Y      E       2       1  \n",
        "3       6    37     2     14       6      Y      Y      E       6       1  \n",
        "4       2    25     1      1       6      Y      N      C       2       6  \n",
        "5       1    22     1      2       7      N      N      E       1       1  \n",
        "\n",
        "[5 rows x 33 columns]\n",
        "==========================\n",
        "    T1_V1  T1_V2  T1_V3 T1_V4 T1_V5 T1_V6 T1_V7 T1_V8 T1_V9  T1_V10  ...    \\\n",
        "Id                                                                   ...     \n",
        "6       2     13      4     C     A     Y     B     B     D      12  ...     \n",
        "7      10     10      7     N     C     Y     B     B     D       8  ...     \n",
        "8       9     20      4     N     H     Y     B     B     E       8  ...     \n",
        "9      11     18      2     N     H     Y     B     B     D      12  ...     \n",
        "10      4      5      4     H     K     Y     B     B     E       8  ...     \n",
        "\n",
        "   T2_V6 T2_V7  T2_V8  T2_V9 T2_V10 T2_V11 T2_V12  T2_V13  T2_V14 T2_V15  \n",
        "Id                                                                        \n",
        "6      2    28      1     22      6      Y      N       E       2      7  \n",
        "7      3    28      1      4      3      Y      N       E       5      8  \n",
        "8      2    22      1      1      7      N      N       C       6      1  \n",
        "9      4    40      1     20      6      Y      N       E       5      5  \n",
        "10     2    34      1     11      7      Y      Y       E       2      1  \n",
        "\n",
        "[5 rows x 32 columns]\n"
       ]
      }
     ],
     "prompt_number": 3
    },
    {
     "cell_type": "code",
     "collapsed": false,
     "input": [
      "labels = train.Hazard\n",
      "#train.drop('Hazard', axis=1, inplace=True)\n",
      "print \"Harzard\"\n",
      "print labels.head()\n",
      "print labels.astype('category').describe()\n",
      "#print labels.value_counts()\n",
      "%matplotlib inline\n",
      "labels.hist(bins=69)"
     ],
     "language": "python",
     "metadata": {},
     "outputs": [
      {
       "output_type": "stream",
       "stream": "stdout",
       "text": [
        "Harzard\n",
        "Id\n",
        "1    1\n",
        "2    4\n",
        "3    1\n",
        "4    1\n",
        "5    1\n",
        "Name: Hazard, dtype: int64\n",
        "count     50999\n",
        "unique       50\n",
        "top           1\n",
        "freq      18981\n",
        "Name: Hazard, dtype: int64\n"
       ]
      },
      {
       "metadata": {},
       "output_type": "pyout",
       "prompt_number": 4,
       "text": [
        "<matplotlib.axes.AxesSubplot at 0x7f94d35ea8d0>"
       ]
      },
      {
       "metadata": {},
       "output_type": "display_data",
       "png": "[encoded data removed]",
       "text": [
        "<matplotlib.figure.Figure at 0x7f94d6546ed0>"
       ]
      }
     ],
     "prompt_number": 4
    },
    {
     "cell_type": "code",
     "collapsed": false,
     "input": [
      "print train.T1_V13.astype('category').describe()\n",
      "print train.T1_V13.head()\n",
      "print \"==================\"\n",
      "print train.T1_V10.astype('category').describe()\n",
      "train.T1_V1.hist()"
     ],
     "language": "python",
     "metadata": {},
     "outputs": [
      {
       "output_type": "stream",
       "stream": "stdout",
       "text": [
        "count     50999\n",
        "unique        4\n",
        "top          10\n",
        "freq      17713\n",
        "Name: T1_V13, dtype: int64\n",
        "Id\n",
        "1    15\n",
        "2    10\n",
        "3    15\n",
        "4    15\n",
        "5    10\n",
        "Name: T1_V13, dtype: int64\n",
        "==================\n",
        "count     50999\n",
        "unique        5\n",
        "top           8\n",
        "freq      13646\n",
        "Name: T1_V10, dtype: int64\n"
       ]
      },
      {
       "metadata": {},
       "output_type": "pyout",
       "prompt_number": 5,
       "text": [
        "<matplotlib.axes.AxesSubplot at 0x7f94d325efd0>"
       ]
      },
      {
       "metadata": {},
       "output_type": "display_data",
       "png": "[encoded data removed]",
       "text": [
        "<matplotlib.figure.Figure at 0x7f94d65e07d0>"
       ]
      }
     ],
     "prompt_number": 5
    },
    {
     "cell_type": "code",
     "collapsed": false,
     "input": [
      "train2 = train\n",
      "test2 = test\n",
      "\n",
      "train2.drop('Hazard', axis=1, inplace=True)\n",
      "train2.drop('T2_V10', axis=1, inplace=True)\n",
      "train2.drop('T2_V7', axis=1, inplace=True)\n",
      "train2.drop('T1_V13', axis=1, inplace=True)\n",
      "train2.drop('T1_V10', axis=1, inplace=True)\n",
      "\n",
      "test2.drop('T2_V10', axis=1, inplace=True)\n",
      "test2.drop('T2_V7', axis=1, inplace=True)\n",
      "test2.drop('T1_V13', axis=1, inplace=True)\n",
      "test2.drop('T1_V10', axis=1, inplace=True)"
     ],
     "language": "python",
     "metadata": {},
     "outputs": [],
     "prompt_number": 6
    },
    {
     "cell_type": "code",
     "collapsed": false,
     "input": [
      "columns = train.columns\n",
      "test_ind = test.index\n",
      "\n",
      "train3 = np.array(train)\n",
      "test3 = np.array(test)\n",
      "\n",
      "print columns\n",
      "print train3.shape"
     ],
     "language": "python",
     "metadata": {},
     "outputs": [
      {
       "output_type": "stream",
       "stream": "stdout",
       "text": [
        "Index([u'T1_V1', u'T1_V2', u'T1_V3', u'T1_V4', u'T1_V5', u'T1_V6', u'T1_V7',\n",
        "       u'T1_V8', u'T1_V9', u'T1_V11', u'T1_V12', u'T1_V14', u'T1_V15',\n",
        "       u'T1_V16', u'T1_V17', u'T2_V1', u'T2_V2', u'T2_V3', u'T2_V4', u'T2_V5',\n",
        "       u'T2_V6', u'T2_V8', u'T2_V9', u'T2_V11', u'T2_V12', u'T2_V13',\n",
        "       u'T2_V14', u'T2_V15'],\n",
        "      dtype='object')\n",
        "(50999, 28)\n"
       ]
      }
     ],
     "prompt_number": 7
    },
    {
     "cell_type": "markdown",
     "metadata": {},
     "source": [
      "# Ubderstnading LabelEncoder() first\n",
      "Using documentation examples"
     ]
    },
    {
     "cell_type": "code",
     "collapsed": false,
     "input": [
      "le = preprocessing.LabelEncoder()\n",
      "le.fit([1, 2, 2, 6])\n",
      "print le.classes_\n",
      "print le.transform([1, 1, 2, 6]) ## [1,1,2,6] =>[0,0,1,2]\n",
      "print le.inverse_transform([0, 0, 1, 2])\n",
      "\n",
      "#####\n",
      "print \"####################\"\n",
      "print \"Example with strings\"\n",
      "le.fit(['a', 'b', 'b', 'd'])\n",
      "print le.classes_\n",
      "print le.transform(['a', 'a', 'b', 'd']) \n",
      "print le.inverse_transform([0, 0, 1, 2])\n"
     ],
     "language": "python",
     "metadata": {},
     "outputs": [
      {
       "output_type": "stream",
       "stream": "stdout",
       "text": [
        "[1 2 6]\n",
        "[0 0 1 2]\n",
        "[1 1 2 6]\n",
        "####################\n",
        "Example with strings\n",
        "['a' 'b' 'd']\n",
        "[0 0 1 2]\n",
        "['a' 'a' 'b' 'd']\n"
       ]
      }
     ],
     "prompt_number": 48
    },
    {
     "cell_type": "code",
     "collapsed": false,
     "input": [
      "i = 1\n",
      "lbl = preprocessing.LabelEncoder()\n",
      "print train3[0:5,i]\n",
      "print columns[i]\n",
      "print train3[:,i].shape\n",
      "lbl.fit(list(train3[:,i]) + list(test3[:,i]))\n",
      "\n",
      "# label encode the categorical variables\n",
      "for i in range(train.shape[1]):\n",
      "    lbl = preprocessing.LabelEncoder()\n",
      "    lbl.fit(list(train3[:,i]) + list(test3[:,i]))\n",
      "    train3[:,i] = lbl.transform(train3[:,i])\n",
      "    test3[:,i] = lbl.transform(test3[:,i])\n",
      "\n",
      "train4 = train3.astype(float)\n",
      "test4 = test3.astype(float)\n",
      "\n",
      "train4.shape\n"
     ],
     "language": "python",
     "metadata": {},
     "outputs": [
      {
       "output_type": "stream",
       "stream": "stdout",
       "text": [
        "[3 14 10 18 19]\n",
        "T1_V2\n",
        "(50999,)\n"
       ]
      },
      {
       "metadata": {},
       "output_type": "pyout",
       "prompt_number": 8,
       "text": [
        "(50999, 28)"
       ]
      }
     ],
     "prompt_number": 8
    },
    {
     "cell_type": "code",
     "collapsed": false,
     "input": [
      "params = {}\n",
      "params[\"objective\"] = \"reg:linear\" \n",
      "params[\"eta\"] = 0.01\n",
      "params[\"min_child_weight\"] = 5\n",
      "params[\"subsample\"] = 0.8\n",
      "params[\"colsample_bytree\"] = 0.8\n",
      "params[\"scale_pos_weight\"] = 1.0\n",
      "params[\"silent\"] = 1\n",
      "params[\"max_depth\"] = 7\n",
      "\n",
      "plst = list(params.items())\n",
      "print \"Prameters list\"\n",
      "print plst\n",
      "\n",
      "#Using 5000 rows for early stopping. \n",
      "offset = 5000\n",
      "\n",
      "num_rounds = 2000\n",
      "xgtest = xgb.DMatrix(test4)\n",
      "\n",
      "#create a train and validation dmatrices \n",
      "xgtrain = xgb.DMatrix(train4[offset:,:], label=labels[offset:])\n",
      "xgval = xgb.DMatrix(train4[:offset,:], label=labels[:offset])\n",
      "\n",
      "print \"number of row xgtest\"\n",
      "print xgtest.num_row()\n",
      "\n",
      "print \"number of row xgtrain\"\n",
      "print xgtrain.num_row()\n"
     ],
     "language": "python",
     "metadata": {},
     "outputs": [
      {
       "output_type": "stream",
       "stream": "stdout",
       "text": [
        "Prameters list\n",
        "[('colsample_bytree', 0.8), ('silent', 1), ('scale_pos_weight', 1.0), ('min_child_weight', 5), ('subsample', 0.8), ('eta', 0.01), ('objective', 'reg:linear'), ('max_depth', 7)]\n",
        "number of row xgtest"
       ]
      },
      {
       "output_type": "stream",
       "stream": "stdout",
       "text": [
        "\n",
        "51000\n",
        "number of row xgtrain\n",
        "45999\n"
       ]
      }
     ],
     "prompt_number": 9
    },
    {
     "cell_type": "code",
     "collapsed": false,
     "input": [
      "#train using early stopping and predict\n",
      "watchlist = [(xgtrain, 'train'),(xgval, 'val')]\n",
      "model = xgb.train(plst, xgtrain, num_rounds, watchlist, early_stopping_rounds=4)"
     ],
     "language": "python",
     "metadata": {},
     "outputs": [
      {
       "output_type": "stream",
       "stream": "stderr",
       "text": [
        "Will train until val error hasn't decreased in 4 rounds.\n",
        "[0]\ttrain-rmse:5.325455\tval-rmse:5.268464\n"
       ]
      },
      {
       "output_type": "stream",
       "stream": "stderr",
       "text": [
        "[1]\ttrain-rmse:5.300395\tval-rmse:5.244005\n",
        "[2]\ttrain-rmse:5.274891\tval-rmse:5.218894\n",
        "[3]\ttrain-rmse:5.250195\tval-rmse:5.194514\n"
       ]
      },
      {
       "output_type": "stream",
       "stream": "stderr",
       "text": [
        "[4]\ttrain-rmse:5.225649\tval-rmse:5.170554\n",
        "[5]\ttrain-rmse:5.201301\tval-rmse:5.146911\n",
        "[6]\ttrain-rmse:5.177202\tval-rmse:5.123391\n"
       ]
      },
      {
       "output_type": "stream",
       "stream": "stderr",
       "text": [
        "[7]\ttrain-rmse:5.153928\tval-rmse:5.100470\n",
        "[8]\ttrain-rmse:5.131311\tval-rmse:5.078500\n",
        "[9]\ttrain-rmse:5.108560\tval-rmse:5.056070\n"
       ]
      },
      {
       "output_type": "stream",
       "stream": "stderr",
       "text": [
        "[10]\ttrain-rmse:5.085909\tval-rmse:5.034188\n",
        "[11]\ttrain-rmse:5.063675\tval-rmse:5.012570\n",
        "[12]\ttrain-rmse:5.042017\tval-rmse:4.991211\n"
       ]
      },
      {
       "output_type": "stream",
       "stream": "stderr",
       "text": [
        "[13]\ttrain-rmse:5.020410\tval-rmse:4.970521\n",
        "[14]\ttrain-rmse:4.999716\tval-rmse:4.950255\n",
        "[15]\ttrain-rmse:4.978892\tval-rmse:4.929932\n"
       ]
      },
      {
       "output_type": "stream",
       "stream": "stderr",
       "text": [
        "[16]\ttrain-rmse:4.958540\tval-rmse:4.910126\n",
        "[17]\ttrain-rmse:4.938220\tval-rmse:4.890700\n",
        "[18]\ttrain-rmse:4.918297\tval-rmse:4.871222\n"
       ]
      },
      {
       "output_type": "stream",
       "stream": "stderr",
       "text": [
        "[19]\ttrain-rmse:4.898606\tval-rmse:4.852234\n",
        "[20]\ttrain-rmse:4.879181\tval-rmse:4.833390\n"
       ]
      },
      {
       "output_type": "stream",
       "stream": "stderr",
       "text": [
        "[21]\ttrain-rmse:4.860449\tval-rmse:4.815155\n",
        "[22]\ttrain-rmse:4.841938\tval-rmse:4.797047\n"
       ]
      },
      {
       "output_type": "stream",
       "stream": "stderr",
       "text": [
        "[23]\ttrain-rmse:4.823370\tval-rmse:4.779283\n",
        "[24]\ttrain-rmse:4.805051\tval-rmse:4.761744\n",
        "[25]\ttrain-rmse:4.787760\tval-rmse:4.745105\n"
       ]
      },
      {
       "output_type": "stream",
       "stream": "stderr",
       "text": [
        "[26]\ttrain-rmse:4.770173\tval-rmse:4.727665\n",
        "[27]\ttrain-rmse:4.752779\tval-rmse:4.710844\n",
        "[28]\ttrain-rmse:4.735384\tval-rmse:4.694232\n"
       ]
      },
      {
       "output_type": "stream",
       "stream": "stderr",
       "text": [
        "[29]\ttrain-rmse:4.718822\tval-rmse:4.678229\n",
        "[30]\ttrain-rmse:4.702490\tval-rmse:4.662563\n",
        "[31]\ttrain-rmse:4.686253\tval-rmse:4.646775\n"
       ]
      },
      {
       "output_type": "stream",
       "stream": "stderr",
       "text": [
        "[32]\ttrain-rmse:4.669948\tval-rmse:4.631046\n",
        "[33]\ttrain-rmse:4.654364\tval-rmse:4.616270\n",
        "[34]\ttrain-rmse:4.638821\tval-rmse:4.601264\n"
       ]
      },
      {
       "output_type": "stream",
       "stream": "stderr",
       "text": [
        "[35]\ttrain-rmse:4.623888\tval-rmse:4.586734\n",
        "[36]\ttrain-rmse:4.608585\tval-rmse:4.572204\n",
        "[37]\ttrain-rmse:4.594126\tval-rmse:4.558254\n"
       ]
      },
      {
       "output_type": "stream",
       "stream": "stderr",
       "text": [
        "[38]\ttrain-rmse:4.579508\tval-rmse:4.544242\n",
        "[39]\ttrain-rmse:4.565014\tval-rmse:4.530421\n"
       ]
      },
      {
       "output_type": "stream",
       "stream": "stderr",
       "text": [
        "[40]\ttrain-rmse:4.550714\tval-rmse:4.517003\n",
        "[41]\ttrain-rmse:4.536408\tval-rmse:4.503285\n"
       ]
      },
      {
       "output_type": "stream",
       "stream": "stderr",
       "text": [
        "[42]\ttrain-rmse:4.522570\tval-rmse:4.489926\n",
        "[43]\ttrain-rmse:4.508563\tval-rmse:4.476743\n"
       ]
      },
      {
       "output_type": "stream",
       "stream": "stderr",
       "text": [
        "[44]\ttrain-rmse:4.495091\tval-rmse:4.464028\n",
        "[45]\ttrain-rmse:4.481890\tval-rmse:4.451381\n",
        "[46]\ttrain-rmse:4.469021\tval-rmse:4.439291\n"
       ]
      },
      {
       "output_type": "stream",
       "stream": "stderr",
       "text": [
        "[47]\ttrain-rmse:4.456121\tval-rmse:4.427300\n",
        "[48]\ttrain-rmse:4.443818\tval-rmse:4.415616\n"
       ]
      },
      {
       "output_type": "stream",
       "stream": "stderr",
       "text": [
        "[49]\ttrain-rmse:4.431130\tval-rmse:4.404027\n",
        "[50]\ttrain-rmse:4.418855\tval-rmse:4.392545\n",
        "[51]\ttrain-rmse:4.406794\tval-rmse:4.380997\n"
       ]
      },
      {
       "output_type": "stream",
       "stream": "stderr",
       "text": [
        "[52]\ttrain-rmse:4.395024\tval-rmse:4.369624\n",
        "[53]\ttrain-rmse:4.383435\tval-rmse:4.358596\n"
       ]
      },
      {
       "output_type": "stream",
       "stream": "stderr",
       "text": [
        "[54]\ttrain-rmse:4.372031\tval-rmse:4.347972\n",
        "[55]\ttrain-rmse:4.360816\tval-rmse:4.337640\n",
        "[56]\ttrain-rmse:4.349705\tval-rmse:4.327244\n"
       ]
      },
      {
       "output_type": "stream",
       "stream": "stderr",
       "text": [
        "[57]\ttrain-rmse:4.338593\tval-rmse:4.316690\n",
        "[58]\ttrain-rmse:4.327621\tval-rmse:4.306510\n",
        "[59]\ttrain-rmse:4.316963\tval-rmse:4.296437\n"
       ]
      },
      {
       "output_type": "stream",
       "stream": "stderr",
       "text": [
        "[60]\ttrain-rmse:4.306871\tval-rmse:4.286870\n",
        "[61]\ttrain-rmse:4.296480\tval-rmse:4.277450\n"
       ]
      },
      {
       "output_type": "stream",
       "stream": "stderr",
       "text": [
        "[62]\ttrain-rmse:4.286318\tval-rmse:4.267734\n",
        "[63]\ttrain-rmse:4.276262\tval-rmse:4.258664\n"
       ]
      },
      {
       "output_type": "stream",
       "stream": "stderr",
       "text": [
        "[64]\ttrain-rmse:4.266567\tval-rmse:4.249633\n",
        "[65]\ttrain-rmse:4.256818\tval-rmse:4.240634\n",
        "[66]\ttrain-rmse:4.247326\tval-rmse:4.231663\n"
       ]
      },
      {
       "output_type": "stream",
       "stream": "stderr",
       "text": [
        "[67]\ttrain-rmse:4.237789\tval-rmse:4.223019\n",
        "[68]\ttrain-rmse:4.228486\tval-rmse:4.214675\n"
       ]
      },
      {
       "output_type": "stream",
       "stream": "stderr",
       "text": [
        "[69]\ttrain-rmse:4.219463\tval-rmse:4.206460\n",
        "[70]\ttrain-rmse:4.210682\tval-rmse:4.198477\n",
        "[71]\ttrain-rmse:4.201678\tval-rmse:4.190327\n"
       ]
      },
      {
       "output_type": "stream",
       "stream": "stderr",
       "text": [
        "[72]\ttrain-rmse:4.193114\tval-rmse:4.182398\n",
        "[73]\ttrain-rmse:4.184559\tval-rmse:4.174841\n",
        "[74]\ttrain-rmse:4.176164\tval-rmse:4.167448\n"
       ]
      },
      {
       "output_type": "stream",
       "stream": "stderr",
       "text": [
        "[75]\ttrain-rmse:4.167787\tval-rmse:4.159949\n",
        "[76]\ttrain-rmse:4.159972\tval-rmse:4.152750\n",
        "[77]\ttrain-rmse:4.151873\tval-rmse:4.145713\n"
       ]
      },
      {
       "output_type": "stream",
       "stream": "stderr",
       "text": [
        "[78]\ttrain-rmse:4.144022\tval-rmse:4.138628\n",
        "[79]\ttrain-rmse:4.136208\tval-rmse:4.131557\n",
        "[80]\ttrain-rmse:4.128750\tval-rmse:4.124828\n"
       ]
      },
      {
       "output_type": "stream",
       "stream": "stderr",
       "text": [
        "[81]\ttrain-rmse:4.121041\tval-rmse:4.118163\n",
        "[82]\ttrain-rmse:4.113753\tval-rmse:4.111412\n",
        "[83]\ttrain-rmse:4.106484\tval-rmse:4.105094\n"
       ]
      },
      {
       "output_type": "stream",
       "stream": "stderr",
       "text": [
        "[84]\ttrain-rmse:4.099090\tval-rmse:4.098386\n",
        "[85]\ttrain-rmse:4.091999\tval-rmse:4.092265\n",
        "[86]\ttrain-rmse:4.085119\tval-rmse:4.085824\n"
       ]
      },
      {
       "output_type": "stream",
       "stream": "stderr",
       "text": [
        "[87]\ttrain-rmse:4.078249\tval-rmse:4.079692\n",
        "[88]\ttrain-rmse:4.071503\tval-rmse:4.073561\n"
       ]
      },
      {
       "output_type": "stream",
       "stream": "stderr",
       "text": [
        "[89]\ttrain-rmse:4.064972\tval-rmse:4.067750\n",
        "[90]\ttrain-rmse:4.058422\tval-rmse:4.061881\n",
        "[91]\ttrain-rmse:4.052150\tval-rmse:4.056255\n"
       ]
      },
      {
       "output_type": "stream",
       "stream": "stderr",
       "text": [
        "[92]\ttrain-rmse:4.045901\tval-rmse:4.050833\n",
        "[93]\ttrain-rmse:4.039730\tval-rmse:4.045109\n",
        "[94]\ttrain-rmse:4.033406\tval-rmse:4.039268\n"
       ]
      },
      {
       "output_type": "stream",
       "stream": "stderr",
       "text": [
        "[95]\ttrain-rmse:4.027303\tval-rmse:4.033864\n",
        "[96]\ttrain-rmse:4.021439\tval-rmse:4.028714\n"
       ]
      },
      {
       "output_type": "stream",
       "stream": "stderr",
       "text": [
        "[97]\ttrain-rmse:4.015687\tval-rmse:4.023681\n",
        "[98]\ttrain-rmse:4.010157\tval-rmse:4.018615\n"
       ]
      },
      {
       "output_type": "stream",
       "stream": "stderr",
       "text": [
        "[99]\ttrain-rmse:4.004524\tval-rmse:4.013926\n",
        "[100]\ttrain-rmse:3.998820\tval-rmse:4.008843\n",
        "[101]\ttrain-rmse:3.993343\tval-rmse:4.004276\n"
       ]
      },
      {
       "output_type": "stream",
       "stream": "stderr",
       "text": [
        "[102]\ttrain-rmse:3.987746\tval-rmse:3.999327\n",
        "[103]\ttrain-rmse:3.982320\tval-rmse:3.994672\n"
       ]
      },
      {
       "output_type": "stream",
       "stream": "stderr",
       "text": [
        "[104]\ttrain-rmse:3.976988\tval-rmse:3.989875\n",
        "[105]\ttrain-rmse:3.971847\tval-rmse:3.985544\n"
       ]
      },
      {
       "output_type": "stream",
       "stream": "stderr",
       "text": [
        "[106]\ttrain-rmse:3.966624\tval-rmse:3.981285\n",
        "[107]\ttrain-rmse:3.961328\tval-rmse:3.976869\n"
       ]
      },
      {
       "output_type": "stream",
       "stream": "stderr",
       "text": [
        "[108]\ttrain-rmse:3.956443\tval-rmse:3.972441\n",
        "[109]\ttrain-rmse:3.951729\tval-rmse:3.968288\n",
        "[110]\ttrain-rmse:3.946885\tval-rmse:3.964024\n"
       ]
      },
      {
       "output_type": "stream",
       "stream": "stderr",
       "text": [
        "[111]\ttrain-rmse:3.942179\tval-rmse:3.959952\n",
        "[112]\ttrain-rmse:3.937551\tval-rmse:3.956067\n",
        "[113]\ttrain-rmse:3.932582\tval-rmse:3.951908\n"
       ]
      },
      {
       "output_type": "stream",
       "stream": "stderr",
       "text": [
        "[114]\ttrain-rmse:3.927782\tval-rmse:3.948039\n",
        "[115]\ttrain-rmse:3.923234\tval-rmse:3.944552\n",
        "[116]\ttrain-rmse:3.918571\tval-rmse:3.940862\n"
       ]
      },
      {
       "output_type": "stream",
       "stream": "stderr",
       "text": [
        "[117]\ttrain-rmse:3.914346\tval-rmse:3.937293\n",
        "[118]\ttrain-rmse:3.910029\tval-rmse:3.933634\n"
       ]
      },
      {
       "output_type": "stream",
       "stream": "stderr",
       "text": [
        "[119]\ttrain-rmse:3.906007\tval-rmse:3.930175\n",
        "[120]\ttrain-rmse:3.901947\tval-rmse:3.926943\n",
        "[121]\ttrain-rmse:3.897808\tval-rmse:3.923663\n"
       ]
      },
      {
       "output_type": "stream",
       "stream": "stderr",
       "text": [
        "[122]\ttrain-rmse:3.893832\tval-rmse:3.920485\n",
        "[123]\ttrain-rmse:3.889931\tval-rmse:3.917322\n",
        "[124]\ttrain-rmse:3.886061\tval-rmse:3.914165\n"
       ]
      },
      {
       "output_type": "stream",
       "stream": "stderr",
       "text": [
        "[125]\ttrain-rmse:3.882232\tval-rmse:3.911178\n",
        "[126]\ttrain-rmse:3.878475\tval-rmse:3.908020\n",
        "[127]\ttrain-rmse:3.874640\tval-rmse:3.905015\n"
       ]
      },
      {
       "output_type": "stream",
       "stream": "stderr",
       "text": [
        "[128]\ttrain-rmse:3.870682\tval-rmse:3.901622\n",
        "[129]\ttrain-rmse:3.867126\tval-rmse:3.898697\n",
        "[130]\ttrain-rmse:3.863679\tval-rmse:3.895936\n"
       ]
      },
      {
       "output_type": "stream",
       "stream": "stderr",
       "text": [
        "[131]\ttrain-rmse:3.859885\tval-rmse:3.893125\n",
        "[132]\ttrain-rmse:3.856415\tval-rmse:3.890438\n",
        "[133]\ttrain-rmse:3.852723\tval-rmse:3.887590\n"
       ]
      },
      {
       "output_type": "stream",
       "stream": "stderr",
       "text": [
        "[134]\ttrain-rmse:3.849363\tval-rmse:3.884896\n",
        "[135]\ttrain-rmse:3.845910\tval-rmse:3.882274\n",
        "[136]\ttrain-rmse:3.842593\tval-rmse:3.879887\n"
       ]
      },
      {
       "output_type": "stream",
       "stream": "stderr",
       "text": [
        "[137]\ttrain-rmse:3.839050\tval-rmse:3.877392\n",
        "[138]\ttrain-rmse:3.835657\tval-rmse:3.874977\n",
        "[139]\ttrain-rmse:3.832371\tval-rmse:3.872382\n"
       ]
      },
      {
       "output_type": "stream",
       "stream": "stderr",
       "text": [
        "[140]\ttrain-rmse:3.829374\tval-rmse:3.870141\n",
        "[141]\ttrain-rmse:3.826144\tval-rmse:3.867784\n"
       ]
      },
      {
       "output_type": "stream",
       "stream": "stderr",
       "text": [
        "[142]\ttrain-rmse:3.822962\tval-rmse:3.865443\n",
        "[143]\ttrain-rmse:3.819884\tval-rmse:3.863250\n",
        "[144]\ttrain-rmse:3.816920\tval-rmse:3.861274\n"
       ]
      },
      {
       "output_type": "stream",
       "stream": "stderr",
       "text": [
        "[145]\ttrain-rmse:3.814135\tval-rmse:3.858927\n",
        "[146]\ttrain-rmse:3.811025\tval-rmse:3.856747\n",
        "[147]\ttrain-rmse:3.808244\tval-rmse:3.854681\n"
       ]
      },
      {
       "output_type": "stream",
       "stream": "stderr",
       "text": [
        "[148]\ttrain-rmse:3.805204\tval-rmse:3.852325\n",
        "[149]\ttrain-rmse:3.802641\tval-rmse:3.850549\n",
        "[150]\ttrain-rmse:3.799788\tval-rmse:3.848531\n"
       ]
      },
      {
       "output_type": "stream",
       "stream": "stderr",
       "text": [
        "[151]\ttrain-rmse:3.796966\tval-rmse:3.846608\n",
        "[152]\ttrain-rmse:3.794405\tval-rmse:3.844781\n"
       ]
      },
      {
       "output_type": "stream",
       "stream": "stderr",
       "text": [
        "[153]\ttrain-rmse:3.791651\tval-rmse:3.842774\n",
        "[154]\ttrain-rmse:3.789177\tval-rmse:3.840912\n",
        "[155]\ttrain-rmse:3.786506\tval-rmse:3.838984\n"
       ]
      },
      {
       "output_type": "stream",
       "stream": "stderr",
       "text": [
        "[156]\ttrain-rmse:3.784098\tval-rmse:3.837060\n",
        "[157]\ttrain-rmse:3.781653\tval-rmse:3.835016\n"
       ]
      },
      {
       "output_type": "stream",
       "stream": "stderr",
       "text": [
        "[158]\ttrain-rmse:3.779310\tval-rmse:3.833182\n",
        "[159]\ttrain-rmse:3.776933\tval-rmse:3.831596\n",
        "[160]\ttrain-rmse:3.774554\tval-rmse:3.829822\n"
       ]
      },
      {
       "output_type": "stream",
       "stream": "stderr",
       "text": [
        "[161]\ttrain-rmse:3.772009\tval-rmse:3.828081\n",
        "[162]\ttrain-rmse:3.769939\tval-rmse:3.826607\n"
       ]
      },
      {
       "output_type": "stream",
       "stream": "stderr",
       "text": [
        "[163]\ttrain-rmse:3.767677\tval-rmse:3.825068\n",
        "[164]\ttrain-rmse:3.765252\tval-rmse:3.823600\n"
       ]
      },
      {
       "output_type": "stream",
       "stream": "stderr",
       "text": [
        "[165]\ttrain-rmse:3.762827\tval-rmse:3.822000\n",
        "[166]\ttrain-rmse:3.760446\tval-rmse:3.820422\n"
       ]
      },
      {
       "output_type": "stream",
       "stream": "stderr",
       "text": [
        "[167]\ttrain-rmse:3.758165\tval-rmse:3.819058\n",
        "[168]\ttrain-rmse:3.756016\tval-rmse:3.817525\n",
        "[169]\ttrain-rmse:3.753563\tval-rmse:3.815909\n"
       ]
      },
      {
       "output_type": "stream",
       "stream": "stderr",
       "text": [
        "[170]\ttrain-rmse:3.751572\tval-rmse:3.814698\n",
        "[171]\ttrain-rmse:3.749372\tval-rmse:3.813009\n",
        "[172]\ttrain-rmse:3.747322\tval-rmse:3.811687\n"
       ]
      },
      {
       "output_type": "stream",
       "stream": "stderr",
       "text": [
        "[173]\ttrain-rmse:3.745275\tval-rmse:3.810226\n",
        "[174]\ttrain-rmse:3.743263\tval-rmse:3.808877\n",
        "[175]\ttrain-rmse:3.741060\tval-rmse:3.807634\n"
       ]
      },
      {
       "output_type": "stream",
       "stream": "stderr",
       "text": [
        "[176]\ttrain-rmse:3.738926\tval-rmse:3.806382\n",
        "[177]\ttrain-rmse:3.736873\tval-rmse:3.804999\n",
        "[178]\ttrain-rmse:3.734802\tval-rmse:3.803760\n"
       ]
      },
      {
       "output_type": "stream",
       "stream": "stderr",
       "text": [
        "[179]\ttrain-rmse:3.732800\tval-rmse:3.802458\n",
        "[180]\ttrain-rmse:3.731031\tval-rmse:3.801219\n",
        "[181]\ttrain-rmse:3.729076\tval-rmse:3.799798\n"
       ]
      },
      {
       "output_type": "stream",
       "stream": "stderr",
       "text": [
        "[182]\ttrain-rmse:3.727116\tval-rmse:3.798795\n",
        "[183]\ttrain-rmse:3.725255\tval-rmse:3.797626\n",
        "[184]\ttrain-rmse:3.723487\tval-rmse:3.796443\n"
       ]
      },
      {
       "output_type": "stream",
       "stream": "stderr",
       "text": [
        "[185]\ttrain-rmse:3.721877\tval-rmse:3.795552\n",
        "[186]\ttrain-rmse:3.720139\tval-rmse:3.794415\n",
        "[187]\ttrain-rmse:3.718338\tval-rmse:3.793134\n"
       ]
      },
      {
       "output_type": "stream",
       "stream": "stderr",
       "text": [
        "[188]\ttrain-rmse:3.716532\tval-rmse:3.792258\n",
        "[189]\ttrain-rmse:3.714707\tval-rmse:3.791255\n",
        "[190]\ttrain-rmse:3.713076\tval-rmse:3.790060\n"
       ]
      },
      {
       "output_type": "stream",
       "stream": "stderr",
       "text": [
        "[191]\ttrain-rmse:3.711478\tval-rmse:3.788940\n",
        "[192]\ttrain-rmse:3.709889\tval-rmse:3.788026\n",
        "[193]\ttrain-rmse:3.708230\tval-rmse:3.786972\n"
       ]
      },
      {
       "output_type": "stream",
       "stream": "stderr",
       "text": [
        "[194]\ttrain-rmse:3.706685\tval-rmse:3.785968\n",
        "[195]\ttrain-rmse:3.705019\tval-rmse:3.784961\n",
        "[196]\ttrain-rmse:3.703387\tval-rmse:3.783834\n"
       ]
      },
      {
       "output_type": "stream",
       "stream": "stderr",
       "text": [
        "[197]\ttrain-rmse:3.701709\tval-rmse:3.782861\n",
        "[198]\ttrain-rmse:3.700349\tval-rmse:3.782110\n",
        "[199]\ttrain-rmse:3.698743\tval-rmse:3.781210\n"
       ]
      },
      {
       "output_type": "stream",
       "stream": "stderr",
       "text": [
        "[200]\ttrain-rmse:3.697189\tval-rmse:3.780354\n",
        "[201]\ttrain-rmse:3.695558\tval-rmse:3.779591\n",
        "[202]\ttrain-rmse:3.693842\tval-rmse:3.778796\n"
       ]
      },
      {
       "output_type": "stream",
       "stream": "stderr",
       "text": [
        "[203]\ttrain-rmse:3.692255\tval-rmse:3.777853\n",
        "[204]\ttrain-rmse:3.690769\tval-rmse:3.777072\n",
        "[205]\ttrain-rmse:3.689470\tval-rmse:3.776299\n"
       ]
      },
      {
       "output_type": "stream",
       "stream": "stderr",
       "text": [
        "[206]\ttrain-rmse:3.687887\tval-rmse:3.775457\n",
        "[207]\ttrain-rmse:3.686634\tval-rmse:3.774554\n",
        "[208]\ttrain-rmse:3.685054\tval-rmse:3.773940\n"
       ]
      },
      {
       "output_type": "stream",
       "stream": "stderr",
       "text": [
        "[209]\ttrain-rmse:3.683512\tval-rmse:3.773385\n",
        "[210]\ttrain-rmse:3.682044\tval-rmse:3.772739\n",
        "[211]\ttrain-rmse:3.680440\tval-rmse:3.772021\n"
       ]
      },
      {
       "output_type": "stream",
       "stream": "stderr",
       "text": [
        "[212]\ttrain-rmse:3.679166\tval-rmse:3.771240\n",
        "[213]\ttrain-rmse:3.677730\tval-rmse:3.770388\n",
        "[214]\ttrain-rmse:3.676461\tval-rmse:3.769738\n"
       ]
      },
      {
       "output_type": "stream",
       "stream": "stderr",
       "text": [
        "[215]\ttrain-rmse:3.675289\tval-rmse:3.769110\n",
        "[216]\ttrain-rmse:3.673899\tval-rmse:3.768447\n",
        "[217]\ttrain-rmse:3.672434\tval-rmse:3.767788\n"
       ]
      },
      {
       "output_type": "stream",
       "stream": "stderr",
       "text": [
        "[218]\ttrain-rmse:3.671082\tval-rmse:3.767102\n",
        "[219]\ttrain-rmse:3.669880\tval-rmse:3.766538\n"
       ]
      },
      {
       "output_type": "stream",
       "stream": "stderr",
       "text": [
        "[220]\ttrain-rmse:3.668499\tval-rmse:3.765977\n",
        "[221]\ttrain-rmse:3.667161\tval-rmse:3.765375\n",
        "[222]\ttrain-rmse:3.665675\tval-rmse:3.764727\n"
       ]
      },
      {
       "output_type": "stream",
       "stream": "stderr",
       "text": [
        "[223]\ttrain-rmse:3.664629\tval-rmse:3.764233\n",
        "[224]\ttrain-rmse:3.663335\tval-rmse:3.763626\n",
        "[225]\ttrain-rmse:3.662203\tval-rmse:3.763164\n"
       ]
      },
      {
       "output_type": "stream",
       "stream": "stderr",
       "text": [
        "[226]\ttrain-rmse:3.661059\tval-rmse:3.762634\n",
        "[227]\ttrain-rmse:3.659828\tval-rmse:3.762131\n",
        "[228]\ttrain-rmse:3.658785\tval-rmse:3.761651\n"
       ]
      },
      {
       "output_type": "stream",
       "stream": "stderr",
       "text": [
        "[229]\ttrain-rmse:3.657468\tval-rmse:3.761122\n",
        "[230]\ttrain-rmse:3.656235\tval-rmse:3.760597\n",
        "[231]\ttrain-rmse:3.655164\tval-rmse:3.760250\n"
       ]
      },
      {
       "output_type": "stream",
       "stream": "stderr",
       "text": [
        "[232]\ttrain-rmse:3.653922\tval-rmse:3.759821\n",
        "[233]\ttrain-rmse:3.652699\tval-rmse:3.759367\n",
        "[234]\ttrain-rmse:3.651455\tval-rmse:3.758810\n"
       ]
      },
      {
       "output_type": "stream",
       "stream": "stderr",
       "text": [
        "[235]\ttrain-rmse:3.650352\tval-rmse:3.758281\n",
        "[236]\ttrain-rmse:3.649301\tval-rmse:3.757713\n",
        "[237]\ttrain-rmse:3.648193\tval-rmse:3.757242\n"
       ]
      },
      {
       "output_type": "stream",
       "stream": "stderr",
       "text": [
        "[238]\ttrain-rmse:3.647070\tval-rmse:3.756733\n",
        "[239]\ttrain-rmse:3.645974\tval-rmse:3.756321\n",
        "[240]\ttrain-rmse:3.644722\tval-rmse:3.755618\n"
       ]
      },
      {
       "output_type": "stream",
       "stream": "stderr",
       "text": [
        "[241]\ttrain-rmse:3.643726\tval-rmse:3.755160\n",
        "[242]\ttrain-rmse:3.642824\tval-rmse:3.754737\n",
        "[243]\ttrain-rmse:3.641899\tval-rmse:3.754414\n"
       ]
      },
      {
       "output_type": "stream",
       "stream": "stderr",
       "text": [
        "[244]\ttrain-rmse:3.640803\tval-rmse:3.754003\n",
        "[245]\ttrain-rmse:3.639636\tval-rmse:3.753631\n"
       ]
      },
      {
       "output_type": "stream",
       "stream": "stderr",
       "text": [
        "[246]\ttrain-rmse:3.638445\tval-rmse:3.753128\n",
        "[247]\ttrain-rmse:3.637498\tval-rmse:3.752548\n",
        "[248]\ttrain-rmse:3.636384\tval-rmse:3.751830\n"
       ]
      },
      {
       "output_type": "stream",
       "stream": "stderr",
       "text": [
        "[249]\ttrain-rmse:3.635478\tval-rmse:3.751524\n",
        "[250]\ttrain-rmse:3.634521\tval-rmse:3.750942\n",
        "[251]\ttrain-rmse:3.633527\tval-rmse:3.750445\n"
       ]
      },
      {
       "output_type": "stream",
       "stream": "stderr",
       "text": [
        "[252]\ttrain-rmse:3.632421\tval-rmse:3.750090\n",
        "[253]\ttrain-rmse:3.631385\tval-rmse:3.749581\n"
       ]
      },
      {
       "output_type": "stream",
       "stream": "stderr",
       "text": [
        "[254]\ttrain-rmse:3.630408\tval-rmse:3.749232\n",
        "[255]\ttrain-rmse:3.629182\tval-rmse:3.748784\n",
        "[256]\ttrain-rmse:3.628158\tval-rmse:3.748482\n"
       ]
      },
      {
       "output_type": "stream",
       "stream": "stderr",
       "text": [
        "[257]\ttrain-rmse:3.627156\tval-rmse:3.747940\n",
        "[258]\ttrain-rmse:3.626005\tval-rmse:3.747694\n"
       ]
      },
      {
       "output_type": "stream",
       "stream": "stderr",
       "text": [
        "[259]\ttrain-rmse:3.625044\tval-rmse:3.747268\n",
        "[260]\ttrain-rmse:3.624110\tval-rmse:3.746678\n"
       ]
      },
      {
       "output_type": "stream",
       "stream": "stderr",
       "text": [
        "[261]\ttrain-rmse:3.623053\tval-rmse:3.746469\n",
        "[262]\ttrain-rmse:3.622145\tval-rmse:3.746230\n",
        "[263]\ttrain-rmse:3.621186\tval-rmse:3.745897\n"
       ]
      },
      {
       "output_type": "stream",
       "stream": "stderr",
       "text": [
        "[264]\ttrain-rmse:3.620372\tval-rmse:3.745707\n",
        "[265]\ttrain-rmse:3.619192\tval-rmse:3.745382\n"
       ]
      },
      {
       "output_type": "stream",
       "stream": "stderr",
       "text": [
        "[266]\ttrain-rmse:3.618280\tval-rmse:3.744943\n",
        "[267]\ttrain-rmse:3.617358\tval-rmse:3.744759\n",
        "[268]\ttrain-rmse:3.616357\tval-rmse:3.744639\n"
       ]
      },
      {
       "output_type": "stream",
       "stream": "stderr",
       "text": [
        "[269]\ttrain-rmse:3.615474\tval-rmse:3.744348\n",
        "[270]\ttrain-rmse:3.614734\tval-rmse:3.744165\n"
       ]
      },
      {
       "output_type": "stream",
       "stream": "stderr",
       "text": [
        "[271]\ttrain-rmse:3.613774\tval-rmse:3.743867\n",
        "[272]\ttrain-rmse:3.613024\tval-rmse:3.743695\n"
       ]
      },
      {
       "output_type": "stream",
       "stream": "stderr",
       "text": [
        "[273]\ttrain-rmse:3.612201\tval-rmse:3.743503\n",
        "[274]\ttrain-rmse:3.611226\tval-rmse:3.743167\n",
        "[275]\ttrain-rmse:3.610328\tval-rmse:3.742893\n"
       ]
      },
      {
       "output_type": "stream",
       "stream": "stderr",
       "text": [
        "[276]\ttrain-rmse:3.609514\tval-rmse:3.742423\n",
        "[277]\ttrain-rmse:3.608644\tval-rmse:3.742180\n",
        "[278]\ttrain-rmse:3.607838\tval-rmse:3.741859\n"
       ]
      },
      {
       "output_type": "stream",
       "stream": "stderr",
       "text": [
        "[279]\ttrain-rmse:3.607024\tval-rmse:3.741575\n",
        "[280]\ttrain-rmse:3.606234\tval-rmse:3.741423\n"
       ]
      },
      {
       "output_type": "stream",
       "stream": "stderr",
       "text": [
        "[281]\ttrain-rmse:3.605482\tval-rmse:3.741371\n",
        "[282]\ttrain-rmse:3.604566\tval-rmse:3.740911\n",
        "[283]\ttrain-rmse:3.603702\tval-rmse:3.740658\n"
       ]
      },
      {
       "output_type": "stream",
       "stream": "stderr",
       "text": [
        "[284]\ttrain-rmse:3.603055\tval-rmse:3.740410\n",
        "[285]\ttrain-rmse:3.602191\tval-rmse:3.740278\n",
        "[286]\ttrain-rmse:3.601258\tval-rmse:3.740142\n"
       ]
      },
      {
       "output_type": "stream",
       "stream": "stderr",
       "text": [
        "[287]\ttrain-rmse:3.600585\tval-rmse:3.739966\n",
        "[288]\ttrain-rmse:3.600040\tval-rmse:3.739770\n",
        "[289]\ttrain-rmse:3.599124\tval-rmse:3.739407\n"
       ]
      },
      {
       "output_type": "stream",
       "stream": "stderr",
       "text": [
        "[290]\ttrain-rmse:3.598322\tval-rmse:3.738913\n",
        "[291]\ttrain-rmse:3.597738\tval-rmse:3.738793\n",
        "[292]\ttrain-rmse:3.596951\tval-rmse:3.738611\n"
       ]
      },
      {
       "output_type": "stream",
       "stream": "stderr",
       "text": [
        "[293]\ttrain-rmse:3.596128\tval-rmse:3.738394\n",
        "[294]\ttrain-rmse:3.595380\tval-rmse:3.738231\n",
        "[295]\ttrain-rmse:3.594686\tval-rmse:3.738133\n"
       ]
      },
      {
       "output_type": "stream",
       "stream": "stderr",
       "text": [
        "[296]\ttrain-rmse:3.594010\tval-rmse:3.737805\n",
        "[297]\ttrain-rmse:3.593060\tval-rmse:3.737243\n",
        "[298]\ttrain-rmse:3.592289\tval-rmse:3.737094\n"
       ]
      },
      {
       "output_type": "stream",
       "stream": "stderr",
       "text": [
        "[299]\ttrain-rmse:3.591606\tval-rmse:3.736852\n",
        "[300]\ttrain-rmse:3.590910\tval-rmse:3.736703\n"
       ]
      },
      {
       "output_type": "stream",
       "stream": "stderr",
       "text": [
        "[301]\ttrain-rmse:3.590021\tval-rmse:3.736485\n",
        "[302]\ttrain-rmse:3.589354\tval-rmse:3.736328\n"
       ]
      },
      {
       "output_type": "stream",
       "stream": "stderr",
       "text": [
        "[303]\ttrain-rmse:3.588607\tval-rmse:3.736207\n",
        "[304]\ttrain-rmse:3.587902\tval-rmse:3.735813\n",
        "[305]\ttrain-rmse:3.587102\tval-rmse:3.735538\n"
       ]
      },
      {
       "output_type": "stream",
       "stream": "stderr",
       "text": [
        "[306]\ttrain-rmse:3.586315\tval-rmse:3.735229\n",
        "[307]\ttrain-rmse:3.585405\tval-rmse:3.734910\n",
        "[308]\ttrain-rmse:3.584576\tval-rmse:3.734746\n"
       ]
      },
      {
       "output_type": "stream",
       "stream": "stderr",
       "text": [
        "[309]\ttrain-rmse:3.583844\tval-rmse:3.734483\n",
        "[310]\ttrain-rmse:3.583100\tval-rmse:3.734317\n",
        "[311]\ttrain-rmse:3.582324\tval-rmse:3.734091\n"
       ]
      },
      {
       "output_type": "stream",
       "stream": "stderr",
       "text": [
        "[312]\ttrain-rmse:3.581424\tval-rmse:3.733957\n",
        "[313]\ttrain-rmse:3.580843\tval-rmse:3.733873\n",
        "[314]\ttrain-rmse:3.580143\tval-rmse:3.733806\n"
       ]
      },
      {
       "output_type": "stream",
       "stream": "stderr",
       "text": [
        "[315]\ttrain-rmse:3.579350\tval-rmse:3.733556\n",
        "[316]\ttrain-rmse:3.578535\tval-rmse:3.733441\n",
        "[317]\ttrain-rmse:3.577773\tval-rmse:3.733343\n"
       ]
      },
      {
       "output_type": "stream",
       "stream": "stderr",
       "text": [
        "[318]\ttrain-rmse:3.577083\tval-rmse:3.733133\n",
        "[319]\ttrain-rmse:3.576441\tval-rmse:3.732766\n",
        "[320]\ttrain-rmse:3.575848\tval-rmse:3.732529\n"
       ]
      },
      {
       "output_type": "stream",
       "stream": "stderr",
       "text": [
        "[321]\ttrain-rmse:3.575266\tval-rmse:3.732374\n",
        "[322]\ttrain-rmse:3.574481\tval-rmse:3.732275\n",
        "[323]\ttrain-rmse:3.573417\tval-rmse:3.732336\n"
       ]
      },
      {
       "output_type": "stream",
       "stream": "stderr",
       "text": [
        "[324]\ttrain-rmse:3.572858\tval-rmse:3.732305\n",
        "[325]\ttrain-rmse:3.572271\tval-rmse:3.732104\n",
        "[326]\ttrain-rmse:3.571489\tval-rmse:3.731859\n"
       ]
      },
      {
       "output_type": "stream",
       "stream": "stderr",
       "text": [
        "[327]\ttrain-rmse:3.570924\tval-rmse:3.731578\n",
        "[328]\ttrain-rmse:3.570268\tval-rmse:3.731447\n"
       ]
      },
      {
       "output_type": "stream",
       "stream": "stderr",
       "text": [
        "[329]\ttrain-rmse:3.569609\tval-rmse:3.731267\n",
        "[330]\ttrain-rmse:3.568901\tval-rmse:3.731076\n",
        "[331]\ttrain-rmse:3.568213\tval-rmse:3.730950\n"
       ]
      },
      {
       "output_type": "stream",
       "stream": "stderr",
       "text": [
        "[332]\ttrain-rmse:3.567377\tval-rmse:3.730660\n",
        "[333]\ttrain-rmse:3.566571\tval-rmse:3.730276\n",
        "[334]\ttrain-rmse:3.565931\tval-rmse:3.730202\n"
       ]
      },
      {
       "output_type": "stream",
       "stream": "stderr",
       "text": [
        "[335]\ttrain-rmse:3.565310\tval-rmse:3.730001\n",
        "[336]\ttrain-rmse:3.564552\tval-rmse:3.729851\n",
        "[337]\ttrain-rmse:3.564070\tval-rmse:3.729751\n"
       ]
      },
      {
       "output_type": "stream",
       "stream": "stderr",
       "text": [
        "[338]\ttrain-rmse:3.563272\tval-rmse:3.729790\n",
        "[339]\ttrain-rmse:3.562606\tval-rmse:3.729671\n"
       ]
      },
      {
       "output_type": "stream",
       "stream": "stderr",
       "text": [
        "[340]\ttrain-rmse:3.561815\tval-rmse:3.729647\n",
        "[341]\ttrain-rmse:3.560976\tval-rmse:3.729634\n",
        "[342]\ttrain-rmse:3.560386\tval-rmse:3.729494\n"
       ]
      },
      {
       "output_type": "stream",
       "stream": "stderr",
       "text": [
        "[343]\ttrain-rmse:3.559836\tval-rmse:3.729473\n",
        "[344]\ttrain-rmse:3.559212\tval-rmse:3.729390\n",
        "[345]\ttrain-rmse:3.558709\tval-rmse:3.729275\n"
       ]
      },
      {
       "output_type": "stream",
       "stream": "stderr",
       "text": [
        "[346]\ttrain-rmse:3.558077\tval-rmse:3.729242\n",
        "[347]\ttrain-rmse:3.557431\tval-rmse:3.729185\n",
        "[348]\ttrain-rmse:3.556777\tval-rmse:3.729156\n"
       ]
      },
      {
       "output_type": "stream",
       "stream": "stderr",
       "text": [
        "[349]\ttrain-rmse:3.556153\tval-rmse:3.729016\n",
        "[350]\ttrain-rmse:3.555611\tval-rmse:3.729057\n",
        "[351]\ttrain-rmse:3.554863\tval-rmse:3.728894\n"
       ]
      },
      {
       "output_type": "stream",
       "stream": "stderr",
       "text": [
        "[352]\ttrain-rmse:3.554192\tval-rmse:3.728772\n",
        "[353]\ttrain-rmse:3.553575\tval-rmse:3.728807\n",
        "[354]\ttrain-rmse:3.553050\tval-rmse:3.728734\n"
       ]
      },
      {
       "output_type": "stream",
       "stream": "stderr",
       "text": [
        "[355]\ttrain-rmse:3.552484\tval-rmse:3.728588\n",
        "[356]\ttrain-rmse:3.551907\tval-rmse:3.728344\n",
        "[357]\ttrain-rmse:3.551288\tval-rmse:3.728254\n"
       ]
      },
      {
       "output_type": "stream",
       "stream": "stderr",
       "text": [
        "[358]\ttrain-rmse:3.550678\tval-rmse:3.728216\n",
        "[359]\ttrain-rmse:3.550167\tval-rmse:3.728132\n",
        "[360]\ttrain-rmse:3.549577\tval-rmse:3.727990\n"
       ]
      },
      {
       "output_type": "stream",
       "stream": "stderr",
       "text": [
        "[361]\ttrain-rmse:3.548819\tval-rmse:3.727826\n",
        "[362]\ttrain-rmse:3.548319\tval-rmse:3.727751\n",
        "[363]\ttrain-rmse:3.547503\tval-rmse:3.727721\n"
       ]
      },
      {
       "output_type": "stream",
       "stream": "stderr",
       "text": [
        "[364]\ttrain-rmse:3.547137\tval-rmse:3.727650\n",
        "[365]\ttrain-rmse:3.546566\tval-rmse:3.727578\n"
       ]
      },
      {
       "output_type": "stream",
       "stream": "stderr",
       "text": [
        "[366]\ttrain-rmse:3.546060\tval-rmse:3.727518\n",
        "[367]\ttrain-rmse:3.545489\tval-rmse:3.727455\n",
        "[368]\ttrain-rmse:3.544967\tval-rmse:3.727318\n"
       ]
      },
      {
       "output_type": "stream",
       "stream": "stderr",
       "text": [
        "[369]\ttrain-rmse:3.544428\tval-rmse:3.727441\n",
        "[370]\ttrain-rmse:3.544009\tval-rmse:3.727332\n",
        "[371]\ttrain-rmse:3.543584\tval-rmse:3.727378\n"
       ]
      },
      {
       "output_type": "stream",
       "stream": "stderr",
       "text": [
        "[372]\ttrain-rmse:3.542894\tval-rmse:3.727131\n",
        "[373]\ttrain-rmse:3.542274\tval-rmse:3.727038\n",
        "[374]\ttrain-rmse:3.541453\tval-rmse:3.726949\n"
       ]
      },
      {
       "output_type": "stream",
       "stream": "stderr",
       "text": [
        "[375]\ttrain-rmse:3.540891\tval-rmse:3.726968\n",
        "[376]\ttrain-rmse:3.540215\tval-rmse:3.726998\n",
        "[377]\ttrain-rmse:3.539684\tval-rmse:3.726800\n"
       ]
      },
      {
       "output_type": "stream",
       "stream": "stderr",
       "text": [
        "[378]\ttrain-rmse:3.539065\tval-rmse:3.726702\n",
        "[379]\ttrain-rmse:3.538470\tval-rmse:3.726597\n",
        "[380]\ttrain-rmse:3.538004\tval-rmse:3.726441\n"
       ]
      },
      {
       "output_type": "stream",
       "stream": "stderr",
       "text": [
        "[381]\ttrain-rmse:3.537489\tval-rmse:3.726336\n",
        "[382]\ttrain-rmse:3.536796\tval-rmse:3.726170\n"
       ]
      },
      {
       "output_type": "stream",
       "stream": "stderr",
       "text": [
        "[383]\ttrain-rmse:3.536401\tval-rmse:3.726046\n",
        "[384]\ttrain-rmse:3.535746\tval-rmse:3.726082\n",
        "[385]\ttrain-rmse:3.535248\tval-rmse:3.726069\n"
       ]
      },
      {
       "output_type": "stream",
       "stream": "stderr",
       "text": [
        "[386]\ttrain-rmse:3.534668\tval-rmse:3.725970\n",
        "[387]\ttrain-rmse:3.533946\tval-rmse:3.726022\n",
        "[388]\ttrain-rmse:3.533405\tval-rmse:3.725994\n"
       ]
      },
      {
       "output_type": "stream",
       "stream": "stderr",
       "text": [
        "[389]\ttrain-rmse:3.532880\tval-rmse:3.725928\n",
        "[390]\ttrain-rmse:3.532327\tval-rmse:3.725964\n",
        "[391]\ttrain-rmse:3.531703\tval-rmse:3.725749\n"
       ]
      },
      {
       "output_type": "stream",
       "stream": "stderr",
       "text": [
        "[392]\ttrain-rmse:3.531189\tval-rmse:3.725663\n",
        "[393]\ttrain-rmse:3.530653\tval-rmse:3.725710\n",
        "[394]\ttrain-rmse:3.530210\tval-rmse:3.725549\n"
       ]
      },
      {
       "output_type": "stream",
       "stream": "stderr",
       "text": [
        "[395]\ttrain-rmse:3.529763\tval-rmse:3.725487\n",
        "[396]\ttrain-rmse:3.529158\tval-rmse:3.725542\n",
        "[397]\ttrain-rmse:3.528684\tval-rmse:3.725510\n"
       ]
      },
      {
       "output_type": "stream",
       "stream": "stderr",
       "text": [
        "[398]\ttrain-rmse:3.528212\tval-rmse:3.725406\n",
        "[399]\ttrain-rmse:3.527596\tval-rmse:3.725368\n",
        "[400]\ttrain-rmse:3.526942\tval-rmse:3.725328\n"
       ]
      },
      {
       "output_type": "stream",
       "stream": "stderr",
       "text": [
        "[401]\ttrain-rmse:3.526163\tval-rmse:3.725091\n",
        "[402]\ttrain-rmse:3.525678\tval-rmse:3.724960\n",
        "[403]\ttrain-rmse:3.525049\tval-rmse:3.724806\n"
       ]
      },
      {
       "output_type": "stream",
       "stream": "stderr",
       "text": [
        "[404]\ttrain-rmse:3.524489\tval-rmse:3.724858\n",
        "[405]\ttrain-rmse:3.523818\tval-rmse:3.724537\n",
        "[406]\ttrain-rmse:3.523450\tval-rmse:3.724512\n"
       ]
      },
      {
       "output_type": "stream",
       "stream": "stderr",
       "text": [
        "[407]\ttrain-rmse:3.522886\tval-rmse:3.724364\n",
        "[408]\ttrain-rmse:3.522232\tval-rmse:3.724458\n",
        "[409]\ttrain-rmse:3.521881\tval-rmse:3.724403\n"
       ]
      },
      {
       "output_type": "stream",
       "stream": "stderr",
       "text": [
        "[410]\ttrain-rmse:3.521214\tval-rmse:3.724353\n",
        "[411]\ttrain-rmse:3.520573\tval-rmse:3.724379\n",
        "[412]\ttrain-rmse:3.520172\tval-rmse:3.724390\n"
       ]
      },
      {
       "output_type": "stream",
       "stream": "stderr",
       "text": [
        "[413]\ttrain-rmse:3.519567\tval-rmse:3.724336\n",
        "[414]\ttrain-rmse:3.518967\tval-rmse:3.724324\n",
        "[415]\ttrain-rmse:3.518351\tval-rmse:3.724298\n"
       ]
      },
      {
       "output_type": "stream",
       "stream": "stderr",
       "text": [
        "[416]\ttrain-rmse:3.517818\tval-rmse:3.724260\n",
        "[417]\ttrain-rmse:3.517277\tval-rmse:3.724206\n",
        "[418]\ttrain-rmse:3.516802\tval-rmse:3.724160\n"
       ]
      },
      {
       "output_type": "stream",
       "stream": "stderr",
       "text": [
        "[419]\ttrain-rmse:3.516274\tval-rmse:3.724116\n",
        "[420]\ttrain-rmse:3.515889\tval-rmse:3.724077\n",
        "[421]\ttrain-rmse:3.515380\tval-rmse:3.724052\n"
       ]
      },
      {
       "output_type": "stream",
       "stream": "stderr",
       "text": [
        "[422]\ttrain-rmse:3.515038\tval-rmse:3.723918\n",
        "[423]\ttrain-rmse:3.514627\tval-rmse:3.723831\n",
        "[424]\ttrain-rmse:3.514065\tval-rmse:3.723746\n"
       ]
      },
      {
       "output_type": "stream",
       "stream": "stderr",
       "text": [
        "[425]\ttrain-rmse:3.513543\tval-rmse:3.723836\n",
        "[426]\ttrain-rmse:3.513089\tval-rmse:3.723831\n",
        "[427]\ttrain-rmse:3.512796\tval-rmse:3.723923\n"
       ]
      },
      {
       "output_type": "stream",
       "stream": "stderr",
       "text": [
        "[428]\ttrain-rmse:3.512141\tval-rmse:3.723860\n",
        "Stopping. Best iteration:\n",
        "[424]\ttrain-rmse:3.514065\tval-rmse:3.723746\n",
        "\n"
       ]
      }
     ],
     "prompt_number": 10
    },
    {
     "cell_type": "code",
     "collapsed": false,
     "input": [
      "preds1 = model.predict(xgtest)\n",
      "print preds1\n",
      "print test4"
     ],
     "language": "python",
     "metadata": {},
     "outputs": [
      {
       "output_type": "stream",
       "stream": "stdout",
       "text": [
        "[ 2.65582204  6.70834637  6.78033972 ...,  4.51510477  3.473948    3.21626592]\n",
        "[[  1.  12.   3. ...,   4.   1.   6.]\n",
        " [  9.   9.   6. ...,   4.   4.   7.]\n",
        " [  8.  19.   3. ...,   2.   5.   0.]\n",
        " ..., \n",
        " [ 12.  23.   2. ...,   2.   1.   3.]\n",
        " [  8.   6.   4. ...,   4.   2.   0.]\n",
        " [  3.   5.   1. ...,   3.   5.   4.]]\n"
       ]
      }
     ],
     "prompt_number": 52
    },
    {
     "cell_type": "code",
     "collapsed": false,
     "input": [
      "#generate solution\n",
      "preds = pd.DataFrame({\"Id\": test_ind, \"Hazard\": preds1})\n",
      "preds = preds.set_index('Id')\n",
      "preds.to_csv('xgboost_benchmark.csv')\n",
      "%pwd"
     ],
     "language": "python",
     "metadata": {},
     "outputs": [
      {
       "metadata": {},
       "output_type": "pyout",
       "prompt_number": 53,
       "text": [
        "u'/home/leandroohf/Documents/kaggle/Liberty_Mutual_Group_Property_Inspection_Prediction'"
       ]
      }
     ],
     "prompt_number": 53
    }
   ],
   "metadata": {}
  }
 ]
}