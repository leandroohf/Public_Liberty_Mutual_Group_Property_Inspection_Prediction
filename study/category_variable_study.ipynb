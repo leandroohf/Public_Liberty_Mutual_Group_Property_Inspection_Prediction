{
 "metadata": {
  "name": ""
 },
 "nbformat": 3,
 "nbformat_minor": 0,
 "worksheets": [
  {
   "cells": [
    {
     "cell_type": "code",
     "collapsed": false,
     "input": [
      "import pandas as pd\n",
      "\n",
      "# import load_iris function from datasets module\n",
      "from sklearn.datasets import load_iris\n",
      "\n",
      "iris = load_iris()\n",
      "\n",
      "type(iris)\n",
      "\n",
      "data = pd.DataFrame(data=iris.data, columns = iris.feature_names)\n",
      "\n",
      "data[ 'specie'] = iris.target\n",
      "\n",
      "print iris.target_names\n",
      "\n",
      "print data.head()\n",
      "\n",
      "print data.shape"
     ],
     "language": "python",
     "metadata": {},
     "outputs": [
      {
       "output_type": "stream",
       "stream": "stdout",
       "text": [
        "['setosa' 'versicolor' 'virginica']\n",
        "   sepal length (cm)  sepal width (cm)  petal length (cm)  petal width (cm)  \\\n",
        "0                5.1               3.5                1.4               0.2   \n",
        "1                4.9               3.0                1.4               0.2   \n",
        "2                4.7               3.2                1.3               0.2   \n",
        "3                4.6               3.1                1.5               0.2   \n",
        "4                5.0               3.6                1.4               0.2   \n",
        "\n",
        "   specie  \n",
        "0       0  \n",
        "1       0  \n",
        "2       0  \n",
        "3       0  \n",
        "4       0  \n",
        "(150, 5)\n"
       ]
      }
     ],
     "prompt_number": 1
    },
    {
     "cell_type": "code",
     "collapsed": false,
     "input": [
      "# convert to categorycal\n",
      "\n",
      "pd.__version__\n",
      "\n",
      "#from pandas import Categorical\n",
      "\n",
      "print pd.Categorical(['a', 'b', 'c', 'a', 'b', 'c'])\n",
      "\n",
      "print pd.Categorical(['a','a','b','c'], categories=['a','b','c'])\n",
      "\n",
      "data['specie_cat'] = pd.Categorical(data['specie'], categories = [0,1,2])\n",
      "\n",
      "#data['specie'].astype(\"categorical\")\n",
      "\n",
      "print data.head()\n",
      "\n",
      "print type(data)\n",
      "#print type(data[,:1])\n",
      "print type(data['specie'])\n",
      "print type(data['specie_cat'])\n",
      "\n",
      "#species = pd.Categorical(iris.target, categories=iris.target_names, ordered=False)\n",
      "\n",
      "#pd.Categorical(\n",
      "\n",
      "##data['specie_cat'] = data['specie'].astype(\"categorical\")"
     ],
     "language": "python",
     "metadata": {},
     "outputs": [
      {
       "output_type": "stream",
       "stream": "stdout",
       "text": [
        "[a, b, c, a, b, c]\n",
        "Categories (3, object): [a, b, c]\n",
        "[a, a, b, c]\n",
        "Categories (3, object): [a, b, c]\n",
        "   sepal length (cm)  sepal width (cm)  petal length (cm)  petal width (cm)  \\\n",
        "0                5.1               3.5                1.4               0.2   \n",
        "1                4.9               3.0                1.4               0.2   \n",
        "2                4.7               3.2                1.3               0.2   \n",
        "3                4.6               3.1                1.5               0.2   \n",
        "4                5.0               3.6                1.4               0.2   \n",
        "\n",
        "   specie specie_cat  \n",
        "0       0          0  \n",
        "1       0          0  \n",
        "2       0          0  \n",
        "3       0          0  \n",
        "4       0          0  \n",
        "<class 'pandas.core.frame.DataFrame'>\n",
        "<class 'pandas.core.series.Series'>\n",
        "<class 'pandas.core.series.Series'>\n"
       ]
      }
     ],
     "prompt_number": 2
    },
    {
     "cell_type": "code",
     "collapsed": false,
     "input": [
      "\n",
      "print \"Describe in numerical data:\"\n",
      "print(data.describe())\n",
      "\n",
      "\n",
      "print \"Describe in categorical data:\"\n",
      "print(data[\"specie_cat\"].describe())\n"
     ],
     "language": "python",
     "metadata": {},
     "outputs": [
      {
       "output_type": "stream",
       "stream": "stdout",
       "text": [
        "Describe in numerical data:\n",
        "       sepal length (cm)  sepal width (cm)  petal length (cm)  \\\n",
        "count         150.000000        150.000000         150.000000   \n",
        "mean            5.843333          3.054000           3.758667   \n",
        "std             0.828066          0.433594           1.764420   \n",
        "min             4.300000          2.000000           1.000000   \n",
        "25%             5.100000          2.800000           1.600000   \n",
        "50%             5.800000          3.000000           4.350000   \n",
        "75%             6.400000          3.300000           5.100000   \n",
        "max             7.900000          4.400000           6.900000   \n",
        "\n",
        "       petal width (cm)      specie  \n",
        "count        150.000000  150.000000  \n",
        "mean           1.198667    1.000000  \n",
        "std            0.763161    0.819232  \n",
        "min            0.100000    0.000000  \n",
        "25%            0.300000    0.000000  \n",
        "50%            1.300000    1.000000  \n",
        "75%            1.800000    2.000000  \n",
        "max            2.500000    2.000000  \n",
        "Describe in categorical data:\n",
        "count     150\n",
        "unique      3\n",
        "top         2\n",
        "freq       50\n",
        "Name: specie_cat, dtype: int64\n"
       ]
      }
     ],
     "prompt_number": 3
    },
    {
     "cell_type": "markdown",
     "metadata": {},
     "source": [
      "## Converting iris specie to categorical second approach\n",
      "\n",
      "see this link http://www.agcross.com/2015/02/random-forests-in-python-with-scikit-learn/"
     ]
    },
    {
     "cell_type": "code",
     "collapsed": false,
     "input": [
      "from sklearn.ensemble import RandomForestClassifier as RFC\n",
      "from sklearn.datasets import load_iris\n",
      " \n",
      "import numpy as np\n",
      "import pandas as pd\n",
      "import matplotlib.pyplot as plt\n",
      "\n",
      "iris = load_iris()\n",
      "df = pd.DataFrame(iris.data, columns=iris.feature_names)\n",
      "\n",
      "## Defining train n test set\n",
      "df['is_train'] = np.random.uniform(0, 1, len(df)) <= .75\n",
      "\n",
      "# convert to categorical data\n",
      "df['specie'] = pd.Categorical.from_codes(iris.target,categories = iris.target_names)\n",
      "\n",
      "print \"Describe in numerical data:\"\n",
      "print df.describe()\n",
      "\n",
      "print \"Describe in categorical data:\"\n",
      "print df['specie'].describe()\n",
      "\n",
      "\n",
      "print df.specie[:3]\n",
      "\n",
      "print df.tail(7)\n"
     ],
     "language": "python",
     "metadata": {},
     "outputs": [
      {
       "output_type": "stream",
       "stream": "stdout",
       "text": [
        "Describe in numerical data:\n",
        "       sepal length (cm)  sepal width (cm)  petal length (cm)  \\\n",
        "count         150.000000        150.000000         150.000000   \n",
        "mean            5.843333          3.054000           3.758667   \n",
        "std             0.828066          0.433594           1.764420   \n",
        "min             4.300000          2.000000           1.000000   \n",
        "25%             5.100000          2.800000           1.600000   \n",
        "50%             5.800000          3.000000           4.350000   \n",
        "75%             6.400000          3.300000           5.100000   \n",
        "max             7.900000          4.400000           6.900000   \n",
        "\n",
        "       petal width (cm)   is_train  \n",
        "count        150.000000        150  \n",
        "mean           1.198667  0.7933333  \n",
        "std            0.763161  0.4062708  \n",
        "min            0.100000      False  \n",
        "25%            0.300000          1  \n",
        "50%            1.300000          1  \n",
        "75%            1.800000          1  \n",
        "max            2.500000       True  \n",
        "Describe in categorical data:\n",
        "count           150\n",
        "unique            3\n",
        "top       virginica\n",
        "freq             50\n",
        "Name: specie, dtype: object\n",
        "0    setosa\n",
        "1    setosa\n",
        "2    setosa\n",
        "Name: specie, dtype: category\n",
        "Categories (3, object): [setosa, versicolor, virginica]\n",
        "     sepal length (cm)  sepal width (cm)  petal length (cm)  petal width (cm)  \\\n",
        "143                6.8               3.2                5.9               2.3   \n",
        "144                6.7               3.3                5.7               2.5   \n",
        "145                6.7               3.0                5.2               2.3   \n",
        "146                6.3               2.5                5.0               1.9   \n",
        "147                6.5               3.0                5.2               2.0   \n",
        "148                6.2               3.4                5.4               2.3   \n",
        "149                5.9               3.0                5.1               1.8   \n",
        "\n",
        "    is_train     specie  \n",
        "143     True  virginica  \n",
        "144     True  virginica  \n",
        "145    False  virginica  \n",
        "146     True  virginica  \n",
        "147     True  virginica  \n",
        "148     True  virginica  \n",
        "149     True  virginica  \n"
       ]
      }
     ],
     "prompt_number": 62
    },
    {
     "cell_type": "code",
     "collapsed": false,
     "input": [
      "# You can use ski kit learn\n",
      "\n",
      "# STEP 1: split X and y into training and testing sets\n",
      "from sklearn.cross_validation import train_test_split\n",
      "\n",
      "## random_state is the seed\n",
      "#X_train, X_test, y_train, y_test = train_test_split(X, y, test_size=0.4, random_state=4)\n",
      "\n",
      "train, test = df[df['is_train']==True], df[df['is_train']==False]\n",
      "features = df.columns[0:4]\n",
      "\n",
      "print features\n",
      "\n",
      "print train.head()\n",
      "\n",
      "print test.head()\n"
     ],
     "language": "python",
     "metadata": {},
     "outputs": [
      {
       "output_type": "stream",
       "stream": "stdout",
       "text": [
        "Index([u'sepal length (cm)', u'sepal width (cm)', u'petal length (cm)',\n",
        "       u'petal width (cm)'],\n",
        "      dtype='object')\n",
        "   sepal length (cm)  sepal width (cm)  petal length (cm)  petal width (cm)  \\\n",
        "0                5.1               3.5                1.4               0.2   \n",
        "2                4.7               3.2                1.3               0.2   \n",
        "4                5.0               3.6                1.4               0.2   \n",
        "5                5.4               3.9                1.7               0.4   \n",
        "6                4.6               3.4                1.4               0.3   \n",
        "\n",
        "  is_train  specie  \n",
        "0     True  setosa  \n",
        "2     True  setosa  \n",
        "4     True  setosa  \n",
        "5     True  setosa  \n",
        "6     True  setosa  \n",
        "    sepal length (cm)  sepal width (cm)  petal length (cm)  petal width (cm)  \\\n",
        "1                 4.9               3.0                1.4               0.2   \n",
        "3                 4.6               3.1                1.5               0.2   \n",
        "8                 4.4               2.9                1.4               0.2   \n",
        "20                5.4               3.4                1.7               0.2   \n",
        "29                4.7               3.2                1.6               0.2   \n",
        "\n",
        "   is_train  specie  \n",
        "1     False  setosa  \n",
        "3     False  setosa  \n",
        "8     False  setosa  \n",
        "20    False  setosa  \n",
        "29    False  setosa  \n"
       ]
      }
     ],
     "prompt_number": 44
    },
    {
     "cell_type": "code",
     "collapsed": false,
     "input": [
      "# Random forest\n",
      "\n",
      "forest = RFC(n_jobs=2,n_estimators=50)"
     ],
     "language": "python",
     "metadata": {},
     "outputs": [],
     "prompt_number": 45
    },
    {
     "cell_type": "code",
     "collapsed": false,
     "input": [
      "# y,_ = foo() You decompose the returned tuple into two distinct values, y and _.\n",
      "# _ means \"I don't need that value anymore\".\n",
      "y,_ = pd.factorize(train['specie'])\n",
      "\n",
      "print y\n",
      "\n",
      "# Compute the models\n",
      "forest.fit(train[features], y)\n",
      "\n",
      "preds = iris.target_names[forest.predict(test[features])]\n",
      "\n",
      "print pd.crosstab(index=test['specie'], columns=preds, rownames=['actual'], colnames=['preds'])"
     ],
     "language": "python",
     "metadata": {},
     "outputs": [
      {
       "output_type": "stream",
       "stream": "stdout",
       "text": [
        "[0 0 0 0 0 0 0 0 0 0 0 0 0 0 0 0 0 0 0 0 0 0 0 0 0 0 0 0 0 0 0 0 0 0 0 0 0\n",
        " 0 0 0 1 1 1 1 1 1 1 1 1 1 1 1 1 1 1 1 1 1 1 1 1 1 1 1 1 1 1 1 1 1 1 1 1 1\n",
        " 2 2 2 2 2 2 2 2 2 2 2 2 2 2 2 2 2 2 2 2 2 2 2 2 2 2 2 2 2 2 2 2 2 2 2 2 2\n",
        " 2 2 2]\n",
        "preds       setosa  versicolor  virginica\n",
        "actual                                   \n",
        "setosa          10           0          0\n",
        "versicolor       0          15          1\n",
        "virginica        0           1          9"
       ]
      },
      {
       "output_type": "stream",
       "stream": "stdout",
       "text": [
        "\n"
       ]
      }
     ],
     "prompt_number": 46
    },
    {
     "cell_type": "code",
     "collapsed": false,
     "input": [
      "## Just to check if it doesnt work\n",
      "yy = train.specie\n",
      "\n",
      "forest = RFC(n_jobs=2,n_estimators=50)\n",
      "\n",
      "# Compute the models\n",
      "forest.fit(train[features], yy)\n",
      "\n",
      "preds = forest.predict(test[features])\n",
      "\n",
      "print pd.crosstab(index=test['specie'], columns=preds, rownames=['actual'], colnames=['preds'])"
     ],
     "language": "python",
     "metadata": {},
     "outputs": [
      {
       "output_type": "stream",
       "stream": "stdout",
       "text": [
        "preds       setosa  versicolor  virginica\n",
        "actual                                   \n",
        "setosa          10           0          0\n",
        "versicolor       0          15          1\n",
        "virginica        0           1          9\n"
       ]
      }
     ],
     "prompt_number": 47
    },
    {
     "cell_type": "code",
     "collapsed": false,
     "input": [
      "## Find importnat variables\n",
      "\n",
      "importances = forest.feature_importances_\n",
      "indices = np.argsort(importances)\n",
      "\n",
      "# allow plots to appear within the notebook\n",
      "%matplotlib inline\n",
      "\n",
      "plt.figure(1)\n",
      "plt.title('Feature Importances')\n",
      "plt.barh(range(len(indices)), importances[indices], color='b', align='center')\n",
      "plt.yticks(range(len(indices)), features[indices])\n",
      "plt.xlabel('Relative Importance')\n"
     ],
     "language": "python",
     "metadata": {},
     "outputs": [
      {
       "metadata": {},
       "output_type": "pyout",
       "prompt_number": 48,
       "text": [
        "<matplotlib.text.Text at 0x7f26d9c7b990>"
       ]
      },
      {
       "metadata": {},
       "output_type": "display_data",
       "png": "[encoded data removed]",
       "text": [
        "<matplotlib.figure.Figure at 0x7f26db793790>"
       ]
      }
     ],
     "prompt_number": 48
    },
    {
     "cell_type": "markdown",
     "metadata": {},
     "source": [
      "## Testing categorical var at X\n",
      "\n",
      "See this link http://scikit-learn.org/stable/modules/preprocessing.html\n",
      "\n",
      "### Understnading oneHotEncoder"
     ]
    },
    {
     "cell_type": "code",
     "collapsed": false,
     "input": [
      "from sklearn import preprocessing\n",
      "\n",
      "enc = preprocessing.OneHotEncoder()\n",
      "X = [[0, 0, 3], [1, 1, 0], [0, 2, 1], [1, 0, 2]]\n",
      "\n",
      "print pd.DataFrame(X)\n",
      "\n",
      "enc.fit(X)\n",
      "\n",
      "enc.transform([[0, 1, 3]]).toarray()"
     ],
     "language": "python",
     "metadata": {},
     "outputs": [
      {
       "output_type": "stream",
       "stream": "stdout",
       "text": [
        "   0  1  2\n",
        "0  0  0  3\n",
        "1  1  1  0\n",
        "2  0  2  1\n",
        "3  1  0  2\n"
       ]
      },
      {
       "metadata": {},
       "output_type": "pyout",
       "prompt_number": 87,
       "text": [
        "array([[ 1.,  0.,  0.,  1.,  0.,  0.,  0.,  0.,  1.]])"
       ]
      }
     ],
     "prompt_number": 87
    },
    {
     "cell_type": "code",
     "collapsed": false,
     "input": [
      "X = [[1],[0],[1]]\n",
      "print pd.DataFrame(X)\n",
      "\n",
      "enc.fit(X)\n",
      "        \n",
      "enc.transform(X).toarray()"
     ],
     "language": "python",
     "metadata": {},
     "outputs": [
      {
       "output_type": "stream",
       "stream": "stdout",
       "text": [
        "   0\n",
        "0  1\n",
        "1  0\n",
        "2  1\n"
       ]
      },
      {
       "metadata": {},
       "output_type": "pyout",
       "prompt_number": 98,
       "text": [
        "array([[ 0.,  1.],\n",
        "       [ 1.,  0.],\n",
        "       [ 0.,  1.]])"
       ]
      }
     ],
     "prompt_number": 98
    },
    {
     "cell_type": "markdown",
     "metadata": {},
     "source": [
      "### Try this github code parece que ele trabalhou com var categprica date and time\n",
      "see https://github.com/Autodidact24/Bike-sharing-demand"
     ]
    },
    {
     "cell_type": "code",
     "collapsed": false,
     "input": [],
     "language": "python",
     "metadata": {},
     "outputs": []
    },
    {
     "cell_type": "code",
     "collapsed": false,
     "input": [
      "df = pd.DataFrame(iris.data, columns=iris.feature_names)\n",
      "\n",
      "## Defining train n test set\n",
      "df['is_train'] = np.random.uniform(0, 1, len(df)) <= .75\n",
      "\n",
      "# convert to categorical data\n",
      "df['specie'] = pd.Categorical.from_codes(iris.target,categories = iris.target_names)\n",
      "\n",
      "# convert to categorical data\n",
      "df['is_train'] = np.random.randint(0,4,size=len(df)) \n",
      "df['is_train'] = pd.Categorical.from_codes(df['is_train'],categories = ['c1', 'c2','c3','c4'])\n",
      "\n",
      "print df.is_train.describe()\n",
      "\n",
      "print df.is_train.head()\n",
      "\n",
      "# Redefining X\n",
      "features = df.columns[[0,1,2,3,4]]\n",
      "print features\n",
      "\n",
      "from sklearn.cross_validation import train_test_split\n",
      "\n",
      "## random_state is the seed\n",
      "X_train, X_test, y_train, y_test = train_test_split(df[features], df.specie, test_size=0.4, random_state=4)\n",
      "\n",
      "print X_train.head()\n",
      "print y_train.describe()\n"
     ],
     "language": "python",
     "metadata": {},
     "outputs": [
      {
       "output_type": "stream",
       "stream": "stdout",
       "text": [
        "count     150\n",
        "unique      4\n",
        "top        c3\n",
        "freq       48\n",
        "Name: is_train, dtype: object\n",
        "0    c1\n",
        "1    c4\n",
        "2    c1\n",
        "3    c3\n",
        "4    c1\n",
        "Name: is_train, dtype: category\n",
        "Categories (4, object): [c1, c2, c3, c4]\n",
        "Index([u'sepal length (cm)', u'sepal width (cm)', u'petal length (cm)',\n",
        "       u'petal width (cm)', u'is_train'],\n",
        "      dtype='object')\n",
        "     sepal length (cm)  sepal width (cm)  petal length (cm)  petal width (cm)  \\\n",
        "6                  4.6               3.4                1.4               0.3   \n",
        "88                 5.6               3.0                4.1               1.3   \n",
        "39                 5.1               3.4                1.5               0.2   \n",
        "74                 6.4               2.9                4.3               1.3   \n",
        "112                6.8               3.0                5.5               2.1   \n",
        "\n",
        "    is_train  \n",
        "6         c2  \n",
        "88        c2  \n",
        "39        c3  \n",
        "74        c4  \n",
        "112       c3  \n",
        "            counts     freqs\n",
        "categories                  \n",
        "setosa          25  0.277778\n",
        "versicolor      33  0.366667\n",
        "virginica       32  0.355556\n"
       ]
      }
     ],
     "prompt_number": 78
    },
    {
     "cell_type": "code",
     "collapsed": false,
     "input": [
      "## Runing randomforest\n",
      "\n",
      "forest = RFC(n_jobs=2,n_estimators=50)\n",
      "\n",
      "# Compute the models\n",
      "forest.fit(X_train, y_train)\n",
      "\n",
      "#preds = forest.predict(test[features])\n",
      "\n",
      "\n",
      "## Running linearvregression"
     ],
     "language": "python",
     "metadata": {},
     "outputs": [
      {
       "ename": "ValueError",
       "evalue": "could not convert string to float: c4",
       "output_type": "pyerr",
       "traceback": [
        "\u001b[0;31m---------------------------------------------------------------------------\u001b[0m\n\u001b[0;31mValueError\u001b[0m                                Traceback (most recent call last)",
        "\u001b[0;32m<ipython-input-79-ffca1fd14c30>\u001b[0m in \u001b[0;36m<module>\u001b[0;34m()\u001b[0m\n\u001b[1;32m      4\u001b[0m \u001b[0;34m\u001b[0m\u001b[0m\n\u001b[1;32m      5\u001b[0m \u001b[0;31m# Compute the models\u001b[0m\u001b[0;34m\u001b[0m\u001b[0;34m\u001b[0m\u001b[0m\n\u001b[0;32m----> 6\u001b[0;31m \u001b[0mforest\u001b[0m\u001b[0;34m.\u001b[0m\u001b[0mfit\u001b[0m\u001b[0;34m(\u001b[0m\u001b[0mX_train\u001b[0m\u001b[0;34m,\u001b[0m \u001b[0my_train\u001b[0m\u001b[0;34m)\u001b[0m\u001b[0;34m\u001b[0m\u001b[0m\n\u001b[0m\u001b[1;32m      7\u001b[0m \u001b[0;34m\u001b[0m\u001b[0m\n\u001b[1;32m      8\u001b[0m \u001b[0;31m#preds = forest.predict(test[features])\u001b[0m\u001b[0;34m\u001b[0m\u001b[0;34m\u001b[0m\u001b[0m\n",
        "\u001b[0;32m/usr/local/lib/python2.7/dist-packages/sklearn/ensemble/forest.pyc\u001b[0m in \u001b[0;36mfit\u001b[0;34m(self, X, y, sample_weight)\u001b[0m\n\u001b[1;32m    193\u001b[0m         \"\"\"\n\u001b[1;32m    194\u001b[0m         \u001b[0;31m# Validate or convert input data\u001b[0m\u001b[0;34m\u001b[0m\u001b[0;34m\u001b[0m\u001b[0m\n\u001b[0;32m--> 195\u001b[0;31m         \u001b[0mX\u001b[0m \u001b[0;34m=\u001b[0m \u001b[0mcheck_array\u001b[0m\u001b[0;34m(\u001b[0m\u001b[0mX\u001b[0m\u001b[0;34m,\u001b[0m \u001b[0mdtype\u001b[0m\u001b[0;34m=\u001b[0m\u001b[0mDTYPE\u001b[0m\u001b[0;34m,\u001b[0m \u001b[0maccept_sparse\u001b[0m\u001b[0;34m=\u001b[0m\u001b[0;34m\"csc\"\u001b[0m\u001b[0;34m)\u001b[0m\u001b[0;34m\u001b[0m\u001b[0m\n\u001b[0m\u001b[1;32m    196\u001b[0m         \u001b[0;32mif\u001b[0m \u001b[0missparse\u001b[0m\u001b[0;34m(\u001b[0m\u001b[0mX\u001b[0m\u001b[0;34m)\u001b[0m\u001b[0;34m:\u001b[0m\u001b[0;34m\u001b[0m\u001b[0m\n\u001b[1;32m    197\u001b[0m             \u001b[0;31m# Pre-sort indices to avoid that each individual tree of the\u001b[0m\u001b[0;34m\u001b[0m\u001b[0;34m\u001b[0m\u001b[0m\n",
        "\u001b[0;32m/usr/local/lib/python2.7/dist-packages/sklearn/utils/validation.pyc\u001b[0m in \u001b[0;36mcheck_array\u001b[0;34m(array, accept_sparse, dtype, order, copy, force_all_finite, ensure_2d, allow_nd, ensure_min_samples, ensure_min_features)\u001b[0m\n\u001b[1;32m    342\u001b[0m             \u001b[0;32melse\u001b[0m\u001b[0;34m:\u001b[0m\u001b[0;34m\u001b[0m\u001b[0m\n\u001b[1;32m    343\u001b[0m                 \u001b[0mdtype\u001b[0m \u001b[0;34m=\u001b[0m \u001b[0mNone\u001b[0m\u001b[0;34m\u001b[0m\u001b[0m\n\u001b[0;32m--> 344\u001b[0;31m         \u001b[0marray\u001b[0m \u001b[0;34m=\u001b[0m \u001b[0mnp\u001b[0m\u001b[0;34m.\u001b[0m\u001b[0marray\u001b[0m\u001b[0;34m(\u001b[0m\u001b[0marray\u001b[0m\u001b[0;34m,\u001b[0m \u001b[0mdtype\u001b[0m\u001b[0;34m=\u001b[0m\u001b[0mdtype\u001b[0m\u001b[0;34m,\u001b[0m \u001b[0morder\u001b[0m\u001b[0;34m=\u001b[0m\u001b[0morder\u001b[0m\u001b[0;34m,\u001b[0m \u001b[0mcopy\u001b[0m\u001b[0;34m=\u001b[0m\u001b[0mcopy\u001b[0m\u001b[0;34m)\u001b[0m\u001b[0;34m\u001b[0m\u001b[0m\n\u001b[0m\u001b[1;32m    345\u001b[0m         \u001b[0;31m# make sure we actually converted to numeric:\u001b[0m\u001b[0;34m\u001b[0m\u001b[0;34m\u001b[0m\u001b[0m\n\u001b[1;32m    346\u001b[0m         \u001b[0;32mif\u001b[0m \u001b[0mdtype_numeric\u001b[0m \u001b[0;32mand\u001b[0m \u001b[0marray\u001b[0m\u001b[0;34m.\u001b[0m\u001b[0mdtype\u001b[0m\u001b[0;34m.\u001b[0m\u001b[0mkind\u001b[0m \u001b[0;34m==\u001b[0m \u001b[0;34m\"O\"\u001b[0m\u001b[0;34m:\u001b[0m\u001b[0;34m\u001b[0m\u001b[0m\n",
        "\u001b[0;31mValueError\u001b[0m: could not convert string to float: c4"
       ]
      }
     ],
     "prompt_number": 79
    }
   ],
   "metadata": {}
  }
 ]
}