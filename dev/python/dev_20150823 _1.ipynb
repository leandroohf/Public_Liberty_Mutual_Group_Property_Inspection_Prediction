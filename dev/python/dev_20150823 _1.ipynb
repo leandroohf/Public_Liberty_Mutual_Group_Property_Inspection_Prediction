{
 "metadata": {
  "name": ""
 },
 "nbformat": 3,
 "nbformat_minor": 0,
 "worksheets": [
  {
   "cells": [
    {
     "cell_type": "markdown",
     "metadata": {},
     "source": [
      "# Testing work with categorical columns\n",
      "\n",
      "Considerei apenas algumas Hazard < 16\n",
      "E mantive demais parametros.\n",
      "\n",
      "Rebalanciei a base de treino todas as clases consideradas tem 3k amostras\n",
      "\n",
      "Treino parou pelo numero maxino de interacao\n",
      "[2499]\ttrain-poisson-nloglik:2.264032\tval-poisson-nloglik:2.401830\n",
      "\n",
      "Nao foi bom o score\n"
     ]
    },
    {
     "cell_type": "code",
     "collapsed": false,
     "input": [
      "import pandas as pd\n",
      "import numpy as np \n",
      "from sklearn import preprocessing\n",
      "import xgboost as xgb\n",
      "import random \n",
      "\n",
      "#load train and test \n",
      "train  = pd.read_csv('../data/raw/train.csv', index_col=0)\n",
      "test   = pd.read_csv('../data/raw/test.csv', index_col=0)\n",
      "\n",
      "print train.shape\n",
      "## XXX Parece BUG head() nao mostra a ultimas colunas: 10,20,30\n",
      "## Entao eu tive que duplicar para imprimir todas as colunas\n",
      "print train.iloc[:,0:10].head()\n",
      "print train.iloc[:,10:20].head()\n",
      "print train.iloc[:,20:30].head()\n",
      "print train.iloc[:,30:33].head()\n",
      "print \"==========================\"\n",
      "\n",
      "labels = train.Hazard\n",
      "%matplotlib inline\n",
      "labels.hist(bins=69)"
     ],
     "language": "python",
     "metadata": {},
     "outputs": [
      {
       "output_type": "stream",
       "stream": "stdout",
       "text": [
        "(50999, 33)\n",
        "    Hazard  T1_V1  T1_V2  T1_V3 T1_V4 T1_V5 T1_V6 T1_V7 T1_V8 T1_V9\n",
        "Id                                                                 \n",
        "1        1     15      3      2     N     B     N     B     B     D\n",
        "2        4     16     14      5     H     B     N     B     B     C\n",
        "3        1     10     10      5     N     K     N     B     B     E\n",
        "4        1     18     18      5     N     K     N     B     B     E\n",
        "5        1     13     19      5     N     H     N     B     B     E\n",
        "    T1_V10 T1_V11 T1_V12  T1_V13  T1_V14 T1_V15 T1_V16 T1_V17  T2_V1  T2_V2\n",
        "Id                                                                         \n",
        "1        7      B      B      15       1      A      B      N     36     11\n",
        "2       12      B      B      10       3      A      B      Y     78     10\n",
        "3       12      H      B      15       1      A      R      Y     71     21\n",
        "4        3      H      B      15       1      A      R      N     71     13\n",
        "5        7      H      B      10       1      A      J      N     75     10\n",
        "   T2_V3  T2_V4 T2_V5  T2_V6  T2_V7  T2_V8  T2_V9  T2_V10 T2_V11 T2_V12\n",
        "Id                                                                     \n",
        "1      N     10     B      2     37      1     11       6      Y      N\n",
        "2      Y     17     C      2     22      1     18       5      Y      Y\n",
        "3      Y     13     C      6     37      2     14       6      Y      Y\n",
        "4      N     15     A      2     25      1      1       6      Y      N\n",
        "5      Y     11     B      1     22      1      2       7      N      N\n",
        "   T2_V13  T2_V14  T2_V15\n",
        "Id                       \n",
        "1       E       2       2\n",
        "2       E       2       1\n",
        "3       E       6       1\n",
        "4       C       2       6\n",
        "5       E       1       1\n",
        "==========================\n"
       ]
      },
      {
       "metadata": {},
       "output_type": "pyout",
       "prompt_number": 184,
       "text": [
        "<matplotlib.axes.AxesSubplot at 0x7f902169be10>"
       ]
      },
      {
       "metadata": {},
       "output_type": "display_data",
       "png": "[encoded data removed]",
       "text": [
        "<matplotlib.figure.Figure at 0x7f90218ffcd0>"
       ]
      }
     ],
     "prompt_number": 184
    },
    {
     "cell_type": "code",
     "collapsed": false,
     "input": [
      "num_names = ['T1_V1','T1_V2','T1_V3','T1_V10','T1_V13','T1_V14',\n",
      "             'T2_V1','T2_V2','T2_V4','T2_V6','T2_V7','T2_V8','T2_V9','T2_V10',\n",
      "             'T2_V14','T2_V15']\n",
      "\n",
      "print \"Spliting data in categorical and numeric\"\n",
      "train_num = train.copy()[num_names]\n",
      "train_num['Hazard'] = train['Hazard'].copy()\n",
      "\n",
      "train_cat = train.copy().drop(train_num.columns,axis=1)\n",
      "\n",
      "for c in train_cat.columns:\n",
      "    print \"cols: \" + c\n",
      "    print train_cat[c].unique()"
     ],
     "language": "python",
     "metadata": {},
     "outputs": [
      {
       "output_type": "stream",
       "stream": "stdout",
       "text": [
        "Spliting data in categorical and numeric\n",
        "cols: T1_V4"
       ]
      },
      {
       "output_type": "stream",
       "stream": "stdout",
       "text": [
        "\n",
        "['N' 'H' 'E' 'W' 'B' 'C' 'S' 'G']\n",
        "cols: T1_V5\n",
        "['B' 'K' 'H' 'C' 'I' 'A' 'D' 'J' 'E' 'L']\n",
        "cols: T1_V6\n",
        "['N' 'Y']\n",
        "cols: T1_V7\n",
        "['B' 'D' 'A' 'C']\n",
        "cols: T1_V8\n",
        "['B' 'D' 'A' 'C']\n",
        "cols: T1_V9\n",
        "['D' 'C' 'E' 'F' 'B' 'G']\n",
        "cols: T1_V11\n",
        "['B' 'H' 'I' 'M' 'L' 'J' 'E' 'A' 'F' 'N' 'D' 'K']\n",
        "cols: T1_V12\n",
        "['B' 'C' 'D' 'A']\n",
        "cols: T1_V15\n",
        "['A' 'D' 'C' 'H' 'N' 'S' 'W' 'F']\n",
        "cols: T1_V16\n",
        "['B' 'R' 'J' 'K' 'D' 'C' 'N' 'E' 'I' 'F' 'M' 'H' 'A' 'Q' 'G' 'L' 'P' 'O']\n",
        "cols: T1_V17\n",
        "['N' 'Y']\n",
        "cols: T2_V3\n",
        "['N' 'Y']\n",
        "cols: T2_V5\n",
        "['B' 'C' 'A' 'D' 'E' 'F']\n",
        "cols: T2_V11\n",
        "['Y' 'N']\n",
        "cols: T2_V12\n",
        "['N' 'Y']\n",
        "cols: T2_V13\n",
        "['E' 'C' 'A' 'D' 'B']\n"
       ]
      }
     ],
     "prompt_number": 185
    },
    {
     "cell_type": "markdown",
     "metadata": {},
     "source": [
      "\n",
      "## Prepaing training data"
     ]
    },
    {
     "cell_type": "code",
     "collapsed": false,
     "input": [
      "## UNderstnading sample with replacement\n",
      "print np.random.choice([0,1,2,3,4],6)\n",
      "print range(2,16)"
     ],
     "language": "python",
     "metadata": {},
     "outputs": [
      {
       "output_type": "stream",
       "stream": "stdout",
       "text": [
        "[0 4 4 4 3 2]\n",
        "[2, 3, 4, 5, 6, 7, 8, 9, 10, 11, 12, 13, 14, 15]\n"
       ]
      }
     ],
     "prompt_number": 156
    },
    {
     "cell_type": "code",
     "collapsed": false,
     "input": [
      "## Fazendo copia dos dados\n",
      "train2 = train.copy()\n",
      "\n",
      "hazard_thr = 21\n",
      "sample_size = 3000 # sample size per class\n",
      "\n",
      "print \"Printing intial train dim:\"\n",
      "print train2.shape\n",
      "print \"Considering Hazard < \" + str(hazard_thr) + \" in train data\"\n",
      "\n",
      "train2 = train2[ train2['Hazard'] < hazard_thr]\n",
      "\n",
      "h = 1\n",
      "print \"Hazard: \" + str(h)\n",
      "train_aux = train2[train2.Hazard == h]\n",
      "rows_sampled = np.random.choice(train_aux.index,sample_size)\n",
      "train3 = train2.ix[rows_sampled]\n",
      "\n",
      "for h in range(2,hazard_thr):\n",
      "    print \"Hazard: \" + str(h)\n",
      "    train_aux = train2[train2.Hazard == h]\n",
      "    rows_sampled = np.random.choice(train_aux.index,sample_size)\n",
      "    train3 = train3.append(train2.ix[rows_sampled])\n",
      "\n",
      "print train3.head(15)\n",
      "labels3 = train3['Hazard'].copy()"
     ],
     "language": "python",
     "metadata": {},
     "outputs": [
      {
       "output_type": "stream",
       "stream": "stdout",
       "text": [
        "Printing intial train dim:\n",
        "(50999, 33)\n",
        "Considering Hazard < 21 in train data\n",
        "Hazard: 1\n",
        "Hazard: 2\n",
        "Hazard: 3"
       ]
      },
      {
       "output_type": "stream",
       "stream": "stdout",
       "text": [
        "\n",
        "Hazard: 4\n",
        "Hazard: 5"
       ]
      },
      {
       "output_type": "stream",
       "stream": "stdout",
       "text": [
        "\n",
        "Hazard: 6\n",
        "Hazard: 7"
       ]
      },
      {
       "output_type": "stream",
       "stream": "stdout",
       "text": [
        "\n",
        "Hazard: 8\n",
        "Hazard: 9"
       ]
      },
      {
       "output_type": "stream",
       "stream": "stdout",
       "text": [
        "\n",
        "Hazard: 10\n",
        "Hazard: 11"
       ]
      },
      {
       "output_type": "stream",
       "stream": "stdout",
       "text": [
        "\n",
        "Hazard: 12\n",
        "Hazard: 13"
       ]
      },
      {
       "output_type": "stream",
       "stream": "stdout",
       "text": [
        "\n",
        "Hazard: 14\n",
        "Hazard: 15"
       ]
      },
      {
       "output_type": "stream",
       "stream": "stdout",
       "text": [
        "\n",
        "Hazard: 16\n",
        "Hazard: 17"
       ]
      },
      {
       "output_type": "stream",
       "stream": "stdout",
       "text": [
        "\n",
        "Hazard: 18\n",
        "Hazard: 19"
       ]
      },
      {
       "output_type": "stream",
       "stream": "stdout",
       "text": [
        "\n",
        "Hazard: 20\n",
        "       Hazard  T1_V1  T1_V2  T1_V3 T1_V4 T1_V5 T1_V6 T1_V7 T1_V8 T1_V9  \\\n",
        "Id                                                                       \n",
        "20332       1      4      4      3     W     I     N     B     B     E   \n",
        "8080        1      2     10      2     C     A     N     B     B     D   \n",
        "94176       1     10     20      7     N     C     Y     B     B     D   \n",
        "10620       1     12      9      1     N     K     Y     B     B     E   \n",
        "55620       1      3     11      7     N     H     N     B     B     D   \n",
        "73208       1     13      1      1     E     H     Y     B     B     B   \n",
        "4742        1     15      8      5     N     A     Y     B     B     B   \n",
        "5400        1      9     16      1     W     C     N     B     B     D   \n",
        "90862       1      8      6      4     N     A     Y     B     B     D   \n",
        "37820       1      7      1      1     N     A     N     B     B     D   \n",
        "16899       1     10      1      1     N     C     N     B     B     D   \n",
        "20163       1     14     15      1     W     H     N     B     D     E   \n",
        "71458       1     18      7      5     N     B     N     B     B     D   \n",
        "31106       1      6     18      1     B     A     N     B     B     D   \n",
        "24785       1      5      1      1     C     A     N     B     B     D   \n",
        "\n",
        "        ...    T2_V6 T2_V7 T2_V8  T2_V9  T2_V10 T2_V11 T2_V12 T2_V13  T2_V14  \\\n",
        "Id      ...                                                                    \n",
        "20332   ...        2    40     1     16       6      Y      N      E       2   \n",
        "8080    ...        2    40     1     24       7      Y      N      E       4   \n",
        "94176   ...        1    22     1     12       2      Y      N      E       1   \n",
        "10620   ...        2    34     1     17       3      Y      N      E       2   \n",
        "55620   ...        1    28     1      2       4      N      N      A       1   \n",
        "73208   ...        1    40     1      4       4      Y      N      D       1   \n",
        "4742    ...        1    34     1     11       3      N      N      A       1   \n",
        "5400    ...        3    37     1      5       6      Y      N      D       3   \n",
        "90862   ...        2    31     1     19       7      N      N      A       2   \n",
        "37820   ...        2    37     1     16       5      Y      N      E       2   \n",
        "16899   ...        1    40     1     15       4      Y      N      E       3   \n",
        "20163   ...        1    28     1      9       3      N      N      D       2   \n",
        "71458   ...        1    40     1      5       3      N      N      E       3   \n",
        "31106   ...        1    37     1     14       6      Y      N      E       1   \n",
        "24785   ...        1    34     1      7       6      N      N      C       1   \n",
        "\n",
        "       T2_V15  \n",
        "Id             \n",
        "20332       3  \n",
        "8080        3  \n",
        "94176       1  \n",
        "10620       1  \n",
        "55620       8  \n",
        "73208       1  \n",
        "4742        1  \n",
        "5400        6  \n",
        "90862       4  \n",
        "37820       1  \n",
        "16899       1  \n",
        "20163       1  \n",
        "71458       1  \n",
        "31106       1  \n",
        "24785       1  \n",
        "\n",
        "[15 rows x 33 columns]"
       ]
      },
      {
       "output_type": "stream",
       "stream": "stdout",
       "text": [
        "\n"
       ]
      }
     ],
     "prompt_number": 186
    },
    {
     "cell_type": "code",
     "collapsed": false,
     "input": [
      "test3 = test.copy()\n",
      "\n",
      "print \"Droping columns\"\n",
      "\n",
      "train3.drop('Hazard', axis=1, inplace=True)\n",
      "train3.drop('T2_V10', axis=1, inplace=True)\n",
      "train3.drop('T2_V7', axis=1, inplace=True)\n",
      "train3.drop('T1_V13', axis=1, inplace=True)\n",
      "train3.drop('T1_V10', axis=1, inplace=True)\n",
      "\n",
      "test3.drop('T2_V10', axis=1, inplace=True)\n",
      "test3.drop('T2_V7', axis=1, inplace=True)\n",
      "test3.drop('T1_V13', axis=1, inplace=True)\n",
      "test3.drop('T1_V10', axis=1, inplace=True)\n",
      "\n",
      "print \"Printing labels dim:\"\n",
      "print labels3.shape\n",
      "print \"Printing train dim:\"\n",
      "print train3.shape\n",
      "print \"Printing test dim:\"\n",
      "print test3.shape\n",
      "    \n",
      "columns = train3.columns\n",
      "test_ind = test3.index\n",
      "\n",
      "print \"Converting to numpy array\"\n",
      "\n",
      "train3 = np.array(train3)\n",
      "test3 = np.array(test3)\n",
      "labels3 = np.array(labels3)"
     ],
     "language": "python",
     "metadata": {},
     "outputs": [
      {
       "output_type": "stream",
       "stream": "stdout",
       "text": [
        "Droping columns\n",
        "Printing labels dim:"
       ]
      },
      {
       "output_type": "stream",
       "stream": "stdout",
       "text": [
        "\n",
        "(60000,)\n",
        "Printing train dim:\n",
        "(60000, 28)\n",
        "Printing test dim:\n",
        "(51000, 28)\n",
        "Converting to numpy array\n"
       ]
      }
     ],
     "prompt_number": 187
    },
    {
     "cell_type": "markdown",
     "metadata": {},
     "source": [
      "## Seting model parameters"
     ]
    },
    {
     "cell_type": "code",
     "collapsed": false,
     "input": [
      "lbl = preprocessing.LabelEncoder()\n",
      "\n",
      "print \"Converting string columns to numerical levels\"\n",
      "# label encode the categorical variables\n",
      "for i in range(train3.shape[1]):\n",
      "    lbl = preprocessing.LabelEncoder()\n",
      "    lbl.fit(list(train3[:,i]) + list(test3[:,i]))\n",
      "    train3[:,i] = lbl.transform(train3[:,i])\n",
      "    test3[:,i] = lbl.transform(test3[:,i])\n",
      "\n",
      "train3 = train3.astype(float)\n",
      "test3 = test3.astype(float)\n",
      "\n",
      "print train3.shape"
     ],
     "language": "python",
     "metadata": {},
     "outputs": [
      {
       "output_type": "stream",
       "stream": "stdout",
       "text": [
        "Converting string columns to numerical levels\n",
        "(60000, 28)"
       ]
      },
      {
       "output_type": "stream",
       "stream": "stdout",
       "text": [
        "\n"
       ]
      }
     ],
     "prompt_number": 189
    },
    {
     "cell_type": "code",
     "collapsed": false,
     "input": [
      "params = {}\n",
      "params[\"objective\"] = \"count:poisson\" # \"reg:linear\" \n",
      "params[\"eta\"] = 0.01\n",
      "params[\"min_child_weight\"] = 5\n",
      "params[\"subsample\"] = 0.8\n",
      "params[\"colsample_bytree\"] = 0.8\n",
      "params[\"scale_pos_weight\"] = 1.0\n",
      "params[\"silent\"] = 1\n",
      "params[\"booster\"] = \"gbtree\"\n",
      "params[\"max_depth\"] = 9\n",
      "\n",
      "plst = list(params.items())\n",
      "print \"Prameters list\"\n",
      "print plst\n",
      "\n",
      "#Using 5000 rows for early stopping.\n",
      "print len(train3)\n",
      "test_rows_sampled = np.random.choice(range(len(train3)),5000)\n",
      "\n",
      "num_rounds = 2500\n",
      "xgtest = xgb.DMatrix(test3)\n",
      "\n",
      "#create a train and validation dmatrices \n",
      "print 'Setting validation and training data'\n",
      "xgval = xgb.DMatrix(train3[test_rows_sampled,:], label=labels3[test_rows_sampled])\n",
      "xgtrain = xgb.DMatrix(np.delete(train3,test_rows_sampled,0), label=np.delete(labels3,test_rows_sampled,0))\n",
      "\n",
      "print \"number of row xgtest\"\n",
      "print xgtest.num_row()\n",
      "\n",
      "print \"number of row xgtrain\"\n",
      "print xgtrain.num_row()\n",
      "\n",
      "print \"number of row xgval\"\n",
      "print xgval.num_row()"
     ],
     "language": "python",
     "metadata": {},
     "outputs": [
      {
       "output_type": "stream",
       "stream": "stdout",
       "text": [
        "Prameters list\n",
        "[('colsample_bytree', 0.8), ('silent', 1), ('scale_pos_weight', 1.0), ('min_child_weight', 5), ('subsample', 0.8), ('eta', 0.01), ('objective', 'count:poisson'), ('max_depth', 9), ('booster', 'gbtree')]\n",
        "60000\n",
        "Setting validation and training data\n",
        "number of row xgtest"
       ]
      },
      {
       "output_type": "stream",
       "stream": "stdout",
       "text": [
        "\n",
        "51000\n",
        "number of row xgtrain\n",
        "55204\n",
        "number of row xgval\n",
        "5000\n"
       ]
      }
     ],
     "prompt_number": 190
    },
    {
     "cell_type": "markdown",
     "metadata": {},
     "source": [
      "## Training XGBoost"
     ]
    },
    {
     "cell_type": "code",
     "collapsed": false,
     "input": [
      "#train using early stopping and predict\n",
      "watchlist = [(xgtrain, 'train'),(xgval, 'val')]\n",
      "model = xgb.train(plst, xgtrain, num_rounds, watchlist, early_stopping_rounds=11)"
     ],
     "language": "python",
     "metadata": {},
     "outputs": [
      {
       "output_type": "stream",
       "stream": "stderr",
       "text": [
        "Will train until val error hasn't decreased in 11 rounds.\n",
        "[0]\ttrain-poisson-nloglik:24.689566\tval-poisson-nloglik:24.483603\n"
       ]
      },
      {
       "output_type": "stream",
       "stream": "stderr",
       "text": [
        "[1]\ttrain-poisson-nloglik:23.724718\tval-poisson-nloglik:23.528458\n",
        "[2]\ttrain-poisson-nloglik:22.858324\tval-poisson-nloglik:22.677586\n"
       ]
      },
      {
       "output_type": "stream",
       "stream": "stderr",
       "text": [
        "[3]\ttrain-poisson-nloglik:22.075901\tval-poisson-nloglik:21.903021\n",
        "[4]\ttrain-poisson-nloglik:21.353695\tval-poisson-nloglik:21.195177\n"
       ]
      },
      {
       "output_type": "stream",
       "stream": "stderr",
       "text": [
        "[5]\ttrain-poisson-nloglik:20.695349\tval-poisson-nloglik:20.544075\n",
        "[6]\ttrain-poisson-nloglik:20.084820\tval-poisson-nloglik:19.942934\n"
       ]
      },
      {
       "output_type": "stream",
       "stream": "stderr",
       "text": [
        "[7]\ttrain-poisson-nloglik:19.513924\tval-poisson-nloglik:19.381304\n",
        "[8]\ttrain-poisson-nloglik:18.983042\tval-poisson-nloglik:18.855585\n"
       ]
      },
      {
       "output_type": "stream",
       "stream": "stderr",
       "text": [
        "[9]\ttrain-poisson-nloglik:18.486639\tval-poisson-nloglik:18.365665\n",
        "[10]\ttrain-poisson-nloglik:18.018457\tval-poisson-nloglik:17.904345\n"
       ]
      },
      {
       "output_type": "stream",
       "stream": "stderr",
       "text": [
        "[11]\ttrain-poisson-nloglik:17.575605\tval-poisson-nloglik:17.467855\n",
        "[12]\ttrain-poisson-nloglik:17.157835\tval-poisson-nloglik:17.055161\n"
       ]
      },
      {
       "output_type": "stream",
       "stream": "stderr",
       "text": [
        "[13]\ttrain-poisson-nloglik:16.761654\tval-poisson-nloglik:16.662329\n",
        "[14]\ttrain-poisson-nloglik:16.386339\tval-poisson-nloglik:16.292444\n"
       ]
      },
      {
       "output_type": "stream",
       "stream": "stderr",
       "text": [
        "[15]\ttrain-poisson-nloglik:16.029234\tval-poisson-nloglik:15.939074\n",
        "[16]\ttrain-poisson-nloglik:15.689225\tval-poisson-nloglik:15.603488\n"
       ]
      },
      {
       "output_type": "stream",
       "stream": "stderr",
       "text": [
        "[17]\ttrain-poisson-nloglik:15.365520\tval-poisson-nloglik:15.283636\n",
        "[18]\ttrain-poisson-nloglik:15.054967\tval-poisson-nloglik:14.977235\n"
       ]
      },
      {
       "output_type": "stream",
       "stream": "stderr",
       "text": [
        "[19]\ttrain-poisson-nloglik:14.755831\tval-poisson-nloglik:14.681447\n",
        "[20]\ttrain-poisson-nloglik:14.471441\tval-poisson-nloglik:14.399725\n"
       ]
      },
      {
       "output_type": "stream",
       "stream": "stderr",
       "text": [
        "[21]\ttrain-poisson-nloglik:14.198702\tval-poisson-nloglik:14.129555\n",
        "[22]\ttrain-poisson-nloglik:13.936314\tval-poisson-nloglik:13.869594\n"
       ]
      },
      {
       "output_type": "stream",
       "stream": "stderr",
       "text": [
        "[23]\ttrain-poisson-nloglik:13.683669\tval-poisson-nloglik:13.618097\n",
        "[24]\ttrain-poisson-nloglik:13.440573\tval-poisson-nloglik:13.378091\n"
       ]
      },
      {
       "output_type": "stream",
       "stream": "stderr",
       "text": [
        "[25]\ttrain-poisson-nloglik:13.205184\tval-poisson-nloglik:13.146141\n",
        "[26]\ttrain-poisson-nloglik:12.979655\tval-poisson-nloglik:12.924225\n"
       ]
      },
      {
       "output_type": "stream",
       "stream": "stderr",
       "text": [
        "[27]\ttrain-poisson-nloglik:12.761539\tval-poisson-nloglik:12.708471\n",
        "[28]\ttrain-poisson-nloglik:12.549290\tval-poisson-nloglik:12.498756\n"
       ]
      },
      {
       "output_type": "stream",
       "stream": "stderr",
       "text": [
        "[29]\ttrain-poisson-nloglik:12.345704\tval-poisson-nloglik:12.297741\n",
        "[30]\ttrain-poisson-nloglik:12.149647\tval-poisson-nloglik:12.104159\n"
       ]
      },
      {
       "output_type": "stream",
       "stream": "stderr",
       "text": [
        "[31]\ttrain-poisson-nloglik:11.956871\tval-poisson-nloglik:11.912996\n",
        "[32]\ttrain-poisson-nloglik:11.771589\tval-poisson-nloglik:11.729750\n"
       ]
      },
      {
       "output_type": "stream",
       "stream": "stderr",
       "text": [
        "[33]\ttrain-poisson-nloglik:11.591858\tval-poisson-nloglik:11.551958\n",
        "[34]\ttrain-poisson-nloglik:11.417889\tval-poisson-nloglik:11.380572\n"
       ]
      },
      {
       "output_type": "stream",
       "stream": "stderr",
       "text": [
        "[35]\ttrain-poisson-nloglik:11.249189\tval-poisson-nloglik:11.213077\n",
        "[36]\ttrain-poisson-nloglik:11.085852\tval-poisson-nloglik:11.051222\n"
       ]
      },
      {
       "output_type": "stream",
       "stream": "stderr",
       "text": [
        "[37]\ttrain-poisson-nloglik:10.926842\tval-poisson-nloglik:10.894248\n",
        "[38]\ttrain-poisson-nloglik:10.771781\tval-poisson-nloglik:10.740463\n"
       ]
      },
      {
       "output_type": "stream",
       "stream": "stderr",
       "text": [
        "[39]\ttrain-poisson-nloglik:10.621685\tval-poisson-nloglik:10.591562\n",
        "[40]\ttrain-poisson-nloglik:10.475654\tval-poisson-nloglik:10.447111\n"
       ]
      },
      {
       "output_type": "stream",
       "stream": "stderr",
       "text": [
        "[41]\ttrain-poisson-nloglik:10.334079\tval-poisson-nloglik:10.307492\n",
        "[42]\ttrain-poisson-nloglik:10.195590\tval-poisson-nloglik:10.170702\n"
       ]
      },
      {
       "output_type": "stream",
       "stream": "stderr",
       "text": [
        "[43]\ttrain-poisson-nloglik:10.061371\tval-poisson-nloglik:10.038144\n",
        "[44]\ttrain-poisson-nloglik:9.930052\tval-poisson-nloglik:9.908193\n"
       ]
      },
      {
       "output_type": "stream",
       "stream": "stderr",
       "text": [
        "[45]\ttrain-poisson-nloglik:9.802011\tval-poisson-nloglik:9.781376\n",
        "[46]\ttrain-poisson-nloglik:9.678205\tval-poisson-nloglik:9.659199\n"
       ]
      },
      {
       "output_type": "stream",
       "stream": "stderr",
       "text": [
        "[47]\ttrain-poisson-nloglik:9.556380\tval-poisson-nloglik:9.539021\n",
        "[48]\ttrain-poisson-nloglik:9.438630\tval-poisson-nloglik:9.422638\n"
       ]
      },
      {
       "output_type": "stream",
       "stream": "stderr",
       "text": [
        "[49]\ttrain-poisson-nloglik:9.322716\tval-poisson-nloglik:9.308627\n",
        "[50]\ttrain-poisson-nloglik:9.210238\tval-poisson-nloglik:9.197435\n"
       ]
      },
      {
       "output_type": "stream",
       "stream": "stderr",
       "text": [
        "[51]\ttrain-poisson-nloglik:9.100204\tval-poisson-nloglik:9.088208\n",
        "[52]\ttrain-poisson-nloglik:8.993188\tval-poisson-nloglik:8.982497\n"
       ]
      },
      {
       "output_type": "stream",
       "stream": "stderr",
       "text": [
        "[53]\ttrain-poisson-nloglik:8.888618\tval-poisson-nloglik:8.879149\n",
        "[54]\ttrain-poisson-nloglik:8.785620\tval-poisson-nloglik:8.777821\n"
       ]
      },
      {
       "output_type": "stream",
       "stream": "stderr",
       "text": [
        "[55]\ttrain-poisson-nloglik:8.683545\tval-poisson-nloglik:8.676770\n",
        "[56]\ttrain-poisson-nloglik:8.585478\tval-poisson-nloglik:8.579780\n"
       ]
      },
      {
       "output_type": "stream",
       "stream": "stderr",
       "text": [
        "[57]\ttrain-poisson-nloglik:8.490124\tval-poisson-nloglik:8.485232\n",
        "[58]\ttrain-poisson-nloglik:8.396548\tval-poisson-nloglik:8.392353\n"
       ]
      },
      {
       "output_type": "stream",
       "stream": "stderr",
       "text": [
        "[59]\ttrain-poisson-nloglik:8.304911\tval-poisson-nloglik:8.301496\n",
        "[60]\ttrain-poisson-nloglik:8.215222\tval-poisson-nloglik:8.213036\n"
       ]
      },
      {
       "output_type": "stream",
       "stream": "stderr",
       "text": [
        "[61]\ttrain-poisson-nloglik:8.127405\tval-poisson-nloglik:8.126068\n",
        "[62]\ttrain-poisson-nloglik:8.041606\tval-poisson-nloglik:8.041508\n"
       ]
      },
      {
       "output_type": "stream",
       "stream": "stderr",
       "text": [
        "[63]\ttrain-poisson-nloglik:7.957124\tval-poisson-nloglik:7.958255\n",
        "[64]\ttrain-poisson-nloglik:7.874993\tval-poisson-nloglik:7.877177\n"
       ]
      },
      {
       "output_type": "stream",
       "stream": "stderr",
       "text": [
        "[65]\ttrain-poisson-nloglik:7.794220\tval-poisson-nloglik:7.797471\n",
        "[66]\ttrain-poisson-nloglik:7.714766\tval-poisson-nloglik:7.718576\n"
       ]
      },
      {
       "output_type": "stream",
       "stream": "stderr",
       "text": [
        "[67]\ttrain-poisson-nloglik:7.637712\tval-poisson-nloglik:7.642463\n",
        "[68]\ttrain-poisson-nloglik:7.561989\tval-poisson-nloglik:7.567613\n"
       ]
      },
      {
       "output_type": "stream",
       "stream": "stderr",
       "text": [
        "[69]\ttrain-poisson-nloglik:7.488502\tval-poisson-nloglik:7.494540\n",
        "[70]\ttrain-poisson-nloglik:7.416186\tval-poisson-nloglik:7.423121\n"
       ]
      },
      {
       "output_type": "stream",
       "stream": "stderr",
       "text": [
        "[71]\ttrain-poisson-nloglik:7.345184\tval-poisson-nloglik:7.352560\n",
        "[72]\ttrain-poisson-nloglik:7.275394\tval-poisson-nloglik:7.283575\n"
       ]
      },
      {
       "output_type": "stream",
       "stream": "stderr",
       "text": [
        "[73]\ttrain-poisson-nloglik:7.206113\tval-poisson-nloglik:7.215227\n",
        "[74]\ttrain-poisson-nloglik:7.139172\tval-poisson-nloglik:7.149329\n"
       ]
      },
      {
       "output_type": "stream",
       "stream": "stderr",
       "text": [
        "[75]\ttrain-poisson-nloglik:7.073398\tval-poisson-nloglik:7.084546\n",
        "[76]\ttrain-poisson-nloglik:7.009077\tval-poisson-nloglik:7.020922\n"
       ]
      },
      {
       "output_type": "stream",
       "stream": "stderr",
       "text": [
        "[77]\ttrain-poisson-nloglik:6.945868\tval-poisson-nloglik:6.958459\n",
        "[78]\ttrain-poisson-nloglik:6.883995\tval-poisson-nloglik:6.897120\n"
       ]
      },
      {
       "output_type": "stream",
       "stream": "stderr",
       "text": [
        "[79]\ttrain-poisson-nloglik:6.823031\tval-poisson-nloglik:6.836716\n",
        "[80]\ttrain-poisson-nloglik:6.763170\tval-poisson-nloglik:6.777508\n"
       ]
      },
      {
       "output_type": "stream",
       "stream": "stderr",
       "text": [
        "[81]\ttrain-poisson-nloglik:6.704192\tval-poisson-nloglik:6.719284\n",
        "[82]\ttrain-poisson-nloglik:6.646524\tval-poisson-nloglik:6.662552\n"
       ]
      },
      {
       "output_type": "stream",
       "stream": "stderr",
       "text": [
        "[83]\ttrain-poisson-nloglik:6.589704\tval-poisson-nloglik:6.606558\n",
        "[84]\ttrain-poisson-nloglik:6.534250\tval-poisson-nloglik:6.551709\n"
       ]
      },
      {
       "output_type": "stream",
       "stream": "stderr",
       "text": [
        "[85]\ttrain-poisson-nloglik:6.479809\tval-poisson-nloglik:6.497700\n",
        "[86]\ttrain-poisson-nloglik:6.426033\tval-poisson-nloglik:6.444510\n"
       ]
      },
      {
       "output_type": "stream",
       "stream": "stderr",
       "text": [
        "[87]\ttrain-poisson-nloglik:6.373397\tval-poisson-nloglik:6.392334\n",
        "[88]\ttrain-poisson-nloglik:6.321411\tval-poisson-nloglik:6.340849\n"
       ]
      },
      {
       "output_type": "stream",
       "stream": "stderr",
       "text": [
        "[89]\ttrain-poisson-nloglik:6.270407\tval-poisson-nloglik:6.290394\n",
        "[90]\ttrain-poisson-nloglik:6.220507\tval-poisson-nloglik:6.241126\n"
       ]
      },
      {
       "output_type": "stream",
       "stream": "stderr",
       "text": [
        "[91]\ttrain-poisson-nloglik:6.171397\tval-poisson-nloglik:6.192550\n",
        "[92]\ttrain-poisson-nloglik:6.123076\tval-poisson-nloglik:6.144510\n"
       ]
      },
      {
       "output_type": "stream",
       "stream": "stderr",
       "text": [
        "[93]\ttrain-poisson-nloglik:6.075312\tval-poisson-nloglik:6.097265\n",
        "[94]\ttrain-poisson-nloglik:6.028612\tval-poisson-nloglik:6.051081\n"
       ]
      },
      {
       "output_type": "stream",
       "stream": "stderr",
       "text": [
        "[95]\ttrain-poisson-nloglik:5.982457\tval-poisson-nloglik:6.005579\n",
        "[96]\ttrain-poisson-nloglik:5.937252\tval-poisson-nloglik:5.960751\n"
       ]
      },
      {
       "output_type": "stream",
       "stream": "stderr",
       "text": [
        "[97]\ttrain-poisson-nloglik:5.892717\tval-poisson-nloglik:5.916650\n",
        "[98]\ttrain-poisson-nloglik:5.849009\tval-poisson-nloglik:5.873631\n"
       ]
      },
      {
       "output_type": "stream",
       "stream": "stderr",
       "text": [
        "[99]\ttrain-poisson-nloglik:5.806197\tval-poisson-nloglik:5.831450\n",
        "[100]\ttrain-poisson-nloglik:5.764549\tval-poisson-nloglik:5.790266\n"
       ]
      },
      {
       "output_type": "stream",
       "stream": "stderr",
       "text": [
        "[101]\ttrain-poisson-nloglik:5.723281\tval-poisson-nloglik:5.749515\n",
        "[102]\ttrain-poisson-nloglik:5.681829\tval-poisson-nloglik:5.708683\n"
       ]
      },
      {
       "output_type": "stream",
       "stream": "stderr",
       "text": [
        "[103]\ttrain-poisson-nloglik:5.640895\tval-poisson-nloglik:5.668428\n",
        "[104]\ttrain-poisson-nloglik:5.601493\tval-poisson-nloglik:5.629453\n"
       ]
      },
      {
       "output_type": "stream",
       "stream": "stderr",
       "text": [
        "[105]\ttrain-poisson-nloglik:5.562197\tval-poisson-nloglik:5.590720\n",
        "[106]\ttrain-poisson-nloglik:5.523847\tval-poisson-nloglik:5.552742\n"
       ]
      },
      {
       "output_type": "stream",
       "stream": "stderr",
       "text": [
        "[107]\ttrain-poisson-nloglik:5.485829\tval-poisson-nloglik:5.515273\n",
        "[108]\ttrain-poisson-nloglik:5.448894\tval-poisson-nloglik:5.478906\n"
       ]
      },
      {
       "output_type": "stream",
       "stream": "stderr",
       "text": [
        "[109]\ttrain-poisson-nloglik:5.411881\tval-poisson-nloglik:5.442483\n",
        "[110]\ttrain-poisson-nloglik:5.375598\tval-poisson-nloglik:5.406516\n"
       ]
      },
      {
       "output_type": "stream",
       "stream": "stderr",
       "text": [
        "[111]\ttrain-poisson-nloglik:5.340572\tval-poisson-nloglik:5.371849\n",
        "[112]\ttrain-poisson-nloglik:5.305783\tval-poisson-nloglik:5.337304\n"
       ]
      },
      {
       "output_type": "stream",
       "stream": "stderr",
       "text": [
        "[113]\ttrain-poisson-nloglik:5.271465\tval-poisson-nloglik:5.303457\n",
        "[114]\ttrain-poisson-nloglik:5.237822\tval-poisson-nloglik:5.270408\n"
       ]
      },
      {
       "output_type": "stream",
       "stream": "stderr",
       "text": [
        "[115]\ttrain-poisson-nloglik:5.204828\tval-poisson-nloglik:5.237985\n",
        "[116]\ttrain-poisson-nloglik:5.171902\tval-poisson-nloglik:5.205503\n"
       ]
      },
      {
       "output_type": "stream",
       "stream": "stderr",
       "text": [
        "[117]\ttrain-poisson-nloglik:5.139941\tval-poisson-nloglik:5.174054\n",
        "[118]\ttrain-poisson-nloglik:5.107940\tval-poisson-nloglik:5.142479\n"
       ]
      },
      {
       "output_type": "stream",
       "stream": "stderr",
       "text": [
        "[119]\ttrain-poisson-nloglik:5.076150\tval-poisson-nloglik:5.111304\n",
        "[120]\ttrain-poisson-nloglik:5.045722\tval-poisson-nloglik:5.081362\n"
       ]
      },
      {
       "output_type": "stream",
       "stream": "stderr",
       "text": [
        "[121]\ttrain-poisson-nloglik:5.014871\tval-poisson-nloglik:5.050809\n",
        "[122]\ttrain-poisson-nloglik:4.984417\tval-poisson-nloglik:5.020856\n"
       ]
      },
      {
       "output_type": "stream",
       "stream": "stderr",
       "text": [
        "[123]\ttrain-poisson-nloglik:4.955075\tval-poisson-nloglik:4.991888\n",
        "[124]\ttrain-poisson-nloglik:4.926324\tval-poisson-nloglik:4.963417\n"
       ]
      },
      {
       "output_type": "stream",
       "stream": "stderr",
       "text": [
        "[125]\ttrain-poisson-nloglik:4.897722\tval-poisson-nloglik:4.935209\n",
        "[126]\ttrain-poisson-nloglik:4.869716\tval-poisson-nloglik:4.907664\n"
       ]
      },
      {
       "output_type": "stream",
       "stream": "stderr",
       "text": [
        "[127]\ttrain-poisson-nloglik:4.842322\tval-poisson-nloglik:4.880597\n",
        "[128]\ttrain-poisson-nloglik:4.815318\tval-poisson-nloglik:4.854058\n"
       ]
      },
      {
       "output_type": "stream",
       "stream": "stderr",
       "text": [
        "[129]\ttrain-poisson-nloglik:4.788155\tval-poisson-nloglik:4.827307\n",
        "[130]\ttrain-poisson-nloglik:4.761744\tval-poisson-nloglik:4.801316\n"
       ]
      },
      {
       "output_type": "stream",
       "stream": "stderr",
       "text": [
        "[131]\ttrain-poisson-nloglik:4.735536\tval-poisson-nloglik:4.775259\n",
        "[132]\ttrain-poisson-nloglik:4.710272\tval-poisson-nloglik:4.750345\n"
       ]
      },
      {
       "output_type": "stream",
       "stream": "stderr",
       "text": [
        "[133]\ttrain-poisson-nloglik:4.684993\tval-poisson-nloglik:4.725528\n",
        "[134]\ttrain-poisson-nloglik:4.660480\tval-poisson-nloglik:4.701406\n"
       ]
      },
      {
       "output_type": "stream",
       "stream": "stderr",
       "text": [
        "[135]\ttrain-poisson-nloglik:4.635602\tval-poisson-nloglik:4.676959\n",
        "[136]\ttrain-poisson-nloglik:4.610915\tval-poisson-nloglik:4.652734\n"
       ]
      },
      {
       "output_type": "stream",
       "stream": "stderr",
       "text": [
        "[137]\ttrain-poisson-nloglik:4.586980\tval-poisson-nloglik:4.629220\n",
        "[138]\ttrain-poisson-nloglik:4.563347\tval-poisson-nloglik:4.605913\n"
       ]
      },
      {
       "output_type": "stream",
       "stream": "stderr",
       "text": [
        "[139]\ttrain-poisson-nloglik:4.540345\tval-poisson-nloglik:4.583173\n",
        "[140]\ttrain-poisson-nloglik:4.517056\tval-poisson-nloglik:4.560148\n"
       ]
      },
      {
       "output_type": "stream",
       "stream": "stderr",
       "text": [
        "[141]\ttrain-poisson-nloglik:4.494440\tval-poisson-nloglik:4.537822\n",
        "[142]\ttrain-poisson-nloglik:4.471476\tval-poisson-nloglik:4.515263\n"
       ]
      },
      {
       "output_type": "stream",
       "stream": "stderr",
       "text": [
        "[143]\ttrain-poisson-nloglik:4.449000\tval-poisson-nloglik:4.493039\n",
        "[144]\ttrain-poisson-nloglik:4.427505\tval-poisson-nloglik:4.471846\n"
       ]
      },
      {
       "output_type": "stream",
       "stream": "stderr",
       "text": [
        "[145]\ttrain-poisson-nloglik:4.405813\tval-poisson-nloglik:4.450329\n",
        "[146]\ttrain-poisson-nloglik:4.385146\tval-poisson-nloglik:4.430005\n"
       ]
      },
      {
       "output_type": "stream",
       "stream": "stderr",
       "text": [
        "[147]\ttrain-poisson-nloglik:4.363920\tval-poisson-nloglik:4.409112\n",
        "[148]\ttrain-poisson-nloglik:4.343395\tval-poisson-nloglik:4.388821\n"
       ]
      },
      {
       "output_type": "stream",
       "stream": "stderr",
       "text": [
        "[149]\ttrain-poisson-nloglik:4.322564\tval-poisson-nloglik:4.368258\n",
        "[150]\ttrain-poisson-nloglik:4.303029\tval-poisson-nloglik:4.348925\n"
       ]
      },
      {
       "output_type": "stream",
       "stream": "stderr",
       "text": [
        "[151]\ttrain-poisson-nloglik:4.283001\tval-poisson-nloglik:4.329131\n",
        "[152]\ttrain-poisson-nloglik:4.263442\tval-poisson-nloglik:4.309923\n"
       ]
      },
      {
       "output_type": "stream",
       "stream": "stderr",
       "text": [
        "[153]\ttrain-poisson-nloglik:4.244220\tval-poisson-nloglik:4.290954\n",
        "[154]\ttrain-poisson-nloglik:4.225467\tval-poisson-nloglik:4.272501\n"
       ]
      },
      {
       "output_type": "stream",
       "stream": "stderr",
       "text": [
        "[155]\ttrain-poisson-nloglik:4.206791\tval-poisson-nloglik:4.254076\n",
        "[156]\ttrain-poisson-nloglik:4.188577\tval-poisson-nloglik:4.236199\n"
       ]
      },
      {
       "output_type": "stream",
       "stream": "stderr",
       "text": [
        "[157]\ttrain-poisson-nloglik:4.170040\tval-poisson-nloglik:4.217891\n",
        "[158]\ttrain-poisson-nloglik:4.152237\tval-poisson-nloglik:4.200368\n"
       ]
      },
      {
       "output_type": "stream",
       "stream": "stderr",
       "text": [
        "[159]\ttrain-poisson-nloglik:4.134438\tval-poisson-nloglik:4.182883\n",
        "[160]\ttrain-poisson-nloglik:4.116973\tval-poisson-nloglik:4.165523\n"
       ]
      },
      {
       "output_type": "stream",
       "stream": "stderr",
       "text": [
        "[161]\ttrain-poisson-nloglik:4.099800\tval-poisson-nloglik:4.148635\n",
        "[162]\ttrain-poisson-nloglik:4.082830\tval-poisson-nloglik:4.131969\n"
       ]
      },
      {
       "output_type": "stream",
       "stream": "stderr",
       "text": [
        "[163]\ttrain-poisson-nloglik:4.066187\tval-poisson-nloglik:4.115649\n",
        "[164]\ttrain-poisson-nloglik:4.049569\tval-poisson-nloglik:4.099322\n"
       ]
      },
      {
       "output_type": "stream",
       "stream": "stderr",
       "text": [
        "[165]\ttrain-poisson-nloglik:4.032841\tval-poisson-nloglik:4.082894\n",
        "[166]\ttrain-poisson-nloglik:4.016654\tval-poisson-nloglik:4.066991\n"
       ]
      },
      {
       "output_type": "stream",
       "stream": "stderr",
       "text": [
        "[167]\ttrain-poisson-nloglik:4.000504\tval-poisson-nloglik:4.051064\n",
        "[168]\ttrain-poisson-nloglik:3.984549\tval-poisson-nloglik:4.035525\n"
       ]
      },
      {
       "output_type": "stream",
       "stream": "stderr",
       "text": [
        "[169]\ttrain-poisson-nloglik:3.969181\tval-poisson-nloglik:4.020381\n",
        "[170]\ttrain-poisson-nloglik:3.953840\tval-poisson-nloglik:4.005288\n"
       ]
      },
      {
       "output_type": "stream",
       "stream": "stderr",
       "text": [
        "[171]\ttrain-poisson-nloglik:3.939027\tval-poisson-nloglik:3.990702\n",
        "[172]\ttrain-poisson-nloglik:3.924082\tval-poisson-nloglik:3.976188\n"
       ]
      },
      {
       "output_type": "stream",
       "stream": "stderr",
       "text": [
        "[173]\ttrain-poisson-nloglik:3.909186\tval-poisson-nloglik:3.961540\n",
        "[174]\ttrain-poisson-nloglik:3.894743\tval-poisson-nloglik:3.947379\n"
       ]
      },
      {
       "output_type": "stream",
       "stream": "stderr",
       "text": [
        "[175]\ttrain-poisson-nloglik:3.880537\tval-poisson-nloglik:3.933354\n",
        "[176]\ttrain-poisson-nloglik:3.866196\tval-poisson-nloglik:3.919397\n"
       ]
      },
      {
       "output_type": "stream",
       "stream": "stderr",
       "text": [
        "[177]\ttrain-poisson-nloglik:3.851935\tval-poisson-nloglik:3.905318\n",
        "[178]\ttrain-poisson-nloglik:3.838045\tval-poisson-nloglik:3.891787\n"
       ]
      },
      {
       "output_type": "stream",
       "stream": "stderr",
       "text": [
        "[179]\ttrain-poisson-nloglik:3.824683\tval-poisson-nloglik:3.878691\n",
        "[180]\ttrain-poisson-nloglik:3.811427\tval-poisson-nloglik:3.865733\n"
       ]
      },
      {
       "output_type": "stream",
       "stream": "stderr",
       "text": [
        "[181]\ttrain-poisson-nloglik:3.798029\tval-poisson-nloglik:3.852543\n",
        "[182]\ttrain-poisson-nloglik:3.784785\tval-poisson-nloglik:3.839428\n"
       ]
      },
      {
       "output_type": "stream",
       "stream": "stderr",
       "text": [
        "[183]\ttrain-poisson-nloglik:3.771822\tval-poisson-nloglik:3.826745\n",
        "[184]\ttrain-poisson-nloglik:3.759207\tval-poisson-nloglik:3.814432\n"
       ]
      },
      {
       "output_type": "stream",
       "stream": "stderr",
       "text": [
        "[185]\ttrain-poisson-nloglik:3.745937\tval-poisson-nloglik:3.801369\n",
        "[186]\ttrain-poisson-nloglik:3.733259\tval-poisson-nloglik:3.788974\n"
       ]
      },
      {
       "output_type": "stream",
       "stream": "stderr",
       "text": [
        "[187]\ttrain-poisson-nloglik:3.721064\tval-poisson-nloglik:3.776932\n",
        "[188]\ttrain-poisson-nloglik:3.709182\tval-poisson-nloglik:3.765265\n"
       ]
      },
      {
       "output_type": "stream",
       "stream": "stderr",
       "text": [
        "[189]\ttrain-poisson-nloglik:3.697570\tval-poisson-nloglik:3.753861\n",
        "[190]\ttrain-poisson-nloglik:3.685610\tval-poisson-nloglik:3.742126\n"
       ]
      },
      {
       "output_type": "stream",
       "stream": "stderr",
       "text": [
        "[191]\ttrain-poisson-nloglik:3.673905\tval-poisson-nloglik:3.730624\n",
        "[192]\ttrain-poisson-nloglik:3.662639\tval-poisson-nloglik:3.719661\n"
       ]
      },
      {
       "output_type": "stream",
       "stream": "stderr",
       "text": [
        "[193]\ttrain-poisson-nloglik:3.651612\tval-poisson-nloglik:3.708793\n",
        "[194]\ttrain-poisson-nloglik:3.640445\tval-poisson-nloglik:3.697936\n"
       ]
      },
      {
       "output_type": "stream",
       "stream": "stderr",
       "text": [
        "[195]\ttrain-poisson-nloglik:3.629304\tval-poisson-nloglik:3.686949\n",
        "[196]\ttrain-poisson-nloglik:3.618320\tval-poisson-nloglik:3.676171\n"
       ]
      },
      {
       "output_type": "stream",
       "stream": "stderr",
       "text": [
        "[197]\ttrain-poisson-nloglik:3.607431\tval-poisson-nloglik:3.665520\n",
        "[198]\ttrain-poisson-nloglik:3.596324\tval-poisson-nloglik:3.654630\n"
       ]
      },
      {
       "output_type": "stream",
       "stream": "stderr",
       "text": [
        "[199]\ttrain-poisson-nloglik:3.585842\tval-poisson-nloglik:3.644288\n",
        "[200]\ttrain-poisson-nloglik:3.574964\tval-poisson-nloglik:3.633611\n"
       ]
      },
      {
       "output_type": "stream",
       "stream": "stderr",
       "text": [
        "[201]\ttrain-poisson-nloglik:3.564501\tval-poisson-nloglik:3.623322\n",
        "[202]\ttrain-poisson-nloglik:3.554140\tval-poisson-nloglik:3.613073\n"
       ]
      },
      {
       "output_type": "stream",
       "stream": "stderr",
       "text": [
        "[203]\ttrain-poisson-nloglik:3.544128\tval-poisson-nloglik:3.603239\n",
        "[204]\ttrain-poisson-nloglik:3.534022\tval-poisson-nloglik:3.593373\n"
       ]
      },
      {
       "output_type": "stream",
       "stream": "stderr",
       "text": [
        "[205]\ttrain-poisson-nloglik:3.524345\tval-poisson-nloglik:3.583884\n",
        "[206]\ttrain-poisson-nloglik:3.514271\tval-poisson-nloglik:3.573967\n"
       ]
      },
      {
       "output_type": "stream",
       "stream": "stderr",
       "text": [
        "[207]\ttrain-poisson-nloglik:3.504438\tval-poisson-nloglik:3.564209\n",
        "[208]\ttrain-poisson-nloglik:3.495114\tval-poisson-nloglik:3.554943\n"
       ]
      },
      {
       "output_type": "stream",
       "stream": "stderr",
       "text": [
        "[209]\ttrain-poisson-nloglik:3.485768\tval-poisson-nloglik:3.545869\n",
        "[210]\ttrain-poisson-nloglik:3.476075\tval-poisson-nloglik:3.536448\n"
       ]
      },
      {
       "output_type": "stream",
       "stream": "stderr",
       "text": [
        "[211]\ttrain-poisson-nloglik:3.466962\tval-poisson-nloglik:3.527467\n",
        "[212]\ttrain-poisson-nloglik:3.457842\tval-poisson-nloglik:3.518518\n"
       ]
      },
      {
       "output_type": "stream",
       "stream": "stderr",
       "text": [
        "[213]\ttrain-poisson-nloglik:3.448920\tval-poisson-nloglik:3.509800\n",
        "[214]\ttrain-poisson-nloglik:3.439781\tval-poisson-nloglik:3.500785\n"
       ]
      },
      {
       "output_type": "stream",
       "stream": "stderr",
       "text": [
        "[215]\ttrain-poisson-nloglik:3.431122\tval-poisson-nloglik:3.492295\n",
        "[216]\ttrain-poisson-nloglik:3.422518\tval-poisson-nloglik:3.483884\n"
       ]
      },
      {
       "output_type": "stream",
       "stream": "stderr",
       "text": [
        "[217]\ttrain-poisson-nloglik:3.413481\tval-poisson-nloglik:3.475072\n",
        "[218]\ttrain-poisson-nloglik:3.405293\tval-poisson-nloglik:3.466987\n"
       ]
      },
      {
       "output_type": "stream",
       "stream": "stderr",
       "text": [
        "[219]\ttrain-poisson-nloglik:3.396911\tval-poisson-nloglik:3.458773\n",
        "[220]\ttrain-poisson-nloglik:3.388653\tval-poisson-nloglik:3.450776\n"
       ]
      },
      {
       "output_type": "stream",
       "stream": "stderr",
       "text": [
        "[221]\ttrain-poisson-nloglik:3.380813\tval-poisson-nloglik:3.443136\n",
        "[222]\ttrain-poisson-nloglik:3.373050\tval-poisson-nloglik:3.435566\n"
       ]
      },
      {
       "output_type": "stream",
       "stream": "stderr",
       "text": [
        "[223]\ttrain-poisson-nloglik:3.364621\tval-poisson-nloglik:3.427325\n",
        "[224]\ttrain-poisson-nloglik:3.356284\tval-poisson-nloglik:3.419285\n"
       ]
      },
      {
       "output_type": "stream",
       "stream": "stderr",
       "text": [
        "[225]\ttrain-poisson-nloglik:3.348693\tval-poisson-nloglik:3.411919\n",
        "[226]\ttrain-poisson-nloglik:3.341349\tval-poisson-nloglik:3.404696\n"
       ]
      },
      {
       "output_type": "stream",
       "stream": "stderr",
       "text": [
        "[227]\ttrain-poisson-nloglik:3.333613\tval-poisson-nloglik:3.397168\n",
        "[228]\ttrain-poisson-nloglik:3.326370\tval-poisson-nloglik:3.390127\n"
       ]
      },
      {
       "output_type": "stream",
       "stream": "stderr",
       "text": [
        "[229]\ttrain-poisson-nloglik:3.318853\tval-poisson-nloglik:3.382772\n",
        "[230]\ttrain-poisson-nloglik:3.311157\tval-poisson-nloglik:3.375217\n"
       ]
      },
      {
       "output_type": "stream",
       "stream": "stderr",
       "text": [
        "[231]\ttrain-poisson-nloglik:3.303797\tval-poisson-nloglik:3.367966\n",
        "[232]\ttrain-poisson-nloglik:3.296586\tval-poisson-nloglik:3.360868\n"
       ]
      },
      {
       "output_type": "stream",
       "stream": "stderr",
       "text": [
        "[233]\ttrain-poisson-nloglik:3.289409\tval-poisson-nloglik:3.353884\n",
        "[234]\ttrain-poisson-nloglik:3.282425\tval-poisson-nloglik:3.346973\n"
       ]
      },
      {
       "output_type": "stream",
       "stream": "stderr",
       "text": [
        "[235]\ttrain-poisson-nloglik:3.275410\tval-poisson-nloglik:3.340140\n",
        "[236]\ttrain-poisson-nloglik:3.268431\tval-poisson-nloglik:3.333421\n"
       ]
      },
      {
       "output_type": "stream",
       "stream": "stderr",
       "text": [
        "[237]\ttrain-poisson-nloglik:3.261700\tval-poisson-nloglik:3.326842\n",
        "[238]\ttrain-poisson-nloglik:3.255081\tval-poisson-nloglik:3.320406\n"
       ]
      },
      {
       "output_type": "stream",
       "stream": "stderr",
       "text": [
        "[239]\ttrain-poisson-nloglik:3.248042\tval-poisson-nloglik:3.313562\n",
        "[240]\ttrain-poisson-nloglik:3.241706\tval-poisson-nloglik:3.307406\n"
       ]
      },
      {
       "output_type": "stream",
       "stream": "stderr",
       "text": [
        "[241]\ttrain-poisson-nloglik:3.234864\tval-poisson-nloglik:3.300827\n",
        "[242]\ttrain-poisson-nloglik:3.228534\tval-poisson-nloglik:3.294602\n"
       ]
      },
      {
       "output_type": "stream",
       "stream": "stderr",
       "text": [
        "[243]\ttrain-poisson-nloglik:3.222286\tval-poisson-nloglik:3.288520\n",
        "[244]\ttrain-poisson-nloglik:3.216253\tval-poisson-nloglik:3.282615\n"
       ]
      },
      {
       "output_type": "stream",
       "stream": "stderr",
       "text": [
        "[245]\ttrain-poisson-nloglik:3.209787\tval-poisson-nloglik:3.276350\n",
        "[246]\ttrain-poisson-nloglik:3.203614\tval-poisson-nloglik:3.270323\n"
       ]
      },
      {
       "output_type": "stream",
       "stream": "stderr",
       "text": [
        "[247]\ttrain-poisson-nloglik:3.197731\tval-poisson-nloglik:3.264584\n",
        "[248]\ttrain-poisson-nloglik:3.191585\tval-poisson-nloglik:3.258608\n"
       ]
      },
      {
       "output_type": "stream",
       "stream": "stderr",
       "text": [
        "[249]\ttrain-poisson-nloglik:3.185575\tval-poisson-nloglik:3.252711\n",
        "[250]\ttrain-poisson-nloglik:3.179857\tval-poisson-nloglik:3.247163\n"
       ]
      },
      {
       "output_type": "stream",
       "stream": "stderr",
       "text": [
        "[251]\ttrain-poisson-nloglik:3.174112\tval-poisson-nloglik:3.241531\n",
        "[252]\ttrain-poisson-nloglik:3.168531\tval-poisson-nloglik:3.236078\n"
       ]
      },
      {
       "output_type": "stream",
       "stream": "stderr",
       "text": [
        "[253]\ttrain-poisson-nloglik:3.163133\tval-poisson-nloglik:3.230786\n",
        "[254]\ttrain-poisson-nloglik:3.157576\tval-poisson-nloglik:3.225386\n"
       ]
      },
      {
       "output_type": "stream",
       "stream": "stderr",
       "text": [
        "[255]\ttrain-poisson-nloglik:3.152110\tval-poisson-nloglik:3.220042\n",
        "[256]\ttrain-poisson-nloglik:3.146903\tval-poisson-nloglik:3.214949\n"
       ]
      },
      {
       "output_type": "stream",
       "stream": "stderr",
       "text": [
        "[257]\ttrain-poisson-nloglik:3.141417\tval-poisson-nloglik:3.209625\n",
        "[258]\ttrain-poisson-nloglik:3.136176\tval-poisson-nloglik:3.204492\n"
       ]
      },
      {
       "output_type": "stream",
       "stream": "stderr",
       "text": [
        "[259]\ttrain-poisson-nloglik:3.131002\tval-poisson-nloglik:3.199442\n",
        "[260]\ttrain-poisson-nloglik:3.125476\tval-poisson-nloglik:3.194147\n"
       ]
      },
      {
       "output_type": "stream",
       "stream": "stderr",
       "text": [
        "[261]\ttrain-poisson-nloglik:3.120264\tval-poisson-nloglik:3.189144\n",
        "[262]\ttrain-poisson-nloglik:3.115015\tval-poisson-nloglik:3.184074\n"
       ]
      },
      {
       "output_type": "stream",
       "stream": "stderr",
       "text": [
        "[263]\ttrain-poisson-nloglik:3.109952\tval-poisson-nloglik:3.179090\n",
        "[264]\ttrain-poisson-nloglik:3.105180\tval-poisson-nloglik:3.174441\n"
       ]
      },
      {
       "output_type": "stream",
       "stream": "stderr",
       "text": [
        "[265]\ttrain-poisson-nloglik:3.100447\tval-poisson-nloglik:3.169855\n",
        "[266]\ttrain-poisson-nloglik:3.095440\tval-poisson-nloglik:3.164951\n"
       ]
      },
      {
       "output_type": "stream",
       "stream": "stderr",
       "text": [
        "[267]\ttrain-poisson-nloglik:3.090801\tval-poisson-nloglik:3.160443\n",
        "[268]\ttrain-poisson-nloglik:3.086188\tval-poisson-nloglik:3.155926\n"
       ]
      },
      {
       "output_type": "stream",
       "stream": "stderr",
       "text": [
        "[269]\ttrain-poisson-nloglik:3.081693\tval-poisson-nloglik:3.151533\n",
        "[270]\ttrain-poisson-nloglik:3.076926\tval-poisson-nloglik:3.146899\n"
       ]
      },
      {
       "output_type": "stream",
       "stream": "stderr",
       "text": [
        "[271]\ttrain-poisson-nloglik:3.072074\tval-poisson-nloglik:3.142152\n",
        "[272]\ttrain-poisson-nloglik:3.067717\tval-poisson-nloglik:3.137875\n"
       ]
      },
      {
       "output_type": "stream",
       "stream": "stderr",
       "text": [
        "[273]\ttrain-poisson-nloglik:3.063037\tval-poisson-nloglik:3.133339\n",
        "[274]\ttrain-poisson-nloglik:3.058434\tval-poisson-nloglik:3.128824\n"
       ]
      },
      {
       "output_type": "stream",
       "stream": "stderr",
       "text": [
        "[275]\ttrain-poisson-nloglik:3.054000\tval-poisson-nloglik:3.124537\n",
        "[276]\ttrain-poisson-nloglik:3.049541\tval-poisson-nloglik:3.120152\n"
       ]
      },
      {
       "output_type": "stream",
       "stream": "stderr",
       "text": [
        "[277]\ttrain-poisson-nloglik:3.045170\tval-poisson-nloglik:3.115913\n",
        "[278]\ttrain-poisson-nloglik:3.040489\tval-poisson-nloglik:3.111397\n"
       ]
      },
      {
       "output_type": "stream",
       "stream": "stderr",
       "text": [
        "[279]\ttrain-poisson-nloglik:3.036293\tval-poisson-nloglik:3.107309\n",
        "[280]\ttrain-poisson-nloglik:3.031911\tval-poisson-nloglik:3.103068\n"
       ]
      },
      {
       "output_type": "stream",
       "stream": "stderr",
       "text": [
        "[281]\ttrain-poisson-nloglik:3.028006\tval-poisson-nloglik:3.099311\n",
        "[282]\ttrain-poisson-nloglik:3.023823\tval-poisson-nloglik:3.095253\n"
       ]
      },
      {
       "output_type": "stream",
       "stream": "stderr",
       "text": [
        "[283]\ttrain-poisson-nloglik:3.019945\tval-poisson-nloglik:3.091473\n",
        "[284]\ttrain-poisson-nloglik:3.015939\tval-poisson-nloglik:3.087524\n"
       ]
      },
      {
       "output_type": "stream",
       "stream": "stderr",
       "text": [
        "[285]\ttrain-poisson-nloglik:3.012019\tval-poisson-nloglik:3.083725\n",
        "[286]\ttrain-poisson-nloglik:3.007817\tval-poisson-nloglik:3.079712\n"
       ]
      },
      {
       "output_type": "stream",
       "stream": "stderr",
       "text": [
        "[287]\ttrain-poisson-nloglik:3.004071\tval-poisson-nloglik:3.076081\n",
        "[288]\ttrain-poisson-nloglik:3.000337\tval-poisson-nloglik:3.072478\n"
       ]
      },
      {
       "output_type": "stream",
       "stream": "stderr",
       "text": [
        "[289]\ttrain-poisson-nloglik:2.996650\tval-poisson-nloglik:3.068918\n",
        "[290]\ttrain-poisson-nloglik:2.992874\tval-poisson-nloglik:3.065250\n"
       ]
      },
      {
       "output_type": "stream",
       "stream": "stderr",
       "text": [
        "[291]\ttrain-poisson-nloglik:2.989263\tval-poisson-nloglik:3.061693\n",
        "[292]\ttrain-poisson-nloglik:2.985337\tval-poisson-nloglik:3.057932\n"
       ]
      },
      {
       "output_type": "stream",
       "stream": "stderr",
       "text": [
        "[293]\ttrain-poisson-nloglik:2.981689\tval-poisson-nloglik:3.054338\n",
        "[294]\ttrain-poisson-nloglik:2.977921\tval-poisson-nloglik:3.050627\n"
       ]
      },
      {
       "output_type": "stream",
       "stream": "stderr",
       "text": [
        "[295]\ttrain-poisson-nloglik:2.973919\tval-poisson-nloglik:3.046801\n",
        "[296]\ttrain-poisson-nloglik:2.970129\tval-poisson-nloglik:3.043099\n"
       ]
      },
      {
       "output_type": "stream",
       "stream": "stderr",
       "text": [
        "[297]\ttrain-poisson-nloglik:2.966688\tval-poisson-nloglik:3.039796\n",
        "[298]\ttrain-poisson-nloglik:2.962867\tval-poisson-nloglik:3.036196\n"
       ]
      },
      {
       "output_type": "stream",
       "stream": "stderr",
       "text": [
        "[299]\ttrain-poisson-nloglik:2.959414\tval-poisson-nloglik:3.032740\n",
        "[300]\ttrain-poisson-nloglik:2.955721\tval-poisson-nloglik:3.029183\n"
       ]
      },
      {
       "output_type": "stream",
       "stream": "stderr",
       "text": [
        "[301]\ttrain-poisson-nloglik:2.952395\tval-poisson-nloglik:3.025964\n",
        "[302]\ttrain-poisson-nloglik:2.948984\tval-poisson-nloglik:3.022718\n"
       ]
      },
      {
       "output_type": "stream",
       "stream": "stderr",
       "text": [
        "[303]\ttrain-poisson-nloglik:2.945811\tval-poisson-nloglik:3.019668\n",
        "[304]\ttrain-poisson-nloglik:2.942763\tval-poisson-nloglik:3.016688\n"
       ]
      },
      {
       "output_type": "stream",
       "stream": "stderr",
       "text": [
        "[305]\ttrain-poisson-nloglik:2.939253\tval-poisson-nloglik:3.013237\n",
        "[306]\ttrain-poisson-nloglik:2.935726\tval-poisson-nloglik:3.009875\n"
       ]
      },
      {
       "output_type": "stream",
       "stream": "stderr",
       "text": [
        "[307]\ttrain-poisson-nloglik:2.932407\tval-poisson-nloglik:3.006699\n",
        "[308]\ttrain-poisson-nloglik:2.929025\tval-poisson-nloglik:3.003440\n"
       ]
      },
      {
       "output_type": "stream",
       "stream": "stderr",
       "text": [
        "[309]\ttrain-poisson-nloglik:2.925660\tval-poisson-nloglik:3.000170\n",
        "[310]\ttrain-poisson-nloglik:2.922525\tval-poisson-nloglik:2.997186\n"
       ]
      },
      {
       "output_type": "stream",
       "stream": "stderr",
       "text": [
        "[311]\ttrain-poisson-nloglik:2.919493\tval-poisson-nloglik:2.994250\n",
        "[312]\ttrain-poisson-nloglik:2.916548\tval-poisson-nloglik:2.991434\n"
       ]
      },
      {
       "output_type": "stream",
       "stream": "stderr",
       "text": [
        "[313]\ttrain-poisson-nloglik:2.913558\tval-poisson-nloglik:2.988541\n",
        "[314]\ttrain-poisson-nloglik:2.910533\tval-poisson-nloglik:2.985615\n"
       ]
      },
      {
       "output_type": "stream",
       "stream": "stderr",
       "text": [
        "[315]\ttrain-poisson-nloglik:2.907423\tval-poisson-nloglik:2.982624\n",
        "[316]\ttrain-poisson-nloglik:2.904329\tval-poisson-nloglik:2.979615\n"
       ]
      },
      {
       "output_type": "stream",
       "stream": "stderr",
       "text": [
        "[317]\ttrain-poisson-nloglik:2.901565\tval-poisson-nloglik:2.976928\n",
        "[318]\ttrain-poisson-nloglik:2.898829\tval-poisson-nloglik:2.974265\n"
       ]
      },
      {
       "output_type": "stream",
       "stream": "stderr",
       "text": [
        "[319]\ttrain-poisson-nloglik:2.895836\tval-poisson-nloglik:2.971438\n",
        "[320]\ttrain-poisson-nloglik:2.892994\tval-poisson-nloglik:2.968743\n"
       ]
      },
      {
       "output_type": "stream",
       "stream": "stderr",
       "text": [
        "[321]\ttrain-poisson-nloglik:2.890012\tval-poisson-nloglik:2.965828\n",
        "[322]\ttrain-poisson-nloglik:2.887370\tval-poisson-nloglik:2.963290\n"
       ]
      },
      {
       "output_type": "stream",
       "stream": "stderr",
       "text": [
        "[323]\ttrain-poisson-nloglik:2.884863\tval-poisson-nloglik:2.960862\n",
        "[324]\ttrain-poisson-nloglik:2.882123\tval-poisson-nloglik:2.958147\n"
       ]
      },
      {
       "output_type": "stream",
       "stream": "stderr",
       "text": [
        "[325]\ttrain-poisson-nloglik:2.879332\tval-poisson-nloglik:2.955440\n",
        "[326]\ttrain-poisson-nloglik:2.876847\tval-poisson-nloglik:2.952985\n"
       ]
      },
      {
       "output_type": "stream",
       "stream": "stderr",
       "text": [
        "[327]\ttrain-poisson-nloglik:2.874151\tval-poisson-nloglik:2.950414\n",
        "[328]\ttrain-poisson-nloglik:2.871567\tval-poisson-nloglik:2.947920\n"
       ]
      },
      {
       "output_type": "stream",
       "stream": "stderr",
       "text": [
        "[329]\ttrain-poisson-nloglik:2.868781\tval-poisson-nloglik:2.945278\n",
        "[330]\ttrain-poisson-nloglik:2.866206\tval-poisson-nloglik:2.942754\n"
       ]
      },
      {
       "output_type": "stream",
       "stream": "stderr",
       "text": [
        "[331]\ttrain-poisson-nloglik:2.863878\tval-poisson-nloglik:2.940505\n",
        "[332]\ttrain-poisson-nloglik:2.861586\tval-poisson-nloglik:2.938306\n"
       ]
      },
      {
       "output_type": "stream",
       "stream": "stderr",
       "text": [
        "[333]\ttrain-poisson-nloglik:2.859086\tval-poisson-nloglik:2.935838\n",
        "[334]\ttrain-poisson-nloglik:2.856547\tval-poisson-nloglik:2.933414\n"
       ]
      },
      {
       "output_type": "stream",
       "stream": "stderr",
       "text": [
        "[335]\ttrain-poisson-nloglik:2.853983\tval-poisson-nloglik:2.930977\n",
        "[336]\ttrain-poisson-nloglik:2.851621\tval-poisson-nloglik:2.928718\n"
       ]
      },
      {
       "output_type": "stream",
       "stream": "stderr",
       "text": [
        "[337]\ttrain-poisson-nloglik:2.849406\tval-poisson-nloglik:2.926620\n",
        "[338]\ttrain-poisson-nloglik:2.847330\tval-poisson-nloglik:2.924623\n"
       ]
      },
      {
       "output_type": "stream",
       "stream": "stderr",
       "text": [
        "[339]\ttrain-poisson-nloglik:2.845026\tval-poisson-nloglik:2.922419\n",
        "[340]\ttrain-poisson-nloglik:2.842807\tval-poisson-nloglik:2.920275\n"
       ]
      },
      {
       "output_type": "stream",
       "stream": "stderr",
       "text": [
        "[341]\ttrain-poisson-nloglik:2.840037\tval-poisson-nloglik:2.917626\n",
        "[342]\ttrain-poisson-nloglik:2.837506\tval-poisson-nloglik:2.915259\n"
       ]
      },
      {
       "output_type": "stream",
       "stream": "stderr",
       "text": [
        "[343]\ttrain-poisson-nloglik:2.835113\tval-poisson-nloglik:2.913018\n",
        "[344]\ttrain-poisson-nloglik:2.832760\tval-poisson-nloglik:2.910714\n"
       ]
      },
      {
       "output_type": "stream",
       "stream": "stderr",
       "text": [
        "[345]\ttrain-poisson-nloglik:2.830476\tval-poisson-nloglik:2.908552\n",
        "[346]\ttrain-poisson-nloglik:2.828081\tval-poisson-nloglik:2.906270\n"
       ]
      },
      {
       "output_type": "stream",
       "stream": "stderr",
       "text": [
        "[347]\ttrain-poisson-nloglik:2.825867\tval-poisson-nloglik:2.904106\n",
        "[348]\ttrain-poisson-nloglik:2.823500\tval-poisson-nloglik:2.901896\n"
       ]
      },
      {
       "output_type": "stream",
       "stream": "stderr",
       "text": [
        "[349]\ttrain-poisson-nloglik:2.821399\tval-poisson-nloglik:2.899880\n",
        "[350]\ttrain-poisson-nloglik:2.819462\tval-poisson-nloglik:2.898045\n"
       ]
      },
      {
       "output_type": "stream",
       "stream": "stderr",
       "text": [
        "[351]\ttrain-poisson-nloglik:2.817358\tval-poisson-nloglik:2.895993\n",
        "[352]\ttrain-poisson-nloglik:2.815093\tval-poisson-nloglik:2.893797\n"
       ]
      },
      {
       "output_type": "stream",
       "stream": "stderr",
       "text": [
        "[353]\ttrain-poisson-nloglik:2.813245\tval-poisson-nloglik:2.892027\n",
        "[354]\ttrain-poisson-nloglik:2.810830\tval-poisson-nloglik:2.889796\n"
       ]
      },
      {
       "output_type": "stream",
       "stream": "stderr",
       "text": [
        "[355]\ttrain-poisson-nloglik:2.808418\tval-poisson-nloglik:2.887593\n",
        "[356]\ttrain-poisson-nloglik:2.806484\tval-poisson-nloglik:2.885728\n"
       ]
      },
      {
       "output_type": "stream",
       "stream": "stderr",
       "text": [
        "[357]\ttrain-poisson-nloglik:2.804528\tval-poisson-nloglik:2.883834\n",
        "[358]\ttrain-poisson-nloglik:2.802086\tval-poisson-nloglik:2.881506\n"
       ]
      },
      {
       "output_type": "stream",
       "stream": "stderr",
       "text": [
        "[359]\ttrain-poisson-nloglik:2.800376\tval-poisson-nloglik:2.879838\n",
        "[360]\ttrain-poisson-nloglik:2.798477\tval-poisson-nloglik:2.878051\n"
       ]
      },
      {
       "output_type": "stream",
       "stream": "stderr",
       "text": [
        "[361]\ttrain-poisson-nloglik:2.796259\tval-poisson-nloglik:2.875948\n",
        "[362]\ttrain-poisson-nloglik:2.794574\tval-poisson-nloglik:2.874330\n"
       ]
      },
      {
       "output_type": "stream",
       "stream": "stderr",
       "text": [
        "[363]\ttrain-poisson-nloglik:2.792609\tval-poisson-nloglik:2.872479\n",
        "[364]\ttrain-poisson-nloglik:2.790897\tval-poisson-nloglik:2.870849\n"
       ]
      },
      {
       "output_type": "stream",
       "stream": "stderr",
       "text": [
        "[365]\ttrain-poisson-nloglik:2.788961\tval-poisson-nloglik:2.869009\n",
        "[366]\ttrain-poisson-nloglik:2.787223\tval-poisson-nloglik:2.867339\n"
       ]
      },
      {
       "output_type": "stream",
       "stream": "stderr",
       "text": [
        "[367]\ttrain-poisson-nloglik:2.785379\tval-poisson-nloglik:2.865547\n",
        "[368]\ttrain-poisson-nloglik:2.783622\tval-poisson-nloglik:2.863856\n"
       ]
      },
      {
       "output_type": "stream",
       "stream": "stderr",
       "text": [
        "[369]\ttrain-poisson-nloglik:2.781776\tval-poisson-nloglik:2.862152\n",
        "[370]\ttrain-poisson-nloglik:2.779595\tval-poisson-nloglik:2.860114\n"
       ]
      },
      {
       "output_type": "stream",
       "stream": "stderr",
       "text": [
        "[371]\ttrain-poisson-nloglik:2.777996\tval-poisson-nloglik:2.858594\n",
        "[372]\ttrain-poisson-nloglik:2.776281\tval-poisson-nloglik:2.857011\n"
       ]
      },
      {
       "output_type": "stream",
       "stream": "stderr",
       "text": [
        "[373]\ttrain-poisson-nloglik:2.774647\tval-poisson-nloglik:2.855456\n",
        "[374]\ttrain-poisson-nloglik:2.772889\tval-poisson-nloglik:2.853821\n"
       ]
      },
      {
       "output_type": "stream",
       "stream": "stderr",
       "text": [
        "[375]\ttrain-poisson-nloglik:2.771095\tval-poisson-nloglik:2.852075\n",
        "[376]\ttrain-poisson-nloglik:2.769149\tval-poisson-nloglik:2.850214\n"
       ]
      },
      {
       "output_type": "stream",
       "stream": "stderr",
       "text": [
        "[377]\ttrain-poisson-nloglik:2.767739\tval-poisson-nloglik:2.848861\n",
        "[378]\ttrain-poisson-nloglik:2.766198\tval-poisson-nloglik:2.847403\n"
       ]
      },
      {
       "output_type": "stream",
       "stream": "stderr",
       "text": [
        "[379]\ttrain-poisson-nloglik:2.764426\tval-poisson-nloglik:2.845679\n",
        "[380]\ttrain-poisson-nloglik:2.762839\tval-poisson-nloglik:2.844122\n"
       ]
      },
      {
       "output_type": "stream",
       "stream": "stderr",
       "text": [
        "[381]\ttrain-poisson-nloglik:2.761437\tval-poisson-nloglik:2.842813\n",
        "[382]\ttrain-poisson-nloglik:2.759905\tval-poisson-nloglik:2.841364\n"
       ]
      },
      {
       "output_type": "stream",
       "stream": "stderr",
       "text": [
        "[383]\ttrain-poisson-nloglik:2.758482\tval-poisson-nloglik:2.839977\n",
        "[384]\ttrain-poisson-nloglik:2.756723\tval-poisson-nloglik:2.838342\n"
       ]
      },
      {
       "output_type": "stream",
       "stream": "stderr",
       "text": [
        "[385]\ttrain-poisson-nloglik:2.754810\tval-poisson-nloglik:2.836569\n",
        "[386]\ttrain-poisson-nloglik:2.753256\tval-poisson-nloglik:2.835091\n"
       ]
      },
      {
       "output_type": "stream",
       "stream": "stderr",
       "text": [
        "[387]\ttrain-poisson-nloglik:2.751922\tval-poisson-nloglik:2.833809\n",
        "[388]\ttrain-poisson-nloglik:2.750442\tval-poisson-nloglik:2.832407\n"
       ]
      },
      {
       "output_type": "stream",
       "stream": "stderr",
       "text": [
        "[389]\ttrain-poisson-nloglik:2.748992\tval-poisson-nloglik:2.831007\n",
        "[390]\ttrain-poisson-nloglik:2.747697\tval-poisson-nloglik:2.829764\n"
       ]
      },
      {
       "output_type": "stream",
       "stream": "stderr",
       "text": [
        "[391]\ttrain-poisson-nloglik:2.746238\tval-poisson-nloglik:2.828353\n",
        "[392]\ttrain-poisson-nloglik:2.744879\tval-poisson-nloglik:2.827102\n"
       ]
      },
      {
       "output_type": "stream",
       "stream": "stderr",
       "text": [
        "[393]\ttrain-poisson-nloglik:2.743281\tval-poisson-nloglik:2.825592\n",
        "[394]\ttrain-poisson-nloglik:2.741741\tval-poisson-nloglik:2.824197\n"
       ]
      },
      {
       "output_type": "stream",
       "stream": "stderr",
       "text": [
        "[395]\ttrain-poisson-nloglik:2.740064\tval-poisson-nloglik:2.822590\n",
        "[396]\ttrain-poisson-nloglik:2.738828\tval-poisson-nloglik:2.821414\n"
       ]
      },
      {
       "output_type": "stream",
       "stream": "stderr",
       "text": [
        "[397]\ttrain-poisson-nloglik:2.737513\tval-poisson-nloglik:2.820168\n",
        "[398]\ttrain-poisson-nloglik:2.736024\tval-poisson-nloglik:2.818749\n"
       ]
      },
      {
       "output_type": "stream",
       "stream": "stderr",
       "text": [
        "[399]\ttrain-poisson-nloglik:2.734505\tval-poisson-nloglik:2.817320\n",
        "[400]\ttrain-poisson-nloglik:2.733330\tval-poisson-nloglik:2.816228\n"
       ]
      },
      {
       "output_type": "stream",
       "stream": "stderr",
       "text": [
        "[401]\ttrain-poisson-nloglik:2.732098\tval-poisson-nloglik:2.815050\n",
        "[402]\ttrain-poisson-nloglik:2.731036\tval-poisson-nloglik:2.814018\n"
       ]
      },
      {
       "output_type": "stream",
       "stream": "stderr",
       "text": [
        "[403]\ttrain-poisson-nloglik:2.729503\tval-poisson-nloglik:2.812582\n",
        "[404]\ttrain-poisson-nloglik:2.728356\tval-poisson-nloglik:2.811522\n"
       ]
      },
      {
       "output_type": "stream",
       "stream": "stderr",
       "text": [
        "[405]\ttrain-poisson-nloglik:2.726833\tval-poisson-nloglik:2.810135\n",
        "[406]\ttrain-poisson-nloglik:2.725775\tval-poisson-nloglik:2.809117\n"
       ]
      },
      {
       "output_type": "stream",
       "stream": "stderr",
       "text": [
        "[407]\ttrain-poisson-nloglik:2.724772\tval-poisson-nloglik:2.808151\n",
        "[408]\ttrain-poisson-nloglik:2.723709\tval-poisson-nloglik:2.807150\n"
       ]
      },
      {
       "output_type": "stream",
       "stream": "stderr",
       "text": [
        "[409]\ttrain-poisson-nloglik:2.722406\tval-poisson-nloglik:2.805853\n",
        "[410]\ttrain-poisson-nloglik:2.721176\tval-poisson-nloglik:2.804713\n"
       ]
      },
      {
       "output_type": "stream",
       "stream": "stderr",
       "text": [
        "[411]\ttrain-poisson-nloglik:2.719869\tval-poisson-nloglik:2.803564\n",
        "[412]\ttrain-poisson-nloglik:2.718579\tval-poisson-nloglik:2.802291\n"
       ]
      },
      {
       "output_type": "stream",
       "stream": "stderr",
       "text": [
        "[413]\ttrain-poisson-nloglik:2.717213\tval-poisson-nloglik:2.801076\n",
        "[414]\ttrain-poisson-nloglik:2.716222\tval-poisson-nloglik:2.800133\n"
       ]
      },
      {
       "output_type": "stream",
       "stream": "stderr",
       "text": [
        "[415]\ttrain-poisson-nloglik:2.715079\tval-poisson-nloglik:2.799021\n",
        "[416]\ttrain-poisson-nloglik:2.713764\tval-poisson-nloglik:2.797842\n"
       ]
      },
      {
       "output_type": "stream",
       "stream": "stderr",
       "text": [
        "[417]\ttrain-poisson-nloglik:2.712581\tval-poisson-nloglik:2.796753\n",
        "[418]\ttrain-poisson-nloglik:2.711536\tval-poisson-nloglik:2.795747\n"
       ]
      },
      {
       "output_type": "stream",
       "stream": "stderr",
       "text": [
        "[419]\ttrain-poisson-nloglik:2.710471\tval-poisson-nloglik:2.794761\n",
        "[420]\ttrain-poisson-nloglik:2.709425\tval-poisson-nloglik:2.793813\n"
       ]
      },
      {
       "output_type": "stream",
       "stream": "stderr",
       "text": [
        "[421]\ttrain-poisson-nloglik:2.708491\tval-poisson-nloglik:2.792922\n",
        "[422]\ttrain-poisson-nloglik:2.707471\tval-poisson-nloglik:2.791958\n"
       ]
      },
      {
       "output_type": "stream",
       "stream": "stderr",
       "text": [
        "[423]\ttrain-poisson-nloglik:2.706076\tval-poisson-nloglik:2.790697\n",
        "[424]\ttrain-poisson-nloglik:2.704804\tval-poisson-nloglik:2.789571\n"
       ]
      },
      {
       "output_type": "stream",
       "stream": "stderr",
       "text": [
        "[425]\ttrain-poisson-nloglik:2.703642\tval-poisson-nloglik:2.788502\n",
        "[426]\ttrain-poisson-nloglik:2.702253\tval-poisson-nloglik:2.787151\n"
       ]
      },
      {
       "output_type": "stream",
       "stream": "stderr",
       "text": [
        "[427]\ttrain-poisson-nloglik:2.701149\tval-poisson-nloglik:2.786117\n",
        "[428]\ttrain-poisson-nloglik:2.700087\tval-poisson-nloglik:2.785153\n"
       ]
      },
      {
       "output_type": "stream",
       "stream": "stderr",
       "text": [
        "[429]\ttrain-poisson-nloglik:2.698994\tval-poisson-nloglik:2.784128\n",
        "[430]\ttrain-poisson-nloglik:2.697810\tval-poisson-nloglik:2.783041\n"
       ]
      },
      {
       "output_type": "stream",
       "stream": "stderr",
       "text": [
        "[431]\ttrain-poisson-nloglik:2.696601\tval-poisson-nloglik:2.781924\n",
        "[432]\ttrain-poisson-nloglik:2.695375\tval-poisson-nloglik:2.780825\n"
       ]
      },
      {
       "output_type": "stream",
       "stream": "stderr",
       "text": [
        "[433]\ttrain-poisson-nloglik:2.694499\tval-poisson-nloglik:2.779998\n",
        "[434]\ttrain-poisson-nloglik:2.693418\tval-poisson-nloglik:2.778997\n"
       ]
      },
      {
       "output_type": "stream",
       "stream": "stderr",
       "text": [
        "[435]\ttrain-poisson-nloglik:2.692319\tval-poisson-nloglik:2.777950\n",
        "[436]\ttrain-poisson-nloglik:2.691209\tval-poisson-nloglik:2.776902\n"
       ]
      },
      {
       "output_type": "stream",
       "stream": "stderr",
       "text": [
        "[437]\ttrain-poisson-nloglik:2.690244\tval-poisson-nloglik:2.775992\n",
        "[438]\ttrain-poisson-nloglik:2.689017\tval-poisson-nloglik:2.774911\n"
       ]
      },
      {
       "output_type": "stream",
       "stream": "stderr",
       "text": [
        "[439]\ttrain-poisson-nloglik:2.688233\tval-poisson-nloglik:2.774197\n",
        "[440]\ttrain-poisson-nloglik:2.687448\tval-poisson-nloglik:2.773422\n"
       ]
      },
      {
       "output_type": "stream",
       "stream": "stderr",
       "text": [
        "[441]\ttrain-poisson-nloglik:2.686649\tval-poisson-nloglik:2.772689\n",
        "[442]\ttrain-poisson-nloglik:2.685861\tval-poisson-nloglik:2.771953\n"
       ]
      },
      {
       "output_type": "stream",
       "stream": "stderr",
       "text": [
        "[443]\ttrain-poisson-nloglik:2.684515\tval-poisson-nloglik:2.770681\n",
        "[444]\ttrain-poisson-nloglik:2.683528\tval-poisson-nloglik:2.769763\n"
       ]
      },
      {
       "output_type": "stream",
       "stream": "stderr",
       "text": [
        "[445]\ttrain-poisson-nloglik:2.682759\tval-poisson-nloglik:2.768998\n",
        "[446]\ttrain-poisson-nloglik:2.681832\tval-poisson-nloglik:2.768099\n"
       ]
      },
      {
       "output_type": "stream",
       "stream": "stderr",
       "text": [
        "[447]\ttrain-poisson-nloglik:2.680652\tval-poisson-nloglik:2.767002\n",
        "[448]\ttrain-poisson-nloglik:2.679874\tval-poisson-nloglik:2.766265\n"
       ]
      },
      {
       "output_type": "stream",
       "stream": "stderr",
       "text": [
        "[449]\ttrain-poisson-nloglik:2.678834\tval-poisson-nloglik:2.765372\n",
        "[450]\ttrain-poisson-nloglik:2.677820\tval-poisson-nloglik:2.764420\n"
       ]
      },
      {
       "output_type": "stream",
       "stream": "stderr",
       "text": [
        "[451]\ttrain-poisson-nloglik:2.676666\tval-poisson-nloglik:2.763372\n",
        "[452]\ttrain-poisson-nloglik:2.675811\tval-poisson-nloglik:2.762563\n"
       ]
      },
      {
       "output_type": "stream",
       "stream": "stderr",
       "text": [
        "[453]\ttrain-poisson-nloglik:2.674911\tval-poisson-nloglik:2.761720\n",
        "[454]\ttrain-poisson-nloglik:2.674042\tval-poisson-nloglik:2.760876\n"
       ]
      },
      {
       "output_type": "stream",
       "stream": "stderr",
       "text": [
        "[455]\ttrain-poisson-nloglik:2.673019\tval-poisson-nloglik:2.759823\n",
        "[456]\ttrain-poisson-nloglik:2.672121\tval-poisson-nloglik:2.759007\n"
       ]
      },
      {
       "output_type": "stream",
       "stream": "stderr",
       "text": [
        "[457]\ttrain-poisson-nloglik:2.671178\tval-poisson-nloglik:2.758178\n",
        "[458]\ttrain-poisson-nloglik:2.670383\tval-poisson-nloglik:2.757469\n"
       ]
      },
      {
       "output_type": "stream",
       "stream": "stderr",
       "text": [
        "[459]\ttrain-poisson-nloglik:2.669303\tval-poisson-nloglik:2.756433\n",
        "[460]\ttrain-poisson-nloglik:2.668475\tval-poisson-nloglik:2.755688\n"
       ]
      },
      {
       "output_type": "stream",
       "stream": "stderr",
       "text": [
        "[461]\ttrain-poisson-nloglik:2.667335\tval-poisson-nloglik:2.754640\n",
        "[462]\ttrain-poisson-nloglik:2.666412\tval-poisson-nloglik:2.753827\n"
       ]
      },
      {
       "output_type": "stream",
       "stream": "stderr",
       "text": [
        "[463]\ttrain-poisson-nloglik:2.665723\tval-poisson-nloglik:2.753210\n",
        "[464]\ttrain-poisson-nloglik:2.664770\tval-poisson-nloglik:2.752320\n"
       ]
      },
      {
       "output_type": "stream",
       "stream": "stderr",
       "text": [
        "[465]\ttrain-poisson-nloglik:2.663878\tval-poisson-nloglik:2.751498\n",
        "[466]\ttrain-poisson-nloglik:2.663080\tval-poisson-nloglik:2.750746\n"
       ]
      },
      {
       "output_type": "stream",
       "stream": "stderr",
       "text": [
        "[467]\ttrain-poisson-nloglik:2.662205\tval-poisson-nloglik:2.749930\n",
        "[468]\ttrain-poisson-nloglik:2.661307\tval-poisson-nloglik:2.749078\n"
       ]
      },
      {
       "output_type": "stream",
       "stream": "stderr",
       "text": [
        "[469]\ttrain-poisson-nloglik:2.660391\tval-poisson-nloglik:2.748205\n",
        "[470]\ttrain-poisson-nloglik:2.659268\tval-poisson-nloglik:2.747128\n"
       ]
      },
      {
       "output_type": "stream",
       "stream": "stderr",
       "text": [
        "[471]\ttrain-poisson-nloglik:2.658272\tval-poisson-nloglik:2.746192\n",
        "[472]\ttrain-poisson-nloglik:2.657328\tval-poisson-nloglik:2.745372\n"
       ]
      },
      {
       "output_type": "stream",
       "stream": "stderr",
       "text": [
        "[473]\ttrain-poisson-nloglik:2.656770\tval-poisson-nloglik:2.744850\n",
        "[474]\ttrain-poisson-nloglik:2.655869\tval-poisson-nloglik:2.744028\n"
       ]
      },
      {
       "output_type": "stream",
       "stream": "stderr",
       "text": [
        "[475]\ttrain-poisson-nloglik:2.655379\tval-poisson-nloglik:2.743538\n",
        "[476]\ttrain-poisson-nloglik:2.654794\tval-poisson-nloglik:2.742990\n"
       ]
      },
      {
       "output_type": "stream",
       "stream": "stderr",
       "text": [
        "[477]\ttrain-poisson-nloglik:2.653842\tval-poisson-nloglik:2.742178\n",
        "[478]\ttrain-poisson-nloglik:2.653062\tval-poisson-nloglik:2.741466\n"
       ]
      },
      {
       "output_type": "stream",
       "stream": "stderr",
       "text": [
        "[479]\ttrain-poisson-nloglik:2.651977\tval-poisson-nloglik:2.740480\n",
        "[480]\ttrain-poisson-nloglik:2.651280\tval-poisson-nloglik:2.739816\n"
       ]
      },
      {
       "output_type": "stream",
       "stream": "stderr",
       "text": [
        "[481]\ttrain-poisson-nloglik:2.650371\tval-poisson-nloglik:2.738949\n",
        "[482]\ttrain-poisson-nloglik:2.649548\tval-poisson-nloglik:2.738200\n"
       ]
      },
      {
       "output_type": "stream",
       "stream": "stderr",
       "text": [
        "[483]\ttrain-poisson-nloglik:2.648690\tval-poisson-nloglik:2.737404\n",
        "[484]\ttrain-poisson-nloglik:2.647861\tval-poisson-nloglik:2.736637\n"
       ]
      },
      {
       "output_type": "stream",
       "stream": "stderr",
       "text": [
        "[485]\ttrain-poisson-nloglik:2.647010\tval-poisson-nloglik:2.735825\n",
        "[486]\ttrain-poisson-nloglik:2.646254\tval-poisson-nloglik:2.735135\n"
       ]
      },
      {
       "output_type": "stream",
       "stream": "stderr",
       "text": [
        "[487]\ttrain-poisson-nloglik:2.645422\tval-poisson-nloglik:2.734358\n",
        "[488]\ttrain-poisson-nloglik:2.644791\tval-poisson-nloglik:2.733746\n"
       ]
      },
      {
       "output_type": "stream",
       "stream": "stderr",
       "text": [
        "[489]\ttrain-poisson-nloglik:2.644046\tval-poisson-nloglik:2.733103\n",
        "[490]\ttrain-poisson-nloglik:2.643098\tval-poisson-nloglik:2.732181\n"
       ]
      },
      {
       "output_type": "stream",
       "stream": "stderr",
       "text": [
        "[491]\ttrain-poisson-nloglik:2.642239\tval-poisson-nloglik:2.731413\n",
        "[492]\ttrain-poisson-nloglik:2.641705\tval-poisson-nloglik:2.730908\n"
       ]
      },
      {
       "output_type": "stream",
       "stream": "stderr",
       "text": [
        "[493]\ttrain-poisson-nloglik:2.640619\tval-poisson-nloglik:2.729880\n",
        "[494]\ttrain-poisson-nloglik:2.640041\tval-poisson-nloglik:2.729356\n"
       ]
      },
      {
       "output_type": "stream",
       "stream": "stderr",
       "text": [
        "[495]\ttrain-poisson-nloglik:2.639479\tval-poisson-nloglik:2.728840\n",
        "[496]\ttrain-poisson-nloglik:2.638832\tval-poisson-nloglik:2.728252\n"
       ]
      },
      {
       "output_type": "stream",
       "stream": "stderr",
       "text": [
        "[497]\ttrain-poisson-nloglik:2.637805\tval-poisson-nloglik:2.727326\n",
        "[498]\ttrain-poisson-nloglik:2.637330\tval-poisson-nloglik:2.726887\n"
       ]
      },
      {
       "output_type": "stream",
       "stream": "stderr",
       "text": [
        "[499]\ttrain-poisson-nloglik:2.636546\tval-poisson-nloglik:2.726154\n",
        "[500]\ttrain-poisson-nloglik:2.636048\tval-poisson-nloglik:2.725714\n"
       ]
      },
      {
       "output_type": "stream",
       "stream": "stderr",
       "text": [
        "[501]\ttrain-poisson-nloglik:2.635514\tval-poisson-nloglik:2.725220\n",
        "[502]\ttrain-poisson-nloglik:2.634917\tval-poisson-nloglik:2.724721\n"
       ]
      },
      {
       "output_type": "stream",
       "stream": "stderr",
       "text": [
        "[503]\ttrain-poisson-nloglik:2.634278\tval-poisson-nloglik:2.724159\n",
        "[504]\ttrain-poisson-nloglik:2.633272\tval-poisson-nloglik:2.723239\n"
       ]
      },
      {
       "output_type": "stream",
       "stream": "stderr",
       "text": [
        "[505]\ttrain-poisson-nloglik:2.632684\tval-poisson-nloglik:2.722667\n",
        "[506]\ttrain-poisson-nloglik:2.631969\tval-poisson-nloglik:2.722049\n"
       ]
      },
      {
       "output_type": "stream",
       "stream": "stderr",
       "text": [
        "[507]\ttrain-poisson-nloglik:2.631379\tval-poisson-nloglik:2.721501\n",
        "[508]\ttrain-poisson-nloglik:2.630744\tval-poisson-nloglik:2.720933\n"
       ]
      },
      {
       "output_type": "stream",
       "stream": "stderr",
       "text": [
        "[509]\ttrain-poisson-nloglik:2.630129\tval-poisson-nloglik:2.720326\n",
        "[510]\ttrain-poisson-nloglik:2.629264\tval-poisson-nloglik:2.719532\n"
       ]
      },
      {
       "output_type": "stream",
       "stream": "stderr",
       "text": [
        "[511]\ttrain-poisson-nloglik:2.628657\tval-poisson-nloglik:2.718990\n",
        "[512]\ttrain-poisson-nloglik:2.628068\tval-poisson-nloglik:2.718445\n"
       ]
      },
      {
       "output_type": "stream",
       "stream": "stderr",
       "text": [
        "[513]\ttrain-poisson-nloglik:2.627193\tval-poisson-nloglik:2.717648\n",
        "[514]\ttrain-poisson-nloglik:2.626569\tval-poisson-nloglik:2.717114\n"
       ]
      },
      {
       "output_type": "stream",
       "stream": "stderr",
       "text": [
        "[515]\ttrain-poisson-nloglik:2.626091\tval-poisson-nloglik:2.716665\n",
        "[516]\ttrain-poisson-nloglik:2.625425\tval-poisson-nloglik:2.716083\n"
       ]
      },
      {
       "output_type": "stream",
       "stream": "stderr",
       "text": [
        "[517]\ttrain-poisson-nloglik:2.624793\tval-poisson-nloglik:2.715482\n",
        "[518]\ttrain-poisson-nloglik:2.623998\tval-poisson-nloglik:2.714697\n"
       ]
      },
      {
       "output_type": "stream",
       "stream": "stderr",
       "text": [
        "[519]\ttrain-poisson-nloglik:2.623212\tval-poisson-nloglik:2.713999\n",
        "[520]\ttrain-poisson-nloglik:2.622637\tval-poisson-nloglik:2.713487\n"
       ]
      },
      {
       "output_type": "stream",
       "stream": "stderr",
       "text": [
        "[521]\ttrain-poisson-nloglik:2.622215\tval-poisson-nloglik:2.713117\n",
        "[522]\ttrain-poisson-nloglik:2.621797\tval-poisson-nloglik:2.712728\n"
       ]
      },
      {
       "output_type": "stream",
       "stream": "stderr",
       "text": [
        "[523]\ttrain-poisson-nloglik:2.621379\tval-poisson-nloglik:2.712338\n",
        "[524]\ttrain-poisson-nloglik:2.620834\tval-poisson-nloglik:2.711864\n"
       ]
      },
      {
       "output_type": "stream",
       "stream": "stderr",
       "text": [
        "[525]\ttrain-poisson-nloglik:2.620389\tval-poisson-nloglik:2.711455\n",
        "[526]\ttrain-poisson-nloglik:2.619681\tval-poisson-nloglik:2.710841\n"
       ]
      },
      {
       "output_type": "stream",
       "stream": "stderr",
       "text": [
        "[527]\ttrain-poisson-nloglik:2.619294\tval-poisson-nloglik:2.710463\n",
        "[528]\ttrain-poisson-nloglik:2.618904\tval-poisson-nloglik:2.710114\n"
       ]
      },
      {
       "output_type": "stream",
       "stream": "stderr",
       "text": [
        "[529]\ttrain-poisson-nloglik:2.618282\tval-poisson-nloglik:2.709525\n",
        "[530]\ttrain-poisson-nloglik:2.617484\tval-poisson-nloglik:2.708882\n"
       ]
      },
      {
       "output_type": "stream",
       "stream": "stderr",
       "text": [
        "[531]\ttrain-poisson-nloglik:2.617074\tval-poisson-nloglik:2.708497\n",
        "[532]\ttrain-poisson-nloglik:2.616688\tval-poisson-nloglik:2.708147\n"
       ]
      },
      {
       "output_type": "stream",
       "stream": "stderr",
       "text": [
        "[533]\ttrain-poisson-nloglik:2.616238\tval-poisson-nloglik:2.707739\n",
        "[534]\ttrain-poisson-nloglik:2.615833\tval-poisson-nloglik:2.707393\n"
       ]
      },
      {
       "output_type": "stream",
       "stream": "stderr",
       "text": [
        "[535]\ttrain-poisson-nloglik:2.615155\tval-poisson-nloglik:2.706750\n",
        "[536]\ttrain-poisson-nloglik:2.614754\tval-poisson-nloglik:2.706387\n"
       ]
      },
      {
       "output_type": "stream",
       "stream": "stderr",
       "text": [
        "[537]\ttrain-poisson-nloglik:2.614348\tval-poisson-nloglik:2.706031\n",
        "[538]\ttrain-poisson-nloglik:2.613865\tval-poisson-nloglik:2.705618\n"
       ]
      },
      {
       "output_type": "stream",
       "stream": "stderr",
       "text": [
        "[539]\ttrain-poisson-nloglik:2.613286\tval-poisson-nloglik:2.705103\n",
        "[540]\ttrain-poisson-nloglik:2.612824\tval-poisson-nloglik:2.704684\n"
       ]
      },
      {
       "output_type": "stream",
       "stream": "stderr",
       "text": [
        "[541]\ttrain-poisson-nloglik:2.611973\tval-poisson-nloglik:2.703912\n",
        "[542]\ttrain-poisson-nloglik:2.611449\tval-poisson-nloglik:2.703451\n"
       ]
      },
      {
       "output_type": "stream",
       "stream": "stderr",
       "text": [
        "[543]\ttrain-poisson-nloglik:2.610707\tval-poisson-nloglik:2.702778\n",
        "[544]\ttrain-poisson-nloglik:2.610023\tval-poisson-nloglik:2.702139\n"
       ]
      },
      {
       "output_type": "stream",
       "stream": "stderr",
       "text": [
        "[545]\ttrain-poisson-nloglik:2.609473\tval-poisson-nloglik:2.701651\n",
        "[546]\ttrain-poisson-nloglik:2.609059\tval-poisson-nloglik:2.701246\n"
       ]
      },
      {
       "output_type": "stream",
       "stream": "stderr",
       "text": [
        "[547]\ttrain-poisson-nloglik:2.608764\tval-poisson-nloglik:2.700979\n",
        "[548]\ttrain-poisson-nloglik:2.608261\tval-poisson-nloglik:2.700567\n"
       ]
      },
      {
       "output_type": "stream",
       "stream": "stderr",
       "text": [
        "[549]\ttrain-poisson-nloglik:2.607848\tval-poisson-nloglik:2.700158\n",
        "[550]\ttrain-poisson-nloglik:2.607473\tval-poisson-nloglik:2.699840\n"
       ]
      },
      {
       "output_type": "stream",
       "stream": "stderr",
       "text": [
        "[551]\ttrain-poisson-nloglik:2.607044\tval-poisson-nloglik:2.699450\n",
        "[552]\ttrain-poisson-nloglik:2.606707\tval-poisson-nloglik:2.699125\n"
       ]
      },
      {
       "output_type": "stream",
       "stream": "stderr",
       "text": [
        "[553]\ttrain-poisson-nloglik:2.606263\tval-poisson-nloglik:2.698726\n",
        "[554]\ttrain-poisson-nloglik:2.605982\tval-poisson-nloglik:2.698457\n"
       ]
      },
      {
       "output_type": "stream",
       "stream": "stderr",
       "text": [
        "[555]\ttrain-poisson-nloglik:2.605685\tval-poisson-nloglik:2.698179\n",
        "[556]\ttrain-poisson-nloglik:2.605071\tval-poisson-nloglik:2.697654\n"
       ]
      },
      {
       "output_type": "stream",
       "stream": "stderr",
       "text": [
        "[557]\ttrain-poisson-nloglik:2.604669\tval-poisson-nloglik:2.697325\n",
        "[558]\ttrain-poisson-nloglik:2.604075\tval-poisson-nloglik:2.696800\n"
       ]
      },
      {
       "output_type": "stream",
       "stream": "stderr",
       "text": [
        "[559]\ttrain-poisson-nloglik:2.603757\tval-poisson-nloglik:2.696539\n",
        "[560]\ttrain-poisson-nloglik:2.603346\tval-poisson-nloglik:2.696187\n"
       ]
      },
      {
       "output_type": "stream",
       "stream": "stderr",
       "text": [
        "[561]\ttrain-poisson-nloglik:2.603061\tval-poisson-nloglik:2.695915\n",
        "[562]\ttrain-poisson-nloglik:2.602508\tval-poisson-nloglik:2.695426\n"
       ]
      },
      {
       "output_type": "stream",
       "stream": "stderr",
       "text": [
        "[563]\ttrain-poisson-nloglik:2.602222\tval-poisson-nloglik:2.695160\n",
        "[564]\ttrain-poisson-nloglik:2.601817\tval-poisson-nloglik:2.694793\n"
       ]
      },
      {
       "output_type": "stream",
       "stream": "stderr",
       "text": [
        "[565]\ttrain-poisson-nloglik:2.601302\tval-poisson-nloglik:2.694344\n",
        "[566]\ttrain-poisson-nloglik:2.600663\tval-poisson-nloglik:2.693810\n"
       ]
      },
      {
       "output_type": "stream",
       "stream": "stderr",
       "text": [
        "[567]\ttrain-poisson-nloglik:2.600281\tval-poisson-nloglik:2.693432\n",
        "[568]\ttrain-poisson-nloglik:2.599568\tval-poisson-nloglik:2.692780\n"
       ]
      },
      {
       "output_type": "stream",
       "stream": "stderr",
       "text": [
        "[569]\ttrain-poisson-nloglik:2.599193\tval-poisson-nloglik:2.692444\n",
        "[570]\ttrain-poisson-nloglik:2.598903\tval-poisson-nloglik:2.692184\n"
       ]
      },
      {
       "output_type": "stream",
       "stream": "stderr",
       "text": [
        "[571]\ttrain-poisson-nloglik:2.598336\tval-poisson-nloglik:2.691658\n",
        "[572]\ttrain-poisson-nloglik:2.597679\tval-poisson-nloglik:2.691068\n"
       ]
      },
      {
       "output_type": "stream",
       "stream": "stderr",
       "text": [
        "[573]\ttrain-poisson-nloglik:2.597286\tval-poisson-nloglik:2.690697\n",
        "[574]\ttrain-poisson-nloglik:2.596870\tval-poisson-nloglik:2.690392\n"
       ]
      },
      {
       "output_type": "stream",
       "stream": "stderr",
       "text": [
        "[575]\ttrain-poisson-nloglik:2.596238\tval-poisson-nloglik:2.689825\n",
        "[576]\ttrain-poisson-nloglik:2.595924\tval-poisson-nloglik:2.689538\n"
       ]
      },
      {
       "output_type": "stream",
       "stream": "stderr",
       "text": [
        "[577]\ttrain-poisson-nloglik:2.595361\tval-poisson-nloglik:2.689050\n",
        "[578]\ttrain-poisson-nloglik:2.594760\tval-poisson-nloglik:2.688564\n"
       ]
      },
      {
       "output_type": "stream",
       "stream": "stderr",
       "text": [
        "[579]\ttrain-poisson-nloglik:2.594184\tval-poisson-nloglik:2.688064\n",
        "[580]\ttrain-poisson-nloglik:2.593932\tval-poisson-nloglik:2.687836\n"
       ]
      },
      {
       "output_type": "stream",
       "stream": "stderr",
       "text": [
        "[581]\ttrain-poisson-nloglik:2.593327\tval-poisson-nloglik:2.687313\n",
        "[582]\ttrain-poisson-nloglik:2.592891\tval-poisson-nloglik:2.686886\n"
       ]
      },
      {
       "output_type": "stream",
       "stream": "stderr",
       "text": [
        "[583]\ttrain-poisson-nloglik:2.592348\tval-poisson-nloglik:2.686435\n",
        "[584]\ttrain-poisson-nloglik:2.591921\tval-poisson-nloglik:2.686017\n"
       ]
      },
      {
       "output_type": "stream",
       "stream": "stderr",
       "text": [
        "[585]\ttrain-poisson-nloglik:2.591677\tval-poisson-nloglik:2.685822\n",
        "[586]\ttrain-poisson-nloglik:2.591314\tval-poisson-nloglik:2.685499\n"
       ]
      },
      {
       "output_type": "stream",
       "stream": "stderr",
       "text": [
        "[587]\ttrain-poisson-nloglik:2.590759\tval-poisson-nloglik:2.685002\n",
        "[588]\ttrain-poisson-nloglik:2.590308\tval-poisson-nloglik:2.684631\n"
       ]
      },
      {
       "output_type": "stream",
       "stream": "stderr",
       "text": [
        "[589]\ttrain-poisson-nloglik:2.590032\tval-poisson-nloglik:2.684388\n",
        "[590]\ttrain-poisson-nloglik:2.589814\tval-poisson-nloglik:2.684194\n"
       ]
      },
      {
       "output_type": "stream",
       "stream": "stderr",
       "text": [
        "[591]\ttrain-poisson-nloglik:2.589393\tval-poisson-nloglik:2.683820\n",
        "[592]\ttrain-poisson-nloglik:2.589065\tval-poisson-nloglik:2.683514\n"
       ]
      },
      {
       "output_type": "stream",
       "stream": "stderr",
       "text": [
        "[593]\ttrain-poisson-nloglik:2.588550\tval-poisson-nloglik:2.683050\n",
        "[594]\ttrain-poisson-nloglik:2.588356\tval-poisson-nloglik:2.682876\n"
       ]
      },
      {
       "output_type": "stream",
       "stream": "stderr",
       "text": [
        "[595]\ttrain-poisson-nloglik:2.587925\tval-poisson-nloglik:2.682534\n",
        "[596]\ttrain-poisson-nloglik:2.587359\tval-poisson-nloglik:2.682074\n"
       ]
      },
      {
       "output_type": "stream",
       "stream": "stderr",
       "text": [
        "[597]\ttrain-poisson-nloglik:2.586959\tval-poisson-nloglik:2.681692\n",
        "[598]\ttrain-poisson-nloglik:2.586658\tval-poisson-nloglik:2.681426\n"
       ]
      },
      {
       "output_type": "stream",
       "stream": "stderr",
       "text": [
        "[599]\ttrain-poisson-nloglik:2.586071\tval-poisson-nloglik:2.680903\n",
        "[600]\ttrain-poisson-nloglik:2.585644\tval-poisson-nloglik:2.680515\n"
       ]
      },
      {
       "output_type": "stream",
       "stream": "stderr",
       "text": [
        "[601]\ttrain-poisson-nloglik:2.585357\tval-poisson-nloglik:2.680266\n",
        "[602]\ttrain-poisson-nloglik:2.584985\tval-poisson-nloglik:2.679929\n"
       ]
      },
      {
       "output_type": "stream",
       "stream": "stderr",
       "text": [
        "[603]\ttrain-poisson-nloglik:2.584672\tval-poisson-nloglik:2.679673\n",
        "[604]\ttrain-poisson-nloglik:2.584136\tval-poisson-nloglik:2.679229\n"
       ]
      },
      {
       "output_type": "stream",
       "stream": "stderr",
       "text": [
        "[605]\ttrain-poisson-nloglik:2.583711\tval-poisson-nloglik:2.678842\n",
        "[606]\ttrain-poisson-nloglik:2.583211\tval-poisson-nloglik:2.678414\n"
       ]
      },
      {
       "output_type": "stream",
       "stream": "stderr",
       "text": [
        "[607]\ttrain-poisson-nloglik:2.582685\tval-poisson-nloglik:2.677978\n",
        "[608]\ttrain-poisson-nloglik:2.582121\tval-poisson-nloglik:2.677454\n"
       ]
      },
      {
       "output_type": "stream",
       "stream": "stderr",
       "text": [
        "[609]\ttrain-poisson-nloglik:2.581640\tval-poisson-nloglik:2.677069\n",
        "[610]\ttrain-poisson-nloglik:2.581477\tval-poisson-nloglik:2.676910\n"
       ]
      },
      {
       "output_type": "stream",
       "stream": "stderr",
       "text": [
        "[611]\ttrain-poisson-nloglik:2.581268\tval-poisson-nloglik:2.676725\n",
        "[612]\ttrain-poisson-nloglik:2.580870\tval-poisson-nloglik:2.676378\n"
       ]
      },
      {
       "output_type": "stream",
       "stream": "stderr",
       "text": [
        "[613]\ttrain-poisson-nloglik:2.580343\tval-poisson-nloglik:2.675924\n",
        "[614]\ttrain-poisson-nloglik:2.579993\tval-poisson-nloglik:2.675627\n"
       ]
      },
      {
       "output_type": "stream",
       "stream": "stderr",
       "text": [
        "[615]\ttrain-poisson-nloglik:2.579758\tval-poisson-nloglik:2.675423\n",
        "[616]\ttrain-poisson-nloglik:2.579331\tval-poisson-nloglik:2.675013\n"
       ]
      },
      {
       "output_type": "stream",
       "stream": "stderr",
       "text": [
        "[617]\ttrain-poisson-nloglik:2.578881\tval-poisson-nloglik:2.674613\n",
        "[618]\ttrain-poisson-nloglik:2.578350\tval-poisson-nloglik:2.674164\n"
       ]
      },
      {
       "output_type": "stream",
       "stream": "stderr",
       "text": [
        "[619]\ttrain-poisson-nloglik:2.578033\tval-poisson-nloglik:2.673903\n",
        "[620]\ttrain-poisson-nloglik:2.577712\tval-poisson-nloglik:2.673606\n"
       ]
      },
      {
       "output_type": "stream",
       "stream": "stderr",
       "text": [
        "[621]\ttrain-poisson-nloglik:2.577225\tval-poisson-nloglik:2.673177\n",
        "[622]\ttrain-poisson-nloglik:2.576958\tval-poisson-nloglik:2.672935\n"
       ]
      },
      {
       "output_type": "stream",
       "stream": "stderr",
       "text": [
        "[623]\ttrain-poisson-nloglik:2.576711\tval-poisson-nloglik:2.672668\n",
        "[624]\ttrain-poisson-nloglik:2.576307\tval-poisson-nloglik:2.672321\n"
       ]
      },
      {
       "output_type": "stream",
       "stream": "stderr",
       "text": [
        "[625]\ttrain-poisson-nloglik:2.575878\tval-poisson-nloglik:2.671928\n",
        "[626]\ttrain-poisson-nloglik:2.575369\tval-poisson-nloglik:2.671458\n"
       ]
      },
      {
       "output_type": "stream",
       "stream": "stderr",
       "text": [
        "[627]\ttrain-poisson-nloglik:2.575123\tval-poisson-nloglik:2.671233\n",
        "[628]\ttrain-poisson-nloglik:2.574654\tval-poisson-nloglik:2.670831\n"
       ]
      },
      {
       "output_type": "stream",
       "stream": "stderr",
       "text": [
        "[629]\ttrain-poisson-nloglik:2.574201\tval-poisson-nloglik:2.670418\n",
        "[630]\ttrain-poisson-nloglik:2.573716\tval-poisson-nloglik:2.670051\n"
       ]
      },
      {
       "output_type": "stream",
       "stream": "stderr",
       "text": [
        "[631]\ttrain-poisson-nloglik:2.573353\tval-poisson-nloglik:2.669696\n",
        "[632]\ttrain-poisson-nloglik:2.572896\tval-poisson-nloglik:2.669258\n"
       ]
      },
      {
       "output_type": "stream",
       "stream": "stderr",
       "text": [
        "[633]\ttrain-poisson-nloglik:2.572556\tval-poisson-nloglik:2.668970\n",
        "[634]\ttrain-poisson-nloglik:2.572142\tval-poisson-nloglik:2.668590\n"
       ]
      },
      {
       "output_type": "stream",
       "stream": "stderr",
       "text": [
        "[635]\ttrain-poisson-nloglik:2.571930\tval-poisson-nloglik:2.668412\n",
        "[636]\ttrain-poisson-nloglik:2.571608\tval-poisson-nloglik:2.668082\n"
       ]
      },
      {
       "output_type": "stream",
       "stream": "stderr",
       "text": [
        "[637]\ttrain-poisson-nloglik:2.571240\tval-poisson-nloglik:2.667769\n",
        "[638]\ttrain-poisson-nloglik:2.570753\tval-poisson-nloglik:2.667309\n"
       ]
      },
      {
       "output_type": "stream",
       "stream": "stderr",
       "text": [
        "[639]\ttrain-poisson-nloglik:2.570333\tval-poisson-nloglik:2.666962\n",
        "[640]\ttrain-poisson-nloglik:2.569968\tval-poisson-nloglik:2.666638\n"
       ]
      },
      {
       "output_type": "stream",
       "stream": "stderr",
       "text": [
        "[641]\ttrain-poisson-nloglik:2.569773\tval-poisson-nloglik:2.666460\n",
        "[642]\ttrain-poisson-nloglik:2.569574\tval-poisson-nloglik:2.666305\n"
       ]
      },
      {
       "output_type": "stream",
       "stream": "stderr",
       "text": [
        "[643]\ttrain-poisson-nloglik:2.569043\tval-poisson-nloglik:2.665853\n",
        "[644]\ttrain-poisson-nloglik:2.568781\tval-poisson-nloglik:2.665591\n"
       ]
      },
      {
       "output_type": "stream",
       "stream": "stderr",
       "text": [
        "[645]\ttrain-poisson-nloglik:2.568490\tval-poisson-nloglik:2.665306\n",
        "[646]\ttrain-poisson-nloglik:2.568292\tval-poisson-nloglik:2.665139\n"
       ]
      },
      {
       "output_type": "stream",
       "stream": "stderr",
       "text": [
        "[647]\ttrain-poisson-nloglik:2.567960\tval-poisson-nloglik:2.664846\n",
        "[648]\ttrain-poisson-nloglik:2.567605\tval-poisson-nloglik:2.664513\n"
       ]
      },
      {
       "output_type": "stream",
       "stream": "stderr",
       "text": [
        "[649]\ttrain-poisson-nloglik:2.567333\tval-poisson-nloglik:2.664287\n",
        "[650]\ttrain-poisson-nloglik:2.567007\tval-poisson-nloglik:2.663992\n"
       ]
      },
      {
       "output_type": "stream",
       "stream": "stderr",
       "text": [
        "[651]\ttrain-poisson-nloglik:2.566751\tval-poisson-nloglik:2.663754\n",
        "[652]\ttrain-poisson-nloglik:2.566494\tval-poisson-nloglik:2.663521\n"
       ]
      },
      {
       "output_type": "stream",
       "stream": "stderr",
       "text": [
        "[653]\ttrain-poisson-nloglik:2.566134\tval-poisson-nloglik:2.663177\n",
        "[654]\ttrain-poisson-nloglik:2.565856\tval-poisson-nloglik:2.662947\n"
       ]
      },
      {
       "output_type": "stream",
       "stream": "stderr",
       "text": [
        "[655]\ttrain-poisson-nloglik:2.565398\tval-poisson-nloglik:2.662514\n",
        "[656]\ttrain-poisson-nloglik:2.565228\tval-poisson-nloglik:2.662386\n"
       ]
      },
      {
       "output_type": "stream",
       "stream": "stderr",
       "text": [
        "[657]\ttrain-poisson-nloglik:2.564945\tval-poisson-nloglik:2.662123\n",
        "[658]\ttrain-poisson-nloglik:2.564547\tval-poisson-nloglik:2.661764\n"
       ]
      },
      {
       "output_type": "stream",
       "stream": "stderr",
       "text": [
        "[659]\ttrain-poisson-nloglik:2.564051\tval-poisson-nloglik:2.661350\n",
        "[660]\ttrain-poisson-nloglik:2.563613\tval-poisson-nloglik:2.660957\n"
       ]
      },
      {
       "output_type": "stream",
       "stream": "stderr",
       "text": [
        "[661]\ttrain-poisson-nloglik:2.563356\tval-poisson-nloglik:2.660702\n",
        "[662]\ttrain-poisson-nloglik:2.562982\tval-poisson-nloglik:2.660347\n"
       ]
      },
      {
       "output_type": "stream",
       "stream": "stderr",
       "text": [
        "[663]\ttrain-poisson-nloglik:2.562723\tval-poisson-nloglik:2.660123\n",
        "[664]\ttrain-poisson-nloglik:2.562319\tval-poisson-nloglik:2.659769\n"
       ]
      },
      {
       "output_type": "stream",
       "stream": "stderr",
       "text": [
        "[665]\ttrain-poisson-nloglik:2.561940\tval-poisson-nloglik:2.659410\n",
        "[666]\ttrain-poisson-nloglik:2.561819\tval-poisson-nloglik:2.659310\n"
       ]
      },
      {
       "output_type": "stream",
       "stream": "stderr",
       "text": [
        "[667]\ttrain-poisson-nloglik:2.561563\tval-poisson-nloglik:2.659069\n",
        "[668]\ttrain-poisson-nloglik:2.561397\tval-poisson-nloglik:2.658949\n"
       ]
      },
      {
       "output_type": "stream",
       "stream": "stderr",
       "text": [
        "[669]\ttrain-poisson-nloglik:2.561101\tval-poisson-nloglik:2.658673\n",
        "[670]\ttrain-poisson-nloglik:2.560860\tval-poisson-nloglik:2.658481\n"
       ]
      },
      {
       "output_type": "stream",
       "stream": "stderr",
       "text": [
        "[671]\ttrain-poisson-nloglik:2.560534\tval-poisson-nloglik:2.658214\n",
        "[672]\ttrain-poisson-nloglik:2.560308\tval-poisson-nloglik:2.658019\n"
       ]
      },
      {
       "output_type": "stream",
       "stream": "stderr",
       "text": [
        "[673]\ttrain-poisson-nloglik:2.560010\tval-poisson-nloglik:2.657802\n",
        "[674]\ttrain-poisson-nloglik:2.559719\tval-poisson-nloglik:2.657534\n"
       ]
      },
      {
       "output_type": "stream",
       "stream": "stderr",
       "text": [
        "[675]\ttrain-poisson-nloglik:2.559183\tval-poisson-nloglik:2.657066\n",
        "[676]\ttrain-poisson-nloglik:2.558995\tval-poisson-nloglik:2.656907\n"
       ]
      },
      {
       "output_type": "stream",
       "stream": "stderr",
       "text": [
        "[677]\ttrain-poisson-nloglik:2.558748\tval-poisson-nloglik:2.656697\n",
        "[678]\ttrain-poisson-nloglik:2.558287\tval-poisson-nloglik:2.656308\n"
       ]
      },
      {
       "output_type": "stream",
       "stream": "stderr",
       "text": [
        "[679]\ttrain-poisson-nloglik:2.558098\tval-poisson-nloglik:2.656148\n",
        "[680]\ttrain-poisson-nloglik:2.557789\tval-poisson-nloglik:2.655885\n"
       ]
      },
      {
       "output_type": "stream",
       "stream": "stderr",
       "text": [
        "[681]\ttrain-poisson-nloglik:2.557404\tval-poisson-nloglik:2.655523\n",
        "[682]\ttrain-poisson-nloglik:2.556770\tval-poisson-nloglik:2.654930\n"
       ]
      },
      {
       "output_type": "stream",
       "stream": "stderr",
       "text": [
        "[683]\ttrain-poisson-nloglik:2.556409\tval-poisson-nloglik:2.654593\n",
        "[684]\ttrain-poisson-nloglik:2.556169\tval-poisson-nloglik:2.654367\n"
       ]
      },
      {
       "output_type": "stream",
       "stream": "stderr",
       "text": [
        "[685]\ttrain-poisson-nloglik:2.555675\tval-poisson-nloglik:2.653881\n",
        "[686]\ttrain-poisson-nloglik:2.555407\tval-poisson-nloglik:2.653684\n"
       ]
      },
      {
       "output_type": "stream",
       "stream": "stderr",
       "text": [
        "[687]\ttrain-poisson-nloglik:2.555017\tval-poisson-nloglik:2.653319\n",
        "[688]\ttrain-poisson-nloglik:2.554656\tval-poisson-nloglik:2.652996\n"
       ]
      },
      {
       "output_type": "stream",
       "stream": "stderr",
       "text": [
        "[689]\ttrain-poisson-nloglik:2.554280\tval-poisson-nloglik:2.652665\n",
        "[690]\ttrain-poisson-nloglik:2.554010\tval-poisson-nloglik:2.652434\n"
       ]
      },
      {
       "output_type": "stream",
       "stream": "stderr",
       "text": [
        "[691]\ttrain-poisson-nloglik:2.553580\tval-poisson-nloglik:2.652092\n",
        "[692]\ttrain-poisson-nloglik:2.553255\tval-poisson-nloglik:2.651801\n"
       ]
      },
      {
       "output_type": "stream",
       "stream": "stderr",
       "text": [
        "[693]\ttrain-poisson-nloglik:2.552987\tval-poisson-nloglik:2.651542\n",
        "[694]\ttrain-poisson-nloglik:2.552706\tval-poisson-nloglik:2.651289\n"
       ]
      },
      {
       "output_type": "stream",
       "stream": "stderr",
       "text": [
        "[695]\ttrain-poisson-nloglik:2.552489\tval-poisson-nloglik:2.651067\n",
        "[696]\ttrain-poisson-nloglik:2.552300\tval-poisson-nloglik:2.650889\n"
       ]
      },
      {
       "output_type": "stream",
       "stream": "stderr",
       "text": [
        "[697]\ttrain-poisson-nloglik:2.551911\tval-poisson-nloglik:2.650580\n",
        "[698]\ttrain-poisson-nloglik:2.551571\tval-poisson-nloglik:2.650227\n"
       ]
      },
      {
       "output_type": "stream",
       "stream": "stderr",
       "text": [
        "[699]\ttrain-poisson-nloglik:2.551221\tval-poisson-nloglik:2.649906\n",
        "[700]\ttrain-poisson-nloglik:2.550899\tval-poisson-nloglik:2.649656\n"
       ]
      },
      {
       "output_type": "stream",
       "stream": "stderr",
       "text": [
        "[701]\ttrain-poisson-nloglik:2.550508\tval-poisson-nloglik:2.649316\n",
        "[702]\ttrain-poisson-nloglik:2.550165\tval-poisson-nloglik:2.648990\n"
       ]
      },
      {
       "output_type": "stream",
       "stream": "stderr",
       "text": [
        "[703]\ttrain-poisson-nloglik:2.549928\tval-poisson-nloglik:2.648800\n",
        "[704]\ttrain-poisson-nloglik:2.549497\tval-poisson-nloglik:2.648466\n"
       ]
      },
      {
       "output_type": "stream",
       "stream": "stderr",
       "text": [
        "[705]\ttrain-poisson-nloglik:2.548947\tval-poisson-nloglik:2.648022\n",
        "[706]\ttrain-poisson-nloglik:2.548523\tval-poisson-nloglik:2.647597\n"
       ]
      },
      {
       "output_type": "stream",
       "stream": "stderr",
       "text": [
        "[707]\ttrain-poisson-nloglik:2.548240\tval-poisson-nloglik:2.647348\n",
        "[708]\ttrain-poisson-nloglik:2.547781\tval-poisson-nloglik:2.646920\n"
       ]
      },
      {
       "output_type": "stream",
       "stream": "stderr",
       "text": [
        "[709]\ttrain-poisson-nloglik:2.547575\tval-poisson-nloglik:2.646714\n",
        "[710]\ttrain-poisson-nloglik:2.547246\tval-poisson-nloglik:2.646393\n"
       ]
      },
      {
       "output_type": "stream",
       "stream": "stderr",
       "text": [
        "[711]\ttrain-poisson-nloglik:2.546765\tval-poisson-nloglik:2.645924\n",
        "[712]\ttrain-poisson-nloglik:2.546324\tval-poisson-nloglik:2.645564\n"
       ]
      },
      {
       "output_type": "stream",
       "stream": "stderr",
       "text": [
        "[713]\ttrain-poisson-nloglik:2.546061\tval-poisson-nloglik:2.645321\n",
        "[714]\ttrain-poisson-nloglik:2.545709\tval-poisson-nloglik:2.644993\n"
       ]
      },
      {
       "output_type": "stream",
       "stream": "stderr",
       "text": [
        "[715]\ttrain-poisson-nloglik:2.545524\tval-poisson-nloglik:2.644830\n",
        "[716]\ttrain-poisson-nloglik:2.545098\tval-poisson-nloglik:2.644450\n"
       ]
      },
      {
       "output_type": "stream",
       "stream": "stderr",
       "text": [
        "[717]\ttrain-poisson-nloglik:2.544930\tval-poisson-nloglik:2.644287\n",
        "[718]\ttrain-poisson-nloglik:2.544802\tval-poisson-nloglik:2.644199\n"
       ]
      },
      {
       "output_type": "stream",
       "stream": "stderr",
       "text": [
        "[719]\ttrain-poisson-nloglik:2.544457\tval-poisson-nloglik:2.643950\n",
        "[720]\ttrain-poisson-nloglik:2.544141\tval-poisson-nloglik:2.643671\n"
       ]
      },
      {
       "output_type": "stream",
       "stream": "stderr",
       "text": [
        "[721]\ttrain-poisson-nloglik:2.543818\tval-poisson-nloglik:2.643384\n",
        "[722]\ttrain-poisson-nloglik:2.543690\tval-poisson-nloglik:2.643256\n"
       ]
      },
      {
       "output_type": "stream",
       "stream": "stderr",
       "text": [
        "[723]\ttrain-poisson-nloglik:2.543283\tval-poisson-nloglik:2.642884\n",
        "[724]\ttrain-poisson-nloglik:2.542925\tval-poisson-nloglik:2.642584\n"
       ]
      },
      {
       "output_type": "stream",
       "stream": "stderr",
       "text": [
        "[725]\ttrain-poisson-nloglik:2.542815\tval-poisson-nloglik:2.642519\n",
        "[726]\ttrain-poisson-nloglik:2.542648\tval-poisson-nloglik:2.642391\n"
       ]
      },
      {
       "output_type": "stream",
       "stream": "stderr",
       "text": [
        "[727]\ttrain-poisson-nloglik:2.542307\tval-poisson-nloglik:2.642088\n",
        "[728]\ttrain-poisson-nloglik:2.541867\tval-poisson-nloglik:2.641718\n"
       ]
      },
      {
       "output_type": "stream",
       "stream": "stderr",
       "text": [
        "[729]\ttrain-poisson-nloglik:2.541479\tval-poisson-nloglik:2.641402\n",
        "[730]\ttrain-poisson-nloglik:2.541044\tval-poisson-nloglik:2.641000\n"
       ]
      },
      {
       "output_type": "stream",
       "stream": "stderr",
       "text": [
        "[731]\ttrain-poisson-nloglik:2.540737\tval-poisson-nloglik:2.640725\n",
        "[732]\ttrain-poisson-nloglik:2.540176\tval-poisson-nloglik:2.640241\n"
       ]
      },
      {
       "output_type": "stream",
       "stream": "stderr",
       "text": [
        "[733]\ttrain-poisson-nloglik:2.539825\tval-poisson-nloglik:2.639938\n",
        "[734]\ttrain-poisson-nloglik:2.539491\tval-poisson-nloglik:2.639671\n"
       ]
      },
      {
       "output_type": "stream",
       "stream": "stderr",
       "text": [
        "[735]\ttrain-poisson-nloglik:2.539111\tval-poisson-nloglik:2.639305\n",
        "[736]\ttrain-poisson-nloglik:2.538727\tval-poisson-nloglik:2.638963\n"
       ]
      },
      {
       "output_type": "stream",
       "stream": "stderr",
       "text": [
        "[737]\ttrain-poisson-nloglik:2.538469\tval-poisson-nloglik:2.638768\n",
        "[738]\ttrain-poisson-nloglik:2.538238\tval-poisson-nloglik:2.638570\n"
       ]
      },
      {
       "output_type": "stream",
       "stream": "stderr",
       "text": [
        "[739]\ttrain-poisson-nloglik:2.538107\tval-poisson-nloglik:2.638473\n",
        "[740]\ttrain-poisson-nloglik:2.537999\tval-poisson-nloglik:2.638375\n"
       ]
      },
      {
       "output_type": "stream",
       "stream": "stderr",
       "text": [
        "[741]\ttrain-poisson-nloglik:2.537809\tval-poisson-nloglik:2.638195\n",
        "[742]\ttrain-poisson-nloglik:2.537301\tval-poisson-nloglik:2.637738\n"
       ]
      },
      {
       "output_type": "stream",
       "stream": "stderr",
       "text": [
        "[743]\ttrain-poisson-nloglik:2.537139\tval-poisson-nloglik:2.637590\n",
        "[744]\ttrain-poisson-nloglik:2.536825\tval-poisson-nloglik:2.637321\n"
       ]
      },
      {
       "output_type": "stream",
       "stream": "stderr",
       "text": [
        "[745]\ttrain-poisson-nloglik:2.536672\tval-poisson-nloglik:2.637179\n",
        "[746]\ttrain-poisson-nloglik:2.536240\tval-poisson-nloglik:2.636791\n"
       ]
      },
      {
       "output_type": "stream",
       "stream": "stderr",
       "text": [
        "[747]\ttrain-poisson-nloglik:2.535931\tval-poisson-nloglik:2.636532\n",
        "[748]\ttrain-poisson-nloglik:2.535440\tval-poisson-nloglik:2.636084\n"
       ]
      },
      {
       "output_type": "stream",
       "stream": "stderr",
       "text": [
        "[749]\ttrain-poisson-nloglik:2.535162\tval-poisson-nloglik:2.635839\n",
        "[750]\ttrain-poisson-nloglik:2.534991\tval-poisson-nloglik:2.635729\n"
       ]
      },
      {
       "output_type": "stream",
       "stream": "stderr",
       "text": [
        "[751]\ttrain-poisson-nloglik:2.534729\tval-poisson-nloglik:2.635506\n",
        "[752]\ttrain-poisson-nloglik:2.534539\tval-poisson-nloglik:2.635364\n"
       ]
      },
      {
       "output_type": "stream",
       "stream": "stderr",
       "text": [
        "[753]\ttrain-poisson-nloglik:2.534338\tval-poisson-nloglik:2.635202\n",
        "[754]\ttrain-poisson-nloglik:2.533949\tval-poisson-nloglik:2.634855\n"
       ]
      },
      {
       "output_type": "stream",
       "stream": "stderr",
       "text": [
        "[755]\ttrain-poisson-nloglik:2.533772\tval-poisson-nloglik:2.634680\n",
        "[756]\ttrain-poisson-nloglik:2.533372\tval-poisson-nloglik:2.634344\n"
       ]
      },
      {
       "output_type": "stream",
       "stream": "stderr",
       "text": [
        "[757]\ttrain-poisson-nloglik:2.533060\tval-poisson-nloglik:2.634098\n",
        "[758]\ttrain-poisson-nloglik:2.532915\tval-poisson-nloglik:2.633987\n"
       ]
      },
      {
       "output_type": "stream",
       "stream": "stderr",
       "text": [
        "[759]\ttrain-poisson-nloglik:2.532588\tval-poisson-nloglik:2.633696\n",
        "[760]\ttrain-poisson-nloglik:2.532253\tval-poisson-nloglik:2.633410\n"
       ]
      },
      {
       "output_type": "stream",
       "stream": "stderr",
       "text": [
        "[761]\ttrain-poisson-nloglik:2.531935\tval-poisson-nloglik:2.633163\n",
        "[762]\ttrain-poisson-nloglik:2.531619\tval-poisson-nloglik:2.632884\n"
       ]
      },
      {
       "output_type": "stream",
       "stream": "stderr",
       "text": [
        "[763]\ttrain-poisson-nloglik:2.531341\tval-poisson-nloglik:2.632642\n",
        "[764]\ttrain-poisson-nloglik:2.530941\tval-poisson-nloglik:2.632280\n"
       ]
      },
      {
       "output_type": "stream",
       "stream": "stderr",
       "text": [
        "[765]\ttrain-poisson-nloglik:2.530832\tval-poisson-nloglik:2.632180\n",
        "[766]\ttrain-poisson-nloglik:2.530536\tval-poisson-nloglik:2.631893\n"
       ]
      },
      {
       "output_type": "stream",
       "stream": "stderr",
       "text": [
        "[767]\ttrain-poisson-nloglik:2.530361\tval-poisson-nloglik:2.631721\n",
        "[768]\ttrain-poisson-nloglik:2.530048\tval-poisson-nloglik:2.631495\n"
       ]
      },
      {
       "output_type": "stream",
       "stream": "stderr",
       "text": [
        "[769]\ttrain-poisson-nloglik:2.529938\tval-poisson-nloglik:2.631423\n",
        "[770]\ttrain-poisson-nloglik:2.529747\tval-poisson-nloglik:2.631279\n"
       ]
      },
      {
       "output_type": "stream",
       "stream": "stderr",
       "text": [
        "[771]\ttrain-poisson-nloglik:2.529540\tval-poisson-nloglik:2.631127\n",
        "[772]\ttrain-poisson-nloglik:2.529380\tval-poisson-nloglik:2.630996\n"
       ]
      },
      {
       "output_type": "stream",
       "stream": "stderr",
       "text": [
        "[773]\ttrain-poisson-nloglik:2.529170\tval-poisson-nloglik:2.630793\n",
        "[774]\ttrain-poisson-nloglik:2.528822\tval-poisson-nloglik:2.630441\n"
       ]
      },
      {
       "output_type": "stream",
       "stream": "stderr",
       "text": [
        "[775]\ttrain-poisson-nloglik:2.528671\tval-poisson-nloglik:2.630313\n",
        "[776]\ttrain-poisson-nloglik:2.528251\tval-poisson-nloglik:2.629938\n"
       ]
      },
      {
       "output_type": "stream",
       "stream": "stderr",
       "text": [
        "[777]\ttrain-poisson-nloglik:2.527819\tval-poisson-nloglik:2.629581\n",
        "[778]\ttrain-poisson-nloglik:2.527580\tval-poisson-nloglik:2.629406\n"
       ]
      },
      {
       "output_type": "stream",
       "stream": "stderr",
       "text": [
        "[779]\ttrain-poisson-nloglik:2.527459\tval-poisson-nloglik:2.629316\n",
        "[780]\ttrain-poisson-nloglik:2.527184\tval-poisson-nloglik:2.629089\n"
       ]
      },
      {
       "output_type": "stream",
       "stream": "stderr",
       "text": [
        "[781]\ttrain-poisson-nloglik:2.526786\tval-poisson-nloglik:2.628724\n",
        "[782]\ttrain-poisson-nloglik:2.526535\tval-poisson-nloglik:2.628489\n"
       ]
      },
      {
       "output_type": "stream",
       "stream": "stderr",
       "text": [
        "[783]\ttrain-poisson-nloglik:2.526404\tval-poisson-nloglik:2.628356\n",
        "[784]\ttrain-poisson-nloglik:2.526202\tval-poisson-nloglik:2.628186\n"
       ]
      },
      {
       "output_type": "stream",
       "stream": "stderr",
       "text": [
        "[785]\ttrain-poisson-nloglik:2.526057\tval-poisson-nloglik:2.628057\n",
        "[786]\ttrain-poisson-nloglik:2.525562\tval-poisson-nloglik:2.627599\n"
       ]
      },
      {
       "output_type": "stream",
       "stream": "stderr",
       "text": [
        "[787]\ttrain-poisson-nloglik:2.525257\tval-poisson-nloglik:2.627335\n",
        "[788]\ttrain-poisson-nloglik:2.525047\tval-poisson-nloglik:2.627174\n"
       ]
      },
      {
       "output_type": "stream",
       "stream": "stderr",
       "text": [
        "[789]\ttrain-poisson-nloglik:2.524646\tval-poisson-nloglik:2.626843\n",
        "[790]\ttrain-poisson-nloglik:2.524546\tval-poisson-nloglik:2.626760\n"
       ]
      },
      {
       "output_type": "stream",
       "stream": "stderr",
       "text": [
        "[791]\ttrain-poisson-nloglik:2.524297\tval-poisson-nloglik:2.626572\n",
        "[792]\ttrain-poisson-nloglik:2.524011\tval-poisson-nloglik:2.626324\n"
       ]
      },
      {
       "output_type": "stream",
       "stream": "stderr",
       "text": [
        "[793]\ttrain-poisson-nloglik:2.523790\tval-poisson-nloglik:2.626178\n",
        "[794]\ttrain-poisson-nloglik:2.523411\tval-poisson-nloglik:2.625815\n"
       ]
      },
      {
       "output_type": "stream",
       "stream": "stderr",
       "text": [
        "[795]\ttrain-poisson-nloglik:2.523021\tval-poisson-nloglik:2.625524\n",
        "[796]\ttrain-poisson-nloglik:2.522762\tval-poisson-nloglik:2.625306\n"
       ]
      },
      {
       "output_type": "stream",
       "stream": "stderr",
       "text": [
        "[797]\ttrain-poisson-nloglik:2.522681\tval-poisson-nloglik:2.625242\n",
        "[798]\ttrain-poisson-nloglik:2.522360\tval-poisson-nloglik:2.624941\n"
       ]
      },
      {
       "output_type": "stream",
       "stream": "stderr",
       "text": [
        "[799]\ttrain-poisson-nloglik:2.521989\tval-poisson-nloglik:2.624610\n",
        "[800]\ttrain-poisson-nloglik:2.521708\tval-poisson-nloglik:2.624365\n"
       ]
      },
      {
       "output_type": "stream",
       "stream": "stderr",
       "text": [
        "[801]\ttrain-poisson-nloglik:2.521334\tval-poisson-nloglik:2.623997\n",
        "[802]\ttrain-poisson-nloglik:2.521059\tval-poisson-nloglik:2.623743\n"
       ]
      },
      {
       "output_type": "stream",
       "stream": "stderr",
       "text": [
        "[803]\ttrain-poisson-nloglik:2.520718\tval-poisson-nloglik:2.623413\n",
        "[804]\ttrain-poisson-nloglik:2.520518\tval-poisson-nloglik:2.623250\n"
       ]
      },
      {
       "output_type": "stream",
       "stream": "stderr",
       "text": [
        "[805]\ttrain-poisson-nloglik:2.520403\tval-poisson-nloglik:2.623163\n",
        "[806]\ttrain-poisson-nloglik:2.520257\tval-poisson-nloglik:2.623019\n"
       ]
      },
      {
       "output_type": "stream",
       "stream": "stderr",
       "text": [
        "[807]\ttrain-poisson-nloglik:2.520058\tval-poisson-nloglik:2.622846\n",
        "[808]\ttrain-poisson-nloglik:2.519746\tval-poisson-nloglik:2.622535\n"
       ]
      },
      {
       "output_type": "stream",
       "stream": "stderr",
       "text": [
        "[809]\ttrain-poisson-nloglik:2.519477\tval-poisson-nloglik:2.622309\n",
        "[810]\ttrain-poisson-nloglik:2.519270\tval-poisson-nloglik:2.622132\n"
       ]
      },
      {
       "output_type": "stream",
       "stream": "stderr",
       "text": [
        "[811]\ttrain-poisson-nloglik:2.519050\tval-poisson-nloglik:2.621979\n",
        "[812]\ttrain-poisson-nloglik:2.518711\tval-poisson-nloglik:2.621723\n"
       ]
      },
      {
       "output_type": "stream",
       "stream": "stderr",
       "text": [
        "[813]\ttrain-poisson-nloglik:2.518367\tval-poisson-nloglik:2.621396\n",
        "[814]\ttrain-poisson-nloglik:2.518289\tval-poisson-nloglik:2.621313\n"
       ]
      },
      {
       "output_type": "stream",
       "stream": "stderr",
       "text": [
        "[815]\ttrain-poisson-nloglik:2.517911\tval-poisson-nloglik:2.621005\n",
        "[816]\ttrain-poisson-nloglik:2.517682\tval-poisson-nloglik:2.620804\n"
       ]
      },
      {
       "output_type": "stream",
       "stream": "stderr",
       "text": [
        "[817]\ttrain-poisson-nloglik:2.517511\tval-poisson-nloglik:2.620652\n",
        "[818]\ttrain-poisson-nloglik:2.517239\tval-poisson-nloglik:2.620439\n"
       ]
      },
      {
       "output_type": "stream",
       "stream": "stderr",
       "text": [
        "[819]\ttrain-poisson-nloglik:2.517137\tval-poisson-nloglik:2.620314\n",
        "[820]\ttrain-poisson-nloglik:2.516741\tval-poisson-nloglik:2.619985\n"
       ]
      },
      {
       "output_type": "stream",
       "stream": "stderr",
       "text": [
        "[821]\ttrain-poisson-nloglik:2.516461\tval-poisson-nloglik:2.619727\n",
        "[822]\ttrain-poisson-nloglik:2.516101\tval-poisson-nloglik:2.619455\n"
       ]
      },
      {
       "output_type": "stream",
       "stream": "stderr",
       "text": [
        "[823]\ttrain-poisson-nloglik:2.515845\tval-poisson-nloglik:2.619259\n",
        "[824]\ttrain-poisson-nloglik:2.515492\tval-poisson-nloglik:2.618930\n"
       ]
      },
      {
       "output_type": "stream",
       "stream": "stderr",
       "text": [
        "[825]\ttrain-poisson-nloglik:2.515416\tval-poisson-nloglik:2.618886\n",
        "[826]\ttrain-poisson-nloglik:2.515235\tval-poisson-nloglik:2.618725\n"
       ]
      },
      {
       "output_type": "stream",
       "stream": "stderr",
       "text": [
        "[827]\ttrain-poisson-nloglik:2.514922\tval-poisson-nloglik:2.618463\n",
        "[828]\ttrain-poisson-nloglik:2.514699\tval-poisson-nloglik:2.618258\n"
       ]
      },
      {
       "output_type": "stream",
       "stream": "stderr",
       "text": [
        "[829]\ttrain-poisson-nloglik:2.514382\tval-poisson-nloglik:2.618004\n",
        "[830]\ttrain-poisson-nloglik:2.513934\tval-poisson-nloglik:2.617589\n"
       ]
      },
      {
       "output_type": "stream",
       "stream": "stderr",
       "text": [
        "[831]\ttrain-poisson-nloglik:2.513607\tval-poisson-nloglik:2.617307\n",
        "[832]\ttrain-poisson-nloglik:2.513506\tval-poisson-nloglik:2.617236\n"
       ]
      },
      {
       "output_type": "stream",
       "stream": "stderr",
       "text": [
        "[833]\ttrain-poisson-nloglik:2.513175\tval-poisson-nloglik:2.616952\n",
        "[834]\ttrain-poisson-nloglik:2.513059\tval-poisson-nloglik:2.616849\n"
       ]
      },
      {
       "output_type": "stream",
       "stream": "stderr",
       "text": [
        "[835]\ttrain-poisson-nloglik:2.512775\tval-poisson-nloglik:2.616602\n",
        "[836]\ttrain-poisson-nloglik:2.512708\tval-poisson-nloglik:2.616564\n"
       ]
      },
      {
       "output_type": "stream",
       "stream": "stderr",
       "text": [
        "[837]\ttrain-poisson-nloglik:2.512602\tval-poisson-nloglik:2.616487\n",
        "[838]\ttrain-poisson-nloglik:2.512504\tval-poisson-nloglik:2.616384\n"
       ]
      },
      {
       "output_type": "stream",
       "stream": "stderr",
       "text": [
        "[839]\ttrain-poisson-nloglik:2.512289\tval-poisson-nloglik:2.616182\n",
        "[840]\ttrain-poisson-nloglik:2.512112\tval-poisson-nloglik:2.616028\n"
       ]
      },
      {
       "output_type": "stream",
       "stream": "stderr",
       "text": [
        "[841]\ttrain-poisson-nloglik:2.511863\tval-poisson-nloglik:2.615815\n",
        "[842]\ttrain-poisson-nloglik:2.511679\tval-poisson-nloglik:2.615672\n"
       ]
      },
      {
       "output_type": "stream",
       "stream": "stderr",
       "text": [
        "[843]\ttrain-poisson-nloglik:2.511528\tval-poisson-nloglik:2.615560\n",
        "[844]\ttrain-poisson-nloglik:2.511174\tval-poisson-nloglik:2.615234\n"
       ]
      },
      {
       "output_type": "stream",
       "stream": "stderr",
       "text": [
        "[845]\ttrain-poisson-nloglik:2.510887\tval-poisson-nloglik:2.615015\n",
        "[846]\ttrain-poisson-nloglik:2.510642\tval-poisson-nloglik:2.614786\n"
       ]
      },
      {
       "output_type": "stream",
       "stream": "stderr",
       "text": [
        "[847]\ttrain-poisson-nloglik:2.510282\tval-poisson-nloglik:2.614415\n",
        "[848]\ttrain-poisson-nloglik:2.509994\tval-poisson-nloglik:2.614183\n"
       ]
      },
      {
       "output_type": "stream",
       "stream": "stderr",
       "text": [
        "[849]\ttrain-poisson-nloglik:2.509713\tval-poisson-nloglik:2.613970\n",
        "[850]\ttrain-poisson-nloglik:2.509508\tval-poisson-nloglik:2.613799\n"
       ]
      },
      {
       "output_type": "stream",
       "stream": "stderr",
       "text": [
        "[851]\ttrain-poisson-nloglik:2.509271\tval-poisson-nloglik:2.613610\n",
        "[852]\ttrain-poisson-nloglik:2.509050\tval-poisson-nloglik:2.613389\n"
       ]
      },
      {
       "output_type": "stream",
       "stream": "stderr",
       "text": [
        "[853]\ttrain-poisson-nloglik:2.508775\tval-poisson-nloglik:2.613146\n",
        "[854]\ttrain-poisson-nloglik:2.508555\tval-poisson-nloglik:2.612960\n"
       ]
      },
      {
       "output_type": "stream",
       "stream": "stderr",
       "text": [
        "[855]\ttrain-poisson-nloglik:2.508279\tval-poisson-nloglik:2.612690\n",
        "[856]\ttrain-poisson-nloglik:2.508033\tval-poisson-nloglik:2.612495\n"
       ]
      },
      {
       "output_type": "stream",
       "stream": "stderr",
       "text": [
        "[857]\ttrain-poisson-nloglik:2.507780\tval-poisson-nloglik:2.612270\n",
        "[858]\ttrain-poisson-nloglik:2.507549\tval-poisson-nloglik:2.612056\n"
       ]
      },
      {
       "output_type": "stream",
       "stream": "stderr",
       "text": [
        "[859]\ttrain-poisson-nloglik:2.507182\tval-poisson-nloglik:2.611723\n",
        "[860]\ttrain-poisson-nloglik:2.506899\tval-poisson-nloglik:2.611478\n"
       ]
      },
      {
       "output_type": "stream",
       "stream": "stderr",
       "text": [
        "[861]\ttrain-poisson-nloglik:2.506512\tval-poisson-nloglik:2.611158\n",
        "[862]\ttrain-poisson-nloglik:2.506344\tval-poisson-nloglik:2.611040\n"
       ]
      },
      {
       "output_type": "stream",
       "stream": "stderr",
       "text": [
        "[863]\ttrain-poisson-nloglik:2.506136\tval-poisson-nloglik:2.610877\n",
        "[864]\ttrain-poisson-nloglik:2.505962\tval-poisson-nloglik:2.610702\n"
       ]
      },
      {
       "output_type": "stream",
       "stream": "stderr",
       "text": [
        "[865]\ttrain-poisson-nloglik:2.505887\tval-poisson-nloglik:2.610640\n",
        "[866]\ttrain-poisson-nloglik:2.505591\tval-poisson-nloglik:2.610392\n"
       ]
      },
      {
       "output_type": "stream",
       "stream": "stderr",
       "text": [
        "[867]\ttrain-poisson-nloglik:2.505332\tval-poisson-nloglik:2.610186\n",
        "[868]\ttrain-poisson-nloglik:2.505059\tval-poisson-nloglik:2.609947\n"
       ]
      },
      {
       "output_type": "stream",
       "stream": "stderr",
       "text": [
        "[869]\ttrain-poisson-nloglik:2.504812\tval-poisson-nloglik:2.609754\n",
        "[870]\ttrain-poisson-nloglik:2.504483\tval-poisson-nloglik:2.609428\n"
       ]
      },
      {
       "output_type": "stream",
       "stream": "stderr",
       "text": [
        "[871]\ttrain-poisson-nloglik:2.504152\tval-poisson-nloglik:2.609117\n",
        "[872]\ttrain-poisson-nloglik:2.503808\tval-poisson-nloglik:2.608824\n"
       ]
      },
      {
       "output_type": "stream",
       "stream": "stderr",
       "text": [
        "[873]\ttrain-poisson-nloglik:2.503626\tval-poisson-nloglik:2.608642\n",
        "[874]\ttrain-poisson-nloglik:2.503363\tval-poisson-nloglik:2.608447\n"
       ]
      },
      {
       "output_type": "stream",
       "stream": "stderr",
       "text": [
        "[875]\ttrain-poisson-nloglik:2.503304\tval-poisson-nloglik:2.608404\n",
        "[876]\ttrain-poisson-nloglik:2.503063\tval-poisson-nloglik:2.608208\n"
       ]
      },
      {
       "output_type": "stream",
       "stream": "stderr",
       "text": [
        "[877]\ttrain-poisson-nloglik:2.502781\tval-poisson-nloglik:2.607957\n",
        "[878]\ttrain-poisson-nloglik:2.502565\tval-poisson-nloglik:2.607805\n"
       ]
      },
      {
       "output_type": "stream",
       "stream": "stderr",
       "text": [
        "[879]\ttrain-poisson-nloglik:2.502358\tval-poisson-nloglik:2.607636\n",
        "[880]\ttrain-poisson-nloglik:2.502221\tval-poisson-nloglik:2.607533\n"
       ]
      },
      {
       "output_type": "stream",
       "stream": "stderr",
       "text": [
        "[881]\ttrain-poisson-nloglik:2.502022\tval-poisson-nloglik:2.607371\n",
        "[882]\ttrain-poisson-nloglik:2.501700\tval-poisson-nloglik:2.607095\n"
       ]
      },
      {
       "output_type": "stream",
       "stream": "stderr",
       "text": [
        "[883]\ttrain-poisson-nloglik:2.501570\tval-poisson-nloglik:2.606976\n",
        "[884]\ttrain-poisson-nloglik:2.501367\tval-poisson-nloglik:2.606845\n"
       ]
      },
      {
       "output_type": "stream",
       "stream": "stderr",
       "text": [
        "[885]\ttrain-poisson-nloglik:2.501230\tval-poisson-nloglik:2.606712\n",
        "[886]\ttrain-poisson-nloglik:2.500735\tval-poisson-nloglik:2.606250\n"
       ]
      },
      {
       "output_type": "stream",
       "stream": "stderr",
       "text": [
        "[887]\ttrain-poisson-nloglik:2.500342\tval-poisson-nloglik:2.605934\n",
        "[888]\ttrain-poisson-nloglik:2.500086\tval-poisson-nloglik:2.605703\n"
       ]
      },
      {
       "output_type": "stream",
       "stream": "stderr",
       "text": [
        "[889]\ttrain-poisson-nloglik:2.499789\tval-poisson-nloglik:2.605442\n",
        "[890]\ttrain-poisson-nloglik:2.499678\tval-poisson-nloglik:2.605334\n"
       ]
      },
      {
       "output_type": "stream",
       "stream": "stderr",
       "text": [
        "[891]\ttrain-poisson-nloglik:2.499467\tval-poisson-nloglik:2.605157\n",
        "[892]\ttrain-poisson-nloglik:2.499301\tval-poisson-nloglik:2.605015\n"
       ]
      },
      {
       "output_type": "stream",
       "stream": "stderr",
       "text": [
        "[893]\ttrain-poisson-nloglik:2.499007\tval-poisson-nloglik:2.604769\n",
        "[894]\ttrain-poisson-nloglik:2.498868\tval-poisson-nloglik:2.604636\n"
       ]
      },
      {
       "output_type": "stream",
       "stream": "stderr",
       "text": [
        "[895]\ttrain-poisson-nloglik:2.498632\tval-poisson-nloglik:2.604398\n",
        "[896]\ttrain-poisson-nloglik:2.498320\tval-poisson-nloglik:2.604111\n"
       ]
      },
      {
       "output_type": "stream",
       "stream": "stderr",
       "text": [
        "[897]\ttrain-poisson-nloglik:2.498016\tval-poisson-nloglik:2.603800\n",
        "[898]\ttrain-poisson-nloglik:2.497792\tval-poisson-nloglik:2.603630\n"
       ]
      },
      {
       "output_type": "stream",
       "stream": "stderr",
       "text": [
        "[899]\ttrain-poisson-nloglik:2.497590\tval-poisson-nloglik:2.603423\n",
        "[900]\ttrain-poisson-nloglik:2.497389\tval-poisson-nloglik:2.603272\n"
       ]
      },
      {
       "output_type": "stream",
       "stream": "stderr",
       "text": [
        "[901]\ttrain-poisson-nloglik:2.497290\tval-poisson-nloglik:2.603180\n",
        "[902]\ttrain-poisson-nloglik:2.496982\tval-poisson-nloglik:2.602892\n"
       ]
      },
      {
       "output_type": "stream",
       "stream": "stderr",
       "text": [
        "[903]\ttrain-poisson-nloglik:2.496786\tval-poisson-nloglik:2.602721\n",
        "[904]\ttrain-poisson-nloglik:2.496491\tval-poisson-nloglik:2.602428\n"
       ]
      },
      {
       "output_type": "stream",
       "stream": "stderr",
       "text": [
        "[905]\ttrain-poisson-nloglik:2.496260\tval-poisson-nloglik:2.602232\n",
        "[906]\ttrain-poisson-nloglik:2.496002\tval-poisson-nloglik:2.601996\n"
       ]
      },
      {
       "output_type": "stream",
       "stream": "stderr",
       "text": [
        "[907]\ttrain-poisson-nloglik:2.495637\tval-poisson-nloglik:2.601649\n",
        "[908]\ttrain-poisson-nloglik:2.495468\tval-poisson-nloglik:2.601472\n"
       ]
      },
      {
       "output_type": "stream",
       "stream": "stderr",
       "text": [
        "[909]\ttrain-poisson-nloglik:2.495128\tval-poisson-nloglik:2.601124\n",
        "[910]\ttrain-poisson-nloglik:2.494889\tval-poisson-nloglik:2.600873\n"
       ]
      },
      {
       "output_type": "stream",
       "stream": "stderr",
       "text": [
        "[911]\ttrain-poisson-nloglik:2.494731\tval-poisson-nloglik:2.600755\n",
        "[912]\ttrain-poisson-nloglik:2.494452\tval-poisson-nloglik:2.600527\n"
       ]
      },
      {
       "output_type": "stream",
       "stream": "stderr",
       "text": [
        "[913]\ttrain-poisson-nloglik:2.494233\tval-poisson-nloglik:2.600347\n",
        "[914]\ttrain-poisson-nloglik:2.493867\tval-poisson-nloglik:2.600029\n"
       ]
      },
      {
       "output_type": "stream",
       "stream": "stderr",
       "text": [
        "[915]\ttrain-poisson-nloglik:2.493708\tval-poisson-nloglik:2.599895\n",
        "[916]\ttrain-poisson-nloglik:2.493592\tval-poisson-nloglik:2.599800\n"
       ]
      },
      {
       "output_type": "stream",
       "stream": "stderr",
       "text": [
        "[917]\ttrain-poisson-nloglik:2.493464\tval-poisson-nloglik:2.599682\n",
        "[918]\ttrain-poisson-nloglik:2.493340\tval-poisson-nloglik:2.599546\n"
       ]
      },
      {
       "output_type": "stream",
       "stream": "stderr",
       "text": [
        "[919]\ttrain-poisson-nloglik:2.493075\tval-poisson-nloglik:2.599319\n",
        "[920]\ttrain-poisson-nloglik:2.492828\tval-poisson-nloglik:2.599115\n"
       ]
      },
      {
       "output_type": "stream",
       "stream": "stderr",
       "text": [
        "[921]\ttrain-poisson-nloglik:2.492463\tval-poisson-nloglik:2.598812\n",
        "[922]\ttrain-poisson-nloglik:2.492190\tval-poisson-nloglik:2.598557\n"
       ]
      },
      {
       "output_type": "stream",
       "stream": "stderr",
       "text": [
        "[923]\ttrain-poisson-nloglik:2.491754\tval-poisson-nloglik:2.598141\n",
        "[924]\ttrain-poisson-nloglik:2.491542\tval-poisson-nloglik:2.597972\n"
       ]
      },
      {
       "output_type": "stream",
       "stream": "stderr",
       "text": [
        "[925]\ttrain-poisson-nloglik:2.491188\tval-poisson-nloglik:2.597617\n",
        "[926]\ttrain-poisson-nloglik:2.490852\tval-poisson-nloglik:2.597285\n"
       ]
      },
      {
       "output_type": "stream",
       "stream": "stderr",
       "text": [
        "[927]\ttrain-poisson-nloglik:2.490773\tval-poisson-nloglik:2.597208\n",
        "[928]\ttrain-poisson-nloglik:2.490509\tval-poisson-nloglik:2.596967\n"
       ]
      },
      {
       "output_type": "stream",
       "stream": "stderr",
       "text": [
        "[929]\ttrain-poisson-nloglik:2.490406\tval-poisson-nloglik:2.596896\n",
        "[930]\ttrain-poisson-nloglik:2.490128\tval-poisson-nloglik:2.596673\n"
       ]
      },
      {
       "output_type": "stream",
       "stream": "stderr",
       "text": [
        "[931]\ttrain-poisson-nloglik:2.490041\tval-poisson-nloglik:2.596608\n",
        "[932]\ttrain-poisson-nloglik:2.489850\tval-poisson-nloglik:2.596409\n"
       ]
      },
      {
       "output_type": "stream",
       "stream": "stderr",
       "text": [
        "[933]\ttrain-poisson-nloglik:2.489728\tval-poisson-nloglik:2.596297\n",
        "[934]\ttrain-poisson-nloglik:2.489303\tval-poisson-nloglik:2.595876\n"
       ]
      },
      {
       "output_type": "stream",
       "stream": "stderr",
       "text": [
        "[935]\ttrain-poisson-nloglik:2.489183\tval-poisson-nloglik:2.595781\n",
        "[936]\ttrain-poisson-nloglik:2.488950\tval-poisson-nloglik:2.595578\n"
       ]
      },
      {
       "output_type": "stream",
       "stream": "stderr",
       "text": [
        "[937]\ttrain-poisson-nloglik:2.488812\tval-poisson-nloglik:2.595473\n",
        "[938]\ttrain-poisson-nloglik:2.488529\tval-poisson-nloglik:2.595233\n"
       ]
      },
      {
       "output_type": "stream",
       "stream": "stderr",
       "text": [
        "[939]\ttrain-poisson-nloglik:2.488388\tval-poisson-nloglik:2.595117\n",
        "[940]\ttrain-poisson-nloglik:2.488125\tval-poisson-nloglik:2.594884\n"
       ]
      },
      {
       "output_type": "stream",
       "stream": "stderr",
       "text": [
        "[941]\ttrain-poisson-nloglik:2.487955\tval-poisson-nloglik:2.594725\n",
        "[942]\ttrain-poisson-nloglik:2.487653\tval-poisson-nloglik:2.594450\n"
       ]
      },
      {
       "output_type": "stream",
       "stream": "stderr",
       "text": [
        "[943]\ttrain-poisson-nloglik:2.487546\tval-poisson-nloglik:2.594380\n",
        "[944]\ttrain-poisson-nloglik:2.487273\tval-poisson-nloglik:2.594138\n"
       ]
      },
      {
       "output_type": "stream",
       "stream": "stderr",
       "text": [
        "[945]\ttrain-poisson-nloglik:2.487032\tval-poisson-nloglik:2.593925\n",
        "[946]\ttrain-poisson-nloglik:2.486914\tval-poisson-nloglik:2.593824\n"
       ]
      },
      {
       "output_type": "stream",
       "stream": "stderr",
       "text": [
        "[947]\ttrain-poisson-nloglik:2.486682\tval-poisson-nloglik:2.593593\n",
        "[948]\ttrain-poisson-nloglik:2.486423\tval-poisson-nloglik:2.593371\n"
       ]
      },
      {
       "output_type": "stream",
       "stream": "stderr",
       "text": [
        "[949]\ttrain-poisson-nloglik:2.486279\tval-poisson-nloglik:2.593256\n",
        "[950]\ttrain-poisson-nloglik:2.486002\tval-poisson-nloglik:2.593021\n"
       ]
      },
      {
       "output_type": "stream",
       "stream": "stderr",
       "text": [
        "[951]\ttrain-poisson-nloglik:2.485771\tval-poisson-nloglik:2.592844\n",
        "[952]\ttrain-poisson-nloglik:2.485406\tval-poisson-nloglik:2.592550\n"
       ]
      },
      {
       "output_type": "stream",
       "stream": "stderr",
       "text": [
        "[953]\ttrain-poisson-nloglik:2.485126\tval-poisson-nloglik:2.592278\n",
        "[954]\ttrain-poisson-nloglik:2.484914\tval-poisson-nloglik:2.592100\n"
       ]
      },
      {
       "output_type": "stream",
       "stream": "stderr",
       "text": [
        "[955]\ttrain-poisson-nloglik:2.484611\tval-poisson-nloglik:2.591804\n",
        "[956]\ttrain-poisson-nloglik:2.484458\tval-poisson-nloglik:2.591652\n"
       ]
      },
      {
       "output_type": "stream",
       "stream": "stderr",
       "text": [
        "[957]\ttrain-poisson-nloglik:2.484194\tval-poisson-nloglik:2.591433\n",
        "[958]\ttrain-poisson-nloglik:2.484099\tval-poisson-nloglik:2.591368\n"
       ]
      },
      {
       "output_type": "stream",
       "stream": "stderr",
       "text": [
        "[959]\ttrain-poisson-nloglik:2.483975\tval-poisson-nloglik:2.591255\n",
        "[960]\ttrain-poisson-nloglik:2.483767\tval-poisson-nloglik:2.591068\n"
       ]
      },
      {
       "output_type": "stream",
       "stream": "stderr",
       "text": [
        "[961]\ttrain-poisson-nloglik:2.483669\tval-poisson-nloglik:2.591006\n",
        "[962]\ttrain-poisson-nloglik:2.483427\tval-poisson-nloglik:2.590781\n"
       ]
      },
      {
       "output_type": "stream",
       "stream": "stderr",
       "text": [
        "[963]\ttrain-poisson-nloglik:2.483151\tval-poisson-nloglik:2.590502\n",
        "[964]\ttrain-poisson-nloglik:2.482954\tval-poisson-nloglik:2.590365\n"
       ]
      },
      {
       "output_type": "stream",
       "stream": "stderr",
       "text": [
        "[965]\ttrain-poisson-nloglik:2.482769\tval-poisson-nloglik:2.590215\n",
        "[966]\ttrain-poisson-nloglik:2.482391\tval-poisson-nloglik:2.589908\n"
       ]
      },
      {
       "output_type": "stream",
       "stream": "stderr",
       "text": [
        "[967]\ttrain-poisson-nloglik:2.482192\tval-poisson-nloglik:2.589772\n",
        "[968]\ttrain-poisson-nloglik:2.481931\tval-poisson-nloglik:2.589557\n"
       ]
      },
      {
       "output_type": "stream",
       "stream": "stderr",
       "text": [
        "[969]\ttrain-poisson-nloglik:2.481687\tval-poisson-nloglik:2.589333\n",
        "[970]\ttrain-poisson-nloglik:2.481423\tval-poisson-nloglik:2.589110\n"
       ]
      },
      {
       "output_type": "stream",
       "stream": "stderr",
       "text": [
        "[971]\ttrain-poisson-nloglik:2.481289\tval-poisson-nloglik:2.589008\n",
        "[972]\ttrain-poisson-nloglik:2.480983\tval-poisson-nloglik:2.588748\n"
       ]
      },
      {
       "output_type": "stream",
       "stream": "stderr",
       "text": [
        "[973]\ttrain-poisson-nloglik:2.480675\tval-poisson-nloglik:2.588511\n",
        "[974]\ttrain-poisson-nloglik:2.480554\tval-poisson-nloglik:2.588416\n"
       ]
      },
      {
       "output_type": "stream",
       "stream": "stderr",
       "text": [
        "[975]\ttrain-poisson-nloglik:2.480262\tval-poisson-nloglik:2.588162\n",
        "[976]\ttrain-poisson-nloglik:2.479890\tval-poisson-nloglik:2.587845\n"
       ]
      },
      {
       "output_type": "stream",
       "stream": "stderr",
       "text": [
        "[977]\ttrain-poisson-nloglik:2.479625\tval-poisson-nloglik:2.587565\n",
        "[978]\ttrain-poisson-nloglik:2.479384\tval-poisson-nloglik:2.587336\n"
       ]
      },
      {
       "output_type": "stream",
       "stream": "stderr",
       "text": [
        "[979]\ttrain-poisson-nloglik:2.479139\tval-poisson-nloglik:2.587074\n",
        "[980]\ttrain-poisson-nloglik:2.478898\tval-poisson-nloglik:2.586810\n"
       ]
      },
      {
       "output_type": "stream",
       "stream": "stderr",
       "text": [
        "[981]\ttrain-poisson-nloglik:2.478662\tval-poisson-nloglik:2.586602\n",
        "[982]\ttrain-poisson-nloglik:2.478349\tval-poisson-nloglik:2.586347\n"
       ]
      },
      {
       "output_type": "stream",
       "stream": "stderr",
       "text": [
        "[983]\ttrain-poisson-nloglik:2.478081\tval-poisson-nloglik:2.586085\n",
        "[984]\ttrain-poisson-nloglik:2.477809\tval-poisson-nloglik:2.585850\n"
       ]
      },
      {
       "output_type": "stream",
       "stream": "stderr",
       "text": [
        "[985]\ttrain-poisson-nloglik:2.477747\tval-poisson-nloglik:2.585807\n",
        "[986]\ttrain-poisson-nloglik:2.477460\tval-poisson-nloglik:2.585512\n"
       ]
      },
      {
       "output_type": "stream",
       "stream": "stderr",
       "text": [
        "[987]\ttrain-poisson-nloglik:2.477275\tval-poisson-nloglik:2.585364\n",
        "[988]\ttrain-poisson-nloglik:2.476902\tval-poisson-nloglik:2.585046\n"
       ]
      },
      {
       "output_type": "stream",
       "stream": "stderr",
       "text": [
        "[989]\ttrain-poisson-nloglik:2.476700\tval-poisson-nloglik:2.584873\n",
        "[990]\ttrain-poisson-nloglik:2.476420\tval-poisson-nloglik:2.584628\n"
       ]
      },
      {
       "output_type": "stream",
       "stream": "stderr",
       "text": [
        "[991]\ttrain-poisson-nloglik:2.476242\tval-poisson-nloglik:2.584458\n",
        "[992]\ttrain-poisson-nloglik:2.476034\tval-poisson-nloglik:2.584266\n"
       ]
      },
      {
       "output_type": "stream",
       "stream": "stderr",
       "text": [
        "[993]\ttrain-poisson-nloglik:2.475706\tval-poisson-nloglik:2.584006\n",
        "[994]\ttrain-poisson-nloglik:2.475431\tval-poisson-nloglik:2.583747\n"
       ]
      },
      {
       "output_type": "stream",
       "stream": "stderr",
       "text": [
        "[995]\ttrain-poisson-nloglik:2.475190\tval-poisson-nloglik:2.583524\n",
        "[996]\ttrain-poisson-nloglik:2.475045\tval-poisson-nloglik:2.583408\n"
       ]
      },
      {
       "output_type": "stream",
       "stream": "stderr",
       "text": [
        "[997]\ttrain-poisson-nloglik:2.474793\tval-poisson-nloglik:2.583194\n",
        "[998]\ttrain-poisson-nloglik:2.474726\tval-poisson-nloglik:2.583151\n"
       ]
      },
      {
       "output_type": "stream",
       "stream": "stderr",
       "text": [
        "[999]\ttrain-poisson-nloglik:2.474544\tval-poisson-nloglik:2.582996\n",
        "[1000]\ttrain-poisson-nloglik:2.474345\tval-poisson-nloglik:2.582817\n"
       ]
      },
      {
       "output_type": "stream",
       "stream": "stderr",
       "text": [
        "[1001]\ttrain-poisson-nloglik:2.474134\tval-poisson-nloglik:2.582643\n",
        "[1002]\ttrain-poisson-nloglik:2.473877\tval-poisson-nloglik:2.582446\n"
       ]
      },
      {
       "output_type": "stream",
       "stream": "stderr",
       "text": [
        "[1003]\ttrain-poisson-nloglik:2.473730\tval-poisson-nloglik:2.582308\n",
        "[1004]\ttrain-poisson-nloglik:2.473394\tval-poisson-nloglik:2.582061\n"
       ]
      },
      {
       "output_type": "stream",
       "stream": "stderr",
       "text": [
        "[1005]\ttrain-poisson-nloglik:2.473205\tval-poisson-nloglik:2.581916\n",
        "[1006]\ttrain-poisson-nloglik:2.472980\tval-poisson-nloglik:2.581694\n"
       ]
      },
      {
       "output_type": "stream",
       "stream": "stderr",
       "text": [
        "[1007]\ttrain-poisson-nloglik:2.472658\tval-poisson-nloglik:2.581399\n",
        "[1008]\ttrain-poisson-nloglik:2.472584\tval-poisson-nloglik:2.581349\n"
       ]
      },
      {
       "output_type": "stream",
       "stream": "stderr",
       "text": [
        "[1009]\ttrain-poisson-nloglik:2.472262\tval-poisson-nloglik:2.581069\n",
        "[1010]\ttrain-poisson-nloglik:2.472061\tval-poisson-nloglik:2.580892\n"
       ]
      },
      {
       "output_type": "stream",
       "stream": "stderr",
       "text": [
        "[1011]\ttrain-poisson-nloglik:2.471890\tval-poisson-nloglik:2.580729\n",
        "[1012]\ttrain-poisson-nloglik:2.471690\tval-poisson-nloglik:2.580549\n"
       ]
      },
      {
       "output_type": "stream",
       "stream": "stderr",
       "text": [
        "[1013]\ttrain-poisson-nloglik:2.471569\tval-poisson-nloglik:2.580436\n",
        "[1014]\ttrain-poisson-nloglik:2.471398\tval-poisson-nloglik:2.580298\n"
       ]
      },
      {
       "output_type": "stream",
       "stream": "stderr",
       "text": [
        "[1015]\ttrain-poisson-nloglik:2.471109\tval-poisson-nloglik:2.580017\n",
        "[1016]\ttrain-poisson-nloglik:2.470985\tval-poisson-nloglik:2.579923\n"
       ]
      },
      {
       "output_type": "stream",
       "stream": "stderr",
       "text": [
        "[1017]\ttrain-poisson-nloglik:2.470659\tval-poisson-nloglik:2.579652\n",
        "[1018]\ttrain-poisson-nloglik:2.470432\tval-poisson-nloglik:2.579465\n"
       ]
      },
      {
       "output_type": "stream",
       "stream": "stderr",
       "text": [
        "[1019]\ttrain-poisson-nloglik:2.470221\tval-poisson-nloglik:2.579285\n",
        "[1020]\ttrain-poisson-nloglik:2.470054\tval-poisson-nloglik:2.579154\n"
       ]
      },
      {
       "output_type": "stream",
       "stream": "stderr",
       "text": [
        "[1021]\ttrain-poisson-nloglik:2.469832\tval-poisson-nloglik:2.578985\n",
        "[1022]\ttrain-poisson-nloglik:2.469595\tval-poisson-nloglik:2.578789\n"
       ]
      },
      {
       "output_type": "stream",
       "stream": "stderr",
       "text": [
        "[1023]\ttrain-poisson-nloglik:2.469344\tval-poisson-nloglik:2.578571\n",
        "[1024]\ttrain-poisson-nloglik:2.469185\tval-poisson-nloglik:2.578434\n"
       ]
      },
      {
       "output_type": "stream",
       "stream": "stderr",
       "text": [
        "[1025]\ttrain-poisson-nloglik:2.468977\tval-poisson-nloglik:2.578274\n",
        "[1026]\ttrain-poisson-nloglik:2.468711\tval-poisson-nloglik:2.578036\n"
       ]
      },
      {
       "output_type": "stream",
       "stream": "stderr",
       "text": [
        "[1027]\ttrain-poisson-nloglik:2.468541\tval-poisson-nloglik:2.577883\n",
        "[1028]\ttrain-poisson-nloglik:2.468221\tval-poisson-nloglik:2.577578\n"
       ]
      },
      {
       "output_type": "stream",
       "stream": "stderr",
       "text": [
        "[1029]\ttrain-poisson-nloglik:2.467857\tval-poisson-nloglik:2.577298\n",
        "[1030]\ttrain-poisson-nloglik:2.467710\tval-poisson-nloglik:2.577152\n"
       ]
      },
      {
       "output_type": "stream",
       "stream": "stderr",
       "text": [
        "[1031]\ttrain-poisson-nloglik:2.467433\tval-poisson-nloglik:2.576925\n",
        "[1032]\ttrain-poisson-nloglik:2.467330\tval-poisson-nloglik:2.576826\n"
       ]
      },
      {
       "output_type": "stream",
       "stream": "stderr",
       "text": [
        "[1033]\ttrain-poisson-nloglik:2.466955\tval-poisson-nloglik:2.576507\n",
        "[1034]\ttrain-poisson-nloglik:2.466742\tval-poisson-nloglik:2.576312\n"
       ]
      },
      {
       "output_type": "stream",
       "stream": "stderr",
       "text": [
        "[1035]\ttrain-poisson-nloglik:2.466455\tval-poisson-nloglik:2.576056\n",
        "[1036]\ttrain-poisson-nloglik:2.466139\tval-poisson-nloglik:2.575764\n"
       ]
      },
      {
       "output_type": "stream",
       "stream": "stderr",
       "text": [
        "[1037]\ttrain-poisson-nloglik:2.465958\tval-poisson-nloglik:2.575615\n",
        "[1038]\ttrain-poisson-nloglik:2.465816\tval-poisson-nloglik:2.575493\n"
       ]
      },
      {
       "output_type": "stream",
       "stream": "stderr",
       "text": [
        "[1039]\ttrain-poisson-nloglik:2.465708\tval-poisson-nloglik:2.575396\n",
        "[1040]\ttrain-poisson-nloglik:2.465552\tval-poisson-nloglik:2.575281\n"
       ]
      },
      {
       "output_type": "stream",
       "stream": "stderr",
       "text": [
        "[1041]\ttrain-poisson-nloglik:2.465354\tval-poisson-nloglik:2.575103\n",
        "[1042]\ttrain-poisson-nloglik:2.465044\tval-poisson-nloglik:2.574838\n"
       ]
      },
      {
       "output_type": "stream",
       "stream": "stderr",
       "text": [
        "[1043]\ttrain-poisson-nloglik:2.464896\tval-poisson-nloglik:2.574702\n",
        "[1044]\ttrain-poisson-nloglik:2.464728\tval-poisson-nloglik:2.574550\n"
       ]
      },
      {
       "output_type": "stream",
       "stream": "stderr",
       "text": [
        "[1045]\ttrain-poisson-nloglik:2.464485\tval-poisson-nloglik:2.574333\n",
        "[1046]\ttrain-poisson-nloglik:2.464255\tval-poisson-nloglik:2.574094\n"
       ]
      },
      {
       "output_type": "stream",
       "stream": "stderr",
       "text": [
        "[1047]\ttrain-poisson-nloglik:2.464000\tval-poisson-nloglik:2.573892\n",
        "[1048]\ttrain-poisson-nloglik:2.463641\tval-poisson-nloglik:2.573614\n"
       ]
      },
      {
       "output_type": "stream",
       "stream": "stderr",
       "text": [
        "[1049]\ttrain-poisson-nloglik:2.463359\tval-poisson-nloglik:2.573367\n",
        "[1050]\ttrain-poisson-nloglik:2.463141\tval-poisson-nloglik:2.573181\n"
       ]
      },
      {
       "output_type": "stream",
       "stream": "stderr",
       "text": [
        "[1051]\ttrain-poisson-nloglik:2.463070\tval-poisson-nloglik:2.573104\n",
        "[1052]\ttrain-poisson-nloglik:2.462857\tval-poisson-nloglik:2.572904\n"
       ]
      },
      {
       "output_type": "stream",
       "stream": "stderr",
       "text": [
        "[1053]\ttrain-poisson-nloglik:2.462690\tval-poisson-nloglik:2.572761\n",
        "[1054]\ttrain-poisson-nloglik:2.462463\tval-poisson-nloglik:2.572562\n"
       ]
      },
      {
       "output_type": "stream",
       "stream": "stderr",
       "text": [
        "[1055]\ttrain-poisson-nloglik:2.462223\tval-poisson-nloglik:2.572353\n",
        "[1056]\ttrain-poisson-nloglik:2.462021\tval-poisson-nloglik:2.572159\n"
       ]
      },
      {
       "output_type": "stream",
       "stream": "stderr",
       "text": [
        "[1057]\ttrain-poisson-nloglik:2.461747\tval-poisson-nloglik:2.571920\n",
        "[1058]\ttrain-poisson-nloglik:2.461522\tval-poisson-nloglik:2.571715\n"
       ]
      },
      {
       "output_type": "stream",
       "stream": "stderr",
       "text": [
        "[1059]\ttrain-poisson-nloglik:2.461270\tval-poisson-nloglik:2.571491\n",
        "[1060]\ttrain-poisson-nloglik:2.461075\tval-poisson-nloglik:2.571337\n"
       ]
      },
      {
       "output_type": "stream",
       "stream": "stderr",
       "text": [
        "[1061]\ttrain-poisson-nloglik:2.460871\tval-poisson-nloglik:2.571158\n",
        "[1062]\ttrain-poisson-nloglik:2.460753\tval-poisson-nloglik:2.571064\n"
       ]
      },
      {
       "output_type": "stream",
       "stream": "stderr",
       "text": [
        "[1063]\ttrain-poisson-nloglik:2.460454\tval-poisson-nloglik:2.570805\n",
        "[1064]\ttrain-poisson-nloglik:2.460321\tval-poisson-nloglik:2.570687\n"
       ]
      },
      {
       "output_type": "stream",
       "stream": "stderr",
       "text": [
        "[1065]\ttrain-poisson-nloglik:2.460083\tval-poisson-nloglik:2.570465\n",
        "[1066]\ttrain-poisson-nloglik:2.459938\tval-poisson-nloglik:2.570358\n"
       ]
      },
      {
       "output_type": "stream",
       "stream": "stderr",
       "text": [
        "[1067]\ttrain-poisson-nloglik:2.459856\tval-poisson-nloglik:2.570291\n",
        "[1068]\ttrain-poisson-nloglik:2.459640\tval-poisson-nloglik:2.570083\n"
       ]
      },
      {
       "output_type": "stream",
       "stream": "stderr",
       "text": [
        "[1069]\ttrain-poisson-nloglik:2.459321\tval-poisson-nloglik:2.569772\n",
        "[1070]\ttrain-poisson-nloglik:2.459151\tval-poisson-nloglik:2.569634\n"
       ]
      },
      {
       "output_type": "stream",
       "stream": "stderr",
       "text": [
        "[1071]\ttrain-poisson-nloglik:2.458930\tval-poisson-nloglik:2.569443\n",
        "[1072]\ttrain-poisson-nloglik:2.458698\tval-poisson-nloglik:2.569260\n"
       ]
      },
      {
       "output_type": "stream",
       "stream": "stderr",
       "text": [
        "[1073]\ttrain-poisson-nloglik:2.458452\tval-poisson-nloglik:2.569034\n",
        "[1074]\ttrain-poisson-nloglik:2.458150\tval-poisson-nloglik:2.568741\n"
       ]
      },
      {
       "output_type": "stream",
       "stream": "stderr",
       "text": [
        "[1075]\ttrain-poisson-nloglik:2.457886\tval-poisson-nloglik:2.568545\n",
        "[1076]\ttrain-poisson-nloglik:2.457534\tval-poisson-nloglik:2.568218\n"
       ]
      },
      {
       "output_type": "stream",
       "stream": "stderr",
       "text": [
        "[1077]\ttrain-poisson-nloglik:2.457319\tval-poisson-nloglik:2.568041\n",
        "[1078]\ttrain-poisson-nloglik:2.457134\tval-poisson-nloglik:2.567899\n"
       ]
      },
      {
       "output_type": "stream",
       "stream": "stderr",
       "text": [
        "[1079]\ttrain-poisson-nloglik:2.457040\tval-poisson-nloglik:2.567820\n",
        "[1080]\ttrain-poisson-nloglik:2.456741\tval-poisson-nloglik:2.567574\n"
       ]
      },
      {
       "output_type": "stream",
       "stream": "stderr",
       "text": [
        "[1081]\ttrain-poisson-nloglik:2.456495\tval-poisson-nloglik:2.567345\n",
        "[1082]\ttrain-poisson-nloglik:2.456393\tval-poisson-nloglik:2.567257\n"
       ]
      },
      {
       "output_type": "stream",
       "stream": "stderr",
       "text": [
        "[1083]\ttrain-poisson-nloglik:2.456264\tval-poisson-nloglik:2.567180\n",
        "[1084]\ttrain-poisson-nloglik:2.456118\tval-poisson-nloglik:2.567072\n"
       ]
      },
      {
       "output_type": "stream",
       "stream": "stderr",
       "text": [
        "[1085]\ttrain-poisson-nloglik:2.455980\tval-poisson-nloglik:2.566948\n",
        "[1086]\ttrain-poisson-nloglik:2.455741\tval-poisson-nloglik:2.566768\n"
       ]
      },
      {
       "output_type": "stream",
       "stream": "stderr",
       "text": [
        "[1087]\ttrain-poisson-nloglik:2.455465\tval-poisson-nloglik:2.566537\n",
        "[1088]\ttrain-poisson-nloglik:2.455348\tval-poisson-nloglik:2.566465\n"
       ]
      },
      {
       "output_type": "stream",
       "stream": "stderr",
       "text": [
        "[1089]\ttrain-poisson-nloglik:2.455195\tval-poisson-nloglik:2.566333\n",
        "[1090]\ttrain-poisson-nloglik:2.455129\tval-poisson-nloglik:2.566281\n"
       ]
      },
      {
       "output_type": "stream",
       "stream": "stderr",
       "text": [
        "[1091]\ttrain-poisson-nloglik:2.455037\tval-poisson-nloglik:2.566212\n",
        "[1092]\ttrain-poisson-nloglik:2.454722\tval-poisson-nloglik:2.565952\n"
       ]
      },
      {
       "output_type": "stream",
       "stream": "stderr",
       "text": [
        "[1093]\ttrain-poisson-nloglik:2.454484\tval-poisson-nloglik:2.565737\n",
        "[1094]\ttrain-poisson-nloglik:2.454268\tval-poisson-nloglik:2.565558\n"
       ]
      },
      {
       "output_type": "stream",
       "stream": "stderr",
       "text": [
        "[1095]\ttrain-poisson-nloglik:2.453934\tval-poisson-nloglik:2.565248\n",
        "[1096]\ttrain-poisson-nloglik:2.453628\tval-poisson-nloglik:2.564953\n"
       ]
      },
      {
       "output_type": "stream",
       "stream": "stderr",
       "text": [
        "[1097]\ttrain-poisson-nloglik:2.453284\tval-poisson-nloglik:2.564654\n",
        "[1098]\ttrain-poisson-nloglik:2.453023\tval-poisson-nloglik:2.564413\n"
       ]
      },
      {
       "output_type": "stream",
       "stream": "stderr",
       "text": [
        "[1099]\ttrain-poisson-nloglik:2.452950\tval-poisson-nloglik:2.564362\n",
        "[1100]\ttrain-poisson-nloglik:2.452770\tval-poisson-nloglik:2.564224\n"
       ]
      },
      {
       "output_type": "stream",
       "stream": "stderr",
       "text": [
        "[1101]\ttrain-poisson-nloglik:2.452596\tval-poisson-nloglik:2.564065\n",
        "[1102]\ttrain-poisson-nloglik:2.452477\tval-poisson-nloglik:2.563969\n"
       ]
      },
      {
       "output_type": "stream",
       "stream": "stderr",
       "text": [
        "[1103]\ttrain-poisson-nloglik:2.452337\tval-poisson-nloglik:2.563848\n",
        "[1104]\ttrain-poisson-nloglik:2.452190\tval-poisson-nloglik:2.563725\n"
       ]
      },
      {
       "output_type": "stream",
       "stream": "stderr",
       "text": [
        "[1105]\ttrain-poisson-nloglik:2.451900\tval-poisson-nloglik:2.563496\n",
        "[1106]\ttrain-poisson-nloglik:2.451644\tval-poisson-nloglik:2.563278\n"
       ]
      },
      {
       "output_type": "stream",
       "stream": "stderr",
       "text": [
        "[1107]\ttrain-poisson-nloglik:2.451496\tval-poisson-nloglik:2.563171\n",
        "[1108]\ttrain-poisson-nloglik:2.451248\tval-poisson-nloglik:2.562906\n"
       ]
      },
      {
       "output_type": "stream",
       "stream": "stderr",
       "text": [
        "[1109]\ttrain-poisson-nloglik:2.451059\tval-poisson-nloglik:2.562737\n",
        "[1110]\ttrain-poisson-nloglik:2.451010\tval-poisson-nloglik:2.562706\n"
       ]
      },
      {
       "output_type": "stream",
       "stream": "stderr",
       "text": [
        "[1111]\ttrain-poisson-nloglik:2.450829\tval-poisson-nloglik:2.562563\n",
        "[1112]\ttrain-poisson-nloglik:2.450557\tval-poisson-nloglik:2.562304\n"
       ]
      },
      {
       "output_type": "stream",
       "stream": "stderr",
       "text": [
        "[1113]\ttrain-poisson-nloglik:2.450329\tval-poisson-nloglik:2.562119\n",
        "[1114]\ttrain-poisson-nloglik:2.449993\tval-poisson-nloglik:2.561843\n"
       ]
      },
      {
       "output_type": "stream",
       "stream": "stderr",
       "text": [
        "[1115]\ttrain-poisson-nloglik:2.449845\tval-poisson-nloglik:2.561729\n",
        "[1116]\ttrain-poisson-nloglik:2.449742\tval-poisson-nloglik:2.561640\n"
       ]
      },
      {
       "output_type": "stream",
       "stream": "stderr",
       "text": [
        "[1117]\ttrain-poisson-nloglik:2.449447\tval-poisson-nloglik:2.561407\n",
        "[1118]\ttrain-poisson-nloglik:2.449286\tval-poisson-nloglik:2.561233\n"
       ]
      },
      {
       "output_type": "stream",
       "stream": "stderr",
       "text": [
        "[1119]\ttrain-poisson-nloglik:2.448984\tval-poisson-nloglik:2.560969\n",
        "[1120]\ttrain-poisson-nloglik:2.448775\tval-poisson-nloglik:2.560800\n"
       ]
      },
      {
       "output_type": "stream",
       "stream": "stderr",
       "text": [
        "[1121]\ttrain-poisson-nloglik:2.448542\tval-poisson-nloglik:2.560602\n",
        "[1122]\ttrain-poisson-nloglik:2.448300\tval-poisson-nloglik:2.560359\n"
       ]
      },
      {
       "output_type": "stream",
       "stream": "stderr",
       "text": [
        "[1123]\ttrain-poisson-nloglik:2.447987\tval-poisson-nloglik:2.560079\n",
        "[1124]\ttrain-poisson-nloglik:2.447806\tval-poisson-nloglik:2.559921\n"
       ]
      },
      {
       "output_type": "stream",
       "stream": "stderr",
       "text": [
        "[1125]\ttrain-poisson-nloglik:2.447496\tval-poisson-nloglik:2.559636\n",
        "[1126]\ttrain-poisson-nloglik:2.447192\tval-poisson-nloglik:2.559376\n"
       ]
      },
      {
       "output_type": "stream",
       "stream": "stderr",
       "text": [
        "[1127]\ttrain-poisson-nloglik:2.446963\tval-poisson-nloglik:2.559185\n",
        "[1128]\ttrain-poisson-nloglik:2.446765\tval-poisson-nloglik:2.559037\n"
       ]
      },
      {
       "output_type": "stream",
       "stream": "stderr",
       "text": [
        "[1129]\ttrain-poisson-nloglik:2.446465\tval-poisson-nloglik:2.558764\n",
        "[1130]\ttrain-poisson-nloglik:2.446328\tval-poisson-nloglik:2.558645\n"
       ]
      },
      {
       "output_type": "stream",
       "stream": "stderr",
       "text": [
        "[1131]\ttrain-poisson-nloglik:2.446122\tval-poisson-nloglik:2.558486\n",
        "[1132]\ttrain-poisson-nloglik:2.445873\tval-poisson-nloglik:2.558277\n"
       ]
      },
      {
       "output_type": "stream",
       "stream": "stderr",
       "text": [
        "[1133]\ttrain-poisson-nloglik:2.445747\tval-poisson-nloglik:2.558168\n",
        "[1134]\ttrain-poisson-nloglik:2.445585\tval-poisson-nloglik:2.558045\n"
       ]
      },
      {
       "output_type": "stream",
       "stream": "stderr",
       "text": [
        "[1135]\ttrain-poisson-nloglik:2.445394\tval-poisson-nloglik:2.557888\n",
        "[1136]\ttrain-poisson-nloglik:2.445284\tval-poisson-nloglik:2.557780\n"
       ]
      },
      {
       "output_type": "stream",
       "stream": "stderr",
       "text": [
        "[1137]\ttrain-poisson-nloglik:2.445062\tval-poisson-nloglik:2.557588\n",
        "[1138]\ttrain-poisson-nloglik:2.444808\tval-poisson-nloglik:2.557367\n"
       ]
      },
      {
       "output_type": "stream",
       "stream": "stderr",
       "text": [
        "[1139]\ttrain-poisson-nloglik:2.444584\tval-poisson-nloglik:2.557155\n",
        "[1140]\ttrain-poisson-nloglik:2.444434\tval-poisson-nloglik:2.557003\n"
       ]
      },
      {
       "output_type": "stream",
       "stream": "stderr",
       "text": [
        "[1141]\ttrain-poisson-nloglik:2.444090\tval-poisson-nloglik:2.556732\n",
        "[1142]\ttrain-poisson-nloglik:2.443827\tval-poisson-nloglik:2.556516\n"
       ]
      },
      {
       "output_type": "stream",
       "stream": "stderr",
       "text": [
        "[1143]\ttrain-poisson-nloglik:2.443596\tval-poisson-nloglik:2.556370\n",
        "[1144]\ttrain-poisson-nloglik:2.443355\tval-poisson-nloglik:2.556165\n"
       ]
      },
      {
       "output_type": "stream",
       "stream": "stderr",
       "text": [
        "[1145]\ttrain-poisson-nloglik:2.443232\tval-poisson-nloglik:2.556033\n",
        "[1146]\ttrain-poisson-nloglik:2.443022\tval-poisson-nloglik:2.555888\n"
       ]
      },
      {
       "output_type": "stream",
       "stream": "stderr",
       "text": [
        "[1147]\ttrain-poisson-nloglik:2.442831\tval-poisson-nloglik:2.555729\n",
        "[1148]\ttrain-poisson-nloglik:2.442752\tval-poisson-nloglik:2.555674\n"
       ]
      },
      {
       "output_type": "stream",
       "stream": "stderr",
       "text": [
        "[1149]\ttrain-poisson-nloglik:2.442484\tval-poisson-nloglik:2.555405\n",
        "[1150]\ttrain-poisson-nloglik:2.442181\tval-poisson-nloglik:2.555149\n"
       ]
      },
      {
       "output_type": "stream",
       "stream": "stderr",
       "text": [
        "[1151]\ttrain-poisson-nloglik:2.442039\tval-poisson-nloglik:2.555013\n",
        "[1152]\ttrain-poisson-nloglik:2.441913\tval-poisson-nloglik:2.554912\n"
       ]
      },
      {
       "output_type": "stream",
       "stream": "stderr",
       "text": [
        "[1153]\ttrain-poisson-nloglik:2.441781\tval-poisson-nloglik:2.554818\n",
        "[1154]\ttrain-poisson-nloglik:2.441597\tval-poisson-nloglik:2.554653\n"
       ]
      },
      {
       "output_type": "stream",
       "stream": "stderr",
       "text": [
        "[1155]\ttrain-poisson-nloglik:2.441326\tval-poisson-nloglik:2.554428\n",
        "[1156]\ttrain-poisson-nloglik:2.441133\tval-poisson-nloglik:2.554259\n"
       ]
      },
      {
       "output_type": "stream",
       "stream": "stderr",
       "text": [
        "[1157]\ttrain-poisson-nloglik:2.441029\tval-poisson-nloglik:2.554170\n",
        "[1158]\ttrain-poisson-nloglik:2.440903\tval-poisson-nloglik:2.554050\n"
       ]
      },
      {
       "output_type": "stream",
       "stream": "stderr",
       "text": [
        "[1159]\ttrain-poisson-nloglik:2.440651\tval-poisson-nloglik:2.553817\n",
        "[1160]\ttrain-poisson-nloglik:2.440401\tval-poisson-nloglik:2.553600\n"
       ]
      },
      {
       "output_type": "stream",
       "stream": "stderr",
       "text": [
        "[1161]\ttrain-poisson-nloglik:2.440268\tval-poisson-nloglik:2.553463\n",
        "[1162]\ttrain-poisson-nloglik:2.440148\tval-poisson-nloglik:2.553386\n"
       ]
      },
      {
       "output_type": "stream",
       "stream": "stderr",
       "text": [
        "[1163]\ttrain-poisson-nloglik:2.440038\tval-poisson-nloglik:2.553302\n",
        "[1164]\ttrain-poisson-nloglik:2.439820\tval-poisson-nloglik:2.553112\n"
       ]
      },
      {
       "output_type": "stream",
       "stream": "stderr",
       "text": [
        "[1165]\ttrain-poisson-nloglik:2.439595\tval-poisson-nloglik:2.552903\n",
        "[1166]\ttrain-poisson-nloglik:2.439380\tval-poisson-nloglik:2.552736\n"
       ]
      },
      {
       "output_type": "stream",
       "stream": "stderr",
       "text": [
        "[1167]\ttrain-poisson-nloglik:2.439106\tval-poisson-nloglik:2.552519\n",
        "[1168]\ttrain-poisson-nloglik:2.439045\tval-poisson-nloglik:2.552469\n"
       ]
      },
      {
       "output_type": "stream",
       "stream": "stderr",
       "text": [
        "[1169]\ttrain-poisson-nloglik:2.438932\tval-poisson-nloglik:2.552358\n",
        "[1170]\ttrain-poisson-nloglik:2.438666\tval-poisson-nloglik:2.552096\n"
       ]
      },
      {
       "output_type": "stream",
       "stream": "stderr",
       "text": [
        "[1171]\ttrain-poisson-nloglik:2.438385\tval-poisson-nloglik:2.551882\n",
        "[1172]\ttrain-poisson-nloglik:2.438179\tval-poisson-nloglik:2.551686\n"
       ]
      },
      {
       "output_type": "stream",
       "stream": "stderr",
       "text": [
        "[1173]\ttrain-poisson-nloglik:2.437850\tval-poisson-nloglik:2.551389\n",
        "[1174]\ttrain-poisson-nloglik:2.437493\tval-poisson-nloglik:2.551089\n"
       ]
      },
      {
       "output_type": "stream",
       "stream": "stderr",
       "text": [
        "[1175]\ttrain-poisson-nloglik:2.437245\tval-poisson-nloglik:2.550862\n",
        "[1176]\ttrain-poisson-nloglik:2.437021\tval-poisson-nloglik:2.550644\n"
       ]
      },
      {
       "output_type": "stream",
       "stream": "stderr",
       "text": [
        "[1177]\ttrain-poisson-nloglik:2.436850\tval-poisson-nloglik:2.550513\n",
        "[1178]\ttrain-poisson-nloglik:2.436538\tval-poisson-nloglik:2.550232\n"
       ]
      },
      {
       "output_type": "stream",
       "stream": "stderr",
       "text": [
        "[1179]\ttrain-poisson-nloglik:2.436455\tval-poisson-nloglik:2.550161\n",
        "[1180]\ttrain-poisson-nloglik:2.436241\tval-poisson-nloglik:2.549954\n"
       ]
      },
      {
       "output_type": "stream",
       "stream": "stderr",
       "text": [
        "[1181]\ttrain-poisson-nloglik:2.435901\tval-poisson-nloglik:2.549667\n",
        "[1182]\ttrain-poisson-nloglik:2.435582\tval-poisson-nloglik:2.549455\n"
       ]
      },
      {
       "output_type": "stream",
       "stream": "stderr",
       "text": [
        "[1183]\ttrain-poisson-nloglik:2.435502\tval-poisson-nloglik:2.549389\n",
        "[1184]\ttrain-poisson-nloglik:2.435287\tval-poisson-nloglik:2.549225\n"
       ]
      },
      {
       "output_type": "stream",
       "stream": "stderr",
       "text": [
        "[1185]\ttrain-poisson-nloglik:2.435174\tval-poisson-nloglik:2.549134\n",
        "[1186]\ttrain-poisson-nloglik:2.434948\tval-poisson-nloglik:2.548961\n"
       ]
      },
      {
       "output_type": "stream",
       "stream": "stderr",
       "text": [
        "[1187]\ttrain-poisson-nloglik:2.434783\tval-poisson-nloglik:2.548812\n",
        "[1188]\ttrain-poisson-nloglik:2.434510\tval-poisson-nloglik:2.548541\n"
       ]
      },
      {
       "output_type": "stream",
       "stream": "stderr",
       "text": [
        "[1189]\ttrain-poisson-nloglik:2.434430\tval-poisson-nloglik:2.548465\n",
        "[1190]\ttrain-poisson-nloglik:2.434264\tval-poisson-nloglik:2.548298\n"
       ]
      },
      {
       "output_type": "stream",
       "stream": "stderr",
       "text": [
        "[1191]\ttrain-poisson-nloglik:2.434042\tval-poisson-nloglik:2.548096\n",
        "[1192]\ttrain-poisson-nloglik:2.433852\tval-poisson-nloglik:2.547887\n"
       ]
      },
      {
       "output_type": "stream",
       "stream": "stderr",
       "text": [
        "[1193]\ttrain-poisson-nloglik:2.433610\tval-poisson-nloglik:2.547662\n",
        "[1194]\ttrain-poisson-nloglik:2.433333\tval-poisson-nloglik:2.547421\n"
       ]
      },
      {
       "output_type": "stream",
       "stream": "stderr",
       "text": [
        "[1195]\ttrain-poisson-nloglik:2.433099\tval-poisson-nloglik:2.547200\n",
        "[1196]\ttrain-poisson-nloglik:2.432811\tval-poisson-nloglik:2.546946\n"
       ]
      },
      {
       "output_type": "stream",
       "stream": "stderr",
       "text": [
        "[1197]\ttrain-poisson-nloglik:2.432671\tval-poisson-nloglik:2.546822\n",
        "[1198]\ttrain-poisson-nloglik:2.432326\tval-poisson-nloglik:2.546537\n"
       ]
      },
      {
       "output_type": "stream",
       "stream": "stderr",
       "text": [
        "[1199]\ttrain-poisson-nloglik:2.432061\tval-poisson-nloglik:2.546307\n",
        "[1200]\ttrain-poisson-nloglik:2.431896\tval-poisson-nloglik:2.546173\n"
       ]
      },
      {
       "output_type": "stream",
       "stream": "stderr",
       "text": [
        "[1201]\ttrain-poisson-nloglik:2.431691\tval-poisson-nloglik:2.546006\n",
        "[1202]\ttrain-poisson-nloglik:2.431453\tval-poisson-nloglik:2.545814\n"
       ]
      },
      {
       "output_type": "stream",
       "stream": "stderr",
       "text": [
        "[1203]\ttrain-poisson-nloglik:2.431386\tval-poisson-nloglik:2.545755\n",
        "[1204]\ttrain-poisson-nloglik:2.431174\tval-poisson-nloglik:2.545553\n"
       ]
      },
      {
       "output_type": "stream",
       "stream": "stderr",
       "text": [
        "[1205]\ttrain-poisson-nloglik:2.430968\tval-poisson-nloglik:2.545383\n",
        "[1206]\ttrain-poisson-nloglik:2.430750\tval-poisson-nloglik:2.545226\n"
       ]
      },
      {
       "output_type": "stream",
       "stream": "stderr",
       "text": [
        "[1207]\ttrain-poisson-nloglik:2.430527\tval-poisson-nloglik:2.545043\n",
        "[1208]\ttrain-poisson-nloglik:2.430423\tval-poisson-nloglik:2.544951\n"
       ]
      },
      {
       "output_type": "stream",
       "stream": "stderr",
       "text": [
        "[1209]\ttrain-poisson-nloglik:2.430274\tval-poisson-nloglik:2.544814\n",
        "[1210]\ttrain-poisson-nloglik:2.430117\tval-poisson-nloglik:2.544649\n"
       ]
      },
      {
       "output_type": "stream",
       "stream": "stderr",
       "text": [
        "[1211]\ttrain-poisson-nloglik:2.429855\tval-poisson-nloglik:2.544430\n",
        "[1212]\ttrain-poisson-nloglik:2.429647\tval-poisson-nloglik:2.544276\n"
       ]
      },
      {
       "output_type": "stream",
       "stream": "stderr",
       "text": [
        "[1213]\ttrain-poisson-nloglik:2.429456\tval-poisson-nloglik:2.544118\n",
        "[1214]\ttrain-poisson-nloglik:2.429360\tval-poisson-nloglik:2.544039\n"
       ]
      },
      {
       "output_type": "stream",
       "stream": "stderr",
       "text": [
        "[1215]\ttrain-poisson-nloglik:2.429103\tval-poisson-nloglik:2.543821\n",
        "[1216]\ttrain-poisson-nloglik:2.428937\tval-poisson-nloglik:2.543682\n"
       ]
      },
      {
       "output_type": "stream",
       "stream": "stderr",
       "text": [
        "[1217]\ttrain-poisson-nloglik:2.428689\tval-poisson-nloglik:2.543483\n",
        "[1218]\ttrain-poisson-nloglik:2.428573\tval-poisson-nloglik:2.543379\n"
       ]
      },
      {
       "output_type": "stream",
       "stream": "stderr",
       "text": [
        "[1219]\ttrain-poisson-nloglik:2.428322\tval-poisson-nloglik:2.543126\n",
        "[1220]\ttrain-poisson-nloglik:2.428170\tval-poisson-nloglik:2.542999\n"
       ]
      },
      {
       "output_type": "stream",
       "stream": "stderr",
       "text": [
        "[1221]\ttrain-poisson-nloglik:2.427912\tval-poisson-nloglik:2.542760\n",
        "[1222]\ttrain-poisson-nloglik:2.427660\tval-poisson-nloglik:2.542566\n"
       ]
      },
      {
       "output_type": "stream",
       "stream": "stderr",
       "text": [
        "[1223]\ttrain-poisson-nloglik:2.427507\tval-poisson-nloglik:2.542461\n",
        "[1224]\ttrain-poisson-nloglik:2.427369\tval-poisson-nloglik:2.542337\n"
       ]
      },
      {
       "output_type": "stream",
       "stream": "stderr",
       "text": [
        "[1225]\ttrain-poisson-nloglik:2.427168\tval-poisson-nloglik:2.542195\n",
        "[1226]\ttrain-poisson-nloglik:2.426972\tval-poisson-nloglik:2.542026\n"
       ]
      },
      {
       "output_type": "stream",
       "stream": "stderr",
       "text": [
        "[1227]\ttrain-poisson-nloglik:2.426759\tval-poisson-nloglik:2.541860\n",
        "[1228]\ttrain-poisson-nloglik:2.426616\tval-poisson-nloglik:2.541753\n"
       ]
      },
      {
       "output_type": "stream",
       "stream": "stderr",
       "text": [
        "[1229]\ttrain-poisson-nloglik:2.426439\tval-poisson-nloglik:2.541575\n",
        "[1230]\ttrain-poisson-nloglik:2.426244\tval-poisson-nloglik:2.541410\n"
       ]
      },
      {
       "output_type": "stream",
       "stream": "stderr",
       "text": [
        "[1231]\ttrain-poisson-nloglik:2.425934\tval-poisson-nloglik:2.541158\n",
        "[1232]\ttrain-poisson-nloglik:2.425835\tval-poisson-nloglik:2.541061\n"
       ]
      },
      {
       "output_type": "stream",
       "stream": "stderr",
       "text": [
        "[1233]\ttrain-poisson-nloglik:2.425781\tval-poisson-nloglik:2.541025\n",
        "[1234]\ttrain-poisson-nloglik:2.425590\tval-poisson-nloglik:2.540845\n"
       ]
      },
      {
       "output_type": "stream",
       "stream": "stderr",
       "text": [
        "[1235]\ttrain-poisson-nloglik:2.425304\tval-poisson-nloglik:2.540615\n",
        "[1236]\ttrain-poisson-nloglik:2.425238\tval-poisson-nloglik:2.540560\n"
       ]
      },
      {
       "output_type": "stream",
       "stream": "stderr",
       "text": [
        "[1237]\ttrain-poisson-nloglik:2.425052\tval-poisson-nloglik:2.540410\n",
        "[1238]\ttrain-poisson-nloglik:2.425009\tval-poisson-nloglik:2.540382\n"
       ]
      },
      {
       "output_type": "stream",
       "stream": "stderr",
       "text": [
        "[1239]\ttrain-poisson-nloglik:2.424674\tval-poisson-nloglik:2.540128\n",
        "[1240]\ttrain-poisson-nloglik:2.424411\tval-poisson-nloglik:2.539868\n"
       ]
      },
      {
       "output_type": "stream",
       "stream": "stderr",
       "text": [
        "[1241]\ttrain-poisson-nloglik:2.424227\tval-poisson-nloglik:2.539720\n",
        "[1242]\ttrain-poisson-nloglik:2.424103\tval-poisson-nloglik:2.539597\n"
       ]
      },
      {
       "output_type": "stream",
       "stream": "stderr",
       "text": [
        "[1243]\ttrain-poisson-nloglik:2.423906\tval-poisson-nloglik:2.539421\n",
        "[1244]\ttrain-poisson-nloglik:2.423661\tval-poisson-nloglik:2.539196\n"
       ]
      },
      {
       "output_type": "stream",
       "stream": "stderr",
       "text": [
        "[1245]\ttrain-poisson-nloglik:2.423487\tval-poisson-nloglik:2.539057\n",
        "[1246]\ttrain-poisson-nloglik:2.423223\tval-poisson-nloglik:2.538840\n"
       ]
      },
      {
       "output_type": "stream",
       "stream": "stderr",
       "text": [
        "[1247]\ttrain-poisson-nloglik:2.423009\tval-poisson-nloglik:2.538629\n",
        "[1248]\ttrain-poisson-nloglik:2.422788\tval-poisson-nloglik:2.538397\n"
       ]
      },
      {
       "output_type": "stream",
       "stream": "stderr",
       "text": [
        "[1249]\ttrain-poisson-nloglik:2.422627\tval-poisson-nloglik:2.538275\n",
        "[1250]\ttrain-poisson-nloglik:2.422465\tval-poisson-nloglik:2.538165\n"
       ]
      },
      {
       "output_type": "stream",
       "stream": "stderr",
       "text": [
        "[1251]\ttrain-poisson-nloglik:2.422381\tval-poisson-nloglik:2.538101\n",
        "[1252]\ttrain-poisson-nloglik:2.422262\tval-poisson-nloglik:2.537996\n"
       ]
      },
      {
       "output_type": "stream",
       "stream": "stderr",
       "text": [
        "[1253]\ttrain-poisson-nloglik:2.422074\tval-poisson-nloglik:2.537844\n",
        "[1254]\ttrain-poisson-nloglik:2.421753\tval-poisson-nloglik:2.537558\n"
       ]
      },
      {
       "output_type": "stream",
       "stream": "stderr",
       "text": [
        "[1255]\ttrain-poisson-nloglik:2.421513\tval-poisson-nloglik:2.537332\n",
        "[1256]\ttrain-poisson-nloglik:2.421359\tval-poisson-nloglik:2.537215\n"
       ]
      },
      {
       "output_type": "stream",
       "stream": "stderr",
       "text": [
        "[1257]\ttrain-poisson-nloglik:2.421114\tval-poisson-nloglik:2.536983\n",
        "[1258]\ttrain-poisson-nloglik:2.420918\tval-poisson-nloglik:2.536809\n"
       ]
      },
      {
       "output_type": "stream",
       "stream": "stderr",
       "text": [
        "[1259]\ttrain-poisson-nloglik:2.420644\tval-poisson-nloglik:2.536568\n",
        "[1260]\ttrain-poisson-nloglik:2.420381\tval-poisson-nloglik:2.536355\n"
       ]
      },
      {
       "output_type": "stream",
       "stream": "stderr",
       "text": [
        "[1261]\ttrain-poisson-nloglik:2.420111\tval-poisson-nloglik:2.536119\n",
        "[1262]\ttrain-poisson-nloglik:2.419866\tval-poisson-nloglik:2.535928\n"
       ]
      },
      {
       "output_type": "stream",
       "stream": "stderr",
       "text": [
        "[1263]\ttrain-poisson-nloglik:2.419707\tval-poisson-nloglik:2.535773\n",
        "[1264]\ttrain-poisson-nloglik:2.419498\tval-poisson-nloglik:2.535600\n"
       ]
      },
      {
       "output_type": "stream",
       "stream": "stderr",
       "text": [
        "[1265]\ttrain-poisson-nloglik:2.419334\tval-poisson-nloglik:2.535432\n",
        "[1266]\ttrain-poisson-nloglik:2.419279\tval-poisson-nloglik:2.535395\n"
       ]
      },
      {
       "output_type": "stream",
       "stream": "stderr",
       "text": [
        "[1267]\ttrain-poisson-nloglik:2.419047\tval-poisson-nloglik:2.535203\n",
        "[1268]\ttrain-poisson-nloglik:2.418835\tval-poisson-nloglik:2.534996\n"
       ]
      },
      {
       "output_type": "stream",
       "stream": "stderr",
       "text": [
        "[1269]\ttrain-poisson-nloglik:2.418579\tval-poisson-nloglik:2.534757\n",
        "[1270]\ttrain-poisson-nloglik:2.418502\tval-poisson-nloglik:2.534697\n"
       ]
      },
      {
       "output_type": "stream",
       "stream": "stderr",
       "text": [
        "[1271]\ttrain-poisson-nloglik:2.418379\tval-poisson-nloglik:2.534598\n",
        "[1272]\ttrain-poisson-nloglik:2.418167\tval-poisson-nloglik:2.534415\n"
       ]
      },
      {
       "output_type": "stream",
       "stream": "stderr",
       "text": [
        "[1273]\ttrain-poisson-nloglik:2.417988\tval-poisson-nloglik:2.534276\n",
        "[1274]\ttrain-poisson-nloglik:2.417907\tval-poisson-nloglik:2.534217\n"
       ]
      },
      {
       "output_type": "stream",
       "stream": "stderr",
       "text": [
        "[1275]\ttrain-poisson-nloglik:2.417646\tval-poisson-nloglik:2.534003\n",
        "[1276]\ttrain-poisson-nloglik:2.417558\tval-poisson-nloglik:2.533930\n"
       ]
      },
      {
       "output_type": "stream",
       "stream": "stderr",
       "text": [
        "[1277]\ttrain-poisson-nloglik:2.417317\tval-poisson-nloglik:2.533706\n",
        "[1278]\ttrain-poisson-nloglik:2.417078\tval-poisson-nloglik:2.533514\n"
       ]
      },
      {
       "output_type": "stream",
       "stream": "stderr",
       "text": [
        "[1279]\ttrain-poisson-nloglik:2.416921\tval-poisson-nloglik:2.533365\n",
        "[1280]\ttrain-poisson-nloglik:2.416708\tval-poisson-nloglik:2.533160\n"
       ]
      },
      {
       "output_type": "stream",
       "stream": "stderr",
       "text": [
        "[1281]\ttrain-poisson-nloglik:2.416533\tval-poisson-nloglik:2.532994\n",
        "[1282]\ttrain-poisson-nloglik:2.416337\tval-poisson-nloglik:2.532802\n"
       ]
      },
      {
       "output_type": "stream",
       "stream": "stderr",
       "text": [
        "[1283]\ttrain-poisson-nloglik:2.416146\tval-poisson-nloglik:2.532661\n",
        "[1284]\ttrain-poisson-nloglik:2.415993\tval-poisson-nloglik:2.532527\n"
       ]
      },
      {
       "output_type": "stream",
       "stream": "stderr",
       "text": [
        "[1285]\ttrain-poisson-nloglik:2.415754\tval-poisson-nloglik:2.532336\n",
        "[1286]\ttrain-poisson-nloglik:2.415680\tval-poisson-nloglik:2.532278\n"
       ]
      },
      {
       "output_type": "stream",
       "stream": "stderr",
       "text": [
        "[1287]\ttrain-poisson-nloglik:2.415634\tval-poisson-nloglik:2.532256\n",
        "[1288]\ttrain-poisson-nloglik:2.415492\tval-poisson-nloglik:2.532131\n"
       ]
      },
      {
       "output_type": "stream",
       "stream": "stderr",
       "text": [
        "[1289]\ttrain-poisson-nloglik:2.415274\tval-poisson-nloglik:2.531914\n",
        "[1290]\ttrain-poisson-nloglik:2.415182\tval-poisson-nloglik:2.531842\n"
       ]
      },
      {
       "output_type": "stream",
       "stream": "stderr",
       "text": [
        "[1291]\ttrain-poisson-nloglik:2.414953\tval-poisson-nloglik:2.531647\n",
        "[1292]\ttrain-poisson-nloglik:2.414775\tval-poisson-nloglik:2.531510\n"
       ]
      },
      {
       "output_type": "stream",
       "stream": "stderr",
       "text": [
        "[1293]\ttrain-poisson-nloglik:2.414458\tval-poisson-nloglik:2.531199\n",
        "[1294]\ttrain-poisson-nloglik:2.414360\tval-poisson-nloglik:2.531102\n"
       ]
      },
      {
       "output_type": "stream",
       "stream": "stderr",
       "text": [
        "[1295]\ttrain-poisson-nloglik:2.414109\tval-poisson-nloglik:2.530864\n",
        "[1296]\ttrain-poisson-nloglik:2.413839\tval-poisson-nloglik:2.530641\n"
       ]
      },
      {
       "output_type": "stream",
       "stream": "stderr",
       "text": [
        "[1297]\ttrain-poisson-nloglik:2.413659\tval-poisson-nloglik:2.530517\n",
        "[1298]\ttrain-poisson-nloglik:2.413591\tval-poisson-nloglik:2.530469\n"
       ]
      },
      {
       "output_type": "stream",
       "stream": "stderr",
       "text": [
        "[1299]\ttrain-poisson-nloglik:2.413527\tval-poisson-nloglik:2.530417\n",
        "[1300]\ttrain-poisson-nloglik:2.413385\tval-poisson-nloglik:2.530332\n"
       ]
      },
      {
       "output_type": "stream",
       "stream": "stderr",
       "text": [
        "[1301]\ttrain-poisson-nloglik:2.413192\tval-poisson-nloglik:2.530184\n",
        "[1302]\ttrain-poisson-nloglik:2.412966\tval-poisson-nloglik:2.529990\n"
       ]
      },
      {
       "output_type": "stream",
       "stream": "stderr",
       "text": [
        "[1303]\ttrain-poisson-nloglik:2.412693\tval-poisson-nloglik:2.529759\n",
        "[1304]\ttrain-poisson-nloglik:2.412514\tval-poisson-nloglik:2.529584\n"
       ]
      },
      {
       "output_type": "stream",
       "stream": "stderr",
       "text": [
        "[1305]\ttrain-poisson-nloglik:2.412317\tval-poisson-nloglik:2.529428\n",
        "[1306]\ttrain-poisson-nloglik:2.412266\tval-poisson-nloglik:2.529394\n"
       ]
      },
      {
       "output_type": "stream",
       "stream": "stderr",
       "text": [
        "[1307]\ttrain-poisson-nloglik:2.411945\tval-poisson-nloglik:2.529124\n",
        "[1308]\ttrain-poisson-nloglik:2.411677\tval-poisson-nloglik:2.528873\n"
       ]
      },
      {
       "output_type": "stream",
       "stream": "stderr",
       "text": [
        "[1309]\ttrain-poisson-nloglik:2.411482\tval-poisson-nloglik:2.528690\n",
        "[1310]\ttrain-poisson-nloglik:2.411196\tval-poisson-nloglik:2.528450\n"
       ]
      },
      {
       "output_type": "stream",
       "stream": "stderr",
       "text": [
        "[1311]\ttrain-poisson-nloglik:2.411008\tval-poisson-nloglik:2.528291\n",
        "[1312]\ttrain-poisson-nloglik:2.410778\tval-poisson-nloglik:2.528109\n"
       ]
      },
      {
       "output_type": "stream",
       "stream": "stderr",
       "text": [
        "[1313]\ttrain-poisson-nloglik:2.410595\tval-poisson-nloglik:2.527957\n",
        "[1314]\ttrain-poisson-nloglik:2.410253\tval-poisson-nloglik:2.527647\n"
       ]
      },
      {
       "output_type": "stream",
       "stream": "stderr",
       "text": [
        "[1315]\ttrain-poisson-nloglik:2.410112\tval-poisson-nloglik:2.527513\n",
        "[1316]\ttrain-poisson-nloglik:2.409943\tval-poisson-nloglik:2.527374\n"
       ]
      },
      {
       "output_type": "stream",
       "stream": "stderr",
       "text": [
        "[1317]\ttrain-poisson-nloglik:2.409830\tval-poisson-nloglik:2.527289\n",
        "[1318]\ttrain-poisson-nloglik:2.409692\tval-poisson-nloglik:2.527157\n"
       ]
      },
      {
       "output_type": "stream",
       "stream": "stderr",
       "text": [
        "[1319]\ttrain-poisson-nloglik:2.409575\tval-poisson-nloglik:2.527071\n",
        "[1320]\ttrain-poisson-nloglik:2.409361\tval-poisson-nloglik:2.526862\n"
       ]
      },
      {
       "output_type": "stream",
       "stream": "stderr",
       "text": [
        "[1321]\ttrain-poisson-nloglik:2.409196\tval-poisson-nloglik:2.526718\n",
        "[1322]\ttrain-poisson-nloglik:2.409024\tval-poisson-nloglik:2.526561\n"
       ]
      },
      {
       "output_type": "stream",
       "stream": "stderr",
       "text": [
        "[1323]\ttrain-poisson-nloglik:2.408760\tval-poisson-nloglik:2.526346\n",
        "[1324]\ttrain-poisson-nloglik:2.408530\tval-poisson-nloglik:2.526172\n"
       ]
      },
      {
       "output_type": "stream",
       "stream": "stderr",
       "text": [
        "[1325]\ttrain-poisson-nloglik:2.408197\tval-poisson-nloglik:2.525896\n",
        "[1326]\ttrain-poisson-nloglik:2.408100\tval-poisson-nloglik:2.525809\n"
       ]
      },
      {
       "output_type": "stream",
       "stream": "stderr",
       "text": [
        "[1327]\ttrain-poisson-nloglik:2.407957\tval-poisson-nloglik:2.525685\n",
        "[1328]\ttrain-poisson-nloglik:2.407721\tval-poisson-nloglik:2.525433\n"
       ]
      },
      {
       "output_type": "stream",
       "stream": "stderr",
       "text": [
        "[1329]\ttrain-poisson-nloglik:2.407577\tval-poisson-nloglik:2.525281\n",
        "[1330]\ttrain-poisson-nloglik:2.407372\tval-poisson-nloglik:2.525074\n"
       ]
      },
      {
       "output_type": "stream",
       "stream": "stderr",
       "text": [
        "[1331]\ttrain-poisson-nloglik:2.407274\tval-poisson-nloglik:2.525015\n",
        "[1332]\ttrain-poisson-nloglik:2.407213\tval-poisson-nloglik:2.524976\n"
       ]
      },
      {
       "output_type": "stream",
       "stream": "stderr",
       "text": [
        "[1333]\ttrain-poisson-nloglik:2.406947\tval-poisson-nloglik:2.524791\n",
        "[1334]\ttrain-poisson-nloglik:2.406862\tval-poisson-nloglik:2.524723\n"
       ]
      },
      {
       "output_type": "stream",
       "stream": "stderr",
       "text": [
        "[1335]\ttrain-poisson-nloglik:2.406700\tval-poisson-nloglik:2.524594\n",
        "[1336]\ttrain-poisson-nloglik:2.406514\tval-poisson-nloglik:2.524427\n"
       ]
      },
      {
       "output_type": "stream",
       "stream": "stderr",
       "text": [
        "[1337]\ttrain-poisson-nloglik:2.406414\tval-poisson-nloglik:2.524318\n",
        "[1338]\ttrain-poisson-nloglik:2.406315\tval-poisson-nloglik:2.524242\n"
       ]
      },
      {
       "output_type": "stream",
       "stream": "stderr",
       "text": [
        "[1339]\ttrain-poisson-nloglik:2.406163\tval-poisson-nloglik:2.524116\n",
        "[1340]\ttrain-poisson-nloglik:2.405931\tval-poisson-nloglik:2.523893\n"
       ]
      },
      {
       "output_type": "stream",
       "stream": "stderr",
       "text": [
        "[1341]\ttrain-poisson-nloglik:2.405796\tval-poisson-nloglik:2.523768\n",
        "[1342]\ttrain-poisson-nloglik:2.405618\tval-poisson-nloglik:2.523608\n"
       ]
      },
      {
       "output_type": "stream",
       "stream": "stderr",
       "text": [
        "[1343]\ttrain-poisson-nloglik:2.405351\tval-poisson-nloglik:2.523369\n",
        "[1344]\ttrain-poisson-nloglik:2.405129\tval-poisson-nloglik:2.523165\n"
       ]
      },
      {
       "output_type": "stream",
       "stream": "stderr",
       "text": [
        "[1345]\ttrain-poisson-nloglik:2.405001\tval-poisson-nloglik:2.523054\n",
        "[1346]\ttrain-poisson-nloglik:2.404736\tval-poisson-nloglik:2.522830\n"
       ]
      },
      {
       "output_type": "stream",
       "stream": "stderr",
       "text": [
        "[1347]\ttrain-poisson-nloglik:2.404453\tval-poisson-nloglik:2.522617\n",
        "[1348]\ttrain-poisson-nloglik:2.404263\tval-poisson-nloglik:2.522437\n"
       ]
      },
      {
       "output_type": "stream",
       "stream": "stderr",
       "text": [
        "[1349]\ttrain-poisson-nloglik:2.403993\tval-poisson-nloglik:2.522219\n",
        "[1350]\ttrain-poisson-nloglik:2.403811\tval-poisson-nloglik:2.522064\n"
       ]
      },
      {
       "output_type": "stream",
       "stream": "stderr",
       "text": [
        "[1351]\ttrain-poisson-nloglik:2.403675\tval-poisson-nloglik:2.521924\n",
        "[1352]\ttrain-poisson-nloglik:2.403295\tval-poisson-nloglik:2.521606\n"
       ]
      },
      {
       "output_type": "stream",
       "stream": "stderr",
       "text": [
        "[1353]\ttrain-poisson-nloglik:2.403147\tval-poisson-nloglik:2.521469\n",
        "[1354]\ttrain-poisson-nloglik:2.403095\tval-poisson-nloglik:2.521438\n"
       ]
      },
      {
       "output_type": "stream",
       "stream": "stderr",
       "text": [
        "[1355]\ttrain-poisson-nloglik:2.402908\tval-poisson-nloglik:2.521272\n",
        "[1356]\ttrain-poisson-nloglik:2.402770\tval-poisson-nloglik:2.521145\n"
       ]
      },
      {
       "output_type": "stream",
       "stream": "stderr",
       "text": [
        "[1357]\ttrain-poisson-nloglik:2.402650\tval-poisson-nloglik:2.521041\n",
        "[1358]\ttrain-poisson-nloglik:2.402464\tval-poisson-nloglik:2.520849\n"
       ]
      },
      {
       "output_type": "stream",
       "stream": "stderr",
       "text": [
        "[1359]\ttrain-poisson-nloglik:2.402379\tval-poisson-nloglik:2.520790\n",
        "[1360]\ttrain-poisson-nloglik:2.402123\tval-poisson-nloglik:2.520563\n"
       ]
      },
      {
       "output_type": "stream",
       "stream": "stderr",
       "text": [
        "[1361]\ttrain-poisson-nloglik:2.401987\tval-poisson-nloglik:2.520446\n",
        "[1362]\ttrain-poisson-nloglik:2.401897\tval-poisson-nloglik:2.520344\n"
       ]
      },
      {
       "output_type": "stream",
       "stream": "stderr",
       "text": [
        "[1363]\ttrain-poisson-nloglik:2.401745\tval-poisson-nloglik:2.520219\n",
        "[1364]\ttrain-poisson-nloglik:2.401590\tval-poisson-nloglik:2.520098\n"
       ]
      },
      {
       "output_type": "stream",
       "stream": "stderr",
       "text": [
        "[1365]\ttrain-poisson-nloglik:2.401363\tval-poisson-nloglik:2.519918\n",
        "[1366]\ttrain-poisson-nloglik:2.401206\tval-poisson-nloglik:2.519787\n"
       ]
      },
      {
       "output_type": "stream",
       "stream": "stderr",
       "text": [
        "[1367]\ttrain-poisson-nloglik:2.400942\tval-poisson-nloglik:2.519568\n",
        "[1368]\ttrain-poisson-nloglik:2.400748\tval-poisson-nloglik:2.519390\n"
       ]
      },
      {
       "output_type": "stream",
       "stream": "stderr",
       "text": [
        "[1369]\ttrain-poisson-nloglik:2.400579\tval-poisson-nloglik:2.519271\n",
        "[1370]\ttrain-poisson-nloglik:2.400368\tval-poisson-nloglik:2.519111\n"
       ]
      },
      {
       "output_type": "stream",
       "stream": "stderr",
       "text": [
        "[1371]\ttrain-poisson-nloglik:2.400151\tval-poisson-nloglik:2.518936\n",
        "[1372]\ttrain-poisson-nloglik:2.399897\tval-poisson-nloglik:2.518722\n"
       ]
      },
      {
       "output_type": "stream",
       "stream": "stderr",
       "text": [
        "[1373]\ttrain-poisson-nloglik:2.399716\tval-poisson-nloglik:2.518578\n",
        "[1374]\ttrain-poisson-nloglik:2.399457\tval-poisson-nloglik:2.518383\n"
       ]
      },
      {
       "output_type": "stream",
       "stream": "stderr",
       "text": [
        "[1375]\ttrain-poisson-nloglik:2.399348\tval-poisson-nloglik:2.518302\n",
        "[1376]\ttrain-poisson-nloglik:2.399192\tval-poisson-nloglik:2.518169\n"
       ]
      },
      {
       "output_type": "stream",
       "stream": "stderr",
       "text": [
        "[1377]\ttrain-poisson-nloglik:2.399074\tval-poisson-nloglik:2.518060\n",
        "[1378]\ttrain-poisson-nloglik:2.398896\tval-poisson-nloglik:2.517907\n"
       ]
      },
      {
       "output_type": "stream",
       "stream": "stderr",
       "text": [
        "[1379]\ttrain-poisson-nloglik:2.398846\tval-poisson-nloglik:2.517865\n",
        "[1380]\ttrain-poisson-nloglik:2.398749\tval-poisson-nloglik:2.517771\n"
       ]
      },
      {
       "output_type": "stream",
       "stream": "stderr",
       "text": [
        "[1381]\ttrain-poisson-nloglik:2.398632\tval-poisson-nloglik:2.517651\n",
        "[1382]\ttrain-poisson-nloglik:2.398406\tval-poisson-nloglik:2.517456\n"
       ]
      },
      {
       "output_type": "stream",
       "stream": "stderr",
       "text": [
        "[1383]\ttrain-poisson-nloglik:2.398327\tval-poisson-nloglik:2.517400\n",
        "[1384]\ttrain-poisson-nloglik:2.398148\tval-poisson-nloglik:2.517220\n"
       ]
      },
      {
       "output_type": "stream",
       "stream": "stderr",
       "text": [
        "[1385]\ttrain-poisson-nloglik:2.397931\tval-poisson-nloglik:2.517039\n",
        "[1386]\ttrain-poisson-nloglik:2.397783\tval-poisson-nloglik:2.516870\n"
       ]
      },
      {
       "output_type": "stream",
       "stream": "stderr",
       "text": [
        "[1387]\ttrain-poisson-nloglik:2.397590\tval-poisson-nloglik:2.516731\n",
        "[1388]\ttrain-poisson-nloglik:2.397363\tval-poisson-nloglik:2.516533\n"
       ]
      },
      {
       "output_type": "stream",
       "stream": "stderr",
       "text": [
        "[1389]\ttrain-poisson-nloglik:2.397281\tval-poisson-nloglik:2.516467\n",
        "[1390]\ttrain-poisson-nloglik:2.397111\tval-poisson-nloglik:2.516322\n"
       ]
      },
      {
       "output_type": "stream",
       "stream": "stderr",
       "text": [
        "[1391]\ttrain-poisson-nloglik:2.396869\tval-poisson-nloglik:2.516124\n",
        "[1392]\ttrain-poisson-nloglik:2.396721\tval-poisson-nloglik:2.515987\n"
       ]
      },
      {
       "output_type": "stream",
       "stream": "stderr",
       "text": [
        "[1393]\ttrain-poisson-nloglik:2.396532\tval-poisson-nloglik:2.515795\n",
        "[1394]\ttrain-poisson-nloglik:2.396470\tval-poisson-nloglik:2.515757\n"
       ]
      },
      {
       "output_type": "stream",
       "stream": "stderr",
       "text": [
        "[1395]\ttrain-poisson-nloglik:2.396352\tval-poisson-nloglik:2.515669\n",
        "[1396]\ttrain-poisson-nloglik:2.396037\tval-poisson-nloglik:2.515370\n"
       ]
      },
      {
       "output_type": "stream",
       "stream": "stderr",
       "text": [
        "[1397]\ttrain-poisson-nloglik:2.395792\tval-poisson-nloglik:2.515152\n",
        "[1398]\ttrain-poisson-nloglik:2.395469\tval-poisson-nloglik:2.514862\n"
       ]
      },
      {
       "output_type": "stream",
       "stream": "stderr",
       "text": [
        "[1399]\ttrain-poisson-nloglik:2.395207\tval-poisson-nloglik:2.514627\n",
        "[1400]\ttrain-poisson-nloglik:2.395032\tval-poisson-nloglik:2.514486\n"
       ]
      },
      {
       "output_type": "stream",
       "stream": "stderr",
       "text": [
        "[1401]\ttrain-poisson-nloglik:2.394859\tval-poisson-nloglik:2.514366\n",
        "[1402]\ttrain-poisson-nloglik:2.394673\tval-poisson-nloglik:2.514233\n"
       ]
      },
      {
       "output_type": "stream",
       "stream": "stderr",
       "text": [
        "[1403]\ttrain-poisson-nloglik:2.394412\tval-poisson-nloglik:2.514028\n",
        "[1404]\ttrain-poisson-nloglik:2.394249\tval-poisson-nloglik:2.513868\n"
       ]
      },
      {
       "output_type": "stream",
       "stream": "stderr",
       "text": [
        "[1405]\ttrain-poisson-nloglik:2.394072\tval-poisson-nloglik:2.513731\n",
        "[1406]\ttrain-poisson-nloglik:2.393889\tval-poisson-nloglik:2.513583\n"
       ]
      },
      {
       "output_type": "stream",
       "stream": "stderr",
       "text": [
        "[1407]\ttrain-poisson-nloglik:2.393606\tval-poisson-nloglik:2.513326\n",
        "[1408]\ttrain-poisson-nloglik:2.393318\tval-poisson-nloglik:2.513042\n"
       ]
      },
      {
       "output_type": "stream",
       "stream": "stderr",
       "text": [
        "[1409]\ttrain-poisson-nloglik:2.393149\tval-poisson-nloglik:2.512909\n",
        "[1410]\ttrain-poisson-nloglik:2.392925\tval-poisson-nloglik:2.512680\n"
       ]
      },
      {
       "output_type": "stream",
       "stream": "stderr",
       "text": [
        "[1411]\ttrain-poisson-nloglik:2.392817\tval-poisson-nloglik:2.512585\n",
        "[1412]\ttrain-poisson-nloglik:2.392697\tval-poisson-nloglik:2.512479\n"
       ]
      },
      {
       "output_type": "stream",
       "stream": "stderr",
       "text": [
        "[1413]\ttrain-poisson-nloglik:2.392560\tval-poisson-nloglik:2.512370\n",
        "[1414]\ttrain-poisson-nloglik:2.392323\tval-poisson-nloglik:2.512129\n"
       ]
      },
      {
       "output_type": "stream",
       "stream": "stderr",
       "text": [
        "[1415]\ttrain-poisson-nloglik:2.392184\tval-poisson-nloglik:2.512020\n",
        "[1416]\ttrain-poisson-nloglik:2.392072\tval-poisson-nloglik:2.511917\n"
       ]
      },
      {
       "output_type": "stream",
       "stream": "stderr",
       "text": [
        "[1417]\ttrain-poisson-nloglik:2.391941\tval-poisson-nloglik:2.511788\n",
        "[1418]\ttrain-poisson-nloglik:2.391703\tval-poisson-nloglik:2.511588\n"
       ]
      },
      {
       "output_type": "stream",
       "stream": "stderr",
       "text": [
        "[1419]\ttrain-poisson-nloglik:2.391591\tval-poisson-nloglik:2.511519\n",
        "[1420]\ttrain-poisson-nloglik:2.391536\tval-poisson-nloglik:2.511494\n"
       ]
      },
      {
       "output_type": "stream",
       "stream": "stderr",
       "text": [
        "[1421]\ttrain-poisson-nloglik:2.391371\tval-poisson-nloglik:2.511355\n",
        "[1422]\ttrain-poisson-nloglik:2.391155\tval-poisson-nloglik:2.511148\n"
       ]
      },
      {
       "output_type": "stream",
       "stream": "stderr",
       "text": [
        "[1423]\ttrain-poisson-nloglik:2.390979\tval-poisson-nloglik:2.511025\n",
        "[1424]\ttrain-poisson-nloglik:2.390867\tval-poisson-nloglik:2.510922\n"
       ]
      },
      {
       "output_type": "stream",
       "stream": "stderr",
       "text": [
        "[1425]\ttrain-poisson-nloglik:2.390730\tval-poisson-nloglik:2.510795\n",
        "[1426]\ttrain-poisson-nloglik:2.390648\tval-poisson-nloglik:2.510713\n"
       ]
      },
      {
       "output_type": "stream",
       "stream": "stderr",
       "text": [
        "[1427]\ttrain-poisson-nloglik:2.390557\tval-poisson-nloglik:2.510633\n",
        "[1428]\ttrain-poisson-nloglik:2.390392\tval-poisson-nloglik:2.510480\n"
       ]
      },
      {
       "output_type": "stream",
       "stream": "stderr",
       "text": [
        "[1429]\ttrain-poisson-nloglik:2.390322\tval-poisson-nloglik:2.510417\n",
        "[1430]\ttrain-poisson-nloglik:2.390132\tval-poisson-nloglik:2.510259\n"
       ]
      },
      {
       "output_type": "stream",
       "stream": "stderr",
       "text": [
        "[1431]\ttrain-poisson-nloglik:2.389943\tval-poisson-nloglik:2.510107\n",
        "[1432]\ttrain-poisson-nloglik:2.389779\tval-poisson-nloglik:2.510003\n"
       ]
      },
      {
       "output_type": "stream",
       "stream": "stderr",
       "text": [
        "[1433]\ttrain-poisson-nloglik:2.389484\tval-poisson-nloglik:2.509760\n",
        "[1434]\ttrain-poisson-nloglik:2.389397\tval-poisson-nloglik:2.509676\n"
       ]
      },
      {
       "output_type": "stream",
       "stream": "stderr",
       "text": [
        "[1435]\ttrain-poisson-nloglik:2.389225\tval-poisson-nloglik:2.509511\n",
        "[1436]\ttrain-poisson-nloglik:2.389011\tval-poisson-nloglik:2.509267\n"
       ]
      },
      {
       "output_type": "stream",
       "stream": "stderr",
       "text": [
        "[1437]\ttrain-poisson-nloglik:2.388863\tval-poisson-nloglik:2.509133\n",
        "[1438]\ttrain-poisson-nloglik:2.388687\tval-poisson-nloglik:2.509003\n"
       ]
      },
      {
       "output_type": "stream",
       "stream": "stderr",
       "text": [
        "[1439]\ttrain-poisson-nloglik:2.388526\tval-poisson-nloglik:2.508849\n",
        "[1440]\ttrain-poisson-nloglik:2.388460\tval-poisson-nloglik:2.508803\n"
       ]
      },
      {
       "output_type": "stream",
       "stream": "stderr",
       "text": [
        "[1441]\ttrain-poisson-nloglik:2.388316\tval-poisson-nloglik:2.508682\n",
        "[1442]\ttrain-poisson-nloglik:2.388221\tval-poisson-nloglik:2.508618\n"
       ]
      },
      {
       "output_type": "stream",
       "stream": "stderr",
       "text": [
        "[1443]\ttrain-poisson-nloglik:2.388091\tval-poisson-nloglik:2.508509\n",
        "[1444]\ttrain-poisson-nloglik:2.387940\tval-poisson-nloglik:2.508383\n"
       ]
      },
      {
       "output_type": "stream",
       "stream": "stderr",
       "text": [
        "[1445]\ttrain-poisson-nloglik:2.387896\tval-poisson-nloglik:2.508351\n",
        "[1446]\ttrain-poisson-nloglik:2.387777\tval-poisson-nloglik:2.508246\n"
       ]
      },
      {
       "output_type": "stream",
       "stream": "stderr",
       "text": [
        "[1447]\ttrain-poisson-nloglik:2.387682\tval-poisson-nloglik:2.508140\n",
        "[1448]\ttrain-poisson-nloglik:2.387512\tval-poisson-nloglik:2.507989\n"
       ]
      },
      {
       "output_type": "stream",
       "stream": "stderr",
       "text": [
        "[1449]\ttrain-poisson-nloglik:2.387302\tval-poisson-nloglik:2.507808\n",
        "[1450]\ttrain-poisson-nloglik:2.387080\tval-poisson-nloglik:2.507577\n"
       ]
      },
      {
       "output_type": "stream",
       "stream": "stderr",
       "text": [
        "[1451]\ttrain-poisson-nloglik:2.386988\tval-poisson-nloglik:2.507486\n",
        "[1452]\ttrain-poisson-nloglik:2.386842\tval-poisson-nloglik:2.507355\n"
       ]
      },
      {
       "output_type": "stream",
       "stream": "stderr",
       "text": [
        "[1453]\ttrain-poisson-nloglik:2.386640\tval-poisson-nloglik:2.507160\n",
        "[1454]\ttrain-poisson-nloglik:2.386534\tval-poisson-nloglik:2.507079\n"
       ]
      },
      {
       "output_type": "stream",
       "stream": "stderr",
       "text": [
        "[1455]\ttrain-poisson-nloglik:2.386336\tval-poisson-nloglik:2.506909\n",
        "[1456]\ttrain-poisson-nloglik:2.386268\tval-poisson-nloglik:2.506860\n"
       ]
      },
      {
       "output_type": "stream",
       "stream": "stderr",
       "text": [
        "[1457]\ttrain-poisson-nloglik:2.386190\tval-poisson-nloglik:2.506797\n",
        "[1458]\ttrain-poisson-nloglik:2.386019\tval-poisson-nloglik:2.506628\n"
       ]
      },
      {
       "output_type": "stream",
       "stream": "stderr",
       "text": [
        "[1459]\ttrain-poisson-nloglik:2.385836\tval-poisson-nloglik:2.506445\n",
        "[1460]\ttrain-poisson-nloglik:2.385767\tval-poisson-nloglik:2.506409\n"
       ]
      },
      {
       "output_type": "stream",
       "stream": "stderr",
       "text": [
        "[1461]\ttrain-poisson-nloglik:2.385681\tval-poisson-nloglik:2.506331\n",
        "[1462]\ttrain-poisson-nloglik:2.385526\tval-poisson-nloglik:2.506191\n"
       ]
      },
      {
       "output_type": "stream",
       "stream": "stderr",
       "text": [
        "[1463]\ttrain-poisson-nloglik:2.385412\tval-poisson-nloglik:2.506085\n",
        "[1464]\ttrain-poisson-nloglik:2.385252\tval-poisson-nloglik:2.505903\n"
       ]
      },
      {
       "output_type": "stream",
       "stream": "stderr",
       "text": [
        "[1465]\ttrain-poisson-nloglik:2.385114\tval-poisson-nloglik:2.505786\n",
        "[1466]\ttrain-poisson-nloglik:2.385076\tval-poisson-nloglik:2.505762\n"
       ]
      },
      {
       "output_type": "stream",
       "stream": "stderr",
       "text": [
        "[1467]\ttrain-poisson-nloglik:2.384916\tval-poisson-nloglik:2.505652\n",
        "[1468]\ttrain-poisson-nloglik:2.384806\tval-poisson-nloglik:2.505557\n"
       ]
      },
      {
       "output_type": "stream",
       "stream": "stderr",
       "text": [
        "[1469]\ttrain-poisson-nloglik:2.384619\tval-poisson-nloglik:2.505388\n",
        "[1470]\ttrain-poisson-nloglik:2.384466\tval-poisson-nloglik:2.505227\n"
       ]
      },
      {
       "output_type": "stream",
       "stream": "stderr",
       "text": [
        "[1471]\ttrain-poisson-nloglik:2.384212\tval-poisson-nloglik:2.505005\n",
        "[1472]\ttrain-poisson-nloglik:2.384007\tval-poisson-nloglik:2.504821\n"
       ]
      },
      {
       "output_type": "stream",
       "stream": "stderr",
       "text": [
        "[1473]\ttrain-poisson-nloglik:2.383799\tval-poisson-nloglik:2.504646\n",
        "[1474]\ttrain-poisson-nloglik:2.383570\tval-poisson-nloglik:2.504448\n"
       ]
      },
      {
       "output_type": "stream",
       "stream": "stderr",
       "text": [
        "[1475]\ttrain-poisson-nloglik:2.383502\tval-poisson-nloglik:2.504395\n",
        "[1476]\ttrain-poisson-nloglik:2.383440\tval-poisson-nloglik:2.504328\n"
       ]
      },
      {
       "output_type": "stream",
       "stream": "stderr",
       "text": [
        "[1477]\ttrain-poisson-nloglik:2.383322\tval-poisson-nloglik:2.504223\n",
        "[1478]\ttrain-poisson-nloglik:2.383092\tval-poisson-nloglik:2.503998\n"
       ]
      },
      {
       "output_type": "stream",
       "stream": "stderr",
       "text": [
        "[1479]\ttrain-poisson-nloglik:2.382827\tval-poisson-nloglik:2.503728\n",
        "[1480]\ttrain-poisson-nloglik:2.382744\tval-poisson-nloglik:2.503661\n"
       ]
      },
      {
       "output_type": "stream",
       "stream": "stderr",
       "text": [
        "[1481]\ttrain-poisson-nloglik:2.382505\tval-poisson-nloglik:2.503446\n",
        "[1482]\ttrain-poisson-nloglik:2.382342\tval-poisson-nloglik:2.503292\n"
       ]
      },
      {
       "output_type": "stream",
       "stream": "stderr",
       "text": [
        "[1483]\ttrain-poisson-nloglik:2.382142\tval-poisson-nloglik:2.503155\n",
        "[1484]\ttrain-poisson-nloglik:2.381975\tval-poisson-nloglik:2.503030\n"
       ]
      },
      {
       "output_type": "stream",
       "stream": "stderr",
       "text": [
        "[1485]\ttrain-poisson-nloglik:2.381856\tval-poisson-nloglik:2.502927\n",
        "[1486]\ttrain-poisson-nloglik:2.381688\tval-poisson-nloglik:2.502782\n"
       ]
      },
      {
       "output_type": "stream",
       "stream": "stderr",
       "text": [
        "[1487]\ttrain-poisson-nloglik:2.381629\tval-poisson-nloglik:2.502723\n",
        "[1488]\ttrain-poisson-nloglik:2.381393\tval-poisson-nloglik:2.502520\n"
       ]
      },
      {
       "output_type": "stream",
       "stream": "stderr",
       "text": [
        "[1489]\ttrain-poisson-nloglik:2.381296\tval-poisson-nloglik:2.502448\n",
        "[1490]\ttrain-poisson-nloglik:2.381190\tval-poisson-nloglik:2.502376\n"
       ]
      },
      {
       "output_type": "stream",
       "stream": "stderr",
       "text": [
        "[1491]\ttrain-poisson-nloglik:2.381154\tval-poisson-nloglik:2.502356\n",
        "[1492]\ttrain-poisson-nloglik:2.380954\tval-poisson-nloglik:2.502170\n"
       ]
      },
      {
       "output_type": "stream",
       "stream": "stderr",
       "text": [
        "[1493]\ttrain-poisson-nloglik:2.380750\tval-poisson-nloglik:2.502011\n",
        "[1494]\ttrain-poisson-nloglik:2.380628\tval-poisson-nloglik:2.501900\n"
       ]
      },
      {
       "output_type": "stream",
       "stream": "stderr",
       "text": [
        "[1495]\ttrain-poisson-nloglik:2.380432\tval-poisson-nloglik:2.501696\n",
        "[1496]\ttrain-poisson-nloglik:2.380234\tval-poisson-nloglik:2.501522\n"
       ]
      },
      {
       "output_type": "stream",
       "stream": "stderr",
       "text": [
        "[1497]\ttrain-poisson-nloglik:2.380018\tval-poisson-nloglik:2.501308\n",
        "[1498]\ttrain-poisson-nloglik:2.379955\tval-poisson-nloglik:2.501244\n"
       ]
      },
      {
       "output_type": "stream",
       "stream": "stderr",
       "text": [
        "[1499]\ttrain-poisson-nloglik:2.379692\tval-poisson-nloglik:2.501035\n",
        "[1500]\ttrain-poisson-nloglik:2.379470\tval-poisson-nloglik:2.500865\n"
       ]
      },
      {
       "output_type": "stream",
       "stream": "stderr",
       "text": [
        "[1501]\ttrain-poisson-nloglik:2.379257\tval-poisson-nloglik:2.500708\n",
        "[1502]\ttrain-poisson-nloglik:2.379202\tval-poisson-nloglik:2.500670\n"
       ]
      },
      {
       "output_type": "stream",
       "stream": "stderr",
       "text": [
        "[1503]\ttrain-poisson-nloglik:2.378996\tval-poisson-nloglik:2.500480\n",
        "[1504]\ttrain-poisson-nloglik:2.378910\tval-poisson-nloglik:2.500426\n"
       ]
      },
      {
       "output_type": "stream",
       "stream": "stderr",
       "text": [
        "[1505]\ttrain-poisson-nloglik:2.378699\tval-poisson-nloglik:2.500221\n",
        "[1506]\ttrain-poisson-nloglik:2.378474\tval-poisson-nloglik:2.500028\n"
       ]
      },
      {
       "output_type": "stream",
       "stream": "stderr",
       "text": [
        "[1507]\ttrain-poisson-nloglik:2.378304\tval-poisson-nloglik:2.499882\n",
        "[1508]\ttrain-poisson-nloglik:2.378105\tval-poisson-nloglik:2.499714\n"
       ]
      },
      {
       "output_type": "stream",
       "stream": "stderr",
       "text": [
        "[1509]\ttrain-poisson-nloglik:2.378067\tval-poisson-nloglik:2.499685\n",
        "[1510]\ttrain-poisson-nloglik:2.378002\tval-poisson-nloglik:2.499629\n"
       ]
      },
      {
       "output_type": "stream",
       "stream": "stderr",
       "text": [
        "[1511]\ttrain-poisson-nloglik:2.377870\tval-poisson-nloglik:2.499504\n",
        "[1512]\ttrain-poisson-nloglik:2.377731\tval-poisson-nloglik:2.499380\n"
       ]
      },
      {
       "output_type": "stream",
       "stream": "stderr",
       "text": [
        "[1513]\ttrain-poisson-nloglik:2.377563\tval-poisson-nloglik:2.499229\n",
        "[1514]\ttrain-poisson-nloglik:2.377358\tval-poisson-nloglik:2.499031\n"
       ]
      },
      {
       "output_type": "stream",
       "stream": "stderr",
       "text": [
        "[1515]\ttrain-poisson-nloglik:2.377254\tval-poisson-nloglik:2.498953\n",
        "[1516]\ttrain-poisson-nloglik:2.377051\tval-poisson-nloglik:2.498789\n"
       ]
      },
      {
       "output_type": "stream",
       "stream": "stderr",
       "text": [
        "[1517]\ttrain-poisson-nloglik:2.376934\tval-poisson-nloglik:2.498655\n",
        "[1518]\ttrain-poisson-nloglik:2.376725\tval-poisson-nloglik:2.498481\n"
       ]
      },
      {
       "output_type": "stream",
       "stream": "stderr",
       "text": [
        "[1519]\ttrain-poisson-nloglik:2.376580\tval-poisson-nloglik:2.498356\n",
        "[1520]\ttrain-poisson-nloglik:2.376355\tval-poisson-nloglik:2.498142\n"
       ]
      },
      {
       "output_type": "stream",
       "stream": "stderr",
       "text": [
        "[1521]\ttrain-poisson-nloglik:2.376267\tval-poisson-nloglik:2.498069\n",
        "[1522]\ttrain-poisson-nloglik:2.376158\tval-poisson-nloglik:2.498006\n"
       ]
      },
      {
       "output_type": "stream",
       "stream": "stderr",
       "text": [
        "[1523]\ttrain-poisson-nloglik:2.375920\tval-poisson-nloglik:2.497774\n",
        "[1524]\ttrain-poisson-nloglik:2.375729\tval-poisson-nloglik:2.497584\n"
       ]
      },
      {
       "output_type": "stream",
       "stream": "stderr",
       "text": [
        "[1525]\ttrain-poisson-nloglik:2.375526\tval-poisson-nloglik:2.497402\n",
        "[1526]\ttrain-poisson-nloglik:2.375413\tval-poisson-nloglik:2.497295\n"
       ]
      },
      {
       "output_type": "stream",
       "stream": "stderr",
       "text": [
        "[1527]\ttrain-poisson-nloglik:2.375232\tval-poisson-nloglik:2.497170\n",
        "[1528]\ttrain-poisson-nloglik:2.375064\tval-poisson-nloglik:2.497025\n"
       ]
      },
      {
       "output_type": "stream",
       "stream": "stderr",
       "text": [
        "[1529]\ttrain-poisson-nloglik:2.374825\tval-poisson-nloglik:2.496830\n",
        "[1530]\ttrain-poisson-nloglik:2.374620\tval-poisson-nloglik:2.496655\n"
       ]
      },
      {
       "output_type": "stream",
       "stream": "stderr",
       "text": [
        "[1531]\ttrain-poisson-nloglik:2.374470\tval-poisson-nloglik:2.496536\n",
        "[1532]\ttrain-poisson-nloglik:2.374346\tval-poisson-nloglik:2.496438\n"
       ]
      },
      {
       "output_type": "stream",
       "stream": "stderr",
       "text": [
        "[1533]\ttrain-poisson-nloglik:2.374247\tval-poisson-nloglik:2.496367\n",
        "[1534]\ttrain-poisson-nloglik:2.373989\tval-poisson-nloglik:2.496090\n"
       ]
      },
      {
       "output_type": "stream",
       "stream": "stderr",
       "text": [
        "[1535]\ttrain-poisson-nloglik:2.373767\tval-poisson-nloglik:2.495944\n",
        "[1536]\ttrain-poisson-nloglik:2.373700\tval-poisson-nloglik:2.495894\n"
       ]
      },
      {
       "output_type": "stream",
       "stream": "stderr",
       "text": [
        "[1537]\ttrain-poisson-nloglik:2.373635\tval-poisson-nloglik:2.495813\n",
        "[1538]\ttrain-poisson-nloglik:2.373530\tval-poisson-nloglik:2.495707\n"
       ]
      },
      {
       "output_type": "stream",
       "stream": "stderr",
       "text": [
        "[1539]\ttrain-poisson-nloglik:2.373386\tval-poisson-nloglik:2.495603\n",
        "[1540]\ttrain-poisson-nloglik:2.373259\tval-poisson-nloglik:2.495502\n"
       ]
      },
      {
       "output_type": "stream",
       "stream": "stderr",
       "text": [
        "[1541]\ttrain-poisson-nloglik:2.373163\tval-poisson-nloglik:2.495412\n",
        "[1542]\ttrain-poisson-nloglik:2.373001\tval-poisson-nloglik:2.495251\n"
       ]
      },
      {
       "output_type": "stream",
       "stream": "stderr",
       "text": [
        "[1543]\ttrain-poisson-nloglik:2.372914\tval-poisson-nloglik:2.495186\n",
        "[1544]\ttrain-poisson-nloglik:2.372705\tval-poisson-nloglik:2.495041\n"
       ]
      },
      {
       "output_type": "stream",
       "stream": "stderr",
       "text": [
        "[1545]\ttrain-poisson-nloglik:2.372555\tval-poisson-nloglik:2.494895\n",
        "[1546]\ttrain-poisson-nloglik:2.372477\tval-poisson-nloglik:2.494806\n"
       ]
      },
      {
       "output_type": "stream",
       "stream": "stderr",
       "text": [
        "[1547]\ttrain-poisson-nloglik:2.372385\tval-poisson-nloglik:2.494721\n",
        "[1548]\ttrain-poisson-nloglik:2.372179\tval-poisson-nloglik:2.494545\n"
       ]
      },
      {
       "output_type": "stream",
       "stream": "stderr",
       "text": [
        "[1549]\ttrain-poisson-nloglik:2.372088\tval-poisson-nloglik:2.494457\n",
        "[1550]\ttrain-poisson-nloglik:2.371969\tval-poisson-nloglik:2.494340\n"
       ]
      },
      {
       "output_type": "stream",
       "stream": "stderr",
       "text": [
        "[1551]\ttrain-poisson-nloglik:2.371801\tval-poisson-nloglik:2.494179\n",
        "[1552]\ttrain-poisson-nloglik:2.371723\tval-poisson-nloglik:2.494106\n"
       ]
      },
      {
       "output_type": "stream",
       "stream": "stderr",
       "text": [
        "[1553]\ttrain-poisson-nloglik:2.371618\tval-poisson-nloglik:2.494008\n",
        "[1554]\ttrain-poisson-nloglik:2.371555\tval-poisson-nloglik:2.493939\n"
       ]
      },
      {
       "output_type": "stream",
       "stream": "stderr",
       "text": [
        "[1555]\ttrain-poisson-nloglik:2.371351\tval-poisson-nloglik:2.493727\n",
        "[1556]\ttrain-poisson-nloglik:2.371229\tval-poisson-nloglik:2.493643\n"
       ]
      },
      {
       "output_type": "stream",
       "stream": "stderr",
       "text": [
        "[1557]\ttrain-poisson-nloglik:2.371156\tval-poisson-nloglik:2.493599\n",
        "[1558]\ttrain-poisson-nloglik:2.370947\tval-poisson-nloglik:2.493438\n"
       ]
      },
      {
       "output_type": "stream",
       "stream": "stderr",
       "text": [
        "[1559]\ttrain-poisson-nloglik:2.370880\tval-poisson-nloglik:2.493394\n",
        "[1560]\ttrain-poisson-nloglik:2.370718\tval-poisson-nloglik:2.493236\n"
       ]
      },
      {
       "output_type": "stream",
       "stream": "stderr",
       "text": [
        "[1561]\ttrain-poisson-nloglik:2.370598\tval-poisson-nloglik:2.493133\n",
        "[1562]\ttrain-poisson-nloglik:2.370436\tval-poisson-nloglik:2.492997\n"
       ]
      },
      {
       "output_type": "stream",
       "stream": "stderr",
       "text": [
        "[1563]\ttrain-poisson-nloglik:2.370283\tval-poisson-nloglik:2.492832\n",
        "[1564]\ttrain-poisson-nloglik:2.370066\tval-poisson-nloglik:2.492640\n"
       ]
      },
      {
       "output_type": "stream",
       "stream": "stderr",
       "text": [
        "[1565]\ttrain-poisson-nloglik:2.369935\tval-poisson-nloglik:2.492553\n",
        "[1566]\ttrain-poisson-nloglik:2.369750\tval-poisson-nloglik:2.492365\n"
       ]
      },
      {
       "output_type": "stream",
       "stream": "stderr",
       "text": [
        "[1567]\ttrain-poisson-nloglik:2.369539\tval-poisson-nloglik:2.492179\n",
        "[1568]\ttrain-poisson-nloglik:2.369403\tval-poisson-nloglik:2.492049\n"
       ]
      },
      {
       "output_type": "stream",
       "stream": "stderr",
       "text": [
        "[1569]\ttrain-poisson-nloglik:2.369241\tval-poisson-nloglik:2.491883\n",
        "[1570]\ttrain-poisson-nloglik:2.368964\tval-poisson-nloglik:2.491666\n"
       ]
      },
      {
       "output_type": "stream",
       "stream": "stderr",
       "text": [
        "[1571]\ttrain-poisson-nloglik:2.368778\tval-poisson-nloglik:2.491500\n",
        "[1572]\ttrain-poisson-nloglik:2.368612\tval-poisson-nloglik:2.491348\n"
       ]
      },
      {
       "output_type": "stream",
       "stream": "stderr",
       "text": [
        "[1573]\ttrain-poisson-nloglik:2.368469\tval-poisson-nloglik:2.491229\n",
        "[1574]\ttrain-poisson-nloglik:2.368327\tval-poisson-nloglik:2.491158\n"
       ]
      },
      {
       "output_type": "stream",
       "stream": "stderr",
       "text": [
        "[1575]\ttrain-poisson-nloglik:2.368222\tval-poisson-nloglik:2.491075\n",
        "[1576]\ttrain-poisson-nloglik:2.368071\tval-poisson-nloglik:2.490925\n"
       ]
      },
      {
       "output_type": "stream",
       "stream": "stderr",
       "text": [
        "[1577]\ttrain-poisson-nloglik:2.367838\tval-poisson-nloglik:2.490750\n",
        "[1578]\ttrain-poisson-nloglik:2.367674\tval-poisson-nloglik:2.490635\n"
       ]
      },
      {
       "output_type": "stream",
       "stream": "stderr",
       "text": [
        "[1579]\ttrain-poisson-nloglik:2.367397\tval-poisson-nloglik:2.490382\n",
        "[1580]\ttrain-poisson-nloglik:2.367192\tval-poisson-nloglik:2.490198\n"
       ]
      },
      {
       "output_type": "stream",
       "stream": "stderr",
       "text": [
        "[1581]\ttrain-poisson-nloglik:2.367087\tval-poisson-nloglik:2.490099\n",
        "[1582]\ttrain-poisson-nloglik:2.367030\tval-poisson-nloglik:2.490042\n"
       ]
      },
      {
       "output_type": "stream",
       "stream": "stderr",
       "text": [
        "[1583]\ttrain-poisson-nloglik:2.366918\tval-poisson-nloglik:2.489964\n",
        "[1584]\ttrain-poisson-nloglik:2.366837\tval-poisson-nloglik:2.489894\n"
       ]
      },
      {
       "output_type": "stream",
       "stream": "stderr",
       "text": [
        "[1585]\ttrain-poisson-nloglik:2.366683\tval-poisson-nloglik:2.489780\n",
        "[1586]\ttrain-poisson-nloglik:2.366441\tval-poisson-nloglik:2.489594\n"
       ]
      },
      {
       "output_type": "stream",
       "stream": "stderr",
       "text": [
        "[1587]\ttrain-poisson-nloglik:2.366281\tval-poisson-nloglik:2.489446\n",
        "[1588]\ttrain-poisson-nloglik:2.366098\tval-poisson-nloglik:2.489291\n"
       ]
      },
      {
       "output_type": "stream",
       "stream": "stderr",
       "text": [
        "[1589]\ttrain-poisson-nloglik:2.365916\tval-poisson-nloglik:2.489140\n",
        "[1590]\ttrain-poisson-nloglik:2.365804\tval-poisson-nloglik:2.489051\n"
       ]
      },
      {
       "output_type": "stream",
       "stream": "stderr",
       "text": [
        "[1591]\ttrain-poisson-nloglik:2.365647\tval-poisson-nloglik:2.488901\n",
        "[1592]\ttrain-poisson-nloglik:2.365511\tval-poisson-nloglik:2.488768\n"
       ]
      },
      {
       "output_type": "stream",
       "stream": "stderr",
       "text": [
        "[1593]\ttrain-poisson-nloglik:2.365345\tval-poisson-nloglik:2.488630\n",
        "[1594]\ttrain-poisson-nloglik:2.365237\tval-poisson-nloglik:2.488541\n"
       ]
      },
      {
       "output_type": "stream",
       "stream": "stderr",
       "text": [
        "[1595]\ttrain-poisson-nloglik:2.365059\tval-poisson-nloglik:2.488371\n",
        "[1596]\ttrain-poisson-nloglik:2.364927\tval-poisson-nloglik:2.488268\n"
       ]
      },
      {
       "output_type": "stream",
       "stream": "stderr",
       "text": [
        "[1597]\ttrain-poisson-nloglik:2.364849\tval-poisson-nloglik:2.488195\n",
        "[1598]\ttrain-poisson-nloglik:2.364722\tval-poisson-nloglik:2.488057\n"
       ]
      },
      {
       "output_type": "stream",
       "stream": "stderr",
       "text": [
        "[1599]\ttrain-poisson-nloglik:2.364585\tval-poisson-nloglik:2.487940\n",
        "[1600]\ttrain-poisson-nloglik:2.364373\tval-poisson-nloglik:2.487733\n"
       ]
      },
      {
       "output_type": "stream",
       "stream": "stderr",
       "text": [
        "[1601]\ttrain-poisson-nloglik:2.364290\tval-poisson-nloglik:2.487685\n",
        "[1602]\ttrain-poisson-nloglik:2.364176\tval-poisson-nloglik:2.487557\n"
       ]
      },
      {
       "output_type": "stream",
       "stream": "stderr",
       "text": [
        "[1603]\ttrain-poisson-nloglik:2.364058\tval-poisson-nloglik:2.487431\n",
        "[1604]\ttrain-poisson-nloglik:2.363898\tval-poisson-nloglik:2.487310\n"
       ]
      },
      {
       "output_type": "stream",
       "stream": "stderr",
       "text": [
        "[1605]\ttrain-poisson-nloglik:2.363808\tval-poisson-nloglik:2.487234\n",
        "[1606]\ttrain-poisson-nloglik:2.363635\tval-poisson-nloglik:2.487088\n"
       ]
      },
      {
       "output_type": "stream",
       "stream": "stderr",
       "text": [
        "[1607]\ttrain-poisson-nloglik:2.363380\tval-poisson-nloglik:2.486845\n",
        "[1608]\ttrain-poisson-nloglik:2.363301\tval-poisson-nloglik:2.486783\n"
       ]
      },
      {
       "output_type": "stream",
       "stream": "stderr",
       "text": [
        "[1609]\ttrain-poisson-nloglik:2.363064\tval-poisson-nloglik:2.486597\n",
        "[1610]\ttrain-poisson-nloglik:2.362889\tval-poisson-nloglik:2.486412\n"
       ]
      },
      {
       "output_type": "stream",
       "stream": "stderr",
       "text": [
        "[1611]\ttrain-poisson-nloglik:2.362776\tval-poisson-nloglik:2.486324\n",
        "[1612]\ttrain-poisson-nloglik:2.362548\tval-poisson-nloglik:2.486132\n"
       ]
      },
      {
       "output_type": "stream",
       "stream": "stderr",
       "text": [
        "[1613]\ttrain-poisson-nloglik:2.362434\tval-poisson-nloglik:2.486015\n",
        "[1614]\ttrain-poisson-nloglik:2.362303\tval-poisson-nloglik:2.485887\n"
       ]
      },
      {
       "output_type": "stream",
       "stream": "stderr",
       "text": [
        "[1615]\ttrain-poisson-nloglik:2.362184\tval-poisson-nloglik:2.485792\n",
        "[1616]\ttrain-poisson-nloglik:2.361971\tval-poisson-nloglik:2.485600\n"
       ]
      },
      {
       "output_type": "stream",
       "stream": "stderr",
       "text": [
        "[1617]\ttrain-poisson-nloglik:2.361930\tval-poisson-nloglik:2.485584\n",
        "[1618]\ttrain-poisson-nloglik:2.361781\tval-poisson-nloglik:2.485449\n"
       ]
      },
      {
       "output_type": "stream",
       "stream": "stderr",
       "text": [
        "[1619]\ttrain-poisson-nloglik:2.361665\tval-poisson-nloglik:2.485339\n",
        "[1620]\ttrain-poisson-nloglik:2.361532\tval-poisson-nloglik:2.485204\n"
       ]
      },
      {
       "output_type": "stream",
       "stream": "stderr",
       "text": [
        "[1621]\ttrain-poisson-nloglik:2.361371\tval-poisson-nloglik:2.485048\n",
        "[1622]\ttrain-poisson-nloglik:2.361263\tval-poisson-nloglik:2.484929\n"
       ]
      },
      {
       "output_type": "stream",
       "stream": "stderr",
       "text": [
        "[1623]\ttrain-poisson-nloglik:2.361077\tval-poisson-nloglik:2.484747\n",
        "[1624]\ttrain-poisson-nloglik:2.360986\tval-poisson-nloglik:2.484658\n"
       ]
      },
      {
       "output_type": "stream",
       "stream": "stderr",
       "text": [
        "[1625]\ttrain-poisson-nloglik:2.360824\tval-poisson-nloglik:2.484505\n",
        "[1626]\ttrain-poisson-nloglik:2.360734\tval-poisson-nloglik:2.484429\n"
       ]
      },
      {
       "output_type": "stream",
       "stream": "stderr",
       "text": [
        "[1627]\ttrain-poisson-nloglik:2.360554\tval-poisson-nloglik:2.484270\n",
        "[1628]\ttrain-poisson-nloglik:2.360373\tval-poisson-nloglik:2.484143\n"
       ]
      },
      {
       "output_type": "stream",
       "stream": "stderr",
       "text": [
        "[1629]\ttrain-poisson-nloglik:2.360233\tval-poisson-nloglik:2.483983\n",
        "[1630]\ttrain-poisson-nloglik:2.360109\tval-poisson-nloglik:2.483900\n"
       ]
      },
      {
       "output_type": "stream",
       "stream": "stderr",
       "text": [
        "[1631]\ttrain-poisson-nloglik:2.359954\tval-poisson-nloglik:2.483753\n",
        "[1632]\ttrain-poisson-nloglik:2.359888\tval-poisson-nloglik:2.483699\n"
       ]
      },
      {
       "output_type": "stream",
       "stream": "stderr",
       "text": [
        "[1633]\ttrain-poisson-nloglik:2.359716\tval-poisson-nloglik:2.483569\n",
        "[1634]\ttrain-poisson-nloglik:2.359453\tval-poisson-nloglik:2.483330\n"
       ]
      },
      {
       "output_type": "stream",
       "stream": "stderr",
       "text": [
        "[1635]\ttrain-poisson-nloglik:2.359361\tval-poisson-nloglik:2.483256\n",
        "[1636]\ttrain-poisson-nloglik:2.359238\tval-poisson-nloglik:2.483148\n"
       ]
      },
      {
       "output_type": "stream",
       "stream": "stderr",
       "text": [
        "[1637]\ttrain-poisson-nloglik:2.359092\tval-poisson-nloglik:2.483004\n",
        "[1638]\ttrain-poisson-nloglik:2.358925\tval-poisson-nloglik:2.482832\n"
       ]
      },
      {
       "output_type": "stream",
       "stream": "stderr",
       "text": [
        "[1639]\ttrain-poisson-nloglik:2.358770\tval-poisson-nloglik:2.482717\n",
        "[1640]\ttrain-poisson-nloglik:2.358608\tval-poisson-nloglik:2.482580\n"
       ]
      },
      {
       "output_type": "stream",
       "stream": "stderr",
       "text": [
        "[1641]\ttrain-poisson-nloglik:2.358515\tval-poisson-nloglik:2.482488\n",
        "[1642]\ttrain-poisson-nloglik:2.358298\tval-poisson-nloglik:2.482325\n"
       ]
      },
      {
       "output_type": "stream",
       "stream": "stderr",
       "text": [
        "[1643]\ttrain-poisson-nloglik:2.358215\tval-poisson-nloglik:2.482246\n",
        "[1644]\ttrain-poisson-nloglik:2.358057\tval-poisson-nloglik:2.482124\n"
       ]
      },
      {
       "output_type": "stream",
       "stream": "stderr",
       "text": [
        "[1645]\ttrain-poisson-nloglik:2.357959\tval-poisson-nloglik:2.482033\n",
        "[1646]\ttrain-poisson-nloglik:2.357813\tval-poisson-nloglik:2.481902\n"
       ]
      },
      {
       "output_type": "stream",
       "stream": "stderr",
       "text": [
        "[1647]\ttrain-poisson-nloglik:2.357713\tval-poisson-nloglik:2.481812\n",
        "[1648]\ttrain-poisson-nloglik:2.357495\tval-poisson-nloglik:2.481619\n"
       ]
      },
      {
       "output_type": "stream",
       "stream": "stderr",
       "text": [
        "[1649]\ttrain-poisson-nloglik:2.357418\tval-poisson-nloglik:2.481557\n",
        "[1650]\ttrain-poisson-nloglik:2.357223\tval-poisson-nloglik:2.481369\n"
       ]
      },
      {
       "output_type": "stream",
       "stream": "stderr",
       "text": [
        "[1651]\ttrain-poisson-nloglik:2.357065\tval-poisson-nloglik:2.481244\n",
        "[1652]\ttrain-poisson-nloglik:2.356966\tval-poisson-nloglik:2.481164\n"
       ]
      },
      {
       "output_type": "stream",
       "stream": "stderr",
       "text": [
        "[1653]\ttrain-poisson-nloglik:2.356826\tval-poisson-nloglik:2.481014\n",
        "[1654]\ttrain-poisson-nloglik:2.356684\tval-poisson-nloglik:2.480915\n"
       ]
      },
      {
       "output_type": "stream",
       "stream": "stderr",
       "text": [
        "[1655]\ttrain-poisson-nloglik:2.356511\tval-poisson-nloglik:2.480747\n",
        "[1656]\ttrain-poisson-nloglik:2.356384\tval-poisson-nloglik:2.480625\n"
       ]
      },
      {
       "output_type": "stream",
       "stream": "stderr",
       "text": [
        "[1657]\ttrain-poisson-nloglik:2.356124\tval-poisson-nloglik:2.480339\n",
        "[1658]\ttrain-poisson-nloglik:2.356038\tval-poisson-nloglik:2.480268\n"
       ]
      },
      {
       "output_type": "stream",
       "stream": "stderr",
       "text": [
        "[1659]\ttrain-poisson-nloglik:2.355894\tval-poisson-nloglik:2.480142\n",
        "[1660]\ttrain-poisson-nloglik:2.355692\tval-poisson-nloglik:2.479968\n"
       ]
      },
      {
       "output_type": "stream",
       "stream": "stderr",
       "text": [
        "[1661]\ttrain-poisson-nloglik:2.355632\tval-poisson-nloglik:2.479926\n",
        "[1662]\ttrain-poisson-nloglik:2.355483\tval-poisson-nloglik:2.479838\n"
       ]
      },
      {
       "output_type": "stream",
       "stream": "stderr",
       "text": [
        "[1663]\ttrain-poisson-nloglik:2.355283\tval-poisson-nloglik:2.479686\n",
        "[1664]\ttrain-poisson-nloglik:2.355078\tval-poisson-nloglik:2.479499\n"
       ]
      },
      {
       "output_type": "stream",
       "stream": "stderr",
       "text": [
        "[1665]\ttrain-poisson-nloglik:2.354819\tval-poisson-nloglik:2.479318\n",
        "[1666]\ttrain-poisson-nloglik:2.354684\tval-poisson-nloglik:2.479187\n"
       ]
      },
      {
       "output_type": "stream",
       "stream": "stderr",
       "text": [
        "[1667]\ttrain-poisson-nloglik:2.354532\tval-poisson-nloglik:2.479068\n",
        "[1668]\ttrain-poisson-nloglik:2.354423\tval-poisson-nloglik:2.478991\n"
       ]
      },
      {
       "output_type": "stream",
       "stream": "stderr",
       "text": [
        "[1669]\ttrain-poisson-nloglik:2.354287\tval-poisson-nloglik:2.478863\n",
        "[1670]\ttrain-poisson-nloglik:2.354145\tval-poisson-nloglik:2.478739\n"
       ]
      },
      {
       "output_type": "stream",
       "stream": "stderr",
       "text": [
        "[1671]\ttrain-poisson-nloglik:2.354008\tval-poisson-nloglik:2.478593\n",
        "[1672]\ttrain-poisson-nloglik:2.353824\tval-poisson-nloglik:2.478435\n"
       ]
      },
      {
       "output_type": "stream",
       "stream": "stderr",
       "text": [
        "[1673]\ttrain-poisson-nloglik:2.353679\tval-poisson-nloglik:2.478332\n",
        "[1674]\ttrain-poisson-nloglik:2.353608\tval-poisson-nloglik:2.478281\n"
       ]
      },
      {
       "output_type": "stream",
       "stream": "stderr",
       "text": [
        "[1675]\ttrain-poisson-nloglik:2.353344\tval-poisson-nloglik:2.478073\n",
        "[1676]\ttrain-poisson-nloglik:2.353225\tval-poisson-nloglik:2.477972\n"
       ]
      },
      {
       "output_type": "stream",
       "stream": "stderr",
       "text": [
        "[1677]\ttrain-poisson-nloglik:2.353031\tval-poisson-nloglik:2.477825\n",
        "[1678]\ttrain-poisson-nloglik:2.352928\tval-poisson-nloglik:2.477735\n"
       ]
      },
      {
       "output_type": "stream",
       "stream": "stderr",
       "text": [
        "[1679]\ttrain-poisson-nloglik:2.352879\tval-poisson-nloglik:2.477681\n",
        "[1680]\ttrain-poisson-nloglik:2.352641\tval-poisson-nloglik:2.477476\n"
       ]
      },
      {
       "output_type": "stream",
       "stream": "stderr",
       "text": [
        "[1681]\ttrain-poisson-nloglik:2.352507\tval-poisson-nloglik:2.477365\n",
        "[1682]\ttrain-poisson-nloglik:2.352440\tval-poisson-nloglik:2.477304\n"
       ]
      },
      {
       "output_type": "stream",
       "stream": "stderr",
       "text": [
        "[1683]\ttrain-poisson-nloglik:2.352403\tval-poisson-nloglik:2.477277\n",
        "[1684]\ttrain-poisson-nloglik:2.352271\tval-poisson-nloglik:2.477187\n"
       ]
      },
      {
       "output_type": "stream",
       "stream": "stderr",
       "text": [
        "[1685]\ttrain-poisson-nloglik:2.352096\tval-poisson-nloglik:2.477020\n",
        "[1686]\ttrain-poisson-nloglik:2.351792\tval-poisson-nloglik:2.476772\n"
       ]
      },
      {
       "output_type": "stream",
       "stream": "stderr",
       "text": [
        "[1687]\ttrain-poisson-nloglik:2.351606\tval-poisson-nloglik:2.476621\n",
        "[1688]\ttrain-poisson-nloglik:2.351461\tval-poisson-nloglik:2.476487\n"
       ]
      },
      {
       "output_type": "stream",
       "stream": "stderr",
       "text": [
        "[1689]\ttrain-poisson-nloglik:2.351289\tval-poisson-nloglik:2.476328\n",
        "[1690]\ttrain-poisson-nloglik:2.351098\tval-poisson-nloglik:2.476150\n"
       ]
      },
      {
       "output_type": "stream",
       "stream": "stderr",
       "text": [
        "[1691]\ttrain-poisson-nloglik:2.350958\tval-poisson-nloglik:2.476025\n",
        "[1692]\ttrain-poisson-nloglik:2.350758\tval-poisson-nloglik:2.475853\n"
       ]
      },
      {
       "output_type": "stream",
       "stream": "stderr",
       "text": [
        "[1693]\ttrain-poisson-nloglik:2.350705\tval-poisson-nloglik:2.475811\n",
        "[1694]\ttrain-poisson-nloglik:2.350584\tval-poisson-nloglik:2.475713\n"
       ]
      },
      {
       "output_type": "stream",
       "stream": "stderr",
       "text": [
        "[1695]\ttrain-poisson-nloglik:2.350442\tval-poisson-nloglik:2.475609\n",
        "[1696]\ttrain-poisson-nloglik:2.350388\tval-poisson-nloglik:2.475546\n"
       ]
      },
      {
       "output_type": "stream",
       "stream": "stderr",
       "text": [
        "[1697]\ttrain-poisson-nloglik:2.350245\tval-poisson-nloglik:2.475444\n",
        "[1698]\ttrain-poisson-nloglik:2.350041\tval-poisson-nloglik:2.475273\n"
       ]
      },
      {
       "output_type": "stream",
       "stream": "stderr",
       "text": [
        "[1699]\ttrain-poisson-nloglik:2.349815\tval-poisson-nloglik:2.475069\n",
        "[1700]\ttrain-poisson-nloglik:2.349755\tval-poisson-nloglik:2.475021\n"
       ]
      },
      {
       "output_type": "stream",
       "stream": "stderr",
       "text": [
        "[1701]\ttrain-poisson-nloglik:2.349574\tval-poisson-nloglik:2.474882\n",
        "[1702]\ttrain-poisson-nloglik:2.349382\tval-poisson-nloglik:2.474715\n"
       ]
      },
      {
       "output_type": "stream",
       "stream": "stderr",
       "text": [
        "[1703]\ttrain-poisson-nloglik:2.349097\tval-poisson-nloglik:2.474443\n",
        "[1704]\ttrain-poisson-nloglik:2.348997\tval-poisson-nloglik:2.474368\n"
       ]
      },
      {
       "output_type": "stream",
       "stream": "stderr",
       "text": [
        "[1705]\ttrain-poisson-nloglik:2.348861\tval-poisson-nloglik:2.474253\n",
        "[1706]\ttrain-poisson-nloglik:2.348811\tval-poisson-nloglik:2.474202\n"
       ]
      },
      {
       "output_type": "stream",
       "stream": "stderr",
       "text": [
        "[1707]\ttrain-poisson-nloglik:2.348669\tval-poisson-nloglik:2.474074\n",
        "[1708]\ttrain-poisson-nloglik:2.348513\tval-poisson-nloglik:2.473934\n"
       ]
      },
      {
       "output_type": "stream",
       "stream": "stderr",
       "text": [
        "[1709]\ttrain-poisson-nloglik:2.348343\tval-poisson-nloglik:2.473816\n",
        "[1710]\ttrain-poisson-nloglik:2.348158\tval-poisson-nloglik:2.473651\n"
       ]
      },
      {
       "output_type": "stream",
       "stream": "stderr",
       "text": [
        "[1711]\ttrain-poisson-nloglik:2.348099\tval-poisson-nloglik:2.473615\n",
        "[1712]\ttrain-poisson-nloglik:2.347897\tval-poisson-nloglik:2.473408\n"
       ]
      },
      {
       "output_type": "stream",
       "stream": "stderr",
       "text": [
        "[1713]\ttrain-poisson-nloglik:2.347767\tval-poisson-nloglik:2.473253\n",
        "[1714]\ttrain-poisson-nloglik:2.347529\tval-poisson-nloglik:2.473114\n"
       ]
      },
      {
       "output_type": "stream",
       "stream": "stderr",
       "text": [
        "[1715]\ttrain-poisson-nloglik:2.347396\tval-poisson-nloglik:2.473019\n",
        "[1716]\ttrain-poisson-nloglik:2.347262\tval-poisson-nloglik:2.472906\n"
       ]
      },
      {
       "output_type": "stream",
       "stream": "stderr",
       "text": [
        "[1717]\ttrain-poisson-nloglik:2.347148\tval-poisson-nloglik:2.472794\n",
        "[1718]\ttrain-poisson-nloglik:2.347039\tval-poisson-nloglik:2.472712\n"
       ]
      },
      {
       "output_type": "stream",
       "stream": "stderr",
       "text": [
        "[1719]\ttrain-poisson-nloglik:2.346969\tval-poisson-nloglik:2.472635\n",
        "[1720]\ttrain-poisson-nloglik:2.346791\tval-poisson-nloglik:2.472505\n"
       ]
      },
      {
       "output_type": "stream",
       "stream": "stderr",
       "text": [
        "[1721]\ttrain-poisson-nloglik:2.346681\tval-poisson-nloglik:2.472428\n",
        "[1722]\ttrain-poisson-nloglik:2.346579\tval-poisson-nloglik:2.472350\n"
       ]
      },
      {
       "output_type": "stream",
       "stream": "stderr",
       "text": [
        "[1723]\ttrain-poisson-nloglik:2.346482\tval-poisson-nloglik:2.472263\n",
        "[1724]\ttrain-poisson-nloglik:2.346387\tval-poisson-nloglik:2.472161\n"
       ]
      },
      {
       "output_type": "stream",
       "stream": "stderr",
       "text": [
        "[1725]\ttrain-poisson-nloglik:2.346250\tval-poisson-nloglik:2.472055\n",
        "[1726]\ttrain-poisson-nloglik:2.346200\tval-poisson-nloglik:2.472009\n"
       ]
      },
      {
       "output_type": "stream",
       "stream": "stderr",
       "text": [
        "[1727]\ttrain-poisson-nloglik:2.346069\tval-poisson-nloglik:2.471880\n",
        "[1728]\ttrain-poisson-nloglik:2.345933\tval-poisson-nloglik:2.471767\n"
       ]
      },
      {
       "output_type": "stream",
       "stream": "stderr",
       "text": [
        "[1729]\ttrain-poisson-nloglik:2.345776\tval-poisson-nloglik:2.471645\n",
        "[1730]\ttrain-poisson-nloglik:2.345641\tval-poisson-nloglik:2.471511\n"
       ]
      },
      {
       "output_type": "stream",
       "stream": "stderr",
       "text": [
        "[1731]\ttrain-poisson-nloglik:2.345527\tval-poisson-nloglik:2.471406\n",
        "[1732]\ttrain-poisson-nloglik:2.345427\tval-poisson-nloglik:2.471305\n"
       ]
      },
      {
       "output_type": "stream",
       "stream": "stderr",
       "text": [
        "[1733]\ttrain-poisson-nloglik:2.345364\tval-poisson-nloglik:2.471235\n",
        "[1734]\ttrain-poisson-nloglik:2.345152\tval-poisson-nloglik:2.471036\n"
       ]
      },
      {
       "output_type": "stream",
       "stream": "stderr",
       "text": [
        "[1735]\ttrain-poisson-nloglik:2.344975\tval-poisson-nloglik:2.470903\n",
        "[1736]\ttrain-poisson-nloglik:2.344795\tval-poisson-nloglik:2.470746\n"
       ]
      },
      {
       "output_type": "stream",
       "stream": "stderr",
       "text": [
        "[1737]\ttrain-poisson-nloglik:2.344685\tval-poisson-nloglik:2.470644\n",
        "[1738]\ttrain-poisson-nloglik:2.344608\tval-poisson-nloglik:2.470560\n"
       ]
      },
      {
       "output_type": "stream",
       "stream": "stderr",
       "text": [
        "[1739]\ttrain-poisson-nloglik:2.344528\tval-poisson-nloglik:2.470486\n",
        "[1740]\ttrain-poisson-nloglik:2.344444\tval-poisson-nloglik:2.470424\n"
       ]
      },
      {
       "output_type": "stream",
       "stream": "stderr",
       "text": [
        "[1741]\ttrain-poisson-nloglik:2.344293\tval-poisson-nloglik:2.470293\n",
        "[1742]\ttrain-poisson-nloglik:2.344076\tval-poisson-nloglik:2.470068\n"
       ]
      },
      {
       "output_type": "stream",
       "stream": "stderr",
       "text": [
        "[1743]\ttrain-poisson-nloglik:2.344012\tval-poisson-nloglik:2.470006\n",
        "[1744]\ttrain-poisson-nloglik:2.343901\tval-poisson-nloglik:2.469920\n"
       ]
      },
      {
       "output_type": "stream",
       "stream": "stderr",
       "text": [
        "[1745]\ttrain-poisson-nloglik:2.343749\tval-poisson-nloglik:2.469764\n",
        "[1746]\ttrain-poisson-nloglik:2.343570\tval-poisson-nloglik:2.469641\n"
       ]
      },
      {
       "output_type": "stream",
       "stream": "stderr",
       "text": [
        "[1747]\ttrain-poisson-nloglik:2.343405\tval-poisson-nloglik:2.469520\n",
        "[1748]\ttrain-poisson-nloglik:2.343325\tval-poisson-nloglik:2.469436\n"
       ]
      },
      {
       "output_type": "stream",
       "stream": "stderr",
       "text": [
        "[1749]\ttrain-poisson-nloglik:2.343217\tval-poisson-nloglik:2.469355\n",
        "[1750]\ttrain-poisson-nloglik:2.343081\tval-poisson-nloglik:2.469225\n"
       ]
      },
      {
       "output_type": "stream",
       "stream": "stderr",
       "text": [
        "[1751]\ttrain-poisson-nloglik:2.342921\tval-poisson-nloglik:2.469086\n",
        "[1752]\ttrain-poisson-nloglik:2.342808\tval-poisson-nloglik:2.469025\n"
       ]
      },
      {
       "output_type": "stream",
       "stream": "stderr",
       "text": [
        "[1753]\ttrain-poisson-nloglik:2.342676\tval-poisson-nloglik:2.468926\n",
        "[1754]\ttrain-poisson-nloglik:2.342599\tval-poisson-nloglik:2.468867\n"
       ]
      },
      {
       "output_type": "stream",
       "stream": "stderr",
       "text": [
        "[1755]\ttrain-poisson-nloglik:2.342353\tval-poisson-nloglik:2.468619\n",
        "[1756]\ttrain-poisson-nloglik:2.342225\tval-poisson-nloglik:2.468500\n"
       ]
      },
      {
       "output_type": "stream",
       "stream": "stderr",
       "text": [
        "[1757]\ttrain-poisson-nloglik:2.342095\tval-poisson-nloglik:2.468386\n",
        "[1758]\ttrain-poisson-nloglik:2.341873\tval-poisson-nloglik:2.468203\n"
       ]
      },
      {
       "output_type": "stream",
       "stream": "stderr",
       "text": [
        "[1759]\ttrain-poisson-nloglik:2.341768\tval-poisson-nloglik:2.468121\n",
        "[1760]\ttrain-poisson-nloglik:2.341585\tval-poisson-nloglik:2.467989\n"
       ]
      },
      {
       "output_type": "stream",
       "stream": "stderr",
       "text": [
        "[1761]\ttrain-poisson-nloglik:2.341440\tval-poisson-nloglik:2.467879\n",
        "[1762]\ttrain-poisson-nloglik:2.341311\tval-poisson-nloglik:2.467742\n"
       ]
      },
      {
       "output_type": "stream",
       "stream": "stderr",
       "text": [
        "[1763]\ttrain-poisson-nloglik:2.341251\tval-poisson-nloglik:2.467681\n",
        "[1764]\ttrain-poisson-nloglik:2.341066\tval-poisson-nloglik:2.467507\n"
       ]
      },
      {
       "output_type": "stream",
       "stream": "stderr",
       "text": [
        "[1765]\ttrain-poisson-nloglik:2.340896\tval-poisson-nloglik:2.467365\n",
        "[1766]\ttrain-poisson-nloglik:2.340707\tval-poisson-nloglik:2.467200\n"
       ]
      },
      {
       "output_type": "stream",
       "stream": "stderr",
       "text": [
        "[1767]\ttrain-poisson-nloglik:2.340531\tval-poisson-nloglik:2.467041\n",
        "[1768]\ttrain-poisson-nloglik:2.340399\tval-poisson-nloglik:2.466908\n"
       ]
      },
      {
       "output_type": "stream",
       "stream": "stderr",
       "text": [
        "[1769]\ttrain-poisson-nloglik:2.340280\tval-poisson-nloglik:2.466820\n",
        "[1770]\ttrain-poisson-nloglik:2.340130\tval-poisson-nloglik:2.466695\n"
       ]
      },
      {
       "output_type": "stream",
       "stream": "stderr",
       "text": [
        "[1771]\ttrain-poisson-nloglik:2.340106\tval-poisson-nloglik:2.466673\n",
        "[1772]\ttrain-poisson-nloglik:2.339892\tval-poisson-nloglik:2.466483\n"
       ]
      },
      {
       "output_type": "stream",
       "stream": "stderr",
       "text": [
        "[1773]\ttrain-poisson-nloglik:2.339745\tval-poisson-nloglik:2.466343\n",
        "[1774]\ttrain-poisson-nloglik:2.339599\tval-poisson-nloglik:2.466205\n"
       ]
      },
      {
       "output_type": "stream",
       "stream": "stderr",
       "text": [
        "[1775]\ttrain-poisson-nloglik:2.339421\tval-poisson-nloglik:2.466057\n",
        "[1776]\ttrain-poisson-nloglik:2.339359\tval-poisson-nloglik:2.466001\n"
       ]
      },
      {
       "output_type": "stream",
       "stream": "stderr",
       "text": [
        "[1777]\ttrain-poisson-nloglik:2.339237\tval-poisson-nloglik:2.465879\n",
        "[1778]\ttrain-poisson-nloglik:2.339097\tval-poisson-nloglik:2.465737\n"
       ]
      },
      {
       "output_type": "stream",
       "stream": "stderr",
       "text": [
        "[1779]\ttrain-poisson-nloglik:2.338933\tval-poisson-nloglik:2.465611\n",
        "[1780]\ttrain-poisson-nloglik:2.338832\tval-poisson-nloglik:2.465503\n"
       ]
      },
      {
       "output_type": "stream",
       "stream": "stderr",
       "text": [
        "[1781]\ttrain-poisson-nloglik:2.338591\tval-poisson-nloglik:2.465291\n",
        "[1782]\ttrain-poisson-nloglik:2.338542\tval-poisson-nloglik:2.465248\n"
       ]
      },
      {
       "output_type": "stream",
       "stream": "stderr",
       "text": [
        "[1783]\ttrain-poisson-nloglik:2.338384\tval-poisson-nloglik:2.465107\n",
        "[1784]\ttrain-poisson-nloglik:2.338239\tval-poisson-nloglik:2.464985\n"
       ]
      },
      {
       "output_type": "stream",
       "stream": "stderr",
       "text": [
        "[1785]\ttrain-poisson-nloglik:2.338168\tval-poisson-nloglik:2.464925\n",
        "[1786]\ttrain-poisson-nloglik:2.338052\tval-poisson-nloglik:2.464833\n"
       ]
      },
      {
       "output_type": "stream",
       "stream": "stderr",
       "text": [
        "[1787]\ttrain-poisson-nloglik:2.337961\tval-poisson-nloglik:2.464736\n",
        "[1788]\ttrain-poisson-nloglik:2.337837\tval-poisson-nloglik:2.464604\n"
       ]
      },
      {
       "output_type": "stream",
       "stream": "stderr",
       "text": [
        "[1789]\ttrain-poisson-nloglik:2.337707\tval-poisson-nloglik:2.464488\n",
        "[1790]\ttrain-poisson-nloglik:2.337660\tval-poisson-nloglik:2.464453\n"
       ]
      },
      {
       "output_type": "stream",
       "stream": "stderr",
       "text": [
        "[1791]\ttrain-poisson-nloglik:2.337523\tval-poisson-nloglik:2.464334\n",
        "[1792]\ttrain-poisson-nloglik:2.337346\tval-poisson-nloglik:2.464179\n"
       ]
      },
      {
       "output_type": "stream",
       "stream": "stderr",
       "text": [
        "[1793]\ttrain-poisson-nloglik:2.337213\tval-poisson-nloglik:2.464073\n",
        "[1794]\ttrain-poisson-nloglik:2.337115\tval-poisson-nloglik:2.463990\n"
       ]
      },
      {
       "output_type": "stream",
       "stream": "stderr",
       "text": [
        "[1795]\ttrain-poisson-nloglik:2.336900\tval-poisson-nloglik:2.463820\n",
        "[1796]\ttrain-poisson-nloglik:2.336778\tval-poisson-nloglik:2.463700\n"
       ]
      },
      {
       "output_type": "stream",
       "stream": "stderr",
       "text": [
        "[1797]\ttrain-poisson-nloglik:2.336680\tval-poisson-nloglik:2.463618\n",
        "[1798]\ttrain-poisson-nloglik:2.336579\tval-poisson-nloglik:2.463537\n"
       ]
      },
      {
       "output_type": "stream",
       "stream": "stderr",
       "text": [
        "[1799]\ttrain-poisson-nloglik:2.336453\tval-poisson-nloglik:2.463429\n",
        "[1800]\ttrain-poisson-nloglik:2.336303\tval-poisson-nloglik:2.463294\n"
       ]
      },
      {
       "output_type": "stream",
       "stream": "stderr",
       "text": [
        "[1801]\ttrain-poisson-nloglik:2.336254\tval-poisson-nloglik:2.463261\n",
        "[1802]\ttrain-poisson-nloglik:2.336136\tval-poisson-nloglik:2.463141\n"
       ]
      },
      {
       "output_type": "stream",
       "stream": "stderr",
       "text": [
        "[1803]\ttrain-poisson-nloglik:2.335979\tval-poisson-nloglik:2.463011\n",
        "[1804]\ttrain-poisson-nloglik:2.335843\tval-poisson-nloglik:2.462914\n"
       ]
      },
      {
       "output_type": "stream",
       "stream": "stderr",
       "text": [
        "[1805]\ttrain-poisson-nloglik:2.335776\tval-poisson-nloglik:2.462857\n",
        "[1806]\ttrain-poisson-nloglik:2.335643\tval-poisson-nloglik:2.462748\n"
       ]
      },
      {
       "output_type": "stream",
       "stream": "stderr",
       "text": [
        "[1807]\ttrain-poisson-nloglik:2.335526\tval-poisson-nloglik:2.462648\n",
        "[1808]\ttrain-poisson-nloglik:2.335348\tval-poisson-nloglik:2.462516\n"
       ]
      },
      {
       "output_type": "stream",
       "stream": "stderr",
       "text": [
        "[1809]\ttrain-poisson-nloglik:2.335194\tval-poisson-nloglik:2.462395\n",
        "[1810]\ttrain-poisson-nloglik:2.335087\tval-poisson-nloglik:2.462294\n"
       ]
      },
      {
       "output_type": "stream",
       "stream": "stderr",
       "text": [
        "[1811]\ttrain-poisson-nloglik:2.334981\tval-poisson-nloglik:2.462207\n",
        "[1812]\ttrain-poisson-nloglik:2.334932\tval-poisson-nloglik:2.462160\n"
       ]
      },
      {
       "output_type": "stream",
       "stream": "stderr",
       "text": [
        "[1813]\ttrain-poisson-nloglik:2.334779\tval-poisson-nloglik:2.462048\n",
        "[1814]\ttrain-poisson-nloglik:2.334694\tval-poisson-nloglik:2.461949\n"
       ]
      },
      {
       "output_type": "stream",
       "stream": "stderr",
       "text": [
        "[1815]\ttrain-poisson-nloglik:2.334585\tval-poisson-nloglik:2.461840\n",
        "[1816]\ttrain-poisson-nloglik:2.334416\tval-poisson-nloglik:2.461701\n"
       ]
      },
      {
       "output_type": "stream",
       "stream": "stderr",
       "text": [
        "[1817]\ttrain-poisson-nloglik:2.334343\tval-poisson-nloglik:2.461648\n",
        "[1818]\ttrain-poisson-nloglik:2.334208\tval-poisson-nloglik:2.461533\n"
       ]
      },
      {
       "output_type": "stream",
       "stream": "stderr",
       "text": [
        "[1819]\ttrain-poisson-nloglik:2.334095\tval-poisson-nloglik:2.461435\n",
        "[1820]\ttrain-poisson-nloglik:2.333936\tval-poisson-nloglik:2.461289\n"
       ]
      },
      {
       "output_type": "stream",
       "stream": "stderr",
       "text": [
        "[1821]\ttrain-poisson-nloglik:2.333789\tval-poisson-nloglik:2.461146\n",
        "[1822]\ttrain-poisson-nloglik:2.333719\tval-poisson-nloglik:2.461082\n"
       ]
      },
      {
       "output_type": "stream",
       "stream": "stderr",
       "text": [
        "[1823]\ttrain-poisson-nloglik:2.333534\tval-poisson-nloglik:2.460933\n",
        "[1824]\ttrain-poisson-nloglik:2.333352\tval-poisson-nloglik:2.460767\n"
       ]
      },
      {
       "output_type": "stream",
       "stream": "stderr",
       "text": [
        "[1825]\ttrain-poisson-nloglik:2.333155\tval-poisson-nloglik:2.460600\n",
        "[1826]\ttrain-poisson-nloglik:2.332990\tval-poisson-nloglik:2.460455\n"
       ]
      },
      {
       "output_type": "stream",
       "stream": "stderr",
       "text": [
        "[1827]\ttrain-poisson-nloglik:2.332919\tval-poisson-nloglik:2.460399\n",
        "[1828]\ttrain-poisson-nloglik:2.332820\tval-poisson-nloglik:2.460322\n"
       ]
      },
      {
       "output_type": "stream",
       "stream": "stderr",
       "text": [
        "[1829]\ttrain-poisson-nloglik:2.332729\tval-poisson-nloglik:2.460234\n",
        "[1830]\ttrain-poisson-nloglik:2.332678\tval-poisson-nloglik:2.460192\n"
       ]
      },
      {
       "output_type": "stream",
       "stream": "stderr",
       "text": [
        "[1831]\ttrain-poisson-nloglik:2.332548\tval-poisson-nloglik:2.460091\n",
        "[1832]\ttrain-poisson-nloglik:2.332452\tval-poisson-nloglik:2.460034\n"
       ]
      },
      {
       "output_type": "stream",
       "stream": "stderr",
       "text": [
        "[1833]\ttrain-poisson-nloglik:2.332298\tval-poisson-nloglik:2.459884\n",
        "[1834]\ttrain-poisson-nloglik:2.332178\tval-poisson-nloglik:2.459782\n"
       ]
      },
      {
       "output_type": "stream",
       "stream": "stderr",
       "text": [
        "[1835]\ttrain-poisson-nloglik:2.332090\tval-poisson-nloglik:2.459729\n",
        "[1836]\ttrain-poisson-nloglik:2.331975\tval-poisson-nloglik:2.459647\n"
       ]
      },
      {
       "output_type": "stream",
       "stream": "stderr",
       "text": [
        "[1837]\ttrain-poisson-nloglik:2.331780\tval-poisson-nloglik:2.459490\n",
        "[1838]\ttrain-poisson-nloglik:2.331606\tval-poisson-nloglik:2.459337\n"
       ]
      },
      {
       "output_type": "stream",
       "stream": "stderr",
       "text": [
        "[1839]\ttrain-poisson-nloglik:2.331503\tval-poisson-nloglik:2.459237\n",
        "[1840]\ttrain-poisson-nloglik:2.331279\tval-poisson-nloglik:2.459028\n"
       ]
      },
      {
       "output_type": "stream",
       "stream": "stderr",
       "text": [
        "[1841]\ttrain-poisson-nloglik:2.331157\tval-poisson-nloglik:2.458917\n",
        "[1842]\ttrain-poisson-nloglik:2.331036\tval-poisson-nloglik:2.458811\n"
       ]
      },
      {
       "output_type": "stream",
       "stream": "stderr",
       "text": [
        "[1843]\ttrain-poisson-nloglik:2.330963\tval-poisson-nloglik:2.458752\n",
        "[1844]\ttrain-poisson-nloglik:2.330931\tval-poisson-nloglik:2.458732\n"
       ]
      },
      {
       "output_type": "stream",
       "stream": "stderr",
       "text": [
        "[1845]\ttrain-poisson-nloglik:2.330899\tval-poisson-nloglik:2.458709\n",
        "[1846]\ttrain-poisson-nloglik:2.330700\tval-poisson-nloglik:2.458537\n"
       ]
      },
      {
       "output_type": "stream",
       "stream": "stderr",
       "text": [
        "[1847]\ttrain-poisson-nloglik:2.330563\tval-poisson-nloglik:2.458408\n",
        "[1848]\ttrain-poisson-nloglik:2.330385\tval-poisson-nloglik:2.458274\n"
       ]
      },
      {
       "output_type": "stream",
       "stream": "stderr",
       "text": [
        "[1849]\ttrain-poisson-nloglik:2.330224\tval-poisson-nloglik:2.458153\n",
        "[1850]\ttrain-poisson-nloglik:2.330146\tval-poisson-nloglik:2.458085\n"
       ]
      },
      {
       "output_type": "stream",
       "stream": "stderr",
       "text": [
        "[1851]\ttrain-poisson-nloglik:2.330026\tval-poisson-nloglik:2.457963\n",
        "[1852]\ttrain-poisson-nloglik:2.329885\tval-poisson-nloglik:2.457837\n"
       ]
      },
      {
       "output_type": "stream",
       "stream": "stderr",
       "text": [
        "[1853]\ttrain-poisson-nloglik:2.329798\tval-poisson-nloglik:2.457752\n",
        "[1854]\ttrain-poisson-nloglik:2.329741\tval-poisson-nloglik:2.457675\n"
       ]
      },
      {
       "output_type": "stream",
       "stream": "stderr",
       "text": [
        "[1855]\ttrain-poisson-nloglik:2.329621\tval-poisson-nloglik:2.457563\n",
        "[1856]\ttrain-poisson-nloglik:2.329535\tval-poisson-nloglik:2.457492\n"
       ]
      },
      {
       "output_type": "stream",
       "stream": "stderr",
       "text": [
        "[1857]\ttrain-poisson-nloglik:2.329427\tval-poisson-nloglik:2.457393\n",
        "[1858]\ttrain-poisson-nloglik:2.329358\tval-poisson-nloglik:2.457339\n"
       ]
      },
      {
       "output_type": "stream",
       "stream": "stderr",
       "text": [
        "[1859]\ttrain-poisson-nloglik:2.329284\tval-poisson-nloglik:2.457285\n",
        "[1860]\ttrain-poisson-nloglik:2.329100\tval-poisson-nloglik:2.457116\n"
       ]
      },
      {
       "output_type": "stream",
       "stream": "stderr",
       "text": [
        "[1861]\ttrain-poisson-nloglik:2.329027\tval-poisson-nloglik:2.457074\n",
        "[1862]\ttrain-poisson-nloglik:2.328857\tval-poisson-nloglik:2.456919\n"
       ]
      },
      {
       "output_type": "stream",
       "stream": "stderr",
       "text": [
        "[1863]\ttrain-poisson-nloglik:2.328752\tval-poisson-nloglik:2.456842\n",
        "[1864]\ttrain-poisson-nloglik:2.328561\tval-poisson-nloglik:2.456687\n"
       ]
      },
      {
       "output_type": "stream",
       "stream": "stderr",
       "text": [
        "[1865]\ttrain-poisson-nloglik:2.328450\tval-poisson-nloglik:2.456608\n",
        "[1866]\ttrain-poisson-nloglik:2.328369\tval-poisson-nloglik:2.456534\n"
       ]
      },
      {
       "output_type": "stream",
       "stream": "stderr",
       "text": [
        "[1867]\ttrain-poisson-nloglik:2.328236\tval-poisson-nloglik:2.456419\n",
        "[1868]\ttrain-poisson-nloglik:2.328017\tval-poisson-nloglik:2.456202\n"
       ]
      },
      {
       "output_type": "stream",
       "stream": "stderr",
       "text": [
        "[1869]\ttrain-poisson-nloglik:2.327938\tval-poisson-nloglik:2.456139\n",
        "[1870]\ttrain-poisson-nloglik:2.327765\tval-poisson-nloglik:2.455994\n"
       ]
      },
      {
       "output_type": "stream",
       "stream": "stderr",
       "text": [
        "[1871]\ttrain-poisson-nloglik:2.327648\tval-poisson-nloglik:2.455921\n",
        "[1872]\ttrain-poisson-nloglik:2.327528\tval-poisson-nloglik:2.455797\n"
       ]
      },
      {
       "output_type": "stream",
       "stream": "stderr",
       "text": [
        "[1873]\ttrain-poisson-nloglik:2.327434\tval-poisson-nloglik:2.455720\n",
        "[1874]\ttrain-poisson-nloglik:2.327292\tval-poisson-nloglik:2.455586\n"
       ]
      },
      {
       "output_type": "stream",
       "stream": "stderr",
       "text": [
        "[1875]\ttrain-poisson-nloglik:2.327196\tval-poisson-nloglik:2.455495\n",
        "[1876]\ttrain-poisson-nloglik:2.327089\tval-poisson-nloglik:2.455393\n"
       ]
      },
      {
       "output_type": "stream",
       "stream": "stderr",
       "text": [
        "[1877]\ttrain-poisson-nloglik:2.326977\tval-poisson-nloglik:2.455318\n",
        "[1878]\ttrain-poisson-nloglik:2.326784\tval-poisson-nloglik:2.455132\n"
       ]
      },
      {
       "output_type": "stream",
       "stream": "stderr",
       "text": [
        "[1879]\ttrain-poisson-nloglik:2.326602\tval-poisson-nloglik:2.454952\n",
        "[1880]\ttrain-poisson-nloglik:2.326504\tval-poisson-nloglik:2.454850\n"
       ]
      },
      {
       "output_type": "stream",
       "stream": "stderr",
       "text": [
        "[1881]\ttrain-poisson-nloglik:2.326453\tval-poisson-nloglik:2.454839\n",
        "[1882]\ttrain-poisson-nloglik:2.326391\tval-poisson-nloglik:2.454776\n"
       ]
      },
      {
       "output_type": "stream",
       "stream": "stderr",
       "text": [
        "[1883]\ttrain-poisson-nloglik:2.326264\tval-poisson-nloglik:2.454652\n",
        "[1884]\ttrain-poisson-nloglik:2.326045\tval-poisson-nloglik:2.454438\n"
       ]
      },
      {
       "output_type": "stream",
       "stream": "stderr",
       "text": [
        "[1885]\ttrain-poisson-nloglik:2.325860\tval-poisson-nloglik:2.454290\n",
        "[1886]\ttrain-poisson-nloglik:2.325746\tval-poisson-nloglik:2.454195\n"
       ]
      },
      {
       "output_type": "stream",
       "stream": "stderr",
       "text": [
        "[1887]\ttrain-poisson-nloglik:2.325656\tval-poisson-nloglik:2.454118\n",
        "[1888]\ttrain-poisson-nloglik:2.325524\tval-poisson-nloglik:2.453996\n"
       ]
      },
      {
       "output_type": "stream",
       "stream": "stderr",
       "text": [
        "[1889]\ttrain-poisson-nloglik:2.325324\tval-poisson-nloglik:2.453816\n",
        "[1890]\ttrain-poisson-nloglik:2.325243\tval-poisson-nloglik:2.453722\n"
       ]
      },
      {
       "output_type": "stream",
       "stream": "stderr",
       "text": [
        "[1891]\ttrain-poisson-nloglik:2.325141\tval-poisson-nloglik:2.453614\n",
        "[1892]\ttrain-poisson-nloglik:2.325045\tval-poisson-nloglik:2.453525\n"
       ]
      },
      {
       "output_type": "stream",
       "stream": "stderr",
       "text": [
        "[1893]\ttrain-poisson-nloglik:2.324904\tval-poisson-nloglik:2.453400\n",
        "[1894]\ttrain-poisson-nloglik:2.324818\tval-poisson-nloglik:2.453315\n"
       ]
      },
      {
       "output_type": "stream",
       "stream": "stderr",
       "text": [
        "[1895]\ttrain-poisson-nloglik:2.324755\tval-poisson-nloglik:2.453271\n",
        "[1896]\ttrain-poisson-nloglik:2.324696\tval-poisson-nloglik:2.453199\n"
       ]
      },
      {
       "output_type": "stream",
       "stream": "stderr",
       "text": [
        "[1897]\ttrain-poisson-nloglik:2.324581\tval-poisson-nloglik:2.453106\n",
        "[1898]\ttrain-poisson-nloglik:2.324526\tval-poisson-nloglik:2.453068\n"
       ]
      },
      {
       "output_type": "stream",
       "stream": "stderr",
       "text": [
        "[1899]\ttrain-poisson-nloglik:2.324364\tval-poisson-nloglik:2.452955\n",
        "[1900]\ttrain-poisson-nloglik:2.324222\tval-poisson-nloglik:2.452835\n"
       ]
      },
      {
       "output_type": "stream",
       "stream": "stderr",
       "text": [
        "[1901]\ttrain-poisson-nloglik:2.324140\tval-poisson-nloglik:2.452748\n",
        "[1902]\ttrain-poisson-nloglik:2.324013\tval-poisson-nloglik:2.452626\n"
       ]
      },
      {
       "output_type": "stream",
       "stream": "stderr",
       "text": [
        "[1903]\ttrain-poisson-nloglik:2.323792\tval-poisson-nloglik:2.452432\n",
        "[1904]\ttrain-poisson-nloglik:2.323701\tval-poisson-nloglik:2.452355\n"
       ]
      },
      {
       "output_type": "stream",
       "stream": "stderr",
       "text": [
        "[1905]\ttrain-poisson-nloglik:2.323614\tval-poisson-nloglik:2.452289\n",
        "[1906]\ttrain-poisson-nloglik:2.323465\tval-poisson-nloglik:2.452131\n"
       ]
      },
      {
       "output_type": "stream",
       "stream": "stderr",
       "text": [
        "[1907]\ttrain-poisson-nloglik:2.323365\tval-poisson-nloglik:2.452059\n",
        "[1908]\ttrain-poisson-nloglik:2.323277\tval-poisson-nloglik:2.451976\n"
       ]
      },
      {
       "output_type": "stream",
       "stream": "stderr",
       "text": [
        "[1909]\ttrain-poisson-nloglik:2.323169\tval-poisson-nloglik:2.451874\n",
        "[1910]\ttrain-poisson-nloglik:2.323093\tval-poisson-nloglik:2.451801\n"
       ]
      },
      {
       "output_type": "stream",
       "stream": "stderr",
       "text": [
        "[1911]\ttrain-poisson-nloglik:2.322892\tval-poisson-nloglik:2.451634\n",
        "[1912]\ttrain-poisson-nloglik:2.322789\tval-poisson-nloglik:2.451554\n"
       ]
      },
      {
       "output_type": "stream",
       "stream": "stderr",
       "text": [
        "[1913]\ttrain-poisson-nloglik:2.322662\tval-poisson-nloglik:2.451438\n",
        "[1914]\ttrain-poisson-nloglik:2.322568\tval-poisson-nloglik:2.451374\n"
       ]
      },
      {
       "output_type": "stream",
       "stream": "stderr",
       "text": [
        "[1915]\ttrain-poisson-nloglik:2.322506\tval-poisson-nloglik:2.451303\n",
        "[1916]\ttrain-poisson-nloglik:2.322403\tval-poisson-nloglik:2.451217\n"
       ]
      },
      {
       "output_type": "stream",
       "stream": "stderr",
       "text": [
        "[1917]\ttrain-poisson-nloglik:2.322239\tval-poisson-nloglik:2.451078\n",
        "[1918]\ttrain-poisson-nloglik:2.322156\tval-poisson-nloglik:2.451011\n"
       ]
      },
      {
       "output_type": "stream",
       "stream": "stderr",
       "text": [
        "[1919]\ttrain-poisson-nloglik:2.322125\tval-poisson-nloglik:2.450991\n",
        "[1920]\ttrain-poisson-nloglik:2.322082\tval-poisson-nloglik:2.450953\n"
       ]
      },
      {
       "output_type": "stream",
       "stream": "stderr",
       "text": [
        "[1921]\ttrain-poisson-nloglik:2.321962\tval-poisson-nloglik:2.450850\n",
        "[1922]\ttrain-poisson-nloglik:2.321787\tval-poisson-nloglik:2.450699\n"
       ]
      },
      {
       "output_type": "stream",
       "stream": "stderr",
       "text": [
        "[1923]\ttrain-poisson-nloglik:2.321707\tval-poisson-nloglik:2.450641\n",
        "[1924]\ttrain-poisson-nloglik:2.321651\tval-poisson-nloglik:2.450597\n"
       ]
      },
      {
       "output_type": "stream",
       "stream": "stderr",
       "text": [
        "[1925]\ttrain-poisson-nloglik:2.321511\tval-poisson-nloglik:2.450488\n",
        "[1926]\ttrain-poisson-nloglik:2.321335\tval-poisson-nloglik:2.450348\n"
       ]
      },
      {
       "output_type": "stream",
       "stream": "stderr",
       "text": [
        "[1927]\ttrain-poisson-nloglik:2.321228\tval-poisson-nloglik:2.450247\n",
        "[1928]\ttrain-poisson-nloglik:2.321167\tval-poisson-nloglik:2.450201\n"
       ]
      },
      {
       "output_type": "stream",
       "stream": "stderr",
       "text": [
        "[1929]\ttrain-poisson-nloglik:2.321089\tval-poisson-nloglik:2.450125\n",
        "[1930]\ttrain-poisson-nloglik:2.320991\tval-poisson-nloglik:2.450050\n"
       ]
      },
      {
       "output_type": "stream",
       "stream": "stderr",
       "text": [
        "[1931]\ttrain-poisson-nloglik:2.320855\tval-poisson-nloglik:2.449937\n",
        "[1932]\ttrain-poisson-nloglik:2.320750\tval-poisson-nloglik:2.449843\n"
       ]
      },
      {
       "output_type": "stream",
       "stream": "stderr",
       "text": [
        "[1933]\ttrain-poisson-nloglik:2.320657\tval-poisson-nloglik:2.449749\n",
        "[1934]\ttrain-poisson-nloglik:2.320599\tval-poisson-nloglik:2.449715\n"
       ]
      },
      {
       "output_type": "stream",
       "stream": "stderr",
       "text": [
        "[1935]\ttrain-poisson-nloglik:2.320513\tval-poisson-nloglik:2.449644\n",
        "[1936]\ttrain-poisson-nloglik:2.320415\tval-poisson-nloglik:2.449574\n"
       ]
      },
      {
       "output_type": "stream",
       "stream": "stderr",
       "text": [
        "[1937]\ttrain-poisson-nloglik:2.320300\tval-poisson-nloglik:2.449466\n",
        "[1938]\ttrain-poisson-nloglik:2.320182\tval-poisson-nloglik:2.449356\n"
       ]
      },
      {
       "output_type": "stream",
       "stream": "stderr",
       "text": [
        "[1939]\ttrain-poisson-nloglik:2.320084\tval-poisson-nloglik:2.449277\n",
        "[1940]\ttrain-poisson-nloglik:2.319950\tval-poisson-nloglik:2.449154\n"
       ]
      },
      {
       "output_type": "stream",
       "stream": "stderr",
       "text": [
        "[1941]\ttrain-poisson-nloglik:2.319860\tval-poisson-nloglik:2.449055\n",
        "[1942]\ttrain-poisson-nloglik:2.319799\tval-poisson-nloglik:2.449001\n"
       ]
      },
      {
       "output_type": "stream",
       "stream": "stderr",
       "text": [
        "[1943]\ttrain-poisson-nloglik:2.319670\tval-poisson-nloglik:2.448908\n",
        "[1944]\ttrain-poisson-nloglik:2.319552\tval-poisson-nloglik:2.448808\n"
       ]
      },
      {
       "output_type": "stream",
       "stream": "stderr",
       "text": [
        "[1945]\ttrain-poisson-nloglik:2.319446\tval-poisson-nloglik:2.448702\n",
        "[1946]\ttrain-poisson-nloglik:2.319308\tval-poisson-nloglik:2.448568\n"
       ]
      },
      {
       "output_type": "stream",
       "stream": "stderr",
       "text": [
        "[1947]\ttrain-poisson-nloglik:2.319201\tval-poisson-nloglik:2.448476\n",
        "[1948]\ttrain-poisson-nloglik:2.319121\tval-poisson-nloglik:2.448413\n"
       ]
      },
      {
       "output_type": "stream",
       "stream": "stderr",
       "text": [
        "[1949]\ttrain-poisson-nloglik:2.318973\tval-poisson-nloglik:2.448293\n",
        "[1950]\ttrain-poisson-nloglik:2.318797\tval-poisson-nloglik:2.448145\n"
       ]
      },
      {
       "output_type": "stream",
       "stream": "stderr",
       "text": [
        "[1951]\ttrain-poisson-nloglik:2.318670\tval-poisson-nloglik:2.448055\n",
        "[1952]\ttrain-poisson-nloglik:2.318547\tval-poisson-nloglik:2.447967\n"
       ]
      },
      {
       "output_type": "stream",
       "stream": "stderr",
       "text": [
        "[1953]\ttrain-poisson-nloglik:2.318424\tval-poisson-nloglik:2.447887\n",
        "[1954]\ttrain-poisson-nloglik:2.318238\tval-poisson-nloglik:2.447706\n"
       ]
      },
      {
       "output_type": "stream",
       "stream": "stderr",
       "text": [
        "[1955]\ttrain-poisson-nloglik:2.318118\tval-poisson-nloglik:2.447606\n",
        "[1956]\ttrain-poisson-nloglik:2.317982\tval-poisson-nloglik:2.447495\n"
       ]
      },
      {
       "output_type": "stream",
       "stream": "stderr",
       "text": [
        "[1957]\ttrain-poisson-nloglik:2.317781\tval-poisson-nloglik:2.447323\n",
        "[1958]\ttrain-poisson-nloglik:2.317706\tval-poisson-nloglik:2.447248\n"
       ]
      },
      {
       "output_type": "stream",
       "stream": "stderr",
       "text": [
        "[1959]\ttrain-poisson-nloglik:2.317527\tval-poisson-nloglik:2.447097\n",
        "[1960]\ttrain-poisson-nloglik:2.317358\tval-poisson-nloglik:2.446943\n"
       ]
      },
      {
       "output_type": "stream",
       "stream": "stderr",
       "text": [
        "[1961]\ttrain-poisson-nloglik:2.317200\tval-poisson-nloglik:2.446798\n",
        "[1962]\ttrain-poisson-nloglik:2.317113\tval-poisson-nloglik:2.446715\n"
       ]
      },
      {
       "output_type": "stream",
       "stream": "stderr",
       "text": [
        "[1963]\ttrain-poisson-nloglik:2.317025\tval-poisson-nloglik:2.446644\n",
        "[1964]\ttrain-poisson-nloglik:2.316869\tval-poisson-nloglik:2.446536\n"
       ]
      },
      {
       "output_type": "stream",
       "stream": "stderr",
       "text": [
        "[1965]\ttrain-poisson-nloglik:2.316654\tval-poisson-nloglik:2.446350\n",
        "[1966]\ttrain-poisson-nloglik:2.316521\tval-poisson-nloglik:2.446232\n"
       ]
      },
      {
       "output_type": "stream",
       "stream": "stderr",
       "text": [
        "[1967]\ttrain-poisson-nloglik:2.316440\tval-poisson-nloglik:2.446167\n",
        "[1968]\ttrain-poisson-nloglik:2.316340\tval-poisson-nloglik:2.446079\n"
       ]
      },
      {
       "output_type": "stream",
       "stream": "stderr",
       "text": [
        "[1969]\ttrain-poisson-nloglik:2.316154\tval-poisson-nloglik:2.445927\n",
        "[1970]\ttrain-poisson-nloglik:2.315967\tval-poisson-nloglik:2.445752\n"
       ]
      },
      {
       "output_type": "stream",
       "stream": "stderr",
       "text": [
        "[1971]\ttrain-poisson-nloglik:2.315826\tval-poisson-nloglik:2.445629\n",
        "[1972]\ttrain-poisson-nloglik:2.315691\tval-poisson-nloglik:2.445528\n"
       ]
      },
      {
       "output_type": "stream",
       "stream": "stderr",
       "text": [
        "[1973]\ttrain-poisson-nloglik:2.315547\tval-poisson-nloglik:2.445417\n",
        "[1974]\ttrain-poisson-nloglik:2.315503\tval-poisson-nloglik:2.445395\n"
       ]
      },
      {
       "output_type": "stream",
       "stream": "stderr",
       "text": [
        "[1975]\ttrain-poisson-nloglik:2.315398\tval-poisson-nloglik:2.445292\n",
        "[1976]\ttrain-poisson-nloglik:2.315284\tval-poisson-nloglik:2.445192\n"
       ]
      },
      {
       "output_type": "stream",
       "stream": "stderr",
       "text": [
        "[1977]\ttrain-poisson-nloglik:2.315098\tval-poisson-nloglik:2.444992\n",
        "[1978]\ttrain-poisson-nloglik:2.314973\tval-poisson-nloglik:2.444863\n"
       ]
      },
      {
       "output_type": "stream",
       "stream": "stderr",
       "text": [
        "[1979]\ttrain-poisson-nloglik:2.314849\tval-poisson-nloglik:2.444756\n",
        "[1980]\ttrain-poisson-nloglik:2.314682\tval-poisson-nloglik:2.444606\n"
       ]
      },
      {
       "output_type": "stream",
       "stream": "stderr",
       "text": [
        "[1981]\ttrain-poisson-nloglik:2.314561\tval-poisson-nloglik:2.444517\n",
        "[1982]\ttrain-poisson-nloglik:2.314421\tval-poisson-nloglik:2.444372\n"
       ]
      },
      {
       "output_type": "stream",
       "stream": "stderr",
       "text": [
        "[1983]\ttrain-poisson-nloglik:2.314275\tval-poisson-nloglik:2.444247\n",
        "[1984]\ttrain-poisson-nloglik:2.314157\tval-poisson-nloglik:2.444147\n"
       ]
      },
      {
       "output_type": "stream",
       "stream": "stderr",
       "text": [
        "[1985]\ttrain-poisson-nloglik:2.314094\tval-poisson-nloglik:2.444082\n",
        "[1986]\ttrain-poisson-nloglik:2.313989\tval-poisson-nloglik:2.443936\n"
       ]
      },
      {
       "output_type": "stream",
       "stream": "stderr",
       "text": [
        "[1987]\ttrain-poisson-nloglik:2.313902\tval-poisson-nloglik:2.443878\n",
        "[1988]\ttrain-poisson-nloglik:2.313839\tval-poisson-nloglik:2.443825\n"
       ]
      },
      {
       "output_type": "stream",
       "stream": "stderr",
       "text": [
        "[1989]\ttrain-poisson-nloglik:2.313681\tval-poisson-nloglik:2.443687\n",
        "[1990]\ttrain-poisson-nloglik:2.313584\tval-poisson-nloglik:2.443616\n"
       ]
      },
      {
       "output_type": "stream",
       "stream": "stderr",
       "text": [
        "[1991]\ttrain-poisson-nloglik:2.313436\tval-poisson-nloglik:2.443481\n",
        "[1992]\ttrain-poisson-nloglik:2.313333\tval-poisson-nloglik:2.443378\n"
       ]
      },
      {
       "output_type": "stream",
       "stream": "stderr",
       "text": [
        "[1993]\ttrain-poisson-nloglik:2.313273\tval-poisson-nloglik:2.443347\n",
        "[1994]\ttrain-poisson-nloglik:2.313212\tval-poisson-nloglik:2.443305\n"
       ]
      },
      {
       "output_type": "stream",
       "stream": "stderr",
       "text": [
        "[1995]\ttrain-poisson-nloglik:2.313122\tval-poisson-nloglik:2.443260\n",
        "[1996]\ttrain-poisson-nloglik:2.312989\tval-poisson-nloglik:2.443142\n"
       ]
      },
      {
       "output_type": "stream",
       "stream": "stderr",
       "text": [
        "[1997]\ttrain-poisson-nloglik:2.312863\tval-poisson-nloglik:2.443038\n",
        "[1998]\ttrain-poisson-nloglik:2.312703\tval-poisson-nloglik:2.442899\n"
       ]
      },
      {
       "output_type": "stream",
       "stream": "stderr",
       "text": [
        "[1999]\ttrain-poisson-nloglik:2.312557\tval-poisson-nloglik:2.442797\n",
        "[2000]\ttrain-poisson-nloglik:2.312370\tval-poisson-nloglik:2.442626\n"
       ]
      },
      {
       "output_type": "stream",
       "stream": "stderr",
       "text": [
        "[2001]\ttrain-poisson-nloglik:2.312228\tval-poisson-nloglik:2.442518\n",
        "[2002]\ttrain-poisson-nloglik:2.312063\tval-poisson-nloglik:2.442359\n"
       ]
      },
      {
       "output_type": "stream",
       "stream": "stderr",
       "text": [
        "[2003]\ttrain-poisson-nloglik:2.311991\tval-poisson-nloglik:2.442311\n",
        "[2004]\ttrain-poisson-nloglik:2.311839\tval-poisson-nloglik:2.442192\n"
       ]
      },
      {
       "output_type": "stream",
       "stream": "stderr",
       "text": [
        "[2005]\ttrain-poisson-nloglik:2.311748\tval-poisson-nloglik:2.442111\n",
        "[2006]\ttrain-poisson-nloglik:2.311661\tval-poisson-nloglik:2.442039\n"
       ]
      },
      {
       "output_type": "stream",
       "stream": "stderr",
       "text": [
        "[2007]\ttrain-poisson-nloglik:2.311545\tval-poisson-nloglik:2.441944\n",
        "[2008]\ttrain-poisson-nloglik:2.311441\tval-poisson-nloglik:2.441872\n"
       ]
      },
      {
       "output_type": "stream",
       "stream": "stderr",
       "text": [
        "[2009]\ttrain-poisson-nloglik:2.311355\tval-poisson-nloglik:2.441797\n",
        "[2010]\ttrain-poisson-nloglik:2.311264\tval-poisson-nloglik:2.441716\n"
       ]
      },
      {
       "output_type": "stream",
       "stream": "stderr",
       "text": [
        "[2011]\ttrain-poisson-nloglik:2.311157\tval-poisson-nloglik:2.441647\n",
        "[2012]\ttrain-poisson-nloglik:2.311123\tval-poisson-nloglik:2.441609\n"
       ]
      },
      {
       "output_type": "stream",
       "stream": "stderr",
       "text": [
        "[2013]\ttrain-poisson-nloglik:2.310913\tval-poisson-nloglik:2.441425\n",
        "[2014]\ttrain-poisson-nloglik:2.310863\tval-poisson-nloglik:2.441382\n"
       ]
      },
      {
       "output_type": "stream",
       "stream": "stderr",
       "text": [
        "[2015]\ttrain-poisson-nloglik:2.310766\tval-poisson-nloglik:2.441295\n",
        "[2016]\ttrain-poisson-nloglik:2.310653\tval-poisson-nloglik:2.441197\n"
       ]
      },
      {
       "output_type": "stream",
       "stream": "stderr",
       "text": [
        "[2017]\ttrain-poisson-nloglik:2.310538\tval-poisson-nloglik:2.441064\n",
        "[2018]\ttrain-poisson-nloglik:2.310410\tval-poisson-nloglik:2.440963\n"
       ]
      },
      {
       "output_type": "stream",
       "stream": "stderr",
       "text": [
        "[2019]\ttrain-poisson-nloglik:2.310252\tval-poisson-nloglik:2.440812\n",
        "[2020]\ttrain-poisson-nloglik:2.310174\tval-poisson-nloglik:2.440740\n"
       ]
      },
      {
       "output_type": "stream",
       "stream": "stderr",
       "text": [
        "[2021]\ttrain-poisson-nloglik:2.310086\tval-poisson-nloglik:2.440655\n",
        "[2022]\ttrain-poisson-nloglik:2.310026\tval-poisson-nloglik:2.440615\n"
       ]
      },
      {
       "output_type": "stream",
       "stream": "stderr",
       "text": [
        "[2023]\ttrain-poisson-nloglik:2.309964\tval-poisson-nloglik:2.440576\n",
        "[2024]\ttrain-poisson-nloglik:2.309921\tval-poisson-nloglik:2.440552\n"
       ]
      },
      {
       "output_type": "stream",
       "stream": "stderr",
       "text": [
        "[2025]\ttrain-poisson-nloglik:2.309837\tval-poisson-nloglik:2.440504\n",
        "[2026]\ttrain-poisson-nloglik:2.309804\tval-poisson-nloglik:2.440453\n"
       ]
      },
      {
       "output_type": "stream",
       "stream": "stderr",
       "text": [
        "[2027]\ttrain-poisson-nloglik:2.309635\tval-poisson-nloglik:2.440337\n",
        "[2028]\ttrain-poisson-nloglik:2.309510\tval-poisson-nloglik:2.440244\n"
       ]
      },
      {
       "output_type": "stream",
       "stream": "stderr",
       "text": [
        "[2029]\ttrain-poisson-nloglik:2.309471\tval-poisson-nloglik:2.440227\n",
        "[2030]\ttrain-poisson-nloglik:2.309363\tval-poisson-nloglik:2.440141\n"
       ]
      },
      {
       "output_type": "stream",
       "stream": "stderr",
       "text": [
        "[2031]\ttrain-poisson-nloglik:2.309229\tval-poisson-nloglik:2.440027\n",
        "[2032]\ttrain-poisson-nloglik:2.309146\tval-poisson-nloglik:2.439964\n"
       ]
      },
      {
       "output_type": "stream",
       "stream": "stderr",
       "text": [
        "[2033]\ttrain-poisson-nloglik:2.309059\tval-poisson-nloglik:2.439878\n",
        "[2034]\ttrain-poisson-nloglik:2.308935\tval-poisson-nloglik:2.439763\n"
       ]
      },
      {
       "output_type": "stream",
       "stream": "stderr",
       "text": [
        "[2035]\ttrain-poisson-nloglik:2.308841\tval-poisson-nloglik:2.439674\n",
        "[2036]\ttrain-poisson-nloglik:2.308667\tval-poisson-nloglik:2.439536\n"
       ]
      },
      {
       "output_type": "stream",
       "stream": "stderr",
       "text": [
        "[2037]\ttrain-poisson-nloglik:2.308540\tval-poisson-nloglik:2.439422\n",
        "[2038]\ttrain-poisson-nloglik:2.308468\tval-poisson-nloglik:2.439364\n"
       ]
      },
      {
       "output_type": "stream",
       "stream": "stderr",
       "text": [
        "[2039]\ttrain-poisson-nloglik:2.308332\tval-poisson-nloglik:2.439258\n",
        "[2040]\ttrain-poisson-nloglik:2.308268\tval-poisson-nloglik:2.439212\n"
       ]
      },
      {
       "output_type": "stream",
       "stream": "stderr",
       "text": [
        "[2041]\ttrain-poisson-nloglik:2.308209\tval-poisson-nloglik:2.439169\n",
        "[2042]\ttrain-poisson-nloglik:2.308148\tval-poisson-nloglik:2.439111\n"
       ]
      },
      {
       "output_type": "stream",
       "stream": "stderr",
       "text": [
        "[2043]\ttrain-poisson-nloglik:2.308043\tval-poisson-nloglik:2.439014\n",
        "[2044]\ttrain-poisson-nloglik:2.307966\tval-poisson-nloglik:2.438945\n"
       ]
      },
      {
       "output_type": "stream",
       "stream": "stderr",
       "text": [
        "[2045]\ttrain-poisson-nloglik:2.307822\tval-poisson-nloglik:2.438816\n",
        "[2046]\ttrain-poisson-nloglik:2.307685\tval-poisson-nloglik:2.438709\n"
       ]
      },
      {
       "output_type": "stream",
       "stream": "stderr",
       "text": [
        "[2047]\ttrain-poisson-nloglik:2.307512\tval-poisson-nloglik:2.438577\n",
        "[2048]\ttrain-poisson-nloglik:2.307448\tval-poisson-nloglik:2.438524\n"
       ]
      },
      {
       "output_type": "stream",
       "stream": "stderr",
       "text": [
        "[2049]\ttrain-poisson-nloglik:2.307340\tval-poisson-nloglik:2.438418\n",
        "[2050]\ttrain-poisson-nloglik:2.307259\tval-poisson-nloglik:2.438353\n"
       ]
      },
      {
       "output_type": "stream",
       "stream": "stderr",
       "text": [
        "[2051]\ttrain-poisson-nloglik:2.307154\tval-poisson-nloglik:2.438253\n",
        "[2052]\ttrain-poisson-nloglik:2.307058\tval-poisson-nloglik:2.438162\n"
       ]
      },
      {
       "output_type": "stream",
       "stream": "stderr",
       "text": [
        "[2053]\ttrain-poisson-nloglik:2.306987\tval-poisson-nloglik:2.438091\n",
        "[2054]\ttrain-poisson-nloglik:2.306927\tval-poisson-nloglik:2.438015\n"
       ]
      },
      {
       "output_type": "stream",
       "stream": "stderr",
       "text": [
        "[2055]\ttrain-poisson-nloglik:2.306757\tval-poisson-nloglik:2.437847\n",
        "[2056]\ttrain-poisson-nloglik:2.306587\tval-poisson-nloglik:2.437693\n"
       ]
      },
      {
       "output_type": "stream",
       "stream": "stderr",
       "text": [
        "[2057]\ttrain-poisson-nloglik:2.306531\tval-poisson-nloglik:2.437643\n",
        "[2058]\ttrain-poisson-nloglik:2.306411\tval-poisson-nloglik:2.437538\n"
       ]
      },
      {
       "output_type": "stream",
       "stream": "stderr",
       "text": [
        "[2059]\ttrain-poisson-nloglik:2.306340\tval-poisson-nloglik:2.437474\n",
        "[2060]\ttrain-poisson-nloglik:2.306257\tval-poisson-nloglik:2.437385\n"
       ]
      },
      {
       "output_type": "stream",
       "stream": "stderr",
       "text": [
        "[2061]\ttrain-poisson-nloglik:2.306192\tval-poisson-nloglik:2.437324\n",
        "[2062]\ttrain-poisson-nloglik:2.306066\tval-poisson-nloglik:2.437191\n"
       ]
      },
      {
       "output_type": "stream",
       "stream": "stderr",
       "text": [
        "[2063]\ttrain-poisson-nloglik:2.305918\tval-poisson-nloglik:2.437061\n",
        "[2064]\ttrain-poisson-nloglik:2.305825\tval-poisson-nloglik:2.436980\n"
       ]
      },
      {
       "output_type": "stream",
       "stream": "stderr",
       "text": [
        "[2065]\ttrain-poisson-nloglik:2.305607\tval-poisson-nloglik:2.436775\n",
        "[2066]\ttrain-poisson-nloglik:2.305538\tval-poisson-nloglik:2.436727\n"
       ]
      },
      {
       "output_type": "stream",
       "stream": "stderr",
       "text": [
        "[2067]\ttrain-poisson-nloglik:2.305434\tval-poisson-nloglik:2.436624\n",
        "[2068]\ttrain-poisson-nloglik:2.305314\tval-poisson-nloglik:2.436532\n"
       ]
      },
      {
       "output_type": "stream",
       "stream": "stderr",
       "text": [
        "[2069]\ttrain-poisson-nloglik:2.305175\tval-poisson-nloglik:2.436420\n",
        "[2070]\ttrain-poisson-nloglik:2.305120\tval-poisson-nloglik:2.436376\n"
       ]
      },
      {
       "output_type": "stream",
       "stream": "stderr",
       "text": [
        "[2071]\ttrain-poisson-nloglik:2.305051\tval-poisson-nloglik:2.436321\n",
        "[2072]\ttrain-poisson-nloglik:2.304965\tval-poisson-nloglik:2.436241\n"
       ]
      },
      {
       "output_type": "stream",
       "stream": "stderr",
       "text": [
        "[2073]\ttrain-poisson-nloglik:2.304892\tval-poisson-nloglik:2.436192\n",
        "[2074]\ttrain-poisson-nloglik:2.304822\tval-poisson-nloglik:2.436139\n"
       ]
      },
      {
       "output_type": "stream",
       "stream": "stderr",
       "text": [
        "[2075]\ttrain-poisson-nloglik:2.304675\tval-poisson-nloglik:2.436028\n",
        "[2076]\ttrain-poisson-nloglik:2.304571\tval-poisson-nloglik:2.435941\n"
       ]
      },
      {
       "output_type": "stream",
       "stream": "stderr",
       "text": [
        "[2077]\ttrain-poisson-nloglik:2.304432\tval-poisson-nloglik:2.435820\n",
        "[2078]\ttrain-poisson-nloglik:2.304289\tval-poisson-nloglik:2.435709\n"
       ]
      },
      {
       "output_type": "stream",
       "stream": "stderr",
       "text": [
        "[2079]\ttrain-poisson-nloglik:2.304168\tval-poisson-nloglik:2.435613\n",
        "[2080]\ttrain-poisson-nloglik:2.304083\tval-poisson-nloglik:2.435537\n"
       ]
      },
      {
       "output_type": "stream",
       "stream": "stderr",
       "text": [
        "[2081]\ttrain-poisson-nloglik:2.303951\tval-poisson-nloglik:2.435431\n",
        "[2082]\ttrain-poisson-nloglik:2.303888\tval-poisson-nloglik:2.435352\n"
       ]
      },
      {
       "output_type": "stream",
       "stream": "stderr",
       "text": [
        "[2083]\ttrain-poisson-nloglik:2.303807\tval-poisson-nloglik:2.435282\n",
        "[2084]\ttrain-poisson-nloglik:2.303666\tval-poisson-nloglik:2.435163\n"
       ]
      },
      {
       "output_type": "stream",
       "stream": "stderr",
       "text": [
        "[2085]\ttrain-poisson-nloglik:2.303582\tval-poisson-nloglik:2.435093\n",
        "[2086]\ttrain-poisson-nloglik:2.303530\tval-poisson-nloglik:2.435053\n"
       ]
      },
      {
       "output_type": "stream",
       "stream": "stderr",
       "text": [
        "[2087]\ttrain-poisson-nloglik:2.303422\tval-poisson-nloglik:2.434955\n",
        "[2088]\ttrain-poisson-nloglik:2.303291\tval-poisson-nloglik:2.434866\n"
       ]
      },
      {
       "output_type": "stream",
       "stream": "stderr",
       "text": [
        "[2089]\ttrain-poisson-nloglik:2.303180\tval-poisson-nloglik:2.434773\n",
        "[2090]\ttrain-poisson-nloglik:2.303057\tval-poisson-nloglik:2.434662\n"
       ]
      },
      {
       "output_type": "stream",
       "stream": "stderr",
       "text": [
        "[2091]\ttrain-poisson-nloglik:2.302974\tval-poisson-nloglik:2.434572\n",
        "[2092]\ttrain-poisson-nloglik:2.302817\tval-poisson-nloglik:2.434454\n"
       ]
      },
      {
       "output_type": "stream",
       "stream": "stderr",
       "text": [
        "[2093]\ttrain-poisson-nloglik:2.302788\tval-poisson-nloglik:2.434437\n",
        "[2094]\ttrain-poisson-nloglik:2.302661\tval-poisson-nloglik:2.434324\n"
       ]
      },
      {
       "output_type": "stream",
       "stream": "stderr",
       "text": [
        "[2095]\ttrain-poisson-nloglik:2.302560\tval-poisson-nloglik:2.434206\n",
        "[2096]\ttrain-poisson-nloglik:2.302447\tval-poisson-nloglik:2.434114\n"
       ]
      },
      {
       "output_type": "stream",
       "stream": "stderr",
       "text": [
        "[2097]\ttrain-poisson-nloglik:2.302301\tval-poisson-nloglik:2.433990\n",
        "[2098]\ttrain-poisson-nloglik:2.302194\tval-poisson-nloglik:2.433879\n"
       ]
      },
      {
       "output_type": "stream",
       "stream": "stderr",
       "text": [
        "[2099]\ttrain-poisson-nloglik:2.302071\tval-poisson-nloglik:2.433771\n",
        "[2100]\ttrain-poisson-nloglik:2.301938\tval-poisson-nloglik:2.433656\n"
       ]
      },
      {
       "output_type": "stream",
       "stream": "stderr",
       "text": [
        "[2101]\ttrain-poisson-nloglik:2.301837\tval-poisson-nloglik:2.433555\n",
        "[2102]\ttrain-poisson-nloglik:2.301744\tval-poisson-nloglik:2.433456\n"
       ]
      },
      {
       "output_type": "stream",
       "stream": "stderr",
       "text": [
        "[2103]\ttrain-poisson-nloglik:2.301634\tval-poisson-nloglik:2.433381\n",
        "[2104]\ttrain-poisson-nloglik:2.301515\tval-poisson-nloglik:2.433274\n"
       ]
      },
      {
       "output_type": "stream",
       "stream": "stderr",
       "text": [
        "[2105]\ttrain-poisson-nloglik:2.301400\tval-poisson-nloglik:2.433176\n",
        "[2106]\ttrain-poisson-nloglik:2.301344\tval-poisson-nloglik:2.433127\n"
       ]
      },
      {
       "output_type": "stream",
       "stream": "stderr",
       "text": [
        "[2107]\ttrain-poisson-nloglik:2.301294\tval-poisson-nloglik:2.433098\n",
        "[2108]\ttrain-poisson-nloglik:2.301091\tval-poisson-nloglik:2.432950\n"
       ]
      },
      {
       "output_type": "stream",
       "stream": "stderr",
       "text": [
        "[2109]\ttrain-poisson-nloglik:2.300910\tval-poisson-nloglik:2.432811\n",
        "[2110]\ttrain-poisson-nloglik:2.300844\tval-poisson-nloglik:2.432742\n"
       ]
      },
      {
       "output_type": "stream",
       "stream": "stderr",
       "text": [
        "[2111]\ttrain-poisson-nloglik:2.300747\tval-poisson-nloglik:2.432624\n",
        "[2112]\ttrain-poisson-nloglik:2.300692\tval-poisson-nloglik:2.432589\n"
       ]
      },
      {
       "output_type": "stream",
       "stream": "stderr",
       "text": [
        "[2113]\ttrain-poisson-nloglik:2.300574\tval-poisson-nloglik:2.432511\n",
        "[2114]\ttrain-poisson-nloglik:2.300493\tval-poisson-nloglik:2.432434\n"
       ]
      },
      {
       "output_type": "stream",
       "stream": "stderr",
       "text": [
        "[2115]\ttrain-poisson-nloglik:2.300307\tval-poisson-nloglik:2.432285\n",
        "[2116]\ttrain-poisson-nloglik:2.300210\tval-poisson-nloglik:2.432207\n"
       ]
      },
      {
       "output_type": "stream",
       "stream": "stderr",
       "text": [
        "[2117]\ttrain-poisson-nloglik:2.300058\tval-poisson-nloglik:2.432056\n",
        "[2118]\ttrain-poisson-nloglik:2.299943\tval-poisson-nloglik:2.431950\n"
       ]
      },
      {
       "output_type": "stream",
       "stream": "stderr",
       "text": [
        "[2119]\ttrain-poisson-nloglik:2.299774\tval-poisson-nloglik:2.431817\n",
        "[2120]\ttrain-poisson-nloglik:2.299696\tval-poisson-nloglik:2.431765\n"
       ]
      },
      {
       "output_type": "stream",
       "stream": "stderr",
       "text": [
        "[2121]\ttrain-poisson-nloglik:2.299573\tval-poisson-nloglik:2.431659\n",
        "[2122]\ttrain-poisson-nloglik:2.299453\tval-poisson-nloglik:2.431545\n"
       ]
      },
      {
       "output_type": "stream",
       "stream": "stderr",
       "text": [
        "[2123]\ttrain-poisson-nloglik:2.299299\tval-poisson-nloglik:2.431422\n",
        "[2124]\ttrain-poisson-nloglik:2.299202\tval-poisson-nloglik:2.431347\n"
       ]
      },
      {
       "output_type": "stream",
       "stream": "stderr",
       "text": [
        "[2125]\ttrain-poisson-nloglik:2.299085\tval-poisson-nloglik:2.431271\n",
        "[2126]\ttrain-poisson-nloglik:2.299003\tval-poisson-nloglik:2.431175\n"
       ]
      },
      {
       "output_type": "stream",
       "stream": "stderr",
       "text": [
        "[2127]\ttrain-poisson-nloglik:2.298956\tval-poisson-nloglik:2.431137\n",
        "[2128]\ttrain-poisson-nloglik:2.298820\tval-poisson-nloglik:2.431031\n"
       ]
      },
      {
       "output_type": "stream",
       "stream": "stderr",
       "text": [
        "[2129]\ttrain-poisson-nloglik:2.298675\tval-poisson-nloglik:2.430916\n",
        "[2130]\ttrain-poisson-nloglik:2.298614\tval-poisson-nloglik:2.430858\n"
       ]
      },
      {
       "output_type": "stream",
       "stream": "stderr",
       "text": [
        "[2131]\ttrain-poisson-nloglik:2.298514\tval-poisson-nloglik:2.430797\n",
        "[2132]\ttrain-poisson-nloglik:2.298421\tval-poisson-nloglik:2.430715\n"
       ]
      },
      {
       "output_type": "stream",
       "stream": "stderr",
       "text": [
        "[2133]\ttrain-poisson-nloglik:2.298279\tval-poisson-nloglik:2.430601\n",
        "[2134]\ttrain-poisson-nloglik:2.298206\tval-poisson-nloglik:2.430545\n"
       ]
      },
      {
       "output_type": "stream",
       "stream": "stderr",
       "text": [
        "[2135]\ttrain-poisson-nloglik:2.298087\tval-poisson-nloglik:2.430446\n",
        "[2136]\ttrain-poisson-nloglik:2.297991\tval-poisson-nloglik:2.430356\n"
       ]
      },
      {
       "output_type": "stream",
       "stream": "stderr",
       "text": [
        "[2137]\ttrain-poisson-nloglik:2.297938\tval-poisson-nloglik:2.430301\n",
        "[2138]\ttrain-poisson-nloglik:2.297812\tval-poisson-nloglik:2.430185\n"
       ]
      },
      {
       "output_type": "stream",
       "stream": "stderr",
       "text": [
        "[2139]\ttrain-poisson-nloglik:2.297738\tval-poisson-nloglik:2.430124\n",
        "[2140]\ttrain-poisson-nloglik:2.297611\tval-poisson-nloglik:2.430020\n"
       ]
      },
      {
       "output_type": "stream",
       "stream": "stderr",
       "text": [
        "[2141]\ttrain-poisson-nloglik:2.297487\tval-poisson-nloglik:2.429927\n",
        "[2142]\ttrain-poisson-nloglik:2.297383\tval-poisson-nloglik:2.429835\n"
       ]
      },
      {
       "output_type": "stream",
       "stream": "stderr",
       "text": [
        "[2143]\ttrain-poisson-nloglik:2.297278\tval-poisson-nloglik:2.429747\n",
        "[2144]\ttrain-poisson-nloglik:2.297124\tval-poisson-nloglik:2.429609\n"
       ]
      },
      {
       "output_type": "stream",
       "stream": "stderr",
       "text": [
        "[2145]\ttrain-poisson-nloglik:2.297035\tval-poisson-nloglik:2.429540\n",
        "[2146]\ttrain-poisson-nloglik:2.296901\tval-poisson-nloglik:2.429386\n"
       ]
      },
      {
       "output_type": "stream",
       "stream": "stderr",
       "text": [
        "[2147]\ttrain-poisson-nloglik:2.296792\tval-poisson-nloglik:2.429305\n",
        "[2148]\ttrain-poisson-nloglik:2.296762\tval-poisson-nloglik:2.429279\n"
       ]
      },
      {
       "output_type": "stream",
       "stream": "stderr",
       "text": [
        "[2149]\ttrain-poisson-nloglik:2.296672\tval-poisson-nloglik:2.429201\n",
        "[2150]\ttrain-poisson-nloglik:2.296626\tval-poisson-nloglik:2.429181\n"
       ]
      },
      {
       "output_type": "stream",
       "stream": "stderr",
       "text": [
        "[2151]\ttrain-poisson-nloglik:2.296562\tval-poisson-nloglik:2.429123\n",
        "[2152]\ttrain-poisson-nloglik:2.296395\tval-poisson-nloglik:2.428981\n"
       ]
      },
      {
       "output_type": "stream",
       "stream": "stderr",
       "text": [
        "[2153]\ttrain-poisson-nloglik:2.296314\tval-poisson-nloglik:2.428917\n",
        "[2154]\ttrain-poisson-nloglik:2.296214\tval-poisson-nloglik:2.428828\n"
       ]
      },
      {
       "output_type": "stream",
       "stream": "stderr",
       "text": [
        "[2155]\ttrain-poisson-nloglik:2.296069\tval-poisson-nloglik:2.428724\n",
        "[2156]\ttrain-poisson-nloglik:2.295980\tval-poisson-nloglik:2.428659\n"
       ]
      },
      {
       "output_type": "stream",
       "stream": "stderr",
       "text": [
        "[2157]\ttrain-poisson-nloglik:2.295824\tval-poisson-nloglik:2.428528\n",
        "[2158]\ttrain-poisson-nloglik:2.295725\tval-poisson-nloglik:2.428446\n"
       ]
      },
      {
       "output_type": "stream",
       "stream": "stderr",
       "text": [
        "[2159]\ttrain-poisson-nloglik:2.295669\tval-poisson-nloglik:2.428397\n",
        "[2160]\ttrain-poisson-nloglik:2.295551\tval-poisson-nloglik:2.428292\n"
       ]
      },
      {
       "output_type": "stream",
       "stream": "stderr",
       "text": [
        "[2161]\ttrain-poisson-nloglik:2.295493\tval-poisson-nloglik:2.428246\n",
        "[2162]\ttrain-poisson-nloglik:2.295437\tval-poisson-nloglik:2.428192\n"
       ]
      },
      {
       "output_type": "stream",
       "stream": "stderr",
       "text": [
        "[2163]\ttrain-poisson-nloglik:2.295371\tval-poisson-nloglik:2.428161\n",
        "[2164]\ttrain-poisson-nloglik:2.295268\tval-poisson-nloglik:2.428079\n"
       ]
      },
      {
       "output_type": "stream",
       "stream": "stderr",
       "text": [
        "[2165]\ttrain-poisson-nloglik:2.295184\tval-poisson-nloglik:2.428018\n",
        "[2166]\ttrain-poisson-nloglik:2.295124\tval-poisson-nloglik:2.427964\n"
       ]
      },
      {
       "output_type": "stream",
       "stream": "stderr",
       "text": [
        "[2167]\ttrain-poisson-nloglik:2.295010\tval-poisson-nloglik:2.427875\n",
        "[2168]\ttrain-poisson-nloglik:2.294892\tval-poisson-nloglik:2.427778\n"
       ]
      },
      {
       "output_type": "stream",
       "stream": "stderr",
       "text": [
        "[2169]\ttrain-poisson-nloglik:2.294794\tval-poisson-nloglik:2.427692\n",
        "[2170]\ttrain-poisson-nloglik:2.294757\tval-poisson-nloglik:2.427670\n"
       ]
      },
      {
       "output_type": "stream",
       "stream": "stderr",
       "text": [
        "[2171]\ttrain-poisson-nloglik:2.294675\tval-poisson-nloglik:2.427603\n",
        "[2172]\ttrain-poisson-nloglik:2.294529\tval-poisson-nloglik:2.427481\n"
       ]
      },
      {
       "output_type": "stream",
       "stream": "stderr",
       "text": [
        "[2173]\ttrain-poisson-nloglik:2.294438\tval-poisson-nloglik:2.427411\n",
        "[2174]\ttrain-poisson-nloglik:2.294302\tval-poisson-nloglik:2.427294\n"
       ]
      },
      {
       "output_type": "stream",
       "stream": "stderr",
       "text": [
        "[2175]\ttrain-poisson-nloglik:2.294195\tval-poisson-nloglik:2.427187\n",
        "[2176]\ttrain-poisson-nloglik:2.294144\tval-poisson-nloglik:2.427143\n"
       ]
      },
      {
       "output_type": "stream",
       "stream": "stderr",
       "text": [
        "[2177]\ttrain-poisson-nloglik:2.294011\tval-poisson-nloglik:2.427023\n",
        "[2178]\ttrain-poisson-nloglik:2.293867\tval-poisson-nloglik:2.426908\n"
       ]
      },
      {
       "output_type": "stream",
       "stream": "stderr",
       "text": [
        "[2179]\ttrain-poisson-nloglik:2.293721\tval-poisson-nloglik:2.426771\n",
        "[2180]\ttrain-poisson-nloglik:2.293674\tval-poisson-nloglik:2.426719\n"
       ]
      },
      {
       "output_type": "stream",
       "stream": "stderr",
       "text": [
        "[2181]\ttrain-poisson-nloglik:2.293599\tval-poisson-nloglik:2.426659\n",
        "[2182]\ttrain-poisson-nloglik:2.293513\tval-poisson-nloglik:2.426567\n"
       ]
      },
      {
       "output_type": "stream",
       "stream": "stderr",
       "text": [
        "[2183]\ttrain-poisson-nloglik:2.293370\tval-poisson-nloglik:2.426442\n",
        "[2184]\ttrain-poisson-nloglik:2.293273\tval-poisson-nloglik:2.426367\n"
       ]
      },
      {
       "output_type": "stream",
       "stream": "stderr",
       "text": [
        "[2185]\ttrain-poisson-nloglik:2.293188\tval-poisson-nloglik:2.426315\n",
        "[2186]\ttrain-poisson-nloglik:2.293074\tval-poisson-nloglik:2.426244\n"
       ]
      },
      {
       "output_type": "stream",
       "stream": "stderr",
       "text": [
        "[2187]\ttrain-poisson-nloglik:2.292950\tval-poisson-nloglik:2.426154\n",
        "[2188]\ttrain-poisson-nloglik:2.292858\tval-poisson-nloglik:2.426106\n"
       ]
      },
      {
       "output_type": "stream",
       "stream": "stderr",
       "text": [
        "[2189]\ttrain-poisson-nloglik:2.292746\tval-poisson-nloglik:2.425974\n",
        "[2190]\ttrain-poisson-nloglik:2.292660\tval-poisson-nloglik:2.425898\n"
       ]
      },
      {
       "output_type": "stream",
       "stream": "stderr",
       "text": [
        "[2191]\ttrain-poisson-nloglik:2.292589\tval-poisson-nloglik:2.425819\n",
        "[2192]\ttrain-poisson-nloglik:2.292436\tval-poisson-nloglik:2.425693\n"
       ]
      },
      {
       "output_type": "stream",
       "stream": "stderr",
       "text": [
        "[2193]\ttrain-poisson-nloglik:2.292336\tval-poisson-nloglik:2.425616\n",
        "[2194]\ttrain-poisson-nloglik:2.292259\tval-poisson-nloglik:2.425544\n"
       ]
      },
      {
       "output_type": "stream",
       "stream": "stderr",
       "text": [
        "[2195]\ttrain-poisson-nloglik:2.292133\tval-poisson-nloglik:2.425411\n",
        "[2196]\ttrain-poisson-nloglik:2.292050\tval-poisson-nloglik:2.425335\n"
       ]
      },
      {
       "output_type": "stream",
       "stream": "stderr",
       "text": [
        "[2197]\ttrain-poisson-nloglik:2.291970\tval-poisson-nloglik:2.425287\n",
        "[2198]\ttrain-poisson-nloglik:2.291845\tval-poisson-nloglik:2.425176\n"
       ]
      },
      {
       "output_type": "stream",
       "stream": "stderr",
       "text": [
        "[2199]\ttrain-poisson-nloglik:2.291748\tval-poisson-nloglik:2.425089\n",
        "[2200]\ttrain-poisson-nloglik:2.291635\tval-poisson-nloglik:2.425002\n"
       ]
      },
      {
       "output_type": "stream",
       "stream": "stderr",
       "text": [
        "[2201]\ttrain-poisson-nloglik:2.291543\tval-poisson-nloglik:2.424932\n",
        "[2202]\ttrain-poisson-nloglik:2.291415\tval-poisson-nloglik:2.424817\n"
       ]
      },
      {
       "output_type": "stream",
       "stream": "stderr",
       "text": [
        "[2203]\ttrain-poisson-nloglik:2.291265\tval-poisson-nloglik:2.424710\n",
        "[2204]\ttrain-poisson-nloglik:2.291201\tval-poisson-nloglik:2.424648\n"
       ]
      },
      {
       "output_type": "stream",
       "stream": "stderr",
       "text": [
        "[2205]\ttrain-poisson-nloglik:2.291101\tval-poisson-nloglik:2.424567\n",
        "[2206]\ttrain-poisson-nloglik:2.290971\tval-poisson-nloglik:2.424446\n"
       ]
      },
      {
       "output_type": "stream",
       "stream": "stderr",
       "text": [
        "[2207]\ttrain-poisson-nloglik:2.290847\tval-poisson-nloglik:2.424355\n",
        "[2208]\ttrain-poisson-nloglik:2.290784\tval-poisson-nloglik:2.424307\n"
       ]
      },
      {
       "output_type": "stream",
       "stream": "stderr",
       "text": [
        "[2209]\ttrain-poisson-nloglik:2.290687\tval-poisson-nloglik:2.424222\n",
        "[2210]\ttrain-poisson-nloglik:2.290634\tval-poisson-nloglik:2.424172\n"
       ]
      },
      {
       "output_type": "stream",
       "stream": "stderr",
       "text": [
        "[2211]\ttrain-poisson-nloglik:2.290555\tval-poisson-nloglik:2.424104\n",
        "[2212]\ttrain-poisson-nloglik:2.290486\tval-poisson-nloglik:2.424058\n"
       ]
      },
      {
       "output_type": "stream",
       "stream": "stderr",
       "text": [
        "[2213]\ttrain-poisson-nloglik:2.290445\tval-poisson-nloglik:2.424028\n",
        "[2214]\ttrain-poisson-nloglik:2.290357\tval-poisson-nloglik:2.423951\n"
       ]
      },
      {
       "output_type": "stream",
       "stream": "stderr",
       "text": [
        "[2215]\ttrain-poisson-nloglik:2.290276\tval-poisson-nloglik:2.423892\n",
        "[2216]\ttrain-poisson-nloglik:2.290181\tval-poisson-nloglik:2.423792\n"
       ]
      },
      {
       "output_type": "stream",
       "stream": "stderr",
       "text": [
        "[2217]\ttrain-poisson-nloglik:2.290064\tval-poisson-nloglik:2.423669\n",
        "[2218]\ttrain-poisson-nloglik:2.289945\tval-poisson-nloglik:2.423566\n"
       ]
      },
      {
       "output_type": "stream",
       "stream": "stderr",
       "text": [
        "[2219]\ttrain-poisson-nloglik:2.289903\tval-poisson-nloglik:2.423531\n",
        "[2220]\ttrain-poisson-nloglik:2.289821\tval-poisson-nloglik:2.423486\n"
       ]
      },
      {
       "output_type": "stream",
       "stream": "stderr",
       "text": [
        "[2221]\ttrain-poisson-nloglik:2.289757\tval-poisson-nloglik:2.423409\n",
        "[2222]\ttrain-poisson-nloglik:2.289602\tval-poisson-nloglik:2.423260\n"
       ]
      },
      {
       "output_type": "stream",
       "stream": "stderr",
       "text": [
        "[2223]\ttrain-poisson-nloglik:2.289488\tval-poisson-nloglik:2.423167\n",
        "[2224]\ttrain-poisson-nloglik:2.289381\tval-poisson-nloglik:2.423059\n"
       ]
      },
      {
       "output_type": "stream",
       "stream": "stderr",
       "text": [
        "[2225]\ttrain-poisson-nloglik:2.289284\tval-poisson-nloglik:2.422988\n",
        "[2226]\ttrain-poisson-nloglik:2.289249\tval-poisson-nloglik:2.422966\n"
       ]
      },
      {
       "output_type": "stream",
       "stream": "stderr",
       "text": [
        "[2227]\ttrain-poisson-nloglik:2.289148\tval-poisson-nloglik:2.422878\n",
        "[2228]\ttrain-poisson-nloglik:2.288978\tval-poisson-nloglik:2.422718\n"
       ]
      },
      {
       "output_type": "stream",
       "stream": "stderr",
       "text": [
        "[2229]\ttrain-poisson-nloglik:2.288854\tval-poisson-nloglik:2.422609\n",
        "[2230]\ttrain-poisson-nloglik:2.288800\tval-poisson-nloglik:2.422562\n"
       ]
      },
      {
       "output_type": "stream",
       "stream": "stderr",
       "text": [
        "[2231]\ttrain-poisson-nloglik:2.288662\tval-poisson-nloglik:2.422456\n",
        "[2232]\ttrain-poisson-nloglik:2.288568\tval-poisson-nloglik:2.422342\n"
       ]
      },
      {
       "output_type": "stream",
       "stream": "stderr",
       "text": [
        "[2233]\ttrain-poisson-nloglik:2.288497\tval-poisson-nloglik:2.422293\n",
        "[2234]\ttrain-poisson-nloglik:2.288408\tval-poisson-nloglik:2.422206\n"
       ]
      },
      {
       "output_type": "stream",
       "stream": "stderr",
       "text": [
        "[2235]\ttrain-poisson-nloglik:2.288241\tval-poisson-nloglik:2.422099\n",
        "[2236]\ttrain-poisson-nloglik:2.288119\tval-poisson-nloglik:2.421997\n"
       ]
      },
      {
       "output_type": "stream",
       "stream": "stderr",
       "text": [
        "[2237]\ttrain-poisson-nloglik:2.288028\tval-poisson-nloglik:2.421928\n",
        "[2238]\ttrain-poisson-nloglik:2.287846\tval-poisson-nloglik:2.421775\n"
       ]
      },
      {
       "output_type": "stream",
       "stream": "stderr",
       "text": [
        "[2239]\ttrain-poisson-nloglik:2.287714\tval-poisson-nloglik:2.421653\n",
        "[2240]\ttrain-poisson-nloglik:2.287678\tval-poisson-nloglik:2.421615\n"
       ]
      },
      {
       "output_type": "stream",
       "stream": "stderr",
       "text": [
        "[2241]\ttrain-poisson-nloglik:2.287618\tval-poisson-nloglik:2.421550\n",
        "[2242]\ttrain-poisson-nloglik:2.287561\tval-poisson-nloglik:2.421495\n"
       ]
      },
      {
       "output_type": "stream",
       "stream": "stderr",
       "text": [
        "[2243]\ttrain-poisson-nloglik:2.287476\tval-poisson-nloglik:2.421444\n",
        "[2244]\ttrain-poisson-nloglik:2.287450\tval-poisson-nloglik:2.421426\n"
       ]
      },
      {
       "output_type": "stream",
       "stream": "stderr",
       "text": [
        "[2245]\ttrain-poisson-nloglik:2.287325\tval-poisson-nloglik:2.421335\n",
        "[2246]\ttrain-poisson-nloglik:2.287212\tval-poisson-nloglik:2.421223\n"
       ]
      },
      {
       "output_type": "stream",
       "stream": "stderr",
       "text": [
        "[2247]\ttrain-poisson-nloglik:2.287139\tval-poisson-nloglik:2.421149\n",
        "[2248]\ttrain-poisson-nloglik:2.286973\tval-poisson-nloglik:2.420985\n"
       ]
      },
      {
       "output_type": "stream",
       "stream": "stderr",
       "text": [
        "[2249]\ttrain-poisson-nloglik:2.286906\tval-poisson-nloglik:2.420919\n",
        "[2250]\ttrain-poisson-nloglik:2.286817\tval-poisson-nloglik:2.420835\n"
       ]
      },
      {
       "output_type": "stream",
       "stream": "stderr",
       "text": [
        "[2251]\ttrain-poisson-nloglik:2.286769\tval-poisson-nloglik:2.420789\n",
        "[2252]\ttrain-poisson-nloglik:2.286639\tval-poisson-nloglik:2.420696\n"
       ]
      },
      {
       "output_type": "stream",
       "stream": "stderr",
       "text": [
        "[2253]\ttrain-poisson-nloglik:2.286559\tval-poisson-nloglik:2.420637\n",
        "[2254]\ttrain-poisson-nloglik:2.286355\tval-poisson-nloglik:2.420455\n"
       ]
      },
      {
       "output_type": "stream",
       "stream": "stderr",
       "text": [
        "[2255]\ttrain-poisson-nloglik:2.286298\tval-poisson-nloglik:2.420399\n",
        "[2256]\ttrain-poisson-nloglik:2.286210\tval-poisson-nloglik:2.420301\n"
       ]
      },
      {
       "output_type": "stream",
       "stream": "stderr",
       "text": [
        "[2257]\ttrain-poisson-nloglik:2.286080\tval-poisson-nloglik:2.420220\n",
        "[2258]\ttrain-poisson-nloglik:2.285970\tval-poisson-nloglik:2.420116\n"
       ]
      },
      {
       "output_type": "stream",
       "stream": "stderr",
       "text": [
        "[2259]\ttrain-poisson-nloglik:2.285905\tval-poisson-nloglik:2.420036\n",
        "[2260]\ttrain-poisson-nloglik:2.285757\tval-poisson-nloglik:2.419912\n"
       ]
      },
      {
       "output_type": "stream",
       "stream": "stderr",
       "text": [
        "[2261]\ttrain-poisson-nloglik:2.285688\tval-poisson-nloglik:2.419857\n",
        "[2262]\ttrain-poisson-nloglik:2.285601\tval-poisson-nloglik:2.419795\n"
       ]
      },
      {
       "output_type": "stream",
       "stream": "stderr",
       "text": [
        "[2263]\ttrain-poisson-nloglik:2.285574\tval-poisson-nloglik:2.419762\n",
        "[2264]\ttrain-poisson-nloglik:2.285497\tval-poisson-nloglik:2.419685\n"
       ]
      },
      {
       "output_type": "stream",
       "stream": "stderr",
       "text": [
        "[2265]\ttrain-poisson-nloglik:2.285349\tval-poisson-nloglik:2.419584\n",
        "[2266]\ttrain-poisson-nloglik:2.285274\tval-poisson-nloglik:2.419519\n"
       ]
      },
      {
       "output_type": "stream",
       "stream": "stderr",
       "text": [
        "[2267]\ttrain-poisson-nloglik:2.285160\tval-poisson-nloglik:2.419409\n",
        "[2268]\ttrain-poisson-nloglik:2.285062\tval-poisson-nloglik:2.419347\n"
       ]
      },
      {
       "output_type": "stream",
       "stream": "stderr",
       "text": [
        "[2269]\ttrain-poisson-nloglik:2.284905\tval-poisson-nloglik:2.419239\n",
        "[2270]\ttrain-poisson-nloglik:2.284819\tval-poisson-nloglik:2.419161\n"
       ]
      },
      {
       "output_type": "stream",
       "stream": "stderr",
       "text": [
        "[2271]\ttrain-poisson-nloglik:2.284659\tval-poisson-nloglik:2.419025\n",
        "[2272]\ttrain-poisson-nloglik:2.284549\tval-poisson-nloglik:2.418921\n"
       ]
      },
      {
       "output_type": "stream",
       "stream": "stderr",
       "text": [
        "[2273]\ttrain-poisson-nloglik:2.284471\tval-poisson-nloglik:2.418854\n",
        "[2274]\ttrain-poisson-nloglik:2.284377\tval-poisson-nloglik:2.418778\n"
       ]
      },
      {
       "output_type": "stream",
       "stream": "stderr",
       "text": [
        "[2275]\ttrain-poisson-nloglik:2.284275\tval-poisson-nloglik:2.418683\n",
        "[2276]\ttrain-poisson-nloglik:2.284163\tval-poisson-nloglik:2.418617\n"
       ]
      },
      {
       "output_type": "stream",
       "stream": "stderr",
       "text": [
        "[2277]\ttrain-poisson-nloglik:2.284041\tval-poisson-nloglik:2.418513\n",
        "[2278]\ttrain-poisson-nloglik:2.283919\tval-poisson-nloglik:2.418400\n"
       ]
      },
      {
       "output_type": "stream",
       "stream": "stderr",
       "text": [
        "[2279]\ttrain-poisson-nloglik:2.283815\tval-poisson-nloglik:2.418314\n",
        "[2280]\ttrain-poisson-nloglik:2.283767\tval-poisson-nloglik:2.418261\n"
       ]
      },
      {
       "output_type": "stream",
       "stream": "stderr",
       "text": [
        "[2281]\ttrain-poisson-nloglik:2.283639\tval-poisson-nloglik:2.418146\n",
        "[2282]\ttrain-poisson-nloglik:2.283553\tval-poisson-nloglik:2.418062\n"
       ]
      },
      {
       "output_type": "stream",
       "stream": "stderr",
       "text": [
        "[2283]\ttrain-poisson-nloglik:2.283457\tval-poisson-nloglik:2.417974\n",
        "[2284]\ttrain-poisson-nloglik:2.283367\tval-poisson-nloglik:2.417901\n"
       ]
      },
      {
       "output_type": "stream",
       "stream": "stderr",
       "text": [
        "[2285]\ttrain-poisson-nloglik:2.283300\tval-poisson-nloglik:2.417834\n",
        "[2286]\ttrain-poisson-nloglik:2.283199\tval-poisson-nloglik:2.417763\n"
       ]
      },
      {
       "output_type": "stream",
       "stream": "stderr",
       "text": [
        "[2287]\ttrain-poisson-nloglik:2.283077\tval-poisson-nloglik:2.417664\n",
        "[2288]\ttrain-poisson-nloglik:2.282997\tval-poisson-nloglik:2.417602\n"
       ]
      },
      {
       "output_type": "stream",
       "stream": "stderr",
       "text": [
        "[2289]\ttrain-poisson-nloglik:2.282906\tval-poisson-nloglik:2.417547\n",
        "[2290]\ttrain-poisson-nloglik:2.282818\tval-poisson-nloglik:2.417467\n"
       ]
      },
      {
       "output_type": "stream",
       "stream": "stderr",
       "text": [
        "[2291]\ttrain-poisson-nloglik:2.282704\tval-poisson-nloglik:2.417376\n",
        "[2292]\ttrain-poisson-nloglik:2.282629\tval-poisson-nloglik:2.417307\n"
       ]
      },
      {
       "output_type": "stream",
       "stream": "stderr",
       "text": [
        "[2293]\ttrain-poisson-nloglik:2.282588\tval-poisson-nloglik:2.417270\n",
        "[2294]\ttrain-poisson-nloglik:2.282506\tval-poisson-nloglik:2.417196\n"
       ]
      },
      {
       "output_type": "stream",
       "stream": "stderr",
       "text": [
        "[2295]\ttrain-poisson-nloglik:2.282418\tval-poisson-nloglik:2.417112\n",
        "[2296]\ttrain-poisson-nloglik:2.282332\tval-poisson-nloglik:2.417044\n"
       ]
      },
      {
       "output_type": "stream",
       "stream": "stderr",
       "text": [
        "[2297]\ttrain-poisson-nloglik:2.282174\tval-poisson-nloglik:2.416908\n",
        "[2298]\ttrain-poisson-nloglik:2.282058\tval-poisson-nloglik:2.416813\n"
       ]
      },
      {
       "output_type": "stream",
       "stream": "stderr",
       "text": [
        "[2299]\ttrain-poisson-nloglik:2.281925\tval-poisson-nloglik:2.416688\n",
        "[2300]\ttrain-poisson-nloglik:2.281753\tval-poisson-nloglik:2.416557\n"
       ]
      },
      {
       "output_type": "stream",
       "stream": "stderr",
       "text": [
        "[2301]\ttrain-poisson-nloglik:2.281699\tval-poisson-nloglik:2.416502\n",
        "[2302]\ttrain-poisson-nloglik:2.281590\tval-poisson-nloglik:2.416423\n"
       ]
      },
      {
       "output_type": "stream",
       "stream": "stderr",
       "text": [
        "[2303]\ttrain-poisson-nloglik:2.281519\tval-poisson-nloglik:2.416365\n",
        "[2304]\ttrain-poisson-nloglik:2.281398\tval-poisson-nloglik:2.416260\n"
       ]
      },
      {
       "output_type": "stream",
       "stream": "stderr",
       "text": [
        "[2305]\ttrain-poisson-nloglik:2.281299\tval-poisson-nloglik:2.416166\n",
        "[2306]\ttrain-poisson-nloglik:2.281180\tval-poisson-nloglik:2.416066\n"
       ]
      },
      {
       "output_type": "stream",
       "stream": "stderr",
       "text": [
        "[2307]\ttrain-poisson-nloglik:2.281092\tval-poisson-nloglik:2.416009\n",
        "[2308]\ttrain-poisson-nloglik:2.281042\tval-poisson-nloglik:2.415965\n"
       ]
      },
      {
       "output_type": "stream",
       "stream": "stderr",
       "text": [
        "[2309]\ttrain-poisson-nloglik:2.280968\tval-poisson-nloglik:2.415896\n",
        "[2310]\ttrain-poisson-nloglik:2.280808\tval-poisson-nloglik:2.415788\n"
       ]
      },
      {
       "output_type": "stream",
       "stream": "stderr",
       "text": [
        "[2311]\ttrain-poisson-nloglik:2.280683\tval-poisson-nloglik:2.415688\n",
        "[2312]\ttrain-poisson-nloglik:2.280556\tval-poisson-nloglik:2.415590\n"
       ]
      },
      {
       "output_type": "stream",
       "stream": "stderr",
       "text": [
        "[2313]\ttrain-poisson-nloglik:2.280406\tval-poisson-nloglik:2.415460\n",
        "[2314]\ttrain-poisson-nloglik:2.280346\tval-poisson-nloglik:2.415428\n"
       ]
      },
      {
       "output_type": "stream",
       "stream": "stderr",
       "text": [
        "[2315]\ttrain-poisson-nloglik:2.280283\tval-poisson-nloglik:2.415372\n",
        "[2316]\ttrain-poisson-nloglik:2.280185\tval-poisson-nloglik:2.415293\n"
       ]
      },
      {
       "output_type": "stream",
       "stream": "stderr",
       "text": [
        "[2317]\ttrain-poisson-nloglik:2.280143\tval-poisson-nloglik:2.415253\n",
        "[2318]\ttrain-poisson-nloglik:2.280054\tval-poisson-nloglik:2.415182\n"
       ]
      },
      {
       "output_type": "stream",
       "stream": "stderr",
       "text": [
        "[2319]\ttrain-poisson-nloglik:2.279967\tval-poisson-nloglik:2.415111\n",
        "[2320]\ttrain-poisson-nloglik:2.279865\tval-poisson-nloglik:2.415031\n"
       ]
      },
      {
       "output_type": "stream",
       "stream": "stderr",
       "text": [
        "[2321]\ttrain-poisson-nloglik:2.279715\tval-poisson-nloglik:2.414916\n",
        "[2322]\ttrain-poisson-nloglik:2.279661\tval-poisson-nloglik:2.414872\n"
       ]
      },
      {
       "output_type": "stream",
       "stream": "stderr",
       "text": [
        "[2323]\ttrain-poisson-nloglik:2.279593\tval-poisson-nloglik:2.414818\n",
        "[2324]\ttrain-poisson-nloglik:2.279493\tval-poisson-nloglik:2.414743\n"
       ]
      },
      {
       "output_type": "stream",
       "stream": "stderr",
       "text": [
        "[2325]\ttrain-poisson-nloglik:2.279386\tval-poisson-nloglik:2.414646\n",
        "[2326]\ttrain-poisson-nloglik:2.279308\tval-poisson-nloglik:2.414554\n"
       ]
      },
      {
       "output_type": "stream",
       "stream": "stderr",
       "text": [
        "[2327]\ttrain-poisson-nloglik:2.279207\tval-poisson-nloglik:2.414445\n",
        "[2328]\ttrain-poisson-nloglik:2.279072\tval-poisson-nloglik:2.414334\n"
       ]
      },
      {
       "output_type": "stream",
       "stream": "stderr",
       "text": [
        "[2329]\ttrain-poisson-nloglik:2.278997\tval-poisson-nloglik:2.414253\n",
        "[2330]\ttrain-poisson-nloglik:2.278912\tval-poisson-nloglik:2.414183\n"
       ]
      },
      {
       "output_type": "stream",
       "stream": "stderr",
       "text": [
        "[2331]\ttrain-poisson-nloglik:2.278850\tval-poisson-nloglik:2.414138\n",
        "[2332]\ttrain-poisson-nloglik:2.278759\tval-poisson-nloglik:2.414062\n"
       ]
      },
      {
       "output_type": "stream",
       "stream": "stderr",
       "text": [
        "[2333]\ttrain-poisson-nloglik:2.278672\tval-poisson-nloglik:2.413986\n",
        "[2334]\ttrain-poisson-nloglik:2.278592\tval-poisson-nloglik:2.413904\n"
       ]
      },
      {
       "output_type": "stream",
       "stream": "stderr",
       "text": [
        "[2335]\ttrain-poisson-nloglik:2.278477\tval-poisson-nloglik:2.413834\n",
        "[2336]\ttrain-poisson-nloglik:2.278426\tval-poisson-nloglik:2.413790\n"
       ]
      },
      {
       "output_type": "stream",
       "stream": "stderr",
       "text": [
        "[2337]\ttrain-poisson-nloglik:2.278320\tval-poisson-nloglik:2.413694\n",
        "[2338]\ttrain-poisson-nloglik:2.278265\tval-poisson-nloglik:2.413652\n"
       ]
      },
      {
       "output_type": "stream",
       "stream": "stderr",
       "text": [
        "[2339]\ttrain-poisson-nloglik:2.278169\tval-poisson-nloglik:2.413574\n",
        "[2340]\ttrain-poisson-nloglik:2.278075\tval-poisson-nloglik:2.413514\n"
       ]
      },
      {
       "output_type": "stream",
       "stream": "stderr",
       "text": [
        "[2341]\ttrain-poisson-nloglik:2.277951\tval-poisson-nloglik:2.413409\n",
        "[2342]\ttrain-poisson-nloglik:2.277893\tval-poisson-nloglik:2.413376\n"
       ]
      },
      {
       "output_type": "stream",
       "stream": "stderr",
       "text": [
        "[2343]\ttrain-poisson-nloglik:2.277755\tval-poisson-nloglik:2.413247\n",
        "[2344]\ttrain-poisson-nloglik:2.277686\tval-poisson-nloglik:2.413191\n"
       ]
      },
      {
       "output_type": "stream",
       "stream": "stderr",
       "text": [
        "[2345]\ttrain-poisson-nloglik:2.277614\tval-poisson-nloglik:2.413126\n",
        "[2346]\ttrain-poisson-nloglik:2.277503\tval-poisson-nloglik:2.413018\n"
       ]
      },
      {
       "output_type": "stream",
       "stream": "stderr",
       "text": [
        "[2347]\ttrain-poisson-nloglik:2.277367\tval-poisson-nloglik:2.412884\n",
        "[2348]\ttrain-poisson-nloglik:2.277275\tval-poisson-nloglik:2.412814\n"
       ]
      },
      {
       "output_type": "stream",
       "stream": "stderr",
       "text": [
        "[2349]\ttrain-poisson-nloglik:2.277213\tval-poisson-nloglik:2.412751\n",
        "[2350]\ttrain-poisson-nloglik:2.277152\tval-poisson-nloglik:2.412698\n"
       ]
      },
      {
       "output_type": "stream",
       "stream": "stderr",
       "text": [
        "[2351]\ttrain-poisson-nloglik:2.277102\tval-poisson-nloglik:2.412658\n",
        "[2352]\ttrain-poisson-nloglik:2.277067\tval-poisson-nloglik:2.412632\n"
       ]
      },
      {
       "output_type": "stream",
       "stream": "stderr",
       "text": [
        "[2353]\ttrain-poisson-nloglik:2.276983\tval-poisson-nloglik:2.412584\n",
        "[2354]\ttrain-poisson-nloglik:2.276821\tval-poisson-nloglik:2.412436\n"
       ]
      },
      {
       "output_type": "stream",
       "stream": "stderr",
       "text": [
        "[2355]\ttrain-poisson-nloglik:2.276760\tval-poisson-nloglik:2.412395\n",
        "[2356]\ttrain-poisson-nloglik:2.276723\tval-poisson-nloglik:2.412363\n"
       ]
      },
      {
       "output_type": "stream",
       "stream": "stderr",
       "text": [
        "[2357]\ttrain-poisson-nloglik:2.276664\tval-poisson-nloglik:2.412313\n",
        "[2358]\ttrain-poisson-nloglik:2.276547\tval-poisson-nloglik:2.412209\n"
       ]
      },
      {
       "output_type": "stream",
       "stream": "stderr",
       "text": [
        "[2359]\ttrain-poisson-nloglik:2.276470\tval-poisson-nloglik:2.412136\n",
        "[2360]\ttrain-poisson-nloglik:2.276416\tval-poisson-nloglik:2.412080\n"
       ]
      },
      {
       "output_type": "stream",
       "stream": "stderr",
       "text": [
        "[2361]\ttrain-poisson-nloglik:2.276363\tval-poisson-nloglik:2.412030\n",
        "[2362]\ttrain-poisson-nloglik:2.276254\tval-poisson-nloglik:2.411940\n"
       ]
      },
      {
       "output_type": "stream",
       "stream": "stderr",
       "text": [
        "[2363]\ttrain-poisson-nloglik:2.276157\tval-poisson-nloglik:2.411863\n",
        "[2364]\ttrain-poisson-nloglik:2.276085\tval-poisson-nloglik:2.411812\n"
       ]
      },
      {
       "output_type": "stream",
       "stream": "stderr",
       "text": [
        "[2365]\ttrain-poisson-nloglik:2.276025\tval-poisson-nloglik:2.411757\n",
        "[2366]\ttrain-poisson-nloglik:2.275954\tval-poisson-nloglik:2.411712\n"
       ]
      },
      {
       "output_type": "stream",
       "stream": "stderr",
       "text": [
        "[2367]\ttrain-poisson-nloglik:2.275882\tval-poisson-nloglik:2.411634\n",
        "[2368]\ttrain-poisson-nloglik:2.275761\tval-poisson-nloglik:2.411533\n"
       ]
      },
      {
       "output_type": "stream",
       "stream": "stderr",
       "text": [
        "[2369]\ttrain-poisson-nloglik:2.275641\tval-poisson-nloglik:2.411431\n",
        "[2370]\ttrain-poisson-nloglik:2.275584\tval-poisson-nloglik:2.411379\n"
       ]
      },
      {
       "output_type": "stream",
       "stream": "stderr",
       "text": [
        "[2371]\ttrain-poisson-nloglik:2.275515\tval-poisson-nloglik:2.411327\n",
        "[2372]\ttrain-poisson-nloglik:2.275392\tval-poisson-nloglik:2.411237\n"
       ]
      },
      {
       "output_type": "stream",
       "stream": "stderr",
       "text": [
        "[2373]\ttrain-poisson-nloglik:2.275306\tval-poisson-nloglik:2.411158\n",
        "[2374]\ttrain-poisson-nloglik:2.275252\tval-poisson-nloglik:2.411114\n"
       ]
      },
      {
       "output_type": "stream",
       "stream": "stderr",
       "text": [
        "[2375]\ttrain-poisson-nloglik:2.275198\tval-poisson-nloglik:2.411073\n",
        "[2376]\ttrain-poisson-nloglik:2.275084\tval-poisson-nloglik:2.410956\n"
       ]
      },
      {
       "output_type": "stream",
       "stream": "stderr",
       "text": [
        "[2377]\ttrain-poisson-nloglik:2.275042\tval-poisson-nloglik:2.410930\n",
        "[2378]\ttrain-poisson-nloglik:2.274928\tval-poisson-nloglik:2.410830\n"
       ]
      },
      {
       "output_type": "stream",
       "stream": "stderr",
       "text": [
        "[2379]\ttrain-poisson-nloglik:2.274814\tval-poisson-nloglik:2.410748\n",
        "[2380]\ttrain-poisson-nloglik:2.274679\tval-poisson-nloglik:2.410650\n"
       ]
      },
      {
       "output_type": "stream",
       "stream": "stderr",
       "text": [
        "[2381]\ttrain-poisson-nloglik:2.274629\tval-poisson-nloglik:2.410607\n",
        "[2382]\ttrain-poisson-nloglik:2.274551\tval-poisson-nloglik:2.410545\n"
       ]
      },
      {
       "output_type": "stream",
       "stream": "stderr",
       "text": [
        "[2383]\ttrain-poisson-nloglik:2.274473\tval-poisson-nloglik:2.410462\n",
        "[2384]\ttrain-poisson-nloglik:2.274331\tval-poisson-nloglik:2.410337\n"
       ]
      },
      {
       "output_type": "stream",
       "stream": "stderr",
       "text": [
        "[2385]\ttrain-poisson-nloglik:2.274263\tval-poisson-nloglik:2.410290\n",
        "[2386]\ttrain-poisson-nloglik:2.274169\tval-poisson-nloglik:2.410221\n"
       ]
      },
      {
       "output_type": "stream",
       "stream": "stderr",
       "text": [
        "[2387]\ttrain-poisson-nloglik:2.274089\tval-poisson-nloglik:2.410143\n",
        "[2388]\ttrain-poisson-nloglik:2.274039\tval-poisson-nloglik:2.410114\n"
       ]
      },
      {
       "output_type": "stream",
       "stream": "stderr",
       "text": [
        "[2389]\ttrain-poisson-nloglik:2.273977\tval-poisson-nloglik:2.410063\n",
        "[2390]\ttrain-poisson-nloglik:2.273936\tval-poisson-nloglik:2.410035\n"
       ]
      },
      {
       "output_type": "stream",
       "stream": "stderr",
       "text": [
        "[2391]\ttrain-poisson-nloglik:2.273788\tval-poisson-nloglik:2.409911\n",
        "[2392]\ttrain-poisson-nloglik:2.273690\tval-poisson-nloglik:2.409835\n"
       ]
      },
      {
       "output_type": "stream",
       "stream": "stderr",
       "text": [
        "[2393]\ttrain-poisson-nloglik:2.273584\tval-poisson-nloglik:2.409756\n",
        "[2394]\ttrain-poisson-nloglik:2.273531\tval-poisson-nloglik:2.409705\n"
       ]
      },
      {
       "output_type": "stream",
       "stream": "stderr",
       "text": [
        "[2395]\ttrain-poisson-nloglik:2.273427\tval-poisson-nloglik:2.409618\n",
        "[2396]\ttrain-poisson-nloglik:2.273282\tval-poisson-nloglik:2.409491\n"
       ]
      },
      {
       "output_type": "stream",
       "stream": "stderr",
       "text": [
        "[2397]\ttrain-poisson-nloglik:2.273210\tval-poisson-nloglik:2.409425\n",
        "[2398]\ttrain-poisson-nloglik:2.273126\tval-poisson-nloglik:2.409334\n"
       ]
      },
      {
       "output_type": "stream",
       "stream": "stderr",
       "text": [
        "[2399]\ttrain-poisson-nloglik:2.273037\tval-poisson-nloglik:2.409289\n",
        "[2400]\ttrain-poisson-nloglik:2.272955\tval-poisson-nloglik:2.409216\n"
       ]
      },
      {
       "output_type": "stream",
       "stream": "stderr",
       "text": [
        "[2401]\ttrain-poisson-nloglik:2.272835\tval-poisson-nloglik:2.409108\n",
        "[2402]\ttrain-poisson-nloglik:2.272768\tval-poisson-nloglik:2.409026\n"
       ]
      },
      {
       "output_type": "stream",
       "stream": "stderr",
       "text": [
        "[2403]\ttrain-poisson-nloglik:2.272660\tval-poisson-nloglik:2.408954\n",
        "[2404]\ttrain-poisson-nloglik:2.272555\tval-poisson-nloglik:2.408853\n"
       ]
      },
      {
       "output_type": "stream",
       "stream": "stderr",
       "text": [
        "[2405]\ttrain-poisson-nloglik:2.272460\tval-poisson-nloglik:2.408791\n",
        "[2406]\ttrain-poisson-nloglik:2.272378\tval-poisson-nloglik:2.408731\n"
       ]
      },
      {
       "output_type": "stream",
       "stream": "stderr",
       "text": [
        "[2407]\ttrain-poisson-nloglik:2.272332\tval-poisson-nloglik:2.408704\n",
        "[2408]\ttrain-poisson-nloglik:2.272273\tval-poisson-nloglik:2.408671\n"
       ]
      },
      {
       "output_type": "stream",
       "stream": "stderr",
       "text": [
        "[2409]\ttrain-poisson-nloglik:2.272176\tval-poisson-nloglik:2.408590\n",
        "[2410]\ttrain-poisson-nloglik:2.272066\tval-poisson-nloglik:2.408501\n"
       ]
      },
      {
       "output_type": "stream",
       "stream": "stderr",
       "text": [
        "[2411]\ttrain-poisson-nloglik:2.271969\tval-poisson-nloglik:2.408415\n",
        "[2412]\ttrain-poisson-nloglik:2.271937\tval-poisson-nloglik:2.408377\n"
       ]
      },
      {
       "output_type": "stream",
       "stream": "stderr",
       "text": [
        "[2413]\ttrain-poisson-nloglik:2.271874\tval-poisson-nloglik:2.408330\n",
        "[2414]\ttrain-poisson-nloglik:2.271724\tval-poisson-nloglik:2.408191\n"
       ]
      },
      {
       "output_type": "stream",
       "stream": "stderr",
       "text": [
        "[2415]\ttrain-poisson-nloglik:2.271657\tval-poisson-nloglik:2.408149\n",
        "[2416]\ttrain-poisson-nloglik:2.271516\tval-poisson-nloglik:2.408050\n"
       ]
      },
      {
       "output_type": "stream",
       "stream": "stderr",
       "text": [
        "[2417]\ttrain-poisson-nloglik:2.271391\tval-poisson-nloglik:2.407953\n",
        "[2418]\ttrain-poisson-nloglik:2.271319\tval-poisson-nloglik:2.407887\n"
       ]
      },
      {
       "output_type": "stream",
       "stream": "stderr",
       "text": [
        "[2419]\ttrain-poisson-nloglik:2.271188\tval-poisson-nloglik:2.407766\n",
        "[2420]\ttrain-poisson-nloglik:2.271073\tval-poisson-nloglik:2.407666\n"
       ]
      },
      {
       "output_type": "stream",
       "stream": "stderr",
       "text": [
        "[2421]\ttrain-poisson-nloglik:2.271025\tval-poisson-nloglik:2.407624\n",
        "[2422]\ttrain-poisson-nloglik:2.270926\tval-poisson-nloglik:2.407560\n"
       ]
      },
      {
       "output_type": "stream",
       "stream": "stderr",
       "text": [
        "[2423]\ttrain-poisson-nloglik:2.270876\tval-poisson-nloglik:2.407522\n",
        "[2424]\ttrain-poisson-nloglik:2.270783\tval-poisson-nloglik:2.407449\n"
       ]
      },
      {
       "output_type": "stream",
       "stream": "stderr",
       "text": [
        "[2425]\ttrain-poisson-nloglik:2.270686\tval-poisson-nloglik:2.407374\n",
        "[2426]\ttrain-poisson-nloglik:2.270611\tval-poisson-nloglik:2.407300\n"
       ]
      },
      {
       "output_type": "stream",
       "stream": "stderr",
       "text": [
        "[2427]\ttrain-poisson-nloglik:2.270499\tval-poisson-nloglik:2.407231\n",
        "[2428]\ttrain-poisson-nloglik:2.270470\tval-poisson-nloglik:2.407210\n"
       ]
      },
      {
       "output_type": "stream",
       "stream": "stderr",
       "text": [
        "[2429]\ttrain-poisson-nloglik:2.270365\tval-poisson-nloglik:2.407140\n",
        "[2430]\ttrain-poisson-nloglik:2.270275\tval-poisson-nloglik:2.407054\n"
       ]
      },
      {
       "output_type": "stream",
       "stream": "stderr",
       "text": [
        "[2431]\ttrain-poisson-nloglik:2.270205\tval-poisson-nloglik:2.406981\n",
        "[2432]\ttrain-poisson-nloglik:2.270098\tval-poisson-nloglik:2.406909\n"
       ]
      },
      {
       "output_type": "stream",
       "stream": "stderr",
       "text": [
        "[2433]\ttrain-poisson-nloglik:2.270075\tval-poisson-nloglik:2.406891\n",
        "[2434]\ttrain-poisson-nloglik:2.269979\tval-poisson-nloglik:2.406810\n"
       ]
      },
      {
       "output_type": "stream",
       "stream": "stderr",
       "text": [
        "[2435]\ttrain-poisson-nloglik:2.269890\tval-poisson-nloglik:2.406746\n",
        "[2436]\ttrain-poisson-nloglik:2.269770\tval-poisson-nloglik:2.406635\n"
       ]
      },
      {
       "output_type": "stream",
       "stream": "stderr",
       "text": [
        "[2437]\ttrain-poisson-nloglik:2.269676\tval-poisson-nloglik:2.406551\n",
        "[2438]\ttrain-poisson-nloglik:2.269549\tval-poisson-nloglik:2.406444\n"
       ]
      },
      {
       "output_type": "stream",
       "stream": "stderr",
       "text": [
        "[2439]\ttrain-poisson-nloglik:2.269473\tval-poisson-nloglik:2.406397\n",
        "[2440]\ttrain-poisson-nloglik:2.269323\tval-poisson-nloglik:2.406285\n"
       ]
      },
      {
       "output_type": "stream",
       "stream": "stderr",
       "text": [
        "[2441]\ttrain-poisson-nloglik:2.269279\tval-poisson-nloglik:2.406257\n",
        "[2442]\ttrain-poisson-nloglik:2.269192\tval-poisson-nloglik:2.406176\n"
       ]
      },
      {
       "output_type": "stream",
       "stream": "stderr",
       "text": [
        "[2443]\ttrain-poisson-nloglik:2.269106\tval-poisson-nloglik:2.406118\n",
        "[2444]\ttrain-poisson-nloglik:2.269041\tval-poisson-nloglik:2.406064\n"
       ]
      },
      {
       "output_type": "stream",
       "stream": "stderr",
       "text": [
        "[2445]\ttrain-poisson-nloglik:2.268932\tval-poisson-nloglik:2.405991\n",
        "[2446]\ttrain-poisson-nloglik:2.268845\tval-poisson-nloglik:2.405936\n"
       ]
      },
      {
       "output_type": "stream",
       "stream": "stderr",
       "text": [
        "[2447]\ttrain-poisson-nloglik:2.268765\tval-poisson-nloglik:2.405865\n",
        "[2448]\ttrain-poisson-nloglik:2.268650\tval-poisson-nloglik:2.405756\n"
       ]
      },
      {
       "output_type": "stream",
       "stream": "stderr",
       "text": [
        "[2449]\ttrain-poisson-nloglik:2.268596\tval-poisson-nloglik:2.405722\n",
        "[2450]\ttrain-poisson-nloglik:2.268489\tval-poisson-nloglik:2.405623\n"
       ]
      },
      {
       "output_type": "stream",
       "stream": "stderr",
       "text": [
        "[2451]\ttrain-poisson-nloglik:2.268354\tval-poisson-nloglik:2.405518\n",
        "[2452]\ttrain-poisson-nloglik:2.268279\tval-poisson-nloglik:2.405445\n"
       ]
      },
      {
       "output_type": "stream",
       "stream": "stderr",
       "text": [
        "[2453]\ttrain-poisson-nloglik:2.268220\tval-poisson-nloglik:2.405383\n",
        "[2454]\ttrain-poisson-nloglik:2.268105\tval-poisson-nloglik:2.405296\n"
       ]
      },
      {
       "output_type": "stream",
       "stream": "stderr",
       "text": [
        "[2455]\ttrain-poisson-nloglik:2.267932\tval-poisson-nloglik:2.405141\n",
        "[2456]\ttrain-poisson-nloglik:2.267851\tval-poisson-nloglik:2.405054\n"
       ]
      },
      {
       "output_type": "stream",
       "stream": "stderr",
       "text": [
        "[2457]\ttrain-poisson-nloglik:2.267767\tval-poisson-nloglik:2.404981\n",
        "[2458]\ttrain-poisson-nloglik:2.267709\tval-poisson-nloglik:2.404929\n"
       ]
      },
      {
       "output_type": "stream",
       "stream": "stderr",
       "text": [
        "[2459]\ttrain-poisson-nloglik:2.267613\tval-poisson-nloglik:2.404842\n",
        "[2460]\ttrain-poisson-nloglik:2.267545\tval-poisson-nloglik:2.404776\n"
       ]
      },
      {
       "output_type": "stream",
       "stream": "stderr",
       "text": [
        "[2461]\ttrain-poisson-nloglik:2.267393\tval-poisson-nloglik:2.404634\n",
        "[2462]\ttrain-poisson-nloglik:2.267334\tval-poisson-nloglik:2.404591\n"
       ]
      },
      {
       "output_type": "stream",
       "stream": "stderr",
       "text": [
        "[2463]\ttrain-poisson-nloglik:2.267192\tval-poisson-nloglik:2.404464\n",
        "[2464]\ttrain-poisson-nloglik:2.267092\tval-poisson-nloglik:2.404377\n"
       ]
      },
      {
       "output_type": "stream",
       "stream": "stderr",
       "text": [
        "[2465]\ttrain-poisson-nloglik:2.266960\tval-poisson-nloglik:2.404285\n",
        "[2466]\ttrain-poisson-nloglik:2.266854\tval-poisson-nloglik:2.404209\n"
       ]
      },
      {
       "output_type": "stream",
       "stream": "stderr",
       "text": [
        "[2467]\ttrain-poisson-nloglik:2.266685\tval-poisson-nloglik:2.404050\n",
        "[2468]\ttrain-poisson-nloglik:2.266639\tval-poisson-nloglik:2.404004\n"
       ]
      },
      {
       "output_type": "stream",
       "stream": "stderr",
       "text": [
        "[2469]\ttrain-poisson-nloglik:2.266525\tval-poisson-nloglik:2.403893\n",
        "[2470]\ttrain-poisson-nloglik:2.266455\tval-poisson-nloglik:2.403817\n"
       ]
      },
      {
       "output_type": "stream",
       "stream": "stderr",
       "text": [
        "[2471]\ttrain-poisson-nloglik:2.266323\tval-poisson-nloglik:2.403729\n",
        "[2472]\ttrain-poisson-nloglik:2.266230\tval-poisson-nloglik:2.403667\n"
       ]
      },
      {
       "output_type": "stream",
       "stream": "stderr",
       "text": [
        "[2473]\ttrain-poisson-nloglik:2.266178\tval-poisson-nloglik:2.403613\n",
        "[2474]\ttrain-poisson-nloglik:2.266104\tval-poisson-nloglik:2.403567\n"
       ]
      },
      {
       "output_type": "stream",
       "stream": "stderr",
       "text": [
        "[2475]\ttrain-poisson-nloglik:2.265984\tval-poisson-nloglik:2.403469\n",
        "[2476]\ttrain-poisson-nloglik:2.265868\tval-poisson-nloglik:2.403357\n"
       ]
      },
      {
       "output_type": "stream",
       "stream": "stderr",
       "text": [
        "[2477]\ttrain-poisson-nloglik:2.265816\tval-poisson-nloglik:2.403314\n",
        "[2478]\ttrain-poisson-nloglik:2.265749\tval-poisson-nloglik:2.403266\n"
       ]
      },
      {
       "output_type": "stream",
       "stream": "stderr",
       "text": [
        "[2479]\ttrain-poisson-nloglik:2.265627\tval-poisson-nloglik:2.403175\n",
        "[2480]\ttrain-poisson-nloglik:2.265559\tval-poisson-nloglik:2.403123\n"
       ]
      },
      {
       "output_type": "stream",
       "stream": "stderr",
       "text": [
        "[2481]\ttrain-poisson-nloglik:2.265448\tval-poisson-nloglik:2.403049\n",
        "[2482]\ttrain-poisson-nloglik:2.265333\tval-poisson-nloglik:2.402931\n"
       ]
      },
      {
       "output_type": "stream",
       "stream": "stderr",
       "text": [
        "[2483]\ttrain-poisson-nloglik:2.265241\tval-poisson-nloglik:2.402845\n",
        "[2484]\ttrain-poisson-nloglik:2.265163\tval-poisson-nloglik:2.402786\n"
       ]
      },
      {
       "output_type": "stream",
       "stream": "stderr",
       "text": [
        "[2485]\ttrain-poisson-nloglik:2.265091\tval-poisson-nloglik:2.402737\n",
        "[2486]\ttrain-poisson-nloglik:2.265062\tval-poisson-nloglik:2.402702\n"
       ]
      },
      {
       "output_type": "stream",
       "stream": "stderr",
       "text": [
        "[2487]\ttrain-poisson-nloglik:2.265021\tval-poisson-nloglik:2.402674\n",
        "[2488]\ttrain-poisson-nloglik:2.264968\tval-poisson-nloglik:2.402645\n"
       ]
      },
      {
       "output_type": "stream",
       "stream": "stderr",
       "text": [
        "[2489]\ttrain-poisson-nloglik:2.264869\tval-poisson-nloglik:2.402552\n",
        "[2490]\ttrain-poisson-nloglik:2.264774\tval-poisson-nloglik:2.402472\n"
       ]
      },
      {
       "output_type": "stream",
       "stream": "stderr",
       "text": [
        "[2491]\ttrain-poisson-nloglik:2.264683\tval-poisson-nloglik:2.402395\n",
        "[2492]\ttrain-poisson-nloglik:2.264604\tval-poisson-nloglik:2.402332\n"
       ]
      },
      {
       "output_type": "stream",
       "stream": "stderr",
       "text": [
        "[2493]\ttrain-poisson-nloglik:2.264469\tval-poisson-nloglik:2.402212\n",
        "[2494]\ttrain-poisson-nloglik:2.264388\tval-poisson-nloglik:2.402129\n"
       ]
      },
      {
       "output_type": "stream",
       "stream": "stderr",
       "text": [
        "[2495]\ttrain-poisson-nloglik:2.264326\tval-poisson-nloglik:2.402075\n",
        "[2496]\ttrain-poisson-nloglik:2.264281\tval-poisson-nloglik:2.402037\n"
       ]
      },
      {
       "output_type": "stream",
       "stream": "stderr",
       "text": [
        "[2497]\ttrain-poisson-nloglik:2.264193\tval-poisson-nloglik:2.401959\n",
        "[2498]\ttrain-poisson-nloglik:2.264103\tval-poisson-nloglik:2.401892\n"
       ]
      },
      {
       "output_type": "stream",
       "stream": "stderr",
       "text": [
        "[2499]\ttrain-poisson-nloglik:2.264032\tval-poisson-nloglik:2.401830\n"
       ]
      }
     ],
     "prompt_number": 191
    },
    {
     "cell_type": "code",
     "collapsed": false,
     "input": [
      "xgb.plot_importance(model)\n",
      "\n",
      "## importance: f1,f15,f0,f2,f18,f16,f27,f13\n",
      "col_k = [1,15,0,2,18,16,27,13,3,4,26,9,25,20,11,5,19,8,17,12,14]\n",
      "\n",
      "print columns[col_k]"
     ],
     "language": "python",
     "metadata": {},
     "outputs": [
      {
       "output_type": "stream",
       "stream": "stdout",
       "text": [
        "Index([u'T1_V2', u'T2_V1', u'T1_V1', u'T1_V3', u'T2_V4', u'T2_V2', u'T2_V15',\n",
        "       u'T1_V16', u'T1_V4', u'T1_V5', u'T2_V14', u'T1_V11', u'T2_V13',\n",
        "       u'T2_V6', u'T1_V14', u'T1_V6', u'T2_V5', u'T1_V9', u'T2_V3', u'T1_V15',\n",
        "       u'T1_V17'],\n",
        "      dtype='object')\n"
       ]
      },
      {
       "metadata": {},
       "output_type": "display_data",
       "png": "[encoded data removed]",
       "text": [
        "<matplotlib.figure.Figure at 0x7f902157fb90>"
       ]
      }
     ],
     "prompt_number": 192
    },
    {
     "cell_type": "code",
     "collapsed": false,
     "input": [
      "preds1 = model.predict(xgtest)\n",
      "print preds1\n",
      "\n",
      "# generate solution file\n",
      "preds = pd.DataFrame({\"Id\": test_ind, \"Hazard\": preds1})\n",
      "preds = preds.set_index('Id')\n",
      "preds.to_csv('xgboost_dev20150823_1.csv')\n",
      "%pwd"
     ],
     "language": "python",
     "metadata": {},
     "outputs": [
      {
       "output_type": "stream",
       "stream": "stdout",
       "text": [
        "[  3.28857851   9.38535309  12.53565025 ...,   6.65672588   4.5624423\n",
        "   5.34247351]\n"
       ]
      },
      {
       "metadata": {},
       "output_type": "pyout",
       "prompt_number": 193,
       "text": [
        "u'/home/leandroohf/Documents/kaggle/Liberty_Mutual_Group_Property_Inspection_Prediction/dev'"
       ]
      }
     ],
     "prompt_number": 193
    }
   ],
   "metadata": {}
  }
 ]
}