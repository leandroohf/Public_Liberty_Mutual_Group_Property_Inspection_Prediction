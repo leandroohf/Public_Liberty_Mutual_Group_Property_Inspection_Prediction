{
 "metadata": {
  "name": ""
 },
 "nbformat": 3,
 "nbformat_minor": 0,
 "worksheets": [
  {
   "cells": [
    {
     "cell_type": "markdown",
     "metadata": {},
     "source": [
      "# Base de treino balanciada\n",
      "\n",
      "Considerei apenas algumas Hazard < 11\n",
      "E mantive demais parametros.\n",
      "\n",
      "[2999]\ttrain-rmse:0.517148\tval-rmse:1.888671\n",
      "\n",
      "kaglle score: 0.261755\n",
      "\n",
      "Meu melhor kaglle score: 0.3850\n"
     ]
    },
    {
     "cell_type": "code",
     "collapsed": false,
     "input": [
      "# Setup\n",
      "import pandas as pd\n",
      "import numpy as np \n",
      "from sklearn import preprocessing\n",
      "import xgboost as xgb\n",
      "import random"
     ],
     "language": "python",
     "metadata": {},
     "outputs": [],
     "prompt_number": 1
    },
    {
     "cell_type": "code",
     "collapsed": false,
     "input": [
      "# Defining some functions\n",
      "\n",
      "print 'Defining functions (shameless stolen from the script pages)'\n",
      "\n",
      "## Gini: Shameless stolen from jpopham91's script\n",
      "def Gini1(y_true, y_pred):\n",
      "    # check and get number of samples\n",
      "    assert y_true.shape == y_pred.shape\n",
      "    n_samples = y_true.shape[0]\n",
      "    \n",
      "    # sort rows on prediction column \n",
      "    # (from largest to smallest)\n",
      "    arr = np.array([y_true, y_pred]).transpose()\n",
      "    true_order = arr[arr[:,0].argsort()][::-1,0]\n",
      "    pred_order = arr[arr[:,1].argsort()][::-1,0]\n",
      "    \n",
      "    # get Lorenz curves\n",
      "    L_true = np.cumsum(true_order) / np.sum(true_order)\n",
      "    L_pred = np.cumsum(pred_order) / np.sum(pred_order)\n",
      "    L_ones = np.linspace(1/n_samples, 1, n_samples)\n",
      "    \n",
      "    # get Gini coefficients (area between curves)\n",
      "    G_true = np.sum(L_ones - L_true)\n",
      "    G_pred = np.sum(L_ones - L_pred)\n",
      "    \n",
      "    # normalize to true Gini coefficient\n",
      "    return G_pred/G_true\n",
      "\n",
      "# Source script: justfor que por sua vez pegou da fonte abaixo\n",
      "# Source of good version: https://www.kaggle.com/c/ClaimPredictionChallenge/forums/t/703/code-to-calculate-normalizedgini    \n",
      "def Gini2_aux(actual, pred, cmpcol = 0, sortcol = 1):\n",
      "     assert( len(actual) == len(pred) )\n",
      "     all = np.asarray(np.c_[ actual, pred, np.arange(len(actual)) ], dtype=np.float)\n",
      "     all = all[ np.lexsort((all[:,2], -1*all[:,1])) ]\n",
      "     totalLosses = all[:,0].sum()\n",
      "     giniSum = all[:,0].cumsum().sum() / totalLosses\n",
      "     giniSum -= (len(actual) + 1) / 2.\n",
      "     return giniSum / len(actual)\n",
      " \n",
      "def Gini2(y_true, y_pred):\n",
      "     return Gini2_aux(y_true, y_pred) / Gini2_aux(y_true, y_true)\n"
     ],
     "language": "python",
     "metadata": {},
     "outputs": [
      {
       "output_type": "stream",
       "stream": "stdout",
       "text": [
        "Defining functions (shameless stolen from the script pages)\n"
       ]
      }
     ],
     "prompt_number": 2
    },
    {
     "cell_type": "code",
     "collapsed": false,
     "input": [
      "\n",
      "#load train and test \n",
      "train  = pd.read_csv('../data/raw/train.csv', index_col=0)\n",
      "test   = pd.read_csv('../data/raw/test.csv', index_col=0)\n",
      "\n",
      "print train.shape\n",
      "## XXX Parece BUG head() nao mostra a ultimas colunas: 10,20,30\n",
      "## Entao eu tive que duplicar para imprimir todas as colunas\n",
      "print train.iloc[:,0:10].head()\n",
      "print train.iloc[:,10:20].head()\n",
      "print train.iloc[:,20:30].head()\n",
      "print train.iloc[:,30:33].head()\n",
      "print \"==========================\"\n",
      "\n",
      "labels = train.Hazard\n",
      "%matplotlib inline\n",
      "labels.hist(bins=69)"
     ],
     "language": "python",
     "metadata": {},
     "outputs": [
      {
       "output_type": "stream",
       "stream": "stdout",
       "text": [
        "(50999, 33)\n",
        "    Hazard  T1_V1  T1_V2  T1_V3 T1_V4 T1_V5 T1_V6 T1_V7 T1_V8 T1_V9\n",
        "Id                                                                 \n",
        "1        1     15      3      2     N     B     N     B     B     D\n",
        "2        4     16     14      5     H     B     N     B     B     C\n",
        "3        1     10     10      5     N     K     N     B     B     E\n",
        "4        1     18     18      5     N     K     N     B     B     E\n",
        "5        1     13     19      5     N     H     N     B     B     E\n",
        "    T1_V10 T1_V11 T1_V12  T1_V13  T1_V14 T1_V15 T1_V16 T1_V17  T2_V1  T2_V2\n",
        "Id                                                                         \n",
        "1        7      B      B      15       1      A      B      N     36     11\n",
        "2       12      B      B      10       3      A      B      Y     78     10\n",
        "3       12      H      B      15       1      A      R      Y     71     21\n",
        "4        3      H      B      15       1      A      R      N     71     13\n",
        "5        7      H      B      10       1      A      J      N     75     10\n",
        "   T2_V3  T2_V4 T2_V5  T2_V6  T2_V7  T2_V8  T2_V9  T2_V10 T2_V11 T2_V12\n",
        "Id                                                                     \n",
        "1      N     10     B      2     37      1     11       6      Y      N\n",
        "2      Y     17     C      2     22      1     18       5      Y      Y\n",
        "3      Y     13     C      6     37      2     14       6      Y      Y\n",
        "4      N     15     A      2     25      1      1       6      Y      N\n",
        "5      Y     11     B      1     22      1      2       7      N      N\n",
        "   T2_V13  T2_V14  T2_V15\n",
        "Id                       \n",
        "1       E       2       2\n",
        "2       E       2       1\n",
        "3       E       6       1\n",
        "4       C       2       6\n",
        "5       E       1       1\n",
        "==========================\n"
       ]
      },
      {
       "metadata": {},
       "output_type": "pyout",
       "prompt_number": 3,
       "text": [
        "<matplotlib.axes.AxesSubplot at 0x7f6385a96450>"
       ]
      },
      {
       "metadata": {},
       "output_type": "display_data",
       "png": "[encoded data removed]",
       "text": [
        "<matplotlib.figure.Figure at 0x7f6388cd55d0>"
       ]
      }
     ],
     "prompt_number": 3
    },
    {
     "cell_type": "markdown",
     "metadata": {},
     "source": [
      "\n",
      "## Prepaing training data"
     ]
    },
    {
     "cell_type": "code",
     "collapsed": false,
     "input": [
      "## Fazendo copia dos dados\n",
      "train_pre = train.copy()\n",
      "\n",
      "hazard_thr = 11\n",
      "sample_size = 3000 # sample size per class\n",
      "\n",
      "print \"Printing intial train dim:\"\n",
      "print train_pre.shape\n",
      "print \"Considering Hazard < \" + str(hazard_thr) + \" in train data\"\n",
      "\n",
      "# verifcar a capacidade de gerar hazard acima de hazard_thr\n",
      "test_pre  = train_pre[ train_pre['Hazard'] > hazard_thr]\n",
      "train_pre = train_pre[ train_pre['Hazard'] < hazard_thr]\n",
      "\n",
      "h = 1\n",
      "print \"Hazard: \" + str(h)\n",
      "train_aux = train_pre[train_pre.Hazard == h]\n",
      "rows_sampled = np.random.choice(train_aux.index,sample_size)\n",
      "train_balanced_pre = train_pre.ix[rows_sampled]\n",
      "\n",
      "for h in range(2,hazard_thr):\n",
      "    print \"Hazard: \" + str(h)\n",
      "    train_aux = train_pre[train_pre.Hazard == h]\n",
      "    rows_sampled = np.random.choice(train_aux.index,sample_size)\n",
      "    train_balanced_pre = train_balanced_pre.append(train_pre.ix[rows_sampled])\n",
      "\n",
      "print train_balanced_pre.shape\n",
      "labels_balanced = train_balanced_pre['Hazard'].copy()\n",
      "test_labels = test_pre['Hazard'].copy()"
     ],
     "language": "python",
     "metadata": {},
     "outputs": [
      {
       "output_type": "stream",
       "stream": "stdout",
       "text": [
        "Printing intial train dim:\n",
        "(50999, 33)\n",
        "Considering Hazard < 11 in train data\n",
        "Hazard: 1\n",
        "Hazard: 2\n",
        "Hazard: 3"
       ]
      },
      {
       "output_type": "stream",
       "stream": "stdout",
       "text": [
        "\n",
        "Hazard: 4\n",
        "Hazard: 5\n",
        "Hazard: 6"
       ]
      },
      {
       "output_type": "stream",
       "stream": "stdout",
       "text": [
        "\n",
        "Hazard: 7\n",
        "Hazard: 8"
       ]
      },
      {
       "output_type": "stream",
       "stream": "stdout",
       "text": [
        "\n",
        "Hazard: 9\n",
        "Hazard: 10"
       ]
      },
      {
       "output_type": "stream",
       "stream": "stdout",
       "text": [
        "\n",
        "(30000, 33)\n"
       ]
      }
     ],
     "prompt_number": 4
    },
    {
     "cell_type": "code",
     "collapsed": false,
     "input": [
      "submit_pre = test.copy()\n",
      "\n",
      "print \"Droping columns\"\n",
      "\n",
      "train_balanced_pre.drop('Hazard', axis=1, inplace=True)\n",
      "train_balanced_pre.drop('T2_V10', axis=1, inplace=True)\n",
      "train_balanced_pre.drop('T2_V7', axis=1, inplace=True)\n",
      "train_balanced_pre.drop('T1_V13', axis=1, inplace=True)\n",
      "train_balanced_pre.drop('T1_V10', axis=1, inplace=True)\n",
      "\n",
      "test_pre.drop('Hazard', axis=1, inplace=True)\n",
      "test_pre.drop('T2_V10', axis=1, inplace=True)\n",
      "test_pre.drop('T2_V7', axis=1, inplace=True)\n",
      "test_pre.drop('T1_V13', axis=1, inplace=True)\n",
      "test_pre.drop('T1_V10', axis=1, inplace=True)\n",
      "\n",
      "submit_pre.drop('T2_V10', axis=1, inplace=True)\n",
      "submit_pre.drop('T2_V7', axis=1, inplace=True)\n",
      "submit_pre.drop('T1_V13', axis=1, inplace=True)\n",
      "submit_pre.drop('T1_V10', axis=1, inplace=True)\n",
      "\n",
      "print \"Printing labels dim:\"\n",
      "print labels_balanced.shape\n",
      "print \"Printing train dim:\"\n",
      "print train_balanced_pre.shape\n",
      "print \"Printing test dim:\"\n",
      "print test_pre.shape\n",
      "print \"Printing submit dim:\"\n",
      "print submit_pre.shape\n",
      "    \n",
      "columns = train_balanced_pre.columns\n",
      "submit_ind = submit_pre.index\n",
      "\n",
      "print \"Converting to numpy array\"\n",
      "\n",
      "train_balanced_pre = np.array(train_balanced_pre)\n",
      "labels_balanced = np.array(labels_balanced)\n",
      "\n",
      "test_pre = np.array(test_pre)\n",
      "test_labels = np.array(test_labels)\n",
      "\n",
      "submit_pre = np.array(submit_pre)"
     ],
     "language": "python",
     "metadata": {},
     "outputs": [
      {
       "output_type": "stream",
       "stream": "stdout",
       "text": [
        "Droping columns\n",
        "Printing labels dim:"
       ]
      },
      {
       "output_type": "stream",
       "stream": "stdout",
       "text": [
        "\n",
        "(30000,)\n",
        "Printing train dim:\n",
        "(30000, 28)\n",
        "Printing test dim:\n",
        "(2606, 28)\n",
        "Printing submit dim:\n",
        "(51000, 28)\n",
        "Converting to numpy array\n"
       ]
      }
     ],
     "prompt_number": 5
    },
    {
     "cell_type": "code",
     "collapsed": false,
     "input": [
      "lbl = preprocessing.LabelEncoder()\n",
      "\n",
      "print \"Converting string columns to numerical levels (train_balanced_pre)\"\n",
      "# label encode the categorical variables\n",
      "for i in range(train_balanced_pre.shape[1]):\n",
      "    lbl = preprocessing.LabelEncoder()\n",
      "    lbl.fit(list(train_balanced_pre[:,i]) + list(submit_pre[:,i]) + list(test_pre[:,i]))\n",
      "    train_balanced_pre[:,i] = lbl.transform(train_balanced_pre[:,i])\n",
      "    test_pre[:,i] = lbl.transform(test_pre[:,i])    \n",
      "    submit_pre[:,i] = lbl.transform(submit_pre[:,i])\n",
      "\n",
      "train_balanced_pre = train_balanced_pre.astype(float)\n",
      "test_pre = test_pre.astype(float)\n",
      "submit_pre = submit_pre.astype(float)\n",
      "\n",
      "print train_balanced_pre.shape\n",
      "print test_pre.shape"
     ],
     "language": "python",
     "metadata": {},
     "outputs": [
      {
       "output_type": "stream",
       "stream": "stdout",
       "text": [
        "Converting string columns to numerical levels (train_balanced_pre)\n",
        "(30000, 28)"
       ]
      },
      {
       "output_type": "stream",
       "stream": "stdout",
       "text": [
        "\n",
        "(2606, 28)\n"
       ]
      }
     ],
     "prompt_number": 6
    },
    {
     "cell_type": "markdown",
     "metadata": {},
     "source": [
      "## Seting model parameters"
     ]
    },
    {
     "cell_type": "code",
     "collapsed": false,
     "input": [
      "params = {}\n",
      "params[\"objective\"] = \"reg:linear\" # \"count:poisson\"  \n",
      "params[\"eta\"] = 0.01\n",
      "params[\"min_child_weight\"] = 5\n",
      "params[\"subsample\"] = 0.8\n",
      "params[\"colsample_bytree\"] = 0.8\n",
      "params[\"scale_pos_weight\"] = 1.0\n",
      "params[\"silent\"] = 1\n",
      "params[\"booster\"] = \"gbtree\"\n",
      "params[\"max_depth\"] = 9\n",
      "\n",
      "num_rounds = 3000\n",
      "est = 11\n",
      "\n",
      "plst = list(params.items())\n",
      "print \"Prameters list\"\n",
      "print plst\n",
      "\n",
      "\n",
      "print 'num_rounds: ' + str(num_rounds)\n",
      "print 'early_stopping_rounds: ' + str(est)"
     ],
     "language": "python",
     "metadata": {},
     "outputs": [
      {
       "output_type": "stream",
       "stream": "stdout",
       "text": [
        "Prameters list\n",
        "[('colsample_bytree', 0.8), ('silent', 1), ('scale_pos_weight', 1.0), ('min_child_weight', 5), ('subsample', 0.8), ('eta', 0.01), ('objective', 'reg:linear'), ('max_depth', 9), ('booster', 'gbtree')]\n",
        "num_rounds: 3000\n",
        "early_stopping_rounds: 11\n"
       ]
      }
     ],
     "prompt_number": 7
    },
    {
     "cell_type": "code",
     "collapsed": false,
     "input": [
      "test_rows_sampled = np.random.choice(range(len(train_balanced_pre)),10000)\n",
      "\n",
      "xgsubmit = xgb.DMatrix(submit_pre)\n",
      "xgtest = xgb.DMatrix(test_pre)\n",
      "\n",
      "#create a train and validation dmatrices \n",
      "print 'Setting validation and training data'\n",
      "xgval = xgb.DMatrix(train_balanced_pre[test_rows_sampled,:],\n",
      "\t\t\t\t      label=labels_balanced[test_rows_sampled])\n",
      "xgtrain = xgb.DMatrix(np.delete(train_balanced_pre,test_rows_sampled,0),\n",
      "\t\t\t       label=np.delete(labels_balanced,test_rows_sampled,0))\n",
      "\n",
      "print \"number of row xgsubmit\"\n",
      "print xgsubmit.num_row()\n",
      "\n",
      "print \"number of row xgtest\"\n",
      "print xgtest.num_row()\n",
      "\n",
      "print \"number of row xgtrain\"\n",
      "print xgtrain.num_row()\n",
      "\n",
      "print \"number of row xgval\"\n",
      "print xgval.num_row()"
     ],
     "language": "python",
     "metadata": {},
     "outputs": [
      {
       "output_type": "stream",
       "stream": "stdout",
       "text": [
        "Setting validation and training data\n",
        "number of row xgsubmit\n",
        "51000\n",
        "number of row xgtest\n",
        "2606\n",
        "number of row xgtrain\n",
        "21476\n",
        "number of row xgval\n",
        "10000\n"
       ]
      }
     ],
     "prompt_number": 8
    },
    {
     "cell_type": "markdown",
     "metadata": {},
     "source": [
      "## Training XGBoost"
     ]
    },
    {
     "cell_type": "code",
     "collapsed": false,
     "input": [
      "#train using early stopping and predict\n",
      "watchlist = [(xgtrain, 'train'),(xgval, 'val')]\n",
      "model = xgb.train(plst, xgtrain, num_rounds, watchlist, early_stopping_rounds=est)"
     ],
     "language": "python",
     "metadata": {},
     "outputs": [
      {
       "output_type": "stream",
       "stream": "stderr",
       "text": [
        "Will train until val error hasn't decreased in 11 rounds.\n",
        "[0]\ttrain-rmse:5.737125\tval-rmse:5.679231\n"
       ]
      },
      {
       "output_type": "stream",
       "stream": "stderr",
       "text": [
        "[1]\ttrain-rmse:5.692328\tval-rmse:5.635449\n",
        "[2]\ttrain-rmse:5.648368\tval-rmse:5.592167\n",
        "[3]\ttrain-rmse:5.604540\tval-rmse:5.549361\n"
       ]
      },
      {
       "output_type": "stream",
       "stream": "stderr",
       "text": [
        "[4]\ttrain-rmse:5.560999\tval-rmse:5.506931\n",
        "[5]\ttrain-rmse:5.518169\tval-rmse:5.465218\n",
        "[6]\ttrain-rmse:5.476098\tval-rmse:5.424095\n"
       ]
      },
      {
       "output_type": "stream",
       "stream": "stderr",
       "text": [
        "[7]\ttrain-rmse:5.434475\tval-rmse:5.383613\n",
        "[8]\ttrain-rmse:5.392992\tval-rmse:5.343231\n",
        "[9]\ttrain-rmse:5.352290\tval-rmse:5.303417\n"
       ]
      },
      {
       "output_type": "stream",
       "stream": "stderr",
       "text": [
        "[10]\ttrain-rmse:5.311845\tval-rmse:5.263725\n",
        "[11]\ttrain-rmse:5.272033\tval-rmse:5.225007\n",
        "[12]\ttrain-rmse:5.232553\tval-rmse:5.186514\n"
       ]
      },
      {
       "output_type": "stream",
       "stream": "stderr",
       "text": [
        "[13]\ttrain-rmse:5.193478\tval-rmse:5.148402\n",
        "[14]\ttrain-rmse:5.154868\tval-rmse:5.110600\n",
        "[15]\ttrain-rmse:5.116868\tval-rmse:5.073795\n"
       ]
      },
      {
       "output_type": "stream",
       "stream": "stderr",
       "text": [
        "[16]\ttrain-rmse:5.079488\tval-rmse:5.037545\n",
        "[17]\ttrain-rmse:5.042372\tval-rmse:5.001657\n",
        "[18]\ttrain-rmse:5.005847\tval-rmse:4.966000\n"
       ]
      },
      {
       "output_type": "stream",
       "stream": "stderr",
       "text": [
        "[19]\ttrain-rmse:4.969563\tval-rmse:4.930964\n",
        "[20]\ttrain-rmse:4.933564\tval-rmse:4.896208\n",
        "[21]\ttrain-rmse:4.898268\tval-rmse:4.862054\n"
       ]
      },
      {
       "output_type": "stream",
       "stream": "stderr",
       "text": [
        "[22]\ttrain-rmse:4.863061\tval-rmse:4.828021\n",
        "[23]\ttrain-rmse:4.828361\tval-rmse:4.794600\n",
        "[24]\ttrain-rmse:4.794020\tval-rmse:4.761447\n"
       ]
      },
      {
       "output_type": "stream",
       "stream": "stderr",
       "text": [
        "[25]\ttrain-rmse:4.760328\tval-rmse:4.728830\n",
        "[26]\ttrain-rmse:4.726639\tval-rmse:4.696554\n",
        "[27]\ttrain-rmse:4.693759\tval-rmse:4.664780\n"
       ]
      },
      {
       "output_type": "stream",
       "stream": "stderr",
       "text": [
        "[28]\ttrain-rmse:4.661041\tval-rmse:4.633259\n",
        "[29]\ttrain-rmse:4.628698\tval-rmse:4.602294\n",
        "[30]\ttrain-rmse:4.596720\tval-rmse:4.571674\n"
       ]
      },
      {
       "output_type": "stream",
       "stream": "stderr",
       "text": [
        "[31]\ttrain-rmse:4.564863\tval-rmse:4.541196\n",
        "[32]\ttrain-rmse:4.533397\tval-rmse:4.511104\n",
        "[33]\ttrain-rmse:4.502714\tval-rmse:4.481746\n"
       ]
      },
      {
       "output_type": "stream",
       "stream": "stderr",
       "text": [
        "[34]\ttrain-rmse:4.472322\tval-rmse:4.452488\n",
        "[35]\ttrain-rmse:4.442530\tval-rmse:4.423797\n",
        "[36]\ttrain-rmse:4.412987\tval-rmse:4.395645\n"
       ]
      },
      {
       "output_type": "stream",
       "stream": "stderr",
       "text": [
        "[37]\ttrain-rmse:4.383717\tval-rmse:4.367707\n",
        "[38]\ttrain-rmse:4.354617\tval-rmse:4.339951\n",
        "[39]\ttrain-rmse:4.325838\tval-rmse:4.312777\n"
       ]
      },
      {
       "output_type": "stream",
       "stream": "stderr",
       "text": [
        "[40]\ttrain-rmse:4.297579\tval-rmse:4.286089\n",
        "[41]\ttrain-rmse:4.269941\tval-rmse:4.259861\n",
        "[42]\ttrain-rmse:4.242640\tval-rmse:4.233963\n"
       ]
      },
      {
       "output_type": "stream",
       "stream": "stderr",
       "text": [
        "[43]\ttrain-rmse:4.215505\tval-rmse:4.208272\n",
        "[44]\ttrain-rmse:4.188574\tval-rmse:4.182698\n",
        "[45]\ttrain-rmse:4.162308\tval-rmse:4.157701\n"
       ]
      },
      {
       "output_type": "stream",
       "stream": "stderr",
       "text": [
        "[46]\ttrain-rmse:4.136181\tval-rmse:4.132955\n",
        "[47]\ttrain-rmse:4.110322\tval-rmse:4.108720\n",
        "[48]\ttrain-rmse:4.084664\tval-rmse:4.084599\n"
       ]
      },
      {
       "output_type": "stream",
       "stream": "stderr",
       "text": [
        "[49]\ttrain-rmse:4.059600\tval-rmse:4.060987\n",
        "[50]\ttrain-rmse:4.035061\tval-rmse:4.037701\n",
        "[51]\ttrain-rmse:4.010404\tval-rmse:4.014575\n"
       ]
      },
      {
       "output_type": "stream",
       "stream": "stderr",
       "text": [
        "[52]\ttrain-rmse:3.986183\tval-rmse:3.991689\n",
        "[53]\ttrain-rmse:3.962217\tval-rmse:3.969178\n",
        "[54]\ttrain-rmse:3.938335\tval-rmse:3.946943\n"
       ]
      },
      {
       "output_type": "stream",
       "stream": "stderr",
       "text": [
        "[55]\ttrain-rmse:3.915028\tval-rmse:3.925009\n",
        "[56]\ttrain-rmse:3.891821\tval-rmse:3.903262\n",
        "[57]\ttrain-rmse:3.869354\tval-rmse:3.882021\n"
       ]
      },
      {
       "output_type": "stream",
       "stream": "stderr",
       "text": [
        "[58]\ttrain-rmse:3.846900\tval-rmse:3.861031\n",
        "[59]\ttrain-rmse:3.824884\tval-rmse:3.840226\n",
        "[60]\ttrain-rmse:3.802868\tval-rmse:3.819597\n"
       ]
      },
      {
       "output_type": "stream",
       "stream": "stderr",
       "text": [
        "[61]\ttrain-rmse:3.781142\tval-rmse:3.799402\n",
        "[62]\ttrain-rmse:3.759637\tval-rmse:3.779447\n",
        "[63]\ttrain-rmse:3.738609\tval-rmse:3.759930\n"
       ]
      },
      {
       "output_type": "stream",
       "stream": "stderr",
       "text": [
        "[64]\ttrain-rmse:3.717472\tval-rmse:3.740290\n",
        "[65]\ttrain-rmse:3.696658\tval-rmse:3.721070\n",
        "[66]\ttrain-rmse:3.676227\tval-rmse:3.702364\n"
       ]
      },
      {
       "output_type": "stream",
       "stream": "stderr",
       "text": [
        "[67]\ttrain-rmse:3.656407\tval-rmse:3.683870\n",
        "[68]\ttrain-rmse:3.636182\tval-rmse:3.665438\n",
        "[69]\ttrain-rmse:3.616629\tval-rmse:3.647522\n"
       ]
      },
      {
       "output_type": "stream",
       "stream": "stderr",
       "text": [
        "[70]\ttrain-rmse:3.597349\tval-rmse:3.629693\n",
        "[71]\ttrain-rmse:3.578662\tval-rmse:3.612547\n",
        "[72]\ttrain-rmse:3.559856\tval-rmse:3.595231\n"
       ]
      },
      {
       "output_type": "stream",
       "stream": "stderr",
       "text": [
        "[73]\ttrain-rmse:3.541117\tval-rmse:3.577837\n",
        "[74]\ttrain-rmse:3.522804\tval-rmse:3.561119\n",
        "[75]\ttrain-rmse:3.504612\tval-rmse:3.544473\n"
       ]
      },
      {
       "output_type": "stream",
       "stream": "stderr",
       "text": [
        "[76]\ttrain-rmse:3.486878\tval-rmse:3.528348\n",
        "[77]\ttrain-rmse:3.469505\tval-rmse:3.512581\n",
        "[78]\ttrain-rmse:3.452368\tval-rmse:3.496848\n"
       ]
      },
      {
       "output_type": "stream",
       "stream": "stderr",
       "text": [
        "[79]\ttrain-rmse:3.435074\tval-rmse:3.481106\n",
        "[80]\ttrain-rmse:3.418265\tval-rmse:3.465769\n",
        "[81]\ttrain-rmse:3.401724\tval-rmse:3.450751\n"
       ]
      },
      {
       "output_type": "stream",
       "stream": "stderr",
       "text": [
        "[82]\ttrain-rmse:3.385241\tval-rmse:3.435849\n",
        "[83]\ttrain-rmse:3.368781\tval-rmse:3.421012\n",
        "[84]\ttrain-rmse:3.352787\tval-rmse:3.406510\n"
       ]
      },
      {
       "output_type": "stream",
       "stream": "stderr",
       "text": [
        "[85]\ttrain-rmse:3.337239\tval-rmse:3.392533\n",
        "[86]\ttrain-rmse:3.321320\tval-rmse:3.378364\n"
       ]
      },
      {
       "output_type": "stream",
       "stream": "stderr",
       "text": [
        "[87]\ttrain-rmse:3.305650\tval-rmse:3.364270\n",
        "[88]\ttrain-rmse:3.290571\tval-rmse:3.350812\n"
       ]
      },
      {
       "output_type": "stream",
       "stream": "stderr",
       "text": [
        "[89]\ttrain-rmse:3.275560\tval-rmse:3.337071\n",
        "[90]\ttrain-rmse:3.260485\tval-rmse:3.323646\n"
       ]
      },
      {
       "output_type": "stream",
       "stream": "stderr",
       "text": [
        "[91]\ttrain-rmse:3.245856\tval-rmse:3.310494\n",
        "[92]\ttrain-rmse:3.231115\tval-rmse:3.297645\n"
       ]
      },
      {
       "output_type": "stream",
       "stream": "stderr",
       "text": [
        "[93]\ttrain-rmse:3.216837\tval-rmse:3.284998\n",
        "[94]\ttrain-rmse:3.203043\tval-rmse:3.272541\n"
       ]
      },
      {
       "output_type": "stream",
       "stream": "stderr",
       "text": [
        "[95]\ttrain-rmse:3.189106\tval-rmse:3.260284\n",
        "[96]\ttrain-rmse:3.175221\tval-rmse:3.248153\n"
       ]
      },
      {
       "output_type": "stream",
       "stream": "stderr",
       "text": [
        "[97]\ttrain-rmse:3.161821\tval-rmse:3.236265\n",
        "[98]\ttrain-rmse:3.148554\tval-rmse:3.224379\n",
        "[99]\ttrain-rmse:3.135545\tval-rmse:3.213084\n"
       ]
      },
      {
       "output_type": "stream",
       "stream": "stderr",
       "text": [
        "[100]\ttrain-rmse:3.123012\tval-rmse:3.201952\n",
        "[101]\ttrain-rmse:3.110361\tval-rmse:3.190975\n",
        "[102]\ttrain-rmse:3.097452\tval-rmse:3.179841\n"
       ]
      },
      {
       "output_type": "stream",
       "stream": "stderr",
       "text": [
        "[103]\ttrain-rmse:3.084789\tval-rmse:3.168919\n",
        "[104]\ttrain-rmse:3.072713\tval-rmse:3.158462\n",
        "[105]\ttrain-rmse:3.060601\tval-rmse:3.148026\n"
       ]
      },
      {
       "output_type": "stream",
       "stream": "stderr",
       "text": [
        "[106]\ttrain-rmse:3.048626\tval-rmse:3.137569\n",
        "[107]\ttrain-rmse:3.036838\tval-rmse:3.127428\n",
        "[108]\ttrain-rmse:3.025145\tval-rmse:3.117211\n"
       ]
      },
      {
       "output_type": "stream",
       "stream": "stderr",
       "text": [
        "[109]\ttrain-rmse:3.013360\tval-rmse:3.107329\n",
        "[110]\ttrain-rmse:3.002255\tval-rmse:3.097678\n",
        "[111]\ttrain-rmse:2.991117\tval-rmse:3.088205\n"
       ]
      },
      {
       "output_type": "stream",
       "stream": "stderr",
       "text": [
        "[112]\ttrain-rmse:2.980279\tval-rmse:3.078758\n",
        "[113]\ttrain-rmse:2.969592\tval-rmse:3.069461\n",
        "[114]\ttrain-rmse:2.959050\tval-rmse:3.060333\n"
       ]
      },
      {
       "output_type": "stream",
       "stream": "stderr",
       "text": [
        "[115]\ttrain-rmse:2.948003\tval-rmse:3.051028\n",
        "[116]\ttrain-rmse:2.937621\tval-rmse:3.042162\n",
        "[117]\ttrain-rmse:2.927582\tval-rmse:3.033461\n"
       ]
      },
      {
       "output_type": "stream",
       "stream": "stderr",
       "text": [
        "[118]\ttrain-rmse:2.917247\tval-rmse:3.024848\n",
        "[119]\ttrain-rmse:2.906534\tval-rmse:3.016055\n",
        "[120]\ttrain-rmse:2.896956\tval-rmse:3.007899\n"
       ]
      },
      {
       "output_type": "stream",
       "stream": "stderr",
       "text": [
        "[121]\ttrain-rmse:2.887090\tval-rmse:2.999819\n",
        "[122]\ttrain-rmse:2.877353\tval-rmse:2.991664\n",
        "[123]\ttrain-rmse:2.868265\tval-rmse:2.984051\n"
       ]
      },
      {
       "output_type": "stream",
       "stream": "stderr",
       "text": [
        "[124]\ttrain-rmse:2.858696\tval-rmse:2.976146\n",
        "[125]\ttrain-rmse:2.849422\tval-rmse:2.968405\n",
        "[126]\ttrain-rmse:2.840147\tval-rmse:2.960646\n"
       ]
      },
      {
       "output_type": "stream",
       "stream": "stderr",
       "text": [
        "[127]\ttrain-rmse:2.830955\tval-rmse:2.953021\n",
        "[128]\ttrain-rmse:2.822496\tval-rmse:2.945814\n",
        "[129]\ttrain-rmse:2.813450\tval-rmse:2.938369\n"
       ]
      },
      {
       "output_type": "stream",
       "stream": "stderr",
       "text": [
        "[130]\ttrain-rmse:2.804874\tval-rmse:2.931376\n",
        "[131]\ttrain-rmse:2.796325\tval-rmse:2.924502\n",
        "[132]\ttrain-rmse:2.787982\tval-rmse:2.917542\n"
       ]
      },
      {
       "output_type": "stream",
       "stream": "stderr",
       "text": [
        "[133]\ttrain-rmse:2.779793\tval-rmse:2.910853\n",
        "[134]\ttrain-rmse:2.771081\tval-rmse:2.903800\n",
        "[135]\ttrain-rmse:2.763208\tval-rmse:2.897297\n",
        "[136]\ttrain-rmse:2.755147\tval-rmse:2.890889\n"
       ]
      },
      {
       "output_type": "stream",
       "stream": "stderr",
       "text": [
        "[137]\ttrain-rmse:2.747361\tval-rmse:2.884597\n",
        "[138]\ttrain-rmse:2.739354\tval-rmse:2.878176\n",
        "[139]\ttrain-rmse:2.731778\tval-rmse:2.872063\n"
       ]
      },
      {
       "output_type": "stream",
       "stream": "stderr",
       "text": [
        "[140]\ttrain-rmse:2.724260\tval-rmse:2.865977\n",
        "[141]\ttrain-rmse:2.716243\tval-rmse:2.859475\n",
        "[142]\ttrain-rmse:2.709102\tval-rmse:2.853770\n"
       ]
      },
      {
       "output_type": "stream",
       "stream": "stderr",
       "text": [
        "[143]\ttrain-rmse:2.702114\tval-rmse:2.848321\n",
        "[144]\ttrain-rmse:2.694939\tval-rmse:2.842550\n",
        "[145]\ttrain-rmse:2.687820\tval-rmse:2.836967\n"
       ]
      },
      {
       "output_type": "stream",
       "stream": "stderr",
       "text": [
        "[146]\ttrain-rmse:2.680874\tval-rmse:2.831525\n",
        "[147]\ttrain-rmse:2.673819\tval-rmse:2.825896\n",
        "[148]\ttrain-rmse:2.667040\tval-rmse:2.820534\n"
       ]
      },
      {
       "output_type": "stream",
       "stream": "stderr",
       "text": [
        "[149]\ttrain-rmse:2.660368\tval-rmse:2.815181\n",
        "[150]\ttrain-rmse:2.653499\tval-rmse:2.809852\n",
        "[151]\ttrain-rmse:2.646462\tval-rmse:2.804347\n"
       ]
      },
      {
       "output_type": "stream",
       "stream": "stderr",
       "text": [
        "[152]\ttrain-rmse:2.640043\tval-rmse:2.799418\n",
        "[153]\ttrain-rmse:2.633598\tval-rmse:2.794384\n",
        "[154]\ttrain-rmse:2.627421\tval-rmse:2.789615\n"
       ]
      },
      {
       "output_type": "stream",
       "stream": "stderr",
       "text": [
        "[155]\ttrain-rmse:2.621103\tval-rmse:2.784727\n",
        "[156]\ttrain-rmse:2.614677\tval-rmse:2.779674\n",
        "[157]\ttrain-rmse:2.608723\tval-rmse:2.775002\n"
       ]
      },
      {
       "output_type": "stream",
       "stream": "stderr",
       "text": [
        "[158]\ttrain-rmse:2.602629\tval-rmse:2.770397\n",
        "[159]\ttrain-rmse:2.596938\tval-rmse:2.765933\n",
        "[160]\ttrain-rmse:2.591223\tval-rmse:2.761620\n"
       ]
      },
      {
       "output_type": "stream",
       "stream": "stderr",
       "text": [
        "[161]\ttrain-rmse:2.585643\tval-rmse:2.757281\n",
        "[162]\ttrain-rmse:2.579708\tval-rmse:2.752918\n",
        "[163]\ttrain-rmse:2.573642\tval-rmse:2.748334\n"
       ]
      },
      {
       "output_type": "stream",
       "stream": "stderr",
       "text": [
        "[164]\ttrain-rmse:2.568156\tval-rmse:2.744333\n",
        "[165]\ttrain-rmse:2.562676\tval-rmse:2.740206\n",
        "[166]\ttrain-rmse:2.557699\tval-rmse:2.736273\n"
       ]
      },
      {
       "output_type": "stream",
       "stream": "stderr",
       "text": [
        "[167]\ttrain-rmse:2.552516\tval-rmse:2.732327\n",
        "[168]\ttrain-rmse:2.547506\tval-rmse:2.728642\n",
        "[169]\ttrain-rmse:2.542596\tval-rmse:2.724933\n",
        "[170]\ttrain-rmse:2.537591\tval-rmse:2.721090\n"
       ]
      },
      {
       "output_type": "stream",
       "stream": "stderr",
       "text": [
        "[171]\ttrain-rmse:2.532107\tval-rmse:2.717289\n",
        "[172]\ttrain-rmse:2.527487\tval-rmse:2.713896\n",
        "[173]\ttrain-rmse:2.522614\tval-rmse:2.710347\n",
        "[174]\ttrain-rmse:2.517770\tval-rmse:2.706855\n"
       ]
      },
      {
       "output_type": "stream",
       "stream": "stderr",
       "text": [
        "[175]\ttrain-rmse:2.512933\tval-rmse:2.703080\n",
        "[176]\ttrain-rmse:2.508436\tval-rmse:2.699563\n",
        "[177]\ttrain-rmse:2.503772\tval-rmse:2.696069\n"
       ]
      },
      {
       "output_type": "stream",
       "stream": "stderr",
       "text": [
        "[178]\ttrain-rmse:2.499468\tval-rmse:2.692853\n",
        "[179]\ttrain-rmse:2.495030\tval-rmse:2.689680\n",
        "[180]\ttrain-rmse:2.489978\tval-rmse:2.686033\n"
       ]
      },
      {
       "output_type": "stream",
       "stream": "stderr",
       "text": [
        "[181]\ttrain-rmse:2.485497\tval-rmse:2.682754\n",
        "[182]\ttrain-rmse:2.480613\tval-rmse:2.679274\n",
        "[183]\ttrain-rmse:2.476440\tval-rmse:2.676321\n"
       ]
      },
      {
       "output_type": "stream",
       "stream": "stderr",
       "text": [
        "[184]\ttrain-rmse:2.471811\tval-rmse:2.673250\n",
        "[185]\ttrain-rmse:2.466793\tval-rmse:2.670034\n",
        "[186]\ttrain-rmse:2.463093\tval-rmse:2.667365\n"
       ]
      },
      {
       "output_type": "stream",
       "stream": "stderr",
       "text": [
        "[187]\ttrain-rmse:2.458369\tval-rmse:2.664116\n",
        "[188]\ttrain-rmse:2.454607\tval-rmse:2.661330\n",
        "[189]\ttrain-rmse:2.450548\tval-rmse:2.658336\n"
       ]
      },
      {
       "output_type": "stream",
       "stream": "stderr",
       "text": [
        "[190]\ttrain-rmse:2.446725\tval-rmse:2.655428\n",
        "[191]\ttrain-rmse:2.443063\tval-rmse:2.652817\n",
        "[192]\ttrain-rmse:2.438790\tval-rmse:2.649773\n"
       ]
      },
      {
       "output_type": "stream",
       "stream": "stderr",
       "text": [
        "[193]\ttrain-rmse:2.434850\tval-rmse:2.646807\n",
        "[194]\ttrain-rmse:2.430569\tval-rmse:2.643858\n",
        "[195]\ttrain-rmse:2.426668\tval-rmse:2.641123\n"
       ]
      },
      {
       "output_type": "stream",
       "stream": "stderr",
       "text": [
        "[196]\ttrain-rmse:2.423164\tval-rmse:2.638611\n",
        "[197]\ttrain-rmse:2.419612\tval-rmse:2.636093\n",
        "[198]\ttrain-rmse:2.415805\tval-rmse:2.633400\n"
       ]
      },
      {
       "output_type": "stream",
       "stream": "stderr",
       "text": [
        "[199]\ttrain-rmse:2.411904\tval-rmse:2.630710\n",
        "[200]\ttrain-rmse:2.408326\tval-rmse:2.628377\n",
        "[201]\ttrain-rmse:2.405010\tval-rmse:2.626126\n"
       ]
      },
      {
       "output_type": "stream",
       "stream": "stderr",
       "text": [
        "[202]\ttrain-rmse:2.401181\tval-rmse:2.623489\n",
        "[203]\ttrain-rmse:2.397567\tval-rmse:2.621190\n",
        "[204]\ttrain-rmse:2.393809\tval-rmse:2.618653\n"
       ]
      },
      {
       "output_type": "stream",
       "stream": "stderr",
       "text": [
        "[205]\ttrain-rmse:2.389782\tval-rmse:2.615934\n",
        "[206]\ttrain-rmse:2.386130\tval-rmse:2.613605\n",
        "[207]\ttrain-rmse:2.382671\tval-rmse:2.611188\n"
       ]
      },
      {
       "output_type": "stream",
       "stream": "stderr",
       "text": [
        "[208]\ttrain-rmse:2.379165\tval-rmse:2.608913\n",
        "[209]\ttrain-rmse:2.375705\tval-rmse:2.606552\n",
        "[210]\ttrain-rmse:2.372306\tval-rmse:2.604363\n"
       ]
      },
      {
       "output_type": "stream",
       "stream": "stderr",
       "text": [
        "[211]\ttrain-rmse:2.368630\tval-rmse:2.602019\n",
        "[212]\ttrain-rmse:2.365334\tval-rmse:2.599734\n",
        "[213]\ttrain-rmse:2.361184\tval-rmse:2.597121\n"
       ]
      },
      {
       "output_type": "stream",
       "stream": "stderr",
       "text": [
        "[214]\ttrain-rmse:2.358601\tval-rmse:2.595329\n",
        "[215]\ttrain-rmse:2.355813\tval-rmse:2.593539\n",
        "[216]\ttrain-rmse:2.352778\tval-rmse:2.591668\n"
       ]
      },
      {
       "output_type": "stream",
       "stream": "stderr",
       "text": [
        "[217]\ttrain-rmse:2.349334\tval-rmse:2.589690\n",
        "[218]\ttrain-rmse:2.346010\tval-rmse:2.587526\n",
        "[219]\ttrain-rmse:2.342877\tval-rmse:2.585519\n"
       ]
      },
      {
       "output_type": "stream",
       "stream": "stderr",
       "text": [
        "[220]\ttrain-rmse:2.339538\tval-rmse:2.583419\n",
        "[221]\ttrain-rmse:2.336684\tval-rmse:2.581464\n",
        "[222]\ttrain-rmse:2.333556\tval-rmse:2.579550\n"
       ]
      },
      {
       "output_type": "stream",
       "stream": "stderr",
       "text": [
        "[223]\ttrain-rmse:2.331164\tval-rmse:2.577941\n",
        "[224]\ttrain-rmse:2.328274\tval-rmse:2.576180\n",
        "[225]\ttrain-rmse:2.325186\tval-rmse:2.574158\n"
       ]
      },
      {
       "output_type": "stream",
       "stream": "stderr",
       "text": [
        "[226]\ttrain-rmse:2.321768\tval-rmse:2.572038\n",
        "[227]\ttrain-rmse:2.319681\tval-rmse:2.570712\n",
        "[228]\ttrain-rmse:2.316984\tval-rmse:2.569069\n",
        "[229]\ttrain-rmse:2.314651\tval-rmse:2.567678\n"
       ]
      },
      {
       "output_type": "stream",
       "stream": "stderr",
       "text": [
        "[230]\ttrain-rmse:2.311785\tval-rmse:2.565878\n",
        "[231]\ttrain-rmse:2.309378\tval-rmse:2.564397\n",
        "[232]\ttrain-rmse:2.307072\tval-rmse:2.562975\n"
       ]
      },
      {
       "output_type": "stream",
       "stream": "stderr",
       "text": [
        "[233]\ttrain-rmse:2.304418\tval-rmse:2.561407\n",
        "[234]\ttrain-rmse:2.301695\tval-rmse:2.559837\n",
        "[235]\ttrain-rmse:2.298878\tval-rmse:2.558197\n"
       ]
      },
      {
       "output_type": "stream",
       "stream": "stderr",
       "text": [
        "[236]\ttrain-rmse:2.296200\tval-rmse:2.556684\n",
        "[237]\ttrain-rmse:2.293933\tval-rmse:2.555239\n",
        "[238]\ttrain-rmse:2.291550\tval-rmse:2.553810\n"
       ]
      },
      {
       "output_type": "stream",
       "stream": "stderr",
       "text": [
        "[239]\ttrain-rmse:2.289077\tval-rmse:2.552268\n",
        "[240]\ttrain-rmse:2.286298\tval-rmse:2.550609\n",
        "[241]\ttrain-rmse:2.283104\tval-rmse:2.548887\n"
       ]
      },
      {
       "output_type": "stream",
       "stream": "stderr",
       "text": [
        "[242]\ttrain-rmse:2.280493\tval-rmse:2.547208\n",
        "[243]\ttrain-rmse:2.278018\tval-rmse:2.545589\n",
        "[244]\ttrain-rmse:2.275952\tval-rmse:2.544337\n"
       ]
      },
      {
       "output_type": "stream",
       "stream": "stderr",
       "text": [
        "[245]\ttrain-rmse:2.273662\tval-rmse:2.542947\n",
        "[246]\ttrain-rmse:2.271158\tval-rmse:2.541460\n",
        "[247]\ttrain-rmse:2.268662\tval-rmse:2.540034\n"
       ]
      },
      {
       "output_type": "stream",
       "stream": "stderr",
       "text": [
        "[248]\ttrain-rmse:2.266222\tval-rmse:2.538504\n",
        "[249]\ttrain-rmse:2.264267\tval-rmse:2.537300\n",
        "[250]\ttrain-rmse:2.262278\tval-rmse:2.536124\n"
       ]
      },
      {
       "output_type": "stream",
       "stream": "stderr",
       "text": [
        "[251]\ttrain-rmse:2.260024\tval-rmse:2.534811\n",
        "[252]\ttrain-rmse:2.257888\tval-rmse:2.533706\n",
        "[253]\ttrain-rmse:2.255272\tval-rmse:2.532329\n"
       ]
      },
      {
       "output_type": "stream",
       "stream": "stderr",
       "text": [
        "[254]\ttrain-rmse:2.252908\tval-rmse:2.530936\n",
        "[255]\ttrain-rmse:2.250772\tval-rmse:2.529891\n",
        "[256]\ttrain-rmse:2.248512\tval-rmse:2.528653\n"
       ]
      },
      {
       "output_type": "stream",
       "stream": "stderr",
       "text": [
        "[257]\ttrain-rmse:2.246334\tval-rmse:2.527362\n",
        "[258]\ttrain-rmse:2.243804\tval-rmse:2.525918\n",
        "[259]\ttrain-rmse:2.241952\tval-rmse:2.524826\n"
       ]
      },
      {
       "output_type": "stream",
       "stream": "stderr",
       "text": [
        "[260]\ttrain-rmse:2.239718\tval-rmse:2.523646\n",
        "[261]\ttrain-rmse:2.237543\tval-rmse:2.522476\n",
        "[262]\ttrain-rmse:2.235435\tval-rmse:2.521169\n",
        "[263]\ttrain-rmse:2.233415\tval-rmse:2.519998\n"
       ]
      },
      {
       "output_type": "stream",
       "stream": "stderr",
       "text": [
        "[264]\ttrain-rmse:2.231551\tval-rmse:2.518914\n",
        "[265]\ttrain-rmse:2.229189\tval-rmse:2.517638\n",
        "[266]\ttrain-rmse:2.226888\tval-rmse:2.516318\n"
       ]
      },
      {
       "output_type": "stream",
       "stream": "stderr",
       "text": [
        "[267]\ttrain-rmse:2.224615\tval-rmse:2.515217\n",
        "[268]\ttrain-rmse:2.222679\tval-rmse:2.514116\n",
        "[269]\ttrain-rmse:2.221057\tval-rmse:2.513425\n",
        "[270]\ttrain-rmse:2.219620\tval-rmse:2.512661\n"
       ]
      },
      {
       "output_type": "stream",
       "stream": "stderr",
       "text": [
        "[271]\ttrain-rmse:2.217529\tval-rmse:2.511446\n",
        "[272]\ttrain-rmse:2.215559\tval-rmse:2.510448\n",
        "[273]\ttrain-rmse:2.213301\tval-rmse:2.509273\n"
       ]
      },
      {
       "output_type": "stream",
       "stream": "stderr",
       "text": [
        "[274]\ttrain-rmse:2.211482\tval-rmse:2.508227\n",
        "[275]\ttrain-rmse:2.209467\tval-rmse:2.507141\n",
        "[276]\ttrain-rmse:2.207274\tval-rmse:2.506005\n"
       ]
      },
      {
       "output_type": "stream",
       "stream": "stderr",
       "text": [
        "[277]\ttrain-rmse:2.205822\tval-rmse:2.505374\n",
        "[278]\ttrain-rmse:2.204537\tval-rmse:2.504730\n",
        "[279]\ttrain-rmse:2.203073\tval-rmse:2.503907\n",
        "[280]\ttrain-rmse:2.201175\tval-rmse:2.502949\n"
       ]
      },
      {
       "output_type": "stream",
       "stream": "stderr",
       "text": [
        "[281]\ttrain-rmse:2.199855\tval-rmse:2.502177\n",
        "[282]\ttrain-rmse:2.198084\tval-rmse:2.501204\n",
        "[283]\ttrain-rmse:2.196943\tval-rmse:2.500608\n",
        "[284]\ttrain-rmse:2.195397\tval-rmse:2.499776\n"
       ]
      },
      {
       "output_type": "stream",
       "stream": "stderr",
       "text": [
        "[285]\ttrain-rmse:2.193162\tval-rmse:2.498550\n",
        "[286]\ttrain-rmse:2.190877\tval-rmse:2.497330\n",
        "[287]\ttrain-rmse:2.189519\tval-rmse:2.496730\n"
       ]
      },
      {
       "output_type": "stream",
       "stream": "stderr",
       "text": [
        "[288]\ttrain-rmse:2.187713\tval-rmse:2.495685\n",
        "[289]\ttrain-rmse:2.185938\tval-rmse:2.494868\n",
        "[290]\ttrain-rmse:2.184072\tval-rmse:2.493870\n"
       ]
      },
      {
       "output_type": "stream",
       "stream": "stderr",
       "text": [
        "[291]\ttrain-rmse:2.182616\tval-rmse:2.493058\n",
        "[292]\ttrain-rmse:2.180882\tval-rmse:2.492159\n",
        "[293]\ttrain-rmse:2.178596\tval-rmse:2.490907\n"
       ]
      },
      {
       "output_type": "stream",
       "stream": "stderr",
       "text": [
        "[294]\ttrain-rmse:2.176396\tval-rmse:2.489836\n",
        "[295]\ttrain-rmse:2.174553\tval-rmse:2.488878\n",
        "[296]\ttrain-rmse:2.173274\tval-rmse:2.488152\n"
       ]
      },
      {
       "output_type": "stream",
       "stream": "stderr",
       "text": [
        "[297]\ttrain-rmse:2.171674\tval-rmse:2.487354\n",
        "[298]\ttrain-rmse:2.170225\tval-rmse:2.486659\n",
        "[299]\ttrain-rmse:2.168853\tval-rmse:2.485804\n",
        "[300]\ttrain-rmse:2.167259\tval-rmse:2.485065\n"
       ]
      },
      {
       "output_type": "stream",
       "stream": "stderr",
       "text": [
        "[301]\ttrain-rmse:2.166137\tval-rmse:2.484454\n",
        "[302]\ttrain-rmse:2.164575\tval-rmse:2.483706\n",
        "[303]\ttrain-rmse:2.162560\tval-rmse:2.482594\n"
       ]
      },
      {
       "output_type": "stream",
       "stream": "stderr",
       "text": [
        "[304]\ttrain-rmse:2.160510\tval-rmse:2.481500\n",
        "[305]\ttrain-rmse:2.159117\tval-rmse:2.480852\n",
        "[306]\ttrain-rmse:2.157237\tval-rmse:2.479914\n",
        "[307]\ttrain-rmse:2.155815\tval-rmse:2.479290\n"
       ]
      },
      {
       "output_type": "stream",
       "stream": "stderr",
       "text": [
        "[308]\ttrain-rmse:2.154521\tval-rmse:2.478610\n",
        "[309]\ttrain-rmse:2.152682\tval-rmse:2.477654\n",
        "[310]\ttrain-rmse:2.151386\tval-rmse:2.476928\n"
       ]
      },
      {
       "output_type": "stream",
       "stream": "stderr",
       "text": [
        "[311]\ttrain-rmse:2.149538\tval-rmse:2.475993\n",
        "[312]\ttrain-rmse:2.148688\tval-rmse:2.475551\n",
        "[313]\ttrain-rmse:2.146658\tval-rmse:2.474608\n"
       ]
      },
      {
       "output_type": "stream",
       "stream": "stderr",
       "text": [
        "[314]\ttrain-rmse:2.144747\tval-rmse:2.473797\n",
        "[315]\ttrain-rmse:2.143011\tval-rmse:2.472995\n",
        "[316]\ttrain-rmse:2.141032\tval-rmse:2.471963\n"
       ]
      },
      {
       "output_type": "stream",
       "stream": "stderr",
       "text": [
        "[317]\ttrain-rmse:2.139908\tval-rmse:2.471280\n",
        "[318]\ttrain-rmse:2.138923\tval-rmse:2.470781\n",
        "[319]\ttrain-rmse:2.137528\tval-rmse:2.470118\n"
       ]
      },
      {
       "output_type": "stream",
       "stream": "stderr",
       "text": [
        "[320]\ttrain-rmse:2.136301\tval-rmse:2.469560\n",
        "[321]\ttrain-rmse:2.134625\tval-rmse:2.468700\n",
        "[322]\ttrain-rmse:2.132904\tval-rmse:2.467839\n"
       ]
      },
      {
       "output_type": "stream",
       "stream": "stderr",
       "text": [
        "[323]\ttrain-rmse:2.131749\tval-rmse:2.467168\n",
        "[324]\ttrain-rmse:2.130653\tval-rmse:2.466546\n",
        "[325]\ttrain-rmse:2.129332\tval-rmse:2.465822\n"
       ]
      },
      {
       "output_type": "stream",
       "stream": "stderr",
       "text": [
        "[326]\ttrain-rmse:2.128420\tval-rmse:2.465338\n",
        "[327]\ttrain-rmse:2.126640\tval-rmse:2.464360\n",
        "[328]\ttrain-rmse:2.125073\tval-rmse:2.463723\n"
       ]
      },
      {
       "output_type": "stream",
       "stream": "stderr",
       "text": [
        "[329]\ttrain-rmse:2.123203\tval-rmse:2.462711\n",
        "[330]\ttrain-rmse:2.122070\tval-rmse:2.462195\n",
        "[331]\ttrain-rmse:2.120568\tval-rmse:2.461455\n"
       ]
      },
      {
       "output_type": "stream",
       "stream": "stderr",
       "text": [
        "[332]\ttrain-rmse:2.118807\tval-rmse:2.460695\n",
        "[333]\ttrain-rmse:2.117962\tval-rmse:2.460241\n",
        "[334]\ttrain-rmse:2.116285\tval-rmse:2.459413\n"
       ]
      },
      {
       "output_type": "stream",
       "stream": "stderr",
       "text": [
        "[335]\ttrain-rmse:2.114698\tval-rmse:2.458566\n",
        "[336]\ttrain-rmse:2.112714\tval-rmse:2.457685\n",
        "[337]\ttrain-rmse:2.111396\tval-rmse:2.457079\n"
       ]
      },
      {
       "output_type": "stream",
       "stream": "stderr",
       "text": [
        "[338]\ttrain-rmse:2.110070\tval-rmse:2.456586\n",
        "[339]\ttrain-rmse:2.107981\tval-rmse:2.455689\n",
        "[340]\ttrain-rmse:2.106923\tval-rmse:2.455118\n"
       ]
      },
      {
       "output_type": "stream",
       "stream": "stderr",
       "text": [
        "[341]\ttrain-rmse:2.105696\tval-rmse:2.454467\n",
        "[342]\ttrain-rmse:2.104443\tval-rmse:2.453810\n",
        "[343]\ttrain-rmse:2.103132\tval-rmse:2.453076\n",
        "[344]\ttrain-rmse:2.102368\tval-rmse:2.452664\n"
       ]
      },
      {
       "output_type": "stream",
       "stream": "stderr",
       "text": [
        "[345]\ttrain-rmse:2.100861\tval-rmse:2.452000\n",
        "[346]\ttrain-rmse:2.099713\tval-rmse:2.451510\n",
        "[347]\ttrain-rmse:2.098231\tval-rmse:2.450742\n"
       ]
      },
      {
       "output_type": "stream",
       "stream": "stderr",
       "text": [
        "[348]\ttrain-rmse:2.097186\tval-rmse:2.450278\n",
        "[349]\ttrain-rmse:2.096041\tval-rmse:2.449829\n",
        "[350]\ttrain-rmse:2.094079\tval-rmse:2.448988\n"
       ]
      },
      {
       "output_type": "stream",
       "stream": "stderr",
       "text": [
        "[351]\ttrain-rmse:2.093372\tval-rmse:2.448656\n",
        "[352]\ttrain-rmse:2.092298\tval-rmse:2.448120\n",
        "[353]\ttrain-rmse:2.090701\tval-rmse:2.447248\n"
       ]
      },
      {
       "output_type": "stream",
       "stream": "stderr",
       "text": [
        "[354]\ttrain-rmse:2.089204\tval-rmse:2.446379\n",
        "[355]\ttrain-rmse:2.088067\tval-rmse:2.445719\n",
        "[356]\ttrain-rmse:2.085883\tval-rmse:2.444526\n"
       ]
      },
      {
       "output_type": "stream",
       "stream": "stderr",
       "text": [
        "[357]\ttrain-rmse:2.084555\tval-rmse:2.443740\n",
        "[358]\ttrain-rmse:2.082447\tval-rmse:2.442702\n",
        "[359]\ttrain-rmse:2.081046\tval-rmse:2.442083\n"
       ]
      },
      {
       "output_type": "stream",
       "stream": "stderr",
       "text": [
        "[360]\ttrain-rmse:2.079757\tval-rmse:2.441532\n",
        "[361]\ttrain-rmse:2.078661\tval-rmse:2.440921\n",
        "[362]\ttrain-rmse:2.077920\tval-rmse:2.440523\n",
        "[363]\ttrain-rmse:2.077002\tval-rmse:2.440208\n"
       ]
      },
      {
       "output_type": "stream",
       "stream": "stderr",
       "text": [
        "[364]\ttrain-rmse:2.075695\tval-rmse:2.439587\n",
        "[365]\ttrain-rmse:2.074142\tval-rmse:2.438855\n",
        "[366]\ttrain-rmse:2.072720\tval-rmse:2.438285\n"
       ]
      },
      {
       "output_type": "stream",
       "stream": "stderr",
       "text": [
        "[367]\ttrain-rmse:2.070893\tval-rmse:2.437458\n",
        "[368]\ttrain-rmse:2.069120\tval-rmse:2.436598\n",
        "[369]\ttrain-rmse:2.068049\tval-rmse:2.436068\n"
       ]
      },
      {
       "output_type": "stream",
       "stream": "stderr",
       "text": [
        "[370]\ttrain-rmse:2.067197\tval-rmse:2.435625\n",
        "[371]\ttrain-rmse:2.065573\tval-rmse:2.434865\n",
        "[372]\ttrain-rmse:2.064379\tval-rmse:2.434356\n"
       ]
      },
      {
       "output_type": "stream",
       "stream": "stderr",
       "text": [
        "[373]\ttrain-rmse:2.063122\tval-rmse:2.433682\n",
        "[374]\ttrain-rmse:2.061153\tval-rmse:2.432687\n",
        "[375]\ttrain-rmse:2.059458\tval-rmse:2.431849\n"
       ]
      },
      {
       "output_type": "stream",
       "stream": "stderr",
       "text": [
        "[376]\ttrain-rmse:2.057727\tval-rmse:2.431018\n",
        "[377]\ttrain-rmse:2.056224\tval-rmse:2.430306\n",
        "[378]\ttrain-rmse:2.054432\tval-rmse:2.429605\n"
       ]
      },
      {
       "output_type": "stream",
       "stream": "stderr",
       "text": [
        "[379]\ttrain-rmse:2.052984\tval-rmse:2.428849\n",
        "[380]\ttrain-rmse:2.051737\tval-rmse:2.428232\n",
        "[381]\ttrain-rmse:2.050273\tval-rmse:2.427757\n"
       ]
      },
      {
       "output_type": "stream",
       "stream": "stderr",
       "text": [
        "[382]\ttrain-rmse:2.049291\tval-rmse:2.427367\n",
        "[383]\ttrain-rmse:2.047627\tval-rmse:2.426562\n",
        "[384]\ttrain-rmse:2.045799\tval-rmse:2.425689\n"
       ]
      },
      {
       "output_type": "stream",
       "stream": "stderr",
       "text": [
        "[385]\ttrain-rmse:2.044240\tval-rmse:2.425013\n",
        "[386]\ttrain-rmse:2.043087\tval-rmse:2.424431\n",
        "[387]\ttrain-rmse:2.042213\tval-rmse:2.424042\n"
       ]
      },
      {
       "output_type": "stream",
       "stream": "stderr",
       "text": [
        "[388]\ttrain-rmse:2.040906\tval-rmse:2.423362\n",
        "[389]\ttrain-rmse:2.039742\tval-rmse:2.422847\n",
        "[390]\ttrain-rmse:2.038073\tval-rmse:2.422330\n"
       ]
      },
      {
       "output_type": "stream",
       "stream": "stderr",
       "text": [
        "[391]\ttrain-rmse:2.036964\tval-rmse:2.421846\n",
        "[392]\ttrain-rmse:2.036046\tval-rmse:2.421436\n",
        "[393]\ttrain-rmse:2.034806\tval-rmse:2.420842\n"
       ]
      },
      {
       "output_type": "stream",
       "stream": "stderr",
       "text": [
        "[394]\ttrain-rmse:2.033278\tval-rmse:2.420039\n",
        "[395]\ttrain-rmse:2.031918\tval-rmse:2.419532\n",
        "[396]\ttrain-rmse:2.030701\tval-rmse:2.418978\n"
       ]
      },
      {
       "output_type": "stream",
       "stream": "stderr",
       "text": [
        "[397]\ttrain-rmse:2.029634\tval-rmse:2.418471\n",
        "[398]\ttrain-rmse:2.028838\tval-rmse:2.418136\n",
        "[399]\ttrain-rmse:2.027076\tval-rmse:2.417231\n"
       ]
      },
      {
       "output_type": "stream",
       "stream": "stderr",
       "text": [
        "[400]\ttrain-rmse:2.026179\tval-rmse:2.416853\n",
        "[401]\ttrain-rmse:2.024517\tval-rmse:2.416219\n",
        "[402]\ttrain-rmse:2.023118\tval-rmse:2.415612\n"
       ]
      },
      {
       "output_type": "stream",
       "stream": "stderr",
       "text": [
        "[403]\ttrain-rmse:2.021857\tval-rmse:2.415011\n",
        "[404]\ttrain-rmse:2.021094\tval-rmse:2.414630\n",
        "[405]\ttrain-rmse:2.019540\tval-rmse:2.413910\n"
       ]
      },
      {
       "output_type": "stream",
       "stream": "stderr",
       "text": [
        "[406]\ttrain-rmse:2.018768\tval-rmse:2.413537\n",
        "[407]\ttrain-rmse:2.017041\tval-rmse:2.412611\n",
        "[408]\ttrain-rmse:2.015988\tval-rmse:2.412148\n"
       ]
      },
      {
       "output_type": "stream",
       "stream": "stderr",
       "text": [
        "[409]\ttrain-rmse:2.014440\tval-rmse:2.411491\n",
        "[410]\ttrain-rmse:2.013460\tval-rmse:2.411023\n",
        "[411]\ttrain-rmse:2.012189\tval-rmse:2.410467\n",
        "[412]\ttrain-rmse:2.010502\tval-rmse:2.409640\n"
       ]
      },
      {
       "output_type": "stream",
       "stream": "stderr",
       "text": [
        "[413]\ttrain-rmse:2.008618\tval-rmse:2.408810\n",
        "[414]\ttrain-rmse:2.007478\tval-rmse:2.408275\n",
        "[415]\ttrain-rmse:2.006043\tval-rmse:2.407595\n"
       ]
      },
      {
       "output_type": "stream",
       "stream": "stderr",
       "text": [
        "[416]\ttrain-rmse:2.004844\tval-rmse:2.406992\n",
        "[417]\ttrain-rmse:2.003872\tval-rmse:2.406541\n",
        "[418]\ttrain-rmse:2.002556\tval-rmse:2.405958\n"
       ]
      },
      {
       "output_type": "stream",
       "stream": "stderr",
       "text": [
        "[419]\ttrain-rmse:2.001151\tval-rmse:2.405325\n",
        "[420]\ttrain-rmse:2.000116\tval-rmse:2.404840\n",
        "[421]\ttrain-rmse:1.998437\tval-rmse:2.404115\n",
        "[422]\ttrain-rmse:1.998076\tval-rmse:2.403929\n"
       ]
      },
      {
       "output_type": "stream",
       "stream": "stderr",
       "text": [
        "[423]\ttrain-rmse:1.996844\tval-rmse:2.403455\n",
        "[424]\ttrain-rmse:1.995766\tval-rmse:2.402987\n",
        "[425]\ttrain-rmse:1.995098\tval-rmse:2.402658\n"
       ]
      },
      {
       "output_type": "stream",
       "stream": "stderr",
       "text": [
        "[426]\ttrain-rmse:1.993695\tval-rmse:2.402067\n",
        "[427]\ttrain-rmse:1.992987\tval-rmse:2.401646\n",
        "[428]\ttrain-rmse:1.992046\tval-rmse:2.401139\n"
       ]
      },
      {
       "output_type": "stream",
       "stream": "stderr",
       "text": [
        "[429]\ttrain-rmse:1.990282\tval-rmse:2.400373\n",
        "[430]\ttrain-rmse:1.989756\tval-rmse:2.400157\n",
        "[431]\ttrain-rmse:1.988710\tval-rmse:2.399761\n"
       ]
      },
      {
       "output_type": "stream",
       "stream": "stderr",
       "text": [
        "[432]\ttrain-rmse:1.987847\tval-rmse:2.399441\n",
        "[433]\ttrain-rmse:1.986602\tval-rmse:2.398727\n",
        "[434]\ttrain-rmse:1.985918\tval-rmse:2.398464\n",
        "[435]\ttrain-rmse:1.984489\tval-rmse:2.397943\n"
       ]
      },
      {
       "output_type": "stream",
       "stream": "stderr",
       "text": [
        "[436]\ttrain-rmse:1.983445\tval-rmse:2.397464\n",
        "[437]\ttrain-rmse:1.983065\tval-rmse:2.397289\n",
        "[438]\ttrain-rmse:1.981861\tval-rmse:2.396908\n"
       ]
      },
      {
       "output_type": "stream",
       "stream": "stderr",
       "text": [
        "[439]\ttrain-rmse:1.980826\tval-rmse:2.396467\n",
        "[440]\ttrain-rmse:1.979730\tval-rmse:2.396059\n",
        "[441]\ttrain-rmse:1.979067\tval-rmse:2.395763\n",
        "[442]\ttrain-rmse:1.978446\tval-rmse:2.395474\n"
       ]
      },
      {
       "output_type": "stream",
       "stream": "stderr",
       "text": [
        "[443]\ttrain-rmse:1.976789\tval-rmse:2.394676\n",
        "[444]\ttrain-rmse:1.975863\tval-rmse:2.394283\n",
        "[445]\ttrain-rmse:1.974063\tval-rmse:2.393379\n"
       ]
      },
      {
       "output_type": "stream",
       "stream": "stderr",
       "text": [
        "[446]\ttrain-rmse:1.972916\tval-rmse:2.392785\n",
        "[447]\ttrain-rmse:1.972241\tval-rmse:2.392531\n",
        "[448]\ttrain-rmse:1.971382\tval-rmse:2.392114\n"
       ]
      },
      {
       "output_type": "stream",
       "stream": "stderr",
       "text": [
        "[449]\ttrain-rmse:1.969956\tval-rmse:2.391387\n",
        "[450]\ttrain-rmse:1.969302\tval-rmse:2.391150\n",
        "[451]\ttrain-rmse:1.968153\tval-rmse:2.390694\n"
       ]
      },
      {
       "output_type": "stream",
       "stream": "stderr",
       "text": [
        "[452]\ttrain-rmse:1.966935\tval-rmse:2.390107\n",
        "[453]\ttrain-rmse:1.965774\tval-rmse:2.389552\n",
        "[454]\ttrain-rmse:1.964476\tval-rmse:2.389036\n"
       ]
      },
      {
       "output_type": "stream",
       "stream": "stderr",
       "text": [
        "[455]\ttrain-rmse:1.963785\tval-rmse:2.388704\n",
        "[456]\ttrain-rmse:1.962762\tval-rmse:2.388189\n",
        "[457]\ttrain-rmse:1.962033\tval-rmse:2.387846\n",
        "[458]\ttrain-rmse:1.959697\tval-rmse:2.386723\n"
       ]
      },
      {
       "output_type": "stream",
       "stream": "stderr",
       "text": [
        "[459]\ttrain-rmse:1.959149\tval-rmse:2.386428\n",
        "[460]\ttrain-rmse:1.958186\tval-rmse:2.385930\n",
        "[461]\ttrain-rmse:1.957461\tval-rmse:2.385625\n"
       ]
      },
      {
       "output_type": "stream",
       "stream": "stderr",
       "text": [
        "[462]\ttrain-rmse:1.955977\tval-rmse:2.384976\n",
        "[463]\ttrain-rmse:1.954339\tval-rmse:2.384301\n",
        "[464]\ttrain-rmse:1.953350\tval-rmse:2.383885\n"
       ]
      },
      {
       "output_type": "stream",
       "stream": "stderr",
       "text": [
        "[465]\ttrain-rmse:1.951566\tval-rmse:2.382924\n",
        "[466]\ttrain-rmse:1.950599\tval-rmse:2.382469\n",
        "[467]\ttrain-rmse:1.948877\tval-rmse:2.381711\n"
       ]
      },
      {
       "output_type": "stream",
       "stream": "stderr",
       "text": [
        "[468]\ttrain-rmse:1.947724\tval-rmse:2.381282\n",
        "[469]\ttrain-rmse:1.946818\tval-rmse:2.380958\n",
        "[470]\ttrain-rmse:1.945911\tval-rmse:2.380595\n"
       ]
      },
      {
       "output_type": "stream",
       "stream": "stderr",
       "text": [
        "[471]\ttrain-rmse:1.944858\tval-rmse:2.380099\n",
        "[472]\ttrain-rmse:1.943120\tval-rmse:2.379311\n",
        "[473]\ttrain-rmse:1.941849\tval-rmse:2.378710\n"
       ]
      },
      {
       "output_type": "stream",
       "stream": "stderr",
       "text": [
        "[474]\ttrain-rmse:1.941125\tval-rmse:2.378360\n",
        "[475]\ttrain-rmse:1.940082\tval-rmse:2.377878\n",
        "[476]\ttrain-rmse:1.938491\tval-rmse:2.377195\n"
       ]
      },
      {
       "output_type": "stream",
       "stream": "stderr",
       "text": [
        "[477]\ttrain-rmse:1.937808\tval-rmse:2.376902\n",
        "[478]\ttrain-rmse:1.936601\tval-rmse:2.376317\n",
        "[479]\ttrain-rmse:1.935341\tval-rmse:2.375702\n"
       ]
      },
      {
       "output_type": "stream",
       "stream": "stderr",
       "text": [
        "[480]\ttrain-rmse:1.934621\tval-rmse:2.375449\n",
        "[481]\ttrain-rmse:1.934107\tval-rmse:2.375264\n",
        "[482]\ttrain-rmse:1.932987\tval-rmse:2.374829\n"
       ]
      },
      {
       "output_type": "stream",
       "stream": "stderr",
       "text": [
        "[483]\ttrain-rmse:1.931955\tval-rmse:2.374464\n",
        "[484]\ttrain-rmse:1.931152\tval-rmse:2.374223\n",
        "[485]\ttrain-rmse:1.930558\tval-rmse:2.373963\n"
       ]
      },
      {
       "output_type": "stream",
       "stream": "stderr",
       "text": [
        "[486]\ttrain-rmse:1.929240\tval-rmse:2.373360\n",
        "[487]\ttrain-rmse:1.928180\tval-rmse:2.373070\n",
        "[488]\ttrain-rmse:1.927309\tval-rmse:2.372706\n"
       ]
      },
      {
       "output_type": "stream",
       "stream": "stderr",
       "text": [
        "[489]\ttrain-rmse:1.926636\tval-rmse:2.372387\n",
        "[490]\ttrain-rmse:1.925354\tval-rmse:2.371799\n",
        "[491]\ttrain-rmse:1.924171\tval-rmse:2.371348\n"
       ]
      },
      {
       "output_type": "stream",
       "stream": "stderr",
       "text": [
        "[492]\ttrain-rmse:1.923298\tval-rmse:2.370978\n",
        "[493]\ttrain-rmse:1.922387\tval-rmse:2.370559\n",
        "[494]\ttrain-rmse:1.920207\tval-rmse:2.369541\n"
       ]
      },
      {
       "output_type": "stream",
       "stream": "stderr",
       "text": [
        "[495]\ttrain-rmse:1.918540\tval-rmse:2.368844\n",
        "[496]\ttrain-rmse:1.916986\tval-rmse:2.368108\n",
        "[497]\ttrain-rmse:1.915480\tval-rmse:2.367388\n"
       ]
      },
      {
       "output_type": "stream",
       "stream": "stderr",
       "text": [
        "[498]\ttrain-rmse:1.914416\tval-rmse:2.366999\n",
        "[499]\ttrain-rmse:1.912643\tval-rmse:2.366211\n",
        "[500]\ttrain-rmse:1.911186\tval-rmse:2.365556\n"
       ]
      },
      {
       "output_type": "stream",
       "stream": "stderr",
       "text": [
        "[501]\ttrain-rmse:1.910275\tval-rmse:2.365059\n",
        "[502]\ttrain-rmse:1.908939\tval-rmse:2.364400\n",
        "[503]\ttrain-rmse:1.908385\tval-rmse:2.364152\n",
        "[504]\ttrain-rmse:1.907546\tval-rmse:2.363782\n"
       ]
      },
      {
       "output_type": "stream",
       "stream": "stderr",
       "text": [
        "[505]\ttrain-rmse:1.906377\tval-rmse:2.363220\n",
        "[506]\ttrain-rmse:1.905180\tval-rmse:2.362675\n",
        "[507]\ttrain-rmse:1.904096\tval-rmse:2.362212\n"
       ]
      },
      {
       "output_type": "stream",
       "stream": "stderr",
       "text": [
        "[508]\ttrain-rmse:1.903242\tval-rmse:2.361707\n",
        "[509]\ttrain-rmse:1.901952\tval-rmse:2.361117\n",
        "[510]\ttrain-rmse:1.901187\tval-rmse:2.360770\n"
       ]
      },
      {
       "output_type": "stream",
       "stream": "stderr",
       "text": [
        "[511]\ttrain-rmse:1.899597\tval-rmse:2.360122\n",
        "[512]\ttrain-rmse:1.898685\tval-rmse:2.359689\n",
        "[513]\ttrain-rmse:1.897137\tval-rmse:2.358983\n"
       ]
      },
      {
       "output_type": "stream",
       "stream": "stderr",
       "text": [
        "[514]\ttrain-rmse:1.896529\tval-rmse:2.358710\n",
        "[515]\ttrain-rmse:1.895566\tval-rmse:2.358230\n",
        "[516]\ttrain-rmse:1.894880\tval-rmse:2.357910\n"
       ]
      },
      {
       "output_type": "stream",
       "stream": "stderr",
       "text": [
        "[517]\ttrain-rmse:1.893660\tval-rmse:2.357382\n",
        "[518]\ttrain-rmse:1.892860\tval-rmse:2.356987\n",
        "[519]\ttrain-rmse:1.891732\tval-rmse:2.356441\n"
       ]
      },
      {
       "output_type": "stream",
       "stream": "stderr",
       "text": [
        "[520]\ttrain-rmse:1.890746\tval-rmse:2.355985\n",
        "[521]\ttrain-rmse:1.889892\tval-rmse:2.355639\n",
        "[522]\ttrain-rmse:1.888790\tval-rmse:2.355135\n",
        "[523]\ttrain-rmse:1.887224\tval-rmse:2.354517\n"
       ]
      },
      {
       "output_type": "stream",
       "stream": "stderr",
       "text": [
        "[524]\ttrain-rmse:1.886109\tval-rmse:2.353878\n",
        "[525]\ttrain-rmse:1.885113\tval-rmse:2.353412\n",
        "[526]\ttrain-rmse:1.884371\tval-rmse:2.353014\n"
       ]
      },
      {
       "output_type": "stream",
       "stream": "stderr",
       "text": [
        "[527]\ttrain-rmse:1.883794\tval-rmse:2.352783\n",
        "[528]\ttrain-rmse:1.882235\tval-rmse:2.352011\n",
        "[529]\ttrain-rmse:1.881389\tval-rmse:2.351606\n",
        "[530]\ttrain-rmse:1.880084\tval-rmse:2.351052\n"
       ]
      },
      {
       "output_type": "stream",
       "stream": "stderr",
       "text": [
        "[531]\ttrain-rmse:1.879615\tval-rmse:2.350797\n",
        "[532]\ttrain-rmse:1.877984\tval-rmse:2.350109\n",
        "[533]\ttrain-rmse:1.877088\tval-rmse:2.349593\n"
       ]
      },
      {
       "output_type": "stream",
       "stream": "stderr",
       "text": [
        "[534]\ttrain-rmse:1.876519\tval-rmse:2.349335\n",
        "[535]\ttrain-rmse:1.874894\tval-rmse:2.348706\n",
        "[536]\ttrain-rmse:1.873268\tval-rmse:2.348034\n"
       ]
      },
      {
       "output_type": "stream",
       "stream": "stderr",
       "text": [
        "[537]\ttrain-rmse:1.872164\tval-rmse:2.347579\n",
        "[538]\ttrain-rmse:1.870751\tval-rmse:2.347034\n",
        "[539]\ttrain-rmse:1.870047\tval-rmse:2.346795\n"
       ]
      },
      {
       "output_type": "stream",
       "stream": "stderr",
       "text": [
        "[540]\ttrain-rmse:1.868822\tval-rmse:2.346221\n",
        "[541]\ttrain-rmse:1.867542\tval-rmse:2.345761\n",
        "[542]\ttrain-rmse:1.866773\tval-rmse:2.345290\n"
       ]
      },
      {
       "output_type": "stream",
       "stream": "stderr",
       "text": [
        "[543]\ttrain-rmse:1.865237\tval-rmse:2.344692\n",
        "[544]\ttrain-rmse:1.864373\tval-rmse:2.344367\n",
        "[545]\ttrain-rmse:1.862743\tval-rmse:2.343558\n"
       ]
      },
      {
       "output_type": "stream",
       "stream": "stderr",
       "text": [
        "[546]\ttrain-rmse:1.861041\tval-rmse:2.342885\n",
        "[547]\ttrain-rmse:1.859398\tval-rmse:2.342085\n",
        "[548]\ttrain-rmse:1.858041\tval-rmse:2.341470\n"
       ]
      },
      {
       "output_type": "stream",
       "stream": "stderr",
       "text": [
        "[549]\ttrain-rmse:1.857286\tval-rmse:2.341141\n",
        "[550]\ttrain-rmse:1.856368\tval-rmse:2.340790\n",
        "[551]\ttrain-rmse:1.855446\tval-rmse:2.340325\n"
       ]
      },
      {
       "output_type": "stream",
       "stream": "stderr",
       "text": [
        "[552]\ttrain-rmse:1.853859\tval-rmse:2.339657\n",
        "[553]\ttrain-rmse:1.853029\tval-rmse:2.339300\n",
        "[554]\ttrain-rmse:1.851920\tval-rmse:2.338699\n"
       ]
      },
      {
       "output_type": "stream",
       "stream": "stderr",
       "text": [
        "[555]\ttrain-rmse:1.850703\tval-rmse:2.338131\n",
        "[556]\ttrain-rmse:1.849832\tval-rmse:2.337778\n",
        "[557]\ttrain-rmse:1.848626\tval-rmse:2.337293\n",
        "[558]\ttrain-rmse:1.847544\tval-rmse:2.336792\n"
       ]
      },
      {
       "output_type": "stream",
       "stream": "stderr",
       "text": [
        "[559]\ttrain-rmse:1.846404\tval-rmse:2.336282\n",
        "[560]\ttrain-rmse:1.845380\tval-rmse:2.335784\n",
        "[561]\ttrain-rmse:1.844494\tval-rmse:2.335325\n"
       ]
      },
      {
       "output_type": "stream",
       "stream": "stderr",
       "text": [
        "[562]\ttrain-rmse:1.843553\tval-rmse:2.334874\n",
        "[563]\ttrain-rmse:1.842241\tval-rmse:2.334424\n",
        "[564]\ttrain-rmse:1.841407\tval-rmse:2.334156\n"
       ]
      },
      {
       "output_type": "stream",
       "stream": "stderr",
       "text": [
        "[565]\ttrain-rmse:1.840021\tval-rmse:2.333521\n",
        "[566]\ttrain-rmse:1.838727\tval-rmse:2.332994\n",
        "[567]\ttrain-rmse:1.837986\tval-rmse:2.332731\n",
        "[568]\ttrain-rmse:1.837223\tval-rmse:2.332364\n"
       ]
      },
      {
       "output_type": "stream",
       "stream": "stderr",
       "text": [
        "[569]\ttrain-rmse:1.836453\tval-rmse:2.331987\n",
        "[570]\ttrain-rmse:1.835485\tval-rmse:2.331526\n",
        "[571]\ttrain-rmse:1.835198\tval-rmse:2.331428\n"
       ]
      },
      {
       "output_type": "stream",
       "stream": "stderr",
       "text": [
        "[572]\ttrain-rmse:1.834381\tval-rmse:2.331119\n",
        "[573]\ttrain-rmse:1.833217\tval-rmse:2.330664\n",
        "[574]\ttrain-rmse:1.831686\tval-rmse:2.329960\n"
       ]
      },
      {
       "output_type": "stream",
       "stream": "stderr",
       "text": [
        "[575]\ttrain-rmse:1.830632\tval-rmse:2.329518\n",
        "[576]\ttrain-rmse:1.829517\tval-rmse:2.329049\n",
        "[577]\ttrain-rmse:1.828309\tval-rmse:2.328476\n"
       ]
      },
      {
       "output_type": "stream",
       "stream": "stderr",
       "text": [
        "[578]\ttrain-rmse:1.827278\tval-rmse:2.327991\n",
        "[579]\ttrain-rmse:1.826546\tval-rmse:2.327679\n",
        "[580]\ttrain-rmse:1.825105\tval-rmse:2.327065\n"
       ]
      },
      {
       "output_type": "stream",
       "stream": "stderr",
       "text": [
        "[581]\ttrain-rmse:1.823670\tval-rmse:2.326528\n",
        "[582]\ttrain-rmse:1.823146\tval-rmse:2.326277\n",
        "[583]\ttrain-rmse:1.822342\tval-rmse:2.325887\n"
       ]
      },
      {
       "output_type": "stream",
       "stream": "stderr",
       "text": [
        "[584]\ttrain-rmse:1.820936\tval-rmse:2.325182\n",
        "[585]\ttrain-rmse:1.819089\tval-rmse:2.324544\n",
        "[586]\ttrain-rmse:1.817912\tval-rmse:2.324089\n"
       ]
      },
      {
       "output_type": "stream",
       "stream": "stderr",
       "text": [
        "[587]\ttrain-rmse:1.816575\tval-rmse:2.323380\n",
        "[588]\ttrain-rmse:1.815474\tval-rmse:2.322794\n",
        "[589]\ttrain-rmse:1.814034\tval-rmse:2.322140\n"
       ]
      },
      {
       "output_type": "stream",
       "stream": "stderr",
       "text": [
        "[590]\ttrain-rmse:1.813309\tval-rmse:2.321779\n",
        "[591]\ttrain-rmse:1.811938\tval-rmse:2.321232\n",
        "[592]\ttrain-rmse:1.810771\tval-rmse:2.320728\n"
       ]
      },
      {
       "output_type": "stream",
       "stream": "stderr",
       "text": [
        "[593]\ttrain-rmse:1.809694\tval-rmse:2.320211\n",
        "[594]\ttrain-rmse:1.808823\tval-rmse:2.319852\n",
        "[595]\ttrain-rmse:1.808486\tval-rmse:2.319701\n"
       ]
      },
      {
       "output_type": "stream",
       "stream": "stderr",
       "text": [
        "[596]\ttrain-rmse:1.807600\tval-rmse:2.319407\n",
        "[597]\ttrain-rmse:1.806556\tval-rmse:2.318953\n",
        "[598]\ttrain-rmse:1.804948\tval-rmse:2.318242\n"
       ]
      },
      {
       "output_type": "stream",
       "stream": "stderr",
       "text": [
        "[599]\ttrain-rmse:1.803369\tval-rmse:2.317508\n",
        "[600]\ttrain-rmse:1.802696\tval-rmse:2.317222\n",
        "[601]\ttrain-rmse:1.801488\tval-rmse:2.316587\n"
       ]
      },
      {
       "output_type": "stream",
       "stream": "stderr",
       "text": [
        "[602]\ttrain-rmse:1.800629\tval-rmse:2.316136\n",
        "[603]\ttrain-rmse:1.799814\tval-rmse:2.315863\n",
        "[604]\ttrain-rmse:1.798570\tval-rmse:2.315347\n"
       ]
      },
      {
       "output_type": "stream",
       "stream": "stderr",
       "text": [
        "[605]\ttrain-rmse:1.797325\tval-rmse:2.314867\n",
        "[606]\ttrain-rmse:1.796906\tval-rmse:2.314672\n",
        "[607]\ttrain-rmse:1.795749\tval-rmse:2.314185\n"
       ]
      },
      {
       "output_type": "stream",
       "stream": "stderr",
       "text": [
        "[608]\ttrain-rmse:1.794794\tval-rmse:2.313827\n",
        "[609]\ttrain-rmse:1.793743\tval-rmse:2.313420\n",
        "[610]\ttrain-rmse:1.792839\tval-rmse:2.312922\n",
        "[611]\ttrain-rmse:1.791818\tval-rmse:2.312425\n"
       ]
      },
      {
       "output_type": "stream",
       "stream": "stderr",
       "text": [
        "[612]\ttrain-rmse:1.790758\tval-rmse:2.312016\n",
        "[613]\ttrain-rmse:1.790115\tval-rmse:2.311756\n",
        "[614]\ttrain-rmse:1.789062\tval-rmse:2.311302\n"
       ]
      },
      {
       "output_type": "stream",
       "stream": "stderr",
       "text": [
        "[615]\ttrain-rmse:1.787863\tval-rmse:2.310839\n",
        "[616]\ttrain-rmse:1.786298\tval-rmse:2.310118\n",
        "[617]\ttrain-rmse:1.785323\tval-rmse:2.309618\n"
       ]
      },
      {
       "output_type": "stream",
       "stream": "stderr",
       "text": [
        "[618]\ttrain-rmse:1.784166\tval-rmse:2.309062\n",
        "[619]\ttrain-rmse:1.783243\tval-rmse:2.308670\n",
        "[620]\ttrain-rmse:1.782668\tval-rmse:2.308333\n",
        "[621]\ttrain-rmse:1.782018\tval-rmse:2.308108\n"
       ]
      },
      {
       "output_type": "stream",
       "stream": "stderr",
       "text": [
        "[622]\ttrain-rmse:1.781270\tval-rmse:2.307826\n",
        "[623]\ttrain-rmse:1.781000\tval-rmse:2.307697\n",
        "[624]\ttrain-rmse:1.780356\tval-rmse:2.307456\n"
       ]
      },
      {
       "output_type": "stream",
       "stream": "stderr",
       "text": [
        "[625]\ttrain-rmse:1.779933\tval-rmse:2.307316\n",
        "[626]\ttrain-rmse:1.778949\tval-rmse:2.306989\n",
        "[627]\ttrain-rmse:1.778064\tval-rmse:2.306696\n"
       ]
      },
      {
       "output_type": "stream",
       "stream": "stderr",
       "text": [
        "[628]\ttrain-rmse:1.776639\tval-rmse:2.306139\n",
        "[629]\ttrain-rmse:1.775466\tval-rmse:2.305593\n",
        "[630]\ttrain-rmse:1.774386\tval-rmse:2.305126\n"
       ]
      },
      {
       "output_type": "stream",
       "stream": "stderr",
       "text": [
        "[631]\ttrain-rmse:1.773456\tval-rmse:2.304696\n",
        "[632]\ttrain-rmse:1.771998\tval-rmse:2.304058\n",
        "[633]\ttrain-rmse:1.770943\tval-rmse:2.303683\n"
       ]
      },
      {
       "output_type": "stream",
       "stream": "stderr",
       "text": [
        "[634]\ttrain-rmse:1.769735\tval-rmse:2.303072\n",
        "[635]\ttrain-rmse:1.768934\tval-rmse:2.302689\n",
        "[636]\ttrain-rmse:1.767099\tval-rmse:2.301742\n"
       ]
      },
      {
       "output_type": "stream",
       "stream": "stderr",
       "text": [
        "[637]\ttrain-rmse:1.766070\tval-rmse:2.301188\n",
        "[638]\ttrain-rmse:1.764585\tval-rmse:2.300621\n",
        "[639]\ttrain-rmse:1.763329\tval-rmse:2.300132\n"
       ]
      },
      {
       "output_type": "stream",
       "stream": "stderr",
       "text": [
        "[640]\ttrain-rmse:1.762721\tval-rmse:2.299856\n",
        "[641]\ttrain-rmse:1.761981\tval-rmse:2.299521\n",
        "[642]\ttrain-rmse:1.761007\tval-rmse:2.299096\n"
       ]
      },
      {
       "output_type": "stream",
       "stream": "stderr",
       "text": [
        "[643]\ttrain-rmse:1.759888\tval-rmse:2.298561\n",
        "[644]\ttrain-rmse:1.758943\tval-rmse:2.298138\n",
        "[645]\ttrain-rmse:1.758071\tval-rmse:2.297752\n",
        "[646]\ttrain-rmse:1.757395\tval-rmse:2.297358\n"
       ]
      },
      {
       "output_type": "stream",
       "stream": "stderr",
       "text": [
        "[647]\ttrain-rmse:1.756527\tval-rmse:2.296933\n",
        "[648]\ttrain-rmse:1.755990\tval-rmse:2.296721\n",
        "[649]\ttrain-rmse:1.754813\tval-rmse:2.296273\n"
       ]
      },
      {
       "output_type": "stream",
       "stream": "stderr",
       "text": [
        "[650]\ttrain-rmse:1.754051\tval-rmse:2.295829\n",
        "[651]\ttrain-rmse:1.753755\tval-rmse:2.295722\n",
        "[652]\ttrain-rmse:1.752625\tval-rmse:2.295204\n",
        "[653]\ttrain-rmse:1.751686\tval-rmse:2.294701\n"
       ]
      },
      {
       "output_type": "stream",
       "stream": "stderr",
       "text": [
        "[654]\ttrain-rmse:1.750458\tval-rmse:2.294270\n",
        "[655]\ttrain-rmse:1.749336\tval-rmse:2.293682\n",
        "[656]\ttrain-rmse:1.748474\tval-rmse:2.293246\n"
       ]
      },
      {
       "output_type": "stream",
       "stream": "stderr",
       "text": [
        "[657]\ttrain-rmse:1.747146\tval-rmse:2.292726\n",
        "[658]\ttrain-rmse:1.746199\tval-rmse:2.292257\n",
        "[659]\ttrain-rmse:1.745045\tval-rmse:2.291840\n"
       ]
      },
      {
       "output_type": "stream",
       "stream": "stderr",
       "text": [
        "[660]\ttrain-rmse:1.743968\tval-rmse:2.291360\n",
        "[661]\ttrain-rmse:1.743147\tval-rmse:2.291034\n",
        "[662]\ttrain-rmse:1.741729\tval-rmse:2.290395\n"
       ]
      },
      {
       "output_type": "stream",
       "stream": "stderr",
       "text": [
        "[663]\ttrain-rmse:1.740348\tval-rmse:2.289871\n",
        "[664]\ttrain-rmse:1.739544\tval-rmse:2.289564\n",
        "[665]\ttrain-rmse:1.738993\tval-rmse:2.289450\n"
       ]
      },
      {
       "output_type": "stream",
       "stream": "stderr",
       "text": [
        "[666]\ttrain-rmse:1.738248\tval-rmse:2.289088\n",
        "[667]\ttrain-rmse:1.737170\tval-rmse:2.288614\n",
        "[668]\ttrain-rmse:1.735717\tval-rmse:2.287985\n"
       ]
      },
      {
       "output_type": "stream",
       "stream": "stderr",
       "text": [
        "[669]\ttrain-rmse:1.734914\tval-rmse:2.287665\n",
        "[670]\ttrain-rmse:1.734094\tval-rmse:2.287297\n",
        "[671]\ttrain-rmse:1.733115\tval-rmse:2.286841\n"
       ]
      },
      {
       "output_type": "stream",
       "stream": "stderr",
       "text": [
        "[672]\ttrain-rmse:1.732266\tval-rmse:2.286464\n",
        "[673]\ttrain-rmse:1.731151\tval-rmse:2.285906\n",
        "[674]\ttrain-rmse:1.730358\tval-rmse:2.285506\n",
        "[675]\ttrain-rmse:1.729313\tval-rmse:2.285082\n"
       ]
      },
      {
       "output_type": "stream",
       "stream": "stderr",
       "text": [
        "[676]\ttrain-rmse:1.727971\tval-rmse:2.284478\n",
        "[677]\ttrain-rmse:1.727076\tval-rmse:2.284095\n",
        "[678]\ttrain-rmse:1.725436\tval-rmse:2.283386\n",
        "[679]\ttrain-rmse:1.724432\tval-rmse:2.282871\n"
       ]
      },
      {
       "output_type": "stream",
       "stream": "stderr",
       "text": [
        "[680]\ttrain-rmse:1.723397\tval-rmse:2.282376\n",
        "[681]\ttrain-rmse:1.722741\tval-rmse:2.282144\n",
        "[682]\ttrain-rmse:1.721741\tval-rmse:2.281619\n",
        "[683]\ttrain-rmse:1.721092\tval-rmse:2.281338\n"
       ]
      },
      {
       "output_type": "stream",
       "stream": "stderr",
       "text": [
        "[684]\ttrain-rmse:1.719707\tval-rmse:2.280714\n",
        "[685]\ttrain-rmse:1.719090\tval-rmse:2.280381\n",
        "[686]\ttrain-rmse:1.717552\tval-rmse:2.279692\n"
       ]
      },
      {
       "output_type": "stream",
       "stream": "stderr",
       "text": [
        "[687]\ttrain-rmse:1.717053\tval-rmse:2.279423\n",
        "[688]\ttrain-rmse:1.715534\tval-rmse:2.278767\n",
        "[689]\ttrain-rmse:1.714652\tval-rmse:2.278383\n"
       ]
      },
      {
       "output_type": "stream",
       "stream": "stderr",
       "text": [
        "[690]\ttrain-rmse:1.714151\tval-rmse:2.278190\n",
        "[691]\ttrain-rmse:1.713192\tval-rmse:2.277833\n",
        "[692]\ttrain-rmse:1.711916\tval-rmse:2.277223\n"
       ]
      },
      {
       "output_type": "stream",
       "stream": "stderr",
       "text": [
        "[693]\ttrain-rmse:1.711361\tval-rmse:2.276945\n",
        "[694]\ttrain-rmse:1.710285\tval-rmse:2.276486\n",
        "[695]\ttrain-rmse:1.708772\tval-rmse:2.275774\n"
       ]
      },
      {
       "output_type": "stream",
       "stream": "stderr",
       "text": [
        "[696]\ttrain-rmse:1.707638\tval-rmse:2.275376\n",
        "[697]\ttrain-rmse:1.707047\tval-rmse:2.275110\n",
        "[698]\ttrain-rmse:1.705866\tval-rmse:2.274489\n"
       ]
      },
      {
       "output_type": "stream",
       "stream": "stderr",
       "text": [
        "[699]\ttrain-rmse:1.705255\tval-rmse:2.274247\n",
        "[700]\ttrain-rmse:1.704047\tval-rmse:2.273719\n",
        "[701]\ttrain-rmse:1.702464\tval-rmse:2.272904\n"
       ]
      },
      {
       "output_type": "stream",
       "stream": "stderr",
       "text": [
        "[702]\ttrain-rmse:1.701187\tval-rmse:2.272362\n",
        "[703]\ttrain-rmse:1.699738\tval-rmse:2.271747\n",
        "[704]\ttrain-rmse:1.698109\tval-rmse:2.271134\n"
       ]
      },
      {
       "output_type": "stream",
       "stream": "stderr",
       "text": [
        "[705]\ttrain-rmse:1.696936\tval-rmse:2.270548\n",
        "[706]\ttrain-rmse:1.696069\tval-rmse:2.270207\n",
        "[707]\ttrain-rmse:1.695729\tval-rmse:2.270028\n"
       ]
      },
      {
       "output_type": "stream",
       "stream": "stderr",
       "text": [
        "[708]\ttrain-rmse:1.694175\tval-rmse:2.269421\n",
        "[709]\ttrain-rmse:1.693593\tval-rmse:2.269117\n",
        "[710]\ttrain-rmse:1.692564\tval-rmse:2.268652\n"
       ]
      },
      {
       "output_type": "stream",
       "stream": "stderr",
       "text": [
        "[711]\ttrain-rmse:1.691618\tval-rmse:2.268327\n",
        "[712]\ttrain-rmse:1.690995\tval-rmse:2.268007\n",
        "[713]\ttrain-rmse:1.690107\tval-rmse:2.267674\n",
        "[714]\ttrain-rmse:1.689417\tval-rmse:2.267326\n"
       ]
      },
      {
       "output_type": "stream",
       "stream": "stderr",
       "text": [
        "[715]\ttrain-rmse:1.688319\tval-rmse:2.266817\n",
        "[716]\ttrain-rmse:1.687435\tval-rmse:2.266397\n",
        "[717]\ttrain-rmse:1.686439\tval-rmse:2.265935\n"
       ]
      },
      {
       "output_type": "stream",
       "stream": "stderr",
       "text": [
        "[718]\ttrain-rmse:1.685055\tval-rmse:2.265352\n",
        "[719]\ttrain-rmse:1.684200\tval-rmse:2.265063\n",
        "[720]\ttrain-rmse:1.683604\tval-rmse:2.264836\n"
       ]
      },
      {
       "output_type": "stream",
       "stream": "stderr",
       "text": [
        "[721]\ttrain-rmse:1.682566\tval-rmse:2.264245\n",
        "[722]\ttrain-rmse:1.681731\tval-rmse:2.263879\n",
        "[723]\ttrain-rmse:1.680851\tval-rmse:2.263489\n"
       ]
      },
      {
       "output_type": "stream",
       "stream": "stderr",
       "text": [
        "[724]\ttrain-rmse:1.679933\tval-rmse:2.263151\n",
        "[725]\ttrain-rmse:1.679208\tval-rmse:2.262847\n",
        "[726]\ttrain-rmse:1.678068\tval-rmse:2.262282\n"
       ]
      },
      {
       "output_type": "stream",
       "stream": "stderr",
       "text": [
        "[727]\ttrain-rmse:1.677233\tval-rmse:2.261876\n",
        "[728]\ttrain-rmse:1.675826\tval-rmse:2.261289\n",
        "[729]\ttrain-rmse:1.675169\tval-rmse:2.261072\n"
       ]
      },
      {
       "output_type": "stream",
       "stream": "stderr",
       "text": [
        "[730]\ttrain-rmse:1.674246\tval-rmse:2.260734\n",
        "[731]\ttrain-rmse:1.673284\tval-rmse:2.260266\n",
        "[732]\ttrain-rmse:1.672211\tval-rmse:2.259885\n"
       ]
      },
      {
       "output_type": "stream",
       "stream": "stderr",
       "text": [
        "[733]\ttrain-rmse:1.671441\tval-rmse:2.259591\n",
        "[734]\ttrain-rmse:1.670421\tval-rmse:2.259132\n",
        "[735]\ttrain-rmse:1.668645\tval-rmse:2.258489\n"
       ]
      },
      {
       "output_type": "stream",
       "stream": "stderr",
       "text": [
        "[736]\ttrain-rmse:1.668236\tval-rmse:2.258356\n",
        "[737]\ttrain-rmse:1.667471\tval-rmse:2.258080\n",
        "[738]\ttrain-rmse:1.666425\tval-rmse:2.257663\n"
       ]
      },
      {
       "output_type": "stream",
       "stream": "stderr",
       "text": [
        "[739]\ttrain-rmse:1.665453\tval-rmse:2.257359\n",
        "[740]\ttrain-rmse:1.663863\tval-rmse:2.256656\n",
        "[741]\ttrain-rmse:1.662983\tval-rmse:2.256360\n"
       ]
      },
      {
       "output_type": "stream",
       "stream": "stderr",
       "text": [
        "[742]\ttrain-rmse:1.661805\tval-rmse:2.255760\n",
        "[743]\ttrain-rmse:1.661269\tval-rmse:2.255502\n",
        "[744]\ttrain-rmse:1.660482\tval-rmse:2.255226\n",
        "[745]\ttrain-rmse:1.659512\tval-rmse:2.254767\n"
       ]
      },
      {
       "output_type": "stream",
       "stream": "stderr",
       "text": [
        "[746]\ttrain-rmse:1.658458\tval-rmse:2.254313\n",
        "[747]\ttrain-rmse:1.657571\tval-rmse:2.253928\n",
        "[748]\ttrain-rmse:1.657115\tval-rmse:2.253702\n",
        "[749]\ttrain-rmse:1.656119\tval-rmse:2.253110\n"
       ]
      },
      {
       "output_type": "stream",
       "stream": "stderr",
       "text": [
        "[750]\ttrain-rmse:1.655418\tval-rmse:2.252787\n",
        "[751]\ttrain-rmse:1.654782\tval-rmse:2.252533\n",
        "[752]\ttrain-rmse:1.653647\tval-rmse:2.252013\n"
       ]
      },
      {
       "output_type": "stream",
       "stream": "stderr",
       "text": [
        "[753]\ttrain-rmse:1.652683\tval-rmse:2.251642\n",
        "[754]\ttrain-rmse:1.651489\tval-rmse:2.251085\n",
        "[755]\ttrain-rmse:1.650899\tval-rmse:2.250855\n"
       ]
      },
      {
       "output_type": "stream",
       "stream": "stderr",
       "text": [
        "[756]\ttrain-rmse:1.650194\tval-rmse:2.250613\n",
        "[757]\ttrain-rmse:1.649720\tval-rmse:2.250356\n",
        "[758]\ttrain-rmse:1.648207\tval-rmse:2.249717\n"
       ]
      },
      {
       "output_type": "stream",
       "stream": "stderr",
       "text": [
        "[759]\ttrain-rmse:1.646983\tval-rmse:2.249191\n",
        "[760]\ttrain-rmse:1.645989\tval-rmse:2.248853\n",
        "[761]\ttrain-rmse:1.645494\tval-rmse:2.248596\n"
       ]
      },
      {
       "output_type": "stream",
       "stream": "stderr",
       "text": [
        "[762]\ttrain-rmse:1.644599\tval-rmse:2.248214\n",
        "[763]\ttrain-rmse:1.643324\tval-rmse:2.247659\n",
        "[764]\ttrain-rmse:1.642359\tval-rmse:2.247379\n"
       ]
      },
      {
       "output_type": "stream",
       "stream": "stderr",
       "text": [
        "[765]\ttrain-rmse:1.641231\tval-rmse:2.246872\n",
        "[766]\ttrain-rmse:1.640361\tval-rmse:2.246432\n",
        "[767]\ttrain-rmse:1.639368\tval-rmse:2.246010\n"
       ]
      },
      {
       "output_type": "stream",
       "stream": "stderr",
       "text": [
        "[768]\ttrain-rmse:1.638829\tval-rmse:2.245755\n",
        "[769]\ttrain-rmse:1.637602\tval-rmse:2.245282\n",
        "[770]\ttrain-rmse:1.636584\tval-rmse:2.244728\n"
       ]
      },
      {
       "output_type": "stream",
       "stream": "stderr",
       "text": [
        "[771]\ttrain-rmse:1.635934\tval-rmse:2.244513\n",
        "[772]\ttrain-rmse:1.634536\tval-rmse:2.243887\n",
        "[773]\ttrain-rmse:1.633709\tval-rmse:2.243539\n"
       ]
      },
      {
       "output_type": "stream",
       "stream": "stderr",
       "text": [
        "[774]\ttrain-rmse:1.632643\tval-rmse:2.243074\n",
        "[775]\ttrain-rmse:1.632094\tval-rmse:2.242816\n",
        "[776]\ttrain-rmse:1.631339\tval-rmse:2.242496\n",
        "[777]\ttrain-rmse:1.630870\tval-rmse:2.242312\n"
       ]
      },
      {
       "output_type": "stream",
       "stream": "stderr",
       "text": [
        "[778]\ttrain-rmse:1.629744\tval-rmse:2.241817\n",
        "[779]\ttrain-rmse:1.628799\tval-rmse:2.241462\n",
        "[780]\ttrain-rmse:1.628387\tval-rmse:2.241272\n"
       ]
      },
      {
       "output_type": "stream",
       "stream": "stderr",
       "text": [
        "[781]\ttrain-rmse:1.627806\tval-rmse:2.241033\n",
        "[782]\ttrain-rmse:1.626730\tval-rmse:2.240575\n",
        "[783]\ttrain-rmse:1.625787\tval-rmse:2.240224\n"
       ]
      },
      {
       "output_type": "stream",
       "stream": "stderr",
       "text": [
        "[784]\ttrain-rmse:1.624991\tval-rmse:2.239909\n",
        "[785]\ttrain-rmse:1.624199\tval-rmse:2.239661\n",
        "[786]\ttrain-rmse:1.623490\tval-rmse:2.239392\n"
       ]
      },
      {
       "output_type": "stream",
       "stream": "stderr",
       "text": [
        "[787]\ttrain-rmse:1.622502\tval-rmse:2.238956\n",
        "[788]\ttrain-rmse:1.620988\tval-rmse:2.238187\n",
        "[789]\ttrain-rmse:1.619742\tval-rmse:2.237643\n"
       ]
      },
      {
       "output_type": "stream",
       "stream": "stderr",
       "text": [
        "[790]\ttrain-rmse:1.618587\tval-rmse:2.237101\n",
        "[791]\ttrain-rmse:1.617862\tval-rmse:2.236915\n",
        "[792]\ttrain-rmse:1.616660\tval-rmse:2.236378\n"
       ]
      },
      {
       "output_type": "stream",
       "stream": "stderr",
       "text": [
        "[793]\ttrain-rmse:1.615926\tval-rmse:2.236110\n",
        "[794]\ttrain-rmse:1.614877\tval-rmse:2.235558\n",
        "[795]\ttrain-rmse:1.613883\tval-rmse:2.235209\n"
       ]
      },
      {
       "output_type": "stream",
       "stream": "stderr",
       "text": [
        "[796]\ttrain-rmse:1.612787\tval-rmse:2.234779\n",
        "[797]\ttrain-rmse:1.611809\tval-rmse:2.234399\n",
        "[798]\ttrain-rmse:1.610531\tval-rmse:2.233966\n"
       ]
      },
      {
       "output_type": "stream",
       "stream": "stderr",
       "text": [
        "[799]\ttrain-rmse:1.609613\tval-rmse:2.233547\n",
        "[800]\ttrain-rmse:1.609150\tval-rmse:2.233401\n",
        "[801]\ttrain-rmse:1.608023\tval-rmse:2.232957\n"
       ]
      },
      {
       "output_type": "stream",
       "stream": "stderr",
       "text": [
        "[802]\ttrain-rmse:1.607521\tval-rmse:2.232775\n",
        "[803]\ttrain-rmse:1.606833\tval-rmse:2.232501\n",
        "[804]\ttrain-rmse:1.605888\tval-rmse:2.232055\n"
       ]
      },
      {
       "output_type": "stream",
       "stream": "stderr",
       "text": [
        "[805]\ttrain-rmse:1.604870\tval-rmse:2.231642\n",
        "[806]\ttrain-rmse:1.604251\tval-rmse:2.231306\n",
        "[807]\ttrain-rmse:1.603035\tval-rmse:2.230745\n"
       ]
      },
      {
       "output_type": "stream",
       "stream": "stderr",
       "text": [
        "[808]\ttrain-rmse:1.602350\tval-rmse:2.230468\n",
        "[809]\ttrain-rmse:1.601585\tval-rmse:2.230106\n",
        "[810]\ttrain-rmse:1.600893\tval-rmse:2.229736\n"
       ]
      },
      {
       "output_type": "stream",
       "stream": "stderr",
       "text": [
        "[811]\ttrain-rmse:1.599996\tval-rmse:2.229338\n",
        "[812]\ttrain-rmse:1.599292\tval-rmse:2.228990\n",
        "[813]\ttrain-rmse:1.598597\tval-rmse:2.228785\n"
       ]
      },
      {
       "output_type": "stream",
       "stream": "stderr",
       "text": [
        "[814]\ttrain-rmse:1.598092\tval-rmse:2.228600\n",
        "[815]\ttrain-rmse:1.596991\tval-rmse:2.228146\n",
        "[816]\ttrain-rmse:1.596197\tval-rmse:2.227767\n"
       ]
      },
      {
       "output_type": "stream",
       "stream": "stderr",
       "text": [
        "[817]\ttrain-rmse:1.595716\tval-rmse:2.227553\n",
        "[818]\ttrain-rmse:1.594570\tval-rmse:2.226930\n",
        "[819]\ttrain-rmse:1.593606\tval-rmse:2.226534\n"
       ]
      },
      {
       "output_type": "stream",
       "stream": "stderr",
       "text": [
        "[820]\ttrain-rmse:1.593119\tval-rmse:2.226346\n",
        "[821]\ttrain-rmse:1.591998\tval-rmse:2.226008\n",
        "[822]\ttrain-rmse:1.591312\tval-rmse:2.225781\n",
        "[823]\ttrain-rmse:1.590540\tval-rmse:2.225452\n"
       ]
      },
      {
       "output_type": "stream",
       "stream": "stderr",
       "text": [
        "[824]\ttrain-rmse:1.589522\tval-rmse:2.225020\n",
        "[825]\ttrain-rmse:1.588707\tval-rmse:2.224632\n"
       ]
      },
      {
       "output_type": "stream",
       "stream": "stderr",
       "text": [
        "[826]\ttrain-rmse:1.588019\tval-rmse:2.224349\n",
        "[827]\ttrain-rmse:1.587406\tval-rmse:2.224060\n",
        "[828]\ttrain-rmse:1.586503\tval-rmse:2.223703\n"
       ]
      },
      {
       "output_type": "stream",
       "stream": "stderr",
       "text": [
        "[829]\ttrain-rmse:1.585330\tval-rmse:2.223217\n",
        "[830]\ttrain-rmse:1.584896\tval-rmse:2.223070\n",
        "[831]\ttrain-rmse:1.584279\tval-rmse:2.222861\n",
        "[832]\ttrain-rmse:1.582954\tval-rmse:2.222134\n"
       ]
      },
      {
       "output_type": "stream",
       "stream": "stderr",
       "text": [
        "[833]\ttrain-rmse:1.581825\tval-rmse:2.221603\n",
        "[834]\ttrain-rmse:1.581248\tval-rmse:2.221380\n",
        "[835]\ttrain-rmse:1.580061\tval-rmse:2.220812\n"
       ]
      },
      {
       "output_type": "stream",
       "stream": "stderr",
       "text": [
        "[836]\ttrain-rmse:1.578943\tval-rmse:2.220491\n",
        "[837]\ttrain-rmse:1.577844\tval-rmse:2.220051\n",
        "[838]\ttrain-rmse:1.576882\tval-rmse:2.219639\n"
       ]
      },
      {
       "output_type": "stream",
       "stream": "stderr",
       "text": [
        "[839]\ttrain-rmse:1.576029\tval-rmse:2.219289\n",
        "[840]\ttrain-rmse:1.575654\tval-rmse:2.219111\n",
        "[841]\ttrain-rmse:1.575216\tval-rmse:2.218933\n",
        "[842]\ttrain-rmse:1.574443\tval-rmse:2.218600\n"
       ]
      },
      {
       "output_type": "stream",
       "stream": "stderr",
       "text": [
        "[843]\ttrain-rmse:1.573668\tval-rmse:2.218360\n",
        "[844]\ttrain-rmse:1.572412\tval-rmse:2.217885\n",
        "[845]\ttrain-rmse:1.571566\tval-rmse:2.217492\n"
       ]
      },
      {
       "output_type": "stream",
       "stream": "stderr",
       "text": [
        "[846]\ttrain-rmse:1.570374\tval-rmse:2.216826\n",
        "[847]\ttrain-rmse:1.569521\tval-rmse:2.216557\n",
        "[848]\ttrain-rmse:1.569006\tval-rmse:2.216396\n"
       ]
      },
      {
       "output_type": "stream",
       "stream": "stderr",
       "text": [
        "[849]\ttrain-rmse:1.568087\tval-rmse:2.215976\n",
        "[850]\ttrain-rmse:1.566886\tval-rmse:2.215391\n",
        "[851]\ttrain-rmse:1.565951\tval-rmse:2.214989\n"
       ]
      },
      {
       "output_type": "stream",
       "stream": "stderr",
       "text": [
        "[852]\ttrain-rmse:1.565373\tval-rmse:2.214716\n",
        "[853]\ttrain-rmse:1.564171\tval-rmse:2.214238\n",
        "[854]\ttrain-rmse:1.563319\tval-rmse:2.213908\n"
       ]
      },
      {
       "output_type": "stream",
       "stream": "stderr",
       "text": [
        "[855]\ttrain-rmse:1.562625\tval-rmse:2.213641\n",
        "[856]\ttrain-rmse:1.561774\tval-rmse:2.213344\n",
        "[857]\ttrain-rmse:1.561021\tval-rmse:2.213132\n"
       ]
      },
      {
       "output_type": "stream",
       "stream": "stderr",
       "text": [
        "[858]\ttrain-rmse:1.560542\tval-rmse:2.212895\n",
        "[859]\ttrain-rmse:1.559675\tval-rmse:2.212566\n",
        "[860]\ttrain-rmse:1.558709\tval-rmse:2.212120\n"
       ]
      },
      {
       "output_type": "stream",
       "stream": "stderr",
       "text": [
        "[861]\ttrain-rmse:1.557591\tval-rmse:2.211715\n",
        "[862]\ttrain-rmse:1.556636\tval-rmse:2.211340\n",
        "[863]\ttrain-rmse:1.555761\tval-rmse:2.211005\n"
       ]
      },
      {
       "output_type": "stream",
       "stream": "stderr",
       "text": [
        "[864]\ttrain-rmse:1.555154\tval-rmse:2.210724\n",
        "[865]\ttrain-rmse:1.553953\tval-rmse:2.210189\n",
        "[866]\ttrain-rmse:1.552855\tval-rmse:2.209725\n"
       ]
      },
      {
       "output_type": "stream",
       "stream": "stderr",
       "text": [
        "[867]\ttrain-rmse:1.552230\tval-rmse:2.209540\n",
        "[868]\ttrain-rmse:1.551435\tval-rmse:2.209173\n",
        "[869]\ttrain-rmse:1.550773\tval-rmse:2.208889\n"
       ]
      },
      {
       "output_type": "stream",
       "stream": "stderr",
       "text": [
        "[870]\ttrain-rmse:1.549652\tval-rmse:2.208390\n",
        "[871]\ttrain-rmse:1.548789\tval-rmse:2.207963\n",
        "[872]\ttrain-rmse:1.547813\tval-rmse:2.207507\n"
       ]
      },
      {
       "output_type": "stream",
       "stream": "stderr",
       "text": [
        "[873]\ttrain-rmse:1.547245\tval-rmse:2.207283\n",
        "[874]\ttrain-rmse:1.546185\tval-rmse:2.206733\n",
        "[875]\ttrain-rmse:1.545234\tval-rmse:2.206363\n"
       ]
      },
      {
       "output_type": "stream",
       "stream": "stderr",
       "text": [
        "[876]\ttrain-rmse:1.544199\tval-rmse:2.205944\n",
        "[877]\ttrain-rmse:1.543568\tval-rmse:2.205710\n",
        "[878]\ttrain-rmse:1.542438\tval-rmse:2.205265\n"
       ]
      },
      {
       "output_type": "stream",
       "stream": "stderr",
       "text": [
        "[879]\ttrain-rmse:1.541194\tval-rmse:2.204823\n",
        "[880]\ttrain-rmse:1.540156\tval-rmse:2.204443\n",
        "[881]\ttrain-rmse:1.539441\tval-rmse:2.204156\n"
       ]
      },
      {
       "output_type": "stream",
       "stream": "stderr",
       "text": [
        "[882]\ttrain-rmse:1.538833\tval-rmse:2.203873\n",
        "[883]\ttrain-rmse:1.538296\tval-rmse:2.203660\n",
        "[884]\ttrain-rmse:1.537216\tval-rmse:2.203110\n"
       ]
      },
      {
       "output_type": "stream",
       "stream": "stderr",
       "text": [
        "[885]\ttrain-rmse:1.536636\tval-rmse:2.202922\n",
        "[886]\ttrain-rmse:1.535884\tval-rmse:2.202556\n",
        "[887]\ttrain-rmse:1.535348\tval-rmse:2.202321\n"
       ]
      },
      {
       "output_type": "stream",
       "stream": "stderr",
       "text": [
        "[888]\ttrain-rmse:1.534272\tval-rmse:2.202038\n",
        "[889]\ttrain-rmse:1.533715\tval-rmse:2.201856\n",
        "[890]\ttrain-rmse:1.533538\tval-rmse:2.201845\n"
       ]
      },
      {
       "output_type": "stream",
       "stream": "stderr",
       "text": [
        "[891]\ttrain-rmse:1.532796\tval-rmse:2.201488\n",
        "[892]\ttrain-rmse:1.532009\tval-rmse:2.201144\n",
        "[893]\ttrain-rmse:1.530719\tval-rmse:2.200503\n"
       ]
      },
      {
       "output_type": "stream",
       "stream": "stderr",
       "text": [
        "[894]\ttrain-rmse:1.530262\tval-rmse:2.200323\n",
        "[895]\ttrain-rmse:1.529908\tval-rmse:2.200195\n",
        "[896]\ttrain-rmse:1.528631\tval-rmse:2.199663\n"
       ]
      },
      {
       "output_type": "stream",
       "stream": "stderr",
       "text": [
        "[897]\ttrain-rmse:1.528232\tval-rmse:2.199466\n",
        "[898]\ttrain-rmse:1.527325\tval-rmse:2.199087\n",
        "[899]\ttrain-rmse:1.526596\tval-rmse:2.198754\n"
       ]
      },
      {
       "output_type": "stream",
       "stream": "stderr",
       "text": [
        "[900]\ttrain-rmse:1.525546\tval-rmse:2.198313\n",
        "[901]\ttrain-rmse:1.524919\tval-rmse:2.198038\n",
        "[902]\ttrain-rmse:1.523510\tval-rmse:2.197433\n"
       ]
      },
      {
       "output_type": "stream",
       "stream": "stderr",
       "text": [
        "[903]\ttrain-rmse:1.522898\tval-rmse:2.197201\n",
        "[904]\ttrain-rmse:1.521887\tval-rmse:2.196786\n",
        "[905]\ttrain-rmse:1.521174\tval-rmse:2.196478\n"
       ]
      },
      {
       "output_type": "stream",
       "stream": "stderr",
       "text": [
        "[906]\ttrain-rmse:1.519736\tval-rmse:2.195716\n",
        "[907]\ttrain-rmse:1.519293\tval-rmse:2.195540\n",
        "[908]\ttrain-rmse:1.518643\tval-rmse:2.195258\n"
       ]
      },
      {
       "output_type": "stream",
       "stream": "stderr",
       "text": [
        "[909]\ttrain-rmse:1.517799\tval-rmse:2.194926\n",
        "[910]\ttrain-rmse:1.516947\tval-rmse:2.194651\n",
        "[911]\ttrain-rmse:1.516013\tval-rmse:2.194157\n",
        "[912]\ttrain-rmse:1.515384\tval-rmse:2.193883\n"
       ]
      },
      {
       "output_type": "stream",
       "stream": "stderr",
       "text": [
        "[913]\ttrain-rmse:1.514396\tval-rmse:2.193491\n",
        "[914]\ttrain-rmse:1.513963\tval-rmse:2.193266\n",
        "[915]\ttrain-rmse:1.512932\tval-rmse:2.192824\n"
       ]
      },
      {
       "output_type": "stream",
       "stream": "stderr",
       "text": [
        "[916]\ttrain-rmse:1.512299\tval-rmse:2.192541\n",
        "[917]\ttrain-rmse:1.511829\tval-rmse:2.192291\n",
        "[918]\ttrain-rmse:1.511028\tval-rmse:2.191912\n"
       ]
      },
      {
       "output_type": "stream",
       "stream": "stderr",
       "text": [
        "[919]\ttrain-rmse:1.509868\tval-rmse:2.191490\n",
        "[920]\ttrain-rmse:1.508504\tval-rmse:2.190978\n",
        "[921]\ttrain-rmse:1.507678\tval-rmse:2.190715\n"
       ]
      },
      {
       "output_type": "stream",
       "stream": "stderr",
       "text": [
        "[922]\ttrain-rmse:1.506371\tval-rmse:2.190182\n",
        "[923]\ttrain-rmse:1.505674\tval-rmse:2.189921\n",
        "[924]\ttrain-rmse:1.504821\tval-rmse:2.189612\n"
       ]
      },
      {
       "output_type": "stream",
       "stream": "stderr",
       "text": [
        "[925]\ttrain-rmse:1.503828\tval-rmse:2.189136\n",
        "[926]\ttrain-rmse:1.502758\tval-rmse:2.188710\n",
        "[927]\ttrain-rmse:1.502158\tval-rmse:2.188427\n"
       ]
      },
      {
       "output_type": "stream",
       "stream": "stderr",
       "text": [
        "[928]\ttrain-rmse:1.501457\tval-rmse:2.188177\n",
        "[929]\ttrain-rmse:1.500800\tval-rmse:2.187899\n",
        "[930]\ttrain-rmse:1.499620\tval-rmse:2.187513\n"
       ]
      },
      {
       "output_type": "stream",
       "stream": "stderr",
       "text": [
        "[931]\ttrain-rmse:1.498315\tval-rmse:2.187030\n",
        "[932]\ttrain-rmse:1.497225\tval-rmse:2.186636\n",
        "[933]\ttrain-rmse:1.496398\tval-rmse:2.186286\n"
       ]
      },
      {
       "output_type": "stream",
       "stream": "stderr",
       "text": [
        "[934]\ttrain-rmse:1.495266\tval-rmse:2.185895\n",
        "[935]\ttrain-rmse:1.494228\tval-rmse:2.185351\n",
        "[936]\ttrain-rmse:1.493159\tval-rmse:2.184874\n"
       ]
      },
      {
       "output_type": "stream",
       "stream": "stderr",
       "text": [
        "[937]\ttrain-rmse:1.492734\tval-rmse:2.184686\n",
        "[938]\ttrain-rmse:1.491698\tval-rmse:2.184211\n",
        "[939]\ttrain-rmse:1.491036\tval-rmse:2.183947\n"
       ]
      },
      {
       "output_type": "stream",
       "stream": "stderr",
       "text": [
        "[940]\ttrain-rmse:1.490161\tval-rmse:2.183604\n",
        "[941]\ttrain-rmse:1.489108\tval-rmse:2.183170\n",
        "[942]\ttrain-rmse:1.488439\tval-rmse:2.182872\n"
       ]
      },
      {
       "output_type": "stream",
       "stream": "stderr",
       "text": [
        "[943]\ttrain-rmse:1.487529\tval-rmse:2.182535\n",
        "[944]\ttrain-rmse:1.486490\tval-rmse:2.182123\n",
        "[945]\ttrain-rmse:1.485271\tval-rmse:2.181648\n"
       ]
      },
      {
       "output_type": "stream",
       "stream": "stderr",
       "text": [
        "[946]\ttrain-rmse:1.484516\tval-rmse:2.181355\n",
        "[947]\ttrain-rmse:1.484096\tval-rmse:2.181132\n",
        "[948]\ttrain-rmse:1.483427\tval-rmse:2.180936\n"
       ]
      },
      {
       "output_type": "stream",
       "stream": "stderr",
       "text": [
        "[949]\ttrain-rmse:1.482188\tval-rmse:2.180437\n",
        "[950]\ttrain-rmse:1.481492\tval-rmse:2.180150\n",
        "[951]\ttrain-rmse:1.480427\tval-rmse:2.179761\n"
       ]
      },
      {
       "output_type": "stream",
       "stream": "stderr",
       "text": [
        "[952]\ttrain-rmse:1.479672\tval-rmse:2.179461\n",
        "[953]\ttrain-rmse:1.478780\tval-rmse:2.179111\n",
        "[954]\ttrain-rmse:1.477767\tval-rmse:2.178776\n"
       ]
      },
      {
       "output_type": "stream",
       "stream": "stderr",
       "text": [
        "[955]\ttrain-rmse:1.476899\tval-rmse:2.178413\n",
        "[956]\ttrain-rmse:1.475985\tval-rmse:2.178039\n",
        "[957]\ttrain-rmse:1.475604\tval-rmse:2.177877\n"
       ]
      },
      {
       "output_type": "stream",
       "stream": "stderr",
       "text": [
        "[958]\ttrain-rmse:1.475008\tval-rmse:2.177685\n",
        "[959]\ttrain-rmse:1.474129\tval-rmse:2.177191\n",
        "[960]\ttrain-rmse:1.473230\tval-rmse:2.176856\n"
       ]
      },
      {
       "output_type": "stream",
       "stream": "stderr",
       "text": [
        "[961]\ttrain-rmse:1.472615\tval-rmse:2.176655\n",
        "[962]\ttrain-rmse:1.471883\tval-rmse:2.176405\n",
        "[963]\ttrain-rmse:1.470963\tval-rmse:2.176023\n"
       ]
      },
      {
       "output_type": "stream",
       "stream": "stderr",
       "text": [
        "[964]\ttrain-rmse:1.470347\tval-rmse:2.175738\n",
        "[965]\ttrain-rmse:1.469484\tval-rmse:2.175398\n",
        "[966]\ttrain-rmse:1.468590\tval-rmse:2.174996\n"
       ]
      },
      {
       "output_type": "stream",
       "stream": "stderr",
       "text": [
        "[967]\ttrain-rmse:1.467525\tval-rmse:2.174563\n",
        "[968]\ttrain-rmse:1.466636\tval-rmse:2.174234\n",
        "[969]\ttrain-rmse:1.466110\tval-rmse:2.173976\n"
       ]
      },
      {
       "output_type": "stream",
       "stream": "stderr",
       "text": [
        "[970]\ttrain-rmse:1.465557\tval-rmse:2.173718\n",
        "[971]\ttrain-rmse:1.464800\tval-rmse:2.173435\n",
        "[972]\ttrain-rmse:1.464102\tval-rmse:2.173116\n"
       ]
      },
      {
       "output_type": "stream",
       "stream": "stderr",
       "text": [
        "[973]\ttrain-rmse:1.463336\tval-rmse:2.172763\n",
        "[974]\ttrain-rmse:1.462248\tval-rmse:2.172258\n",
        "[975]\ttrain-rmse:1.461505\tval-rmse:2.171952\n"
       ]
      },
      {
       "output_type": "stream",
       "stream": "stderr",
       "text": [
        "[976]\ttrain-rmse:1.460729\tval-rmse:2.171674\n",
        "[977]\ttrain-rmse:1.459796\tval-rmse:2.171355\n",
        "[978]\ttrain-rmse:1.459012\tval-rmse:2.171123\n"
       ]
      },
      {
       "output_type": "stream",
       "stream": "stderr",
       "text": [
        "[979]\ttrain-rmse:1.458621\tval-rmse:2.171007\n",
        "[980]\ttrain-rmse:1.458169\tval-rmse:2.170828\n",
        "[981]\ttrain-rmse:1.457636\tval-rmse:2.170594\n"
       ]
      },
      {
       "output_type": "stream",
       "stream": "stderr",
       "text": [
        "[982]\ttrain-rmse:1.456626\tval-rmse:2.170161\n",
        "[983]\ttrain-rmse:1.455716\tval-rmse:2.169851\n",
        "[984]\ttrain-rmse:1.454731\tval-rmse:2.169421\n"
       ]
      },
      {
       "output_type": "stream",
       "stream": "stderr",
       "text": [
        "[985]\ttrain-rmse:1.453810\tval-rmse:2.169001\n",
        "[986]\ttrain-rmse:1.453074\tval-rmse:2.168681\n",
        "[987]\ttrain-rmse:1.452062\tval-rmse:2.168258\n"
       ]
      },
      {
       "output_type": "stream",
       "stream": "stderr",
       "text": [
        "[988]\ttrain-rmse:1.451500\tval-rmse:2.167947\n",
        "[989]\ttrain-rmse:1.450534\tval-rmse:2.167587\n",
        "[990]\ttrain-rmse:1.449590\tval-rmse:2.167226\n"
       ]
      },
      {
       "output_type": "stream",
       "stream": "stderr",
       "text": [
        "[991]\ttrain-rmse:1.448436\tval-rmse:2.166795\n",
        "[992]\ttrain-rmse:1.447824\tval-rmse:2.166493\n",
        "[993]\ttrain-rmse:1.446765\tval-rmse:2.166045\n"
       ]
      },
      {
       "output_type": "stream",
       "stream": "stderr",
       "text": [
        "[994]\ttrain-rmse:1.445795\tval-rmse:2.165566\n",
        "[995]\ttrain-rmse:1.444759\tval-rmse:2.165141\n",
        "[996]\ttrain-rmse:1.444122\tval-rmse:2.164894\n"
       ]
      },
      {
       "output_type": "stream",
       "stream": "stderr",
       "text": [
        "[997]\ttrain-rmse:1.442705\tval-rmse:2.164351\n",
        "[998]\ttrain-rmse:1.442175\tval-rmse:2.164179\n",
        "[999]\ttrain-rmse:1.441366\tval-rmse:2.163794\n"
       ]
      },
      {
       "output_type": "stream",
       "stream": "stderr",
       "text": [
        "[1000]\ttrain-rmse:1.440280\tval-rmse:2.163370\n",
        "[1001]\ttrain-rmse:1.439615\tval-rmse:2.163181\n",
        "[1002]\ttrain-rmse:1.439118\tval-rmse:2.162989\n",
        "[1003]\ttrain-rmse:1.438178\tval-rmse:2.162706\n"
       ]
      },
      {
       "output_type": "stream",
       "stream": "stderr",
       "text": [
        "[1004]\ttrain-rmse:1.437452\tval-rmse:2.162433\n",
        "[1005]\ttrain-rmse:1.436528\tval-rmse:2.162057\n",
        "[1006]\ttrain-rmse:1.435541\tval-rmse:2.161694\n"
       ]
      },
      {
       "output_type": "stream",
       "stream": "stderr",
       "text": [
        "[1007]\ttrain-rmse:1.434809\tval-rmse:2.161438\n",
        "[1008]\ttrain-rmse:1.433887\tval-rmse:2.161097\n",
        "[1009]\ttrain-rmse:1.432961\tval-rmse:2.160762\n"
       ]
      },
      {
       "output_type": "stream",
       "stream": "stderr",
       "text": [
        "[1010]\ttrain-rmse:1.432215\tval-rmse:2.160462\n",
        "[1011]\ttrain-rmse:1.431635\tval-rmse:2.160239\n",
        "[1012]\ttrain-rmse:1.431005\tval-rmse:2.159957\n"
       ]
      },
      {
       "output_type": "stream",
       "stream": "stderr",
       "text": [
        "[1013]\ttrain-rmse:1.429928\tval-rmse:2.159466\n",
        "[1014]\ttrain-rmse:1.429062\tval-rmse:2.159137\n",
        "[1015]\ttrain-rmse:1.427517\tval-rmse:2.158525\n"
       ]
      },
      {
       "output_type": "stream",
       "stream": "stderr",
       "text": [
        "[1016]\ttrain-rmse:1.426706\tval-rmse:2.158117\n",
        "[1017]\ttrain-rmse:1.425978\tval-rmse:2.157876\n",
        "[1018]\ttrain-rmse:1.425437\tval-rmse:2.157694\n"
       ]
      },
      {
       "output_type": "stream",
       "stream": "stderr",
       "text": [
        "[1019]\ttrain-rmse:1.424698\tval-rmse:2.157338\n",
        "[1020]\ttrain-rmse:1.423597\tval-rmse:2.156806\n",
        "[1021]\ttrain-rmse:1.422552\tval-rmse:2.156435\n"
       ]
      },
      {
       "output_type": "stream",
       "stream": "stderr",
       "text": [
        "[1022]\ttrain-rmse:1.421888\tval-rmse:2.156176\n",
        "[1023]\ttrain-rmse:1.421328\tval-rmse:2.155939\n",
        "[1024]\ttrain-rmse:1.420440\tval-rmse:2.155577\n"
       ]
      },
      {
       "output_type": "stream",
       "stream": "stderr",
       "text": [
        "[1025]\ttrain-rmse:1.419333\tval-rmse:2.155157\n",
        "[1026]\ttrain-rmse:1.418529\tval-rmse:2.154783\n",
        "[1027]\ttrain-rmse:1.417693\tval-rmse:2.154387\n"
       ]
      },
      {
       "output_type": "stream",
       "stream": "stderr",
       "text": [
        "[1028]\ttrain-rmse:1.417048\tval-rmse:2.154144\n",
        "[1029]\ttrain-rmse:1.416459\tval-rmse:2.153916\n",
        "[1030]\ttrain-rmse:1.415756\tval-rmse:2.153639\n",
        "[1031]\ttrain-rmse:1.415054\tval-rmse:2.153448\n"
       ]
      },
      {
       "output_type": "stream",
       "stream": "stderr",
       "text": [
        "[1032]\ttrain-rmse:1.413994\tval-rmse:2.153040\n",
        "[1033]\ttrain-rmse:1.413570\tval-rmse:2.152933\n",
        "[1034]\ttrain-rmse:1.412609\tval-rmse:2.152410\n"
       ]
      },
      {
       "output_type": "stream",
       "stream": "stderr",
       "text": [
        "[1035]\ttrain-rmse:1.411872\tval-rmse:2.152140\n",
        "[1036]\ttrain-rmse:1.410719\tval-rmse:2.151722\n",
        "[1037]\ttrain-rmse:1.409894\tval-rmse:2.151438\n"
       ]
      },
      {
       "output_type": "stream",
       "stream": "stderr",
       "text": [
        "[1038]\ttrain-rmse:1.409197\tval-rmse:2.151208\n",
        "[1039]\ttrain-rmse:1.408473\tval-rmse:2.150938\n",
        "[1040]\ttrain-rmse:1.407696\tval-rmse:2.150582\n"
       ]
      },
      {
       "output_type": "stream",
       "stream": "stderr",
       "text": [
        "[1041]\ttrain-rmse:1.407095\tval-rmse:2.150363\n",
        "[1042]\ttrain-rmse:1.406372\tval-rmse:2.150065\n",
        "[1043]\ttrain-rmse:1.405360\tval-rmse:2.149718\n"
       ]
      },
      {
       "output_type": "stream",
       "stream": "stderr",
       "text": [
        "[1044]\ttrain-rmse:1.404498\tval-rmse:2.149341\n",
        "[1045]\ttrain-rmse:1.403546\tval-rmse:2.148954\n",
        "[1046]\ttrain-rmse:1.402630\tval-rmse:2.148568\n"
       ]
      },
      {
       "output_type": "stream",
       "stream": "stderr",
       "text": [
        "[1047]\ttrain-rmse:1.401939\tval-rmse:2.148302\n",
        "[1048]\ttrain-rmse:1.401509\tval-rmse:2.148091\n",
        "[1049]\ttrain-rmse:1.401020\tval-rmse:2.147852\n",
        "[1050]\ttrain-rmse:1.400391\tval-rmse:2.147526\n"
       ]
      },
      {
       "output_type": "stream",
       "stream": "stderr",
       "text": [
        "[1051]\ttrain-rmse:1.399341\tval-rmse:2.147011\n",
        "[1052]\ttrain-rmse:1.398255\tval-rmse:2.146730\n",
        "[1053]\ttrain-rmse:1.397439\tval-rmse:2.146360\n"
       ]
      },
      {
       "output_type": "stream",
       "stream": "stderr",
       "text": [
        "[1054]\ttrain-rmse:1.396612\tval-rmse:2.146087\n",
        "[1055]\ttrain-rmse:1.395560\tval-rmse:2.145673\n",
        "[1056]\ttrain-rmse:1.394633\tval-rmse:2.145355\n"
       ]
      },
      {
       "output_type": "stream",
       "stream": "stderr",
       "text": [
        "[1057]\ttrain-rmse:1.393709\tval-rmse:2.144926\n",
        "[1058]\ttrain-rmse:1.392989\tval-rmse:2.144669\n",
        "[1059]\ttrain-rmse:1.392431\tval-rmse:2.144485\n"
       ]
      },
      {
       "output_type": "stream",
       "stream": "stderr",
       "text": [
        "[1060]\ttrain-rmse:1.391618\tval-rmse:2.144172\n",
        "[1061]\ttrain-rmse:1.391000\tval-rmse:2.143956\n",
        "[1062]\ttrain-rmse:1.390391\tval-rmse:2.143760\n"
       ]
      },
      {
       "output_type": "stream",
       "stream": "stderr",
       "text": [
        "[1063]\ttrain-rmse:1.389912\tval-rmse:2.143508\n",
        "[1064]\ttrain-rmse:1.389180\tval-rmse:2.143131\n",
        "[1065]\ttrain-rmse:1.388243\tval-rmse:2.142820\n"
       ]
      },
      {
       "output_type": "stream",
       "stream": "stderr",
       "text": [
        "[1066]\ttrain-rmse:1.386904\tval-rmse:2.142264\n",
        "[1067]\ttrain-rmse:1.385738\tval-rmse:2.141794\n",
        "[1068]\ttrain-rmse:1.384755\tval-rmse:2.141357\n"
       ]
      },
      {
       "output_type": "stream",
       "stream": "stderr",
       "text": [
        "[1069]\ttrain-rmse:1.383745\tval-rmse:2.140928\n",
        "[1070]\ttrain-rmse:1.383230\tval-rmse:2.140740\n",
        "[1071]\ttrain-rmse:1.382319\tval-rmse:2.140374\n"
       ]
      },
      {
       "output_type": "stream",
       "stream": "stderr",
       "text": [
        "[1072]\ttrain-rmse:1.381635\tval-rmse:2.140152\n",
        "[1073]\ttrain-rmse:1.380557\tval-rmse:2.139703\n",
        "[1074]\ttrain-rmse:1.380152\tval-rmse:2.139549\n"
       ]
      },
      {
       "output_type": "stream",
       "stream": "stderr",
       "text": [
        "[1075]\ttrain-rmse:1.379366\tval-rmse:2.139237\n",
        "[1076]\ttrain-rmse:1.378592\tval-rmse:2.138945\n",
        "[1077]\ttrain-rmse:1.377759\tval-rmse:2.138637\n"
       ]
      },
      {
       "output_type": "stream",
       "stream": "stderr",
       "text": [
        "[1078]\ttrain-rmse:1.376607\tval-rmse:2.138179\n",
        "[1079]\ttrain-rmse:1.376027\tval-rmse:2.137985\n",
        "[1080]\ttrain-rmse:1.375387\tval-rmse:2.137703\n"
       ]
      },
      {
       "output_type": "stream",
       "stream": "stderr",
       "text": [
        "[1081]\ttrain-rmse:1.374808\tval-rmse:2.137449\n",
        "[1082]\ttrain-rmse:1.373801\tval-rmse:2.137145\n",
        "[1083]\ttrain-rmse:1.372696\tval-rmse:2.136671\n"
       ]
      },
      {
       "output_type": "stream",
       "stream": "stderr",
       "text": [
        "[1084]\ttrain-rmse:1.372241\tval-rmse:2.136498\n",
        "[1085]\ttrain-rmse:1.371576\tval-rmse:2.136286\n",
        "[1086]\ttrain-rmse:1.370773\tval-rmse:2.135926\n"
       ]
      },
      {
       "output_type": "stream",
       "stream": "stderr",
       "text": [
        "[1087]\ttrain-rmse:1.370120\tval-rmse:2.135603\n",
        "[1088]\ttrain-rmse:1.369311\tval-rmse:2.135201\n",
        "[1089]\ttrain-rmse:1.368725\tval-rmse:2.134988\n"
       ]
      },
      {
       "output_type": "stream",
       "stream": "stderr",
       "text": [
        "[1090]\ttrain-rmse:1.367553\tval-rmse:2.134603\n",
        "[1091]\ttrain-rmse:1.366728\tval-rmse:2.134246\n",
        "[1092]\ttrain-rmse:1.365693\tval-rmse:2.133810\n"
       ]
      },
      {
       "output_type": "stream",
       "stream": "stderr",
       "text": [
        "[1093]\ttrain-rmse:1.364830\tval-rmse:2.133596\n",
        "[1094]\ttrain-rmse:1.364266\tval-rmse:2.133434\n",
        "[1095]\ttrain-rmse:1.363803\tval-rmse:2.133241\n"
       ]
      },
      {
       "output_type": "stream",
       "stream": "stderr",
       "text": [
        "[1096]\ttrain-rmse:1.362901\tval-rmse:2.132849\n",
        "[1097]\ttrain-rmse:1.361787\tval-rmse:2.132390\n",
        "[1098]\ttrain-rmse:1.360886\tval-rmse:2.131996\n"
       ]
      },
      {
       "output_type": "stream",
       "stream": "stderr",
       "text": [
        "[1099]\ttrain-rmse:1.360604\tval-rmse:2.131863\n",
        "[1100]\ttrain-rmse:1.359717\tval-rmse:2.131504\n",
        "[1101]\ttrain-rmse:1.358766\tval-rmse:2.131120\n"
       ]
      },
      {
       "output_type": "stream",
       "stream": "stderr",
       "text": [
        "[1102]\ttrain-rmse:1.358165\tval-rmse:2.130979\n",
        "[1103]\ttrain-rmse:1.357297\tval-rmse:2.130640\n",
        "[1104]\ttrain-rmse:1.356980\tval-rmse:2.130526\n"
       ]
      },
      {
       "output_type": "stream",
       "stream": "stderr",
       "text": [
        "[1105]\ttrain-rmse:1.356205\tval-rmse:2.130202\n",
        "[1106]\ttrain-rmse:1.355136\tval-rmse:2.129765\n",
        "[1107]\ttrain-rmse:1.354391\tval-rmse:2.129525\n"
       ]
      },
      {
       "output_type": "stream",
       "stream": "stderr",
       "text": [
        "[1108]\ttrain-rmse:1.353325\tval-rmse:2.129092\n",
        "[1109]\ttrain-rmse:1.352525\tval-rmse:2.128740\n",
        "[1110]\ttrain-rmse:1.351893\tval-rmse:2.128462\n"
       ]
      },
      {
       "output_type": "stream",
       "stream": "stderr",
       "text": [
        "[1111]\ttrain-rmse:1.351512\tval-rmse:2.128284\n",
        "[1112]\ttrain-rmse:1.351178\tval-rmse:2.128151\n",
        "[1113]\ttrain-rmse:1.350595\tval-rmse:2.127882\n",
        "[1114]\ttrain-rmse:1.349800\tval-rmse:2.127527\n"
       ]
      },
      {
       "output_type": "stream",
       "stream": "stderr",
       "text": [
        "[1115]\ttrain-rmse:1.349400\tval-rmse:2.127387\n",
        "[1116]\ttrain-rmse:1.349054\tval-rmse:2.127249\n",
        "[1117]\ttrain-rmse:1.348589\tval-rmse:2.127051\n"
       ]
      },
      {
       "output_type": "stream",
       "stream": "stderr",
       "text": [
        "[1118]\ttrain-rmse:1.347695\tval-rmse:2.126776\n",
        "[1119]\ttrain-rmse:1.347205\tval-rmse:2.126579\n",
        "[1120]\ttrain-rmse:1.346576\tval-rmse:2.126358\n"
       ]
      },
      {
       "output_type": "stream",
       "stream": "stderr",
       "text": [
        "[1121]\ttrain-rmse:1.345976\tval-rmse:2.126067\n",
        "[1122]\ttrain-rmse:1.345165\tval-rmse:2.125764\n",
        "[1123]\ttrain-rmse:1.344675\tval-rmse:2.125659\n"
       ]
      },
      {
       "output_type": "stream",
       "stream": "stderr",
       "text": [
        "[1124]\ttrain-rmse:1.343964\tval-rmse:2.125406\n",
        "[1125]\ttrain-rmse:1.343311\tval-rmse:2.125227\n",
        "[1126]\ttrain-rmse:1.342551\tval-rmse:2.124884\n",
        "[1127]\ttrain-rmse:1.341794\tval-rmse:2.124567\n"
       ]
      },
      {
       "output_type": "stream",
       "stream": "stderr",
       "text": [
        "[1128]\ttrain-rmse:1.340877\tval-rmse:2.124251\n",
        "[1129]\ttrain-rmse:1.340387\tval-rmse:2.124066\n",
        "[1130]\ttrain-rmse:1.339238\tval-rmse:2.123645\n"
       ]
      },
      {
       "output_type": "stream",
       "stream": "stderr",
       "text": [
        "[1131]\ttrain-rmse:1.338271\tval-rmse:2.123256\n",
        "[1132]\ttrain-rmse:1.337604\tval-rmse:2.123054\n",
        "[1133]\ttrain-rmse:1.337114\tval-rmse:2.122884\n",
        "[1134]\ttrain-rmse:1.336480\tval-rmse:2.122657\n"
       ]
      },
      {
       "output_type": "stream",
       "stream": "stderr",
       "text": [
        "[1135]\ttrain-rmse:1.335735\tval-rmse:2.122403\n",
        "[1136]\ttrain-rmse:1.334953\tval-rmse:2.122096\n",
        "[1137]\ttrain-rmse:1.334129\tval-rmse:2.121785\n"
       ]
      },
      {
       "output_type": "stream",
       "stream": "stderr",
       "text": [
        "[1138]\ttrain-rmse:1.333391\tval-rmse:2.121461\n",
        "[1139]\ttrain-rmse:1.332635\tval-rmse:2.121151\n",
        "[1140]\ttrain-rmse:1.331694\tval-rmse:2.120822\n"
       ]
      },
      {
       "output_type": "stream",
       "stream": "stderr",
       "text": [
        "[1141]\ttrain-rmse:1.331324\tval-rmse:2.120719\n",
        "[1142]\ttrain-rmse:1.330490\tval-rmse:2.120339\n",
        "[1143]\ttrain-rmse:1.329593\tval-rmse:2.119974\n"
       ]
      },
      {
       "output_type": "stream",
       "stream": "stderr",
       "text": [
        "[1144]\ttrain-rmse:1.329021\tval-rmse:2.119802\n",
        "[1145]\ttrain-rmse:1.328482\tval-rmse:2.119567\n",
        "[1146]\ttrain-rmse:1.327405\tval-rmse:2.119140\n"
       ]
      },
      {
       "output_type": "stream",
       "stream": "stderr",
       "text": [
        "[1147]\ttrain-rmse:1.326847\tval-rmse:2.118956\n",
        "[1148]\ttrain-rmse:1.325955\tval-rmse:2.118593\n",
        "[1149]\ttrain-rmse:1.325312\tval-rmse:2.118328\n",
        "[1150]\ttrain-rmse:1.324894\tval-rmse:2.118191\n"
       ]
      },
      {
       "output_type": "stream",
       "stream": "stderr",
       "text": [
        "[1151]\ttrain-rmse:1.324029\tval-rmse:2.117832\n",
        "[1152]\ttrain-rmse:1.323205\tval-rmse:2.117443\n",
        "[1153]\ttrain-rmse:1.322247\tval-rmse:2.117048\n"
       ]
      },
      {
       "output_type": "stream",
       "stream": "stderr",
       "text": [
        "[1154]\ttrain-rmse:1.321700\tval-rmse:2.116881\n",
        "[1155]\ttrain-rmse:1.321180\tval-rmse:2.116690\n",
        "[1156]\ttrain-rmse:1.320812\tval-rmse:2.116564\n",
        "[1157]\ttrain-rmse:1.319877\tval-rmse:2.116188\n"
       ]
      },
      {
       "output_type": "stream",
       "stream": "stderr",
       "text": [
        "[1158]\ttrain-rmse:1.319275\tval-rmse:2.115917\n",
        "[1159]\ttrain-rmse:1.318724\tval-rmse:2.115683\n",
        "[1160]\ttrain-rmse:1.318238\tval-rmse:2.115531\n"
       ]
      },
      {
       "output_type": "stream",
       "stream": "stderr",
       "text": [
        "[1161]\ttrain-rmse:1.317698\tval-rmse:2.115381\n",
        "[1162]\ttrain-rmse:1.317316\tval-rmse:2.115234\n",
        "[1163]\ttrain-rmse:1.316442\tval-rmse:2.114910\n"
       ]
      },
      {
       "output_type": "stream",
       "stream": "stderr",
       "text": [
        "[1164]\ttrain-rmse:1.315594\tval-rmse:2.114610\n",
        "[1165]\ttrain-rmse:1.314866\tval-rmse:2.114285\n",
        "[1166]\ttrain-rmse:1.314072\tval-rmse:2.114034\n"
       ]
      },
      {
       "output_type": "stream",
       "stream": "stderr",
       "text": [
        "[1167]\ttrain-rmse:1.313465\tval-rmse:2.113785\n",
        "[1168]\ttrain-rmse:1.312804\tval-rmse:2.113447\n",
        "[1169]\ttrain-rmse:1.311942\tval-rmse:2.113129\n"
       ]
      },
      {
       "output_type": "stream",
       "stream": "stderr",
       "text": [
        "[1170]\ttrain-rmse:1.311510\tval-rmse:2.112923\n",
        "[1171]\ttrain-rmse:1.310673\tval-rmse:2.112604\n",
        "[1172]\ttrain-rmse:1.309841\tval-rmse:2.112277\n"
       ]
      },
      {
       "output_type": "stream",
       "stream": "stderr",
       "text": [
        "[1173]\ttrain-rmse:1.309186\tval-rmse:2.112039\n",
        "[1174]\ttrain-rmse:1.308830\tval-rmse:2.111901\n",
        "[1175]\ttrain-rmse:1.308256\tval-rmse:2.111698\n"
       ]
      },
      {
       "output_type": "stream",
       "stream": "stderr",
       "text": [
        "[1176]\ttrain-rmse:1.307494\tval-rmse:2.111468\n",
        "[1177]\ttrain-rmse:1.306883\tval-rmse:2.111294\n",
        "[1178]\ttrain-rmse:1.305968\tval-rmse:2.110914\n"
       ]
      },
      {
       "output_type": "stream",
       "stream": "stderr",
       "text": [
        "[1179]\ttrain-rmse:1.305282\tval-rmse:2.110673\n",
        "[1180]\ttrain-rmse:1.304725\tval-rmse:2.110497\n",
        "[1181]\ttrain-rmse:1.303919\tval-rmse:2.110221\n"
       ]
      },
      {
       "output_type": "stream",
       "stream": "stderr",
       "text": [
        "[1182]\ttrain-rmse:1.303044\tval-rmse:2.109886\n",
        "[1183]\ttrain-rmse:1.302368\tval-rmse:2.109563\n",
        "[1184]\ttrain-rmse:1.301458\tval-rmse:2.109225\n"
       ]
      },
      {
       "output_type": "stream",
       "stream": "stderr",
       "text": [
        "[1185]\ttrain-rmse:1.300504\tval-rmse:2.108820\n",
        "[1186]\ttrain-rmse:1.299465\tval-rmse:2.108477\n",
        "[1187]\ttrain-rmse:1.298567\tval-rmse:2.108093\n"
       ]
      },
      {
       "output_type": "stream",
       "stream": "stderr",
       "text": [
        "[1188]\ttrain-rmse:1.297983\tval-rmse:2.107931\n",
        "[1189]\ttrain-rmse:1.297014\tval-rmse:2.107579\n",
        "[1190]\ttrain-rmse:1.295966\tval-rmse:2.107234\n"
       ]
      },
      {
       "output_type": "stream",
       "stream": "stderr",
       "text": [
        "[1191]\ttrain-rmse:1.295181\tval-rmse:2.107017\n",
        "[1192]\ttrain-rmse:1.294733\tval-rmse:2.106883\n",
        "[1193]\ttrain-rmse:1.294027\tval-rmse:2.106667\n"
       ]
      },
      {
       "output_type": "stream",
       "stream": "stderr",
       "text": [
        "[1194]\ttrain-rmse:1.293438\tval-rmse:2.106438\n",
        "[1195]\ttrain-rmse:1.292698\tval-rmse:2.106165\n",
        "[1196]\ttrain-rmse:1.291700\tval-rmse:2.105704\n"
       ]
      },
      {
       "output_type": "stream",
       "stream": "stderr",
       "text": [
        "[1197]\ttrain-rmse:1.290888\tval-rmse:2.105428\n",
        "[1198]\ttrain-rmse:1.290262\tval-rmse:2.105201\n",
        "[1199]\ttrain-rmse:1.289244\tval-rmse:2.104818\n"
       ]
      },
      {
       "output_type": "stream",
       "stream": "stderr",
       "text": [
        "[1200]\ttrain-rmse:1.288524\tval-rmse:2.104558\n",
        "[1201]\ttrain-rmse:1.287670\tval-rmse:2.104198\n",
        "[1202]\ttrain-rmse:1.286905\tval-rmse:2.103865\n"
       ]
      },
      {
       "output_type": "stream",
       "stream": "stderr",
       "text": [
        "[1203]\ttrain-rmse:1.285896\tval-rmse:2.103634\n",
        "[1204]\ttrain-rmse:1.284984\tval-rmse:2.103299\n",
        "[1205]\ttrain-rmse:1.284068\tval-rmse:2.103019\n"
       ]
      },
      {
       "output_type": "stream",
       "stream": "stderr",
       "text": [
        "[1206]\ttrain-rmse:1.283619\tval-rmse:2.102841\n",
        "[1207]\ttrain-rmse:1.282810\tval-rmse:2.102554\n",
        "[1208]\ttrain-rmse:1.282107\tval-rmse:2.102208\n"
       ]
      },
      {
       "output_type": "stream",
       "stream": "stderr",
       "text": [
        "[1209]\ttrain-rmse:1.281193\tval-rmse:2.101892\n",
        "[1210]\ttrain-rmse:1.280469\tval-rmse:2.101627\n",
        "[1211]\ttrain-rmse:1.279634\tval-rmse:2.101230\n"
       ]
      },
      {
       "output_type": "stream",
       "stream": "stderr",
       "text": [
        "[1212]\ttrain-rmse:1.278750\tval-rmse:2.100870\n",
        "[1213]\ttrain-rmse:1.277801\tval-rmse:2.100506\n",
        "[1214]\ttrain-rmse:1.277004\tval-rmse:2.100284\n"
       ]
      },
      {
       "output_type": "stream",
       "stream": "stderr",
       "text": [
        "[1215]\ttrain-rmse:1.276503\tval-rmse:2.100091\n",
        "[1216]\ttrain-rmse:1.275729\tval-rmse:2.099764\n",
        "[1217]\ttrain-rmse:1.274951\tval-rmse:2.099459\n"
       ]
      },
      {
       "output_type": "stream",
       "stream": "stderr",
       "text": [
        "[1218]\ttrain-rmse:1.274014\tval-rmse:2.099087\n",
        "[1219]\ttrain-rmse:1.273587\tval-rmse:2.098905\n",
        "[1220]\ttrain-rmse:1.272638\tval-rmse:2.098512\n"
       ]
      },
      {
       "output_type": "stream",
       "stream": "stderr",
       "text": [
        "[1221]\ttrain-rmse:1.271948\tval-rmse:2.098256\n",
        "[1222]\ttrain-rmse:1.271528\tval-rmse:2.098087\n",
        "[1223]\ttrain-rmse:1.270904\tval-rmse:2.097786\n"
       ]
      },
      {
       "output_type": "stream",
       "stream": "stderr",
       "text": [
        "[1224]\ttrain-rmse:1.270292\tval-rmse:2.097518\n",
        "[1225]\ttrain-rmse:1.269754\tval-rmse:2.097311\n",
        "[1226]\ttrain-rmse:1.269071\tval-rmse:2.097045\n"
       ]
      },
      {
       "output_type": "stream",
       "stream": "stderr",
       "text": [
        "[1227]\ttrain-rmse:1.268266\tval-rmse:2.096785\n",
        "[1228]\ttrain-rmse:1.267734\tval-rmse:2.096630\n",
        "[1229]\ttrain-rmse:1.266903\tval-rmse:2.096290\n"
       ]
      },
      {
       "output_type": "stream",
       "stream": "stderr",
       "text": [
        "[1230]\ttrain-rmse:1.266463\tval-rmse:2.096037\n",
        "[1231]\ttrain-rmse:1.266018\tval-rmse:2.095840\n",
        "[1232]\ttrain-rmse:1.265537\tval-rmse:2.095660\n",
        "[1233]\ttrain-rmse:1.264750\tval-rmse:2.095432\n"
       ]
      },
      {
       "output_type": "stream",
       "stream": "stderr",
       "text": [
        "[1234]\ttrain-rmse:1.264092\tval-rmse:2.095179\n",
        "[1235]\ttrain-rmse:1.263379\tval-rmse:2.094903\n",
        "[1236]\ttrain-rmse:1.262548\tval-rmse:2.094695\n"
       ]
      },
      {
       "output_type": "stream",
       "stream": "stderr",
       "text": [
        "[1237]\ttrain-rmse:1.261993\tval-rmse:2.094459\n",
        "[1238]\ttrain-rmse:1.260992\tval-rmse:2.094092\n",
        "[1239]\ttrain-rmse:1.260209\tval-rmse:2.093768\n"
       ]
      },
      {
       "output_type": "stream",
       "stream": "stderr",
       "text": [
        "[1240]\ttrain-rmse:1.259694\tval-rmse:2.093616\n",
        "[1241]\ttrain-rmse:1.259030\tval-rmse:2.093352\n",
        "[1242]\ttrain-rmse:1.258056\tval-rmse:2.093023\n"
       ]
      },
      {
       "output_type": "stream",
       "stream": "stderr",
       "text": [
        "[1243]\ttrain-rmse:1.257139\tval-rmse:2.092691\n",
        "[1244]\ttrain-rmse:1.256117\tval-rmse:2.092315\n",
        "[1245]\ttrain-rmse:1.255228\tval-rmse:2.092004\n"
       ]
      },
      {
       "output_type": "stream",
       "stream": "stderr",
       "text": [
        "[1246]\ttrain-rmse:1.254715\tval-rmse:2.091861\n",
        "[1247]\ttrain-rmse:1.254172\tval-rmse:2.091681\n",
        "[1248]\ttrain-rmse:1.253353\tval-rmse:2.091361\n"
       ]
      },
      {
       "output_type": "stream",
       "stream": "stderr",
       "text": [
        "[1249]\ttrain-rmse:1.252853\tval-rmse:2.091136\n",
        "[1250]\ttrain-rmse:1.252344\tval-rmse:2.090956\n",
        "[1251]\ttrain-rmse:1.251734\tval-rmse:2.090811\n"
       ]
      },
      {
       "output_type": "stream",
       "stream": "stderr",
       "text": [
        "[1252]\ttrain-rmse:1.250606\tval-rmse:2.090478\n",
        "[1253]\ttrain-rmse:1.249794\tval-rmse:2.090242\n",
        "[1254]\ttrain-rmse:1.249027\tval-rmse:2.089855\n"
       ]
      },
      {
       "output_type": "stream",
       "stream": "stderr",
       "text": [
        "[1255]\ttrain-rmse:1.248349\tval-rmse:2.089604\n",
        "[1256]\ttrain-rmse:1.247294\tval-rmse:2.089202\n",
        "[1257]\ttrain-rmse:1.246569\tval-rmse:2.088855\n"
       ]
      },
      {
       "output_type": "stream",
       "stream": "stderr",
       "text": [
        "[1258]\ttrain-rmse:1.245701\tval-rmse:2.088534\n",
        "[1259]\ttrain-rmse:1.245276\tval-rmse:2.088357\n",
        "[1260]\ttrain-rmse:1.244388\tval-rmse:2.088015\n"
       ]
      },
      {
       "output_type": "stream",
       "stream": "stderr",
       "text": [
        "[1261]\ttrain-rmse:1.243873\tval-rmse:2.087852\n",
        "[1262]\ttrain-rmse:1.243172\tval-rmse:2.087593\n",
        "[1263]\ttrain-rmse:1.242731\tval-rmse:2.087368\n"
       ]
      },
      {
       "output_type": "stream",
       "stream": "stderr",
       "text": [
        "[1264]\ttrain-rmse:1.241728\tval-rmse:2.086978\n",
        "[1265]\ttrain-rmse:1.240790\tval-rmse:2.086593\n"
       ]
      },
      {
       "output_type": "stream",
       "stream": "stderr",
       "text": [
        "[1266]\ttrain-rmse:1.240306\tval-rmse:2.086398\n",
        "[1267]\ttrain-rmse:1.239716\tval-rmse:2.086262\n",
        "[1268]\ttrain-rmse:1.239120\tval-rmse:2.085985\n"
       ]
      },
      {
       "output_type": "stream",
       "stream": "stderr",
       "text": [
        "[1269]\ttrain-rmse:1.238407\tval-rmse:2.085794\n",
        "[1270]\ttrain-rmse:1.237641\tval-rmse:2.085492\n",
        "[1271]\ttrain-rmse:1.236877\tval-rmse:2.085165\n"
       ]
      },
      {
       "output_type": "stream",
       "stream": "stderr",
       "text": [
        "[1272]\ttrain-rmse:1.236287\tval-rmse:2.084923\n",
        "[1273]\ttrain-rmse:1.235394\tval-rmse:2.084533\n"
       ]
      },
      {
       "output_type": "stream",
       "stream": "stderr",
       "text": [
        "[1274]\ttrain-rmse:1.234722\tval-rmse:2.084272\n",
        "[1275]\ttrain-rmse:1.234293\tval-rmse:2.084120\n",
        "[1276]\ttrain-rmse:1.233465\tval-rmse:2.083845\n"
       ]
      },
      {
       "output_type": "stream",
       "stream": "stderr",
       "text": [
        "[1277]\ttrain-rmse:1.232526\tval-rmse:2.083593\n",
        "[1278]\ttrain-rmse:1.231832\tval-rmse:2.083323\n"
       ]
      },
      {
       "output_type": "stream",
       "stream": "stderr",
       "text": [
        "[1279]\ttrain-rmse:1.231582\tval-rmse:2.083261\n",
        "[1280]\ttrain-rmse:1.231019\tval-rmse:2.083104\n"
       ]
      },
      {
       "output_type": "stream",
       "stream": "stderr",
       "text": [
        "[1281]\ttrain-rmse:1.230394\tval-rmse:2.082868\n",
        "[1282]\ttrain-rmse:1.229614\tval-rmse:2.082696\n",
        "[1283]\ttrain-rmse:1.228948\tval-rmse:2.082536\n"
       ]
      },
      {
       "output_type": "stream",
       "stream": "stderr",
       "text": [
        "[1284]\ttrain-rmse:1.228343\tval-rmse:2.082391\n",
        "[1285]\ttrain-rmse:1.227563\tval-rmse:2.082149\n",
        "[1286]\ttrain-rmse:1.227092\tval-rmse:2.081909\n"
       ]
      },
      {
       "output_type": "stream",
       "stream": "stderr",
       "text": [
        "[1287]\ttrain-rmse:1.226721\tval-rmse:2.081697\n",
        "[1288]\ttrain-rmse:1.226151\tval-rmse:2.081546\n",
        "[1289]\ttrain-rmse:1.225454\tval-rmse:2.081364\n"
       ]
      },
      {
       "output_type": "stream",
       "stream": "stderr",
       "text": [
        "[1290]\ttrain-rmse:1.225003\tval-rmse:2.081237\n",
        "[1291]\ttrain-rmse:1.224072\tval-rmse:2.080915\n"
       ]
      },
      {
       "output_type": "stream",
       "stream": "stderr",
       "text": [
        "[1292]\ttrain-rmse:1.223205\tval-rmse:2.080541\n",
        "[1293]\ttrain-rmse:1.222596\tval-rmse:2.080330\n",
        "[1294]\ttrain-rmse:1.222058\tval-rmse:2.080151\n"
       ]
      },
      {
       "output_type": "stream",
       "stream": "stderr",
       "text": [
        "[1295]\ttrain-rmse:1.221287\tval-rmse:2.079895\n",
        "[1296]\ttrain-rmse:1.220500\tval-rmse:2.079663\n",
        "[1297]\ttrain-rmse:1.219985\tval-rmse:2.079435\n"
       ]
      },
      {
       "output_type": "stream",
       "stream": "stderr",
       "text": [
        "[1298]\ttrain-rmse:1.219229\tval-rmse:2.079201\n",
        "[1299]\ttrain-rmse:1.218433\tval-rmse:2.078947\n",
        "[1300]\ttrain-rmse:1.217995\tval-rmse:2.078786\n"
       ]
      },
      {
       "output_type": "stream",
       "stream": "stderr",
       "text": [
        "[1301]\ttrain-rmse:1.217591\tval-rmse:2.078637\n",
        "[1302]\ttrain-rmse:1.216781\tval-rmse:2.078301\n",
        "[1303]\ttrain-rmse:1.216254\tval-rmse:2.078082\n"
       ]
      },
      {
       "output_type": "stream",
       "stream": "stderr",
       "text": [
        "[1304]\ttrain-rmse:1.216125\tval-rmse:2.078030\n",
        "[1305]\ttrain-rmse:1.215433\tval-rmse:2.077733\n",
        "[1306]\ttrain-rmse:1.215008\tval-rmse:2.077584\n"
       ]
      },
      {
       "output_type": "stream",
       "stream": "stderr",
       "text": [
        "[1307]\ttrain-rmse:1.214285\tval-rmse:2.077336\n",
        "[1308]\ttrain-rmse:1.213755\tval-rmse:2.077156\n"
       ]
      },
      {
       "output_type": "stream",
       "stream": "stderr",
       "text": [
        "[1309]\ttrain-rmse:1.213372\tval-rmse:2.077020\n",
        "[1310]\ttrain-rmse:1.212776\tval-rmse:2.076832\n"
       ]
      },
      {
       "output_type": "stream",
       "stream": "stderr",
       "text": [
        "[1311]\ttrain-rmse:1.211943\tval-rmse:2.076612\n",
        "[1312]\ttrain-rmse:1.211417\tval-rmse:2.076439\n",
        "[1313]\ttrain-rmse:1.210637\tval-rmse:2.076088\n"
       ]
      },
      {
       "output_type": "stream",
       "stream": "stderr",
       "text": [
        "[1314]\ttrain-rmse:1.210317\tval-rmse:2.075953\n",
        "[1315]\ttrain-rmse:1.209703\tval-rmse:2.075735\n",
        "[1316]\ttrain-rmse:1.209337\tval-rmse:2.075657\n"
       ]
      },
      {
       "output_type": "stream",
       "stream": "stderr",
       "text": [
        "[1317]\ttrain-rmse:1.208835\tval-rmse:2.075470\n",
        "[1318]\ttrain-rmse:1.208091\tval-rmse:2.075223\n",
        "[1319]\ttrain-rmse:1.207339\tval-rmse:2.074920\n"
       ]
      },
      {
       "output_type": "stream",
       "stream": "stderr",
       "text": [
        "[1320]\ttrain-rmse:1.206688\tval-rmse:2.074718\n",
        "[1321]\ttrain-rmse:1.206310\tval-rmse:2.074547\n",
        "[1322]\ttrain-rmse:1.205767\tval-rmse:2.074294\n"
       ]
      },
      {
       "output_type": "stream",
       "stream": "stderr",
       "text": [
        "[1323]\ttrain-rmse:1.204998\tval-rmse:2.074038\n",
        "[1324]\ttrain-rmse:1.204243\tval-rmse:2.073871\n",
        "[1325]\ttrain-rmse:1.203550\tval-rmse:2.073591\n"
       ]
      },
      {
       "output_type": "stream",
       "stream": "stderr",
       "text": [
        "[1326]\ttrain-rmse:1.202880\tval-rmse:2.073373\n",
        "[1327]\ttrain-rmse:1.202249\tval-rmse:2.073145\n",
        "[1328]\ttrain-rmse:1.201522\tval-rmse:2.072883\n"
       ]
      },
      {
       "output_type": "stream",
       "stream": "stderr",
       "text": [
        "[1329]\ttrain-rmse:1.200986\tval-rmse:2.072632\n",
        "[1330]\ttrain-rmse:1.200569\tval-rmse:2.072487\n",
        "[1331]\ttrain-rmse:1.199529\tval-rmse:2.072127\n"
       ]
      },
      {
       "output_type": "stream",
       "stream": "stderr",
       "text": [
        "[1332]\ttrain-rmse:1.198883\tval-rmse:2.071887\n",
        "[1333]\ttrain-rmse:1.198194\tval-rmse:2.071630\n",
        "[1334]\ttrain-rmse:1.197682\tval-rmse:2.071493\n"
       ]
      },
      {
       "output_type": "stream",
       "stream": "stderr",
       "text": [
        "[1335]\ttrain-rmse:1.196638\tval-rmse:2.071027\n",
        "[1336]\ttrain-rmse:1.196159\tval-rmse:2.070810\n",
        "[1337]\ttrain-rmse:1.195706\tval-rmse:2.070622\n",
        "[1338]\ttrain-rmse:1.194868\tval-rmse:2.070332\n"
       ]
      },
      {
       "output_type": "stream",
       "stream": "stderr",
       "text": [
        "[1339]\ttrain-rmse:1.194429\tval-rmse:2.070215\n",
        "[1340]\ttrain-rmse:1.193631\tval-rmse:2.069943\n",
        "[1341]\ttrain-rmse:1.193065\tval-rmse:2.069753\n"
       ]
      },
      {
       "output_type": "stream",
       "stream": "stderr",
       "text": [
        "[1342]\ttrain-rmse:1.192495\tval-rmse:2.069641\n",
        "[1343]\ttrain-rmse:1.192204\tval-rmse:2.069562\n",
        "[1344]\ttrain-rmse:1.191473\tval-rmse:2.069355\n",
        "[1345]\ttrain-rmse:1.190971\tval-rmse:2.069202\n"
       ]
      },
      {
       "output_type": "stream",
       "stream": "stderr",
       "text": [
        "[1346]\ttrain-rmse:1.190576\tval-rmse:2.069071\n",
        "[1347]\ttrain-rmse:1.189889\tval-rmse:2.068856\n",
        "[1348]\ttrain-rmse:1.189134\tval-rmse:2.068539\n"
       ]
      },
      {
       "output_type": "stream",
       "stream": "stderr",
       "text": [
        "[1349]\ttrain-rmse:1.188771\tval-rmse:2.068401\n",
        "[1350]\ttrain-rmse:1.188269\tval-rmse:2.068216\n",
        "[1351]\ttrain-rmse:1.187629\tval-rmse:2.068011\n"
       ]
      },
      {
       "output_type": "stream",
       "stream": "stderr",
       "text": [
        "[1352]\ttrain-rmse:1.187120\tval-rmse:2.067806\n",
        "[1353]\ttrain-rmse:1.186431\tval-rmse:2.067590\n",
        "[1354]\ttrain-rmse:1.185592\tval-rmse:2.067277\n"
       ]
      },
      {
       "output_type": "stream",
       "stream": "stderr",
       "text": [
        "[1355]\ttrain-rmse:1.184612\tval-rmse:2.066991\n",
        "[1356]\ttrain-rmse:1.184019\tval-rmse:2.066740\n",
        "[1357]\ttrain-rmse:1.183449\tval-rmse:2.066576\n"
       ]
      },
      {
       "output_type": "stream",
       "stream": "stderr",
       "text": [
        "[1358]\ttrain-rmse:1.182706\tval-rmse:2.066301\n",
        "[1359]\ttrain-rmse:1.181986\tval-rmse:2.066114\n",
        "[1360]\ttrain-rmse:1.181559\tval-rmse:2.065925\n",
        "[1361]\ttrain-rmse:1.180889\tval-rmse:2.065717\n"
       ]
      },
      {
       "output_type": "stream",
       "stream": "stderr",
       "text": [
        "[1362]\ttrain-rmse:1.180156\tval-rmse:2.065567\n",
        "[1363]\ttrain-rmse:1.179229\tval-rmse:2.065231\n",
        "[1364]\ttrain-rmse:1.178388\tval-rmse:2.064961\n"
       ]
      },
      {
       "output_type": "stream",
       "stream": "stderr",
       "text": [
        "[1365]\ttrain-rmse:1.178045\tval-rmse:2.064848\n",
        "[1366]\ttrain-rmse:1.177383\tval-rmse:2.064597\n",
        "[1367]\ttrain-rmse:1.176916\tval-rmse:2.064422\n"
       ]
      },
      {
       "output_type": "stream",
       "stream": "stderr",
       "text": [
        "[1368]\ttrain-rmse:1.176169\tval-rmse:2.064151\n",
        "[1369]\ttrain-rmse:1.175864\tval-rmse:2.064066\n",
        "[1370]\ttrain-rmse:1.175545\tval-rmse:2.063903\n"
       ]
      },
      {
       "output_type": "stream",
       "stream": "stderr",
       "text": [
        "[1371]\ttrain-rmse:1.174554\tval-rmse:2.063475\n",
        "[1372]\ttrain-rmse:1.173661\tval-rmse:2.063219\n",
        "[1373]\ttrain-rmse:1.173076\tval-rmse:2.062987\n"
       ]
      },
      {
       "output_type": "stream",
       "stream": "stderr",
       "text": [
        "[1374]\ttrain-rmse:1.172464\tval-rmse:2.062843\n",
        "[1375]\ttrain-rmse:1.171786\tval-rmse:2.062621\n",
        "[1376]\ttrain-rmse:1.171239\tval-rmse:2.062450\n"
       ]
      },
      {
       "output_type": "stream",
       "stream": "stderr",
       "text": [
        "[1377]\ttrain-rmse:1.170391\tval-rmse:2.062177\n",
        "[1378]\ttrain-rmse:1.169503\tval-rmse:2.061927\n",
        "[1379]\ttrain-rmse:1.168624\tval-rmse:2.061636\n"
       ]
      },
      {
       "output_type": "stream",
       "stream": "stderr",
       "text": [
        "[1380]\ttrain-rmse:1.168053\tval-rmse:2.061457\n",
        "[1381]\ttrain-rmse:1.167385\tval-rmse:2.061185\n",
        "[1382]\ttrain-rmse:1.166537\tval-rmse:2.060862\n",
        "[1383]\ttrain-rmse:1.166032\tval-rmse:2.060669\n"
       ]
      },
      {
       "output_type": "stream",
       "stream": "stderr",
       "text": [
        "[1384]\ttrain-rmse:1.165502\tval-rmse:2.060461\n",
        "[1385]\ttrain-rmse:1.165108\tval-rmse:2.060325\n",
        "[1386]\ttrain-rmse:1.164781\tval-rmse:2.060219\n"
       ]
      },
      {
       "output_type": "stream",
       "stream": "stderr",
       "text": [
        "[1387]\ttrain-rmse:1.164162\tval-rmse:2.060019\n",
        "[1388]\ttrain-rmse:1.163808\tval-rmse:2.059916\n",
        "[1389]\ttrain-rmse:1.162932\tval-rmse:2.059603\n"
       ]
      },
      {
       "output_type": "stream",
       "stream": "stderr",
       "text": [
        "[1390]\ttrain-rmse:1.162590\tval-rmse:2.059485\n",
        "[1391]\ttrain-rmse:1.161734\tval-rmse:2.059178\n",
        "[1392]\ttrain-rmse:1.161188\tval-rmse:2.058986\n"
       ]
      },
      {
       "output_type": "stream",
       "stream": "stderr",
       "text": [
        "[1393]\ttrain-rmse:1.160569\tval-rmse:2.058733\n",
        "[1394]\ttrain-rmse:1.159907\tval-rmse:2.058424\n",
        "[1395]\ttrain-rmse:1.159292\tval-rmse:2.058274\n"
       ]
      },
      {
       "output_type": "stream",
       "stream": "stderr",
       "text": [
        "[1396]\ttrain-rmse:1.158628\tval-rmse:2.057986\n",
        "[1397]\ttrain-rmse:1.157868\tval-rmse:2.057704\n",
        "[1398]\ttrain-rmse:1.157377\tval-rmse:2.057511\n"
       ]
      },
      {
       "output_type": "stream",
       "stream": "stderr",
       "text": [
        "[1399]\ttrain-rmse:1.156637\tval-rmse:2.057254\n",
        "[1400]\ttrain-rmse:1.155937\tval-rmse:2.056975\n",
        "[1401]\ttrain-rmse:1.155322\tval-rmse:2.056832\n"
       ]
      },
      {
       "output_type": "stream",
       "stream": "stderr",
       "text": [
        "[1402]\ttrain-rmse:1.154472\tval-rmse:2.056518\n",
        "[1403]\ttrain-rmse:1.153702\tval-rmse:2.056216\n",
        "[1404]\ttrain-rmse:1.153285\tval-rmse:2.056112\n"
       ]
      },
      {
       "output_type": "stream",
       "stream": "stderr",
       "text": [
        "[1405]\ttrain-rmse:1.152867\tval-rmse:2.055963\n",
        "[1406]\ttrain-rmse:1.152211\tval-rmse:2.055800\n",
        "[1407]\ttrain-rmse:1.151791\tval-rmse:2.055612\n"
       ]
      },
      {
       "output_type": "stream",
       "stream": "stderr",
       "text": [
        "[1408]\ttrain-rmse:1.151062\tval-rmse:2.055326\n",
        "[1409]\ttrain-rmse:1.150395\tval-rmse:2.055081\n",
        "[1410]\ttrain-rmse:1.149932\tval-rmse:2.054914\n"
       ]
      },
      {
       "output_type": "stream",
       "stream": "stderr",
       "text": [
        "[1411]\ttrain-rmse:1.149521\tval-rmse:2.054764\n",
        "[1412]\ttrain-rmse:1.148829\tval-rmse:2.054570\n",
        "[1413]\ttrain-rmse:1.148558\tval-rmse:2.054515\n"
       ]
      },
      {
       "output_type": "stream",
       "stream": "stderr",
       "text": [
        "[1414]\ttrain-rmse:1.147881\tval-rmse:2.054303\n",
        "[1415]\ttrain-rmse:1.147597\tval-rmse:2.054197\n",
        "[1416]\ttrain-rmse:1.147043\tval-rmse:2.053985\n"
       ]
      },
      {
       "output_type": "stream",
       "stream": "stderr",
       "text": [
        "[1417]\ttrain-rmse:1.146457\tval-rmse:2.053760\n",
        "[1418]\ttrain-rmse:1.145887\tval-rmse:2.053533\n",
        "[1419]\ttrain-rmse:1.145151\tval-rmse:2.053303\n"
       ]
      },
      {
       "output_type": "stream",
       "stream": "stderr",
       "text": [
        "[1420]\ttrain-rmse:1.144323\tval-rmse:2.053076\n",
        "[1421]\ttrain-rmse:1.143723\tval-rmse:2.052864\n",
        "[1422]\ttrain-rmse:1.143252\tval-rmse:2.052747\n"
       ]
      },
      {
       "output_type": "stream",
       "stream": "stderr",
       "text": [
        "[1423]\ttrain-rmse:1.142676\tval-rmse:2.052608\n",
        "[1424]\ttrain-rmse:1.142360\tval-rmse:2.052516\n",
        "[1425]\ttrain-rmse:1.141761\tval-rmse:2.052286\n"
       ]
      },
      {
       "output_type": "stream",
       "stream": "stderr",
       "text": [
        "[1426]\ttrain-rmse:1.141080\tval-rmse:2.052127\n",
        "[1427]\ttrain-rmse:1.140556\tval-rmse:2.051919\n",
        "[1428]\ttrain-rmse:1.139903\tval-rmse:2.051615\n"
       ]
      },
      {
       "output_type": "stream",
       "stream": "stderr",
       "text": [
        "[1429]\ttrain-rmse:1.139238\tval-rmse:2.051450\n",
        "[1430]\ttrain-rmse:1.138607\tval-rmse:2.051232\n",
        "[1431]\ttrain-rmse:1.138116\tval-rmse:2.051021\n"
       ]
      },
      {
       "output_type": "stream",
       "stream": "stderr",
       "text": [
        "[1432]\ttrain-rmse:1.137904\tval-rmse:2.050963\n",
        "[1433]\ttrain-rmse:1.137419\tval-rmse:2.050810\n",
        "[1434]\ttrain-rmse:1.136769\tval-rmse:2.050649\n"
       ]
      },
      {
       "output_type": "stream",
       "stream": "stderr",
       "text": [
        "[1435]\ttrain-rmse:1.136004\tval-rmse:2.050323\n",
        "[1436]\ttrain-rmse:1.135596\tval-rmse:2.050212\n",
        "[1437]\ttrain-rmse:1.134865\tval-rmse:2.049918\n"
       ]
      },
      {
       "output_type": "stream",
       "stream": "stderr",
       "text": [
        "[1438]\ttrain-rmse:1.134312\tval-rmse:2.049691\n",
        "[1439]\ttrain-rmse:1.133750\tval-rmse:2.049477\n",
        "[1440]\ttrain-rmse:1.133168\tval-rmse:2.049269\n"
       ]
      },
      {
       "output_type": "stream",
       "stream": "stderr",
       "text": [
        "[1441]\ttrain-rmse:1.132722\tval-rmse:2.049091\n",
        "[1442]\ttrain-rmse:1.131891\tval-rmse:2.048791\n",
        "[1443]\ttrain-rmse:1.131305\tval-rmse:2.048599\n",
        "[1444]\ttrain-rmse:1.130527\tval-rmse:2.048288\n"
       ]
      },
      {
       "output_type": "stream",
       "stream": "stderr",
       "text": [
        "[1445]\ttrain-rmse:1.129929\tval-rmse:2.048118\n",
        "[1446]\ttrain-rmse:1.129271\tval-rmse:2.047861\n",
        "[1447]\ttrain-rmse:1.128691\tval-rmse:2.047729\n"
       ]
      },
      {
       "output_type": "stream",
       "stream": "stderr",
       "text": [
        "[1448]\ttrain-rmse:1.128036\tval-rmse:2.047462\n",
        "[1449]\ttrain-rmse:1.127310\tval-rmse:2.047241\n",
        "[1450]\ttrain-rmse:1.126630\tval-rmse:2.047058\n"
       ]
      },
      {
       "output_type": "stream",
       "stream": "stderr",
       "text": [
        "[1451]\ttrain-rmse:1.125921\tval-rmse:2.046719\n",
        "[1452]\ttrain-rmse:1.125379\tval-rmse:2.046562\n",
        "[1453]\ttrain-rmse:1.124651\tval-rmse:2.046359\n"
       ]
      },
      {
       "output_type": "stream",
       "stream": "stderr",
       "text": [
        "[1454]\ttrain-rmse:1.124129\tval-rmse:2.046228\n",
        "[1455]\ttrain-rmse:1.123271\tval-rmse:2.045976\n",
        "[1456]\ttrain-rmse:1.122395\tval-rmse:2.045683\n"
       ]
      },
      {
       "output_type": "stream",
       "stream": "stderr",
       "text": [
        "[1457]\ttrain-rmse:1.121651\tval-rmse:2.045420\n",
        "[1458]\ttrain-rmse:1.120947\tval-rmse:2.045166\n",
        "[1459]\ttrain-rmse:1.120564\tval-rmse:2.045003\n",
        "[1460]\ttrain-rmse:1.119766\tval-rmse:2.044739\n"
       ]
      },
      {
       "output_type": "stream",
       "stream": "stderr",
       "text": [
        "[1461]\ttrain-rmse:1.118962\tval-rmse:2.044472\n",
        "[1462]\ttrain-rmse:1.118081\tval-rmse:2.044196\n",
        "[1463]\ttrain-rmse:1.117767\tval-rmse:2.044066\n"
       ]
      },
      {
       "output_type": "stream",
       "stream": "stderr",
       "text": [
        "[1464]\ttrain-rmse:1.117028\tval-rmse:2.043756\n",
        "[1465]\ttrain-rmse:1.116436\tval-rmse:2.043560\n",
        "[1466]\ttrain-rmse:1.115806\tval-rmse:2.043351\n"
       ]
      },
      {
       "output_type": "stream",
       "stream": "stderr",
       "text": [
        "[1467]\ttrain-rmse:1.115302\tval-rmse:2.043156\n",
        "[1468]\ttrain-rmse:1.115041\tval-rmse:2.043082\n",
        "[1469]\ttrain-rmse:1.114464\tval-rmse:2.042914\n"
       ]
      },
      {
       "output_type": "stream",
       "stream": "stderr",
       "text": [
        "[1470]\ttrain-rmse:1.113729\tval-rmse:2.042700\n",
        "[1471]\ttrain-rmse:1.113192\tval-rmse:2.042492\n",
        "[1472]\ttrain-rmse:1.112532\tval-rmse:2.042291\n",
        "[1473]\ttrain-rmse:1.111638\tval-rmse:2.041997\n"
       ]
      },
      {
       "output_type": "stream",
       "stream": "stderr",
       "text": [
        "[1474]\ttrain-rmse:1.111172\tval-rmse:2.041856\n",
        "[1475]\ttrain-rmse:1.110654\tval-rmse:2.041675\n",
        "[1476]\ttrain-rmse:1.109837\tval-rmse:2.041411\n"
       ]
      },
      {
       "output_type": "stream",
       "stream": "stderr",
       "text": [
        "[1477]\ttrain-rmse:1.109046\tval-rmse:2.041148\n",
        "[1478]\ttrain-rmse:1.108543\tval-rmse:2.040959\n",
        "[1479]\ttrain-rmse:1.108099\tval-rmse:2.040823\n"
       ]
      },
      {
       "output_type": "stream",
       "stream": "stderr",
       "text": [
        "[1480]\ttrain-rmse:1.107639\tval-rmse:2.040716\n",
        "[1481]\ttrain-rmse:1.106817\tval-rmse:2.040392\n",
        "[1482]\ttrain-rmse:1.106099\tval-rmse:2.040118\n"
       ]
      },
      {
       "output_type": "stream",
       "stream": "stderr",
       "text": [
        "[1483]\ttrain-rmse:1.105559\tval-rmse:2.039978\n",
        "[1484]\ttrain-rmse:1.104819\tval-rmse:2.039730\n",
        "[1485]\ttrain-rmse:1.104373\tval-rmse:2.039609\n"
       ]
      },
      {
       "output_type": "stream",
       "stream": "stderr",
       "text": [
        "[1486]\ttrain-rmse:1.103621\tval-rmse:2.039267\n",
        "[1487]\ttrain-rmse:1.102948\tval-rmse:2.038984\n",
        "[1488]\ttrain-rmse:1.102403\tval-rmse:2.038853\n"
       ]
      },
      {
       "output_type": "stream",
       "stream": "stderr",
       "text": [
        "[1489]\ttrain-rmse:1.101454\tval-rmse:2.038539\n",
        "[1490]\ttrain-rmse:1.101010\tval-rmse:2.038414\n",
        "[1491]\ttrain-rmse:1.100324\tval-rmse:2.038194\n"
       ]
      },
      {
       "output_type": "stream",
       "stream": "stderr",
       "text": [
        "[1492]\ttrain-rmse:1.099749\tval-rmse:2.037971\n",
        "[1493]\ttrain-rmse:1.099121\tval-rmse:2.037688\n",
        "[1494]\ttrain-rmse:1.098730\tval-rmse:2.037582\n"
       ]
      },
      {
       "output_type": "stream",
       "stream": "stderr",
       "text": [
        "[1495]\ttrain-rmse:1.097844\tval-rmse:2.037271\n",
        "[1496]\ttrain-rmse:1.097126\tval-rmse:2.037103\n",
        "[1497]\ttrain-rmse:1.096830\tval-rmse:2.037050\n",
        "[1498]\ttrain-rmse:1.096535\tval-rmse:2.036944\n"
       ]
      },
      {
       "output_type": "stream",
       "stream": "stderr",
       "text": [
        "[1499]\ttrain-rmse:1.096121\tval-rmse:2.036830\n",
        "[1500]\ttrain-rmse:1.095770\tval-rmse:2.036709\n",
        "[1501]\ttrain-rmse:1.095161\tval-rmse:2.036544\n"
       ]
      },
      {
       "output_type": "stream",
       "stream": "stderr",
       "text": [
        "[1502]\ttrain-rmse:1.094448\tval-rmse:2.036350\n",
        "[1503]\ttrain-rmse:1.094019\tval-rmse:2.036216\n",
        "[1504]\ttrain-rmse:1.093495\tval-rmse:2.036034\n",
        "[1505]\ttrain-rmse:1.092633\tval-rmse:2.035729\n"
       ]
      },
      {
       "output_type": "stream",
       "stream": "stderr",
       "text": [
        "[1506]\ttrain-rmse:1.091872\tval-rmse:2.035476\n",
        "[1507]\ttrain-rmse:1.091185\tval-rmse:2.035237\n",
        "[1508]\ttrain-rmse:1.090707\tval-rmse:2.035075\n"
       ]
      },
      {
       "output_type": "stream",
       "stream": "stderr",
       "text": [
        "[1509]\ttrain-rmse:1.089772\tval-rmse:2.034720\n",
        "[1510]\ttrain-rmse:1.088849\tval-rmse:2.034400\n",
        "[1511]\ttrain-rmse:1.088571\tval-rmse:2.034312\n"
       ]
      },
      {
       "output_type": "stream",
       "stream": "stderr",
       "text": [
        "[1512]\ttrain-rmse:1.088008\tval-rmse:2.034141\n",
        "[1513]\ttrain-rmse:1.087388\tval-rmse:2.034025\n",
        "[1514]\ttrain-rmse:1.086749\tval-rmse:2.033842\n"
       ]
      },
      {
       "output_type": "stream",
       "stream": "stderr",
       "text": [
        "[1515]\ttrain-rmse:1.085829\tval-rmse:2.033569\n",
        "[1516]\ttrain-rmse:1.085299\tval-rmse:2.033352\n",
        "[1517]\ttrain-rmse:1.084496\tval-rmse:2.033031\n",
        "[1518]\ttrain-rmse:1.083944\tval-rmse:2.032846\n"
       ]
      },
      {
       "output_type": "stream",
       "stream": "stderr",
       "text": [
        "[1519]\ttrain-rmse:1.083434\tval-rmse:2.032706\n",
        "[1520]\ttrain-rmse:1.082659\tval-rmse:2.032481\n",
        "[1521]\ttrain-rmse:1.082265\tval-rmse:2.032334\n"
       ]
      },
      {
       "output_type": "stream",
       "stream": "stderr",
       "text": [
        "[1522]\ttrain-rmse:1.081668\tval-rmse:2.032183\n",
        "[1523]\ttrain-rmse:1.080806\tval-rmse:2.031919\n",
        "[1524]\ttrain-rmse:1.080296\tval-rmse:2.031736\n"
       ]
      },
      {
       "output_type": "stream",
       "stream": "stderr",
       "text": [
        "[1525]\ttrain-rmse:1.079752\tval-rmse:2.031549\n",
        "[1526]\ttrain-rmse:1.079250\tval-rmse:2.031374\n",
        "[1527]\ttrain-rmse:1.078771\tval-rmse:2.031182\n"
       ]
      },
      {
       "output_type": "stream",
       "stream": "stderr",
       "text": [
        "[1528]\ttrain-rmse:1.078217\tval-rmse:2.031020\n",
        "[1529]\ttrain-rmse:1.077521\tval-rmse:2.030785\n",
        "[1530]\ttrain-rmse:1.076729\tval-rmse:2.030518\n"
       ]
      },
      {
       "output_type": "stream",
       "stream": "stderr",
       "text": [
        "[1531]\ttrain-rmse:1.076192\tval-rmse:2.030403\n",
        "[1532]\ttrain-rmse:1.075494\tval-rmse:2.030176\n",
        "[1533]\ttrain-rmse:1.074721\tval-rmse:2.029926\n"
       ]
      },
      {
       "output_type": "stream",
       "stream": "stderr",
       "text": [
        "[1534]\ttrain-rmse:1.074308\tval-rmse:2.029831\n",
        "[1535]\ttrain-rmse:1.073776\tval-rmse:2.029685\n",
        "[1536]\ttrain-rmse:1.073203\tval-rmse:2.029519\n"
       ]
      },
      {
       "output_type": "stream",
       "stream": "stderr",
       "text": [
        "[1537]\ttrain-rmse:1.072458\tval-rmse:2.029295\n",
        "[1538]\ttrain-rmse:1.071891\tval-rmse:2.029135\n",
        "[1539]\ttrain-rmse:1.071188\tval-rmse:2.028894\n"
       ]
      },
      {
       "output_type": "stream",
       "stream": "stderr",
       "text": [
        "[1540]\ttrain-rmse:1.071019\tval-rmse:2.028846\n",
        "[1541]\ttrain-rmse:1.070779\tval-rmse:2.028809\n",
        "[1542]\ttrain-rmse:1.070471\tval-rmse:2.028740\n",
        "[1543]\ttrain-rmse:1.069747\tval-rmse:2.028576\n"
       ]
      },
      {
       "output_type": "stream",
       "stream": "stderr",
       "text": [
        "[1544]\ttrain-rmse:1.069361\tval-rmse:2.028441\n",
        "[1545]\ttrain-rmse:1.068936\tval-rmse:2.028283\n",
        "[1546]\ttrain-rmse:1.068534\tval-rmse:2.028160\n"
       ]
      },
      {
       "output_type": "stream",
       "stream": "stderr",
       "text": [
        "[1547]\ttrain-rmse:1.068170\tval-rmse:2.027992\n",
        "[1548]\ttrain-rmse:1.067584\tval-rmse:2.027826\n",
        "[1549]\ttrain-rmse:1.067134\tval-rmse:2.027708\n"
       ]
      },
      {
       "output_type": "stream",
       "stream": "stderr",
       "text": [
        "[1550]\ttrain-rmse:1.066255\tval-rmse:2.027412\n",
        "[1551]\ttrain-rmse:1.065661\tval-rmse:2.027143\n",
        "[1552]\ttrain-rmse:1.065270\tval-rmse:2.027040\n",
        "[1553]\ttrain-rmse:1.064755\tval-rmse:2.026854\n"
       ]
      },
      {
       "output_type": "stream",
       "stream": "stderr",
       "text": [
        "[1554]\ttrain-rmse:1.064388\tval-rmse:2.026764\n",
        "[1555]\ttrain-rmse:1.063819\tval-rmse:2.026599\n",
        "[1556]\ttrain-rmse:1.063049\tval-rmse:2.026255\n"
       ]
      },
      {
       "output_type": "stream",
       "stream": "stderr",
       "text": [
        "[1557]\ttrain-rmse:1.062767\tval-rmse:2.026171\n",
        "[1558]\ttrain-rmse:1.062248\tval-rmse:2.026051\n",
        "[1559]\ttrain-rmse:1.061875\tval-rmse:2.025990\n",
        "[1560]\ttrain-rmse:1.061451\tval-rmse:2.025867\n"
       ]
      },
      {
       "output_type": "stream",
       "stream": "stderr",
       "text": [
        "[1561]\ttrain-rmse:1.060887\tval-rmse:2.025647\n",
        "[1562]\ttrain-rmse:1.060372\tval-rmse:2.025534\n",
        "[1563]\ttrain-rmse:1.060047\tval-rmse:2.025449\n"
       ]
      },
      {
       "output_type": "stream",
       "stream": "stderr",
       "text": [
        "[1564]\ttrain-rmse:1.059517\tval-rmse:2.025234\n",
        "[1565]\ttrain-rmse:1.058755\tval-rmse:2.024949\n",
        "[1566]\ttrain-rmse:1.058377\tval-rmse:2.024838\n"
       ]
      },
      {
       "output_type": "stream",
       "stream": "stderr",
       "text": [
        "[1567]\ttrain-rmse:1.057795\tval-rmse:2.024673\n",
        "[1568]\ttrain-rmse:1.057209\tval-rmse:2.024495\n",
        "[1569]\ttrain-rmse:1.056808\tval-rmse:2.024358\n"
       ]
      },
      {
       "output_type": "stream",
       "stream": "stderr",
       "text": [
        "[1570]\ttrain-rmse:1.056365\tval-rmse:2.024208\n",
        "[1571]\ttrain-rmse:1.055882\tval-rmse:2.024101\n",
        "[1572]\ttrain-rmse:1.055279\tval-rmse:2.023921\n"
       ]
      },
      {
       "output_type": "stream",
       "stream": "stderr",
       "text": [
        "[1573]\ttrain-rmse:1.054847\tval-rmse:2.023837\n",
        "[1574]\ttrain-rmse:1.054417\tval-rmse:2.023698\n",
        "[1575]\ttrain-rmse:1.054110\tval-rmse:2.023549\n"
       ]
      },
      {
       "output_type": "stream",
       "stream": "stderr",
       "text": [
        "[1576]\ttrain-rmse:1.053552\tval-rmse:2.023368\n",
        "[1577]\ttrain-rmse:1.053068\tval-rmse:2.023180\n",
        "[1578]\ttrain-rmse:1.052492\tval-rmse:2.022948\n"
       ]
      },
      {
       "output_type": "stream",
       "stream": "stderr",
       "text": [
        "[1579]\ttrain-rmse:1.051821\tval-rmse:2.022684\n",
        "[1580]\ttrain-rmse:1.051259\tval-rmse:2.022528\n",
        "[1581]\ttrain-rmse:1.050680\tval-rmse:2.022390\n"
       ]
      },
      {
       "output_type": "stream",
       "stream": "stderr",
       "text": [
        "[1582]\ttrain-rmse:1.050002\tval-rmse:2.022144\n",
        "[1583]\ttrain-rmse:1.049308\tval-rmse:2.021908\n",
        "[1584]\ttrain-rmse:1.048524\tval-rmse:2.021720\n"
       ]
      },
      {
       "output_type": "stream",
       "stream": "stderr",
       "text": [
        "[1585]\ttrain-rmse:1.047775\tval-rmse:2.021517\n",
        "[1586]\ttrain-rmse:1.047227\tval-rmse:2.021314\n",
        "[1587]\ttrain-rmse:1.046680\tval-rmse:2.021161\n"
       ]
      },
      {
       "output_type": "stream",
       "stream": "stderr",
       "text": [
        "[1588]\ttrain-rmse:1.046176\tval-rmse:2.021026\n",
        "[1589]\ttrain-rmse:1.045851\tval-rmse:2.020935\n",
        "[1590]\ttrain-rmse:1.045268\tval-rmse:2.020782\n"
       ]
      },
      {
       "output_type": "stream",
       "stream": "stderr",
       "text": [
        "[1591]\ttrain-rmse:1.044580\tval-rmse:2.020610\n",
        "[1592]\ttrain-rmse:1.044157\tval-rmse:2.020551\n"
       ]
      },
      {
       "output_type": "stream",
       "stream": "stderr",
       "text": [
        "[1593]\ttrain-rmse:1.043551\tval-rmse:2.020424\n",
        "[1594]\ttrain-rmse:1.042972\tval-rmse:2.020239\n",
        "[1595]\ttrain-rmse:1.042313\tval-rmse:2.020024\n"
       ]
      },
      {
       "output_type": "stream",
       "stream": "stderr",
       "text": [
        "[1596]\ttrain-rmse:1.041559\tval-rmse:2.019764\n",
        "[1597]\ttrain-rmse:1.041037\tval-rmse:2.019626\n",
        "[1598]\ttrain-rmse:1.040544\tval-rmse:2.019507\n"
       ]
      },
      {
       "output_type": "stream",
       "stream": "stderr",
       "text": [
        "[1599]\ttrain-rmse:1.040097\tval-rmse:2.019351\n",
        "[1600]\ttrain-rmse:1.039645\tval-rmse:2.019205\n",
        "[1601]\ttrain-rmse:1.039042\tval-rmse:2.019049\n"
       ]
      },
      {
       "output_type": "stream",
       "stream": "stderr",
       "text": [
        "[1602]\ttrain-rmse:1.038437\tval-rmse:2.018862\n",
        "[1603]\ttrain-rmse:1.037953\tval-rmse:2.018755\n",
        "[1604]\ttrain-rmse:1.037453\tval-rmse:2.018673\n"
       ]
      },
      {
       "output_type": "stream",
       "stream": "stderr",
       "text": [
        "[1605]\ttrain-rmse:1.036835\tval-rmse:2.018507\n",
        "[1606]\ttrain-rmse:1.036041\tval-rmse:2.018231\n",
        "[1607]\ttrain-rmse:1.035386\tval-rmse:2.017997\n"
       ]
      },
      {
       "output_type": "stream",
       "stream": "stderr",
       "text": [
        "[1608]\ttrain-rmse:1.034729\tval-rmse:2.017806\n",
        "[1609]\ttrain-rmse:1.034396\tval-rmse:2.017677\n",
        "[1610]\ttrain-rmse:1.033842\tval-rmse:2.017538\n"
       ]
      },
      {
       "output_type": "stream",
       "stream": "stderr",
       "text": [
        "[1611]\ttrain-rmse:1.033192\tval-rmse:2.017343\n",
        "[1612]\ttrain-rmse:1.032583\tval-rmse:2.017121\n",
        "[1613]\ttrain-rmse:1.032193\tval-rmse:2.016973\n"
       ]
      },
      {
       "output_type": "stream",
       "stream": "stderr",
       "text": [
        "[1614]\ttrain-rmse:1.031503\tval-rmse:2.016726\n",
        "[1615]\ttrain-rmse:1.030743\tval-rmse:2.016459\n",
        "[1616]\ttrain-rmse:1.029991\tval-rmse:2.016150\n"
       ]
      },
      {
       "output_type": "stream",
       "stream": "stderr",
       "text": [
        "[1617]\ttrain-rmse:1.029311\tval-rmse:2.015907\n",
        "[1618]\ttrain-rmse:1.028722\tval-rmse:2.015724\n",
        "[1619]\ttrain-rmse:1.028183\tval-rmse:2.015543\n"
       ]
      },
      {
       "output_type": "stream",
       "stream": "stderr",
       "text": [
        "[1620]\ttrain-rmse:1.027697\tval-rmse:2.015365\n",
        "[1621]\ttrain-rmse:1.027310\tval-rmse:2.015214\n",
        "[1622]\ttrain-rmse:1.026878\tval-rmse:2.015124\n"
       ]
      },
      {
       "output_type": "stream",
       "stream": "stderr",
       "text": [
        "[1623]\ttrain-rmse:1.026547\tval-rmse:2.015019\n",
        "[1624]\ttrain-rmse:1.025860\tval-rmse:2.014811\n",
        "[1625]\ttrain-rmse:1.025586\tval-rmse:2.014733\n"
       ]
      },
      {
       "output_type": "stream",
       "stream": "stderr",
       "text": [
        "[1626]\ttrain-rmse:1.024674\tval-rmse:2.014482\n",
        "[1627]\ttrain-rmse:1.024300\tval-rmse:2.014328\n",
        "[1628]\ttrain-rmse:1.023744\tval-rmse:2.014123\n"
       ]
      },
      {
       "output_type": "stream",
       "stream": "stderr",
       "text": [
        "[1629]\ttrain-rmse:1.023143\tval-rmse:2.013956\n",
        "[1630]\ttrain-rmse:1.022473\tval-rmse:2.013729\n",
        "[1631]\ttrain-rmse:1.021535\tval-rmse:2.013448\n"
       ]
      },
      {
       "output_type": "stream",
       "stream": "stderr",
       "text": [
        "[1632]\ttrain-rmse:1.020911\tval-rmse:2.013314\n",
        "[1633]\ttrain-rmse:1.020341\tval-rmse:2.013146\n",
        "[1634]\ttrain-rmse:1.019989\tval-rmse:2.013032\n"
       ]
      },
      {
       "output_type": "stream",
       "stream": "stderr",
       "text": [
        "[1635]\ttrain-rmse:1.019464\tval-rmse:2.012820\n",
        "[1636]\ttrain-rmse:1.019180\tval-rmse:2.012764\n",
        "[1637]\ttrain-rmse:1.018869\tval-rmse:2.012691\n",
        "[1638]\ttrain-rmse:1.018360\tval-rmse:2.012552\n"
       ]
      },
      {
       "output_type": "stream",
       "stream": "stderr",
       "text": [
        "[1639]\ttrain-rmse:1.017753\tval-rmse:2.012324\n",
        "[1640]\ttrain-rmse:1.017326\tval-rmse:2.012229\n",
        "[1641]\ttrain-rmse:1.016799\tval-rmse:2.012065\n"
       ]
      },
      {
       "output_type": "stream",
       "stream": "stderr",
       "text": [
        "[1642]\ttrain-rmse:1.016426\tval-rmse:2.011944\n",
        "[1643]\ttrain-rmse:1.016033\tval-rmse:2.011859\n",
        "[1644]\ttrain-rmse:1.015567\tval-rmse:2.011720\n",
        "[1645]\ttrain-rmse:1.015052\tval-rmse:2.011580\n"
       ]
      },
      {
       "output_type": "stream",
       "stream": "stderr",
       "text": [
        "[1646]\ttrain-rmse:1.014545\tval-rmse:2.011386\n",
        "[1647]\ttrain-rmse:1.014061\tval-rmse:2.011265\n",
        "[1648]\ttrain-rmse:1.013553\tval-rmse:2.011141\n",
        "[1649]\ttrain-rmse:1.013127\tval-rmse:2.010972\n"
       ]
      },
      {
       "output_type": "stream",
       "stream": "stderr",
       "text": [
        "[1650]\ttrain-rmse:1.012558\tval-rmse:2.010738\n",
        "[1651]\ttrain-rmse:1.011825\tval-rmse:2.010536\n",
        "[1652]\ttrain-rmse:1.011212\tval-rmse:2.010363\n"
       ]
      },
      {
       "output_type": "stream",
       "stream": "stderr",
       "text": [
        "[1653]\ttrain-rmse:1.010277\tval-rmse:2.010041\n",
        "[1654]\ttrain-rmse:1.009692\tval-rmse:2.009894\n",
        "[1655]\ttrain-rmse:1.009076\tval-rmse:2.009730\n"
       ]
      },
      {
       "output_type": "stream",
       "stream": "stderr",
       "text": [
        "[1656]\ttrain-rmse:1.008744\tval-rmse:2.009640\n",
        "[1657]\ttrain-rmse:1.007952\tval-rmse:2.009416\n",
        "[1658]\ttrain-rmse:1.007327\tval-rmse:2.009211\n"
       ]
      },
      {
       "output_type": "stream",
       "stream": "stderr",
       "text": [
        "[1659]\ttrain-rmse:1.007130\tval-rmse:2.009153\n",
        "[1660]\ttrain-rmse:1.006695\tval-rmse:2.009038\n",
        "[1661]\ttrain-rmse:1.006214\tval-rmse:2.008884\n"
       ]
      },
      {
       "output_type": "stream",
       "stream": "stderr",
       "text": [
        "[1662]\ttrain-rmse:1.005712\tval-rmse:2.008707\n",
        "[1663]\ttrain-rmse:1.005341\tval-rmse:2.008622\n",
        "[1664]\ttrain-rmse:1.004863\tval-rmse:2.008469\n"
       ]
      },
      {
       "output_type": "stream",
       "stream": "stderr",
       "text": [
        "[1665]\ttrain-rmse:1.004092\tval-rmse:2.008196\n",
        "[1666]\ttrain-rmse:1.003484\tval-rmse:2.008011\n",
        "[1667]\ttrain-rmse:1.002878\tval-rmse:2.007826\n"
       ]
      },
      {
       "output_type": "stream",
       "stream": "stderr",
       "text": [
        "[1668]\ttrain-rmse:1.002519\tval-rmse:2.007696\n",
        "[1669]\ttrain-rmse:1.002091\tval-rmse:2.007543\n",
        "[1670]\ttrain-rmse:1.001368\tval-rmse:2.007272\n",
        "[1671]\ttrain-rmse:1.000953\tval-rmse:2.007162\n"
       ]
      },
      {
       "output_type": "stream",
       "stream": "stderr",
       "text": [
        "[1672]\ttrain-rmse:1.000417\tval-rmse:2.006908\n",
        "[1673]\ttrain-rmse:0.999734\tval-rmse:2.006749\n",
        "[1674]\ttrain-rmse:0.999215\tval-rmse:2.006635\n",
        "[1675]\ttrain-rmse:0.998833\tval-rmse:2.006541\n"
       ]
      },
      {
       "output_type": "stream",
       "stream": "stderr",
       "text": [
        "[1676]\ttrain-rmse:0.998412\tval-rmse:2.006428\n",
        "[1677]\ttrain-rmse:0.997923\tval-rmse:2.006276\n",
        "[1678]\ttrain-rmse:0.997155\tval-rmse:2.006057\n"
       ]
      },
      {
       "output_type": "stream",
       "stream": "stderr",
       "text": [
        "[1679]\ttrain-rmse:0.996493\tval-rmse:2.005857\n",
        "[1680]\ttrain-rmse:0.996043\tval-rmse:2.005719\n",
        "[1681]\ttrain-rmse:0.995674\tval-rmse:2.005584\n",
        "[1682]\ttrain-rmse:0.995080\tval-rmse:2.005359\n"
       ]
      },
      {
       "output_type": "stream",
       "stream": "stderr",
       "text": [
        "[1683]\ttrain-rmse:0.994531\tval-rmse:2.005204\n",
        "[1684]\ttrain-rmse:0.994008\tval-rmse:2.005022\n",
        "[1685]\ttrain-rmse:0.993353\tval-rmse:2.004860\n"
       ]
      },
      {
       "output_type": "stream",
       "stream": "stderr",
       "text": [
        "[1686]\ttrain-rmse:0.992888\tval-rmse:2.004658\n",
        "[1687]\ttrain-rmse:0.992350\tval-rmse:2.004492\n",
        "[1688]\ttrain-rmse:0.991659\tval-rmse:2.004268\n"
       ]
      },
      {
       "output_type": "stream",
       "stream": "stderr",
       "text": [
        "[1689]\ttrain-rmse:0.991010\tval-rmse:2.004056\n",
        "[1690]\ttrain-rmse:0.990775\tval-rmse:2.003998\n",
        "[1691]\ttrain-rmse:0.990392\tval-rmse:2.003823\n"
       ]
      },
      {
       "output_type": "stream",
       "stream": "stderr",
       "text": [
        "[1692]\ttrain-rmse:0.989973\tval-rmse:2.003718\n",
        "[1693]\ttrain-rmse:0.989500\tval-rmse:2.003615\n",
        "[1694]\ttrain-rmse:0.988918\tval-rmse:2.003433\n"
       ]
      },
      {
       "output_type": "stream",
       "stream": "stderr",
       "text": [
        "[1695]\ttrain-rmse:0.988240\tval-rmse:2.003228\n",
        "[1696]\ttrain-rmse:0.987659\tval-rmse:2.003049\n",
        "[1697]\ttrain-rmse:0.987288\tval-rmse:2.002898\n"
       ]
      },
      {
       "output_type": "stream",
       "stream": "stderr",
       "text": [
        "[1698]\ttrain-rmse:0.986852\tval-rmse:2.002754\n",
        "[1699]\ttrain-rmse:0.986399\tval-rmse:2.002667\n",
        "[1700]\ttrain-rmse:0.986143\tval-rmse:2.002596\n",
        "[1701]\ttrain-rmse:0.985375\tval-rmse:2.002379\n"
       ]
      },
      {
       "output_type": "stream",
       "stream": "stderr",
       "text": [
        "[1702]\ttrain-rmse:0.985048\tval-rmse:2.002264\n",
        "[1703]\ttrain-rmse:0.984413\tval-rmse:2.002095\n",
        "[1704]\ttrain-rmse:0.984235\tval-rmse:2.002027\n"
       ]
      },
      {
       "output_type": "stream",
       "stream": "stderr",
       "text": [
        "[1705]\ttrain-rmse:0.983655\tval-rmse:2.001893\n",
        "[1706]\ttrain-rmse:0.983160\tval-rmse:2.001754\n",
        "[1707]\ttrain-rmse:0.982667\tval-rmse:2.001612\n"
       ]
      },
      {
       "output_type": "stream",
       "stream": "stderr",
       "text": [
        "[1708]\ttrain-rmse:0.982105\tval-rmse:2.001423\n",
        "[1709]\ttrain-rmse:0.981591\tval-rmse:2.001273\n",
        "[1710]\ttrain-rmse:0.980914\tval-rmse:2.000961\n"
       ]
      },
      {
       "output_type": "stream",
       "stream": "stderr",
       "text": [
        "[1711]\ttrain-rmse:0.980434\tval-rmse:2.000847\n",
        "[1712]\ttrain-rmse:0.979834\tval-rmse:2.000664\n",
        "[1713]\ttrain-rmse:0.979316\tval-rmse:2.000418\n"
       ]
      },
      {
       "output_type": "stream",
       "stream": "stderr",
       "text": [
        "[1714]\ttrain-rmse:0.978646\tval-rmse:2.000210\n",
        "[1715]\ttrain-rmse:0.977878\tval-rmse:1.999973\n",
        "[1716]\ttrain-rmse:0.977400\tval-rmse:1.999871\n"
       ]
      },
      {
       "output_type": "stream",
       "stream": "stderr",
       "text": [
        "[1717]\ttrain-rmse:0.976821\tval-rmse:1.999663\n",
        "[1718]\ttrain-rmse:0.976155\tval-rmse:1.999396\n",
        "[1719]\ttrain-rmse:0.975675\tval-rmse:1.999281\n"
       ]
      },
      {
       "output_type": "stream",
       "stream": "stderr",
       "text": [
        "[1720]\ttrain-rmse:0.975334\tval-rmse:1.999212\n",
        "[1721]\ttrain-rmse:0.974709\tval-rmse:1.999005\n",
        "[1722]\ttrain-rmse:0.974321\tval-rmse:1.998887\n",
        "[1723]\ttrain-rmse:0.973891\tval-rmse:1.998703\n"
       ]
      },
      {
       "output_type": "stream",
       "stream": "stderr",
       "text": [
        "[1724]\ttrain-rmse:0.973479\tval-rmse:1.998633\n",
        "[1725]\ttrain-rmse:0.972758\tval-rmse:1.998413\n",
        "[1726]\ttrain-rmse:0.972256\tval-rmse:1.998246\n"
       ]
      },
      {
       "output_type": "stream",
       "stream": "stderr",
       "text": [
        "[1727]\ttrain-rmse:0.971624\tval-rmse:1.998038\n",
        "[1728]\ttrain-rmse:0.971026\tval-rmse:1.997833\n",
        "[1729]\ttrain-rmse:0.970506\tval-rmse:1.997725\n"
       ]
      },
      {
       "output_type": "stream",
       "stream": "stderr",
       "text": [
        "[1730]\ttrain-rmse:0.969858\tval-rmse:1.997525\n",
        "[1731]\ttrain-rmse:0.969417\tval-rmse:1.997386\n",
        "[1732]\ttrain-rmse:0.968991\tval-rmse:1.997239\n"
       ]
      },
      {
       "output_type": "stream",
       "stream": "stderr",
       "text": [
        "[1733]\ttrain-rmse:0.968425\tval-rmse:1.997118\n",
        "[1734]\ttrain-rmse:0.967918\tval-rmse:1.996912\n",
        "[1735]\ttrain-rmse:0.967504\tval-rmse:1.996830\n"
       ]
      },
      {
       "output_type": "stream",
       "stream": "stderr",
       "text": [
        "[1736]\ttrain-rmse:0.966883\tval-rmse:1.996627\n",
        "[1737]\ttrain-rmse:0.966185\tval-rmse:1.996423\n",
        "[1738]\ttrain-rmse:0.965667\tval-rmse:1.996258\n"
       ]
      },
      {
       "output_type": "stream",
       "stream": "stderr",
       "text": [
        "[1739]\ttrain-rmse:0.965260\tval-rmse:1.996154\n",
        "[1740]\ttrain-rmse:0.964691\tval-rmse:1.996001\n",
        "[1741]\ttrain-rmse:0.964390\tval-rmse:1.995923\n"
       ]
      },
      {
       "output_type": "stream",
       "stream": "stderr",
       "text": [
        "[1742]\ttrain-rmse:0.963983\tval-rmse:1.995808\n",
        "[1743]\ttrain-rmse:0.963594\tval-rmse:1.995686\n",
        "[1744]\ttrain-rmse:0.963115\tval-rmse:1.995568\n"
       ]
      },
      {
       "output_type": "stream",
       "stream": "stderr",
       "text": [
        "[1745]\ttrain-rmse:0.962607\tval-rmse:1.995425\n",
        "[1746]\ttrain-rmse:0.962085\tval-rmse:1.995216\n",
        "[1747]\ttrain-rmse:0.961790\tval-rmse:1.995078\n"
       ]
      },
      {
       "output_type": "stream",
       "stream": "stderr",
       "text": [
        "[1748]\ttrain-rmse:0.961282\tval-rmse:1.994874\n",
        "[1749]\ttrain-rmse:0.960869\tval-rmse:1.994732\n",
        "[1750]\ttrain-rmse:0.960162\tval-rmse:1.994452\n"
       ]
      },
      {
       "output_type": "stream",
       "stream": "stderr",
       "text": [
        "[1751]\ttrain-rmse:0.959740\tval-rmse:1.994315\n",
        "[1752]\ttrain-rmse:0.959223\tval-rmse:1.994121\n",
        "[1753]\ttrain-rmse:0.958920\tval-rmse:1.994019\n"
       ]
      },
      {
       "output_type": "stream",
       "stream": "stderr",
       "text": [
        "[1754]\ttrain-rmse:0.958578\tval-rmse:1.993915\n",
        "[1755]\ttrain-rmse:0.958047\tval-rmse:1.993686\n",
        "[1756]\ttrain-rmse:0.957688\tval-rmse:1.993585\n"
       ]
      },
      {
       "output_type": "stream",
       "stream": "stderr",
       "text": [
        "[1757]\ttrain-rmse:0.957146\tval-rmse:1.993447\n",
        "[1758]\ttrain-rmse:0.956710\tval-rmse:1.993273\n",
        "[1759]\ttrain-rmse:0.956296\tval-rmse:1.993114\n",
        "[1760]\ttrain-rmse:0.955839\tval-rmse:1.992979\n"
       ]
      },
      {
       "output_type": "stream",
       "stream": "stderr",
       "text": [
        "[1761]\ttrain-rmse:0.955370\tval-rmse:1.992868\n",
        "[1762]\ttrain-rmse:0.954755\tval-rmse:1.992600\n",
        "[1763]\ttrain-rmse:0.954293\tval-rmse:1.992486\n"
       ]
      },
      {
       "output_type": "stream",
       "stream": "stderr",
       "text": [
        "[1764]\ttrain-rmse:0.953805\tval-rmse:1.992333\n",
        "[1765]\ttrain-rmse:0.953362\tval-rmse:1.992206\n",
        "[1766]\ttrain-rmse:0.952958\tval-rmse:1.992074\n"
       ]
      },
      {
       "output_type": "stream",
       "stream": "stderr",
       "text": [
        "[1767]\ttrain-rmse:0.952679\tval-rmse:1.991981\n",
        "[1768]\ttrain-rmse:0.952354\tval-rmse:1.991889\n",
        "[1769]\ttrain-rmse:0.951940\tval-rmse:1.991807\n",
        "[1770]\ttrain-rmse:0.951348\tval-rmse:1.991597\n"
       ]
      },
      {
       "output_type": "stream",
       "stream": "stderr",
       "text": [
        "[1771]\ttrain-rmse:0.950802\tval-rmse:1.991452\n",
        "[1772]\ttrain-rmse:0.950366\tval-rmse:1.991298\n",
        "[1773]\ttrain-rmse:0.949663\tval-rmse:1.991079\n"
       ]
      },
      {
       "output_type": "stream",
       "stream": "stderr",
       "text": [
        "[1774]\ttrain-rmse:0.949131\tval-rmse:1.991011\n",
        "[1775]\ttrain-rmse:0.948388\tval-rmse:1.990783\n",
        "[1776]\ttrain-rmse:0.948104\tval-rmse:1.990739\n"
       ]
      },
      {
       "output_type": "stream",
       "stream": "stderr",
       "text": [
        "[1777]\ttrain-rmse:0.947542\tval-rmse:1.990555\n",
        "[1778]\ttrain-rmse:0.947020\tval-rmse:1.990421\n",
        "[1779]\ttrain-rmse:0.946660\tval-rmse:1.990311\n"
       ]
      },
      {
       "output_type": "stream",
       "stream": "stderr",
       "text": [
        "[1780]\ttrain-rmse:0.946198\tval-rmse:1.990212\n",
        "[1781]\ttrain-rmse:0.945791\tval-rmse:1.990072\n",
        "[1782]\ttrain-rmse:0.945486\tval-rmse:1.989969\n"
       ]
      },
      {
       "output_type": "stream",
       "stream": "stderr",
       "text": [
        "[1783]\ttrain-rmse:0.945171\tval-rmse:1.989942\n",
        "[1784]\ttrain-rmse:0.944524\tval-rmse:1.989728\n",
        "[1785]\ttrain-rmse:0.944124\tval-rmse:1.989613\n",
        "[1786]\ttrain-rmse:0.943537\tval-rmse:1.989436\n"
       ]
      },
      {
       "output_type": "stream",
       "stream": "stderr",
       "text": [
        "[1787]\ttrain-rmse:0.943117\tval-rmse:1.989281\n",
        "[1788]\ttrain-rmse:0.942677\tval-rmse:1.989163\n",
        "[1789]\ttrain-rmse:0.942025\tval-rmse:1.988953\n",
        "[1790]\ttrain-rmse:0.941684\tval-rmse:1.988873\n"
       ]
      },
      {
       "output_type": "stream",
       "stream": "stderr",
       "text": [
        "[1791]\ttrain-rmse:0.941235\tval-rmse:1.988762\n",
        "[1792]\ttrain-rmse:0.940844\tval-rmse:1.988685\n",
        "[1793]\ttrain-rmse:0.940414\tval-rmse:1.988525\n"
       ]
      },
      {
       "output_type": "stream",
       "stream": "stderr",
       "text": [
        "[1794]\ttrain-rmse:0.939888\tval-rmse:1.988396\n",
        "[1795]\ttrain-rmse:0.939237\tval-rmse:1.988240\n",
        "[1796]\ttrain-rmse:0.938701\tval-rmse:1.988088\n"
       ]
      },
      {
       "output_type": "stream",
       "stream": "stderr",
       "text": [
        "[1797]\ttrain-rmse:0.938118\tval-rmse:1.987835\n",
        "[1798]\ttrain-rmse:0.937799\tval-rmse:1.987756\n",
        "[1799]\ttrain-rmse:0.937543\tval-rmse:1.987715\n"
       ]
      },
      {
       "output_type": "stream",
       "stream": "stderr",
       "text": [
        "[1800]\ttrain-rmse:0.936826\tval-rmse:1.987475\n",
        "[1801]\ttrain-rmse:0.936216\tval-rmse:1.987297\n",
        "[1802]\ttrain-rmse:0.935802\tval-rmse:1.987163\n"
       ]
      },
      {
       "output_type": "stream",
       "stream": "stderr",
       "text": [
        "[1803]\ttrain-rmse:0.935253\tval-rmse:1.987019\n",
        "[1804]\ttrain-rmse:0.934805\tval-rmse:1.986921\n",
        "[1805]\ttrain-rmse:0.934288\tval-rmse:1.986752\n"
       ]
      },
      {
       "output_type": "stream",
       "stream": "stderr",
       "text": [
        "[1806]\ttrain-rmse:0.933993\tval-rmse:1.986655\n",
        "[1807]\ttrain-rmse:0.933566\tval-rmse:1.986425\n",
        "[1808]\ttrain-rmse:0.933118\tval-rmse:1.986258\n"
       ]
      },
      {
       "output_type": "stream",
       "stream": "stderr",
       "text": [
        "[1809]\ttrain-rmse:0.932552\tval-rmse:1.986081\n",
        "[1810]\ttrain-rmse:0.932242\tval-rmse:1.986026\n",
        "[1811]\ttrain-rmse:0.931770\tval-rmse:1.985829\n",
        "[1812]\ttrain-rmse:0.931219\tval-rmse:1.985638\n"
       ]
      },
      {
       "output_type": "stream",
       "stream": "stderr",
       "text": [
        "[1813]\ttrain-rmse:0.930759\tval-rmse:1.985504\n",
        "[1814]\ttrain-rmse:0.930403\tval-rmse:1.985377\n",
        "[1815]\ttrain-rmse:0.929815\tval-rmse:1.985293\n"
       ]
      },
      {
       "output_type": "stream",
       "stream": "stderr",
       "text": [
        "[1816]\ttrain-rmse:0.929240\tval-rmse:1.985087\n",
        "[1817]\ttrain-rmse:0.928831\tval-rmse:1.984985\n",
        "[1818]\ttrain-rmse:0.928167\tval-rmse:1.984791\n"
       ]
      },
      {
       "output_type": "stream",
       "stream": "stderr",
       "text": [
        "[1819]\ttrain-rmse:0.927565\tval-rmse:1.984578\n",
        "[1820]\ttrain-rmse:0.927074\tval-rmse:1.984463\n",
        "[1821]\ttrain-rmse:0.926509\tval-rmse:1.984341\n"
       ]
      },
      {
       "output_type": "stream",
       "stream": "stderr",
       "text": [
        "[1822]\ttrain-rmse:0.926004\tval-rmse:1.984202\n",
        "[1823]\ttrain-rmse:0.925135\tval-rmse:1.983980\n",
        "[1824]\ttrain-rmse:0.924643\tval-rmse:1.983855\n"
       ]
      },
      {
       "output_type": "stream",
       "stream": "stderr",
       "text": [
        "[1825]\ttrain-rmse:0.924173\tval-rmse:1.983751\n",
        "[1826]\ttrain-rmse:0.923637\tval-rmse:1.983701\n",
        "[1827]\ttrain-rmse:0.923174\tval-rmse:1.983570\n"
       ]
      },
      {
       "output_type": "stream",
       "stream": "stderr",
       "text": [
        "[1828]\ttrain-rmse:0.922595\tval-rmse:1.983346\n",
        "[1829]\ttrain-rmse:0.922119\tval-rmse:1.983228\n",
        "[1830]\ttrain-rmse:0.921649\tval-rmse:1.983057\n"
       ]
      },
      {
       "output_type": "stream",
       "stream": "stderr",
       "text": [
        "[1831]\ttrain-rmse:0.921257\tval-rmse:1.982943\n",
        "[1832]\ttrain-rmse:0.920762\tval-rmse:1.982751\n",
        "[1833]\ttrain-rmse:0.920454\tval-rmse:1.982695\n"
       ]
      },
      {
       "output_type": "stream",
       "stream": "stderr",
       "text": [
        "[1834]\ttrain-rmse:0.919944\tval-rmse:1.982534\n",
        "[1835]\ttrain-rmse:0.919699\tval-rmse:1.982525\n",
        "[1836]\ttrain-rmse:0.919555\tval-rmse:1.982519\n",
        "[1837]\ttrain-rmse:0.918918\tval-rmse:1.982310\n"
       ]
      },
      {
       "output_type": "stream",
       "stream": "stderr",
       "text": [
        "[1838]\ttrain-rmse:0.918516\tval-rmse:1.982215\n",
        "[1839]\ttrain-rmse:0.918152\tval-rmse:1.982070\n",
        "[1840]\ttrain-rmse:0.917937\tval-rmse:1.982000\n",
        "[1841]\ttrain-rmse:0.917668\tval-rmse:1.981946\n"
       ]
      },
      {
       "output_type": "stream",
       "stream": "stderr",
       "text": [
        "[1842]\ttrain-rmse:0.917148\tval-rmse:1.981826\n",
        "[1843]\ttrain-rmse:0.916655\tval-rmse:1.981670\n",
        "[1844]\ttrain-rmse:0.916252\tval-rmse:1.981547\n"
       ]
      },
      {
       "output_type": "stream",
       "stream": "stderr",
       "text": [
        "[1845]\ttrain-rmse:0.915737\tval-rmse:1.981368\n",
        "[1846]\ttrain-rmse:0.915232\tval-rmse:1.981193\n",
        "[1847]\ttrain-rmse:0.914906\tval-rmse:1.981116\n"
       ]
      },
      {
       "output_type": "stream",
       "stream": "stderr",
       "text": [
        "[1848]\ttrain-rmse:0.914549\tval-rmse:1.981010\n",
        "[1849]\ttrain-rmse:0.914262\tval-rmse:1.980952\n",
        "[1850]\ttrain-rmse:0.913711\tval-rmse:1.980836\n",
        "[1851]\ttrain-rmse:0.913198\tval-rmse:1.980740\n"
       ]
      },
      {
       "output_type": "stream",
       "stream": "stderr",
       "text": [
        "[1852]\ttrain-rmse:0.912630\tval-rmse:1.980539\n",
        "[1853]\ttrain-rmse:0.912234\tval-rmse:1.980443\n",
        "[1854]\ttrain-rmse:0.911708\tval-rmse:1.980311\n"
       ]
      },
      {
       "output_type": "stream",
       "stream": "stderr",
       "text": [
        "[1855]\ttrain-rmse:0.911301\tval-rmse:1.980193\n",
        "[1856]\ttrain-rmse:0.910940\tval-rmse:1.980140\n",
        "[1857]\ttrain-rmse:0.910719\tval-rmse:1.980086\n",
        "[1858]\ttrain-rmse:0.910266\tval-rmse:1.979912\n"
       ]
      },
      {
       "output_type": "stream",
       "stream": "stderr",
       "text": [
        "[1859]\ttrain-rmse:0.909932\tval-rmse:1.979787\n",
        "[1860]\ttrain-rmse:0.909511\tval-rmse:1.979682\n",
        "[1861]\ttrain-rmse:0.909029\tval-rmse:1.979553\n"
       ]
      },
      {
       "output_type": "stream",
       "stream": "stderr",
       "text": [
        "[1862]\ttrain-rmse:0.908543\tval-rmse:1.979430\n",
        "[1863]\ttrain-rmse:0.908198\tval-rmse:1.979320\n",
        "[1864]\ttrain-rmse:0.907596\tval-rmse:1.979216\n",
        "[1865]\ttrain-rmse:0.907026\tval-rmse:1.979056\n"
       ]
      },
      {
       "output_type": "stream",
       "stream": "stderr",
       "text": [
        "[1866]\ttrain-rmse:0.906355\tval-rmse:1.978839\n",
        "[1867]\ttrain-rmse:0.906073\tval-rmse:1.978736\n",
        "[1868]\ttrain-rmse:0.905269\tval-rmse:1.978505\n"
       ]
      },
      {
       "output_type": "stream",
       "stream": "stderr",
       "text": [
        "[1869]\ttrain-rmse:0.904830\tval-rmse:1.978365\n",
        "[1870]\ttrain-rmse:0.904173\tval-rmse:1.978191\n",
        "[1871]\ttrain-rmse:0.903784\tval-rmse:1.978067\n"
       ]
      },
      {
       "output_type": "stream",
       "stream": "stderr",
       "text": [
        "[1872]\ttrain-rmse:0.903437\tval-rmse:1.977971\n",
        "[1873]\ttrain-rmse:0.903104\tval-rmse:1.977891\n",
        "[1874]\ttrain-rmse:0.902605\tval-rmse:1.977718\n",
        "[1875]\ttrain-rmse:0.902108\tval-rmse:1.977496\n"
       ]
      },
      {
       "output_type": "stream",
       "stream": "stderr",
       "text": [
        "[1876]\ttrain-rmse:0.901897\tval-rmse:1.977425\n",
        "[1877]\ttrain-rmse:0.901405\tval-rmse:1.977235\n",
        "[1878]\ttrain-rmse:0.901178\tval-rmse:1.977183\n"
       ]
      },
      {
       "output_type": "stream",
       "stream": "stderr",
       "text": [
        "[1879]\ttrain-rmse:0.900618\tval-rmse:1.977044\n",
        "[1880]\ttrain-rmse:0.900286\tval-rmse:1.976975\n",
        "[1881]\ttrain-rmse:0.900101\tval-rmse:1.976888\n",
        "[1882]\ttrain-rmse:0.899874\tval-rmse:1.976790\n"
       ]
      },
      {
       "output_type": "stream",
       "stream": "stderr",
       "text": [
        "[1883]\ttrain-rmse:0.899348\tval-rmse:1.976642\n",
        "[1884]\ttrain-rmse:0.898847\tval-rmse:1.976481\n",
        "[1885]\ttrain-rmse:0.898525\tval-rmse:1.976399\n"
       ]
      },
      {
       "output_type": "stream",
       "stream": "stderr",
       "text": [
        "[1886]\ttrain-rmse:0.897980\tval-rmse:1.976256\n",
        "[1887]\ttrain-rmse:0.897648\tval-rmse:1.976171\n",
        "[1888]\ttrain-rmse:0.897321\tval-rmse:1.976097\n"
       ]
      },
      {
       "output_type": "stream",
       "stream": "stderr",
       "text": [
        "[1889]\ttrain-rmse:0.896602\tval-rmse:1.975833\n",
        "[1890]\ttrain-rmse:0.896326\tval-rmse:1.975723\n",
        "[1891]\ttrain-rmse:0.895901\tval-rmse:1.975641\n",
        "[1892]\ttrain-rmse:0.895481\tval-rmse:1.975557\n"
       ]
      },
      {
       "output_type": "stream",
       "stream": "stderr",
       "text": [
        "[1893]\ttrain-rmse:0.895191\tval-rmse:1.975472\n",
        "[1894]\ttrain-rmse:0.894906\tval-rmse:1.975384\n",
        "[1895]\ttrain-rmse:0.894279\tval-rmse:1.975130\n"
       ]
      },
      {
       "output_type": "stream",
       "stream": "stderr",
       "text": [
        "[1896]\ttrain-rmse:0.893853\tval-rmse:1.975012\n",
        "[1897]\ttrain-rmse:0.893334\tval-rmse:1.974910\n",
        "[1898]\ttrain-rmse:0.892959\tval-rmse:1.974843\n"
       ]
      },
      {
       "output_type": "stream",
       "stream": "stderr",
       "text": [
        "[1899]\ttrain-rmse:0.892437\tval-rmse:1.974730\n",
        "[1900]\ttrain-rmse:0.891863\tval-rmse:1.974595\n",
        "[1901]\ttrain-rmse:0.891354\tval-rmse:1.974397\n"
       ]
      },
      {
       "output_type": "stream",
       "stream": "stderr",
       "text": [
        "[1902]\ttrain-rmse:0.890801\tval-rmse:1.974194\n",
        "[1903]\ttrain-rmse:0.890435\tval-rmse:1.974064\n",
        "[1904]\ttrain-rmse:0.889943\tval-rmse:1.973888\n"
       ]
      },
      {
       "output_type": "stream",
       "stream": "stderr",
       "text": [
        "[1905]\ttrain-rmse:0.889506\tval-rmse:1.973736\n",
        "[1906]\ttrain-rmse:0.888856\tval-rmse:1.973574\n",
        "[1907]\ttrain-rmse:0.888307\tval-rmse:1.973428\n"
       ]
      },
      {
       "output_type": "stream",
       "stream": "stderr",
       "text": [
        "[1908]\ttrain-rmse:0.888010\tval-rmse:1.973362\n",
        "[1909]\ttrain-rmse:0.887373\tval-rmse:1.973200\n",
        "[1910]\ttrain-rmse:0.887106\tval-rmse:1.973157\n"
       ]
      },
      {
       "output_type": "stream",
       "stream": "stderr",
       "text": [
        "[1911]\ttrain-rmse:0.886625\tval-rmse:1.972984\n",
        "[1912]\ttrain-rmse:0.885846\tval-rmse:1.972867\n",
        "[1913]\ttrain-rmse:0.885288\tval-rmse:1.972682\n"
       ]
      },
      {
       "output_type": "stream",
       "stream": "stderr",
       "text": [
        "[1914]\ttrain-rmse:0.884812\tval-rmse:1.972523\n",
        "[1915]\ttrain-rmse:0.884264\tval-rmse:1.972373\n",
        "[1916]\ttrain-rmse:0.883821\tval-rmse:1.972302\n"
       ]
      },
      {
       "output_type": "stream",
       "stream": "stderr",
       "text": [
        "[1917]\ttrain-rmse:0.883188\tval-rmse:1.972156\n",
        "[1918]\ttrain-rmse:0.882608\tval-rmse:1.971998\n",
        "[1919]\ttrain-rmse:0.882142\tval-rmse:1.971852\n"
       ]
      },
      {
       "output_type": "stream",
       "stream": "stderr",
       "text": [
        "[1920]\ttrain-rmse:0.881503\tval-rmse:1.971648\n",
        "[1921]\ttrain-rmse:0.881025\tval-rmse:1.971513\n",
        "[1922]\ttrain-rmse:0.880415\tval-rmse:1.971376\n"
       ]
      },
      {
       "output_type": "stream",
       "stream": "stderr",
       "text": [
        "[1923]\ttrain-rmse:0.879966\tval-rmse:1.971220\n",
        "[1924]\ttrain-rmse:0.879672\tval-rmse:1.971176\n",
        "[1925]\ttrain-rmse:0.879387\tval-rmse:1.971110\n"
       ]
      },
      {
       "output_type": "stream",
       "stream": "stderr",
       "text": [
        "[1926]\ttrain-rmse:0.878882\tval-rmse:1.970973\n",
        "[1927]\ttrain-rmse:0.878186\tval-rmse:1.970831\n",
        "[1928]\ttrain-rmse:0.877710\tval-rmse:1.970633\n"
       ]
      },
      {
       "output_type": "stream",
       "stream": "stderr",
       "text": [
        "[1929]\ttrain-rmse:0.877213\tval-rmse:1.970459\n",
        "[1930]\ttrain-rmse:0.876960\tval-rmse:1.970427\n",
        "[1931]\ttrain-rmse:0.876438\tval-rmse:1.970209\n"
       ]
      },
      {
       "output_type": "stream",
       "stream": "stderr",
       "text": [
        "[1932]\ttrain-rmse:0.875993\tval-rmse:1.970065\n",
        "[1933]\ttrain-rmse:0.875634\tval-rmse:1.969985\n",
        "[1934]\ttrain-rmse:0.875169\tval-rmse:1.969864\n"
       ]
      },
      {
       "output_type": "stream",
       "stream": "stderr",
       "text": [
        "[1935]\ttrain-rmse:0.874830\tval-rmse:1.969805\n",
        "[1936]\ttrain-rmse:0.874379\tval-rmse:1.969720\n",
        "[1937]\ttrain-rmse:0.873979\tval-rmse:1.969640\n"
       ]
      },
      {
       "output_type": "stream",
       "stream": "stderr",
       "text": [
        "[1938]\ttrain-rmse:0.873556\tval-rmse:1.969499\n",
        "[1939]\ttrain-rmse:0.873154\tval-rmse:1.969372\n",
        "[1940]\ttrain-rmse:0.872705\tval-rmse:1.969234\n"
       ]
      },
      {
       "output_type": "stream",
       "stream": "stderr",
       "text": [
        "[1941]\ttrain-rmse:0.872231\tval-rmse:1.969111\n",
        "[1942]\ttrain-rmse:0.871665\tval-rmse:1.968940\n",
        "[1943]\ttrain-rmse:0.871137\tval-rmse:1.968823\n"
       ]
      },
      {
       "output_type": "stream",
       "stream": "stderr",
       "text": [
        "[1944]\ttrain-rmse:0.870773\tval-rmse:1.968718\n",
        "[1945]\ttrain-rmse:0.870315\tval-rmse:1.968676\n",
        "[1946]\ttrain-rmse:0.869800\tval-rmse:1.968542\n"
       ]
      },
      {
       "output_type": "stream",
       "stream": "stderr",
       "text": [
        "[1947]\ttrain-rmse:0.869643\tval-rmse:1.968493\n",
        "[1948]\ttrain-rmse:0.869154\tval-rmse:1.968361\n",
        "[1949]\ttrain-rmse:0.868548\tval-rmse:1.968229\n",
        "[1950]\ttrain-rmse:0.868238\tval-rmse:1.968162\n"
       ]
      },
      {
       "output_type": "stream",
       "stream": "stderr",
       "text": [
        "[1951]\ttrain-rmse:0.867870\tval-rmse:1.968042\n",
        "[1952]\ttrain-rmse:0.867479\tval-rmse:1.967926\n",
        "[1953]\ttrain-rmse:0.866881\tval-rmse:1.967767\n"
       ]
      },
      {
       "output_type": "stream",
       "stream": "stderr",
       "text": [
        "[1954]\ttrain-rmse:0.866507\tval-rmse:1.967680\n",
        "[1955]\ttrain-rmse:0.866066\tval-rmse:1.967559\n",
        "[1956]\ttrain-rmse:0.865625\tval-rmse:1.967398\n"
       ]
      },
      {
       "output_type": "stream",
       "stream": "stderr",
       "text": [
        "[1957]\ttrain-rmse:0.865158\tval-rmse:1.967241\n",
        "[1958]\ttrain-rmse:0.864544\tval-rmse:1.967025\n",
        "[1959]\ttrain-rmse:0.863941\tval-rmse:1.966820\n"
       ]
      },
      {
       "output_type": "stream",
       "stream": "stderr",
       "text": [
        "[1960]\ttrain-rmse:0.863543\tval-rmse:1.966733\n",
        "[1961]\ttrain-rmse:0.862930\tval-rmse:1.966542\n",
        "[1962]\ttrain-rmse:0.862471\tval-rmse:1.966402\n"
       ]
      },
      {
       "output_type": "stream",
       "stream": "stderr",
       "text": [
        "[1963]\ttrain-rmse:0.861956\tval-rmse:1.966244\n",
        "[1964]\ttrain-rmse:0.861608\tval-rmse:1.966141\n",
        "[1965]\ttrain-rmse:0.860943\tval-rmse:1.965954\n"
       ]
      },
      {
       "output_type": "stream",
       "stream": "stderr",
       "text": [
        "[1966]\ttrain-rmse:0.860674\tval-rmse:1.965897\n",
        "[1967]\ttrain-rmse:0.860148\tval-rmse:1.965726\n",
        "[1968]\ttrain-rmse:0.859823\tval-rmse:1.965657\n"
       ]
      },
      {
       "output_type": "stream",
       "stream": "stderr",
       "text": [
        "[1969]\ttrain-rmse:0.859509\tval-rmse:1.965601\n",
        "[1970]\ttrain-rmse:0.859182\tval-rmse:1.965442\n",
        "[1971]\ttrain-rmse:0.858671\tval-rmse:1.965305\n"
       ]
      },
      {
       "output_type": "stream",
       "stream": "stderr",
       "text": [
        "[1972]\ttrain-rmse:0.858231\tval-rmse:1.965216\n",
        "[1973]\ttrain-rmse:0.857794\tval-rmse:1.965097\n",
        "[1974]\ttrain-rmse:0.857360\tval-rmse:1.965021\n"
       ]
      },
      {
       "output_type": "stream",
       "stream": "stderr",
       "text": [
        "[1975]\ttrain-rmse:0.856872\tval-rmse:1.964880\n",
        "[1976]\ttrain-rmse:0.856638\tval-rmse:1.964837\n",
        "[1977]\ttrain-rmse:0.856375\tval-rmse:1.964752\n"
       ]
      },
      {
       "output_type": "stream",
       "stream": "stderr",
       "text": [
        "[1978]\ttrain-rmse:0.856068\tval-rmse:1.964658\n",
        "[1979]\ttrain-rmse:0.855663\tval-rmse:1.964528\n",
        "[1980]\ttrain-rmse:0.855413\tval-rmse:1.964461\n",
        "[1981]\ttrain-rmse:0.855139\tval-rmse:1.964402\n"
       ]
      },
      {
       "output_type": "stream",
       "stream": "stderr",
       "text": [
        "[1982]\ttrain-rmse:0.854652\tval-rmse:1.964216\n",
        "[1983]\ttrain-rmse:0.854010\tval-rmse:1.964041\n",
        "[1984]\ttrain-rmse:0.853604\tval-rmse:1.963974\n"
       ]
      },
      {
       "output_type": "stream",
       "stream": "stderr",
       "text": [
        "[1985]\ttrain-rmse:0.853091\tval-rmse:1.963838\n",
        "[1986]\ttrain-rmse:0.852618\tval-rmse:1.963715\n",
        "[1987]\ttrain-rmse:0.852245\tval-rmse:1.963608\n"
       ]
      },
      {
       "output_type": "stream",
       "stream": "stderr",
       "text": [
        "[1988]\ttrain-rmse:0.851863\tval-rmse:1.963520\n",
        "[1989]\ttrain-rmse:0.851450\tval-rmse:1.963367\n",
        "[1990]\ttrain-rmse:0.851050\tval-rmse:1.963248\n"
       ]
      },
      {
       "output_type": "stream",
       "stream": "stderr",
       "text": [
        "[1991]\ttrain-rmse:0.850668\tval-rmse:1.963171\n",
        "[1992]\ttrain-rmse:0.850236\tval-rmse:1.963105\n",
        "[1993]\ttrain-rmse:0.849994\tval-rmse:1.963033\n",
        "[1994]\ttrain-rmse:0.849749\tval-rmse:1.962981\n"
       ]
      },
      {
       "output_type": "stream",
       "stream": "stderr",
       "text": [
        "[1995]\ttrain-rmse:0.849252\tval-rmse:1.962901\n",
        "[1996]\ttrain-rmse:0.848875\tval-rmse:1.962766\n",
        "[1997]\ttrain-rmse:0.848383\tval-rmse:1.962698\n"
       ]
      },
      {
       "output_type": "stream",
       "stream": "stderr",
       "text": [
        "[1998]\ttrain-rmse:0.848099\tval-rmse:1.962606\n",
        "[1999]\ttrain-rmse:0.847846\tval-rmse:1.962509\n",
        "[2000]\ttrain-rmse:0.847342\tval-rmse:1.962349\n"
       ]
      },
      {
       "output_type": "stream",
       "stream": "stderr",
       "text": [
        "[2001]\ttrain-rmse:0.847075\tval-rmse:1.962300\n",
        "[2002]\ttrain-rmse:0.846666\tval-rmse:1.962135\n",
        "[2003]\ttrain-rmse:0.846021\tval-rmse:1.961988\n"
       ]
      },
      {
       "output_type": "stream",
       "stream": "stderr",
       "text": [
        "[2004]\ttrain-rmse:0.845402\tval-rmse:1.961831\n",
        "[2005]\ttrain-rmse:0.845121\tval-rmse:1.961752\n",
        "[2006]\ttrain-rmse:0.844540\tval-rmse:1.961601\n",
        "[2007]\ttrain-rmse:0.844184\tval-rmse:1.961533\n"
       ]
      },
      {
       "output_type": "stream",
       "stream": "stderr",
       "text": [
        "[2008]\ttrain-rmse:0.843684\tval-rmse:1.961413\n",
        "[2009]\ttrain-rmse:0.843406\tval-rmse:1.961318\n",
        "[2010]\ttrain-rmse:0.843136\tval-rmse:1.961217\n",
        "[2011]\ttrain-rmse:0.842543\tval-rmse:1.961043\n"
       ]
      },
      {
       "output_type": "stream",
       "stream": "stderr",
       "text": [
        "[2012]\ttrain-rmse:0.841930\tval-rmse:1.960847\n",
        "[2013]\ttrain-rmse:0.841390\tval-rmse:1.960751\n",
        "[2014]\ttrain-rmse:0.841176\tval-rmse:1.960718\n"
       ]
      },
      {
       "output_type": "stream",
       "stream": "stderr",
       "text": [
        "[2015]\ttrain-rmse:0.840667\tval-rmse:1.960580\n",
        "[2016]\ttrain-rmse:0.840348\tval-rmse:1.960481\n",
        "[2017]\ttrain-rmse:0.839847\tval-rmse:1.960355\n"
       ]
      },
      {
       "output_type": "stream",
       "stream": "stderr",
       "text": [
        "[2018]\ttrain-rmse:0.839307\tval-rmse:1.960205\n",
        "[2019]\ttrain-rmse:0.838720\tval-rmse:1.960079\n",
        "[2020]\ttrain-rmse:0.838278\tval-rmse:1.959985\n"
       ]
      },
      {
       "output_type": "stream",
       "stream": "stderr",
       "text": [
        "[2021]\ttrain-rmse:0.837786\tval-rmse:1.959855\n",
        "[2022]\ttrain-rmse:0.837351\tval-rmse:1.959682\n",
        "[2023]\ttrain-rmse:0.836951\tval-rmse:1.959569\n"
       ]
      },
      {
       "output_type": "stream",
       "stream": "stderr",
       "text": [
        "[2024]\ttrain-rmse:0.836399\tval-rmse:1.959425\n",
        "[2025]\ttrain-rmse:0.836103\tval-rmse:1.959368\n",
        "[2026]\ttrain-rmse:0.835703\tval-rmse:1.959260\n"
       ]
      },
      {
       "output_type": "stream",
       "stream": "stderr",
       "text": [
        "[2027]\ttrain-rmse:0.835183\tval-rmse:1.959133\n",
        "[2028]\ttrain-rmse:0.834553\tval-rmse:1.958943\n",
        "[2029]\ttrain-rmse:0.834247\tval-rmse:1.958852\n"
       ]
      },
      {
       "output_type": "stream",
       "stream": "stderr",
       "text": [
        "[2030]\ttrain-rmse:0.833791\tval-rmse:1.958718\n",
        "[2031]\ttrain-rmse:0.833206\tval-rmse:1.958595\n",
        "[2032]\ttrain-rmse:0.832889\tval-rmse:1.958583\n"
       ]
      },
      {
       "output_type": "stream",
       "stream": "stderr",
       "text": [
        "[2033]\ttrain-rmse:0.832336\tval-rmse:1.958420\n",
        "[2034]\ttrain-rmse:0.832119\tval-rmse:1.958348\n",
        "[2035]\ttrain-rmse:0.831786\tval-rmse:1.958282\n"
       ]
      },
      {
       "output_type": "stream",
       "stream": "stderr",
       "text": [
        "[2036]\ttrain-rmse:0.831294\tval-rmse:1.958176\n",
        "[2037]\ttrain-rmse:0.830971\tval-rmse:1.958077\n",
        "[2038]\ttrain-rmse:0.830728\tval-rmse:1.958034\n"
       ]
      },
      {
       "output_type": "stream",
       "stream": "stderr",
       "text": [
        "[2039]\ttrain-rmse:0.830255\tval-rmse:1.957932\n",
        "[2040]\ttrain-rmse:0.829897\tval-rmse:1.957821\n",
        "[2041]\ttrain-rmse:0.829274\tval-rmse:1.957768\n"
       ]
      },
      {
       "output_type": "stream",
       "stream": "stderr",
       "text": [
        "[2042]\ttrain-rmse:0.828668\tval-rmse:1.957549\n",
        "[2043]\ttrain-rmse:0.828106\tval-rmse:1.957418\n",
        "[2044]\ttrain-rmse:0.827726\tval-rmse:1.957342\n"
       ]
      },
      {
       "output_type": "stream",
       "stream": "stderr",
       "text": [
        "[2045]\ttrain-rmse:0.827371\tval-rmse:1.957218\n",
        "[2046]\ttrain-rmse:0.826986\tval-rmse:1.957113\n",
        "[2047]\ttrain-rmse:0.826662\tval-rmse:1.957009\n"
       ]
      },
      {
       "output_type": "stream",
       "stream": "stderr",
       "text": [
        "[2048]\ttrain-rmse:0.826383\tval-rmse:1.956934\n",
        "[2049]\ttrain-rmse:0.826056\tval-rmse:1.956847\n",
        "[2050]\ttrain-rmse:0.825861\tval-rmse:1.956788\n"
       ]
      },
      {
       "output_type": "stream",
       "stream": "stderr",
       "text": [
        "[2051]\ttrain-rmse:0.825482\tval-rmse:1.956683\n",
        "[2052]\ttrain-rmse:0.824946\tval-rmse:1.956579\n",
        "[2053]\ttrain-rmse:0.824576\tval-rmse:1.956460\n"
       ]
      },
      {
       "output_type": "stream",
       "stream": "stderr",
       "text": [
        "[2054]\ttrain-rmse:0.824276\tval-rmse:1.956387\n",
        "[2055]\ttrain-rmse:0.823866\tval-rmse:1.956305\n",
        "[2056]\ttrain-rmse:0.823395\tval-rmse:1.956157\n"
       ]
      },
      {
       "output_type": "stream",
       "stream": "stderr",
       "text": [
        "[2057]\ttrain-rmse:0.822895\tval-rmse:1.955978\n",
        "[2058]\ttrain-rmse:0.822481\tval-rmse:1.955862\n",
        "[2059]\ttrain-rmse:0.822141\tval-rmse:1.955773\n",
        "[2060]\ttrain-rmse:0.821636\tval-rmse:1.955613\n"
       ]
      },
      {
       "output_type": "stream",
       "stream": "stderr",
       "text": [
        "[2061]\ttrain-rmse:0.821328\tval-rmse:1.955551\n",
        "[2062]\ttrain-rmse:0.820907\tval-rmse:1.955431\n",
        "[2063]\ttrain-rmse:0.820662\tval-rmse:1.955400\n"
       ]
      },
      {
       "output_type": "stream",
       "stream": "stderr",
       "text": [
        "[2064]\ttrain-rmse:0.820258\tval-rmse:1.955287\n",
        "[2065]\ttrain-rmse:0.819949\tval-rmse:1.955242\n",
        "[2066]\ttrain-rmse:0.819495\tval-rmse:1.955093\n",
        "[2067]\ttrain-rmse:0.819083\tval-rmse:1.954954\n"
       ]
      },
      {
       "output_type": "stream",
       "stream": "stderr",
       "text": [
        "[2068]\ttrain-rmse:0.818689\tval-rmse:1.954905\n",
        "[2069]\ttrain-rmse:0.818418\tval-rmse:1.954862\n",
        "[2070]\ttrain-rmse:0.817994\tval-rmse:1.954794\n"
       ]
      },
      {
       "output_type": "stream",
       "stream": "stderr",
       "text": [
        "[2071]\ttrain-rmse:0.817655\tval-rmse:1.954706\n",
        "[2072]\ttrain-rmse:0.817154\tval-rmse:1.954535\n",
        "[2073]\ttrain-rmse:0.816691\tval-rmse:1.954388\n"
       ]
      },
      {
       "output_type": "stream",
       "stream": "stderr",
       "text": [
        "[2074]\ttrain-rmse:0.816349\tval-rmse:1.954355\n",
        "[2075]\ttrain-rmse:0.815920\tval-rmse:1.954254\n",
        "[2076]\ttrain-rmse:0.815536\tval-rmse:1.954171\n"
       ]
      },
      {
       "output_type": "stream",
       "stream": "stderr",
       "text": [
        "[2077]\ttrain-rmse:0.815374\tval-rmse:1.954153\n",
        "[2078]\ttrain-rmse:0.815078\tval-rmse:1.954100\n",
        "[2079]\ttrain-rmse:0.814579\tval-rmse:1.954026\n"
       ]
      },
      {
       "output_type": "stream",
       "stream": "stderr",
       "text": [
        "[2080]\ttrain-rmse:0.814230\tval-rmse:1.953954\n",
        "[2081]\ttrain-rmse:0.813878\tval-rmse:1.953828\n",
        "[2082]\ttrain-rmse:0.813493\tval-rmse:1.953734\n"
       ]
      },
      {
       "output_type": "stream",
       "stream": "stderr",
       "text": [
        "[2083]\ttrain-rmse:0.813020\tval-rmse:1.953634\n",
        "[2084]\ttrain-rmse:0.812616\tval-rmse:1.953515\n",
        "[2085]\ttrain-rmse:0.812290\tval-rmse:1.953455\n"
       ]
      },
      {
       "output_type": "stream",
       "stream": "stderr",
       "text": [
        "[2086]\ttrain-rmse:0.811854\tval-rmse:1.953321\n",
        "[2087]\ttrain-rmse:0.811331\tval-rmse:1.953154\n",
        "[2088]\ttrain-rmse:0.810890\tval-rmse:1.953035\n"
       ]
      },
      {
       "output_type": "stream",
       "stream": "stderr",
       "text": [
        "[2089]\ttrain-rmse:0.810447\tval-rmse:1.952904\n",
        "[2090]\ttrain-rmse:0.809885\tval-rmse:1.952685\n",
        "[2091]\ttrain-rmse:0.809449\tval-rmse:1.952556\n"
       ]
      },
      {
       "output_type": "stream",
       "stream": "stderr",
       "text": [
        "[2092]\ttrain-rmse:0.808994\tval-rmse:1.952400\n",
        "[2093]\ttrain-rmse:0.808544\tval-rmse:1.952266\n",
        "[2094]\ttrain-rmse:0.808134\tval-rmse:1.952161\n"
       ]
      },
      {
       "output_type": "stream",
       "stream": "stderr",
       "text": [
        "[2095]\ttrain-rmse:0.807849\tval-rmse:1.952096\n",
        "[2096]\ttrain-rmse:0.807605\tval-rmse:1.951980\n",
        "[2097]\ttrain-rmse:0.807262\tval-rmse:1.951850\n"
       ]
      },
      {
       "output_type": "stream",
       "stream": "stderr",
       "text": [
        "[2098]\ttrain-rmse:0.806837\tval-rmse:1.951761\n",
        "[2099]\ttrain-rmse:0.806249\tval-rmse:1.951639\n",
        "[2100]\ttrain-rmse:0.805784\tval-rmse:1.951555\n"
       ]
      },
      {
       "output_type": "stream",
       "stream": "stderr",
       "text": [
        "[2101]\ttrain-rmse:0.805496\tval-rmse:1.951479\n",
        "[2102]\ttrain-rmse:0.804904\tval-rmse:1.951331\n",
        "[2103]\ttrain-rmse:0.804685\tval-rmse:1.951286\n"
       ]
      },
      {
       "output_type": "stream",
       "stream": "stderr",
       "text": [
        "[2104]\ttrain-rmse:0.804190\tval-rmse:1.951166\n",
        "[2105]\ttrain-rmse:0.803869\tval-rmse:1.951051\n",
        "[2106]\ttrain-rmse:0.803518\tval-rmse:1.950938\n"
       ]
      },
      {
       "output_type": "stream",
       "stream": "stderr",
       "text": [
        "[2107]\ttrain-rmse:0.803140\tval-rmse:1.950847\n",
        "[2108]\ttrain-rmse:0.802682\tval-rmse:1.950684\n",
        "[2109]\ttrain-rmse:0.802073\tval-rmse:1.950468\n"
       ]
      },
      {
       "output_type": "stream",
       "stream": "stderr",
       "text": [
        "[2110]\ttrain-rmse:0.801748\tval-rmse:1.950327\n",
        "[2111]\ttrain-rmse:0.801329\tval-rmse:1.950228\n",
        "[2112]\ttrain-rmse:0.800914\tval-rmse:1.950107\n"
       ]
      },
      {
       "output_type": "stream",
       "stream": "stderr",
       "text": [
        "[2113]\ttrain-rmse:0.800717\tval-rmse:1.950046\n",
        "[2114]\ttrain-rmse:0.800410\tval-rmse:1.949937\n",
        "[2115]\ttrain-rmse:0.799924\tval-rmse:1.949788\n"
       ]
      },
      {
       "output_type": "stream",
       "stream": "stderr",
       "text": [
        "[2116]\ttrain-rmse:0.799561\tval-rmse:1.949739\n",
        "[2117]\ttrain-rmse:0.798895\tval-rmse:1.949523\n",
        "[2118]\ttrain-rmse:0.798492\tval-rmse:1.949414\n"
       ]
      },
      {
       "output_type": "stream",
       "stream": "stderr",
       "text": [
        "[2119]\ttrain-rmse:0.798011\tval-rmse:1.949255\n",
        "[2120]\ttrain-rmse:0.797674\tval-rmse:1.949215\n",
        "[2121]\ttrain-rmse:0.797372\tval-rmse:1.949171\n"
       ]
      },
      {
       "output_type": "stream",
       "stream": "stderr",
       "text": [
        "[2122]\ttrain-rmse:0.796999\tval-rmse:1.949085\n",
        "[2123]\ttrain-rmse:0.796764\tval-rmse:1.949026\n",
        "[2124]\ttrain-rmse:0.796355\tval-rmse:1.948932\n"
       ]
      },
      {
       "output_type": "stream",
       "stream": "stderr",
       "text": [
        "[2125]\ttrain-rmse:0.796075\tval-rmse:1.948872\n",
        "[2126]\ttrain-rmse:0.795956\tval-rmse:1.948829\n"
       ]
      },
      {
       "output_type": "stream",
       "stream": "stderr",
       "text": [
        "[2127]\ttrain-rmse:0.795657\tval-rmse:1.948737\n",
        "[2128]\ttrain-rmse:0.795301\tval-rmse:1.948654\n",
        "[2129]\ttrain-rmse:0.794814\tval-rmse:1.948507\n"
       ]
      },
      {
       "output_type": "stream",
       "stream": "stderr",
       "text": [
        "[2130]\ttrain-rmse:0.794248\tval-rmse:1.948396\n",
        "[2131]\ttrain-rmse:0.793951\tval-rmse:1.948269\n",
        "[2132]\ttrain-rmse:0.793520\tval-rmse:1.948131\n"
       ]
      },
      {
       "output_type": "stream",
       "stream": "stderr",
       "text": [
        "[2133]\ttrain-rmse:0.793344\tval-rmse:1.948072\n",
        "[2134]\ttrain-rmse:0.792961\tval-rmse:1.947927\n",
        "[2135]\ttrain-rmse:0.792636\tval-rmse:1.947850\n"
       ]
      },
      {
       "output_type": "stream",
       "stream": "stderr",
       "text": [
        "[2136]\ttrain-rmse:0.792174\tval-rmse:1.947726\n",
        "[2137]\ttrain-rmse:0.791884\tval-rmse:1.947665\n",
        "[2138]\ttrain-rmse:0.791326\tval-rmse:1.947536\n"
       ]
      },
      {
       "output_type": "stream",
       "stream": "stderr",
       "text": [
        "[2139]\ttrain-rmse:0.791162\tval-rmse:1.947502\n",
        "[2140]\ttrain-rmse:0.790691\tval-rmse:1.947389\n",
        "[2141]\ttrain-rmse:0.790203\tval-rmse:1.947294\n"
       ]
      },
      {
       "output_type": "stream",
       "stream": "stderr",
       "text": [
        "[2142]\ttrain-rmse:0.789930\tval-rmse:1.947255\n",
        "[2143]\ttrain-rmse:0.789603\tval-rmse:1.947163\n",
        "[2144]\ttrain-rmse:0.789281\tval-rmse:1.947079\n"
       ]
      },
      {
       "output_type": "stream",
       "stream": "stderr",
       "text": [
        "[2145]\ttrain-rmse:0.789037\tval-rmse:1.947013\n",
        "[2146]\ttrain-rmse:0.788713\tval-rmse:1.946890\n",
        "[2147]\ttrain-rmse:0.788516\tval-rmse:1.946827\n",
        "[2148]\ttrain-rmse:0.788261\tval-rmse:1.946782\n"
       ]
      },
      {
       "output_type": "stream",
       "stream": "stderr",
       "text": [
        "[2149]\ttrain-rmse:0.787938\tval-rmse:1.946719\n",
        "[2150]\ttrain-rmse:0.787496\tval-rmse:1.946594\n",
        "[2151]\ttrain-rmse:0.787234\tval-rmse:1.946560\n"
       ]
      },
      {
       "output_type": "stream",
       "stream": "stderr",
       "text": [
        "[2152]\ttrain-rmse:0.786734\tval-rmse:1.946444\n",
        "[2153]\ttrain-rmse:0.786233\tval-rmse:1.946351\n",
        "[2154]\ttrain-rmse:0.785709\tval-rmse:1.946236\n"
       ]
      },
      {
       "output_type": "stream",
       "stream": "stderr",
       "text": [
        "[2155]\ttrain-rmse:0.785199\tval-rmse:1.946071\n",
        "[2156]\ttrain-rmse:0.784792\tval-rmse:1.945976\n",
        "[2157]\ttrain-rmse:0.784325\tval-rmse:1.945842\n"
       ]
      },
      {
       "output_type": "stream",
       "stream": "stderr",
       "text": [
        "[2158]\ttrain-rmse:0.784002\tval-rmse:1.945795\n",
        "[2159]\ttrain-rmse:0.783627\tval-rmse:1.945703\n",
        "[2160]\ttrain-rmse:0.783300\tval-rmse:1.945623\n"
       ]
      },
      {
       "output_type": "stream",
       "stream": "stderr",
       "text": [
        "[2161]\ttrain-rmse:0.782792\tval-rmse:1.945510\n",
        "[2162]\ttrain-rmse:0.782329\tval-rmse:1.945401\n",
        "[2163]\ttrain-rmse:0.781978\tval-rmse:1.945316\n"
       ]
      },
      {
       "output_type": "stream",
       "stream": "stderr",
       "text": [
        "[2164]\ttrain-rmse:0.781652\tval-rmse:1.945189\n",
        "[2165]\ttrain-rmse:0.781207\tval-rmse:1.945034\n",
        "[2166]\ttrain-rmse:0.780917\tval-rmse:1.944970\n"
       ]
      },
      {
       "output_type": "stream",
       "stream": "stderr",
       "text": [
        "[2167]\ttrain-rmse:0.780369\tval-rmse:1.944789\n",
        "[2168]\ttrain-rmse:0.780006\tval-rmse:1.944691\n",
        "[2169]\ttrain-rmse:0.779547\tval-rmse:1.944622\n"
       ]
      },
      {
       "output_type": "stream",
       "stream": "stderr",
       "text": [
        "[2170]\ttrain-rmse:0.779108\tval-rmse:1.944523\n",
        "[2171]\ttrain-rmse:0.778535\tval-rmse:1.944317\n"
       ]
      },
      {
       "output_type": "stream",
       "stream": "stderr",
       "text": [
        "[2172]\ttrain-rmse:0.778004\tval-rmse:1.944213\n",
        "[2173]\ttrain-rmse:0.777632\tval-rmse:1.944121\n",
        "[2174]\ttrain-rmse:0.777207\tval-rmse:1.944076\n"
       ]
      },
      {
       "output_type": "stream",
       "stream": "stderr",
       "text": [
        "[2175]\ttrain-rmse:0.776658\tval-rmse:1.943993\n",
        "[2176]\ttrain-rmse:0.776115\tval-rmse:1.943857\n",
        "[2177]\ttrain-rmse:0.775707\tval-rmse:1.943723\n",
        "[2178]\ttrain-rmse:0.775325\tval-rmse:1.943621\n"
       ]
      },
      {
       "output_type": "stream",
       "stream": "stderr",
       "text": [
        "[2179]\ttrain-rmse:0.775101\tval-rmse:1.943566\n",
        "[2180]\ttrain-rmse:0.774654\tval-rmse:1.943445\n",
        "[2181]\ttrain-rmse:0.774198\tval-rmse:1.943330\n"
       ]
      },
      {
       "output_type": "stream",
       "stream": "stderr",
       "text": [
        "[2182]\ttrain-rmse:0.773914\tval-rmse:1.943248\n",
        "[2183]\ttrain-rmse:0.773600\tval-rmse:1.943168\n",
        "[2184]\ttrain-rmse:0.773137\tval-rmse:1.943112\n"
       ]
      },
      {
       "output_type": "stream",
       "stream": "stderr",
       "text": [
        "[2185]\ttrain-rmse:0.772667\tval-rmse:1.942996\n",
        "[2186]\ttrain-rmse:0.772188\tval-rmse:1.942858\n",
        "[2187]\ttrain-rmse:0.771661\tval-rmse:1.942724\n"
       ]
      },
      {
       "output_type": "stream",
       "stream": "stderr",
       "text": [
        "[2188]\ttrain-rmse:0.771275\tval-rmse:1.942648\n",
        "[2189]\ttrain-rmse:0.771023\tval-rmse:1.942527\n",
        "[2190]\ttrain-rmse:0.770562\tval-rmse:1.942422\n"
       ]
      },
      {
       "output_type": "stream",
       "stream": "stderr",
       "text": [
        "[2191]\ttrain-rmse:0.770251\tval-rmse:1.942302\n",
        "[2192]\ttrain-rmse:0.769888\tval-rmse:1.942204\n",
        "[2193]\ttrain-rmse:0.769428\tval-rmse:1.942092\n"
       ]
      },
      {
       "output_type": "stream",
       "stream": "stderr",
       "text": [
        "[2194]\ttrain-rmse:0.769000\tval-rmse:1.942035\n",
        "[2195]\ttrain-rmse:0.768509\tval-rmse:1.941870\n",
        "[2196]\ttrain-rmse:0.768269\tval-rmse:1.941796\n"
       ]
      },
      {
       "output_type": "stream",
       "stream": "stderr",
       "text": [
        "[2197]\ttrain-rmse:0.767792\tval-rmse:1.941654\n",
        "[2198]\ttrain-rmse:0.767550\tval-rmse:1.941580\n",
        "[2199]\ttrain-rmse:0.767083\tval-rmse:1.941525\n"
       ]
      },
      {
       "output_type": "stream",
       "stream": "stderr",
       "text": [
        "[2200]\ttrain-rmse:0.766759\tval-rmse:1.941446\n",
        "[2201]\ttrain-rmse:0.766170\tval-rmse:1.941267\n",
        "[2202]\ttrain-rmse:0.765627\tval-rmse:1.941104\n"
       ]
      },
      {
       "output_type": "stream",
       "stream": "stderr",
       "text": [
        "[2203]\ttrain-rmse:0.765468\tval-rmse:1.941047\n",
        "[2204]\ttrain-rmse:0.765094\tval-rmse:1.940897\n",
        "[2205]\ttrain-rmse:0.764776\tval-rmse:1.940800\n"
       ]
      },
      {
       "output_type": "stream",
       "stream": "stderr",
       "text": [
        "[2206]\ttrain-rmse:0.764434\tval-rmse:1.940733\n",
        "[2207]\ttrain-rmse:0.764258\tval-rmse:1.940721\n",
        "[2208]\ttrain-rmse:0.764008\tval-rmse:1.940671\n"
       ]
      },
      {
       "output_type": "stream",
       "stream": "stderr",
       "text": [
        "[2209]\ttrain-rmse:0.763661\tval-rmse:1.940577\n",
        "[2210]\ttrain-rmse:0.763103\tval-rmse:1.940432\n",
        "[2211]\ttrain-rmse:0.762819\tval-rmse:1.940389\n"
       ]
      },
      {
       "output_type": "stream",
       "stream": "stderr",
       "text": [
        "[2212]\ttrain-rmse:0.762385\tval-rmse:1.940295\n",
        "[2213]\ttrain-rmse:0.762005\tval-rmse:1.940251\n",
        "[2214]\ttrain-rmse:0.761635\tval-rmse:1.940181\n"
       ]
      },
      {
       "output_type": "stream",
       "stream": "stderr",
       "text": [
        "[2215]\ttrain-rmse:0.761287\tval-rmse:1.940113\n",
        "[2216]\ttrain-rmse:0.760768\tval-rmse:1.939963\n",
        "[2217]\ttrain-rmse:0.760561\tval-rmse:1.939895\n"
       ]
      },
      {
       "output_type": "stream",
       "stream": "stderr",
       "text": [
        "[2218]\ttrain-rmse:0.760023\tval-rmse:1.939737\n",
        "[2219]\ttrain-rmse:0.759663\tval-rmse:1.939620\n",
        "[2220]\ttrain-rmse:0.759294\tval-rmse:1.939600\n"
       ]
      },
      {
       "output_type": "stream",
       "stream": "stderr",
       "text": [
        "[2221]\ttrain-rmse:0.759005\tval-rmse:1.939546\n",
        "[2222]\ttrain-rmse:0.758462\tval-rmse:1.939388\n",
        "[2223]\ttrain-rmse:0.757953\tval-rmse:1.939271\n"
       ]
      },
      {
       "output_type": "stream",
       "stream": "stderr",
       "text": [
        "[2224]\ttrain-rmse:0.757552\tval-rmse:1.939176\n",
        "[2225]\ttrain-rmse:0.757097\tval-rmse:1.939027\n",
        "[2226]\ttrain-rmse:0.756539\tval-rmse:1.938938\n"
       ]
      },
      {
       "output_type": "stream",
       "stream": "stderr",
       "text": [
        "[2227]\ttrain-rmse:0.756054\tval-rmse:1.938850\n",
        "[2228]\ttrain-rmse:0.755691\tval-rmse:1.938757\n",
        "[2229]\ttrain-rmse:0.755259\tval-rmse:1.938651\n"
       ]
      },
      {
       "output_type": "stream",
       "stream": "stderr",
       "text": [
        "[2230]\ttrain-rmse:0.754786\tval-rmse:1.938521\n",
        "[2231]\ttrain-rmse:0.754384\tval-rmse:1.938421\n",
        "[2232]\ttrain-rmse:0.753847\tval-rmse:1.938303\n"
       ]
      },
      {
       "output_type": "stream",
       "stream": "stderr",
       "text": [
        "[2233]\ttrain-rmse:0.753423\tval-rmse:1.938162\n",
        "[2234]\ttrain-rmse:0.753141\tval-rmse:1.938107\n"
       ]
      },
      {
       "output_type": "stream",
       "stream": "stderr",
       "text": [
        "[2235]\ttrain-rmse:0.752969\tval-rmse:1.938071\n",
        "[2236]\ttrain-rmse:0.752639\tval-rmse:1.938015\n",
        "[2237]\ttrain-rmse:0.752283\tval-rmse:1.937882\n"
       ]
      },
      {
       "output_type": "stream",
       "stream": "stderr",
       "text": [
        "[2238]\ttrain-rmse:0.751997\tval-rmse:1.937804\n",
        "[2239]\ttrain-rmse:0.751496\tval-rmse:1.937733\n"
       ]
      },
      {
       "output_type": "stream",
       "stream": "stderr",
       "text": [
        "[2240]\ttrain-rmse:0.751026\tval-rmse:1.937589\n",
        "[2241]\ttrain-rmse:0.750617\tval-rmse:1.937477\n"
       ]
      },
      {
       "output_type": "stream",
       "stream": "stderr",
       "text": [
        "[2242]\ttrain-rmse:0.750409\tval-rmse:1.937420\n",
        "[2243]\ttrain-rmse:0.750106\tval-rmse:1.937310\n",
        "[2244]\ttrain-rmse:0.749739\tval-rmse:1.937207\n"
       ]
      },
      {
       "output_type": "stream",
       "stream": "stderr",
       "text": [
        "[2245]\ttrain-rmse:0.749379\tval-rmse:1.937131\n",
        "[2246]\ttrain-rmse:0.749052\tval-rmse:1.937092\n",
        "[2247]\ttrain-rmse:0.748858\tval-rmse:1.937032\n"
       ]
      },
      {
       "output_type": "stream",
       "stream": "stderr",
       "text": [
        "[2248]\ttrain-rmse:0.748285\tval-rmse:1.936845\n",
        "[2249]\ttrain-rmse:0.747845\tval-rmse:1.936715\n",
        "[2250]\ttrain-rmse:0.747455\tval-rmse:1.936635\n"
       ]
      },
      {
       "output_type": "stream",
       "stream": "stderr",
       "text": [
        "[2251]\ttrain-rmse:0.746982\tval-rmse:1.936529\n",
        "[2252]\ttrain-rmse:0.746609\tval-rmse:1.936448\n",
        "[2253]\ttrain-rmse:0.746207\tval-rmse:1.936338\n"
       ]
      },
      {
       "output_type": "stream",
       "stream": "stderr",
       "text": [
        "[2254]\ttrain-rmse:0.745946\tval-rmse:1.936294\n",
        "[2255]\ttrain-rmse:0.745489\tval-rmse:1.936184\n",
        "[2256]\ttrain-rmse:0.744996\tval-rmse:1.936027\n"
       ]
      },
      {
       "output_type": "stream",
       "stream": "stderr",
       "text": [
        "[2257]\ttrain-rmse:0.744646\tval-rmse:1.935943\n",
        "[2258]\ttrain-rmse:0.744023\tval-rmse:1.935799\n",
        "[2259]\ttrain-rmse:0.743581\tval-rmse:1.935660\n"
       ]
      },
      {
       "output_type": "stream",
       "stream": "stderr",
       "text": [
        "[2260]\ttrain-rmse:0.743363\tval-rmse:1.935634\n",
        "[2261]\ttrain-rmse:0.743087\tval-rmse:1.935551\n",
        "[2262]\ttrain-rmse:0.742911\tval-rmse:1.935503\n"
       ]
      },
      {
       "output_type": "stream",
       "stream": "stderr",
       "text": [
        "[2263]\ttrain-rmse:0.742551\tval-rmse:1.935437\n",
        "[2264]\ttrain-rmse:0.742081\tval-rmse:1.935345\n",
        "[2265]\ttrain-rmse:0.741812\tval-rmse:1.935306\n"
       ]
      },
      {
       "output_type": "stream",
       "stream": "stderr",
       "text": [
        "[2266]\ttrain-rmse:0.741436\tval-rmse:1.935247\n",
        "[2267]\ttrain-rmse:0.741000\tval-rmse:1.935135\n",
        "[2268]\ttrain-rmse:0.740646\tval-rmse:1.935046\n"
       ]
      },
      {
       "output_type": "stream",
       "stream": "stderr",
       "text": [
        "[2269]\ttrain-rmse:0.740232\tval-rmse:1.934968\n",
        "[2270]\ttrain-rmse:0.739906\tval-rmse:1.934868\n",
        "[2271]\ttrain-rmse:0.739542\tval-rmse:1.934792\n"
       ]
      },
      {
       "output_type": "stream",
       "stream": "stderr",
       "text": [
        "[2272]\ttrain-rmse:0.739065\tval-rmse:1.934646\n",
        "[2273]\ttrain-rmse:0.738900\tval-rmse:1.934601\n",
        "[2274]\ttrain-rmse:0.738503\tval-rmse:1.934499\n"
       ]
      },
      {
       "output_type": "stream",
       "stream": "stderr",
       "text": [
        "[2275]\ttrain-rmse:0.738161\tval-rmse:1.934399\n",
        "[2276]\ttrain-rmse:0.737671\tval-rmse:1.934283\n",
        "[2277]\ttrain-rmse:0.737411\tval-rmse:1.934232\n"
       ]
      },
      {
       "output_type": "stream",
       "stream": "stderr",
       "text": [
        "[2278]\ttrain-rmse:0.737168\tval-rmse:1.934174\n",
        "[2279]\ttrain-rmse:0.736778\tval-rmse:1.934100\n",
        "[2280]\ttrain-rmse:0.736436\tval-rmse:1.934035\n"
       ]
      },
      {
       "output_type": "stream",
       "stream": "stderr",
       "text": [
        "[2281]\ttrain-rmse:0.736112\tval-rmse:1.933933\n",
        "[2282]\ttrain-rmse:0.735877\tval-rmse:1.933880\n",
        "[2283]\ttrain-rmse:0.735496\tval-rmse:1.933784\n"
       ]
      },
      {
       "output_type": "stream",
       "stream": "stderr",
       "text": [
        "[2284]\ttrain-rmse:0.735028\tval-rmse:1.933710\n",
        "[2285]\ttrain-rmse:0.734613\tval-rmse:1.933615\n",
        "[2286]\ttrain-rmse:0.734133\tval-rmse:1.933514\n"
       ]
      },
      {
       "output_type": "stream",
       "stream": "stderr",
       "text": [
        "[2287]\ttrain-rmse:0.733705\tval-rmse:1.933411\n",
        "[2288]\ttrain-rmse:0.733299\tval-rmse:1.933295\n",
        "[2289]\ttrain-rmse:0.732836\tval-rmse:1.933225\n"
       ]
      },
      {
       "output_type": "stream",
       "stream": "stderr",
       "text": [
        "[2290]\ttrain-rmse:0.732417\tval-rmse:1.933196\n",
        "[2291]\ttrain-rmse:0.732025\tval-rmse:1.933112\n",
        "[2292]\ttrain-rmse:0.731584\tval-rmse:1.932999\n"
       ]
      },
      {
       "output_type": "stream",
       "stream": "stderr",
       "text": [
        "[2293]\ttrain-rmse:0.731205\tval-rmse:1.932938\n",
        "[2294]\ttrain-rmse:0.730703\tval-rmse:1.932765\n",
        "[2295]\ttrain-rmse:0.730417\tval-rmse:1.932746\n"
       ]
      },
      {
       "output_type": "stream",
       "stream": "stderr",
       "text": [
        "[2296]\ttrain-rmse:0.729959\tval-rmse:1.932630\n",
        "[2297]\ttrain-rmse:0.729686\tval-rmse:1.932538\n",
        "[2298]\ttrain-rmse:0.729285\tval-rmse:1.932461\n"
       ]
      },
      {
       "output_type": "stream",
       "stream": "stderr",
       "text": [
        "[2299]\ttrain-rmse:0.728981\tval-rmse:1.932380\n",
        "[2300]\ttrain-rmse:0.728709\tval-rmse:1.932280\n",
        "[2301]\ttrain-rmse:0.728284\tval-rmse:1.932184\n"
       ]
      },
      {
       "output_type": "stream",
       "stream": "stderr",
       "text": [
        "[2302]\ttrain-rmse:0.727959\tval-rmse:1.932090\n",
        "[2303]\ttrain-rmse:0.727570\tval-rmse:1.931963\n",
        "[2304]\ttrain-rmse:0.727301\tval-rmse:1.931873\n"
       ]
      },
      {
       "output_type": "stream",
       "stream": "stderr",
       "text": [
        "[2305]\ttrain-rmse:0.726814\tval-rmse:1.931822\n",
        "[2306]\ttrain-rmse:0.726515\tval-rmse:1.931739\n",
        "[2307]\ttrain-rmse:0.726249\tval-rmse:1.931695\n",
        "[2308]\ttrain-rmse:0.725903\tval-rmse:1.931597\n"
       ]
      },
      {
       "output_type": "stream",
       "stream": "stderr",
       "text": [
        "[2309]\ttrain-rmse:0.725404\tval-rmse:1.931500\n",
        "[2310]\ttrain-rmse:0.725053\tval-rmse:1.931400\n",
        "[2311]\ttrain-rmse:0.724776\tval-rmse:1.931332\n"
       ]
      },
      {
       "output_type": "stream",
       "stream": "stderr",
       "text": [
        "[2312]\ttrain-rmse:0.724227\tval-rmse:1.931191\n",
        "[2313]\ttrain-rmse:0.723788\tval-rmse:1.931092\n",
        "[2314]\ttrain-rmse:0.723322\tval-rmse:1.930979\n"
       ]
      },
      {
       "output_type": "stream",
       "stream": "stderr",
       "text": [
        "[2315]\ttrain-rmse:0.723078\tval-rmse:1.930904\n",
        "[2316]\ttrain-rmse:0.722713\tval-rmse:1.930777\n",
        "[2317]\ttrain-rmse:0.722392\tval-rmse:1.930708\n"
       ]
      },
      {
       "output_type": "stream",
       "stream": "stderr",
       "text": [
        "[2318]\ttrain-rmse:0.721902\tval-rmse:1.930575\n",
        "[2319]\ttrain-rmse:0.721572\tval-rmse:1.930497\n",
        "[2320]\ttrain-rmse:0.721205\tval-rmse:1.930474\n"
       ]
      },
      {
       "output_type": "stream",
       "stream": "stderr",
       "text": [
        "[2321]\ttrain-rmse:0.720630\tval-rmse:1.930311\n",
        "[2322]\ttrain-rmse:0.720287\tval-rmse:1.930257\n",
        "[2323]\ttrain-rmse:0.720060\tval-rmse:1.930185\n"
       ]
      },
      {
       "output_type": "stream",
       "stream": "stderr",
       "text": [
        "[2324]\ttrain-rmse:0.719795\tval-rmse:1.930114\n",
        "[2325]\ttrain-rmse:0.719556\tval-rmse:1.930041\n",
        "[2326]\ttrain-rmse:0.719101\tval-rmse:1.929941\n"
       ]
      },
      {
       "output_type": "stream",
       "stream": "stderr",
       "text": [
        "[2327]\ttrain-rmse:0.718684\tval-rmse:1.929805\n",
        "[2328]\ttrain-rmse:0.718351\tval-rmse:1.929691\n",
        "[2329]\ttrain-rmse:0.718060\tval-rmse:1.929620\n"
       ]
      },
      {
       "output_type": "stream",
       "stream": "stderr",
       "text": [
        "[2330]\ttrain-rmse:0.717507\tval-rmse:1.929507\n",
        "[2331]\ttrain-rmse:0.717041\tval-rmse:1.929381\n",
        "[2332]\ttrain-rmse:0.716620\tval-rmse:1.929287\n"
       ]
      },
      {
       "output_type": "stream",
       "stream": "stderr",
       "text": [
        "[2333]\ttrain-rmse:0.716067\tval-rmse:1.929164\n",
        "[2334]\ttrain-rmse:0.715739\tval-rmse:1.929109\n",
        "[2335]\ttrain-rmse:0.715299\tval-rmse:1.929054\n"
       ]
      },
      {
       "output_type": "stream",
       "stream": "stderr",
       "text": [
        "[2336]\ttrain-rmse:0.714795\tval-rmse:1.928966\n",
        "[2337]\ttrain-rmse:0.714366\tval-rmse:1.928854\n",
        "[2338]\ttrain-rmse:0.713908\tval-rmse:1.928737\n"
       ]
      },
      {
       "output_type": "stream",
       "stream": "stderr",
       "text": [
        "[2339]\ttrain-rmse:0.713591\tval-rmse:1.928685\n",
        "[2340]\ttrain-rmse:0.713139\tval-rmse:1.928586\n",
        "[2341]\ttrain-rmse:0.712958\tval-rmse:1.928565\n",
        "[2342]\ttrain-rmse:0.712534\tval-rmse:1.928469\n"
       ]
      },
      {
       "output_type": "stream",
       "stream": "stderr",
       "text": [
        "[2343]\ttrain-rmse:0.712214\tval-rmse:1.928390\n",
        "[2344]\ttrain-rmse:0.711839\tval-rmse:1.928307\n",
        "[2345]\ttrain-rmse:0.711594\tval-rmse:1.928254\n"
       ]
      },
      {
       "output_type": "stream",
       "stream": "stderr",
       "text": [
        "[2346]\ttrain-rmse:0.711195\tval-rmse:1.928186\n",
        "[2347]\ttrain-rmse:0.710871\tval-rmse:1.928113\n",
        "[2348]\ttrain-rmse:0.710458\tval-rmse:1.928007\n",
        "[2349]\ttrain-rmse:0.710055\tval-rmse:1.927892\n"
       ]
      },
      {
       "output_type": "stream",
       "stream": "stderr",
       "text": [
        "[2350]\ttrain-rmse:0.709753\tval-rmse:1.927806\n",
        "[2351]\ttrain-rmse:0.709490\tval-rmse:1.927776\n",
        "[2352]\ttrain-rmse:0.709206\tval-rmse:1.927722\n"
       ]
      },
      {
       "output_type": "stream",
       "stream": "stderr",
       "text": [
        "[2353]\ttrain-rmse:0.708834\tval-rmse:1.927634\n",
        "[2354]\ttrain-rmse:0.708529\tval-rmse:1.927516\n",
        "[2355]\ttrain-rmse:0.708261\tval-rmse:1.927441\n"
       ]
      },
      {
       "output_type": "stream",
       "stream": "stderr",
       "text": [
        "[2356]\ttrain-rmse:0.707943\tval-rmse:1.927345\n",
        "[2357]\ttrain-rmse:0.707728\tval-rmse:1.927311\n",
        "[2358]\ttrain-rmse:0.707198\tval-rmse:1.927191\n"
       ]
      },
      {
       "output_type": "stream",
       "stream": "stderr",
       "text": [
        "[2359]\ttrain-rmse:0.706662\tval-rmse:1.927070\n",
        "[2360]\ttrain-rmse:0.706519\tval-rmse:1.927026\n",
        "[2361]\ttrain-rmse:0.706188\tval-rmse:1.926932\n"
       ]
      },
      {
       "output_type": "stream",
       "stream": "stderr",
       "text": [
        "[2362]\ttrain-rmse:0.705825\tval-rmse:1.926835\n",
        "[2363]\ttrain-rmse:0.705451\tval-rmse:1.926766\n",
        "[2364]\ttrain-rmse:0.705142\tval-rmse:1.926704\n",
        "[2365]\ttrain-rmse:0.704793\tval-rmse:1.926609\n"
       ]
      },
      {
       "output_type": "stream",
       "stream": "stderr",
       "text": [
        "[2366]\ttrain-rmse:0.704164\tval-rmse:1.926455\n",
        "[2367]\ttrain-rmse:0.703825\tval-rmse:1.926368\n",
        "[2368]\ttrain-rmse:0.703509\tval-rmse:1.926304\n",
        "[2369]\ttrain-rmse:0.703291\tval-rmse:1.926254\n"
       ]
      },
      {
       "output_type": "stream",
       "stream": "stderr",
       "text": [
        "[2370]\ttrain-rmse:0.702828\tval-rmse:1.926139\n",
        "[2371]\ttrain-rmse:0.702469\tval-rmse:1.926057\n",
        "[2372]\ttrain-rmse:0.702206\tval-rmse:1.926001\n"
       ]
      },
      {
       "output_type": "stream",
       "stream": "stderr",
       "text": [
        "[2373]\ttrain-rmse:0.701745\tval-rmse:1.925939\n",
        "[2374]\ttrain-rmse:0.701360\tval-rmse:1.925917\n",
        "[2375]\ttrain-rmse:0.700980\tval-rmse:1.925845\n"
       ]
      },
      {
       "output_type": "stream",
       "stream": "stderr",
       "text": [
        "[2376]\ttrain-rmse:0.700529\tval-rmse:1.925752\n",
        "[2377]\ttrain-rmse:0.700192\tval-rmse:1.925672\n",
        "[2378]\ttrain-rmse:0.699758\tval-rmse:1.925563\n"
       ]
      },
      {
       "output_type": "stream",
       "stream": "stderr",
       "text": [
        "[2379]\ttrain-rmse:0.699504\tval-rmse:1.925500\n",
        "[2380]\ttrain-rmse:0.699091\tval-rmse:1.925419\n"
       ]
      },
      {
       "output_type": "stream",
       "stream": "stderr",
       "text": [
        "[2381]\ttrain-rmse:0.698838\tval-rmse:1.925340\n",
        "[2382]\ttrain-rmse:0.698662\tval-rmse:1.925284\n"
       ]
      },
      {
       "output_type": "stream",
       "stream": "stderr",
       "text": [
        "[2383]\ttrain-rmse:0.698202\tval-rmse:1.925177\n",
        "[2384]\ttrain-rmse:0.697917\tval-rmse:1.925127\n",
        "[2385]\ttrain-rmse:0.697569\tval-rmse:1.925077\n"
       ]
      },
      {
       "output_type": "stream",
       "stream": "stderr",
       "text": [
        "[2386]\ttrain-rmse:0.697316\tval-rmse:1.925000\n",
        "[2387]\ttrain-rmse:0.697175\tval-rmse:1.924990\n",
        "[2388]\ttrain-rmse:0.696928\tval-rmse:1.924975\n",
        "[2389]\ttrain-rmse:0.696648\tval-rmse:1.924916\n"
       ]
      },
      {
       "output_type": "stream",
       "stream": "stderr",
       "text": [
        "[2390]\ttrain-rmse:0.696506\tval-rmse:1.924907\n",
        "[2391]\ttrain-rmse:0.696317\tval-rmse:1.924866\n",
        "[2392]\ttrain-rmse:0.696004\tval-rmse:1.924822\n"
       ]
      },
      {
       "output_type": "stream",
       "stream": "stderr",
       "text": [
        "[2393]\ttrain-rmse:0.695581\tval-rmse:1.924718\n",
        "[2394]\ttrain-rmse:0.695232\tval-rmse:1.924663\n",
        "[2395]\ttrain-rmse:0.694853\tval-rmse:1.924584\n"
       ]
      },
      {
       "output_type": "stream",
       "stream": "stderr",
       "text": [
        "[2396]\ttrain-rmse:0.694493\tval-rmse:1.924489\n",
        "[2397]\ttrain-rmse:0.694244\tval-rmse:1.924462\n",
        "[2398]\ttrain-rmse:0.693968\tval-rmse:1.924441\n"
       ]
      },
      {
       "output_type": "stream",
       "stream": "stderr",
       "text": [
        "[2399]\ttrain-rmse:0.693579\tval-rmse:1.924379\n",
        "[2400]\ttrain-rmse:0.693313\tval-rmse:1.924340\n",
        "[2401]\ttrain-rmse:0.693093\tval-rmse:1.924311\n"
       ]
      },
      {
       "output_type": "stream",
       "stream": "stderr",
       "text": [
        "[2402]\ttrain-rmse:0.692623\tval-rmse:1.924235\n",
        "[2403]\ttrain-rmse:0.692140\tval-rmse:1.924103\n",
        "[2404]\ttrain-rmse:0.691762\tval-rmse:1.924006\n"
       ]
      },
      {
       "output_type": "stream",
       "stream": "stderr",
       "text": [
        "[2405]\ttrain-rmse:0.691302\tval-rmse:1.923932\n",
        "[2406]\ttrain-rmse:0.691184\tval-rmse:1.923906\n",
        "[2407]\ttrain-rmse:0.690757\tval-rmse:1.923836\n"
       ]
      },
      {
       "output_type": "stream",
       "stream": "stderr",
       "text": [
        "[2408]\ttrain-rmse:0.690355\tval-rmse:1.923735\n",
        "[2409]\ttrain-rmse:0.690002\tval-rmse:1.923678\n",
        "[2410]\ttrain-rmse:0.689670\tval-rmse:1.923603\n"
       ]
      },
      {
       "output_type": "stream",
       "stream": "stderr",
       "text": [
        "[2411]\ttrain-rmse:0.689239\tval-rmse:1.923489\n",
        "[2412]\ttrain-rmse:0.688906\tval-rmse:1.923406\n",
        "[2413]\ttrain-rmse:0.688554\tval-rmse:1.923311\n"
       ]
      },
      {
       "output_type": "stream",
       "stream": "stderr",
       "text": [
        "[2414]\ttrain-rmse:0.688333\tval-rmse:1.923320\n",
        "[2415]\ttrain-rmse:0.687898\tval-rmse:1.923198\n",
        "[2416]\ttrain-rmse:0.687493\tval-rmse:1.923117\n"
       ]
      },
      {
       "output_type": "stream",
       "stream": "stderr",
       "text": [
        "[2417]\ttrain-rmse:0.687167\tval-rmse:1.923069\n",
        "[2418]\ttrain-rmse:0.686904\tval-rmse:1.923020\n",
        "[2419]\ttrain-rmse:0.686605\tval-rmse:1.922971\n"
       ]
      },
      {
       "output_type": "stream",
       "stream": "stderr",
       "text": [
        "[2420]\ttrain-rmse:0.686256\tval-rmse:1.922869\n",
        "[2421]\ttrain-rmse:0.685924\tval-rmse:1.922774\n",
        "[2422]\ttrain-rmse:0.685497\tval-rmse:1.922706\n"
       ]
      },
      {
       "output_type": "stream",
       "stream": "stderr",
       "text": [
        "[2423]\ttrain-rmse:0.685184\tval-rmse:1.922628\n",
        "[2424]\ttrain-rmse:0.684732\tval-rmse:1.922526\n",
        "[2425]\ttrain-rmse:0.684264\tval-rmse:1.922346\n"
       ]
      },
      {
       "output_type": "stream",
       "stream": "stderr",
       "text": [
        "[2426]\ttrain-rmse:0.683932\tval-rmse:1.922286\n",
        "[2427]\ttrain-rmse:0.683680\tval-rmse:1.922221\n",
        "[2428]\ttrain-rmse:0.683513\tval-rmse:1.922172\n",
        "[2429]\ttrain-rmse:0.683134\tval-rmse:1.922094\n"
       ]
      },
      {
       "output_type": "stream",
       "stream": "stderr",
       "text": [
        "[2430]\ttrain-rmse:0.682822\tval-rmse:1.922045\n",
        "[2431]\ttrain-rmse:0.682644\tval-rmse:1.922030\n",
        "[2432]\ttrain-rmse:0.682346\tval-rmse:1.921968\n"
       ]
      },
      {
       "output_type": "stream",
       "stream": "stderr",
       "text": [
        "[2433]\ttrain-rmse:0.682101\tval-rmse:1.921926\n",
        "[2434]\ttrain-rmse:0.681787\tval-rmse:1.921870\n",
        "[2435]\ttrain-rmse:0.681605\tval-rmse:1.921825\n"
       ]
      },
      {
       "output_type": "stream",
       "stream": "stderr",
       "text": [
        "[2436]\ttrain-rmse:0.681208\tval-rmse:1.921742\n",
        "[2437]\ttrain-rmse:0.680887\tval-rmse:1.921622\n",
        "[2438]\ttrain-rmse:0.680555\tval-rmse:1.921553\n"
       ]
      },
      {
       "output_type": "stream",
       "stream": "stderr",
       "text": [
        "[2439]\ttrain-rmse:0.680297\tval-rmse:1.921465\n",
        "[2440]\ttrain-rmse:0.679814\tval-rmse:1.921330\n",
        "[2441]\ttrain-rmse:0.679443\tval-rmse:1.921296\n"
       ]
      },
      {
       "output_type": "stream",
       "stream": "stderr",
       "text": [
        "[2442]\ttrain-rmse:0.679257\tval-rmse:1.921228\n",
        "[2443]\ttrain-rmse:0.679044\tval-rmse:1.921188\n",
        "[2444]\ttrain-rmse:0.678878\tval-rmse:1.921145\n"
       ]
      },
      {
       "output_type": "stream",
       "stream": "stderr",
       "text": [
        "[2445]\ttrain-rmse:0.678683\tval-rmse:1.921102\n",
        "[2446]\ttrain-rmse:0.678212\tval-rmse:1.921001\n",
        "[2447]\ttrain-rmse:0.677832\tval-rmse:1.920925\n"
       ]
      },
      {
       "output_type": "stream",
       "stream": "stderr",
       "text": [
        "[2448]\ttrain-rmse:0.677371\tval-rmse:1.920880\n",
        "[2449]\ttrain-rmse:0.676865\tval-rmse:1.920776\n",
        "[2450]\ttrain-rmse:0.676570\tval-rmse:1.920724\n"
       ]
      },
      {
       "output_type": "stream",
       "stream": "stderr",
       "text": [
        "[2451]\ttrain-rmse:0.676280\tval-rmse:1.920645\n",
        "[2452]\ttrain-rmse:0.675990\tval-rmse:1.920589\n",
        "[2453]\ttrain-rmse:0.675805\tval-rmse:1.920587\n"
       ]
      },
      {
       "output_type": "stream",
       "stream": "stderr",
       "text": [
        "[2454]\ttrain-rmse:0.675464\tval-rmse:1.920505\n",
        "[2455]\ttrain-rmse:0.675213\tval-rmse:1.920476\n",
        "[2456]\ttrain-rmse:0.674783\tval-rmse:1.920361\n"
       ]
      },
      {
       "output_type": "stream",
       "stream": "stderr",
       "text": [
        "[2457]\ttrain-rmse:0.674438\tval-rmse:1.920299\n",
        "[2458]\ttrain-rmse:0.674093\tval-rmse:1.920187\n",
        "[2459]\ttrain-rmse:0.673715\tval-rmse:1.920083\n"
       ]
      },
      {
       "output_type": "stream",
       "stream": "stderr",
       "text": [
        "[2460]\ttrain-rmse:0.673460\tval-rmse:1.920042\n",
        "[2461]\ttrain-rmse:0.673181\tval-rmse:1.919988\n",
        "[2462]\ttrain-rmse:0.672822\tval-rmse:1.919908\n"
       ]
      },
      {
       "output_type": "stream",
       "stream": "stderr",
       "text": [
        "[2463]\ttrain-rmse:0.672670\tval-rmse:1.919868\n",
        "[2464]\ttrain-rmse:0.672336\tval-rmse:1.919809\n",
        "[2465]\ttrain-rmse:0.672032\tval-rmse:1.919722\n"
       ]
      },
      {
       "output_type": "stream",
       "stream": "stderr",
       "text": [
        "[2466]\ttrain-rmse:0.671625\tval-rmse:1.919631\n",
        "[2467]\ttrain-rmse:0.671268\tval-rmse:1.919551\n",
        "[2468]\ttrain-rmse:0.670846\tval-rmse:1.919464\n"
       ]
      },
      {
       "output_type": "stream",
       "stream": "stderr",
       "text": [
        "[2469]\ttrain-rmse:0.670363\tval-rmse:1.919339\n",
        "[2470]\ttrain-rmse:0.670038\tval-rmse:1.919281\n",
        "[2471]\ttrain-rmse:0.669659\tval-rmse:1.919216\n",
        "[2472]\ttrain-rmse:0.669206\tval-rmse:1.919149\n"
       ]
      },
      {
       "output_type": "stream",
       "stream": "stderr",
       "text": [
        "[2473]\ttrain-rmse:0.668833\tval-rmse:1.919028\n",
        "[2474]\ttrain-rmse:0.668544\tval-rmse:1.918953\n",
        "[2475]\ttrain-rmse:0.668120\tval-rmse:1.918883\n"
       ]
      },
      {
       "output_type": "stream",
       "stream": "stderr",
       "text": [
        "[2476]\ttrain-rmse:0.667624\tval-rmse:1.918778\n",
        "[2477]\ttrain-rmse:0.667242\tval-rmse:1.918689\n",
        "[2478]\ttrain-rmse:0.666763\tval-rmse:1.918584\n"
       ]
      },
      {
       "output_type": "stream",
       "stream": "stderr",
       "text": [
        "[2479]\ttrain-rmse:0.666544\tval-rmse:1.918502\n",
        "[2480]\ttrain-rmse:0.666423\tval-rmse:1.918462\n",
        "[2481]\ttrain-rmse:0.666291\tval-rmse:1.918420\n",
        "[2482]\ttrain-rmse:0.665904\tval-rmse:1.918350\n"
       ]
      },
      {
       "output_type": "stream",
       "stream": "stderr",
       "text": [
        "[2483]\ttrain-rmse:0.665499\tval-rmse:1.918239\n",
        "[2484]\ttrain-rmse:0.665157\tval-rmse:1.918189\n",
        "[2485]\ttrain-rmse:0.664904\tval-rmse:1.918155\n"
       ]
      },
      {
       "output_type": "stream",
       "stream": "stderr",
       "text": [
        "[2486]\ttrain-rmse:0.664495\tval-rmse:1.918061\n",
        "[2487]\ttrain-rmse:0.664115\tval-rmse:1.917958\n",
        "[2488]\ttrain-rmse:0.663897\tval-rmse:1.917928\n"
       ]
      },
      {
       "output_type": "stream",
       "stream": "stderr",
       "text": [
        "[2489]\ttrain-rmse:0.663456\tval-rmse:1.917859\n",
        "[2490]\ttrain-rmse:0.663077\tval-rmse:1.917833\n",
        "[2491]\ttrain-rmse:0.662723\tval-rmse:1.917757\n"
       ]
      },
      {
       "output_type": "stream",
       "stream": "stderr",
       "text": [
        "[2492]\ttrain-rmse:0.662509\tval-rmse:1.917727\n",
        "[2493]\ttrain-rmse:0.662260\tval-rmse:1.917645\n",
        "[2494]\ttrain-rmse:0.662065\tval-rmse:1.917607\n",
        "[2495]\ttrain-rmse:0.661596\tval-rmse:1.917492\n"
       ]
      },
      {
       "output_type": "stream",
       "stream": "stderr",
       "text": [
        "[2496]\ttrain-rmse:0.661291\tval-rmse:1.917462\n",
        "[2497]\ttrain-rmse:0.661148\tval-rmse:1.917430\n",
        "[2498]\ttrain-rmse:0.660979\tval-rmse:1.917385\n"
       ]
      },
      {
       "output_type": "stream",
       "stream": "stderr",
       "text": [
        "[2499]\ttrain-rmse:0.660680\tval-rmse:1.917318\n",
        "[2500]\ttrain-rmse:0.660392\tval-rmse:1.917230\n",
        "[2501]\ttrain-rmse:0.660007\tval-rmse:1.917170\n"
       ]
      },
      {
       "output_type": "stream",
       "stream": "stderr",
       "text": [
        "[2502]\ttrain-rmse:0.659628\tval-rmse:1.917123\n",
        "[2503]\ttrain-rmse:0.659331\tval-rmse:1.917059\n",
        "[2504]\ttrain-rmse:0.658967\tval-rmse:1.916952\n"
       ]
      },
      {
       "output_type": "stream",
       "stream": "stderr",
       "text": [
        "[2505]\ttrain-rmse:0.658532\tval-rmse:1.916846\n",
        "[2506]\ttrain-rmse:0.658117\tval-rmse:1.916721\n",
        "[2507]\ttrain-rmse:0.657781\tval-rmse:1.916601\n"
       ]
      },
      {
       "output_type": "stream",
       "stream": "stderr",
       "text": [
        "[2508]\ttrain-rmse:0.657472\tval-rmse:1.916553\n",
        "[2509]\ttrain-rmse:0.657095\tval-rmse:1.916443\n",
        "[2510]\ttrain-rmse:0.656843\tval-rmse:1.916382\n"
       ]
      },
      {
       "output_type": "stream",
       "stream": "stderr",
       "text": [
        "[2511]\ttrain-rmse:0.656494\tval-rmse:1.916277\n",
        "[2512]\ttrain-rmse:0.656289\tval-rmse:1.916225\n",
        "[2513]\ttrain-rmse:0.655957\tval-rmse:1.916121\n"
       ]
      },
      {
       "output_type": "stream",
       "stream": "stderr",
       "text": [
        "[2514]\ttrain-rmse:0.655688\tval-rmse:1.916067\n",
        "[2515]\ttrain-rmse:0.655442\tval-rmse:1.916024\n",
        "[2516]\ttrain-rmse:0.655105\tval-rmse:1.915966\n"
       ]
      },
      {
       "output_type": "stream",
       "stream": "stderr",
       "text": [
        "[2517]\ttrain-rmse:0.654810\tval-rmse:1.915914\n",
        "[2518]\ttrain-rmse:0.654550\tval-rmse:1.915871\n",
        "[2519]\ttrain-rmse:0.654245\tval-rmse:1.915823\n"
       ]
      },
      {
       "output_type": "stream",
       "stream": "stderr",
       "text": [
        "[2520]\ttrain-rmse:0.654055\tval-rmse:1.915805\n",
        "[2521]\ttrain-rmse:0.653705\tval-rmse:1.915700\n",
        "[2522]\ttrain-rmse:0.653499\tval-rmse:1.915649\n"
       ]
      },
      {
       "output_type": "stream",
       "stream": "stderr",
       "text": [
        "[2523]\ttrain-rmse:0.653248\tval-rmse:1.915594\n",
        "[2524]\ttrain-rmse:0.653009\tval-rmse:1.915550\n",
        "[2525]\ttrain-rmse:0.652814\tval-rmse:1.915497\n",
        "[2526]\ttrain-rmse:0.652419\tval-rmse:1.915432\n"
       ]
      },
      {
       "output_type": "stream",
       "stream": "stderr",
       "text": [
        "[2527]\ttrain-rmse:0.652056\tval-rmse:1.915371\n",
        "[2528]\ttrain-rmse:0.651798\tval-rmse:1.915253\n",
        "[2529]\ttrain-rmse:0.651375\tval-rmse:1.915137\n",
        "[2530]\ttrain-rmse:0.651104\tval-rmse:1.915071\n"
       ]
      },
      {
       "output_type": "stream",
       "stream": "stderr",
       "text": [
        "[2531]\ttrain-rmse:0.650825\tval-rmse:1.915034\n",
        "[2532]\ttrain-rmse:0.650687\tval-rmse:1.915009\n",
        "[2533]\ttrain-rmse:0.650431\tval-rmse:1.914984\n",
        "[2534]\ttrain-rmse:0.650173\tval-rmse:1.914938\n"
       ]
      },
      {
       "output_type": "stream",
       "stream": "stderr",
       "text": [
        "[2535]\ttrain-rmse:0.649702\tval-rmse:1.914870\n",
        "[2536]\ttrain-rmse:0.649390\tval-rmse:1.914822\n",
        "[2537]\ttrain-rmse:0.649146\tval-rmse:1.914779\n",
        "[2538]\ttrain-rmse:0.648830\tval-rmse:1.914721\n"
       ]
      },
      {
       "output_type": "stream",
       "stream": "stderr",
       "text": [
        "[2539]\ttrain-rmse:0.648364\tval-rmse:1.914643\n",
        "[2540]\ttrain-rmse:0.648092\tval-rmse:1.914588\n",
        "[2541]\ttrain-rmse:0.647738\tval-rmse:1.914502\n"
       ]
      },
      {
       "output_type": "stream",
       "stream": "stderr",
       "text": [
        "[2542]\ttrain-rmse:0.647458\tval-rmse:1.914459\n",
        "[2543]\ttrain-rmse:0.647104\tval-rmse:1.914397\n",
        "[2544]\ttrain-rmse:0.646776\tval-rmse:1.914337\n"
       ]
      },
      {
       "output_type": "stream",
       "stream": "stderr",
       "text": [
        "[2545]\ttrain-rmse:0.646636\tval-rmse:1.914289\n",
        "[2546]\ttrain-rmse:0.646305\tval-rmse:1.914219\n",
        "[2547]\ttrain-rmse:0.646027\tval-rmse:1.914172\n"
       ]
      },
      {
       "output_type": "stream",
       "stream": "stderr",
       "text": [
        "[2548]\ttrain-rmse:0.645717\tval-rmse:1.914121\n",
        "[2549]\ttrain-rmse:0.645431\tval-rmse:1.914040\n",
        "[2550]\ttrain-rmse:0.645055\tval-rmse:1.913944\n"
       ]
      },
      {
       "output_type": "stream",
       "stream": "stderr",
       "text": [
        "[2551]\ttrain-rmse:0.644689\tval-rmse:1.913902\n",
        "[2552]\ttrain-rmse:0.644142\tval-rmse:1.913772\n",
        "[2553]\ttrain-rmse:0.643645\tval-rmse:1.913742\n"
       ]
      },
      {
       "output_type": "stream",
       "stream": "stderr",
       "text": [
        "[2554]\ttrain-rmse:0.643366\tval-rmse:1.913695\n",
        "[2555]\ttrain-rmse:0.642848\tval-rmse:1.913569\n",
        "[2556]\ttrain-rmse:0.642558\tval-rmse:1.913514\n"
       ]
      },
      {
       "output_type": "stream",
       "stream": "stderr",
       "text": [
        "[2557]\ttrain-rmse:0.642412\tval-rmse:1.913498\n",
        "[2558]\ttrain-rmse:0.642120\tval-rmse:1.913393\n",
        "[2559]\ttrain-rmse:0.641656\tval-rmse:1.913293\n"
       ]
      },
      {
       "output_type": "stream",
       "stream": "stderr",
       "text": [
        "[2560]\ttrain-rmse:0.641313\tval-rmse:1.913241\n",
        "[2561]\ttrain-rmse:0.640902\tval-rmse:1.913133\n",
        "[2562]\ttrain-rmse:0.640682\tval-rmse:1.913055\n",
        "[2563]\ttrain-rmse:0.640570\tval-rmse:1.913023\n"
       ]
      },
      {
       "output_type": "stream",
       "stream": "stderr",
       "text": [
        "[2564]\ttrain-rmse:0.640216\tval-rmse:1.912929\n",
        "[2565]\ttrain-rmse:0.639924\tval-rmse:1.912872\n",
        "[2566]\ttrain-rmse:0.639532\tval-rmse:1.912775\n"
       ]
      },
      {
       "output_type": "stream",
       "stream": "stderr",
       "text": [
        "[2567]\ttrain-rmse:0.639167\tval-rmse:1.912710\n",
        "[2568]\ttrain-rmse:0.638869\tval-rmse:1.912679\n",
        "[2569]\ttrain-rmse:0.638623\tval-rmse:1.912639\n"
       ]
      },
      {
       "output_type": "stream",
       "stream": "stderr",
       "text": [
        "[2570]\ttrain-rmse:0.638260\tval-rmse:1.912567\n",
        "[2571]\ttrain-rmse:0.637819\tval-rmse:1.912445\n",
        "[2572]\ttrain-rmse:0.637640\tval-rmse:1.912387\n"
       ]
      },
      {
       "output_type": "stream",
       "stream": "stderr",
       "text": [
        "[2573]\ttrain-rmse:0.637401\tval-rmse:1.912329\n",
        "[2574]\ttrain-rmse:0.637035\tval-rmse:1.912234\n",
        "[2575]\ttrain-rmse:0.636521\tval-rmse:1.912125\n"
       ]
      },
      {
       "output_type": "stream",
       "stream": "stderr",
       "text": [
        "[2576]\ttrain-rmse:0.636191\tval-rmse:1.912050\n",
        "[2577]\ttrain-rmse:0.636033\tval-rmse:1.911992\n",
        "[2578]\ttrain-rmse:0.635648\tval-rmse:1.911924\n"
       ]
      },
      {
       "output_type": "stream",
       "stream": "stderr",
       "text": [
        "[2579]\ttrain-rmse:0.635322\tval-rmse:1.911866\n",
        "[2580]\ttrain-rmse:0.635009\tval-rmse:1.911786\n",
        "[2581]\ttrain-rmse:0.634782\tval-rmse:1.911738\n"
       ]
      },
      {
       "output_type": "stream",
       "stream": "stderr",
       "text": [
        "[2582]\ttrain-rmse:0.634545\tval-rmse:1.911690\n",
        "[2583]\ttrain-rmse:0.634321\tval-rmse:1.911632\n",
        "[2584]\ttrain-rmse:0.633918\tval-rmse:1.911521\n"
       ]
      },
      {
       "output_type": "stream",
       "stream": "stderr",
       "text": [
        "[2585]\ttrain-rmse:0.633601\tval-rmse:1.911426\n",
        "[2586]\ttrain-rmse:0.633190\tval-rmse:1.911323\n",
        "[2587]\ttrain-rmse:0.632854\tval-rmse:1.911225\n"
       ]
      },
      {
       "output_type": "stream",
       "stream": "stderr",
       "text": [
        "[2588]\ttrain-rmse:0.632554\tval-rmse:1.911172\n",
        "[2589]\ttrain-rmse:0.632137\tval-rmse:1.911041\n",
        "[2590]\ttrain-rmse:0.631713\tval-rmse:1.910900\n"
       ]
      },
      {
       "output_type": "stream",
       "stream": "stderr",
       "text": [
        "[2591]\ttrain-rmse:0.631455\tval-rmse:1.910856\n",
        "[2592]\ttrain-rmse:0.631165\tval-rmse:1.910793\n",
        "[2593]\ttrain-rmse:0.630949\tval-rmse:1.910740\n",
        "[2594]\ttrain-rmse:0.630590\tval-rmse:1.910666\n"
       ]
      },
      {
       "output_type": "stream",
       "stream": "stderr",
       "text": [
        "[2595]\ttrain-rmse:0.630127\tval-rmse:1.910566\n",
        "[2596]\ttrain-rmse:0.629725\tval-rmse:1.910459\n",
        "[2597]\ttrain-rmse:0.629498\tval-rmse:1.910419\n"
       ]
      },
      {
       "output_type": "stream",
       "stream": "stderr",
       "text": [
        "[2598]\ttrain-rmse:0.629141\tval-rmse:1.910376\n",
        "[2599]\ttrain-rmse:0.628959\tval-rmse:1.910348\n",
        "[2600]\ttrain-rmse:0.628727\tval-rmse:1.910314\n"
       ]
      },
      {
       "output_type": "stream",
       "stream": "stderr",
       "text": [
        "[2601]\ttrain-rmse:0.628405\tval-rmse:1.910253\n",
        "[2602]\ttrain-rmse:0.628193\tval-rmse:1.910223\n",
        "[2603]\ttrain-rmse:0.627931\tval-rmse:1.910160\n",
        "[2604]\ttrain-rmse:0.627610\tval-rmse:1.910080\n"
       ]
      },
      {
       "output_type": "stream",
       "stream": "stderr",
       "text": [
        "[2605]\ttrain-rmse:0.627137\tval-rmse:1.909987\n",
        "[2606]\ttrain-rmse:0.626786\tval-rmse:1.909876\n",
        "[2607]\ttrain-rmse:0.626402\tval-rmse:1.909786\n"
       ]
      },
      {
       "output_type": "stream",
       "stream": "stderr",
       "text": [
        "[2608]\ttrain-rmse:0.626299\tval-rmse:1.909745\n",
        "[2609]\ttrain-rmse:0.625974\tval-rmse:1.909721\n",
        "[2610]\ttrain-rmse:0.625621\tval-rmse:1.909696\n"
       ]
      },
      {
       "output_type": "stream",
       "stream": "stderr",
       "text": [
        "[2611]\ttrain-rmse:0.625343\tval-rmse:1.909603\n",
        "[2612]\ttrain-rmse:0.625152\tval-rmse:1.909569\n",
        "[2613]\ttrain-rmse:0.624887\tval-rmse:1.909511\n"
       ]
      },
      {
       "output_type": "stream",
       "stream": "stderr",
       "text": [
        "[2614]\ttrain-rmse:0.624640\tval-rmse:1.909445\n",
        "[2615]\ttrain-rmse:0.624256\tval-rmse:1.909357\n",
        "[2616]\ttrain-rmse:0.623889\tval-rmse:1.909306\n"
       ]
      },
      {
       "output_type": "stream",
       "stream": "stderr",
       "text": [
        "[2617]\ttrain-rmse:0.623651\tval-rmse:1.909298\n",
        "[2618]\ttrain-rmse:0.623281\tval-rmse:1.909210\n",
        "[2619]\ttrain-rmse:0.622951\tval-rmse:1.909132\n"
       ]
      },
      {
       "output_type": "stream",
       "stream": "stderr",
       "text": [
        "[2620]\ttrain-rmse:0.622699\tval-rmse:1.909087\n",
        "[2621]\ttrain-rmse:0.622422\tval-rmse:1.909034\n",
        "[2622]\ttrain-rmse:0.622179\tval-rmse:1.908992\n"
       ]
      },
      {
       "output_type": "stream",
       "stream": "stderr",
       "text": [
        "[2623]\ttrain-rmse:0.621713\tval-rmse:1.908879\n",
        "[2624]\ttrain-rmse:0.621216\tval-rmse:1.908751\n",
        "[2625]\ttrain-rmse:0.620962\tval-rmse:1.908697\n",
        "[2626]\ttrain-rmse:0.620670\tval-rmse:1.908653\n"
       ]
      },
      {
       "output_type": "stream",
       "stream": "stderr",
       "text": [
        "[2627]\ttrain-rmse:0.620322\tval-rmse:1.908589\n",
        "[2628]\ttrain-rmse:0.619916\tval-rmse:1.908510\n",
        "[2629]\ttrain-rmse:0.619617\tval-rmse:1.908447\n"
       ]
      },
      {
       "output_type": "stream",
       "stream": "stderr",
       "text": [
        "[2630]\ttrain-rmse:0.619432\tval-rmse:1.908419\n",
        "[2631]\ttrain-rmse:0.619123\tval-rmse:1.908369\n",
        "[2632]\ttrain-rmse:0.618895\tval-rmse:1.908334\n"
       ]
      },
      {
       "output_type": "stream",
       "stream": "stderr",
       "text": [
        "[2633]\ttrain-rmse:0.618623\tval-rmse:1.908266\n",
        "[2634]\ttrain-rmse:0.618278\tval-rmse:1.908277\n",
        "[2635]\ttrain-rmse:0.617947\tval-rmse:1.908215\n"
       ]
      },
      {
       "output_type": "stream",
       "stream": "stderr",
       "text": [
        "[2636]\ttrain-rmse:0.617557\tval-rmse:1.908098\n",
        "[2637]\ttrain-rmse:0.617322\tval-rmse:1.908090\n",
        "[2638]\ttrain-rmse:0.617034\tval-rmse:1.908029\n"
       ]
      },
      {
       "output_type": "stream",
       "stream": "stderr",
       "text": [
        "[2639]\ttrain-rmse:0.616708\tval-rmse:1.907949\n",
        "[2640]\ttrain-rmse:0.616505\tval-rmse:1.907917\n",
        "[2641]\ttrain-rmse:0.616307\tval-rmse:1.907855\n"
       ]
      },
      {
       "output_type": "stream",
       "stream": "stderr",
       "text": [
        "[2642]\ttrain-rmse:0.616002\tval-rmse:1.907806\n",
        "[2643]\ttrain-rmse:0.615733\tval-rmse:1.907737\n",
        "[2644]\ttrain-rmse:0.615384\tval-rmse:1.907679\n"
       ]
      },
      {
       "output_type": "stream",
       "stream": "stderr",
       "text": [
        "[2645]\ttrain-rmse:0.615213\tval-rmse:1.907621\n",
        "[2646]\ttrain-rmse:0.615016\tval-rmse:1.907586\n",
        "[2647]\ttrain-rmse:0.614630\tval-rmse:1.907468\n"
       ]
      },
      {
       "output_type": "stream",
       "stream": "stderr",
       "text": [
        "[2648]\ttrain-rmse:0.614279\tval-rmse:1.907364\n",
        "[2649]\ttrain-rmse:0.613999\tval-rmse:1.907297\n",
        "[2650]\ttrain-rmse:0.613678\tval-rmse:1.907244\n"
       ]
      },
      {
       "output_type": "stream",
       "stream": "stderr",
       "text": [
        "[2651]\ttrain-rmse:0.613316\tval-rmse:1.907205\n",
        "[2652]\ttrain-rmse:0.613077\tval-rmse:1.907131\n",
        "[2653]\ttrain-rmse:0.612714\tval-rmse:1.907043\n"
       ]
      },
      {
       "output_type": "stream",
       "stream": "stderr",
       "text": [
        "[2654]\ttrain-rmse:0.612499\tval-rmse:1.907012\n",
        "[2655]\ttrain-rmse:0.612129\tval-rmse:1.906909\n",
        "[2656]\ttrain-rmse:0.611774\tval-rmse:1.906833\n"
       ]
      },
      {
       "output_type": "stream",
       "stream": "stderr",
       "text": [
        "[2657]\ttrain-rmse:0.611491\tval-rmse:1.906764\n",
        "[2658]\ttrain-rmse:0.611247\tval-rmse:1.906708\n",
        "[2659]\ttrain-rmse:0.610808\tval-rmse:1.906553\n"
       ]
      },
      {
       "output_type": "stream",
       "stream": "stderr",
       "text": [
        "[2660]\ttrain-rmse:0.610389\tval-rmse:1.906465\n",
        "[2661]\ttrain-rmse:0.610051\tval-rmse:1.906402\n",
        "[2662]\ttrain-rmse:0.609736\tval-rmse:1.906351\n"
       ]
      },
      {
       "output_type": "stream",
       "stream": "stderr",
       "text": [
        "[2663]\ttrain-rmse:0.609349\tval-rmse:1.906262\n",
        "[2664]\ttrain-rmse:0.609099\tval-rmse:1.906206\n",
        "[2665]\ttrain-rmse:0.608864\tval-rmse:1.906143\n"
       ]
      },
      {
       "output_type": "stream",
       "stream": "stderr",
       "text": [
        "[2666]\ttrain-rmse:0.608537\tval-rmse:1.906103\n",
        "[2667]\ttrain-rmse:0.608233\tval-rmse:1.906051\n",
        "[2668]\ttrain-rmse:0.607905\tval-rmse:1.906008\n"
       ]
      },
      {
       "output_type": "stream",
       "stream": "stderr",
       "text": [
        "[2669]\ttrain-rmse:0.607746\tval-rmse:1.905985\n",
        "[2670]\ttrain-rmse:0.607358\tval-rmse:1.905905\n",
        "[2671]\ttrain-rmse:0.606906\tval-rmse:1.905822\n"
       ]
      },
      {
       "output_type": "stream",
       "stream": "stderr",
       "text": [
        "[2672]\ttrain-rmse:0.606465\tval-rmse:1.905737\n",
        "[2673]\ttrain-rmse:0.606082\tval-rmse:1.905690\n",
        "[2674]\ttrain-rmse:0.605645\tval-rmse:1.905598\n"
       ]
      },
      {
       "output_type": "stream",
       "stream": "stderr",
       "text": [
        "[2675]\ttrain-rmse:0.605368\tval-rmse:1.905523\n",
        "[2676]\ttrain-rmse:0.605023\tval-rmse:1.905481\n",
        "[2677]\ttrain-rmse:0.604780\tval-rmse:1.905431\n"
       ]
      },
      {
       "output_type": "stream",
       "stream": "stderr",
       "text": [
        "[2678]\ttrain-rmse:0.604345\tval-rmse:1.905327\n",
        "[2679]\ttrain-rmse:0.603950\tval-rmse:1.905234\n",
        "[2680]\ttrain-rmse:0.603741\tval-rmse:1.905224\n"
       ]
      },
      {
       "output_type": "stream",
       "stream": "stderr",
       "text": [
        "[2681]\ttrain-rmse:0.603427\tval-rmse:1.905186\n",
        "[2682]\ttrain-rmse:0.603177\tval-rmse:1.905119\n",
        "[2683]\ttrain-rmse:0.602911\tval-rmse:1.905049\n",
        "[2684]\ttrain-rmse:0.602619\tval-rmse:1.904993\n"
       ]
      },
      {
       "output_type": "stream",
       "stream": "stderr",
       "text": [
        "[2685]\ttrain-rmse:0.602396\tval-rmse:1.904956\n",
        "[2686]\ttrain-rmse:0.602015\tval-rmse:1.904876\n",
        "[2687]\ttrain-rmse:0.601875\tval-rmse:1.904819\n"
       ]
      },
      {
       "output_type": "stream",
       "stream": "stderr",
       "text": [
        "[2688]\ttrain-rmse:0.601480\tval-rmse:1.904738\n",
        "[2689]\ttrain-rmse:0.601143\tval-rmse:1.904647\n"
       ]
      },
      {
       "output_type": "stream",
       "stream": "stderr",
       "text": [
        "[2690]\ttrain-rmse:0.600777\tval-rmse:1.904522\n",
        "[2691]\ttrain-rmse:0.600580\tval-rmse:1.904488\n",
        "[2692]\ttrain-rmse:0.600313\tval-rmse:1.904431\n"
       ]
      },
      {
       "output_type": "stream",
       "stream": "stderr",
       "text": [
        "[2693]\ttrain-rmse:0.599962\tval-rmse:1.904352\n",
        "[2694]\ttrain-rmse:0.599500\tval-rmse:1.904250\n",
        "[2695]\ttrain-rmse:0.599147\tval-rmse:1.904204\n"
       ]
      },
      {
       "output_type": "stream",
       "stream": "stderr",
       "text": [
        "[2696]\ttrain-rmse:0.598995\tval-rmse:1.904168\n",
        "[2697]\ttrain-rmse:0.598588\tval-rmse:1.904077\n"
       ]
      },
      {
       "output_type": "stream",
       "stream": "stderr",
       "text": [
        "[2698]\ttrain-rmse:0.598214\tval-rmse:1.904009\n",
        "[2699]\ttrain-rmse:0.597926\tval-rmse:1.903924\n",
        "[2700]\ttrain-rmse:0.597699\tval-rmse:1.903883\n",
        "[2701]\ttrain-rmse:0.597285\tval-rmse:1.903836\n"
       ]
      },
      {
       "output_type": "stream",
       "stream": "stderr",
       "text": [
        "[2702]\ttrain-rmse:0.597026\tval-rmse:1.903779\n",
        "[2703]\ttrain-rmse:0.596876\tval-rmse:1.903787\n",
        "[2704]\ttrain-rmse:0.596566\tval-rmse:1.903696\n"
       ]
      },
      {
       "output_type": "stream",
       "stream": "stderr",
       "text": [
        "[2705]\ttrain-rmse:0.596336\tval-rmse:1.903645\n",
        "[2706]\ttrain-rmse:0.596081\tval-rmse:1.903575\n",
        "[2707]\ttrain-rmse:0.595687\tval-rmse:1.903525\n"
       ]
      },
      {
       "output_type": "stream",
       "stream": "stderr",
       "text": [
        "[2708]\ttrain-rmse:0.595285\tval-rmse:1.903443\n",
        "[2709]\ttrain-rmse:0.595128\tval-rmse:1.903418\n",
        "[2710]\ttrain-rmse:0.594761\tval-rmse:1.903332\n"
       ]
      },
      {
       "output_type": "stream",
       "stream": "stderr",
       "text": [
        "[2711]\ttrain-rmse:0.594638\tval-rmse:1.903284\n",
        "[2712]\ttrain-rmse:0.594192\tval-rmse:1.903190\n",
        "[2713]\ttrain-rmse:0.593940\tval-rmse:1.903140\n"
       ]
      },
      {
       "output_type": "stream",
       "stream": "stderr",
       "text": [
        "[2714]\ttrain-rmse:0.593612\tval-rmse:1.903075\n",
        "[2715]\ttrain-rmse:0.593295\tval-rmse:1.902971\n",
        "[2716]\ttrain-rmse:0.592974\tval-rmse:1.902896\n"
       ]
      },
      {
       "output_type": "stream",
       "stream": "stderr",
       "text": [
        "[2717]\ttrain-rmse:0.592548\tval-rmse:1.902828\n",
        "[2718]\ttrain-rmse:0.592263\tval-rmse:1.902769\n",
        "[2719]\ttrain-rmse:0.591978\tval-rmse:1.902705\n"
       ]
      },
      {
       "output_type": "stream",
       "stream": "stderr",
       "text": [
        "[2720]\ttrain-rmse:0.591883\tval-rmse:1.902667\n",
        "[2721]\ttrain-rmse:0.591750\tval-rmse:1.902644\n",
        "[2722]\ttrain-rmse:0.591427\tval-rmse:1.902586\n"
       ]
      },
      {
       "output_type": "stream",
       "stream": "stderr",
       "text": [
        "[2723]\ttrain-rmse:0.591236\tval-rmse:1.902546\n",
        "[2724]\ttrain-rmse:0.590982\tval-rmse:1.902524\n",
        "[2725]\ttrain-rmse:0.590651\tval-rmse:1.902430\n"
       ]
      },
      {
       "output_type": "stream",
       "stream": "stderr",
       "text": [
        "[2726]\ttrain-rmse:0.590417\tval-rmse:1.902382\n",
        "[2727]\ttrain-rmse:0.590253\tval-rmse:1.902381\n",
        "[2728]\ttrain-rmse:0.589847\tval-rmse:1.902309\n",
        "[2729]\ttrain-rmse:0.589586\tval-rmse:1.902246\n"
       ]
      },
      {
       "output_type": "stream",
       "stream": "stderr",
       "text": [
        "[2730]\ttrain-rmse:0.589215\tval-rmse:1.902156\n",
        "[2731]\ttrain-rmse:0.588828\tval-rmse:1.902117\n",
        "[2732]\ttrain-rmse:0.588502\tval-rmse:1.902034\n"
       ]
      },
      {
       "output_type": "stream",
       "stream": "stderr",
       "text": [
        "[2733]\ttrain-rmse:0.588090\tval-rmse:1.901954\n",
        "[2734]\ttrain-rmse:0.587944\tval-rmse:1.901899\n",
        "[2735]\ttrain-rmse:0.587808\tval-rmse:1.901886\n"
       ]
      },
      {
       "output_type": "stream",
       "stream": "stderr",
       "text": [
        "[2736]\ttrain-rmse:0.587669\tval-rmse:1.901864\n",
        "[2737]\ttrain-rmse:0.587416\tval-rmse:1.901821\n",
        "[2738]\ttrain-rmse:0.587107\tval-rmse:1.901762\n"
       ]
      },
      {
       "output_type": "stream",
       "stream": "stderr",
       "text": [
        "[2739]\ttrain-rmse:0.586889\tval-rmse:1.901731\n",
        "[2740]\ttrain-rmse:0.586643\tval-rmse:1.901684\n",
        "[2741]\ttrain-rmse:0.586292\tval-rmse:1.901577\n"
       ]
      },
      {
       "output_type": "stream",
       "stream": "stderr",
       "text": [
        "[2742]\ttrain-rmse:0.586033\tval-rmse:1.901574\n",
        "[2743]\ttrain-rmse:0.585716\tval-rmse:1.901495\n",
        "[2744]\ttrain-rmse:0.585338\tval-rmse:1.901410\n"
       ]
      },
      {
       "output_type": "stream",
       "stream": "stderr",
       "text": [
        "[2745]\ttrain-rmse:0.585057\tval-rmse:1.901354\n",
        "[2746]\ttrain-rmse:0.584869\tval-rmse:1.901346\n",
        "[2747]\ttrain-rmse:0.584555\tval-rmse:1.901267\n"
       ]
      },
      {
       "output_type": "stream",
       "stream": "stderr",
       "text": [
        "[2748]\ttrain-rmse:0.584241\tval-rmse:1.901234\n",
        "[2749]\ttrain-rmse:0.584096\tval-rmse:1.901201\n",
        "[2750]\ttrain-rmse:0.583808\tval-rmse:1.901123\n"
       ]
      },
      {
       "output_type": "stream",
       "stream": "stderr",
       "text": [
        "[2751]\ttrain-rmse:0.583581\tval-rmse:1.901098\n",
        "[2752]\ttrain-rmse:0.583297\tval-rmse:1.901029\n",
        "[2753]\ttrain-rmse:0.583101\tval-rmse:1.901004\n"
       ]
      },
      {
       "output_type": "stream",
       "stream": "stderr",
       "text": [
        "[2754]\ttrain-rmse:0.582939\tval-rmse:1.900973\n",
        "[2755]\ttrain-rmse:0.582610\tval-rmse:1.900891\n",
        "[2756]\ttrain-rmse:0.582329\tval-rmse:1.900859\n"
       ]
      },
      {
       "output_type": "stream",
       "stream": "stderr",
       "text": [
        "[2757]\ttrain-rmse:0.582002\tval-rmse:1.900801\n",
        "[2758]\ttrain-rmse:0.581619\tval-rmse:1.900713\n",
        "[2759]\ttrain-rmse:0.581424\tval-rmse:1.900682\n"
       ]
      },
      {
       "output_type": "stream",
       "stream": "stderr",
       "text": [
        "[2760]\ttrain-rmse:0.581097\tval-rmse:1.900580\n",
        "[2761]\ttrain-rmse:0.580802\tval-rmse:1.900544\n",
        "[2762]\ttrain-rmse:0.580607\tval-rmse:1.900501\n"
       ]
      },
      {
       "output_type": "stream",
       "stream": "stderr",
       "text": [
        "[2763]\ttrain-rmse:0.580428\tval-rmse:1.900452\n",
        "[2764]\ttrain-rmse:0.580190\tval-rmse:1.900435\n",
        "[2765]\ttrain-rmse:0.579867\tval-rmse:1.900357\n"
       ]
      },
      {
       "output_type": "stream",
       "stream": "stderr",
       "text": [
        "[2766]\ttrain-rmse:0.579748\tval-rmse:1.900312\n",
        "[2767]\ttrain-rmse:0.579529\tval-rmse:1.900262\n",
        "[2768]\ttrain-rmse:0.579349\tval-rmse:1.900270\n"
       ]
      },
      {
       "output_type": "stream",
       "stream": "stderr",
       "text": [
        "[2769]\ttrain-rmse:0.579007\tval-rmse:1.900224\n",
        "[2770]\ttrain-rmse:0.578735\tval-rmse:1.900149\n",
        "[2771]\ttrain-rmse:0.578549\tval-rmse:1.900098\n"
       ]
      },
      {
       "output_type": "stream",
       "stream": "stderr",
       "text": [
        "[2772]\ttrain-rmse:0.578192\tval-rmse:1.900054\n",
        "[2773]\ttrain-rmse:0.577882\tval-rmse:1.899987\n",
        "[2774]\ttrain-rmse:0.577650\tval-rmse:1.899966\n"
       ]
      },
      {
       "output_type": "stream",
       "stream": "stderr",
       "text": [
        "[2775]\ttrain-rmse:0.577312\tval-rmse:1.899862\n",
        "[2776]\ttrain-rmse:0.576967\tval-rmse:1.899790\n",
        "[2777]\ttrain-rmse:0.576804\tval-rmse:1.899774\n",
        "[2778]\ttrain-rmse:0.576574\tval-rmse:1.899731\n"
       ]
      },
      {
       "output_type": "stream",
       "stream": "stderr",
       "text": [
        "[2779]\ttrain-rmse:0.576357\tval-rmse:1.899681\n",
        "[2780]\ttrain-rmse:0.576089\tval-rmse:1.899660\n",
        "[2781]\ttrain-rmse:0.575809\tval-rmse:1.899632\n"
       ]
      },
      {
       "output_type": "stream",
       "stream": "stderr",
       "text": [
        "[2782]\ttrain-rmse:0.575434\tval-rmse:1.899561\n",
        "[2783]\ttrain-rmse:0.575056\tval-rmse:1.899511\n",
        "[2784]\ttrain-rmse:0.574677\tval-rmse:1.899378\n"
       ]
      },
      {
       "output_type": "stream",
       "stream": "stderr",
       "text": [
        "[2785]\ttrain-rmse:0.574383\tval-rmse:1.899346\n",
        "[2786]\ttrain-rmse:0.574264\tval-rmse:1.899315\n",
        "[2787]\ttrain-rmse:0.574113\tval-rmse:1.899309\n"
       ]
      },
      {
       "output_type": "stream",
       "stream": "stderr",
       "text": [
        "[2788]\ttrain-rmse:0.573800\tval-rmse:1.899288\n",
        "[2789]\ttrain-rmse:0.573523\tval-rmse:1.899237\n",
        "[2790]\ttrain-rmse:0.573218\tval-rmse:1.899193\n"
       ]
      },
      {
       "output_type": "stream",
       "stream": "stderr",
       "text": [
        "[2791]\ttrain-rmse:0.573001\tval-rmse:1.899122\n",
        "[2792]\ttrain-rmse:0.572643\tval-rmse:1.899075\n",
        "[2793]\ttrain-rmse:0.572315\tval-rmse:1.899030\n"
       ]
      },
      {
       "output_type": "stream",
       "stream": "stderr",
       "text": [
        "[2794]\ttrain-rmse:0.572206\tval-rmse:1.899007\n",
        "[2795]\ttrain-rmse:0.571908\tval-rmse:1.898965\n",
        "[2796]\ttrain-rmse:0.571631\tval-rmse:1.898906\n"
       ]
      },
      {
       "output_type": "stream",
       "stream": "stderr",
       "text": [
        "[2797]\ttrain-rmse:0.571364\tval-rmse:1.898859\n",
        "[2798]\ttrain-rmse:0.571138\tval-rmse:1.898785\n",
        "[2799]\ttrain-rmse:0.570801\tval-rmse:1.898702\n"
       ]
      },
      {
       "output_type": "stream",
       "stream": "stderr",
       "text": [
        "[2800]\ttrain-rmse:0.570568\tval-rmse:1.898656\n",
        "[2801]\ttrain-rmse:0.570178\tval-rmse:1.898587\n",
        "[2802]\ttrain-rmse:0.569979\tval-rmse:1.898566\n"
       ]
      },
      {
       "output_type": "stream",
       "stream": "stderr",
       "text": [
        "[2803]\ttrain-rmse:0.569720\tval-rmse:1.898482\n",
        "[2804]\ttrain-rmse:0.569404\tval-rmse:1.898462\n",
        "[2805]\ttrain-rmse:0.569082\tval-rmse:1.898394\n"
       ]
      },
      {
       "output_type": "stream",
       "stream": "stderr",
       "text": [
        "[2806]\ttrain-rmse:0.568797\tval-rmse:1.898327\n",
        "[2807]\ttrain-rmse:0.568433\tval-rmse:1.898274\n",
        "[2808]\ttrain-rmse:0.568129\tval-rmse:1.898228\n"
       ]
      },
      {
       "output_type": "stream",
       "stream": "stderr",
       "text": [
        "[2809]\ttrain-rmse:0.567911\tval-rmse:1.898205\n",
        "[2810]\ttrain-rmse:0.567598\tval-rmse:1.898140\n",
        "[2811]\ttrain-rmse:0.567362\tval-rmse:1.898077\n"
       ]
      },
      {
       "output_type": "stream",
       "stream": "stderr",
       "text": [
        "[2812]\ttrain-rmse:0.567059\tval-rmse:1.898010\n",
        "[2813]\ttrain-rmse:0.566821\tval-rmse:1.897967\n",
        "[2814]\ttrain-rmse:0.566702\tval-rmse:1.897929\n"
       ]
      },
      {
       "output_type": "stream",
       "stream": "stderr",
       "text": [
        "[2815]\ttrain-rmse:0.566339\tval-rmse:1.897895\n",
        "[2816]\ttrain-rmse:0.566037\tval-rmse:1.897843\n",
        "[2817]\ttrain-rmse:0.565653\tval-rmse:1.897813\n"
       ]
      },
      {
       "output_type": "stream",
       "stream": "stderr",
       "text": [
        "[2818]\ttrain-rmse:0.565444\tval-rmse:1.897785\n",
        "[2819]\ttrain-rmse:0.565129\tval-rmse:1.897730\n",
        "[2820]\ttrain-rmse:0.564962\tval-rmse:1.897709\n"
       ]
      },
      {
       "output_type": "stream",
       "stream": "stderr",
       "text": [
        "[2821]\ttrain-rmse:0.564592\tval-rmse:1.897627\n",
        "[2822]\ttrain-rmse:0.564493\tval-rmse:1.897622\n",
        "[2823]\ttrain-rmse:0.564222\tval-rmse:1.897594\n"
       ]
      },
      {
       "output_type": "stream",
       "stream": "stderr",
       "text": [
        "[2824]\ttrain-rmse:0.563760\tval-rmse:1.897480\n",
        "[2825]\ttrain-rmse:0.563462\tval-rmse:1.897373\n",
        "[2826]\ttrain-rmse:0.563102\tval-rmse:1.897300\n"
       ]
      },
      {
       "output_type": "stream",
       "stream": "stderr",
       "text": [
        "[2827]\ttrain-rmse:0.562935\tval-rmse:1.897279\n",
        "[2828]\ttrain-rmse:0.562591\tval-rmse:1.897197\n",
        "[2829]\ttrain-rmse:0.562260\tval-rmse:1.897128\n"
       ]
      },
      {
       "output_type": "stream",
       "stream": "stderr",
       "text": [
        "[2830]\ttrain-rmse:0.562031\tval-rmse:1.897069\n",
        "[2831]\ttrain-rmse:0.561700\tval-rmse:1.896993\n",
        "[2832]\ttrain-rmse:0.561239\tval-rmse:1.896865\n"
       ]
      },
      {
       "output_type": "stream",
       "stream": "stderr",
       "text": [
        "[2833]\ttrain-rmse:0.561011\tval-rmse:1.896812\n",
        "[2834]\ttrain-rmse:0.560662\tval-rmse:1.896744\n",
        "[2835]\ttrain-rmse:0.560440\tval-rmse:1.896701\n"
       ]
      },
      {
       "output_type": "stream",
       "stream": "stderr",
       "text": [
        "[2836]\ttrain-rmse:0.560078\tval-rmse:1.896638\n",
        "[2837]\ttrain-rmse:0.559932\tval-rmse:1.896618\n",
        "[2838]\ttrain-rmse:0.559679\tval-rmse:1.896604\n"
       ]
      },
      {
       "output_type": "stream",
       "stream": "stderr",
       "text": [
        "[2839]\ttrain-rmse:0.559324\tval-rmse:1.896549\n",
        "[2840]\ttrain-rmse:0.559037\tval-rmse:1.896478\n",
        "[2841]\ttrain-rmse:0.558849\tval-rmse:1.896460\n"
       ]
      },
      {
       "output_type": "stream",
       "stream": "stderr",
       "text": [
        "[2842]\ttrain-rmse:0.558572\tval-rmse:1.896439\n",
        "[2843]\ttrain-rmse:0.558261\tval-rmse:1.896394\n",
        "[2844]\ttrain-rmse:0.558008\tval-rmse:1.896311\n",
        "[2845]\ttrain-rmse:0.557629\tval-rmse:1.896212\n"
       ]
      },
      {
       "output_type": "stream",
       "stream": "stderr",
       "text": [
        "[2846]\ttrain-rmse:0.557347\tval-rmse:1.896181\n",
        "[2847]\ttrain-rmse:0.557065\tval-rmse:1.896162\n",
        "[2848]\ttrain-rmse:0.556840\tval-rmse:1.896111\n",
        "[2849]\ttrain-rmse:0.556612\tval-rmse:1.896084\n"
       ]
      },
      {
       "output_type": "stream",
       "stream": "stderr",
       "text": [
        "[2850]\ttrain-rmse:0.556321\tval-rmse:1.896053\n",
        "[2851]\ttrain-rmse:0.556020\tval-rmse:1.895974\n",
        "[2852]\ttrain-rmse:0.555676\tval-rmse:1.895923\n"
       ]
      },
      {
       "output_type": "stream",
       "stream": "stderr",
       "text": [
        "[2853]\ttrain-rmse:0.555337\tval-rmse:1.895851\n",
        "[2854]\ttrain-rmse:0.555118\tval-rmse:1.895837\n",
        "[2855]\ttrain-rmse:0.554771\tval-rmse:1.895781\n"
       ]
      },
      {
       "output_type": "stream",
       "stream": "stderr",
       "text": [
        "[2856]\ttrain-rmse:0.554608\tval-rmse:1.895782\n",
        "[2857]\ttrain-rmse:0.554301\tval-rmse:1.895699\n",
        "[2858]\ttrain-rmse:0.553914\tval-rmse:1.895621\n"
       ]
      },
      {
       "output_type": "stream",
       "stream": "stderr",
       "text": [
        "[2859]\ttrain-rmse:0.553557\tval-rmse:1.895520\n",
        "[2860]\ttrain-rmse:0.553416\tval-rmse:1.895477\n",
        "[2861]\ttrain-rmse:0.553166\tval-rmse:1.895427\n"
       ]
      },
      {
       "output_type": "stream",
       "stream": "stderr",
       "text": [
        "[2862]\ttrain-rmse:0.552838\tval-rmse:1.895349\n",
        "[2863]\ttrain-rmse:0.552636\tval-rmse:1.895324\n",
        "[2864]\ttrain-rmse:0.552395\tval-rmse:1.895243\n",
        "[2865]\ttrain-rmse:0.552099\tval-rmse:1.895214\n"
       ]
      },
      {
       "output_type": "stream",
       "stream": "stderr",
       "text": [
        "[2866]\ttrain-rmse:0.551814\tval-rmse:1.895155\n",
        "[2867]\ttrain-rmse:0.551502\tval-rmse:1.895071\n",
        "[2868]\ttrain-rmse:0.551217\tval-rmse:1.894961\n"
       ]
      },
      {
       "output_type": "stream",
       "stream": "stderr",
       "text": [
        "[2869]\ttrain-rmse:0.550809\tval-rmse:1.894875\n",
        "[2870]\ttrain-rmse:0.550425\tval-rmse:1.894837\n",
        "[2871]\ttrain-rmse:0.550158\tval-rmse:1.894803\n"
       ]
      },
      {
       "output_type": "stream",
       "stream": "stderr",
       "text": [
        "[2872]\ttrain-rmse:0.549985\tval-rmse:1.894751\n",
        "[2873]\ttrain-rmse:0.549770\tval-rmse:1.894729\n",
        "[2874]\ttrain-rmse:0.549581\tval-rmse:1.894720\n"
       ]
      },
      {
       "output_type": "stream",
       "stream": "stderr",
       "text": [
        "[2875]\ttrain-rmse:0.549345\tval-rmse:1.894663\n",
        "[2876]\ttrain-rmse:0.549044\tval-rmse:1.894603\n",
        "[2877]\ttrain-rmse:0.548864\tval-rmse:1.894547\n"
       ]
      },
      {
       "output_type": "stream",
       "stream": "stderr",
       "text": [
        "[2878]\ttrain-rmse:0.548529\tval-rmse:1.894489\n",
        "[2879]\ttrain-rmse:0.548386\tval-rmse:1.894481\n",
        "[2880]\ttrain-rmse:0.547901\tval-rmse:1.894400\n"
       ]
      },
      {
       "output_type": "stream",
       "stream": "stderr",
       "text": [
        "[2881]\ttrain-rmse:0.547743\tval-rmse:1.894386\n",
        "[2882]\ttrain-rmse:0.547400\tval-rmse:1.894328\n",
        "[2883]\ttrain-rmse:0.547136\tval-rmse:1.894254\n"
       ]
      },
      {
       "output_type": "stream",
       "stream": "stderr",
       "text": [
        "[2884]\ttrain-rmse:0.546747\tval-rmse:1.894160\n",
        "[2885]\ttrain-rmse:0.546418\tval-rmse:1.894096\n",
        "[2886]\ttrain-rmse:0.546217\tval-rmse:1.894055\n"
       ]
      },
      {
       "output_type": "stream",
       "stream": "stderr",
       "text": [
        "[2887]\ttrain-rmse:0.545897\tval-rmse:1.893993\n",
        "[2888]\ttrain-rmse:0.545663\tval-rmse:1.893945\n",
        "[2889]\ttrain-rmse:0.545402\tval-rmse:1.893915\n"
       ]
      },
      {
       "output_type": "stream",
       "stream": "stderr",
       "text": [
        "[2890]\ttrain-rmse:0.545029\tval-rmse:1.893845\n",
        "[2891]\ttrain-rmse:0.544831\tval-rmse:1.893792\n",
        "[2892]\ttrain-rmse:0.544711\tval-rmse:1.893760\n"
       ]
      },
      {
       "output_type": "stream",
       "stream": "stderr",
       "text": [
        "[2893]\ttrain-rmse:0.544429\tval-rmse:1.893713\n",
        "[2894]\ttrain-rmse:0.544176\tval-rmse:1.893670\n",
        "[2895]\ttrain-rmse:0.543936\tval-rmse:1.893577\n"
       ]
      },
      {
       "output_type": "stream",
       "stream": "stderr",
       "text": [
        "[2896]\ttrain-rmse:0.543653\tval-rmse:1.893538\n",
        "[2897]\ttrain-rmse:0.543366\tval-rmse:1.893510\n",
        "[2898]\ttrain-rmse:0.543049\tval-rmse:1.893455\n"
       ]
      },
      {
       "output_type": "stream",
       "stream": "stderr",
       "text": [
        "[2899]\ttrain-rmse:0.542658\tval-rmse:1.893390\n",
        "[2900]\ttrain-rmse:0.542349\tval-rmse:1.893354\n",
        "[2901]\ttrain-rmse:0.542034\tval-rmse:1.893304\n"
       ]
      },
      {
       "output_type": "stream",
       "stream": "stderr",
       "text": [
        "[2902]\ttrain-rmse:0.541757\tval-rmse:1.893236\n",
        "[2903]\ttrain-rmse:0.541517\tval-rmse:1.893154\n",
        "[2904]\ttrain-rmse:0.541306\tval-rmse:1.893124\n"
       ]
      },
      {
       "output_type": "stream",
       "stream": "stderr",
       "text": [
        "[2905]\ttrain-rmse:0.540937\tval-rmse:1.893041\n",
        "[2906]\ttrain-rmse:0.540746\tval-rmse:1.893014\n",
        "[2907]\ttrain-rmse:0.540510\tval-rmse:1.893002\n"
       ]
      },
      {
       "output_type": "stream",
       "stream": "stderr",
       "text": [
        "[2908]\ttrain-rmse:0.540296\tval-rmse:1.892951\n",
        "[2909]\ttrain-rmse:0.540031\tval-rmse:1.892914\n",
        "[2910]\ttrain-rmse:0.539816\tval-rmse:1.892916\n"
       ]
      },
      {
       "output_type": "stream",
       "stream": "stderr",
       "text": [
        "[2911]\ttrain-rmse:0.539552\tval-rmse:1.892859\n",
        "[2912]\ttrain-rmse:0.539342\tval-rmse:1.892832\n",
        "[2913]\ttrain-rmse:0.539167\tval-rmse:1.892812\n",
        "[2914]\ttrain-rmse:0.538685\tval-rmse:1.892757\n"
       ]
      },
      {
       "output_type": "stream",
       "stream": "stderr",
       "text": [
        "[2915]\ttrain-rmse:0.538331\tval-rmse:1.892695\n",
        "[2916]\ttrain-rmse:0.537986\tval-rmse:1.892658\n",
        "[2917]\ttrain-rmse:0.537726\tval-rmse:1.892619\n"
       ]
      },
      {
       "output_type": "stream",
       "stream": "stderr",
       "text": [
        "[2918]\ttrain-rmse:0.537402\tval-rmse:1.892553\n",
        "[2919]\ttrain-rmse:0.537071\tval-rmse:1.892506\n",
        "[2920]\ttrain-rmse:0.536731\tval-rmse:1.892503\n"
       ]
      },
      {
       "output_type": "stream",
       "stream": "stderr",
       "text": [
        "[2921]\ttrain-rmse:0.536576\tval-rmse:1.892488\n",
        "[2922]\ttrain-rmse:0.536330\tval-rmse:1.892439\n",
        "[2923]\ttrain-rmse:0.536172\tval-rmse:1.892399\n",
        "[2924]\ttrain-rmse:0.536052\tval-rmse:1.892362\n"
       ]
      },
      {
       "output_type": "stream",
       "stream": "stderr",
       "text": [
        "[2925]\ttrain-rmse:0.535703\tval-rmse:1.892291\n",
        "[2926]\ttrain-rmse:0.535453\tval-rmse:1.892253\n",
        "[2927]\ttrain-rmse:0.535086\tval-rmse:1.892202\n"
       ]
      },
      {
       "output_type": "stream",
       "stream": "stderr",
       "text": [
        "[2928]\ttrain-rmse:0.534778\tval-rmse:1.892093\n",
        "[2929]\ttrain-rmse:0.534553\tval-rmse:1.892069\n",
        "[2930]\ttrain-rmse:0.534325\tval-rmse:1.892033\n"
       ]
      },
      {
       "output_type": "stream",
       "stream": "stderr",
       "text": [
        "[2931]\ttrain-rmse:0.534238\tval-rmse:1.892005\n",
        "[2932]\ttrain-rmse:0.534119\tval-rmse:1.891965\n",
        "[2933]\ttrain-rmse:0.533829\tval-rmse:1.891907\n"
       ]
      },
      {
       "output_type": "stream",
       "stream": "stderr",
       "text": [
        "[2934]\ttrain-rmse:0.533579\tval-rmse:1.891859\n",
        "[2935]\ttrain-rmse:0.533274\tval-rmse:1.891796\n",
        "[2936]\ttrain-rmse:0.532967\tval-rmse:1.891714\n"
       ]
      },
      {
       "output_type": "stream",
       "stream": "stderr",
       "text": [
        "[2937]\ttrain-rmse:0.532805\tval-rmse:1.891668\n",
        "[2938]\ttrain-rmse:0.532499\tval-rmse:1.891648\n",
        "[2939]\ttrain-rmse:0.532174\tval-rmse:1.891569\n"
       ]
      },
      {
       "output_type": "stream",
       "stream": "stderr",
       "text": [
        "[2940]\ttrain-rmse:0.531959\tval-rmse:1.891537\n",
        "[2941]\ttrain-rmse:0.531761\tval-rmse:1.891494\n",
        "[2942]\ttrain-rmse:0.531576\tval-rmse:1.891425\n",
        "[2943]\ttrain-rmse:0.531430\tval-rmse:1.891388\n"
       ]
      },
      {
       "output_type": "stream",
       "stream": "stderr",
       "text": [
        "[2944]\ttrain-rmse:0.531282\tval-rmse:1.891349\n",
        "[2945]\ttrain-rmse:0.531025\tval-rmse:1.891301\n",
        "[2946]\ttrain-rmse:0.530737\tval-rmse:1.891244\n"
       ]
      },
      {
       "output_type": "stream",
       "stream": "stderr",
       "text": [
        "[2947]\ttrain-rmse:0.530509\tval-rmse:1.891220\n",
        "[2948]\ttrain-rmse:0.530325\tval-rmse:1.891161\n",
        "[2949]\ttrain-rmse:0.530121\tval-rmse:1.891153\n",
        "[2950]\ttrain-rmse:0.529990\tval-rmse:1.891130\n"
       ]
      },
      {
       "output_type": "stream",
       "stream": "stderr",
       "text": [
        "[2951]\ttrain-rmse:0.529773\tval-rmse:1.891072\n",
        "[2952]\ttrain-rmse:0.529506\tval-rmse:1.891035\n",
        "[2953]\ttrain-rmse:0.529270\tval-rmse:1.890980\n"
       ]
      },
      {
       "output_type": "stream",
       "stream": "stderr",
       "text": [
        "[2954]\ttrain-rmse:0.528936\tval-rmse:1.890916\n",
        "[2955]\ttrain-rmse:0.528674\tval-rmse:1.890846\n",
        "[2956]\ttrain-rmse:0.528518\tval-rmse:1.890808\n"
       ]
      },
      {
       "output_type": "stream",
       "stream": "stderr",
       "text": [
        "[2957]\ttrain-rmse:0.528295\tval-rmse:1.890746\n",
        "[2958]\ttrain-rmse:0.527957\tval-rmse:1.890694\n",
        "[2959]\ttrain-rmse:0.527716\tval-rmse:1.890627\n"
       ]
      },
      {
       "output_type": "stream",
       "stream": "stderr",
       "text": [
        "[2960]\ttrain-rmse:0.527369\tval-rmse:1.890582\n",
        "[2961]\ttrain-rmse:0.527127\tval-rmse:1.890521\n",
        "[2962]\ttrain-rmse:0.526857\tval-rmse:1.890487\n"
       ]
      },
      {
       "output_type": "stream",
       "stream": "stderr",
       "text": [
        "[2963]\ttrain-rmse:0.526565\tval-rmse:1.890456\n",
        "[2964]\ttrain-rmse:0.526323\tval-rmse:1.890402\n",
        "[2965]\ttrain-rmse:0.525941\tval-rmse:1.890308\n"
       ]
      },
      {
       "output_type": "stream",
       "stream": "stderr",
       "text": [
        "[2966]\ttrain-rmse:0.525576\tval-rmse:1.890215\n",
        "[2967]\ttrain-rmse:0.525252\tval-rmse:1.890141\n",
        "[2968]\ttrain-rmse:0.524962\tval-rmse:1.890085\n"
       ]
      },
      {
       "output_type": "stream",
       "stream": "stderr",
       "text": [
        "[2969]\ttrain-rmse:0.524579\tval-rmse:1.890028\n",
        "[2970]\ttrain-rmse:0.524393\tval-rmse:1.890008\n",
        "[2971]\ttrain-rmse:0.524196\tval-rmse:1.889984\n"
       ]
      },
      {
       "output_type": "stream",
       "stream": "stderr",
       "text": [
        "[2972]\ttrain-rmse:0.524084\tval-rmse:1.889968\n",
        "[2973]\ttrain-rmse:0.523805\tval-rmse:1.889935\n",
        "[2974]\ttrain-rmse:0.523619\tval-rmse:1.889915\n"
       ]
      },
      {
       "output_type": "stream",
       "stream": "stderr",
       "text": [
        "[2975]\ttrain-rmse:0.523389\tval-rmse:1.889870\n",
        "[2976]\ttrain-rmse:0.523098\tval-rmse:1.889811\n",
        "[2977]\ttrain-rmse:0.522749\tval-rmse:1.889742\n"
       ]
      },
      {
       "output_type": "stream",
       "stream": "stderr",
       "text": [
        "[2978]\ttrain-rmse:0.522576\tval-rmse:1.889685\n",
        "[2979]\ttrain-rmse:0.522261\tval-rmse:1.889627\n",
        "[2980]\ttrain-rmse:0.521924\tval-rmse:1.889598\n"
       ]
      },
      {
       "output_type": "stream",
       "stream": "stderr",
       "text": [
        "[2981]\ttrain-rmse:0.521667\tval-rmse:1.889537\n",
        "[2982]\ttrain-rmse:0.521413\tval-rmse:1.889505\n",
        "[2983]\ttrain-rmse:0.521143\tval-rmse:1.889461\n"
       ]
      },
      {
       "output_type": "stream",
       "stream": "stderr",
       "text": [
        "[2984]\ttrain-rmse:0.520776\tval-rmse:1.889412\n",
        "[2985]\ttrain-rmse:0.520509\tval-rmse:1.889345\n",
        "[2986]\ttrain-rmse:0.520195\tval-rmse:1.889288\n"
       ]
      },
      {
       "output_type": "stream",
       "stream": "stderr",
       "text": [
        "[2987]\ttrain-rmse:0.520065\tval-rmse:1.889248\n",
        "[2988]\ttrain-rmse:0.519860\tval-rmse:1.889195\n",
        "[2989]\ttrain-rmse:0.519610\tval-rmse:1.889142\n",
        "[2990]\ttrain-rmse:0.519371\tval-rmse:1.889078\n"
       ]
      },
      {
       "output_type": "stream",
       "stream": "stderr",
       "text": [
        "[2991]\ttrain-rmse:0.519117\tval-rmse:1.889030\n",
        "[2992]\ttrain-rmse:0.518950\tval-rmse:1.889011\n",
        "[2993]\ttrain-rmse:0.518609\tval-rmse:1.888958\n"
       ]
      },
      {
       "output_type": "stream",
       "stream": "stderr",
       "text": [
        "[2994]\ttrain-rmse:0.518352\tval-rmse:1.888894\n",
        "[2995]\ttrain-rmse:0.518101\tval-rmse:1.888865\n",
        "[2996]\ttrain-rmse:0.517945\tval-rmse:1.888839\n"
       ]
      },
      {
       "output_type": "stream",
       "stream": "stderr",
       "text": [
        "[2997]\ttrain-rmse:0.517793\tval-rmse:1.888823\n",
        "[2998]\ttrain-rmse:0.517440\tval-rmse:1.888723\n",
        "[2999]\ttrain-rmse:0.517148\tval-rmse:1.888671\n"
       ]
      }
     ],
     "prompt_number": 9
    },
    {
     "cell_type": "code",
     "collapsed": false,
     "input": [
      "xgb.plot_importance(model)\n",
      "\n",
      "## importance: f1,f15,f0,f2,f18,f16,f27,f13\n",
      "col_k = [1,15,0,2,18,16,27,13,3,4,26,9,25,20,11,5,19,8,17,12,14]\n",
      "\n",
      "print columns[col_k]"
     ],
     "language": "python",
     "metadata": {},
     "outputs": [
      {
       "output_type": "stream",
       "stream": "stdout",
       "text": [
        "Index([u'T1_V2', u'T2_V1', u'T1_V1', u'T1_V3', u'T2_V4', u'T2_V2', u'T2_V15',\n",
        "       u'T1_V16', u'T1_V4', u'T1_V5', u'T2_V14', u'T1_V11', u'T2_V13',\n",
        "       u'T2_V6', u'T1_V14', u'T1_V6', u'T2_V5', u'T1_V9', u'T2_V3', u'T1_V15',\n",
        "       u'T1_V17'],\n",
        "      dtype='object')\n"
       ]
      },
      {
       "metadata": {},
       "output_type": "display_data",
       "png": "[encoded data removed]",
       "text": [
        "<matplotlib.figure.Figure at 0x7fdc481b8390>"
       ]
      }
     ],
     "prompt_number": 14
    },
    {
     "cell_type": "code",
     "collapsed": false,
     "input": [
      "\n",
      "print 'Submit'\n",
      "preds1 = model.predict(xgsubmit)\n",
      "\n",
      "# generate solution file\n",
      "preds = pd.DataFrame({\"Id\": submit_ind, \"Hazard\": preds1})\n",
      "preds = preds.set_index('Id')\n",
      "print preds.head(11)\n",
      "preds.to_csv('submit_dev_20150824_4.csv')\n",
      "\n",
      "print 'Computing lables in test data'\n",
      "preds2 = model.predict(xgtest)\n",
      "\n",
      "# generate solution file\n",
      "preds = pd.DataFrame({\"Hazard\": test_labels, \"Model_Hazard\": preds2})\n",
      "preds = preds.set_index('Hazard')\n",
      "print preds.head()\n",
      "\n",
      "print 'Gini (Duvidoso)'\n",
      "print Gini1(test_labels,preds2)\n",
      "print Gini2(test_labels,preds2)\n",
      "\n",
      "print 'rmse' \n",
      "print np.sqrt( np.mean((test_labels - preds2)**2) )\n",
      "\n",
      "\n",
      "#preds.to_csv('test_dev_20150824_1.csv')\n",
      "\n",
      "print 'Current dir:'\n",
      "%pwd"
     ],
     "language": "python",
     "metadata": {},
     "outputs": [
      {
       "output_type": "stream",
       "stream": "stdout",
       "text": [
        "Submit\n",
        "      Hazard\n",
        "Id          \n",
        "6   4.516642\n",
        "7   4.248413\n",
        "8   7.405459\n",
        "9   4.337777\n",
        "10  3.923261\n",
        "11  4.734051\n",
        "13  5.405901\n",
        "14  2.774369\n",
        "16  5.306390\n",
        "17  3.490556\n",
        "18  6.400606"
       ]
      },
      {
       "output_type": "stream",
       "stream": "stdout",
       "text": [
        "\n",
        "Computing lables in test data"
       ]
      },
      {
       "output_type": "stream",
       "stream": "stdout",
       "text": [
        "\n",
        "        Model_Hazard\n",
        "Hazard              \n",
        "15          6.137496\n",
        "14          6.839373\n",
        "16          6.108533\n",
        "13          4.186816\n",
        "18          4.383946"
       ]
      },
      {
       "output_type": "stream",
       "stream": "stdout",
       "text": [
        "\n",
        "Gini (Duvidoso)\n",
        "0.137300526402\n",
        "0.135005378796\n",
        "rmse\n",
        "11.8683061654\n",
        "Current dir:\n"
       ]
      },
      {
       "metadata": {},
       "output_type": "pyout",
       "prompt_number": 10,
       "text": [
        "u'/home/leandroohf/Documents/kaggle/Liberty_Mutual_Group_Property_Inspection_Prediction/dev'"
       ]
      }
     ],
     "prompt_number": 10
    }
   ],
   "metadata": {}
  }
 ]
}