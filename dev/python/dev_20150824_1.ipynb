{
 "metadata": {
  "name": ""
 },
 "nbformat": 3,
 "nbformat_minor": 0,
 "worksheets": [
  {
   "cells": [
    {
     "cell_type": "markdown",
     "metadata": {},
     "source": [
      "# Modelo com base balanciada \n",
      "\n",
      "Considerei apenas algumas Hazard < 21\n",
      "E mantive demais parametros.\n",
      "\n",
      "Treinou parou por estouro num_rounds\n",
      "\n",
      "xgval com 10k amostras\n",
      "\n",
      "retornei objecitve reg:linear\n",
      "\n",
      "[2999]\ttrain-rmse:1.105964\tval-rmse:1.898553\n",
      "\n",
      "kaglle score: 0.306974\n",
      "\n",
      "Meu melhor kaglle score: 0.3850"
     ]
    },
    {
     "cell_type": "code",
     "collapsed": false,
     "input": [
      "# Setup\n",
      "import pandas as pd\n",
      "import numpy as np \n",
      "from sklearn import preprocessing\n",
      "import xgboost as xgb\n",
      "import random"
     ],
     "language": "python",
     "metadata": {},
     "outputs": [],
     "prompt_number": 69
    },
    {
     "cell_type": "code",
     "collapsed": false,
     "input": [
      "# Defining some functions\n",
      "\n",
      "print 'Defining functions (shameless stolen from the script pages)'\n",
      "\n",
      "## Gini: Shameless stolen from jpopham91's script\n",
      "def Gini1(y_true, y_pred):\n",
      "    # check and get number of samples\n",
      "    assert y_true.shape == y_pred.shape\n",
      "    n_samples = y_true.shape[0]\n",
      "    \n",
      "    # sort rows on prediction column \n",
      "    # (from largest to smallest)\n",
      "    arr = np.array([y_true, y_pred]).transpose()\n",
      "    true_order = arr[arr[:,0].argsort()][::-1,0]\n",
      "    pred_order = arr[arr[:,1].argsort()][::-1,0]\n",
      "    \n",
      "    # get Lorenz curves\n",
      "    L_true = np.cumsum(true_order) / np.sum(true_order)\n",
      "    L_pred = np.cumsum(pred_order) / np.sum(pred_order)\n",
      "    L_ones = np.linspace(1/n_samples, 1, n_samples)\n",
      "    \n",
      "    # get Gini coefficients (area between curves)\n",
      "    G_true = np.sum(L_ones - L_true)\n",
      "    G_pred = np.sum(L_ones - L_pred)\n",
      "    \n",
      "    # normalize to true Gini coefficient\n",
      "    return G_pred/G_true\n",
      "\n",
      "# Source script: justfor que por sua vez pegou da fonte abaixo\n",
      "# Source of good version: https://www.kaggle.com/c/ClaimPredictionChallenge/forums/t/703/code-to-calculate-normalizedgini    \n",
      "def Gini2_aux(actual, pred, cmpcol = 0, sortcol = 1):\n",
      "     assert( len(actual) == len(pred) )\n",
      "     all = np.asarray(np.c_[ actual, pred, np.arange(len(actual)) ], dtype=np.float)\n",
      "     all = all[ np.lexsort((all[:,2], -1*all[:,1])) ]\n",
      "     totalLosses = all[:,0].sum()\n",
      "     giniSum = all[:,0].cumsum().sum() / totalLosses\n",
      "     giniSum -= (len(actual) + 1) / 2.\n",
      "     return giniSum / len(actual)\n",
      " \n",
      "def Gini2(y_true, y_pred):\n",
      "     return Gini2_aux(y_true, y_pred) / Gini2_aux(y_true, y_true)\n"
     ],
     "language": "python",
     "metadata": {},
     "outputs": [
      {
       "output_type": "stream",
       "stream": "stdout",
       "text": [
        "Defining functions (shameless stolen from the script pages)\n"
       ]
      }
     ],
     "prompt_number": 70
    },
    {
     "cell_type": "code",
     "collapsed": false,
     "input": [
      "\n",
      "#load train and test \n",
      "train  = pd.read_csv('../data/raw/train.csv', index_col=0)\n",
      "test   = pd.read_csv('../data/raw/test.csv', index_col=0)\n",
      "\n",
      "print train.shape\n",
      "## XXX Parece BUG head() nao mostra a ultimas colunas: 10,20,30\n",
      "## Entao eu tive que duplicar para imprimir todas as colunas\n",
      "print train.iloc[:,0:10].head()\n",
      "print train.iloc[:,10:20].head()\n",
      "print train.iloc[:,20:30].head()\n",
      "print train.iloc[:,30:33].head()\n",
      "print \"==========================\"\n",
      "\n",
      "labels = train.Hazard\n",
      "%matplotlib inline\n",
      "labels.hist(bins=69)"
     ],
     "language": "python",
     "metadata": {},
     "outputs": [
      {
       "output_type": "stream",
       "stream": "stdout",
       "text": [
        "(50999, 33)\n",
        "    Hazard  T1_V1  T1_V2  T1_V3 T1_V4 T1_V5 T1_V6 T1_V7 T1_V8 T1_V9\n",
        "Id                                                                 \n",
        "1        1     15      3      2     N     B     N     B     B     D\n",
        "2        4     16     14      5     H     B     N     B     B     C\n",
        "3        1     10     10      5     N     K     N     B     B     E\n",
        "4        1     18     18      5     N     K     N     B     B     E\n",
        "5        1     13     19      5     N     H     N     B     B     E\n",
        "    T1_V10 T1_V11 T1_V12  T1_V13  T1_V14 T1_V15 T1_V16 T1_V17  T2_V1  T2_V2\n",
        "Id                                                                         \n",
        "1        7      B      B      15       1      A      B      N     36     11\n",
        "2       12      B      B      10       3      A      B      Y     78     10\n",
        "3       12      H      B      15       1      A      R      Y     71     21\n",
        "4        3      H      B      15       1      A      R      N     71     13\n",
        "5        7      H      B      10       1      A      J      N     75     10\n",
        "   T2_V3  T2_V4 T2_V5  T2_V6  T2_V7  T2_V8  T2_V9  T2_V10 T2_V11 T2_V12\n",
        "Id                                                                     \n",
        "1      N     10     B      2     37      1     11       6      Y      N\n",
        "2      Y     17     C      2     22      1     18       5      Y      Y\n",
        "3      Y     13     C      6     37      2     14       6      Y      Y\n",
        "4      N     15     A      2     25      1      1       6      Y      N\n",
        "5      Y     11     B      1     22      1      2       7      N      N\n",
        "   T2_V13  T2_V14  T2_V15\n",
        "Id                       \n",
        "1       E       2       2\n",
        "2       E       2       1\n",
        "3       E       6       1\n",
        "4       C       2       6\n",
        "5       E       1       1\n",
        "==========================\n"
       ]
      },
      {
       "metadata": {},
       "output_type": "pyout",
       "prompt_number": 71,
       "text": [
        "<matplotlib.axes.AxesSubplot at 0x7fdc1f528610>"
       ]
      },
      {
       "metadata": {},
       "output_type": "display_data",
       "png": "[encoded data removed]",
       "text": [
        "<matplotlib.figure.Figure at 0x7fdc1f4b8ed0>"
       ]
      }
     ],
     "prompt_number": 71
    },
    {
     "cell_type": "markdown",
     "metadata": {},
     "source": [
      "\n",
      "## Prepaing training data"
     ]
    },
    {
     "cell_type": "code",
     "collapsed": false,
     "input": [
      "## Fazendo copia dos dados\n",
      "train_pre = train.copy()\n",
      "\n",
      "hazard_thr = 21\n",
      "sample_size = 3000 # sample size per class\n",
      "\n",
      "print \"Printing intial train dim:\"\n",
      "print train_pre.shape\n",
      "print \"Considering Hazard < \" + str(hazard_thr) + \" in train data\"\n",
      "\n",
      "# verifcar a capacidade de gerar hazard acima de hazard_thr\n",
      "test_pre  = train_pre[ train_pre['Hazard'] > hazard_thr]\n",
      "train_pre = train_pre[ train_pre['Hazard'] < hazard_thr]\n",
      "\n",
      "h = 1\n",
      "print \"Hazard: \" + str(h)\n",
      "train_aux = train_pre[train_pre.Hazard == h]\n",
      "rows_sampled = np.random.choice(train_aux.index,sample_size)\n",
      "train_balanced_pre = train_pre.ix[rows_sampled]\n",
      "\n",
      "for h in range(2,hazard_thr):\n",
      "    print \"Hazard: \" + str(h)\n",
      "    train_aux = train_pre[train_pre.Hazard == h]\n",
      "    rows_sampled = np.random.choice(train_aux.index,sample_size)\n",
      "    train_balanced_pre = train_balanced_pre.append(train_pre.ix[rows_sampled])\n",
      "\n",
      "print train_balanced_pre.shape\n",
      "labels_balanced = train_balanced_pre['Hazard'].copy()\n",
      "test_labels = test_pre['Hazard'].copy()\n"
     ],
     "language": "python",
     "metadata": {},
     "outputs": [
      {
       "output_type": "stream",
       "stream": "stdout",
       "text": [
        "Printing intial train dim:\n",
        "(50999, 33)\n",
        "Considering Hazard < 21 in train data\n",
        "Hazard: 1\n",
        "Hazard: 2\n",
        "Hazard: 3"
       ]
      },
      {
       "output_type": "stream",
       "stream": "stdout",
       "text": [
        "\n",
        "Hazard: 4\n",
        "Hazard: 5"
       ]
      },
      {
       "output_type": "stream",
       "stream": "stdout",
       "text": [
        "\n",
        "Hazard: 6\n",
        "Hazard: 7"
       ]
      },
      {
       "output_type": "stream",
       "stream": "stdout",
       "text": [
        "\n",
        "Hazard: 8\n",
        "Hazard: 9"
       ]
      },
      {
       "output_type": "stream",
       "stream": "stdout",
       "text": [
        "\n",
        "Hazard: 10\n",
        "Hazard: 11"
       ]
      },
      {
       "output_type": "stream",
       "stream": "stdout",
       "text": [
        "\n",
        "Hazard: 12\n",
        "Hazard: 13"
       ]
      },
      {
       "output_type": "stream",
       "stream": "stdout",
       "text": [
        "\n",
        "Hazard: 14\n",
        "Hazard: 15"
       ]
      },
      {
       "output_type": "stream",
       "stream": "stdout",
       "text": [
        "\n",
        "Hazard: 16\n",
        "Hazard: 17"
       ]
      },
      {
       "output_type": "stream",
       "stream": "stdout",
       "text": [
        "\n",
        "Hazard: 18\n",
        "Hazard: 19"
       ]
      },
      {
       "output_type": "stream",
       "stream": "stdout",
       "text": [
        "\n",
        "Hazard: 20\n",
        "(60000, 33)"
       ]
      },
      {
       "output_type": "stream",
       "stream": "stdout",
       "text": [
        "\n"
       ]
      }
     ],
     "prompt_number": 78
    },
    {
     "cell_type": "code",
     "collapsed": false,
     "input": [
      "submit_pre = test.copy()\n",
      "\n",
      "print \"Droping columns\"\n",
      "\n",
      "train_balanced_pre.drop('Hazard', axis=1, inplace=True)\n",
      "train_balanced_pre.drop('T2_V10', axis=1, inplace=True)\n",
      "train_balanced_pre.drop('T2_V7', axis=1, inplace=True)\n",
      "train_balanced_pre.drop('T1_V13', axis=1, inplace=True)\n",
      "train_balanced_pre.drop('T1_V10', axis=1, inplace=True)\n",
      "\n",
      "test_pre.drop('Hazard', axis=1, inplace=True)\n",
      "test_pre.drop('T2_V10', axis=1, inplace=True)\n",
      "test_pre.drop('T2_V7', axis=1, inplace=True)\n",
      "test_pre.drop('T1_V13', axis=1, inplace=True)\n",
      "test_pre.drop('T1_V10', axis=1, inplace=True)\n",
      "\n",
      "submit_pre.drop('T2_V10', axis=1, inplace=True)\n",
      "submit_pre.drop('T2_V7', axis=1, inplace=True)\n",
      "submit_pre.drop('T1_V13', axis=1, inplace=True)\n",
      "submit_pre.drop('T1_V10', axis=1, inplace=True)\n",
      "\n",
      "print \"Printing labels dim:\"\n",
      "print labels_balanced.shape\n",
      "print \"Printing train dim:\"\n",
      "print train_balanced_pre.shape\n",
      "print \"Printing test dim:\"\n",
      "print test_pre.shape\n",
      "print \"Printing submit dim:\"\n",
      "print submit_pre.shape\n",
      "    \n",
      "columns = train_balanced_pre.columns\n",
      "submit_ind = submit_pre.index\n",
      "\n",
      "print \"Converting to numpy array\"\n",
      "\n",
      "train_balanced_pre = np.array(train_balanced_pre)\n",
      "labels_balanced = np.array(labels_balanced)\n",
      "\n",
      "test_pre = np.array(test_pre)\n",
      "test_labels = np.array(test_labels)\n",
      "\n",
      "submit_pre = np.array(submit_pre)"
     ],
     "language": "python",
     "metadata": {},
     "outputs": [
      {
       "output_type": "stream",
       "stream": "stdout",
       "text": [
        "Droping columns\n",
        "Printing labels dim:"
       ]
      },
      {
       "output_type": "stream",
       "stream": "stdout",
       "text": [
        "\n",
        "(60000,)\n",
        "Printing train dim:\n",
        "(60000, 28)\n",
        "Printing test dim:\n",
        "(305, 28)\n",
        "Printing submit dim:\n",
        "(51000, 28)\n",
        "Converting to numpy array\n"
       ]
      }
     ],
     "prompt_number": 79
    },
    {
     "cell_type": "code",
     "collapsed": false,
     "input": [
      "lbl = preprocessing.LabelEncoder()\n",
      "\n",
      "print \"Converting string columns to numerical levels (train_balanced_pre)\"\n",
      "# label encode the categorical variables\n",
      "for i in range(train_balanced_pre.shape[1]):\n",
      "    lbl = preprocessing.LabelEncoder()\n",
      "    lbl.fit(list(train_balanced_pre[:,i]) + list(submit_pre[:,i]) + list(test_pre[:,i]))\n",
      "    train_balanced_pre[:,i] = lbl.transform(train_balanced_pre[:,i])\n",
      "    test_pre[:,i] = lbl.transform(test_pre[:,i])    \n",
      "    submit_pre[:,i] = lbl.transform(submit_pre[:,i])\n",
      "\n",
      "train_balanced_pre = train_balanced_pre.astype(float)\n",
      "test_pre = test_pre.astype(float)\n",
      "submit_pre = submit_pre.astype(float)\n",
      "\n",
      "print train_balanced_pre.shape\n",
      "print test_pre.shape"
     ],
     "language": "python",
     "metadata": {},
     "outputs": [
      {
       "output_type": "stream",
       "stream": "stdout",
       "text": [
        "Converting string columns to numerical levels (train_balanced_pre)\n",
        "(60000, 28)"
       ]
      },
      {
       "output_type": "stream",
       "stream": "stdout",
       "text": [
        "\n",
        "(305, 28)\n"
       ]
      }
     ],
     "prompt_number": 80
    },
    {
     "cell_type": "markdown",
     "metadata": {},
     "source": [
      "## Seting model parameters"
     ]
    },
    {
     "cell_type": "code",
     "collapsed": false,
     "input": [
      "params = {}\n",
      "params[\"objective\"] = \"reg:linear\" # \"count:poisson\" \n",
      "params[\"eta\"] = 0.01\n",
      "params[\"min_child_weight\"] = 5\n",
      "params[\"subsample\"] = 0.8\n",
      "params[\"colsample_bytree\"] = 0.8\n",
      "params[\"scale_pos_weight\"] = 1.0\n",
      "params[\"silent\"] = 1\n",
      "params[\"booster\"] = \"gbtree\"\n",
      "params[\"max_depth\"] = 9\n",
      "\n",
      "params[\"seed\"] = 13\n",
      "\n",
      "plst = list(params.items())\n",
      "print \"Prameters list\"\n",
      "print plst\n",
      "\n",
      "num_rounds = 3000\n",
      "est = 11\n",
      "\n",
      "print 'num_rounds: ' + str(num_rounds)\n",
      "print 'early_stopping_rounds: ' + str(est)\n"
     ],
     "language": "python",
     "metadata": {},
     "outputs": [
      {
       "output_type": "stream",
       "stream": "stdout",
       "text": [
        "Prameters list\n",
        "[('colsample_bytree', 0.8), ('silent', 1), ('scale_pos_weight', 1.0), ('min_child_weight', 5), ('subsample', 0.8), ('eta', 0.01), ('objective', 'reg:linear'), ('seed', 13), ('max_depth', 9), ('booster', 'gbtree')]\n",
        "num_rounds: 3000\n",
        "early_stopping_rounds: 11\n"
       ]
      }
     ],
     "prompt_number": 81
    },
    {
     "cell_type": "code",
     "collapsed": false,
     "input": [
      "test_rows_sampled = np.random.choice(range(len(train_balanced_pre)),10000)\n",
      "\n",
      "xgsubmit = xgb.DMatrix(submit_pre)\n",
      "xgtest = xgb.DMatrix(test_pre)\n",
      "\n",
      "#create a train and validation dmatrices \n",
      "print 'Setting validation and training data'\n",
      "xgval = xgb.DMatrix(train_balanced_pre[test_rows_sampled,:],\n",
      "\t\t\t\t      label=labels_balanced[test_rows_sampled])\n",
      "xgtrain = xgb.DMatrix(np.delete(train_balanced_pre,test_rows_sampled,0),\n",
      "\t\t\t       label=np.delete(labels_balanced,test_rows_sampled,0))\n",
      "\n",
      "\n",
      "print \"number of row xgsubmit\"\n",
      "print xgsubmit.num_row()\n",
      "\n",
      "print \"number of row xgtest\"\n",
      "print xgtest.num_row()\n",
      "\n",
      "print \"number of row xgtrain\"\n",
      "print xgtrain.num_row()\n",
      "\n",
      "print \"number of row xgval\"\n",
      "print xgval.num_row()\n"
     ],
     "language": "python",
     "metadata": {},
     "outputs": [
      {
       "output_type": "stream",
       "stream": "stdout",
       "text": [
        "Setting validation and training data\n",
        "number of row xgsubmit"
       ]
      },
      {
       "output_type": "stream",
       "stream": "stdout",
       "text": [
        "\n",
        "51000\n",
        "number of row xgtest\n",
        "305\n",
        "number of row xgtrain\n",
        "50766\n",
        "number of row xgval\n",
        "10000\n"
       ]
      }
     ],
     "prompt_number": 82
    },
    {
     "cell_type": "markdown",
     "metadata": {},
     "source": [
      "## Training XGBoost"
     ]
    },
    {
     "cell_type": "code",
     "collapsed": false,
     "input": [
      "#train using early stopping and predict\n",
      "watchlist = [(xgtrain, 'train'),(xgval, 'val')]\n",
      "model = xgb.train(plst, xgtrain, num_rounds, watchlist, early_stopping_rounds=est)"
     ],
     "language": "python",
     "metadata": {},
     "outputs": [
      {
       "output_type": "stream",
       "stream": "stderr",
       "text": [
        "Will train until val error hasn't decreased in 11 rounds.\n",
        "[0]\ttrain-rmse:11.420278\tval-rmse:11.607869\n"
       ]
      },
      {
       "output_type": "stream",
       "stream": "stderr",
       "text": [
        "[1]\ttrain-rmse:11.327220\tval-rmse:11.513988\n",
        "[2]\ttrain-rmse:11.234998\tval-rmse:11.420287\n"
       ]
      },
      {
       "output_type": "stream",
       "stream": "stderr",
       "text": [
        "[3]\ttrain-rmse:11.143738\tval-rmse:11.328167\n",
        "[4]\ttrain-rmse:11.053298\tval-rmse:11.236904\n"
       ]
      },
      {
       "output_type": "stream",
       "stream": "stderr",
       "text": [
        "[5]\ttrain-rmse:10.963988\tval-rmse:11.146788\n",
        "[6]\ttrain-rmse:10.875762\tval-rmse:11.057503\n"
       ]
      },
      {
       "output_type": "stream",
       "stream": "stderr",
       "text": [
        "[7]\ttrain-rmse:10.788413\tval-rmse:10.968929\n",
        "[8]\ttrain-rmse:10.702023\tval-rmse:10.882018\n"
       ]
      },
      {
       "output_type": "stream",
       "stream": "stderr",
       "text": [
        "[9]\ttrain-rmse:10.616765\tval-rmse:10.795618\n",
        "[10]\ttrain-rmse:10.532366\tval-rmse:10.710501\n"
       ]
      },
      {
       "output_type": "stream",
       "stream": "stderr",
       "text": [
        "[11]\ttrain-rmse:10.449328\tval-rmse:10.626732\n",
        "[12]\ttrain-rmse:10.366737\tval-rmse:10.543026\n"
       ]
      },
      {
       "output_type": "stream",
       "stream": "stderr",
       "text": [
        "[13]\ttrain-rmse:10.284745\tval-rmse:10.460431\n",
        "[14]\ttrain-rmse:10.203990\tval-rmse:10.378748\n"
       ]
      },
      {
       "output_type": "stream",
       "stream": "stderr",
       "text": [
        "[15]\ttrain-rmse:10.124277\tval-rmse:10.298087\n",
        "[16]\ttrain-rmse:10.045329\tval-rmse:10.218133\n"
       ]
      },
      {
       "output_type": "stream",
       "stream": "stderr",
       "text": [
        "[17]\ttrain-rmse:9.967393\tval-rmse:10.139464\n",
        "[18]\ttrain-rmse:9.890088\tval-rmse:10.060884\n"
       ]
      },
      {
       "output_type": "stream",
       "stream": "stderr",
       "text": [
        "[19]\ttrain-rmse:9.813949\tval-rmse:9.983804\n",
        "[20]\ttrain-rmse:9.738643\tval-rmse:9.907499\n"
       ]
      },
      {
       "output_type": "stream",
       "stream": "stderr",
       "text": [
        "[21]\ttrain-rmse:9.664410\tval-rmse:9.832494\n",
        "[22]\ttrain-rmse:9.590709\tval-rmse:9.757861\n"
       ]
      },
      {
       "output_type": "stream",
       "stream": "stderr",
       "text": [
        "[23]\ttrain-rmse:9.517856\tval-rmse:9.684668\n",
        "[24]\ttrain-rmse:9.446395\tval-rmse:9.612333\n"
       ]
      },
      {
       "output_type": "stream",
       "stream": "stderr",
       "text": [
        "[25]\ttrain-rmse:9.375482\tval-rmse:9.540519\n",
        "[26]\ttrain-rmse:9.305270\tval-rmse:9.469521\n"
       ]
      },
      {
       "output_type": "stream",
       "stream": "stderr",
       "text": [
        "[27]\ttrain-rmse:9.235826\tval-rmse:9.399468\n",
        "[28]\ttrain-rmse:9.167105\tval-rmse:9.330237\n"
       ]
      },
      {
       "output_type": "stream",
       "stream": "stderr",
       "text": [
        "[29]\ttrain-rmse:9.099583\tval-rmse:9.262111\n",
        "[30]\ttrain-rmse:9.032965\tval-rmse:9.194465\n"
       ]
      },
      {
       "output_type": "stream",
       "stream": "stderr",
       "text": [
        "[31]\ttrain-rmse:8.966397\tval-rmse:9.127297\n",
        "[32]\ttrain-rmse:8.901225\tval-rmse:9.061385\n"
       ]
      },
      {
       "output_type": "stream",
       "stream": "stderr",
       "text": [
        "[33]\ttrain-rmse:8.836326\tval-rmse:8.995824\n",
        "[34]\ttrain-rmse:8.772210\tval-rmse:8.931086\n"
       ]
      },
      {
       "output_type": "stream",
       "stream": "stderr",
       "text": [
        "[35]\ttrain-rmse:8.708403\tval-rmse:8.866675\n",
        "[36]\ttrain-rmse:8.645843\tval-rmse:8.803664\n"
       ]
      },
      {
       "output_type": "stream",
       "stream": "stderr",
       "text": [
        "[37]\ttrain-rmse:8.584430\tval-rmse:8.741311\n",
        "[38]\ttrain-rmse:8.523167\tval-rmse:8.679375\n"
       ]
      },
      {
       "output_type": "stream",
       "stream": "stderr",
       "text": [
        "[39]\ttrain-rmse:8.463674\tval-rmse:8.619238\n",
        "[40]\ttrain-rmse:8.403858\tval-rmse:8.558820\n"
       ]
      },
      {
       "output_type": "stream",
       "stream": "stderr",
       "text": [
        "[41]\ttrain-rmse:8.344560\tval-rmse:8.498936\n",
        "[42]\ttrain-rmse:8.285776\tval-rmse:8.439453\n"
       ]
      },
      {
       "output_type": "stream",
       "stream": "stderr",
       "text": [
        "[43]\ttrain-rmse:8.228264\tval-rmse:8.381702\n",
        "[44]\ttrain-rmse:8.171051\tval-rmse:8.323915\n"
       ]
      },
      {
       "output_type": "stream",
       "stream": "stderr",
       "text": [
        "[45]\ttrain-rmse:8.114499\tval-rmse:8.266496\n",
        "[46]\ttrain-rmse:8.059668\tval-rmse:8.211078\n"
       ]
      },
      {
       "output_type": "stream",
       "stream": "stderr",
       "text": [
        "[47]\ttrain-rmse:8.004497\tval-rmse:8.155423\n",
        "[48]\ttrain-rmse:7.949891\tval-rmse:8.100339\n"
       ]
      },
      {
       "output_type": "stream",
       "stream": "stderr",
       "text": [
        "[49]\ttrain-rmse:7.896591\tval-rmse:8.046816\n",
        "[50]\ttrain-rmse:7.843237\tval-rmse:7.992666\n"
       ]
      },
      {
       "output_type": "stream",
       "stream": "stderr",
       "text": [
        "[51]\ttrain-rmse:7.790645\tval-rmse:7.939781\n",
        "[52]\ttrain-rmse:7.738732\tval-rmse:7.887678\n"
       ]
      },
      {
       "output_type": "stream",
       "stream": "stderr",
       "text": [
        "[53]\ttrain-rmse:7.688071\tval-rmse:7.836663\n",
        "[54]\ttrain-rmse:7.637918\tval-rmse:7.785783\n"
       ]
      },
      {
       "output_type": "stream",
       "stream": "stderr",
       "text": [
        "[55]\ttrain-rmse:7.588081\tval-rmse:7.735547\n",
        "[56]\ttrain-rmse:7.538823\tval-rmse:7.685649\n"
       ]
      },
      {
       "output_type": "stream",
       "stream": "stderr",
       "text": [
        "[57]\ttrain-rmse:7.490683\tval-rmse:7.637323\n",
        "[58]\ttrain-rmse:7.441819\tval-rmse:7.588126\n"
       ]
      },
      {
       "output_type": "stream",
       "stream": "stderr",
       "text": [
        "[59]\ttrain-rmse:7.394026\tval-rmse:7.540039\n",
        "[60]\ttrain-rmse:7.347291\tval-rmse:7.492799\n"
       ]
      },
      {
       "output_type": "stream",
       "stream": "stderr",
       "text": [
        "[61]\ttrain-rmse:7.301218\tval-rmse:7.446409\n",
        "[62]\ttrain-rmse:7.255850\tval-rmse:7.400788\n"
       ]
      },
      {
       "output_type": "stream",
       "stream": "stderr",
       "text": [
        "[63]\ttrain-rmse:7.210669\tval-rmse:7.355294\n",
        "[64]\ttrain-rmse:7.165981\tval-rmse:7.310040\n"
       ]
      },
      {
       "output_type": "stream",
       "stream": "stderr",
       "text": [
        "[65]\ttrain-rmse:7.121630\tval-rmse:7.265166\n",
        "[66]\ttrain-rmse:7.078074\tval-rmse:7.221290\n"
       ]
      },
      {
       "output_type": "stream",
       "stream": "stderr",
       "text": [
        "[67]\ttrain-rmse:7.035086\tval-rmse:7.178141\n",
        "[68]\ttrain-rmse:6.993080\tval-rmse:7.135776\n"
       ]
      },
      {
       "output_type": "stream",
       "stream": "stderr",
       "text": [
        "[69]\ttrain-rmse:6.951047\tval-rmse:7.093567\n",
        "[70]\ttrain-rmse:6.909626\tval-rmse:7.051881\n"
       ]
      },
      {
       "output_type": "stream",
       "stream": "stderr",
       "text": [
        "[71]\ttrain-rmse:6.869378\tval-rmse:7.011499\n",
        "[72]\ttrain-rmse:6.829181\tval-rmse:6.971206\n"
       ]
      },
      {
       "output_type": "stream",
       "stream": "stderr",
       "text": [
        "[73]\ttrain-rmse:6.789486\tval-rmse:6.930777\n",
        "[74]\ttrain-rmse:6.750058\tval-rmse:6.891233\n"
       ]
      },
      {
       "output_type": "stream",
       "stream": "stderr",
       "text": [
        "[75]\ttrain-rmse:6.710716\tval-rmse:6.851651\n",
        "[76]\ttrain-rmse:6.672447\tval-rmse:6.813017\n"
       ]
      },
      {
       "output_type": "stream",
       "stream": "stderr",
       "text": [
        "[77]\ttrain-rmse:6.634272\tval-rmse:6.774973\n",
        "[78]\ttrain-rmse:6.596488\tval-rmse:6.736772\n"
       ]
      },
      {
       "output_type": "stream",
       "stream": "stderr",
       "text": [
        "[79]\ttrain-rmse:6.559574\tval-rmse:6.699841\n",
        "[80]\ttrain-rmse:6.522688\tval-rmse:6.662411\n"
       ]
      },
      {
       "output_type": "stream",
       "stream": "stderr",
       "text": [
        "[81]\ttrain-rmse:6.486504\tval-rmse:6.625845\n",
        "[82]\ttrain-rmse:6.451230\tval-rmse:6.590301\n"
       ]
      },
      {
       "output_type": "stream",
       "stream": "stderr",
       "text": [
        "[83]\ttrain-rmse:6.415155\tval-rmse:6.553990\n",
        "[84]\ttrain-rmse:6.380031\tval-rmse:6.518972\n"
       ]
      },
      {
       "output_type": "stream",
       "stream": "stderr",
       "text": [
        "[85]\ttrain-rmse:6.345704\tval-rmse:6.484279\n",
        "[86]\ttrain-rmse:6.311529\tval-rmse:6.449943\n"
       ]
      },
      {
       "output_type": "stream",
       "stream": "stderr",
       "text": [
        "[87]\ttrain-rmse:6.277737\tval-rmse:6.416045\n",
        "[88]\ttrain-rmse:6.244621\tval-rmse:6.382372\n"
       ]
      },
      {
       "output_type": "stream",
       "stream": "stderr",
       "text": [
        "[89]\ttrain-rmse:6.211464\tval-rmse:6.349411\n",
        "[90]\ttrain-rmse:6.179574\tval-rmse:6.317398\n"
       ]
      },
      {
       "output_type": "stream",
       "stream": "stderr",
       "text": [
        "[91]\ttrain-rmse:6.148008\tval-rmse:6.285753\n",
        "[92]\ttrain-rmse:6.116827\tval-rmse:6.254164\n"
       ]
      },
      {
       "output_type": "stream",
       "stream": "stderr",
       "text": [
        "[93]\ttrain-rmse:6.085588\tval-rmse:6.222544\n",
        "[94]\ttrain-rmse:6.055392\tval-rmse:6.192102\n"
       ]
      },
      {
       "output_type": "stream",
       "stream": "stderr",
       "text": [
        "[95]\ttrain-rmse:6.024465\tval-rmse:6.161241\n",
        "[96]\ttrain-rmse:5.994828\tval-rmse:6.131451\n"
       ]
      },
      {
       "output_type": "stream",
       "stream": "stderr",
       "text": [
        "[97]\ttrain-rmse:5.965024\tval-rmse:6.101520\n",
        "[98]\ttrain-rmse:5.936260\tval-rmse:6.072193\n"
       ]
      },
      {
       "output_type": "stream",
       "stream": "stderr",
       "text": [
        "[99]\ttrain-rmse:5.906865\tval-rmse:6.042837\n",
        "[100]\ttrain-rmse:5.878117\tval-rmse:6.013616\n"
       ]
      },
      {
       "output_type": "stream",
       "stream": "stderr",
       "text": [
        "[101]\ttrain-rmse:5.849909\tval-rmse:5.985036\n",
        "[102]\ttrain-rmse:5.822598\tval-rmse:5.957683\n"
       ]
      },
      {
       "output_type": "stream",
       "stream": "stderr",
       "text": [
        "[103]\ttrain-rmse:5.794988\tval-rmse:5.930198\n",
        "[104]\ttrain-rmse:5.768232\tval-rmse:5.903271\n"
       ]
      },
      {
       "output_type": "stream",
       "stream": "stderr",
       "text": [
        "[105]\ttrain-rmse:5.740964\tval-rmse:5.876062\n",
        "[106]\ttrain-rmse:5.714239\tval-rmse:5.849265\n"
       ]
      },
      {
       "output_type": "stream",
       "stream": "stderr",
       "text": [
        "[107]\ttrain-rmse:5.688502\tval-rmse:5.823516\n",
        "[108]\ttrain-rmse:5.663200\tval-rmse:5.797785\n"
       ]
      },
      {
       "output_type": "stream",
       "stream": "stderr",
       "text": [
        "[109]\ttrain-rmse:5.638158\tval-rmse:5.772784\n",
        "[110]\ttrain-rmse:5.612610\tval-rmse:5.747009\n"
       ]
      },
      {
       "output_type": "stream",
       "stream": "stderr",
       "text": [
        "[111]\ttrain-rmse:5.587595\tval-rmse:5.721837\n",
        "[112]\ttrain-rmse:5.563134\tval-rmse:5.697262\n"
       ]
      },
      {
       "output_type": "stream",
       "stream": "stderr",
       "text": [
        "[113]\ttrain-rmse:5.539075\tval-rmse:5.673138\n",
        "[114]\ttrain-rmse:5.515770\tval-rmse:5.649637\n"
       ]
      },
      {
       "output_type": "stream",
       "stream": "stderr",
       "text": [
        "[115]\ttrain-rmse:5.492365\tval-rmse:5.626124\n",
        "[116]\ttrain-rmse:5.469679\tval-rmse:5.603441\n"
       ]
      },
      {
       "output_type": "stream",
       "stream": "stderr",
       "text": [
        "[117]\ttrain-rmse:5.447266\tval-rmse:5.581019\n",
        "[118]\ttrain-rmse:5.424981\tval-rmse:5.558619\n"
       ]
      },
      {
       "output_type": "stream",
       "stream": "stderr",
       "text": [
        "[119]\ttrain-rmse:5.403025\tval-rmse:5.536461\n",
        "[120]\ttrain-rmse:5.381306\tval-rmse:5.514720\n"
       ]
      },
      {
       "output_type": "stream",
       "stream": "stderr",
       "text": [
        "[121]\ttrain-rmse:5.359980\tval-rmse:5.493241\n",
        "[122]\ttrain-rmse:5.338612\tval-rmse:5.471810\n"
       ]
      },
      {
       "output_type": "stream",
       "stream": "stderr",
       "text": [
        "[123]\ttrain-rmse:5.316825\tval-rmse:5.450174\n",
        "[124]\ttrain-rmse:5.295835\tval-rmse:5.428816\n"
       ]
      },
      {
       "output_type": "stream",
       "stream": "stderr",
       "text": [
        "[125]\ttrain-rmse:5.275197\tval-rmse:5.408215\n",
        "[126]\ttrain-rmse:5.254004\tval-rmse:5.386556\n"
       ]
      },
      {
       "output_type": "stream",
       "stream": "stderr",
       "text": [
        "[127]\ttrain-rmse:5.234472\tval-rmse:5.366716\n",
        "[128]\ttrain-rmse:5.213769\tval-rmse:5.346353\n"
       ]
      },
      {
       "output_type": "stream",
       "stream": "stderr",
       "text": [
        "[129]\ttrain-rmse:5.194470\tval-rmse:5.327252\n",
        "[130]\ttrain-rmse:5.174590\tval-rmse:5.307080\n"
       ]
      },
      {
       "output_type": "stream",
       "stream": "stderr",
       "text": [
        "[131]\ttrain-rmse:5.155139\tval-rmse:5.287448\n",
        "[132]\ttrain-rmse:5.136289\tval-rmse:5.268632\n"
       ]
      },
      {
       "output_type": "stream",
       "stream": "stderr",
       "text": [
        "[133]\ttrain-rmse:5.117630\tval-rmse:5.250028\n",
        "[134]\ttrain-rmse:5.099591\tval-rmse:5.232044\n"
       ]
      },
      {
       "output_type": "stream",
       "stream": "stderr",
       "text": [
        "[135]\ttrain-rmse:5.080525\tval-rmse:5.212737\n",
        "[136]\ttrain-rmse:5.062132\tval-rmse:5.193926\n"
       ]
      },
      {
       "output_type": "stream",
       "stream": "stderr",
       "text": [
        "[137]\ttrain-rmse:5.044414\tval-rmse:5.176353\n",
        "[138]\ttrain-rmse:5.026895\tval-rmse:5.158984\n"
       ]
      },
      {
       "output_type": "stream",
       "stream": "stderr",
       "text": [
        "[139]\ttrain-rmse:5.010222\tval-rmse:5.142392\n",
        "[140]\ttrain-rmse:4.993148\tval-rmse:5.125398\n"
       ]
      },
      {
       "output_type": "stream",
       "stream": "stderr",
       "text": [
        "[141]\ttrain-rmse:4.976615\tval-rmse:5.108908\n",
        "[142]\ttrain-rmse:4.960152\tval-rmse:5.092420\n"
       ]
      },
      {
       "output_type": "stream",
       "stream": "stderr",
       "text": [
        "[143]\ttrain-rmse:4.943490\tval-rmse:5.075904\n",
        "[144]\ttrain-rmse:4.927501\tval-rmse:5.059897\n"
       ]
      },
      {
       "output_type": "stream",
       "stream": "stderr",
       "text": [
        "[145]\ttrain-rmse:4.911263\tval-rmse:5.043758\n",
        "[146]\ttrain-rmse:4.895329\tval-rmse:5.028041\n"
       ]
      },
      {
       "output_type": "stream",
       "stream": "stderr",
       "text": [
        "[147]\ttrain-rmse:4.880358\tval-rmse:5.012979\n",
        "[148]\ttrain-rmse:4.865286\tval-rmse:4.998021\n"
       ]
      },
      {
       "output_type": "stream",
       "stream": "stderr",
       "text": [
        "[149]\ttrain-rmse:4.849907\tval-rmse:4.982947\n",
        "[150]\ttrain-rmse:4.835485\tval-rmse:4.968807\n"
       ]
      },
      {
       "output_type": "stream",
       "stream": "stderr",
       "text": [
        "[151]\ttrain-rmse:4.820704\tval-rmse:4.953784\n",
        "[152]\ttrain-rmse:4.806257\tval-rmse:4.939498\n"
       ]
      },
      {
       "output_type": "stream",
       "stream": "stderr",
       "text": [
        "[153]\ttrain-rmse:4.791951\tval-rmse:4.925125\n",
        "[154]\ttrain-rmse:4.777924\tval-rmse:4.910904\n"
       ]
      },
      {
       "output_type": "stream",
       "stream": "stderr",
       "text": [
        "[155]\ttrain-rmse:4.763650\tval-rmse:4.896841\n",
        "[156]\ttrain-rmse:4.749698\tval-rmse:4.883020\n"
       ]
      },
      {
       "output_type": "stream",
       "stream": "stderr",
       "text": [
        "[157]\ttrain-rmse:4.735842\tval-rmse:4.869585\n",
        "[158]\ttrain-rmse:4.721500\tval-rmse:4.855488\n"
       ]
      },
      {
       "output_type": "stream",
       "stream": "stderr",
       "text": [
        "[159]\ttrain-rmse:4.708182\tval-rmse:4.842100\n",
        "[160]\ttrain-rmse:4.694930\tval-rmse:4.828897\n"
       ]
      },
      {
       "output_type": "stream",
       "stream": "stderr",
       "text": [
        "[161]\ttrain-rmse:4.681375\tval-rmse:4.815401\n",
        "[162]\ttrain-rmse:4.668317\tval-rmse:4.802428\n"
       ]
      },
      {
       "output_type": "stream",
       "stream": "stderr",
       "text": [
        "[163]\ttrain-rmse:4.655665\tval-rmse:4.789880\n",
        "[164]\ttrain-rmse:4.643551\tval-rmse:4.778129\n"
       ]
      },
      {
       "output_type": "stream",
       "stream": "stderr",
       "text": [
        "[165]\ttrain-rmse:4.631861\tval-rmse:4.766302\n",
        "[166]\ttrain-rmse:4.619789\tval-rmse:4.753952\n"
       ]
      },
      {
       "output_type": "stream",
       "stream": "stderr",
       "text": [
        "[167]\ttrain-rmse:4.608164\tval-rmse:4.742253\n",
        "[168]\ttrain-rmse:4.596863\tval-rmse:4.730800\n"
       ]
      },
      {
       "output_type": "stream",
       "stream": "stderr",
       "text": [
        "[169]\ttrain-rmse:4.585907\tval-rmse:4.719892\n",
        "[170]\ttrain-rmse:4.574670\tval-rmse:4.708724\n"
       ]
      },
      {
       "output_type": "stream",
       "stream": "stderr",
       "text": [
        "[171]\ttrain-rmse:4.562812\tval-rmse:4.697246\n",
        "[172]\ttrain-rmse:4.550556\tval-rmse:4.684882\n"
       ]
      },
      {
       "output_type": "stream",
       "stream": "stderr",
       "text": [
        "[173]\ttrain-rmse:4.538766\tval-rmse:4.673412\n",
        "[174]\ttrain-rmse:4.526935\tval-rmse:4.661990\n"
       ]
      },
      {
       "output_type": "stream",
       "stream": "stderr",
       "text": [
        "[175]\ttrain-rmse:4.516529\tval-rmse:4.651709\n",
        "[176]\ttrain-rmse:4.505424\tval-rmse:4.640927\n"
       ]
      },
      {
       "output_type": "stream",
       "stream": "stderr",
       "text": [
        "[177]\ttrain-rmse:4.494192\tval-rmse:4.629838\n",
        "[178]\ttrain-rmse:4.483749\tval-rmse:4.619508\n"
       ]
      },
      {
       "output_type": "stream",
       "stream": "stderr",
       "text": [
        "[179]\ttrain-rmse:4.473160\tval-rmse:4.609185\n",
        "[180]\ttrain-rmse:4.461061\tval-rmse:4.597197\n"
       ]
      },
      {
       "output_type": "stream",
       "stream": "stderr",
       "text": [
        "[181]\ttrain-rmse:4.451606\tval-rmse:4.587699\n",
        "[182]\ttrain-rmse:4.441091\tval-rmse:4.577253\n"
       ]
      },
      {
       "output_type": "stream",
       "stream": "stderr",
       "text": [
        "[183]\ttrain-rmse:4.431334\tval-rmse:4.567564\n",
        "[184]\ttrain-rmse:4.420961\tval-rmse:4.557477\n"
       ]
      },
      {
       "output_type": "stream",
       "stream": "stderr",
       "text": [
        "[185]\ttrain-rmse:4.411724\tval-rmse:4.548355\n",
        "[186]\ttrain-rmse:4.401867\tval-rmse:4.538667\n"
       ]
      },
      {
       "output_type": "stream",
       "stream": "stderr",
       "text": [
        "[187]\ttrain-rmse:4.392283\tval-rmse:4.529509\n",
        "[188]\ttrain-rmse:4.382382\tval-rmse:4.519881\n"
       ]
      },
      {
       "output_type": "stream",
       "stream": "stderr",
       "text": [
        "[189]\ttrain-rmse:4.372919\tval-rmse:4.510668\n",
        "[190]\ttrain-rmse:4.363767\tval-rmse:4.501463\n"
       ]
      },
      {
       "output_type": "stream",
       "stream": "stderr",
       "text": [
        "[191]\ttrain-rmse:4.354137\tval-rmse:4.492111\n",
        "[192]\ttrain-rmse:4.344435\tval-rmse:4.482800\n"
       ]
      },
      {
       "output_type": "stream",
       "stream": "stderr",
       "text": [
        "[193]\ttrain-rmse:4.334926\tval-rmse:4.473263\n",
        "[194]\ttrain-rmse:4.325314\tval-rmse:4.463747\n"
       ]
      },
      {
       "output_type": "stream",
       "stream": "stderr",
       "text": [
        "[195]\ttrain-rmse:4.317051\tval-rmse:4.455513\n",
        "[196]\ttrain-rmse:4.307921\tval-rmse:4.446521\n"
       ]
      },
      {
       "output_type": "stream",
       "stream": "stderr",
       "text": [
        "[197]\ttrain-rmse:4.299233\tval-rmse:4.437972\n",
        "[198]\ttrain-rmse:4.290556\tval-rmse:4.429867\n"
       ]
      },
      {
       "output_type": "stream",
       "stream": "stderr",
       "text": [
        "[199]\ttrain-rmse:4.281423\tval-rmse:4.421031\n",
        "[200]\ttrain-rmse:4.272459\tval-rmse:4.412560\n"
       ]
      },
      {
       "output_type": "stream",
       "stream": "stderr",
       "text": [
        "[201]\ttrain-rmse:4.263686\tval-rmse:4.403924\n",
        "[202]\ttrain-rmse:4.253912\tval-rmse:4.394617\n"
       ]
      },
      {
       "output_type": "stream",
       "stream": "stderr",
       "text": [
        "[203]\ttrain-rmse:4.245307\tval-rmse:4.386278\n",
        "[204]\ttrain-rmse:4.237596\tval-rmse:4.378520\n"
       ]
      },
      {
       "output_type": "stream",
       "stream": "stderr",
       "text": [
        "[205]\ttrain-rmse:4.230064\tval-rmse:4.371151\n",
        "[206]\ttrain-rmse:4.222836\tval-rmse:4.364083\n"
       ]
      },
      {
       "output_type": "stream",
       "stream": "stderr",
       "text": [
        "[207]\ttrain-rmse:4.214884\tval-rmse:4.356315\n",
        "[208]\ttrain-rmse:4.206190\tval-rmse:4.347939\n"
       ]
      },
      {
       "output_type": "stream",
       "stream": "stderr",
       "text": [
        "[209]\ttrain-rmse:4.199450\tval-rmse:4.341392\n",
        "[210]\ttrain-rmse:4.191925\tval-rmse:4.333771\n"
       ]
      },
      {
       "output_type": "stream",
       "stream": "stderr",
       "text": [
        "[211]\ttrain-rmse:4.183894\tval-rmse:4.326180\n",
        "[212]\ttrain-rmse:4.174331\tval-rmse:4.317369\n"
       ]
      },
      {
       "output_type": "stream",
       "stream": "stderr",
       "text": [
        "[213]\ttrain-rmse:4.166466\tval-rmse:4.309956\n",
        "[214]\ttrain-rmse:4.158556\tval-rmse:4.302111\n"
       ]
      },
      {
       "output_type": "stream",
       "stream": "stderr",
       "text": [
        "[215]\ttrain-rmse:4.151292\tval-rmse:4.295120\n",
        "[216]\ttrain-rmse:4.144144\tval-rmse:4.288414\n"
       ]
      },
      {
       "output_type": "stream",
       "stream": "stderr",
       "text": [
        "[217]\ttrain-rmse:4.137177\tval-rmse:4.281525\n",
        "[218]\ttrain-rmse:4.129995\tval-rmse:4.274872\n"
       ]
      },
      {
       "output_type": "stream",
       "stream": "stderr",
       "text": [
        "[219]\ttrain-rmse:4.123744\tval-rmse:4.268837\n",
        "[220]\ttrain-rmse:4.116248\tval-rmse:4.261468\n"
       ]
      },
      {
       "output_type": "stream",
       "stream": "stderr",
       "text": [
        "[221]\ttrain-rmse:4.110096\tval-rmse:4.255505\n",
        "[222]\ttrain-rmse:4.103349\tval-rmse:4.249297\n"
       ]
      },
      {
       "output_type": "stream",
       "stream": "stderr",
       "text": [
        "[223]\ttrain-rmse:4.096680\tval-rmse:4.242828\n",
        "[224]\ttrain-rmse:4.090802\tval-rmse:4.237048\n"
       ]
      },
      {
       "output_type": "stream",
       "stream": "stderr",
       "text": [
        "[225]\ttrain-rmse:4.082630\tval-rmse:4.229178\n",
        "[226]\ttrain-rmse:4.076468\tval-rmse:4.222963\n"
       ]
      },
      {
       "output_type": "stream",
       "stream": "stderr",
       "text": [
        "[227]\ttrain-rmse:4.067931\tval-rmse:4.214950\n",
        "[228]\ttrain-rmse:4.061494\tval-rmse:4.208875\n"
       ]
      },
      {
       "output_type": "stream",
       "stream": "stderr",
       "text": [
        "[229]\ttrain-rmse:4.054533\tval-rmse:4.201950\n",
        "[230]\ttrain-rmse:4.047962\tval-rmse:4.195828\n"
       ]
      },
      {
       "output_type": "stream",
       "stream": "stderr",
       "text": [
        "[231]\ttrain-rmse:4.042455\tval-rmse:4.190513\n",
        "[232]\ttrain-rmse:4.035316\tval-rmse:4.183703\n"
       ]
      },
      {
       "output_type": "stream",
       "stream": "stderr",
       "text": [
        "[233]\ttrain-rmse:4.029171\tval-rmse:4.177701\n",
        "[234]\ttrain-rmse:4.022538\tval-rmse:4.171204\n"
       ]
      },
      {
       "output_type": "stream",
       "stream": "stderr",
       "text": [
        "[235]\ttrain-rmse:4.015592\tval-rmse:4.164897\n",
        "[236]\ttrain-rmse:4.008788\tval-rmse:4.158361\n"
       ]
      },
      {
       "output_type": "stream",
       "stream": "stderr",
       "text": [
        "[237]\ttrain-rmse:4.002357\tval-rmse:4.152049\n",
        "[238]\ttrain-rmse:3.996123\tval-rmse:4.145964\n"
       ]
      },
      {
       "output_type": "stream",
       "stream": "stderr",
       "text": [
        "[239]\ttrain-rmse:3.990844\tval-rmse:4.140875\n",
        "[240]\ttrain-rmse:3.983672\tval-rmse:4.134348\n"
       ]
      },
      {
       "output_type": "stream",
       "stream": "stderr",
       "text": [
        "[241]\ttrain-rmse:3.975995\tval-rmse:4.126881\n",
        "[242]\ttrain-rmse:3.971524\tval-rmse:4.122575\n"
       ]
      },
      {
       "output_type": "stream",
       "stream": "stderr",
       "text": [
        "[243]\ttrain-rmse:3.964421\tval-rmse:4.115904\n",
        "[244]\ttrain-rmse:3.957332\tval-rmse:4.109352\n"
       ]
      },
      {
       "output_type": "stream",
       "stream": "stderr",
       "text": [
        "[245]\ttrain-rmse:3.951042\tval-rmse:4.103274\n",
        "[246]\ttrain-rmse:3.946125\tval-rmse:4.098391\n"
       ]
      },
      {
       "output_type": "stream",
       "stream": "stderr",
       "text": [
        "[247]\ttrain-rmse:3.939975\tval-rmse:4.092342\n",
        "[248]\ttrain-rmse:3.935383\tval-rmse:4.087903\n"
       ]
      },
      {
       "output_type": "stream",
       "stream": "stderr",
       "text": [
        "[249]\ttrain-rmse:3.930622\tval-rmse:4.083357\n",
        "[250]\ttrain-rmse:3.925013\tval-rmse:4.077713\n"
       ]
      },
      {
       "output_type": "stream",
       "stream": "stderr",
       "text": [
        "[251]\ttrain-rmse:3.919336\tval-rmse:4.072255\n",
        "[252]\ttrain-rmse:3.911955\tval-rmse:4.065363\n"
       ]
      },
      {
       "output_type": "stream",
       "stream": "stderr",
       "text": [
        "[253]\ttrain-rmse:3.905980\tval-rmse:4.059499\n",
        "[254]\ttrain-rmse:3.901017\tval-rmse:4.054524\n"
       ]
      },
      {
       "output_type": "stream",
       "stream": "stderr",
       "text": [
        "[255]\ttrain-rmse:3.895857\tval-rmse:4.049654\n",
        "[256]\ttrain-rmse:3.891308\tval-rmse:4.045419\n"
       ]
      },
      {
       "output_type": "stream",
       "stream": "stderr",
       "text": [
        "[257]\ttrain-rmse:3.885021\tval-rmse:4.039639\n",
        "[258]\ttrain-rmse:3.879067\tval-rmse:4.034278\n"
       ]
      },
      {
       "output_type": "stream",
       "stream": "stderr",
       "text": [
        "[259]\ttrain-rmse:3.873755\tval-rmse:4.029555\n",
        "[260]\ttrain-rmse:3.868622\tval-rmse:4.024648\n"
       ]
      },
      {
       "output_type": "stream",
       "stream": "stderr",
       "text": [
        "[261]\ttrain-rmse:3.864359\tval-rmse:4.020589\n",
        "[262]\ttrain-rmse:3.859749\tval-rmse:4.016262\n"
       ]
      },
      {
       "output_type": "stream",
       "stream": "stderr",
       "text": [
        "[263]\ttrain-rmse:3.855270\tval-rmse:4.011857\n",
        "[264]\ttrain-rmse:3.849617\tval-rmse:4.006670\n"
       ]
      },
      {
       "output_type": "stream",
       "stream": "stderr",
       "text": [
        "[265]\ttrain-rmse:3.843025\tval-rmse:4.000475\n",
        "[266]\ttrain-rmse:3.839425\tval-rmse:3.997141\n"
       ]
      },
      {
       "output_type": "stream",
       "stream": "stderr",
       "text": [
        "[267]\ttrain-rmse:3.835127\tval-rmse:3.992917\n",
        "[268]\ttrain-rmse:3.829221\tval-rmse:3.987377\n"
       ]
      },
      {
       "output_type": "stream",
       "stream": "stderr",
       "text": [
        "[269]\ttrain-rmse:3.823924\tval-rmse:3.982630\n",
        "[270]\ttrain-rmse:3.818560\tval-rmse:3.977697\n"
       ]
      },
      {
       "output_type": "stream",
       "stream": "stderr",
       "text": [
        "[271]\ttrain-rmse:3.813172\tval-rmse:3.972682\n",
        "[272]\ttrain-rmse:3.808352\tval-rmse:3.968294\n"
       ]
      },
      {
       "output_type": "stream",
       "stream": "stderr",
       "text": [
        "[273]\ttrain-rmse:3.804311\tval-rmse:3.964357\n",
        "[274]\ttrain-rmse:3.800297\tval-rmse:3.960499\n"
       ]
      },
      {
       "output_type": "stream",
       "stream": "stderr",
       "text": [
        "[275]\ttrain-rmse:3.794120\tval-rmse:3.955088\n",
        "[276]\ttrain-rmse:3.789823\tval-rmse:3.951254\n"
       ]
      },
      {
       "output_type": "stream",
       "stream": "stderr",
       "text": [
        "[277]\ttrain-rmse:3.785261\tval-rmse:3.946797\n",
        "[278]\ttrain-rmse:3.781491\tval-rmse:3.943145\n"
       ]
      },
      {
       "output_type": "stream",
       "stream": "stderr",
       "text": [
        "[279]\ttrain-rmse:3.777509\tval-rmse:3.939283\n",
        "[280]\ttrain-rmse:3.773219\tval-rmse:3.935101\n"
       ]
      },
      {
       "output_type": "stream",
       "stream": "stderr",
       "text": [
        "[281]\ttrain-rmse:3.768509\tval-rmse:3.930662\n",
        "[282]\ttrain-rmse:3.764610\tval-rmse:3.926962\n"
       ]
      },
      {
       "output_type": "stream",
       "stream": "stderr",
       "text": [
        "[283]\ttrain-rmse:3.759341\tval-rmse:3.921983\n",
        "[284]\ttrain-rmse:3.754936\tval-rmse:3.917669\n"
       ]
      },
      {
       "output_type": "stream",
       "stream": "stderr",
       "text": [
        "[285]\ttrain-rmse:3.749301\tval-rmse:3.912526\n",
        "[286]\ttrain-rmse:3.745593\tval-rmse:3.909209\n"
       ]
      },
      {
       "output_type": "stream",
       "stream": "stderr",
       "text": [
        "[287]\ttrain-rmse:3.740484\tval-rmse:3.904473\n",
        "[288]\ttrain-rmse:3.736570\tval-rmse:3.900964\n"
       ]
      },
      {
       "output_type": "stream",
       "stream": "stderr",
       "text": [
        "[289]\ttrain-rmse:3.731784\tval-rmse:3.896450\n",
        "[290]\ttrain-rmse:3.727300\tval-rmse:3.892201\n"
       ]
      },
      {
       "output_type": "stream",
       "stream": "stderr",
       "text": [
        "[291]\ttrain-rmse:3.722891\tval-rmse:3.888126\n",
        "[292]\ttrain-rmse:3.718930\tval-rmse:3.884371\n"
       ]
      },
      {
       "output_type": "stream",
       "stream": "stderr",
       "text": [
        "[293]\ttrain-rmse:3.714525\tval-rmse:3.880543\n",
        "[294]\ttrain-rmse:3.710805\tval-rmse:3.877070\n"
       ]
      },
      {
       "output_type": "stream",
       "stream": "stderr",
       "text": [
        "[295]\ttrain-rmse:3.706772\tval-rmse:3.873320\n",
        "[296]\ttrain-rmse:3.702899\tval-rmse:3.869604\n"
       ]
      },
      {
       "output_type": "stream",
       "stream": "stderr",
       "text": [
        "[297]\ttrain-rmse:3.699031\tval-rmse:3.865929\n",
        "[298]\ttrain-rmse:3.695457\tval-rmse:3.862623\n"
       ]
      },
      {
       "output_type": "stream",
       "stream": "stderr",
       "text": [
        "[299]\ttrain-rmse:3.691170\tval-rmse:3.858669\n",
        "[300]\ttrain-rmse:3.687544\tval-rmse:3.855319\n"
       ]
      },
      {
       "output_type": "stream",
       "stream": "stderr",
       "text": [
        "[301]\ttrain-rmse:3.684446\tval-rmse:3.852441\n",
        "[302]\ttrain-rmse:3.679258\tval-rmse:3.847915\n"
       ]
      },
      {
       "output_type": "stream",
       "stream": "stderr",
       "text": [
        "[303]\ttrain-rmse:3.676700\tval-rmse:3.845408\n",
        "[304]\ttrain-rmse:3.671758\tval-rmse:3.840619\n"
       ]
      },
      {
       "output_type": "stream",
       "stream": "stderr",
       "text": [
        "[305]\ttrain-rmse:3.665821\tval-rmse:3.835165\n",
        "[306]\ttrain-rmse:3.662423\tval-rmse:3.832027\n"
       ]
      },
      {
       "output_type": "stream",
       "stream": "stderr",
       "text": [
        "[307]\ttrain-rmse:3.658197\tval-rmse:3.828001\n",
        "[308]\ttrain-rmse:3.653272\tval-rmse:3.823436\n"
       ]
      },
      {
       "output_type": "stream",
       "stream": "stderr",
       "text": [
        "[309]\ttrain-rmse:3.649707\tval-rmse:3.820141\n",
        "[310]\ttrain-rmse:3.646986\tval-rmse:3.817597\n"
       ]
      },
      {
       "output_type": "stream",
       "stream": "stderr",
       "text": [
        "[311]\ttrain-rmse:3.643068\tval-rmse:3.814019\n",
        "[312]\ttrain-rmse:3.638661\tval-rmse:3.810058\n"
       ]
      },
      {
       "output_type": "stream",
       "stream": "stderr",
       "text": [
        "[313]\ttrain-rmse:3.635402\tval-rmse:3.807057\n",
        "[314]\ttrain-rmse:3.631958\tval-rmse:3.803866\n"
       ]
      },
      {
       "output_type": "stream",
       "stream": "stderr",
       "text": [
        "[315]\ttrain-rmse:3.627106\tval-rmse:3.799576\n",
        "[316]\ttrain-rmse:3.622880\tval-rmse:3.795788\n"
       ]
      },
      {
       "output_type": "stream",
       "stream": "stderr",
       "text": [
        "[317]\ttrain-rmse:3.620206\tval-rmse:3.793296\n",
        "[318]\ttrain-rmse:3.615751\tval-rmse:3.789477\n"
       ]
      },
      {
       "output_type": "stream",
       "stream": "stderr",
       "text": [
        "[319]\ttrain-rmse:3.613656\tval-rmse:3.787651\n",
        "[320]\ttrain-rmse:3.610603\tval-rmse:3.784870\n"
       ]
      },
      {
       "output_type": "stream",
       "stream": "stderr",
       "text": [
        "[321]\ttrain-rmse:3.607583\tval-rmse:3.782241\n",
        "[322]\ttrain-rmse:3.603521\tval-rmse:3.778539\n"
       ]
      },
      {
       "output_type": "stream",
       "stream": "stderr",
       "text": [
        "[323]\ttrain-rmse:3.600586\tval-rmse:3.775784\n",
        "[324]\ttrain-rmse:3.596812\tval-rmse:3.772160\n"
       ]
      },
      {
       "output_type": "stream",
       "stream": "stderr",
       "text": [
        "[325]\ttrain-rmse:3.592254\tval-rmse:3.768002\n",
        "[326]\ttrain-rmse:3.586273\tval-rmse:3.762835\n"
       ]
      },
      {
       "output_type": "stream",
       "stream": "stderr",
       "text": [
        "[327]\ttrain-rmse:3.581392\tval-rmse:3.758617\n",
        "[328]\ttrain-rmse:3.578017\tval-rmse:3.755435\n"
       ]
      },
      {
       "output_type": "stream",
       "stream": "stderr",
       "text": [
        "[329]\ttrain-rmse:3.574593\tval-rmse:3.752511\n",
        "[330]\ttrain-rmse:3.571204\tval-rmse:3.749441\n"
       ]
      },
      {
       "output_type": "stream",
       "stream": "stderr",
       "text": [
        "[331]\ttrain-rmse:3.567703\tval-rmse:3.746363\n",
        "[332]\ttrain-rmse:3.565206\tval-rmse:3.744123\n"
       ]
      },
      {
       "output_type": "stream",
       "stream": "stderr",
       "text": [
        "[333]\ttrain-rmse:3.561666\tval-rmse:3.740861\n",
        "[334]\ttrain-rmse:3.558166\tval-rmse:3.737829\n"
       ]
      },
      {
       "output_type": "stream",
       "stream": "stderr",
       "text": [
        "[335]\ttrain-rmse:3.555332\tval-rmse:3.735426\n",
        "[336]\ttrain-rmse:3.551495\tval-rmse:3.731916\n"
       ]
      },
      {
       "output_type": "stream",
       "stream": "stderr",
       "text": [
        "[337]\ttrain-rmse:3.546218\tval-rmse:3.727274\n",
        "[338]\ttrain-rmse:3.543903\tval-rmse:3.725086\n"
       ]
      },
      {
       "output_type": "stream",
       "stream": "stderr",
       "text": [
        "[339]\ttrain-rmse:3.541283\tval-rmse:3.722892\n",
        "[340]\ttrain-rmse:3.536318\tval-rmse:3.718298\n"
       ]
      },
      {
       "output_type": "stream",
       "stream": "stderr",
       "text": [
        "[341]\ttrain-rmse:3.533422\tval-rmse:3.715442\n",
        "[342]\ttrain-rmse:3.530170\tval-rmse:3.712329\n"
       ]
      },
      {
       "output_type": "stream",
       "stream": "stderr",
       "text": [
        "[343]\ttrain-rmse:3.525588\tval-rmse:3.708010\n",
        "[344]\ttrain-rmse:3.523154\tval-rmse:3.705656\n"
       ]
      },
      {
       "output_type": "stream",
       "stream": "stderr",
       "text": [
        "[345]\ttrain-rmse:3.517470\tval-rmse:3.700594\n",
        "[346]\ttrain-rmse:3.513576\tval-rmse:3.697195\n"
       ]
      },
      {
       "output_type": "stream",
       "stream": "stderr",
       "text": [
        "[347]\ttrain-rmse:3.509259\tval-rmse:3.693384\n",
        "[348]\ttrain-rmse:3.505303\tval-rmse:3.689939\n"
       ]
      },
      {
       "output_type": "stream",
       "stream": "stderr",
       "text": [
        "[349]\ttrain-rmse:3.501721\tval-rmse:3.686874\n",
        "[350]\ttrain-rmse:3.499858\tval-rmse:3.685143\n"
       ]
      },
      {
       "output_type": "stream",
       "stream": "stderr",
       "text": [
        "[351]\ttrain-rmse:3.497212\tval-rmse:3.682748\n",
        "[352]\ttrain-rmse:3.492991\tval-rmse:3.679061\n"
       ]
      },
      {
       "output_type": "stream",
       "stream": "stderr",
       "text": [
        "[353]\ttrain-rmse:3.489064\tval-rmse:3.675521\n",
        "[354]\ttrain-rmse:3.486017\tval-rmse:3.672727\n"
       ]
      },
      {
       "output_type": "stream",
       "stream": "stderr",
       "text": [
        "[355]\ttrain-rmse:3.481497\tval-rmse:3.668498\n",
        "[356]\ttrain-rmse:3.478739\tval-rmse:3.665876\n"
       ]
      },
      {
       "output_type": "stream",
       "stream": "stderr",
       "text": [
        "[357]\ttrain-rmse:3.475245\tval-rmse:3.662915\n",
        "[358]\ttrain-rmse:3.473046\tval-rmse:3.660901\n"
       ]
      },
      {
       "output_type": "stream",
       "stream": "stderr",
       "text": [
        "[359]\ttrain-rmse:3.469386\tval-rmse:3.657582\n",
        "[360]\ttrain-rmse:3.465903\tval-rmse:3.654574\n"
       ]
      },
      {
       "output_type": "stream",
       "stream": "stderr",
       "text": [
        "[361]\ttrain-rmse:3.461234\tval-rmse:3.650510\n",
        "[362]\ttrain-rmse:3.458897\tval-rmse:3.648284\n"
       ]
      },
      {
       "output_type": "stream",
       "stream": "stderr",
       "text": [
        "[363]\ttrain-rmse:3.456037\tval-rmse:3.645545\n",
        "[364]\ttrain-rmse:3.452783\tval-rmse:3.642834\n"
       ]
      },
      {
       "output_type": "stream",
       "stream": "stderr",
       "text": [
        "[365]\ttrain-rmse:3.450582\tval-rmse:3.640813\n",
        "[366]\ttrain-rmse:3.447097\tval-rmse:3.637563\n"
       ]
      },
      {
       "output_type": "stream",
       "stream": "stderr",
       "text": [
        "[367]\ttrain-rmse:3.441976\tval-rmse:3.633123\n",
        "[368]\ttrain-rmse:3.438289\tval-rmse:3.629820\n"
       ]
      },
      {
       "output_type": "stream",
       "stream": "stderr",
       "text": [
        "[369]\ttrain-rmse:3.436457\tval-rmse:3.628219\n",
        "[370]\ttrain-rmse:3.434052\tval-rmse:3.625920\n"
       ]
      },
      {
       "output_type": "stream",
       "stream": "stderr",
       "text": [
        "[371]\ttrain-rmse:3.433057\tval-rmse:3.625009\n",
        "[372]\ttrain-rmse:3.429316\tval-rmse:3.621816\n"
       ]
      },
      {
       "output_type": "stream",
       "stream": "stderr",
       "text": [
        "[373]\ttrain-rmse:3.425940\tval-rmse:3.618846\n",
        "[374]\ttrain-rmse:3.422172\tval-rmse:3.615536\n"
       ]
      },
      {
       "output_type": "stream",
       "stream": "stderr",
       "text": [
        "[375]\ttrain-rmse:3.419814\tval-rmse:3.613267\n",
        "[376]\ttrain-rmse:3.417627\tval-rmse:3.611207\n"
       ]
      },
      {
       "output_type": "stream",
       "stream": "stderr",
       "text": [
        "[377]\ttrain-rmse:3.414513\tval-rmse:3.608216\n",
        "[378]\ttrain-rmse:3.412540\tval-rmse:3.606424\n"
       ]
      },
      {
       "output_type": "stream",
       "stream": "stderr",
       "text": [
        "[379]\ttrain-rmse:3.409327\tval-rmse:3.603527\n",
        "[380]\ttrain-rmse:3.407110\tval-rmse:3.601562\n"
       ]
      },
      {
       "output_type": "stream",
       "stream": "stderr",
       "text": [
        "[381]\ttrain-rmse:3.404273\tval-rmse:3.599124\n",
        "[382]\ttrain-rmse:3.401725\tval-rmse:3.597003\n"
       ]
      },
      {
       "output_type": "stream",
       "stream": "stderr",
       "text": [
        "[383]\ttrain-rmse:3.399610\tval-rmse:3.595144\n",
        "[384]\ttrain-rmse:3.397266\tval-rmse:3.593120\n"
       ]
      },
      {
       "output_type": "stream",
       "stream": "stderr",
       "text": [
        "[385]\ttrain-rmse:3.394206\tval-rmse:3.590424\n",
        "[386]\ttrain-rmse:3.391665\tval-rmse:3.588109\n"
       ]
      },
      {
       "output_type": "stream",
       "stream": "stderr",
       "text": [
        "[387]\ttrain-rmse:3.388363\tval-rmse:3.585221\n",
        "[388]\ttrain-rmse:3.385896\tval-rmse:3.583017\n"
       ]
      },
      {
       "output_type": "stream",
       "stream": "stderr",
       "text": [
        "[389]\ttrain-rmse:3.384210\tval-rmse:3.581624\n",
        "[390]\ttrain-rmse:3.381739\tval-rmse:3.579494\n"
       ]
      },
      {
       "output_type": "stream",
       "stream": "stderr",
       "text": [
        "[391]\ttrain-rmse:3.379483\tval-rmse:3.577222\n",
        "[392]\ttrain-rmse:3.376287\tval-rmse:3.574094\n"
       ]
      },
      {
       "output_type": "stream",
       "stream": "stderr",
       "text": [
        "[393]\ttrain-rmse:3.373808\tval-rmse:3.571828\n",
        "[394]\ttrain-rmse:3.371425\tval-rmse:3.569868\n"
       ]
      },
      {
       "output_type": "stream",
       "stream": "stderr",
       "text": [
        "[395]\ttrain-rmse:3.368256\tval-rmse:3.567124\n",
        "[396]\ttrain-rmse:3.365548\tval-rmse:3.564515\n"
       ]
      },
      {
       "output_type": "stream",
       "stream": "stderr",
       "text": [
        "[397]\ttrain-rmse:3.363072\tval-rmse:3.562269\n",
        "[398]\ttrain-rmse:3.359250\tval-rmse:3.558965\n"
       ]
      },
      {
       "output_type": "stream",
       "stream": "stderr",
       "text": [
        "[399]\ttrain-rmse:3.355566\tval-rmse:3.555583\n",
        "[400]\ttrain-rmse:3.351972\tval-rmse:3.552308\n"
       ]
      },
      {
       "output_type": "stream",
       "stream": "stderr",
       "text": [
        "[401]\ttrain-rmse:3.349517\tval-rmse:3.550008\n",
        "[402]\ttrain-rmse:3.348049\tval-rmse:3.548740\n"
       ]
      },
      {
       "output_type": "stream",
       "stream": "stderr",
       "text": [
        "[403]\ttrain-rmse:3.345990\tval-rmse:3.547074\n",
        "[404]\ttrain-rmse:3.344325\tval-rmse:3.545470\n"
       ]
      },
      {
       "output_type": "stream",
       "stream": "stderr",
       "text": [
        "[405]\ttrain-rmse:3.340777\tval-rmse:3.542579\n",
        "[406]\ttrain-rmse:3.338080\tval-rmse:3.540143\n"
       ]
      },
      {
       "output_type": "stream",
       "stream": "stderr",
       "text": [
        "[407]\ttrain-rmse:3.334415\tval-rmse:3.536879\n",
        "[408]\ttrain-rmse:3.332342\tval-rmse:3.535065\n"
       ]
      },
      {
       "output_type": "stream",
       "stream": "stderr",
       "text": [
        "[409]\ttrain-rmse:3.329796\tval-rmse:3.532712\n",
        "[410]\ttrain-rmse:3.327633\tval-rmse:3.530797\n"
       ]
      },
      {
       "output_type": "stream",
       "stream": "stderr",
       "text": [
        "[411]\ttrain-rmse:3.325635\tval-rmse:3.528871\n",
        "[412]\ttrain-rmse:3.323634\tval-rmse:3.527116\n"
       ]
      },
      {
       "output_type": "stream",
       "stream": "stderr",
       "text": [
        "[413]\ttrain-rmse:3.321028\tval-rmse:3.524734\n",
        "[414]\ttrain-rmse:3.318224\tval-rmse:3.522304\n"
       ]
      },
      {
       "output_type": "stream",
       "stream": "stderr",
       "text": [
        "[415]\ttrain-rmse:3.317219\tval-rmse:3.521420\n",
        "[416]\ttrain-rmse:3.314910\tval-rmse:3.519431\n"
       ]
      },
      {
       "output_type": "stream",
       "stream": "stderr",
       "text": [
        "[417]\ttrain-rmse:3.312897\tval-rmse:3.517701\n",
        "[418]\ttrain-rmse:3.310969\tval-rmse:3.515997\n"
       ]
      },
      {
       "output_type": "stream",
       "stream": "stderr",
       "text": [
        "[419]\ttrain-rmse:3.307389\tval-rmse:3.512971\n",
        "[420]\ttrain-rmse:3.305652\tval-rmse:3.511388\n"
       ]
      },
      {
       "output_type": "stream",
       "stream": "stderr",
       "text": [
        "[421]\ttrain-rmse:3.302211\tval-rmse:3.508262\n",
        "[422]\ttrain-rmse:3.299770\tval-rmse:3.506062\n"
       ]
      },
      {
       "output_type": "stream",
       "stream": "stderr",
       "text": [
        "[423]\ttrain-rmse:3.297785\tval-rmse:3.504303\n",
        "[424]\ttrain-rmse:3.294939\tval-rmse:3.501674\n"
       ]
      },
      {
       "output_type": "stream",
       "stream": "stderr",
       "text": [
        "[425]\ttrain-rmse:3.293042\tval-rmse:3.499855\n",
        "[426]\ttrain-rmse:3.292006\tval-rmse:3.498955\n"
       ]
      },
      {
       "output_type": "stream",
       "stream": "stderr",
       "text": [
        "[427]\ttrain-rmse:3.288536\tval-rmse:3.495704\n",
        "[428]\ttrain-rmse:3.285795\tval-rmse:3.493285\n"
       ]
      },
      {
       "output_type": "stream",
       "stream": "stderr",
       "text": [
        "[429]\ttrain-rmse:3.281642\tval-rmse:3.489620\n",
        "[430]\ttrain-rmse:3.278020\tval-rmse:3.486269\n"
       ]
      },
      {
       "output_type": "stream",
       "stream": "stderr",
       "text": [
        "[431]\ttrain-rmse:3.275626\tval-rmse:3.484024\n",
        "[432]\ttrain-rmse:3.274086\tval-rmse:3.482766\n"
       ]
      },
      {
       "output_type": "stream",
       "stream": "stderr",
       "text": [
        "[433]\ttrain-rmse:3.272126\tval-rmse:3.481002\n",
        "[434]\ttrain-rmse:3.268145\tval-rmse:3.477486\n"
       ]
      },
      {
       "output_type": "stream",
       "stream": "stderr",
       "text": [
        "[435]\ttrain-rmse:3.267135\tval-rmse:3.476618\n",
        "[436]\ttrain-rmse:3.265262\tval-rmse:3.475002\n"
       ]
      },
      {
       "output_type": "stream",
       "stream": "stderr",
       "text": [
        "[437]\ttrain-rmse:3.263472\tval-rmse:3.473439\n",
        "[438]\ttrain-rmse:3.259841\tval-rmse:3.470268\n"
       ]
      },
      {
       "output_type": "stream",
       "stream": "stderr",
       "text": [
        "[439]\ttrain-rmse:3.255275\tval-rmse:3.466274\n",
        "[440]\ttrain-rmse:3.252092\tval-rmse:3.463268\n"
       ]
      },
      {
       "output_type": "stream",
       "stream": "stderr",
       "text": [
        "[441]\ttrain-rmse:3.249628\tval-rmse:3.461046\n",
        "[442]\ttrain-rmse:3.245736\tval-rmse:3.457630\n"
       ]
      },
      {
       "output_type": "stream",
       "stream": "stderr",
       "text": [
        "[443]\ttrain-rmse:3.242361\tval-rmse:3.454683\n",
        "[444]\ttrain-rmse:3.241441\tval-rmse:3.453921\n"
       ]
      },
      {
       "output_type": "stream",
       "stream": "stderr",
       "text": [
        "[445]\ttrain-rmse:3.240057\tval-rmse:3.452572\n",
        "[446]\ttrain-rmse:3.238378\tval-rmse:3.451001\n"
       ]
      },
      {
       "output_type": "stream",
       "stream": "stderr",
       "text": [
        "[447]\ttrain-rmse:3.235378\tval-rmse:3.448149\n",
        "[448]\ttrain-rmse:3.232024\tval-rmse:3.445531\n"
       ]
      },
      {
       "output_type": "stream",
       "stream": "stderr",
       "text": [
        "[449]\ttrain-rmse:3.229639\tval-rmse:3.443417\n",
        "[450]\ttrain-rmse:3.226373\tval-rmse:3.440560\n"
       ]
      },
      {
       "output_type": "stream",
       "stream": "stderr",
       "text": [
        "[451]\ttrain-rmse:3.223415\tval-rmse:3.437981\n",
        "[452]\ttrain-rmse:3.221046\tval-rmse:3.435966\n"
       ]
      },
      {
       "output_type": "stream",
       "stream": "stderr",
       "text": [
        "[453]\ttrain-rmse:3.218638\tval-rmse:3.433839\n",
        "[454]\ttrain-rmse:3.216274\tval-rmse:3.431903\n"
       ]
      },
      {
       "output_type": "stream",
       "stream": "stderr",
       "text": [
        "[455]\ttrain-rmse:3.215228\tval-rmse:3.431079\n",
        "[456]\ttrain-rmse:3.211722\tval-rmse:3.428072\n"
       ]
      },
      {
       "output_type": "stream",
       "stream": "stderr",
       "text": [
        "[457]\ttrain-rmse:3.210928\tval-rmse:3.427372\n",
        "[458]\ttrain-rmse:3.208380\tval-rmse:3.425149\n"
       ]
      },
      {
       "output_type": "stream",
       "stream": "stderr",
       "text": [
        "[459]\ttrain-rmse:3.206238\tval-rmse:3.423187\n",
        "[460]\ttrain-rmse:3.204772\tval-rmse:3.421899\n"
       ]
      },
      {
       "output_type": "stream",
       "stream": "stderr",
       "text": [
        "[461]\ttrain-rmse:3.203004\tval-rmse:3.420241\n",
        "[462]\ttrain-rmse:3.201053\tval-rmse:3.418616\n"
       ]
      },
      {
       "output_type": "stream",
       "stream": "stderr",
       "text": [
        "[463]\ttrain-rmse:3.197708\tval-rmse:3.415873\n",
        "[464]\ttrain-rmse:3.194964\tval-rmse:3.413492\n"
       ]
      },
      {
       "output_type": "stream",
       "stream": "stderr",
       "text": [
        "[465]\ttrain-rmse:3.192823\tval-rmse:3.411695\n",
        "[466]\ttrain-rmse:3.189844\tval-rmse:3.409196\n"
       ]
      },
      {
       "output_type": "stream",
       "stream": "stderr",
       "text": [
        "[467]\ttrain-rmse:3.188260\tval-rmse:3.407723\n",
        "[468]\ttrain-rmse:3.186081\tval-rmse:3.405766\n"
       ]
      },
      {
       "output_type": "stream",
       "stream": "stderr",
       "text": [
        "[469]\ttrain-rmse:3.184509\tval-rmse:3.404447\n",
        "[470]\ttrain-rmse:3.181257\tval-rmse:3.401624\n"
       ]
      },
      {
       "output_type": "stream",
       "stream": "stderr",
       "text": [
        "[471]\ttrain-rmse:3.179523\tval-rmse:3.400036\n",
        "[472]\ttrain-rmse:3.177405\tval-rmse:3.397990\n"
       ]
      },
      {
       "output_type": "stream",
       "stream": "stderr",
       "text": [
        "[473]\ttrain-rmse:3.174379\tval-rmse:3.395409\n",
        "[474]\ttrain-rmse:3.170796\tval-rmse:3.392261\n"
       ]
      },
      {
       "output_type": "stream",
       "stream": "stderr",
       "text": [
        "[475]\ttrain-rmse:3.169543\tval-rmse:3.391148\n",
        "[476]\ttrain-rmse:3.167901\tval-rmse:3.389748\n"
       ]
      },
      {
       "output_type": "stream",
       "stream": "stderr",
       "text": [
        "[477]\ttrain-rmse:3.166525\tval-rmse:3.388640\n",
        "[478]\ttrain-rmse:3.165484\tval-rmse:3.387706\n"
       ]
      },
      {
       "output_type": "stream",
       "stream": "stderr",
       "text": [
        "[479]\ttrain-rmse:3.162318\tval-rmse:3.384913\n",
        "[480]\ttrain-rmse:3.160836\tval-rmse:3.383486\n"
       ]
      },
      {
       "output_type": "stream",
       "stream": "stderr",
       "text": [
        "[481]\ttrain-rmse:3.159249\tval-rmse:3.382083\n",
        "[482]\ttrain-rmse:3.154907\tval-rmse:3.378407\n"
       ]
      },
      {
       "output_type": "stream",
       "stream": "stderr",
       "text": [
        "[483]\ttrain-rmse:3.152492\tval-rmse:3.376381\n",
        "[484]\ttrain-rmse:3.151243\tval-rmse:3.375251\n"
       ]
      },
      {
       "output_type": "stream",
       "stream": "stderr",
       "text": [
        "[485]\ttrain-rmse:3.146695\tval-rmse:3.371302\n",
        "[486]\ttrain-rmse:3.145611\tval-rmse:3.370302\n"
       ]
      },
      {
       "output_type": "stream",
       "stream": "stderr",
       "text": [
        "[487]\ttrain-rmse:3.142464\tval-rmse:3.367481\n",
        "[488]\ttrain-rmse:3.141338\tval-rmse:3.366471\n"
       ]
      },
      {
       "output_type": "stream",
       "stream": "stderr",
       "text": [
        "[489]\ttrain-rmse:3.138577\tval-rmse:3.364027\n",
        "[490]\ttrain-rmse:3.137521\tval-rmse:3.363103\n"
       ]
      },
      {
       "output_type": "stream",
       "stream": "stderr",
       "text": [
        "[491]\ttrain-rmse:3.134859\tval-rmse:3.360706\n",
        "[492]\ttrain-rmse:3.131594\tval-rmse:3.357778\n"
       ]
      },
      {
       "output_type": "stream",
       "stream": "stderr",
       "text": [
        "[493]\ttrain-rmse:3.130109\tval-rmse:3.356441\n",
        "[494]\ttrain-rmse:3.127218\tval-rmse:3.353858\n"
       ]
      },
      {
       "output_type": "stream",
       "stream": "stderr",
       "text": [
        "[495]\ttrain-rmse:3.125663\tval-rmse:3.352485\n",
        "[496]\ttrain-rmse:3.124670\tval-rmse:3.351598\n"
       ]
      },
      {
       "output_type": "stream",
       "stream": "stderr",
       "text": [
        "[497]\ttrain-rmse:3.122809\tval-rmse:3.349978\n",
        "[498]\ttrain-rmse:3.121348\tval-rmse:3.348726\n"
       ]
      },
      {
       "output_type": "stream",
       "stream": "stderr",
       "text": [
        "[499]\ttrain-rmse:3.118780\tval-rmse:3.346671\n",
        "[500]\ttrain-rmse:3.116392\tval-rmse:3.344639\n"
       ]
      },
      {
       "output_type": "stream",
       "stream": "stderr",
       "text": [
        "[501]\ttrain-rmse:3.111896\tval-rmse:3.340782\n",
        "[502]\ttrain-rmse:3.109884\tval-rmse:3.338910\n"
       ]
      },
      {
       "output_type": "stream",
       "stream": "stderr",
       "text": [
        "[503]\ttrain-rmse:3.106314\tval-rmse:3.336001\n",
        "[504]\ttrain-rmse:3.104319\tval-rmse:3.334290\n"
       ]
      },
      {
       "output_type": "stream",
       "stream": "stderr",
       "text": [
        "[505]\ttrain-rmse:3.101230\tval-rmse:3.331719\n",
        "[506]\ttrain-rmse:3.098380\tval-rmse:3.329157\n"
       ]
      },
      {
       "output_type": "stream",
       "stream": "stderr",
       "text": [
        "[507]\ttrain-rmse:3.094420\tval-rmse:3.325899\n",
        "[508]\ttrain-rmse:3.093271\tval-rmse:3.324945\n"
       ]
      },
      {
       "output_type": "stream",
       "stream": "stderr",
       "text": [
        "[509]\ttrain-rmse:3.089563\tval-rmse:3.321388\n",
        "[510]\ttrain-rmse:3.088335\tval-rmse:3.320297\n"
       ]
      },
      {
       "output_type": "stream",
       "stream": "stderr",
       "text": [
        "[511]\ttrain-rmse:3.085601\tval-rmse:3.318268\n",
        "[512]\ttrain-rmse:3.084994\tval-rmse:3.317677\n"
       ]
      },
      {
       "output_type": "stream",
       "stream": "stderr",
       "text": [
        "[513]\ttrain-rmse:3.082809\tval-rmse:3.315769\n",
        "[514]\ttrain-rmse:3.078924\tval-rmse:3.312488\n"
       ]
      },
      {
       "output_type": "stream",
       "stream": "stderr",
       "text": [
        "[515]\ttrain-rmse:3.076327\tval-rmse:3.310246\n",
        "[516]\ttrain-rmse:3.072600\tval-rmse:3.307119\n"
       ]
      },
      {
       "output_type": "stream",
       "stream": "stderr",
       "text": [
        "[517]\ttrain-rmse:3.070114\tval-rmse:3.304788\n",
        "[518]\ttrain-rmse:3.068561\tval-rmse:3.303492\n"
       ]
      },
      {
       "output_type": "stream",
       "stream": "stderr",
       "text": [
        "[519]\ttrain-rmse:3.067118\tval-rmse:3.302360\n",
        "[520]\ttrain-rmse:3.062397\tval-rmse:3.298324\n"
       ]
      },
      {
       "output_type": "stream",
       "stream": "stderr",
       "text": [
        "[521]\ttrain-rmse:3.060070\tval-rmse:3.296418\n",
        "[522]\ttrain-rmse:3.058532\tval-rmse:3.295112\n"
       ]
      },
      {
       "output_type": "stream",
       "stream": "stderr",
       "text": [
        "[523]\ttrain-rmse:3.057129\tval-rmse:3.293852\n",
        "[524]\ttrain-rmse:3.056398\tval-rmse:3.293151\n"
       ]
      },
      {
       "output_type": "stream",
       "stream": "stderr",
       "text": [
        "[525]\ttrain-rmse:3.055107\tval-rmse:3.291974\n",
        "[526]\ttrain-rmse:3.053804\tval-rmse:3.290715\n"
       ]
      },
      {
       "output_type": "stream",
       "stream": "stderr",
       "text": [
        "[527]\ttrain-rmse:3.050895\tval-rmse:3.288213\n",
        "[528]\ttrain-rmse:3.049116\tval-rmse:3.286664\n"
       ]
      },
      {
       "output_type": "stream",
       "stream": "stderr",
       "text": [
        "[529]\ttrain-rmse:3.047484\tval-rmse:3.285191\n",
        "[530]\ttrain-rmse:3.046702\tval-rmse:3.284552\n"
       ]
      },
      {
       "output_type": "stream",
       "stream": "stderr",
       "text": [
        "[531]\ttrain-rmse:3.043945\tval-rmse:3.282036\n",
        "[532]\ttrain-rmse:3.043274\tval-rmse:3.281516\n"
       ]
      },
      {
       "output_type": "stream",
       "stream": "stderr",
       "text": [
        "[533]\ttrain-rmse:3.041335\tval-rmse:3.279879\n",
        "[534]\ttrain-rmse:3.037901\tval-rmse:3.277105\n"
       ]
      },
      {
       "output_type": "stream",
       "stream": "stderr",
       "text": [
        "[535]\ttrain-rmse:3.034384\tval-rmse:3.274153\n",
        "[536]\ttrain-rmse:3.032771\tval-rmse:3.272854\n"
       ]
      },
      {
       "output_type": "stream",
       "stream": "stderr",
       "text": [
        "[537]\ttrain-rmse:3.031089\tval-rmse:3.271420\n",
        "[538]\ttrain-rmse:3.029760\tval-rmse:3.270251\n"
       ]
      },
      {
       "output_type": "stream",
       "stream": "stderr",
       "text": [
        "[539]\ttrain-rmse:3.026792\tval-rmse:3.267841\n",
        "[540]\ttrain-rmse:3.025499\tval-rmse:3.266702\n"
       ]
      },
      {
       "output_type": "stream",
       "stream": "stderr",
       "text": [
        "[541]\ttrain-rmse:3.024290\tval-rmse:3.265563\n",
        "[542]\ttrain-rmse:3.022618\tval-rmse:3.264041\n"
       ]
      },
      {
       "output_type": "stream",
       "stream": "stderr",
       "text": [
        "[543]\ttrain-rmse:3.020649\tval-rmse:3.262337\n",
        "[544]\ttrain-rmse:3.018202\tval-rmse:3.260215\n"
       ]
      },
      {
       "output_type": "stream",
       "stream": "stderr",
       "text": [
        "[545]\ttrain-rmse:3.016160\tval-rmse:3.258494\n",
        "[546]\ttrain-rmse:3.013694\tval-rmse:3.256291\n"
       ]
      },
      {
       "output_type": "stream",
       "stream": "stderr",
       "text": [
        "[547]\ttrain-rmse:3.011651\tval-rmse:3.254531\n",
        "[548]\ttrain-rmse:3.008996\tval-rmse:3.252333\n"
       ]
      },
      {
       "output_type": "stream",
       "stream": "stderr",
       "text": [
        "[549]\ttrain-rmse:3.007525\tval-rmse:3.250991\n",
        "[550]\ttrain-rmse:3.004463\tval-rmse:3.248613\n"
       ]
      },
      {
       "output_type": "stream",
       "stream": "stderr",
       "text": [
        "[551]\ttrain-rmse:3.002198\tval-rmse:3.246838\n",
        "[552]\ttrain-rmse:3.000898\tval-rmse:3.245750\n"
       ]
      },
      {
       "output_type": "stream",
       "stream": "stderr",
       "text": [
        "[553]\ttrain-rmse:2.997065\tval-rmse:3.242572\n",
        "[554]\ttrain-rmse:2.995594\tval-rmse:3.241347\n"
       ]
      },
      {
       "output_type": "stream",
       "stream": "stderr",
       "text": [
        "[555]\ttrain-rmse:2.992066\tval-rmse:3.238345\n",
        "[556]\ttrain-rmse:2.990316\tval-rmse:3.237003\n"
       ]
      },
      {
       "output_type": "stream",
       "stream": "stderr",
       "text": [
        "[557]\ttrain-rmse:2.987946\tval-rmse:3.234914\n",
        "[558]\ttrain-rmse:2.986357\tval-rmse:3.233611\n"
       ]
      },
      {
       "output_type": "stream",
       "stream": "stderr",
       "text": [
        "[559]\ttrain-rmse:2.985525\tval-rmse:3.232900\n",
        "[560]\ttrain-rmse:2.984852\tval-rmse:3.232296\n"
       ]
      },
      {
       "output_type": "stream",
       "stream": "stderr",
       "text": [
        "[561]\ttrain-rmse:2.982481\tval-rmse:3.230152\n",
        "[562]\ttrain-rmse:2.979687\tval-rmse:3.227876\n"
       ]
      },
      {
       "output_type": "stream",
       "stream": "stderr",
       "text": [
        "[563]\ttrain-rmse:2.978986\tval-rmse:3.227324\n",
        "[564]\ttrain-rmse:2.977928\tval-rmse:3.226506\n"
       ]
      },
      {
       "output_type": "stream",
       "stream": "stderr",
       "text": [
        "[565]\ttrain-rmse:2.975705\tval-rmse:3.224622\n",
        "[566]\ttrain-rmse:2.973610\tval-rmse:3.222735\n"
       ]
      },
      {
       "output_type": "stream",
       "stream": "stderr",
       "text": [
        "[567]\ttrain-rmse:2.970907\tval-rmse:3.220473\n",
        "[568]\ttrain-rmse:2.970025\tval-rmse:3.219706\n"
       ]
      },
      {
       "output_type": "stream",
       "stream": "stderr",
       "text": [
        "[569]\ttrain-rmse:2.967953\tval-rmse:3.218029\n",
        "[570]\ttrain-rmse:2.966677\tval-rmse:3.216770\n"
       ]
      },
      {
       "output_type": "stream",
       "stream": "stderr",
       "text": [
        "[571]\ttrain-rmse:2.962672\tval-rmse:3.213350\n",
        "[572]\ttrain-rmse:2.960343\tval-rmse:3.211277\n"
       ]
      },
      {
       "output_type": "stream",
       "stream": "stderr",
       "text": [
        "[573]\ttrain-rmse:2.959382\tval-rmse:3.210532\n",
        "[574]\ttrain-rmse:2.957887\tval-rmse:3.209129\n"
       ]
      },
      {
       "output_type": "stream",
       "stream": "stderr",
       "text": [
        "[575]\ttrain-rmse:2.956066\tval-rmse:3.207586\n",
        "[576]\ttrain-rmse:2.954819\tval-rmse:3.206585\n"
       ]
      },
      {
       "output_type": "stream",
       "stream": "stderr",
       "text": [
        "[577]\ttrain-rmse:2.953341\tval-rmse:3.205222\n",
        "[578]\ttrain-rmse:2.951083\tval-rmse:3.203362\n"
       ]
      },
      {
       "output_type": "stream",
       "stream": "stderr",
       "text": [
        "[579]\ttrain-rmse:2.949593\tval-rmse:3.202043\n",
        "[580]\ttrain-rmse:2.947533\tval-rmse:3.200354\n"
       ]
      },
      {
       "output_type": "stream",
       "stream": "stderr",
       "text": [
        "[581]\ttrain-rmse:2.943892\tval-rmse:3.197457\n",
        "[582]\ttrain-rmse:2.942248\tval-rmse:3.195987\n"
       ]
      },
      {
       "output_type": "stream",
       "stream": "stderr",
       "text": [
        "[583]\ttrain-rmse:2.939589\tval-rmse:3.193877\n",
        "[584]\ttrain-rmse:2.937775\tval-rmse:3.192322\n"
       ]
      },
      {
       "output_type": "stream",
       "stream": "stderr",
       "text": [
        "[585]\ttrain-rmse:2.937098\tval-rmse:3.191730\n",
        "[586]\ttrain-rmse:2.936342\tval-rmse:3.191039\n"
       ]
      },
      {
       "output_type": "stream",
       "stream": "stderr",
       "text": [
        "[587]\ttrain-rmse:2.934851\tval-rmse:3.189848\n",
        "[588]\ttrain-rmse:2.933070\tval-rmse:3.188341\n"
       ]
      },
      {
       "output_type": "stream",
       "stream": "stderr",
       "text": [
        "[589]\ttrain-rmse:2.932476\tval-rmse:3.187858\n",
        "[590]\ttrain-rmse:2.931527\tval-rmse:3.186995\n"
       ]
      },
      {
       "output_type": "stream",
       "stream": "stderr",
       "text": [
        "[591]\ttrain-rmse:2.929047\tval-rmse:3.184925\n",
        "[592]\ttrain-rmse:2.925942\tval-rmse:3.182203\n"
       ]
      },
      {
       "output_type": "stream",
       "stream": "stderr",
       "text": [
        "[593]\ttrain-rmse:2.924194\tval-rmse:3.180900\n",
        "[594]\ttrain-rmse:2.922699\tval-rmse:3.179747\n"
       ]
      },
      {
       "output_type": "stream",
       "stream": "stderr",
       "text": [
        "[595]\ttrain-rmse:2.920082\tval-rmse:3.177459\n",
        "[596]\ttrain-rmse:2.918908\tval-rmse:3.176437\n"
       ]
      },
      {
       "output_type": "stream",
       "stream": "stderr",
       "text": [
        "[597]\ttrain-rmse:2.915077\tval-rmse:3.173339\n",
        "[598]\ttrain-rmse:2.914000\tval-rmse:3.172365\n"
       ]
      },
      {
       "output_type": "stream",
       "stream": "stderr",
       "text": [
        "[599]\ttrain-rmse:2.911691\tval-rmse:3.170493\n",
        "[600]\ttrain-rmse:2.910805\tval-rmse:3.169664\n"
       ]
      },
      {
       "output_type": "stream",
       "stream": "stderr",
       "text": [
        "[601]\ttrain-rmse:2.909319\tval-rmse:3.168524\n",
        "[602]\ttrain-rmse:2.907276\tval-rmse:3.166897\n"
       ]
      },
      {
       "output_type": "stream",
       "stream": "stderr",
       "text": [
        "[603]\ttrain-rmse:2.905486\tval-rmse:3.165444\n",
        "[604]\ttrain-rmse:2.903703\tval-rmse:3.163883\n"
       ]
      },
      {
       "output_type": "stream",
       "stream": "stderr",
       "text": [
        "[605]\ttrain-rmse:2.901487\tval-rmse:3.162030\n",
        "[606]\ttrain-rmse:2.900470\tval-rmse:3.161303\n"
       ]
      },
      {
       "output_type": "stream",
       "stream": "stderr",
       "text": [
        "[607]\ttrain-rmse:2.897496\tval-rmse:3.158731\n",
        "[608]\ttrain-rmse:2.895997\tval-rmse:3.157474\n"
       ]
      },
      {
       "output_type": "stream",
       "stream": "stderr",
       "text": [
        "[609]\ttrain-rmse:2.892125\tval-rmse:3.154407\n",
        "[610]\ttrain-rmse:2.890061\tval-rmse:3.152678\n"
       ]
      },
      {
       "output_type": "stream",
       "stream": "stderr",
       "text": [
        "[611]\ttrain-rmse:2.888554\tval-rmse:3.151492\n",
        "[612]\ttrain-rmse:2.886414\tval-rmse:3.149777\n"
       ]
      },
      {
       "output_type": "stream",
       "stream": "stderr",
       "text": [
        "[613]\ttrain-rmse:2.883329\tval-rmse:3.147286\n",
        "[614]\ttrain-rmse:2.881279\tval-rmse:3.145631\n"
       ]
      },
      {
       "output_type": "stream",
       "stream": "stderr",
       "text": [
        "[615]\ttrain-rmse:2.878807\tval-rmse:3.143492\n",
        "[616]\ttrain-rmse:2.877885\tval-rmse:3.142727\n"
       ]
      },
      {
       "output_type": "stream",
       "stream": "stderr",
       "text": [
        "[617]\ttrain-rmse:2.874850\tval-rmse:3.140133\n",
        "[618]\ttrain-rmse:2.871704\tval-rmse:3.137726\n"
       ]
      },
      {
       "output_type": "stream",
       "stream": "stderr",
       "text": [
        "[619]\ttrain-rmse:2.868657\tval-rmse:3.135261\n",
        "[620]\ttrain-rmse:2.867543\tval-rmse:3.134410\n"
       ]
      },
      {
       "output_type": "stream",
       "stream": "stderr",
       "text": [
        "[621]\ttrain-rmse:2.864933\tval-rmse:3.132231\n",
        "[622]\ttrain-rmse:2.861005\tval-rmse:3.128964\n"
       ]
      },
      {
       "output_type": "stream",
       "stream": "stderr",
       "text": [
        "[623]\ttrain-rmse:2.858972\tval-rmse:3.127349\n",
        "[624]\ttrain-rmse:2.857999\tval-rmse:3.126484\n"
       ]
      },
      {
       "output_type": "stream",
       "stream": "stderr",
       "text": [
        "[625]\ttrain-rmse:2.855269\tval-rmse:3.124191\n",
        "[626]\ttrain-rmse:2.854278\tval-rmse:3.123329\n"
       ]
      },
      {
       "output_type": "stream",
       "stream": "stderr",
       "text": [
        "[627]\ttrain-rmse:2.853098\tval-rmse:3.122270\n",
        "[628]\ttrain-rmse:2.852253\tval-rmse:3.121476\n"
       ]
      },
      {
       "output_type": "stream",
       "stream": "stderr",
       "text": [
        "[629]\ttrain-rmse:2.851080\tval-rmse:3.120473\n",
        "[630]\ttrain-rmse:2.849264\tval-rmse:3.118946\n"
       ]
      },
      {
       "output_type": "stream",
       "stream": "stderr",
       "text": [
        "[631]\ttrain-rmse:2.848562\tval-rmse:3.118301\n",
        "[632]\ttrain-rmse:2.846957\tval-rmse:3.116818\n"
       ]
      },
      {
       "output_type": "stream",
       "stream": "stderr",
       "text": [
        "[633]\ttrain-rmse:2.845894\tval-rmse:3.115786\n",
        "[634]\ttrain-rmse:2.845111\tval-rmse:3.115201\n"
       ]
      },
      {
       "output_type": "stream",
       "stream": "stderr",
       "text": [
        "[635]\ttrain-rmse:2.844407\tval-rmse:3.114669\n",
        "[636]\ttrain-rmse:2.842341\tval-rmse:3.112930\n"
       ]
      },
      {
       "output_type": "stream",
       "stream": "stderr",
       "text": [
        "[637]\ttrain-rmse:2.841527\tval-rmse:3.112242\n",
        "[638]\ttrain-rmse:2.839710\tval-rmse:3.110737\n"
       ]
      },
      {
       "output_type": "stream",
       "stream": "stderr",
       "text": [
        "[639]\ttrain-rmse:2.837997\tval-rmse:3.109258\n",
        "[640]\ttrain-rmse:2.836686\tval-rmse:3.108162\n"
       ]
      },
      {
       "output_type": "stream",
       "stream": "stderr",
       "text": [
        "[641]\ttrain-rmse:2.835082\tval-rmse:3.106838\n",
        "[642]\ttrain-rmse:2.833365\tval-rmse:3.105422\n"
       ]
      },
      {
       "output_type": "stream",
       "stream": "stderr",
       "text": [
        "[643]\ttrain-rmse:2.832242\tval-rmse:3.104546\n",
        "[644]\ttrain-rmse:2.830353\tval-rmse:3.103053\n"
       ]
      },
      {
       "output_type": "stream",
       "stream": "stderr",
       "text": [
        "[645]\ttrain-rmse:2.829536\tval-rmse:3.102422\n",
        "[646]\ttrain-rmse:2.828051\tval-rmse:3.101229\n"
       ]
      },
      {
       "output_type": "stream",
       "stream": "stderr",
       "text": [
        "[647]\ttrain-rmse:2.824684\tval-rmse:3.098463\n",
        "[648]\ttrain-rmse:2.822150\tval-rmse:3.096550\n"
       ]
      },
      {
       "output_type": "stream",
       "stream": "stderr",
       "text": [
        "[649]\ttrain-rmse:2.820278\tval-rmse:3.094926\n",
        "[650]\ttrain-rmse:2.817806\tval-rmse:3.092771\n"
       ]
      },
      {
       "output_type": "stream",
       "stream": "stderr",
       "text": [
        "[651]\ttrain-rmse:2.817010\tval-rmse:3.092099\n",
        "[652]\ttrain-rmse:2.816389\tval-rmse:3.091538\n"
       ]
      },
      {
       "output_type": "stream",
       "stream": "stderr",
       "text": [
        "[653]\ttrain-rmse:2.815659\tval-rmse:3.090935\n",
        "[654]\ttrain-rmse:2.813783\tval-rmse:3.089427\n"
       ]
      },
      {
       "output_type": "stream",
       "stream": "stderr",
       "text": [
        "[655]\ttrain-rmse:2.812196\tval-rmse:3.088102\n",
        "[656]\ttrain-rmse:2.811542\tval-rmse:3.087492\n"
       ]
      },
      {
       "output_type": "stream",
       "stream": "stderr",
       "text": [
        "[657]\ttrain-rmse:2.809942\tval-rmse:3.086129\n",
        "[658]\ttrain-rmse:2.806565\tval-rmse:3.083457\n"
       ]
      },
      {
       "output_type": "stream",
       "stream": "stderr",
       "text": [
        "[659]\ttrain-rmse:2.805001\tval-rmse:3.082236\n",
        "[660]\ttrain-rmse:2.804071\tval-rmse:3.081546\n"
       ]
      },
      {
       "output_type": "stream",
       "stream": "stderr",
       "text": [
        "[661]\ttrain-rmse:2.803794\tval-rmse:3.081315\n",
        "[662]\ttrain-rmse:2.802246\tval-rmse:3.080030\n"
       ]
      },
      {
       "output_type": "stream",
       "stream": "stderr",
       "text": [
        "[663]\ttrain-rmse:2.799143\tval-rmse:3.077520\n",
        "[664]\ttrain-rmse:2.798688\tval-rmse:3.077157\n"
       ]
      },
      {
       "output_type": "stream",
       "stream": "stderr",
       "text": [
        "[665]\ttrain-rmse:2.794974\tval-rmse:3.074063\n",
        "[666]\ttrain-rmse:2.793247\tval-rmse:3.072740\n"
       ]
      },
      {
       "output_type": "stream",
       "stream": "stderr",
       "text": [
        "[667]\ttrain-rmse:2.790804\tval-rmse:3.070562\n",
        "[668]\ttrain-rmse:2.788735\tval-rmse:3.068886\n"
       ]
      },
      {
       "output_type": "stream",
       "stream": "stderr",
       "text": [
        "[669]\ttrain-rmse:2.786334\tval-rmse:3.066806\n",
        "[670]\ttrain-rmse:2.783985\tval-rmse:3.064898\n"
       ]
      },
      {
       "output_type": "stream",
       "stream": "stderr",
       "text": [
        "[671]\ttrain-rmse:2.783342\tval-rmse:3.064341\n",
        "[672]\ttrain-rmse:2.781981\tval-rmse:3.063305\n"
       ]
      },
      {
       "output_type": "stream",
       "stream": "stderr",
       "text": [
        "[673]\ttrain-rmse:2.779221\tval-rmse:3.061264\n",
        "[674]\ttrain-rmse:2.778417\tval-rmse:3.060580\n"
       ]
      },
      {
       "output_type": "stream",
       "stream": "stderr",
       "text": [
        "[675]\ttrain-rmse:2.775242\tval-rmse:3.058104\n",
        "[676]\ttrain-rmse:2.774029\tval-rmse:3.057192\n"
       ]
      },
      {
       "output_type": "stream",
       "stream": "stderr",
       "text": [
        "[677]\ttrain-rmse:2.772805\tval-rmse:3.056139\n",
        "[678]\ttrain-rmse:2.771980\tval-rmse:3.055450\n"
       ]
      },
      {
       "output_type": "stream",
       "stream": "stderr",
       "text": [
        "[679]\ttrain-rmse:2.770280\tval-rmse:3.054136\n",
        "[680]\ttrain-rmse:2.767555\tval-rmse:3.051976\n"
       ]
      },
      {
       "output_type": "stream",
       "stream": "stderr",
       "text": [
        "[681]\ttrain-rmse:2.766752\tval-rmse:3.051286\n",
        "[682]\ttrain-rmse:2.764915\tval-rmse:3.049683\n"
       ]
      },
      {
       "output_type": "stream",
       "stream": "stderr",
       "text": [
        "[683]\ttrain-rmse:2.763877\tval-rmse:3.048738\n",
        "[684]\ttrain-rmse:2.760857\tval-rmse:3.046297\n"
       ]
      },
      {
       "output_type": "stream",
       "stream": "stderr",
       "text": [
        "[685]\ttrain-rmse:2.759713\tval-rmse:3.045350\n",
        "[686]\ttrain-rmse:2.757751\tval-rmse:3.043688\n"
       ]
      },
      {
       "output_type": "stream",
       "stream": "stderr",
       "text": [
        "[687]\ttrain-rmse:2.756868\tval-rmse:3.042933\n",
        "[688]\ttrain-rmse:2.756236\tval-rmse:3.042419\n"
       ]
      },
      {
       "output_type": "stream",
       "stream": "stderr",
       "text": [
        "[689]\ttrain-rmse:2.755105\tval-rmse:3.041483\n",
        "[690]\ttrain-rmse:2.753826\tval-rmse:3.040611\n"
       ]
      },
      {
       "output_type": "stream",
       "stream": "stderr",
       "text": [
        "[691]\ttrain-rmse:2.751835\tval-rmse:3.039001\n",
        "[692]\ttrain-rmse:2.749749\tval-rmse:3.037301\n"
       ]
      },
      {
       "output_type": "stream",
       "stream": "stderr",
       "text": [
        "[693]\ttrain-rmse:2.749059\tval-rmse:3.036697\n",
        "[694]\ttrain-rmse:2.747610\tval-rmse:3.035520\n"
       ]
      },
      {
       "output_type": "stream",
       "stream": "stderr",
       "text": [
        "[695]\ttrain-rmse:2.746192\tval-rmse:3.034236\n",
        "[696]\ttrain-rmse:2.742962\tval-rmse:3.031536\n"
       ]
      },
      {
       "output_type": "stream",
       "stream": "stderr",
       "text": [
        "[697]\ttrain-rmse:2.740978\tval-rmse:3.029915\n",
        "[698]\ttrain-rmse:2.738058\tval-rmse:3.027583\n"
       ]
      },
      {
       "output_type": "stream",
       "stream": "stderr",
       "text": [
        "[699]\ttrain-rmse:2.736013\tval-rmse:3.025800\n",
        "[700]\ttrain-rmse:2.735095\tval-rmse:3.024850\n"
       ]
      },
      {
       "output_type": "stream",
       "stream": "stderr",
       "text": [
        "[701]\ttrain-rmse:2.734458\tval-rmse:3.024212\n",
        "[702]\ttrain-rmse:2.731276\tval-rmse:3.021596\n"
       ]
      },
      {
       "output_type": "stream",
       "stream": "stderr",
       "text": [
        "[703]\ttrain-rmse:2.730105\tval-rmse:3.020601\n",
        "[704]\ttrain-rmse:2.727979\tval-rmse:3.018862\n"
       ]
      },
      {
       "output_type": "stream",
       "stream": "stderr",
       "text": [
        "[705]\ttrain-rmse:2.725404\tval-rmse:3.016873\n",
        "[706]\ttrain-rmse:2.724009\tval-rmse:3.015682\n"
       ]
      },
      {
       "output_type": "stream",
       "stream": "stderr",
       "text": [
        "[707]\ttrain-rmse:2.722829\tval-rmse:3.014689\n",
        "[708]\ttrain-rmse:2.721862\tval-rmse:3.013942\n"
       ]
      },
      {
       "output_type": "stream",
       "stream": "stderr",
       "text": [
        "[709]\ttrain-rmse:2.719816\tval-rmse:3.012432\n",
        "[710]\ttrain-rmse:2.719099\tval-rmse:3.011754\n"
       ]
      },
      {
       "output_type": "stream",
       "stream": "stderr",
       "text": [
        "[711]\ttrain-rmse:2.718018\tval-rmse:3.010890\n",
        "[712]\ttrain-rmse:2.717416\tval-rmse:3.010347\n"
       ]
      },
      {
       "output_type": "stream",
       "stream": "stderr",
       "text": [
        "[713]\ttrain-rmse:2.715683\tval-rmse:3.008733\n",
        "[714]\ttrain-rmse:2.711972\tval-rmse:3.005396\n"
       ]
      },
      {
       "output_type": "stream",
       "stream": "stderr",
       "text": [
        "[715]\ttrain-rmse:2.710043\tval-rmse:3.003930\n",
        "[716]\ttrain-rmse:2.707544\tval-rmse:3.001859\n"
       ]
      },
      {
       "output_type": "stream",
       "stream": "stderr",
       "text": [
        "[717]\ttrain-rmse:2.704706\tval-rmse:2.999740\n",
        "[718]\ttrain-rmse:2.703417\tval-rmse:2.998688\n"
       ]
      },
      {
       "output_type": "stream",
       "stream": "stderr",
       "text": [
        "[719]\ttrain-rmse:2.702912\tval-rmse:2.998286\n",
        "[720]\ttrain-rmse:2.701540\tval-rmse:2.997221\n"
       ]
      },
      {
       "output_type": "stream",
       "stream": "stderr",
       "text": [
        "[721]\ttrain-rmse:2.700025\tval-rmse:2.995923\n",
        "[722]\ttrain-rmse:2.698958\tval-rmse:2.995014\n"
       ]
      },
      {
       "output_type": "stream",
       "stream": "stderr",
       "text": [
        "[723]\ttrain-rmse:2.697483\tval-rmse:2.993828\n",
        "[724]\ttrain-rmse:2.696748\tval-rmse:2.993230\n"
       ]
      },
      {
       "output_type": "stream",
       "stream": "stderr",
       "text": [
        "[725]\ttrain-rmse:2.694163\tval-rmse:2.990992\n",
        "[726]\ttrain-rmse:2.692375\tval-rmse:2.989518\n"
       ]
      },
      {
       "output_type": "stream",
       "stream": "stderr",
       "text": [
        "[727]\ttrain-rmse:2.691763\tval-rmse:2.988991\n",
        "[728]\ttrain-rmse:2.690041\tval-rmse:2.987533\n"
       ]
      },
      {
       "output_type": "stream",
       "stream": "stderr",
       "text": [
        "[729]\ttrain-rmse:2.688598\tval-rmse:2.986375\n",
        "[730]\ttrain-rmse:2.687226\tval-rmse:2.985296\n"
       ]
      },
      {
       "output_type": "stream",
       "stream": "stderr",
       "text": [
        "[731]\ttrain-rmse:2.685460\tval-rmse:2.983817\n",
        "[732]\ttrain-rmse:2.684647\tval-rmse:2.983083\n"
       ]
      },
      {
       "output_type": "stream",
       "stream": "stderr",
       "text": [
        "[733]\ttrain-rmse:2.683850\tval-rmse:2.982399\n",
        "[734]\ttrain-rmse:2.682576\tval-rmse:2.981397\n"
       ]
      },
      {
       "output_type": "stream",
       "stream": "stderr",
       "text": [
        "[735]\ttrain-rmse:2.680961\tval-rmse:2.980099\n",
        "[736]\ttrain-rmse:2.678390\tval-rmse:2.978001\n"
       ]
      },
      {
       "output_type": "stream",
       "stream": "stderr",
       "text": [
        "[737]\ttrain-rmse:2.677806\tval-rmse:2.977527\n",
        "[738]\ttrain-rmse:2.675811\tval-rmse:2.975868\n"
       ]
      },
      {
       "output_type": "stream",
       "stream": "stderr",
       "text": [
        "[739]\ttrain-rmse:2.673325\tval-rmse:2.973880\n",
        "[740]\ttrain-rmse:2.670720\tval-rmse:2.971701\n"
       ]
      },
      {
       "output_type": "stream",
       "stream": "stderr",
       "text": [
        "[741]\ttrain-rmse:2.669569\tval-rmse:2.970813\n",
        "[742]\ttrain-rmse:2.668522\tval-rmse:2.969972\n"
       ]
      },
      {
       "output_type": "stream",
       "stream": "stderr",
       "text": [
        "[743]\ttrain-rmse:2.667130\tval-rmse:2.968744\n",
        "[744]\ttrain-rmse:2.665460\tval-rmse:2.967420\n"
       ]
      },
      {
       "output_type": "stream",
       "stream": "stderr",
       "text": [
        "[745]\ttrain-rmse:2.663712\tval-rmse:2.965942\n",
        "[746]\ttrain-rmse:2.661806\tval-rmse:2.964486\n"
       ]
      },
      {
       "output_type": "stream",
       "stream": "stderr",
       "text": [
        "[747]\ttrain-rmse:2.660835\tval-rmse:2.963734\n",
        "[748]\ttrain-rmse:2.659226\tval-rmse:2.962546\n"
       ]
      },
      {
       "output_type": "stream",
       "stream": "stderr",
       "text": [
        "[749]\ttrain-rmse:2.658442\tval-rmse:2.961965\n",
        "[750]\ttrain-rmse:2.656623\tval-rmse:2.960537\n"
       ]
      },
      {
       "output_type": "stream",
       "stream": "stderr",
       "text": [
        "[751]\ttrain-rmse:2.655950\tval-rmse:2.959997\n",
        "[752]\ttrain-rmse:2.653977\tval-rmse:2.958389\n"
       ]
      },
      {
       "output_type": "stream",
       "stream": "stderr",
       "text": [
        "[753]\ttrain-rmse:2.651681\tval-rmse:2.956406\n",
        "[754]\ttrain-rmse:2.649692\tval-rmse:2.954892\n"
       ]
      },
      {
       "output_type": "stream",
       "stream": "stderr",
       "text": [
        "[755]\ttrain-rmse:2.647643\tval-rmse:2.953429\n",
        "[756]\ttrain-rmse:2.646312\tval-rmse:2.952422\n"
       ]
      },
      {
       "output_type": "stream",
       "stream": "stderr",
       "text": [
        "[757]\ttrain-rmse:2.645365\tval-rmse:2.951654\n",
        "[758]\ttrain-rmse:2.643908\tval-rmse:2.950603\n"
       ]
      },
      {
       "output_type": "stream",
       "stream": "stderr",
       "text": [
        "[759]\ttrain-rmse:2.643288\tval-rmse:2.950004\n",
        "[760]\ttrain-rmse:2.641358\tval-rmse:2.948547\n"
       ]
      },
      {
       "output_type": "stream",
       "stream": "stderr",
       "text": [
        "[761]\ttrain-rmse:2.638949\tval-rmse:2.946684\n",
        "[762]\ttrain-rmse:2.638183\tval-rmse:2.946006\n"
       ]
      },
      {
       "output_type": "stream",
       "stream": "stderr",
       "text": [
        "[763]\ttrain-rmse:2.636951\tval-rmse:2.944794\n",
        "[764]\ttrain-rmse:2.636216\tval-rmse:2.944206\n"
       ]
      },
      {
       "output_type": "stream",
       "stream": "stderr",
       "text": [
        "[765]\ttrain-rmse:2.634211\tval-rmse:2.942659\n",
        "[766]\ttrain-rmse:2.632666\tval-rmse:2.941395\n"
       ]
      },
      {
       "output_type": "stream",
       "stream": "stderr",
       "text": [
        "[767]\ttrain-rmse:2.632231\tval-rmse:2.941056\n",
        "[768]\ttrain-rmse:2.629806\tval-rmse:2.939196\n"
       ]
      },
      {
       "output_type": "stream",
       "stream": "stderr",
       "text": [
        "[769]\ttrain-rmse:2.627881\tval-rmse:2.937541\n",
        "[770]\ttrain-rmse:2.627325\tval-rmse:2.937009\n"
       ]
      },
      {
       "output_type": "stream",
       "stream": "stderr",
       "text": [
        "[771]\ttrain-rmse:2.626187\tval-rmse:2.936012\n",
        "[772]\ttrain-rmse:2.624654\tval-rmse:2.934777\n"
       ]
      },
      {
       "output_type": "stream",
       "stream": "stderr",
       "text": [
        "[773]\ttrain-rmse:2.623014\tval-rmse:2.933547\n",
        "[774]\ttrain-rmse:2.621359\tval-rmse:2.932313\n"
       ]
      },
      {
       "output_type": "stream",
       "stream": "stderr",
       "text": [
        "[775]\ttrain-rmse:2.618812\tval-rmse:2.930241\n",
        "[776]\ttrain-rmse:2.615694\tval-rmse:2.927559\n"
       ]
      },
      {
       "output_type": "stream",
       "stream": "stderr",
       "text": [
        "[777]\ttrain-rmse:2.614069\tval-rmse:2.926276\n",
        "[778]\ttrain-rmse:2.612433\tval-rmse:2.924989\n"
       ]
      },
      {
       "output_type": "stream",
       "stream": "stderr",
       "text": [
        "[779]\ttrain-rmse:2.610432\tval-rmse:2.923297\n",
        "[780]\ttrain-rmse:2.609705\tval-rmse:2.922704\n"
       ]
      },
      {
       "output_type": "stream",
       "stream": "stderr",
       "text": [
        "[781]\ttrain-rmse:2.608390\tval-rmse:2.921663\n",
        "[782]\ttrain-rmse:2.607640\tval-rmse:2.921021\n"
       ]
      },
      {
       "output_type": "stream",
       "stream": "stderr",
       "text": [
        "[783]\ttrain-rmse:2.605841\tval-rmse:2.919533\n",
        "[784]\ttrain-rmse:2.604715\tval-rmse:2.918594\n"
       ]
      },
      {
       "output_type": "stream",
       "stream": "stderr",
       "text": [
        "[785]\ttrain-rmse:2.602455\tval-rmse:2.916764\n",
        "[786]\ttrain-rmse:2.600990\tval-rmse:2.915426\n"
       ]
      },
      {
       "output_type": "stream",
       "stream": "stderr",
       "text": [
        "[787]\ttrain-rmse:2.598977\tval-rmse:2.913949\n",
        "[788]\ttrain-rmse:2.597388\tval-rmse:2.912627\n"
       ]
      },
      {
       "output_type": "stream",
       "stream": "stderr",
       "text": [
        "[789]\ttrain-rmse:2.595805\tval-rmse:2.911217\n",
        "[790]\ttrain-rmse:2.593695\tval-rmse:2.909478\n"
       ]
      },
      {
       "output_type": "stream",
       "stream": "stderr",
       "text": [
        "[791]\ttrain-rmse:2.592753\tval-rmse:2.908710\n",
        "[792]\ttrain-rmse:2.591990\tval-rmse:2.908146\n"
       ]
      },
      {
       "output_type": "stream",
       "stream": "stderr",
       "text": [
        "[793]\ttrain-rmse:2.590053\tval-rmse:2.906800\n",
        "[794]\ttrain-rmse:2.588872\tval-rmse:2.905763\n"
       ]
      },
      {
       "output_type": "stream",
       "stream": "stderr",
       "text": [
        "[795]\ttrain-rmse:2.587856\tval-rmse:2.904891\n",
        "[796]\ttrain-rmse:2.584872\tval-rmse:2.902487\n"
       ]
      },
      {
       "output_type": "stream",
       "stream": "stderr",
       "text": [
        "[797]\ttrain-rmse:2.583502\tval-rmse:2.901432\n",
        "[798]\ttrain-rmse:2.581436\tval-rmse:2.899732\n"
       ]
      },
      {
       "output_type": "stream",
       "stream": "stderr",
       "text": [
        "[799]\ttrain-rmse:2.579119\tval-rmse:2.897943\n",
        "[800]\ttrain-rmse:2.578106\tval-rmse:2.897211\n"
       ]
      },
      {
       "output_type": "stream",
       "stream": "stderr",
       "text": [
        "[801]\ttrain-rmse:2.576926\tval-rmse:2.896224\n",
        "[802]\ttrain-rmse:2.575407\tval-rmse:2.895025\n"
       ]
      },
      {
       "output_type": "stream",
       "stream": "stderr",
       "text": [
        "[803]\ttrain-rmse:2.574714\tval-rmse:2.894455\n",
        "[804]\ttrain-rmse:2.574190\tval-rmse:2.894079\n"
       ]
      },
      {
       "output_type": "stream",
       "stream": "stderr",
       "text": [
        "[805]\ttrain-rmse:2.570879\tval-rmse:2.891384\n",
        "[806]\ttrain-rmse:2.568856\tval-rmse:2.889791\n"
       ]
      },
      {
       "output_type": "stream",
       "stream": "stderr",
       "text": [
        "[807]\ttrain-rmse:2.567145\tval-rmse:2.888309\n",
        "[808]\ttrain-rmse:2.566007\tval-rmse:2.887290\n"
       ]
      },
      {
       "output_type": "stream",
       "stream": "stderr",
       "text": [
        "[809]\ttrain-rmse:2.565317\tval-rmse:2.886716\n",
        "[810]\ttrain-rmse:2.563264\tval-rmse:2.885027\n"
       ]
      },
      {
       "output_type": "stream",
       "stream": "stderr",
       "text": [
        "[811]\ttrain-rmse:2.562788\tval-rmse:2.884644\n",
        "[812]\ttrain-rmse:2.561586\tval-rmse:2.883706\n"
       ]
      },
      {
       "output_type": "stream",
       "stream": "stderr",
       "text": [
        "[813]\ttrain-rmse:2.558543\tval-rmse:2.881286\n",
        "[814]\ttrain-rmse:2.557760\tval-rmse:2.880658\n"
       ]
      },
      {
       "output_type": "stream",
       "stream": "stderr",
       "text": [
        "[815]\ttrain-rmse:2.556039\tval-rmse:2.879314\n",
        "[816]\ttrain-rmse:2.555109\tval-rmse:2.878660\n"
       ]
      },
      {
       "output_type": "stream",
       "stream": "stderr",
       "text": [
        "[817]\ttrain-rmse:2.553741\tval-rmse:2.877555\n",
        "[818]\ttrain-rmse:2.552651\tval-rmse:2.876608\n"
       ]
      },
      {
       "output_type": "stream",
       "stream": "stderr",
       "text": [
        "[819]\ttrain-rmse:2.551210\tval-rmse:2.875561\n",
        "[820]\ttrain-rmse:2.549520\tval-rmse:2.874319\n"
       ]
      },
      {
       "output_type": "stream",
       "stream": "stderr",
       "text": [
        "[821]\ttrain-rmse:2.547728\tval-rmse:2.872799\n",
        "[822]\ttrain-rmse:2.546622\tval-rmse:2.871856\n"
       ]
      },
      {
       "output_type": "stream",
       "stream": "stderr",
       "text": [
        "[823]\ttrain-rmse:2.545823\tval-rmse:2.871191\n",
        "[824]\ttrain-rmse:2.544574\tval-rmse:2.870266\n"
       ]
      },
      {
       "output_type": "stream",
       "stream": "stderr",
       "text": [
        "[825]\ttrain-rmse:2.543175\tval-rmse:2.869179\n",
        "[826]\ttrain-rmse:2.541357\tval-rmse:2.867674\n"
       ]
      },
      {
       "output_type": "stream",
       "stream": "stderr",
       "text": [
        "[827]\ttrain-rmse:2.540143\tval-rmse:2.866697\n",
        "[828]\ttrain-rmse:2.537822\tval-rmse:2.864798\n"
       ]
      },
      {
       "output_type": "stream",
       "stream": "stderr",
       "text": [
        "[829]\ttrain-rmse:2.536826\tval-rmse:2.863923\n",
        "[830]\ttrain-rmse:2.536394\tval-rmse:2.863562\n"
       ]
      },
      {
       "output_type": "stream",
       "stream": "stderr",
       "text": [
        "[831]\ttrain-rmse:2.535485\tval-rmse:2.862804\n",
        "[832]\ttrain-rmse:2.533970\tval-rmse:2.861603\n"
       ]
      },
      {
       "output_type": "stream",
       "stream": "stderr",
       "text": [
        "[833]\ttrain-rmse:2.532949\tval-rmse:2.860877\n",
        "[834]\ttrain-rmse:2.531908\tval-rmse:2.860075\n"
       ]
      },
      {
       "output_type": "stream",
       "stream": "stderr",
       "text": [
        "[835]\ttrain-rmse:2.531327\tval-rmse:2.859507\n",
        "[836]\ttrain-rmse:2.530146\tval-rmse:2.858557\n"
       ]
      },
      {
       "output_type": "stream",
       "stream": "stderr",
       "text": [
        "[837]\ttrain-rmse:2.527405\tval-rmse:2.856627\n",
        "[838]\ttrain-rmse:2.526361\tval-rmse:2.855818\n"
       ]
      },
      {
       "output_type": "stream",
       "stream": "stderr",
       "text": [
        "[839]\ttrain-rmse:2.525520\tval-rmse:2.855072\n",
        "[840]\ttrain-rmse:2.524384\tval-rmse:2.854110\n"
       ]
      },
      {
       "output_type": "stream",
       "stream": "stderr",
       "text": [
        "[841]\ttrain-rmse:2.522783\tval-rmse:2.852780\n",
        "[842]\ttrain-rmse:2.521886\tval-rmse:2.852019\n"
       ]
      },
      {
       "output_type": "stream",
       "stream": "stderr",
       "text": [
        "[843]\ttrain-rmse:2.519853\tval-rmse:2.850393\n",
        "[844]\ttrain-rmse:2.518155\tval-rmse:2.849054\n"
       ]
      },
      {
       "output_type": "stream",
       "stream": "stderr",
       "text": [
        "[845]\ttrain-rmse:2.516649\tval-rmse:2.847870\n",
        "[846]\ttrain-rmse:2.516192\tval-rmse:2.847485\n"
       ]
      },
      {
       "output_type": "stream",
       "stream": "stderr",
       "text": [
        "[847]\ttrain-rmse:2.515012\tval-rmse:2.846577\n",
        "[848]\ttrain-rmse:2.513180\tval-rmse:2.845212\n"
       ]
      },
      {
       "output_type": "stream",
       "stream": "stderr",
       "text": [
        "[849]\ttrain-rmse:2.512751\tval-rmse:2.844866\n",
        "[850]\ttrain-rmse:2.511762\tval-rmse:2.844132\n"
       ]
      },
      {
       "output_type": "stream",
       "stream": "stderr",
       "text": [
        "[851]\ttrain-rmse:2.510828\tval-rmse:2.843398\n",
        "[852]\ttrain-rmse:2.510072\tval-rmse:2.842735\n"
       ]
      },
      {
       "output_type": "stream",
       "stream": "stderr",
       "text": [
        "[853]\ttrain-rmse:2.508962\tval-rmse:2.841846\n",
        "[854]\ttrain-rmse:2.505975\tval-rmse:2.839595\n"
       ]
      },
      {
       "output_type": "stream",
       "stream": "stderr",
       "text": [
        "[855]\ttrain-rmse:2.504208\tval-rmse:2.838198\n",
        "[856]\ttrain-rmse:2.503099\tval-rmse:2.837341\n"
       ]
      },
      {
       "output_type": "stream",
       "stream": "stderr",
       "text": [
        "[857]\ttrain-rmse:2.500429\tval-rmse:2.835418\n",
        "[858]\ttrain-rmse:2.499453\tval-rmse:2.834613\n"
       ]
      },
      {
       "output_type": "stream",
       "stream": "stderr",
       "text": [
        "[859]\ttrain-rmse:2.498578\tval-rmse:2.834019\n",
        "[860]\ttrain-rmse:2.496840\tval-rmse:2.832678\n"
       ]
      },
      {
       "output_type": "stream",
       "stream": "stderr",
       "text": [
        "[861]\ttrain-rmse:2.496018\tval-rmse:2.832124\n",
        "[862]\ttrain-rmse:2.493942\tval-rmse:2.830410\n"
       ]
      },
      {
       "output_type": "stream",
       "stream": "stderr",
       "text": [
        "[863]\ttrain-rmse:2.493388\tval-rmse:2.829916\n",
        "[864]\ttrain-rmse:2.492392\tval-rmse:2.829284\n"
       ]
      },
      {
       "output_type": "stream",
       "stream": "stderr",
       "text": [
        "[865]\ttrain-rmse:2.490030\tval-rmse:2.827226\n",
        "[866]\ttrain-rmse:2.488711\tval-rmse:2.826333\n"
       ]
      },
      {
       "output_type": "stream",
       "stream": "stderr",
       "text": [
        "[867]\ttrain-rmse:2.487231\tval-rmse:2.825218\n",
        "[868]\ttrain-rmse:2.486508\tval-rmse:2.824534\n"
       ]
      },
      {
       "output_type": "stream",
       "stream": "stderr",
       "text": [
        "[869]\ttrain-rmse:2.484772\tval-rmse:2.823007\n",
        "[870]\ttrain-rmse:2.483645\tval-rmse:2.822119\n"
       ]
      },
      {
       "output_type": "stream",
       "stream": "stderr",
       "text": [
        "[871]\ttrain-rmse:2.482538\tval-rmse:2.821165\n",
        "[872]\ttrain-rmse:2.481652\tval-rmse:2.820421\n"
       ]
      },
      {
       "output_type": "stream",
       "stream": "stderr",
       "text": [
        "[873]\ttrain-rmse:2.479857\tval-rmse:2.819094\n",
        "[874]\ttrain-rmse:2.478749\tval-rmse:2.818065\n"
       ]
      },
      {
       "output_type": "stream",
       "stream": "stderr",
       "text": [
        "[875]\ttrain-rmse:2.478215\tval-rmse:2.817618\n",
        "[876]\ttrain-rmse:2.477466\tval-rmse:2.817097\n"
       ]
      },
      {
       "output_type": "stream",
       "stream": "stderr",
       "text": [
        "[877]\ttrain-rmse:2.474882\tval-rmse:2.815089\n",
        "[878]\ttrain-rmse:2.473739\tval-rmse:2.814322\n"
       ]
      },
      {
       "output_type": "stream",
       "stream": "stderr",
       "text": [
        "[879]\ttrain-rmse:2.471327\tval-rmse:2.812432\n",
        "[880]\ttrain-rmse:2.470114\tval-rmse:2.811439\n"
       ]
      },
      {
       "output_type": "stream",
       "stream": "stderr",
       "text": [
        "[881]\ttrain-rmse:2.467868\tval-rmse:2.809656\n",
        "[882]\ttrain-rmse:2.466511\tval-rmse:2.808507\n"
       ]
      },
      {
       "output_type": "stream",
       "stream": "stderr",
       "text": [
        "[883]\ttrain-rmse:2.465927\tval-rmse:2.808056\n",
        "[884]\ttrain-rmse:2.464527\tval-rmse:2.806862\n"
       ]
      },
      {
       "output_type": "stream",
       "stream": "stderr",
       "text": [
        "[885]\ttrain-rmse:2.462762\tval-rmse:2.805358\n",
        "[886]\ttrain-rmse:2.460999\tval-rmse:2.803791\n"
       ]
      },
      {
       "output_type": "stream",
       "stream": "stderr",
       "text": [
        "[887]\ttrain-rmse:2.459487\tval-rmse:2.802550\n",
        "[888]\ttrain-rmse:2.457941\tval-rmse:2.801285\n"
       ]
      },
      {
       "output_type": "stream",
       "stream": "stderr",
       "text": [
        "[889]\ttrain-rmse:2.454774\tval-rmse:2.799048\n",
        "[890]\ttrain-rmse:2.453251\tval-rmse:2.797821\n"
       ]
      },
      {
       "output_type": "stream",
       "stream": "stderr",
       "text": [
        "[891]\ttrain-rmse:2.452518\tval-rmse:2.797175\n",
        "[892]\ttrain-rmse:2.451831\tval-rmse:2.796681\n"
       ]
      },
      {
       "output_type": "stream",
       "stream": "stderr",
       "text": [
        "[893]\ttrain-rmse:2.450369\tval-rmse:2.795639\n",
        "[894]\ttrain-rmse:2.448463\tval-rmse:2.794162\n"
       ]
      },
      {
       "output_type": "stream",
       "stream": "stderr",
       "text": [
        "[895]\ttrain-rmse:2.445928\tval-rmse:2.792260\n",
        "[896]\ttrain-rmse:2.444077\tval-rmse:2.790830\n"
       ]
      },
      {
       "output_type": "stream",
       "stream": "stderr",
       "text": [
        "[897]\ttrain-rmse:2.442259\tval-rmse:2.789555\n",
        "[898]\ttrain-rmse:2.441701\tval-rmse:2.789112\n"
       ]
      },
      {
       "output_type": "stream",
       "stream": "stderr",
       "text": [
        "[899]\ttrain-rmse:2.439393\tval-rmse:2.787079\n",
        "[900]\ttrain-rmse:2.437859\tval-rmse:2.785916\n"
       ]
      },
      {
       "output_type": "stream",
       "stream": "stderr",
       "text": [
        "[901]\ttrain-rmse:2.436210\tval-rmse:2.784612\n",
        "[902]\ttrain-rmse:2.435797\tval-rmse:2.784228\n"
       ]
      },
      {
       "output_type": "stream",
       "stream": "stderr",
       "text": [
        "[903]\ttrain-rmse:2.434613\tval-rmse:2.783362\n",
        "[904]\ttrain-rmse:2.432802\tval-rmse:2.781897\n"
       ]
      },
      {
       "output_type": "stream",
       "stream": "stderr",
       "text": [
        "[905]\ttrain-rmse:2.431728\tval-rmse:2.781103\n",
        "[906]\ttrain-rmse:2.430822\tval-rmse:2.780311\n"
       ]
      },
      {
       "output_type": "stream",
       "stream": "stderr",
       "text": [
        "[907]\ttrain-rmse:2.430043\tval-rmse:2.779714\n",
        "[908]\ttrain-rmse:2.428756\tval-rmse:2.778602\n"
       ]
      },
      {
       "output_type": "stream",
       "stream": "stderr",
       "text": [
        "[909]\ttrain-rmse:2.427916\tval-rmse:2.777898\n",
        "[910]\ttrain-rmse:2.426617\tval-rmse:2.776873\n"
       ]
      },
      {
       "output_type": "stream",
       "stream": "stderr",
       "text": [
        "[911]\ttrain-rmse:2.426109\tval-rmse:2.776433\n",
        "[912]\ttrain-rmse:2.425160\tval-rmse:2.775658\n"
       ]
      },
      {
       "output_type": "stream",
       "stream": "stderr",
       "text": [
        "[913]\ttrain-rmse:2.422194\tval-rmse:2.773364\n",
        "[914]\ttrain-rmse:2.420365\tval-rmse:2.771984\n"
       ]
      },
      {
       "output_type": "stream",
       "stream": "stderr",
       "text": [
        "[915]\ttrain-rmse:2.419204\tval-rmse:2.771121\n",
        "[916]\ttrain-rmse:2.417815\tval-rmse:2.770032\n"
       ]
      },
      {
       "output_type": "stream",
       "stream": "stderr",
       "text": [
        "[917]\ttrain-rmse:2.417067\tval-rmse:2.769530\n",
        "[918]\ttrain-rmse:2.415586\tval-rmse:2.768409\n"
       ]
      },
      {
       "output_type": "stream",
       "stream": "stderr",
       "text": [
        "[919]\ttrain-rmse:2.415078\tval-rmse:2.768056\n",
        "[920]\ttrain-rmse:2.414582\tval-rmse:2.767672\n"
       ]
      },
      {
       "output_type": "stream",
       "stream": "stderr",
       "text": [
        "[921]\ttrain-rmse:2.412532\tval-rmse:2.765888\n",
        "[922]\ttrain-rmse:2.409591\tval-rmse:2.763912\n"
       ]
      },
      {
       "output_type": "stream",
       "stream": "stderr",
       "text": [
        "[923]\ttrain-rmse:2.408287\tval-rmse:2.762856\n",
        "[924]\ttrain-rmse:2.406681\tval-rmse:2.761805\n"
       ]
      },
      {
       "output_type": "stream",
       "stream": "stderr",
       "text": [
        "[925]\ttrain-rmse:2.405015\tval-rmse:2.760522\n",
        "[926]\ttrain-rmse:2.403768\tval-rmse:2.759585\n"
       ]
      },
      {
       "output_type": "stream",
       "stream": "stderr",
       "text": [
        "[927]\ttrain-rmse:2.402258\tval-rmse:2.758512\n",
        "[928]\ttrain-rmse:2.400116\tval-rmse:2.756830\n"
       ]
      },
      {
       "output_type": "stream",
       "stream": "stderr",
       "text": [
        "[929]\ttrain-rmse:2.399628\tval-rmse:2.756407\n",
        "[930]\ttrain-rmse:2.397856\tval-rmse:2.755046\n"
       ]
      },
      {
       "output_type": "stream",
       "stream": "stderr",
       "text": [
        "[931]\ttrain-rmse:2.397099\tval-rmse:2.754513\n",
        "[932]\ttrain-rmse:2.395420\tval-rmse:2.753199\n"
       ]
      },
      {
       "output_type": "stream",
       "stream": "stderr",
       "text": [
        "[933]\ttrain-rmse:2.394756\tval-rmse:2.752680\n",
        "[934]\ttrain-rmse:2.392179\tval-rmse:2.750669\n"
       ]
      },
      {
       "output_type": "stream",
       "stream": "stderr",
       "text": [
        "[935]\ttrain-rmse:2.391040\tval-rmse:2.749867\n",
        "[936]\ttrain-rmse:2.389834\tval-rmse:2.749040\n"
       ]
      },
      {
       "output_type": "stream",
       "stream": "stderr",
       "text": [
        "[937]\ttrain-rmse:2.387189\tval-rmse:2.747074\n",
        "[938]\ttrain-rmse:2.385962\tval-rmse:2.746112\n"
       ]
      },
      {
       "output_type": "stream",
       "stream": "stderr",
       "text": [
        "[939]\ttrain-rmse:2.384553\tval-rmse:2.745111\n",
        "[940]\ttrain-rmse:2.382994\tval-rmse:2.743837\n"
       ]
      },
      {
       "output_type": "stream",
       "stream": "stderr",
       "text": [
        "[941]\ttrain-rmse:2.380888\tval-rmse:2.742148\n",
        "[942]\ttrain-rmse:2.379510\tval-rmse:2.741199\n"
       ]
      },
      {
       "output_type": "stream",
       "stream": "stderr",
       "text": [
        "[943]\ttrain-rmse:2.378261\tval-rmse:2.740345\n",
        "[944]\ttrain-rmse:2.377300\tval-rmse:2.739589\n"
       ]
      },
      {
       "output_type": "stream",
       "stream": "stderr",
       "text": [
        "[945]\ttrain-rmse:2.374972\tval-rmse:2.737782\n",
        "[946]\ttrain-rmse:2.374129\tval-rmse:2.737053\n"
       ]
      },
      {
       "output_type": "stream",
       "stream": "stderr",
       "text": [
        "[947]\ttrain-rmse:2.373008\tval-rmse:2.736296\n",
        "[948]\ttrain-rmse:2.372418\tval-rmse:2.735765\n"
       ]
      },
      {
       "output_type": "stream",
       "stream": "stderr",
       "text": [
        "[949]\ttrain-rmse:2.370626\tval-rmse:2.734354\n",
        "[950]\ttrain-rmse:2.369092\tval-rmse:2.733124\n"
       ]
      },
      {
       "output_type": "stream",
       "stream": "stderr",
       "text": [
        "[951]\ttrain-rmse:2.368681\tval-rmse:2.732750\n",
        "[952]\ttrain-rmse:2.367451\tval-rmse:2.731874\n"
       ]
      },
      {
       "output_type": "stream",
       "stream": "stderr",
       "text": [
        "[953]\ttrain-rmse:2.366414\tval-rmse:2.731079\n",
        "[954]\ttrain-rmse:2.365332\tval-rmse:2.730260\n"
       ]
      },
      {
       "output_type": "stream",
       "stream": "stderr",
       "text": [
        "[955]\ttrain-rmse:2.364137\tval-rmse:2.729275\n",
        "[956]\ttrain-rmse:2.362891\tval-rmse:2.728277\n"
       ]
      },
      {
       "output_type": "stream",
       "stream": "stderr",
       "text": [
        "[957]\ttrain-rmse:2.361661\tval-rmse:2.727322\n",
        "[958]\ttrain-rmse:2.360779\tval-rmse:2.726537\n"
       ]
      },
      {
       "output_type": "stream",
       "stream": "stderr",
       "text": [
        "[959]\ttrain-rmse:2.360284\tval-rmse:2.726146\n",
        "[960]\ttrain-rmse:2.358358\tval-rmse:2.724712\n"
       ]
      },
      {
       "output_type": "stream",
       "stream": "stderr",
       "text": [
        "[961]\ttrain-rmse:2.357768\tval-rmse:2.724264\n",
        "[962]\ttrain-rmse:2.355884\tval-rmse:2.722988\n"
       ]
      },
      {
       "output_type": "stream",
       "stream": "stderr",
       "text": [
        "[963]\ttrain-rmse:2.354687\tval-rmse:2.722120\n",
        "[964]\ttrain-rmse:2.354424\tval-rmse:2.721895\n"
       ]
      },
      {
       "output_type": "stream",
       "stream": "stderr",
       "text": [
        "[965]\ttrain-rmse:2.353242\tval-rmse:2.720902\n",
        "[966]\ttrain-rmse:2.351319\tval-rmse:2.719543\n"
       ]
      },
      {
       "output_type": "stream",
       "stream": "stderr",
       "text": [
        "[967]\ttrain-rmse:2.349675\tval-rmse:2.718292\n",
        "[968]\ttrain-rmse:2.348538\tval-rmse:2.717456\n"
       ]
      },
      {
       "output_type": "stream",
       "stream": "stderr",
       "text": [
        "[969]\ttrain-rmse:2.347544\tval-rmse:2.716622\n",
        "[970]\ttrain-rmse:2.347011\tval-rmse:2.716166\n"
       ]
      },
      {
       "output_type": "stream",
       "stream": "stderr",
       "text": [
        "[971]\ttrain-rmse:2.346319\tval-rmse:2.715633\n",
        "[972]\ttrain-rmse:2.344383\tval-rmse:2.714104\n"
       ]
      },
      {
       "output_type": "stream",
       "stream": "stderr",
       "text": [
        "[973]\ttrain-rmse:2.343227\tval-rmse:2.713255\n",
        "[974]\ttrain-rmse:2.342713\tval-rmse:2.712884\n"
       ]
      },
      {
       "output_type": "stream",
       "stream": "stderr",
       "text": [
        "[975]\ttrain-rmse:2.340368\tval-rmse:2.711093\n",
        "[976]\ttrain-rmse:2.338513\tval-rmse:2.709618\n"
       ]
      },
      {
       "output_type": "stream",
       "stream": "stderr",
       "text": [
        "[977]\ttrain-rmse:2.337188\tval-rmse:2.708621\n",
        "[978]\ttrain-rmse:2.336018\tval-rmse:2.707635\n"
       ]
      },
      {
       "output_type": "stream",
       "stream": "stderr",
       "text": [
        "[979]\ttrain-rmse:2.333865\tval-rmse:2.706123\n",
        "[980]\ttrain-rmse:2.333521\tval-rmse:2.705864\n"
       ]
      },
      {
       "output_type": "stream",
       "stream": "stderr",
       "text": [
        "[981]\ttrain-rmse:2.332697\tval-rmse:2.705168\n",
        "[982]\ttrain-rmse:2.330990\tval-rmse:2.703796\n"
       ]
      },
      {
       "output_type": "stream",
       "stream": "stderr",
       "text": [
        "[983]\ttrain-rmse:2.330396\tval-rmse:2.703339\n",
        "[984]\ttrain-rmse:2.329376\tval-rmse:2.702555\n"
       ]
      },
      {
       "output_type": "stream",
       "stream": "stderr",
       "text": [
        "[985]\ttrain-rmse:2.328682\tval-rmse:2.701954\n",
        "[986]\ttrain-rmse:2.327889\tval-rmse:2.701355\n"
       ]
      },
      {
       "output_type": "stream",
       "stream": "stderr",
       "text": [
        "[987]\ttrain-rmse:2.325372\tval-rmse:2.699369\n",
        "[988]\ttrain-rmse:2.324342\tval-rmse:2.698654\n"
       ]
      },
      {
       "output_type": "stream",
       "stream": "stderr",
       "text": [
        "[989]\ttrain-rmse:2.322464\tval-rmse:2.697219\n",
        "[990]\ttrain-rmse:2.321666\tval-rmse:2.696682\n"
       ]
      },
      {
       "output_type": "stream",
       "stream": "stderr",
       "text": [
        "[991]\ttrain-rmse:2.319776\tval-rmse:2.695281\n",
        "[992]\ttrain-rmse:2.317791\tval-rmse:2.693794\n"
       ]
      },
      {
       "output_type": "stream",
       "stream": "stderr",
       "text": [
        "[993]\ttrain-rmse:2.316013\tval-rmse:2.692364\n",
        "[994]\ttrain-rmse:2.315474\tval-rmse:2.691895\n"
       ]
      },
      {
       "output_type": "stream",
       "stream": "stderr",
       "text": [
        "[995]\ttrain-rmse:2.313703\tval-rmse:2.690471\n",
        "[996]\ttrain-rmse:2.312756\tval-rmse:2.689720\n"
       ]
      },
      {
       "output_type": "stream",
       "stream": "stderr",
       "text": [
        "[997]\ttrain-rmse:2.312165\tval-rmse:2.689303\n",
        "[998]\ttrain-rmse:2.311485\tval-rmse:2.688677\n"
       ]
      },
      {
       "output_type": "stream",
       "stream": "stderr",
       "text": [
        "[999]\ttrain-rmse:2.310174\tval-rmse:2.687697\n",
        "[1000]\ttrain-rmse:2.307996\tval-rmse:2.685962\n"
       ]
      },
      {
       "output_type": "stream",
       "stream": "stderr",
       "text": [
        "[1001]\ttrain-rmse:2.306631\tval-rmse:2.684851\n",
        "[1002]\ttrain-rmse:2.305460\tval-rmse:2.683905\n"
       ]
      },
      {
       "output_type": "stream",
       "stream": "stderr",
       "text": [
        "[1003]\ttrain-rmse:2.304223\tval-rmse:2.682940\n",
        "[1004]\ttrain-rmse:2.302585\tval-rmse:2.681742\n"
       ]
      },
      {
       "output_type": "stream",
       "stream": "stderr",
       "text": [
        "[1005]\ttrain-rmse:2.301999\tval-rmse:2.681300\n",
        "[1006]\ttrain-rmse:2.300003\tval-rmse:2.679892\n"
       ]
      },
      {
       "output_type": "stream",
       "stream": "stderr",
       "text": [
        "[1007]\ttrain-rmse:2.298536\tval-rmse:2.678812\n",
        "[1008]\ttrain-rmse:2.297249\tval-rmse:2.677957\n"
       ]
      },
      {
       "output_type": "stream",
       "stream": "stderr",
       "text": [
        "[1009]\ttrain-rmse:2.296591\tval-rmse:2.677480\n",
        "[1010]\ttrain-rmse:2.295478\tval-rmse:2.676702\n"
       ]
      },
      {
       "output_type": "stream",
       "stream": "stderr",
       "text": [
        "[1011]\ttrain-rmse:2.293754\tval-rmse:2.675239\n",
        "[1012]\ttrain-rmse:2.292294\tval-rmse:2.674144\n"
       ]
      },
      {
       "output_type": "stream",
       "stream": "stderr",
       "text": [
        "[1013]\ttrain-rmse:2.291173\tval-rmse:2.673296\n",
        "[1014]\ttrain-rmse:2.290672\tval-rmse:2.672829\n"
       ]
      },
      {
       "output_type": "stream",
       "stream": "stderr",
       "text": [
        "[1015]\ttrain-rmse:2.289469\tval-rmse:2.671887\n",
        "[1016]\ttrain-rmse:2.288250\tval-rmse:2.670990\n"
       ]
      },
      {
       "output_type": "stream",
       "stream": "stderr",
       "text": [
        "[1017]\ttrain-rmse:2.287637\tval-rmse:2.670493\n",
        "[1018]\ttrain-rmse:2.286466\tval-rmse:2.669555\n"
       ]
      },
      {
       "output_type": "stream",
       "stream": "stderr",
       "text": [
        "[1019]\ttrain-rmse:2.285286\tval-rmse:2.668621\n",
        "[1020]\ttrain-rmse:2.283832\tval-rmse:2.667554\n"
       ]
      },
      {
       "output_type": "stream",
       "stream": "stderr",
       "text": [
        "[1021]\ttrain-rmse:2.282466\tval-rmse:2.666534\n",
        "[1022]\ttrain-rmse:2.280064\tval-rmse:2.664600\n"
       ]
      },
      {
       "output_type": "stream",
       "stream": "stderr",
       "text": [
        "[1023]\ttrain-rmse:2.279444\tval-rmse:2.664149\n",
        "[1024]\ttrain-rmse:2.278538\tval-rmse:2.663593\n"
       ]
      },
      {
       "output_type": "stream",
       "stream": "stderr",
       "text": [
        "[1025]\ttrain-rmse:2.278195\tval-rmse:2.663319\n",
        "[1026]\ttrain-rmse:2.276174\tval-rmse:2.661746\n"
       ]
      },
      {
       "output_type": "stream",
       "stream": "stderr",
       "text": [
        "[1027]\ttrain-rmse:2.275047\tval-rmse:2.660857\n",
        "[1028]\ttrain-rmse:2.273246\tval-rmse:2.659559\n"
       ]
      },
      {
       "output_type": "stream",
       "stream": "stderr",
       "text": [
        "[1029]\ttrain-rmse:2.272072\tval-rmse:2.658658\n",
        "[1030]\ttrain-rmse:2.270595\tval-rmse:2.657497\n"
       ]
      },
      {
       "output_type": "stream",
       "stream": "stderr",
       "text": [
        "[1031]\ttrain-rmse:2.270145\tval-rmse:2.657142\n",
        "[1032]\ttrain-rmse:2.269371\tval-rmse:2.656495\n"
       ]
      },
      {
       "output_type": "stream",
       "stream": "stderr",
       "text": [
        "[1033]\ttrain-rmse:2.268841\tval-rmse:2.656155\n",
        "[1034]\ttrain-rmse:2.267755\tval-rmse:2.655303\n"
       ]
      },
      {
       "output_type": "stream",
       "stream": "stderr",
       "text": [
        "[1035]\ttrain-rmse:2.266800\tval-rmse:2.654605\n",
        "[1036]\ttrain-rmse:2.265369\tval-rmse:2.653541\n"
       ]
      },
      {
       "output_type": "stream",
       "stream": "stderr",
       "text": [
        "[1037]\ttrain-rmse:2.264288\tval-rmse:2.652702\n",
        "[1038]\ttrain-rmse:2.262989\tval-rmse:2.651717\n"
       ]
      },
      {
       "output_type": "stream",
       "stream": "stderr",
       "text": [
        "[1039]\ttrain-rmse:2.262207\tval-rmse:2.651132\n",
        "[1040]\ttrain-rmse:2.261086\tval-rmse:2.650331\n"
       ]
      },
      {
       "output_type": "stream",
       "stream": "stderr",
       "text": [
        "[1041]\ttrain-rmse:2.260664\tval-rmse:2.649998\n",
        "[1042]\ttrain-rmse:2.260006\tval-rmse:2.649486\n"
       ]
      },
      {
       "output_type": "stream",
       "stream": "stderr",
       "text": [
        "[1043]\ttrain-rmse:2.258882\tval-rmse:2.648593\n",
        "[1044]\ttrain-rmse:2.256860\tval-rmse:2.647007\n"
       ]
      },
      {
       "output_type": "stream",
       "stream": "stderr",
       "text": [
        "[1045]\ttrain-rmse:2.256512\tval-rmse:2.646758\n",
        "[1046]\ttrain-rmse:2.256037\tval-rmse:2.646415\n"
       ]
      },
      {
       "output_type": "stream",
       "stream": "stderr",
       "text": [
        "[1047]\ttrain-rmse:2.253829\tval-rmse:2.644686\n",
        "[1048]\ttrain-rmse:2.252611\tval-rmse:2.643846\n"
       ]
      },
      {
       "output_type": "stream",
       "stream": "stderr",
       "text": [
        "[1049]\ttrain-rmse:2.251369\tval-rmse:2.642835\n",
        "[1050]\ttrain-rmse:2.250312\tval-rmse:2.642126\n"
       ]
      },
      {
       "output_type": "stream",
       "stream": "stderr",
       "text": [
        "[1051]\ttrain-rmse:2.248360\tval-rmse:2.640617\n",
        "[1052]\ttrain-rmse:2.247327\tval-rmse:2.639809\n"
       ]
      },
      {
       "output_type": "stream",
       "stream": "stderr",
       "text": [
        "[1053]\ttrain-rmse:2.246354\tval-rmse:2.639090\n",
        "[1054]\ttrain-rmse:2.245394\tval-rmse:2.638430\n"
       ]
      },
      {
       "output_type": "stream",
       "stream": "stderr",
       "text": [
        "[1055]\ttrain-rmse:2.244964\tval-rmse:2.638056\n",
        "[1056]\ttrain-rmse:2.243743\tval-rmse:2.637157\n"
       ]
      },
      {
       "output_type": "stream",
       "stream": "stderr",
       "text": [
        "[1057]\ttrain-rmse:2.242274\tval-rmse:2.635815\n",
        "[1058]\ttrain-rmse:2.241193\tval-rmse:2.635059\n"
       ]
      },
      {
       "output_type": "stream",
       "stream": "stderr",
       "text": [
        "[1059]\ttrain-rmse:2.239992\tval-rmse:2.634316\n",
        "[1060]\ttrain-rmse:2.238526\tval-rmse:2.633120\n"
       ]
      },
      {
       "output_type": "stream",
       "stream": "stderr",
       "text": [
        "[1061]\ttrain-rmse:2.237319\tval-rmse:2.632196\n",
        "[1062]\ttrain-rmse:2.236496\tval-rmse:2.631588\n"
       ]
      },
      {
       "output_type": "stream",
       "stream": "stderr",
       "text": [
        "[1063]\ttrain-rmse:2.235138\tval-rmse:2.630563\n",
        "[1064]\ttrain-rmse:2.234009\tval-rmse:2.629747\n"
       ]
      },
      {
       "output_type": "stream",
       "stream": "stderr",
       "text": [
        "[1065]\ttrain-rmse:2.233065\tval-rmse:2.629002\n",
        "[1066]\ttrain-rmse:2.231143\tval-rmse:2.627608\n"
       ]
      },
      {
       "output_type": "stream",
       "stream": "stderr",
       "text": [
        "[1067]\ttrain-rmse:2.229113\tval-rmse:2.626167\n",
        "[1068]\ttrain-rmse:2.228342\tval-rmse:2.625677\n"
       ]
      },
      {
       "output_type": "stream",
       "stream": "stderr",
       "text": [
        "[1069]\ttrain-rmse:2.227571\tval-rmse:2.625057\n",
        "[1070]\ttrain-rmse:2.226671\tval-rmse:2.624356\n"
       ]
      },
      {
       "output_type": "stream",
       "stream": "stderr",
       "text": [
        "[1071]\ttrain-rmse:2.224790\tval-rmse:2.622934\n",
        "[1072]\ttrain-rmse:2.223703\tval-rmse:2.622036\n"
       ]
      },
      {
       "output_type": "stream",
       "stream": "stderr",
       "text": [
        "[1073]\ttrain-rmse:2.222679\tval-rmse:2.621331\n",
        "[1074]\ttrain-rmse:2.221323\tval-rmse:2.620401\n"
       ]
      },
      {
       "output_type": "stream",
       "stream": "stderr",
       "text": [
        "[1075]\ttrain-rmse:2.220045\tval-rmse:2.619510\n",
        "[1076]\ttrain-rmse:2.218326\tval-rmse:2.618321\n"
       ]
      },
      {
       "output_type": "stream",
       "stream": "stderr",
       "text": [
        "[1077]\ttrain-rmse:2.217440\tval-rmse:2.617676\n",
        "[1078]\ttrain-rmse:2.215387\tval-rmse:2.616140\n"
       ]
      },
      {
       "output_type": "stream",
       "stream": "stderr",
       "text": [
        "[1079]\ttrain-rmse:2.214837\tval-rmse:2.615726\n",
        "[1080]\ttrain-rmse:2.213864\tval-rmse:2.614979\n"
       ]
      },
      {
       "output_type": "stream",
       "stream": "stderr",
       "text": [
        "[1081]\ttrain-rmse:2.212929\tval-rmse:2.614312\n",
        "[1082]\ttrain-rmse:2.211479\tval-rmse:2.613228\n"
       ]
      },
      {
       "output_type": "stream",
       "stream": "stderr",
       "text": [
        "[1083]\ttrain-rmse:2.210835\tval-rmse:2.612678\n",
        "[1084]\ttrain-rmse:2.209502\tval-rmse:2.611650\n"
       ]
      },
      {
       "output_type": "stream",
       "stream": "stderr",
       "text": [
        "[1085]\ttrain-rmse:2.207599\tval-rmse:2.610307\n",
        "[1086]\ttrain-rmse:2.206061\tval-rmse:2.609180\n"
       ]
      },
      {
       "output_type": "stream",
       "stream": "stderr",
       "text": [
        "[1087]\ttrain-rmse:2.205010\tval-rmse:2.608549\n",
        "[1088]\ttrain-rmse:2.203900\tval-rmse:2.607730\n"
       ]
      },
      {
       "output_type": "stream",
       "stream": "stderr",
       "text": [
        "[1089]\ttrain-rmse:2.203473\tval-rmse:2.607350\n",
        "[1090]\ttrain-rmse:2.202766\tval-rmse:2.606820\n"
       ]
      },
      {
       "output_type": "stream",
       "stream": "stderr",
       "text": [
        "[1091]\ttrain-rmse:2.202137\tval-rmse:2.606388\n",
        "[1092]\ttrain-rmse:2.201678\tval-rmse:2.606049\n"
       ]
      },
      {
       "output_type": "stream",
       "stream": "stderr",
       "text": [
        "[1093]\ttrain-rmse:2.200182\tval-rmse:2.604956\n",
        "[1094]\ttrain-rmse:2.198978\tval-rmse:2.603980\n"
       ]
      },
      {
       "output_type": "stream",
       "stream": "stderr",
       "text": [
        "[1095]\ttrain-rmse:2.197836\tval-rmse:2.603138\n",
        "[1096]\ttrain-rmse:2.197324\tval-rmse:2.602732\n"
       ]
      },
      {
       "output_type": "stream",
       "stream": "stderr",
       "text": [
        "[1097]\ttrain-rmse:2.196322\tval-rmse:2.601943\n",
        "[1098]\ttrain-rmse:2.194824\tval-rmse:2.600932\n"
       ]
      },
      {
       "output_type": "stream",
       "stream": "stderr",
       "text": [
        "[1099]\ttrain-rmse:2.193427\tval-rmse:2.599955\n",
        "[1100]\ttrain-rmse:2.192612\tval-rmse:2.599245\n"
       ]
      },
      {
       "output_type": "stream",
       "stream": "stderr",
       "text": [
        "[1101]\ttrain-rmse:2.191808\tval-rmse:2.598640\n",
        "[1102]\ttrain-rmse:2.190243\tval-rmse:2.597539\n"
       ]
      },
      {
       "output_type": "stream",
       "stream": "stderr",
       "text": [
        "[1103]\ttrain-rmse:2.189047\tval-rmse:2.596603\n",
        "[1104]\ttrain-rmse:2.188080\tval-rmse:2.595878\n"
       ]
      },
      {
       "output_type": "stream",
       "stream": "stderr",
       "text": [
        "[1105]\ttrain-rmse:2.186995\tval-rmse:2.595062\n",
        "[1106]\ttrain-rmse:2.185727\tval-rmse:2.594172\n"
       ]
      },
      {
       "output_type": "stream",
       "stream": "stderr",
       "text": [
        "[1107]\ttrain-rmse:2.183774\tval-rmse:2.592682\n",
        "[1108]\ttrain-rmse:2.182192\tval-rmse:2.591373\n"
       ]
      },
      {
       "output_type": "stream",
       "stream": "stderr",
       "text": [
        "[1109]\ttrain-rmse:2.181375\tval-rmse:2.590833\n",
        "[1110]\ttrain-rmse:2.180368\tval-rmse:2.590098\n"
       ]
      },
      {
       "output_type": "stream",
       "stream": "stderr",
       "text": [
        "[1111]\ttrain-rmse:2.179173\tval-rmse:2.589193\n",
        "[1112]\ttrain-rmse:2.178401\tval-rmse:2.588567\n"
       ]
      },
      {
       "output_type": "stream",
       "stream": "stderr",
       "text": [
        "[1113]\ttrain-rmse:2.177636\tval-rmse:2.587981\n",
        "[1114]\ttrain-rmse:2.176628\tval-rmse:2.587300\n"
       ]
      },
      {
       "output_type": "stream",
       "stream": "stderr",
       "text": [
        "[1115]\ttrain-rmse:2.176216\tval-rmse:2.586990\n",
        "[1116]\ttrain-rmse:2.174993\tval-rmse:2.586194\n"
       ]
      },
      {
       "output_type": "stream",
       "stream": "stderr",
       "text": [
        "[1117]\ttrain-rmse:2.174499\tval-rmse:2.585819\n",
        "[1118]\ttrain-rmse:2.173377\tval-rmse:2.584865\n"
       ]
      },
      {
       "output_type": "stream",
       "stream": "stderr",
       "text": [
        "[1119]\ttrain-rmse:2.171464\tval-rmse:2.583257\n",
        "[1120]\ttrain-rmse:2.170553\tval-rmse:2.582586\n"
       ]
      },
      {
       "output_type": "stream",
       "stream": "stderr",
       "text": [
        "[1121]\ttrain-rmse:2.169073\tval-rmse:2.581413\n",
        "[1122]\ttrain-rmse:2.168212\tval-rmse:2.580737\n"
       ]
      },
      {
       "output_type": "stream",
       "stream": "stderr",
       "text": [
        "[1123]\ttrain-rmse:2.167218\tval-rmse:2.580089\n",
        "[1124]\ttrain-rmse:2.166716\tval-rmse:2.579700\n"
       ]
      },
      {
       "output_type": "stream",
       "stream": "stderr",
       "text": [
        "[1125]\ttrain-rmse:2.165831\tval-rmse:2.578999\n",
        "[1126]\ttrain-rmse:2.164985\tval-rmse:2.578299\n"
       ]
      },
      {
       "output_type": "stream",
       "stream": "stderr",
       "text": [
        "[1127]\ttrain-rmse:2.164736\tval-rmse:2.578116\n",
        "[1128]\ttrain-rmse:2.164294\tval-rmse:2.577829\n"
       ]
      },
      {
       "output_type": "stream",
       "stream": "stderr",
       "text": [
        "[1129]\ttrain-rmse:2.163131\tval-rmse:2.577019\n",
        "[1130]\ttrain-rmse:2.161771\tval-rmse:2.576027\n"
       ]
      },
      {
       "output_type": "stream",
       "stream": "stderr",
       "text": [
        "[1131]\ttrain-rmse:2.159916\tval-rmse:2.574612\n",
        "[1132]\ttrain-rmse:2.158882\tval-rmse:2.573842\n"
       ]
      },
      {
       "output_type": "stream",
       "stream": "stderr",
       "text": [
        "[1133]\ttrain-rmse:2.157916\tval-rmse:2.573189\n",
        "[1134]\ttrain-rmse:2.157427\tval-rmse:2.572857\n"
       ]
      },
      {
       "output_type": "stream",
       "stream": "stderr",
       "text": [
        "[1135]\ttrain-rmse:2.156135\tval-rmse:2.571825\n",
        "[1136]\ttrain-rmse:2.155492\tval-rmse:2.571393\n"
       ]
      },
      {
       "output_type": "stream",
       "stream": "stderr",
       "text": [
        "[1137]\ttrain-rmse:2.154815\tval-rmse:2.570860\n",
        "[1138]\ttrain-rmse:2.154145\tval-rmse:2.570374\n"
       ]
      },
      {
       "output_type": "stream",
       "stream": "stderr",
       "text": [
        "[1139]\ttrain-rmse:2.153383\tval-rmse:2.569741\n",
        "[1140]\ttrain-rmse:2.152276\tval-rmse:2.568881\n"
       ]
      },
      {
       "output_type": "stream",
       "stream": "stderr",
       "text": [
        "[1141]\ttrain-rmse:2.151457\tval-rmse:2.568349\n",
        "[1142]\ttrain-rmse:2.150939\tval-rmse:2.567958\n"
       ]
      },
      {
       "output_type": "stream",
       "stream": "stderr",
       "text": [
        "[1143]\ttrain-rmse:2.149343\tval-rmse:2.566756\n",
        "[1144]\ttrain-rmse:2.148624\tval-rmse:2.566247\n"
       ]
      },
      {
       "output_type": "stream",
       "stream": "stderr",
       "text": [
        "[1145]\ttrain-rmse:2.147869\tval-rmse:2.565688\n",
        "[1146]\ttrain-rmse:2.146934\tval-rmse:2.565015\n"
       ]
      },
      {
       "output_type": "stream",
       "stream": "stderr",
       "text": [
        "[1147]\ttrain-rmse:2.145984\tval-rmse:2.564337\n",
        "[1148]\ttrain-rmse:2.144918\tval-rmse:2.563566\n"
       ]
      },
      {
       "output_type": "stream",
       "stream": "stderr",
       "text": [
        "[1149]\ttrain-rmse:2.143745\tval-rmse:2.562797\n",
        "[1150]\ttrain-rmse:2.143174\tval-rmse:2.562445\n"
       ]
      },
      {
       "output_type": "stream",
       "stream": "stderr",
       "text": [
        "[1151]\ttrain-rmse:2.142275\tval-rmse:2.561840\n",
        "[1152]\ttrain-rmse:2.141121\tval-rmse:2.560967\n"
       ]
      },
      {
       "output_type": "stream",
       "stream": "stderr",
       "text": [
        "[1153]\ttrain-rmse:2.140005\tval-rmse:2.560250\n",
        "[1154]\ttrain-rmse:2.139226\tval-rmse:2.559674\n"
       ]
      },
      {
       "output_type": "stream",
       "stream": "stderr",
       "text": [
        "[1155]\ttrain-rmse:2.138394\tval-rmse:2.558972\n",
        "[1156]\ttrain-rmse:2.137162\tval-rmse:2.558129\n"
       ]
      },
      {
       "output_type": "stream",
       "stream": "stderr",
       "text": [
        "[1157]\ttrain-rmse:2.136530\tval-rmse:2.557659\n",
        "[1158]\ttrain-rmse:2.135320\tval-rmse:2.556729\n"
       ]
      },
      {
       "output_type": "stream",
       "stream": "stderr",
       "text": [
        "[1159]\ttrain-rmse:2.134221\tval-rmse:2.555860\n",
        "[1160]\ttrain-rmse:2.133129\tval-rmse:2.555081\n"
       ]
      },
      {
       "output_type": "stream",
       "stream": "stderr",
       "text": [
        "[1161]\ttrain-rmse:2.132316\tval-rmse:2.554436\n",
        "[1162]\ttrain-rmse:2.131072\tval-rmse:2.553532\n"
       ]
      },
      {
       "output_type": "stream",
       "stream": "stderr",
       "text": [
        "[1163]\ttrain-rmse:2.130214\tval-rmse:2.552941\n",
        "[1164]\ttrain-rmse:2.129612\tval-rmse:2.552545\n"
       ]
      },
      {
       "output_type": "stream",
       "stream": "stderr",
       "text": [
        "[1165]\ttrain-rmse:2.127783\tval-rmse:2.551250\n",
        "[1166]\ttrain-rmse:2.127174\tval-rmse:2.550732\n"
       ]
      },
      {
       "output_type": "stream",
       "stream": "stderr",
       "text": [
        "[1167]\ttrain-rmse:2.126276\tval-rmse:2.550035\n",
        "[1168]\ttrain-rmse:2.125689\tval-rmse:2.549619\n"
       ]
      },
      {
       "output_type": "stream",
       "stream": "stderr",
       "text": [
        "[1169]\ttrain-rmse:2.124640\tval-rmse:2.548869\n",
        "[1170]\ttrain-rmse:2.123158\tval-rmse:2.547769\n"
       ]
      },
      {
       "output_type": "stream",
       "stream": "stderr",
       "text": [
        "[1171]\ttrain-rmse:2.122601\tval-rmse:2.547284\n",
        "[1172]\ttrain-rmse:2.120651\tval-rmse:2.545988\n"
       ]
      },
      {
       "output_type": "stream",
       "stream": "stderr",
       "text": [
        "[1173]\ttrain-rmse:2.119490\tval-rmse:2.545067\n",
        "[1174]\ttrain-rmse:2.118120\tval-rmse:2.544051\n"
       ]
      },
      {
       "output_type": "stream",
       "stream": "stderr",
       "text": [
        "[1175]\ttrain-rmse:2.117147\tval-rmse:2.543385\n",
        "[1176]\ttrain-rmse:2.115223\tval-rmse:2.541915\n"
       ]
      },
      {
       "output_type": "stream",
       "stream": "stderr",
       "text": [
        "[1177]\ttrain-rmse:2.114505\tval-rmse:2.541388\n",
        "[1178]\ttrain-rmse:2.113225\tval-rmse:2.540467\n"
       ]
      },
      {
       "output_type": "stream",
       "stream": "stderr",
       "text": [
        "[1179]\ttrain-rmse:2.112232\tval-rmse:2.539676\n",
        "[1180]\ttrain-rmse:2.110245\tval-rmse:2.538199\n"
       ]
      },
      {
       "output_type": "stream",
       "stream": "stderr",
       "text": [
        "[1181]\ttrain-rmse:2.109449\tval-rmse:2.537649\n",
        "[1182]\ttrain-rmse:2.108153\tval-rmse:2.536715\n"
       ]
      },
      {
       "output_type": "stream",
       "stream": "stderr",
       "text": [
        "[1183]\ttrain-rmse:2.107723\tval-rmse:2.536449\n",
        "[1184]\ttrain-rmse:2.106613\tval-rmse:2.535575\n"
       ]
      },
      {
       "output_type": "stream",
       "stream": "stderr",
       "text": [
        "[1185]\ttrain-rmse:2.104867\tval-rmse:2.534245\n",
        "[1186]\ttrain-rmse:2.103948\tval-rmse:2.533594\n"
       ]
      },
      {
       "output_type": "stream",
       "stream": "stderr",
       "text": [
        "[1187]\ttrain-rmse:2.103471\tval-rmse:2.533226\n",
        "[1188]\ttrain-rmse:2.102877\tval-rmse:2.532835\n"
       ]
      },
      {
       "output_type": "stream",
       "stream": "stderr",
       "text": [
        "[1189]\ttrain-rmse:2.101372\tval-rmse:2.531787\n",
        "[1190]\ttrain-rmse:2.099927\tval-rmse:2.530789\n"
       ]
      },
      {
       "output_type": "stream",
       "stream": "stderr",
       "text": [
        "[1191]\ttrain-rmse:2.099610\tval-rmse:2.530551\n",
        "[1192]\ttrain-rmse:2.097976\tval-rmse:2.529318\n"
       ]
      },
      {
       "output_type": "stream",
       "stream": "stderr",
       "text": [
        "[1193]\ttrain-rmse:2.096741\tval-rmse:2.528431\n",
        "[1194]\ttrain-rmse:2.095803\tval-rmse:2.527751\n"
       ]
      },
      {
       "output_type": "stream",
       "stream": "stderr",
       "text": [
        "[1195]\ttrain-rmse:2.094788\tval-rmse:2.526876\n",
        "[1196]\ttrain-rmse:2.093575\tval-rmse:2.526032\n"
       ]
      },
      {
       "output_type": "stream",
       "stream": "stderr",
       "text": [
        "[1197]\ttrain-rmse:2.092225\tval-rmse:2.525087\n",
        "[1198]\ttrain-rmse:2.091396\tval-rmse:2.524427\n"
       ]
      },
      {
       "output_type": "stream",
       "stream": "stderr",
       "text": [
        "[1199]\ttrain-rmse:2.090112\tval-rmse:2.523602\n",
        "[1200]\ttrain-rmse:2.089314\tval-rmse:2.522998\n"
       ]
      },
      {
       "output_type": "stream",
       "stream": "stderr",
       "text": [
        "[1201]\ttrain-rmse:2.088339\tval-rmse:2.522328\n",
        "[1202]\ttrain-rmse:2.087840\tval-rmse:2.521916\n"
       ]
      },
      {
       "output_type": "stream",
       "stream": "stderr",
       "text": [
        "[1203]\ttrain-rmse:2.086314\tval-rmse:2.520813\n",
        "[1204]\ttrain-rmse:2.085999\tval-rmse:2.520532\n"
       ]
      },
      {
       "output_type": "stream",
       "stream": "stderr",
       "text": [
        "[1205]\ttrain-rmse:2.084377\tval-rmse:2.519273\n",
        "[1206]\ttrain-rmse:2.083775\tval-rmse:2.518843\n"
       ]
      },
      {
       "output_type": "stream",
       "stream": "stderr",
       "text": [
        "[1207]\ttrain-rmse:2.082901\tval-rmse:2.518314\n",
        "[1208]\ttrain-rmse:2.082178\tval-rmse:2.517796\n"
       ]
      },
      {
       "output_type": "stream",
       "stream": "stderr",
       "text": [
        "[1209]\ttrain-rmse:2.081294\tval-rmse:2.517108\n",
        "[1210]\ttrain-rmse:2.080428\tval-rmse:2.516472\n"
       ]
      },
      {
       "output_type": "stream",
       "stream": "stderr",
       "text": [
        "[1211]\ttrain-rmse:2.080091\tval-rmse:2.516272\n",
        "[1212]\ttrain-rmse:2.078349\tval-rmse:2.515055\n"
       ]
      },
      {
       "output_type": "stream",
       "stream": "stderr",
       "text": [
        "[1213]\ttrain-rmse:2.077824\tval-rmse:2.514702\n",
        "[1214]\ttrain-rmse:2.077271\tval-rmse:2.514323\n"
       ]
      },
      {
       "output_type": "stream",
       "stream": "stderr",
       "text": [
        "[1215]\ttrain-rmse:2.075915\tval-rmse:2.513419\n",
        "[1216]\ttrain-rmse:2.074820\tval-rmse:2.512718\n"
       ]
      },
      {
       "output_type": "stream",
       "stream": "stderr",
       "text": [
        "[1217]\ttrain-rmse:2.073394\tval-rmse:2.511736\n",
        "[1218]\ttrain-rmse:2.072108\tval-rmse:2.510732\n"
       ]
      },
      {
       "output_type": "stream",
       "stream": "stderr",
       "text": [
        "[1219]\ttrain-rmse:2.071510\tval-rmse:2.510262\n",
        "[1220]\ttrain-rmse:2.070716\tval-rmse:2.509726\n"
       ]
      },
      {
       "output_type": "stream",
       "stream": "stderr",
       "text": [
        "[1221]\ttrain-rmse:2.070115\tval-rmse:2.509315\n",
        "[1222]\ttrain-rmse:2.069197\tval-rmse:2.508633\n"
       ]
      },
      {
       "output_type": "stream",
       "stream": "stderr",
       "text": [
        "[1223]\ttrain-rmse:2.068609\tval-rmse:2.508163\n",
        "[1224]\ttrain-rmse:2.067268\tval-rmse:2.507200\n"
       ]
      },
      {
       "output_type": "stream",
       "stream": "stderr",
       "text": [
        "[1225]\ttrain-rmse:2.066413\tval-rmse:2.506620\n",
        "[1226]\ttrain-rmse:2.065977\tval-rmse:2.506353\n"
       ]
      },
      {
       "output_type": "stream",
       "stream": "stderr",
       "text": [
        "[1227]\ttrain-rmse:2.065006\tval-rmse:2.505630\n",
        "[1228]\ttrain-rmse:2.064269\tval-rmse:2.505167\n"
       ]
      },
      {
       "output_type": "stream",
       "stream": "stderr",
       "text": [
        "[1229]\ttrain-rmse:2.063376\tval-rmse:2.504591\n",
        "[1230]\ttrain-rmse:2.063017\tval-rmse:2.504317\n"
       ]
      },
      {
       "output_type": "stream",
       "stream": "stderr",
       "text": [
        "[1231]\ttrain-rmse:2.061806\tval-rmse:2.503456\n",
        "[1232]\ttrain-rmse:2.061330\tval-rmse:2.503101\n"
       ]
      },
      {
       "output_type": "stream",
       "stream": "stderr",
       "text": [
        "[1233]\ttrain-rmse:2.060593\tval-rmse:2.502624\n",
        "[1234]\ttrain-rmse:2.059292\tval-rmse:2.501690\n"
       ]
      },
      {
       "output_type": "stream",
       "stream": "stderr",
       "text": [
        "[1235]\ttrain-rmse:2.058647\tval-rmse:2.501217\n",
        "[1236]\ttrain-rmse:2.057920\tval-rmse:2.500737\n"
       ]
      },
      {
       "output_type": "stream",
       "stream": "stderr",
       "text": [
        "[1237]\ttrain-rmse:2.056611\tval-rmse:2.499683\n",
        "[1238]\ttrain-rmse:2.054965\tval-rmse:2.498540\n"
       ]
      },
      {
       "output_type": "stream",
       "stream": "stderr",
       "text": [
        "[1239]\ttrain-rmse:2.054409\tval-rmse:2.498087\n",
        "[1240]\ttrain-rmse:2.053866\tval-rmse:2.497681\n"
       ]
      },
      {
       "output_type": "stream",
       "stream": "stderr",
       "text": [
        "[1241]\ttrain-rmse:2.053391\tval-rmse:2.497305\n",
        "[1242]\ttrain-rmse:2.052793\tval-rmse:2.496880\n"
       ]
      },
      {
       "output_type": "stream",
       "stream": "stderr",
       "text": [
        "[1243]\ttrain-rmse:2.052034\tval-rmse:2.496337\n",
        "[1244]\ttrain-rmse:2.050994\tval-rmse:2.495677\n"
       ]
      },
      {
       "output_type": "stream",
       "stream": "stderr",
       "text": [
        "[1245]\ttrain-rmse:2.050563\tval-rmse:2.495391\n",
        "[1246]\ttrain-rmse:2.049230\tval-rmse:2.494433\n"
       ]
      },
      {
       "output_type": "stream",
       "stream": "stderr",
       "text": [
        "[1247]\ttrain-rmse:2.048179\tval-rmse:2.493651\n",
        "[1248]\ttrain-rmse:2.047187\tval-rmse:2.492898\n"
       ]
      },
      {
       "output_type": "stream",
       "stream": "stderr",
       "text": [
        "[1249]\ttrain-rmse:2.046719\tval-rmse:2.492539\n",
        "[1250]\ttrain-rmse:2.045476\tval-rmse:2.491688\n"
       ]
      },
      {
       "output_type": "stream",
       "stream": "stderr",
       "text": [
        "[1251]\ttrain-rmse:2.044298\tval-rmse:2.490860\n",
        "[1252]\ttrain-rmse:2.043477\tval-rmse:2.490232\n"
       ]
      },
      {
       "output_type": "stream",
       "stream": "stderr",
       "text": [
        "[1253]\ttrain-rmse:2.042851\tval-rmse:2.489721\n",
        "[1254]\ttrain-rmse:2.041446\tval-rmse:2.488741\n"
       ]
      },
      {
       "output_type": "stream",
       "stream": "stderr",
       "text": [
        "[1255]\ttrain-rmse:2.040324\tval-rmse:2.488037\n",
        "[1256]\ttrain-rmse:2.039709\tval-rmse:2.487532\n"
       ]
      },
      {
       "output_type": "stream",
       "stream": "stderr",
       "text": [
        "[1257]\ttrain-rmse:2.039284\tval-rmse:2.487257\n",
        "[1258]\ttrain-rmse:2.038016\tval-rmse:2.486295\n"
       ]
      },
      {
       "output_type": "stream",
       "stream": "stderr",
       "text": [
        "[1259]\ttrain-rmse:2.037130\tval-rmse:2.485603\n",
        "[1260]\ttrain-rmse:2.036705\tval-rmse:2.485249\n"
       ]
      },
      {
       "output_type": "stream",
       "stream": "stderr",
       "text": [
        "[1261]\ttrain-rmse:2.036450\tval-rmse:2.485094\n",
        "[1262]\ttrain-rmse:2.035609\tval-rmse:2.484501\n"
       ]
      },
      {
       "output_type": "stream",
       "stream": "stderr",
       "text": [
        "[1263]\ttrain-rmse:2.034726\tval-rmse:2.483866\n",
        "[1264]\ttrain-rmse:2.034010\tval-rmse:2.483330\n"
       ]
      },
      {
       "output_type": "stream",
       "stream": "stderr",
       "text": [
        "[1265]\ttrain-rmse:2.033421\tval-rmse:2.482889\n",
        "[1266]\ttrain-rmse:2.032772\tval-rmse:2.482425\n"
       ]
      },
      {
       "output_type": "stream",
       "stream": "stderr",
       "text": [
        "[1267]\ttrain-rmse:2.032190\tval-rmse:2.482011\n",
        "[1268]\ttrain-rmse:2.031520\tval-rmse:2.481572\n"
       ]
      },
      {
       "output_type": "stream",
       "stream": "stderr",
       "text": [
        "[1269]\ttrain-rmse:2.031046\tval-rmse:2.481234\n",
        "[1270]\ttrain-rmse:2.029531\tval-rmse:2.480163\n"
       ]
      },
      {
       "output_type": "stream",
       "stream": "stderr",
       "text": [
        "[1271]\ttrain-rmse:2.029018\tval-rmse:2.479839\n",
        "[1272]\ttrain-rmse:2.028185\tval-rmse:2.479208\n"
       ]
      },
      {
       "output_type": "stream",
       "stream": "stderr",
       "text": [
        "[1273]\ttrain-rmse:2.027307\tval-rmse:2.478623\n",
        "[1274]\ttrain-rmse:2.026316\tval-rmse:2.477941\n"
       ]
      },
      {
       "output_type": "stream",
       "stream": "stderr",
       "text": [
        "[1275]\ttrain-rmse:2.025637\tval-rmse:2.477499\n",
        "[1276]\ttrain-rmse:2.023997\tval-rmse:2.476194\n"
       ]
      },
      {
       "output_type": "stream",
       "stream": "stderr",
       "text": [
        "[1277]\ttrain-rmse:2.022922\tval-rmse:2.475433\n",
        "[1278]\ttrain-rmse:2.022016\tval-rmse:2.474796\n"
       ]
      },
      {
       "output_type": "stream",
       "stream": "stderr",
       "text": [
        "[1279]\ttrain-rmse:2.020051\tval-rmse:2.473471\n",
        "[1280]\ttrain-rmse:2.018641\tval-rmse:2.472467\n"
       ]
      },
      {
       "output_type": "stream",
       "stream": "stderr",
       "text": [
        "[1281]\ttrain-rmse:2.017437\tval-rmse:2.471649\n",
        "[1282]\ttrain-rmse:2.016508\tval-rmse:2.470969\n"
       ]
      },
      {
       "output_type": "stream",
       "stream": "stderr",
       "text": [
        "[1283]\ttrain-rmse:2.015607\tval-rmse:2.470301\n",
        "[1284]\ttrain-rmse:2.015005\tval-rmse:2.469858\n"
       ]
      },
      {
       "output_type": "stream",
       "stream": "stderr",
       "text": [
        "[1285]\ttrain-rmse:2.013719\tval-rmse:2.468936\n",
        "[1286]\ttrain-rmse:2.012699\tval-rmse:2.468273\n"
       ]
      },
      {
       "output_type": "stream",
       "stream": "stderr",
       "text": [
        "[1287]\ttrain-rmse:2.011287\tval-rmse:2.467156\n",
        "[1288]\ttrain-rmse:2.010865\tval-rmse:2.466812\n"
       ]
      },
      {
       "output_type": "stream",
       "stream": "stderr",
       "text": [
        "[1289]\ttrain-rmse:2.010108\tval-rmse:2.466366\n",
        "[1290]\ttrain-rmse:2.009278\tval-rmse:2.465803\n"
       ]
      },
      {
       "output_type": "stream",
       "stream": "stderr",
       "text": [
        "[1291]\ttrain-rmse:2.008376\tval-rmse:2.465192\n",
        "[1292]\ttrain-rmse:2.007984\tval-rmse:2.464893\n"
       ]
      },
      {
       "output_type": "stream",
       "stream": "stderr",
       "text": [
        "[1293]\ttrain-rmse:2.007662\tval-rmse:2.464611\n",
        "[1294]\ttrain-rmse:2.007283\tval-rmse:2.464350\n"
       ]
      },
      {
       "output_type": "stream",
       "stream": "stderr",
       "text": [
        "[1295]\ttrain-rmse:2.006506\tval-rmse:2.463784\n",
        "[1296]\ttrain-rmse:2.005875\tval-rmse:2.463316\n"
       ]
      },
      {
       "output_type": "stream",
       "stream": "stderr",
       "text": [
        "[1297]\ttrain-rmse:2.004615\tval-rmse:2.462438\n",
        "[1298]\ttrain-rmse:2.003728\tval-rmse:2.461853\n"
       ]
      },
      {
       "output_type": "stream",
       "stream": "stderr",
       "text": [
        "[1299]\ttrain-rmse:2.002199\tval-rmse:2.460699\n",
        "[1300]\ttrain-rmse:2.000321\tval-rmse:2.459357\n"
       ]
      },
      {
       "output_type": "stream",
       "stream": "stderr",
       "text": [
        "[1301]\ttrain-rmse:1.999562\tval-rmse:2.458849\n",
        "[1302]\ttrain-rmse:1.999091\tval-rmse:2.458489\n"
       ]
      },
      {
       "output_type": "stream",
       "stream": "stderr",
       "text": [
        "[1303]\ttrain-rmse:1.997281\tval-rmse:2.457078\n",
        "[1304]\ttrain-rmse:1.996406\tval-rmse:2.456418\n"
       ]
      },
      {
       "output_type": "stream",
       "stream": "stderr",
       "text": [
        "[1305]\ttrain-rmse:1.995747\tval-rmse:2.455898\n",
        "[1306]\ttrain-rmse:1.995236\tval-rmse:2.455585\n"
       ]
      },
      {
       "output_type": "stream",
       "stream": "stderr",
       "text": [
        "[1307]\ttrain-rmse:1.993871\tval-rmse:2.454609\n",
        "[1308]\ttrain-rmse:1.993175\tval-rmse:2.454174\n"
       ]
      },
      {
       "output_type": "stream",
       "stream": "stderr",
       "text": [
        "[1309]\ttrain-rmse:1.992895\tval-rmse:2.453994\n",
        "[1310]\ttrain-rmse:1.992005\tval-rmse:2.453394\n"
       ]
      },
      {
       "output_type": "stream",
       "stream": "stderr",
       "text": [
        "[1311]\ttrain-rmse:1.991381\tval-rmse:2.452976\n",
        "[1312]\ttrain-rmse:1.990637\tval-rmse:2.452372\n"
       ]
      },
      {
       "output_type": "stream",
       "stream": "stderr",
       "text": [
        "[1313]\ttrain-rmse:1.989985\tval-rmse:2.451931\n",
        "[1314]\ttrain-rmse:1.989074\tval-rmse:2.451244\n"
       ]
      },
      {
       "output_type": "stream",
       "stream": "stderr",
       "text": [
        "[1315]\ttrain-rmse:1.988073\tval-rmse:2.450564\n",
        "[1316]\ttrain-rmse:1.987096\tval-rmse:2.449953\n"
       ]
      },
      {
       "output_type": "stream",
       "stream": "stderr",
       "text": [
        "[1317]\ttrain-rmse:1.985913\tval-rmse:2.449247\n",
        "[1318]\ttrain-rmse:1.985096\tval-rmse:2.448579\n"
       ]
      },
      {
       "output_type": "stream",
       "stream": "stderr",
       "text": [
        "[1319]\ttrain-rmse:1.983572\tval-rmse:2.447519\n",
        "[1320]\ttrain-rmse:1.982777\tval-rmse:2.447061\n"
       ]
      },
      {
       "output_type": "stream",
       "stream": "stderr",
       "text": [
        "[1321]\ttrain-rmse:1.982515\tval-rmse:2.446825\n",
        "[1322]\ttrain-rmse:1.980988\tval-rmse:2.445662\n"
       ]
      },
      {
       "output_type": "stream",
       "stream": "stderr",
       "text": [
        "[1323]\ttrain-rmse:1.980038\tval-rmse:2.444956\n",
        "[1324]\ttrain-rmse:1.978768\tval-rmse:2.443934\n"
       ]
      },
      {
       "output_type": "stream",
       "stream": "stderr",
       "text": [
        "[1325]\ttrain-rmse:1.977522\tval-rmse:2.443065\n",
        "[1326]\ttrain-rmse:1.976383\tval-rmse:2.442219\n"
       ]
      },
      {
       "output_type": "stream",
       "stream": "stderr",
       "text": [
        "[1327]\ttrain-rmse:1.975219\tval-rmse:2.441371\n",
        "[1328]\ttrain-rmse:1.974414\tval-rmse:2.440830\n"
       ]
      },
      {
       "output_type": "stream",
       "stream": "stderr",
       "text": [
        "[1329]\ttrain-rmse:1.973852\tval-rmse:2.440413\n",
        "[1330]\ttrain-rmse:1.972798\tval-rmse:2.439651\n"
       ]
      },
      {
       "output_type": "stream",
       "stream": "stderr",
       "text": [
        "[1331]\ttrain-rmse:1.970878\tval-rmse:2.438301\n",
        "[1332]\ttrain-rmse:1.970151\tval-rmse:2.437832\n"
       ]
      },
      {
       "output_type": "stream",
       "stream": "stderr",
       "text": [
        "[1333]\ttrain-rmse:1.969677\tval-rmse:2.437511\n",
        "[1334]\ttrain-rmse:1.969365\tval-rmse:2.437310\n"
       ]
      },
      {
       "output_type": "stream",
       "stream": "stderr",
       "text": [
        "[1335]\ttrain-rmse:1.968385\tval-rmse:2.436524\n",
        "[1336]\ttrain-rmse:1.968024\tval-rmse:2.436268\n"
       ]
      },
      {
       "output_type": "stream",
       "stream": "stderr",
       "text": [
        "[1337]\ttrain-rmse:1.967543\tval-rmse:2.435891\n",
        "[1338]\ttrain-rmse:1.967077\tval-rmse:2.435553\n"
       ]
      },
      {
       "output_type": "stream",
       "stream": "stderr",
       "text": [
        "[1339]\ttrain-rmse:1.966077\tval-rmse:2.434903\n",
        "[1340]\ttrain-rmse:1.965320\tval-rmse:2.434317\n"
       ]
      },
      {
       "output_type": "stream",
       "stream": "stderr",
       "text": [
        "[1341]\ttrain-rmse:1.964198\tval-rmse:2.433569\n",
        "[1342]\ttrain-rmse:1.962645\tval-rmse:2.432494\n"
       ]
      },
      {
       "output_type": "stream",
       "stream": "stderr",
       "text": [
        "[1343]\ttrain-rmse:1.961299\tval-rmse:2.431483\n",
        "[1344]\ttrain-rmse:1.960190\tval-rmse:2.430665\n"
       ]
      },
      {
       "output_type": "stream",
       "stream": "stderr",
       "text": [
        "[1345]\ttrain-rmse:1.959486\tval-rmse:2.430146\n",
        "[1346]\ttrain-rmse:1.958963\tval-rmse:2.429791\n"
       ]
      },
      {
       "output_type": "stream",
       "stream": "stderr",
       "text": [
        "[1347]\ttrain-rmse:1.958074\tval-rmse:2.429246\n",
        "[1348]\ttrain-rmse:1.957183\tval-rmse:2.428725\n"
       ]
      },
      {
       "output_type": "stream",
       "stream": "stderr",
       "text": [
        "[1349]\ttrain-rmse:1.956482\tval-rmse:2.428221\n",
        "[1350]\ttrain-rmse:1.955547\tval-rmse:2.427543\n"
       ]
      },
      {
       "output_type": "stream",
       "stream": "stderr",
       "text": [
        "[1351]\ttrain-rmse:1.954990\tval-rmse:2.427132\n",
        "[1352]\ttrain-rmse:1.954224\tval-rmse:2.426574\n"
       ]
      },
      {
       "output_type": "stream",
       "stream": "stderr",
       "text": [
        "[1353]\ttrain-rmse:1.953019\tval-rmse:2.425759\n",
        "[1354]\ttrain-rmse:1.952673\tval-rmse:2.425508\n"
       ]
      },
      {
       "output_type": "stream",
       "stream": "stderr",
       "text": [
        "[1355]\ttrain-rmse:1.951708\tval-rmse:2.424877\n",
        "[1356]\ttrain-rmse:1.950823\tval-rmse:2.424310\n"
       ]
      },
      {
       "output_type": "stream",
       "stream": "stderr",
       "text": [
        "[1357]\ttrain-rmse:1.949313\tval-rmse:2.423253\n",
        "[1358]\ttrain-rmse:1.948301\tval-rmse:2.422490\n"
       ]
      },
      {
       "output_type": "stream",
       "stream": "stderr",
       "text": [
        "[1359]\ttrain-rmse:1.947630\tval-rmse:2.422023\n",
        "[1360]\ttrain-rmse:1.946818\tval-rmse:2.421417\n"
       ]
      },
      {
       "output_type": "stream",
       "stream": "stderr",
       "text": [
        "[1361]\ttrain-rmse:1.946386\tval-rmse:2.421117\n",
        "[1362]\ttrain-rmse:1.945660\tval-rmse:2.420646\n"
       ]
      },
      {
       "output_type": "stream",
       "stream": "stderr",
       "text": [
        "[1363]\ttrain-rmse:1.944841\tval-rmse:2.420114\n",
        "[1364]\ttrain-rmse:1.944054\tval-rmse:2.419431\n"
       ]
      },
      {
       "output_type": "stream",
       "stream": "stderr",
       "text": [
        "[1365]\ttrain-rmse:1.943547\tval-rmse:2.419104\n",
        "[1366]\ttrain-rmse:1.942834\tval-rmse:2.418619\n"
       ]
      },
      {
       "output_type": "stream",
       "stream": "stderr",
       "text": [
        "[1367]\ttrain-rmse:1.942385\tval-rmse:2.418232\n",
        "[1368]\ttrain-rmse:1.942077\tval-rmse:2.418006\n"
       ]
      },
      {
       "output_type": "stream",
       "stream": "stderr",
       "text": [
        "[1369]\ttrain-rmse:1.940971\tval-rmse:2.417211\n",
        "[1370]\ttrain-rmse:1.939555\tval-rmse:2.416319\n"
       ]
      },
      {
       "output_type": "stream",
       "stream": "stderr",
       "text": [
        "[1371]\ttrain-rmse:1.938472\tval-rmse:2.415636\n",
        "[1372]\ttrain-rmse:1.937925\tval-rmse:2.415275\n"
       ]
      },
      {
       "output_type": "stream",
       "stream": "stderr",
       "text": [
        "[1373]\ttrain-rmse:1.937339\tval-rmse:2.414919\n",
        "[1374]\ttrain-rmse:1.936809\tval-rmse:2.414560\n"
       ]
      },
      {
       "output_type": "stream",
       "stream": "stderr",
       "text": [
        "[1375]\ttrain-rmse:1.935474\tval-rmse:2.413661\n",
        "[1376]\ttrain-rmse:1.934460\tval-rmse:2.413004\n"
       ]
      },
      {
       "output_type": "stream",
       "stream": "stderr",
       "text": [
        "[1377]\ttrain-rmse:1.933548\tval-rmse:2.412387\n",
        "[1378]\ttrain-rmse:1.932133\tval-rmse:2.411359\n"
       ]
      },
      {
       "output_type": "stream",
       "stream": "stderr",
       "text": [
        "[1379]\ttrain-rmse:1.931838\tval-rmse:2.411155\n",
        "[1380]\ttrain-rmse:1.930576\tval-rmse:2.410277\n"
       ]
      },
      {
       "output_type": "stream",
       "stream": "stderr",
       "text": [
        "[1381]\ttrain-rmse:1.929562\tval-rmse:2.409543\n",
        "[1382]\ttrain-rmse:1.929076\tval-rmse:2.409180\n"
       ]
      },
      {
       "output_type": "stream",
       "stream": "stderr",
       "text": [
        "[1383]\ttrain-rmse:1.928314\tval-rmse:2.408685\n",
        "[1384]\ttrain-rmse:1.927848\tval-rmse:2.408338\n"
       ]
      },
      {
       "output_type": "stream",
       "stream": "stderr",
       "text": [
        "[1385]\ttrain-rmse:1.927461\tval-rmse:2.408071\n",
        "[1386]\ttrain-rmse:1.926890\tval-rmse:2.407741\n"
       ]
      },
      {
       "output_type": "stream",
       "stream": "stderr",
       "text": [
        "[1387]\ttrain-rmse:1.926353\tval-rmse:2.407346\n",
        "[1388]\ttrain-rmse:1.925727\tval-rmse:2.406908\n"
       ]
      },
      {
       "output_type": "stream",
       "stream": "stderr",
       "text": [
        "[1389]\ttrain-rmse:1.925126\tval-rmse:2.406420\n",
        "[1390]\ttrain-rmse:1.924165\tval-rmse:2.405786\n"
       ]
      },
      {
       "output_type": "stream",
       "stream": "stderr",
       "text": [
        "[1391]\ttrain-rmse:1.923225\tval-rmse:2.405064\n",
        "[1392]\ttrain-rmse:1.922828\tval-rmse:2.404723\n"
       ]
      },
      {
       "output_type": "stream",
       "stream": "stderr",
       "text": [
        "[1393]\ttrain-rmse:1.922026\tval-rmse:2.404172\n",
        "[1394]\ttrain-rmse:1.921263\tval-rmse:2.403607\n"
       ]
      },
      {
       "output_type": "stream",
       "stream": "stderr",
       "text": [
        "[1395]\ttrain-rmse:1.920568\tval-rmse:2.403076\n",
        "[1396]\ttrain-rmse:1.919504\tval-rmse:2.402206\n"
       ]
      },
      {
       "output_type": "stream",
       "stream": "stderr",
       "text": [
        "[1397]\ttrain-rmse:1.918499\tval-rmse:2.401574\n",
        "[1398]\ttrain-rmse:1.918321\tval-rmse:2.401451\n"
       ]
      },
      {
       "output_type": "stream",
       "stream": "stderr",
       "text": [
        "[1399]\ttrain-rmse:1.916700\tval-rmse:2.400396\n",
        "[1400]\ttrain-rmse:1.915871\tval-rmse:2.399801\n"
       ]
      },
      {
       "output_type": "stream",
       "stream": "stderr",
       "text": [
        "[1401]\ttrain-rmse:1.915290\tval-rmse:2.399487\n",
        "[1402]\ttrain-rmse:1.914725\tval-rmse:2.399019\n"
       ]
      },
      {
       "output_type": "stream",
       "stream": "stderr",
       "text": [
        "[1403]\ttrain-rmse:1.913443\tval-rmse:2.398050\n",
        "[1404]\ttrain-rmse:1.912181\tval-rmse:2.397212\n"
       ]
      },
      {
       "output_type": "stream",
       "stream": "stderr",
       "text": [
        "[1405]\ttrain-rmse:1.911835\tval-rmse:2.396993\n",
        "[1406]\ttrain-rmse:1.910767\tval-rmse:2.396252\n"
       ]
      },
      {
       "output_type": "stream",
       "stream": "stderr",
       "text": [
        "[1407]\ttrain-rmse:1.910068\tval-rmse:2.395833\n",
        "[1408]\ttrain-rmse:1.908250\tval-rmse:2.394619\n"
       ]
      },
      {
       "output_type": "stream",
       "stream": "stderr",
       "text": [
        "[1409]\ttrain-rmse:1.906914\tval-rmse:2.393706\n",
        "[1410]\ttrain-rmse:1.906145\tval-rmse:2.393242\n"
       ]
      },
      {
       "output_type": "stream",
       "stream": "stderr",
       "text": [
        "[1411]\ttrain-rmse:1.905071\tval-rmse:2.392540\n",
        "[1412]\ttrain-rmse:1.902848\tval-rmse:2.390995\n"
       ]
      },
      {
       "output_type": "stream",
       "stream": "stderr",
       "text": [
        "[1413]\ttrain-rmse:1.902015\tval-rmse:2.390486\n",
        "[1414]\ttrain-rmse:1.901205\tval-rmse:2.389907\n"
       ]
      },
      {
       "output_type": "stream",
       "stream": "stderr",
       "text": [
        "[1415]\ttrain-rmse:1.900491\tval-rmse:2.389348\n",
        "[1416]\ttrain-rmse:1.899265\tval-rmse:2.388485\n"
       ]
      },
      {
       "output_type": "stream",
       "stream": "stderr",
       "text": [
        "[1417]\ttrain-rmse:1.897980\tval-rmse:2.387479\n",
        "[1418]\ttrain-rmse:1.896488\tval-rmse:2.386512\n"
       ]
      },
      {
       "output_type": "stream",
       "stream": "stderr",
       "text": [
        "[1419]\ttrain-rmse:1.896027\tval-rmse:2.386201\n",
        "[1420]\ttrain-rmse:1.895384\tval-rmse:2.385772\n"
       ]
      },
      {
       "output_type": "stream",
       "stream": "stderr",
       "text": [
        "[1421]\ttrain-rmse:1.894732\tval-rmse:2.385277\n",
        "[1422]\ttrain-rmse:1.893185\tval-rmse:2.384253\n"
       ]
      },
      {
       "output_type": "stream",
       "stream": "stderr",
       "text": [
        "[1423]\ttrain-rmse:1.892405\tval-rmse:2.383732\n",
        "[1424]\ttrain-rmse:1.891982\tval-rmse:2.383389\n"
       ]
      },
      {
       "output_type": "stream",
       "stream": "stderr",
       "text": [
        "[1425]\ttrain-rmse:1.891582\tval-rmse:2.383105\n",
        "[1426]\ttrain-rmse:1.891223\tval-rmse:2.382843\n"
       ]
      },
      {
       "output_type": "stream",
       "stream": "stderr",
       "text": [
        "[1427]\ttrain-rmse:1.889872\tval-rmse:2.381813\n",
        "[1428]\ttrain-rmse:1.888860\tval-rmse:2.381055\n"
       ]
      },
      {
       "output_type": "stream",
       "stream": "stderr",
       "text": [
        "[1429]\ttrain-rmse:1.888205\tval-rmse:2.380689\n",
        "[1430]\ttrain-rmse:1.887394\tval-rmse:2.380239\n"
       ]
      },
      {
       "output_type": "stream",
       "stream": "stderr",
       "text": [
        "[1431]\ttrain-rmse:1.886601\tval-rmse:2.379746\n",
        "[1432]\ttrain-rmse:1.885477\tval-rmse:2.379069\n"
       ]
      },
      {
       "output_type": "stream",
       "stream": "stderr",
       "text": [
        "[1433]\ttrain-rmse:1.884546\tval-rmse:2.378413\n",
        "[1434]\ttrain-rmse:1.883724\tval-rmse:2.377862\n"
       ]
      },
      {
       "output_type": "stream",
       "stream": "stderr",
       "text": [
        "[1435]\ttrain-rmse:1.882776\tval-rmse:2.377194\n",
        "[1436]\ttrain-rmse:1.881570\tval-rmse:2.376303\n"
       ]
      },
      {
       "output_type": "stream",
       "stream": "stderr",
       "text": [
        "[1437]\ttrain-rmse:1.881119\tval-rmse:2.376031\n",
        "[1438]\ttrain-rmse:1.880517\tval-rmse:2.375652\n"
       ]
      },
      {
       "output_type": "stream",
       "stream": "stderr",
       "text": [
        "[1439]\ttrain-rmse:1.879527\tval-rmse:2.374922\n",
        "[1440]\ttrain-rmse:1.878290\tval-rmse:2.373976\n"
       ]
      },
      {
       "output_type": "stream",
       "stream": "stderr",
       "text": [
        "[1441]\ttrain-rmse:1.877540\tval-rmse:2.373481\n",
        "[1442]\ttrain-rmse:1.876780\tval-rmse:2.372964\n"
       ]
      },
      {
       "output_type": "stream",
       "stream": "stderr",
       "text": [
        "[1443]\ttrain-rmse:1.876028\tval-rmse:2.372496\n",
        "[1444]\ttrain-rmse:1.874779\tval-rmse:2.371680\n"
       ]
      },
      {
       "output_type": "stream",
       "stream": "stderr",
       "text": [
        "[1445]\ttrain-rmse:1.874422\tval-rmse:2.371449\n",
        "[1446]\ttrain-rmse:1.873131\tval-rmse:2.370506\n"
       ]
      },
      {
       "output_type": "stream",
       "stream": "stderr",
       "text": [
        "[1447]\ttrain-rmse:1.872459\tval-rmse:2.370107\n",
        "[1448]\ttrain-rmse:1.871780\tval-rmse:2.369617\n"
       ]
      },
      {
       "output_type": "stream",
       "stream": "stderr",
       "text": [
        "[1449]\ttrain-rmse:1.870939\tval-rmse:2.369073\n",
        "[1450]\ttrain-rmse:1.869854\tval-rmse:2.368385\n"
       ]
      },
      {
       "output_type": "stream",
       "stream": "stderr",
       "text": [
        "[1451]\ttrain-rmse:1.869291\tval-rmse:2.367947\n",
        "[1452]\ttrain-rmse:1.868728\tval-rmse:2.367587\n"
       ]
      },
      {
       "output_type": "stream",
       "stream": "stderr",
       "text": [
        "[1453]\ttrain-rmse:1.867256\tval-rmse:2.366405\n",
        "[1454]\ttrain-rmse:1.866793\tval-rmse:2.366130\n"
       ]
      },
      {
       "output_type": "stream",
       "stream": "stderr",
       "text": [
        "[1455]\ttrain-rmse:1.866261\tval-rmse:2.365774\n",
        "[1456]\ttrain-rmse:1.865526\tval-rmse:2.365263\n"
       ]
      },
      {
       "output_type": "stream",
       "stream": "stderr",
       "text": [
        "[1457]\ttrain-rmse:1.864807\tval-rmse:2.364680\n",
        "[1458]\ttrain-rmse:1.864149\tval-rmse:2.364211\n"
       ]
      },
      {
       "output_type": "stream",
       "stream": "stderr",
       "text": [
        "[1459]\ttrain-rmse:1.862960\tval-rmse:2.363357\n",
        "[1460]\ttrain-rmse:1.861365\tval-rmse:2.362124\n"
       ]
      },
      {
       "output_type": "stream",
       "stream": "stderr",
       "text": [
        "[1461]\ttrain-rmse:1.860770\tval-rmse:2.361682\n",
        "[1462]\ttrain-rmse:1.859650\tval-rmse:2.360837\n"
       ]
      },
      {
       "output_type": "stream",
       "stream": "stderr",
       "text": [
        "[1463]\ttrain-rmse:1.858687\tval-rmse:2.360178\n",
        "[1464]\ttrain-rmse:1.857572\tval-rmse:2.359409\n"
       ]
      },
      {
       "output_type": "stream",
       "stream": "stderr",
       "text": [
        "[1465]\ttrain-rmse:1.856655\tval-rmse:2.358746\n",
        "[1466]\ttrain-rmse:1.856151\tval-rmse:2.358381\n"
       ]
      },
      {
       "output_type": "stream",
       "stream": "stderr",
       "text": [
        "[1467]\ttrain-rmse:1.855460\tval-rmse:2.357921\n",
        "[1468]\ttrain-rmse:1.854673\tval-rmse:2.357314\n"
       ]
      },
      {
       "output_type": "stream",
       "stream": "stderr",
       "text": [
        "[1469]\ttrain-rmse:1.854215\tval-rmse:2.357033\n",
        "[1470]\ttrain-rmse:1.853637\tval-rmse:2.356624\n"
       ]
      },
      {
       "output_type": "stream",
       "stream": "stderr",
       "text": [
        "[1471]\ttrain-rmse:1.852881\tval-rmse:2.356138\n",
        "[1472]\ttrain-rmse:1.852498\tval-rmse:2.355839\n"
       ]
      },
      {
       "output_type": "stream",
       "stream": "stderr",
       "text": [
        "[1473]\ttrain-rmse:1.852041\tval-rmse:2.355493\n",
        "[1474]\ttrain-rmse:1.851351\tval-rmse:2.355057\n"
       ]
      },
      {
       "output_type": "stream",
       "stream": "stderr",
       "text": [
        "[1475]\ttrain-rmse:1.850860\tval-rmse:2.354694\n",
        "[1476]\ttrain-rmse:1.850550\tval-rmse:2.354421\n"
       ]
      },
      {
       "output_type": "stream",
       "stream": "stderr",
       "text": [
        "[1477]\ttrain-rmse:1.849871\tval-rmse:2.353842\n",
        "[1478]\ttrain-rmse:1.849443\tval-rmse:2.353568\n"
       ]
      },
      {
       "output_type": "stream",
       "stream": "stderr",
       "text": [
        "[1479]\ttrain-rmse:1.848018\tval-rmse:2.352550\n",
        "[1480]\ttrain-rmse:1.846740\tval-rmse:2.351718\n"
       ]
      },
      {
       "output_type": "stream",
       "stream": "stderr",
       "text": [
        "[1481]\ttrain-rmse:1.845864\tval-rmse:2.351113\n",
        "[1482]\ttrain-rmse:1.845012\tval-rmse:2.350620\n"
       ]
      },
      {
       "output_type": "stream",
       "stream": "stderr",
       "text": [
        "[1483]\ttrain-rmse:1.844252\tval-rmse:2.350104\n",
        "[1484]\ttrain-rmse:1.843842\tval-rmse:2.349831\n"
       ]
      },
      {
       "output_type": "stream",
       "stream": "stderr",
       "text": [
        "[1485]\ttrain-rmse:1.843227\tval-rmse:2.349476\n",
        "[1486]\ttrain-rmse:1.841646\tval-rmse:2.348435\n"
       ]
      },
      {
       "output_type": "stream",
       "stream": "stderr",
       "text": [
        "[1487]\ttrain-rmse:1.840855\tval-rmse:2.347984\n",
        "[1488]\ttrain-rmse:1.840043\tval-rmse:2.347411\n"
       ]
      },
      {
       "output_type": "stream",
       "stream": "stderr",
       "text": [
        "[1489]\ttrain-rmse:1.839632\tval-rmse:2.347106\n",
        "[1490]\ttrain-rmse:1.838438\tval-rmse:2.346234\n"
       ]
      },
      {
       "output_type": "stream",
       "stream": "stderr",
       "text": [
        "[1491]\ttrain-rmse:1.837474\tval-rmse:2.345540\n",
        "[1492]\ttrain-rmse:1.837172\tval-rmse:2.345356\n"
       ]
      },
      {
       "output_type": "stream",
       "stream": "stderr",
       "text": [
        "[1493]\ttrain-rmse:1.836102\tval-rmse:2.344561\n",
        "[1494]\ttrain-rmse:1.835534\tval-rmse:2.344182\n"
       ]
      },
      {
       "output_type": "stream",
       "stream": "stderr",
       "text": [
        "[1495]\ttrain-rmse:1.835365\tval-rmse:2.344000\n",
        "[1496]\ttrain-rmse:1.834889\tval-rmse:2.343690\n"
       ]
      },
      {
       "output_type": "stream",
       "stream": "stderr",
       "text": [
        "[1497]\ttrain-rmse:1.833548\tval-rmse:2.342644\n",
        "[1498]\ttrain-rmse:1.833248\tval-rmse:2.342427\n"
       ]
      },
      {
       "output_type": "stream",
       "stream": "stderr",
       "text": [
        "[1499]\ttrain-rmse:1.832830\tval-rmse:2.342115\n",
        "[1500]\ttrain-rmse:1.832289\tval-rmse:2.341779\n"
       ]
      },
      {
       "output_type": "stream",
       "stream": "stderr",
       "text": [
        "[1501]\ttrain-rmse:1.831265\tval-rmse:2.341072\n",
        "[1502]\ttrain-rmse:1.830395\tval-rmse:2.340463\n"
       ]
      },
      {
       "output_type": "stream",
       "stream": "stderr",
       "text": [
        "[1503]\ttrain-rmse:1.829500\tval-rmse:2.339874\n",
        "[1504]\ttrain-rmse:1.828474\tval-rmse:2.339223\n"
       ]
      },
      {
       "output_type": "stream",
       "stream": "stderr",
       "text": [
        "[1505]\ttrain-rmse:1.827567\tval-rmse:2.338594\n",
        "[1506]\ttrain-rmse:1.826780\tval-rmse:2.338036\n"
       ]
      },
      {
       "output_type": "stream",
       "stream": "stderr",
       "text": [
        "[1507]\ttrain-rmse:1.826459\tval-rmse:2.337789\n",
        "[1508]\ttrain-rmse:1.825358\tval-rmse:2.337003\n"
       ]
      },
      {
       "output_type": "stream",
       "stream": "stderr",
       "text": [
        "[1509]\ttrain-rmse:1.824828\tval-rmse:2.336608\n",
        "[1510]\ttrain-rmse:1.824406\tval-rmse:2.336309\n"
       ]
      },
      {
       "output_type": "stream",
       "stream": "stderr",
       "text": [
        "[1511]\ttrain-rmse:1.824052\tval-rmse:2.336100\n",
        "[1512]\ttrain-rmse:1.822752\tval-rmse:2.335146\n"
       ]
      },
      {
       "output_type": "stream",
       "stream": "stderr",
       "text": [
        "[1513]\ttrain-rmse:1.822395\tval-rmse:2.334920\n",
        "[1514]\ttrain-rmse:1.821723\tval-rmse:2.334447\n"
       ]
      },
      {
       "output_type": "stream",
       "stream": "stderr",
       "text": [
        "[1515]\ttrain-rmse:1.821084\tval-rmse:2.334005\n",
        "[1516]\ttrain-rmse:1.820556\tval-rmse:2.333683\n"
       ]
      },
      {
       "output_type": "stream",
       "stream": "stderr",
       "text": [
        "[1517]\ttrain-rmse:1.819832\tval-rmse:2.333160\n",
        "[1518]\ttrain-rmse:1.819549\tval-rmse:2.332954\n"
       ]
      },
      {
       "output_type": "stream",
       "stream": "stderr",
       "text": [
        "[1519]\ttrain-rmse:1.818947\tval-rmse:2.332462\n",
        "[1520]\ttrain-rmse:1.817977\tval-rmse:2.331788\n"
       ]
      },
      {
       "output_type": "stream",
       "stream": "stderr",
       "text": [
        "[1521]\ttrain-rmse:1.817555\tval-rmse:2.331520\n",
        "[1522]\ttrain-rmse:1.817063\tval-rmse:2.331162\n"
       ]
      },
      {
       "output_type": "stream",
       "stream": "stderr",
       "text": [
        "[1523]\ttrain-rmse:1.816437\tval-rmse:2.330712\n",
        "[1524]\ttrain-rmse:1.816054\tval-rmse:2.330377\n"
       ]
      },
      {
       "output_type": "stream",
       "stream": "stderr",
       "text": [
        "[1525]\ttrain-rmse:1.815269\tval-rmse:2.329771\n",
        "[1526]\ttrain-rmse:1.815032\tval-rmse:2.329617\n"
       ]
      },
      {
       "output_type": "stream",
       "stream": "stderr",
       "text": [
        "[1527]\ttrain-rmse:1.814581\tval-rmse:2.329327\n",
        "[1528]\ttrain-rmse:1.813715\tval-rmse:2.328691\n"
       ]
      },
      {
       "output_type": "stream",
       "stream": "stderr",
       "text": [
        "[1529]\ttrain-rmse:1.813152\tval-rmse:2.328292\n",
        "[1530]\ttrain-rmse:1.812209\tval-rmse:2.327726\n"
       ]
      },
      {
       "output_type": "stream",
       "stream": "stderr",
       "text": [
        "[1531]\ttrain-rmse:1.811717\tval-rmse:2.327405\n",
        "[1532]\ttrain-rmse:1.811477\tval-rmse:2.327191\n"
       ]
      },
      {
       "output_type": "stream",
       "stream": "stderr",
       "text": [
        "[1533]\ttrain-rmse:1.811036\tval-rmse:2.326912\n",
        "[1534]\ttrain-rmse:1.810191\tval-rmse:2.326330\n"
       ]
      },
      {
       "output_type": "stream",
       "stream": "stderr",
       "text": [
        "[1535]\ttrain-rmse:1.809513\tval-rmse:2.325925\n",
        "[1536]\ttrain-rmse:1.808847\tval-rmse:2.325431\n"
       ]
      },
      {
       "output_type": "stream",
       "stream": "stderr",
       "text": [
        "[1537]\ttrain-rmse:1.807785\tval-rmse:2.324692\n",
        "[1538]\ttrain-rmse:1.806730\tval-rmse:2.323931\n"
       ]
      },
      {
       "output_type": "stream",
       "stream": "stderr",
       "text": [
        "[1539]\ttrain-rmse:1.805458\tval-rmse:2.322989\n",
        "[1540]\ttrain-rmse:1.804021\tval-rmse:2.322004\n"
       ]
      },
      {
       "output_type": "stream",
       "stream": "stderr",
       "text": [
        "[1541]\ttrain-rmse:1.803067\tval-rmse:2.321322\n",
        "[1542]\ttrain-rmse:1.801838\tval-rmse:2.320424\n"
       ]
      },
      {
       "output_type": "stream",
       "stream": "stderr",
       "text": [
        "[1543]\ttrain-rmse:1.801422\tval-rmse:2.320191\n",
        "[1544]\ttrain-rmse:1.800826\tval-rmse:2.319870\n"
       ]
      },
      {
       "output_type": "stream",
       "stream": "stderr",
       "text": [
        "[1545]\ttrain-rmse:1.800259\tval-rmse:2.319372\n",
        "[1546]\ttrain-rmse:1.799481\tval-rmse:2.318923\n"
       ]
      },
      {
       "output_type": "stream",
       "stream": "stderr",
       "text": [
        "[1547]\ttrain-rmse:1.798860\tval-rmse:2.318460\n",
        "[1548]\ttrain-rmse:1.797823\tval-rmse:2.317735\n"
       ]
      },
      {
       "output_type": "stream",
       "stream": "stderr",
       "text": [
        "[1549]\ttrain-rmse:1.797295\tval-rmse:2.317405\n",
        "[1550]\ttrain-rmse:1.796764\tval-rmse:2.317081\n"
       ]
      },
      {
       "output_type": "stream",
       "stream": "stderr",
       "text": [
        "[1551]\ttrain-rmse:1.795791\tval-rmse:2.316469\n",
        "[1552]\ttrain-rmse:1.794018\tval-rmse:2.315278\n"
       ]
      },
      {
       "output_type": "stream",
       "stream": "stderr",
       "text": [
        "[1553]\ttrain-rmse:1.793412\tval-rmse:2.314865\n",
        "[1554]\ttrain-rmse:1.792589\tval-rmse:2.314289\n"
       ]
      },
      {
       "output_type": "stream",
       "stream": "stderr",
       "text": [
        "[1555]\ttrain-rmse:1.792109\tval-rmse:2.313984\n",
        "[1556]\ttrain-rmse:1.791686\tval-rmse:2.313655\n"
       ]
      },
      {
       "output_type": "stream",
       "stream": "stderr",
       "text": [
        "[1557]\ttrain-rmse:1.791428\tval-rmse:2.313499\n",
        "[1558]\ttrain-rmse:1.791086\tval-rmse:2.313294\n"
       ]
      },
      {
       "output_type": "stream",
       "stream": "stderr",
       "text": [
        "[1559]\ttrain-rmse:1.790261\tval-rmse:2.312659\n",
        "[1560]\ttrain-rmse:1.789570\tval-rmse:2.312194\n"
       ]
      },
      {
       "output_type": "stream",
       "stream": "stderr",
       "text": [
        "[1561]\ttrain-rmse:1.788461\tval-rmse:2.311450\n",
        "[1562]\ttrain-rmse:1.787718\tval-rmse:2.310942\n"
       ]
      },
      {
       "output_type": "stream",
       "stream": "stderr",
       "text": [
        "[1563]\ttrain-rmse:1.787065\tval-rmse:2.310472\n",
        "[1564]\ttrain-rmse:1.786496\tval-rmse:2.310152\n"
       ]
      },
      {
       "output_type": "stream",
       "stream": "stderr",
       "text": [
        "[1565]\ttrain-rmse:1.786017\tval-rmse:2.309796\n",
        "[1566]\ttrain-rmse:1.785699\tval-rmse:2.309543\n"
       ]
      },
      {
       "output_type": "stream",
       "stream": "stderr",
       "text": [
        "[1567]\ttrain-rmse:1.784281\tval-rmse:2.308621\n",
        "[1568]\ttrain-rmse:1.783691\tval-rmse:2.308289\n"
       ]
      },
      {
       "output_type": "stream",
       "stream": "stderr",
       "text": [
        "[1569]\ttrain-rmse:1.782508\tval-rmse:2.307495\n",
        "[1570]\ttrain-rmse:1.780628\tval-rmse:2.306225\n"
       ]
      },
      {
       "output_type": "stream",
       "stream": "stderr",
       "text": [
        "[1571]\ttrain-rmse:1.779702\tval-rmse:2.305617\n",
        "[1572]\ttrain-rmse:1.778737\tval-rmse:2.304954\n"
       ]
      },
      {
       "output_type": "stream",
       "stream": "stderr",
       "text": [
        "[1573]\ttrain-rmse:1.777580\tval-rmse:2.304179\n",
        "[1574]\ttrain-rmse:1.777186\tval-rmse:2.303875\n"
       ]
      },
      {
       "output_type": "stream",
       "stream": "stderr",
       "text": [
        "[1575]\ttrain-rmse:1.776090\tval-rmse:2.303056\n",
        "[1576]\ttrain-rmse:1.774752\tval-rmse:2.302144\n"
       ]
      },
      {
       "output_type": "stream",
       "stream": "stderr",
       "text": [
        "[1577]\ttrain-rmse:1.773942\tval-rmse:2.301640\n",
        "[1578]\ttrain-rmse:1.773552\tval-rmse:2.301380\n"
       ]
      },
      {
       "output_type": "stream",
       "stream": "stderr",
       "text": [
        "[1579]\ttrain-rmse:1.773096\tval-rmse:2.301071\n",
        "[1580]\ttrain-rmse:1.771833\tval-rmse:2.300197\n"
       ]
      },
      {
       "output_type": "stream",
       "stream": "stderr",
       "text": [
        "[1581]\ttrain-rmse:1.770777\tval-rmse:2.299477\n",
        "[1582]\ttrain-rmse:1.770145\tval-rmse:2.299055\n"
       ]
      },
      {
       "output_type": "stream",
       "stream": "stderr",
       "text": [
        "[1583]\ttrain-rmse:1.769394\tval-rmse:2.298622\n",
        "[1584]\ttrain-rmse:1.768710\tval-rmse:2.298166\n"
       ]
      },
      {
       "output_type": "stream",
       "stream": "stderr",
       "text": [
        "[1585]\ttrain-rmse:1.768476\tval-rmse:2.298011\n",
        "[1586]\ttrain-rmse:1.768183\tval-rmse:2.297828\n"
       ]
      },
      {
       "output_type": "stream",
       "stream": "stderr",
       "text": [
        "[1587]\ttrain-rmse:1.767170\tval-rmse:2.297081\n",
        "[1588]\ttrain-rmse:1.766942\tval-rmse:2.296890\n"
       ]
      },
      {
       "output_type": "stream",
       "stream": "stderr",
       "text": [
        "[1589]\ttrain-rmse:1.765634\tval-rmse:2.295911\n",
        "[1590]\ttrain-rmse:1.764990\tval-rmse:2.295503\n"
       ]
      },
      {
       "output_type": "stream",
       "stream": "stderr",
       "text": [
        "[1591]\ttrain-rmse:1.764316\tval-rmse:2.295070\n",
        "[1592]\ttrain-rmse:1.763386\tval-rmse:2.294383\n"
       ]
      },
      {
       "output_type": "stream",
       "stream": "stderr",
       "text": [
        "[1593]\ttrain-rmse:1.762792\tval-rmse:2.294016\n",
        "[1594]\ttrain-rmse:1.762437\tval-rmse:2.293721\n"
       ]
      },
      {
       "output_type": "stream",
       "stream": "stderr",
       "text": [
        "[1595]\ttrain-rmse:1.761914\tval-rmse:2.293368\n",
        "[1596]\ttrain-rmse:1.761153\tval-rmse:2.292871\n"
       ]
      },
      {
       "output_type": "stream",
       "stream": "stderr",
       "text": [
        "[1597]\ttrain-rmse:1.760817\tval-rmse:2.292610\n",
        "[1598]\ttrain-rmse:1.759574\tval-rmse:2.291678\n"
       ]
      },
      {
       "output_type": "stream",
       "stream": "stderr",
       "text": [
        "[1599]\ttrain-rmse:1.759067\tval-rmse:2.291381\n",
        "[1600]\ttrain-rmse:1.758743\tval-rmse:2.291156\n"
       ]
      },
      {
       "output_type": "stream",
       "stream": "stderr",
       "text": [
        "[1601]\ttrain-rmse:1.757915\tval-rmse:2.290574\n",
        "[1602]\ttrain-rmse:1.757539\tval-rmse:2.290304\n"
       ]
      },
      {
       "output_type": "stream",
       "stream": "stderr",
       "text": [
        "[1603]\ttrain-rmse:1.756369\tval-rmse:2.289485\n",
        "[1604]\ttrain-rmse:1.755702\tval-rmse:2.289089\n"
       ]
      },
      {
       "output_type": "stream",
       "stream": "stderr",
       "text": [
        "[1605]\ttrain-rmse:1.754527\tval-rmse:2.288290\n",
        "[1606]\ttrain-rmse:1.753236\tval-rmse:2.287288\n"
       ]
      },
      {
       "output_type": "stream",
       "stream": "stderr",
       "text": [
        "[1607]\ttrain-rmse:1.752513\tval-rmse:2.286771\n",
        "[1608]\ttrain-rmse:1.751807\tval-rmse:2.286248\n"
       ]
      },
      {
       "output_type": "stream",
       "stream": "stderr",
       "text": [
        "[1609]\ttrain-rmse:1.751025\tval-rmse:2.285709\n",
        "[1610]\ttrain-rmse:1.750795\tval-rmse:2.285564\n"
       ]
      },
      {
       "output_type": "stream",
       "stream": "stderr",
       "text": [
        "[1611]\ttrain-rmse:1.749823\tval-rmse:2.284853\n",
        "[1612]\ttrain-rmse:1.749324\tval-rmse:2.284503\n"
       ]
      },
      {
       "output_type": "stream",
       "stream": "stderr",
       "text": [
        "[1613]\ttrain-rmse:1.748289\tval-rmse:2.283817\n",
        "[1614]\ttrain-rmse:1.747448\tval-rmse:2.283391\n"
       ]
      },
      {
       "output_type": "stream",
       "stream": "stderr",
       "text": [
        "[1615]\ttrain-rmse:1.746865\tval-rmse:2.283005\n",
        "[1616]\ttrain-rmse:1.745971\tval-rmse:2.282421\n"
       ]
      },
      {
       "output_type": "stream",
       "stream": "stderr",
       "text": [
        "[1617]\ttrain-rmse:1.745324\tval-rmse:2.282002\n",
        "[1618]\ttrain-rmse:1.744183\tval-rmse:2.281231\n"
       ]
      },
      {
       "output_type": "stream",
       "stream": "stderr",
       "text": [
        "[1619]\ttrain-rmse:1.743908\tval-rmse:2.281008\n",
        "[1620]\ttrain-rmse:1.743384\tval-rmse:2.280643\n"
       ]
      },
      {
       "output_type": "stream",
       "stream": "stderr",
       "text": [
        "[1621]\ttrain-rmse:1.743175\tval-rmse:2.280517\n",
        "[1622]\ttrain-rmse:1.742787\tval-rmse:2.280231\n"
       ]
      },
      {
       "output_type": "stream",
       "stream": "stderr",
       "text": [
        "[1623]\ttrain-rmse:1.742058\tval-rmse:2.279728\n",
        "[1624]\ttrain-rmse:1.741570\tval-rmse:2.279417\n"
       ]
      },
      {
       "output_type": "stream",
       "stream": "stderr",
       "text": [
        "[1625]\ttrain-rmse:1.740732\tval-rmse:2.278855\n",
        "[1626]\ttrain-rmse:1.740216\tval-rmse:2.278467\n"
       ]
      },
      {
       "output_type": "stream",
       "stream": "stderr",
       "text": [
        "[1627]\ttrain-rmse:1.739538\tval-rmse:2.278024\n",
        "[1628]\ttrain-rmse:1.738394\tval-rmse:2.277155\n"
       ]
      },
      {
       "output_type": "stream",
       "stream": "stderr",
       "text": [
        "[1629]\ttrain-rmse:1.737445\tval-rmse:2.276510\n",
        "[1630]\ttrain-rmse:1.736828\tval-rmse:2.276091\n"
       ]
      },
      {
       "output_type": "stream",
       "stream": "stderr",
       "text": [
        "[1631]\ttrain-rmse:1.736214\tval-rmse:2.275700\n",
        "[1632]\ttrain-rmse:1.735474\tval-rmse:2.275281\n"
       ]
      },
      {
       "output_type": "stream",
       "stream": "stderr",
       "text": [
        "[1633]\ttrain-rmse:1.734998\tval-rmse:2.274976\n",
        "[1634]\ttrain-rmse:1.734556\tval-rmse:2.274738\n"
       ]
      },
      {
       "output_type": "stream",
       "stream": "stderr",
       "text": [
        "[1635]\ttrain-rmse:1.734004\tval-rmse:2.274301\n",
        "[1636]\ttrain-rmse:1.733189\tval-rmse:2.273760\n"
       ]
      },
      {
       "output_type": "stream",
       "stream": "stderr",
       "text": [
        "[1637]\ttrain-rmse:1.732137\tval-rmse:2.273012\n",
        "[1638]\ttrain-rmse:1.730945\tval-rmse:2.272141\n"
       ]
      },
      {
       "output_type": "stream",
       "stream": "stderr",
       "text": [
        "[1639]\ttrain-rmse:1.729464\tval-rmse:2.271175\n",
        "[1640]\ttrain-rmse:1.728604\tval-rmse:2.270581\n"
       ]
      },
      {
       "output_type": "stream",
       "stream": "stderr",
       "text": [
        "[1641]\ttrain-rmse:1.728225\tval-rmse:2.270339\n",
        "[1642]\ttrain-rmse:1.727506\tval-rmse:2.269744\n"
       ]
      },
      {
       "output_type": "stream",
       "stream": "stderr",
       "text": [
        "[1643]\ttrain-rmse:1.726498\tval-rmse:2.269107\n",
        "[1644]\ttrain-rmse:1.725788\tval-rmse:2.268610\n"
       ]
      },
      {
       "output_type": "stream",
       "stream": "stderr",
       "text": [
        "[1645]\ttrain-rmse:1.724859\tval-rmse:2.268089\n",
        "[1646]\ttrain-rmse:1.724381\tval-rmse:2.267802\n"
       ]
      },
      {
       "output_type": "stream",
       "stream": "stderr",
       "text": [
        "[1647]\ttrain-rmse:1.723747\tval-rmse:2.267392\n",
        "[1648]\ttrain-rmse:1.723403\tval-rmse:2.267171\n"
       ]
      },
      {
       "output_type": "stream",
       "stream": "stderr",
       "text": [
        "[1649]\ttrain-rmse:1.722983\tval-rmse:2.266904\n",
        "[1650]\ttrain-rmse:1.722253\tval-rmse:2.266438\n"
       ]
      },
      {
       "output_type": "stream",
       "stream": "stderr",
       "text": [
        "[1651]\ttrain-rmse:1.722054\tval-rmse:2.266296\n",
        "[1652]\ttrain-rmse:1.721826\tval-rmse:2.266127\n"
       ]
      },
      {
       "output_type": "stream",
       "stream": "stderr",
       "text": [
        "[1653]\ttrain-rmse:1.720955\tval-rmse:2.265522\n",
        "[1654]\ttrain-rmse:1.719926\tval-rmse:2.264818\n"
       ]
      },
      {
       "output_type": "stream",
       "stream": "stderr",
       "text": [
        "[1655]\ttrain-rmse:1.719278\tval-rmse:2.264378\n",
        "[1656]\ttrain-rmse:1.718830\tval-rmse:2.264055\n"
       ]
      },
      {
       "output_type": "stream",
       "stream": "stderr",
       "text": [
        "[1657]\ttrain-rmse:1.718378\tval-rmse:2.263750\n",
        "[1658]\ttrain-rmse:1.717977\tval-rmse:2.263416\n"
       ]
      },
      {
       "output_type": "stream",
       "stream": "stderr",
       "text": [
        "[1659]\ttrain-rmse:1.717290\tval-rmse:2.262972\n",
        "[1660]\ttrain-rmse:1.717008\tval-rmse:2.262775\n"
       ]
      },
      {
       "output_type": "stream",
       "stream": "stderr",
       "text": [
        "[1661]\ttrain-rmse:1.716159\tval-rmse:2.262205\n",
        "[1662]\ttrain-rmse:1.715535\tval-rmse:2.261805\n"
       ]
      },
      {
       "output_type": "stream",
       "stream": "stderr",
       "text": [
        "[1663]\ttrain-rmse:1.714576\tval-rmse:2.261190\n",
        "[1664]\ttrain-rmse:1.714056\tval-rmse:2.260762\n"
       ]
      },
      {
       "output_type": "stream",
       "stream": "stderr",
       "text": [
        "[1665]\ttrain-rmse:1.713735\tval-rmse:2.260564\n",
        "[1666]\ttrain-rmse:1.712986\tval-rmse:2.260040\n"
       ]
      },
      {
       "output_type": "stream",
       "stream": "stderr",
       "text": [
        "[1667]\ttrain-rmse:1.712543\tval-rmse:2.259706\n",
        "[1668]\ttrain-rmse:1.711686\tval-rmse:2.259047\n"
       ]
      },
      {
       "output_type": "stream",
       "stream": "stderr",
       "text": [
        "[1669]\ttrain-rmse:1.711048\tval-rmse:2.258604\n",
        "[1670]\ttrain-rmse:1.709756\tval-rmse:2.257671\n"
       ]
      },
      {
       "output_type": "stream",
       "stream": "stderr",
       "text": [
        "[1671]\ttrain-rmse:1.709179\tval-rmse:2.257205\n",
        "[1672]\ttrain-rmse:1.708951\tval-rmse:2.257083\n"
       ]
      },
      {
       "output_type": "stream",
       "stream": "stderr",
       "text": [
        "[1673]\ttrain-rmse:1.708410\tval-rmse:2.256763\n",
        "[1674]\ttrain-rmse:1.708182\tval-rmse:2.256588\n"
       ]
      },
      {
       "output_type": "stream",
       "stream": "stderr",
       "text": [
        "[1675]\ttrain-rmse:1.707859\tval-rmse:2.256346\n",
        "[1676]\ttrain-rmse:1.707254\tval-rmse:2.255934\n"
       ]
      },
      {
       "output_type": "stream",
       "stream": "stderr",
       "text": [
        "[1677]\ttrain-rmse:1.706783\tval-rmse:2.255702\n",
        "[1678]\ttrain-rmse:1.705895\tval-rmse:2.255086\n"
       ]
      },
      {
       "output_type": "stream",
       "stream": "stderr",
       "text": [
        "[1679]\ttrain-rmse:1.705147\tval-rmse:2.254524\n",
        "[1680]\ttrain-rmse:1.704745\tval-rmse:2.254207\n"
       ]
      },
      {
       "output_type": "stream",
       "stream": "stderr",
       "text": [
        "[1681]\ttrain-rmse:1.704328\tval-rmse:2.253941\n",
        "[1682]\ttrain-rmse:1.703643\tval-rmse:2.253489\n"
       ]
      },
      {
       "output_type": "stream",
       "stream": "stderr",
       "text": [
        "[1683]\ttrain-rmse:1.703181\tval-rmse:2.253230\n",
        "[1684]\ttrain-rmse:1.702732\tval-rmse:2.252919\n"
       ]
      },
      {
       "output_type": "stream",
       "stream": "stderr",
       "text": [
        "[1685]\ttrain-rmse:1.701987\tval-rmse:2.252306\n",
        "[1686]\ttrain-rmse:1.701215\tval-rmse:2.251759\n"
       ]
      },
      {
       "output_type": "stream",
       "stream": "stderr",
       "text": [
        "[1687]\ttrain-rmse:1.700872\tval-rmse:2.251542\n",
        "[1688]\ttrain-rmse:1.700196\tval-rmse:2.251115\n"
       ]
      },
      {
       "output_type": "stream",
       "stream": "stderr",
       "text": [
        "[1689]\ttrain-rmse:1.699585\tval-rmse:2.250788\n",
        "[1690]\ttrain-rmse:1.699146\tval-rmse:2.250436\n"
       ]
      },
      {
       "output_type": "stream",
       "stream": "stderr",
       "text": [
        "[1691]\ttrain-rmse:1.697984\tval-rmse:2.249527\n",
        "[1692]\ttrain-rmse:1.696960\tval-rmse:2.248814\n"
       ]
      },
      {
       "output_type": "stream",
       "stream": "stderr",
       "text": [
        "[1693]\ttrain-rmse:1.695605\tval-rmse:2.247903\n",
        "[1694]\ttrain-rmse:1.694817\tval-rmse:2.247362\n"
       ]
      },
      {
       "output_type": "stream",
       "stream": "stderr",
       "text": [
        "[1695]\ttrain-rmse:1.694055\tval-rmse:2.246867\n",
        "[1696]\ttrain-rmse:1.693815\tval-rmse:2.246758\n"
       ]
      },
      {
       "output_type": "stream",
       "stream": "stderr",
       "text": [
        "[1697]\ttrain-rmse:1.692965\tval-rmse:2.246210\n",
        "[1698]\ttrain-rmse:1.692545\tval-rmse:2.245896\n"
       ]
      },
      {
       "output_type": "stream",
       "stream": "stderr",
       "text": [
        "[1699]\ttrain-rmse:1.691935\tval-rmse:2.245510\n",
        "[1700]\ttrain-rmse:1.691447\tval-rmse:2.245168\n"
       ]
      },
      {
       "output_type": "stream",
       "stream": "stderr",
       "text": [
        "[1701]\ttrain-rmse:1.690993\tval-rmse:2.244910\n",
        "[1702]\ttrain-rmse:1.690804\tval-rmse:2.244768\n"
       ]
      },
      {
       "output_type": "stream",
       "stream": "stderr",
       "text": [
        "[1703]\ttrain-rmse:1.690069\tval-rmse:2.244298\n",
        "[1704]\ttrain-rmse:1.689687\tval-rmse:2.244059\n"
       ]
      },
      {
       "output_type": "stream",
       "stream": "stderr",
       "text": [
        "[1705]\ttrain-rmse:1.689306\tval-rmse:2.243795\n",
        "[1706]\ttrain-rmse:1.688665\tval-rmse:2.243398\n"
       ]
      },
      {
       "output_type": "stream",
       "stream": "stderr",
       "text": [
        "[1707]\ttrain-rmse:1.687568\tval-rmse:2.242657\n",
        "[1708]\ttrain-rmse:1.686564\tval-rmse:2.241911\n"
       ]
      },
      {
       "output_type": "stream",
       "stream": "stderr",
       "text": [
        "[1709]\ttrain-rmse:1.685447\tval-rmse:2.241136\n",
        "[1710]\ttrain-rmse:1.684937\tval-rmse:2.240777\n"
       ]
      },
      {
       "output_type": "stream",
       "stream": "stderr",
       "text": [
        "[1711]\ttrain-rmse:1.683851\tval-rmse:2.240085\n",
        "[1712]\ttrain-rmse:1.683271\tval-rmse:2.239731\n"
       ]
      },
      {
       "output_type": "stream",
       "stream": "stderr",
       "text": [
        "[1713]\ttrain-rmse:1.682931\tval-rmse:2.239553\n",
        "[1714]\ttrain-rmse:1.682452\tval-rmse:2.239173\n"
       ]
      },
      {
       "output_type": "stream",
       "stream": "stderr",
       "text": [
        "[1715]\ttrain-rmse:1.681476\tval-rmse:2.238438\n",
        "[1716]\ttrain-rmse:1.680952\tval-rmse:2.238082\n"
       ]
      },
      {
       "output_type": "stream",
       "stream": "stderr",
       "text": [
        "[1717]\ttrain-rmse:1.680250\tval-rmse:2.237600\n",
        "[1718]\ttrain-rmse:1.679891\tval-rmse:2.237419\n"
       ]
      },
      {
       "output_type": "stream",
       "stream": "stderr",
       "text": [
        "[1719]\ttrain-rmse:1.678509\tval-rmse:2.236538\n",
        "[1720]\ttrain-rmse:1.678259\tval-rmse:2.236302\n"
       ]
      },
      {
       "output_type": "stream",
       "stream": "stderr",
       "text": [
        "[1721]\ttrain-rmse:1.677563\tval-rmse:2.235869\n",
        "[1722]\ttrain-rmse:1.676731\tval-rmse:2.235335\n"
       ]
      },
      {
       "output_type": "stream",
       "stream": "stderr",
       "text": [
        "[1723]\ttrain-rmse:1.676067\tval-rmse:2.234871\n",
        "[1724]\ttrain-rmse:1.675676\tval-rmse:2.234523\n"
       ]
      },
      {
       "output_type": "stream",
       "stream": "stderr",
       "text": [
        "[1725]\ttrain-rmse:1.674672\tval-rmse:2.233775\n",
        "[1726]\ttrain-rmse:1.673918\tval-rmse:2.233287\n"
       ]
      },
      {
       "output_type": "stream",
       "stream": "stderr",
       "text": [
        "[1727]\ttrain-rmse:1.673170\tval-rmse:2.232808\n",
        "[1728]\ttrain-rmse:1.671986\tval-rmse:2.232040\n"
       ]
      },
      {
       "output_type": "stream",
       "stream": "stderr",
       "text": [
        "[1729]\ttrain-rmse:1.671249\tval-rmse:2.231593\n",
        "[1730]\ttrain-rmse:1.670783\tval-rmse:2.231276\n"
       ]
      },
      {
       "output_type": "stream",
       "stream": "stderr",
       "text": [
        "[1731]\ttrain-rmse:1.669987\tval-rmse:2.230832\n",
        "[1732]\ttrain-rmse:1.669212\tval-rmse:2.230375\n"
       ]
      },
      {
       "output_type": "stream",
       "stream": "stderr",
       "text": [
        "[1733]\ttrain-rmse:1.668891\tval-rmse:2.230128\n",
        "[1734]\ttrain-rmse:1.668300\tval-rmse:2.229765\n"
       ]
      },
      {
       "output_type": "stream",
       "stream": "stderr",
       "text": [
        "[1735]\ttrain-rmse:1.667971\tval-rmse:2.229568\n",
        "[1736]\ttrain-rmse:1.667409\tval-rmse:2.229267\n"
       ]
      },
      {
       "output_type": "stream",
       "stream": "stderr",
       "text": [
        "[1737]\ttrain-rmse:1.666690\tval-rmse:2.228815\n",
        "[1738]\ttrain-rmse:1.666063\tval-rmse:2.228462\n"
       ]
      },
      {
       "output_type": "stream",
       "stream": "stderr",
       "text": [
        "[1739]\ttrain-rmse:1.665091\tval-rmse:2.227899\n",
        "[1740]\ttrain-rmse:1.664812\tval-rmse:2.227676\n"
       ]
      },
      {
       "output_type": "stream",
       "stream": "stderr",
       "text": [
        "[1741]\ttrain-rmse:1.664140\tval-rmse:2.227321\n",
        "[1742]\ttrain-rmse:1.662765\tval-rmse:2.226462\n"
       ]
      },
      {
       "output_type": "stream",
       "stream": "stderr",
       "text": [
        "[1743]\ttrain-rmse:1.662289\tval-rmse:2.226163\n",
        "[1744]\ttrain-rmse:1.661765\tval-rmse:2.225861\n"
       ]
      },
      {
       "output_type": "stream",
       "stream": "stderr",
       "text": [
        "[1745]\ttrain-rmse:1.661306\tval-rmse:2.225639\n",
        "[1746]\ttrain-rmse:1.660896\tval-rmse:2.225337\n"
       ]
      },
      {
       "output_type": "stream",
       "stream": "stderr",
       "text": [
        "[1747]\ttrain-rmse:1.660647\tval-rmse:2.225164\n",
        "[1748]\ttrain-rmse:1.660294\tval-rmse:2.224996\n"
       ]
      },
      {
       "output_type": "stream",
       "stream": "stderr",
       "text": [
        "[1749]\ttrain-rmse:1.659835\tval-rmse:2.224691\n",
        "[1750]\ttrain-rmse:1.659509\tval-rmse:2.224488\n"
       ]
      },
      {
       "output_type": "stream",
       "stream": "stderr",
       "text": [
        "[1751]\ttrain-rmse:1.658850\tval-rmse:2.224056\n",
        "[1752]\ttrain-rmse:1.658198\tval-rmse:2.223682\n"
       ]
      },
      {
       "output_type": "stream",
       "stream": "stderr",
       "text": [
        "[1753]\ttrain-rmse:1.657309\tval-rmse:2.223096\n",
        "[1754]\ttrain-rmse:1.656996\tval-rmse:2.222891\n"
       ]
      },
      {
       "output_type": "stream",
       "stream": "stderr",
       "text": [
        "[1755]\ttrain-rmse:1.656639\tval-rmse:2.222656\n",
        "[1756]\ttrain-rmse:1.656328\tval-rmse:2.222501\n"
       ]
      },
      {
       "output_type": "stream",
       "stream": "stderr",
       "text": [
        "[1757]\ttrain-rmse:1.655862\tval-rmse:2.222183\n",
        "[1758]\ttrain-rmse:1.655553\tval-rmse:2.221977\n"
       ]
      },
      {
       "output_type": "stream",
       "stream": "stderr",
       "text": [
        "[1759]\ttrain-rmse:1.655106\tval-rmse:2.221666\n",
        "[1760]\ttrain-rmse:1.654643\tval-rmse:2.221343\n"
       ]
      },
      {
       "output_type": "stream",
       "stream": "stderr",
       "text": [
        "[1761]\ttrain-rmse:1.654000\tval-rmse:2.220947\n",
        "[1762]\ttrain-rmse:1.653553\tval-rmse:2.220655\n"
       ]
      },
      {
       "output_type": "stream",
       "stream": "stderr",
       "text": [
        "[1763]\ttrain-rmse:1.653296\tval-rmse:2.220487\n",
        "[1764]\ttrain-rmse:1.652402\tval-rmse:2.219933\n"
       ]
      },
      {
       "output_type": "stream",
       "stream": "stderr",
       "text": [
        "[1765]\ttrain-rmse:1.651748\tval-rmse:2.219514\n",
        "[1766]\ttrain-rmse:1.651217\tval-rmse:2.219173\n"
       ]
      },
      {
       "output_type": "stream",
       "stream": "stderr",
       "text": [
        "[1767]\ttrain-rmse:1.650901\tval-rmse:2.218970\n",
        "[1768]\ttrain-rmse:1.650037\tval-rmse:2.218391\n"
       ]
      },
      {
       "output_type": "stream",
       "stream": "stderr",
       "text": [
        "[1769]\ttrain-rmse:1.649601\tval-rmse:2.218079\n",
        "[1770]\ttrain-rmse:1.648211\tval-rmse:2.217322\n"
       ]
      },
      {
       "output_type": "stream",
       "stream": "stderr",
       "text": [
        "[1771]\ttrain-rmse:1.647919\tval-rmse:2.217129\n",
        "[1772]\ttrain-rmse:1.647650\tval-rmse:2.216964\n"
       ]
      },
      {
       "output_type": "stream",
       "stream": "stderr",
       "text": [
        "[1773]\ttrain-rmse:1.647416\tval-rmse:2.216780\n",
        "[1774]\ttrain-rmse:1.647114\tval-rmse:2.216574\n"
       ]
      },
      {
       "output_type": "stream",
       "stream": "stderr",
       "text": [
        "[1775]\ttrain-rmse:1.646104\tval-rmse:2.215850\n",
        "[1776]\ttrain-rmse:1.645609\tval-rmse:2.215475\n"
       ]
      },
      {
       "output_type": "stream",
       "stream": "stderr",
       "text": [
        "[1777]\ttrain-rmse:1.644585\tval-rmse:2.214869\n",
        "[1778]\ttrain-rmse:1.643638\tval-rmse:2.214246\n"
       ]
      },
      {
       "output_type": "stream",
       "stream": "stderr",
       "text": [
        "[1779]\ttrain-rmse:1.642309\tval-rmse:2.213413\n",
        "[1780]\ttrain-rmse:1.641920\tval-rmse:2.213161\n"
       ]
      },
      {
       "output_type": "stream",
       "stream": "stderr",
       "text": [
        "[1781]\ttrain-rmse:1.641447\tval-rmse:2.212842\n",
        "[1782]\ttrain-rmse:1.640771\tval-rmse:2.212322\n"
       ]
      },
      {
       "output_type": "stream",
       "stream": "stderr",
       "text": [
        "[1783]\ttrain-rmse:1.640481\tval-rmse:2.212122\n",
        "[1784]\ttrain-rmse:1.639203\tval-rmse:2.211293\n"
       ]
      },
      {
       "output_type": "stream",
       "stream": "stderr",
       "text": [
        "[1785]\ttrain-rmse:1.638731\tval-rmse:2.211010\n",
        "[1786]\ttrain-rmse:1.638447\tval-rmse:2.210838\n"
       ]
      },
      {
       "output_type": "stream",
       "stream": "stderr",
       "text": [
        "[1787]\ttrain-rmse:1.637626\tval-rmse:2.210241\n",
        "[1788]\ttrain-rmse:1.637009\tval-rmse:2.209827\n"
       ]
      },
      {
       "output_type": "stream",
       "stream": "stderr",
       "text": [
        "[1789]\ttrain-rmse:1.636482\tval-rmse:2.209517\n",
        "[1790]\ttrain-rmse:1.635946\tval-rmse:2.209174\n"
       ]
      },
      {
       "output_type": "stream",
       "stream": "stderr",
       "text": [
        "[1791]\ttrain-rmse:1.635330\tval-rmse:2.208700\n",
        "[1792]\ttrain-rmse:1.634600\tval-rmse:2.208349\n"
       ]
      },
      {
       "output_type": "stream",
       "stream": "stderr",
       "text": [
        "[1793]\ttrain-rmse:1.634143\tval-rmse:2.208070\n",
        "[1794]\ttrain-rmse:1.633577\tval-rmse:2.207694\n"
       ]
      },
      {
       "output_type": "stream",
       "stream": "stderr",
       "text": [
        "[1795]\ttrain-rmse:1.633227\tval-rmse:2.207479\n",
        "[1796]\ttrain-rmse:1.632612\tval-rmse:2.207013\n"
       ]
      },
      {
       "output_type": "stream",
       "stream": "stderr",
       "text": [
        "[1797]\ttrain-rmse:1.631912\tval-rmse:2.206539\n",
        "[1798]\ttrain-rmse:1.631237\tval-rmse:2.206107\n"
       ]
      },
      {
       "output_type": "stream",
       "stream": "stderr",
       "text": [
        "[1799]\ttrain-rmse:1.630145\tval-rmse:2.205348\n",
        "[1800]\ttrain-rmse:1.629833\tval-rmse:2.205114\n"
       ]
      },
      {
       "output_type": "stream",
       "stream": "stderr",
       "text": [
        "[1801]\ttrain-rmse:1.629330\tval-rmse:2.204693\n",
        "[1802]\ttrain-rmse:1.628673\tval-rmse:2.204212\n"
       ]
      },
      {
       "output_type": "stream",
       "stream": "stderr",
       "text": [
        "[1803]\ttrain-rmse:1.628211\tval-rmse:2.203952\n",
        "[1804]\ttrain-rmse:1.627658\tval-rmse:2.203554\n"
       ]
      },
      {
       "output_type": "stream",
       "stream": "stderr",
       "text": [
        "[1805]\ttrain-rmse:1.626798\tval-rmse:2.203023\n",
        "[1806]\ttrain-rmse:1.625929\tval-rmse:2.202427\n"
       ]
      },
      {
       "output_type": "stream",
       "stream": "stderr",
       "text": [
        "[1807]\ttrain-rmse:1.625470\tval-rmse:2.202137\n",
        "[1808]\ttrain-rmse:1.625113\tval-rmse:2.201857\n"
       ]
      },
      {
       "output_type": "stream",
       "stream": "stderr",
       "text": [
        "[1809]\ttrain-rmse:1.624378\tval-rmse:2.201485\n",
        "[1810]\ttrain-rmse:1.623989\tval-rmse:2.201235\n"
       ]
      },
      {
       "output_type": "stream",
       "stream": "stderr",
       "text": [
        "[1811]\ttrain-rmse:1.623615\tval-rmse:2.200995\n",
        "[1812]\ttrain-rmse:1.623240\tval-rmse:2.200782\n"
       ]
      },
      {
       "output_type": "stream",
       "stream": "stderr",
       "text": [
        "[1813]\ttrain-rmse:1.622722\tval-rmse:2.200444\n",
        "[1814]\ttrain-rmse:1.621835\tval-rmse:2.199882\n"
       ]
      },
      {
       "output_type": "stream",
       "stream": "stderr",
       "text": [
        "[1815]\ttrain-rmse:1.621052\tval-rmse:2.199282\n",
        "[1816]\ttrain-rmse:1.620535\tval-rmse:2.198930\n"
       ]
      },
      {
       "output_type": "stream",
       "stream": "stderr",
       "text": [
        "[1817]\ttrain-rmse:1.620246\tval-rmse:2.198749\n",
        "[1818]\ttrain-rmse:1.620052\tval-rmse:2.198624\n"
       ]
      },
      {
       "output_type": "stream",
       "stream": "stderr",
       "text": [
        "[1819]\ttrain-rmse:1.619302\tval-rmse:2.198122\n",
        "[1820]\ttrain-rmse:1.618729\tval-rmse:2.197767\n"
       ]
      },
      {
       "output_type": "stream",
       "stream": "stderr",
       "text": [
        "[1821]\ttrain-rmse:1.618190\tval-rmse:2.197387\n",
        "[1822]\ttrain-rmse:1.617429\tval-rmse:2.196839\n"
       ]
      },
      {
       "output_type": "stream",
       "stream": "stderr",
       "text": [
        "[1823]\ttrain-rmse:1.616999\tval-rmse:2.196560\n",
        "[1824]\ttrain-rmse:1.616352\tval-rmse:2.196080\n"
       ]
      },
      {
       "output_type": "stream",
       "stream": "stderr",
       "text": [
        "[1825]\ttrain-rmse:1.615469\tval-rmse:2.195457\n",
        "[1826]\ttrain-rmse:1.615074\tval-rmse:2.195156\n"
       ]
      },
      {
       "output_type": "stream",
       "stream": "stderr",
       "text": [
        "[1827]\ttrain-rmse:1.614476\tval-rmse:2.194785\n",
        "[1828]\ttrain-rmse:1.614163\tval-rmse:2.194579\n"
       ]
      },
      {
       "output_type": "stream",
       "stream": "stderr",
       "text": [
        "[1829]\ttrain-rmse:1.613256\tval-rmse:2.193979\n",
        "[1830]\ttrain-rmse:1.612378\tval-rmse:2.193430\n"
       ]
      },
      {
       "output_type": "stream",
       "stream": "stderr",
       "text": [
        "[1831]\ttrain-rmse:1.611438\tval-rmse:2.192768\n",
        "[1832]\ttrain-rmse:1.610472\tval-rmse:2.192126\n"
       ]
      },
      {
       "output_type": "stream",
       "stream": "stderr",
       "text": [
        "[1833]\ttrain-rmse:1.609202\tval-rmse:2.191274\n",
        "[1834]\ttrain-rmse:1.608381\tval-rmse:2.190785\n"
       ]
      },
      {
       "output_type": "stream",
       "stream": "stderr",
       "text": [
        "[1835]\ttrain-rmse:1.608168\tval-rmse:2.190677\n",
        "[1836]\ttrain-rmse:1.607782\tval-rmse:2.190432\n"
       ]
      },
      {
       "output_type": "stream",
       "stream": "stderr",
       "text": [
        "[1837]\ttrain-rmse:1.606750\tval-rmse:2.189845\n",
        "[1838]\ttrain-rmse:1.606321\tval-rmse:2.189483\n"
       ]
      },
      {
       "output_type": "stream",
       "stream": "stderr",
       "text": [
        "[1839]\ttrain-rmse:1.605549\tval-rmse:2.188956\n",
        "[1840]\ttrain-rmse:1.605026\tval-rmse:2.188550\n"
       ]
      },
      {
       "output_type": "stream",
       "stream": "stderr",
       "text": [
        "[1841]\ttrain-rmse:1.604145\tval-rmse:2.187932\n",
        "[1842]\ttrain-rmse:1.603458\tval-rmse:2.187596\n"
       ]
      },
      {
       "output_type": "stream",
       "stream": "stderr",
       "text": [
        "[1843]\ttrain-rmse:1.603027\tval-rmse:2.187347\n",
        "[1844]\ttrain-rmse:1.602171\tval-rmse:2.186786\n"
       ]
      },
      {
       "output_type": "stream",
       "stream": "stderr",
       "text": [
        "[1845]\ttrain-rmse:1.601370\tval-rmse:2.186330\n",
        "[1846]\ttrain-rmse:1.600788\tval-rmse:2.185939\n"
       ]
      },
      {
       "output_type": "stream",
       "stream": "stderr",
       "text": [
        "[1847]\ttrain-rmse:1.600658\tval-rmse:2.185820\n",
        "[1848]\ttrain-rmse:1.599829\tval-rmse:2.185280\n"
       ]
      },
      {
       "output_type": "stream",
       "stream": "stderr",
       "text": [
        "[1849]\ttrain-rmse:1.599355\tval-rmse:2.184980\n",
        "[1850]\ttrain-rmse:1.598985\tval-rmse:2.184754\n"
       ]
      },
      {
       "output_type": "stream",
       "stream": "stderr",
       "text": [
        "[1851]\ttrain-rmse:1.598616\tval-rmse:2.184474\n",
        "[1852]\ttrain-rmse:1.597771\tval-rmse:2.183871\n"
       ]
      },
      {
       "output_type": "stream",
       "stream": "stderr",
       "text": [
        "[1853]\ttrain-rmse:1.596833\tval-rmse:2.183295\n",
        "[1854]\ttrain-rmse:1.596391\tval-rmse:2.183023\n"
       ]
      },
      {
       "output_type": "stream",
       "stream": "stderr",
       "text": [
        "[1855]\ttrain-rmse:1.595983\tval-rmse:2.182706\n",
        "[1856]\ttrain-rmse:1.595138\tval-rmse:2.182182\n"
       ]
      },
      {
       "output_type": "stream",
       "stream": "stderr",
       "text": [
        "[1857]\ttrain-rmse:1.594256\tval-rmse:2.181566\n",
        "[1858]\ttrain-rmse:1.593635\tval-rmse:2.181083\n"
       ]
      },
      {
       "output_type": "stream",
       "stream": "stderr",
       "text": [
        "[1859]\ttrain-rmse:1.592825\tval-rmse:2.180599\n",
        "[1860]\ttrain-rmse:1.592114\tval-rmse:2.180242\n"
       ]
      },
      {
       "output_type": "stream",
       "stream": "stderr",
       "text": [
        "[1861]\ttrain-rmse:1.591823\tval-rmse:2.180045\n",
        "[1862]\ttrain-rmse:1.591566\tval-rmse:2.179897\n"
       ]
      },
      {
       "output_type": "stream",
       "stream": "stderr",
       "text": [
        "[1863]\ttrain-rmse:1.590794\tval-rmse:2.179412\n",
        "[1864]\ttrain-rmse:1.590498\tval-rmse:2.179241\n"
       ]
      },
      {
       "output_type": "stream",
       "stream": "stderr",
       "text": [
        "[1865]\ttrain-rmse:1.590200\tval-rmse:2.179065\n",
        "[1866]\ttrain-rmse:1.589776\tval-rmse:2.178833\n"
       ]
      },
      {
       "output_type": "stream",
       "stream": "stderr",
       "text": [
        "[1867]\ttrain-rmse:1.589457\tval-rmse:2.178611\n",
        "[1868]\ttrain-rmse:1.589073\tval-rmse:2.178407\n"
       ]
      },
      {
       "output_type": "stream",
       "stream": "stderr",
       "text": [
        "[1869]\ttrain-rmse:1.588652\tval-rmse:2.178110\n",
        "[1870]\ttrain-rmse:1.588064\tval-rmse:2.177755\n"
       ]
      },
      {
       "output_type": "stream",
       "stream": "stderr",
       "text": [
        "[1871]\ttrain-rmse:1.587069\tval-rmse:2.177133\n",
        "[1872]\ttrain-rmse:1.586516\tval-rmse:2.176776\n"
       ]
      },
      {
       "output_type": "stream",
       "stream": "stderr",
       "text": [
        "[1873]\ttrain-rmse:1.586026\tval-rmse:2.176499\n",
        "[1874]\ttrain-rmse:1.585619\tval-rmse:2.176222\n"
       ]
      },
      {
       "output_type": "stream",
       "stream": "stderr",
       "text": [
        "[1875]\ttrain-rmse:1.585208\tval-rmse:2.175892\n",
        "[1876]\ttrain-rmse:1.584740\tval-rmse:2.175635\n"
       ]
      },
      {
       "output_type": "stream",
       "stream": "stderr",
       "text": [
        "[1877]\ttrain-rmse:1.584099\tval-rmse:2.175200\n",
        "[1878]\ttrain-rmse:1.583880\tval-rmse:2.175061\n"
       ]
      },
      {
       "output_type": "stream",
       "stream": "stderr",
       "text": [
        "[1879]\ttrain-rmse:1.583130\tval-rmse:2.174505\n",
        "[1880]\ttrain-rmse:1.582642\tval-rmse:2.174247\n"
       ]
      },
      {
       "output_type": "stream",
       "stream": "stderr",
       "text": [
        "[1881]\ttrain-rmse:1.582245\tval-rmse:2.173972\n",
        "[1882]\ttrain-rmse:1.581746\tval-rmse:2.173694\n"
       ]
      },
      {
       "output_type": "stream",
       "stream": "stderr",
       "text": [
        "[1883]\ttrain-rmse:1.580933\tval-rmse:2.173096\n",
        "[1884]\ttrain-rmse:1.580002\tval-rmse:2.172526\n"
       ]
      },
      {
       "output_type": "stream",
       "stream": "stderr",
       "text": [
        "[1885]\ttrain-rmse:1.579452\tval-rmse:2.172179\n",
        "[1886]\ttrain-rmse:1.579075\tval-rmse:2.171925\n"
       ]
      },
      {
       "output_type": "stream",
       "stream": "stderr",
       "text": [
        "[1887]\ttrain-rmse:1.578459\tval-rmse:2.171449\n",
        "[1888]\ttrain-rmse:1.577959\tval-rmse:2.171176\n"
       ]
      },
      {
       "output_type": "stream",
       "stream": "stderr",
       "text": [
        "[1889]\ttrain-rmse:1.577400\tval-rmse:2.170831\n",
        "[1890]\ttrain-rmse:1.576603\tval-rmse:2.170382\n"
       ]
      },
      {
       "output_type": "stream",
       "stream": "stderr",
       "text": [
        "[1891]\ttrain-rmse:1.575899\tval-rmse:2.169861\n",
        "[1892]\ttrain-rmse:1.575003\tval-rmse:2.169270\n"
       ]
      },
      {
       "output_type": "stream",
       "stream": "stderr",
       "text": [
        "[1893]\ttrain-rmse:1.574732\tval-rmse:2.169074\n",
        "[1894]\ttrain-rmse:1.574325\tval-rmse:2.168808\n"
       ]
      },
      {
       "output_type": "stream",
       "stream": "stderr",
       "text": [
        "[1895]\ttrain-rmse:1.573616\tval-rmse:2.168359\n",
        "[1896]\ttrain-rmse:1.572910\tval-rmse:2.167941\n"
       ]
      },
      {
       "output_type": "stream",
       "stream": "stderr",
       "text": [
        "[1897]\ttrain-rmse:1.572118\tval-rmse:2.167533\n",
        "[1898]\ttrain-rmse:1.571759\tval-rmse:2.167325\n"
       ]
      },
      {
       "output_type": "stream",
       "stream": "stderr",
       "text": [
        "[1899]\ttrain-rmse:1.571284\tval-rmse:2.167007\n",
        "[1900]\ttrain-rmse:1.570779\tval-rmse:2.166682\n"
       ]
      },
      {
       "output_type": "stream",
       "stream": "stderr",
       "text": [
        "[1901]\ttrain-rmse:1.569971\tval-rmse:2.166151\n",
        "[1902]\ttrain-rmse:1.569434\tval-rmse:2.165832\n"
       ]
      },
      {
       "output_type": "stream",
       "stream": "stderr",
       "text": [
        "[1903]\ttrain-rmse:1.568873\tval-rmse:2.165467\n",
        "[1904]\ttrain-rmse:1.568607\tval-rmse:2.165302\n"
       ]
      },
      {
       "output_type": "stream",
       "stream": "stderr",
       "text": [
        "[1905]\ttrain-rmse:1.567284\tval-rmse:2.164500\n",
        "[1906]\ttrain-rmse:1.566646\tval-rmse:2.164002\n"
       ]
      },
      {
       "output_type": "stream",
       "stream": "stderr",
       "text": [
        "[1907]\ttrain-rmse:1.565872\tval-rmse:2.163578\n",
        "[1908]\ttrain-rmse:1.565635\tval-rmse:2.163415\n"
       ]
      },
      {
       "output_type": "stream",
       "stream": "stderr",
       "text": [
        "[1909]\ttrain-rmse:1.565206\tval-rmse:2.163122\n",
        "[1910]\ttrain-rmse:1.564844\tval-rmse:2.162860\n"
       ]
      },
      {
       "output_type": "stream",
       "stream": "stderr",
       "text": [
        "[1911]\ttrain-rmse:1.563534\tval-rmse:2.162059\n",
        "[1912]\ttrain-rmse:1.563333\tval-rmse:2.161914\n"
       ]
      },
      {
       "output_type": "stream",
       "stream": "stderr",
       "text": [
        "[1913]\ttrain-rmse:1.562750\tval-rmse:2.161562\n",
        "[1914]\ttrain-rmse:1.561984\tval-rmse:2.161019\n"
       ]
      },
      {
       "output_type": "stream",
       "stream": "stderr",
       "text": [
        "[1915]\ttrain-rmse:1.561805\tval-rmse:2.160894\n",
        "[1916]\ttrain-rmse:1.561391\tval-rmse:2.160662\n"
       ]
      },
      {
       "output_type": "stream",
       "stream": "stderr",
       "text": [
        "[1917]\ttrain-rmse:1.560738\tval-rmse:2.160211\n",
        "[1918]\ttrain-rmse:1.560464\tval-rmse:2.159989\n"
       ]
      },
      {
       "output_type": "stream",
       "stream": "stderr",
       "text": [
        "[1919]\ttrain-rmse:1.559873\tval-rmse:2.159632\n",
        "[1920]\ttrain-rmse:1.559449\tval-rmse:2.159348\n"
       ]
      },
      {
       "output_type": "stream",
       "stream": "stderr",
       "text": [
        "[1921]\ttrain-rmse:1.559059\tval-rmse:2.159167\n",
        "[1922]\ttrain-rmse:1.558624\tval-rmse:2.158819\n"
       ]
      },
      {
       "output_type": "stream",
       "stream": "stderr",
       "text": [
        "[1923]\ttrain-rmse:1.557709\tval-rmse:2.158236\n",
        "[1924]\ttrain-rmse:1.557013\tval-rmse:2.157812\n"
       ]
      },
      {
       "output_type": "stream",
       "stream": "stderr",
       "text": [
        "[1925]\ttrain-rmse:1.556173\tval-rmse:2.157277\n",
        "[1926]\ttrain-rmse:1.555744\tval-rmse:2.156969\n"
       ]
      },
      {
       "output_type": "stream",
       "stream": "stderr",
       "text": [
        "[1927]\ttrain-rmse:1.555361\tval-rmse:2.156754\n",
        "[1928]\ttrain-rmse:1.554261\tval-rmse:2.156047\n"
       ]
      },
      {
       "output_type": "stream",
       "stream": "stderr",
       "text": [
        "[1929]\ttrain-rmse:1.553396\tval-rmse:2.155471\n",
        "[1930]\ttrain-rmse:1.553040\tval-rmse:2.155287\n"
       ]
      },
      {
       "output_type": "stream",
       "stream": "stderr",
       "text": [
        "[1931]\ttrain-rmse:1.552332\tval-rmse:2.154891\n",
        "[1932]\ttrain-rmse:1.551953\tval-rmse:2.154693\n"
       ]
      },
      {
       "output_type": "stream",
       "stream": "stderr",
       "text": [
        "[1933]\ttrain-rmse:1.551521\tval-rmse:2.154422\n",
        "[1934]\ttrain-rmse:1.550876\tval-rmse:2.154039\n"
       ]
      },
      {
       "output_type": "stream",
       "stream": "stderr",
       "text": [
        "[1935]\ttrain-rmse:1.550583\tval-rmse:2.153853\n",
        "[1936]\ttrain-rmse:1.550004\tval-rmse:2.153526\n"
       ]
      },
      {
       "output_type": "stream",
       "stream": "stderr",
       "text": [
        "[1937]\ttrain-rmse:1.549666\tval-rmse:2.153305\n",
        "[1938]\ttrain-rmse:1.549292\tval-rmse:2.153034\n"
       ]
      },
      {
       "output_type": "stream",
       "stream": "stderr",
       "text": [
        "[1939]\ttrain-rmse:1.549132\tval-rmse:2.152947\n",
        "[1940]\ttrain-rmse:1.548393\tval-rmse:2.152536\n"
       ]
      },
      {
       "output_type": "stream",
       "stream": "stderr",
       "text": [
        "[1941]\ttrain-rmse:1.548168\tval-rmse:2.152405\n",
        "[1942]\ttrain-rmse:1.547831\tval-rmse:2.152197\n"
       ]
      },
      {
       "output_type": "stream",
       "stream": "stderr",
       "text": [
        "[1943]\ttrain-rmse:1.546764\tval-rmse:2.151568\n",
        "[1944]\ttrain-rmse:1.546171\tval-rmse:2.151180\n"
       ]
      },
      {
       "output_type": "stream",
       "stream": "stderr",
       "text": [
        "[1945]\ttrain-rmse:1.545391\tval-rmse:2.150704\n",
        "[1946]\ttrain-rmse:1.544675\tval-rmse:2.150177\n"
       ]
      },
      {
       "output_type": "stream",
       "stream": "stderr",
       "text": [
        "[1947]\ttrain-rmse:1.544085\tval-rmse:2.149798\n",
        "[1948]\ttrain-rmse:1.543494\tval-rmse:2.149430\n"
       ]
      },
      {
       "output_type": "stream",
       "stream": "stderr",
       "text": [
        "[1949]\ttrain-rmse:1.543215\tval-rmse:2.149250\n",
        "[1950]\ttrain-rmse:1.542431\tval-rmse:2.148830\n"
       ]
      },
      {
       "output_type": "stream",
       "stream": "stderr",
       "text": [
        "[1951]\ttrain-rmse:1.541597\tval-rmse:2.148370\n",
        "[1952]\ttrain-rmse:1.541080\tval-rmse:2.148076\n"
       ]
      },
      {
       "output_type": "stream",
       "stream": "stderr",
       "text": [
        "[1953]\ttrain-rmse:1.540520\tval-rmse:2.147713\n",
        "[1954]\ttrain-rmse:1.539304\tval-rmse:2.146964\n"
       ]
      },
      {
       "output_type": "stream",
       "stream": "stderr",
       "text": [
        "[1955]\ttrain-rmse:1.539048\tval-rmse:2.146799\n",
        "[1956]\ttrain-rmse:1.538483\tval-rmse:2.146479\n"
       ]
      },
      {
       "output_type": "stream",
       "stream": "stderr",
       "text": [
        "[1957]\ttrain-rmse:1.537826\tval-rmse:2.146039\n",
        "[1958]\ttrain-rmse:1.537587\tval-rmse:2.145895\n"
       ]
      },
      {
       "output_type": "stream",
       "stream": "stderr",
       "text": [
        "[1959]\ttrain-rmse:1.537397\tval-rmse:2.145722\n",
        "[1960]\ttrain-rmse:1.537145\tval-rmse:2.145562\n"
       ]
      },
      {
       "output_type": "stream",
       "stream": "stderr",
       "text": [
        "[1961]\ttrain-rmse:1.536812\tval-rmse:2.145310\n",
        "[1962]\ttrain-rmse:1.536308\tval-rmse:2.144965\n"
       ]
      },
      {
       "output_type": "stream",
       "stream": "stderr",
       "text": [
        "[1963]\ttrain-rmse:1.535442\tval-rmse:2.144447\n",
        "[1964]\ttrain-rmse:1.534557\tval-rmse:2.143880\n"
       ]
      },
      {
       "output_type": "stream",
       "stream": "stderr",
       "text": [
        "[1965]\ttrain-rmse:1.533683\tval-rmse:2.143306\n",
        "[1966]\ttrain-rmse:1.533211\tval-rmse:2.142970\n"
       ]
      },
      {
       "output_type": "stream",
       "stream": "stderr",
       "text": [
        "[1967]\ttrain-rmse:1.533087\tval-rmse:2.142889\n",
        "[1968]\ttrain-rmse:1.532800\tval-rmse:2.142724\n"
       ]
      },
      {
       "output_type": "stream",
       "stream": "stderr",
       "text": [
        "[1969]\ttrain-rmse:1.531872\tval-rmse:2.142147\n",
        "[1970]\ttrain-rmse:1.531318\tval-rmse:2.141801\n"
       ]
      },
      {
       "output_type": "stream",
       "stream": "stderr",
       "text": [
        "[1971]\ttrain-rmse:1.530879\tval-rmse:2.141553\n",
        "[1972]\ttrain-rmse:1.530195\tval-rmse:2.141148\n"
       ]
      },
      {
       "output_type": "stream",
       "stream": "stderr",
       "text": [
        "[1973]\ttrain-rmse:1.529901\tval-rmse:2.140938\n",
        "[1974]\ttrain-rmse:1.529669\tval-rmse:2.140771\n"
       ]
      },
      {
       "output_type": "stream",
       "stream": "stderr",
       "text": [
        "[1975]\ttrain-rmse:1.529269\tval-rmse:2.140502\n",
        "[1976]\ttrain-rmse:1.528886\tval-rmse:2.140261\n"
       ]
      },
      {
       "output_type": "stream",
       "stream": "stderr",
       "text": [
        "[1977]\ttrain-rmse:1.528384\tval-rmse:2.139916\n",
        "[1978]\ttrain-rmse:1.528191\tval-rmse:2.139773\n"
       ]
      },
      {
       "output_type": "stream",
       "stream": "stderr",
       "text": [
        "[1979]\ttrain-rmse:1.527468\tval-rmse:2.139347\n",
        "[1980]\ttrain-rmse:1.526384\tval-rmse:2.138658\n"
       ]
      },
      {
       "output_type": "stream",
       "stream": "stderr",
       "text": [
        "[1981]\ttrain-rmse:1.525611\tval-rmse:2.138184\n",
        "[1982]\ttrain-rmse:1.525408\tval-rmse:2.138069\n"
       ]
      },
      {
       "output_type": "stream",
       "stream": "stderr",
       "text": [
        "[1983]\ttrain-rmse:1.524973\tval-rmse:2.137790\n",
        "[1984]\ttrain-rmse:1.524768\tval-rmse:2.137618\n"
       ]
      },
      {
       "output_type": "stream",
       "stream": "stderr",
       "text": [
        "[1985]\ttrain-rmse:1.523530\tval-rmse:2.136881\n",
        "[1986]\ttrain-rmse:1.523163\tval-rmse:2.136606\n"
       ]
      },
      {
       "output_type": "stream",
       "stream": "stderr",
       "text": [
        "[1987]\ttrain-rmse:1.522497\tval-rmse:2.136222\n",
        "[1988]\ttrain-rmse:1.521420\tval-rmse:2.135540\n"
       ]
      },
      {
       "output_type": "stream",
       "stream": "stderr",
       "text": [
        "[1989]\ttrain-rmse:1.520952\tval-rmse:2.135226\n",
        "[1990]\ttrain-rmse:1.520604\tval-rmse:2.135025\n"
       ]
      },
      {
       "output_type": "stream",
       "stream": "stderr",
       "text": [
        "[1991]\ttrain-rmse:1.519936\tval-rmse:2.134589\n",
        "[1992]\ttrain-rmse:1.519313\tval-rmse:2.134214\n"
       ]
      },
      {
       "output_type": "stream",
       "stream": "stderr",
       "text": [
        "[1993]\ttrain-rmse:1.518492\tval-rmse:2.133629\n",
        "[1994]\ttrain-rmse:1.518067\tval-rmse:2.133360\n"
       ]
      },
      {
       "output_type": "stream",
       "stream": "stderr",
       "text": [
        "[1995]\ttrain-rmse:1.517505\tval-rmse:2.132988\n",
        "[1996]\ttrain-rmse:1.516408\tval-rmse:2.132312\n"
       ]
      },
      {
       "output_type": "stream",
       "stream": "stderr",
       "text": [
        "[1997]\ttrain-rmse:1.515620\tval-rmse:2.131935\n",
        "[1998]\ttrain-rmse:1.515088\tval-rmse:2.131653\n"
       ]
      },
      {
       "output_type": "stream",
       "stream": "stderr",
       "text": [
        "[1999]\ttrain-rmse:1.514909\tval-rmse:2.131508\n",
        "[2000]\ttrain-rmse:1.514718\tval-rmse:2.131398\n"
       ]
      },
      {
       "output_type": "stream",
       "stream": "stderr",
       "text": [
        "[2001]\ttrain-rmse:1.513657\tval-rmse:2.130771\n",
        "[2002]\ttrain-rmse:1.512737\tval-rmse:2.130209\n"
       ]
      },
      {
       "output_type": "stream",
       "stream": "stderr",
       "text": [
        "[2003]\ttrain-rmse:1.512300\tval-rmse:2.129933\n",
        "[2004]\ttrain-rmse:1.511048\tval-rmse:2.129177\n"
       ]
      },
      {
       "output_type": "stream",
       "stream": "stderr",
       "text": [
        "[2005]\ttrain-rmse:1.510385\tval-rmse:2.128741\n",
        "[2006]\ttrain-rmse:1.509790\tval-rmse:2.128354\n"
       ]
      },
      {
       "output_type": "stream",
       "stream": "stderr",
       "text": [
        "[2007]\ttrain-rmse:1.508870\tval-rmse:2.127805\n",
        "[2008]\ttrain-rmse:1.508253\tval-rmse:2.127370\n"
       ]
      },
      {
       "output_type": "stream",
       "stream": "stderr",
       "text": [
        "[2009]\ttrain-rmse:1.507803\tval-rmse:2.127074\n",
        "[2010]\ttrain-rmse:1.507669\tval-rmse:2.126980\n"
       ]
      },
      {
       "output_type": "stream",
       "stream": "stderr",
       "text": [
        "[2011]\ttrain-rmse:1.506901\tval-rmse:2.126447\n",
        "[2012]\ttrain-rmse:1.506615\tval-rmse:2.126292\n"
       ]
      },
      {
       "output_type": "stream",
       "stream": "stderr",
       "text": [
        "[2013]\ttrain-rmse:1.506076\tval-rmse:2.125897\n",
        "[2014]\ttrain-rmse:1.505506\tval-rmse:2.125555\n"
       ]
      },
      {
       "output_type": "stream",
       "stream": "stderr",
       "text": [
        "[2015]\ttrain-rmse:1.504741\tval-rmse:2.125156\n",
        "[2016]\ttrain-rmse:1.504402\tval-rmse:2.125012\n"
       ]
      },
      {
       "output_type": "stream",
       "stream": "stderr",
       "text": [
        "[2017]\ttrain-rmse:1.503678\tval-rmse:2.124503\n",
        "[2018]\ttrain-rmse:1.503109\tval-rmse:2.124069\n"
       ]
      },
      {
       "output_type": "stream",
       "stream": "stderr",
       "text": [
        "[2019]\ttrain-rmse:1.502080\tval-rmse:2.123455\n",
        "[2020]\ttrain-rmse:1.501631\tval-rmse:2.123165\n"
       ]
      },
      {
       "output_type": "stream",
       "stream": "stderr",
       "text": [
        "[2021]\ttrain-rmse:1.501192\tval-rmse:2.122864\n",
        "[2022]\ttrain-rmse:1.500877\tval-rmse:2.122722\n"
       ]
      },
      {
       "output_type": "stream",
       "stream": "stderr",
       "text": [
        "[2023]\ttrain-rmse:1.500399\tval-rmse:2.122387\n",
        "[2024]\ttrain-rmse:1.500095\tval-rmse:2.122196\n"
       ]
      },
      {
       "output_type": "stream",
       "stream": "stderr",
       "text": [
        "[2025]\ttrain-rmse:1.499547\tval-rmse:2.121931\n",
        "[2026]\ttrain-rmse:1.498833\tval-rmse:2.121528\n"
       ]
      },
      {
       "output_type": "stream",
       "stream": "stderr",
       "text": [
        "[2027]\ttrain-rmse:1.498431\tval-rmse:2.121262\n",
        "[2028]\ttrain-rmse:1.498197\tval-rmse:2.121093\n"
       ]
      },
      {
       "output_type": "stream",
       "stream": "stderr",
       "text": [
        "[2029]\ttrain-rmse:1.497597\tval-rmse:2.120721\n",
        "[2030]\ttrain-rmse:1.497055\tval-rmse:2.120364\n"
       ]
      },
      {
       "output_type": "stream",
       "stream": "stderr",
       "text": [
        "[2031]\ttrain-rmse:1.496684\tval-rmse:2.120155\n",
        "[2032]\ttrain-rmse:1.496282\tval-rmse:2.119932\n"
       ]
      },
      {
       "output_type": "stream",
       "stream": "stderr",
       "text": [
        "[2033]\ttrain-rmse:1.496036\tval-rmse:2.119769\n",
        "[2034]\ttrain-rmse:1.495705\tval-rmse:2.119558\n"
       ]
      },
      {
       "output_type": "stream",
       "stream": "stderr",
       "text": [
        "[2035]\ttrain-rmse:1.494954\tval-rmse:2.119117\n",
        "[2036]\ttrain-rmse:1.494534\tval-rmse:2.118850\n"
       ]
      },
      {
       "output_type": "stream",
       "stream": "stderr",
       "text": [
        "[2037]\ttrain-rmse:1.493861\tval-rmse:2.118388\n",
        "[2038]\ttrain-rmse:1.493114\tval-rmse:2.117947\n"
       ]
      },
      {
       "output_type": "stream",
       "stream": "stderr",
       "text": [
        "[2039]\ttrain-rmse:1.492640\tval-rmse:2.117620\n",
        "[2040]\ttrain-rmse:1.492090\tval-rmse:2.117229\n"
       ]
      },
      {
       "output_type": "stream",
       "stream": "stderr",
       "text": [
        "[2041]\ttrain-rmse:1.491297\tval-rmse:2.116694\n",
        "[2042]\ttrain-rmse:1.491152\tval-rmse:2.116591\n"
       ]
      },
      {
       "output_type": "stream",
       "stream": "stderr",
       "text": [
        "[2043]\ttrain-rmse:1.490804\tval-rmse:2.116307\n",
        "[2044]\ttrain-rmse:1.490093\tval-rmse:2.115855\n"
       ]
      },
      {
       "output_type": "stream",
       "stream": "stderr",
       "text": [
        "[2045]\ttrain-rmse:1.489655\tval-rmse:2.115523\n",
        "[2046]\ttrain-rmse:1.489329\tval-rmse:2.115293\n"
       ]
      },
      {
       "output_type": "stream",
       "stream": "stderr",
       "text": [
        "[2047]\ttrain-rmse:1.489146\tval-rmse:2.115131\n",
        "[2048]\ttrain-rmse:1.488479\tval-rmse:2.114771\n"
       ]
      },
      {
       "output_type": "stream",
       "stream": "stderr",
       "text": [
        "[2049]\ttrain-rmse:1.487948\tval-rmse:2.114468\n",
        "[2050]\ttrain-rmse:1.487584\tval-rmse:2.114199\n"
       ]
      },
      {
       "output_type": "stream",
       "stream": "stderr",
       "text": [
        "[2051]\ttrain-rmse:1.486826\tval-rmse:2.113689\n",
        "[2052]\ttrain-rmse:1.486692\tval-rmse:2.113616\n"
       ]
      },
      {
       "output_type": "stream",
       "stream": "stderr",
       "text": [
        "[2053]\ttrain-rmse:1.486316\tval-rmse:2.113415\n",
        "[2054]\ttrain-rmse:1.485615\tval-rmse:2.112963\n"
       ]
      },
      {
       "output_type": "stream",
       "stream": "stderr",
       "text": [
        "[2055]\ttrain-rmse:1.484617\tval-rmse:2.112340\n",
        "[2056]\ttrain-rmse:1.484187\tval-rmse:2.112107\n"
       ]
      },
      {
       "output_type": "stream",
       "stream": "stderr",
       "text": [
        "[2057]\ttrain-rmse:1.484034\tval-rmse:2.112024\n",
        "[2058]\ttrain-rmse:1.483790\tval-rmse:2.111850\n"
       ]
      },
      {
       "output_type": "stream",
       "stream": "stderr",
       "text": [
        "[2059]\ttrain-rmse:1.482872\tval-rmse:2.111321\n",
        "[2060]\ttrain-rmse:1.482335\tval-rmse:2.111045\n"
       ]
      },
      {
       "output_type": "stream",
       "stream": "stderr",
       "text": [
        "[2061]\ttrain-rmse:1.482066\tval-rmse:2.110941\n",
        "[2062]\ttrain-rmse:1.481678\tval-rmse:2.110726\n"
       ]
      },
      {
       "output_type": "stream",
       "stream": "stderr",
       "text": [
        "[2063]\ttrain-rmse:1.481365\tval-rmse:2.110478\n",
        "[2064]\ttrain-rmse:1.481088\tval-rmse:2.110320\n"
       ]
      },
      {
       "output_type": "stream",
       "stream": "stderr",
       "text": [
        "[2065]\ttrain-rmse:1.480449\tval-rmse:2.109924\n",
        "[2066]\ttrain-rmse:1.479721\tval-rmse:2.109491\n"
       ]
      },
      {
       "output_type": "stream",
       "stream": "stderr",
       "text": [
        "[2067]\ttrain-rmse:1.479261\tval-rmse:2.109226\n",
        "[2068]\ttrain-rmse:1.478564\tval-rmse:2.108788\n"
       ]
      },
      {
       "output_type": "stream",
       "stream": "stderr",
       "text": [
        "[2069]\ttrain-rmse:1.478175\tval-rmse:2.108564\n",
        "[2070]\ttrain-rmse:1.477788\tval-rmse:2.108323\n"
       ]
      },
      {
       "output_type": "stream",
       "stream": "stderr",
       "text": [
        "[2071]\ttrain-rmse:1.477457\tval-rmse:2.108118\n",
        "[2072]\ttrain-rmse:1.476950\tval-rmse:2.107821\n"
       ]
      },
      {
       "output_type": "stream",
       "stream": "stderr",
       "text": [
        "[2073]\ttrain-rmse:1.476573\tval-rmse:2.107607\n",
        "[2074]\ttrain-rmse:1.475916\tval-rmse:2.107171\n"
       ]
      },
      {
       "output_type": "stream",
       "stream": "stderr",
       "text": [
        "[2075]\ttrain-rmse:1.475699\tval-rmse:2.106997\n",
        "[2076]\ttrain-rmse:1.474983\tval-rmse:2.106577\n"
       ]
      },
      {
       "output_type": "stream",
       "stream": "stderr",
       "text": [
        "[2077]\ttrain-rmse:1.474806\tval-rmse:2.106455\n",
        "[2078]\ttrain-rmse:1.474180\tval-rmse:2.106119\n"
       ]
      },
      {
       "output_type": "stream",
       "stream": "stderr",
       "text": [
        "[2079]\ttrain-rmse:1.473684\tval-rmse:2.105825\n",
        "[2080]\ttrain-rmse:1.473061\tval-rmse:2.105485\n"
       ]
      },
      {
       "output_type": "stream",
       "stream": "stderr",
       "text": [
        "[2081]\ttrain-rmse:1.472291\tval-rmse:2.105060\n",
        "[2082]\ttrain-rmse:1.472113\tval-rmse:2.104936\n"
       ]
      },
      {
       "output_type": "stream",
       "stream": "stderr",
       "text": [
        "[2083]\ttrain-rmse:1.471904\tval-rmse:2.104797\n",
        "[2084]\ttrain-rmse:1.471392\tval-rmse:2.104482\n"
       ]
      },
      {
       "output_type": "stream",
       "stream": "stderr",
       "text": [
        "[2085]\ttrain-rmse:1.470892\tval-rmse:2.104209\n",
        "[2086]\ttrain-rmse:1.469992\tval-rmse:2.103613\n"
       ]
      },
      {
       "output_type": "stream",
       "stream": "stderr",
       "text": [
        "[2087]\ttrain-rmse:1.469293\tval-rmse:2.103258\n",
        "[2088]\ttrain-rmse:1.468207\tval-rmse:2.102554\n"
       ]
      },
      {
       "output_type": "stream",
       "stream": "stderr",
       "text": [
        "[2089]\ttrain-rmse:1.467843\tval-rmse:2.102355\n",
        "[2090]\ttrain-rmse:1.467565\tval-rmse:2.102221\n"
       ]
      },
      {
       "output_type": "stream",
       "stream": "stderr",
       "text": [
        "[2091]\ttrain-rmse:1.466679\tval-rmse:2.101642\n",
        "[2092]\ttrain-rmse:1.466014\tval-rmse:2.101222\n"
       ]
      },
      {
       "output_type": "stream",
       "stream": "stderr",
       "text": [
        "[2093]\ttrain-rmse:1.465492\tval-rmse:2.100863\n",
        "[2094]\ttrain-rmse:1.465080\tval-rmse:2.100575\n"
       ]
      },
      {
       "output_type": "stream",
       "stream": "stderr",
       "text": [
        "[2095]\ttrain-rmse:1.464110\tval-rmse:2.100004\n",
        "[2096]\ttrain-rmse:1.462956\tval-rmse:2.099132\n"
       ]
      },
      {
       "output_type": "stream",
       "stream": "stderr",
       "text": [
        "[2097]\ttrain-rmse:1.462630\tval-rmse:2.098944\n",
        "[2098]\ttrain-rmse:1.462433\tval-rmse:2.098830\n"
       ]
      },
      {
       "output_type": "stream",
       "stream": "stderr",
       "text": [
        "[2099]\ttrain-rmse:1.462049\tval-rmse:2.098611\n",
        "[2100]\ttrain-rmse:1.461394\tval-rmse:2.098169\n"
       ]
      },
      {
       "output_type": "stream",
       "stream": "stderr",
       "text": [
        "[2101]\ttrain-rmse:1.460658\tval-rmse:2.097779\n",
        "[2102]\ttrain-rmse:1.460268\tval-rmse:2.097551\n"
       ]
      },
      {
       "output_type": "stream",
       "stream": "stderr",
       "text": [
        "[2103]\ttrain-rmse:1.459618\tval-rmse:2.097190\n",
        "[2104]\ttrain-rmse:1.459054\tval-rmse:2.096845\n"
       ]
      },
      {
       "output_type": "stream",
       "stream": "stderr",
       "text": [
        "[2105]\ttrain-rmse:1.458777\tval-rmse:2.096678\n",
        "[2106]\ttrain-rmse:1.458463\tval-rmse:2.096491\n"
       ]
      },
      {
       "output_type": "stream",
       "stream": "stderr",
       "text": [
        "[2107]\ttrain-rmse:1.457539\tval-rmse:2.095948\n",
        "[2108]\ttrain-rmse:1.456519\tval-rmse:2.095315\n"
       ]
      },
      {
       "output_type": "stream",
       "stream": "stderr",
       "text": [
        "[2109]\ttrain-rmse:1.455846\tval-rmse:2.094912\n",
        "[2110]\ttrain-rmse:1.455245\tval-rmse:2.094522\n"
       ]
      },
      {
       "output_type": "stream",
       "stream": "stderr",
       "text": [
        "[2111]\ttrain-rmse:1.454405\tval-rmse:2.093892\n",
        "[2112]\ttrain-rmse:1.454224\tval-rmse:2.093803\n"
       ]
      },
      {
       "output_type": "stream",
       "stream": "stderr",
       "text": [
        "[2113]\ttrain-rmse:1.453621\tval-rmse:2.093455\n",
        "[2114]\ttrain-rmse:1.453053\tval-rmse:2.093010\n"
       ]
      },
      {
       "output_type": "stream",
       "stream": "stderr",
       "text": [
        "[2115]\ttrain-rmse:1.452322\tval-rmse:2.092562\n",
        "[2116]\ttrain-rmse:1.451858\tval-rmse:2.092261\n"
       ]
      },
      {
       "output_type": "stream",
       "stream": "stderr",
       "text": [
        "[2117]\ttrain-rmse:1.451446\tval-rmse:2.092034\n",
        "[2118]\ttrain-rmse:1.451276\tval-rmse:2.091969\n"
       ]
      },
      {
       "output_type": "stream",
       "stream": "stderr",
       "text": [
        "[2119]\ttrain-rmse:1.451013\tval-rmse:2.091812\n",
        "[2120]\ttrain-rmse:1.450806\tval-rmse:2.091691\n"
       ]
      },
      {
       "output_type": "stream",
       "stream": "stderr",
       "text": [
        "[2121]\ttrain-rmse:1.450456\tval-rmse:2.091452\n",
        "[2122]\ttrain-rmse:1.449667\tval-rmse:2.090930\n"
       ]
      },
      {
       "output_type": "stream",
       "stream": "stderr",
       "text": [
        "[2123]\ttrain-rmse:1.449007\tval-rmse:2.090549\n",
        "[2124]\ttrain-rmse:1.448423\tval-rmse:2.090286\n"
       ]
      },
      {
       "output_type": "stream",
       "stream": "stderr",
       "text": [
        "[2125]\ttrain-rmse:1.447904\tval-rmse:2.089990\n",
        "[2126]\ttrain-rmse:1.447292\tval-rmse:2.089606\n"
       ]
      },
      {
       "output_type": "stream",
       "stream": "stderr",
       "text": [
        "[2127]\ttrain-rmse:1.447065\tval-rmse:2.089437\n",
        "[2128]\ttrain-rmse:1.446764\tval-rmse:2.089251\n"
       ]
      },
      {
       "output_type": "stream",
       "stream": "stderr",
       "text": [
        "[2129]\ttrain-rmse:1.446554\tval-rmse:2.089117\n",
        "[2130]\ttrain-rmse:1.445793\tval-rmse:2.088589\n"
       ]
      },
      {
       "output_type": "stream",
       "stream": "stderr",
       "text": [
        "[2131]\ttrain-rmse:1.445269\tval-rmse:2.088273\n",
        "[2132]\ttrain-rmse:1.444790\tval-rmse:2.087942\n"
       ]
      },
      {
       "output_type": "stream",
       "stream": "stderr",
       "text": [
        "[2133]\ttrain-rmse:1.444351\tval-rmse:2.087701\n",
        "[2134]\ttrain-rmse:1.444001\tval-rmse:2.087471\n"
       ]
      },
      {
       "output_type": "stream",
       "stream": "stderr",
       "text": [
        "[2135]\ttrain-rmse:1.443280\tval-rmse:2.087107\n",
        "[2136]\ttrain-rmse:1.442827\tval-rmse:2.086809\n"
       ]
      },
      {
       "output_type": "stream",
       "stream": "stderr",
       "text": [
        "[2137]\ttrain-rmse:1.442633\tval-rmse:2.086719\n",
        "[2138]\ttrain-rmse:1.442122\tval-rmse:2.086344\n"
       ]
      },
      {
       "output_type": "stream",
       "stream": "stderr",
       "text": [
        "[2139]\ttrain-rmse:1.441825\tval-rmse:2.086187\n",
        "[2140]\ttrain-rmse:1.441645\tval-rmse:2.086073\n"
       ]
      },
      {
       "output_type": "stream",
       "stream": "stderr",
       "text": [
        "[2141]\ttrain-rmse:1.441230\tval-rmse:2.085819\n",
        "[2142]\ttrain-rmse:1.440905\tval-rmse:2.085638\n"
       ]
      },
      {
       "output_type": "stream",
       "stream": "stderr",
       "text": [
        "[2143]\ttrain-rmse:1.440483\tval-rmse:2.085347\n",
        "[2144]\ttrain-rmse:1.440201\tval-rmse:2.085178\n"
       ]
      },
      {
       "output_type": "stream",
       "stream": "stderr",
       "text": [
        "[2145]\ttrain-rmse:1.439650\tval-rmse:2.084846\n",
        "[2146]\ttrain-rmse:1.439408\tval-rmse:2.084707\n"
       ]
      },
      {
       "output_type": "stream",
       "stream": "stderr",
       "text": [
        "[2147]\ttrain-rmse:1.439015\tval-rmse:2.084412\n",
        "[2148]\ttrain-rmse:1.438537\tval-rmse:2.084159\n"
       ]
      },
      {
       "output_type": "stream",
       "stream": "stderr",
       "text": [
        "[2149]\ttrain-rmse:1.437825\tval-rmse:2.083682\n",
        "[2150]\ttrain-rmse:1.437329\tval-rmse:2.083443\n"
       ]
      },
      {
       "output_type": "stream",
       "stream": "stderr",
       "text": [
        "[2151]\ttrain-rmse:1.436749\tval-rmse:2.083074\n",
        "[2152]\ttrain-rmse:1.436335\tval-rmse:2.082763\n"
       ]
      },
      {
       "output_type": "stream",
       "stream": "stderr",
       "text": [
        "[2153]\ttrain-rmse:1.436042\tval-rmse:2.082548\n",
        "[2154]\ttrain-rmse:1.435477\tval-rmse:2.082148\n"
       ]
      },
      {
       "output_type": "stream",
       "stream": "stderr",
       "text": [
        "[2155]\ttrain-rmse:1.435176\tval-rmse:2.082022\n",
        "[2156]\ttrain-rmse:1.434586\tval-rmse:2.081627\n"
       ]
      },
      {
       "output_type": "stream",
       "stream": "stderr",
       "text": [
        "[2157]\ttrain-rmse:1.434058\tval-rmse:2.081370\n",
        "[2158]\ttrain-rmse:1.433716\tval-rmse:2.081159\n"
       ]
      },
      {
       "output_type": "stream",
       "stream": "stderr",
       "text": [
        "[2159]\ttrain-rmse:1.432982\tval-rmse:2.080698\n",
        "[2160]\ttrain-rmse:1.432549\tval-rmse:2.080436\n"
       ]
      },
      {
       "output_type": "stream",
       "stream": "stderr",
       "text": [
        "[2161]\ttrain-rmse:1.431991\tval-rmse:2.079991\n",
        "[2162]\ttrain-rmse:1.431276\tval-rmse:2.079580\n"
       ]
      },
      {
       "output_type": "stream",
       "stream": "stderr",
       "text": [
        "[2163]\ttrain-rmse:1.430697\tval-rmse:2.079238\n",
        "[2164]\ttrain-rmse:1.430113\tval-rmse:2.078932\n"
       ]
      },
      {
       "output_type": "stream",
       "stream": "stderr",
       "text": [
        "[2165]\ttrain-rmse:1.429901\tval-rmse:2.078783\n",
        "[2166]\ttrain-rmse:1.429523\tval-rmse:2.078497\n"
       ]
      },
      {
       "output_type": "stream",
       "stream": "stderr",
       "text": [
        "[2167]\ttrain-rmse:1.429362\tval-rmse:2.078405\n",
        "[2168]\ttrain-rmse:1.428388\tval-rmse:2.077912\n"
       ]
      },
      {
       "output_type": "stream",
       "stream": "stderr",
       "text": [
        "[2169]\ttrain-rmse:1.427884\tval-rmse:2.077593\n",
        "[2170]\ttrain-rmse:1.427634\tval-rmse:2.077423\n"
       ]
      },
      {
       "output_type": "stream",
       "stream": "stderr",
       "text": [
        "[2171]\ttrain-rmse:1.427444\tval-rmse:2.077320\n",
        "[2172]\ttrain-rmse:1.426803\tval-rmse:2.076908\n"
       ]
      },
      {
       "output_type": "stream",
       "stream": "stderr",
       "text": [
        "[2173]\ttrain-rmse:1.426536\tval-rmse:2.076732\n",
        "[2174]\ttrain-rmse:1.425781\tval-rmse:2.076274\n"
       ]
      },
      {
       "output_type": "stream",
       "stream": "stderr",
       "text": [
        "[2175]\ttrain-rmse:1.425313\tval-rmse:2.075958\n",
        "[2176]\ttrain-rmse:1.424613\tval-rmse:2.075570\n"
       ]
      },
      {
       "output_type": "stream",
       "stream": "stderr",
       "text": [
        "[2177]\ttrain-rmse:1.424406\tval-rmse:2.075490\n",
        "[2178]\ttrain-rmse:1.424041\tval-rmse:2.075268\n"
       ]
      },
      {
       "output_type": "stream",
       "stream": "stderr",
       "text": [
        "[2179]\ttrain-rmse:1.423408\tval-rmse:2.074889\n",
        "[2180]\ttrain-rmse:1.422981\tval-rmse:2.074634\n"
       ]
      },
      {
       "output_type": "stream",
       "stream": "stderr",
       "text": [
        "[2181]\ttrain-rmse:1.422605\tval-rmse:2.074375\n",
        "[2182]\ttrain-rmse:1.422004\tval-rmse:2.074006\n"
       ]
      },
      {
       "output_type": "stream",
       "stream": "stderr",
       "text": [
        "[2183]\ttrain-rmse:1.421489\tval-rmse:2.073736\n",
        "[2184]\ttrain-rmse:1.421314\tval-rmse:2.073633\n"
       ]
      },
      {
       "output_type": "stream",
       "stream": "stderr",
       "text": [
        "[2185]\ttrain-rmse:1.421032\tval-rmse:2.073497\n",
        "[2186]\ttrain-rmse:1.420784\tval-rmse:2.073364\n"
       ]
      },
      {
       "output_type": "stream",
       "stream": "stderr",
       "text": [
        "[2187]\ttrain-rmse:1.420433\tval-rmse:2.073112\n",
        "[2188]\ttrain-rmse:1.420264\tval-rmse:2.072994\n"
       ]
      },
      {
       "output_type": "stream",
       "stream": "stderr",
       "text": [
        "[2189]\ttrain-rmse:1.419893\tval-rmse:2.072721\n",
        "[2190]\ttrain-rmse:1.418924\tval-rmse:2.072226\n"
       ]
      },
      {
       "output_type": "stream",
       "stream": "stderr",
       "text": [
        "[2191]\ttrain-rmse:1.417820\tval-rmse:2.071562\n",
        "[2192]\ttrain-rmse:1.417568\tval-rmse:2.071426\n"
       ]
      },
      {
       "output_type": "stream",
       "stream": "stderr",
       "text": [
        "[2193]\ttrain-rmse:1.417151\tval-rmse:2.071151\n",
        "[2194]\ttrain-rmse:1.416775\tval-rmse:2.070885\n"
       ]
      },
      {
       "output_type": "stream",
       "stream": "stderr",
       "text": [
        "[2195]\ttrain-rmse:1.416468\tval-rmse:2.070710\n",
        "[2196]\ttrain-rmse:1.415991\tval-rmse:2.070404\n"
       ]
      },
      {
       "output_type": "stream",
       "stream": "stderr",
       "text": [
        "[2197]\ttrain-rmse:1.415501\tval-rmse:2.070091\n",
        "[2198]\ttrain-rmse:1.415041\tval-rmse:2.069807\n"
       ]
      },
      {
       "output_type": "stream",
       "stream": "stderr",
       "text": [
        "[2199]\ttrain-rmse:1.414758\tval-rmse:2.069602\n",
        "[2200]\ttrain-rmse:1.414547\tval-rmse:2.069464\n"
       ]
      },
      {
       "output_type": "stream",
       "stream": "stderr",
       "text": [
        "[2201]\ttrain-rmse:1.414310\tval-rmse:2.069346\n",
        "[2202]\ttrain-rmse:1.414035\tval-rmse:2.069178\n"
       ]
      },
      {
       "output_type": "stream",
       "stream": "stderr",
       "text": [
        "[2203]\ttrain-rmse:1.413141\tval-rmse:2.068754\n",
        "[2204]\ttrain-rmse:1.412961\tval-rmse:2.068626\n"
       ]
      },
      {
       "output_type": "stream",
       "stream": "stderr",
       "text": [
        "[2205]\ttrain-rmse:1.412606\tval-rmse:2.068430\n",
        "[2206]\ttrain-rmse:1.412253\tval-rmse:2.068228\n"
       ]
      },
      {
       "output_type": "stream",
       "stream": "stderr",
       "text": [
        "[2207]\ttrain-rmse:1.411799\tval-rmse:2.067956\n",
        "[2208]\ttrain-rmse:1.411373\tval-rmse:2.067699\n"
       ]
      },
      {
       "output_type": "stream",
       "stream": "stderr",
       "text": [
        "[2209]\ttrain-rmse:1.410894\tval-rmse:2.067339\n",
        "[2210]\ttrain-rmse:1.410171\tval-rmse:2.066954\n"
       ]
      },
      {
       "output_type": "stream",
       "stream": "stderr",
       "text": [
        "[2211]\ttrain-rmse:1.409772\tval-rmse:2.066728\n",
        "[2212]\ttrain-rmse:1.408865\tval-rmse:2.066250\n"
       ]
      },
      {
       "output_type": "stream",
       "stream": "stderr",
       "text": [
        "[2213]\ttrain-rmse:1.408552\tval-rmse:2.066049\n",
        "[2214]\ttrain-rmse:1.408326\tval-rmse:2.065897\n"
       ]
      },
      {
       "output_type": "stream",
       "stream": "stderr",
       "text": [
        "[2215]\ttrain-rmse:1.407991\tval-rmse:2.065698\n",
        "[2216]\ttrain-rmse:1.407794\tval-rmse:2.065568\n"
       ]
      },
      {
       "output_type": "stream",
       "stream": "stderr",
       "text": [
        "[2217]\ttrain-rmse:1.407257\tval-rmse:2.065284\n",
        "[2218]\ttrain-rmse:1.407098\tval-rmse:2.065185\n"
       ]
      },
      {
       "output_type": "stream",
       "stream": "stderr",
       "text": [
        "[2219]\ttrain-rmse:1.406749\tval-rmse:2.064932\n",
        "[2220]\ttrain-rmse:1.406081\tval-rmse:2.064561\n"
       ]
      },
      {
       "output_type": "stream",
       "stream": "stderr",
       "text": [
        "[2221]\ttrain-rmse:1.405671\tval-rmse:2.064373\n",
        "[2222]\ttrain-rmse:1.405379\tval-rmse:2.064204\n"
       ]
      },
      {
       "output_type": "stream",
       "stream": "stderr",
       "text": [
        "[2223]\ttrain-rmse:1.405178\tval-rmse:2.064078\n",
        "[2224]\ttrain-rmse:1.404863\tval-rmse:2.063848\n"
       ]
      },
      {
       "output_type": "stream",
       "stream": "stderr",
       "text": [
        "[2225]\ttrain-rmse:1.404391\tval-rmse:2.063599\n",
        "[2226]\ttrain-rmse:1.403789\tval-rmse:2.063217\n"
       ]
      },
      {
       "output_type": "stream",
       "stream": "stderr",
       "text": [
        "[2227]\ttrain-rmse:1.403206\tval-rmse:2.062816\n",
        "[2228]\ttrain-rmse:1.402879\tval-rmse:2.062629\n"
       ]
      },
      {
       "output_type": "stream",
       "stream": "stderr",
       "text": [
        "[2229]\ttrain-rmse:1.402639\tval-rmse:2.062509\n",
        "[2230]\ttrain-rmse:1.402531\tval-rmse:2.062448\n"
       ]
      },
      {
       "output_type": "stream",
       "stream": "stderr",
       "text": [
        "[2231]\ttrain-rmse:1.402132\tval-rmse:2.062228\n",
        "[2232]\ttrain-rmse:1.401470\tval-rmse:2.061851\n"
       ]
      },
      {
       "output_type": "stream",
       "stream": "stderr",
       "text": [
        "[2233]\ttrain-rmse:1.401075\tval-rmse:2.061621\n",
        "[2234]\ttrain-rmse:1.400419\tval-rmse:2.061193\n"
       ]
      },
      {
       "output_type": "stream",
       "stream": "stderr",
       "text": [
        "[2235]\ttrain-rmse:1.399929\tval-rmse:2.060855\n",
        "[2236]\ttrain-rmse:1.399129\tval-rmse:2.060373\n"
       ]
      },
      {
       "output_type": "stream",
       "stream": "stderr",
       "text": [
        "[2237]\ttrain-rmse:1.398495\tval-rmse:2.060054\n",
        "[2238]\ttrain-rmse:1.398255\tval-rmse:2.059882\n"
       ]
      },
      {
       "output_type": "stream",
       "stream": "stderr",
       "text": [
        "[2239]\ttrain-rmse:1.397385\tval-rmse:2.059381\n",
        "[2240]\ttrain-rmse:1.396913\tval-rmse:2.059050\n"
       ]
      },
      {
       "output_type": "stream",
       "stream": "stderr",
       "text": [
        "[2241]\ttrain-rmse:1.396494\tval-rmse:2.058810\n",
        "[2242]\ttrain-rmse:1.395401\tval-rmse:2.058187\n"
       ]
      },
      {
       "output_type": "stream",
       "stream": "stderr",
       "text": [
        "[2243]\ttrain-rmse:1.395059\tval-rmse:2.057985\n",
        "[2244]\ttrain-rmse:1.394649\tval-rmse:2.057679\n"
       ]
      },
      {
       "output_type": "stream",
       "stream": "stderr",
       "text": [
        "[2245]\ttrain-rmse:1.394417\tval-rmse:2.057523\n",
        "[2246]\ttrain-rmse:1.394213\tval-rmse:2.057393\n"
       ]
      },
      {
       "output_type": "stream",
       "stream": "stderr",
       "text": [
        "[2247]\ttrain-rmse:1.393874\tval-rmse:2.057175\n",
        "[2248]\ttrain-rmse:1.393574\tval-rmse:2.056974\n"
       ]
      },
      {
       "output_type": "stream",
       "stream": "stderr",
       "text": [
        "[2249]\ttrain-rmse:1.392890\tval-rmse:2.056623\n",
        "[2250]\ttrain-rmse:1.392411\tval-rmse:2.056387\n"
       ]
      },
      {
       "output_type": "stream",
       "stream": "stderr",
       "text": [
        "[2251]\ttrain-rmse:1.391680\tval-rmse:2.055988\n",
        "[2252]\ttrain-rmse:1.390967\tval-rmse:2.055581\n"
       ]
      },
      {
       "output_type": "stream",
       "stream": "stderr",
       "text": [
        "[2253]\ttrain-rmse:1.390378\tval-rmse:2.055176\n",
        "[2254]\ttrain-rmse:1.390005\tval-rmse:2.054915\n"
       ]
      },
      {
       "output_type": "stream",
       "stream": "stderr",
       "text": [
        "[2255]\ttrain-rmse:1.389682\tval-rmse:2.054706\n",
        "[2256]\ttrain-rmse:1.389164\tval-rmse:2.054470\n"
       ]
      },
      {
       "output_type": "stream",
       "stream": "stderr",
       "text": [
        "[2257]\ttrain-rmse:1.388740\tval-rmse:2.054230\n",
        "[2258]\ttrain-rmse:1.388265\tval-rmse:2.053951\n"
       ]
      },
      {
       "output_type": "stream",
       "stream": "stderr",
       "text": [
        "[2259]\ttrain-rmse:1.388044\tval-rmse:2.053846\n",
        "[2260]\ttrain-rmse:1.387832\tval-rmse:2.053732\n"
       ]
      },
      {
       "output_type": "stream",
       "stream": "stderr",
       "text": [
        "[2261]\ttrain-rmse:1.387610\tval-rmse:2.053590\n",
        "[2262]\ttrain-rmse:1.387388\tval-rmse:2.053488\n"
       ]
      },
      {
       "output_type": "stream",
       "stream": "stderr",
       "text": [
        "[2263]\ttrain-rmse:1.387022\tval-rmse:2.053265\n",
        "[2264]\ttrain-rmse:1.386367\tval-rmse:2.052928\n"
       ]
      },
      {
       "output_type": "stream",
       "stream": "stderr",
       "text": [
        "[2265]\ttrain-rmse:1.386136\tval-rmse:2.052765\n",
        "[2266]\ttrain-rmse:1.385917\tval-rmse:2.052660\n"
       ]
      },
      {
       "output_type": "stream",
       "stream": "stderr",
       "text": [
        "[2267]\ttrain-rmse:1.385630\tval-rmse:2.052508\n",
        "[2268]\ttrain-rmse:1.385100\tval-rmse:2.052187\n"
       ]
      },
      {
       "output_type": "stream",
       "stream": "stderr",
       "text": [
        "[2269]\ttrain-rmse:1.384640\tval-rmse:2.051872\n",
        "[2270]\ttrain-rmse:1.384036\tval-rmse:2.051548\n"
       ]
      },
      {
       "output_type": "stream",
       "stream": "stderr",
       "text": [
        "[2271]\ttrain-rmse:1.383183\tval-rmse:2.051050\n",
        "[2272]\ttrain-rmse:1.382831\tval-rmse:2.050848\n"
       ]
      },
      {
       "output_type": "stream",
       "stream": "stderr",
       "text": [
        "[2273]\ttrain-rmse:1.381930\tval-rmse:2.050332\n",
        "[2274]\ttrain-rmse:1.381507\tval-rmse:2.050082\n"
       ]
      },
      {
       "output_type": "stream",
       "stream": "stderr",
       "text": [
        "[2275]\ttrain-rmse:1.381146\tval-rmse:2.049873\n",
        "[2276]\ttrain-rmse:1.380338\tval-rmse:2.049370\n"
       ]
      },
      {
       "output_type": "stream",
       "stream": "stderr",
       "text": [
        "[2277]\ttrain-rmse:1.379940\tval-rmse:2.049178\n",
        "[2278]\ttrain-rmse:1.379271\tval-rmse:2.048700\n"
       ]
      },
      {
       "output_type": "stream",
       "stream": "stderr",
       "text": [
        "[2279]\ttrain-rmse:1.378652\tval-rmse:2.048330\n",
        "[2280]\ttrain-rmse:1.378382\tval-rmse:2.048191\n"
       ]
      },
      {
       "output_type": "stream",
       "stream": "stderr",
       "text": [
        "[2281]\ttrain-rmse:1.377728\tval-rmse:2.047749\n",
        "[2282]\ttrain-rmse:1.377362\tval-rmse:2.047555\n"
       ]
      },
      {
       "output_type": "stream",
       "stream": "stderr",
       "text": [
        "[2283]\ttrain-rmse:1.377113\tval-rmse:2.047422\n",
        "[2284]\ttrain-rmse:1.376623\tval-rmse:2.047115\n"
       ]
      },
      {
       "output_type": "stream",
       "stream": "stderr",
       "text": [
        "[2285]\ttrain-rmse:1.375813\tval-rmse:2.046584\n",
        "[2286]\ttrain-rmse:1.375458\tval-rmse:2.046360\n"
       ]
      },
      {
       "output_type": "stream",
       "stream": "stderr",
       "text": [
        "[2287]\ttrain-rmse:1.375040\tval-rmse:2.046117\n",
        "[2288]\ttrain-rmse:1.374339\tval-rmse:2.045749\n"
       ]
      },
      {
       "output_type": "stream",
       "stream": "stderr",
       "text": [
        "[2289]\ttrain-rmse:1.373842\tval-rmse:2.045427\n",
        "[2290]\ttrain-rmse:1.373519\tval-rmse:2.045237\n"
       ]
      },
      {
       "output_type": "stream",
       "stream": "stderr",
       "text": [
        "[2291]\ttrain-rmse:1.373075\tval-rmse:2.045033\n",
        "[2292]\ttrain-rmse:1.372719\tval-rmse:2.044825\n"
       ]
      },
      {
       "output_type": "stream",
       "stream": "stderr",
       "text": [
        "[2293]\ttrain-rmse:1.372334\tval-rmse:2.044578\n",
        "[2294]\ttrain-rmse:1.371938\tval-rmse:2.044360\n"
       ]
      },
      {
       "output_type": "stream",
       "stream": "stderr",
       "text": [
        "[2295]\ttrain-rmse:1.371395\tval-rmse:2.044099\n",
        "[2296]\ttrain-rmse:1.370636\tval-rmse:2.043576\n"
       ]
      },
      {
       "output_type": "stream",
       "stream": "stderr",
       "text": [
        "[2297]\ttrain-rmse:1.370406\tval-rmse:2.043441\n",
        "[2298]\ttrain-rmse:1.369865\tval-rmse:2.043117\n"
       ]
      },
      {
       "output_type": "stream",
       "stream": "stderr",
       "text": [
        "[2299]\ttrain-rmse:1.369257\tval-rmse:2.042732\n",
        "[2300]\ttrain-rmse:1.368558\tval-rmse:2.042317\n"
       ]
      },
      {
       "output_type": "stream",
       "stream": "stderr",
       "text": [
        "[2301]\ttrain-rmse:1.368019\tval-rmse:2.041989\n",
        "[2302]\ttrain-rmse:1.367845\tval-rmse:2.041897\n"
       ]
      },
      {
       "output_type": "stream",
       "stream": "stderr",
       "text": [
        "[2303]\ttrain-rmse:1.367395\tval-rmse:2.041608\n",
        "[2304]\ttrain-rmse:1.367064\tval-rmse:2.041466\n"
       ]
      },
      {
       "output_type": "stream",
       "stream": "stderr",
       "text": [
        "[2305]\ttrain-rmse:1.366599\tval-rmse:2.041140\n",
        "[2306]\ttrain-rmse:1.366399\tval-rmse:2.041008\n"
       ]
      },
      {
       "output_type": "stream",
       "stream": "stderr",
       "text": [
        "[2307]\ttrain-rmse:1.366214\tval-rmse:2.040910\n",
        "[2308]\ttrain-rmse:1.365859\tval-rmse:2.040720\n"
       ]
      },
      {
       "output_type": "stream",
       "stream": "stderr",
       "text": [
        "[2309]\ttrain-rmse:1.365361\tval-rmse:2.040447\n",
        "[2310]\ttrain-rmse:1.364958\tval-rmse:2.040198\n"
       ]
      },
      {
       "output_type": "stream",
       "stream": "stderr",
       "text": [
        "[2311]\ttrain-rmse:1.364861\tval-rmse:2.040125\n",
        "[2312]\ttrain-rmse:1.363952\tval-rmse:2.039662\n"
       ]
      },
      {
       "output_type": "stream",
       "stream": "stderr",
       "text": [
        "[2313]\ttrain-rmse:1.363287\tval-rmse:2.039242\n",
        "[2314]\ttrain-rmse:1.363106\tval-rmse:2.039103\n"
       ]
      },
      {
       "output_type": "stream",
       "stream": "stderr",
       "text": [
        "[2315]\ttrain-rmse:1.362716\tval-rmse:2.038837\n",
        "[2316]\ttrain-rmse:1.362416\tval-rmse:2.038677\n"
       ]
      },
      {
       "output_type": "stream",
       "stream": "stderr",
       "text": [
        "[2317]\ttrain-rmse:1.362055\tval-rmse:2.038440\n",
        "[2318]\ttrain-rmse:1.361497\tval-rmse:2.038076\n"
       ]
      },
      {
       "output_type": "stream",
       "stream": "stderr",
       "text": [
        "[2319]\ttrain-rmse:1.361165\tval-rmse:2.037874\n",
        "[2320]\ttrain-rmse:1.360889\tval-rmse:2.037722\n"
       ]
      },
      {
       "output_type": "stream",
       "stream": "stderr",
       "text": [
        "[2321]\ttrain-rmse:1.360260\tval-rmse:2.037400\n",
        "[2322]\ttrain-rmse:1.360037\tval-rmse:2.037287\n"
       ]
      },
      {
       "output_type": "stream",
       "stream": "stderr",
       "text": [
        "[2323]\ttrain-rmse:1.359887\tval-rmse:2.037167\n",
        "[2324]\ttrain-rmse:1.359486\tval-rmse:2.036866\n"
       ]
      },
      {
       "output_type": "stream",
       "stream": "stderr",
       "text": [
        "[2325]\ttrain-rmse:1.359142\tval-rmse:2.036684\n",
        "[2326]\ttrain-rmse:1.358453\tval-rmse:2.036378\n"
       ]
      },
      {
       "output_type": "stream",
       "stream": "stderr",
       "text": [
        "[2327]\ttrain-rmse:1.357878\tval-rmse:2.036085\n",
        "[2328]\ttrain-rmse:1.357584\tval-rmse:2.035878\n"
       ]
      },
      {
       "output_type": "stream",
       "stream": "stderr",
       "text": [
        "[2329]\ttrain-rmse:1.357404\tval-rmse:2.035744\n",
        "[2330]\ttrain-rmse:1.356867\tval-rmse:2.035430\n"
       ]
      },
      {
       "output_type": "stream",
       "stream": "stderr",
       "text": [
        "[2331]\ttrain-rmse:1.356458\tval-rmse:2.035255\n",
        "[2332]\ttrain-rmse:1.356008\tval-rmse:2.034974\n"
       ]
      },
      {
       "output_type": "stream",
       "stream": "stderr",
       "text": [
        "[2333]\ttrain-rmse:1.355552\tval-rmse:2.034738\n",
        "[2334]\ttrain-rmse:1.355174\tval-rmse:2.034496\n"
       ]
      },
      {
       "output_type": "stream",
       "stream": "stderr",
       "text": [
        "[2335]\ttrain-rmse:1.355011\tval-rmse:2.034366\n",
        "[2336]\ttrain-rmse:1.354234\tval-rmse:2.033898\n"
       ]
      },
      {
       "output_type": "stream",
       "stream": "stderr",
       "text": [
        "[2337]\ttrain-rmse:1.353837\tval-rmse:2.033652\n",
        "[2338]\ttrain-rmse:1.353400\tval-rmse:2.033343\n"
       ]
      },
      {
       "output_type": "stream",
       "stream": "stderr",
       "text": [
        "[2339]\ttrain-rmse:1.352805\tval-rmse:2.033062\n",
        "[2340]\ttrain-rmse:1.352224\tval-rmse:2.032768\n"
       ]
      },
      {
       "output_type": "stream",
       "stream": "stderr",
       "text": [
        "[2341]\ttrain-rmse:1.351462\tval-rmse:2.032337\n",
        "[2342]\ttrain-rmse:1.350701\tval-rmse:2.031888\n"
       ]
      },
      {
       "output_type": "stream",
       "stream": "stderr",
       "text": [
        "[2343]\ttrain-rmse:1.349693\tval-rmse:2.031280\n",
        "[2344]\ttrain-rmse:1.349345\tval-rmse:2.031054\n"
       ]
      },
      {
       "output_type": "stream",
       "stream": "stderr",
       "text": [
        "[2345]\ttrain-rmse:1.348859\tval-rmse:2.030726\n",
        "[2346]\ttrain-rmse:1.348332\tval-rmse:2.030400\n"
       ]
      },
      {
       "output_type": "stream",
       "stream": "stderr",
       "text": [
        "[2347]\ttrain-rmse:1.347948\tval-rmse:2.030139\n",
        "[2348]\ttrain-rmse:1.347367\tval-rmse:2.029757\n"
       ]
      },
      {
       "output_type": "stream",
       "stream": "stderr",
       "text": [
        "[2349]\ttrain-rmse:1.346744\tval-rmse:2.029347\n",
        "[2350]\ttrain-rmse:1.345949\tval-rmse:2.028915\n"
       ]
      },
      {
       "output_type": "stream",
       "stream": "stderr",
       "text": [
        "[2351]\ttrain-rmse:1.345693\tval-rmse:2.028765\n",
        "[2352]\ttrain-rmse:1.345265\tval-rmse:2.028535\n"
       ]
      },
      {
       "output_type": "stream",
       "stream": "stderr",
       "text": [
        "[2353]\ttrain-rmse:1.344869\tval-rmse:2.028301\n",
        "[2354]\ttrain-rmse:1.344546\tval-rmse:2.028121\n"
       ]
      },
      {
       "output_type": "stream",
       "stream": "stderr",
       "text": [
        "[2355]\ttrain-rmse:1.344423\tval-rmse:2.028058\n",
        "[2356]\ttrain-rmse:1.344198\tval-rmse:2.027950\n"
       ]
      },
      {
       "output_type": "stream",
       "stream": "stderr",
       "text": [
        "[2357]\ttrain-rmse:1.343973\tval-rmse:2.027816\n",
        "[2358]\ttrain-rmse:1.343445\tval-rmse:2.027439\n"
       ]
      },
      {
       "output_type": "stream",
       "stream": "stderr",
       "text": [
        "[2359]\ttrain-rmse:1.342878\tval-rmse:2.027128\n",
        "[2360]\ttrain-rmse:1.342711\tval-rmse:2.027033\n"
       ]
      },
      {
       "output_type": "stream",
       "stream": "stderr",
       "text": [
        "[2361]\ttrain-rmse:1.342340\tval-rmse:2.026873\n",
        "[2362]\ttrain-rmse:1.342180\tval-rmse:2.026764\n"
       ]
      },
      {
       "output_type": "stream",
       "stream": "stderr",
       "text": [
        "[2363]\ttrain-rmse:1.341662\tval-rmse:2.026447\n",
        "[2364]\ttrain-rmse:1.341473\tval-rmse:2.026289\n"
       ]
      },
      {
       "output_type": "stream",
       "stream": "stderr",
       "text": [
        "[2365]\ttrain-rmse:1.341044\tval-rmse:2.026058\n",
        "[2366]\ttrain-rmse:1.340733\tval-rmse:2.025877\n"
       ]
      },
      {
       "output_type": "stream",
       "stream": "stderr",
       "text": [
        "[2367]\ttrain-rmse:1.340410\tval-rmse:2.025624\n",
        "[2368]\ttrain-rmse:1.340168\tval-rmse:2.025460\n"
       ]
      },
      {
       "output_type": "stream",
       "stream": "stderr",
       "text": [
        "[2369]\ttrain-rmse:1.339947\tval-rmse:2.025329\n",
        "[2370]\ttrain-rmse:1.339712\tval-rmse:2.025212\n"
       ]
      },
      {
       "output_type": "stream",
       "stream": "stderr",
       "text": [
        "[2371]\ttrain-rmse:1.339330\tval-rmse:2.024997\n",
        "[2372]\ttrain-rmse:1.339080\tval-rmse:2.024906\n"
       ]
      },
      {
       "output_type": "stream",
       "stream": "stderr",
       "text": [
        "[2373]\ttrain-rmse:1.338887\tval-rmse:2.024817\n",
        "[2374]\ttrain-rmse:1.338223\tval-rmse:2.024488\n"
       ]
      },
      {
       "output_type": "stream",
       "stream": "stderr",
       "text": [
        "[2375]\ttrain-rmse:1.337793\tval-rmse:2.024223\n",
        "[2376]\ttrain-rmse:1.337299\tval-rmse:2.023966\n"
       ]
      },
      {
       "output_type": "stream",
       "stream": "stderr",
       "text": [
        "[2377]\ttrain-rmse:1.336819\tval-rmse:2.023627\n",
        "[2378]\ttrain-rmse:1.336021\tval-rmse:2.023287\n"
       ]
      },
      {
       "output_type": "stream",
       "stream": "stderr",
       "text": [
        "[2379]\ttrain-rmse:1.335713\tval-rmse:2.023117\n",
        "[2380]\ttrain-rmse:1.335538\tval-rmse:2.023033\n"
       ]
      },
      {
       "output_type": "stream",
       "stream": "stderr",
       "text": [
        "[2381]\ttrain-rmse:1.335032\tval-rmse:2.022746\n",
        "[2382]\ttrain-rmse:1.334387\tval-rmse:2.022346\n"
       ]
      },
      {
       "output_type": "stream",
       "stream": "stderr",
       "text": [
        "[2383]\ttrain-rmse:1.334133\tval-rmse:2.022172\n",
        "[2384]\ttrain-rmse:1.333706\tval-rmse:2.021920\n"
       ]
      },
      {
       "output_type": "stream",
       "stream": "stderr",
       "text": [
        "[2385]\ttrain-rmse:1.333498\tval-rmse:2.021795\n",
        "[2386]\ttrain-rmse:1.333067\tval-rmse:2.021550\n"
       ]
      },
      {
       "output_type": "stream",
       "stream": "stderr",
       "text": [
        "[2387]\ttrain-rmse:1.332818\tval-rmse:2.021386\n",
        "[2388]\ttrain-rmse:1.332480\tval-rmse:2.021175\n"
       ]
      },
      {
       "output_type": "stream",
       "stream": "stderr",
       "text": [
        "[2389]\ttrain-rmse:1.331649\tval-rmse:2.020677\n",
        "[2390]\ttrain-rmse:1.331100\tval-rmse:2.020371\n"
       ]
      },
      {
       "output_type": "stream",
       "stream": "stderr",
       "text": [
        "[2391]\ttrain-rmse:1.330823\tval-rmse:2.020212\n",
        "[2392]\ttrain-rmse:1.330597\tval-rmse:2.020082\n"
       ]
      },
      {
       "output_type": "stream",
       "stream": "stderr",
       "text": [
        "[2393]\ttrain-rmse:1.330121\tval-rmse:2.019806\n",
        "[2394]\ttrain-rmse:1.329495\tval-rmse:2.019437\n"
       ]
      },
      {
       "output_type": "stream",
       "stream": "stderr",
       "text": [
        "[2395]\ttrain-rmse:1.329298\tval-rmse:2.019332\n",
        "[2396]\ttrain-rmse:1.329144\tval-rmse:2.019263\n"
       ]
      },
      {
       "output_type": "stream",
       "stream": "stderr",
       "text": [
        "[2397]\ttrain-rmse:1.328181\tval-rmse:2.018676\n",
        "[2398]\ttrain-rmse:1.327708\tval-rmse:2.018363\n"
       ]
      },
      {
       "output_type": "stream",
       "stream": "stderr",
       "text": [
        "[2399]\ttrain-rmse:1.327086\tval-rmse:2.018040\n",
        "[2400]\ttrain-rmse:1.326751\tval-rmse:2.017791\n"
       ]
      },
      {
       "output_type": "stream",
       "stream": "stderr",
       "text": [
        "[2401]\ttrain-rmse:1.325987\tval-rmse:2.017291\n",
        "[2402]\ttrain-rmse:1.325791\tval-rmse:2.017138\n"
       ]
      },
      {
       "output_type": "stream",
       "stream": "stderr",
       "text": [
        "[2403]\ttrain-rmse:1.325554\tval-rmse:2.016979\n",
        "[2404]\ttrain-rmse:1.324920\tval-rmse:2.016621\n"
       ]
      },
      {
       "output_type": "stream",
       "stream": "stderr",
       "text": [
        "[2405]\ttrain-rmse:1.324277\tval-rmse:2.016271\n",
        "[2406]\ttrain-rmse:1.323884\tval-rmse:2.016068\n"
       ]
      },
      {
       "output_type": "stream",
       "stream": "stderr",
       "text": [
        "[2407]\ttrain-rmse:1.323151\tval-rmse:2.015661\n",
        "[2408]\ttrain-rmse:1.322879\tval-rmse:2.015502\n"
       ]
      },
      {
       "output_type": "stream",
       "stream": "stderr",
       "text": [
        "[2409]\ttrain-rmse:1.322714\tval-rmse:2.015381\n",
        "[2410]\ttrain-rmse:1.321937\tval-rmse:2.014955\n"
       ]
      },
      {
       "output_type": "stream",
       "stream": "stderr",
       "text": [
        "[2411]\ttrain-rmse:1.321672\tval-rmse:2.014819\n",
        "[2412]\ttrain-rmse:1.321278\tval-rmse:2.014606\n"
       ]
      },
      {
       "output_type": "stream",
       "stream": "stderr",
       "text": [
        "[2413]\ttrain-rmse:1.320843\tval-rmse:2.014344\n",
        "[2414]\ttrain-rmse:1.320641\tval-rmse:2.014272\n"
       ]
      },
      {
       "output_type": "stream",
       "stream": "stderr",
       "text": [
        "[2415]\ttrain-rmse:1.319899\tval-rmse:2.013846\n",
        "[2416]\ttrain-rmse:1.319165\tval-rmse:2.013438\n"
       ]
      },
      {
       "output_type": "stream",
       "stream": "stderr",
       "text": [
        "[2417]\ttrain-rmse:1.318958\tval-rmse:2.013305\n",
        "[2418]\ttrain-rmse:1.318758\tval-rmse:2.013199\n"
       ]
      },
      {
       "output_type": "stream",
       "stream": "stderr",
       "text": [
        "[2419]\ttrain-rmse:1.318605\tval-rmse:2.013112\n",
        "[2420]\ttrain-rmse:1.318249\tval-rmse:2.012884\n"
       ]
      },
      {
       "output_type": "stream",
       "stream": "stderr",
       "text": [
        "[2421]\ttrain-rmse:1.318073\tval-rmse:2.012788\n",
        "[2422]\ttrain-rmse:1.317707\tval-rmse:2.012601\n"
       ]
      },
      {
       "output_type": "stream",
       "stream": "stderr",
       "text": [
        "[2423]\ttrain-rmse:1.317349\tval-rmse:2.012356\n",
        "[2424]\ttrain-rmse:1.317189\tval-rmse:2.012262\n"
       ]
      },
      {
       "output_type": "stream",
       "stream": "stderr",
       "text": [
        "[2425]\ttrain-rmse:1.316651\tval-rmse:2.011911\n",
        "[2426]\ttrain-rmse:1.316496\tval-rmse:2.011810\n"
       ]
      },
      {
       "output_type": "stream",
       "stream": "stderr",
       "text": [
        "[2427]\ttrain-rmse:1.316217\tval-rmse:2.011705\n",
        "[2428]\ttrain-rmse:1.315669\tval-rmse:2.011361\n"
       ]
      },
      {
       "output_type": "stream",
       "stream": "stderr",
       "text": [
        "[2429]\ttrain-rmse:1.314893\tval-rmse:2.010922\n",
        "[2430]\ttrain-rmse:1.314655\tval-rmse:2.010778\n"
       ]
      },
      {
       "output_type": "stream",
       "stream": "stderr",
       "text": [
        "[2431]\ttrain-rmse:1.314287\tval-rmse:2.010595\n",
        "[2432]\ttrain-rmse:1.313939\tval-rmse:2.010402\n"
       ]
      },
      {
       "output_type": "stream",
       "stream": "stderr",
       "text": [
        "[2433]\ttrain-rmse:1.313699\tval-rmse:2.010278\n",
        "[2434]\ttrain-rmse:1.312609\tval-rmse:2.009784\n"
       ]
      },
      {
       "output_type": "stream",
       "stream": "stderr",
       "text": [
        "[2435]\ttrain-rmse:1.312308\tval-rmse:2.009572\n",
        "[2436]\ttrain-rmse:1.311900\tval-rmse:2.009293\n"
       ]
      },
      {
       "output_type": "stream",
       "stream": "stderr",
       "text": [
        "[2437]\ttrain-rmse:1.311801\tval-rmse:2.009238\n",
        "[2438]\ttrain-rmse:1.311120\tval-rmse:2.008876\n"
       ]
      },
      {
       "output_type": "stream",
       "stream": "stderr",
       "text": [
        "[2439]\ttrain-rmse:1.310955\tval-rmse:2.008761\n",
        "[2440]\ttrain-rmse:1.310397\tval-rmse:2.008480\n"
       ]
      },
      {
       "output_type": "stream",
       "stream": "stderr",
       "text": [
        "[2441]\ttrain-rmse:1.310056\tval-rmse:2.008298\n",
        "[2442]\ttrain-rmse:1.309836\tval-rmse:2.008155\n"
       ]
      },
      {
       "output_type": "stream",
       "stream": "stderr",
       "text": [
        "[2443]\ttrain-rmse:1.309415\tval-rmse:2.007933\n",
        "[2444]\ttrain-rmse:1.308720\tval-rmse:2.007603\n"
       ]
      },
      {
       "output_type": "stream",
       "stream": "stderr",
       "text": [
        "[2445]\ttrain-rmse:1.308282\tval-rmse:2.007374\n",
        "[2446]\ttrain-rmse:1.307949\tval-rmse:2.007110\n"
       ]
      },
      {
       "output_type": "stream",
       "stream": "stderr",
       "text": [
        "[2447]\ttrain-rmse:1.307526\tval-rmse:2.006879\n",
        "[2448]\ttrain-rmse:1.306825\tval-rmse:2.006454\n"
       ]
      },
      {
       "output_type": "stream",
       "stream": "stderr",
       "text": [
        "[2449]\ttrain-rmse:1.306601\tval-rmse:2.006333\n",
        "[2450]\ttrain-rmse:1.305847\tval-rmse:2.005893\n"
       ]
      },
      {
       "output_type": "stream",
       "stream": "stderr",
       "text": [
        "[2451]\ttrain-rmse:1.305226\tval-rmse:2.005558\n",
        "[2452]\ttrain-rmse:1.304593\tval-rmse:2.005216\n"
       ]
      },
      {
       "output_type": "stream",
       "stream": "stderr",
       "text": [
        "[2453]\ttrain-rmse:1.304043\tval-rmse:2.004947\n",
        "[2454]\ttrain-rmse:1.303635\tval-rmse:2.004658\n"
       ]
      },
      {
       "output_type": "stream",
       "stream": "stderr",
       "text": [
        "[2455]\ttrain-rmse:1.302814\tval-rmse:2.004199\n",
        "[2456]\ttrain-rmse:1.302278\tval-rmse:2.003934\n"
       ]
      },
      {
       "output_type": "stream",
       "stream": "stderr",
       "text": [
        "[2457]\ttrain-rmse:1.301519\tval-rmse:2.003466\n",
        "[2458]\ttrain-rmse:1.301149\tval-rmse:2.003282\n"
       ]
      },
      {
       "output_type": "stream",
       "stream": "stderr",
       "text": [
        "[2459]\ttrain-rmse:1.300834\tval-rmse:2.003158\n",
        "[2460]\ttrain-rmse:1.300668\tval-rmse:2.003062\n"
       ]
      },
      {
       "output_type": "stream",
       "stream": "stderr",
       "text": [
        "[2461]\ttrain-rmse:1.300335\tval-rmse:2.002908\n",
        "[2462]\ttrain-rmse:1.299905\tval-rmse:2.002674\n"
       ]
      },
      {
       "output_type": "stream",
       "stream": "stderr",
       "text": [
        "[2463]\ttrain-rmse:1.299356\tval-rmse:2.002425\n",
        "[2464]\ttrain-rmse:1.298784\tval-rmse:2.002057\n"
       ]
      },
      {
       "output_type": "stream",
       "stream": "stderr",
       "text": [
        "[2465]\ttrain-rmse:1.298518\tval-rmse:2.001931\n",
        "[2466]\ttrain-rmse:1.298230\tval-rmse:2.001752\n"
       ]
      },
      {
       "output_type": "stream",
       "stream": "stderr",
       "text": [
        "[2467]\ttrain-rmse:1.297915\tval-rmse:2.001627\n",
        "[2468]\ttrain-rmse:1.297245\tval-rmse:2.001277\n"
       ]
      },
      {
       "output_type": "stream",
       "stream": "stderr",
       "text": [
        "[2469]\ttrain-rmse:1.296371\tval-rmse:2.000849\n",
        "[2470]\ttrain-rmse:1.295709\tval-rmse:2.000473\n"
       ]
      },
      {
       "output_type": "stream",
       "stream": "stderr",
       "text": [
        "[2471]\ttrain-rmse:1.295462\tval-rmse:2.000341\n",
        "[2472]\ttrain-rmse:1.294907\tval-rmse:1.999980\n"
       ]
      },
      {
       "output_type": "stream",
       "stream": "stderr",
       "text": [
        "[2473]\ttrain-rmse:1.294735\tval-rmse:1.999833\n",
        "[2474]\ttrain-rmse:1.294367\tval-rmse:1.999617\n"
       ]
      },
      {
       "output_type": "stream",
       "stream": "stderr",
       "text": [
        "[2475]\ttrain-rmse:1.293864\tval-rmse:1.999333\n",
        "[2476]\ttrain-rmse:1.293389\tval-rmse:1.999078\n"
       ]
      },
      {
       "output_type": "stream",
       "stream": "stderr",
       "text": [
        "[2477]\ttrain-rmse:1.293153\tval-rmse:1.998926\n",
        "[2478]\ttrain-rmse:1.292920\tval-rmse:1.998759\n"
       ]
      },
      {
       "output_type": "stream",
       "stream": "stderr",
       "text": [
        "[2479]\ttrain-rmse:1.292481\tval-rmse:1.998522\n",
        "[2480]\ttrain-rmse:1.292091\tval-rmse:1.998278\n"
       ]
      },
      {
       "output_type": "stream",
       "stream": "stderr",
       "text": [
        "[2481]\ttrain-rmse:1.291742\tval-rmse:1.998105\n",
        "[2482]\ttrain-rmse:1.291412\tval-rmse:1.997939\n"
       ]
      },
      {
       "output_type": "stream",
       "stream": "stderr",
       "text": [
        "[2483]\ttrain-rmse:1.290677\tval-rmse:1.997559\n",
        "[2484]\ttrain-rmse:1.290485\tval-rmse:1.997455\n"
       ]
      },
      {
       "output_type": "stream",
       "stream": "stderr",
       "text": [
        "[2485]\ttrain-rmse:1.290298\tval-rmse:1.997342\n",
        "[2486]\ttrain-rmse:1.289948\tval-rmse:1.997181\n"
       ]
      },
      {
       "output_type": "stream",
       "stream": "stderr",
       "text": [
        "[2487]\ttrain-rmse:1.289242\tval-rmse:1.996766\n",
        "[2488]\ttrain-rmse:1.288811\tval-rmse:1.996558\n"
       ]
      },
      {
       "output_type": "stream",
       "stream": "stderr",
       "text": [
        "[2489]\ttrain-rmse:1.288110\tval-rmse:1.996137\n",
        "[2490]\ttrain-rmse:1.287931\tval-rmse:1.996049\n"
       ]
      },
      {
       "output_type": "stream",
       "stream": "stderr",
       "text": [
        "[2491]\ttrain-rmse:1.287108\tval-rmse:1.995622\n",
        "[2492]\ttrain-rmse:1.286895\tval-rmse:1.995488\n"
       ]
      },
      {
       "output_type": "stream",
       "stream": "stderr",
       "text": [
        "[2493]\ttrain-rmse:1.286280\tval-rmse:1.995190\n",
        "[2494]\ttrain-rmse:1.285788\tval-rmse:1.994942\n"
       ]
      },
      {
       "output_type": "stream",
       "stream": "stderr",
       "text": [
        "[2495]\ttrain-rmse:1.285457\tval-rmse:1.994771\n",
        "[2496]\ttrain-rmse:1.285262\tval-rmse:1.994644\n"
       ]
      },
      {
       "output_type": "stream",
       "stream": "stderr",
       "text": [
        "[2497]\ttrain-rmse:1.285042\tval-rmse:1.994535\n",
        "[2498]\ttrain-rmse:1.284913\tval-rmse:1.994458\n"
       ]
      },
      {
       "output_type": "stream",
       "stream": "stderr",
       "text": [
        "[2499]\ttrain-rmse:1.284813\tval-rmse:1.994399\n",
        "[2500]\ttrain-rmse:1.284664\tval-rmse:1.994314\n"
       ]
      },
      {
       "output_type": "stream",
       "stream": "stderr",
       "text": [
        "[2501]\ttrain-rmse:1.284318\tval-rmse:1.994129\n",
        "[2502]\ttrain-rmse:1.283872\tval-rmse:1.993928\n"
       ]
      },
      {
       "output_type": "stream",
       "stream": "stderr",
       "text": [
        "[2503]\ttrain-rmse:1.283112\tval-rmse:1.993554\n",
        "[2504]\ttrain-rmse:1.282839\tval-rmse:1.993396\n"
       ]
      },
      {
       "output_type": "stream",
       "stream": "stderr",
       "text": [
        "[2505]\ttrain-rmse:1.282135\tval-rmse:1.992983\n",
        "[2506]\ttrain-rmse:1.281621\tval-rmse:1.992656\n"
       ]
      },
      {
       "output_type": "stream",
       "stream": "stderr",
       "text": [
        "[2507]\ttrain-rmse:1.281239\tval-rmse:1.992423\n",
        "[2508]\ttrain-rmse:1.280977\tval-rmse:1.992272\n"
       ]
      },
      {
       "output_type": "stream",
       "stream": "stderr",
       "text": [
        "[2509]\ttrain-rmse:1.280791\tval-rmse:1.992148\n",
        "[2510]\ttrain-rmse:1.280491\tval-rmse:1.991959\n"
       ]
      },
      {
       "output_type": "stream",
       "stream": "stderr",
       "text": [
        "[2511]\ttrain-rmse:1.280087\tval-rmse:1.991736\n",
        "[2512]\ttrain-rmse:1.279501\tval-rmse:1.991420\n"
       ]
      },
      {
       "output_type": "stream",
       "stream": "stderr",
       "text": [
        "[2513]\ttrain-rmse:1.278889\tval-rmse:1.991109\n",
        "[2514]\ttrain-rmse:1.278605\tval-rmse:1.990933\n"
       ]
      },
      {
       "output_type": "stream",
       "stream": "stderr",
       "text": [
        "[2515]\ttrain-rmse:1.277844\tval-rmse:1.990378\n",
        "[2516]\ttrain-rmse:1.277606\tval-rmse:1.990230\n"
       ]
      },
      {
       "output_type": "stream",
       "stream": "stderr",
       "text": [
        "[2517]\ttrain-rmse:1.277361\tval-rmse:1.990082\n",
        "[2518]\ttrain-rmse:1.277029\tval-rmse:1.989882\n"
       ]
      },
      {
       "output_type": "stream",
       "stream": "stderr",
       "text": [
        "[2519]\ttrain-rmse:1.276840\tval-rmse:1.989800\n",
        "[2520]\ttrain-rmse:1.276656\tval-rmse:1.989700\n"
       ]
      },
      {
       "output_type": "stream",
       "stream": "stderr",
       "text": [
        "[2521]\ttrain-rmse:1.275996\tval-rmse:1.989315\n",
        "[2522]\ttrain-rmse:1.275526\tval-rmse:1.989056\n"
       ]
      },
      {
       "output_type": "stream",
       "stream": "stderr",
       "text": [
        "[2523]\ttrain-rmse:1.275264\tval-rmse:1.988903\n",
        "[2524]\ttrain-rmse:1.274905\tval-rmse:1.988681\n"
       ]
      },
      {
       "output_type": "stream",
       "stream": "stderr",
       "text": [
        "[2525]\ttrain-rmse:1.274696\tval-rmse:1.988584\n",
        "[2526]\ttrain-rmse:1.274345\tval-rmse:1.988334\n"
       ]
      },
      {
       "output_type": "stream",
       "stream": "stderr",
       "text": [
        "[2527]\ttrain-rmse:1.273909\tval-rmse:1.988104\n",
        "[2528]\ttrain-rmse:1.273450\tval-rmse:1.987808\n"
       ]
      },
      {
       "output_type": "stream",
       "stream": "stderr",
       "text": [
        "[2529]\ttrain-rmse:1.273083\tval-rmse:1.987580\n",
        "[2530]\ttrain-rmse:1.272826\tval-rmse:1.987475\n"
       ]
      },
      {
       "output_type": "stream",
       "stream": "stderr",
       "text": [
        "[2531]\ttrain-rmse:1.272389\tval-rmse:1.987233\n",
        "[2532]\ttrain-rmse:1.272109\tval-rmse:1.987075\n"
       ]
      },
      {
       "output_type": "stream",
       "stream": "stderr",
       "text": [
        "[2533]\ttrain-rmse:1.271473\tval-rmse:1.986619\n",
        "[2534]\ttrain-rmse:1.271270\tval-rmse:1.986501\n"
       ]
      },
      {
       "output_type": "stream",
       "stream": "stderr",
       "text": [
        "[2535]\ttrain-rmse:1.270927\tval-rmse:1.986296\n",
        "[2536]\ttrain-rmse:1.270766\tval-rmse:1.986208\n"
       ]
      },
      {
       "output_type": "stream",
       "stream": "stderr",
       "text": [
        "[2537]\ttrain-rmse:1.270533\tval-rmse:1.986061\n",
        "[2538]\ttrain-rmse:1.270157\tval-rmse:1.985837\n"
       ]
      },
      {
       "output_type": "stream",
       "stream": "stderr",
       "text": [
        "[2539]\ttrain-rmse:1.269954\tval-rmse:1.985725\n",
        "[2540]\ttrain-rmse:1.269553\tval-rmse:1.985490\n"
       ]
      },
      {
       "output_type": "stream",
       "stream": "stderr",
       "text": [
        "[2541]\ttrain-rmse:1.269312\tval-rmse:1.985318\n",
        "[2542]\ttrain-rmse:1.269128\tval-rmse:1.985220\n"
       ]
      },
      {
       "output_type": "stream",
       "stream": "stderr",
       "text": [
        "[2543]\ttrain-rmse:1.268805\tval-rmse:1.985044\n",
        "[2544]\ttrain-rmse:1.268694\tval-rmse:1.984971\n"
       ]
      },
      {
       "output_type": "stream",
       "stream": "stderr",
       "text": [
        "[2545]\ttrain-rmse:1.268355\tval-rmse:1.984796\n",
        "[2546]\ttrain-rmse:1.267959\tval-rmse:1.984537\n"
       ]
      },
      {
       "output_type": "stream",
       "stream": "stderr",
       "text": [
        "[2547]\ttrain-rmse:1.267681\tval-rmse:1.984413\n",
        "[2548]\ttrain-rmse:1.267360\tval-rmse:1.984253\n"
       ]
      },
      {
       "output_type": "stream",
       "stream": "stderr",
       "text": [
        "[2549]\ttrain-rmse:1.266830\tval-rmse:1.983954\n",
        "[2550]\ttrain-rmse:1.266593\tval-rmse:1.983827\n"
       ]
      },
      {
       "output_type": "stream",
       "stream": "stderr",
       "text": [
        "[2551]\ttrain-rmse:1.266275\tval-rmse:1.983702\n",
        "[2552]\ttrain-rmse:1.265871\tval-rmse:1.983518\n"
       ]
      },
      {
       "output_type": "stream",
       "stream": "stderr",
       "text": [
        "[2553]\ttrain-rmse:1.265561\tval-rmse:1.983355\n",
        "[2554]\ttrain-rmse:1.264790\tval-rmse:1.982991\n"
       ]
      },
      {
       "output_type": "stream",
       "stream": "stderr",
       "text": [
        "[2555]\ttrain-rmse:1.264440\tval-rmse:1.982813\n",
        "[2556]\ttrain-rmse:1.264105\tval-rmse:1.982605\n"
       ]
      },
      {
       "output_type": "stream",
       "stream": "stderr",
       "text": [
        "[2557]\ttrain-rmse:1.263845\tval-rmse:1.982450\n",
        "[2558]\ttrain-rmse:1.263630\tval-rmse:1.982325\n"
       ]
      },
      {
       "output_type": "stream",
       "stream": "stderr",
       "text": [
        "[2559]\ttrain-rmse:1.263077\tval-rmse:1.982018\n",
        "[2560]\ttrain-rmse:1.262248\tval-rmse:1.981532\n"
       ]
      },
      {
       "output_type": "stream",
       "stream": "stderr",
       "text": [
        "[2561]\ttrain-rmse:1.262128\tval-rmse:1.981424\n",
        "[2562]\ttrain-rmse:1.261715\tval-rmse:1.981243\n"
       ]
      },
      {
       "output_type": "stream",
       "stream": "stderr",
       "text": [
        "[2563]\ttrain-rmse:1.261442\tval-rmse:1.981097\n",
        "[2564]\ttrain-rmse:1.261323\tval-rmse:1.981038\n"
       ]
      },
      {
       "output_type": "stream",
       "stream": "stderr",
       "text": [
        "[2565]\ttrain-rmse:1.260954\tval-rmse:1.980843\n",
        "[2566]\ttrain-rmse:1.260592\tval-rmse:1.980605\n"
       ]
      },
      {
       "output_type": "stream",
       "stream": "stderr",
       "text": [
        "[2567]\ttrain-rmse:1.259999\tval-rmse:1.980279\n",
        "[2568]\ttrain-rmse:1.259642\tval-rmse:1.980090\n"
       ]
      },
      {
       "output_type": "stream",
       "stream": "stderr",
       "text": [
        "[2569]\ttrain-rmse:1.258784\tval-rmse:1.979624\n",
        "[2570]\ttrain-rmse:1.258670\tval-rmse:1.979572\n"
       ]
      },
      {
       "output_type": "stream",
       "stream": "stderr",
       "text": [
        "[2571]\ttrain-rmse:1.258366\tval-rmse:1.979378\n",
        "[2572]\ttrain-rmse:1.258234\tval-rmse:1.979304\n"
       ]
      },
      {
       "output_type": "stream",
       "stream": "stderr",
       "text": [
        "[2573]\ttrain-rmse:1.258060\tval-rmse:1.979230\n",
        "[2574]\ttrain-rmse:1.257428\tval-rmse:1.978863\n"
       ]
      },
      {
       "output_type": "stream",
       "stream": "stderr",
       "text": [
        "[2575]\ttrain-rmse:1.256940\tval-rmse:1.978557\n",
        "[2576]\ttrain-rmse:1.256237\tval-rmse:1.978221\n"
       ]
      },
      {
       "output_type": "stream",
       "stream": "stderr",
       "text": [
        "[2577]\ttrain-rmse:1.255227\tval-rmse:1.977661\n",
        "[2578]\ttrain-rmse:1.254583\tval-rmse:1.977293\n"
       ]
      },
      {
       "output_type": "stream",
       "stream": "stderr",
       "text": [
        "[2579]\ttrain-rmse:1.254449\tval-rmse:1.977229\n",
        "[2580]\ttrain-rmse:1.254273\tval-rmse:1.977124\n"
       ]
      },
      {
       "output_type": "stream",
       "stream": "stderr",
       "text": [
        "[2581]\ttrain-rmse:1.254024\tval-rmse:1.977005\n",
        "[2582]\ttrain-rmse:1.253683\tval-rmse:1.976807\n"
       ]
      },
      {
       "output_type": "stream",
       "stream": "stderr",
       "text": [
        "[2583]\ttrain-rmse:1.253466\tval-rmse:1.976697\n",
        "[2584]\ttrain-rmse:1.252509\tval-rmse:1.976124\n"
       ]
      },
      {
       "output_type": "stream",
       "stream": "stderr",
       "text": [
        "[2585]\ttrain-rmse:1.252342\tval-rmse:1.976033\n",
        "[2586]\ttrain-rmse:1.252022\tval-rmse:1.975894\n"
       ]
      },
      {
       "output_type": "stream",
       "stream": "stderr",
       "text": [
        "[2587]\ttrain-rmse:1.251396\tval-rmse:1.975510\n",
        "[2588]\ttrain-rmse:1.250972\tval-rmse:1.975264\n"
       ]
      },
      {
       "output_type": "stream",
       "stream": "stderr",
       "text": [
        "[2589]\ttrain-rmse:1.250663\tval-rmse:1.975082\n",
        "[2590]\ttrain-rmse:1.250422\tval-rmse:1.974947\n"
       ]
      },
      {
       "output_type": "stream",
       "stream": "stderr",
       "text": [
        "[2591]\ttrain-rmse:1.249776\tval-rmse:1.974652\n",
        "[2592]\ttrain-rmse:1.249510\tval-rmse:1.974532\n"
       ]
      },
      {
       "output_type": "stream",
       "stream": "stderr",
       "text": [
        "[2593]\ttrain-rmse:1.249238\tval-rmse:1.974352\n",
        "[2594]\ttrain-rmse:1.248923\tval-rmse:1.974121\n"
       ]
      },
      {
       "output_type": "stream",
       "stream": "stderr",
       "text": [
        "[2595]\ttrain-rmse:1.248643\tval-rmse:1.973991\n",
        "[2596]\ttrain-rmse:1.248477\tval-rmse:1.973905\n"
       ]
      },
      {
       "output_type": "stream",
       "stream": "stderr",
       "text": [
        "[2597]\ttrain-rmse:1.248292\tval-rmse:1.973734\n",
        "[2598]\ttrain-rmse:1.247771\tval-rmse:1.973446\n"
       ]
      },
      {
       "output_type": "stream",
       "stream": "stderr",
       "text": [
        "[2599]\ttrain-rmse:1.247287\tval-rmse:1.973233\n",
        "[2600]\ttrain-rmse:1.247153\tval-rmse:1.973146\n"
       ]
      },
      {
       "output_type": "stream",
       "stream": "stderr",
       "text": [
        "[2601]\ttrain-rmse:1.246740\tval-rmse:1.972901\n",
        "[2602]\ttrain-rmse:1.246443\tval-rmse:1.972715\n"
       ]
      },
      {
       "output_type": "stream",
       "stream": "stderr",
       "text": [
        "[2603]\ttrain-rmse:1.246333\tval-rmse:1.972617\n",
        "[2604]\ttrain-rmse:1.246011\tval-rmse:1.972428\n"
       ]
      },
      {
       "output_type": "stream",
       "stream": "stderr",
       "text": [
        "[2605]\ttrain-rmse:1.245585\tval-rmse:1.972192\n",
        "[2606]\ttrain-rmse:1.245336\tval-rmse:1.972045\n"
       ]
      },
      {
       "output_type": "stream",
       "stream": "stderr",
       "text": [
        "[2607]\ttrain-rmse:1.245057\tval-rmse:1.971877\n",
        "[2608]\ttrain-rmse:1.244628\tval-rmse:1.971653\n"
       ]
      },
      {
       "output_type": "stream",
       "stream": "stderr",
       "text": [
        "[2609]\ttrain-rmse:1.243428\tval-rmse:1.970945\n",
        "[2610]\ttrain-rmse:1.243196\tval-rmse:1.970806\n"
       ]
      },
      {
       "output_type": "stream",
       "stream": "stderr",
       "text": [
        "[2611]\ttrain-rmse:1.242674\tval-rmse:1.970524\n",
        "[2612]\ttrain-rmse:1.242359\tval-rmse:1.970340\n"
       ]
      },
      {
       "output_type": "stream",
       "stream": "stderr",
       "text": [
        "[2613]\ttrain-rmse:1.242167\tval-rmse:1.970245\n",
        "[2614]\ttrain-rmse:1.241560\tval-rmse:1.969894\n"
       ]
      },
      {
       "output_type": "stream",
       "stream": "stderr",
       "text": [
        "[2615]\ttrain-rmse:1.241200\tval-rmse:1.969707\n",
        "[2616]\ttrain-rmse:1.241112\tval-rmse:1.969656\n"
       ]
      },
      {
       "output_type": "stream",
       "stream": "stderr",
       "text": [
        "[2617]\ttrain-rmse:1.240715\tval-rmse:1.969400\n",
        "[2618]\ttrain-rmse:1.240201\tval-rmse:1.969176\n"
       ]
      },
      {
       "output_type": "stream",
       "stream": "stderr",
       "text": [
        "[2619]\ttrain-rmse:1.239588\tval-rmse:1.968802\n",
        "[2620]\ttrain-rmse:1.239226\tval-rmse:1.968588\n"
       ]
      },
      {
       "output_type": "stream",
       "stream": "stderr",
       "text": [
        "[2621]\ttrain-rmse:1.238899\tval-rmse:1.968395\n",
        "[2622]\ttrain-rmse:1.238580\tval-rmse:1.968234\n"
       ]
      },
      {
       "output_type": "stream",
       "stream": "stderr",
       "text": [
        "[2623]\ttrain-rmse:1.238240\tval-rmse:1.968084\n",
        "[2624]\ttrain-rmse:1.238006\tval-rmse:1.967968\n"
       ]
      },
      {
       "output_type": "stream",
       "stream": "stderr",
       "text": [
        "[2625]\ttrain-rmse:1.237554\tval-rmse:1.967735\n",
        "[2626]\ttrain-rmse:1.236889\tval-rmse:1.967356\n"
       ]
      },
      {
       "output_type": "stream",
       "stream": "stderr",
       "text": [
        "[2627]\ttrain-rmse:1.236673\tval-rmse:1.967218\n",
        "[2628]\ttrain-rmse:1.236334\tval-rmse:1.967004\n"
       ]
      },
      {
       "output_type": "stream",
       "stream": "stderr",
       "text": [
        "[2629]\ttrain-rmse:1.235893\tval-rmse:1.966719\n",
        "[2630]\ttrain-rmse:1.235749\tval-rmse:1.966641\n"
       ]
      },
      {
       "output_type": "stream",
       "stream": "stderr",
       "text": [
        "[2631]\ttrain-rmse:1.235410\tval-rmse:1.966480\n",
        "[2632]\ttrain-rmse:1.235059\tval-rmse:1.966316\n"
       ]
      },
      {
       "output_type": "stream",
       "stream": "stderr",
       "text": [
        "[2633]\ttrain-rmse:1.234722\tval-rmse:1.966148\n",
        "[2634]\ttrain-rmse:1.234459\tval-rmse:1.965987\n"
       ]
      },
      {
       "output_type": "stream",
       "stream": "stderr",
       "text": [
        "[2635]\ttrain-rmse:1.234196\tval-rmse:1.965823\n",
        "[2636]\ttrain-rmse:1.233986\tval-rmse:1.965699\n"
       ]
      },
      {
       "output_type": "stream",
       "stream": "stderr",
       "text": [
        "[2637]\ttrain-rmse:1.233786\tval-rmse:1.965601\n",
        "[2638]\ttrain-rmse:1.233283\tval-rmse:1.965362\n"
       ]
      },
      {
       "output_type": "stream",
       "stream": "stderr",
       "text": [
        "[2639]\ttrain-rmse:1.232793\tval-rmse:1.965086\n",
        "[2640]\ttrain-rmse:1.232160\tval-rmse:1.964734\n"
       ]
      },
      {
       "output_type": "stream",
       "stream": "stderr",
       "text": [
        "[2641]\ttrain-rmse:1.231909\tval-rmse:1.964599\n",
        "[2642]\ttrain-rmse:1.231572\tval-rmse:1.964393\n"
       ]
      },
      {
       "output_type": "stream",
       "stream": "stderr",
       "text": [
        "[2643]\ttrain-rmse:1.231410\tval-rmse:1.964330\n",
        "[2644]\ttrain-rmse:1.231136\tval-rmse:1.964203\n"
       ]
      },
      {
       "output_type": "stream",
       "stream": "stderr",
       "text": [
        "[2645]\ttrain-rmse:1.230667\tval-rmse:1.963930\n",
        "[2646]\ttrain-rmse:1.229648\tval-rmse:1.963419\n"
       ]
      },
      {
       "output_type": "stream",
       "stream": "stderr",
       "text": [
        "[2647]\ttrain-rmse:1.229369\tval-rmse:1.963298\n",
        "[2648]\ttrain-rmse:1.229209\tval-rmse:1.963234\n"
       ]
      },
      {
       "output_type": "stream",
       "stream": "stderr",
       "text": [
        "[2649]\ttrain-rmse:1.228752\tval-rmse:1.962977\n",
        "[2650]\ttrain-rmse:1.228199\tval-rmse:1.962648\n"
       ]
      },
      {
       "output_type": "stream",
       "stream": "stderr",
       "text": [
        "[2651]\ttrain-rmse:1.227963\tval-rmse:1.962497\n",
        "[2652]\ttrain-rmse:1.227642\tval-rmse:1.962342\n"
       ]
      },
      {
       "output_type": "stream",
       "stream": "stderr",
       "text": [
        "[2653]\ttrain-rmse:1.227277\tval-rmse:1.962141\n",
        "[2654]\ttrain-rmse:1.227100\tval-rmse:1.962057\n"
       ]
      },
      {
       "output_type": "stream",
       "stream": "stderr",
       "text": [
        "[2655]\ttrain-rmse:1.226439\tval-rmse:1.961678\n",
        "[2656]\ttrain-rmse:1.226179\tval-rmse:1.961606\n"
       ]
      },
      {
       "output_type": "stream",
       "stream": "stderr",
       "text": [
        "[2657]\ttrain-rmse:1.225632\tval-rmse:1.961282\n",
        "[2658]\ttrain-rmse:1.225410\tval-rmse:1.961126\n"
       ]
      },
      {
       "output_type": "stream",
       "stream": "stderr",
       "text": [
        "[2659]\ttrain-rmse:1.225179\tval-rmse:1.961009\n",
        "[2660]\ttrain-rmse:1.224816\tval-rmse:1.960816\n"
       ]
      },
      {
       "output_type": "stream",
       "stream": "stderr",
       "text": [
        "[2661]\ttrain-rmse:1.224561\tval-rmse:1.960660\n",
        "[2662]\ttrain-rmse:1.224409\tval-rmse:1.960552\n"
       ]
      },
      {
       "output_type": "stream",
       "stream": "stderr",
       "text": [
        "[2663]\ttrain-rmse:1.223836\tval-rmse:1.960236\n",
        "[2664]\ttrain-rmse:1.223245\tval-rmse:1.959944\n"
       ]
      },
      {
       "output_type": "stream",
       "stream": "stderr",
       "text": [
        "[2665]\ttrain-rmse:1.222971\tval-rmse:1.959795\n",
        "[2666]\ttrain-rmse:1.222222\tval-rmse:1.959397\n"
       ]
      },
      {
       "output_type": "stream",
       "stream": "stderr",
       "text": [
        "[2667]\ttrain-rmse:1.221963\tval-rmse:1.959271\n",
        "[2668]\ttrain-rmse:1.221511\tval-rmse:1.958999\n"
       ]
      },
      {
       "output_type": "stream",
       "stream": "stderr",
       "text": [
        "[2669]\ttrain-rmse:1.221124\tval-rmse:1.958751\n",
        "[2670]\ttrain-rmse:1.220586\tval-rmse:1.958399\n"
       ]
      },
      {
       "output_type": "stream",
       "stream": "stderr",
       "text": [
        "[2671]\ttrain-rmse:1.220156\tval-rmse:1.958200\n",
        "[2672]\ttrain-rmse:1.219909\tval-rmse:1.958065\n"
       ]
      },
      {
       "output_type": "stream",
       "stream": "stderr",
       "text": [
        "[2673]\ttrain-rmse:1.219439\tval-rmse:1.957854\n",
        "[2674]\ttrain-rmse:1.219197\tval-rmse:1.957740\n"
       ]
      },
      {
       "output_type": "stream",
       "stream": "stderr",
       "text": [
        "[2675]\ttrain-rmse:1.218928\tval-rmse:1.957608\n",
        "[2676]\ttrain-rmse:1.218788\tval-rmse:1.957533\n"
       ]
      },
      {
       "output_type": "stream",
       "stream": "stderr",
       "text": [
        "[2677]\ttrain-rmse:1.218575\tval-rmse:1.957432\n",
        "[2678]\ttrain-rmse:1.218452\tval-rmse:1.957369\n"
       ]
      },
      {
       "output_type": "stream",
       "stream": "stderr",
       "text": [
        "[2679]\ttrain-rmse:1.218064\tval-rmse:1.957136\n",
        "[2680]\ttrain-rmse:1.217928\tval-rmse:1.957051\n"
       ]
      },
      {
       "output_type": "stream",
       "stream": "stderr",
       "text": [
        "[2681]\ttrain-rmse:1.217547\tval-rmse:1.956844\n",
        "[2682]\ttrain-rmse:1.217116\tval-rmse:1.956677\n"
       ]
      },
      {
       "output_type": "stream",
       "stream": "stderr",
       "text": [
        "[2683]\ttrain-rmse:1.216190\tval-rmse:1.956194\n",
        "[2684]\ttrain-rmse:1.215853\tval-rmse:1.956002\n"
       ]
      },
      {
       "output_type": "stream",
       "stream": "stderr",
       "text": [
        "[2685]\ttrain-rmse:1.215451\tval-rmse:1.955747\n",
        "[2686]\ttrain-rmse:1.215241\tval-rmse:1.955627\n"
       ]
      },
      {
       "output_type": "stream",
       "stream": "stderr",
       "text": [
        "[2687]\ttrain-rmse:1.215012\tval-rmse:1.955499\n",
        "[2688]\ttrain-rmse:1.214533\tval-rmse:1.955258\n"
       ]
      },
      {
       "output_type": "stream",
       "stream": "stderr",
       "text": [
        "[2689]\ttrain-rmse:1.213925\tval-rmse:1.954998\n",
        "[2690]\ttrain-rmse:1.213762\tval-rmse:1.954882\n"
       ]
      },
      {
       "output_type": "stream",
       "stream": "stderr",
       "text": [
        "[2691]\ttrain-rmse:1.213441\tval-rmse:1.954708\n",
        "[2692]\ttrain-rmse:1.213135\tval-rmse:1.954572\n"
       ]
      },
      {
       "output_type": "stream",
       "stream": "stderr",
       "text": [
        "[2693]\ttrain-rmse:1.212803\tval-rmse:1.954428\n",
        "[2694]\ttrain-rmse:1.212429\tval-rmse:1.954192\n"
       ]
      },
      {
       "output_type": "stream",
       "stream": "stderr",
       "text": [
        "[2695]\ttrain-rmse:1.211935\tval-rmse:1.953949\n",
        "[2696]\ttrain-rmse:1.211683\tval-rmse:1.953833\n"
       ]
      },
      {
       "output_type": "stream",
       "stream": "stderr",
       "text": [
        "[2697]\ttrain-rmse:1.211234\tval-rmse:1.953614\n",
        "[2698]\ttrain-rmse:1.210723\tval-rmse:1.953346\n"
       ]
      },
      {
       "output_type": "stream",
       "stream": "stderr",
       "text": [
        "[2699]\ttrain-rmse:1.209835\tval-rmse:1.952838\n",
        "[2700]\ttrain-rmse:1.209275\tval-rmse:1.952470\n"
       ]
      },
      {
       "output_type": "stream",
       "stream": "stderr",
       "text": [
        "[2701]\ttrain-rmse:1.208937\tval-rmse:1.952302\n",
        "[2702]\ttrain-rmse:1.208694\tval-rmse:1.952194\n"
       ]
      },
      {
       "output_type": "stream",
       "stream": "stderr",
       "text": [
        "[2703]\ttrain-rmse:1.208086\tval-rmse:1.951883\n",
        "[2704]\ttrain-rmse:1.207840\tval-rmse:1.951758\n"
       ]
      },
      {
       "output_type": "stream",
       "stream": "stderr",
       "text": [
        "[2705]\ttrain-rmse:1.207755\tval-rmse:1.951747\n",
        "[2706]\ttrain-rmse:1.207202\tval-rmse:1.951457\n"
       ]
      },
      {
       "output_type": "stream",
       "stream": "stderr",
       "text": [
        "[2707]\ttrain-rmse:1.207119\tval-rmse:1.951423\n",
        "[2708]\ttrain-rmse:1.206920\tval-rmse:1.951303\n"
       ]
      },
      {
       "output_type": "stream",
       "stream": "stderr",
       "text": [
        "[2709]\ttrain-rmse:1.206602\tval-rmse:1.951129\n",
        "[2710]\ttrain-rmse:1.205824\tval-rmse:1.950671\n"
       ]
      },
      {
       "output_type": "stream",
       "stream": "stderr",
       "text": [
        "[2711]\ttrain-rmse:1.205077\tval-rmse:1.950287\n",
        "[2712]\ttrain-rmse:1.204737\tval-rmse:1.950136\n"
       ]
      },
      {
       "output_type": "stream",
       "stream": "stderr",
       "text": [
        "[2713]\ttrain-rmse:1.204318\tval-rmse:1.949939\n",
        "[2714]\ttrain-rmse:1.204111\tval-rmse:1.949900\n"
       ]
      },
      {
       "output_type": "stream",
       "stream": "stderr",
       "text": [
        "[2715]\ttrain-rmse:1.203926\tval-rmse:1.949807\n",
        "[2716]\ttrain-rmse:1.203290\tval-rmse:1.949474\n"
       ]
      },
      {
       "output_type": "stream",
       "stream": "stderr",
       "text": [
        "[2717]\ttrain-rmse:1.203121\tval-rmse:1.949384\n",
        "[2718]\ttrain-rmse:1.202753\tval-rmse:1.949169\n"
       ]
      },
      {
       "output_type": "stream",
       "stream": "stderr",
       "text": [
        "[2719]\ttrain-rmse:1.201959\tval-rmse:1.948746\n",
        "[2720]\ttrain-rmse:1.201182\tval-rmse:1.948348\n"
       ]
      },
      {
       "output_type": "stream",
       "stream": "stderr",
       "text": [
        "[2721]\ttrain-rmse:1.200163\tval-rmse:1.947874\n",
        "[2722]\ttrain-rmse:1.199776\tval-rmse:1.947688\n"
       ]
      },
      {
       "output_type": "stream",
       "stream": "stderr",
       "text": [
        "[2723]\ttrain-rmse:1.199426\tval-rmse:1.947491\n",
        "[2724]\ttrain-rmse:1.198533\tval-rmse:1.947004\n"
       ]
      },
      {
       "output_type": "stream",
       "stream": "stderr",
       "text": [
        "[2725]\ttrain-rmse:1.198308\tval-rmse:1.946884\n",
        "[2726]\ttrain-rmse:1.197992\tval-rmse:1.946698\n"
       ]
      },
      {
       "output_type": "stream",
       "stream": "stderr",
       "text": [
        "[2727]\ttrain-rmse:1.197654\tval-rmse:1.946478\n",
        "[2728]\ttrain-rmse:1.197349\tval-rmse:1.946311\n"
       ]
      },
      {
       "output_type": "stream",
       "stream": "stderr",
       "text": [
        "[2729]\ttrain-rmse:1.196917\tval-rmse:1.946081\n",
        "[2730]\ttrain-rmse:1.196756\tval-rmse:1.945971\n"
       ]
      },
      {
       "output_type": "stream",
       "stream": "stderr",
       "text": [
        "[2731]\ttrain-rmse:1.196564\tval-rmse:1.945829\n",
        "[2732]\ttrain-rmse:1.196370\tval-rmse:1.945704\n"
       ]
      },
      {
       "output_type": "stream",
       "stream": "stderr",
       "text": [
        "[2733]\ttrain-rmse:1.196038\tval-rmse:1.945484\n",
        "[2734]\ttrain-rmse:1.195053\tval-rmse:1.944970\n"
       ]
      },
      {
       "output_type": "stream",
       "stream": "stderr",
       "text": [
        "[2735]\ttrain-rmse:1.194317\tval-rmse:1.944603\n",
        "[2736]\ttrain-rmse:1.194015\tval-rmse:1.944413\n"
       ]
      },
      {
       "output_type": "stream",
       "stream": "stderr",
       "text": [
        "[2737]\ttrain-rmse:1.193305\tval-rmse:1.944093\n",
        "[2738]\ttrain-rmse:1.193058\tval-rmse:1.943934\n"
       ]
      },
      {
       "output_type": "stream",
       "stream": "stderr",
       "text": [
        "[2739]\ttrain-rmse:1.192588\tval-rmse:1.943682\n",
        "[2740]\ttrain-rmse:1.192326\tval-rmse:1.943549\n"
       ]
      },
      {
       "output_type": "stream",
       "stream": "stderr",
       "text": [
        "[2741]\ttrain-rmse:1.191599\tval-rmse:1.943122\n",
        "[2742]\ttrain-rmse:1.191324\tval-rmse:1.943013\n"
       ]
      },
      {
       "output_type": "stream",
       "stream": "stderr",
       "text": [
        "[2743]\ttrain-rmse:1.191135\tval-rmse:1.942918\n",
        "[2744]\ttrain-rmse:1.190585\tval-rmse:1.942625\n"
       ]
      },
      {
       "output_type": "stream",
       "stream": "stderr",
       "text": [
        "[2745]\ttrain-rmse:1.189953\tval-rmse:1.942250\n",
        "[2746]\ttrain-rmse:1.189759\tval-rmse:1.942148\n"
       ]
      },
      {
       "output_type": "stream",
       "stream": "stderr",
       "text": [
        "[2747]\ttrain-rmse:1.189002\tval-rmse:1.941735\n",
        "[2748]\ttrain-rmse:1.188884\tval-rmse:1.941670\n"
       ]
      },
      {
       "output_type": "stream",
       "stream": "stderr",
       "text": [
        "[2749]\ttrain-rmse:1.188648\tval-rmse:1.941540\n",
        "[2750]\ttrain-rmse:1.188464\tval-rmse:1.941410\n"
       ]
      },
      {
       "output_type": "stream",
       "stream": "stderr",
       "text": [
        "[2751]\ttrain-rmse:1.188230\tval-rmse:1.941290\n",
        "[2752]\ttrain-rmse:1.187904\tval-rmse:1.941093\n"
       ]
      },
      {
       "output_type": "stream",
       "stream": "stderr",
       "text": [
        "[2753]\ttrain-rmse:1.187604\tval-rmse:1.940950\n",
        "[2754]\ttrain-rmse:1.186935\tval-rmse:1.940594\n"
       ]
      },
      {
       "output_type": "stream",
       "stream": "stderr",
       "text": [
        "[2755]\ttrain-rmse:1.186633\tval-rmse:1.940391\n",
        "[2756]\ttrain-rmse:1.186406\tval-rmse:1.940233\n"
       ]
      },
      {
       "output_type": "stream",
       "stream": "stderr",
       "text": [
        "[2757]\ttrain-rmse:1.186107\tval-rmse:1.940068\n",
        "[2758]\ttrain-rmse:1.185706\tval-rmse:1.939845\n"
       ]
      },
      {
       "output_type": "stream",
       "stream": "stderr",
       "text": [
        "[2759]\ttrain-rmse:1.185397\tval-rmse:1.939716\n",
        "[2760]\ttrain-rmse:1.185180\tval-rmse:1.939615\n"
       ]
      },
      {
       "output_type": "stream",
       "stream": "stderr",
       "text": [
        "[2761]\ttrain-rmse:1.184825\tval-rmse:1.939429\n",
        "[2762]\ttrain-rmse:1.184612\tval-rmse:1.939272\n"
       ]
      },
      {
       "output_type": "stream",
       "stream": "stderr",
       "text": [
        "[2763]\ttrain-rmse:1.184174\tval-rmse:1.939040\n",
        "[2764]\ttrain-rmse:1.183979\tval-rmse:1.938927\n"
       ]
      },
      {
       "output_type": "stream",
       "stream": "stderr",
       "text": [
        "[2765]\ttrain-rmse:1.183683\tval-rmse:1.938776\n",
        "[2766]\ttrain-rmse:1.183509\tval-rmse:1.938699\n"
       ]
      },
      {
       "output_type": "stream",
       "stream": "stderr",
       "text": [
        "[2767]\ttrain-rmse:1.183149\tval-rmse:1.938507\n",
        "[2768]\ttrain-rmse:1.182595\tval-rmse:1.938249\n"
       ]
      },
      {
       "output_type": "stream",
       "stream": "stderr",
       "text": [
        "[2769]\ttrain-rmse:1.181678\tval-rmse:1.937752\n",
        "[2770]\ttrain-rmse:1.181264\tval-rmse:1.937493\n"
       ]
      },
      {
       "output_type": "stream",
       "stream": "stderr",
       "text": [
        "[2771]\ttrain-rmse:1.180979\tval-rmse:1.937332\n",
        "[2772]\ttrain-rmse:1.180898\tval-rmse:1.937258\n"
       ]
      },
      {
       "output_type": "stream",
       "stream": "stderr",
       "text": [
        "[2773]\ttrain-rmse:1.180704\tval-rmse:1.937177\n",
        "[2774]\ttrain-rmse:1.180386\tval-rmse:1.937002\n"
       ]
      },
      {
       "output_type": "stream",
       "stream": "stderr",
       "text": [
        "[2775]\ttrain-rmse:1.180149\tval-rmse:1.936880\n",
        "[2776]\ttrain-rmse:1.179945\tval-rmse:1.936817\n"
       ]
      },
      {
       "output_type": "stream",
       "stream": "stderr",
       "text": [
        "[2777]\ttrain-rmse:1.179792\tval-rmse:1.936771\n",
        "[2778]\ttrain-rmse:1.179100\tval-rmse:1.936392\n"
       ]
      },
      {
       "output_type": "stream",
       "stream": "stderr",
       "text": [
        "[2779]\ttrain-rmse:1.178577\tval-rmse:1.936158\n",
        "[2780]\ttrain-rmse:1.178203\tval-rmse:1.935948\n"
       ]
      },
      {
       "output_type": "stream",
       "stream": "stderr",
       "text": [
        "[2781]\ttrain-rmse:1.177705\tval-rmse:1.935661\n",
        "[2782]\ttrain-rmse:1.177560\tval-rmse:1.935581\n"
       ]
      },
      {
       "output_type": "stream",
       "stream": "stderr",
       "text": [
        "[2783]\ttrain-rmse:1.177189\tval-rmse:1.935428\n",
        "[2784]\ttrain-rmse:1.176928\tval-rmse:1.935273\n"
       ]
      },
      {
       "output_type": "stream",
       "stream": "stderr",
       "text": [
        "[2785]\ttrain-rmse:1.176806\tval-rmse:1.935224\n",
        "[2786]\ttrain-rmse:1.176519\tval-rmse:1.935058\n"
       ]
      },
      {
       "output_type": "stream",
       "stream": "stderr",
       "text": [
        "[2787]\ttrain-rmse:1.175828\tval-rmse:1.934602\n",
        "[2788]\ttrain-rmse:1.175707\tval-rmse:1.934518\n"
       ]
      },
      {
       "output_type": "stream",
       "stream": "stderr",
       "text": [
        "[2789]\ttrain-rmse:1.175345\tval-rmse:1.934339\n",
        "[2790]\ttrain-rmse:1.174904\tval-rmse:1.934138\n"
       ]
      },
      {
       "output_type": "stream",
       "stream": "stderr",
       "text": [
        "[2791]\ttrain-rmse:1.174703\tval-rmse:1.934013\n",
        "[2792]\ttrain-rmse:1.174477\tval-rmse:1.933918\n"
       ]
      },
      {
       "output_type": "stream",
       "stream": "stderr",
       "text": [
        "[2793]\ttrain-rmse:1.174106\tval-rmse:1.933684\n",
        "[2794]\ttrain-rmse:1.173752\tval-rmse:1.933473\n"
       ]
      },
      {
       "output_type": "stream",
       "stream": "stderr",
       "text": [
        "[2795]\ttrain-rmse:1.173467\tval-rmse:1.933396\n",
        "[2796]\ttrain-rmse:1.172977\tval-rmse:1.933162\n"
       ]
      },
      {
       "output_type": "stream",
       "stream": "stderr",
       "text": [
        "[2797]\ttrain-rmse:1.172518\tval-rmse:1.932940\n",
        "[2798]\ttrain-rmse:1.171876\tval-rmse:1.932558\n"
       ]
      },
      {
       "output_type": "stream",
       "stream": "stderr",
       "text": [
        "[2799]\ttrain-rmse:1.171277\tval-rmse:1.932248\n",
        "[2800]\ttrain-rmse:1.170878\tval-rmse:1.932032\n"
       ]
      },
      {
       "output_type": "stream",
       "stream": "stderr",
       "text": [
        "[2801]\ttrain-rmse:1.170468\tval-rmse:1.931837\n",
        "[2802]\ttrain-rmse:1.169899\tval-rmse:1.931489\n"
       ]
      },
      {
       "output_type": "stream",
       "stream": "stderr",
       "text": [
        "[2803]\ttrain-rmse:1.169732\tval-rmse:1.931389\n",
        "[2804]\ttrain-rmse:1.169467\tval-rmse:1.931265\n"
       ]
      },
      {
       "output_type": "stream",
       "stream": "stderr",
       "text": [
        "[2805]\ttrain-rmse:1.169202\tval-rmse:1.931135\n",
        "[2806]\ttrain-rmse:1.168637\tval-rmse:1.930838\n"
       ]
      },
      {
       "output_type": "stream",
       "stream": "stderr",
       "text": [
        "[2807]\ttrain-rmse:1.167917\tval-rmse:1.930461\n",
        "[2808]\ttrain-rmse:1.167841\tval-rmse:1.930399\n"
       ]
      },
      {
       "output_type": "stream",
       "stream": "stderr",
       "text": [
        "[2809]\ttrain-rmse:1.167395\tval-rmse:1.930115\n",
        "[2810]\ttrain-rmse:1.167241\tval-rmse:1.930057\n"
       ]
      },
      {
       "output_type": "stream",
       "stream": "stderr",
       "text": [
        "[2811]\ttrain-rmse:1.167031\tval-rmse:1.929961\n",
        "[2812]\ttrain-rmse:1.166809\tval-rmse:1.929813\n"
       ]
      },
      {
       "output_type": "stream",
       "stream": "stderr",
       "text": [
        "[2813]\ttrain-rmse:1.166636\tval-rmse:1.929739\n",
        "[2814]\ttrain-rmse:1.166234\tval-rmse:1.929512\n"
       ]
      },
      {
       "output_type": "stream",
       "stream": "stderr",
       "text": [
        "[2815]\ttrain-rmse:1.166082\tval-rmse:1.929403\n",
        "[2816]\ttrain-rmse:1.165928\tval-rmse:1.929307\n"
       ]
      },
      {
       "output_type": "stream",
       "stream": "stderr",
       "text": [
        "[2817]\ttrain-rmse:1.165401\tval-rmse:1.929083\n",
        "[2818]\ttrain-rmse:1.164836\tval-rmse:1.928827\n"
       ]
      },
      {
       "output_type": "stream",
       "stream": "stderr",
       "text": [
        "[2819]\ttrain-rmse:1.164606\tval-rmse:1.928698\n",
        "[2820]\ttrain-rmse:1.164466\tval-rmse:1.928613\n"
       ]
      },
      {
       "output_type": "stream",
       "stream": "stderr",
       "text": [
        "[2821]\ttrain-rmse:1.163877\tval-rmse:1.928316\n",
        "[2822]\ttrain-rmse:1.163651\tval-rmse:1.928209\n"
       ]
      },
      {
       "output_type": "stream",
       "stream": "stderr",
       "text": [
        "[2823]\ttrain-rmse:1.163214\tval-rmse:1.927953\n",
        "[2824]\ttrain-rmse:1.163100\tval-rmse:1.927895\n"
       ]
      },
      {
       "output_type": "stream",
       "stream": "stderr",
       "text": [
        "[2825]\ttrain-rmse:1.162336\tval-rmse:1.927440\n",
        "[2826]\ttrain-rmse:1.161927\tval-rmse:1.927151\n"
       ]
      },
      {
       "output_type": "stream",
       "stream": "stderr",
       "text": [
        "[2827]\ttrain-rmse:1.161763\tval-rmse:1.927059\n",
        "[2828]\ttrain-rmse:1.161537\tval-rmse:1.926965\n"
       ]
      },
      {
       "output_type": "stream",
       "stream": "stderr",
       "text": [
        "[2829]\ttrain-rmse:1.161349\tval-rmse:1.926870\n",
        "[2830]\ttrain-rmse:1.161134\tval-rmse:1.926775\n"
       ]
      },
      {
       "output_type": "stream",
       "stream": "stderr",
       "text": [
        "[2831]\ttrain-rmse:1.160960\tval-rmse:1.926708\n",
        "[2832]\ttrain-rmse:1.160852\tval-rmse:1.926673\n"
       ]
      },
      {
       "output_type": "stream",
       "stream": "stderr",
       "text": [
        "[2833]\ttrain-rmse:1.160660\tval-rmse:1.926606\n",
        "[2834]\ttrain-rmse:1.160218\tval-rmse:1.926384\n"
       ]
      },
      {
       "output_type": "stream",
       "stream": "stderr",
       "text": [
        "[2835]\ttrain-rmse:1.160019\tval-rmse:1.926250\n",
        "[2836]\ttrain-rmse:1.159550\tval-rmse:1.926022\n"
       ]
      },
      {
       "output_type": "stream",
       "stream": "stderr",
       "text": [
        "[2837]\ttrain-rmse:1.159285\tval-rmse:1.925852\n",
        "[2838]\ttrain-rmse:1.159007\tval-rmse:1.925647\n"
       ]
      },
      {
       "output_type": "stream",
       "stream": "stderr",
       "text": [
        "[2839]\ttrain-rmse:1.158677\tval-rmse:1.925463\n",
        "[2840]\ttrain-rmse:1.158131\tval-rmse:1.925231\n"
       ]
      },
      {
       "output_type": "stream",
       "stream": "stderr",
       "text": [
        "[2841]\ttrain-rmse:1.157650\tval-rmse:1.924976\n",
        "[2842]\ttrain-rmse:1.157520\tval-rmse:1.924918\n"
       ]
      },
      {
       "output_type": "stream",
       "stream": "stderr",
       "text": [
        "[2843]\ttrain-rmse:1.157445\tval-rmse:1.924887\n",
        "[2844]\ttrain-rmse:1.157352\tval-rmse:1.924799\n"
       ]
      },
      {
       "output_type": "stream",
       "stream": "stderr",
       "text": [
        "[2845]\ttrain-rmse:1.157080\tval-rmse:1.924641\n",
        "[2846]\ttrain-rmse:1.156787\tval-rmse:1.924501\n"
       ]
      },
      {
       "output_type": "stream",
       "stream": "stderr",
       "text": [
        "[2847]\ttrain-rmse:1.156346\tval-rmse:1.924265\n",
        "[2848]\ttrain-rmse:1.156055\tval-rmse:1.924146\n"
       ]
      },
      {
       "output_type": "stream",
       "stream": "stderr",
       "text": [
        "[2849]\ttrain-rmse:1.155572\tval-rmse:1.923842\n",
        "[2850]\ttrain-rmse:1.155328\tval-rmse:1.923742\n"
       ]
      },
      {
       "output_type": "stream",
       "stream": "stderr",
       "text": [
        "[2851]\ttrain-rmse:1.154738\tval-rmse:1.923419\n",
        "[2852]\ttrain-rmse:1.154158\tval-rmse:1.923047\n"
       ]
      },
      {
       "output_type": "stream",
       "stream": "stderr",
       "text": [
        "[2853]\ttrain-rmse:1.153720\tval-rmse:1.922873\n",
        "[2854]\ttrain-rmse:1.153557\tval-rmse:1.922795\n"
       ]
      },
      {
       "output_type": "stream",
       "stream": "stderr",
       "text": [
        "[2855]\ttrain-rmse:1.153038\tval-rmse:1.922525\n",
        "[2856]\ttrain-rmse:1.152798\tval-rmse:1.922392\n"
       ]
      },
      {
       "output_type": "stream",
       "stream": "stderr",
       "text": [
        "[2857]\ttrain-rmse:1.152505\tval-rmse:1.922201\n",
        "[2858]\ttrain-rmse:1.152010\tval-rmse:1.921974\n"
       ]
      },
      {
       "output_type": "stream",
       "stream": "stderr",
       "text": [
        "[2859]\ttrain-rmse:1.151742\tval-rmse:1.921890\n",
        "[2860]\ttrain-rmse:1.151118\tval-rmse:1.921602\n"
       ]
      },
      {
       "output_type": "stream",
       "stream": "stderr",
       "text": [
        "[2861]\ttrain-rmse:1.150956\tval-rmse:1.921511\n",
        "[2862]\ttrain-rmse:1.150702\tval-rmse:1.921365\n"
       ]
      },
      {
       "output_type": "stream",
       "stream": "stderr",
       "text": [
        "[2863]\ttrain-rmse:1.150253\tval-rmse:1.921084\n",
        "[2864]\ttrain-rmse:1.149540\tval-rmse:1.920703\n"
       ]
      },
      {
       "output_type": "stream",
       "stream": "stderr",
       "text": [
        "[2865]\ttrain-rmse:1.149118\tval-rmse:1.920471\n",
        "[2866]\ttrain-rmse:1.148924\tval-rmse:1.920370\n"
       ]
      },
      {
       "output_type": "stream",
       "stream": "stderr",
       "text": [
        "[2867]\ttrain-rmse:1.148732\tval-rmse:1.920309\n",
        "[2868]\ttrain-rmse:1.148480\tval-rmse:1.920206\n"
       ]
      },
      {
       "output_type": "stream",
       "stream": "stderr",
       "text": [
        "[2869]\ttrain-rmse:1.148258\tval-rmse:1.920120\n",
        "[2870]\ttrain-rmse:1.147993\tval-rmse:1.920012\n"
       ]
      },
      {
       "output_type": "stream",
       "stream": "stderr",
       "text": [
        "[2871]\ttrain-rmse:1.147751\tval-rmse:1.919868\n",
        "[2872]\ttrain-rmse:1.147446\tval-rmse:1.919716\n"
       ]
      },
      {
       "output_type": "stream",
       "stream": "stderr",
       "text": [
        "[2873]\ttrain-rmse:1.147172\tval-rmse:1.919528\n",
        "[2874]\ttrain-rmse:1.146753\tval-rmse:1.919357\n"
       ]
      },
      {
       "output_type": "stream",
       "stream": "stderr",
       "text": [
        "[2875]\ttrain-rmse:1.146409\tval-rmse:1.919179\n",
        "[2876]\ttrain-rmse:1.146302\tval-rmse:1.919129\n"
       ]
      },
      {
       "output_type": "stream",
       "stream": "stderr",
       "text": [
        "[2877]\ttrain-rmse:1.145716\tval-rmse:1.918781\n",
        "[2878]\ttrain-rmse:1.145153\tval-rmse:1.918434\n"
       ]
      },
      {
       "output_type": "stream",
       "stream": "stderr",
       "text": [
        "[2879]\ttrain-rmse:1.144950\tval-rmse:1.918307\n",
        "[2880]\ttrain-rmse:1.144800\tval-rmse:1.918214\n"
       ]
      },
      {
       "output_type": "stream",
       "stream": "stderr",
       "text": [
        "[2881]\ttrain-rmse:1.144122\tval-rmse:1.917917\n",
        "[2882]\ttrain-rmse:1.143980\tval-rmse:1.917855\n"
       ]
      },
      {
       "output_type": "stream",
       "stream": "stderr",
       "text": [
        "[2883]\ttrain-rmse:1.143820\tval-rmse:1.917790\n",
        "[2884]\ttrain-rmse:1.143350\tval-rmse:1.917565\n"
       ]
      },
      {
       "output_type": "stream",
       "stream": "stderr",
       "text": [
        "[2885]\ttrain-rmse:1.143109\tval-rmse:1.917418\n",
        "[2886]\ttrain-rmse:1.142899\tval-rmse:1.917316\n"
       ]
      },
      {
       "output_type": "stream",
       "stream": "stderr",
       "text": [
        "[2887]\ttrain-rmse:1.142302\tval-rmse:1.917003\n",
        "[2888]\ttrain-rmse:1.142047\tval-rmse:1.916855\n"
       ]
      },
      {
       "output_type": "stream",
       "stream": "stderr",
       "text": [
        "[2889]\ttrain-rmse:1.141611\tval-rmse:1.916605\n",
        "[2890]\ttrain-rmse:1.141469\tval-rmse:1.916535\n"
       ]
      },
      {
       "output_type": "stream",
       "stream": "stderr",
       "text": [
        "[2891]\ttrain-rmse:1.141167\tval-rmse:1.916395\n",
        "[2892]\ttrain-rmse:1.140743\tval-rmse:1.916181\n"
       ]
      },
      {
       "output_type": "stream",
       "stream": "stderr",
       "text": [
        "[2893]\ttrain-rmse:1.140235\tval-rmse:1.915992\n",
        "[2894]\ttrain-rmse:1.139899\tval-rmse:1.915851\n"
       ]
      },
      {
       "output_type": "stream",
       "stream": "stderr",
       "text": [
        "[2895]\ttrain-rmse:1.139239\tval-rmse:1.915494\n",
        "[2896]\ttrain-rmse:1.138757\tval-rmse:1.915210\n"
       ]
      },
      {
       "output_type": "stream",
       "stream": "stderr",
       "text": [
        "[2897]\ttrain-rmse:1.138463\tval-rmse:1.915036\n",
        "[2898]\ttrain-rmse:1.138302\tval-rmse:1.914983\n"
       ]
      },
      {
       "output_type": "stream",
       "stream": "stderr",
       "text": [
        "[2899]\ttrain-rmse:1.138152\tval-rmse:1.914901\n",
        "[2900]\ttrain-rmse:1.138029\tval-rmse:1.914846\n"
       ]
      },
      {
       "output_type": "stream",
       "stream": "stderr",
       "text": [
        "[2901]\ttrain-rmse:1.137200\tval-rmse:1.914381\n",
        "[2902]\ttrain-rmse:1.136985\tval-rmse:1.914282\n"
       ]
      },
      {
       "output_type": "stream",
       "stream": "stderr",
       "text": [
        "[2903]\ttrain-rmse:1.136712\tval-rmse:1.914139\n",
        "[2904]\ttrain-rmse:1.135962\tval-rmse:1.913716\n"
       ]
      },
      {
       "output_type": "stream",
       "stream": "stderr",
       "text": [
        "[2905]\ttrain-rmse:1.135430\tval-rmse:1.913419\n",
        "[2906]\ttrain-rmse:1.135217\tval-rmse:1.913275\n"
       ]
      },
      {
       "output_type": "stream",
       "stream": "stderr",
       "text": [
        "[2907]\ttrain-rmse:1.134832\tval-rmse:1.913077\n",
        "[2908]\ttrain-rmse:1.134587\tval-rmse:1.912942\n"
       ]
      },
      {
       "output_type": "stream",
       "stream": "stderr",
       "text": [
        "[2909]\ttrain-rmse:1.134359\tval-rmse:1.912825\n",
        "[2910]\ttrain-rmse:1.134202\tval-rmse:1.912732\n"
       ]
      },
      {
       "output_type": "stream",
       "stream": "stderr",
       "text": [
        "[2911]\ttrain-rmse:1.133879\tval-rmse:1.912576\n",
        "[2912]\ttrain-rmse:1.133490\tval-rmse:1.912337\n"
       ]
      },
      {
       "output_type": "stream",
       "stream": "stderr",
       "text": [
        "[2913]\ttrain-rmse:1.133278\tval-rmse:1.912214\n",
        "[2914]\ttrain-rmse:1.132849\tval-rmse:1.912011\n"
       ]
      },
      {
       "output_type": "stream",
       "stream": "stderr",
       "text": [
        "[2915]\ttrain-rmse:1.132709\tval-rmse:1.911920\n",
        "[2916]\ttrain-rmse:1.132295\tval-rmse:1.911717\n"
       ]
      },
      {
       "output_type": "stream",
       "stream": "stderr",
       "text": [
        "[2917]\ttrain-rmse:1.132111\tval-rmse:1.911599\n",
        "[2918]\ttrain-rmse:1.131616\tval-rmse:1.911324\n"
       ]
      },
      {
       "output_type": "stream",
       "stream": "stderr",
       "text": [
        "[2919]\ttrain-rmse:1.131482\tval-rmse:1.911269\n",
        "[2920]\ttrain-rmse:1.130998\tval-rmse:1.910993\n"
       ]
      },
      {
       "output_type": "stream",
       "stream": "stderr",
       "text": [
        "[2921]\ttrain-rmse:1.130869\tval-rmse:1.910960\n",
        "[2922]\ttrain-rmse:1.130718\tval-rmse:1.910917\n"
       ]
      },
      {
       "output_type": "stream",
       "stream": "stderr",
       "text": [
        "[2923]\ttrain-rmse:1.130382\tval-rmse:1.910732\n",
        "[2924]\ttrain-rmse:1.130098\tval-rmse:1.910618\n"
       ]
      },
      {
       "output_type": "stream",
       "stream": "stderr",
       "text": [
        "[2925]\ttrain-rmse:1.129768\tval-rmse:1.910446\n",
        "[2926]\ttrain-rmse:1.129535\tval-rmse:1.910326\n"
       ]
      },
      {
       "output_type": "stream",
       "stream": "stderr",
       "text": [
        "[2927]\ttrain-rmse:1.129405\tval-rmse:1.910277\n",
        "[2928]\ttrain-rmse:1.129034\tval-rmse:1.910064\n"
       ]
      },
      {
       "output_type": "stream",
       "stream": "stderr",
       "text": [
        "[2929]\ttrain-rmse:1.128774\tval-rmse:1.909943\n",
        "[2930]\ttrain-rmse:1.128474\tval-rmse:1.909788\n"
       ]
      },
      {
       "output_type": "stream",
       "stream": "stderr",
       "text": [
        "[2931]\ttrain-rmse:1.128153\tval-rmse:1.909622\n",
        "[2932]\ttrain-rmse:1.127496\tval-rmse:1.909252\n"
       ]
      },
      {
       "output_type": "stream",
       "stream": "stderr",
       "text": [
        "[2933]\ttrain-rmse:1.127425\tval-rmse:1.909212\n",
        "[2934]\ttrain-rmse:1.127239\tval-rmse:1.909108\n"
       ]
      },
      {
       "output_type": "stream",
       "stream": "stderr",
       "text": [
        "[2935]\ttrain-rmse:1.127025\tval-rmse:1.909003\n",
        "[2936]\ttrain-rmse:1.126396\tval-rmse:1.908720\n"
       ]
      },
      {
       "output_type": "stream",
       "stream": "stderr",
       "text": [
        "[2937]\ttrain-rmse:1.125974\tval-rmse:1.908546\n",
        "[2938]\ttrain-rmse:1.125418\tval-rmse:1.908280\n"
       ]
      },
      {
       "output_type": "stream",
       "stream": "stderr",
       "text": [
        "[2939]\ttrain-rmse:1.125313\tval-rmse:1.908221\n",
        "[2940]\ttrain-rmse:1.125199\tval-rmse:1.908151\n"
       ]
      },
      {
       "output_type": "stream",
       "stream": "stderr",
       "text": [
        "[2941]\ttrain-rmse:1.124689\tval-rmse:1.907925\n",
        "[2942]\ttrain-rmse:1.124564\tval-rmse:1.907879\n"
       ]
      },
      {
       "output_type": "stream",
       "stream": "stderr",
       "text": [
        "[2943]\ttrain-rmse:1.124440\tval-rmse:1.907840\n",
        "[2944]\ttrain-rmse:1.124329\tval-rmse:1.907777\n"
       ]
      },
      {
       "output_type": "stream",
       "stream": "stderr",
       "text": [
        "[2945]\ttrain-rmse:1.124091\tval-rmse:1.907700\n",
        "[2946]\ttrain-rmse:1.123652\tval-rmse:1.907527\n"
       ]
      },
      {
       "output_type": "stream",
       "stream": "stderr",
       "text": [
        "[2947]\ttrain-rmse:1.123401\tval-rmse:1.907414\n",
        "[2948]\ttrain-rmse:1.123246\tval-rmse:1.907334\n"
       ]
      },
      {
       "output_type": "stream",
       "stream": "stderr",
       "text": [
        "[2949]\ttrain-rmse:1.123143\tval-rmse:1.907282\n",
        "[2950]\ttrain-rmse:1.122809\tval-rmse:1.907152\n"
       ]
      },
      {
       "output_type": "stream",
       "stream": "stderr",
       "text": [
        "[2951]\ttrain-rmse:1.122323\tval-rmse:1.906884\n",
        "[2952]\ttrain-rmse:1.122161\tval-rmse:1.906812\n"
       ]
      },
      {
       "output_type": "stream",
       "stream": "stderr",
       "text": [
        "[2953]\ttrain-rmse:1.122035\tval-rmse:1.906741\n",
        "[2954]\ttrain-rmse:1.121827\tval-rmse:1.906609\n"
       ]
      },
      {
       "output_type": "stream",
       "stream": "stderr",
       "text": [
        "[2955]\ttrain-rmse:1.121544\tval-rmse:1.906468\n",
        "[2956]\ttrain-rmse:1.121307\tval-rmse:1.906343\n"
       ]
      },
      {
       "output_type": "stream",
       "stream": "stderr",
       "text": [
        "[2957]\ttrain-rmse:1.120659\tval-rmse:1.905958\n",
        "[2958]\ttrain-rmse:1.120300\tval-rmse:1.905802\n"
       ]
      },
      {
       "output_type": "stream",
       "stream": "stderr",
       "text": [
        "[2959]\ttrain-rmse:1.119813\tval-rmse:1.905557\n",
        "[2960]\ttrain-rmse:1.119510\tval-rmse:1.905405\n"
       ]
      },
      {
       "output_type": "stream",
       "stream": "stderr",
       "text": [
        "[2961]\ttrain-rmse:1.119169\tval-rmse:1.905234\n",
        "[2962]\ttrain-rmse:1.118878\tval-rmse:1.905065\n"
       ]
      },
      {
       "output_type": "stream",
       "stream": "stderr",
       "text": [
        "[2963]\ttrain-rmse:1.118263\tval-rmse:1.904752\n",
        "[2964]\ttrain-rmse:1.117974\tval-rmse:1.904590\n"
       ]
      },
      {
       "output_type": "stream",
       "stream": "stderr",
       "text": [
        "[2965]\ttrain-rmse:1.117837\tval-rmse:1.904518\n",
        "[2966]\ttrain-rmse:1.117594\tval-rmse:1.904426\n"
       ]
      },
      {
       "output_type": "stream",
       "stream": "stderr",
       "text": [
        "[2967]\ttrain-rmse:1.117226\tval-rmse:1.904248\n",
        "[2968]\ttrain-rmse:1.116768\tval-rmse:1.904002\n"
       ]
      },
      {
       "output_type": "stream",
       "stream": "stderr",
       "text": [
        "[2969]\ttrain-rmse:1.116510\tval-rmse:1.903869\n",
        "[2970]\ttrain-rmse:1.116232\tval-rmse:1.903743\n"
       ]
      },
      {
       "output_type": "stream",
       "stream": "stderr",
       "text": [
        "[2971]\ttrain-rmse:1.115979\tval-rmse:1.903588\n",
        "[2972]\ttrain-rmse:1.115380\tval-rmse:1.903283\n"
       ]
      },
      {
       "output_type": "stream",
       "stream": "stderr",
       "text": [
        "[2973]\ttrain-rmse:1.115098\tval-rmse:1.903131\n",
        "[2974]\ttrain-rmse:1.114872\tval-rmse:1.902996\n"
       ]
      },
      {
       "output_type": "stream",
       "stream": "stderr",
       "text": [
        "[2975]\ttrain-rmse:1.114313\tval-rmse:1.902712\n",
        "[2976]\ttrain-rmse:1.113842\tval-rmse:1.902476\n"
       ]
      },
      {
       "output_type": "stream",
       "stream": "stderr",
       "text": [
        "[2977]\ttrain-rmse:1.113484\tval-rmse:1.902304\n",
        "[2978]\ttrain-rmse:1.113259\tval-rmse:1.902230\n"
       ]
      },
      {
       "output_type": "stream",
       "stream": "stderr",
       "text": [
        "[2979]\ttrain-rmse:1.112554\tval-rmse:1.901920\n",
        "[2980]\ttrain-rmse:1.112334\tval-rmse:1.901756\n"
       ]
      },
      {
       "output_type": "stream",
       "stream": "stderr",
       "text": [
        "[2981]\ttrain-rmse:1.112227\tval-rmse:1.901716\n",
        "[2982]\ttrain-rmse:1.112079\tval-rmse:1.901635\n"
       ]
      },
      {
       "output_type": "stream",
       "stream": "stderr",
       "text": [
        "[2983]\ttrain-rmse:1.111728\tval-rmse:1.901404\n",
        "[2984]\ttrain-rmse:1.111145\tval-rmse:1.901106\n"
       ]
      },
      {
       "output_type": "stream",
       "stream": "stderr",
       "text": [
        "[2985]\ttrain-rmse:1.110774\tval-rmse:1.900968\n",
        "[2986]\ttrain-rmse:1.110170\tval-rmse:1.900674\n"
       ]
      },
      {
       "output_type": "stream",
       "stream": "stderr",
       "text": [
        "[2987]\ttrain-rmse:1.109895\tval-rmse:1.900536\n",
        "[2988]\ttrain-rmse:1.109473\tval-rmse:1.900335\n"
       ]
      },
      {
       "output_type": "stream",
       "stream": "stderr",
       "text": [
        "[2989]\ttrain-rmse:1.109084\tval-rmse:1.900147\n",
        "[2990]\ttrain-rmse:1.108722\tval-rmse:1.899970\n"
       ]
      },
      {
       "output_type": "stream",
       "stream": "stderr",
       "text": [
        "[2991]\ttrain-rmse:1.108266\tval-rmse:1.899706\n",
        "[2992]\ttrain-rmse:1.107821\tval-rmse:1.899486\n"
       ]
      },
      {
       "output_type": "stream",
       "stream": "stderr",
       "text": [
        "[2993]\ttrain-rmse:1.107690\tval-rmse:1.899420\n",
        "[2994]\ttrain-rmse:1.107382\tval-rmse:1.899257\n"
       ]
      },
      {
       "output_type": "stream",
       "stream": "stderr",
       "text": [
        "[2995]\ttrain-rmse:1.107074\tval-rmse:1.899088\n",
        "[2996]\ttrain-rmse:1.106919\tval-rmse:1.899021\n"
       ]
      },
      {
       "output_type": "stream",
       "stream": "stderr",
       "text": [
        "[2997]\ttrain-rmse:1.106617\tval-rmse:1.898885\n",
        "[2998]\ttrain-rmse:1.106498\tval-rmse:1.898817\n"
       ]
      },
      {
       "output_type": "stream",
       "stream": "stderr",
       "text": [
        "[2999]\ttrain-rmse:1.105964\tval-rmse:1.898553\n"
       ]
      }
     ],
     "prompt_number": 83
    },
    {
     "cell_type": "code",
     "collapsed": false,
     "input": [
      "xgb.plot_importance(model)\n",
      "\n",
      "## importance: f1,f15,f0,f2,f18,f16,f27,f13\n",
      "col_k = [1,15,0,2,18,16,27,13,3,4,26,9,25,20,11,5,19,8,17,12,14]\n",
      "\n",
      "print columns[col_k]"
     ],
     "language": "python",
     "metadata": {},
     "outputs": [
      {
       "output_type": "stream",
       "stream": "stdout",
       "text": [
        "Index([u'T1_V2', u'T2_V1', u'T1_V1', u'T1_V3', u'T2_V4', u'T2_V2', u'T2_V15',\n",
        "       u'T1_V16', u'T1_V4', u'T1_V5', u'T2_V14', u'T1_V11', u'T2_V13',\n",
        "       u'T2_V6', u'T1_V14', u'T1_V6', u'T2_V5', u'T1_V9', u'T2_V3', u'T1_V15',\n",
        "       u'T1_V17'],\n",
        "      dtype='object')\n"
       ]
      },
      {
       "metadata": {},
       "output_type": "display_data",
       "png": "[encoded data removed]",
       "text": [
        "<matplotlib.figure.Figure at 0x7fdc481b8390>"
       ]
      }
     ],
     "prompt_number": 14
    },
    {
     "cell_type": "code",
     "collapsed": false,
     "input": [
      "\n",
      "print 'Submit'\n",
      "preds1 = model.predict(xgsubmit)\n",
      "\n",
      "# generate solution file\n",
      "preds = pd.DataFrame({\"Id\": submit_ind, \"Hazard\": preds1})\n",
      "preds = preds.set_index('Id')\n",
      "print preds.head()\n",
      "preds.to_csv('submit_dev_20150824_1.csv')\n",
      "\n",
      "print 'Computing lables in test data'\n",
      "preds2 = model.predict(xgtest)\n",
      "\n",
      "# generate solution file\n",
      "preds = pd.DataFrame({\"Hazard\": test_labels, \"Model_Hazard\": preds2})\n",
      "preds = preds.set_index('Hazard')\n",
      "print preds.head(11)\n",
      "\n",
      "print 'Gini (Duvidoso)'\n",
      "print Gini1(test_labels,preds2)\n",
      "print Gini2(test_labels,preds2)\n",
      "\n",
      "print 'rmse' \n",
      "print np.sqrt( np.mean((test_labels - preds2)**2) )\n",
      "\n",
      "preds.to_csv('test_dev_20150824_1.csv')\n",
      "\n",
      "print 'Current dir:'\n",
      "%pwd"
     ],
     "language": "python",
     "metadata": {},
     "outputs": [
      {
       "output_type": "stream",
       "stream": "stdout",
       "text": [
        "Submit\n",
        "       Hazard\n",
        "Id           \n",
        "6    3.066651\n",
        "7    9.934229\n",
        "8   12.975117\n",
        "9    6.175351\n",
        "10   4.229500"
       ]
      },
      {
       "output_type": "stream",
       "stream": "stdout",
       "text": [
        "\n",
        "Computing lables in test data"
       ]
      },
      {
       "output_type": "stream",
       "stream": "stdout",
       "text": [
        "\n",
        "        Model_Hazard\n",
        "Hazard              \n",
        "22          8.750013\n",
        "37         11.065730\n",
        "23          7.737857\n",
        "23          9.968647\n",
        "22          8.284258"
       ]
      },
      {
       "output_type": "stream",
       "stream": "stdout",
       "text": [
        "\n",
        "Gini (Duvidoso)\n",
        "0.166500195883\n",
        "0.141624442974\n",
        "rmse\n",
        "19.6027104661\n",
        "Current dir:\n"
       ]
      },
      {
       "metadata": {},
       "output_type": "pyout",
       "prompt_number": 84,
       "text": [
        "u'/home/leandroohf/Documents/kaggle/Liberty_Mutual_Group_Property_Inspection_Prediction/dev'"
       ]
      }
     ],
     "prompt_number": 84
    }
   ],
   "metadata": {}
  }
 ]
}