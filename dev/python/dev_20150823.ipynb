{
 "metadata": {
  "name": ""
 },
 "nbformat": 3,
 "nbformat_minor": 0,
 "worksheets": [
  {
   "cells": [
    {
     "cell_type": "markdown",
     "metadata": {},
     "source": [
      "# Testing work with categorical columns\n",
      "\n",
      "Considerei apenas algumas Hazard < 21\n",
      "E mantive demais parametros.\n",
      "\n",
      "kaglle score: 0.384972 nlogik: 2.718054\n",
      "Meu melhor kaglle score: 0.3850\n"
     ]
    },
    {
     "cell_type": "code",
     "collapsed": false,
     "input": [
      "import pandas as pd\n",
      "import numpy as np \n",
      "from sklearn import preprocessing\n",
      "import xgboost as xgb\n",
      "\n",
      "#load train and test \n",
      "train  = pd.read_csv('../data/raw/train.csv', index_col=0)\n",
      "test   = pd.read_csv('../data/raw/test.csv', index_col=0)\n",
      "\n",
      "print train.shape\n",
      "## XXX Parece BUG head() nao mostra a ultimas colunas: 10,20,30\n",
      "## Entao eu tive que duplicar para imprimir todas as colunas\n",
      "print train.iloc[:,0:10].head()\n",
      "print train.iloc[:,10:20].head()\n",
      "print train.iloc[:,20:30].head()\n",
      "print train.iloc[:,30:33].head()\n",
      "print \"==========================\"\n",
      "\n",
      "labels = train.Hazard\n",
      "#train.drop('Hazard', axis=1, inplace=True)\n",
      "print \"Harzard\"\n",
      "print labels.unique()\n",
      "print labels.astype('category').describe()\n",
      "#print labels.value_counts()\n",
      "%matplotlib inline\n",
      "labels.hist(bins=69)"
     ],
     "language": "python",
     "metadata": {},
     "outputs": [
      {
       "output_type": "stream",
       "stream": "stdout",
       "text": [
        "(50999, 33)\n",
        "    Hazard  T1_V1  T1_V2  T1_V3 T1_V4 T1_V5 T1_V6 T1_V7 T1_V8 T1_V9\n",
        "Id                                                                 \n",
        "1        1     15      3      2     N     B     N     B     B     D\n",
        "2        4     16     14      5     H     B     N     B     B     C\n",
        "3        1     10     10      5     N     K     N     B     B     E\n",
        "4        1     18     18      5     N     K     N     B     B     E\n",
        "5        1     13     19      5     N     H     N     B     B     E\n",
        "    T1_V10 T1_V11 T1_V12  T1_V13  T1_V14 T1_V15 T1_V16 T1_V17  T2_V1  T2_V2\n",
        "Id                                                                         \n",
        "1        7      B      B      15       1      A      B      N     36     11\n",
        "2       12      B      B      10       3      A      B      Y     78     10\n",
        "3       12      H      B      15       1      A      R      Y     71     21\n",
        "4        3      H      B      15       1      A      R      N     71     13\n",
        "5        7      H      B      10       1      A      J      N     75     10\n",
        "   T2_V3  T2_V4 T2_V5  T2_V6  T2_V7  T2_V8  T2_V9  T2_V10 T2_V11 T2_V12\n",
        "Id                                                                     \n",
        "1      N     10     B      2     37      1     11       6      Y      N\n",
        "2      Y     17     C      2     22      1     18       5      Y      Y\n",
        "3      Y     13     C      6     37      2     14       6      Y      Y\n",
        "4      N     15     A      2     25      1      1       6      Y      N\n",
        "5      Y     11     B      1     22      1      2       7      N      N\n",
        "   T2_V13  T2_V14  T2_V15\n",
        "Id                       \n",
        "1       E       2       2\n",
        "2       E       2       1\n",
        "3       E       6       1\n",
        "4       C       2       6\n",
        "5       E       1       1\n",
        "==========================\n",
        "Harzard\n",
        "[ 1  4  5  7 15 14  8 16  6 11  3 13  2 18 10 17 22  9 21 20 12 19 37 23 28\n",
        " 27 31 38 41 26 33 29 30 25 24 36 51 42 34 46 32 69 40 35 44 39 49 52 63 64]\n",
        "count     50999\n",
        "unique       50\n",
        "top           1\n",
        "freq      18981\n",
        "Name: Hazard, dtype: int64\n"
       ]
      },
      {
       "metadata": {},
       "output_type": "pyout",
       "prompt_number": 36,
       "text": [
        "<matplotlib.axes.AxesSubplot at 0x7f4d8b755290>"
       ]
      },
      {
       "metadata": {},
       "output_type": "display_data",
       "png": "[encoded data removed]",
       "text": [
        "<matplotlib.figure.Figure at 0x7f4d86f5afd0>"
       ]
      }
     ],
     "prompt_number": 36
    },
    {
     "cell_type": "markdown",
     "metadata": {},
     "source": [
      "Spliting data in categorical and numeric"
     ]
    },
    {
     "cell_type": "markdown",
     "metadata": {},
     "source": [
      "\n",
      "## Prepaing training data"
     ]
    },
    {
     "cell_type": "code",
     "collapsed": false,
     "input": [
      "## Fazendo copia dos dados\n",
      "train2 = train.copy()\n",
      "test2 = test.copy()\n",
      "\n",
      "print \"Printing intial train dim:\"\n",
      "print train2.shape\n",
      "print \"Considering Hazard < 21 in train data\"\n",
      "\n",
      "train2 = train2[ train2['Hazard'] < 21]\n",
      "labels = labels[ labels < 21]\n",
      "\n",
      "print \"Droping columns\"\n",
      "\n",
      "train2.drop('Hazard', axis=1, inplace=True)\n",
      "train2.drop('T2_V10', axis=1, inplace=True)\n",
      "train2.drop('T2_V7', axis=1, inplace=True)\n",
      "train2.drop('T1_V13', axis=1, inplace=True)\n",
      "train2.drop('T1_V10', axis=1, inplace=True)\n",
      "\n",
      "test2.drop('T2_V10', axis=1, inplace=True)\n",
      "test2.drop('T2_V7', axis=1, inplace=True)\n",
      "test2.drop('T1_V13', axis=1, inplace=True)\n",
      "test2.drop('T1_V10', axis=1, inplace=True)\n",
      "\n",
      "print \"Printing train dim:\"\n",
      "print train2.shape\n",
      "print \"Printing test dim:\"\n",
      "print test2.shape\n",
      "\n",
      "\n",
      "columns = train2.columns\n",
      "test_ind = test2.index\n",
      "\n",
      "print \"Converting to numpy array\"\n",
      "\n",
      "train2 = np.array(train2)\n",
      "test2 = np.array(test2)"
     ],
     "language": "python",
     "metadata": {},
     "outputs": [
      {
       "output_type": "stream",
       "stream": "stdout",
       "text": [
        "Printing intial train dim:\n",
        "(50999, 33)\n",
        "Considering Hazard < 21 in train data\n",
        "Droping columns\n",
        "Printing train dim:"
       ]
      },
      {
       "output_type": "stream",
       "stream": "stdout",
       "text": [
        "\n",
        "(50663, 28)\n",
        "Printing test dim:\n",
        "(51000, 28)\n",
        "Converting to numpy array\n"
       ]
      }
     ],
     "prompt_number": 37
    },
    {
     "cell_type": "markdown",
     "metadata": {},
     "source": [
      "## Seting model parameters"
     ]
    },
    {
     "cell_type": "code",
     "collapsed": false,
     "input": [
      "lbl = preprocessing.LabelEncoder()\n",
      "\n",
      "print \"Converting string columns to numerical levels\"\n",
      "# label encode the categorical variables\n",
      "for i in range(train2.shape[1]):\n",
      "    lbl = preprocessing.LabelEncoder()\n",
      "    lbl.fit(list(train2[:,i]) + list(test2[:,i]))\n",
      "    train2[:,i] = lbl.transform(train2[:,i])\n",
      "    test2[:,i] = lbl.transform(test2[:,i])\n",
      "\n",
      "train2 = train2.astype(float)\n",
      "test2 = test2.astype(float)\n",
      "\n",
      "print train2.shape"
     ],
     "language": "python",
     "metadata": {},
     "outputs": [
      {
       "output_type": "stream",
       "stream": "stdout",
       "text": [
        "Converting string columns to numerical levels\n",
        "(50663, 28)"
       ]
      },
      {
       "output_type": "stream",
       "stream": "stdout",
       "text": [
        "\n"
       ]
      }
     ],
     "prompt_number": 39
    },
    {
     "cell_type": "code",
     "collapsed": false,
     "input": [
      "params = {}\n",
      "params[\"objective\"] = \"count:poisson\" # \"reg:linear\" \n",
      "params[\"eta\"] = 0.0075\n",
      "params[\"min_child_weight\"] = 5\n",
      "params[\"subsample\"] = 0.8\n",
      "params[\"colsample_bytree\"] = 0.8\n",
      "params[\"scale_pos_weight\"] = 1.0\n",
      "params[\"silent\"] = 1\n",
      "params[\"booster\"] = \"gbtree\"\n",
      "params[\"max_depth\"] = 13\n",
      "\n",
      "plst = list(params.items())\n",
      "print \"Prameters list\"\n",
      "print plst\n",
      "\n",
      "#Using 5000 rows for early stopping. \n",
      "offset = 5000\n",
      "\n",
      "num_rounds = 2000\n",
      "xgtest = xgb.DMatrix(test2)\n",
      "\n",
      "#create a train and validation dmatrices \n",
      "xgtrain = xgb.DMatrix(train2[offset:,:], label=labels[offset:])\n",
      "xgval = xgb.DMatrix(train2[:offset,:], label=labels[:offset])\n",
      "\n",
      "print \"number of row xgtest\"\n",
      "print xgtest.num_row()\n",
      "\n",
      "print \"number of row xgtrain\"\n",
      "print xgtrain.num_row()"
     ],
     "language": "python",
     "metadata": {},
     "outputs": [
      {
       "output_type": "stream",
       "stream": "stdout",
       "text": [
        "Prameters list\n",
        "[('colsample_bytree', 0.8), ('silent', 0), ('scale_pos_weight', 1.0), ('min_child_weight', 5), ('subsample', 0.8), ('eta', 0.01), ('objective', 'count:poisson'), ('max_depth', 10), ('booster', 'gbtree')]\n",
        "number of row xgtest"
       ]
      },
      {
       "output_type": "stream",
       "stream": "stdout",
       "text": [
        "\n",
        "51000\n",
        "number of row xgtrain\n",
        "45663\n"
       ]
      }
     ],
     "prompt_number": 40
    },
    {
     "cell_type": "markdown",
     "metadata": {},
     "source": [
      "## Training XGBoost"
     ]
    },
    {
     "cell_type": "code",
     "collapsed": false,
     "input": [
      "#train using early stopping and predict\n",
      "watchlist = [(xgtrain, 'train'),(xgval, 'val')]\n",
      "model = xgb.train(plst, xgtrain, num_rounds, watchlist, early_stopping_rounds=10)"
     ],
     "language": "python",
     "metadata": {},
     "outputs": [
      {
       "output_type": "stream",
       "stream": "stderr",
       "text": [
        "Will train until val error hasn't decreased in 10 rounds.\n",
        "[0]\ttrain-poisson-nloglik:7.256818\tval-poisson-nloglik:7.313910\n"
       ]
      },
      {
       "output_type": "stream",
       "stream": "stderr",
       "text": [
        "[1]\ttrain-poisson-nloglik:7.136083\tval-poisson-nloglik:7.200873\n",
        "[2]\ttrain-poisson-nloglik:7.019101\tval-poisson-nloglik:7.092388\n"
       ]
      },
      {
       "output_type": "stream",
       "stream": "stderr",
       "text": [
        "[3]\ttrain-poisson-nloglik:6.908746\tval-poisson-nloglik:6.989448\n",
        "[4]\ttrain-poisson-nloglik:6.801341\tval-poisson-nloglik:6.887798\n"
       ]
      },
      {
       "output_type": "stream",
       "stream": "stderr",
       "text": [
        "[5]\ttrain-poisson-nloglik:6.697664\tval-poisson-nloglik:6.792465\n",
        "[6]\ttrain-poisson-nloglik:6.600169\tval-poisson-nloglik:6.699606\n"
       ]
      },
      {
       "output_type": "stream",
       "stream": "stderr",
       "text": [
        "[7]\ttrain-poisson-nloglik:6.504800\tval-poisson-nloglik:6.611676\n",
        "[8]\ttrain-poisson-nloglik:6.413119\tval-poisson-nloglik:6.526906\n"
       ]
      },
      {
       "output_type": "stream",
       "stream": "stderr",
       "text": [
        "[9]\ttrain-poisson-nloglik:6.324776\tval-poisson-nloglik:6.444369\n",
        "[10]\ttrain-poisson-nloglik:6.239851\tval-poisson-nloglik:6.365119\n"
       ]
      },
      {
       "output_type": "stream",
       "stream": "stderr",
       "text": [
        "[11]\ttrain-poisson-nloglik:6.157726\tval-poisson-nloglik:6.289129\n",
        "[12]\ttrain-poisson-nloglik:6.078646\tval-poisson-nloglik:6.214311\n"
       ]
      },
      {
       "output_type": "stream",
       "stream": "stderr",
       "text": [
        "[13]\ttrain-poisson-nloglik:6.002112\tval-poisson-nloglik:6.143757\n",
        "[14]\ttrain-poisson-nloglik:5.927172\tval-poisson-nloglik:6.074701\n"
       ]
      },
      {
       "output_type": "stream",
       "stream": "stderr",
       "text": [
        "[15]\ttrain-poisson-nloglik:5.856047\tval-poisson-nloglik:6.007656\n",
        "[16]\ttrain-poisson-nloglik:5.786592\tval-poisson-nloglik:5.943680\n"
       ]
      },
      {
       "output_type": "stream",
       "stream": "stderr",
       "text": [
        "[17]\ttrain-poisson-nloglik:5.719761\tval-poisson-nloglik:5.881030\n",
        "[18]\ttrain-poisson-nloglik:5.654450\tval-poisson-nloglik:5.819817\n"
       ]
      },
      {
       "output_type": "stream",
       "stream": "stderr",
       "text": [
        "[19]\ttrain-poisson-nloglik:5.590861\tval-poisson-nloglik:5.760320\n",
        "[20]\ttrain-poisson-nloglik:5.529067\tval-poisson-nloglik:5.702507\n"
       ]
      },
      {
       "output_type": "stream",
       "stream": "stderr",
       "text": [
        "[21]\ttrain-poisson-nloglik:5.469220\tval-poisson-nloglik:5.647433\n",
        "[22]\ttrain-poisson-nloglik:5.410775\tval-poisson-nloglik:5.592989\n"
       ]
      },
      {
       "output_type": "stream",
       "stream": "stderr",
       "text": [
        "[23]\ttrain-poisson-nloglik:5.354553\tval-poisson-nloglik:5.540370\n",
        "[24]\ttrain-poisson-nloglik:5.299498\tval-poisson-nloglik:5.488842\n"
       ]
      },
      {
       "output_type": "stream",
       "stream": "stderr",
       "text": [
        "[25]\ttrain-poisson-nloglik:5.246778\tval-poisson-nloglik:5.439034\n",
        "[26]\ttrain-poisson-nloglik:5.194321\tval-poisson-nloglik:5.390150\n"
       ]
      },
      {
       "output_type": "stream",
       "stream": "stderr",
       "text": [
        "[27]\ttrain-poisson-nloglik:5.143913\tval-poisson-nloglik:5.342590\n",
        "[28]\ttrain-poisson-nloglik:5.094310\tval-poisson-nloglik:5.296868\n"
       ]
      },
      {
       "output_type": "stream",
       "stream": "stderr",
       "text": [
        "[29]\ttrain-poisson-nloglik:5.046082\tval-poisson-nloglik:5.252025\n",
        "[30]\ttrain-poisson-nloglik:4.999526\tval-poisson-nloglik:5.208153\n"
       ]
      },
      {
       "output_type": "stream",
       "stream": "stderr",
       "text": [
        "[31]\ttrain-poisson-nloglik:4.953265\tval-poisson-nloglik:5.165112\n",
        "[32]\ttrain-poisson-nloglik:4.908385\tval-poisson-nloglik:5.123045\n"
       ]
      },
      {
       "output_type": "stream",
       "stream": "stderr",
       "text": [
        "[33]\ttrain-poisson-nloglik:4.864910\tval-poisson-nloglik:5.082106\n",
        "[34]\ttrain-poisson-nloglik:4.822556\tval-poisson-nloglik:5.041912\n"
       ]
      },
      {
       "output_type": "stream",
       "stream": "stderr",
       "text": [
        "[35]\ttrain-poisson-nloglik:4.780541\tval-poisson-nloglik:5.002640\n",
        "[36]\ttrain-poisson-nloglik:4.740033\tval-poisson-nloglik:4.964665\n"
       ]
      },
      {
       "output_type": "stream",
       "stream": "stderr",
       "text": [
        "[37]\ttrain-poisson-nloglik:4.700779\tval-poisson-nloglik:4.927208\n",
        "[38]\ttrain-poisson-nloglik:4.661816\tval-poisson-nloglik:4.890612\n"
       ]
      },
      {
       "output_type": "stream",
       "stream": "stderr",
       "text": [
        "[39]\ttrain-poisson-nloglik:4.623661\tval-poisson-nloglik:4.855069\n",
        "[40]\ttrain-poisson-nloglik:4.587072\tval-poisson-nloglik:4.820260\n"
       ]
      },
      {
       "output_type": "stream",
       "stream": "stderr",
       "text": [
        "[41]\ttrain-poisson-nloglik:4.550554\tval-poisson-nloglik:4.786240\n",
        "[42]\ttrain-poisson-nloglik:4.515111\tval-poisson-nloglik:4.753000\n"
       ]
      },
      {
       "output_type": "stream",
       "stream": "stderr",
       "text": [
        "[43]\ttrain-poisson-nloglik:4.480489\tval-poisson-nloglik:4.720444\n",
        "[44]\ttrain-poisson-nloglik:4.446224\tval-poisson-nloglik:4.688785\n"
       ]
      },
      {
       "output_type": "stream",
       "stream": "stderr",
       "text": [
        "[45]\ttrain-poisson-nloglik:4.412722\tval-poisson-nloglik:4.658177\n",
        "[46]\ttrain-poisson-nloglik:4.379799\tval-poisson-nloglik:4.627559\n"
       ]
      },
      {
       "output_type": "stream",
       "stream": "stderr",
       "text": [
        "[47]\ttrain-poisson-nloglik:4.347922\tval-poisson-nloglik:4.597811\n",
        "[48]\ttrain-poisson-nloglik:4.316236\tval-poisson-nloglik:4.568704\n"
       ]
      },
      {
       "output_type": "stream",
       "stream": "stderr",
       "text": [
        "[49]\ttrain-poisson-nloglik:4.285480\tval-poisson-nloglik:4.539952\n",
        "[50]\ttrain-poisson-nloglik:4.255600\tval-poisson-nloglik:4.511960\n"
       ]
      },
      {
       "output_type": "stream",
       "stream": "stderr",
       "text": [
        "[51]\ttrain-poisson-nloglik:4.225919\tval-poisson-nloglik:4.484915\n",
        "[52]\ttrain-poisson-nloglik:4.197001\tval-poisson-nloglik:4.458160\n"
       ]
      },
      {
       "output_type": "stream",
       "stream": "stderr",
       "text": [
        "[53]\ttrain-poisson-nloglik:4.168402\tval-poisson-nloglik:4.432047\n",
        "[54]\ttrain-poisson-nloglik:4.140381\tval-poisson-nloglik:4.406617\n"
       ]
      },
      {
       "output_type": "stream",
       "stream": "stderr",
       "text": [
        "[55]\ttrain-poisson-nloglik:4.112961\tval-poisson-nloglik:4.380951\n",
        "[56]\ttrain-poisson-nloglik:4.085969\tval-poisson-nloglik:4.356010\n"
       ]
      },
      {
       "output_type": "stream",
       "stream": "stderr",
       "text": [
        "[57]\ttrain-poisson-nloglik:4.059675\tval-poisson-nloglik:4.331986\n",
        "[58]\ttrain-poisson-nloglik:4.033858\tval-poisson-nloglik:4.308260\n"
       ]
      },
      {
       "output_type": "stream",
       "stream": "stderr",
       "text": [
        "[59]\ttrain-poisson-nloglik:4.008524\tval-poisson-nloglik:4.285110\n",
        "[60]\ttrain-poisson-nloglik:3.984126\tval-poisson-nloglik:4.262211\n"
       ]
      },
      {
       "output_type": "stream",
       "stream": "stderr",
       "text": [
        "[61]\ttrain-poisson-nloglik:3.959946\tval-poisson-nloglik:4.239861\n",
        "[62]\ttrain-poisson-nloglik:3.936138\tval-poisson-nloglik:4.217785\n"
       ]
      },
      {
       "output_type": "stream",
       "stream": "stderr",
       "text": [
        "[63]\ttrain-poisson-nloglik:3.912609\tval-poisson-nloglik:4.196112\n",
        "[64]\ttrain-poisson-nloglik:3.889369\tval-poisson-nloglik:4.174944\n"
       ]
      },
      {
       "output_type": "stream",
       "stream": "stderr",
       "text": [
        "[65]\ttrain-poisson-nloglik:3.866704\tval-poisson-nloglik:4.154151\n",
        "[66]\ttrain-poisson-nloglik:3.844638\tval-poisson-nloglik:4.133507\n"
       ]
      },
      {
       "output_type": "stream",
       "stream": "stderr",
       "text": [
        "[67]\ttrain-poisson-nloglik:3.823166\tval-poisson-nloglik:4.113527\n",
        "[68]\ttrain-poisson-nloglik:3.802007\tval-poisson-nloglik:4.093944\n"
       ]
      },
      {
       "output_type": "stream",
       "stream": "stderr",
       "text": [
        "[69]\ttrain-poisson-nloglik:3.781143\tval-poisson-nloglik:4.074702\n",
        "[70]\ttrain-poisson-nloglik:3.760398\tval-poisson-nloglik:4.055682\n"
       ]
      },
      {
       "output_type": "stream",
       "stream": "stderr",
       "text": [
        "[71]\ttrain-poisson-nloglik:3.739836\tval-poisson-nloglik:4.037313\n",
        "[72]\ttrain-poisson-nloglik:3.719970\tval-poisson-nloglik:4.018693\n"
       ]
      },
      {
       "output_type": "stream",
       "stream": "stderr",
       "text": [
        "[73]\ttrain-poisson-nloglik:3.700257\tval-poisson-nloglik:4.000569\n",
        "[74]\ttrain-poisson-nloglik:3.680708\tval-poisson-nloglik:3.982829\n"
       ]
      },
      {
       "output_type": "stream",
       "stream": "stderr",
       "text": [
        "[75]\ttrain-poisson-nloglik:3.661783\tval-poisson-nloglik:3.965133\n",
        "[76]\ttrain-poisson-nloglik:3.643340\tval-poisson-nloglik:3.947926\n"
       ]
      },
      {
       "output_type": "stream",
       "stream": "stderr",
       "text": [
        "[77]\ttrain-poisson-nloglik:3.624852\tval-poisson-nloglik:3.931049\n",
        "[78]\ttrain-poisson-nloglik:3.606701\tval-poisson-nloglik:3.914358\n"
       ]
      },
      {
       "output_type": "stream",
       "stream": "stderr",
       "text": [
        "[79]\ttrain-poisson-nloglik:3.588987\tval-poisson-nloglik:3.898079\n",
        "[80]\ttrain-poisson-nloglik:3.571752\tval-poisson-nloglik:3.881891\n"
       ]
      },
      {
       "output_type": "stream",
       "stream": "stderr",
       "text": [
        "[81]\ttrain-poisson-nloglik:3.554657\tval-poisson-nloglik:3.866239\n",
        "[82]\ttrain-poisson-nloglik:3.537812\tval-poisson-nloglik:3.850648\n"
       ]
      },
      {
       "output_type": "stream",
       "stream": "stderr",
       "text": [
        "[83]\ttrain-poisson-nloglik:3.521203\tval-poisson-nloglik:3.835632\n",
        "[84]\ttrain-poisson-nloglik:3.504842\tval-poisson-nloglik:3.820932\n"
       ]
      },
      {
       "output_type": "stream",
       "stream": "stderr",
       "text": [
        "[85]\ttrain-poisson-nloglik:3.488739\tval-poisson-nloglik:3.806201\n",
        "[86]\ttrain-poisson-nloglik:3.472769\tval-poisson-nloglik:3.791988\n"
       ]
      },
      {
       "output_type": "stream",
       "stream": "stderr",
       "text": [
        "[87]\ttrain-poisson-nloglik:3.457279\tval-poisson-nloglik:3.777715\n",
        "[88]\ttrain-poisson-nloglik:3.441989\tval-poisson-nloglik:3.763459\n"
       ]
      },
      {
       "output_type": "stream",
       "stream": "stderr",
       "text": [
        "[89]\ttrain-poisson-nloglik:3.426948\tval-poisson-nloglik:3.749933\n",
        "[90]\ttrain-poisson-nloglik:3.411798\tval-poisson-nloglik:3.736557\n"
       ]
      },
      {
       "output_type": "stream",
       "stream": "stderr",
       "text": [
        "[91]\ttrain-poisson-nloglik:3.397379\tval-poisson-nloglik:3.723189\n",
        "[92]\ttrain-poisson-nloglik:3.382659\tval-poisson-nloglik:3.710306\n"
       ]
      },
      {
       "output_type": "stream",
       "stream": "stderr",
       "text": [
        "[93]\ttrain-poisson-nloglik:3.368545\tval-poisson-nloglik:3.697142\n",
        "[94]\ttrain-poisson-nloglik:3.354764\tval-poisson-nloglik:3.684534\n"
       ]
      },
      {
       "output_type": "stream",
       "stream": "stderr",
       "text": [
        "[95]\ttrain-poisson-nloglik:3.341161\tval-poisson-nloglik:3.671830\n",
        "[96]\ttrain-poisson-nloglik:3.327965\tval-poisson-nloglik:3.659512\n"
       ]
      },
      {
       "output_type": "stream",
       "stream": "stderr",
       "text": [
        "[97]\ttrain-poisson-nloglik:3.314462\tval-poisson-nloglik:3.647517\n",
        "[98]\ttrain-poisson-nloglik:3.301202\tval-poisson-nloglik:3.635444\n"
       ]
      },
      {
       "output_type": "stream",
       "stream": "stderr",
       "text": [
        "[99]\ttrain-poisson-nloglik:3.288417\tval-poisson-nloglik:3.623517\n",
        "[100]\ttrain-poisson-nloglik:3.275590\tval-poisson-nloglik:3.612047\n"
       ]
      },
      {
       "output_type": "stream",
       "stream": "stderr",
       "text": [
        "[101]\ttrain-poisson-nloglik:3.263096\tval-poisson-nloglik:3.600855\n",
        "[102]\ttrain-poisson-nloglik:3.250804\tval-poisson-nloglik:3.589404\n"
       ]
      },
      {
       "output_type": "stream",
       "stream": "stderr",
       "text": [
        "[103]\ttrain-poisson-nloglik:3.238641\tval-poisson-nloglik:3.578162\n",
        "[104]\ttrain-poisson-nloglik:3.226660\tval-poisson-nloglik:3.567144\n"
       ]
      },
      {
       "output_type": "stream",
       "stream": "stderr",
       "text": [
        "[105]\ttrain-poisson-nloglik:3.214808\tval-poisson-nloglik:3.556314\n",
        "[106]\ttrain-poisson-nloglik:3.203204\tval-poisson-nloglik:3.545857\n"
       ]
      },
      {
       "output_type": "stream",
       "stream": "stderr",
       "text": [
        "[107]\ttrain-poisson-nloglik:3.191684\tval-poisson-nloglik:3.535426\n",
        "[108]\ttrain-poisson-nloglik:3.180306\tval-poisson-nloglik:3.525080\n"
       ]
      },
      {
       "output_type": "stream",
       "stream": "stderr",
       "text": [
        "[109]\ttrain-poisson-nloglik:3.169044\tval-poisson-nloglik:3.514868\n",
        "[110]\ttrain-poisson-nloglik:3.158038\tval-poisson-nloglik:3.505049\n"
       ]
      },
      {
       "output_type": "stream",
       "stream": "stderr",
       "text": [
        "[111]\ttrain-poisson-nloglik:3.147000\tval-poisson-nloglik:3.495215\n",
        "[112]\ttrain-poisson-nloglik:3.136288\tval-poisson-nloglik:3.485716\n"
       ]
      },
      {
       "output_type": "stream",
       "stream": "stderr",
       "text": [
        "[113]\ttrain-poisson-nloglik:3.125533\tval-poisson-nloglik:3.476105\n",
        "[114]\ttrain-poisson-nloglik:3.115039\tval-poisson-nloglik:3.466719\n"
       ]
      },
      {
       "output_type": "stream",
       "stream": "stderr",
       "text": [
        "[115]\ttrain-poisson-nloglik:3.104811\tval-poisson-nloglik:3.457488\n",
        "[116]\ttrain-poisson-nloglik:3.094806\tval-poisson-nloglik:3.448505\n"
       ]
      },
      {
       "output_type": "stream",
       "stream": "stderr",
       "text": [
        "[117]\ttrain-poisson-nloglik:3.084919\tval-poisson-nloglik:3.439574\n",
        "[118]\ttrain-poisson-nloglik:3.075102\tval-poisson-nloglik:3.430756\n"
       ]
      },
      {
       "output_type": "stream",
       "stream": "stderr",
       "text": [
        "[119]\ttrain-poisson-nloglik:3.065662\tval-poisson-nloglik:3.422103\n",
        "[120]\ttrain-poisson-nloglik:3.056231\tval-poisson-nloglik:3.413581\n"
       ]
      },
      {
       "output_type": "stream",
       "stream": "stderr",
       "text": [
        "[121]\ttrain-poisson-nloglik:3.046667\tval-poisson-nloglik:3.404835\n",
        "[122]\ttrain-poisson-nloglik:3.037119\tval-poisson-nloglik:3.396605\n"
       ]
      },
      {
       "output_type": "stream",
       "stream": "stderr",
       "text": [
        "[123]\ttrain-poisson-nloglik:3.027779\tval-poisson-nloglik:3.388203\n",
        "[124]\ttrain-poisson-nloglik:3.018718\tval-poisson-nloglik:3.380082\n"
       ]
      },
      {
       "output_type": "stream",
       "stream": "stderr",
       "text": [
        "[125]\ttrain-poisson-nloglik:3.009620\tval-poisson-nloglik:3.372144\n",
        "[126]\ttrain-poisson-nloglik:3.000770\tval-poisson-nloglik:3.364002\n"
       ]
      },
      {
       "output_type": "stream",
       "stream": "stderr",
       "text": [
        "[127]\ttrain-poisson-nloglik:2.991926\tval-poisson-nloglik:3.356256\n",
        "[128]\ttrain-poisson-nloglik:2.983356\tval-poisson-nloglik:3.348543\n"
       ]
      },
      {
       "output_type": "stream",
       "stream": "stderr",
       "text": [
        "[129]\ttrain-poisson-nloglik:2.974865\tval-poisson-nloglik:3.340957\n",
        "[130]\ttrain-poisson-nloglik:2.966396\tval-poisson-nloglik:3.333318\n"
       ]
      },
      {
       "output_type": "stream",
       "stream": "stderr",
       "text": [
        "[131]\ttrain-poisson-nloglik:2.957783\tval-poisson-nloglik:3.325783\n",
        "[132]\ttrain-poisson-nloglik:2.949541\tval-poisson-nloglik:3.318460\n"
       ]
      },
      {
       "output_type": "stream",
       "stream": "stderr",
       "text": [
        "[133]\ttrain-poisson-nloglik:2.941698\tval-poisson-nloglik:3.311383\n",
        "[134]\ttrain-poisson-nloglik:2.933868\tval-poisson-nloglik:3.304390\n"
       ]
      },
      {
       "output_type": "stream",
       "stream": "stderr",
       "text": [
        "[135]\ttrain-poisson-nloglik:2.926098\tval-poisson-nloglik:3.297491\n",
        "[136]\ttrain-poisson-nloglik:2.918254\tval-poisson-nloglik:3.290618\n"
       ]
      },
      {
       "output_type": "stream",
       "stream": "stderr",
       "text": [
        "[137]\ttrain-poisson-nloglik:2.910538\tval-poisson-nloglik:3.283942\n",
        "[138]\ttrain-poisson-nloglik:2.903368\tval-poisson-nloglik:3.277306\n"
       ]
      },
      {
       "output_type": "stream",
       "stream": "stderr",
       "text": [
        "[139]\ttrain-poisson-nloglik:2.895802\tval-poisson-nloglik:3.270567\n",
        "[140]\ttrain-poisson-nloglik:2.888283\tval-poisson-nloglik:3.263823\n"
       ]
      },
      {
       "output_type": "stream",
       "stream": "stderr",
       "text": [
        "[141]\ttrain-poisson-nloglik:2.881100\tval-poisson-nloglik:3.257428\n",
        "[142]\ttrain-poisson-nloglik:2.873855\tval-poisson-nloglik:3.251090\n"
       ]
      },
      {
       "output_type": "stream",
       "stream": "stderr",
       "text": [
        "[143]\ttrain-poisson-nloglik:2.866779\tval-poisson-nloglik:3.244731\n",
        "[144]\ttrain-poisson-nloglik:2.859509\tval-poisson-nloglik:3.238655\n"
       ]
      },
      {
       "output_type": "stream",
       "stream": "stderr",
       "text": [
        "[145]\ttrain-poisson-nloglik:2.852688\tval-poisson-nloglik:3.232475\n",
        "[146]\ttrain-poisson-nloglik:2.845767\tval-poisson-nloglik:3.226494\n"
       ]
      },
      {
       "output_type": "stream",
       "stream": "stderr",
       "text": [
        "[147]\ttrain-poisson-nloglik:2.839154\tval-poisson-nloglik:3.220510\n",
        "[148]\ttrain-poisson-nloglik:2.832288\tval-poisson-nloglik:3.214854\n"
       ]
      },
      {
       "output_type": "stream",
       "stream": "stderr",
       "text": [
        "[149]\ttrain-poisson-nloglik:2.825486\tval-poisson-nloglik:3.209041\n",
        "[150]\ttrain-poisson-nloglik:2.818971\tval-poisson-nloglik:3.203349\n"
       ]
      },
      {
       "output_type": "stream",
       "stream": "stderr",
       "text": [
        "[151]\ttrain-poisson-nloglik:2.812234\tval-poisson-nloglik:3.197789\n",
        "[152]\ttrain-poisson-nloglik:2.805570\tval-poisson-nloglik:3.192203\n"
       ]
      },
      {
       "output_type": "stream",
       "stream": "stderr",
       "text": [
        "[153]\ttrain-poisson-nloglik:2.799456\tval-poisson-nloglik:3.186731\n",
        "[154]\ttrain-poisson-nloglik:2.793428\tval-poisson-nloglik:3.181242\n"
       ]
      },
      {
       "output_type": "stream",
       "stream": "stderr",
       "text": [
        "[155]\ttrain-poisson-nloglik:2.787092\tval-poisson-nloglik:3.175771\n",
        "[156]\ttrain-poisson-nloglik:2.781226\tval-poisson-nloglik:3.170404\n"
       ]
      },
      {
       "output_type": "stream",
       "stream": "stderr",
       "text": [
        "[157]\ttrain-poisson-nloglik:2.775399\tval-poisson-nloglik:3.165079\n",
        "[158]\ttrain-poisson-nloglik:2.769727\tval-poisson-nloglik:3.159956\n"
       ]
      },
      {
       "output_type": "stream",
       "stream": "stderr",
       "text": [
        "[159]\ttrain-poisson-nloglik:2.764069\tval-poisson-nloglik:3.154871\n",
        "[160]\ttrain-poisson-nloglik:2.758308\tval-poisson-nloglik:3.149829\n"
       ]
      },
      {
       "output_type": "stream",
       "stream": "stderr",
       "text": [
        "[161]\ttrain-poisson-nloglik:2.752763\tval-poisson-nloglik:3.144928\n",
        "[162]\ttrain-poisson-nloglik:2.747181\tval-poisson-nloglik:3.140156\n"
       ]
      },
      {
       "output_type": "stream",
       "stream": "stderr",
       "text": [
        "[163]\ttrain-poisson-nloglik:2.741570\tval-poisson-nloglik:3.135293\n",
        "[164]\ttrain-poisson-nloglik:2.736077\tval-poisson-nloglik:3.130497\n"
       ]
      },
      {
       "output_type": "stream",
       "stream": "stderr",
       "text": [
        "[165]\ttrain-poisson-nloglik:2.730727\tval-poisson-nloglik:3.125741\n",
        "[166]\ttrain-poisson-nloglik:2.725257\tval-poisson-nloglik:3.121055\n"
       ]
      },
      {
       "output_type": "stream",
       "stream": "stderr",
       "text": [
        "[167]\ttrain-poisson-nloglik:2.719985\tval-poisson-nloglik:3.116592\n",
        "[168]\ttrain-poisson-nloglik:2.714826\tval-poisson-nloglik:3.112141\n"
       ]
      },
      {
       "output_type": "stream",
       "stream": "stderr",
       "text": [
        "[169]\ttrain-poisson-nloglik:2.709699\tval-poisson-nloglik:3.107666\n",
        "[170]\ttrain-poisson-nloglik:2.704552\tval-poisson-nloglik:3.103463\n"
       ]
      },
      {
       "output_type": "stream",
       "stream": "stderr",
       "text": [
        "[171]\ttrain-poisson-nloglik:2.699403\tval-poisson-nloglik:3.099144\n",
        "[172]\ttrain-poisson-nloglik:2.694385\tval-poisson-nloglik:3.094940\n"
       ]
      },
      {
       "output_type": "stream",
       "stream": "stderr",
       "text": [
        "[173]\ttrain-poisson-nloglik:2.689625\tval-poisson-nloglik:3.090741\n",
        "[174]\ttrain-poisson-nloglik:2.684775\tval-poisson-nloglik:3.086586\n"
       ]
      },
      {
       "output_type": "stream",
       "stream": "stderr",
       "text": [
        "[175]\ttrain-poisson-nloglik:2.680029\tval-poisson-nloglik:3.082408\n",
        "[176]\ttrain-poisson-nloglik:2.675207\tval-poisson-nloglik:3.078114\n"
       ]
      },
      {
       "output_type": "stream",
       "stream": "stderr",
       "text": [
        "[177]\ttrain-poisson-nloglik:2.670412\tval-poisson-nloglik:3.074080\n",
        "[178]\ttrain-poisson-nloglik:2.665760\tval-poisson-nloglik:3.070102\n"
       ]
      },
      {
       "output_type": "stream",
       "stream": "stderr",
       "text": [
        "[179]\ttrain-poisson-nloglik:2.661229\tval-poisson-nloglik:3.066254\n",
        "[180]\ttrain-poisson-nloglik:2.656758\tval-poisson-nloglik:3.062457\n"
       ]
      },
      {
       "output_type": "stream",
       "stream": "stderr",
       "text": [
        "[181]\ttrain-poisson-nloglik:2.652167\tval-poisson-nloglik:3.058586\n",
        "[182]\ttrain-poisson-nloglik:2.647707\tval-poisson-nloglik:3.054907\n"
       ]
      },
      {
       "output_type": "stream",
       "stream": "stderr",
       "text": [
        "[183]\ttrain-poisson-nloglik:2.643105\tval-poisson-nloglik:3.051013\n",
        "[184]\ttrain-poisson-nloglik:2.638715\tval-poisson-nloglik:3.047260\n"
       ]
      },
      {
       "output_type": "stream",
       "stream": "stderr",
       "text": [
        "[185]\ttrain-poisson-nloglik:2.634382\tval-poisson-nloglik:3.043577\n",
        "[186]\ttrain-poisson-nloglik:2.630042\tval-poisson-nloglik:3.039990\n"
       ]
      },
      {
       "output_type": "stream",
       "stream": "stderr",
       "text": [
        "[187]\ttrain-poisson-nloglik:2.625747\tval-poisson-nloglik:3.036466\n",
        "[188]\ttrain-poisson-nloglik:2.621610\tval-poisson-nloglik:3.032944\n"
       ]
      },
      {
       "output_type": "stream",
       "stream": "stderr",
       "text": [
        "[189]\ttrain-poisson-nloglik:2.617553\tval-poisson-nloglik:3.029523\n",
        "[190]\ttrain-poisson-nloglik:2.613456\tval-poisson-nloglik:3.026078\n"
       ]
      },
      {
       "output_type": "stream",
       "stream": "stderr",
       "text": [
        "[191]\ttrain-poisson-nloglik:2.609326\tval-poisson-nloglik:3.022542\n",
        "[192]\ttrain-poisson-nloglik:2.605545\tval-poisson-nloglik:3.019116\n"
       ]
      },
      {
       "output_type": "stream",
       "stream": "stderr",
       "text": [
        "[193]\ttrain-poisson-nloglik:2.601665\tval-poisson-nloglik:3.015760\n",
        "[194]\ttrain-poisson-nloglik:2.597855\tval-poisson-nloglik:3.012632\n"
       ]
      },
      {
       "output_type": "stream",
       "stream": "stderr",
       "text": [
        "[195]\ttrain-poisson-nloglik:2.594055\tval-poisson-nloglik:3.009346\n",
        "[196]\ttrain-poisson-nloglik:2.590272\tval-poisson-nloglik:3.006075\n"
       ]
      },
      {
       "output_type": "stream",
       "stream": "stderr",
       "text": [
        "[197]\ttrain-poisson-nloglik:2.586587\tval-poisson-nloglik:3.003043\n",
        "[198]\ttrain-poisson-nloglik:2.582820\tval-poisson-nloglik:2.999733\n"
       ]
      },
      {
       "output_type": "stream",
       "stream": "stderr",
       "text": [
        "[199]\ttrain-poisson-nloglik:2.579007\tval-poisson-nloglik:2.996680\n",
        "[200]\ttrain-poisson-nloglik:2.575325\tval-poisson-nloglik:2.993563\n"
       ]
      },
      {
       "output_type": "stream",
       "stream": "stderr",
       "text": [
        "[201]\ttrain-poisson-nloglik:2.571857\tval-poisson-nloglik:2.990488\n",
        "[202]\ttrain-poisson-nloglik:2.568248\tval-poisson-nloglik:2.987481\n"
       ]
      },
      {
       "output_type": "stream",
       "stream": "stderr",
       "text": [
        "[203]\ttrain-poisson-nloglik:2.564879\tval-poisson-nloglik:2.984537\n",
        "[204]\ttrain-poisson-nloglik:2.561488\tval-poisson-nloglik:2.981611\n"
       ]
      },
      {
       "output_type": "stream",
       "stream": "stderr",
       "text": [
        "[205]\ttrain-poisson-nloglik:2.558102\tval-poisson-nloglik:2.978631\n",
        "[206]\ttrain-poisson-nloglik:2.554650\tval-poisson-nloglik:2.975803\n"
       ]
      },
      {
       "output_type": "stream",
       "stream": "stderr",
       "text": [
        "[207]\ttrain-poisson-nloglik:2.551386\tval-poisson-nloglik:2.972980\n",
        "[208]\ttrain-poisson-nloglik:2.548133\tval-poisson-nloglik:2.970185\n"
       ]
      },
      {
       "output_type": "stream",
       "stream": "stderr",
       "text": [
        "[209]\ttrain-poisson-nloglik:2.544748\tval-poisson-nloglik:2.967486\n",
        "[210]\ttrain-poisson-nloglik:2.541662\tval-poisson-nloglik:2.964908\n"
       ]
      },
      {
       "output_type": "stream",
       "stream": "stderr",
       "text": [
        "[211]\ttrain-poisson-nloglik:2.538395\tval-poisson-nloglik:2.962273\n",
        "[212]\ttrain-poisson-nloglik:2.535229\tval-poisson-nloglik:2.959659\n"
       ]
      },
      {
       "output_type": "stream",
       "stream": "stderr",
       "text": [
        "[213]\ttrain-poisson-nloglik:2.532045\tval-poisson-nloglik:2.957039\n",
        "[214]\ttrain-poisson-nloglik:2.528886\tval-poisson-nloglik:2.954453\n"
       ]
      },
      {
       "output_type": "stream",
       "stream": "stderr",
       "text": [
        "[215]\ttrain-poisson-nloglik:2.525785\tval-poisson-nloglik:2.951882\n",
        "[216]\ttrain-poisson-nloglik:2.522849\tval-poisson-nloglik:2.949290\n"
       ]
      },
      {
       "output_type": "stream",
       "stream": "stderr",
       "text": [
        "[217]\ttrain-poisson-nloglik:2.519904\tval-poisson-nloglik:2.946810\n",
        "[218]\ttrain-poisson-nloglik:2.516803\tval-poisson-nloglik:2.944338\n"
       ]
      },
      {
       "output_type": "stream",
       "stream": "stderr",
       "text": [
        "[219]\ttrain-poisson-nloglik:2.513608\tval-poisson-nloglik:2.941915\n",
        "[220]\ttrain-poisson-nloglik:2.510615\tval-poisson-nloglik:2.939498\n"
       ]
      },
      {
       "output_type": "stream",
       "stream": "stderr",
       "text": [
        "[221]\ttrain-poisson-nloglik:2.507772\tval-poisson-nloglik:2.937120\n",
        "[222]\ttrain-poisson-nloglik:2.504889\tval-poisson-nloglik:2.934759\n"
       ]
      },
      {
       "output_type": "stream",
       "stream": "stderr",
       "text": [
        "[223]\ttrain-poisson-nloglik:2.502089\tval-poisson-nloglik:2.932381\n",
        "[224]\ttrain-poisson-nloglik:2.499389\tval-poisson-nloglik:2.930071\n"
       ]
      },
      {
       "output_type": "stream",
       "stream": "stderr",
       "text": [
        "[225]\ttrain-poisson-nloglik:2.496586\tval-poisson-nloglik:2.927890\n",
        "[226]\ttrain-poisson-nloglik:2.493906\tval-poisson-nloglik:2.925604\n"
       ]
      },
      {
       "output_type": "stream",
       "stream": "stderr",
       "text": [
        "[227]\ttrain-poisson-nloglik:2.491379\tval-poisson-nloglik:2.923337\n",
        "[228]\ttrain-poisson-nloglik:2.488745\tval-poisson-nloglik:2.921089\n"
       ]
      },
      {
       "output_type": "stream",
       "stream": "stderr",
       "text": [
        "[229]\ttrain-poisson-nloglik:2.486120\tval-poisson-nloglik:2.918929\n",
        "[230]\ttrain-poisson-nloglik:2.483497\tval-poisson-nloglik:2.916795\n"
       ]
      },
      {
       "output_type": "stream",
       "stream": "stderr",
       "text": [
        "[231]\ttrain-poisson-nloglik:2.480573\tval-poisson-nloglik:2.914503\n",
        "[232]\ttrain-poisson-nloglik:2.478086\tval-poisson-nloglik:2.912416\n"
       ]
      },
      {
       "output_type": "stream",
       "stream": "stderr",
       "text": [
        "[233]\ttrain-poisson-nloglik:2.475468\tval-poisson-nloglik:2.910482\n",
        "[234]\ttrain-poisson-nloglik:2.472940\tval-poisson-nloglik:2.908481\n"
       ]
      },
      {
       "output_type": "stream",
       "stream": "stderr",
       "text": [
        "[235]\ttrain-poisson-nloglik:2.470409\tval-poisson-nloglik:2.906526\n",
        "[236]\ttrain-poisson-nloglik:2.468038\tval-poisson-nloglik:2.904535\n"
       ]
      },
      {
       "output_type": "stream",
       "stream": "stderr",
       "text": [
        "[237]\ttrain-poisson-nloglik:2.465462\tval-poisson-nloglik:2.902628\n",
        "[238]\ttrain-poisson-nloglik:2.462960\tval-poisson-nloglik:2.900532\n"
       ]
      },
      {
       "output_type": "stream",
       "stream": "stderr",
       "text": [
        "[239]\ttrain-poisson-nloglik:2.460565\tval-poisson-nloglik:2.898567\n",
        "[240]\ttrain-poisson-nloglik:2.458081\tval-poisson-nloglik:2.896660\n"
       ]
      },
      {
       "output_type": "stream",
       "stream": "stderr",
       "text": [
        "[241]\ttrain-poisson-nloglik:2.455683\tval-poisson-nloglik:2.894729\n",
        "[242]\ttrain-poisson-nloglik:2.453317\tval-poisson-nloglik:2.892791\n"
       ]
      },
      {
       "output_type": "stream",
       "stream": "stderr",
       "text": [
        "[243]\ttrain-poisson-nloglik:2.451023\tval-poisson-nloglik:2.891006\n",
        "[244]\ttrain-poisson-nloglik:2.448671\tval-poisson-nloglik:2.889079\n"
       ]
      },
      {
       "output_type": "stream",
       "stream": "stderr",
       "text": [
        "[245]\ttrain-poisson-nloglik:2.446290\tval-poisson-nloglik:2.887317\n",
        "[246]\ttrain-poisson-nloglik:2.444113\tval-poisson-nloglik:2.885494\n"
       ]
      },
      {
       "output_type": "stream",
       "stream": "stderr",
       "text": [
        "[247]\ttrain-poisson-nloglik:2.441868\tval-poisson-nloglik:2.883744\n",
        "[248]\ttrain-poisson-nloglik:2.439669\tval-poisson-nloglik:2.882052\n"
       ]
      },
      {
       "output_type": "stream",
       "stream": "stderr",
       "text": [
        "[249]\ttrain-poisson-nloglik:2.437363\tval-poisson-nloglik:2.880352\n",
        "[250]\ttrain-poisson-nloglik:2.435061\tval-poisson-nloglik:2.878572\n"
       ]
      },
      {
       "output_type": "stream",
       "stream": "stderr",
       "text": [
        "[251]\ttrain-poisson-nloglik:2.433113\tval-poisson-nloglik:2.876845\n",
        "[252]\ttrain-poisson-nloglik:2.431031\tval-poisson-nloglik:2.875167\n"
       ]
      },
      {
       "output_type": "stream",
       "stream": "stderr",
       "text": [
        "[253]\ttrain-poisson-nloglik:2.429008\tval-poisson-nloglik:2.873497\n",
        "[254]\ttrain-poisson-nloglik:2.426933\tval-poisson-nloglik:2.871924\n"
       ]
      },
      {
       "output_type": "stream",
       "stream": "stderr",
       "text": [
        "[255]\ttrain-poisson-nloglik:2.424905\tval-poisson-nloglik:2.870374\n",
        "[256]\ttrain-poisson-nloglik:2.422801\tval-poisson-nloglik:2.868796\n"
       ]
      },
      {
       "output_type": "stream",
       "stream": "stderr",
       "text": [
        "[257]\ttrain-poisson-nloglik:2.420811\tval-poisson-nloglik:2.867136\n",
        "[258]\ttrain-poisson-nloglik:2.418699\tval-poisson-nloglik:2.865551\n"
       ]
      },
      {
       "output_type": "stream",
       "stream": "stderr",
       "text": [
        "[259]\ttrain-poisson-nloglik:2.416715\tval-poisson-nloglik:2.863956\n",
        "[260]\ttrain-poisson-nloglik:2.414718\tval-poisson-nloglik:2.862334\n"
       ]
      },
      {
       "output_type": "stream",
       "stream": "stderr",
       "text": [
        "[261]\ttrain-poisson-nloglik:2.412643\tval-poisson-nloglik:2.860806\n",
        "[262]\ttrain-poisson-nloglik:2.410738\tval-poisson-nloglik:2.859356\n"
       ]
      },
      {
       "output_type": "stream",
       "stream": "stderr",
       "text": [
        "[263]\ttrain-poisson-nloglik:2.408843\tval-poisson-nloglik:2.857893\n",
        "[264]\ttrain-poisson-nloglik:2.406843\tval-poisson-nloglik:2.856513\n"
       ]
      },
      {
       "output_type": "stream",
       "stream": "stderr",
       "text": [
        "[265]\ttrain-poisson-nloglik:2.405127\tval-poisson-nloglik:2.855034\n",
        "[266]\ttrain-poisson-nloglik:2.403220\tval-poisson-nloglik:2.853764\n"
       ]
      },
      {
       "output_type": "stream",
       "stream": "stderr",
       "text": [
        "[267]\ttrain-poisson-nloglik:2.401154\tval-poisson-nloglik:2.852371\n",
        "[268]\ttrain-poisson-nloglik:2.399426\tval-poisson-nloglik:2.850945\n"
       ]
      },
      {
       "output_type": "stream",
       "stream": "stderr",
       "text": [
        "[269]\ttrain-poisson-nloglik:2.397497\tval-poisson-nloglik:2.849615\n",
        "[270]\ttrain-poisson-nloglik:2.395693\tval-poisson-nloglik:2.848356\n"
       ]
      },
      {
       "output_type": "stream",
       "stream": "stderr",
       "text": [
        "[271]\ttrain-poisson-nloglik:2.393767\tval-poisson-nloglik:2.846851\n",
        "[272]\ttrain-poisson-nloglik:2.391928\tval-poisson-nloglik:2.845455\n"
       ]
      },
      {
       "output_type": "stream",
       "stream": "stderr",
       "text": [
        "[273]\ttrain-poisson-nloglik:2.390101\tval-poisson-nloglik:2.844120\n",
        "[274]\ttrain-poisson-nloglik:2.388406\tval-poisson-nloglik:2.842836\n"
       ]
      },
      {
       "output_type": "stream",
       "stream": "stderr",
       "text": [
        "[275]\ttrain-poisson-nloglik:2.386580\tval-poisson-nloglik:2.841583\n",
        "[276]\ttrain-poisson-nloglik:2.385013\tval-poisson-nloglik:2.840331\n"
       ]
      },
      {
       "output_type": "stream",
       "stream": "stderr",
       "text": [
        "[277]\ttrain-poisson-nloglik:2.383161\tval-poisson-nloglik:2.839127\n",
        "[278]\ttrain-poisson-nloglik:2.381570\tval-poisson-nloglik:2.837935\n"
       ]
      },
      {
       "output_type": "stream",
       "stream": "stderr",
       "text": [
        "[279]\ttrain-poisson-nloglik:2.379933\tval-poisson-nloglik:2.836662\n",
        "[280]\ttrain-poisson-nloglik:2.378360\tval-poisson-nloglik:2.835439\n"
       ]
      },
      {
       "output_type": "stream",
       "stream": "stderr",
       "text": [
        "[281]\ttrain-poisson-nloglik:2.376865\tval-poisson-nloglik:2.834249\n",
        "[282]\ttrain-poisson-nloglik:2.375223\tval-poisson-nloglik:2.833148\n"
       ]
      },
      {
       "output_type": "stream",
       "stream": "stderr",
       "text": [
        "[283]\ttrain-poisson-nloglik:2.373610\tval-poisson-nloglik:2.831922\n",
        "[284]\ttrain-poisson-nloglik:2.372002\tval-poisson-nloglik:2.830776\n"
       ]
      },
      {
       "output_type": "stream",
       "stream": "stderr",
       "text": [
        "[285]\ttrain-poisson-nloglik:2.370354\tval-poisson-nloglik:2.829611\n",
        "[286]\ttrain-poisson-nloglik:2.368639\tval-poisson-nloglik:2.828507\n"
       ]
      },
      {
       "output_type": "stream",
       "stream": "stderr",
       "text": [
        "[287]\ttrain-poisson-nloglik:2.367094\tval-poisson-nloglik:2.827303\n",
        "[288]\ttrain-poisson-nloglik:2.365584\tval-poisson-nloglik:2.826209\n"
       ]
      },
      {
       "output_type": "stream",
       "stream": "stderr",
       "text": [
        "[289]\ttrain-poisson-nloglik:2.363932\tval-poisson-nloglik:2.825167\n",
        "[290]\ttrain-poisson-nloglik:2.362499\tval-poisson-nloglik:2.824075\n"
       ]
      },
      {
       "output_type": "stream",
       "stream": "stderr",
       "text": [
        "[291]\ttrain-poisson-nloglik:2.360992\tval-poisson-nloglik:2.822958\n",
        "[292]\ttrain-poisson-nloglik:2.359403\tval-poisson-nloglik:2.821843\n"
       ]
      },
      {
       "output_type": "stream",
       "stream": "stderr",
       "text": [
        "[293]\ttrain-poisson-nloglik:2.357898\tval-poisson-nloglik:2.820817\n",
        "[294]\ttrain-poisson-nloglik:2.356363\tval-poisson-nloglik:2.819715\n"
       ]
      },
      {
       "output_type": "stream",
       "stream": "stderr",
       "text": [
        "[295]\ttrain-poisson-nloglik:2.354958\tval-poisson-nloglik:2.818747\n",
        "[296]\ttrain-poisson-nloglik:2.353374\tval-poisson-nloglik:2.817569\n"
       ]
      },
      {
       "output_type": "stream",
       "stream": "stderr",
       "text": [
        "[297]\ttrain-poisson-nloglik:2.351961\tval-poisson-nloglik:2.816540\n",
        "[298]\ttrain-poisson-nloglik:2.350370\tval-poisson-nloglik:2.815650\n"
       ]
      },
      {
       "output_type": "stream",
       "stream": "stderr",
       "text": [
        "[299]\ttrain-poisson-nloglik:2.348964\tval-poisson-nloglik:2.814605\n",
        "[300]\ttrain-poisson-nloglik:2.347476\tval-poisson-nloglik:2.813674\n"
       ]
      },
      {
       "output_type": "stream",
       "stream": "stderr",
       "text": [
        "[301]\ttrain-poisson-nloglik:2.346126\tval-poisson-nloglik:2.812746\n",
        "[302]\ttrain-poisson-nloglik:2.344542\tval-poisson-nloglik:2.811741\n"
       ]
      },
      {
       "output_type": "stream",
       "stream": "stderr",
       "text": [
        "[303]\ttrain-poisson-nloglik:2.343176\tval-poisson-nloglik:2.810826\n",
        "[304]\ttrain-poisson-nloglik:2.341712\tval-poisson-nloglik:2.809877\n"
       ]
      },
      {
       "output_type": "stream",
       "stream": "stderr",
       "text": [
        "[305]\ttrain-poisson-nloglik:2.340428\tval-poisson-nloglik:2.808881\n",
        "[306]\ttrain-poisson-nloglik:2.338981\tval-poisson-nloglik:2.808000\n"
       ]
      },
      {
       "output_type": "stream",
       "stream": "stderr",
       "text": [
        "[307]\ttrain-poisson-nloglik:2.337400\tval-poisson-nloglik:2.807092\n",
        "[308]\ttrain-poisson-nloglik:2.336104\tval-poisson-nloglik:2.806204\n"
       ]
      },
      {
       "output_type": "stream",
       "stream": "stderr",
       "text": [
        "[309]\ttrain-poisson-nloglik:2.334891\tval-poisson-nloglik:2.805244\n",
        "[310]\ttrain-poisson-nloglik:2.333536\tval-poisson-nloglik:2.804358\n"
       ]
      },
      {
       "output_type": "stream",
       "stream": "stderr",
       "text": [
        "[311]\ttrain-poisson-nloglik:2.332345\tval-poisson-nloglik:2.803424\n",
        "[312]\ttrain-poisson-nloglik:2.331059\tval-poisson-nloglik:2.802589\n"
       ]
      },
      {
       "output_type": "stream",
       "stream": "stderr",
       "text": [
        "[313]\ttrain-poisson-nloglik:2.329828\tval-poisson-nloglik:2.801678\n",
        "[314]\ttrain-poisson-nloglik:2.328395\tval-poisson-nloglik:2.800900\n"
       ]
      },
      {
       "output_type": "stream",
       "stream": "stderr",
       "text": [
        "[315]\ttrain-poisson-nloglik:2.327058\tval-poisson-nloglik:2.800060\n",
        "[316]\ttrain-poisson-nloglik:2.325796\tval-poisson-nloglik:2.799261\n"
       ]
      },
      {
       "output_type": "stream",
       "stream": "stderr",
       "text": [
        "[317]\ttrain-poisson-nloglik:2.324540\tval-poisson-nloglik:2.798421\n",
        "[318]\ttrain-poisson-nloglik:2.323248\tval-poisson-nloglik:2.797525\n"
       ]
      },
      {
       "output_type": "stream",
       "stream": "stderr",
       "text": [
        "[319]\ttrain-poisson-nloglik:2.321996\tval-poisson-nloglik:2.796773\n",
        "[320]\ttrain-poisson-nloglik:2.320897\tval-poisson-nloglik:2.796001\n"
       ]
      },
      {
       "output_type": "stream",
       "stream": "stderr",
       "text": [
        "[321]\ttrain-poisson-nloglik:2.319654\tval-poisson-nloglik:2.795219\n",
        "[322]\ttrain-poisson-nloglik:2.318496\tval-poisson-nloglik:2.794422\n"
       ]
      },
      {
       "output_type": "stream",
       "stream": "stderr",
       "text": [
        "[323]\ttrain-poisson-nloglik:2.317335\tval-poisson-nloglik:2.793684\n",
        "[324]\ttrain-poisson-nloglik:2.316177\tval-poisson-nloglik:2.792904\n"
       ]
      },
      {
       "output_type": "stream",
       "stream": "stderr",
       "text": [
        "[325]\ttrain-poisson-nloglik:2.314919\tval-poisson-nloglik:2.792114\n",
        "[326]\ttrain-poisson-nloglik:2.313727\tval-poisson-nloglik:2.791440\n"
       ]
      },
      {
       "output_type": "stream",
       "stream": "stderr",
       "text": [
        "[327]\ttrain-poisson-nloglik:2.312652\tval-poisson-nloglik:2.790704\n",
        "[328]\ttrain-poisson-nloglik:2.311595\tval-poisson-nloglik:2.789999\n"
       ]
      },
      {
       "output_type": "stream",
       "stream": "stderr",
       "text": [
        "[329]\ttrain-poisson-nloglik:2.310390\tval-poisson-nloglik:2.789222\n",
        "[330]\ttrain-poisson-nloglik:2.309436\tval-poisson-nloglik:2.788549\n"
       ]
      },
      {
       "output_type": "stream",
       "stream": "stderr",
       "text": [
        "[331]\ttrain-poisson-nloglik:2.308150\tval-poisson-nloglik:2.787798\n",
        "[332]\ttrain-poisson-nloglik:2.307014\tval-poisson-nloglik:2.787088\n"
       ]
      },
      {
       "output_type": "stream",
       "stream": "stderr",
       "text": [
        "[333]\ttrain-poisson-nloglik:2.305624\tval-poisson-nloglik:2.786195\n",
        "[334]\ttrain-poisson-nloglik:2.304593\tval-poisson-nloglik:2.785555\n"
       ]
      },
      {
       "output_type": "stream",
       "stream": "stderr",
       "text": [
        "[335]\ttrain-poisson-nloglik:2.303565\tval-poisson-nloglik:2.784968\n",
        "[336]\ttrain-poisson-nloglik:2.302448\tval-poisson-nloglik:2.784206\n"
       ]
      },
      {
       "output_type": "stream",
       "stream": "stderr",
       "text": [
        "[337]\ttrain-poisson-nloglik:2.301475\tval-poisson-nloglik:2.783585\n",
        "[338]\ttrain-poisson-nloglik:2.300390\tval-poisson-nloglik:2.782962\n"
       ]
      },
      {
       "output_type": "stream",
       "stream": "stderr",
       "text": [
        "[339]\ttrain-poisson-nloglik:2.299429\tval-poisson-nloglik:2.782233\n",
        "[340]\ttrain-poisson-nloglik:2.298382\tval-poisson-nloglik:2.781602\n"
       ]
      },
      {
       "output_type": "stream",
       "stream": "stderr",
       "text": [
        "[341]\ttrain-poisson-nloglik:2.297340\tval-poisson-nloglik:2.780981\n",
        "[342]\ttrain-poisson-nloglik:2.296321\tval-poisson-nloglik:2.780367\n"
       ]
      },
      {
       "output_type": "stream",
       "stream": "stderr",
       "text": [
        "[343]\ttrain-poisson-nloglik:2.295321\tval-poisson-nloglik:2.779684\n",
        "[344]\ttrain-poisson-nloglik:2.294197\tval-poisson-nloglik:2.779132\n"
       ]
      },
      {
       "output_type": "stream",
       "stream": "stderr",
       "text": [
        "[345]\ttrain-poisson-nloglik:2.293415\tval-poisson-nloglik:2.778501\n",
        "[346]\ttrain-poisson-nloglik:2.292371\tval-poisson-nloglik:2.777944\n"
       ]
      },
      {
       "output_type": "stream",
       "stream": "stderr",
       "text": [
        "[347]\ttrain-poisson-nloglik:2.291451\tval-poisson-nloglik:2.777368\n",
        "[348]\ttrain-poisson-nloglik:2.290304\tval-poisson-nloglik:2.776761\n"
       ]
      },
      {
       "output_type": "stream",
       "stream": "stderr",
       "text": [
        "[349]\ttrain-poisson-nloglik:2.289343\tval-poisson-nloglik:2.776223\n",
        "[350]\ttrain-poisson-nloglik:2.288301\tval-poisson-nloglik:2.775651\n"
       ]
      },
      {
       "output_type": "stream",
       "stream": "stderr",
       "text": [
        "[351]\ttrain-poisson-nloglik:2.287492\tval-poisson-nloglik:2.775012\n",
        "[352]\ttrain-poisson-nloglik:2.286721\tval-poisson-nloglik:2.774460\n"
       ]
      },
      {
       "output_type": "stream",
       "stream": "stderr",
       "text": [
        "[353]\ttrain-poisson-nloglik:2.285785\tval-poisson-nloglik:2.773968\n",
        "[354]\ttrain-poisson-nloglik:2.284646\tval-poisson-nloglik:2.773351\n"
       ]
      },
      {
       "output_type": "stream",
       "stream": "stderr",
       "text": [
        "[355]\ttrain-poisson-nloglik:2.283851\tval-poisson-nloglik:2.772752\n",
        "[356]\ttrain-poisson-nloglik:2.282725\tval-poisson-nloglik:2.772155\n"
       ]
      },
      {
       "output_type": "stream",
       "stream": "stderr",
       "text": [
        "[357]\ttrain-poisson-nloglik:2.281863\tval-poisson-nloglik:2.771547\n",
        "[358]\ttrain-poisson-nloglik:2.280919\tval-poisson-nloglik:2.770983\n"
       ]
      },
      {
       "output_type": "stream",
       "stream": "stderr",
       "text": [
        "[359]\ttrain-poisson-nloglik:2.280168\tval-poisson-nloglik:2.770446\n",
        "[360]\ttrain-poisson-nloglik:2.279282\tval-poisson-nloglik:2.769886\n"
       ]
      },
      {
       "output_type": "stream",
       "stream": "stderr",
       "text": [
        "[361]\ttrain-poisson-nloglik:2.278236\tval-poisson-nloglik:2.769277\n",
        "[362]\ttrain-poisson-nloglik:2.277205\tval-poisson-nloglik:2.768850\n"
       ]
      },
      {
       "output_type": "stream",
       "stream": "stderr",
       "text": [
        "[363]\ttrain-poisson-nloglik:2.276312\tval-poisson-nloglik:2.768257\n",
        "[364]\ttrain-poisson-nloglik:2.275377\tval-poisson-nloglik:2.767683\n"
       ]
      },
      {
       "output_type": "stream",
       "stream": "stderr",
       "text": [
        "[365]\ttrain-poisson-nloglik:2.274378\tval-poisson-nloglik:2.767182\n",
        "[366]\ttrain-poisson-nloglik:2.273565\tval-poisson-nloglik:2.766672\n"
       ]
      },
      {
       "output_type": "stream",
       "stream": "stderr",
       "text": [
        "[367]\ttrain-poisson-nloglik:2.272720\tval-poisson-nloglik:2.766199\n",
        "[368]\ttrain-poisson-nloglik:2.271896\tval-poisson-nloglik:2.765693\n"
       ]
      },
      {
       "output_type": "stream",
       "stream": "stderr",
       "text": [
        "[369]\ttrain-poisson-nloglik:2.271130\tval-poisson-nloglik:2.765225\n",
        "[370]\ttrain-poisson-nloglik:2.270448\tval-poisson-nloglik:2.764773\n"
       ]
      },
      {
       "output_type": "stream",
       "stream": "stderr",
       "text": [
        "[371]\ttrain-poisson-nloglik:2.269488\tval-poisson-nloglik:2.764294\n",
        "[372]\ttrain-poisson-nloglik:2.268744\tval-poisson-nloglik:2.763857\n"
       ]
      },
      {
       "output_type": "stream",
       "stream": "stderr",
       "text": [
        "[373]\ttrain-poisson-nloglik:2.267888\tval-poisson-nloglik:2.763364\n",
        "[374]\ttrain-poisson-nloglik:2.267076\tval-poisson-nloglik:2.762927\n"
       ]
      },
      {
       "output_type": "stream",
       "stream": "stderr",
       "text": [
        "[375]\ttrain-poisson-nloglik:2.266423\tval-poisson-nloglik:2.762490\n",
        "[376]\ttrain-poisson-nloglik:2.265491\tval-poisson-nloglik:2.762006\n"
       ]
      },
      {
       "output_type": "stream",
       "stream": "stderr",
       "text": [
        "[377]\ttrain-poisson-nloglik:2.264517\tval-poisson-nloglik:2.761566\n",
        "[378]\ttrain-poisson-nloglik:2.263689\tval-poisson-nloglik:2.761131\n"
       ]
      },
      {
       "output_type": "stream",
       "stream": "stderr",
       "text": [
        "[379]\ttrain-poisson-nloglik:2.262872\tval-poisson-nloglik:2.760661\n",
        "[380]\ttrain-poisson-nloglik:2.262147\tval-poisson-nloglik:2.760230\n"
       ]
      },
      {
       "output_type": "stream",
       "stream": "stderr",
       "text": [
        "[381]\ttrain-poisson-nloglik:2.261367\tval-poisson-nloglik:2.759740\n",
        "[382]\ttrain-poisson-nloglik:2.260667\tval-poisson-nloglik:2.759315\n"
       ]
      },
      {
       "output_type": "stream",
       "stream": "stderr",
       "text": [
        "[383]\ttrain-poisson-nloglik:2.259903\tval-poisson-nloglik:2.758943\n",
        "[384]\ttrain-poisson-nloglik:2.259046\tval-poisson-nloglik:2.758558\n"
       ]
      },
      {
       "output_type": "stream",
       "stream": "stderr",
       "text": [
        "[385]\ttrain-poisson-nloglik:2.258317\tval-poisson-nloglik:2.758064\n",
        "[386]\ttrain-poisson-nloglik:2.257696\tval-poisson-nloglik:2.757640\n"
       ]
      },
      {
       "output_type": "stream",
       "stream": "stderr",
       "text": [
        "[387]\ttrain-poisson-nloglik:2.256890\tval-poisson-nloglik:2.757187\n",
        "[388]\ttrain-poisson-nloglik:2.256192\tval-poisson-nloglik:2.756754\n"
       ]
      },
      {
       "output_type": "stream",
       "stream": "stderr",
       "text": [
        "[389]\ttrain-poisson-nloglik:2.255667\tval-poisson-nloglik:2.756372\n",
        "[390]\ttrain-poisson-nloglik:2.254835\tval-poisson-nloglik:2.755988\n"
       ]
      },
      {
       "output_type": "stream",
       "stream": "stderr",
       "text": [
        "[391]\ttrain-poisson-nloglik:2.254073\tval-poisson-nloglik:2.755624\n",
        "[392]\ttrain-poisson-nloglik:2.253272\tval-poisson-nloglik:2.755222\n"
       ]
      },
      {
       "output_type": "stream",
       "stream": "stderr",
       "text": [
        "[393]\ttrain-poisson-nloglik:2.252560\tval-poisson-nloglik:2.754802\n",
        "[394]\ttrain-poisson-nloglik:2.252035\tval-poisson-nloglik:2.754434\n"
       ]
      },
      {
       "output_type": "stream",
       "stream": "stderr",
       "text": [
        "[395]\ttrain-poisson-nloglik:2.251431\tval-poisson-nloglik:2.754024\n",
        "[396]\ttrain-poisson-nloglik:2.250746\tval-poisson-nloglik:2.753628\n"
       ]
      },
      {
       "output_type": "stream",
       "stream": "stderr",
       "text": [
        "[397]\ttrain-poisson-nloglik:2.249887\tval-poisson-nloglik:2.753325\n",
        "[398]\ttrain-poisson-nloglik:2.249152\tval-poisson-nloglik:2.752928\n"
       ]
      },
      {
       "output_type": "stream",
       "stream": "stderr",
       "text": [
        "[399]\ttrain-poisson-nloglik:2.248474\tval-poisson-nloglik:2.752624\n",
        "[400]\ttrain-poisson-nloglik:2.247722\tval-poisson-nloglik:2.752260\n"
       ]
      },
      {
       "output_type": "stream",
       "stream": "stderr",
       "text": [
        "[401]\ttrain-poisson-nloglik:2.246972\tval-poisson-nloglik:2.751926\n",
        "[402]\ttrain-poisson-nloglik:2.246415\tval-poisson-nloglik:2.751658\n"
       ]
      },
      {
       "output_type": "stream",
       "stream": "stderr",
       "text": [
        "[403]\ttrain-poisson-nloglik:2.245675\tval-poisson-nloglik:2.751280\n",
        "[404]\ttrain-poisson-nloglik:2.244822\tval-poisson-nloglik:2.750935\n"
       ]
      },
      {
       "output_type": "stream",
       "stream": "stderr",
       "text": [
        "[405]\ttrain-poisson-nloglik:2.244212\tval-poisson-nloglik:2.750628\n",
        "[406]\ttrain-poisson-nloglik:2.243444\tval-poisson-nloglik:2.750368\n"
       ]
      },
      {
       "output_type": "stream",
       "stream": "stderr",
       "text": [
        "[407]\ttrain-poisson-nloglik:2.242648\tval-poisson-nloglik:2.749977\n",
        "[408]\ttrain-poisson-nloglik:2.242014\tval-poisson-nloglik:2.749644\n"
       ]
      },
      {
       "output_type": "stream",
       "stream": "stderr",
       "text": [
        "[409]\ttrain-poisson-nloglik:2.241331\tval-poisson-nloglik:2.749312\n",
        "[410]\ttrain-poisson-nloglik:2.240654\tval-poisson-nloglik:2.749024\n"
       ]
      },
      {
       "output_type": "stream",
       "stream": "stderr",
       "text": [
        "[411]\ttrain-poisson-nloglik:2.239757\tval-poisson-nloglik:2.748689\n",
        "[412]\ttrain-poisson-nloglik:2.239108\tval-poisson-nloglik:2.748384\n"
       ]
      },
      {
       "output_type": "stream",
       "stream": "stderr",
       "text": [
        "[413]\ttrain-poisson-nloglik:2.238492\tval-poisson-nloglik:2.748078\n",
        "[414]\ttrain-poisson-nloglik:2.237988\tval-poisson-nloglik:2.747715\n"
       ]
      },
      {
       "output_type": "stream",
       "stream": "stderr",
       "text": [
        "[415]\ttrain-poisson-nloglik:2.237298\tval-poisson-nloglik:2.747453\n",
        "[416]\ttrain-poisson-nloglik:2.236646\tval-poisson-nloglik:2.747171\n"
       ]
      },
      {
       "output_type": "stream",
       "stream": "stderr",
       "text": [
        "[417]\ttrain-poisson-nloglik:2.236041\tval-poisson-nloglik:2.746840\n",
        "[418]\ttrain-poisson-nloglik:2.235306\tval-poisson-nloglik:2.746572\n"
       ]
      },
      {
       "output_type": "stream",
       "stream": "stderr",
       "text": [
        "[419]\ttrain-poisson-nloglik:2.234665\tval-poisson-nloglik:2.746242\n",
        "[420]\ttrain-poisson-nloglik:2.234154\tval-poisson-nloglik:2.745987\n"
       ]
      },
      {
       "output_type": "stream",
       "stream": "stderr",
       "text": [
        "[421]\ttrain-poisson-nloglik:2.233516\tval-poisson-nloglik:2.745711\n",
        "[422]\ttrain-poisson-nloglik:2.232831\tval-poisson-nloglik:2.745458\n"
       ]
      },
      {
       "output_type": "stream",
       "stream": "stderr",
       "text": [
        "[423]\ttrain-poisson-nloglik:2.232299\tval-poisson-nloglik:2.745173\n",
        "[424]\ttrain-poisson-nloglik:2.231791\tval-poisson-nloglik:2.744886\n"
       ]
      },
      {
       "output_type": "stream",
       "stream": "stderr",
       "text": [
        "[425]\ttrain-poisson-nloglik:2.231266\tval-poisson-nloglik:2.744620\n",
        "[426]\ttrain-poisson-nloglik:2.230484\tval-poisson-nloglik:2.744323\n"
       ]
      },
      {
       "output_type": "stream",
       "stream": "stderr",
       "text": [
        "[427]\ttrain-poisson-nloglik:2.229743\tval-poisson-nloglik:2.744093\n",
        "[428]\ttrain-poisson-nloglik:2.229150\tval-poisson-nloglik:2.743754\n"
       ]
      },
      {
       "output_type": "stream",
       "stream": "stderr",
       "text": [
        "[429]\ttrain-poisson-nloglik:2.228522\tval-poisson-nloglik:2.743555\n",
        "[430]\ttrain-poisson-nloglik:2.227894\tval-poisson-nloglik:2.743288\n"
       ]
      },
      {
       "output_type": "stream",
       "stream": "stderr",
       "text": [
        "[431]\ttrain-poisson-nloglik:2.227114\tval-poisson-nloglik:2.743047\n",
        "[432]\ttrain-poisson-nloglik:2.226506\tval-poisson-nloglik:2.742796\n"
       ]
      },
      {
       "output_type": "stream",
       "stream": "stderr",
       "text": [
        "[433]\ttrain-poisson-nloglik:2.225960\tval-poisson-nloglik:2.742540\n",
        "[434]\ttrain-poisson-nloglik:2.225512\tval-poisson-nloglik:2.742250\n"
       ]
      },
      {
       "output_type": "stream",
       "stream": "stderr",
       "text": [
        "[435]\ttrain-poisson-nloglik:2.224823\tval-poisson-nloglik:2.741943\n",
        "[436]\ttrain-poisson-nloglik:2.224281\tval-poisson-nloglik:2.741694\n"
       ]
      },
      {
       "output_type": "stream",
       "stream": "stderr",
       "text": [
        "[437]\ttrain-poisson-nloglik:2.223696\tval-poisson-nloglik:2.741432\n",
        "[438]\ttrain-poisson-nloglik:2.223057\tval-poisson-nloglik:2.741220\n"
       ]
      },
      {
       "output_type": "stream",
       "stream": "stderr",
       "text": [
        "[439]\ttrain-poisson-nloglik:2.222622\tval-poisson-nloglik:2.740979\n",
        "[440]\ttrain-poisson-nloglik:2.222045\tval-poisson-nloglik:2.740773\n"
       ]
      },
      {
       "output_type": "stream",
       "stream": "stderr",
       "text": [
        "[441]\ttrain-poisson-nloglik:2.221324\tval-poisson-nloglik:2.740553\n",
        "[442]\ttrain-poisson-nloglik:2.220590\tval-poisson-nloglik:2.740263\n"
       ]
      },
      {
       "output_type": "stream",
       "stream": "stderr",
       "text": [
        "[443]\ttrain-poisson-nloglik:2.219965\tval-poisson-nloglik:2.739988\n",
        "[444]\ttrain-poisson-nloglik:2.219563\tval-poisson-nloglik:2.739747\n"
       ]
      },
      {
       "output_type": "stream",
       "stream": "stderr",
       "text": [
        "[445]\ttrain-poisson-nloglik:2.218982\tval-poisson-nloglik:2.739457\n",
        "[446]\ttrain-poisson-nloglik:2.218501\tval-poisson-nloglik:2.739226\n"
       ]
      },
      {
       "output_type": "stream",
       "stream": "stderr",
       "text": [
        "[447]\ttrain-poisson-nloglik:2.217916\tval-poisson-nloglik:2.738983\n",
        "[448]\ttrain-poisson-nloglik:2.217475\tval-poisson-nloglik:2.738727\n"
       ]
      },
      {
       "output_type": "stream",
       "stream": "stderr",
       "text": [
        "[449]\ttrain-poisson-nloglik:2.216971\tval-poisson-nloglik:2.738547\n",
        "[450]\ttrain-poisson-nloglik:2.216555\tval-poisson-nloglik:2.738362\n"
       ]
      },
      {
       "output_type": "stream",
       "stream": "stderr",
       "text": [
        "[451]\ttrain-poisson-nloglik:2.215966\tval-poisson-nloglik:2.738137\n",
        "[452]\ttrain-poisson-nloglik:2.215492\tval-poisson-nloglik:2.737889\n"
       ]
      },
      {
       "output_type": "stream",
       "stream": "stderr",
       "text": [
        "[453]\ttrain-poisson-nloglik:2.214911\tval-poisson-nloglik:2.737688\n",
        "[454]\ttrain-poisson-nloglik:2.214208\tval-poisson-nloglik:2.737536\n"
       ]
      },
      {
       "output_type": "stream",
       "stream": "stderr",
       "text": [
        "[455]\ttrain-poisson-nloglik:2.213659\tval-poisson-nloglik:2.737329\n",
        "[456]\ttrain-poisson-nloglik:2.213190\tval-poisson-nloglik:2.737117\n"
       ]
      },
      {
       "output_type": "stream",
       "stream": "stderr",
       "text": [
        "[457]\ttrain-poisson-nloglik:2.212647\tval-poisson-nloglik:2.736872\n",
        "[458]\ttrain-poisson-nloglik:2.212283\tval-poisson-nloglik:2.736645\n"
       ]
      },
      {
       "output_type": "stream",
       "stream": "stderr",
       "text": [
        "[459]\ttrain-poisson-nloglik:2.211726\tval-poisson-nloglik:2.736468\n",
        "[460]\ttrain-poisson-nloglik:2.211356\tval-poisson-nloglik:2.736281\n"
       ]
      },
      {
       "output_type": "stream",
       "stream": "stderr",
       "text": [
        "[461]\ttrain-poisson-nloglik:2.210831\tval-poisson-nloglik:2.736082\n",
        "[462]\ttrain-poisson-nloglik:2.210368\tval-poisson-nloglik:2.735868\n"
       ]
      },
      {
       "output_type": "stream",
       "stream": "stderr",
       "text": [
        "[463]\ttrain-poisson-nloglik:2.209812\tval-poisson-nloglik:2.735687\n",
        "[464]\ttrain-poisson-nloglik:2.209374\tval-poisson-nloglik:2.735507\n"
       ]
      },
      {
       "output_type": "stream",
       "stream": "stderr",
       "text": [
        "[465]\ttrain-poisson-nloglik:2.209066\tval-poisson-nloglik:2.735347\n",
        "[466]\ttrain-poisson-nloglik:2.208577\tval-poisson-nloglik:2.735135\n"
       ]
      },
      {
       "output_type": "stream",
       "stream": "stderr",
       "text": [
        "[467]\ttrain-poisson-nloglik:2.207940\tval-poisson-nloglik:2.734992\n",
        "[468]\ttrain-poisson-nloglik:2.207490\tval-poisson-nloglik:2.734781\n"
       ]
      },
      {
       "output_type": "stream",
       "stream": "stderr",
       "text": [
        "[469]\ttrain-poisson-nloglik:2.206988\tval-poisson-nloglik:2.734607\n",
        "[470]\ttrain-poisson-nloglik:2.206505\tval-poisson-nloglik:2.734413\n"
       ]
      },
      {
       "output_type": "stream",
       "stream": "stderr",
       "text": [
        "[471]\ttrain-poisson-nloglik:2.205892\tval-poisson-nloglik:2.734265\n",
        "[472]\ttrain-poisson-nloglik:2.205485\tval-poisson-nloglik:2.734098\n"
       ]
      },
      {
       "output_type": "stream",
       "stream": "stderr",
       "text": [
        "[473]\ttrain-poisson-nloglik:2.204871\tval-poisson-nloglik:2.734002\n",
        "[474]\ttrain-poisson-nloglik:2.204256\tval-poisson-nloglik:2.733899\n"
       ]
      },
      {
       "output_type": "stream",
       "stream": "stderr",
       "text": [
        "[475]\ttrain-poisson-nloglik:2.203814\tval-poisson-nloglik:2.733744\n",
        "[476]\ttrain-poisson-nloglik:2.203295\tval-poisson-nloglik:2.733608\n"
       ]
      },
      {
       "output_type": "stream",
       "stream": "stderr",
       "text": [
        "[477]\ttrain-poisson-nloglik:2.202826\tval-poisson-nloglik:2.733426\n",
        "[478]\ttrain-poisson-nloglik:2.202174\tval-poisson-nloglik:2.733258\n"
       ]
      },
      {
       "output_type": "stream",
       "stream": "stderr",
       "text": [
        "[479]\ttrain-poisson-nloglik:2.201757\tval-poisson-nloglik:2.733082\n",
        "[480]\ttrain-poisson-nloglik:2.201276\tval-poisson-nloglik:2.732863\n"
       ]
      },
      {
       "output_type": "stream",
       "stream": "stderr",
       "text": [
        "[481]\ttrain-poisson-nloglik:2.200670\tval-poisson-nloglik:2.732730\n",
        "[482]\ttrain-poisson-nloglik:2.200366\tval-poisson-nloglik:2.732534\n"
       ]
      },
      {
       "output_type": "stream",
       "stream": "stderr",
       "text": [
        "[483]\ttrain-poisson-nloglik:2.199840\tval-poisson-nloglik:2.732400\n",
        "[484]\ttrain-poisson-nloglik:2.199532\tval-poisson-nloglik:2.732223\n"
       ]
      },
      {
       "output_type": "stream",
       "stream": "stderr",
       "text": [
        "[485]\ttrain-poisson-nloglik:2.199240\tval-poisson-nloglik:2.732077\n",
        "[486]\ttrain-poisson-nloglik:2.198659\tval-poisson-nloglik:2.731944\n"
       ]
      },
      {
       "output_type": "stream",
       "stream": "stderr",
       "text": [
        "[487]\ttrain-poisson-nloglik:2.198215\tval-poisson-nloglik:2.731804\n",
        "[488]\ttrain-poisson-nloglik:2.197846\tval-poisson-nloglik:2.731714\n"
       ]
      },
      {
       "output_type": "stream",
       "stream": "stderr",
       "text": [
        "[489]\ttrain-poisson-nloglik:2.197460\tval-poisson-nloglik:2.731529\n",
        "[490]\ttrain-poisson-nloglik:2.197028\tval-poisson-nloglik:2.731390\n"
       ]
      },
      {
       "output_type": "stream",
       "stream": "stderr",
       "text": [
        "[491]\ttrain-poisson-nloglik:2.196497\tval-poisson-nloglik:2.731217\n",
        "[492]\ttrain-poisson-nloglik:2.196049\tval-poisson-nloglik:2.731049\n"
       ]
      },
      {
       "output_type": "stream",
       "stream": "stderr",
       "text": [
        "[493]\ttrain-poisson-nloglik:2.195653\tval-poisson-nloglik:2.730876\n",
        "[494]\ttrain-poisson-nloglik:2.195188\tval-poisson-nloglik:2.730744\n"
       ]
      },
      {
       "output_type": "stream",
       "stream": "stderr",
       "text": [
        "[495]\ttrain-poisson-nloglik:2.194846\tval-poisson-nloglik:2.730660\n",
        "[496]\ttrain-poisson-nloglik:2.194568\tval-poisson-nloglik:2.730520\n"
       ]
      },
      {
       "output_type": "stream",
       "stream": "stderr",
       "text": [
        "[497]\ttrain-poisson-nloglik:2.194153\tval-poisson-nloglik:2.730426\n",
        "[498]\ttrain-poisson-nloglik:2.193634\tval-poisson-nloglik:2.730308\n"
       ]
      },
      {
       "output_type": "stream",
       "stream": "stderr",
       "text": [
        "[499]\ttrain-poisson-nloglik:2.193073\tval-poisson-nloglik:2.730143\n",
        "[500]\ttrain-poisson-nloglik:2.192617\tval-poisson-nloglik:2.730027\n"
       ]
      },
      {
       "output_type": "stream",
       "stream": "stderr",
       "text": [
        "[501]\ttrain-poisson-nloglik:2.192122\tval-poisson-nloglik:2.729924\n",
        "[502]\ttrain-poisson-nloglik:2.191604\tval-poisson-nloglik:2.729785\n"
       ]
      },
      {
       "output_type": "stream",
       "stream": "stderr",
       "text": [
        "[503]\ttrain-poisson-nloglik:2.191242\tval-poisson-nloglik:2.729676\n",
        "[504]\ttrain-poisson-nloglik:2.190753\tval-poisson-nloglik:2.729555\n"
       ]
      },
      {
       "output_type": "stream",
       "stream": "stderr",
       "text": [
        "[505]\ttrain-poisson-nloglik:2.190354\tval-poisson-nloglik:2.729448\n",
        "[506]\ttrain-poisson-nloglik:2.189934\tval-poisson-nloglik:2.729388\n"
       ]
      },
      {
       "output_type": "stream",
       "stream": "stderr",
       "text": [
        "[507]\ttrain-poisson-nloglik:2.189561\tval-poisson-nloglik:2.729293\n",
        "[508]\ttrain-poisson-nloglik:2.189108\tval-poisson-nloglik:2.729169\n"
       ]
      },
      {
       "output_type": "stream",
       "stream": "stderr",
       "text": [
        "[509]\ttrain-poisson-nloglik:2.188783\tval-poisson-nloglik:2.729075\n",
        "[510]\ttrain-poisson-nloglik:2.188345\tval-poisson-nloglik:2.728917\n"
       ]
      },
      {
       "output_type": "stream",
       "stream": "stderr",
       "text": [
        "[511]\ttrain-poisson-nloglik:2.188018\tval-poisson-nloglik:2.728781\n",
        "[512]\ttrain-poisson-nloglik:2.187505\tval-poisson-nloglik:2.728715\n"
       ]
      },
      {
       "output_type": "stream",
       "stream": "stderr",
       "text": [
        "[513]\ttrain-poisson-nloglik:2.186972\tval-poisson-nloglik:2.728606\n",
        "[514]\ttrain-poisson-nloglik:2.186745\tval-poisson-nloglik:2.728483\n"
       ]
      },
      {
       "output_type": "stream",
       "stream": "stderr",
       "text": [
        "[515]\ttrain-poisson-nloglik:2.186431\tval-poisson-nloglik:2.728413\n",
        "[516]\ttrain-poisson-nloglik:2.185948\tval-poisson-nloglik:2.728267\n"
       ]
      },
      {
       "output_type": "stream",
       "stream": "stderr",
       "text": [
        "[517]\ttrain-poisson-nloglik:2.185501\tval-poisson-nloglik:2.728172\n",
        "[518]\ttrain-poisson-nloglik:2.185048\tval-poisson-nloglik:2.728078\n"
       ]
      },
      {
       "output_type": "stream",
       "stream": "stderr",
       "text": [
        "[519]\ttrain-poisson-nloglik:2.184648\tval-poisson-nloglik:2.727947\n",
        "[520]\ttrain-poisson-nloglik:2.184198\tval-poisson-nloglik:2.727849\n"
       ]
      },
      {
       "output_type": "stream",
       "stream": "stderr",
       "text": [
        "[521]\ttrain-poisson-nloglik:2.183780\tval-poisson-nloglik:2.727700\n",
        "[522]\ttrain-poisson-nloglik:2.183352\tval-poisson-nloglik:2.727543\n"
       ]
      },
      {
       "output_type": "stream",
       "stream": "stderr",
       "text": [
        "[523]\ttrain-poisson-nloglik:2.182997\tval-poisson-nloglik:2.727455\n",
        "[524]\ttrain-poisson-nloglik:2.182285\tval-poisson-nloglik:2.727389\n"
       ]
      },
      {
       "output_type": "stream",
       "stream": "stderr",
       "text": [
        "[525]\ttrain-poisson-nloglik:2.181824\tval-poisson-nloglik:2.727359\n",
        "[526]\ttrain-poisson-nloglik:2.181410\tval-poisson-nloglik:2.727295\n"
       ]
      },
      {
       "output_type": "stream",
       "stream": "stderr",
       "text": [
        "[527]\ttrain-poisson-nloglik:2.181064\tval-poisson-nloglik:2.727180\n",
        "[528]\ttrain-poisson-nloglik:2.180729\tval-poisson-nloglik:2.727086\n"
       ]
      },
      {
       "output_type": "stream",
       "stream": "stderr",
       "text": [
        "[529]\ttrain-poisson-nloglik:2.180230\tval-poisson-nloglik:2.726956\n",
        "[530]\ttrain-poisson-nloglik:2.179789\tval-poisson-nloglik:2.726812\n"
       ]
      },
      {
       "output_type": "stream",
       "stream": "stderr",
       "text": [
        "[531]\ttrain-poisson-nloglik:2.179378\tval-poisson-nloglik:2.726732\n",
        "[532]\ttrain-poisson-nloglik:2.179037\tval-poisson-nloglik:2.726668\n"
       ]
      },
      {
       "output_type": "stream",
       "stream": "stderr",
       "text": [
        "[533]\ttrain-poisson-nloglik:2.178686\tval-poisson-nloglik:2.726593\n",
        "[534]\ttrain-poisson-nloglik:2.178219\tval-poisson-nloglik:2.726505\n"
       ]
      },
      {
       "output_type": "stream",
       "stream": "stderr",
       "text": [
        "[535]\ttrain-poisson-nloglik:2.177665\tval-poisson-nloglik:2.726389\n",
        "[536]\ttrain-poisson-nloglik:2.177197\tval-poisson-nloglik:2.726294\n"
       ]
      },
      {
       "output_type": "stream",
       "stream": "stderr",
       "text": [
        "[537]\ttrain-poisson-nloglik:2.176821\tval-poisson-nloglik:2.726187\n",
        "[538]\ttrain-poisson-nloglik:2.176595\tval-poisson-nloglik:2.726115\n"
       ]
      },
      {
       "output_type": "stream",
       "stream": "stderr",
       "text": [
        "[539]\ttrain-poisson-nloglik:2.176255\tval-poisson-nloglik:2.726011\n",
        "[540]\ttrain-poisson-nloglik:2.175930\tval-poisson-nloglik:2.725927\n"
       ]
      },
      {
       "output_type": "stream",
       "stream": "stderr",
       "text": [
        "[541]\ttrain-poisson-nloglik:2.175532\tval-poisson-nloglik:2.725815\n",
        "[542]\ttrain-poisson-nloglik:2.175195\tval-poisson-nloglik:2.725716\n"
       ]
      },
      {
       "output_type": "stream",
       "stream": "stderr",
       "text": [
        "[543]\ttrain-poisson-nloglik:2.174791\tval-poisson-nloglik:2.725685\n",
        "[544]\ttrain-poisson-nloglik:2.174319\tval-poisson-nloglik:2.725595\n"
       ]
      },
      {
       "output_type": "stream",
       "stream": "stderr",
       "text": [
        "[545]\ttrain-poisson-nloglik:2.173922\tval-poisson-nloglik:2.725471\n",
        "[546]\ttrain-poisson-nloglik:2.173453\tval-poisson-nloglik:2.725396\n"
       ]
      },
      {
       "output_type": "stream",
       "stream": "stderr",
       "text": [
        "[547]\ttrain-poisson-nloglik:2.173254\tval-poisson-nloglik:2.725296\n",
        "[548]\ttrain-poisson-nloglik:2.172728\tval-poisson-nloglik:2.725232\n"
       ]
      },
      {
       "output_type": "stream",
       "stream": "stderr",
       "text": [
        "[549]\ttrain-poisson-nloglik:2.172352\tval-poisson-nloglik:2.725152\n",
        "[550]\ttrain-poisson-nloglik:2.171871\tval-poisson-nloglik:2.725049\n"
       ]
      },
      {
       "output_type": "stream",
       "stream": "stderr",
       "text": [
        "[551]\ttrain-poisson-nloglik:2.171502\tval-poisson-nloglik:2.724982\n",
        "[552]\ttrain-poisson-nloglik:2.171046\tval-poisson-nloglik:2.724805\n"
       ]
      },
      {
       "output_type": "stream",
       "stream": "stderr",
       "text": [
        "[553]\ttrain-poisson-nloglik:2.170704\tval-poisson-nloglik:2.724674\n",
        "[554]\ttrain-poisson-nloglik:2.170489\tval-poisson-nloglik:2.724553\n"
       ]
      },
      {
       "output_type": "stream",
       "stream": "stderr",
       "text": [
        "[555]\ttrain-poisson-nloglik:2.169890\tval-poisson-nloglik:2.724500\n",
        "[556]\ttrain-poisson-nloglik:2.169623\tval-poisson-nloglik:2.724459\n"
       ]
      },
      {
       "output_type": "stream",
       "stream": "stderr",
       "text": [
        "[557]\ttrain-poisson-nloglik:2.169171\tval-poisson-nloglik:2.724421\n",
        "[558]\ttrain-poisson-nloglik:2.168758\tval-poisson-nloglik:2.724307\n"
       ]
      },
      {
       "output_type": "stream",
       "stream": "stderr",
       "text": [
        "[559]\ttrain-poisson-nloglik:2.168429\tval-poisson-nloglik:2.724243\n",
        "[560]\ttrain-poisson-nloglik:2.168015\tval-poisson-nloglik:2.724148\n"
       ]
      },
      {
       "output_type": "stream",
       "stream": "stderr",
       "text": [
        "[561]\ttrain-poisson-nloglik:2.167634\tval-poisson-nloglik:2.724044\n",
        "[562]\ttrain-poisson-nloglik:2.167215\tval-poisson-nloglik:2.723995\n"
       ]
      },
      {
       "output_type": "stream",
       "stream": "stderr",
       "text": [
        "[563]\ttrain-poisson-nloglik:2.166865\tval-poisson-nloglik:2.723977\n",
        "[564]\ttrain-poisson-nloglik:2.166422\tval-poisson-nloglik:2.723916\n"
       ]
      },
      {
       "output_type": "stream",
       "stream": "stderr",
       "text": [
        "[565]\ttrain-poisson-nloglik:2.166130\tval-poisson-nloglik:2.723820\n",
        "[566]\ttrain-poisson-nloglik:2.165937\tval-poisson-nloglik:2.723747\n"
       ]
      },
      {
       "output_type": "stream",
       "stream": "stderr",
       "text": [
        "[567]\ttrain-poisson-nloglik:2.165613\tval-poisson-nloglik:2.723634\n",
        "[568]\ttrain-poisson-nloglik:2.165250\tval-poisson-nloglik:2.723536\n"
       ]
      },
      {
       "output_type": "stream",
       "stream": "stderr",
       "text": [
        "[569]\ttrain-poisson-nloglik:2.164939\tval-poisson-nloglik:2.723424\n",
        "[570]\ttrain-poisson-nloglik:2.164574\tval-poisson-nloglik:2.723411\n"
       ]
      },
      {
       "output_type": "stream",
       "stream": "stderr",
       "text": [
        "[571]\ttrain-poisson-nloglik:2.164135\tval-poisson-nloglik:2.723335\n",
        "[572]\ttrain-poisson-nloglik:2.163715\tval-poisson-nloglik:2.723294\n"
       ]
      },
      {
       "output_type": "stream",
       "stream": "stderr",
       "text": [
        "[573]\ttrain-poisson-nloglik:2.163481\tval-poisson-nloglik:2.723238\n",
        "[574]\ttrain-poisson-nloglik:2.163112\tval-poisson-nloglik:2.723195\n"
       ]
      },
      {
       "output_type": "stream",
       "stream": "stderr",
       "text": [
        "[575]\ttrain-poisson-nloglik:2.162729\tval-poisson-nloglik:2.723137\n",
        "[576]\ttrain-poisson-nloglik:2.162215\tval-poisson-nloglik:2.722999\n"
       ]
      },
      {
       "output_type": "stream",
       "stream": "stderr",
       "text": [
        "[577]\ttrain-poisson-nloglik:2.161919\tval-poisson-nloglik:2.722954\n",
        "[578]\ttrain-poisson-nloglik:2.161419\tval-poisson-nloglik:2.722853\n"
       ]
      },
      {
       "output_type": "stream",
       "stream": "stderr",
       "text": [
        "[579]\ttrain-poisson-nloglik:2.161040\tval-poisson-nloglik:2.722774\n",
        "[580]\ttrain-poisson-nloglik:2.160662\tval-poisson-nloglik:2.722715\n"
       ]
      },
      {
       "output_type": "stream",
       "stream": "stderr",
       "text": [
        "[581]\ttrain-poisson-nloglik:2.160297\tval-poisson-nloglik:2.722649\n",
        "[582]\ttrain-poisson-nloglik:2.160070\tval-poisson-nloglik:2.722541\n"
       ]
      },
      {
       "output_type": "stream",
       "stream": "stderr",
       "text": [
        "[583]\ttrain-poisson-nloglik:2.159701\tval-poisson-nloglik:2.722498\n",
        "[584]\ttrain-poisson-nloglik:2.159446\tval-poisson-nloglik:2.722435\n"
       ]
      },
      {
       "output_type": "stream",
       "stream": "stderr",
       "text": [
        "[585]\ttrain-poisson-nloglik:2.159089\tval-poisson-nloglik:2.722427\n",
        "[586]\ttrain-poisson-nloglik:2.158897\tval-poisson-nloglik:2.722388\n"
       ]
      },
      {
       "output_type": "stream",
       "stream": "stderr",
       "text": [
        "[587]\ttrain-poisson-nloglik:2.158674\tval-poisson-nloglik:2.722306\n",
        "[588]\ttrain-poisson-nloglik:2.158385\tval-poisson-nloglik:2.722228\n"
       ]
      },
      {
       "output_type": "stream",
       "stream": "stderr",
       "text": [
        "[589]\ttrain-poisson-nloglik:2.158022\tval-poisson-nloglik:2.722160\n",
        "[590]\ttrain-poisson-nloglik:2.157681\tval-poisson-nloglik:2.722155\n"
       ]
      },
      {
       "output_type": "stream",
       "stream": "stderr",
       "text": [
        "[591]\ttrain-poisson-nloglik:2.157268\tval-poisson-nloglik:2.722031\n",
        "[592]\ttrain-poisson-nloglik:2.156996\tval-poisson-nloglik:2.721978\n"
       ]
      },
      {
       "output_type": "stream",
       "stream": "stderr",
       "text": [
        "[593]\ttrain-poisson-nloglik:2.156551\tval-poisson-nloglik:2.722035\n",
        "[594]\ttrain-poisson-nloglik:2.156223\tval-poisson-nloglik:2.721963\n"
       ]
      },
      {
       "output_type": "stream",
       "stream": "stderr",
       "text": [
        "[595]\ttrain-poisson-nloglik:2.155852\tval-poisson-nloglik:2.721910\n",
        "[596]\ttrain-poisson-nloglik:2.155453\tval-poisson-nloglik:2.721842\n"
       ]
      },
      {
       "output_type": "stream",
       "stream": "stderr",
       "text": [
        "[597]\ttrain-poisson-nloglik:2.155100\tval-poisson-nloglik:2.721749\n",
        "[598]\ttrain-poisson-nloglik:2.154614\tval-poisson-nloglik:2.721800\n"
       ]
      },
      {
       "output_type": "stream",
       "stream": "stderr",
       "text": [
        "[599]\ttrain-poisson-nloglik:2.154237\tval-poisson-nloglik:2.721704\n",
        "[600]\ttrain-poisson-nloglik:2.153861\tval-poisson-nloglik:2.721645\n"
       ]
      },
      {
       "output_type": "stream",
       "stream": "stderr",
       "text": [
        "[601]\ttrain-poisson-nloglik:2.153303\tval-poisson-nloglik:2.721637\n",
        "[602]\ttrain-poisson-nloglik:2.152972\tval-poisson-nloglik:2.721593\n"
       ]
      },
      {
       "output_type": "stream",
       "stream": "stderr",
       "text": [
        "[603]\ttrain-poisson-nloglik:2.152704\tval-poisson-nloglik:2.721526\n",
        "[604]\ttrain-poisson-nloglik:2.152195\tval-poisson-nloglik:2.721510\n"
       ]
      },
      {
       "output_type": "stream",
       "stream": "stderr",
       "text": [
        "[605]\ttrain-poisson-nloglik:2.151804\tval-poisson-nloglik:2.721440\n",
        "[606]\ttrain-poisson-nloglik:2.151513\tval-poisson-nloglik:2.721408\n"
       ]
      },
      {
       "output_type": "stream",
       "stream": "stderr",
       "text": [
        "[607]\ttrain-poisson-nloglik:2.151218\tval-poisson-nloglik:2.721333\n",
        "[608]\ttrain-poisson-nloglik:2.150896\tval-poisson-nloglik:2.721301\n"
       ]
      },
      {
       "output_type": "stream",
       "stream": "stderr",
       "text": [
        "[609]\ttrain-poisson-nloglik:2.150691\tval-poisson-nloglik:2.721249\n",
        "[610]\ttrain-poisson-nloglik:2.150425\tval-poisson-nloglik:2.721220\n"
       ]
      },
      {
       "output_type": "stream",
       "stream": "stderr",
       "text": [
        "[611]\ttrain-poisson-nloglik:2.150085\tval-poisson-nloglik:2.721116\n",
        "[612]\ttrain-poisson-nloglik:2.149760\tval-poisson-nloglik:2.721071\n"
       ]
      },
      {
       "output_type": "stream",
       "stream": "stderr",
       "text": [
        "[613]\ttrain-poisson-nloglik:2.149310\tval-poisson-nloglik:2.721048\n",
        "[614]\ttrain-poisson-nloglik:2.148804\tval-poisson-nloglik:2.720903\n"
       ]
      },
      {
       "output_type": "stream",
       "stream": "stderr",
       "text": [
        "[615]\ttrain-poisson-nloglik:2.148433\tval-poisson-nloglik:2.720912\n",
        "[616]\ttrain-poisson-nloglik:2.148032\tval-poisson-nloglik:2.720893\n"
       ]
      },
      {
       "output_type": "stream",
       "stream": "stderr",
       "text": [
        "[617]\ttrain-poisson-nloglik:2.147807\tval-poisson-nloglik:2.720866\n",
        "[618]\ttrain-poisson-nloglik:2.147408\tval-poisson-nloglik:2.720819\n"
       ]
      },
      {
       "output_type": "stream",
       "stream": "stderr",
       "text": [
        "[619]\ttrain-poisson-nloglik:2.147121\tval-poisson-nloglik:2.720757\n",
        "[620]\ttrain-poisson-nloglik:2.146849\tval-poisson-nloglik:2.720624\n"
       ]
      },
      {
       "output_type": "stream",
       "stream": "stderr",
       "text": [
        "[621]\ttrain-poisson-nloglik:2.146432\tval-poisson-nloglik:2.720590\n",
        "[622]\ttrain-poisson-nloglik:2.146096\tval-poisson-nloglik:2.720570\n"
       ]
      },
      {
       "output_type": "stream",
       "stream": "stderr",
       "text": [
        "[623]\ttrain-poisson-nloglik:2.145682\tval-poisson-nloglik:2.720532\n",
        "[624]\ttrain-poisson-nloglik:2.145432\tval-poisson-nloglik:2.720448\n"
       ]
      },
      {
       "output_type": "stream",
       "stream": "stderr",
       "text": [
        "[625]\ttrain-poisson-nloglik:2.145070\tval-poisson-nloglik:2.720415\n",
        "[626]\ttrain-poisson-nloglik:2.144716\tval-poisson-nloglik:2.720444\n"
       ]
      },
      {
       "output_type": "stream",
       "stream": "stderr",
       "text": [
        "[627]\ttrain-poisson-nloglik:2.144469\tval-poisson-nloglik:2.720419\n",
        "[628]\ttrain-poisson-nloglik:2.144166\tval-poisson-nloglik:2.720408\n"
       ]
      },
      {
       "output_type": "stream",
       "stream": "stderr",
       "text": [
        "[629]\ttrain-poisson-nloglik:2.143898\tval-poisson-nloglik:2.720392\n",
        "[630]\ttrain-poisson-nloglik:2.143649\tval-poisson-nloglik:2.720344\n"
       ]
      },
      {
       "output_type": "stream",
       "stream": "stderr",
       "text": [
        "[631]\ttrain-poisson-nloglik:2.143329\tval-poisson-nloglik:2.720345\n",
        "[632]\ttrain-poisson-nloglik:2.142987\tval-poisson-nloglik:2.720278\n"
       ]
      },
      {
       "output_type": "stream",
       "stream": "stderr",
       "text": [
        "[633]\ttrain-poisson-nloglik:2.142611\tval-poisson-nloglik:2.720249\n",
        "[634]\ttrain-poisson-nloglik:2.142326\tval-poisson-nloglik:2.720201\n"
       ]
      },
      {
       "output_type": "stream",
       "stream": "stderr",
       "text": [
        "[635]\ttrain-poisson-nloglik:2.142079\tval-poisson-nloglik:2.720162\n",
        "[636]\ttrain-poisson-nloglik:2.141638\tval-poisson-nloglik:2.720037\n"
       ]
      },
      {
       "output_type": "stream",
       "stream": "stderr",
       "text": [
        "[637]\ttrain-poisson-nloglik:2.141404\tval-poisson-nloglik:2.719989\n",
        "[638]\ttrain-poisson-nloglik:2.141107\tval-poisson-nloglik:2.719952\n"
       ]
      },
      {
       "output_type": "stream",
       "stream": "stderr",
       "text": [
        "[639]\ttrain-poisson-nloglik:2.140694\tval-poisson-nloglik:2.719934\n",
        "[640]\ttrain-poisson-nloglik:2.140453\tval-poisson-nloglik:2.719890\n"
       ]
      },
      {
       "output_type": "stream",
       "stream": "stderr",
       "text": [
        "[641]\ttrain-poisson-nloglik:2.140130\tval-poisson-nloglik:2.719874\n",
        "[642]\ttrain-poisson-nloglik:2.139728\tval-poisson-nloglik:2.719839\n"
       ]
      },
      {
       "output_type": "stream",
       "stream": "stderr",
       "text": [
        "[643]\ttrain-poisson-nloglik:2.139426\tval-poisson-nloglik:2.719768\n",
        "[644]\ttrain-poisson-nloglik:2.139071\tval-poisson-nloglik:2.719662\n"
       ]
      },
      {
       "output_type": "stream",
       "stream": "stderr",
       "text": [
        "[645]\ttrain-poisson-nloglik:2.138702\tval-poisson-nloglik:2.719651\n",
        "[646]\ttrain-poisson-nloglik:2.138240\tval-poisson-nloglik:2.719608\n"
       ]
      },
      {
       "output_type": "stream",
       "stream": "stderr",
       "text": [
        "[647]\ttrain-poisson-nloglik:2.138033\tval-poisson-nloglik:2.719577\n",
        "[648]\ttrain-poisson-nloglik:2.137920\tval-poisson-nloglik:2.719532\n"
       ]
      },
      {
       "output_type": "stream",
       "stream": "stderr",
       "text": [
        "[649]\ttrain-poisson-nloglik:2.137581\tval-poisson-nloglik:2.719477\n",
        "[650]\ttrain-poisson-nloglik:2.137250\tval-poisson-nloglik:2.719513\n"
       ]
      },
      {
       "output_type": "stream",
       "stream": "stderr",
       "text": [
        "[651]\ttrain-poisson-nloglik:2.137021\tval-poisson-nloglik:2.719460\n",
        "[652]\ttrain-poisson-nloglik:2.136621\tval-poisson-nloglik:2.719467\n"
       ]
      },
      {
       "output_type": "stream",
       "stream": "stderr",
       "text": [
        "[653]\ttrain-poisson-nloglik:2.136273\tval-poisson-nloglik:2.719464\n",
        "[654]\ttrain-poisson-nloglik:2.135944\tval-poisson-nloglik:2.719445\n"
       ]
      },
      {
       "output_type": "stream",
       "stream": "stderr",
       "text": [
        "[655]\ttrain-poisson-nloglik:2.135559\tval-poisson-nloglik:2.719419\n",
        "[656]\ttrain-poisson-nloglik:2.135205\tval-poisson-nloglik:2.719391\n"
       ]
      },
      {
       "output_type": "stream",
       "stream": "stderr",
       "text": [
        "[657]\ttrain-poisson-nloglik:2.134924\tval-poisson-nloglik:2.719423\n",
        "[658]\ttrain-poisson-nloglik:2.134522\tval-poisson-nloglik:2.719353\n"
       ]
      },
      {
       "output_type": "stream",
       "stream": "stderr",
       "text": [
        "[659]\ttrain-poisson-nloglik:2.134077\tval-poisson-nloglik:2.719292\n",
        "[660]\ttrain-poisson-nloglik:2.133894\tval-poisson-nloglik:2.719218\n"
       ]
      },
      {
       "output_type": "stream",
       "stream": "stderr",
       "text": [
        "[661]\ttrain-poisson-nloglik:2.133472\tval-poisson-nloglik:2.719156\n",
        "[662]\ttrain-poisson-nloglik:2.133193\tval-poisson-nloglik:2.719128\n"
       ]
      },
      {
       "output_type": "stream",
       "stream": "stderr",
       "text": [
        "[663]\ttrain-poisson-nloglik:2.132820\tval-poisson-nloglik:2.719076\n",
        "[664]\ttrain-poisson-nloglik:2.132453\tval-poisson-nloglik:2.719070\n"
       ]
      },
      {
       "output_type": "stream",
       "stream": "stderr",
       "text": [
        "[665]\ttrain-poisson-nloglik:2.132143\tval-poisson-nloglik:2.719043\n",
        "[666]\ttrain-poisson-nloglik:2.131683\tval-poisson-nloglik:2.719012\n"
       ]
      },
      {
       "output_type": "stream",
       "stream": "stderr",
       "text": [
        "[667]\ttrain-poisson-nloglik:2.131542\tval-poisson-nloglik:2.719012\n",
        "[668]\ttrain-poisson-nloglik:2.131211\tval-poisson-nloglik:2.719002\n"
       ]
      },
      {
       "output_type": "stream",
       "stream": "stderr",
       "text": [
        "[669]\ttrain-poisson-nloglik:2.130907\tval-poisson-nloglik:2.718978\n",
        "[670]\ttrain-poisson-nloglik:2.130475\tval-poisson-nloglik:2.718850\n"
       ]
      },
      {
       "output_type": "stream",
       "stream": "stderr",
       "text": [
        "[671]\ttrain-poisson-nloglik:2.130142\tval-poisson-nloglik:2.718745\n",
        "[672]\ttrain-poisson-nloglik:2.129890\tval-poisson-nloglik:2.718683\n"
       ]
      },
      {
       "output_type": "stream",
       "stream": "stderr",
       "text": [
        "[673]\ttrain-poisson-nloglik:2.129584\tval-poisson-nloglik:2.718672\n",
        "[674]\ttrain-poisson-nloglik:2.129297\tval-poisson-nloglik:2.718591\n"
       ]
      },
      {
       "output_type": "stream",
       "stream": "stderr",
       "text": [
        "[675]\ttrain-poisson-nloglik:2.129092\tval-poisson-nloglik:2.718593\n",
        "[676]\ttrain-poisson-nloglik:2.128620\tval-poisson-nloglik:2.718486\n"
       ]
      },
      {
       "output_type": "stream",
       "stream": "stderr",
       "text": [
        "[677]\ttrain-poisson-nloglik:2.128256\tval-poisson-nloglik:2.718482\n",
        "[678]\ttrain-poisson-nloglik:2.127958\tval-poisson-nloglik:2.718400\n"
       ]
      },
      {
       "output_type": "stream",
       "stream": "stderr",
       "text": [
        "[679]\ttrain-poisson-nloglik:2.127664\tval-poisson-nloglik:2.718372\n",
        "[680]\ttrain-poisson-nloglik:2.127187\tval-poisson-nloglik:2.718260\n"
       ]
      },
      {
       "output_type": "stream",
       "stream": "stderr",
       "text": [
        "[681]\ttrain-poisson-nloglik:2.126752\tval-poisson-nloglik:2.718206\n",
        "[682]\ttrain-poisson-nloglik:2.126460\tval-poisson-nloglik:2.718265\n"
       ]
      },
      {
       "output_type": "stream",
       "stream": "stderr",
       "text": [
        "[683]\ttrain-poisson-nloglik:2.126173\tval-poisson-nloglik:2.718237\n",
        "[684]\ttrain-poisson-nloglik:2.125834\tval-poisson-nloglik:2.718229\n"
       ]
      },
      {
       "output_type": "stream",
       "stream": "stderr",
       "text": [
        "[685]\ttrain-poisson-nloglik:2.125541\tval-poisson-nloglik:2.718289\n",
        "[686]\ttrain-poisson-nloglik:2.125186\tval-poisson-nloglik:2.718251\n"
       ]
      },
      {
       "output_type": "stream",
       "stream": "stderr",
       "text": [
        "[687]\ttrain-poisson-nloglik:2.124820\tval-poisson-nloglik:2.718212\n",
        "[688]\ttrain-poisson-nloglik:2.124476\tval-poisson-nloglik:2.718201\n"
       ]
      },
      {
       "output_type": "stream",
       "stream": "stderr",
       "text": [
        "[689]\ttrain-poisson-nloglik:2.124112\tval-poisson-nloglik:2.718213\n",
        "[690]\ttrain-poisson-nloglik:2.123944\tval-poisson-nloglik:2.718150\n"
       ]
      },
      {
       "output_type": "stream",
       "stream": "stderr",
       "text": [
        "[691]\ttrain-poisson-nloglik:2.123581\tval-poisson-nloglik:2.718121\n",
        "[692]\ttrain-poisson-nloglik:2.123226\tval-poisson-nloglik:2.718096\n"
       ]
      },
      {
       "output_type": "stream",
       "stream": "stderr",
       "text": [
        "[693]\ttrain-poisson-nloglik:2.122984\tval-poisson-nloglik:2.718054\n",
        "[694]\ttrain-poisson-nloglik:2.122615\tval-poisson-nloglik:2.718098\n"
       ]
      },
      {
       "output_type": "stream",
       "stream": "stderr",
       "text": [
        "[695]\ttrain-poisson-nloglik:2.122338\tval-poisson-nloglik:2.718102\n",
        "[696]\ttrain-poisson-nloglik:2.121937\tval-poisson-nloglik:2.718134\n"
       ]
      },
      {
       "output_type": "stream",
       "stream": "stderr",
       "text": [
        "[697]\ttrain-poisson-nloglik:2.121584\tval-poisson-nloglik:2.718107\n",
        "[698]\ttrain-poisson-nloglik:2.121163\tval-poisson-nloglik:2.718102\n"
       ]
      },
      {
       "output_type": "stream",
       "stream": "stderr",
       "text": [
        "[699]\ttrain-poisson-nloglik:2.120872\tval-poisson-nloglik:2.718066\n",
        "[700]\ttrain-poisson-nloglik:2.120672\tval-poisson-nloglik:2.718081\n"
       ]
      },
      {
       "output_type": "stream",
       "stream": "stderr",
       "text": [
        "[701]\ttrain-poisson-nloglik:2.120339\tval-poisson-nloglik:2.718076\n",
        "[702]\ttrain-poisson-nloglik:2.120034\tval-poisson-nloglik:2.718084\n"
       ]
      },
      {
       "output_type": "stream",
       "stream": "stderr",
       "text": [
        "[703]\ttrain-poisson-nloglik:2.119805\tval-poisson-nloglik:2.718091\n",
        "Stopping. Best iteration:\n",
        "[693]\ttrain-poisson-nloglik:2.122984\tval-poisson-nloglik:2.718054\n",
        "\n"
       ]
      }
     ],
     "prompt_number": 41
    },
    {
     "cell_type": "code",
     "collapsed": false,
     "input": [
      "## importance: f15,\n",
      "xgb.plot_importance(model)"
     ],
     "language": "python",
     "metadata": {},
     "outputs": [
      {
       "metadata": {},
       "output_type": "pyout",
       "prompt_number": 31,
       "text": [
        "<matplotlib.axes.AxesSubplot at 0x7fa28ad44e10>"
       ]
      },
      {
       "metadata": {},
       "output_type": "display_data",
       "png": "[encoded data removed]",
       "text": [
        "<matplotlib.figure.Figure at 0x7fa28a731dd0>"
       ]
      }
     ],
     "prompt_number": 31
    },
    {
     "cell_type": "code",
     "collapsed": false,
     "input": [
      "preds1 = model.predict(xgtest)\n",
      "print preds1\n",
      "\n",
      "# generate solution file\n",
      "preds = pd.DataFrame({\"Id\": test_ind, \"Hazard\": preds1})\n",
      "preds = preds.set_index('Id')\n",
      "preds.to_csv('xgboost_dev20150823.csv')\n",
      "%pwd"
     ],
     "language": "python",
     "metadata": {},
     "outputs": [
      {
       "output_type": "stream",
       "stream": "stdout",
       "text": [
        "[ 2.33659577  5.56313705  6.89171028 ...,  3.97045898  3.60377049\n",
        "  3.12126994]\n"
       ]
      },
      {
       "metadata": {},
       "output_type": "pyout",
       "prompt_number": 42,
       "text": [
        "u'/home/leandroohf/Documents/kaggle/Liberty_Mutual_Group_Property_Inspection_Prediction/dev'"
       ]
      }
     ],
     "prompt_number": 42
    }
   ],
   "metadata": {}
  }
 ]
}