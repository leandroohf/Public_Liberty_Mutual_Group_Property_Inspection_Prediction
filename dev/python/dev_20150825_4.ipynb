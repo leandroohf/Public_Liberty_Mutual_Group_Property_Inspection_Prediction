{
 "metadata": {
  "name": ""
 },
 "nbformat": 3,
 "nbformat_minor": 0,
 "worksheets": [
  {
   "cells": [
    {
     "cell_type": "markdown",
     "metadata": {},
     "source": [
      "# Base de treino balanciada\n",
      "\n",
      "Considerei apenas algumas Hazard < 70 (Considera tudo)\n",
      "\n",
      "kaglle score:\n",
      "\n",
      "Meu melhor kaglle score: 0.3850\n"
     ]
    },
    {
     "cell_type": "code",
     "collapsed": false,
     "input": [
      "# Setup\n",
      "import pandas as pd\n",
      "import numpy as np \n",
      "from sklearn import preprocessing\n",
      "import xgboost as xgb\n",
      "import random\n",
      "import matplotlib.pyplot as plt"
     ],
     "language": "python",
     "metadata": {},
     "outputs": [],
     "prompt_number": 109
    },
    {
     "cell_type": "code",
     "collapsed": false,
     "input": [
      "# Defining some functions\n",
      "\n",
      "print 'Defining functions (shameless stolen from the script pages)'\n",
      "\n",
      "## Gini: Shameless stolen from jpopham91's script\n",
      "def Gini1(y_true, y_pred):\n",
      "    # check and get number of samples\n",
      "    assert y_true.shape == y_pred.shape\n",
      "    n_samples = y_true.shape[0]\n",
      "    \n",
      "    # sort rows on prediction column \n",
      "    # (from largest to smallest)\n",
      "    arr = np.array([y_true, y_pred]).transpose()\n",
      "    true_order = arr[arr[:,0].argsort()][::-1,0]\n",
      "    pred_order = arr[arr[:,1].argsort()][::-1,0]\n",
      "    \n",
      "    # get Lorenz curves\n",
      "    L_true = np.cumsum(true_order) / np.sum(true_order)\n",
      "    L_pred = np.cumsum(pred_order) / np.sum(pred_order)\n",
      "    L_ones = np.linspace(1/n_samples, 1, n_samples)\n",
      "    \n",
      "    # get Gini coefficients (area between curves)\n",
      "    G_true = np.sum(L_ones - L_true)\n",
      "    G_pred = np.sum(L_ones - L_pred)\n",
      "    \n",
      "    # normalize to true Gini coefficient\n",
      "    return G_pred/G_true\n",
      "\n",
      "# Source script: justfor que por sua vez pegou da fonte abaixo\n",
      "# Source of good version: https://www.kaggle.com/c/ClaimPredictionChallenge/forums/t/703/code-to-calculate-normalizedgini    \n",
      "def Gini2_aux(actual, pred, cmpcol = 0, sortcol = 1):\n",
      "     assert( len(actual) == len(pred) )\n",
      "     all = np.asarray(np.c_[ actual, pred, np.arange(len(actual)) ], dtype=np.float)\n",
      "     all = all[ np.lexsort((all[:,2], -1*all[:,1])) ]\n",
      "     totalLosses = all[:,0].sum()\n",
      "     giniSum = all[:,0].cumsum().sum() / totalLosses\n",
      "     giniSum -= (len(actual) + 1) / 2.\n",
      "     return giniSum / len(actual)\n",
      " \n",
      "def Gini2(y_true, y_pred):\n",
      "     return Gini2_aux(y_true, y_pred) / Gini2_aux(y_true, y_true)\n",
      "\n",
      "def ReBalanceTrainData(train_pre,sample_size):\n",
      "    h = 1\n",
      "    print \"Hazard: \" + str(h)\n",
      "    train_aux = train_pre[train_pre.Hazard == h]\n",
      "    rows_sampled = np.random.choice(train_aux.index,sample_size)\n",
      "    train_balanced_pre = train_pre.ix[rows_sampled]\n",
      "\n",
      "    for h in range(2,hazard_thr):\n",
      "        print \"Hazard: \" + str(h)\n",
      "        train_aux = train_pre[train_pre.Hazard == h]\n",
      "        rows_sampled = np.random.choice(train_aux.index,sample_size)\n",
      "        train_balanced_pre = train_balanced_pre.append(train_pre.ix[rows_sampled])\n",
      "\n",
      "    return train_balanced_pre\n",
      "\n",
      "def SampleData(train_balanced_pre,train_size,val_size,test_size):\n",
      "\n",
      "    print 'Making a copy'\n",
      "    train_copy = train_balanced_pre.copy()\n",
      "   \n",
      "    print 'Sampling validation set'\n",
      "    np.random.seed(3)\n",
      "    val_rows_samples = np.random.choice( train_copy.index,val_size,replace=False)\n",
      "    val_data = train_copy.ix[val_rows_samples].copy()\n",
      "\n",
      "    print 'Sampling train set'\n",
      "    train_test_data = train_copy.drop(val_rows_samples).copy()\n",
      "    print 'train_test_data-size: ' + str(train_test_data.shape)\n",
      "\n",
      "    np.random.seed(7)\n",
      "    train_rows_samples = np.random.choice( train_test_data.index,train_size, replace=False)\n",
      "    train_data = train_test_data.ix[train_rows_samples].copy()\n",
      "    \n",
      "    print 'Sampling test set'\n",
      "    test_data = train_test_data.drop(train_rows_samples).copy()\n",
      "    \n",
      "    np.random.seed(5)\n",
      "    test_rows_samples = np.random.choice(test_data.index,test_size, replace=True)\n",
      "    test_data = test_data.ix[test_rows_samples].copy()\n",
      "\n",
      "    return train_data, val_data, test_data\n",
      "\n",
      "\n",
      "def DropColumns(data,columns_to_drop):    \n",
      "    for c in columns_to_drop:\n",
      "        print 'dropping ' + c\n",
      "        data.drop(c, axis=1, inplace=True)\n",
      "\n",
      "    return data"
     ],
     "language": "python",
     "metadata": {},
     "outputs": [
      {
       "output_type": "stream",
       "stream": "stdout",
       "text": [
        "Defining functions (shameless stolen from the script pages)\n"
       ]
      }
     ],
     "prompt_number": 110
    },
    {
     "cell_type": "code",
     "collapsed": false,
     "input": [
      "\n",
      "#load train and test \n",
      "train  = pd.read_csv('../data/raw/train.csv', index_col=0)\n",
      "test   = pd.read_csv('../data/raw/test.csv', index_col=0)\n",
      "\n",
      "print train.shape\n",
      "\n",
      "print \"==========================\"\n",
      "\n",
      "labels = train.Hazard\n",
      "%matplotlib inline\n",
      "labels.hist(bins=69)\n",
      "\n",
      "\n",
      "## Fazendo copia dos dados\n",
      "train_pre = train.copy()\n",
      "\n",
      "hazard_thr = 70\n",
      "sample_size = 3000 # sample size per class\n",
      "\n",
      "print \"Printing intial train dim:\"\n",
      "print train_pre.shape\n",
      "\n",
      "print \"Considering Hazard < \" + str(hazard_thr) + \" in train data\"\n",
      "\n",
      "\n",
      "### #####################################################\n",
      "# verifcar a capacidade de gerar hazard acima de hazard_thr\n",
      "#train_pre = train_pre[ train_pre['Hazard'] < hazard_thr]\n",
      "train_pre = train_pre[ ( train_pre['Hazard'] > 2) & (train_pre['Hazard'] < 23) ]\n",
      "\n",
      "### #####################################################\n",
      "\n",
      "print 'train_pre-size: ' + str(train_pre.shape)\n",
      "\n",
      "labels = train_pre['Hazard']\n",
      "\n",
      "#train_balanced_pre = ReBalanceTrainData(train_pre,sample_size)\n",
      "print 'Summary of random data slected'\n",
      "print 'train pre:'\n",
      "plt.xlim(0,70);labels.hist(bins=(hazard_thr-1))\n",
      "\n",
      "plt.matshow(train_pre.corr());plt.colorbar()\n",
      "train_pre.corr().to_csv('train_pre_corr.csv')\n",
      "\n"
     ],
     "language": "python",
     "metadata": {},
     "outputs": [
      {
       "output_type": "stream",
       "stream": "stdout",
       "text": [
        "(50999, 33)\n",
        "==========================\n",
        "Printing intial train dim:"
       ]
      },
      {
       "output_type": "stream",
       "stream": "stdout",
       "text": [
        "\n",
        "(50999, 33)\n",
        "Considering Hazard < 70 in train data\n",
        "train_pre-size: (25639, 33)\n",
        "Summary of random data slected\n",
        "train pre:\n"
       ]
      },
      {
       "metadata": {},
       "output_type": "display_data",
       "png": "[encoded data removed]",
       "text": [
        "<matplotlib.figure.Figure at 0x7fed319d3e10>"
       ]
      },
      {
       "metadata": {},
       "output_type": "display_data",
       "png": "[encoded data removed]",
       "text": [
        "<matplotlib.figure.Figure at 0x7fed317c6f90>"
       ]
      }
     ],
     "prompt_number": 151
    },
    {
     "cell_type": "markdown",
     "metadata": {},
     "source": [
      "\n",
      "## Prepaing training data"
     ]
    },
    {
     "cell_type": "markdown",
     "metadata": {},
     "source": [
      "## Seting model parameters"
     ]
    },
    {
     "cell_type": "markdown",
     "metadata": {},
     "source": [
      "## Training XGBoost"
     ]
    }
   ],
   "metadata": {}
  }
 ]
}