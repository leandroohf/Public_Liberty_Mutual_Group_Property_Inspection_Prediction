{
 "metadata": {
  "name": ""
 },
 "nbformat": 3,
 "nbformat_minor": 0,
 "worksheets": [
  {
   "cells": [
    {
     "cell_type": "markdown",
     "metadata": {},
     "source": [
      "# Testing work with categorical columns\n",
      "\n",
      "Separei variaveis em categoricas e numericas e fiz uma analise descritivas nestas variaveis e salvei nas planilhas excel.\n",
      "\n",
      "Criei modelo com apenas variaveis numericas e removi as colunas T1_V10, T1_V13, T2_V10 e T2_V7\n",
      "\n",
      "Mas o resultado foi muito abaixo quando eu considero as variavei categoricas convertendo-as como numericas e assumindo ordem entre elas. Ex: A = 1, B = 2, .... (Do exemplo da internet)\n"
     ]
    },
    {
     "cell_type": "code",
     "collapsed": false,
     "input": [
      "import pandas as pd\n",
      "import numpy as np \n",
      "from sklearn import preprocessing\n",
      "import xgboost as xgb\n",
      "\n",
      "#load train and test \n",
      "train  = pd.read_csv('../data/raw/train.csv', index_col=0)\n",
      "test   = pd.read_csv('../data/raw/test.csv', index_col=0)\n",
      "\n",
      "print train.shape\n",
      "## XXX Parece BUG head() nao mostra a ultimas colunas: 10,20,30\n",
      "## Entao eu tive que duplicar para imprimir todas as colunas\n",
      "print train.iloc[:,0:10].head()\n",
      "print train.iloc[:,10:20].head()\n",
      "print train.iloc[:,20:30].head()\n",
      "print train.iloc[:,30:33].head()\n",
      "print \"==========================\"\n",
      "print test.head()\n",
      "\n",
      "labels = train.Hazard\n",
      "#train.drop('Hazard', axis=1, inplace=True)\n",
      "print \"Harzard\"\n",
      "print labels.unique()\n",
      "print labels.astype('category').describe()\n",
      "print labels.value_counts()\n",
      "%matplotlib inline\n",
      "labels.hist(bins=69)"
     ],
     "language": "python",
     "metadata": {},
     "outputs": [
      {
       "output_type": "stream",
       "stream": "stdout",
       "text": [
        "(50999, 33)\n",
        "    Hazard  T1_V1  T1_V2  T1_V3 T1_V4 T1_V5 T1_V6 T1_V7 T1_V8 T1_V9\n",
        "Id                                                                 \n",
        "1        1     15      3      2     N     B     N     B     B     D\n",
        "2        4     16     14      5     H     B     N     B     B     C\n",
        "3        1     10     10      5     N     K     N     B     B     E\n",
        "4        1     18     18      5     N     K     N     B     B     E\n",
        "5        1     13     19      5     N     H     N     B     B     E\n",
        "    T1_V10 T1_V11 T1_V12  T1_V13  T1_V14 T1_V15 T1_V16 T1_V17  T2_V1  T2_V2\n",
        "Id                                                                         \n",
        "1        7      B      B      15       1      A      B      N     36     11\n",
        "2       12      B      B      10       3      A      B      Y     78     10\n",
        "3       12      H      B      15       1      A      R      Y     71     21\n",
        "4        3      H      B      15       1      A      R      N     71     13\n",
        "5        7      H      B      10       1      A      J      N     75     10\n",
        "   T2_V3  T2_V4 T2_V5  T2_V6  T2_V7  T2_V8  T2_V9  T2_V10 T2_V11 T2_V12\n",
        "Id                                                                     \n",
        "1      N     10     B      2     37      1     11       6      Y      N\n",
        "2      Y     17     C      2     22      1     18       5      Y      Y\n",
        "3      Y     13     C      6     37      2     14       6      Y      Y\n",
        "4      N     15     A      2     25      1      1       6      Y      N\n",
        "5      Y     11     B      1     22      1      2       7      N      N\n",
        "   T2_V13  T2_V14  T2_V15\n",
        "Id                       \n",
        "1       E       2       2\n",
        "2       E       2       1\n",
        "3       E       6       1\n",
        "4       C       2       6\n",
        "5       E       1       1\n",
        "==========================\n",
        "    T1_V1  T1_V2  T1_V3 T1_V4 T1_V5 T1_V6 T1_V7 T1_V8 T1_V9  T1_V10  ...    \\\n",
        "Id                                                                   ...     \n",
        "6       2     13      4     C     A     Y     B     B     D      12  ...     \n",
        "7      10     10      7     N     C     Y     B     B     D       8  ...     \n",
        "8       9     20      4     N     H     Y     B     B     E       8  ...     \n",
        "9      11     18      2     N     H     Y     B     B     D      12  ...     \n",
        "10      4      5      4     H     K     Y     B     B     E       8  ...     \n",
        "\n",
        "   T2_V6 T2_V7  T2_V8  T2_V9 T2_V10 T2_V11 T2_V12  T2_V13  T2_V14 T2_V15  \n",
        "Id                                                                        \n",
        "6      2    28      1     22      6      Y      N       E       2      7  \n",
        "7      3    28      1      4      3      Y      N       E       5      8  \n",
        "8      2    22      1      1      7      N      N       C       6      1  \n",
        "9      4    40      1     20      6      Y      N       E       5      5  \n",
        "10     2    34      1     11      7      Y      Y       E       2      1  \n",
        "\n",
        "[5 rows x 32 columns]\n",
        "Harzard\n",
        "[ 1  4  5  7 15 14  8 16  6 11  3 13  2 18 10 17 22  9 21 20 12 19 37 23 28\n",
        " 27 31 38 41 26 33 29 30 25 24 36 51 42 34 46 32 69 40 35 44 39 49 52 63 64]\n",
        "count     50999\n",
        "unique       50\n",
        "top           1\n",
        "freq      18981\n",
        "Name: Hazard, dtype: int64\n",
        "1     18981\n",
        "4      8273\n",
        "2      6145\n",
        "5      3645\n",
        "7      3284\n",
        "3      2025\n",
        "8      1783\n",
        "6      1407\n",
        "10     1311\n",
        "11      800\n",
        "9       739\n",
        "13      560\n",
        "14      389\n",
        "12      379\n",
        "16      235\n",
        "17      194\n",
        "15      174\n",
        "19      138\n",
        "18      103\n",
        "20       98\n",
        "22       71\n",
        "25       44\n",
        "23       42\n",
        "28       32\n",
        "21       31\n",
        "26       25\n",
        "24       14\n",
        "29       14\n",
        "30        9\n",
        "31        8\n",
        "34        8\n",
        "32        6\n",
        "27        5\n",
        "42        4\n",
        "40        2\n",
        "37        2\n",
        "35        2\n",
        "36        2\n",
        "46        2\n",
        "38        2\n",
        "41        2\n",
        "44        1\n",
        "69        1\n",
        "39        1\n",
        "49        1\n",
        "51        1\n",
        "52        1\n",
        "33        1\n",
        "64        1\n",
        "63        1\n",
        "dtype: int64\n"
       ]
      },
      {
       "metadata": {},
       "output_type": "pyout",
       "prompt_number": 4,
       "text": [
        "<matplotlib.axes.AxesSubplot at 0x7fb1381c53d0>"
       ]
      },
      {
       "metadata": {},
       "output_type": "display_data",
       "png": "[encoded data removed]",
       "text": [
        "<matplotlib.figure.Figure at 0x7fb1381c5090>"
       ]
      }
     ],
     "prompt_number": 4
    },
    {
     "cell_type": "markdown",
     "metadata": {},
     "source": [
      "Spliting data in categorical and numeric"
     ]
    },
    {
     "cell_type": "code",
     "collapsed": false,
     "input": [
      "num_names = ['T1_V1','T1_V2','T1_V3','T1_V10','T1_V13','T1_V14',\n",
      "             'T2_V1','T2_V2','T2_V4','T2_V6','T2_V7','T2_V8','T2_V9','T2_V10',\n",
      "             'T2_V14','T2_V15']\n",
      "\n",
      "train_num = train[num_names]\n",
      "train_num['Hazard'] = train['Hazard']\n",
      "\n",
      "train_cat = train.drop(train_num.columns,axis=1)\n",
      "\n",
      "d = train_num.groupby('Hazard').describe()\n",
      "d.to_excel('train_num_describe.xlsx')\n",
      "\n",
      "for c in train_cat.columns:\n",
      "    print \"cols: \" + c \n",
      "    train_cat[c] = train_cat[c].astype('category')\n",
      "    \n",
      "train_cat['Hazard'] =  train['Hazard']\n",
      "\n",
      "d = train_cat.groupby('Hazard').describe()\n",
      "d.to_excel('train_cat_describe.xlsx')\n",
      "\n",
      "print train_num.columns\n",
      "print train_cat.columns\n",
      "print len(train_cat.columns)\n"
     ],
     "language": "python",
     "metadata": {},
     "outputs": [
      {
       "output_type": "stream",
       "stream": "stdout",
       "text": [
        "cols: T1_V4\n",
        "cols: T1_V5\n",
        "cols: T1_V6\n",
        "cols: T1_V7\n",
        "cols: T1_V8\n",
        "cols: T1_V9\n",
        "cols: T1_V11\n",
        "cols: T1_V12\n",
        "cols: T1_V15\n",
        "cols: T1_V16\n",
        "cols: T1_V17"
       ]
      },
      {
       "output_type": "stream",
       "stream": "stdout",
       "text": [
        "\n",
        "cols: T2_V3\n",
        "cols: T2_V5\n",
        "cols: T2_V11\n",
        "cols: T2_V12\n",
        "cols: T2_V13\n",
        "Index([u'T1_V1', u'T1_V2', u'T1_V3', u'T1_V10', u'T1_V13', u'T1_V14', u'T2_V1',\n",
        "       u'T2_V2', u'T2_V4', u'T2_V6', u'T2_V7', u'T2_V8', u'T2_V9', u'T2_V10',\n",
        "       u'T2_V14', u'T2_V15', u'Hazard'],\n",
        "      dtype='object')"
       ]
      },
      {
       "output_type": "stream",
       "stream": "stdout",
       "text": [
        "\n",
        "Index([u'T1_V4', u'T1_V5', u'T1_V6', u'T1_V7', u'T1_V8', u'T1_V9', u'T1_V11',\n",
        "       u'T1_V12', u'T1_V15', u'T1_V16', u'T1_V17', u'T2_V3', u'T2_V5',\n",
        "       u'T2_V11', u'T2_V12', u'T2_V13', u'Hazard'],\n",
        "      dtype='object')\n",
        "17\n"
       ]
      }
     ],
     "prompt_number": 5
    },
    {
     "cell_type": "markdown",
     "metadata": {},
     "source": [
      "# Vou treinar apenas com valores numericos e submeter\n",
      "## Prepaing training data"
     ]
    },
    {
     "cell_type": "code",
     "collapsed": false,
     "input": [
      "train2 = train_num\n",
      "test2 = test[ num_names ]\n",
      "\n",
      "train2.drop('Hazard', axis=1, inplace=True)\n",
      "train2.drop('T2_V10', axis=1, inplace=True)\n",
      "train2.drop('T2_V7', axis=1, inplace=True)\n",
      "train2.drop('T1_V13', axis=1, inplace=True)\n",
      "train2.drop('T1_V10', axis=1, inplace=True)\n",
      "\n",
      "test2.drop('T2_V10', axis=1, inplace=True)\n",
      "test2.drop('T2_V7', axis=1, inplace=True)\n",
      "test2.drop('T1_V13', axis=1, inplace=True)\n",
      "test2.drop('T1_V10', axis=1, inplace=True)\n",
      "\n",
      "columns = train2.columns\n",
      "test_ind = test2.index\n",
      "\n",
      "train2 = np.array(train2)\n",
      "test2 = np.array(test2)\n",
      "\n",
      "train2 = train2.astype(float)\n",
      "test2 = test2.astype(float)\n"
     ],
     "language": "python",
     "metadata": {},
     "outputs": [],
     "prompt_number": 6
    },
    {
     "cell_type": "markdown",
     "metadata": {},
     "source": [
      "## Seting model parameters"
     ]
    },
    {
     "cell_type": "code",
     "collapsed": false,
     "input": [
      "params = {}\n",
      "params[\"objective\"] = \"count:poisson\" # \"reg:linear\" \n",
      "params[\"eta\"] = 0.01\n",
      "params[\"min_child_weight\"] = 5\n",
      "params[\"subsample\"] = 0.8\n",
      "params[\"colsample_bytree\"] = 0.8\n",
      "params[\"scale_pos_weight\"] = 1.0\n",
      "params[\"silent\"] = 1\n",
      "params[\"max_depth\"] = 7\n",
      "\n",
      "plst = list(params.items())\n",
      "print \"Prameters list\"\n",
      "print plst\n",
      "\n",
      "#Using 5000 rows for early stopping. \n",
      "offset = 5000\n",
      "\n",
      "num_rounds = 2000\n",
      "xgtest = xgb.DMatrix(test2)\n",
      "\n",
      "#create a train and validation dmatrices \n",
      "xgtrain = xgb.DMatrix(train2[offset:,:], label=labels[offset:])\n",
      "xgval = xgb.DMatrix(train2[:offset,:], label=labels[:offset])\n",
      "\n",
      "print \"number of row xgtest\"\n",
      "print xgtest.num_row()\n",
      "\n",
      "print \"number of row xgtrain\"\n",
      "print xgtrain.num_row()\n",
      "\n",
      "print \"number of row xgval\"\n",
      "print xgval.num_row()"
     ],
     "language": "python",
     "metadata": {},
     "outputs": [
      {
       "output_type": "stream",
       "stream": "stdout",
       "text": [
        "Prameters list\n",
        "[('colsample_bytree', 0.8), ('silent', 1), ('scale_pos_weight', 1.0), ('min_child_weight', 5), ('subsample', 0.8), ('eta', 0.01), ('objective', 'count:poisson'), ('max_depth', 7)]\n",
        "number of row xgtest\n",
        "51000\n",
        "number of row xgtrain\n",
        "45999\n",
        "number of row xgval\n",
        "5000\n"
       ]
      }
     ],
     "prompt_number": 7
    },
    {
     "cell_type": "markdown",
     "metadata": {},
     "source": [
      "## Training XGBoost"
     ]
    },
    {
     "cell_type": "code",
     "collapsed": false,
     "input": [
      "#train using early stopping and predict\n",
      "watchlist = [(xgtrain, 'train'),(xgval, 'val')]\n",
      "model = xgb.train(plst, xgtrain, num_rounds, watchlist, early_stopping_rounds=4)"
     ],
     "language": "python",
     "metadata": {},
     "outputs": [
      {
       "output_type": "stream",
       "stream": "stderr",
       "text": [
        "Will train until val error hasn't decreased in 4 rounds.\n",
        "[0]\ttrain-poisson-nloglik:7.748582\tval-poisson-nloglik:7.743787\n"
       ]
      },
      {
       "output_type": "stream",
       "stream": "stderr",
       "text": [
        "[1]\ttrain-poisson-nloglik:7.624473\tval-poisson-nloglik:7.622368\n",
        "[2]\ttrain-poisson-nloglik:7.504927\tval-poisson-nloglik:7.505981\n",
        "[3]\ttrain-poisson-nloglik:7.390171\tval-poisson-nloglik:7.393491\n",
        "[4]\ttrain-poisson-nloglik:7.280508\tval-poisson-nloglik:7.286644\n"
       ]
      },
      {
       "output_type": "stream",
       "stream": "stderr",
       "text": [
        "[5]\ttrain-poisson-nloglik:7.177418\tval-poisson-nloglik:7.185169\n",
        "[6]\ttrain-poisson-nloglik:7.076573\tval-poisson-nloglik:7.086986\n",
        "[7]\ttrain-poisson-nloglik:6.979118\tval-poisson-nloglik:6.991869\n",
        "[8]\ttrain-poisson-nloglik:6.885623\tval-poisson-nloglik:6.901284\n"
       ]
      },
      {
       "output_type": "stream",
       "stream": "stderr",
       "text": [
        "[9]\ttrain-poisson-nloglik:6.795157\tval-poisson-nloglik:6.813022\n",
        "[10]\ttrain-poisson-nloglik:6.708952\tval-poisson-nloglik:6.728809\n",
        "[11]\ttrain-poisson-nloglik:6.625021\tval-poisson-nloglik:6.647200\n"
       ]
      },
      {
       "output_type": "stream",
       "stream": "stderr",
       "text": [
        "[12]\ttrain-poisson-nloglik:6.544561\tval-poisson-nloglik:6.568554\n",
        "[13]\ttrain-poisson-nloglik:6.466162\tval-poisson-nloglik:6.492344\n",
        "[14]\ttrain-poisson-nloglik:6.390069\tval-poisson-nloglik:6.418249\n"
       ]
      },
      {
       "output_type": "stream",
       "stream": "stderr",
       "text": [
        "[15]\ttrain-poisson-nloglik:6.317288\tval-poisson-nloglik:6.347350\n",
        "[16]\ttrain-poisson-nloglik:6.246408\tval-poisson-nloglik:6.278274\n",
        "[17]\ttrain-poisson-nloglik:6.177884\tval-poisson-nloglik:6.211160\n"
       ]
      },
      {
       "output_type": "stream",
       "stream": "stderr",
       "text": [
        "[18]\ttrain-poisson-nloglik:6.111647\tval-poisson-nloglik:6.146354\n",
        "[19]\ttrain-poisson-nloglik:6.047804\tval-poisson-nloglik:6.083735\n",
        "[20]\ttrain-poisson-nloglik:5.984536\tval-poisson-nloglik:6.022174\n"
       ]
      },
      {
       "output_type": "stream",
       "stream": "stderr",
       "text": [
        "[21]\ttrain-poisson-nloglik:5.924023\tval-poisson-nloglik:5.962290\n",
        "[22]\ttrain-poisson-nloglik:5.864278\tval-poisson-nloglik:5.904445\n",
        "[23]\ttrain-poisson-nloglik:5.806727\tval-poisson-nloglik:5.848485\n",
        "[24]\ttrain-poisson-nloglik:5.750432\tval-poisson-nloglik:5.794058\n"
       ]
      },
      {
       "output_type": "stream",
       "stream": "stderr",
       "text": [
        "[25]\ttrain-poisson-nloglik:5.695853\tval-poisson-nloglik:5.740719\n",
        "[26]\ttrain-poisson-nloglik:5.643101\tval-poisson-nloglik:5.689823\n",
        "[27]\ttrain-poisson-nloglik:5.591344\tval-poisson-nloglik:5.639505\n"
       ]
      },
      {
       "output_type": "stream",
       "stream": "stderr",
       "text": [
        "[28]\ttrain-poisson-nloglik:5.540826\tval-poisson-nloglik:5.590307\n",
        "[29]\ttrain-poisson-nloglik:5.492143\tval-poisson-nloglik:5.542480\n",
        "[30]\ttrain-poisson-nloglik:5.444589\tval-poisson-nloglik:5.495812\n",
        "[31]\ttrain-poisson-nloglik:5.397835\tval-poisson-nloglik:5.450407\n"
       ]
      },
      {
       "output_type": "stream",
       "stream": "stderr",
       "text": [
        "[32]\ttrain-poisson-nloglik:5.352682\tval-poisson-nloglik:5.406466\n",
        "[33]\ttrain-poisson-nloglik:5.308351\tval-poisson-nloglik:5.363405\n",
        "[34]\ttrain-poisson-nloglik:5.265243\tval-poisson-nloglik:5.321167\n"
       ]
      },
      {
       "output_type": "stream",
       "stream": "stderr",
       "text": [
        "[35]\ttrain-poisson-nloglik:5.223210\tval-poisson-nloglik:5.280075\n",
        "[36]\ttrain-poisson-nloglik:5.181664\tval-poisson-nloglik:5.239721\n",
        "[37]\ttrain-poisson-nloglik:5.141671\tval-poisson-nloglik:5.200907\n"
       ]
      },
      {
       "output_type": "stream",
       "stream": "stderr",
       "text": [
        "[38]\ttrain-poisson-nloglik:5.102286\tval-poisson-nloglik:5.162707\n",
        "[39]\ttrain-poisson-nloglik:5.064028\tval-poisson-nloglik:5.125388\n",
        "[40]\ttrain-poisson-nloglik:5.026709\tval-poisson-nloglik:5.089050\n"
       ]
      },
      {
       "output_type": "stream",
       "stream": "stderr",
       "text": [
        "[41]\ttrain-poisson-nloglik:4.990119\tval-poisson-nloglik:5.053581\n",
        "[42]\ttrain-poisson-nloglik:4.954069\tval-poisson-nloglik:5.018576\n",
        "[43]\ttrain-poisson-nloglik:4.918878\tval-poisson-nloglik:4.984447\n"
       ]
      },
      {
       "output_type": "stream",
       "stream": "stderr",
       "text": [
        "[44]\ttrain-poisson-nloglik:4.884509\tval-poisson-nloglik:4.950992\n",
        "[45]\ttrain-poisson-nloglik:4.850843\tval-poisson-nloglik:4.917923\n",
        "[46]\ttrain-poisson-nloglik:4.817857\tval-poisson-nloglik:4.886109\n",
        "[47]\ttrain-poisson-nloglik:4.785390\tval-poisson-nloglik:4.854666\n"
       ]
      },
      {
       "output_type": "stream",
       "stream": "stderr",
       "text": [
        "[48]\ttrain-poisson-nloglik:4.753643\tval-poisson-nloglik:4.823704\n",
        "[49]\ttrain-poisson-nloglik:4.722900\tval-poisson-nloglik:4.793792\n",
        "[50]\ttrain-poisson-nloglik:4.692877\tval-poisson-nloglik:4.764444\n"
       ]
      },
      {
       "output_type": "stream",
       "stream": "stderr",
       "text": [
        "[51]\ttrain-poisson-nloglik:4.662897\tval-poisson-nloglik:4.735417\n",
        "[52]\ttrain-poisson-nloglik:4.633677\tval-poisson-nloglik:4.707117\n",
        "[53]\ttrain-poisson-nloglik:4.604986\tval-poisson-nloglik:4.679176\n"
       ]
      },
      {
       "output_type": "stream",
       "stream": "stderr",
       "text": [
        "[54]\ttrain-poisson-nloglik:4.577396\tval-poisson-nloglik:4.652136\n",
        "[55]\ttrain-poisson-nloglik:4.549970\tval-poisson-nloglik:4.625410\n",
        "[56]\ttrain-poisson-nloglik:4.523170\tval-poisson-nloglik:4.599455\n"
       ]
      },
      {
       "output_type": "stream",
       "stream": "stderr",
       "text": [
        "[57]\ttrain-poisson-nloglik:4.496933\tval-poisson-nloglik:4.573846\n",
        "[58]\ttrain-poisson-nloglik:4.471139\tval-poisson-nloglik:4.548903\n",
        "[59]\ttrain-poisson-nloglik:4.445807\tval-poisson-nloglik:4.524494\n"
       ]
      },
      {
       "output_type": "stream",
       "stream": "stderr",
       "text": [
        "[60]\ttrain-poisson-nloglik:4.420653\tval-poisson-nloglik:4.500214\n",
        "[61]\ttrain-poisson-nloglik:4.396166\tval-poisson-nloglik:4.476326\n",
        "[62]\ttrain-poisson-nloglik:4.372195\tval-poisson-nloglik:4.453091\n",
        "[63]\ttrain-poisson-nloglik:4.348705\tval-poisson-nloglik:4.430307\n"
       ]
      },
      {
       "output_type": "stream",
       "stream": "stderr",
       "text": [
        "[64]\ttrain-poisson-nloglik:4.325690\tval-poisson-nloglik:4.407899\n",
        "[65]\ttrain-poisson-nloglik:4.303099\tval-poisson-nloglik:4.386086\n",
        "[66]\ttrain-poisson-nloglik:4.281031\tval-poisson-nloglik:4.364708\n",
        "[67]\ttrain-poisson-nloglik:4.259382\tval-poisson-nloglik:4.343484\n"
       ]
      },
      {
       "output_type": "stream",
       "stream": "stderr",
       "text": [
        "[68]\ttrain-poisson-nloglik:4.237911\tval-poisson-nloglik:4.322690\n",
        "[69]\ttrain-poisson-nloglik:4.217003\tval-poisson-nloglik:4.302267\n",
        "[70]\ttrain-poisson-nloglik:4.196318\tval-poisson-nloglik:4.282187\n"
       ]
      },
      {
       "output_type": "stream",
       "stream": "stderr",
       "text": [
        "[71]\ttrain-poisson-nloglik:4.176159\tval-poisson-nloglik:4.262567\n",
        "[72]\ttrain-poisson-nloglik:4.156265\tval-poisson-nloglik:4.243352\n",
        "[73]\ttrain-poisson-nloglik:4.136834\tval-poisson-nloglik:4.224456\n"
       ]
      },
      {
       "output_type": "stream",
       "stream": "stderr",
       "text": [
        "[74]\ttrain-poisson-nloglik:4.117445\tval-poisson-nloglik:4.205855\n",
        "[75]\ttrain-poisson-nloglik:4.098564\tval-poisson-nloglik:4.187404\n",
        "[76]\ttrain-poisson-nloglik:4.079936\tval-poisson-nloglik:4.169417\n"
       ]
      },
      {
       "output_type": "stream",
       "stream": "stderr",
       "text": [
        "[77]\ttrain-poisson-nloglik:4.061627\tval-poisson-nloglik:4.151745\n",
        "[78]\ttrain-poisson-nloglik:4.043573\tval-poisson-nloglik:4.134243\n",
        "[79]\ttrain-poisson-nloglik:4.025922\tval-poisson-nloglik:4.117244\n",
        "[80]\ttrain-poisson-nloglik:4.008535\tval-poisson-nloglik:4.100218\n"
       ]
      },
      {
       "output_type": "stream",
       "stream": "stderr",
       "text": [
        "[81]\ttrain-poisson-nloglik:3.991428\tval-poisson-nloglik:4.083898\n",
        "[82]\ttrain-poisson-nloglik:3.974485\tval-poisson-nloglik:4.067518\n",
        "[83]\ttrain-poisson-nloglik:3.957860\tval-poisson-nloglik:4.051494\n"
       ]
      },
      {
       "output_type": "stream",
       "stream": "stderr",
       "text": [
        "[84]\ttrain-poisson-nloglik:3.941436\tval-poisson-nloglik:4.035779\n",
        "[85]\ttrain-poisson-nloglik:3.925530\tval-poisson-nloglik:4.020368\n"
       ]
      },
      {
       "output_type": "stream",
       "stream": "stderr",
       "text": [
        "[86]\ttrain-poisson-nloglik:3.909906\tval-poisson-nloglik:4.005250\n",
        "[87]\ttrain-poisson-nloglik:3.894303\tval-poisson-nloglik:3.990025\n"
       ]
      },
      {
       "output_type": "stream",
       "stream": "stderr",
       "text": [
        "[88]\ttrain-poisson-nloglik:3.879105\tval-poisson-nloglik:3.975485\n",
        "[89]\ttrain-poisson-nloglik:3.864308\tval-poisson-nloglik:3.960955\n",
        "[90]\ttrain-poisson-nloglik:3.849469\tval-poisson-nloglik:3.946609\n"
       ]
      },
      {
       "output_type": "stream",
       "stream": "stderr",
       "text": [
        "[91]\ttrain-poisson-nloglik:3.835097\tval-poisson-nloglik:3.932626\n",
        "[92]\ttrain-poisson-nloglik:3.820929\tval-poisson-nloglik:3.918971\n",
        "[93]\ttrain-poisson-nloglik:3.807007\tval-poisson-nloglik:3.905391\n"
       ]
      },
      {
       "output_type": "stream",
       "stream": "stderr",
       "text": [
        "[94]\ttrain-poisson-nloglik:3.793214\tval-poisson-nloglik:3.892191\n",
        "[95]\ttrain-poisson-nloglik:3.779751\tval-poisson-nloglik:3.879014\n",
        "[96]\ttrain-poisson-nloglik:3.766437\tval-poisson-nloglik:3.866066\n",
        "[97]\ttrain-poisson-nloglik:3.753440\tval-poisson-nloglik:3.853486\n"
       ]
      },
      {
       "output_type": "stream",
       "stream": "stderr",
       "text": [
        "[98]\ttrain-poisson-nloglik:3.740590\tval-poisson-nloglik:3.841169\n",
        "[99]\ttrain-poisson-nloglik:3.727886\tval-poisson-nloglik:3.828962\n",
        "[100]\ttrain-poisson-nloglik:3.715042\tval-poisson-nloglik:3.816799\n"
       ]
      },
      {
       "output_type": "stream",
       "stream": "stderr",
       "text": [
        "[101]\ttrain-poisson-nloglik:3.702752\tval-poisson-nloglik:3.804975\n",
        "[102]\ttrain-poisson-nloglik:3.690598\tval-poisson-nloglik:3.793108\n",
        "[103]\ttrain-poisson-nloglik:3.678738\tval-poisson-nloglik:3.781528\n"
       ]
      },
      {
       "output_type": "stream",
       "stream": "stderr",
       "text": [
        "[104]\ttrain-poisson-nloglik:3.666955\tval-poisson-nloglik:3.770085\n",
        "[105]\ttrain-poisson-nloglik:3.655371\tval-poisson-nloglik:3.758935\n",
        "[106]\ttrain-poisson-nloglik:3.644007\tval-poisson-nloglik:3.747984\n"
       ]
      },
      {
       "output_type": "stream",
       "stream": "stderr",
       "text": [
        "[107]\ttrain-poisson-nloglik:3.632701\tval-poisson-nloglik:3.737111\n",
        "[108]\ttrain-poisson-nloglik:3.621666\tval-poisson-nloglik:3.726442\n",
        "[109]\ttrain-poisson-nloglik:3.610835\tval-poisson-nloglik:3.715940\n",
        "[110]\ttrain-poisson-nloglik:3.600078\tval-poisson-nloglik:3.705575\n"
       ]
      },
      {
       "output_type": "stream",
       "stream": "stderr",
       "text": [
        "[111]\ttrain-poisson-nloglik:3.589460\tval-poisson-nloglik:3.695232\n",
        "[112]\ttrain-poisson-nloglik:3.578998\tval-poisson-nloglik:3.685130\n",
        "[113]\ttrain-poisson-nloglik:3.568746\tval-poisson-nloglik:3.675347\n"
       ]
      },
      {
       "output_type": "stream",
       "stream": "stderr",
       "text": [
        "[114]\ttrain-poisson-nloglik:3.558510\tval-poisson-nloglik:3.665519\n",
        "[115]\ttrain-poisson-nloglik:3.548536\tval-poisson-nloglik:3.655909\n",
        "[116]\ttrain-poisson-nloglik:3.538630\tval-poisson-nloglik:3.646341\n",
        "[117]\ttrain-poisson-nloglik:3.528644\tval-poisson-nloglik:3.636652\n"
       ]
      },
      {
       "output_type": "stream",
       "stream": "stderr",
       "text": [
        "[118]\ttrain-poisson-nloglik:3.519120\tval-poisson-nloglik:3.627373\n",
        "[119]\ttrain-poisson-nloglik:3.509720\tval-poisson-nloglik:3.618279\n",
        "[120]\ttrain-poisson-nloglik:3.500370\tval-poisson-nloglik:3.609299\n"
       ]
      },
      {
       "output_type": "stream",
       "stream": "stderr",
       "text": [
        "[121]\ttrain-poisson-nloglik:3.491148\tval-poisson-nloglik:3.600288\n",
        "[122]\ttrain-poisson-nloglik:3.482078\tval-poisson-nloglik:3.591616\n",
        "[123]\ttrain-poisson-nloglik:3.473092\tval-poisson-nloglik:3.583032\n",
        "[124]\ttrain-poisson-nloglik:3.464261\tval-poisson-nloglik:3.574653\n"
       ]
      },
      {
       "output_type": "stream",
       "stream": "stderr",
       "text": [
        "[125]\ttrain-poisson-nloglik:3.455538\tval-poisson-nloglik:3.566168\n",
        "[126]\ttrain-poisson-nloglik:3.446941\tval-poisson-nloglik:3.558023\n",
        "[127]\ttrain-poisson-nloglik:3.438401\tval-poisson-nloglik:3.549859\n",
        "[128]\ttrain-poisson-nloglik:3.429928\tval-poisson-nloglik:3.541782\n"
       ]
      },
      {
       "output_type": "stream",
       "stream": "stderr",
       "text": [
        "[129]\ttrain-poisson-nloglik:3.421690\tval-poisson-nloglik:3.533973\n",
        "[130]\ttrain-poisson-nloglik:3.413441\tval-poisson-nloglik:3.526103\n",
        "[131]\ttrain-poisson-nloglik:3.405476\tval-poisson-nloglik:3.518405\n",
        "[132]\ttrain-poisson-nloglik:3.397605\tval-poisson-nloglik:3.510803\n"
       ]
      },
      {
       "output_type": "stream",
       "stream": "stderr",
       "text": [
        "[133]\ttrain-poisson-nloglik:3.389781\tval-poisson-nloglik:3.503413\n",
        "[134]\ttrain-poisson-nloglik:3.382026\tval-poisson-nloglik:3.496026\n",
        "[135]\ttrain-poisson-nloglik:3.374340\tval-poisson-nloglik:3.488720\n"
       ]
      },
      {
       "output_type": "stream",
       "stream": "stderr",
       "text": [
        "[136]\ttrain-poisson-nloglik:3.366790\tval-poisson-nloglik:3.481520\n",
        "[137]\ttrain-poisson-nloglik:3.359407\tval-poisson-nloglik:3.474371\n",
        "[138]\ttrain-poisson-nloglik:3.352254\tval-poisson-nloglik:3.467404\n"
       ]
      },
      {
       "output_type": "stream",
       "stream": "stderr",
       "text": [
        "[139]\ttrain-poisson-nloglik:3.345145\tval-poisson-nloglik:3.460454\n",
        "[140]\ttrain-poisson-nloglik:3.338048\tval-poisson-nloglik:3.453676\n",
        "[141]\ttrain-poisson-nloglik:3.331007\tval-poisson-nloglik:3.446941\n"
       ]
      },
      {
       "output_type": "stream",
       "stream": "stderr",
       "text": [
        "[142]\ttrain-poisson-nloglik:3.324008\tval-poisson-nloglik:3.440430\n",
        "[143]\ttrain-poisson-nloglik:3.317229\tval-poisson-nloglik:3.433820\n",
        "[144]\ttrain-poisson-nloglik:3.310483\tval-poisson-nloglik:3.427338\n",
        "[145]\ttrain-poisson-nloglik:3.303708\tval-poisson-nloglik:3.420887\n"
       ]
      },
      {
       "output_type": "stream",
       "stream": "stderr",
       "text": [
        "[146]\ttrain-poisson-nloglik:3.297062\tval-poisson-nloglik:3.414629\n",
        "[147]\ttrain-poisson-nloglik:3.290514\tval-poisson-nloglik:3.408346\n",
        "[148]\ttrain-poisson-nloglik:3.284220\tval-poisson-nloglik:3.402398\n",
        "[149]\ttrain-poisson-nloglik:3.277925\tval-poisson-nloglik:3.396326\n"
       ]
      },
      {
       "output_type": "stream",
       "stream": "stderr",
       "text": [
        "[150]\ttrain-poisson-nloglik:3.271644\tval-poisson-nloglik:3.390429\n",
        "[151]\ttrain-poisson-nloglik:3.265508\tval-poisson-nloglik:3.384619\n",
        "[152]\ttrain-poisson-nloglik:3.259397\tval-poisson-nloglik:3.378805\n",
        "[153]\ttrain-poisson-nloglik:3.253393\tval-poisson-nloglik:3.373104\n"
       ]
      },
      {
       "output_type": "stream",
       "stream": "stderr",
       "text": [
        "[154]\ttrain-poisson-nloglik:3.247486\tval-poisson-nloglik:3.367613\n",
        "[155]\ttrain-poisson-nloglik:3.241602\tval-poisson-nloglik:3.362018\n",
        "[156]\ttrain-poisson-nloglik:3.235927\tval-poisson-nloglik:3.356558\n",
        "[157]\ttrain-poisson-nloglik:3.230222\tval-poisson-nloglik:3.351098\n"
       ]
      },
      {
       "output_type": "stream",
       "stream": "stderr",
       "text": [
        "[158]\ttrain-poisson-nloglik:3.224636\tval-poisson-nloglik:3.345812\n",
        "[159]\ttrain-poisson-nloglik:3.219135\tval-poisson-nloglik:3.340519\n",
        "[160]\ttrain-poisson-nloglik:3.213752\tval-poisson-nloglik:3.335246\n"
       ]
      },
      {
       "output_type": "stream",
       "stream": "stderr",
       "text": [
        "[161]\ttrain-poisson-nloglik:3.208247\tval-poisson-nloglik:3.330132\n",
        "[162]\ttrain-poisson-nloglik:3.202921\tval-poisson-nloglik:3.325065\n",
        "[163]\ttrain-poisson-nloglik:3.197656\tval-poisson-nloglik:3.320016\n"
       ]
      },
      {
       "output_type": "stream",
       "stream": "stderr",
       "text": [
        "[164]\ttrain-poisson-nloglik:3.192541\tval-poisson-nloglik:3.315165\n",
        "[165]\ttrain-poisson-nloglik:3.187345\tval-poisson-nloglik:3.310315\n",
        "[166]\ttrain-poisson-nloglik:3.182333\tval-poisson-nloglik:3.305524\n",
        "[167]\ttrain-poisson-nloglik:3.177288\tval-poisson-nloglik:3.300816\n"
       ]
      },
      {
       "output_type": "stream",
       "stream": "stderr",
       "text": [
        "[168]\ttrain-poisson-nloglik:3.172363\tval-poisson-nloglik:3.296181\n",
        "[169]\ttrain-poisson-nloglik:3.167476\tval-poisson-nloglik:3.291568\n",
        "[170]\ttrain-poisson-nloglik:3.162627\tval-poisson-nloglik:3.286911\n",
        "[171]\ttrain-poisson-nloglik:3.157861\tval-poisson-nloglik:3.282405\n"
       ]
      },
      {
       "output_type": "stream",
       "stream": "stderr",
       "text": [
        "[172]\ttrain-poisson-nloglik:3.153152\tval-poisson-nloglik:3.277986\n",
        "[173]\ttrain-poisson-nloglik:3.148396\tval-poisson-nloglik:3.273439\n",
        "[174]\ttrain-poisson-nloglik:3.143781\tval-poisson-nloglik:3.269197\n"
       ]
      },
      {
       "output_type": "stream",
       "stream": "stderr",
       "text": [
        "[175]\ttrain-poisson-nloglik:3.139186\tval-poisson-nloglik:3.264939\n",
        "[176]\ttrain-poisson-nloglik:3.134685\tval-poisson-nloglik:3.260731\n",
        "[177]\ttrain-poisson-nloglik:3.130264\tval-poisson-nloglik:3.256582\n",
        "[178]\ttrain-poisson-nloglik:3.125932\tval-poisson-nloglik:3.252400\n"
       ]
      },
      {
       "output_type": "stream",
       "stream": "stderr",
       "text": [
        "[179]\ttrain-poisson-nloglik:3.121554\tval-poisson-nloglik:3.248460\n",
        "[180]\ttrain-poisson-nloglik:3.117261\tval-poisson-nloglik:3.244472\n",
        "[181]\ttrain-poisson-nloglik:3.113073\tval-poisson-nloglik:3.240551\n",
        "[182]\ttrain-poisson-nloglik:3.108977\tval-poisson-nloglik:3.236616\n"
       ]
      },
      {
       "output_type": "stream",
       "stream": "stderr",
       "text": [
        "[183]\ttrain-poisson-nloglik:3.104880\tval-poisson-nloglik:3.232739\n",
        "[184]\ttrain-poisson-nloglik:3.100868\tval-poisson-nloglik:3.228952\n",
        "[185]\ttrain-poisson-nloglik:3.096801\tval-poisson-nloglik:3.225266\n",
        "[186]\ttrain-poisson-nloglik:3.092887\tval-poisson-nloglik:3.221602\n"
       ]
      },
      {
       "output_type": "stream",
       "stream": "stderr",
       "text": [
        "[187]\ttrain-poisson-nloglik:3.089026\tval-poisson-nloglik:3.218005\n",
        "[188]\ttrain-poisson-nloglik:3.085049\tval-poisson-nloglik:3.214288\n",
        "[189]\ttrain-poisson-nloglik:3.081315\tval-poisson-nloglik:3.210699\n"
       ]
      },
      {
       "output_type": "stream",
       "stream": "stderr",
       "text": [
        "[190]\ttrain-poisson-nloglik:3.077498\tval-poisson-nloglik:3.207164\n",
        "[191]\ttrain-poisson-nloglik:3.073738\tval-poisson-nloglik:3.203635\n",
        "[192]\ttrain-poisson-nloglik:3.070037\tval-poisson-nloglik:3.200148\n",
        "[193]\ttrain-poisson-nloglik:3.066357\tval-poisson-nloglik:3.196666\n"
       ]
      },
      {
       "output_type": "stream",
       "stream": "stderr",
       "text": [
        "[194]\ttrain-poisson-nloglik:3.062803\tval-poisson-nloglik:3.193309\n",
        "[195]\ttrain-poisson-nloglik:3.059187\tval-poisson-nloglik:3.189979\n",
        "[196]\ttrain-poisson-nloglik:3.055780\tval-poisson-nloglik:3.186689\n",
        "[197]\ttrain-poisson-nloglik:3.052229\tval-poisson-nloglik:3.183447\n"
       ]
      },
      {
       "output_type": "stream",
       "stream": "stderr",
       "text": [
        "[198]\ttrain-poisson-nloglik:3.048834\tval-poisson-nloglik:3.180316\n",
        "[199]\ttrain-poisson-nloglik:3.045464\tval-poisson-nloglik:3.177200\n",
        "[200]\ttrain-poisson-nloglik:3.042188\tval-poisson-nloglik:3.174096\n",
        "[201]\ttrain-poisson-nloglik:3.038935\tval-poisson-nloglik:3.171030\n"
       ]
      },
      {
       "output_type": "stream",
       "stream": "stderr",
       "text": [
        "[202]\ttrain-poisson-nloglik:3.035646\tval-poisson-nloglik:3.167954\n",
        "[203]\ttrain-poisson-nloglik:3.032337\tval-poisson-nloglik:3.164922\n",
        "[204]\ttrain-poisson-nloglik:3.029084\tval-poisson-nloglik:3.161916\n",
        "[205]\ttrain-poisson-nloglik:3.025887\tval-poisson-nloglik:3.158957\n"
       ]
      },
      {
       "output_type": "stream",
       "stream": "stderr",
       "text": [
        "[206]\ttrain-poisson-nloglik:3.022746\tval-poisson-nloglik:3.156054\n",
        "[207]\ttrain-poisson-nloglik:3.019603\tval-poisson-nloglik:3.153208\n",
        "[208]\ttrain-poisson-nloglik:3.016500\tval-poisson-nloglik:3.150462\n"
       ]
      },
      {
       "output_type": "stream",
       "stream": "stderr",
       "text": [
        "[209]\ttrain-poisson-nloglik:3.013411\tval-poisson-nloglik:3.147688\n",
        "[210]\ttrain-poisson-nloglik:3.010369\tval-poisson-nloglik:3.144892\n",
        "[211]\ttrain-poisson-nloglik:3.007351\tval-poisson-nloglik:3.142143\n"
       ]
      },
      {
       "output_type": "stream",
       "stream": "stderr",
       "text": [
        "[212]\ttrain-poisson-nloglik:3.004412\tval-poisson-nloglik:3.139383\n",
        "[213]\ttrain-poisson-nloglik:3.001470\tval-poisson-nloglik:3.136747\n",
        "[214]\ttrain-poisson-nloglik:2.998606\tval-poisson-nloglik:3.134174\n"
       ]
      },
      {
       "output_type": "stream",
       "stream": "stderr",
       "text": [
        "[215]\ttrain-poisson-nloglik:2.995758\tval-poisson-nloglik:3.131483\n",
        "[216]\ttrain-poisson-nloglik:2.992987\tval-poisson-nloglik:3.128892\n",
        "[217]\ttrain-poisson-nloglik:2.990238\tval-poisson-nloglik:3.126380\n",
        "[218]\ttrain-poisson-nloglik:2.987498\tval-poisson-nloglik:3.123853\n"
       ]
      },
      {
       "output_type": "stream",
       "stream": "stderr",
       "text": [
        "[219]\ttrain-poisson-nloglik:2.984776\tval-poisson-nloglik:3.121303\n",
        "[220]\ttrain-poisson-nloglik:2.982123\tval-poisson-nloglik:3.118836\n",
        "[221]\ttrain-poisson-nloglik:2.979445\tval-poisson-nloglik:3.116350\n"
       ]
      },
      {
       "output_type": "stream",
       "stream": "stderr",
       "text": [
        "[222]\ttrain-poisson-nloglik:2.976730\tval-poisson-nloglik:3.113995\n",
        "[223]\ttrain-poisson-nloglik:2.974140\tval-poisson-nloglik:3.111642\n",
        "[224]\ttrain-poisson-nloglik:2.971627\tval-poisson-nloglik:3.109287\n",
        "[225]\ttrain-poisson-nloglik:2.969102\tval-poisson-nloglik:3.106986\n"
       ]
      },
      {
       "output_type": "stream",
       "stream": "stderr",
       "text": [
        "[226]\ttrain-poisson-nloglik:2.966567\tval-poisson-nloglik:3.104700\n",
        "[227]\ttrain-poisson-nloglik:2.964029\tval-poisson-nloglik:3.102330\n",
        "[228]\ttrain-poisson-nloglik:2.961563\tval-poisson-nloglik:3.100112\n"
       ]
      },
      {
       "output_type": "stream",
       "stream": "stderr",
       "text": [
        "[229]\ttrain-poisson-nloglik:2.959173\tval-poisson-nloglik:3.097986\n",
        "[230]\ttrain-poisson-nloglik:2.956714\tval-poisson-nloglik:3.095800\n",
        "[231]\ttrain-poisson-nloglik:2.954262\tval-poisson-nloglik:3.093610\n"
       ]
      },
      {
       "output_type": "stream",
       "stream": "stderr",
       "text": [
        "[232]\ttrain-poisson-nloglik:2.951874\tval-poisson-nloglik:3.091576\n",
        "[233]\ttrain-poisson-nloglik:2.949611\tval-poisson-nloglik:3.089513\n",
        "[234]\ttrain-poisson-nloglik:2.947352\tval-poisson-nloglik:3.087431\n"
       ]
      },
      {
       "output_type": "stream",
       "stream": "stderr",
       "text": [
        "[235]\ttrain-poisson-nloglik:2.945084\tval-poisson-nloglik:3.085313\n",
        "[236]\ttrain-poisson-nloglik:2.942699\tval-poisson-nloglik:3.083149\n",
        "[237]\ttrain-poisson-nloglik:2.940438\tval-poisson-nloglik:3.081156\n",
        "[238]\ttrain-poisson-nloglik:2.938158\tval-poisson-nloglik:3.079083\n"
       ]
      },
      {
       "output_type": "stream",
       "stream": "stderr",
       "text": [
        "[239]\ttrain-poisson-nloglik:2.936001\tval-poisson-nloglik:3.077118\n",
        "[240]\ttrain-poisson-nloglik:2.933879\tval-poisson-nloglik:3.075133\n",
        "[241]\ttrain-poisson-nloglik:2.931810\tval-poisson-nloglik:3.073163\n"
       ]
      },
      {
       "output_type": "stream",
       "stream": "stderr",
       "text": [
        "[242]\ttrain-poisson-nloglik:2.929652\tval-poisson-nloglik:3.071221\n",
        "[243]\ttrain-poisson-nloglik:2.927474\tval-poisson-nloglik:3.069452\n",
        "[244]\ttrain-poisson-nloglik:2.925355\tval-poisson-nloglik:3.067608\n"
       ]
      },
      {
       "output_type": "stream",
       "stream": "stderr",
       "text": [
        "[245]\ttrain-poisson-nloglik:2.923305\tval-poisson-nloglik:3.065766\n",
        "[246]\ttrain-poisson-nloglik:2.921249\tval-poisson-nloglik:3.063951\n",
        "[247]\ttrain-poisson-nloglik:2.919203\tval-poisson-nloglik:3.062109\n"
       ]
      },
      {
       "output_type": "stream",
       "stream": "stderr",
       "text": [
        "[248]\ttrain-poisson-nloglik:2.917245\tval-poisson-nloglik:3.060331\n",
        "[249]\ttrain-poisson-nloglik:2.915299\tval-poisson-nloglik:3.058508\n"
       ]
      },
      {
       "output_type": "stream",
       "stream": "stderr",
       "text": [
        "[250]\ttrain-poisson-nloglik:2.913368\tval-poisson-nloglik:3.056771\n",
        "[251]\ttrain-poisson-nloglik:2.911447\tval-poisson-nloglik:3.054996\n",
        "[252]\ttrain-poisson-nloglik:2.909499\tval-poisson-nloglik:3.053281\n"
       ]
      },
      {
       "output_type": "stream",
       "stream": "stderr",
       "text": [
        "[253]\ttrain-poisson-nloglik:2.907645\tval-poisson-nloglik:3.051598\n",
        "[254]\ttrain-poisson-nloglik:2.905800\tval-poisson-nloglik:3.049913\n",
        "[255]\ttrain-poisson-nloglik:2.903873\tval-poisson-nloglik:3.048214\n"
       ]
      },
      {
       "output_type": "stream",
       "stream": "stderr",
       "text": [
        "[256]\ttrain-poisson-nloglik:2.902099\tval-poisson-nloglik:3.046562\n",
        "[257]\ttrain-poisson-nloglik:2.900338\tval-poisson-nloglik:3.044989\n",
        "[258]\ttrain-poisson-nloglik:2.898569\tval-poisson-nloglik:3.043349\n",
        "[259]\ttrain-poisson-nloglik:2.896838\tval-poisson-nloglik:3.041763\n"
       ]
      },
      {
       "output_type": "stream",
       "stream": "stderr",
       "text": [
        "[260]\ttrain-poisson-nloglik:2.895099\tval-poisson-nloglik:3.040250\n",
        "[261]\ttrain-poisson-nloglik:2.893333\tval-poisson-nloglik:3.038757\n",
        "[262]\ttrain-poisson-nloglik:2.891606\tval-poisson-nloglik:3.037268\n",
        "[263]\ttrain-poisson-nloglik:2.889875\tval-poisson-nloglik:3.035737\n"
       ]
      },
      {
       "output_type": "stream",
       "stream": "stderr",
       "text": [
        "[264]\ttrain-poisson-nloglik:2.888216\tval-poisson-nloglik:3.034247\n",
        "[265]\ttrain-poisson-nloglik:2.886555\tval-poisson-nloglik:3.032747\n",
        "[266]\ttrain-poisson-nloglik:2.884931\tval-poisson-nloglik:3.031375\n",
        "[267]\ttrain-poisson-nloglik:2.883331\tval-poisson-nloglik:3.029913\n"
       ]
      },
      {
       "output_type": "stream",
       "stream": "stderr",
       "text": [
        "[268]\ttrain-poisson-nloglik:2.881747\tval-poisson-nloglik:3.028499\n",
        "[269]\ttrain-poisson-nloglik:2.880159\tval-poisson-nloglik:3.027095\n",
        "[270]\ttrain-poisson-nloglik:2.878626\tval-poisson-nloglik:3.025706\n",
        "[271]\ttrain-poisson-nloglik:2.877151\tval-poisson-nloglik:3.024363\n"
       ]
      },
      {
       "output_type": "stream",
       "stream": "stderr",
       "text": [
        "[272]\ttrain-poisson-nloglik:2.875591\tval-poisson-nloglik:3.022943\n",
        "[273]\ttrain-poisson-nloglik:2.874017\tval-poisson-nloglik:3.021651\n",
        "[274]\ttrain-poisson-nloglik:2.872553\tval-poisson-nloglik:3.020317\n"
       ]
      },
      {
       "output_type": "stream",
       "stream": "stderr",
       "text": [
        "[275]\ttrain-poisson-nloglik:2.871090\tval-poisson-nloglik:3.019037\n",
        "[276]\ttrain-poisson-nloglik:2.869671\tval-poisson-nloglik:3.017715\n",
        "[277]\ttrain-poisson-nloglik:2.868219\tval-poisson-nloglik:3.016396\n",
        "[278]\ttrain-poisson-nloglik:2.866762\tval-poisson-nloglik:3.015173\n"
       ]
      },
      {
       "output_type": "stream",
       "stream": "stderr",
       "text": [
        "[279]\ttrain-poisson-nloglik:2.865233\tval-poisson-nloglik:3.013821\n",
        "[280]\ttrain-poisson-nloglik:2.863775\tval-poisson-nloglik:3.012588\n",
        "[281]\ttrain-poisson-nloglik:2.862335\tval-poisson-nloglik:3.011327\n",
        "[282]\ttrain-poisson-nloglik:2.860844\tval-poisson-nloglik:3.010002\n"
       ]
      },
      {
       "output_type": "stream",
       "stream": "stderr",
       "text": [
        "[283]\ttrain-poisson-nloglik:2.859455\tval-poisson-nloglik:3.008784\n",
        "[284]\ttrain-poisson-nloglik:2.858134\tval-poisson-nloglik:3.007616\n",
        "[285]\ttrain-poisson-nloglik:2.856790\tval-poisson-nloglik:3.006514\n"
       ]
      },
      {
       "output_type": "stream",
       "stream": "stderr",
       "text": [
        "[286]\ttrain-poisson-nloglik:2.855470\tval-poisson-nloglik:3.005347\n",
        "[287]\ttrain-poisson-nloglik:2.854134\tval-poisson-nloglik:3.004231\n",
        "[288]\ttrain-poisson-nloglik:2.852874\tval-poisson-nloglik:3.003088\n",
        "[289]\ttrain-poisson-nloglik:2.851501\tval-poisson-nloglik:3.001919\n"
       ]
      },
      {
       "output_type": "stream",
       "stream": "stderr",
       "text": [
        "[290]\ttrain-poisson-nloglik:2.850186\tval-poisson-nloglik:3.000892\n",
        "[291]\ttrain-poisson-nloglik:2.848853\tval-poisson-nloglik:2.999802\n",
        "[292]\ttrain-poisson-nloglik:2.847596\tval-poisson-nloglik:2.998741\n"
       ]
      },
      {
       "output_type": "stream",
       "stream": "stderr",
       "text": [
        "[293]\ttrain-poisson-nloglik:2.846334\tval-poisson-nloglik:2.997652\n",
        "[294]\ttrain-poisson-nloglik:2.845201\tval-poisson-nloglik:2.996586\n",
        "[295]\ttrain-poisson-nloglik:2.843973\tval-poisson-nloglik:2.995526\n",
        "[296]\ttrain-poisson-nloglik:2.842675\tval-poisson-nloglik:2.994405\n"
       ]
      },
      {
       "output_type": "stream",
       "stream": "stderr",
       "text": [
        "[297]\ttrain-poisson-nloglik:2.841428\tval-poisson-nloglik:2.993400\n",
        "[298]\ttrain-poisson-nloglik:2.840211\tval-poisson-nloglik:2.992375\n",
        "[299]\ttrain-poisson-nloglik:2.839060\tval-poisson-nloglik:2.991389\n"
       ]
      },
      {
       "output_type": "stream",
       "stream": "stderr",
       "text": [
        "[300]\ttrain-poisson-nloglik:2.837913\tval-poisson-nloglik:2.990407\n",
        "[301]\ttrain-poisson-nloglik:2.836698\tval-poisson-nloglik:2.989341\n",
        "[302]\ttrain-poisson-nloglik:2.835612\tval-poisson-nloglik:2.988374\n",
        "[303]\ttrain-poisson-nloglik:2.834452\tval-poisson-nloglik:2.987442\n"
       ]
      },
      {
       "output_type": "stream",
       "stream": "stderr",
       "text": [
        "[304]\ttrain-poisson-nloglik:2.833289\tval-poisson-nloglik:2.986409\n",
        "[305]\ttrain-poisson-nloglik:2.832175\tval-poisson-nloglik:2.985425\n",
        "[306]\ttrain-poisson-nloglik:2.831093\tval-poisson-nloglik:2.984421\n"
       ]
      },
      {
       "output_type": "stream",
       "stream": "stderr",
       "text": [
        "[307]\ttrain-poisson-nloglik:2.830014\tval-poisson-nloglik:2.983548\n",
        "[308]\ttrain-poisson-nloglik:2.828945\tval-poisson-nloglik:2.982633\n",
        "[309]\ttrain-poisson-nloglik:2.827827\tval-poisson-nloglik:2.981702\n"
       ]
      },
      {
       "output_type": "stream",
       "stream": "stderr",
       "text": [
        "[310]\ttrain-poisson-nloglik:2.826809\tval-poisson-nloglik:2.980745\n",
        "[311]\ttrain-poisson-nloglik:2.825736\tval-poisson-nloglik:2.979771\n",
        "[312]\ttrain-poisson-nloglik:2.824709\tval-poisson-nloglik:2.978890\n"
       ]
      },
      {
       "output_type": "stream",
       "stream": "stderr",
       "text": [
        "[313]\ttrain-poisson-nloglik:2.823705\tval-poisson-nloglik:2.978025\n",
        "[314]\ttrain-poisson-nloglik:2.822729\tval-poisson-nloglik:2.977223\n",
        "[315]\ttrain-poisson-nloglik:2.821717\tval-poisson-nloglik:2.976314\n",
        "[316]\ttrain-poisson-nloglik:2.820678\tval-poisson-nloglik:2.975497\n"
       ]
      },
      {
       "output_type": "stream",
       "stream": "stderr",
       "text": [
        "[317]\ttrain-poisson-nloglik:2.819743\tval-poisson-nloglik:2.974626\n",
        "[318]\ttrain-poisson-nloglik:2.818710\tval-poisson-nloglik:2.973819\n",
        "[319]\ttrain-poisson-nloglik:2.817806\tval-poisson-nloglik:2.973054\n",
        "[320]\ttrain-poisson-nloglik:2.816916\tval-poisson-nloglik:2.972281\n"
       ]
      },
      {
       "output_type": "stream",
       "stream": "stderr",
       "text": [
        "[321]\ttrain-poisson-nloglik:2.815931\tval-poisson-nloglik:2.971533\n",
        "[322]\ttrain-poisson-nloglik:2.814966\tval-poisson-nloglik:2.970694\n"
       ]
      },
      {
       "output_type": "stream",
       "stream": "stderr",
       "text": [
        "[323]\ttrain-poisson-nloglik:2.814103\tval-poisson-nloglik:2.969938\n",
        "[324]\ttrain-poisson-nloglik:2.813178\tval-poisson-nloglik:2.969177\n",
        "[325]\ttrain-poisson-nloglik:2.812226\tval-poisson-nloglik:2.968428\n"
       ]
      },
      {
       "output_type": "stream",
       "stream": "stderr",
       "text": [
        "[326]\ttrain-poisson-nloglik:2.811364\tval-poisson-nloglik:2.967701\n",
        "[327]\ttrain-poisson-nloglik:2.810471\tval-poisson-nloglik:2.966914\n",
        "[328]\ttrain-poisson-nloglik:2.809653\tval-poisson-nloglik:2.966183\n",
        "[329]\ttrain-poisson-nloglik:2.808772\tval-poisson-nloglik:2.965458\n"
       ]
      },
      {
       "output_type": "stream",
       "stream": "stderr",
       "text": [
        "[330]\ttrain-poisson-nloglik:2.807889\tval-poisson-nloglik:2.964753\n",
        "[331]\ttrain-poisson-nloglik:2.807017\tval-poisson-nloglik:2.964066\n",
        "[332]\ttrain-poisson-nloglik:2.806111\tval-poisson-nloglik:2.963353\n"
       ]
      },
      {
       "output_type": "stream",
       "stream": "stderr",
       "text": [
        "[333]\ttrain-poisson-nloglik:2.805218\tval-poisson-nloglik:2.962656\n",
        "[334]\ttrain-poisson-nloglik:2.804303\tval-poisson-nloglik:2.962074\n",
        "[335]\ttrain-poisson-nloglik:2.803493\tval-poisson-nloglik:2.961454\n",
        "[336]\ttrain-poisson-nloglik:2.802681\tval-poisson-nloglik:2.960721\n"
       ]
      },
      {
       "output_type": "stream",
       "stream": "stderr",
       "text": [
        "[337]\ttrain-poisson-nloglik:2.801877\tval-poisson-nloglik:2.960067\n",
        "[338]\ttrain-poisson-nloglik:2.801126\tval-poisson-nloglik:2.959457\n",
        "[339]\ttrain-poisson-nloglik:2.800292\tval-poisson-nloglik:2.958806\n",
        "[340]\ttrain-poisson-nloglik:2.799521\tval-poisson-nloglik:2.958210\n"
       ]
      },
      {
       "output_type": "stream",
       "stream": "stderr",
       "text": [
        "[341]\ttrain-poisson-nloglik:2.798725\tval-poisson-nloglik:2.957562\n",
        "[342]\ttrain-poisson-nloglik:2.797929\tval-poisson-nloglik:2.956938\n",
        "[343]\ttrain-poisson-nloglik:2.797068\tval-poisson-nloglik:2.956265\n"
       ]
      },
      {
       "output_type": "stream",
       "stream": "stderr",
       "text": [
        "[344]\ttrain-poisson-nloglik:2.796331\tval-poisson-nloglik:2.955671\n",
        "[345]\ttrain-poisson-nloglik:2.795590\tval-poisson-nloglik:2.955111\n",
        "[346]\ttrain-poisson-nloglik:2.794817\tval-poisson-nloglik:2.954478\n"
       ]
      },
      {
       "output_type": "stream",
       "stream": "stderr",
       "text": [
        "[347]\ttrain-poisson-nloglik:2.794010\tval-poisson-nloglik:2.953881\n",
        "[348]\ttrain-poisson-nloglik:2.793293\tval-poisson-nloglik:2.953309\n",
        "[349]\ttrain-poisson-nloglik:2.792536\tval-poisson-nloglik:2.952747\n",
        "[350]\ttrain-poisson-nloglik:2.791854\tval-poisson-nloglik:2.952200\n"
       ]
      },
      {
       "output_type": "stream",
       "stream": "stderr",
       "text": [
        "[351]\ttrain-poisson-nloglik:2.791085\tval-poisson-nloglik:2.951675\n",
        "[352]\ttrain-poisson-nloglik:2.790349\tval-poisson-nloglik:2.951075\n",
        "[353]\ttrain-poisson-nloglik:2.789671\tval-poisson-nloglik:2.950506\n",
        "[354]\ttrain-poisson-nloglik:2.788973\tval-poisson-nloglik:2.949968\n"
       ]
      },
      {
       "output_type": "stream",
       "stream": "stderr",
       "text": [
        "[355]\ttrain-poisson-nloglik:2.788318\tval-poisson-nloglik:2.949392\n",
        "[356]\ttrain-poisson-nloglik:2.787607\tval-poisson-nloglik:2.948812\n",
        "[357]\ttrain-poisson-nloglik:2.786974\tval-poisson-nloglik:2.948315\n"
       ]
      },
      {
       "output_type": "stream",
       "stream": "stderr",
       "text": [
        "[358]\ttrain-poisson-nloglik:2.786249\tval-poisson-nloglik:2.947830\n",
        "[359]\ttrain-poisson-nloglik:2.785560\tval-poisson-nloglik:2.947375\n",
        "[360]\ttrain-poisson-nloglik:2.784899\tval-poisson-nloglik:2.946857\n",
        "[361]\ttrain-poisson-nloglik:2.784268\tval-poisson-nloglik:2.946321\n"
       ]
      },
      {
       "output_type": "stream",
       "stream": "stderr",
       "text": [
        "[362]\ttrain-poisson-nloglik:2.783612\tval-poisson-nloglik:2.945839\n",
        "[363]\ttrain-poisson-nloglik:2.782931\tval-poisson-nloglik:2.945285\n",
        "[364]\ttrain-poisson-nloglik:2.782204\tval-poisson-nloglik:2.944734\n"
       ]
      },
      {
       "output_type": "stream",
       "stream": "stderr",
       "text": [
        "[365]\ttrain-poisson-nloglik:2.781592\tval-poisson-nloglik:2.944239\n",
        "[366]\ttrain-poisson-nloglik:2.780937\tval-poisson-nloglik:2.943726\n",
        "[367]\ttrain-poisson-nloglik:2.780360\tval-poisson-nloglik:2.943263\n"
       ]
      },
      {
       "output_type": "stream",
       "stream": "stderr",
       "text": [
        "[368]\ttrain-poisson-nloglik:2.779792\tval-poisson-nloglik:2.942814\n",
        "[369]\ttrain-poisson-nloglik:2.779124\tval-poisson-nloglik:2.942304\n",
        "[370]\ttrain-poisson-nloglik:2.778468\tval-poisson-nloglik:2.941806\n"
       ]
      },
      {
       "output_type": "stream",
       "stream": "stderr",
       "text": [
        "[371]\ttrain-poisson-nloglik:2.777699\tval-poisson-nloglik:2.941394\n",
        "[372]\ttrain-poisson-nloglik:2.777198\tval-poisson-nloglik:2.940952\n",
        "[373]\ttrain-poisson-nloglik:2.776525\tval-poisson-nloglik:2.940553\n"
       ]
      },
      {
       "output_type": "stream",
       "stream": "stderr",
       "text": [
        "[374]\ttrain-poisson-nloglik:2.775948\tval-poisson-nloglik:2.940111\n",
        "[375]\ttrain-poisson-nloglik:2.775307\tval-poisson-nloglik:2.939636\n",
        "[376]\ttrain-poisson-nloglik:2.774750\tval-poisson-nloglik:2.939209\n"
       ]
      },
      {
       "output_type": "stream",
       "stream": "stderr",
       "text": [
        "[377]\ttrain-poisson-nloglik:2.774077\tval-poisson-nloglik:2.938737\n",
        "[378]\ttrain-poisson-nloglik:2.773442\tval-poisson-nloglik:2.938303\n",
        "[379]\ttrain-poisson-nloglik:2.772859\tval-poisson-nloglik:2.937901\n"
       ]
      },
      {
       "output_type": "stream",
       "stream": "stderr",
       "text": [
        "[380]\ttrain-poisson-nloglik:2.772284\tval-poisson-nloglik:2.937478\n",
        "[381]\ttrain-poisson-nloglik:2.771611\tval-poisson-nloglik:2.936924\n",
        "[382]\ttrain-poisson-nloglik:2.771046\tval-poisson-nloglik:2.936482\n"
       ]
      },
      {
       "output_type": "stream",
       "stream": "stderr",
       "text": [
        "[383]\ttrain-poisson-nloglik:2.770489\tval-poisson-nloglik:2.936004\n",
        "[384]\ttrain-poisson-nloglik:2.769903\tval-poisson-nloglik:2.935596\n",
        "[385]\ttrain-poisson-nloglik:2.769390\tval-poisson-nloglik:2.935176\n",
        "[386]\ttrain-poisson-nloglik:2.768792\tval-poisson-nloglik:2.934744\n"
       ]
      },
      {
       "output_type": "stream",
       "stream": "stderr",
       "text": [
        "[387]\ttrain-poisson-nloglik:2.768204\tval-poisson-nloglik:2.934358\n",
        "[388]\ttrain-poisson-nloglik:2.767667\tval-poisson-nloglik:2.934016\n",
        "[389]\ttrain-poisson-nloglik:2.767124\tval-poisson-nloglik:2.933649\n",
        "[390]\ttrain-poisson-nloglik:2.766586\tval-poisson-nloglik:2.933278\n"
       ]
      },
      {
       "output_type": "stream",
       "stream": "stderr",
       "text": [
        "[391]\ttrain-poisson-nloglik:2.766012\tval-poisson-nloglik:2.932893\n",
        "[392]\ttrain-poisson-nloglik:2.765511\tval-poisson-nloglik:2.932529\n",
        "[393]\ttrain-poisson-nloglik:2.764988\tval-poisson-nloglik:2.932136\n"
       ]
      },
      {
       "output_type": "stream",
       "stream": "stderr",
       "text": [
        "[394]\ttrain-poisson-nloglik:2.764452\tval-poisson-nloglik:2.931782\n",
        "[395]\ttrain-poisson-nloglik:2.763858\tval-poisson-nloglik:2.931397\n",
        "[396]\ttrain-poisson-nloglik:2.763274\tval-poisson-nloglik:2.931029\n",
        "[397]\ttrain-poisson-nloglik:2.762772\tval-poisson-nloglik:2.930705\n"
       ]
      },
      {
       "output_type": "stream",
       "stream": "stderr",
       "text": [
        "[398]\ttrain-poisson-nloglik:2.762305\tval-poisson-nloglik:2.930352\n",
        "[399]\ttrain-poisson-nloglik:2.761736\tval-poisson-nloglik:2.929966\n",
        "[400]\ttrain-poisson-nloglik:2.761195\tval-poisson-nloglik:2.929606\n",
        "[401]\ttrain-poisson-nloglik:2.760688\tval-poisson-nloglik:2.929279\n"
       ]
      },
      {
       "output_type": "stream",
       "stream": "stderr",
       "text": [
        "[402]\ttrain-poisson-nloglik:2.760267\tval-poisson-nloglik:2.928947\n",
        "[403]\ttrain-poisson-nloglik:2.759762\tval-poisson-nloglik:2.928624\n",
        "[404]\ttrain-poisson-nloglik:2.759241\tval-poisson-nloglik:2.928344\n"
       ]
      },
      {
       "output_type": "stream",
       "stream": "stderr",
       "text": [
        "[405]\ttrain-poisson-nloglik:2.758824\tval-poisson-nloglik:2.928043\n",
        "[406]\ttrain-poisson-nloglik:2.758338\tval-poisson-nloglik:2.927768\n",
        "[407]\ttrain-poisson-nloglik:2.757802\tval-poisson-nloglik:2.927398\n"
       ]
      },
      {
       "output_type": "stream",
       "stream": "stderr",
       "text": [
        "[408]\ttrain-poisson-nloglik:2.757370\tval-poisson-nloglik:2.927032\n",
        "[409]\ttrain-poisson-nloglik:2.756958\tval-poisson-nloglik:2.926734\n",
        "[410]\ttrain-poisson-nloglik:2.756461\tval-poisson-nloglik:2.926518\n",
        "[411]\ttrain-poisson-nloglik:2.756002\tval-poisson-nloglik:2.926235\n"
       ]
      },
      {
       "output_type": "stream",
       "stream": "stderr",
       "text": [
        "[412]\ttrain-poisson-nloglik:2.755634\tval-poisson-nloglik:2.925931\n",
        "[413]\ttrain-poisson-nloglik:2.755215\tval-poisson-nloglik:2.925636\n",
        "[414]\ttrain-poisson-nloglik:2.754724\tval-poisson-nloglik:2.925340\n"
       ]
      },
      {
       "output_type": "stream",
       "stream": "stderr",
       "text": [
        "[415]\ttrain-poisson-nloglik:2.754309\tval-poisson-nloglik:2.925054\n",
        "[416]\ttrain-poisson-nloglik:2.753844\tval-poisson-nloglik:2.924782\n",
        "[417]\ttrain-poisson-nloglik:2.753404\tval-poisson-nloglik:2.924458\n"
       ]
      },
      {
       "output_type": "stream",
       "stream": "stderr",
       "text": [
        "[418]\ttrain-poisson-nloglik:2.752964\tval-poisson-nloglik:2.924207\n",
        "[419]\ttrain-poisson-nloglik:2.752562\tval-poisson-nloglik:2.923934\n",
        "[420]\ttrain-poisson-nloglik:2.752107\tval-poisson-nloglik:2.923668\n"
       ]
      },
      {
       "output_type": "stream",
       "stream": "stderr",
       "text": [
        "[421]\ttrain-poisson-nloglik:2.751721\tval-poisson-nloglik:2.923376\n",
        "[422]\ttrain-poisson-nloglik:2.751304\tval-poisson-nloglik:2.923118\n",
        "[423]\ttrain-poisson-nloglik:2.750915\tval-poisson-nloglik:2.922805\n"
       ]
      },
      {
       "output_type": "stream",
       "stream": "stderr",
       "text": [
        "[424]\ttrain-poisson-nloglik:2.750510\tval-poisson-nloglik:2.922531\n",
        "[425]\ttrain-poisson-nloglik:2.750082\tval-poisson-nloglik:2.922328\n",
        "[426]\ttrain-poisson-nloglik:2.749625\tval-poisson-nloglik:2.922046\n",
        "[427]\ttrain-poisson-nloglik:2.749191\tval-poisson-nloglik:2.921784\n"
       ]
      },
      {
       "output_type": "stream",
       "stream": "stderr",
       "text": [
        "[428]\ttrain-poisson-nloglik:2.748733\tval-poisson-nloglik:2.921504\n",
        "[429]\ttrain-poisson-nloglik:2.748406\tval-poisson-nloglik:2.921284\n",
        "[430]\ttrain-poisson-nloglik:2.747943\tval-poisson-nloglik:2.921037\n",
        "[431]\ttrain-poisson-nloglik:2.747575\tval-poisson-nloglik:2.920803\n"
       ]
      },
      {
       "output_type": "stream",
       "stream": "stderr",
       "text": [
        "[432]\ttrain-poisson-nloglik:2.747178\tval-poisson-nloglik:2.920581\n",
        "[433]\ttrain-poisson-nloglik:2.746868\tval-poisson-nloglik:2.920315\n",
        "[434]\ttrain-poisson-nloglik:2.746475\tval-poisson-nloglik:2.920025\n",
        "[435]\ttrain-poisson-nloglik:2.745999\tval-poisson-nloglik:2.919778\n"
       ]
      },
      {
       "output_type": "stream",
       "stream": "stderr",
       "text": [
        "[436]\ttrain-poisson-nloglik:2.745591\tval-poisson-nloglik:2.919500\n",
        "[437]\ttrain-poisson-nloglik:2.745202\tval-poisson-nloglik:2.919235\n",
        "[438]\ttrain-poisson-nloglik:2.744802\tval-poisson-nloglik:2.919022\n",
        "[439]\ttrain-poisson-nloglik:2.744393\tval-poisson-nloglik:2.918794\n"
       ]
      },
      {
       "output_type": "stream",
       "stream": "stderr",
       "text": [
        "[440]\ttrain-poisson-nloglik:2.744035\tval-poisson-nloglik:2.918554\n",
        "[441]\ttrain-poisson-nloglik:2.743648\tval-poisson-nloglik:2.918340\n",
        "[442]\ttrain-poisson-nloglik:2.743335\tval-poisson-nloglik:2.918123\n",
        "[443]\ttrain-poisson-nloglik:2.742968\tval-poisson-nloglik:2.917882\n"
       ]
      },
      {
       "output_type": "stream",
       "stream": "stderr",
       "text": [
        "[444]\ttrain-poisson-nloglik:2.742610\tval-poisson-nloglik:2.917687\n",
        "[445]\ttrain-poisson-nloglik:2.742195\tval-poisson-nloglik:2.917471\n",
        "[446]\ttrain-poisson-nloglik:2.741786\tval-poisson-nloglik:2.917181\n"
       ]
      },
      {
       "output_type": "stream",
       "stream": "stderr",
       "text": [
        "[447]\ttrain-poisson-nloglik:2.741445\tval-poisson-nloglik:2.916980\n",
        "[448]\ttrain-poisson-nloglik:2.741140\tval-poisson-nloglik:2.916785\n",
        "[449]\ttrain-poisson-nloglik:2.740809\tval-poisson-nloglik:2.916565\n"
       ]
      },
      {
       "output_type": "stream",
       "stream": "stderr",
       "text": [
        "[450]\ttrain-poisson-nloglik:2.740529\tval-poisson-nloglik:2.916315\n",
        "[451]\ttrain-poisson-nloglik:2.740190\tval-poisson-nloglik:2.916100\n",
        "[452]\ttrain-poisson-nloglik:2.739843\tval-poisson-nloglik:2.915904\n",
        "[453]\ttrain-poisson-nloglik:2.739455\tval-poisson-nloglik:2.915707\n"
       ]
      },
      {
       "output_type": "stream",
       "stream": "stderr",
       "text": [
        "[454]\ttrain-poisson-nloglik:2.739008\tval-poisson-nloglik:2.915481\n",
        "[455]\ttrain-poisson-nloglik:2.738659\tval-poisson-nloglik:2.915256\n",
        "[456]\ttrain-poisson-nloglik:2.738301\tval-poisson-nloglik:2.915098\n",
        "[457]\ttrain-poisson-nloglik:2.737906\tval-poisson-nloglik:2.914891\n"
       ]
      },
      {
       "output_type": "stream",
       "stream": "stderr",
       "text": [
        "[458]\ttrain-poisson-nloglik:2.737557\tval-poisson-nloglik:2.914623\n",
        "[459]\ttrain-poisson-nloglik:2.737255\tval-poisson-nloglik:2.914427\n",
        "[460]\ttrain-poisson-nloglik:2.736955\tval-poisson-nloglik:2.914251\n",
        "[461]\ttrain-poisson-nloglik:2.736685\tval-poisson-nloglik:2.914045\n"
       ]
      },
      {
       "output_type": "stream",
       "stream": "stderr",
       "text": [
        "[462]\ttrain-poisson-nloglik:2.736374\tval-poisson-nloglik:2.913876\n",
        "[463]\ttrain-poisson-nloglik:2.736002\tval-poisson-nloglik:2.913724\n",
        "[464]\ttrain-poisson-nloglik:2.735593\tval-poisson-nloglik:2.913560\n",
        "[465]\ttrain-poisson-nloglik:2.735331\tval-poisson-nloglik:2.913395\n"
       ]
      },
      {
       "output_type": "stream",
       "stream": "stderr",
       "text": [
        "[466]\ttrain-poisson-nloglik:2.735104\tval-poisson-nloglik:2.913242\n",
        "[467]\ttrain-poisson-nloglik:2.734827\tval-poisson-nloglik:2.913092\n",
        "[468]\ttrain-poisson-nloglik:2.734555\tval-poisson-nloglik:2.912964\n"
       ]
      },
      {
       "output_type": "stream",
       "stream": "stderr",
       "text": [
        "[469]\ttrain-poisson-nloglik:2.734282\tval-poisson-nloglik:2.912781\n",
        "[470]\ttrain-poisson-nloglik:2.734021\tval-poisson-nloglik:2.912642\n",
        "[471]\ttrain-poisson-nloglik:2.733712\tval-poisson-nloglik:2.912496\n"
       ]
      },
      {
       "output_type": "stream",
       "stream": "stderr",
       "text": [
        "[472]\ttrain-poisson-nloglik:2.733378\tval-poisson-nloglik:2.912231\n",
        "[473]\ttrain-poisson-nloglik:2.733055\tval-poisson-nloglik:2.912027\n",
        "[474]\ttrain-poisson-nloglik:2.732766\tval-poisson-nloglik:2.911886\n"
       ]
      },
      {
       "output_type": "stream",
       "stream": "stderr",
       "text": [
        "[475]\ttrain-poisson-nloglik:2.732435\tval-poisson-nloglik:2.911709\n",
        "[476]\ttrain-poisson-nloglik:2.732082\tval-poisson-nloglik:2.911528\n",
        "[477]\ttrain-poisson-nloglik:2.731758\tval-poisson-nloglik:2.911351\n"
       ]
      },
      {
       "output_type": "stream",
       "stream": "stderr",
       "text": [
        "[478]\ttrain-poisson-nloglik:2.731401\tval-poisson-nloglik:2.911233\n",
        "[479]\ttrain-poisson-nloglik:2.731058\tval-poisson-nloglik:2.911055\n",
        "[480]\ttrain-poisson-nloglik:2.730818\tval-poisson-nloglik:2.910857\n",
        "[481]\ttrain-poisson-nloglik:2.730515\tval-poisson-nloglik:2.910704\n"
       ]
      },
      {
       "output_type": "stream",
       "stream": "stderr",
       "text": [
        "[482]\ttrain-poisson-nloglik:2.730219\tval-poisson-nloglik:2.910536\n",
        "[483]\ttrain-poisson-nloglik:2.729960\tval-poisson-nloglik:2.910437\n",
        "[484]\ttrain-poisson-nloglik:2.729613\tval-poisson-nloglik:2.910324\n"
       ]
      },
      {
       "output_type": "stream",
       "stream": "stderr",
       "text": [
        "[485]\ttrain-poisson-nloglik:2.729328\tval-poisson-nloglik:2.910174\n",
        "[486]\ttrain-poisson-nloglik:2.728970\tval-poisson-nloglik:2.910072\n",
        "[487]\ttrain-poisson-nloglik:2.728673\tval-poisson-nloglik:2.909986\n",
        "[488]\ttrain-poisson-nloglik:2.728364\tval-poisson-nloglik:2.909915\n"
       ]
      },
      {
       "output_type": "stream",
       "stream": "stderr",
       "text": [
        "[489]\ttrain-poisson-nloglik:2.728050\tval-poisson-nloglik:2.909791\n",
        "[490]\ttrain-poisson-nloglik:2.727739\tval-poisson-nloglik:2.909689\n",
        "[491]\ttrain-poisson-nloglik:2.727468\tval-poisson-nloglik:2.909551\n",
        "[492]\ttrain-poisson-nloglik:2.727186\tval-poisson-nloglik:2.909416\n"
       ]
      },
      {
       "output_type": "stream",
       "stream": "stderr",
       "text": [
        "[493]\ttrain-poisson-nloglik:2.726945\tval-poisson-nloglik:2.909251\n",
        "[494]\ttrain-poisson-nloglik:2.726717\tval-poisson-nloglik:2.909119\n",
        "[495]\ttrain-poisson-nloglik:2.726474\tval-poisson-nloglik:2.908957\n",
        "[496]\ttrain-poisson-nloglik:2.726272\tval-poisson-nloglik:2.908798\n"
       ]
      },
      {
       "output_type": "stream",
       "stream": "stderr",
       "text": [
        "[497]\ttrain-poisson-nloglik:2.725953\tval-poisson-nloglik:2.908608\n",
        "[498]\ttrain-poisson-nloglik:2.725728\tval-poisson-nloglik:2.908497\n",
        "[499]\ttrain-poisson-nloglik:2.725484\tval-poisson-nloglik:2.908376\n"
       ]
      },
      {
       "output_type": "stream",
       "stream": "stderr",
       "text": [
        "[500]\ttrain-poisson-nloglik:2.725181\tval-poisson-nloglik:2.908208\n",
        "[501]\ttrain-poisson-nloglik:2.724930\tval-poisson-nloglik:2.908122\n",
        "[502]\ttrain-poisson-nloglik:2.724702\tval-poisson-nloglik:2.907973\n"
       ]
      },
      {
       "output_type": "stream",
       "stream": "stderr",
       "text": [
        "[503]\ttrain-poisson-nloglik:2.724418\tval-poisson-nloglik:2.907815\n",
        "[504]\ttrain-poisson-nloglik:2.724167\tval-poisson-nloglik:2.907676\n",
        "[505]\ttrain-poisson-nloglik:2.723902\tval-poisson-nloglik:2.907516\n"
       ]
      },
      {
       "output_type": "stream",
       "stream": "stderr",
       "text": [
        "[506]\ttrain-poisson-nloglik:2.723599\tval-poisson-nloglik:2.907389\n",
        "[507]\ttrain-poisson-nloglik:2.723329\tval-poisson-nloglik:2.907208\n",
        "[508]\ttrain-poisson-nloglik:2.723096\tval-poisson-nloglik:2.907072\n"
       ]
      },
      {
       "output_type": "stream",
       "stream": "stderr",
       "text": [
        "[509]\ttrain-poisson-nloglik:2.722891\tval-poisson-nloglik:2.906924\n",
        "[510]\ttrain-poisson-nloglik:2.722621\tval-poisson-nloglik:2.906812\n",
        "[511]\ttrain-poisson-nloglik:2.722334\tval-poisson-nloglik:2.906681\n",
        "[512]\ttrain-poisson-nloglik:2.722080\tval-poisson-nloglik:2.906533\n"
       ]
      },
      {
       "output_type": "stream",
       "stream": "stderr",
       "text": [
        "[513]\ttrain-poisson-nloglik:2.721817\tval-poisson-nloglik:2.906434\n",
        "[514]\ttrain-poisson-nloglik:2.721577\tval-poisson-nloglik:2.906323\n",
        "[515]\ttrain-poisson-nloglik:2.721370\tval-poisson-nloglik:2.906246\n"
       ]
      },
      {
       "output_type": "stream",
       "stream": "stderr",
       "text": [
        "[516]\ttrain-poisson-nloglik:2.721062\tval-poisson-nloglik:2.906101\n",
        "[517]\ttrain-poisson-nloglik:2.720846\tval-poisson-nloglik:2.906006\n",
        "[518]\ttrain-poisson-nloglik:2.720615\tval-poisson-nloglik:2.905907\n",
        "[519]\ttrain-poisson-nloglik:2.720348\tval-poisson-nloglik:2.905758\n"
       ]
      },
      {
       "output_type": "stream",
       "stream": "stderr",
       "text": [
        "[520]\ttrain-poisson-nloglik:2.720029\tval-poisson-nloglik:2.905616\n",
        "[521]\ttrain-poisson-nloglik:2.719765\tval-poisson-nloglik:2.905491\n",
        "[522]\ttrain-poisson-nloglik:2.719459\tval-poisson-nloglik:2.905365\n"
       ]
      },
      {
       "output_type": "stream",
       "stream": "stderr",
       "text": [
        "[523]\ttrain-poisson-nloglik:2.719221\tval-poisson-nloglik:2.905273\n",
        "[524]\ttrain-poisson-nloglik:2.718963\tval-poisson-nloglik:2.905081\n",
        "[525]\ttrain-poisson-nloglik:2.718700\tval-poisson-nloglik:2.904989\n",
        "[526]\ttrain-poisson-nloglik:2.718501\tval-poisson-nloglik:2.904887\n"
       ]
      },
      {
       "output_type": "stream",
       "stream": "stderr",
       "text": [
        "[527]\ttrain-poisson-nloglik:2.718326\tval-poisson-nloglik:2.904797\n",
        "[528]\ttrain-poisson-nloglik:2.718141\tval-poisson-nloglik:2.904708\n",
        "[529]\ttrain-poisson-nloglik:2.717948\tval-poisson-nloglik:2.904626\n",
        "[530]\ttrain-poisson-nloglik:2.717765\tval-poisson-nloglik:2.904520\n"
       ]
      },
      {
       "output_type": "stream",
       "stream": "stderr",
       "text": [
        "[531]\ttrain-poisson-nloglik:2.717502\tval-poisson-nloglik:2.904383\n",
        "[532]\ttrain-poisson-nloglik:2.717262\tval-poisson-nloglik:2.904310\n",
        "[533]\ttrain-poisson-nloglik:2.716984\tval-poisson-nloglik:2.904220\n"
       ]
      },
      {
       "output_type": "stream",
       "stream": "stderr",
       "text": [
        "[534]\ttrain-poisson-nloglik:2.716724\tval-poisson-nloglik:2.904107\n",
        "[535]\ttrain-poisson-nloglik:2.716469\tval-poisson-nloglik:2.903931\n",
        "[536]\ttrain-poisson-nloglik:2.716302\tval-poisson-nloglik:2.903856\n",
        "[537]\ttrain-poisson-nloglik:2.716102\tval-poisson-nloglik:2.903745\n"
       ]
      },
      {
       "output_type": "stream",
       "stream": "stderr",
       "text": [
        "[538]\ttrain-poisson-nloglik:2.715911\tval-poisson-nloglik:2.903652\n",
        "[539]\ttrain-poisson-nloglik:2.715676\tval-poisson-nloglik:2.903577\n",
        "[540]\ttrain-poisson-nloglik:2.715476\tval-poisson-nloglik:2.903459\n",
        "[541]\ttrain-poisson-nloglik:2.715240\tval-poisson-nloglik:2.903339\n"
       ]
      },
      {
       "output_type": "stream",
       "stream": "stderr",
       "text": [
        "[542]\ttrain-poisson-nloglik:2.714963\tval-poisson-nloglik:2.903335\n",
        "[543]\ttrain-poisson-nloglik:2.714736\tval-poisson-nloglik:2.903272\n",
        "[544]\ttrain-poisson-nloglik:2.714539\tval-poisson-nloglik:2.903192\n"
       ]
      },
      {
       "output_type": "stream",
       "stream": "stderr",
       "text": [
        "[545]\ttrain-poisson-nloglik:2.714313\tval-poisson-nloglik:2.903088\n",
        "[546]\ttrain-poisson-nloglik:2.714162\tval-poisson-nloglik:2.902974\n",
        "[547]\ttrain-poisson-nloglik:2.713970\tval-poisson-nloglik:2.902906\n"
       ]
      },
      {
       "output_type": "stream",
       "stream": "stderr",
       "text": [
        "[548]\ttrain-poisson-nloglik:2.713756\tval-poisson-nloglik:2.902883\n",
        "[549]\ttrain-poisson-nloglik:2.713513\tval-poisson-nloglik:2.902780\n",
        "[550]\ttrain-poisson-nloglik:2.713258\tval-poisson-nloglik:2.902619\n",
        "[551]\ttrain-poisson-nloglik:2.713009\tval-poisson-nloglik:2.902607\n"
       ]
      },
      {
       "output_type": "stream",
       "stream": "stderr",
       "text": [
        "[552]\ttrain-poisson-nloglik:2.712881\tval-poisson-nloglik:2.902561\n",
        "[553]\ttrain-poisson-nloglik:2.712662\tval-poisson-nloglik:2.902508\n",
        "[554]\ttrain-poisson-nloglik:2.712448\tval-poisson-nloglik:2.902448\n"
       ]
      },
      {
       "output_type": "stream",
       "stream": "stderr",
       "text": [
        "[555]\ttrain-poisson-nloglik:2.712208\tval-poisson-nloglik:2.902338\n",
        "[556]\ttrain-poisson-nloglik:2.712014\tval-poisson-nloglik:2.902242\n",
        "[557]\ttrain-poisson-nloglik:2.711850\tval-poisson-nloglik:2.902163\n"
       ]
      },
      {
       "output_type": "stream",
       "stream": "stderr",
       "text": [
        "[558]\ttrain-poisson-nloglik:2.711621\tval-poisson-nloglik:2.902108\n",
        "[559]\ttrain-poisson-nloglik:2.711472\tval-poisson-nloglik:2.901997\n",
        "[560]\ttrain-poisson-nloglik:2.711297\tval-poisson-nloglik:2.901920\n",
        "[561]\ttrain-poisson-nloglik:2.711063\tval-poisson-nloglik:2.901784\n"
       ]
      },
      {
       "output_type": "stream",
       "stream": "stderr",
       "text": [
        "[562]\ttrain-poisson-nloglik:2.710855\tval-poisson-nloglik:2.901696\n",
        "[563]\ttrain-poisson-nloglik:2.710673\tval-poisson-nloglik:2.901685\n",
        "[564]\ttrain-poisson-nloglik:2.710474\tval-poisson-nloglik:2.901638\n"
       ]
      },
      {
       "output_type": "stream",
       "stream": "stderr",
       "text": [
        "[565]\ttrain-poisson-nloglik:2.710267\tval-poisson-nloglik:2.901575\n",
        "[566]\ttrain-poisson-nloglik:2.710120\tval-poisson-nloglik:2.901548\n",
        "[567]\ttrain-poisson-nloglik:2.709861\tval-poisson-nloglik:2.901466\n",
        "[568]\ttrain-poisson-nloglik:2.709629\tval-poisson-nloglik:2.901378\n"
       ]
      },
      {
       "output_type": "stream",
       "stream": "stderr",
       "text": [
        "[569]\ttrain-poisson-nloglik:2.709437\tval-poisson-nloglik:2.901278\n",
        "[570]\ttrain-poisson-nloglik:2.709206\tval-poisson-nloglik:2.901187\n",
        "[571]\ttrain-poisson-nloglik:2.709025\tval-poisson-nloglik:2.901155\n"
       ]
      },
      {
       "output_type": "stream",
       "stream": "stderr",
       "text": [
        "[572]\ttrain-poisson-nloglik:2.708835\tval-poisson-nloglik:2.901081\n",
        "[573]\ttrain-poisson-nloglik:2.708601\tval-poisson-nloglik:2.900979\n",
        "[574]\ttrain-poisson-nloglik:2.708443\tval-poisson-nloglik:2.900902\n"
       ]
      },
      {
       "output_type": "stream",
       "stream": "stderr",
       "text": [
        "[575]\ttrain-poisson-nloglik:2.708323\tval-poisson-nloglik:2.900812\n",
        "[576]\ttrain-poisson-nloglik:2.708173\tval-poisson-nloglik:2.900768\n",
        "[577]\ttrain-poisson-nloglik:2.708038\tval-poisson-nloglik:2.900730\n",
        "[578]\ttrain-poisson-nloglik:2.707807\tval-poisson-nloglik:2.900718\n"
       ]
      },
      {
       "output_type": "stream",
       "stream": "stderr",
       "text": [
        "[579]\ttrain-poisson-nloglik:2.707579\tval-poisson-nloglik:2.900601\n",
        "[580]\ttrain-poisson-nloglik:2.707454\tval-poisson-nloglik:2.900492\n",
        "[581]\ttrain-poisson-nloglik:2.707204\tval-poisson-nloglik:2.900383\n",
        "[582]\ttrain-poisson-nloglik:2.707062\tval-poisson-nloglik:2.900321\n"
       ]
      },
      {
       "output_type": "stream",
       "stream": "stderr",
       "text": [
        "[583]\ttrain-poisson-nloglik:2.706835\tval-poisson-nloglik:2.900216\n",
        "[584]\ttrain-poisson-nloglik:2.706613\tval-poisson-nloglik:2.900104\n",
        "[585]\ttrain-poisson-nloglik:2.706390\tval-poisson-nloglik:2.900030\n",
        "[586]\ttrain-poisson-nloglik:2.706198\tval-poisson-nloglik:2.899970\n"
       ]
      },
      {
       "output_type": "stream",
       "stream": "stderr",
       "text": [
        "[587]\ttrain-poisson-nloglik:2.706033\tval-poisson-nloglik:2.899929\n",
        "[588]\ttrain-poisson-nloglik:2.705807\tval-poisson-nloglik:2.899895\n",
        "[589]\ttrain-poisson-nloglik:2.705554\tval-poisson-nloglik:2.899907\n"
       ]
      },
      {
       "output_type": "stream",
       "stream": "stderr",
       "text": [
        "[590]\ttrain-poisson-nloglik:2.705310\tval-poisson-nloglik:2.899752\n",
        "[591]\ttrain-poisson-nloglik:2.705099\tval-poisson-nloglik:2.899656\n",
        "[592]\ttrain-poisson-nloglik:2.704953\tval-poisson-nloglik:2.899563\n"
       ]
      },
      {
       "output_type": "stream",
       "stream": "stderr",
       "text": [
        "[593]\ttrain-poisson-nloglik:2.704769\tval-poisson-nloglik:2.899522\n",
        "[594]\ttrain-poisson-nloglik:2.704609\tval-poisson-nloglik:2.899474\n",
        "[595]\ttrain-poisson-nloglik:2.704453\tval-poisson-nloglik:2.899401\n"
       ]
      },
      {
       "output_type": "stream",
       "stream": "stderr",
       "text": [
        "[596]\ttrain-poisson-nloglik:2.704253\tval-poisson-nloglik:2.899358\n",
        "[597]\ttrain-poisson-nloglik:2.704029\tval-poisson-nloglik:2.899319\n",
        "[598]\ttrain-poisson-nloglik:2.703881\tval-poisson-nloglik:2.899264\n",
        "[599]\ttrain-poisson-nloglik:2.703696\tval-poisson-nloglik:2.899232\n"
       ]
      },
      {
       "output_type": "stream",
       "stream": "stderr",
       "text": [
        "[600]\ttrain-poisson-nloglik:2.703524\tval-poisson-nloglik:2.899189\n",
        "[601]\ttrain-poisson-nloglik:2.703372\tval-poisson-nloglik:2.899164\n",
        "[602]\ttrain-poisson-nloglik:2.703158\tval-poisson-nloglik:2.899155\n"
       ]
      },
      {
       "output_type": "stream",
       "stream": "stderr",
       "text": [
        "[603]\ttrain-poisson-nloglik:2.702959\tval-poisson-nloglik:2.899114\n",
        "[604]\ttrain-poisson-nloglik:2.702753\tval-poisson-nloglik:2.899089\n",
        "[605]\ttrain-poisson-nloglik:2.702612\tval-poisson-nloglik:2.899022\n"
       ]
      },
      {
       "output_type": "stream",
       "stream": "stderr",
       "text": [
        "[606]\ttrain-poisson-nloglik:2.702417\tval-poisson-nloglik:2.898944\n",
        "[607]\ttrain-poisson-nloglik:2.702256\tval-poisson-nloglik:2.898894\n",
        "[608]\ttrain-poisson-nloglik:2.702048\tval-poisson-nloglik:2.898838\n"
       ]
      },
      {
       "output_type": "stream",
       "stream": "stderr",
       "text": [
        "[609]\ttrain-poisson-nloglik:2.701832\tval-poisson-nloglik:2.898772\n",
        "[610]\ttrain-poisson-nloglik:2.701728\tval-poisson-nloglik:2.898736\n",
        "[611]\ttrain-poisson-nloglik:2.701545\tval-poisson-nloglik:2.898644\n",
        "[612]\ttrain-poisson-nloglik:2.701397\tval-poisson-nloglik:2.898597\n"
       ]
      },
      {
       "output_type": "stream",
       "stream": "stderr",
       "text": [
        "[613]\ttrain-poisson-nloglik:2.701164\tval-poisson-nloglik:2.898504\n",
        "[614]\ttrain-poisson-nloglik:2.700935\tval-poisson-nloglik:2.898489\n",
        "[615]\ttrain-poisson-nloglik:2.700765\tval-poisson-nloglik:2.898459\n"
       ]
      },
      {
       "output_type": "stream",
       "stream": "stderr",
       "text": [
        "[616]\ttrain-poisson-nloglik:2.700587\tval-poisson-nloglik:2.898441\n",
        "[617]\ttrain-poisson-nloglik:2.700380\tval-poisson-nloglik:2.898393\n",
        "[618]\ttrain-poisson-nloglik:2.700169\tval-poisson-nloglik:2.898371\n"
       ]
      },
      {
       "output_type": "stream",
       "stream": "stderr",
       "text": [
        "[619]\ttrain-poisson-nloglik:2.699991\tval-poisson-nloglik:2.898340\n",
        "[620]\ttrain-poisson-nloglik:2.699870\tval-poisson-nloglik:2.898297\n",
        "[621]\ttrain-poisson-nloglik:2.699645\tval-poisson-nloglik:2.898269\n",
        "[622]\ttrain-poisson-nloglik:2.699476\tval-poisson-nloglik:2.898286\n"
       ]
      },
      {
       "output_type": "stream",
       "stream": "stderr",
       "text": [
        "[623]\ttrain-poisson-nloglik:2.699337\tval-poisson-nloglik:2.898228\n",
        "[624]\ttrain-poisson-nloglik:2.699208\tval-poisson-nloglik:2.898161\n",
        "[625]\ttrain-poisson-nloglik:2.699045\tval-poisson-nloglik:2.898134\n",
        "[626]\ttrain-poisson-nloglik:2.698953\tval-poisson-nloglik:2.898104\n"
       ]
      },
      {
       "output_type": "stream",
       "stream": "stderr",
       "text": [
        "[627]\ttrain-poisson-nloglik:2.698748\tval-poisson-nloglik:2.898082\n",
        "[628]\ttrain-poisson-nloglik:2.698524\tval-poisson-nloglik:2.898044\n",
        "[629]\ttrain-poisson-nloglik:2.698306\tval-poisson-nloglik:2.897997\n",
        "[630]\ttrain-poisson-nloglik:2.698135\tval-poisson-nloglik:2.897963\n"
       ]
      },
      {
       "output_type": "stream",
       "stream": "stderr",
       "text": [
        "[631]\ttrain-poisson-nloglik:2.697950\tval-poisson-nloglik:2.897943\n",
        "[632]\ttrain-poisson-nloglik:2.697752\tval-poisson-nloglik:2.897879\n",
        "[633]\ttrain-poisson-nloglik:2.697621\tval-poisson-nloglik:2.897824\n",
        "[634]\ttrain-poisson-nloglik:2.697494\tval-poisson-nloglik:2.897781\n"
       ]
      },
      {
       "output_type": "stream",
       "stream": "stderr",
       "text": [
        "[635]\ttrain-poisson-nloglik:2.697282\tval-poisson-nloglik:2.897777\n",
        "[636]\ttrain-poisson-nloglik:2.697043\tval-poisson-nloglik:2.897785\n",
        "[637]\ttrain-poisson-nloglik:2.696866\tval-poisson-nloglik:2.897733\n"
       ]
      },
      {
       "output_type": "stream",
       "stream": "stderr",
       "text": [
        "[638]\ttrain-poisson-nloglik:2.696686\tval-poisson-nloglik:2.897674\n",
        "[639]\ttrain-poisson-nloglik:2.696470\tval-poisson-nloglik:2.897583\n",
        "[640]\ttrain-poisson-nloglik:2.696282\tval-poisson-nloglik:2.897530\n"
       ]
      },
      {
       "output_type": "stream",
       "stream": "stderr",
       "text": [
        "[641]\ttrain-poisson-nloglik:2.696138\tval-poisson-nloglik:2.897508\n",
        "[642]\ttrain-poisson-nloglik:2.695934\tval-poisson-nloglik:2.897394\n",
        "[643]\ttrain-poisson-nloglik:2.695737\tval-poisson-nloglik:2.897417\n",
        "[644]\ttrain-poisson-nloglik:2.695615\tval-poisson-nloglik:2.897384\n"
       ]
      },
      {
       "output_type": "stream",
       "stream": "stderr",
       "text": [
        "[645]\ttrain-poisson-nloglik:2.695457\tval-poisson-nloglik:2.897349\n",
        "[646]\ttrain-poisson-nloglik:2.695280\tval-poisson-nloglik:2.897356\n",
        "[647]\ttrain-poisson-nloglik:2.695116\tval-poisson-nloglik:2.897318\n",
        "[648]\ttrain-poisson-nloglik:2.694998\tval-poisson-nloglik:2.897295\n"
       ]
      },
      {
       "output_type": "stream",
       "stream": "stderr",
       "text": [
        "[649]\ttrain-poisson-nloglik:2.694812\tval-poisson-nloglik:2.897221\n",
        "[650]\ttrain-poisson-nloglik:2.694662\tval-poisson-nloglik:2.897205\n",
        "[651]\ttrain-poisson-nloglik:2.694541\tval-poisson-nloglik:2.897147\n"
       ]
      },
      {
       "output_type": "stream",
       "stream": "stderr",
       "text": [
        "[652]\ttrain-poisson-nloglik:2.694335\tval-poisson-nloglik:2.897010\n",
        "[653]\ttrain-poisson-nloglik:2.694171\tval-poisson-nloglik:2.896985\n",
        "[654]\ttrain-poisson-nloglik:2.693987\tval-poisson-nloglik:2.896938\n",
        "[655]\ttrain-poisson-nloglik:2.693897\tval-poisson-nloglik:2.896944\n"
       ]
      },
      {
       "output_type": "stream",
       "stream": "stderr",
       "text": [
        "[656]\ttrain-poisson-nloglik:2.693721\tval-poisson-nloglik:2.896939\n",
        "[657]\ttrain-poisson-nloglik:2.693564\tval-poisson-nloglik:2.896942\n",
        "[658]\ttrain-poisson-nloglik:2.693401\tval-poisson-nloglik:2.896917\n"
       ]
      },
      {
       "output_type": "stream",
       "stream": "stderr",
       "text": [
        "[659]\ttrain-poisson-nloglik:2.693261\tval-poisson-nloglik:2.896853\n",
        "[660]\ttrain-poisson-nloglik:2.693084\tval-poisson-nloglik:2.896814\n",
        "[661]\ttrain-poisson-nloglik:2.692935\tval-poisson-nloglik:2.896799\n",
        "[662]\ttrain-poisson-nloglik:2.692756\tval-poisson-nloglik:2.896751\n"
       ]
      },
      {
       "output_type": "stream",
       "stream": "stderr",
       "text": [
        "[663]\ttrain-poisson-nloglik:2.692577\tval-poisson-nloglik:2.896686\n",
        "[664]\ttrain-poisson-nloglik:2.692435\tval-poisson-nloglik:2.896687\n",
        "[665]\ttrain-poisson-nloglik:2.692303\tval-poisson-nloglik:2.896630\n"
       ]
      },
      {
       "output_type": "stream",
       "stream": "stderr",
       "text": [
        "[666]\ttrain-poisson-nloglik:2.692247\tval-poisson-nloglik:2.896614\n",
        "[667]\ttrain-poisson-nloglik:2.692094\tval-poisson-nloglik:2.896508\n",
        "[668]\ttrain-poisson-nloglik:2.691928\tval-poisson-nloglik:2.896450\n"
       ]
      },
      {
       "output_type": "stream",
       "stream": "stderr",
       "text": [
        "[669]\ttrain-poisson-nloglik:2.691822\tval-poisson-nloglik:2.896336\n",
        "[670]\ttrain-poisson-nloglik:2.691620\tval-poisson-nloglik:2.896338\n",
        "[671]\ttrain-poisson-nloglik:2.691438\tval-poisson-nloglik:2.896330\n"
       ]
      },
      {
       "output_type": "stream",
       "stream": "stderr",
       "text": [
        "[672]\ttrain-poisson-nloglik:2.691365\tval-poisson-nloglik:2.896313\n",
        "[673]\ttrain-poisson-nloglik:2.691200\tval-poisson-nloglik:2.896301\n",
        "[674]\ttrain-poisson-nloglik:2.691025\tval-poisson-nloglik:2.896273\n"
       ]
      },
      {
       "output_type": "stream",
       "stream": "stderr",
       "text": [
        "[675]\ttrain-poisson-nloglik:2.690797\tval-poisson-nloglik:2.896294\n",
        "[676]\ttrain-poisson-nloglik:2.690650\tval-poisson-nloglik:2.896295\n",
        "[677]\ttrain-poisson-nloglik:2.690466\tval-poisson-nloglik:2.896321\n"
       ]
      },
      {
       "output_type": "stream",
       "stream": "stderr",
       "text": [
        "[678]\ttrain-poisson-nloglik:2.690321\tval-poisson-nloglik:2.896293\n",
        "Stopping. Best iteration:\n",
        "[674]\ttrain-poisson-nloglik:2.691025\tval-poisson-nloglik:2.896273\n",
        "\n"
       ]
      }
     ],
     "prompt_number": 110
    },
    {
     "cell_type": "code",
     "collapsed": false,
     "input": [
      "preds1 = model.predict(xgtest)\n",
      "print preds1\n",
      "\n",
      "# generate solution file\n",
      "preds = pd.DataFrame({\"Id\": test_ind, \"Hazard\": preds1})\n",
      "preds = preds.set_index('Id')\n",
      "preds.to_csv('xgboost_train_num_dev20150822.csv')\n",
      "%pwd"
     ],
     "language": "python",
     "metadata": {},
     "outputs": [
      {
       "output_type": "stream",
       "stream": "stdout",
       "text": [
        "[ 2.58839846  8.64970779  6.59064436 ...,  5.3936553   4.06756783\n",
        "  3.72111201]\n"
       ]
      },
      {
       "metadata": {},
       "output_type": "pyout",
       "prompt_number": 112,
       "text": [
        "u'/home/leandroohf/Documents/kaggle/Liberty_Mutual_Group_Property_Inspection_Prediction/dev'"
       ]
      }
     ],
     "prompt_number": 112
    }
   ],
   "metadata": {}
  }
 ]
}