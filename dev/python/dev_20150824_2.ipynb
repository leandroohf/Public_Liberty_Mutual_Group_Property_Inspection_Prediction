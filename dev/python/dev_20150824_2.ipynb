{
 "metadata": {
  "name": ""
 },
 "nbformat": 3,
 "nbformat_minor": 0,
 "worksheets": [
  {
   "cells": [
    {
     "cell_type": "markdown",
     "metadata": {},
     "source": [
      "# Base de treino balanciada\n",
      "\n",
      "Considerei apenas algumas Hazard < 21\n",
      "E mantive demais parametros.\n",
      "\n",
      "kaglle score: 0.277749\n",
      "\n",
      "Meu melhor kaglle score: 0.3850\n"
     ]
    },
    {
     "cell_type": "code",
     "collapsed": false,
     "input": [
      "# Setup\n",
      "import pandas as pd\n",
      "import numpy as np \n",
      "from sklearn import preprocessing\n",
      "import xgboost as xgb\n",
      "import random"
     ],
     "language": "python",
     "metadata": {},
     "outputs": [],
     "prompt_number": 1
    },
    {
     "cell_type": "code",
     "collapsed": false,
     "input": [
      "# Defining some functions\n",
      "\n",
      "print 'Defining functions (shameless stolen from the script pages)'\n",
      "\n",
      "## Gini: Shameless stolen from jpopham91's script\n",
      "def Gini1(y_true, y_pred):\n",
      "    # check and get number of samples\n",
      "    assert y_true.shape == y_pred.shape\n",
      "    n_samples = y_true.shape[0]\n",
      "    \n",
      "    # sort rows on prediction column \n",
      "    # (from largest to smallest)\n",
      "    arr = np.array([y_true, y_pred]).transpose()\n",
      "    true_order = arr[arr[:,0].argsort()][::-1,0]\n",
      "    pred_order = arr[arr[:,1].argsort()][::-1,0]\n",
      "    \n",
      "    # get Lorenz curves\n",
      "    L_true = np.cumsum(true_order) / np.sum(true_order)\n",
      "    L_pred = np.cumsum(pred_order) / np.sum(pred_order)\n",
      "    L_ones = np.linspace(1/n_samples, 1, n_samples)\n",
      "    \n",
      "    # get Gini coefficients (area between curves)\n",
      "    G_true = np.sum(L_ones - L_true)\n",
      "    G_pred = np.sum(L_ones - L_pred)\n",
      "    \n",
      "    # normalize to true Gini coefficient\n",
      "    return G_pred/G_true\n",
      "\n",
      "# Source script: justfor que por sua vez pegou da fonte abaixo\n",
      "# Source of good version: https://www.kaggle.com/c/ClaimPredictionChallenge/forums/t/703/code-to-calculate-normalizedgini    \n",
      "def Gini2_aux(actual, pred, cmpcol = 0, sortcol = 1):\n",
      "     assert( len(actual) == len(pred) )\n",
      "     all = np.asarray(np.c_[ actual, pred, np.arange(len(actual)) ], dtype=np.float)\n",
      "     all = all[ np.lexsort((all[:,2], -1*all[:,1])) ]\n",
      "     totalLosses = all[:,0].sum()\n",
      "     giniSum = all[:,0].cumsum().sum() / totalLosses\n",
      "     giniSum -= (len(actual) + 1) / 2.\n",
      "     return giniSum / len(actual)\n",
      " \n",
      "def Gini2(y_true, y_pred):\n",
      "     return Gini2_aux(y_true, y_pred) / Gini2_aux(y_true, y_true)\n"
     ],
     "language": "python",
     "metadata": {},
     "outputs": [
      {
       "output_type": "stream",
       "stream": "stdout",
       "text": [
        "Defining functions (shameless stolen from the script pages)\n"
       ]
      }
     ],
     "prompt_number": 2
    },
    {
     "cell_type": "code",
     "collapsed": false,
     "input": [
      "\n",
      "#load train and test \n",
      "train  = pd.read_csv('../data/raw/train.csv', index_col=0)\n",
      "test   = pd.read_csv('../data/raw/test.csv', index_col=0)\n",
      "\n",
      "print train.shape\n",
      "## XXX Parece BUG head() nao mostra a ultimas colunas: 10,20,30\n",
      "## Entao eu tive que duplicar para imprimir todas as colunas\n",
      "print train.iloc[:,0:10].head()\n",
      "print train.iloc[:,10:20].head()\n",
      "print train.iloc[:,20:30].head()\n",
      "print train.iloc[:,30:33].head()\n",
      "print \"==========================\"\n",
      "\n",
      "labels = train.Hazard\n",
      "%matplotlib inline\n",
      "labels.hist(bins=69)"
     ],
     "language": "python",
     "metadata": {},
     "outputs": [
      {
       "output_type": "stream",
       "stream": "stdout",
       "text": [
        "(50999, 33)\n",
        "    Hazard  T1_V1  T1_V2  T1_V3 T1_V4 T1_V5 T1_V6 T1_V7 T1_V8 T1_V9\n",
        "Id                                                                 \n",
        "1        1     15      3      2     N     B     N     B     B     D\n",
        "2        4     16     14      5     H     B     N     B     B     C\n",
        "3        1     10     10      5     N     K     N     B     B     E\n",
        "4        1     18     18      5     N     K     N     B     B     E\n",
        "5        1     13     19      5     N     H     N     B     B     E\n",
        "    T1_V10 T1_V11 T1_V12  T1_V13  T1_V14 T1_V15 T1_V16 T1_V17  T2_V1  T2_V2\n",
        "Id                                                                         \n",
        "1        7      B      B      15       1      A      B      N     36     11\n",
        "2       12      B      B      10       3      A      B      Y     78     10\n",
        "3       12      H      B      15       1      A      R      Y     71     21\n",
        "4        3      H      B      15       1      A      R      N     71     13\n",
        "5        7      H      B      10       1      A      J      N     75     10\n",
        "   T2_V3  T2_V4 T2_V5  T2_V6  T2_V7  T2_V8  T2_V9  T2_V10 T2_V11 T2_V12\n",
        "Id                                                                     \n",
        "1      N     10     B      2     37      1     11       6      Y      N\n",
        "2      Y     17     C      2     22      1     18       5      Y      Y\n",
        "3      Y     13     C      6     37      2     14       6      Y      Y\n",
        "4      N     15     A      2     25      1      1       6      Y      N\n",
        "5      Y     11     B      1     22      1      2       7      N      N\n",
        "   T2_V13  T2_V14  T2_V15\n",
        "Id                       \n",
        "1       E       2       2\n",
        "2       E       2       1\n",
        "3       E       6       1\n",
        "4       C       2       6\n",
        "5       E       1       1\n",
        "==========================\n"
       ]
      },
      {
       "metadata": {},
       "output_type": "pyout",
       "prompt_number": 3,
       "text": [
        "<matplotlib.axes.AxesSubplot at 0x7f41065c8450>"
       ]
      },
      {
       "metadata": {},
       "output_type": "display_data",
       "png": "[encoded data removed]",
       "text": [
        "<matplotlib.figure.Figure at 0x7f41098075d0>"
       ]
      }
     ],
     "prompt_number": 3
    },
    {
     "cell_type": "markdown",
     "metadata": {},
     "source": [
      "\n",
      "## Prepaing training data"
     ]
    },
    {
     "cell_type": "code",
     "collapsed": false,
     "input": [
      "## Fazendo copia dos dados\n",
      "train_pre = train.copy()\n",
      "\n",
      "hazard_thr = 21\n",
      "sample_size = 3000 # sample size per class\n",
      "\n",
      "print \"Printing intial train dim:\"\n",
      "print train_pre.shape\n",
      "print \"Considering Hazard < \" + str(hazard_thr) + \" in train data\"\n",
      "\n",
      "# verifcar a capacidade de gerar hazard acima de hazard_thr\n",
      "test_pre  = train_pre[ train_pre['Hazard'] > hazard_thr]\n",
      "train_pre = train_pre[ train_pre['Hazard'] < hazard_thr]\n",
      "\n",
      "h = 1\n",
      "print \"Hazard: \" + str(h)\n",
      "train_aux = train_pre[train_pre.Hazard == h]\n",
      "rows_sampled = np.random.choice(train_aux.index,sample_size)\n",
      "train_balanced_pre = train_pre.ix[rows_sampled]\n",
      "\n",
      "for h in range(2,hazard_thr):\n",
      "    print \"Hazard: \" + str(h)\n",
      "    train_aux = train_pre[train_pre.Hazard == h]\n",
      "    rows_sampled = np.random.choice(train_aux.index,sample_size)\n",
      "    train_balanced_pre = train_balanced_pre.append(train_pre.ix[rows_sampled])\n",
      "\n",
      "print train_balanced_pre.shape\n",
      "labels_balanced = train_balanced_pre['Hazard'].copy()\n",
      "test_labels = test_pre['Hazard'].copy()"
     ],
     "language": "python",
     "metadata": {},
     "outputs": [
      {
       "output_type": "stream",
       "stream": "stdout",
       "text": [
        "Printing intial train dim:\n",
        "(50999, 33)\n",
        "Considering Hazard < 21 in train data\n",
        "Hazard: 1\n",
        "Hazard: 2\n",
        "Hazard: 3"
       ]
      },
      {
       "output_type": "stream",
       "stream": "stdout",
       "text": [
        "\n",
        "Hazard: 4\n",
        "Hazard: 5"
       ]
      },
      {
       "output_type": "stream",
       "stream": "stdout",
       "text": [
        "\n",
        "Hazard: 6\n",
        "Hazard: 7"
       ]
      },
      {
       "output_type": "stream",
       "stream": "stdout",
       "text": [
        "\n",
        "Hazard: 8\n",
        "Hazard: 9"
       ]
      },
      {
       "output_type": "stream",
       "stream": "stdout",
       "text": [
        "\n",
        "Hazard: 10\n",
        "Hazard: 11"
       ]
      },
      {
       "output_type": "stream",
       "stream": "stdout",
       "text": [
        "\n",
        "Hazard: 12\n",
        "Hazard: 13"
       ]
      },
      {
       "output_type": "stream",
       "stream": "stdout",
       "text": [
        "\n",
        "Hazard: 14\n",
        "Hazard: 15"
       ]
      },
      {
       "output_type": "stream",
       "stream": "stdout",
       "text": [
        "\n",
        "Hazard: 16\n",
        "Hazard: 17"
       ]
      },
      {
       "output_type": "stream",
       "stream": "stdout",
       "text": [
        "\n",
        "Hazard: 18\n",
        "Hazard: 19"
       ]
      },
      {
       "output_type": "stream",
       "stream": "stdout",
       "text": [
        "\n",
        "Hazard: 20\n",
        "(60000, 33)"
       ]
      },
      {
       "output_type": "stream",
       "stream": "stdout",
       "text": [
        "\n"
       ]
      }
     ],
     "prompt_number": 4
    },
    {
     "cell_type": "code",
     "collapsed": false,
     "input": [
      "submit_pre = test.copy()\n",
      "\n",
      "print \"Droping columns\"\n",
      "\n",
      "train_balanced_pre.drop('Hazard', axis=1, inplace=True)\n",
      "train_balanced_pre.drop('T2_V10', axis=1, inplace=True)\n",
      "train_balanced_pre.drop('T2_V7', axis=1, inplace=True)\n",
      "train_balanced_pre.drop('T1_V13', axis=1, inplace=True)\n",
      "train_balanced_pre.drop('T1_V10', axis=1, inplace=True)\n",
      "\n",
      "test_pre.drop('Hazard', axis=1, inplace=True)\n",
      "test_pre.drop('T2_V10', axis=1, inplace=True)\n",
      "test_pre.drop('T2_V7', axis=1, inplace=True)\n",
      "test_pre.drop('T1_V13', axis=1, inplace=True)\n",
      "test_pre.drop('T1_V10', axis=1, inplace=True)\n",
      "\n",
      "submit_pre.drop('T2_V10', axis=1, inplace=True)\n",
      "submit_pre.drop('T2_V7', axis=1, inplace=True)\n",
      "submit_pre.drop('T1_V13', axis=1, inplace=True)\n",
      "submit_pre.drop('T1_V10', axis=1, inplace=True)\n",
      "\n",
      "print \"Printing labels dim:\"\n",
      "print labels_balanced.shape\n",
      "print \"Printing train dim:\"\n",
      "print train_balanced_pre.shape\n",
      "print \"Printing test dim:\"\n",
      "print test_pre.shape\n",
      "print \"Printing submit dim:\"\n",
      "print submit_pre.shape\n",
      "    \n",
      "columns = train_balanced_pre.columns\n",
      "submit_ind = submit_pre.index\n",
      "\n",
      "print \"Converting to numpy array\"\n",
      "\n",
      "train_balanced_pre = np.array(train_balanced_pre)\n",
      "labels_balanced = np.array(labels_balanced)\n",
      "\n",
      "test_pre = np.array(test_pre)\n",
      "test_labels = np.array(test_labels)\n",
      "\n",
      "submit_pre = np.array(submit_pre)"
     ],
     "language": "python",
     "metadata": {},
     "outputs": [
      {
       "output_type": "stream",
       "stream": "stdout",
       "text": [
        "Droping columns\n",
        "Printing labels dim:"
       ]
      },
      {
       "output_type": "stream",
       "stream": "stdout",
       "text": [
        "\n",
        "(60000,)\n",
        "Printing train dim:\n",
        "(60000, 28)\n",
        "Printing test dim:\n",
        "(305, 28)\n",
        "Printing submit dim:\n",
        "(51000, 28)\n",
        "Converting to numpy array\n"
       ]
      }
     ],
     "prompt_number": 5
    },
    {
     "cell_type": "code",
     "collapsed": false,
     "input": [
      "lbl = preprocessing.LabelEncoder()\n",
      "\n",
      "print \"Converting string columns to numerical levels (train_balanced_pre)\"\n",
      "# label encode the categorical variables\n",
      "for i in range(train_balanced_pre.shape[1]):\n",
      "    lbl = preprocessing.LabelEncoder()\n",
      "    lbl.fit(list(train_balanced_pre[:,i]) + list(submit_pre[:,i]) + list(test_pre[:,i]))\n",
      "    train_balanced_pre[:,i] = lbl.transform(train_balanced_pre[:,i])\n",
      "    test_pre[:,i] = lbl.transform(test_pre[:,i])    \n",
      "    submit_pre[:,i] = lbl.transform(submit_pre[:,i])\n",
      "\n",
      "train_balanced_pre = train_balanced_pre.astype(float)\n",
      "test_pre = test_pre.astype(float)\n",
      "submit_pre = submit_pre.astype(float)\n",
      "\n",
      "print train_balanced_pre.shape\n",
      "print test_pre.shape"
     ],
     "language": "python",
     "metadata": {},
     "outputs": [
      {
       "output_type": "stream",
       "stream": "stdout",
       "text": [
        "Converting string columns to numerical levels (train_balanced_pre)\n",
        "(60000, 28)"
       ]
      },
      {
       "output_type": "stream",
       "stream": "stdout",
       "text": [
        "\n",
        "(305, 28)\n"
       ]
      }
     ],
     "prompt_number": 6
    },
    {
     "cell_type": "markdown",
     "metadata": {},
     "source": [
      "## Seting model parameters"
     ]
    },
    {
     "cell_type": "code",
     "collapsed": false,
     "input": [
      "params = {}\n",
      "params[\"objective\"] = \"count:poisson\" #\"reg:linear\"  \n",
      "params[\"eta\"] = 0.01\n",
      "params[\"min_child_weight\"] = 5\n",
      "params[\"subsample\"] = 0.8\n",
      "params[\"colsample_bytree\"] = 0.8\n",
      "params[\"scale_pos_weight\"] = 1.0\n",
      "params[\"silent\"] = 1\n",
      "params[\"booster\"] = \"gbtree\"\n",
      "params[\"max_depth\"] = 9\n",
      "\n",
      "num_rounds = 3000\n",
      "est = 11\n",
      "\n",
      "plst = list(params.items())\n",
      "print \"Prameters list\"\n",
      "print plst\n",
      "\n",
      "\n",
      "print 'num_rounds: ' + str(num_rounds)\n",
      "print 'early_stopping_rounds: ' + str(est)\n"
     ],
     "language": "python",
     "metadata": {},
     "outputs": [
      {
       "output_type": "stream",
       "stream": "stdout",
       "text": [
        "Prameters list\n",
        "[('colsample_bytree', 0.8), ('silent', 1), ('scale_pos_weight', 1.0), ('min_child_weight', 5), ('subsample', 0.8), ('eta', 0.01), ('objective', 'count:poisson'), ('max_depth', 9), ('booster', 'gbtree')]\n",
        "num_rounds: 3000\n",
        "early_stopping_rounds: 11\n"
       ]
      }
     ],
     "prompt_number": 7
    },
    {
     "cell_type": "code",
     "collapsed": false,
     "input": [
      "test_rows_sampled = np.random.choice(range(len(train_balanced_pre)),10000)\n",
      "\n",
      "xgsubmit = xgb.DMatrix(submit_pre)\n",
      "xgtest = xgb.DMatrix(test_pre)\n",
      "\n",
      "#create a train and validation dmatrices \n",
      "print 'Setting validation and training data'\n",
      "xgval = xgb.DMatrix(train_balanced_pre[test_rows_sampled,:],\n",
      "\t\t\t\t      label=labels_balanced[test_rows_sampled])\n",
      "xgtrain = xgb.DMatrix(np.delete(train_balanced_pre,test_rows_sampled,0),\n",
      "\t\t\t       label=np.delete(labels_balanced,test_rows_sampled,0))\n",
      "\n",
      "\n",
      "print \"number of row xgsubmit\"\n",
      "print xgsubmit.num_row()\n",
      "\n",
      "print \"number of row xgtest\"\n",
      "print xgtest.num_row()\n",
      "\n",
      "print \"number of row xgtrain\"\n",
      "print xgtrain.num_row()\n",
      "\n",
      "print \"number of row xgval\"\n",
      "print xgval.num_row()\n"
     ],
     "language": "python",
     "metadata": {},
     "outputs": [
      {
       "output_type": "stream",
       "stream": "stdout",
       "text": [
        "Setting validation and training data\n",
        "number of row xgsubmit"
       ]
      },
      {
       "output_type": "stream",
       "stream": "stdout",
       "text": [
        "\n",
        "51000\n",
        "number of row xgtest\n",
        "305\n",
        "number of row xgtrain\n",
        "50769\n",
        "number of row xgval\n",
        "10000\n"
       ]
      }
     ],
     "prompt_number": 8
    },
    {
     "cell_type": "markdown",
     "metadata": {},
     "source": [
      "## Training XGBoost"
     ]
    },
    {
     "cell_type": "code",
     "collapsed": false,
     "input": [
      "#train using early stopping and predict\n",
      "watchlist = [(xgtrain, 'train'),(xgval, 'val')]\n",
      "model = xgb.train(plst, xgtrain, num_rounds, watchlist, early_stopping_rounds=est)"
     ],
     "language": "python",
     "metadata": {},
     "outputs": [
      {
       "output_type": "stream",
       "stream": "stderr",
       "text": [
        "Will train until val error hasn't decreased in 11 rounds.\n",
        "[0]\ttrain-poisson-nloglik:24.625946\tval-poisson-nloglik:24.902714\n"
       ]
      },
      {
       "output_type": "stream",
       "stream": "stderr",
       "text": [
        "[1]\ttrain-poisson-nloglik:23.666031\tval-poisson-nloglik:23.930550\n",
        "[2]\ttrain-poisson-nloglik:22.805481\tval-poisson-nloglik:23.064550\n"
       ]
      },
      {
       "output_type": "stream",
       "stream": "stderr",
       "text": [
        "[3]\ttrain-poisson-nloglik:22.025101\tval-poisson-nloglik:22.279472\n",
        "[4]\ttrain-poisson-nloglik:21.315620\tval-poisson-nloglik:21.566471\n"
       ]
      },
      {
       "output_type": "stream",
       "stream": "stderr",
       "text": [
        "[5]\ttrain-poisson-nloglik:20.656298\tval-poisson-nloglik:20.901207\n",
        "[6]\ttrain-poisson-nloglik:20.048630\tval-poisson-nloglik:20.287090\n"
       ]
      },
      {
       "output_type": "stream",
       "stream": "stderr",
       "text": [
        "[7]\ttrain-poisson-nloglik:19.483637\tval-poisson-nloglik:19.717916\n",
        "[8]\ttrain-poisson-nloglik:18.955070\tval-poisson-nloglik:19.186394\n"
       ]
      },
      {
       "output_type": "stream",
       "stream": "stderr",
       "text": [
        "[9]\ttrain-poisson-nloglik:18.462595\tval-poisson-nloglik:18.689913\n",
        "[10]\ttrain-poisson-nloglik:17.997320\tval-poisson-nloglik:18.220123\n"
       ]
      },
      {
       "output_type": "stream",
       "stream": "stderr",
       "text": [
        "[11]\ttrain-poisson-nloglik:17.559093\tval-poisson-nloglik:17.778330\n",
        "[12]\ttrain-poisson-nloglik:17.143265\tval-poisson-nloglik:17.360140\n"
       ]
      },
      {
       "output_type": "stream",
       "stream": "stderr",
       "text": [
        "[13]\ttrain-poisson-nloglik:16.749313\tval-poisson-nloglik:16.962234\n",
        "[14]\ttrain-poisson-nloglik:16.376390\tval-poisson-nloglik:16.585741\n"
       ]
      },
      {
       "output_type": "stream",
       "stream": "stderr",
       "text": [
        "[15]\ttrain-poisson-nloglik:16.021587\tval-poisson-nloglik:16.227922\n",
        "[16]\ttrain-poisson-nloglik:15.682691\tval-poisson-nloglik:15.886353\n"
       ]
      },
      {
       "output_type": "stream",
       "stream": "stderr",
       "text": [
        "[17]\ttrain-poisson-nloglik:15.359806\tval-poisson-nloglik:15.561560\n",
        "[18]\ttrain-poisson-nloglik:15.049396\tval-poisson-nloglik:15.248485\n"
       ]
      },
      {
       "output_type": "stream",
       "stream": "stderr",
       "text": [
        "[19]\ttrain-poisson-nloglik:14.752765\tval-poisson-nloglik:14.949059\n",
        "[20]\ttrain-poisson-nloglik:14.468939\tval-poisson-nloglik:14.662669\n"
       ]
      },
      {
       "output_type": "stream",
       "stream": "stderr",
       "text": [
        "[21]\ttrain-poisson-nloglik:14.196087\tval-poisson-nloglik:14.387818\n",
        "[22]\ttrain-poisson-nloglik:13.934960\tval-poisson-nloglik:14.124290\n"
       ]
      },
      {
       "output_type": "stream",
       "stream": "stderr",
       "text": [
        "[23]\ttrain-poisson-nloglik:13.682862\tval-poisson-nloglik:13.870284\n",
        "[24]\ttrain-poisson-nloglik:13.439235\tval-poisson-nloglik:13.624728\n"
       ]
      },
      {
       "output_type": "stream",
       "stream": "stderr",
       "text": [
        "[25]\ttrain-poisson-nloglik:13.205890\tval-poisson-nloglik:13.389825\n",
        "[26]\ttrain-poisson-nloglik:12.980989\tval-poisson-nloglik:13.162756\n"
       ]
      },
      {
       "output_type": "stream",
       "stream": "stderr",
       "text": [
        "[27]\ttrain-poisson-nloglik:12.764031\tval-poisson-nloglik:12.942769\n",
        "[28]\ttrain-poisson-nloglik:12.553692\tval-poisson-nloglik:12.730453\n"
       ]
      },
      {
       "output_type": "stream",
       "stream": "stderr",
       "text": [
        "[29]\ttrain-poisson-nloglik:12.351091\tval-poisson-nloglik:12.525739\n",
        "[30]\ttrain-poisson-nloglik:12.153343\tval-poisson-nloglik:12.326201\n"
       ]
      },
      {
       "output_type": "stream",
       "stream": "stderr",
       "text": [
        "[31]\ttrain-poisson-nloglik:11.964321\tval-poisson-nloglik:12.134764\n",
        "[32]\ttrain-poisson-nloglik:11.780115\tval-poisson-nloglik:11.949116\n"
       ]
      },
      {
       "output_type": "stream",
       "stream": "stderr",
       "text": [
        "[33]\ttrain-poisson-nloglik:11.601206\tval-poisson-nloglik:11.768751\n",
        "[34]\ttrain-poisson-nloglik:11.427887\tval-poisson-nloglik:11.594056\n"
       ]
      },
      {
       "output_type": "stream",
       "stream": "stderr",
       "text": [
        "[35]\ttrain-poisson-nloglik:11.260221\tval-poisson-nloglik:11.424513\n",
        "[36]\ttrain-poisson-nloglik:11.097142\tval-poisson-nloglik:11.259560\n"
       ]
      },
      {
       "output_type": "stream",
       "stream": "stderr",
       "text": [
        "[37]\ttrain-poisson-nloglik:10.939156\tval-poisson-nloglik:11.099929\n",
        "[38]\ttrain-poisson-nloglik:10.785109\tval-poisson-nloglik:10.944853\n"
       ]
      },
      {
       "output_type": "stream",
       "stream": "stderr",
       "text": [
        "[39]\ttrain-poisson-nloglik:10.634748\tval-poisson-nloglik:10.793286\n",
        "[40]\ttrain-poisson-nloglik:10.488713\tval-poisson-nloglik:10.645664\n"
       ]
      },
      {
       "output_type": "stream",
       "stream": "stderr",
       "text": [
        "[41]\ttrain-poisson-nloglik:10.345457\tval-poisson-nloglik:10.501562\n",
        "[42]\ttrain-poisson-nloglik:10.207726\tval-poisson-nloglik:10.362642\n"
       ]
      },
      {
       "output_type": "stream",
       "stream": "stderr",
       "text": [
        "[43]\ttrain-poisson-nloglik:10.073449\tval-poisson-nloglik:10.227056\n",
        "[44]\ttrain-poisson-nloglik:9.942764\tval-poisson-nloglik:10.094651\n"
       ]
      },
      {
       "output_type": "stream",
       "stream": "stderr",
       "text": [
        "[45]\ttrain-poisson-nloglik:9.815478\tval-poisson-nloglik:9.966085\n",
        "[46]\ttrain-poisson-nloglik:9.691594\tval-poisson-nloglik:9.841030\n"
       ]
      },
      {
       "output_type": "stream",
       "stream": "stderr",
       "text": [
        "[47]\ttrain-poisson-nloglik:9.570202\tval-poisson-nloglik:9.718307\n",
        "[48]\ttrain-poisson-nloglik:9.450793\tval-poisson-nloglik:9.597651\n"
       ]
      },
      {
       "output_type": "stream",
       "stream": "stderr",
       "text": [
        "[49]\ttrain-poisson-nloglik:9.335049\tval-poisson-nloglik:9.480647\n",
        "[50]\ttrain-poisson-nloglik:9.222110\tval-poisson-nloglik:9.366693\n"
       ]
      },
      {
       "output_type": "stream",
       "stream": "stderr",
       "text": [
        "[51]\ttrain-poisson-nloglik:9.112581\tval-poisson-nloglik:9.256173\n",
        "[52]\ttrain-poisson-nloglik:9.005617\tval-poisson-nloglik:9.148217\n"
       ]
      },
      {
       "output_type": "stream",
       "stream": "stderr",
       "text": [
        "[53]\ttrain-poisson-nloglik:8.901147\tval-poisson-nloglik:9.042408\n",
        "[54]\ttrain-poisson-nloglik:8.799330\tval-poisson-nloglik:8.939644\n"
       ]
      },
      {
       "output_type": "stream",
       "stream": "stderr",
       "text": [
        "[55]\ttrain-poisson-nloglik:8.699441\tval-poisson-nloglik:8.838743\n",
        "[56]\ttrain-poisson-nloglik:8.601066\tval-poisson-nloglik:8.739381\n"
       ]
      },
      {
       "output_type": "stream",
       "stream": "stderr",
       "text": [
        "[57]\ttrain-poisson-nloglik:8.504821\tval-poisson-nloglik:8.642526\n",
        "[58]\ttrain-poisson-nloglik:8.411604\tval-poisson-nloglik:8.548364\n"
       ]
      },
      {
       "output_type": "stream",
       "stream": "stderr",
       "text": [
        "[59]\ttrain-poisson-nloglik:8.320757\tval-poisson-nloglik:8.456678\n",
        "[60]\ttrain-poisson-nloglik:8.230671\tval-poisson-nloglik:8.365804\n"
       ]
      },
      {
       "output_type": "stream",
       "stream": "stderr",
       "text": [
        "[61]\ttrain-poisson-nloglik:8.143520\tval-poisson-nloglik:8.277813\n",
        "[62]\ttrain-poisson-nloglik:8.058501\tval-poisson-nloglik:8.191770\n"
       ]
      },
      {
       "output_type": "stream",
       "stream": "stderr",
       "text": [
        "[63]\ttrain-poisson-nloglik:7.974336\tval-poisson-nloglik:8.106515\n",
        "[64]\ttrain-poisson-nloglik:7.892761\tval-poisson-nloglik:8.024183\n"
       ]
      },
      {
       "output_type": "stream",
       "stream": "stderr",
       "text": [
        "[65]\ttrain-poisson-nloglik:7.812212\tval-poisson-nloglik:7.942740\n",
        "[66]\ttrain-poisson-nloglik:7.732835\tval-poisson-nloglik:7.862941\n"
       ]
      },
      {
       "output_type": "stream",
       "stream": "stderr",
       "text": [
        "[67]\ttrain-poisson-nloglik:7.656337\tval-poisson-nloglik:7.785702\n",
        "[68]\ttrain-poisson-nloglik:7.581713\tval-poisson-nloglik:7.710285\n"
       ]
      },
      {
       "output_type": "stream",
       "stream": "stderr",
       "text": [
        "[69]\ttrain-poisson-nloglik:7.506840\tval-poisson-nloglik:7.634827\n",
        "[70]\ttrain-poisson-nloglik:7.434449\tval-poisson-nloglik:7.561717\n"
       ]
      },
      {
       "output_type": "stream",
       "stream": "stderr",
       "text": [
        "[71]\ttrain-poisson-nloglik:7.363078\tval-poisson-nloglik:7.489546\n",
        "[72]\ttrain-poisson-nloglik:7.293486\tval-poisson-nloglik:7.419231\n"
       ]
      },
      {
       "output_type": "stream",
       "stream": "stderr",
       "text": [
        "[73]\ttrain-poisson-nloglik:7.224622\tval-poisson-nloglik:7.349812\n",
        "[74]\ttrain-poisson-nloglik:7.157526\tval-poisson-nloglik:7.281925\n"
       ]
      },
      {
       "output_type": "stream",
       "stream": "stderr",
       "text": [
        "[75]\ttrain-poisson-nloglik:7.091694\tval-poisson-nloglik:7.215344\n",
        "[76]\ttrain-poisson-nloglik:7.026784\tval-poisson-nloglik:7.149594\n"
       ]
      },
      {
       "output_type": "stream",
       "stream": "stderr",
       "text": [
        "[77]\ttrain-poisson-nloglik:6.963804\tval-poisson-nloglik:7.086038\n",
        "[78]\ttrain-poisson-nloglik:6.901206\tval-poisson-nloglik:7.022831\n"
       ]
      },
      {
       "output_type": "stream",
       "stream": "stderr",
       "text": [
        "[79]\ttrain-poisson-nloglik:6.840221\tval-poisson-nloglik:6.961103\n",
        "[80]\ttrain-poisson-nloglik:6.779587\tval-poisson-nloglik:6.899817\n"
       ]
      },
      {
       "output_type": "stream",
       "stream": "stderr",
       "text": [
        "[81]\ttrain-poisson-nloglik:6.721260\tval-poisson-nloglik:6.840827\n",
        "[82]\ttrain-poisson-nloglik:6.663587\tval-poisson-nloglik:6.782481\n"
       ]
      },
      {
       "output_type": "stream",
       "stream": "stderr",
       "text": [
        "[83]\ttrain-poisson-nloglik:6.607021\tval-poisson-nloglik:6.725473\n",
        "[84]\ttrain-poisson-nloglik:6.551299\tval-poisson-nloglik:6.669201\n"
       ]
      },
      {
       "output_type": "stream",
       "stream": "stderr",
       "text": [
        "[85]\ttrain-poisson-nloglik:6.496428\tval-poisson-nloglik:6.613928\n",
        "[86]\ttrain-poisson-nloglik:6.442742\tval-poisson-nloglik:6.559677\n"
       ]
      },
      {
       "output_type": "stream",
       "stream": "stderr",
       "text": [
        "[87]\ttrain-poisson-nloglik:6.390130\tval-poisson-nloglik:6.506580\n",
        "[88]\ttrain-poisson-nloglik:6.338155\tval-poisson-nloglik:6.454210\n"
       ]
      },
      {
       "output_type": "stream",
       "stream": "stderr",
       "text": [
        "[89]\ttrain-poisson-nloglik:6.287302\tval-poisson-nloglik:6.402721\n",
        "[90]\ttrain-poisson-nloglik:6.237434\tval-poisson-nloglik:6.352521\n"
       ]
      },
      {
       "output_type": "stream",
       "stream": "stderr",
       "text": [
        "[91]\ttrain-poisson-nloglik:6.188770\tval-poisson-nloglik:6.303254\n",
        "[92]\ttrain-poisson-nloglik:6.140273\tval-poisson-nloglik:6.254242\n"
       ]
      },
      {
       "output_type": "stream",
       "stream": "stderr",
       "text": [
        "[93]\ttrain-poisson-nloglik:6.093188\tval-poisson-nloglik:6.206594\n",
        "[94]\ttrain-poisson-nloglik:6.046996\tval-poisson-nloglik:6.159863\n"
       ]
      },
      {
       "output_type": "stream",
       "stream": "stderr",
       "text": [
        "[95]\ttrain-poisson-nloglik:6.000915\tval-poisson-nloglik:6.113271\n",
        "[96]\ttrain-poisson-nloglik:5.955900\tval-poisson-nloglik:6.067723\n"
       ]
      },
      {
       "output_type": "stream",
       "stream": "stderr",
       "text": [
        "[97]\ttrain-poisson-nloglik:5.911932\tval-poisson-nloglik:6.023273\n",
        "[98]\ttrain-poisson-nloglik:5.867926\tval-poisson-nloglik:5.978757\n"
       ]
      },
      {
       "output_type": "stream",
       "stream": "stderr",
       "text": [
        "[99]\ttrain-poisson-nloglik:5.824931\tval-poisson-nloglik:5.935317\n",
        "[100]\ttrain-poisson-nloglik:5.782911\tval-poisson-nloglik:5.892804\n"
       ]
      },
      {
       "output_type": "stream",
       "stream": "stderr",
       "text": [
        "[101]\ttrain-poisson-nloglik:5.741177\tval-poisson-nloglik:5.850634\n",
        "[102]\ttrain-poisson-nloglik:5.699928\tval-poisson-nloglik:5.808871\n"
       ]
      },
      {
       "output_type": "stream",
       "stream": "stderr",
       "text": [
        "[103]\ttrain-poisson-nloglik:5.659457\tval-poisson-nloglik:5.768066\n",
        "[104]\ttrain-poisson-nloglik:5.619136\tval-poisson-nloglik:5.727341\n"
       ]
      },
      {
       "output_type": "stream",
       "stream": "stderr",
       "text": [
        "[105]\ttrain-poisson-nloglik:5.580280\tval-poisson-nloglik:5.688033\n",
        "[106]\ttrain-poisson-nloglik:5.542399\tval-poisson-nloglik:5.649765\n"
       ]
      },
      {
       "output_type": "stream",
       "stream": "stderr",
       "text": [
        "[107]\ttrain-poisson-nloglik:5.505145\tval-poisson-nloglik:5.612107\n",
        "[108]\ttrain-poisson-nloglik:5.468517\tval-poisson-nloglik:5.575158\n"
       ]
      },
      {
       "output_type": "stream",
       "stream": "stderr",
       "text": [
        "[109]\ttrain-poisson-nloglik:5.432125\tval-poisson-nloglik:5.538564\n",
        "[110]\ttrain-poisson-nloglik:5.396464\tval-poisson-nloglik:5.502396\n"
       ]
      },
      {
       "output_type": "stream",
       "stream": "stderr",
       "text": [
        "[111]\ttrain-poisson-nloglik:5.361257\tval-poisson-nloglik:5.466781\n",
        "[112]\ttrain-poisson-nloglik:5.326628\tval-poisson-nloglik:5.431785\n"
       ]
      },
      {
       "output_type": "stream",
       "stream": "stderr",
       "text": [
        "[113]\ttrain-poisson-nloglik:5.291958\tval-poisson-nloglik:5.396720\n",
        "[114]\ttrain-poisson-nloglik:5.258260\tval-poisson-nloglik:5.362672\n"
       ]
      },
      {
       "output_type": "stream",
       "stream": "stderr",
       "text": [
        "[115]\ttrain-poisson-nloglik:5.224735\tval-poisson-nloglik:5.328951\n",
        "[116]\ttrain-poisson-nloglik:5.191957\tval-poisson-nloglik:5.295770\n"
       ]
      },
      {
       "output_type": "stream",
       "stream": "stderr",
       "text": [
        "[117]\ttrain-poisson-nloglik:5.160200\tval-poisson-nloglik:5.263688\n",
        "[118]\ttrain-poisson-nloglik:5.128397\tval-poisson-nloglik:5.231638\n"
       ]
      },
      {
       "output_type": "stream",
       "stream": "stderr",
       "text": [
        "[119]\ttrain-poisson-nloglik:5.097715\tval-poisson-nloglik:5.200561\n",
        "[120]\ttrain-poisson-nloglik:5.067051\tval-poisson-nloglik:5.169638\n"
       ]
      },
      {
       "output_type": "stream",
       "stream": "stderr",
       "text": [
        "[121]\ttrain-poisson-nloglik:5.036235\tval-poisson-nloglik:5.138580\n",
        "[122]\ttrain-poisson-nloglik:5.006445\tval-poisson-nloglik:5.108409\n"
       ]
      },
      {
       "output_type": "stream",
       "stream": "stderr",
       "text": [
        "[123]\ttrain-poisson-nloglik:4.976566\tval-poisson-nloglik:5.078354\n",
        "[124]\ttrain-poisson-nloglik:4.947771\tval-poisson-nloglik:5.049129\n"
       ]
      },
      {
       "output_type": "stream",
       "stream": "stderr",
       "text": [
        "[125]\ttrain-poisson-nloglik:4.919716\tval-poisson-nloglik:5.020746\n",
        "[126]\ttrain-poisson-nloglik:4.891389\tval-poisson-nloglik:4.992060\n"
       ]
      },
      {
       "output_type": "stream",
       "stream": "stderr",
       "text": [
        "[127]\ttrain-poisson-nloglik:4.863733\tval-poisson-nloglik:4.964123\n",
        "[128]\ttrain-poisson-nloglik:4.836761\tval-poisson-nloglik:4.937025\n"
       ]
      },
      {
       "output_type": "stream",
       "stream": "stderr",
       "text": [
        "[129]\ttrain-poisson-nloglik:4.810391\tval-poisson-nloglik:4.910359\n",
        "[130]\ttrain-poisson-nloglik:4.784286\tval-poisson-nloglik:4.884042\n"
       ]
      },
      {
       "output_type": "stream",
       "stream": "stderr",
       "text": [
        "[131]\ttrain-poisson-nloglik:4.758298\tval-poisson-nloglik:4.857794\n",
        "[132]\ttrain-poisson-nloglik:4.732761\tval-poisson-nloglik:4.831904\n"
       ]
      },
      {
       "output_type": "stream",
       "stream": "stderr",
       "text": [
        "[133]\ttrain-poisson-nloglik:4.706992\tval-poisson-nloglik:4.805978\n",
        "[134]\ttrain-poisson-nloglik:4.682331\tval-poisson-nloglik:4.781048\n"
       ]
      },
      {
       "output_type": "stream",
       "stream": "stderr",
       "text": [
        "[135]\ttrain-poisson-nloglik:4.657336\tval-poisson-nloglik:4.755791\n",
        "[136]\ttrain-poisson-nloglik:4.632987\tval-poisson-nloglik:4.731196\n"
       ]
      },
      {
       "output_type": "stream",
       "stream": "stderr",
       "text": [
        "[137]\ttrain-poisson-nloglik:4.608953\tval-poisson-nloglik:4.706992\n",
        "[138]\ttrain-poisson-nloglik:4.584835\tval-poisson-nloglik:4.682661\n"
       ]
      },
      {
       "output_type": "stream",
       "stream": "stderr",
       "text": [
        "[139]\ttrain-poisson-nloglik:4.561742\tval-poisson-nloglik:4.659412\n",
        "[140]\ttrain-poisson-nloglik:4.538597\tval-poisson-nloglik:4.636145\n"
       ]
      },
      {
       "output_type": "stream",
       "stream": "stderr",
       "text": [
        "[141]\ttrain-poisson-nloglik:4.515806\tval-poisson-nloglik:4.613085\n",
        "[142]\ttrain-poisson-nloglik:4.493956\tval-poisson-nloglik:4.590977\n"
       ]
      },
      {
       "output_type": "stream",
       "stream": "stderr",
       "text": [
        "[143]\ttrain-poisson-nloglik:4.472270\tval-poisson-nloglik:4.569044\n",
        "[144]\ttrain-poisson-nloglik:4.450149\tval-poisson-nloglik:4.546770\n"
       ]
      },
      {
       "output_type": "stream",
       "stream": "stderr",
       "text": [
        "[145]\ttrain-poisson-nloglik:4.428585\tval-poisson-nloglik:4.524982\n",
        "[146]\ttrain-poisson-nloglik:4.407332\tval-poisson-nloglik:4.503577\n"
       ]
      },
      {
       "output_type": "stream",
       "stream": "stderr",
       "text": [
        "[147]\ttrain-poisson-nloglik:4.386131\tval-poisson-nloglik:4.482194\n",
        "[148]\ttrain-poisson-nloglik:4.366110\tval-poisson-nloglik:4.461963\n"
       ]
      },
      {
       "output_type": "stream",
       "stream": "stderr",
       "text": [
        "[149]\ttrain-poisson-nloglik:4.345699\tval-poisson-nloglik:4.441371\n",
        "[150]\ttrain-poisson-nloglik:4.325853\tval-poisson-nloglik:4.421328\n"
       ]
      },
      {
       "output_type": "stream",
       "stream": "stderr",
       "text": [
        "[151]\ttrain-poisson-nloglik:4.306213\tval-poisson-nloglik:4.401431\n",
        "[152]\ttrain-poisson-nloglik:4.286760\tval-poisson-nloglik:4.381782\n"
       ]
      },
      {
       "output_type": "stream",
       "stream": "stderr",
       "text": [
        "[153]\ttrain-poisson-nloglik:4.268122\tval-poisson-nloglik:4.362914\n",
        "[154]\ttrain-poisson-nloglik:4.249160\tval-poisson-nloglik:4.343773\n"
       ]
      },
      {
       "output_type": "stream",
       "stream": "stderr",
       "text": [
        "[155]\ttrain-poisson-nloglik:4.230836\tval-poisson-nloglik:4.325227\n",
        "[156]\ttrain-poisson-nloglik:4.211864\tval-poisson-nloglik:4.306145\n"
       ]
      },
      {
       "output_type": "stream",
       "stream": "stderr",
       "text": [
        "[157]\ttrain-poisson-nloglik:4.193927\tval-poisson-nloglik:4.288052\n",
        "[158]\ttrain-poisson-nloglik:4.175644\tval-poisson-nloglik:4.269607\n"
       ]
      },
      {
       "output_type": "stream",
       "stream": "stderr",
       "text": [
        "[159]\ttrain-poisson-nloglik:4.157945\tval-poisson-nloglik:4.251748\n",
        "[160]\ttrain-poisson-nloglik:4.140546\tval-poisson-nloglik:4.234080\n"
       ]
      },
      {
       "output_type": "stream",
       "stream": "stderr",
       "text": [
        "[161]\ttrain-poisson-nloglik:4.122860\tval-poisson-nloglik:4.216246\n",
        "[162]\ttrain-poisson-nloglik:4.105968\tval-poisson-nloglik:4.199220\n"
       ]
      },
      {
       "output_type": "stream",
       "stream": "stderr",
       "text": [
        "[163]\ttrain-poisson-nloglik:4.089116\tval-poisson-nloglik:4.182224\n",
        "[164]\ttrain-poisson-nloglik:4.072447\tval-poisson-nloglik:4.165416\n"
       ]
      },
      {
       "output_type": "stream",
       "stream": "stderr",
       "text": [
        "[165]\ttrain-poisson-nloglik:4.055704\tval-poisson-nloglik:4.148674\n",
        "[166]\ttrain-poisson-nloglik:4.039635\tval-poisson-nloglik:4.132468\n"
       ]
      },
      {
       "output_type": "stream",
       "stream": "stderr",
       "text": [
        "[167]\ttrain-poisson-nloglik:4.023839\tval-poisson-nloglik:4.116459\n",
        "[168]\ttrain-poisson-nloglik:4.008282\tval-poisson-nloglik:4.100748\n"
       ]
      },
      {
       "output_type": "stream",
       "stream": "stderr",
       "text": [
        "[169]\ttrain-poisson-nloglik:3.992678\tval-poisson-nloglik:4.085104\n",
        "[170]\ttrain-poisson-nloglik:3.977319\tval-poisson-nloglik:4.069602\n"
       ]
      },
      {
       "output_type": "stream",
       "stream": "stderr",
       "text": [
        "[171]\ttrain-poisson-nloglik:3.962068\tval-poisson-nloglik:4.054206\n",
        "[172]\ttrain-poisson-nloglik:3.946772\tval-poisson-nloglik:4.038784\n"
       ]
      },
      {
       "output_type": "stream",
       "stream": "stderr",
       "text": [
        "[173]\ttrain-poisson-nloglik:3.932270\tval-poisson-nloglik:4.024115\n",
        "[174]\ttrain-poisson-nloglik:3.917500\tval-poisson-nloglik:4.009244\n"
       ]
      },
      {
       "output_type": "stream",
       "stream": "stderr",
       "text": [
        "[175]\ttrain-poisson-nloglik:3.903574\tval-poisson-nloglik:3.995235\n",
        "[176]\ttrain-poisson-nloglik:3.889727\tval-poisson-nloglik:3.981262\n"
       ]
      },
      {
       "output_type": "stream",
       "stream": "stderr",
       "text": [
        "[177]\ttrain-poisson-nloglik:3.876171\tval-poisson-nloglik:3.967543\n",
        "[178]\ttrain-poisson-nloglik:3.862105\tval-poisson-nloglik:3.953443\n"
       ]
      },
      {
       "output_type": "stream",
       "stream": "stderr",
       "text": [
        "[179]\ttrain-poisson-nloglik:3.848450\tval-poisson-nloglik:3.939615\n",
        "[180]\ttrain-poisson-nloglik:3.835374\tval-poisson-nloglik:3.926340\n"
       ]
      },
      {
       "output_type": "stream",
       "stream": "stderr",
       "text": [
        "[181]\ttrain-poisson-nloglik:3.821836\tval-poisson-nloglik:3.912783\n",
        "[182]\ttrain-poisson-nloglik:3.808642\tval-poisson-nloglik:3.899499\n"
       ]
      },
      {
       "output_type": "stream",
       "stream": "stderr",
       "text": [
        "[183]\ttrain-poisson-nloglik:3.795758\tval-poisson-nloglik:3.886479\n",
        "[184]\ttrain-poisson-nloglik:3.782741\tval-poisson-nloglik:3.873472\n"
       ]
      },
      {
       "output_type": "stream",
       "stream": "stderr",
       "text": [
        "[185]\ttrain-poisson-nloglik:3.770175\tval-poisson-nloglik:3.860800\n",
        "[186]\ttrain-poisson-nloglik:3.757843\tval-poisson-nloglik:3.848310\n"
       ]
      },
      {
       "output_type": "stream",
       "stream": "stderr",
       "text": [
        "[187]\ttrain-poisson-nloglik:3.745648\tval-poisson-nloglik:3.835956\n",
        "[188]\ttrain-poisson-nloglik:3.733276\tval-poisson-nloglik:3.823498\n"
       ]
      },
      {
       "output_type": "stream",
       "stream": "stderr",
       "text": [
        "[189]\ttrain-poisson-nloglik:3.720981\tval-poisson-nloglik:3.811104\n",
        "[190]\ttrain-poisson-nloglik:3.709186\tval-poisson-nloglik:3.799132\n"
       ]
      },
      {
       "output_type": "stream",
       "stream": "stderr",
       "text": [
        "[191]\ttrain-poisson-nloglik:3.697299\tval-poisson-nloglik:3.787184\n",
        "[192]\ttrain-poisson-nloglik:3.685454\tval-poisson-nloglik:3.775309\n"
       ]
      },
      {
       "output_type": "stream",
       "stream": "stderr",
       "text": [
        "[193]\ttrain-poisson-nloglik:3.673681\tval-poisson-nloglik:3.763509\n",
        "[194]\ttrain-poisson-nloglik:3.662549\tval-poisson-nloglik:3.752313\n"
       ]
      },
      {
       "output_type": "stream",
       "stream": "stderr",
       "text": [
        "[195]\ttrain-poisson-nloglik:3.651420\tval-poisson-nloglik:3.741078\n",
        "[196]\ttrain-poisson-nloglik:3.640154\tval-poisson-nloglik:3.729794\n"
       ]
      },
      {
       "output_type": "stream",
       "stream": "stderr",
       "text": [
        "[197]\ttrain-poisson-nloglik:3.629111\tval-poisson-nloglik:3.718735\n",
        "[198]\ttrain-poisson-nloglik:3.618052\tval-poisson-nloglik:3.707630\n"
       ]
      },
      {
       "output_type": "stream",
       "stream": "stderr",
       "text": [
        "[199]\ttrain-poisson-nloglik:3.607732\tval-poisson-nloglik:3.697195\n",
        "[200]\ttrain-poisson-nloglik:3.597096\tval-poisson-nloglik:3.686448\n"
       ]
      },
      {
       "output_type": "stream",
       "stream": "stderr",
       "text": [
        "[201]\ttrain-poisson-nloglik:3.586789\tval-poisson-nloglik:3.676074\n",
        "[202]\ttrain-poisson-nloglik:3.576357\tval-poisson-nloglik:3.665532\n"
       ]
      },
      {
       "output_type": "stream",
       "stream": "stderr",
       "text": [
        "[203]\ttrain-poisson-nloglik:3.566159\tval-poisson-nloglik:3.655262\n",
        "[204]\ttrain-poisson-nloglik:3.556316\tval-poisson-nloglik:3.645324\n"
       ]
      },
      {
       "output_type": "stream",
       "stream": "stderr",
       "text": [
        "[205]\ttrain-poisson-nloglik:3.545645\tval-poisson-nloglik:3.634615\n",
        "[206]\ttrain-poisson-nloglik:3.535919\tval-poisson-nloglik:3.624874\n"
       ]
      },
      {
       "output_type": "stream",
       "stream": "stderr",
       "text": [
        "[207]\ttrain-poisson-nloglik:3.526276\tval-poisson-nloglik:3.615157\n",
        "[208]\ttrain-poisson-nloglik:3.516501\tval-poisson-nloglik:3.605275\n"
       ]
      },
      {
       "output_type": "stream",
       "stream": "stderr",
       "text": [
        "[209]\ttrain-poisson-nloglik:3.507363\tval-poisson-nloglik:3.596063\n",
        "[210]\ttrain-poisson-nloglik:3.498233\tval-poisson-nloglik:3.586822\n"
       ]
      },
      {
       "output_type": "stream",
       "stream": "stderr",
       "text": [
        "[211]\ttrain-poisson-nloglik:3.488918\tval-poisson-nloglik:3.577414\n",
        "[212]\ttrain-poisson-nloglik:3.479752\tval-poisson-nloglik:3.568222\n"
       ]
      },
      {
       "output_type": "stream",
       "stream": "stderr",
       "text": [
        "[213]\ttrain-poisson-nloglik:3.470813\tval-poisson-nloglik:3.559186\n",
        "[214]\ttrain-poisson-nloglik:3.462120\tval-poisson-nloglik:3.550427\n"
       ]
      },
      {
       "output_type": "stream",
       "stream": "stderr",
       "text": [
        "[215]\ttrain-poisson-nloglik:3.452914\tval-poisson-nloglik:3.541177\n",
        "[216]\ttrain-poisson-nloglik:3.444293\tval-poisson-nloglik:3.532487\n"
       ]
      },
      {
       "output_type": "stream",
       "stream": "stderr",
       "text": [
        "[217]\ttrain-poisson-nloglik:3.436090\tval-poisson-nloglik:3.524195\n",
        "[218]\ttrain-poisson-nloglik:3.427411\tval-poisson-nloglik:3.515520\n"
       ]
      },
      {
       "output_type": "stream",
       "stream": "stderr",
       "text": [
        "[219]\ttrain-poisson-nloglik:3.418651\tval-poisson-nloglik:3.506777\n",
        "[220]\ttrain-poisson-nloglik:3.410467\tval-poisson-nloglik:3.498571\n"
       ]
      },
      {
       "output_type": "stream",
       "stream": "stderr",
       "text": [
        "[221]\ttrain-poisson-nloglik:3.402230\tval-poisson-nloglik:3.490299\n",
        "[222]\ttrain-poisson-nloglik:3.394138\tval-poisson-nloglik:3.482208\n"
       ]
      },
      {
       "output_type": "stream",
       "stream": "stderr",
       "text": [
        "[223]\ttrain-poisson-nloglik:3.386041\tval-poisson-nloglik:3.474020\n",
        "[224]\ttrain-poisson-nloglik:3.378026\tval-poisson-nloglik:3.465968\n"
       ]
      },
      {
       "output_type": "stream",
       "stream": "stderr",
       "text": [
        "[225]\ttrain-poisson-nloglik:3.370066\tval-poisson-nloglik:3.458004\n",
        "[226]\ttrain-poisson-nloglik:3.362583\tval-poisson-nloglik:3.450462\n"
       ]
      },
      {
       "output_type": "stream",
       "stream": "stderr",
       "text": [
        "[227]\ttrain-poisson-nloglik:3.354977\tval-poisson-nloglik:3.442793\n",
        "[228]\ttrain-poisson-nloglik:3.347291\tval-poisson-nloglik:3.435083\n"
       ]
      },
      {
       "output_type": "stream",
       "stream": "stderr",
       "text": [
        "[229]\ttrain-poisson-nloglik:3.340186\tval-poisson-nloglik:3.427973\n",
        "[230]\ttrain-poisson-nloglik:3.333022\tval-poisson-nloglik:3.420711\n"
       ]
      },
      {
       "output_type": "stream",
       "stream": "stderr",
       "text": [
        "[231]\ttrain-poisson-nloglik:3.325530\tval-poisson-nloglik:3.413240\n",
        "[232]\ttrain-poisson-nloglik:3.318638\tval-poisson-nloglik:3.406246\n"
       ]
      },
      {
       "output_type": "stream",
       "stream": "stderr",
       "text": [
        "[233]\ttrain-poisson-nloglik:3.311752\tval-poisson-nloglik:3.399274\n",
        "[234]\ttrain-poisson-nloglik:3.305002\tval-poisson-nloglik:3.392469\n"
       ]
      },
      {
       "output_type": "stream",
       "stream": "stderr",
       "text": [
        "[235]\ttrain-poisson-nloglik:3.297784\tval-poisson-nloglik:3.385195\n",
        "[236]\ttrain-poisson-nloglik:3.290862\tval-poisson-nloglik:3.378228\n"
       ]
      },
      {
       "output_type": "stream",
       "stream": "stderr",
       "text": [
        "[237]\ttrain-poisson-nloglik:3.284038\tval-poisson-nloglik:3.371351\n",
        "[238]\ttrain-poisson-nloglik:3.277320\tval-poisson-nloglik:3.364641\n"
       ]
      },
      {
       "output_type": "stream",
       "stream": "stderr",
       "text": [
        "[239]\ttrain-poisson-nloglik:3.270529\tval-poisson-nloglik:3.357841\n",
        "[240]\ttrain-poisson-nloglik:3.263680\tval-poisson-nloglik:3.351013\n"
       ]
      },
      {
       "output_type": "stream",
       "stream": "stderr",
       "text": [
        "[241]\ttrain-poisson-nloglik:3.256958\tval-poisson-nloglik:3.344295\n",
        "[242]\ttrain-poisson-nloglik:3.250587\tval-poisson-nloglik:3.337855\n"
       ]
      },
      {
       "output_type": "stream",
       "stream": "stderr",
       "text": [
        "[243]\ttrain-poisson-nloglik:3.243918\tval-poisson-nloglik:3.331173\n",
        "[244]\ttrain-poisson-nloglik:3.237602\tval-poisson-nloglik:3.324885\n"
       ]
      },
      {
       "output_type": "stream",
       "stream": "stderr",
       "text": [
        "[245]\ttrain-poisson-nloglik:3.230976\tval-poisson-nloglik:3.318305\n",
        "[246]\ttrain-poisson-nloglik:3.225132\tval-poisson-nloglik:3.312401\n"
       ]
      },
      {
       "output_type": "stream",
       "stream": "stderr",
       "text": [
        "[247]\ttrain-poisson-nloglik:3.218740\tval-poisson-nloglik:3.305957\n",
        "[248]\ttrain-poisson-nloglik:3.212558\tval-poisson-nloglik:3.299821\n"
       ]
      },
      {
       "output_type": "stream",
       "stream": "stderr",
       "text": [
        "[249]\ttrain-poisson-nloglik:3.206519\tval-poisson-nloglik:3.293766\n",
        "[250]\ttrain-poisson-nloglik:3.200852\tval-poisson-nloglik:3.288043\n"
       ]
      },
      {
       "output_type": "stream",
       "stream": "stderr",
       "text": [
        "[251]\ttrain-poisson-nloglik:3.195116\tval-poisson-nloglik:3.282330\n",
        "[252]\ttrain-poisson-nloglik:3.189423\tval-poisson-nloglik:3.276576\n"
       ]
      },
      {
       "output_type": "stream",
       "stream": "stderr",
       "text": [
        "[253]\ttrain-poisson-nloglik:3.183439\tval-poisson-nloglik:3.270669\n",
        "[254]\ttrain-poisson-nloglik:3.177897\tval-poisson-nloglik:3.265124\n"
       ]
      },
      {
       "output_type": "stream",
       "stream": "stderr",
       "text": [
        "[255]\ttrain-poisson-nloglik:3.172488\tval-poisson-nloglik:3.259624\n",
        "[256]\ttrain-poisson-nloglik:3.167169\tval-poisson-nloglik:3.254281\n"
       ]
      },
      {
       "output_type": "stream",
       "stream": "stderr",
       "text": [
        "[257]\ttrain-poisson-nloglik:3.161697\tval-poisson-nloglik:3.248824\n",
        "[258]\ttrain-poisson-nloglik:3.156042\tval-poisson-nloglik:3.243223\n"
       ]
      },
      {
       "output_type": "stream",
       "stream": "stderr",
       "text": [
        "[259]\ttrain-poisson-nloglik:3.151024\tval-poisson-nloglik:3.238164\n",
        "[260]\ttrain-poisson-nloglik:3.145641\tval-poisson-nloglik:3.232710\n"
       ]
      },
      {
       "output_type": "stream",
       "stream": "stderr",
       "text": [
        "[261]\ttrain-poisson-nloglik:3.140414\tval-poisson-nloglik:3.227489\n",
        "[262]\ttrain-poisson-nloglik:3.135265\tval-poisson-nloglik:3.222324\n"
       ]
      },
      {
       "output_type": "stream",
       "stream": "stderr",
       "text": [
        "[263]\ttrain-poisson-nloglik:3.130135\tval-poisson-nloglik:3.217181\n",
        "[264]\ttrain-poisson-nloglik:3.125166\tval-poisson-nloglik:3.212181\n"
       ]
      },
      {
       "output_type": "stream",
       "stream": "stderr",
       "text": [
        "[265]\ttrain-poisson-nloglik:3.120283\tval-poisson-nloglik:3.207329\n",
        "[266]\ttrain-poisson-nloglik:3.115471\tval-poisson-nloglik:3.202514\n"
       ]
      },
      {
       "output_type": "stream",
       "stream": "stderr",
       "text": [
        "[267]\ttrain-poisson-nloglik:3.110485\tval-poisson-nloglik:3.197520\n",
        "[268]\ttrain-poisson-nloglik:3.105840\tval-poisson-nloglik:3.192827\n"
       ]
      },
      {
       "output_type": "stream",
       "stream": "stderr",
       "text": [
        "[269]\ttrain-poisson-nloglik:3.101015\tval-poisson-nloglik:3.187961\n",
        "[270]\ttrain-poisson-nloglik:3.096225\tval-poisson-nloglik:3.183159\n"
       ]
      },
      {
       "output_type": "stream",
       "stream": "stderr",
       "text": [
        "[271]\ttrain-poisson-nloglik:3.091618\tval-poisson-nloglik:3.178511\n",
        "[272]\ttrain-poisson-nloglik:3.087204\tval-poisson-nloglik:3.174090\n"
       ]
      },
      {
       "output_type": "stream",
       "stream": "stderr",
       "text": [
        "[273]\ttrain-poisson-nloglik:3.082621\tval-poisson-nloglik:3.169560\n",
        "[274]\ttrain-poisson-nloglik:3.077859\tval-poisson-nloglik:3.164791\n"
       ]
      },
      {
       "output_type": "stream",
       "stream": "stderr",
       "text": [
        "[275]\ttrain-poisson-nloglik:3.073341\tval-poisson-nloglik:3.160261\n",
        "[276]\ttrain-poisson-nloglik:3.069082\tval-poisson-nloglik:3.155959\n"
       ]
      },
      {
       "output_type": "stream",
       "stream": "stderr",
       "text": [
        "[277]\ttrain-poisson-nloglik:3.064573\tval-poisson-nloglik:3.151465\n",
        "[278]\ttrain-poisson-nloglik:3.059992\tval-poisson-nloglik:3.146801\n"
       ]
      },
      {
       "output_type": "stream",
       "stream": "stderr",
       "text": [
        "[279]\ttrain-poisson-nloglik:3.055839\tval-poisson-nloglik:3.142606\n",
        "[280]\ttrain-poisson-nloglik:3.051395\tval-poisson-nloglik:3.138210\n"
       ]
      },
      {
       "output_type": "stream",
       "stream": "stderr",
       "text": [
        "[281]\ttrain-poisson-nloglik:3.046887\tval-poisson-nloglik:3.133713\n",
        "[282]\ttrain-poisson-nloglik:3.042198\tval-poisson-nloglik:3.129131\n"
       ]
      },
      {
       "output_type": "stream",
       "stream": "stderr",
       "text": [
        "[283]\ttrain-poisson-nloglik:3.037882\tval-poisson-nloglik:3.124806\n",
        "[284]\ttrain-poisson-nloglik:3.033782\tval-poisson-nloglik:3.120660\n"
       ]
      },
      {
       "output_type": "stream",
       "stream": "stderr",
       "text": [
        "[285]\ttrain-poisson-nloglik:3.029958\tval-poisson-nloglik:3.116756\n",
        "[286]\ttrain-poisson-nloglik:3.026023\tval-poisson-nloglik:3.112795\n"
       ]
      },
      {
       "output_type": "stream",
       "stream": "stderr",
       "text": [
        "[287]\ttrain-poisson-nloglik:3.022149\tval-poisson-nloglik:3.108860\n",
        "[288]\ttrain-poisson-nloglik:3.018093\tval-poisson-nloglik:3.104820\n"
       ]
      },
      {
       "output_type": "stream",
       "stream": "stderr",
       "text": [
        "[289]\ttrain-poisson-nloglik:3.014147\tval-poisson-nloglik:3.100891\n",
        "[290]\ttrain-poisson-nloglik:3.010595\tval-poisson-nloglik:3.097290\n"
       ]
      },
      {
       "output_type": "stream",
       "stream": "stderr",
       "text": [
        "[291]\ttrain-poisson-nloglik:3.006701\tval-poisson-nloglik:3.093406\n",
        "[292]\ttrain-poisson-nloglik:3.003162\tval-poisson-nloglik:3.089850\n"
       ]
      },
      {
       "output_type": "stream",
       "stream": "stderr",
       "text": [
        "[293]\ttrain-poisson-nloglik:2.999469\tval-poisson-nloglik:3.086164\n",
        "[294]\ttrain-poisson-nloglik:2.995512\tval-poisson-nloglik:3.082279\n"
       ]
      },
      {
       "output_type": "stream",
       "stream": "stderr",
       "text": [
        "[295]\ttrain-poisson-nloglik:2.992167\tval-poisson-nloglik:3.078903\n",
        "[296]\ttrain-poisson-nloglik:2.988530\tval-poisson-nloglik:3.075266\n"
       ]
      },
      {
       "output_type": "stream",
       "stream": "stderr",
       "text": [
        "[297]\ttrain-poisson-nloglik:2.984890\tval-poisson-nloglik:3.071563\n",
        "[298]\ttrain-poisson-nloglik:2.980859\tval-poisson-nloglik:3.067628\n"
       ]
      },
      {
       "output_type": "stream",
       "stream": "stderr",
       "text": [
        "[299]\ttrain-poisson-nloglik:2.977334\tval-poisson-nloglik:3.064084\n",
        "[300]\ttrain-poisson-nloglik:2.973702\tval-poisson-nloglik:3.060467\n"
       ]
      },
      {
       "output_type": "stream",
       "stream": "stderr",
       "text": [
        "[301]\ttrain-poisson-nloglik:2.970292\tval-poisson-nloglik:3.057070\n",
        "[302]\ttrain-poisson-nloglik:2.966828\tval-poisson-nloglik:3.053627\n"
       ]
      },
      {
       "output_type": "stream",
       "stream": "stderr",
       "text": [
        "[303]\ttrain-poisson-nloglik:2.963579\tval-poisson-nloglik:3.050323\n",
        "[304]\ttrain-poisson-nloglik:2.959901\tval-poisson-nloglik:3.046718\n"
       ]
      },
      {
       "output_type": "stream",
       "stream": "stderr",
       "text": [
        "[305]\ttrain-poisson-nloglik:2.956455\tval-poisson-nloglik:3.043351\n",
        "[306]\ttrain-poisson-nloglik:2.953508\tval-poisson-nloglik:3.040348\n"
       ]
      },
      {
       "output_type": "stream",
       "stream": "stderr",
       "text": [
        "[307]\ttrain-poisson-nloglik:2.950050\tval-poisson-nloglik:3.036993\n",
        "[308]\ttrain-poisson-nloglik:2.946764\tval-poisson-nloglik:3.033719\n"
       ]
      },
      {
       "output_type": "stream",
       "stream": "stderr",
       "text": [
        "[309]\ttrain-poisson-nloglik:2.943484\tval-poisson-nloglik:3.030446\n",
        "[310]\ttrain-poisson-nloglik:2.940097\tval-poisson-nloglik:3.027092\n"
       ]
      },
      {
       "output_type": "stream",
       "stream": "stderr",
       "text": [
        "[311]\ttrain-poisson-nloglik:2.937060\tval-poisson-nloglik:3.024070\n",
        "[312]\ttrain-poisson-nloglik:2.934182\tval-poisson-nloglik:3.021164\n"
       ]
      },
      {
       "output_type": "stream",
       "stream": "stderr",
       "text": [
        "[313]\ttrain-poisson-nloglik:2.930985\tval-poisson-nloglik:3.018011\n",
        "[314]\ttrain-poisson-nloglik:2.928135\tval-poisson-nloglik:3.015192\n"
       ]
      },
      {
       "output_type": "stream",
       "stream": "stderr",
       "text": [
        "[315]\ttrain-poisson-nloglik:2.925159\tval-poisson-nloglik:3.012235\n",
        "[316]\ttrain-poisson-nloglik:2.921935\tval-poisson-nloglik:3.009061\n"
       ]
      },
      {
       "output_type": "stream",
       "stream": "stderr",
       "text": [
        "[317]\ttrain-poisson-nloglik:2.919213\tval-poisson-nloglik:3.006313\n",
        "[318]\ttrain-poisson-nloglik:2.916503\tval-poisson-nloglik:3.003578\n"
       ]
      },
      {
       "output_type": "stream",
       "stream": "stderr",
       "text": [
        "[319]\ttrain-poisson-nloglik:2.913255\tval-poisson-nloglik:3.000382\n",
        "[320]\ttrain-poisson-nloglik:2.910600\tval-poisson-nloglik:2.997690\n"
       ]
      },
      {
       "output_type": "stream",
       "stream": "stderr",
       "text": [
        "[321]\ttrain-poisson-nloglik:2.907889\tval-poisson-nloglik:2.994972\n",
        "[322]\ttrain-poisson-nloglik:2.905308\tval-poisson-nloglik:2.992388\n"
       ]
      },
      {
       "output_type": "stream",
       "stream": "stderr",
       "text": [
        "[323]\ttrain-poisson-nloglik:2.902286\tval-poisson-nloglik:2.989362\n",
        "[324]\ttrain-poisson-nloglik:2.899770\tval-poisson-nloglik:2.986812\n"
       ]
      },
      {
       "output_type": "stream",
       "stream": "stderr",
       "text": [
        "[325]\ttrain-poisson-nloglik:2.897094\tval-poisson-nloglik:2.984155\n",
        "[326]\ttrain-poisson-nloglik:2.894701\tval-poisson-nloglik:2.981764\n"
       ]
      },
      {
       "output_type": "stream",
       "stream": "stderr",
       "text": [
        "[327]\ttrain-poisson-nloglik:2.892260\tval-poisson-nloglik:2.979297\n",
        "[328]\ttrain-poisson-nloglik:2.889437\tval-poisson-nloglik:2.976533\n"
       ]
      },
      {
       "output_type": "stream",
       "stream": "stderr",
       "text": [
        "[329]\ttrain-poisson-nloglik:2.887102\tval-poisson-nloglik:2.974189\n",
        "[330]\ttrain-poisson-nloglik:2.884703\tval-poisson-nloglik:2.971805\n"
       ]
      },
      {
       "output_type": "stream",
       "stream": "stderr",
       "text": [
        "[331]\ttrain-poisson-nloglik:2.882092\tval-poisson-nloglik:2.969212\n",
        "[332]\ttrain-poisson-nloglik:2.879357\tval-poisson-nloglik:2.966515\n"
       ]
      },
      {
       "output_type": "stream",
       "stream": "stderr",
       "text": [
        "[333]\ttrain-poisson-nloglik:2.876928\tval-poisson-nloglik:2.964088\n",
        "[334]\ttrain-poisson-nloglik:2.874455\tval-poisson-nloglik:2.961635\n"
       ]
      },
      {
       "output_type": "stream",
       "stream": "stderr",
       "text": [
        "[335]\ttrain-poisson-nloglik:2.871779\tval-poisson-nloglik:2.959000\n",
        "[336]\ttrain-poisson-nloglik:2.869173\tval-poisson-nloglik:2.956444\n"
       ]
      },
      {
       "output_type": "stream",
       "stream": "stderr",
       "text": [
        "[337]\ttrain-poisson-nloglik:2.866826\tval-poisson-nloglik:2.954117\n",
        "[338]\ttrain-poisson-nloglik:2.864160\tval-poisson-nloglik:2.951512\n"
       ]
      },
      {
       "output_type": "stream",
       "stream": "stderr",
       "text": [
        "[339]\ttrain-poisson-nloglik:2.861847\tval-poisson-nloglik:2.949208\n",
        "[340]\ttrain-poisson-nloglik:2.859632\tval-poisson-nloglik:2.946991\n"
       ]
      },
      {
       "output_type": "stream",
       "stream": "stderr",
       "text": [
        "[341]\ttrain-poisson-nloglik:2.857364\tval-poisson-nloglik:2.944776\n",
        "[342]\ttrain-poisson-nloglik:2.855272\tval-poisson-nloglik:2.942704\n"
       ]
      },
      {
       "output_type": "stream",
       "stream": "stderr",
       "text": [
        "[343]\ttrain-poisson-nloglik:2.852885\tval-poisson-nloglik:2.940368\n",
        "[344]\ttrain-poisson-nloglik:2.850351\tval-poisson-nloglik:2.937891\n"
       ]
      },
      {
       "output_type": "stream",
       "stream": "stderr",
       "text": [
        "[345]\ttrain-poisson-nloglik:2.848282\tval-poisson-nloglik:2.935820\n",
        "[346]\ttrain-poisson-nloglik:2.845917\tval-poisson-nloglik:2.933504\n"
       ]
      },
      {
       "output_type": "stream",
       "stream": "stderr",
       "text": [
        "[347]\ttrain-poisson-nloglik:2.843514\tval-poisson-nloglik:2.931118\n",
        "[348]\ttrain-poisson-nloglik:2.841505\tval-poisson-nloglik:2.929102\n"
       ]
      },
      {
       "output_type": "stream",
       "stream": "stderr",
       "text": [
        "[349]\ttrain-poisson-nloglik:2.839015\tval-poisson-nloglik:2.926654\n",
        "[350]\ttrain-poisson-nloglik:2.837014\tval-poisson-nloglik:2.924663\n"
       ]
      },
      {
       "output_type": "stream",
       "stream": "stderr",
       "text": [
        "[351]\ttrain-poisson-nloglik:2.834707\tval-poisson-nloglik:2.922368\n",
        "[352]\ttrain-poisson-nloglik:2.832674\tval-poisson-nloglik:2.920353\n"
       ]
      },
      {
       "output_type": "stream",
       "stream": "stderr",
       "text": [
        "[353]\ttrain-poisson-nloglik:2.830766\tval-poisson-nloglik:2.918457\n",
        "[354]\ttrain-poisson-nloglik:2.828881\tval-poisson-nloglik:2.916565\n"
       ]
      },
      {
       "output_type": "stream",
       "stream": "stderr",
       "text": [
        "[355]\ttrain-poisson-nloglik:2.826776\tval-poisson-nloglik:2.914477\n",
        "[356]\ttrain-poisson-nloglik:2.825021\tval-poisson-nloglik:2.912699\n"
       ]
      },
      {
       "output_type": "stream",
       "stream": "stderr",
       "text": [
        "[357]\ttrain-poisson-nloglik:2.823280\tval-poisson-nloglik:2.910972\n",
        "[358]\ttrain-poisson-nloglik:2.821270\tval-poisson-nloglik:2.908998\n"
       ]
      },
      {
       "output_type": "stream",
       "stream": "stderr",
       "text": [
        "[359]\ttrain-poisson-nloglik:2.819546\tval-poisson-nloglik:2.907257\n",
        "[360]\ttrain-poisson-nloglik:2.817577\tval-poisson-nloglik:2.905272\n"
       ]
      },
      {
       "output_type": "stream",
       "stream": "stderr",
       "text": [
        "[361]\ttrain-poisson-nloglik:2.815676\tval-poisson-nloglik:2.903378\n",
        "[362]\ttrain-poisson-nloglik:2.813745\tval-poisson-nloglik:2.901511\n"
       ]
      },
      {
       "output_type": "stream",
       "stream": "stderr",
       "text": [
        "[363]\ttrain-poisson-nloglik:2.811614\tval-poisson-nloglik:2.899428\n",
        "[364]\ttrain-poisson-nloglik:2.809586\tval-poisson-nloglik:2.897467\n"
       ]
      },
      {
       "output_type": "stream",
       "stream": "stderr",
       "text": [
        "[365]\ttrain-poisson-nloglik:2.807750\tval-poisson-nloglik:2.895658\n",
        "[366]\ttrain-poisson-nloglik:2.805714\tval-poisson-nloglik:2.893675\n"
       ]
      },
      {
       "output_type": "stream",
       "stream": "stderr",
       "text": [
        "[367]\ttrain-poisson-nloglik:2.803883\tval-poisson-nloglik:2.891863\n",
        "[368]\ttrain-poisson-nloglik:2.802261\tval-poisson-nloglik:2.890271\n"
       ]
      },
      {
       "output_type": "stream",
       "stream": "stderr",
       "text": [
        "[369]\ttrain-poisson-nloglik:2.800701\tval-poisson-nloglik:2.888730\n",
        "[370]\ttrain-poisson-nloglik:2.798708\tval-poisson-nloglik:2.886788\n"
       ]
      },
      {
       "output_type": "stream",
       "stream": "stderr",
       "text": [
        "[371]\ttrain-poisson-nloglik:2.796996\tval-poisson-nloglik:2.885083\n",
        "[372]\ttrain-poisson-nloglik:2.795164\tval-poisson-nloglik:2.883291\n"
       ]
      },
      {
       "output_type": "stream",
       "stream": "stderr",
       "text": [
        "[373]\ttrain-poisson-nloglik:2.793053\tval-poisson-nloglik:2.881278\n",
        "[374]\ttrain-poisson-nloglik:2.791371\tval-poisson-nloglik:2.879672\n"
       ]
      },
      {
       "output_type": "stream",
       "stream": "stderr",
       "text": [
        "[375]\ttrain-poisson-nloglik:2.789600\tval-poisson-nloglik:2.877951\n",
        "[376]\ttrain-poisson-nloglik:2.787803\tval-poisson-nloglik:2.876202\n"
       ]
      },
      {
       "output_type": "stream",
       "stream": "stderr",
       "text": [
        "[377]\ttrain-poisson-nloglik:2.785818\tval-poisson-nloglik:2.874301\n",
        "[378]\ttrain-poisson-nloglik:2.784136\tval-poisson-nloglik:2.872578\n"
       ]
      },
      {
       "output_type": "stream",
       "stream": "stderr",
       "text": [
        "[379]\ttrain-poisson-nloglik:2.782227\tval-poisson-nloglik:2.870774\n",
        "[380]\ttrain-poisson-nloglik:2.780723\tval-poisson-nloglik:2.869294\n"
       ]
      },
      {
       "output_type": "stream",
       "stream": "stderr",
       "text": [
        "[381]\ttrain-poisson-nloglik:2.779187\tval-poisson-nloglik:2.867796\n",
        "[382]\ttrain-poisson-nloglik:2.777696\tval-poisson-nloglik:2.866300\n"
       ]
      },
      {
       "output_type": "stream",
       "stream": "stderr",
       "text": [
        "[383]\ttrain-poisson-nloglik:2.776382\tval-poisson-nloglik:2.864957\n",
        "[384]\ttrain-poisson-nloglik:2.774919\tval-poisson-nloglik:2.863514\n"
       ]
      },
      {
       "output_type": "stream",
       "stream": "stderr",
       "text": [
        "[385]\ttrain-poisson-nloglik:2.773481\tval-poisson-nloglik:2.862055\n",
        "[386]\ttrain-poisson-nloglik:2.772071\tval-poisson-nloglik:2.860657\n"
       ]
      },
      {
       "output_type": "stream",
       "stream": "stderr",
       "text": [
        "[387]\ttrain-poisson-nloglik:2.770639\tval-poisson-nloglik:2.859217\n",
        "[388]\ttrain-poisson-nloglik:2.769205\tval-poisson-nloglik:2.857814\n"
       ]
      },
      {
       "output_type": "stream",
       "stream": "stderr",
       "text": [
        "[389]\ttrain-poisson-nloglik:2.767800\tval-poisson-nloglik:2.856427\n",
        "[390]\ttrain-poisson-nloglik:2.766291\tval-poisson-nloglik:2.854958\n"
       ]
      },
      {
       "output_type": "stream",
       "stream": "stderr",
       "text": [
        "[391]\ttrain-poisson-nloglik:2.764587\tval-poisson-nloglik:2.853344\n",
        "[392]\ttrain-poisson-nloglik:2.763152\tval-poisson-nloglik:2.851929\n"
       ]
      },
      {
       "output_type": "stream",
       "stream": "stderr",
       "text": [
        "[393]\ttrain-poisson-nloglik:2.761379\tval-poisson-nloglik:2.850206\n",
        "[394]\ttrain-poisson-nloglik:2.759793\tval-poisson-nloglik:2.848656\n"
       ]
      },
      {
       "output_type": "stream",
       "stream": "stderr",
       "text": [
        "[395]\ttrain-poisson-nloglik:2.758418\tval-poisson-nloglik:2.847243\n",
        "[396]\ttrain-poisson-nloglik:2.757041\tval-poisson-nloglik:2.845896\n"
       ]
      },
      {
       "output_type": "stream",
       "stream": "stderr",
       "text": [
        "[397]\ttrain-poisson-nloglik:2.755761\tval-poisson-nloglik:2.844588\n",
        "[398]\ttrain-poisson-nloglik:2.754425\tval-poisson-nloglik:2.843286\n"
       ]
      },
      {
       "output_type": "stream",
       "stream": "stderr",
       "text": [
        "[399]\ttrain-poisson-nloglik:2.752933\tval-poisson-nloglik:2.841812\n",
        "[400]\ttrain-poisson-nloglik:2.751604\tval-poisson-nloglik:2.840506\n"
       ]
      },
      {
       "output_type": "stream",
       "stream": "stderr",
       "text": [
        "[401]\ttrain-poisson-nloglik:2.750216\tval-poisson-nloglik:2.839170\n",
        "[402]\ttrain-poisson-nloglik:2.749068\tval-poisson-nloglik:2.838021\n"
       ]
      },
      {
       "output_type": "stream",
       "stream": "stderr",
       "text": [
        "[403]\ttrain-poisson-nloglik:2.747860\tval-poisson-nloglik:2.836840\n",
        "[404]\ttrain-poisson-nloglik:2.746364\tval-poisson-nloglik:2.835400\n"
       ]
      },
      {
       "output_type": "stream",
       "stream": "stderr",
       "text": [
        "[405]\ttrain-poisson-nloglik:2.745213\tval-poisson-nloglik:2.834234\n",
        "[406]\ttrain-poisson-nloglik:2.743679\tval-poisson-nloglik:2.832802\n"
       ]
      },
      {
       "output_type": "stream",
       "stream": "stderr",
       "text": [
        "[407]\ttrain-poisson-nloglik:2.742360\tval-poisson-nloglik:2.831547\n",
        "[408]\ttrain-poisson-nloglik:2.741074\tval-poisson-nloglik:2.830263\n"
       ]
      },
      {
       "output_type": "stream",
       "stream": "stderr",
       "text": [
        "[409]\ttrain-poisson-nloglik:2.739986\tval-poisson-nloglik:2.829169\n",
        "[410]\ttrain-poisson-nloglik:2.738776\tval-poisson-nloglik:2.827978\n"
       ]
      },
      {
       "output_type": "stream",
       "stream": "stderr",
       "text": [
        "[411]\ttrain-poisson-nloglik:2.737106\tval-poisson-nloglik:2.826406\n",
        "[412]\ttrain-poisson-nloglik:2.735707\tval-poisson-nloglik:2.825051\n"
       ]
      },
      {
       "output_type": "stream",
       "stream": "stderr",
       "text": [
        "[413]\ttrain-poisson-nloglik:2.734464\tval-poisson-nloglik:2.823815\n",
        "[414]\ttrain-poisson-nloglik:2.732919\tval-poisson-nloglik:2.822291\n"
       ]
      },
      {
       "output_type": "stream",
       "stream": "stderr",
       "text": [
        "[415]\ttrain-poisson-nloglik:2.731890\tval-poisson-nloglik:2.821267\n",
        "[416]\ttrain-poisson-nloglik:2.730608\tval-poisson-nloglik:2.820029\n"
       ]
      },
      {
       "output_type": "stream",
       "stream": "stderr",
       "text": [
        "[417]\ttrain-poisson-nloglik:2.729609\tval-poisson-nloglik:2.819046\n",
        "[418]\ttrain-poisson-nloglik:2.728376\tval-poisson-nloglik:2.817832\n"
       ]
      },
      {
       "output_type": "stream",
       "stream": "stderr",
       "text": [
        "[419]\ttrain-poisson-nloglik:2.727014\tval-poisson-nloglik:2.816496\n",
        "[420]\ttrain-poisson-nloglik:2.725758\tval-poisson-nloglik:2.815306\n"
       ]
      },
      {
       "output_type": "stream",
       "stream": "stderr",
       "text": [
        "[421]\ttrain-poisson-nloglik:2.724760\tval-poisson-nloglik:2.814322\n",
        "[422]\ttrain-poisson-nloglik:2.723790\tval-poisson-nloglik:2.813352\n"
       ]
      },
      {
       "output_type": "stream",
       "stream": "stderr",
       "text": [
        "[423]\ttrain-poisson-nloglik:2.722445\tval-poisson-nloglik:2.812022\n",
        "[424]\ttrain-poisson-nloglik:2.721440\tval-poisson-nloglik:2.811050\n"
       ]
      },
      {
       "output_type": "stream",
       "stream": "stderr",
       "text": [
        "[425]\ttrain-poisson-nloglik:2.720534\tval-poisson-nloglik:2.810152\n",
        "[426]\ttrain-poisson-nloglik:2.719291\tval-poisson-nloglik:2.808936\n"
       ]
      },
      {
       "output_type": "stream",
       "stream": "stderr",
       "text": [
        "[427]\ttrain-poisson-nloglik:2.718223\tval-poisson-nloglik:2.807895\n",
        "[428]\ttrain-poisson-nloglik:2.717151\tval-poisson-nloglik:2.806834\n"
       ]
      },
      {
       "output_type": "stream",
       "stream": "stderr",
       "text": [
        "[429]\ttrain-poisson-nloglik:2.715953\tval-poisson-nloglik:2.805668\n",
        "[430]\ttrain-poisson-nloglik:2.714747\tval-poisson-nloglik:2.804528\n"
       ]
      },
      {
       "output_type": "stream",
       "stream": "stderr",
       "text": [
        "[431]\ttrain-poisson-nloglik:2.713496\tval-poisson-nloglik:2.803368\n",
        "[432]\ttrain-poisson-nloglik:2.712270\tval-poisson-nloglik:2.802198\n"
       ]
      },
      {
       "output_type": "stream",
       "stream": "stderr",
       "text": [
        "[433]\ttrain-poisson-nloglik:2.711093\tval-poisson-nloglik:2.801101\n",
        "[434]\ttrain-poisson-nloglik:2.709869\tval-poisson-nloglik:2.799916\n"
       ]
      },
      {
       "output_type": "stream",
       "stream": "stderr",
       "text": [
        "[435]\ttrain-poisson-nloglik:2.708877\tval-poisson-nloglik:2.798944\n",
        "[436]\ttrain-poisson-nloglik:2.707692\tval-poisson-nloglik:2.797818\n"
       ]
      },
      {
       "output_type": "stream",
       "stream": "stderr",
       "text": [
        "[437]\ttrain-poisson-nloglik:2.706655\tval-poisson-nloglik:2.796849\n",
        "[438]\ttrain-poisson-nloglik:2.705626\tval-poisson-nloglik:2.795865\n"
       ]
      },
      {
       "output_type": "stream",
       "stream": "stderr",
       "text": [
        "[439]\ttrain-poisson-nloglik:2.704531\tval-poisson-nloglik:2.794817\n",
        "[440]\ttrain-poisson-nloglik:2.703617\tval-poisson-nloglik:2.793925\n"
       ]
      },
      {
       "output_type": "stream",
       "stream": "stderr",
       "text": [
        "[441]\ttrain-poisson-nloglik:2.702436\tval-poisson-nloglik:2.792807\n",
        "[442]\ttrain-poisson-nloglik:2.701559\tval-poisson-nloglik:2.791980\n"
       ]
      },
      {
       "output_type": "stream",
       "stream": "stderr",
       "text": [
        "[443]\ttrain-poisson-nloglik:2.700539\tval-poisson-nloglik:2.790980\n",
        "[444]\ttrain-poisson-nloglik:2.699714\tval-poisson-nloglik:2.790156\n"
       ]
      },
      {
       "output_type": "stream",
       "stream": "stderr",
       "text": [
        "[445]\ttrain-poisson-nloglik:2.698487\tval-poisson-nloglik:2.788973\n",
        "[446]\ttrain-poisson-nloglik:2.697686\tval-poisson-nloglik:2.788208\n"
       ]
      },
      {
       "output_type": "stream",
       "stream": "stderr",
       "text": [
        "[447]\ttrain-poisson-nloglik:2.696712\tval-poisson-nloglik:2.787284\n",
        "[448]\ttrain-poisson-nloglik:2.695731\tval-poisson-nloglik:2.786333\n"
       ]
      },
      {
       "output_type": "stream",
       "stream": "stderr",
       "text": [
        "[449]\ttrain-poisson-nloglik:2.694846\tval-poisson-nloglik:2.785472\n",
        "[450]\ttrain-poisson-nloglik:2.694074\tval-poisson-nloglik:2.784699\n"
       ]
      },
      {
       "output_type": "stream",
       "stream": "stderr",
       "text": [
        "[451]\ttrain-poisson-nloglik:2.693165\tval-poisson-nloglik:2.783814\n",
        "[452]\ttrain-poisson-nloglik:2.692057\tval-poisson-nloglik:2.782783\n"
       ]
      },
      {
       "output_type": "stream",
       "stream": "stderr",
       "text": [
        "[453]\ttrain-poisson-nloglik:2.690971\tval-poisson-nloglik:2.781762\n",
        "[454]\ttrain-poisson-nloglik:2.689977\tval-poisson-nloglik:2.780782\n"
       ]
      },
      {
       "output_type": "stream",
       "stream": "stderr",
       "text": [
        "[455]\ttrain-poisson-nloglik:2.689273\tval-poisson-nloglik:2.780092\n",
        "[456]\ttrain-poisson-nloglik:2.688052\tval-poisson-nloglik:2.778946\n"
       ]
      },
      {
       "output_type": "stream",
       "stream": "stderr",
       "text": [
        "[457]\ttrain-poisson-nloglik:2.686907\tval-poisson-nloglik:2.777910\n",
        "[458]\ttrain-poisson-nloglik:2.685886\tval-poisson-nloglik:2.776913\n"
       ]
      },
      {
       "output_type": "stream",
       "stream": "stderr",
       "text": [
        "[459]\ttrain-poisson-nloglik:2.685084\tval-poisson-nloglik:2.776172\n",
        "[460]\ttrain-poisson-nloglik:2.684200\tval-poisson-nloglik:2.775288\n"
       ]
      },
      {
       "output_type": "stream",
       "stream": "stderr",
       "text": [
        "[461]\ttrain-poisson-nloglik:2.683352\tval-poisson-nloglik:2.774488\n",
        "[462]\ttrain-poisson-nloglik:2.682703\tval-poisson-nloglik:2.773859\n"
       ]
      },
      {
       "output_type": "stream",
       "stream": "stderr",
       "text": [
        "[463]\ttrain-poisson-nloglik:2.682029\tval-poisson-nloglik:2.773181\n",
        "[464]\ttrain-poisson-nloglik:2.681416\tval-poisson-nloglik:2.772565\n"
       ]
      },
      {
       "output_type": "stream",
       "stream": "stderr",
       "text": [
        "[465]\ttrain-poisson-nloglik:2.680633\tval-poisson-nloglik:2.771801\n",
        "[466]\ttrain-poisson-nloglik:2.679906\tval-poisson-nloglik:2.771111\n"
       ]
      },
      {
       "output_type": "stream",
       "stream": "stderr",
       "text": [
        "[467]\ttrain-poisson-nloglik:2.679060\tval-poisson-nloglik:2.770309\n",
        "[468]\ttrain-poisson-nloglik:2.678447\tval-poisson-nloglik:2.769711\n"
       ]
      },
      {
       "output_type": "stream",
       "stream": "stderr",
       "text": [
        "[469]\ttrain-poisson-nloglik:2.677757\tval-poisson-nloglik:2.769039\n",
        "[470]\ttrain-poisson-nloglik:2.676687\tval-poisson-nloglik:2.768029\n"
       ]
      },
      {
       "output_type": "stream",
       "stream": "stderr",
       "text": [
        "[471]\ttrain-poisson-nloglik:2.675571\tval-poisson-nloglik:2.767015\n",
        "[472]\ttrain-poisson-nloglik:2.674686\tval-poisson-nloglik:2.766187\n"
       ]
      },
      {
       "output_type": "stream",
       "stream": "stderr",
       "text": [
        "[473]\ttrain-poisson-nloglik:2.673815\tval-poisson-nloglik:2.765391\n",
        "[474]\ttrain-poisson-nloglik:2.672978\tval-poisson-nloglik:2.764623\n"
       ]
      },
      {
       "output_type": "stream",
       "stream": "stderr",
       "text": [
        "[475]\ttrain-poisson-nloglik:2.672174\tval-poisson-nloglik:2.763865\n",
        "[476]\ttrain-poisson-nloglik:2.671316\tval-poisson-nloglik:2.763080\n"
       ]
      },
      {
       "output_type": "stream",
       "stream": "stderr",
       "text": [
        "[477]\ttrain-poisson-nloglik:2.670710\tval-poisson-nloglik:2.762496\n",
        "[478]\ttrain-poisson-nloglik:2.669966\tval-poisson-nloglik:2.761790\n"
       ]
      },
      {
       "output_type": "stream",
       "stream": "stderr",
       "text": [
        "[479]\ttrain-poisson-nloglik:2.669268\tval-poisson-nloglik:2.761122\n",
        "[480]\ttrain-poisson-nloglik:2.668557\tval-poisson-nloglik:2.760415\n"
       ]
      },
      {
       "output_type": "stream",
       "stream": "stderr",
       "text": [
        "[481]\ttrain-poisson-nloglik:2.667612\tval-poisson-nloglik:2.759550\n",
        "[482]\ttrain-poisson-nloglik:2.666808\tval-poisson-nloglik:2.758812\n"
       ]
      },
      {
       "output_type": "stream",
       "stream": "stderr",
       "text": [
        "[483]\ttrain-poisson-nloglik:2.665847\tval-poisson-nloglik:2.757925\n",
        "[484]\ttrain-poisson-nloglik:2.665027\tval-poisson-nloglik:2.757154\n"
       ]
      },
      {
       "output_type": "stream",
       "stream": "stderr",
       "text": [
        "[485]\ttrain-poisson-nloglik:2.664280\tval-poisson-nloglik:2.756420\n",
        "[486]\ttrain-poisson-nloglik:2.663725\tval-poisson-nloglik:2.755913\n"
       ]
      },
      {
       "output_type": "stream",
       "stream": "stderr",
       "text": [
        "[487]\ttrain-poisson-nloglik:2.663156\tval-poisson-nloglik:2.755336\n",
        "[488]\ttrain-poisson-nloglik:2.662322\tval-poisson-nloglik:2.754575\n"
       ]
      },
      {
       "output_type": "stream",
       "stream": "stderr",
       "text": [
        "[489]\ttrain-poisson-nloglik:2.661530\tval-poisson-nloglik:2.753813\n",
        "[490]\ttrain-poisson-nloglik:2.660686\tval-poisson-nloglik:2.753041\n"
       ]
      },
      {
       "output_type": "stream",
       "stream": "stderr",
       "text": [
        "[491]\ttrain-poisson-nloglik:2.659613\tval-poisson-nloglik:2.752042\n",
        "[492]\ttrain-poisson-nloglik:2.658895\tval-poisson-nloglik:2.751333\n"
       ]
      },
      {
       "output_type": "stream",
       "stream": "stderr",
       "text": [
        "[493]\ttrain-poisson-nloglik:2.658099\tval-poisson-nloglik:2.750606\n",
        "[494]\ttrain-poisson-nloglik:2.657182\tval-poisson-nloglik:2.749686\n"
       ]
      },
      {
       "output_type": "stream",
       "stream": "stderr",
       "text": [
        "[495]\ttrain-poisson-nloglik:2.656326\tval-poisson-nloglik:2.748869\n",
        "[496]\ttrain-poisson-nloglik:2.655401\tval-poisson-nloglik:2.747991\n"
       ]
      },
      {
       "output_type": "stream",
       "stream": "stderr",
       "text": [
        "[497]\ttrain-poisson-nloglik:2.654771\tval-poisson-nloglik:2.747388\n",
        "[498]\ttrain-poisson-nloglik:2.654289\tval-poisson-nloglik:2.746927\n"
       ]
      },
      {
       "output_type": "stream",
       "stream": "stderr",
       "text": [
        "[499]\ttrain-poisson-nloglik:2.653438\tval-poisson-nloglik:2.746152\n",
        "[500]\ttrain-poisson-nloglik:2.652631\tval-poisson-nloglik:2.745361\n"
       ]
      },
      {
       "output_type": "stream",
       "stream": "stderr",
       "text": [
        "[501]\ttrain-poisson-nloglik:2.651705\tval-poisson-nloglik:2.744507\n",
        "[502]\ttrain-poisson-nloglik:2.651221\tval-poisson-nloglik:2.744017\n"
       ]
      },
      {
       "output_type": "stream",
       "stream": "stderr",
       "text": [
        "[503]\ttrain-poisson-nloglik:2.650545\tval-poisson-nloglik:2.743371\n",
        "[504]\ttrain-poisson-nloglik:2.649755\tval-poisson-nloglik:2.742620\n"
       ]
      },
      {
       "output_type": "stream",
       "stream": "stderr",
       "text": [
        "[505]\ttrain-poisson-nloglik:2.648940\tval-poisson-nloglik:2.741841\n",
        "[506]\ttrain-poisson-nloglik:2.648147\tval-poisson-nloglik:2.741153\n"
       ]
      },
      {
       "output_type": "stream",
       "stream": "stderr",
       "text": [
        "[507]\ttrain-poisson-nloglik:2.647310\tval-poisson-nloglik:2.740344\n",
        "[508]\ttrain-poisson-nloglik:2.646811\tval-poisson-nloglik:2.739843\n"
       ]
      },
      {
       "output_type": "stream",
       "stream": "stderr",
       "text": [
        "[509]\ttrain-poisson-nloglik:2.646216\tval-poisson-nloglik:2.739290\n",
        "[510]\ttrain-poisson-nloglik:2.645322\tval-poisson-nloglik:2.738480\n"
       ]
      },
      {
       "output_type": "stream",
       "stream": "stderr",
       "text": [
        "[511]\ttrain-poisson-nloglik:2.644690\tval-poisson-nloglik:2.737862\n",
        "[512]\ttrain-poisson-nloglik:2.644030\tval-poisson-nloglik:2.737244\n"
       ]
      },
      {
       "output_type": "stream",
       "stream": "stderr",
       "text": [
        "[513]\ttrain-poisson-nloglik:2.643219\tval-poisson-nloglik:2.736465\n",
        "[514]\ttrain-poisson-nloglik:2.642600\tval-poisson-nloglik:2.735898\n"
       ]
      },
      {
       "output_type": "stream",
       "stream": "stderr",
       "text": [
        "[515]\ttrain-poisson-nloglik:2.641988\tval-poisson-nloglik:2.735326\n",
        "[516]\ttrain-poisson-nloglik:2.641337\tval-poisson-nloglik:2.734734\n"
       ]
      },
      {
       "output_type": "stream",
       "stream": "stderr",
       "text": [
        "[517]\ttrain-poisson-nloglik:2.640443\tval-poisson-nloglik:2.733885\n",
        "[518]\ttrain-poisson-nloglik:2.639894\tval-poisson-nloglik:2.733372\n"
       ]
      },
      {
       "output_type": "stream",
       "stream": "stderr",
       "text": [
        "[519]\ttrain-poisson-nloglik:2.639459\tval-poisson-nloglik:2.732960\n",
        "[520]\ttrain-poisson-nloglik:2.638784\tval-poisson-nloglik:2.732343\n"
       ]
      },
      {
       "output_type": "stream",
       "stream": "stderr",
       "text": [
        "[521]\ttrain-poisson-nloglik:2.638083\tval-poisson-nloglik:2.731683\n",
        "[522]\ttrain-poisson-nloglik:2.637384\tval-poisson-nloglik:2.731010\n"
       ]
      },
      {
       "output_type": "stream",
       "stream": "stderr",
       "text": [
        "[523]\ttrain-poisson-nloglik:2.636855\tval-poisson-nloglik:2.730546\n",
        "[524]\ttrain-poisson-nloglik:2.636328\tval-poisson-nloglik:2.730018\n"
       ]
      },
      {
       "output_type": "stream",
       "stream": "stderr",
       "text": [
        "[525]\ttrain-poisson-nloglik:2.635861\tval-poisson-nloglik:2.729588\n",
        "[526]\ttrain-poisson-nloglik:2.635347\tval-poisson-nloglik:2.729140\n"
       ]
      },
      {
       "output_type": "stream",
       "stream": "stderr",
       "text": [
        "[527]\ttrain-poisson-nloglik:2.634724\tval-poisson-nloglik:2.728558\n",
        "[528]\ttrain-poisson-nloglik:2.634134\tval-poisson-nloglik:2.728032\n"
       ]
      },
      {
       "output_type": "stream",
       "stream": "stderr",
       "text": [
        "[529]\ttrain-poisson-nloglik:2.633442\tval-poisson-nloglik:2.727429\n",
        "[530]\ttrain-poisson-nloglik:2.632725\tval-poisson-nloglik:2.726770\n"
       ]
      },
      {
       "output_type": "stream",
       "stream": "stderr",
       "text": [
        "[531]\ttrain-poisson-nloglik:2.632089\tval-poisson-nloglik:2.726209\n",
        "[532]\ttrain-poisson-nloglik:2.631521\tval-poisson-nloglik:2.725672\n"
       ]
      },
      {
       "output_type": "stream",
       "stream": "stderr",
       "text": [
        "[533]\ttrain-poisson-nloglik:2.630922\tval-poisson-nloglik:2.725144\n",
        "[534]\ttrain-poisson-nloglik:2.630427\tval-poisson-nloglik:2.724671\n"
       ]
      },
      {
       "output_type": "stream",
       "stream": "stderr",
       "text": [
        "[535]\ttrain-poisson-nloglik:2.629884\tval-poisson-nloglik:2.724178\n",
        "[536]\ttrain-poisson-nloglik:2.629395\tval-poisson-nloglik:2.723727\n"
       ]
      },
      {
       "output_type": "stream",
       "stream": "stderr",
       "text": [
        "[537]\ttrain-poisson-nloglik:2.628615\tval-poisson-nloglik:2.723021\n",
        "[538]\ttrain-poisson-nloglik:2.628235\tval-poisson-nloglik:2.722673\n"
       ]
      },
      {
       "output_type": "stream",
       "stream": "stderr",
       "text": [
        "[539]\ttrain-poisson-nloglik:2.627768\tval-poisson-nloglik:2.722227\n",
        "[540]\ttrain-poisson-nloglik:2.627236\tval-poisson-nloglik:2.721714\n"
       ]
      },
      {
       "output_type": "stream",
       "stream": "stderr",
       "text": [
        "[541]\ttrain-poisson-nloglik:2.626901\tval-poisson-nloglik:2.721385\n",
        "[542]\ttrain-poisson-nloglik:2.626193\tval-poisson-nloglik:2.720740\n"
       ]
      },
      {
       "output_type": "stream",
       "stream": "stderr",
       "text": [
        "[543]\ttrain-poisson-nloglik:2.625498\tval-poisson-nloglik:2.720075\n",
        "[544]\ttrain-poisson-nloglik:2.624865\tval-poisson-nloglik:2.719473\n"
       ]
      },
      {
       "output_type": "stream",
       "stream": "stderr",
       "text": [
        "[545]\ttrain-poisson-nloglik:2.624360\tval-poisson-nloglik:2.719021\n",
        "[546]\ttrain-poisson-nloglik:2.624010\tval-poisson-nloglik:2.718679\n"
       ]
      },
      {
       "output_type": "stream",
       "stream": "stderr",
       "text": [
        "[547]\ttrain-poisson-nloglik:2.623701\tval-poisson-nloglik:2.718393\n",
        "[548]\ttrain-poisson-nloglik:2.623316\tval-poisson-nloglik:2.718030\n"
       ]
      },
      {
       "output_type": "stream",
       "stream": "stderr",
       "text": [
        "[549]\ttrain-poisson-nloglik:2.622852\tval-poisson-nloglik:2.717602\n",
        "[550]\ttrain-poisson-nloglik:2.622258\tval-poisson-nloglik:2.717053\n"
       ]
      },
      {
       "output_type": "stream",
       "stream": "stderr",
       "text": [
        "[551]\ttrain-poisson-nloglik:2.621964\tval-poisson-nloglik:2.716765\n",
        "[552]\ttrain-poisson-nloglik:2.621403\tval-poisson-nloglik:2.716261\n"
       ]
      },
      {
       "output_type": "stream",
       "stream": "stderr",
       "text": [
        "[553]\ttrain-poisson-nloglik:2.620827\tval-poisson-nloglik:2.715746\n",
        "[554]\ttrain-poisson-nloglik:2.620401\tval-poisson-nloglik:2.715331\n"
       ]
      },
      {
       "output_type": "stream",
       "stream": "stderr",
       "text": [
        "[555]\ttrain-poisson-nloglik:2.619822\tval-poisson-nloglik:2.714799\n",
        "[556]\ttrain-poisson-nloglik:2.619100\tval-poisson-nloglik:2.714144\n"
       ]
      },
      {
       "output_type": "stream",
       "stream": "stderr",
       "text": [
        "[557]\ttrain-poisson-nloglik:2.618339\tval-poisson-nloglik:2.713427\n",
        "[558]\ttrain-poisson-nloglik:2.617728\tval-poisson-nloglik:2.712855\n"
       ]
      },
      {
       "output_type": "stream",
       "stream": "stderr",
       "text": [
        "[559]\ttrain-poisson-nloglik:2.616988\tval-poisson-nloglik:2.712252\n",
        "[560]\ttrain-poisson-nloglik:2.616412\tval-poisson-nloglik:2.711697\n"
       ]
      },
      {
       "output_type": "stream",
       "stream": "stderr",
       "text": [
        "[561]\ttrain-poisson-nloglik:2.616070\tval-poisson-nloglik:2.711355\n",
        "[562]\ttrain-poisson-nloglik:2.615310\tval-poisson-nloglik:2.710651\n"
       ]
      },
      {
       "output_type": "stream",
       "stream": "stderr",
       "text": [
        "[563]\ttrain-poisson-nloglik:2.614809\tval-poisson-nloglik:2.710198\n",
        "[564]\ttrain-poisson-nloglik:2.614518\tval-poisson-nloglik:2.709913\n"
       ]
      },
      {
       "output_type": "stream",
       "stream": "stderr",
       "text": [
        "[565]\ttrain-poisson-nloglik:2.613997\tval-poisson-nloglik:2.709455\n",
        "[566]\ttrain-poisson-nloglik:2.613644\tval-poisson-nloglik:2.709131\n"
       ]
      },
      {
       "output_type": "stream",
       "stream": "stderr",
       "text": [
        "[567]\ttrain-poisson-nloglik:2.613251\tval-poisson-nloglik:2.708783\n",
        "[568]\ttrain-poisson-nloglik:2.612725\tval-poisson-nloglik:2.708289\n"
       ]
      },
      {
       "output_type": "stream",
       "stream": "stderr",
       "text": [
        "[569]\ttrain-poisson-nloglik:2.612416\tval-poisson-nloglik:2.708000\n",
        "[570]\ttrain-poisson-nloglik:2.612073\tval-poisson-nloglik:2.707658\n"
       ]
      },
      {
       "output_type": "stream",
       "stream": "stderr",
       "text": [
        "[571]\ttrain-poisson-nloglik:2.611631\tval-poisson-nloglik:2.707288\n",
        "[572]\ttrain-poisson-nloglik:2.611302\tval-poisson-nloglik:2.706971\n"
       ]
      },
      {
       "output_type": "stream",
       "stream": "stderr",
       "text": [
        "[573]\ttrain-poisson-nloglik:2.611053\tval-poisson-nloglik:2.706718\n",
        "[574]\ttrain-poisson-nloglik:2.610533\tval-poisson-nloglik:2.706248\n"
       ]
      },
      {
       "output_type": "stream",
       "stream": "stderr",
       "text": [
        "[575]\ttrain-poisson-nloglik:2.609953\tval-poisson-nloglik:2.705723\n",
        "[576]\ttrain-poisson-nloglik:2.609510\tval-poisson-nloglik:2.705302\n"
       ]
      },
      {
       "output_type": "stream",
       "stream": "stderr",
       "text": [
        "[577]\ttrain-poisson-nloglik:2.608949\tval-poisson-nloglik:2.704762\n",
        "[578]\ttrain-poisson-nloglik:2.608143\tval-poisson-nloglik:2.704014\n"
       ]
      },
      {
       "output_type": "stream",
       "stream": "stderr",
       "text": [
        "[579]\ttrain-poisson-nloglik:2.607664\tval-poisson-nloglik:2.703573\n",
        "[580]\ttrain-poisson-nloglik:2.607412\tval-poisson-nloglik:2.703345\n"
       ]
      },
      {
       "output_type": "stream",
       "stream": "stderr",
       "text": [
        "[581]\ttrain-poisson-nloglik:2.606605\tval-poisson-nloglik:2.702628\n",
        "[582]\ttrain-poisson-nloglik:2.606103\tval-poisson-nloglik:2.702156\n"
       ]
      },
      {
       "output_type": "stream",
       "stream": "stderr",
       "text": [
        "[583]\ttrain-poisson-nloglik:2.605632\tval-poisson-nloglik:2.701704\n",
        "[584]\ttrain-poisson-nloglik:2.605011\tval-poisson-nloglik:2.701151\n"
       ]
      },
      {
       "output_type": "stream",
       "stream": "stderr",
       "text": [
        "[585]\ttrain-poisson-nloglik:2.604369\tval-poisson-nloglik:2.700559\n",
        "[586]\ttrain-poisson-nloglik:2.603666\tval-poisson-nloglik:2.699902\n"
       ]
      },
      {
       "output_type": "stream",
       "stream": "stderr",
       "text": [
        "[587]\ttrain-poisson-nloglik:2.603394\tval-poisson-nloglik:2.699628\n",
        "[588]\ttrain-poisson-nloglik:2.602766\tval-poisson-nloglik:2.699058\n"
       ]
      },
      {
       "output_type": "stream",
       "stream": "stderr",
       "text": [
        "[589]\ttrain-poisson-nloglik:2.602228\tval-poisson-nloglik:2.698565\n",
        "[590]\ttrain-poisson-nloglik:2.601861\tval-poisson-nloglik:2.698242\n"
       ]
      },
      {
       "output_type": "stream",
       "stream": "stderr",
       "text": [
        "[591]\ttrain-poisson-nloglik:2.601592\tval-poisson-nloglik:2.698005\n",
        "[592]\ttrain-poisson-nloglik:2.601354\tval-poisson-nloglik:2.697767\n"
       ]
      },
      {
       "output_type": "stream",
       "stream": "stderr",
       "text": [
        "[593]\ttrain-poisson-nloglik:2.600856\tval-poisson-nloglik:2.697321\n",
        "[594]\ttrain-poisson-nloglik:2.600436\tval-poisson-nloglik:2.696926\n"
       ]
      },
      {
       "output_type": "stream",
       "stream": "stderr",
       "text": [
        "[595]\ttrain-poisson-nloglik:2.599839\tval-poisson-nloglik:2.696386\n",
        "[596]\ttrain-poisson-nloglik:2.599427\tval-poisson-nloglik:2.696004\n"
       ]
      },
      {
       "output_type": "stream",
       "stream": "stderr",
       "text": [
        "[597]\ttrain-poisson-nloglik:2.598848\tval-poisson-nloglik:2.695475\n",
        "[598]\ttrain-poisson-nloglik:2.598187\tval-poisson-nloglik:2.694913\n"
       ]
      },
      {
       "output_type": "stream",
       "stream": "stderr",
       "text": [
        "[599]\ttrain-poisson-nloglik:2.597890\tval-poisson-nloglik:2.694646\n",
        "[600]\ttrain-poisson-nloglik:2.597498\tval-poisson-nloglik:2.694286\n"
       ]
      },
      {
       "output_type": "stream",
       "stream": "stderr",
       "text": [
        "[601]\ttrain-poisson-nloglik:2.596856\tval-poisson-nloglik:2.693717\n",
        "[602]\ttrain-poisson-nloglik:2.596475\tval-poisson-nloglik:2.693371\n"
       ]
      },
      {
       "output_type": "stream",
       "stream": "stderr",
       "text": [
        "[603]\ttrain-poisson-nloglik:2.595922\tval-poisson-nloglik:2.692880\n",
        "[604]\ttrain-poisson-nloglik:2.595207\tval-poisson-nloglik:2.692219\n"
       ]
      },
      {
       "output_type": "stream",
       "stream": "stderr",
       "text": [
        "[605]\ttrain-poisson-nloglik:2.594790\tval-poisson-nloglik:2.691877\n",
        "[606]\ttrain-poisson-nloglik:2.594383\tval-poisson-nloglik:2.691526\n"
       ]
      },
      {
       "output_type": "stream",
       "stream": "stderr",
       "text": [
        "[607]\ttrain-poisson-nloglik:2.593949\tval-poisson-nloglik:2.691130\n",
        "[608]\ttrain-poisson-nloglik:2.593481\tval-poisson-nloglik:2.690705\n"
       ]
      },
      {
       "output_type": "stream",
       "stream": "stderr",
       "text": [
        "[609]\ttrain-poisson-nloglik:2.593245\tval-poisson-nloglik:2.690482\n",
        "[610]\ttrain-poisson-nloglik:2.592553\tval-poisson-nloglik:2.689856\n"
       ]
      },
      {
       "output_type": "stream",
       "stream": "stderr",
       "text": [
        "[611]\ttrain-poisson-nloglik:2.592171\tval-poisson-nloglik:2.689509\n",
        "[612]\ttrain-poisson-nloglik:2.591774\tval-poisson-nloglik:2.689157\n"
       ]
      },
      {
       "output_type": "stream",
       "stream": "stderr",
       "text": [
        "[613]\ttrain-poisson-nloglik:2.591319\tval-poisson-nloglik:2.688781\n",
        "[614]\ttrain-poisson-nloglik:2.590748\tval-poisson-nloglik:2.688283\n"
       ]
      },
      {
       "output_type": "stream",
       "stream": "stderr",
       "text": [
        "[615]\ttrain-poisson-nloglik:2.590260\tval-poisson-nloglik:2.687883\n",
        "[616]\ttrain-poisson-nloglik:2.589675\tval-poisson-nloglik:2.687395\n"
       ]
      },
      {
       "output_type": "stream",
       "stream": "stderr",
       "text": [
        "[617]\ttrain-poisson-nloglik:2.589410\tval-poisson-nloglik:2.687137\n",
        "[618]\ttrain-poisson-nloglik:2.588820\tval-poisson-nloglik:2.686592\n"
       ]
      },
      {
       "output_type": "stream",
       "stream": "stderr",
       "text": [
        "[619]\ttrain-poisson-nloglik:2.588467\tval-poisson-nloglik:2.686283\n",
        "[620]\ttrain-poisson-nloglik:2.587973\tval-poisson-nloglik:2.685820\n"
       ]
      },
      {
       "output_type": "stream",
       "stream": "stderr",
       "text": [
        "[621]\ttrain-poisson-nloglik:2.587468\tval-poisson-nloglik:2.685352\n",
        "[622]\ttrain-poisson-nloglik:2.587185\tval-poisson-nloglik:2.685112\n"
       ]
      },
      {
       "output_type": "stream",
       "stream": "stderr",
       "text": [
        "[623]\ttrain-poisson-nloglik:2.586887\tval-poisson-nloglik:2.684844\n",
        "[624]\ttrain-poisson-nloglik:2.586270\tval-poisson-nloglik:2.684350\n"
       ]
      },
      {
       "output_type": "stream",
       "stream": "stderr",
       "text": [
        "[625]\ttrain-poisson-nloglik:2.585992\tval-poisson-nloglik:2.684079\n",
        "[626]\ttrain-poisson-nloglik:2.585702\tval-poisson-nloglik:2.683813\n"
       ]
      },
      {
       "output_type": "stream",
       "stream": "stderr",
       "text": [
        "[627]\ttrain-poisson-nloglik:2.585159\tval-poisson-nloglik:2.683326\n",
        "[628]\ttrain-poisson-nloglik:2.584876\tval-poisson-nloglik:2.683088\n"
       ]
      },
      {
       "output_type": "stream",
       "stream": "stderr",
       "text": [
        "[629]\ttrain-poisson-nloglik:2.584537\tval-poisson-nloglik:2.682807\n",
        "[630]\ttrain-poisson-nloglik:2.584054\tval-poisson-nloglik:2.682353\n"
       ]
      },
      {
       "output_type": "stream",
       "stream": "stderr",
       "text": [
        "[631]\ttrain-poisson-nloglik:2.583745\tval-poisson-nloglik:2.682072\n",
        "[632]\ttrain-poisson-nloglik:2.583462\tval-poisson-nloglik:2.681818\n"
       ]
      },
      {
       "output_type": "stream",
       "stream": "stderr",
       "text": [
        "[633]\ttrain-poisson-nloglik:2.582980\tval-poisson-nloglik:2.681418\n",
        "[634]\ttrain-poisson-nloglik:2.582567\tval-poisson-nloglik:2.681086\n"
       ]
      },
      {
       "output_type": "stream",
       "stream": "stderr",
       "text": [
        "[635]\ttrain-poisson-nloglik:2.582187\tval-poisson-nloglik:2.680748\n",
        "[636]\ttrain-poisson-nloglik:2.581918\tval-poisson-nloglik:2.680518\n"
       ]
      },
      {
       "output_type": "stream",
       "stream": "stderr",
       "text": [
        "[637]\ttrain-poisson-nloglik:2.581498\tval-poisson-nloglik:2.680141\n",
        "[638]\ttrain-poisson-nloglik:2.581023\tval-poisson-nloglik:2.679715\n"
       ]
      },
      {
       "output_type": "stream",
       "stream": "stderr",
       "text": [
        "[639]\ttrain-poisson-nloglik:2.580675\tval-poisson-nloglik:2.679423\n",
        "[640]\ttrain-poisson-nloglik:2.580402\tval-poisson-nloglik:2.679181\n"
       ]
      },
      {
       "output_type": "stream",
       "stream": "stderr",
       "text": [
        "[641]\ttrain-poisson-nloglik:2.580228\tval-poisson-nloglik:2.679027\n",
        "[642]\ttrain-poisson-nloglik:2.579670\tval-poisson-nloglik:2.678515\n"
       ]
      },
      {
       "output_type": "stream",
       "stream": "stderr",
       "text": [
        "[643]\ttrain-poisson-nloglik:2.579177\tval-poisson-nloglik:2.678058\n",
        "[644]\ttrain-poisson-nloglik:2.578754\tval-poisson-nloglik:2.677657\n"
       ]
      },
      {
       "output_type": "stream",
       "stream": "stderr",
       "text": [
        "[645]\ttrain-poisson-nloglik:2.578463\tval-poisson-nloglik:2.677383\n",
        "[646]\ttrain-poisson-nloglik:2.578234\tval-poisson-nloglik:2.677184\n"
       ]
      },
      {
       "output_type": "stream",
       "stream": "stderr",
       "text": [
        "[647]\ttrain-poisson-nloglik:2.578017\tval-poisson-nloglik:2.677005\n",
        "[648]\ttrain-poisson-nloglik:2.577665\tval-poisson-nloglik:2.676694\n"
       ]
      },
      {
       "output_type": "stream",
       "stream": "stderr",
       "text": [
        "[649]\ttrain-poisson-nloglik:2.577141\tval-poisson-nloglik:2.676244\n",
        "[650]\ttrain-poisson-nloglik:2.576478\tval-poisson-nloglik:2.675731\n"
       ]
      },
      {
       "output_type": "stream",
       "stream": "stderr",
       "text": [
        "[651]\ttrain-poisson-nloglik:2.576179\tval-poisson-nloglik:2.675418\n",
        "[652]\ttrain-poisson-nloglik:2.575619\tval-poisson-nloglik:2.674959\n"
       ]
      },
      {
       "output_type": "stream",
       "stream": "stderr",
       "text": [
        "[653]\ttrain-poisson-nloglik:2.575084\tval-poisson-nloglik:2.674542\n",
        "[654]\ttrain-poisson-nloglik:2.574590\tval-poisson-nloglik:2.674103\n"
       ]
      },
      {
       "output_type": "stream",
       "stream": "stderr",
       "text": [
        "[655]\ttrain-poisson-nloglik:2.574252\tval-poisson-nloglik:2.673851\n",
        "[656]\ttrain-poisson-nloglik:2.573873\tval-poisson-nloglik:2.673520\n"
       ]
      },
      {
       "output_type": "stream",
       "stream": "stderr",
       "text": [
        "[657]\ttrain-poisson-nloglik:2.573460\tval-poisson-nloglik:2.673141\n",
        "[658]\ttrain-poisson-nloglik:2.573188\tval-poisson-nloglik:2.672907\n"
       ]
      },
      {
       "output_type": "stream",
       "stream": "stderr",
       "text": [
        "[659]\ttrain-poisson-nloglik:2.572954\tval-poisson-nloglik:2.672709\n",
        "[660]\ttrain-poisson-nloglik:2.572537\tval-poisson-nloglik:2.672331\n"
       ]
      },
      {
       "output_type": "stream",
       "stream": "stderr",
       "text": [
        "[661]\ttrain-poisson-nloglik:2.572148\tval-poisson-nloglik:2.671994\n",
        "[662]\ttrain-poisson-nloglik:2.571675\tval-poisson-nloglik:2.671622\n"
       ]
      },
      {
       "output_type": "stream",
       "stream": "stderr",
       "text": [
        "[663]\ttrain-poisson-nloglik:2.571241\tval-poisson-nloglik:2.671215\n",
        "[664]\ttrain-poisson-nloglik:2.570902\tval-poisson-nloglik:2.670885\n"
       ]
      },
      {
       "output_type": "stream",
       "stream": "stderr",
       "text": [
        "[665]\ttrain-poisson-nloglik:2.570486\tval-poisson-nloglik:2.670498\n",
        "[666]\ttrain-poisson-nloglik:2.569981\tval-poisson-nloglik:2.670042\n"
       ]
      },
      {
       "output_type": "stream",
       "stream": "stderr",
       "text": [
        "[667]\ttrain-poisson-nloglik:2.569492\tval-poisson-nloglik:2.669607\n",
        "[668]\ttrain-poisson-nloglik:2.569011\tval-poisson-nloglik:2.669160\n"
       ]
      },
      {
       "output_type": "stream",
       "stream": "stderr",
       "text": [
        "[669]\ttrain-poisson-nloglik:2.568502\tval-poisson-nloglik:2.668669\n",
        "[670]\ttrain-poisson-nloglik:2.568275\tval-poisson-nloglik:2.668483\n"
       ]
      },
      {
       "output_type": "stream",
       "stream": "stderr",
       "text": [
        "[671]\ttrain-poisson-nloglik:2.567912\tval-poisson-nloglik:2.668157\n",
        "[672]\ttrain-poisson-nloglik:2.567459\tval-poisson-nloglik:2.667769\n"
       ]
      },
      {
       "output_type": "stream",
       "stream": "stderr",
       "text": [
        "[673]\ttrain-poisson-nloglik:2.567153\tval-poisson-nloglik:2.667506\n",
        "[674]\ttrain-poisson-nloglik:2.566954\tval-poisson-nloglik:2.667337\n"
       ]
      },
      {
       "output_type": "stream",
       "stream": "stderr",
       "text": [
        "[675]\ttrain-poisson-nloglik:2.566786\tval-poisson-nloglik:2.667168\n",
        "[676]\ttrain-poisson-nloglik:2.566573\tval-poisson-nloglik:2.666977\n"
       ]
      },
      {
       "output_type": "stream",
       "stream": "stderr",
       "text": [
        "[677]\ttrain-poisson-nloglik:2.566348\tval-poisson-nloglik:2.666780\n",
        "[678]\ttrain-poisson-nloglik:2.565859\tval-poisson-nloglik:2.666354\n"
       ]
      },
      {
       "output_type": "stream",
       "stream": "stderr",
       "text": [
        "[679]\ttrain-poisson-nloglik:2.565354\tval-poisson-nloglik:2.665956\n",
        "[680]\ttrain-poisson-nloglik:2.564962\tval-poisson-nloglik:2.665621\n"
       ]
      },
      {
       "output_type": "stream",
       "stream": "stderr",
       "text": [
        "[681]\ttrain-poisson-nloglik:2.564662\tval-poisson-nloglik:2.665362\n",
        "[682]\ttrain-poisson-nloglik:2.564301\tval-poisson-nloglik:2.665050\n"
       ]
      },
      {
       "output_type": "stream",
       "stream": "stderr",
       "text": [
        "[683]\ttrain-poisson-nloglik:2.563856\tval-poisson-nloglik:2.664664\n",
        "[684]\ttrain-poisson-nloglik:2.563448\tval-poisson-nloglik:2.664313\n"
       ]
      },
      {
       "output_type": "stream",
       "stream": "stderr",
       "text": [
        "[685]\ttrain-poisson-nloglik:2.563073\tval-poisson-nloglik:2.664010\n",
        "[686]\ttrain-poisson-nloglik:2.562626\tval-poisson-nloglik:2.663628\n"
       ]
      },
      {
       "output_type": "stream",
       "stream": "stderr",
       "text": [
        "[687]\ttrain-poisson-nloglik:2.562271\tval-poisson-nloglik:2.663329\n",
        "[688]\ttrain-poisson-nloglik:2.561930\tval-poisson-nloglik:2.663041\n"
       ]
      },
      {
       "output_type": "stream",
       "stream": "stderr",
       "text": [
        "[689]\ttrain-poisson-nloglik:2.561548\tval-poisson-nloglik:2.662715\n",
        "[690]\ttrain-poisson-nloglik:2.561167\tval-poisson-nloglik:2.662369\n"
       ]
      },
      {
       "output_type": "stream",
       "stream": "stderr",
       "text": [
        "[691]\ttrain-poisson-nloglik:2.560803\tval-poisson-nloglik:2.662028\n",
        "[692]\ttrain-poisson-nloglik:2.560293\tval-poisson-nloglik:2.661627\n"
       ]
      },
      {
       "output_type": "stream",
       "stream": "stderr",
       "text": [
        "[693]\ttrain-poisson-nloglik:2.559970\tval-poisson-nloglik:2.661319\n",
        "[694]\ttrain-poisson-nloglik:2.559632\tval-poisson-nloglik:2.661041\n"
       ]
      },
      {
       "output_type": "stream",
       "stream": "stderr",
       "text": [
        "[695]\ttrain-poisson-nloglik:2.559343\tval-poisson-nloglik:2.660805\n",
        "[696]\ttrain-poisson-nloglik:2.559172\tval-poisson-nloglik:2.660661\n"
       ]
      },
      {
       "output_type": "stream",
       "stream": "stderr",
       "text": [
        "[697]\ttrain-poisson-nloglik:2.558924\tval-poisson-nloglik:2.660433\n",
        "[698]\ttrain-poisson-nloglik:2.558548\tval-poisson-nloglik:2.660109\n"
       ]
      },
      {
       "output_type": "stream",
       "stream": "stderr",
       "text": [
        "[699]\ttrain-poisson-nloglik:2.558244\tval-poisson-nloglik:2.659819\n",
        "[700]\ttrain-poisson-nloglik:2.557945\tval-poisson-nloglik:2.659552\n"
       ]
      },
      {
       "output_type": "stream",
       "stream": "stderr",
       "text": [
        "[701]\ttrain-poisson-nloglik:2.557592\tval-poisson-nloglik:2.659245\n",
        "[702]\ttrain-poisson-nloglik:2.557444\tval-poisson-nloglik:2.659111\n"
       ]
      },
      {
       "output_type": "stream",
       "stream": "stderr",
       "text": [
        "[703]\ttrain-poisson-nloglik:2.557175\tval-poisson-nloglik:2.658866\n",
        "[704]\ttrain-poisson-nloglik:2.556821\tval-poisson-nloglik:2.658579\n"
       ]
      },
      {
       "output_type": "stream",
       "stream": "stderr",
       "text": [
        "[705]\ttrain-poisson-nloglik:2.556493\tval-poisson-nloglik:2.658289\n",
        "[706]\ttrain-poisson-nloglik:2.555981\tval-poisson-nloglik:2.657873\n"
       ]
      },
      {
       "output_type": "stream",
       "stream": "stderr",
       "text": [
        "[707]\ttrain-poisson-nloglik:2.555602\tval-poisson-nloglik:2.657534\n",
        "[708]\ttrain-poisson-nloglik:2.555219\tval-poisson-nloglik:2.657217\n"
       ]
      },
      {
       "output_type": "stream",
       "stream": "stderr",
       "text": [
        "[709]\ttrain-poisson-nloglik:2.554900\tval-poisson-nloglik:2.656949\n",
        "[710]\ttrain-poisson-nloglik:2.554444\tval-poisson-nloglik:2.656600\n"
       ]
      },
      {
       "output_type": "stream",
       "stream": "stderr",
       "text": [
        "[711]\ttrain-poisson-nloglik:2.553891\tval-poisson-nloglik:2.656106\n",
        "[712]\ttrain-poisson-nloglik:2.553712\tval-poisson-nloglik:2.655951\n"
       ]
      },
      {
       "output_type": "stream",
       "stream": "stderr",
       "text": [
        "[713]\ttrain-poisson-nloglik:2.553370\tval-poisson-nloglik:2.655657\n",
        "[714]\ttrain-poisson-nloglik:2.553062\tval-poisson-nloglik:2.655411\n"
       ]
      },
      {
       "output_type": "stream",
       "stream": "stderr",
       "text": [
        "[715]\ttrain-poisson-nloglik:2.552793\tval-poisson-nloglik:2.655181\n",
        "[716]\ttrain-poisson-nloglik:2.552554\tval-poisson-nloglik:2.654997\n"
       ]
      },
      {
       "output_type": "stream",
       "stream": "stderr",
       "text": [
        "[717]\ttrain-poisson-nloglik:2.552302\tval-poisson-nloglik:2.654762\n",
        "[718]\ttrain-poisson-nloglik:2.552147\tval-poisson-nloglik:2.654618\n"
       ]
      },
      {
       "output_type": "stream",
       "stream": "stderr",
       "text": [
        "[719]\ttrain-poisson-nloglik:2.551983\tval-poisson-nloglik:2.654477\n",
        "[720]\ttrain-poisson-nloglik:2.551757\tval-poisson-nloglik:2.654279\n"
       ]
      },
      {
       "output_type": "stream",
       "stream": "stderr",
       "text": [
        "[721]\ttrain-poisson-nloglik:2.551233\tval-poisson-nloglik:2.653820\n",
        "[722]\ttrain-poisson-nloglik:2.550990\tval-poisson-nloglik:2.653594\n"
       ]
      },
      {
       "output_type": "stream",
       "stream": "stderr",
       "text": [
        "[723]\ttrain-poisson-nloglik:2.550504\tval-poisson-nloglik:2.653210\n",
        "[724]\ttrain-poisson-nloglik:2.550345\tval-poisson-nloglik:2.653050\n"
       ]
      },
      {
       "output_type": "stream",
       "stream": "stderr",
       "text": [
        "[725]\ttrain-poisson-nloglik:2.549973\tval-poisson-nloglik:2.652768\n",
        "[726]\ttrain-poisson-nloglik:2.549567\tval-poisson-nloglik:2.652411\n"
       ]
      },
      {
       "output_type": "stream",
       "stream": "stderr",
       "text": [
        "[727]\ttrain-poisson-nloglik:2.549309\tval-poisson-nloglik:2.652196\n",
        "[728]\ttrain-poisson-nloglik:2.549117\tval-poisson-nloglik:2.652015\n"
       ]
      },
      {
       "output_type": "stream",
       "stream": "stderr",
       "text": [
        "[729]\ttrain-poisson-nloglik:2.548945\tval-poisson-nloglik:2.651853\n",
        "[730]\ttrain-poisson-nloglik:2.548525\tval-poisson-nloglik:2.651484\n"
       ]
      },
      {
       "output_type": "stream",
       "stream": "stderr",
       "text": [
        "[731]\ttrain-poisson-nloglik:2.548409\tval-poisson-nloglik:2.651392\n",
        "[732]\ttrain-poisson-nloglik:2.548232\tval-poisson-nloglik:2.651243\n"
       ]
      },
      {
       "output_type": "stream",
       "stream": "stderr",
       "text": [
        "[733]\ttrain-poisson-nloglik:2.547776\tval-poisson-nloglik:2.650871\n",
        "[734]\ttrain-poisson-nloglik:2.547525\tval-poisson-nloglik:2.650632\n"
       ]
      },
      {
       "output_type": "stream",
       "stream": "stderr",
       "text": [
        "[735]\ttrain-poisson-nloglik:2.547032\tval-poisson-nloglik:2.650223\n",
        "[736]\ttrain-poisson-nloglik:2.546742\tval-poisson-nloglik:2.649959\n"
       ]
      },
      {
       "output_type": "stream",
       "stream": "stderr",
       "text": [
        "[737]\ttrain-poisson-nloglik:2.546373\tval-poisson-nloglik:2.649619\n",
        "[738]\ttrain-poisson-nloglik:2.546147\tval-poisson-nloglik:2.649429\n"
       ]
      },
      {
       "output_type": "stream",
       "stream": "stderr",
       "text": [
        "[739]\ttrain-poisson-nloglik:2.545923\tval-poisson-nloglik:2.649222\n",
        "[740]\ttrain-poisson-nloglik:2.545732\tval-poisson-nloglik:2.649051\n"
       ]
      },
      {
       "output_type": "stream",
       "stream": "stderr",
       "text": [
        "[741]\ttrain-poisson-nloglik:2.545278\tval-poisson-nloglik:2.648689\n",
        "[742]\ttrain-poisson-nloglik:2.544844\tval-poisson-nloglik:2.648330\n"
       ]
      },
      {
       "output_type": "stream",
       "stream": "stderr",
       "text": [
        "[743]\ttrain-poisson-nloglik:2.544440\tval-poisson-nloglik:2.648006\n",
        "[744]\ttrain-poisson-nloglik:2.544106\tval-poisson-nloglik:2.647751\n"
       ]
      },
      {
       "output_type": "stream",
       "stream": "stderr",
       "text": [
        "[745]\ttrain-poisson-nloglik:2.543623\tval-poisson-nloglik:2.647306\n",
        "[746]\ttrain-poisson-nloglik:2.543416\tval-poisson-nloglik:2.647103\n"
       ]
      },
      {
       "output_type": "stream",
       "stream": "stderr",
       "text": [
        "[747]\ttrain-poisson-nloglik:2.543055\tval-poisson-nloglik:2.646789\n",
        "[748]\ttrain-poisson-nloglik:2.542902\tval-poisson-nloglik:2.646644\n"
       ]
      },
      {
       "output_type": "stream",
       "stream": "stderr",
       "text": [
        "[749]\ttrain-poisson-nloglik:2.542625\tval-poisson-nloglik:2.646416\n",
        "[750]\ttrain-poisson-nloglik:2.542283\tval-poisson-nloglik:2.646133\n"
       ]
      },
      {
       "output_type": "stream",
       "stream": "stderr",
       "text": [
        "[751]\ttrain-poisson-nloglik:2.541886\tval-poisson-nloglik:2.645803\n",
        "[752]\ttrain-poisson-nloglik:2.541461\tval-poisson-nloglik:2.645447\n"
       ]
      },
      {
       "output_type": "stream",
       "stream": "stderr",
       "text": [
        "[753]\ttrain-poisson-nloglik:2.541147\tval-poisson-nloglik:2.645168\n",
        "[754]\ttrain-poisson-nloglik:2.540924\tval-poisson-nloglik:2.644998\n"
       ]
      },
      {
       "output_type": "stream",
       "stream": "stderr",
       "text": [
        "[755]\ttrain-poisson-nloglik:2.540618\tval-poisson-nloglik:2.644745\n",
        "[756]\ttrain-poisson-nloglik:2.540126\tval-poisson-nloglik:2.644269\n"
       ]
      },
      {
       "output_type": "stream",
       "stream": "stderr",
       "text": [
        "[757]\ttrain-poisson-nloglik:2.539891\tval-poisson-nloglik:2.644065\n",
        "[758]\ttrain-poisson-nloglik:2.539707\tval-poisson-nloglik:2.643915\n"
       ]
      },
      {
       "output_type": "stream",
       "stream": "stderr",
       "text": [
        "[759]\ttrain-poisson-nloglik:2.539311\tval-poisson-nloglik:2.643581\n",
        "[760]\ttrain-poisson-nloglik:2.538896\tval-poisson-nloglik:2.643229\n"
       ]
      },
      {
       "output_type": "stream",
       "stream": "stderr",
       "text": [
        "[761]\ttrain-poisson-nloglik:2.538725\tval-poisson-nloglik:2.643090\n",
        "[762]\ttrain-poisson-nloglik:2.538607\tval-poisson-nloglik:2.643011\n"
       ]
      },
      {
       "output_type": "stream",
       "stream": "stderr",
       "text": [
        "[763]\ttrain-poisson-nloglik:2.538364\tval-poisson-nloglik:2.642799\n",
        "[764]\ttrain-poisson-nloglik:2.537821\tval-poisson-nloglik:2.642304\n"
       ]
      },
      {
       "output_type": "stream",
       "stream": "stderr",
       "text": [
        "[765]\ttrain-poisson-nloglik:2.537607\tval-poisson-nloglik:2.642153\n",
        "[766]\ttrain-poisson-nloglik:2.537022\tval-poisson-nloglik:2.641652\n"
       ]
      },
      {
       "output_type": "stream",
       "stream": "stderr",
       "text": [
        "[767]\ttrain-poisson-nloglik:2.536638\tval-poisson-nloglik:2.641315\n",
        "[768]\ttrain-poisson-nloglik:2.536226\tval-poisson-nloglik:2.640965\n"
       ]
      },
      {
       "output_type": "stream",
       "stream": "stderr",
       "text": [
        "[769]\ttrain-poisson-nloglik:2.535881\tval-poisson-nloglik:2.640623\n",
        "[770]\ttrain-poisson-nloglik:2.535771\tval-poisson-nloglik:2.640533\n"
       ]
      },
      {
       "output_type": "stream",
       "stream": "stderr",
       "text": [
        "[771]\ttrain-poisson-nloglik:2.535470\tval-poisson-nloglik:2.640268\n",
        "[772]\ttrain-poisson-nloglik:2.535097\tval-poisson-nloglik:2.639959\n"
       ]
      },
      {
       "output_type": "stream",
       "stream": "stderr",
       "text": [
        "[773]\ttrain-poisson-nloglik:2.534811\tval-poisson-nloglik:2.639697\n",
        "[774]\ttrain-poisson-nloglik:2.534366\tval-poisson-nloglik:2.639304\n"
       ]
      },
      {
       "output_type": "stream",
       "stream": "stderr",
       "text": [
        "[775]\ttrain-poisson-nloglik:2.534243\tval-poisson-nloglik:2.639169\n",
        "[776]\ttrain-poisson-nloglik:2.533846\tval-poisson-nloglik:2.638834\n"
       ]
      },
      {
       "output_type": "stream",
       "stream": "stderr",
       "text": [
        "[777]\ttrain-poisson-nloglik:2.533573\tval-poisson-nloglik:2.638591\n",
        "[778]\ttrain-poisson-nloglik:2.533354\tval-poisson-nloglik:2.638402\n"
       ]
      },
      {
       "output_type": "stream",
       "stream": "stderr",
       "text": [
        "[779]\ttrain-poisson-nloglik:2.533165\tval-poisson-nloglik:2.638227\n",
        "[780]\ttrain-poisson-nloglik:2.532923\tval-poisson-nloglik:2.638032\n"
       ]
      },
      {
       "output_type": "stream",
       "stream": "stderr",
       "text": [
        "[781]\ttrain-poisson-nloglik:2.532664\tval-poisson-nloglik:2.637771\n",
        "[782]\ttrain-poisson-nloglik:2.532257\tval-poisson-nloglik:2.637410\n"
       ]
      },
      {
       "output_type": "stream",
       "stream": "stderr",
       "text": [
        "[783]\ttrain-poisson-nloglik:2.531864\tval-poisson-nloglik:2.637104\n",
        "[784]\ttrain-poisson-nloglik:2.531487\tval-poisson-nloglik:2.636756\n"
       ]
      },
      {
       "output_type": "stream",
       "stream": "stderr",
       "text": [
        "[785]\ttrain-poisson-nloglik:2.531377\tval-poisson-nloglik:2.636675\n",
        "[786]\ttrain-poisson-nloglik:2.531116\tval-poisson-nloglik:2.636448\n"
       ]
      },
      {
       "output_type": "stream",
       "stream": "stderr",
       "text": [
        "[787]\ttrain-poisson-nloglik:2.530852\tval-poisson-nloglik:2.636232\n",
        "[788]\ttrain-poisson-nloglik:2.530473\tval-poisson-nloglik:2.635881\n"
       ]
      },
      {
       "output_type": "stream",
       "stream": "stderr",
       "text": [
        "[789]\ttrain-poisson-nloglik:2.530075\tval-poisson-nloglik:2.635559\n",
        "[790]\ttrain-poisson-nloglik:2.529813\tval-poisson-nloglik:2.635343\n"
       ]
      },
      {
       "output_type": "stream",
       "stream": "stderr",
       "text": [
        "[791]\ttrain-poisson-nloglik:2.529567\tval-poisson-nloglik:2.635137\n",
        "[792]\ttrain-poisson-nloglik:2.529315\tval-poisson-nloglik:2.634926\n"
       ]
      },
      {
       "output_type": "stream",
       "stream": "stderr",
       "text": [
        "[793]\ttrain-poisson-nloglik:2.528989\tval-poisson-nloglik:2.634671\n",
        "[794]\ttrain-poisson-nloglik:2.528700\tval-poisson-nloglik:2.634420\n"
       ]
      },
      {
       "output_type": "stream",
       "stream": "stderr",
       "text": [
        "[795]\ttrain-poisson-nloglik:2.528350\tval-poisson-nloglik:2.634145\n",
        "[796]\ttrain-poisson-nloglik:2.528172\tval-poisson-nloglik:2.634002\n"
       ]
      },
      {
       "output_type": "stream",
       "stream": "stderr",
       "text": [
        "[797]\ttrain-poisson-nloglik:2.527902\tval-poisson-nloglik:2.633744\n",
        "[798]\ttrain-poisson-nloglik:2.527651\tval-poisson-nloglik:2.633494\n"
       ]
      },
      {
       "output_type": "stream",
       "stream": "stderr",
       "text": [
        "[799]\ttrain-poisson-nloglik:2.527476\tval-poisson-nloglik:2.633327\n",
        "[800]\ttrain-poisson-nloglik:2.527060\tval-poisson-nloglik:2.632941\n"
       ]
      },
      {
       "output_type": "stream",
       "stream": "stderr",
       "text": [
        "[801]\ttrain-poisson-nloglik:2.526842\tval-poisson-nloglik:2.632760\n",
        "[802]\ttrain-poisson-nloglik:2.526635\tval-poisson-nloglik:2.632603\n"
       ]
      },
      {
       "output_type": "stream",
       "stream": "stderr",
       "text": [
        "[803]\ttrain-poisson-nloglik:2.526521\tval-poisson-nloglik:2.632516\n",
        "[804]\ttrain-poisson-nloglik:2.526158\tval-poisson-nloglik:2.632205\n"
       ]
      },
      {
       "output_type": "stream",
       "stream": "stderr",
       "text": [
        "[805]\ttrain-poisson-nloglik:2.525734\tval-poisson-nloglik:2.631862\n",
        "[806]\ttrain-poisson-nloglik:2.525574\tval-poisson-nloglik:2.631728\n"
       ]
      },
      {
       "output_type": "stream",
       "stream": "stderr",
       "text": [
        "[807]\ttrain-poisson-nloglik:2.525351\tval-poisson-nloglik:2.631531\n",
        "[808]\ttrain-poisson-nloglik:2.525107\tval-poisson-nloglik:2.631315\n"
       ]
      },
      {
       "output_type": "stream",
       "stream": "stderr",
       "text": [
        "[809]\ttrain-poisson-nloglik:2.524755\tval-poisson-nloglik:2.631016\n",
        "[810]\ttrain-poisson-nloglik:2.524432\tval-poisson-nloglik:2.630732\n"
       ]
      },
      {
       "output_type": "stream",
       "stream": "stderr",
       "text": [
        "[811]\ttrain-poisson-nloglik:2.524272\tval-poisson-nloglik:2.630630\n",
        "[812]\ttrain-poisson-nloglik:2.524053\tval-poisson-nloglik:2.630441\n"
       ]
      },
      {
       "output_type": "stream",
       "stream": "stderr",
       "text": [
        "[813]\ttrain-poisson-nloglik:2.523840\tval-poisson-nloglik:2.630260\n",
        "[814]\ttrain-poisson-nloglik:2.523760\tval-poisson-nloglik:2.630185\n"
       ]
      },
      {
       "output_type": "stream",
       "stream": "stderr",
       "text": [
        "[815]\ttrain-poisson-nloglik:2.523519\tval-poisson-nloglik:2.630001\n",
        "[816]\ttrain-poisson-nloglik:2.523166\tval-poisson-nloglik:2.629701\n"
       ]
      },
      {
       "output_type": "stream",
       "stream": "stderr",
       "text": [
        "[817]\ttrain-poisson-nloglik:2.522862\tval-poisson-nloglik:2.629425\n",
        "[818]\ttrain-poisson-nloglik:2.522516\tval-poisson-nloglik:2.629150\n"
       ]
      },
      {
       "output_type": "stream",
       "stream": "stderr",
       "text": [
        "[819]\ttrain-poisson-nloglik:2.522327\tval-poisson-nloglik:2.629004\n",
        "[820]\ttrain-poisson-nloglik:2.522037\tval-poisson-nloglik:2.628754\n"
       ]
      },
      {
       "output_type": "stream",
       "stream": "stderr",
       "text": [
        "[821]\ttrain-poisson-nloglik:2.521785\tval-poisson-nloglik:2.628541\n",
        "[822]\ttrain-poisson-nloglik:2.521516\tval-poisson-nloglik:2.628295\n"
       ]
      },
      {
       "output_type": "stream",
       "stream": "stderr",
       "text": [
        "[823]\ttrain-poisson-nloglik:2.521223\tval-poisson-nloglik:2.628042\n",
        "[824]\ttrain-poisson-nloglik:2.520967\tval-poisson-nloglik:2.627834\n"
       ]
      },
      {
       "output_type": "stream",
       "stream": "stderr",
       "text": [
        "[825]\ttrain-poisson-nloglik:2.520458\tval-poisson-nloglik:2.627403\n",
        "[826]\ttrain-poisson-nloglik:2.520209\tval-poisson-nloglik:2.627192\n"
       ]
      },
      {
       "output_type": "stream",
       "stream": "stderr",
       "text": [
        "[827]\ttrain-poisson-nloglik:2.519965\tval-poisson-nloglik:2.626973\n",
        "[828]\ttrain-poisson-nloglik:2.519765\tval-poisson-nloglik:2.626817\n"
       ]
      },
      {
       "output_type": "stream",
       "stream": "stderr",
       "text": [
        "[829]\ttrain-poisson-nloglik:2.519612\tval-poisson-nloglik:2.626705\n",
        "[830]\ttrain-poisson-nloglik:2.519223\tval-poisson-nloglik:2.626352\n"
       ]
      },
      {
       "output_type": "stream",
       "stream": "stderr",
       "text": [
        "[831]\ttrain-poisson-nloglik:2.518888\tval-poisson-nloglik:2.626070\n",
        "[832]\ttrain-poisson-nloglik:2.518520\tval-poisson-nloglik:2.625759\n"
       ]
      },
      {
       "output_type": "stream",
       "stream": "stderr",
       "text": [
        "[833]\ttrain-poisson-nloglik:2.518310\tval-poisson-nloglik:2.625565\n",
        "[834]\ttrain-poisson-nloglik:2.518150\tval-poisson-nloglik:2.625406\n"
       ]
      },
      {
       "output_type": "stream",
       "stream": "stderr",
       "text": [
        "[835]\ttrain-poisson-nloglik:2.517507\tval-poisson-nloglik:2.624880\n",
        "[836]\ttrain-poisson-nloglik:2.517270\tval-poisson-nloglik:2.624672\n"
       ]
      },
      {
       "output_type": "stream",
       "stream": "stderr",
       "text": [
        "[837]\ttrain-poisson-nloglik:2.516837\tval-poisson-nloglik:2.624317\n",
        "[838]\ttrain-poisson-nloglik:2.516680\tval-poisson-nloglik:2.624181\n"
       ]
      },
      {
       "output_type": "stream",
       "stream": "stderr",
       "text": [
        "[839]\ttrain-poisson-nloglik:2.516511\tval-poisson-nloglik:2.624054\n",
        "[840]\ttrain-poisson-nloglik:2.516178\tval-poisson-nloglik:2.623787\n"
       ]
      },
      {
       "output_type": "stream",
       "stream": "stderr",
       "text": [
        "[841]\ttrain-poisson-nloglik:2.515839\tval-poisson-nloglik:2.623470\n",
        "[842]\ttrain-poisson-nloglik:2.515536\tval-poisson-nloglik:2.623255\n"
       ]
      },
      {
       "output_type": "stream",
       "stream": "stderr",
       "text": [
        "[843]\ttrain-poisson-nloglik:2.515429\tval-poisson-nloglik:2.623162\n",
        "[844]\ttrain-poisson-nloglik:2.515263\tval-poisson-nloglik:2.623041\n"
       ]
      },
      {
       "output_type": "stream",
       "stream": "stderr",
       "text": [
        "[845]\ttrain-poisson-nloglik:2.515003\tval-poisson-nloglik:2.622809\n",
        "[846]\ttrain-poisson-nloglik:2.514649\tval-poisson-nloglik:2.622527\n"
       ]
      },
      {
       "output_type": "stream",
       "stream": "stderr",
       "text": [
        "[847]\ttrain-poisson-nloglik:2.514359\tval-poisson-nloglik:2.622270\n",
        "[848]\ttrain-poisson-nloglik:2.513833\tval-poisson-nloglik:2.621838\n"
       ]
      },
      {
       "output_type": "stream",
       "stream": "stderr",
       "text": [
        "[849]\ttrain-poisson-nloglik:2.513482\tval-poisson-nloglik:2.621526\n",
        "[850]\ttrain-poisson-nloglik:2.513271\tval-poisson-nloglik:2.621362\n"
       ]
      },
      {
       "output_type": "stream",
       "stream": "stderr",
       "text": [
        "[851]\ttrain-poisson-nloglik:2.512842\tval-poisson-nloglik:2.621028\n",
        "[852]\ttrain-poisson-nloglik:2.512633\tval-poisson-nloglik:2.620852\n"
       ]
      },
      {
       "output_type": "stream",
       "stream": "stderr",
       "text": [
        "[853]\ttrain-poisson-nloglik:2.512280\tval-poisson-nloglik:2.620564\n",
        "[854]\ttrain-poisson-nloglik:2.512089\tval-poisson-nloglik:2.620396\n"
       ]
      },
      {
       "output_type": "stream",
       "stream": "stderr",
       "text": [
        "[855]\ttrain-poisson-nloglik:2.511703\tval-poisson-nloglik:2.620082\n",
        "[856]\ttrain-poisson-nloglik:2.511440\tval-poisson-nloglik:2.619870\n"
       ]
      },
      {
       "output_type": "stream",
       "stream": "stderr",
       "text": [
        "[857]\ttrain-poisson-nloglik:2.511132\tval-poisson-nloglik:2.619642\n",
        "[858]\ttrain-poisson-nloglik:2.510871\tval-poisson-nloglik:2.619397\n"
       ]
      },
      {
       "output_type": "stream",
       "stream": "stderr",
       "text": [
        "[859]\ttrain-poisson-nloglik:2.510635\tval-poisson-nloglik:2.619220\n",
        "[860]\ttrain-poisson-nloglik:2.510402\tval-poisson-nloglik:2.619029\n"
       ]
      },
      {
       "output_type": "stream",
       "stream": "stderr",
       "text": [
        "[861]\ttrain-poisson-nloglik:2.510186\tval-poisson-nloglik:2.618840\n",
        "[862]\ttrain-poisson-nloglik:2.510052\tval-poisson-nloglik:2.618746\n"
       ]
      },
      {
       "output_type": "stream",
       "stream": "stderr",
       "text": [
        "[863]\ttrain-poisson-nloglik:2.509682\tval-poisson-nloglik:2.618409\n",
        "[864]\ttrain-poisson-nloglik:2.509454\tval-poisson-nloglik:2.618233\n"
       ]
      },
      {
       "output_type": "stream",
       "stream": "stderr",
       "text": [
        "[865]\ttrain-poisson-nloglik:2.509192\tval-poisson-nloglik:2.618002\n",
        "[866]\ttrain-poisson-nloglik:2.509088\tval-poisson-nloglik:2.617893\n"
       ]
      },
      {
       "output_type": "stream",
       "stream": "stderr",
       "text": [
        "[867]\ttrain-poisson-nloglik:2.508968\tval-poisson-nloglik:2.617780\n",
        "[868]\ttrain-poisson-nloglik:2.508858\tval-poisson-nloglik:2.617673\n"
       ]
      },
      {
       "output_type": "stream",
       "stream": "stderr",
       "text": [
        "[869]\ttrain-poisson-nloglik:2.508696\tval-poisson-nloglik:2.617532\n",
        "[870]\ttrain-poisson-nloglik:2.508575\tval-poisson-nloglik:2.617435\n"
       ]
      },
      {
       "output_type": "stream",
       "stream": "stderr",
       "text": [
        "[871]\ttrain-poisson-nloglik:2.508337\tval-poisson-nloglik:2.617218\n",
        "[872]\ttrain-poisson-nloglik:2.508231\tval-poisson-nloglik:2.617118\n"
       ]
      },
      {
       "output_type": "stream",
       "stream": "stderr",
       "text": [
        "[873]\ttrain-poisson-nloglik:2.508073\tval-poisson-nloglik:2.617001\n",
        "[874]\ttrain-poisson-nloglik:2.507897\tval-poisson-nloglik:2.616836\n"
       ]
      },
      {
       "output_type": "stream",
       "stream": "stderr",
       "text": [
        "[875]\ttrain-poisson-nloglik:2.507729\tval-poisson-nloglik:2.616718\n",
        "[876]\ttrain-poisson-nloglik:2.507536\tval-poisson-nloglik:2.616581\n"
       ]
      },
      {
       "output_type": "stream",
       "stream": "stderr",
       "text": [
        "[877]\ttrain-poisson-nloglik:2.507281\tval-poisson-nloglik:2.616333\n",
        "[878]\ttrain-poisson-nloglik:2.506892\tval-poisson-nloglik:2.616036\n"
       ]
      },
      {
       "output_type": "stream",
       "stream": "stderr",
       "text": [
        "[879]\ttrain-poisson-nloglik:2.506602\tval-poisson-nloglik:2.615847\n",
        "[880]\ttrain-poisson-nloglik:2.506519\tval-poisson-nloglik:2.615783\n"
       ]
      },
      {
       "output_type": "stream",
       "stream": "stderr",
       "text": [
        "[881]\ttrain-poisson-nloglik:2.506322\tval-poisson-nloglik:2.615612\n",
        "[882]\ttrain-poisson-nloglik:2.505960\tval-poisson-nloglik:2.615288\n"
       ]
      },
      {
       "output_type": "stream",
       "stream": "stderr",
       "text": [
        "[883]\ttrain-poisson-nloglik:2.505646\tval-poisson-nloglik:2.615015\n",
        "[884]\ttrain-poisson-nloglik:2.505513\tval-poisson-nloglik:2.614902\n"
       ]
      },
      {
       "output_type": "stream",
       "stream": "stderr",
       "text": [
        "[885]\ttrain-poisson-nloglik:2.505069\tval-poisson-nloglik:2.614522\n",
        "[886]\ttrain-poisson-nloglik:2.504789\tval-poisson-nloglik:2.614280\n"
       ]
      },
      {
       "output_type": "stream",
       "stream": "stderr",
       "text": [
        "[887]\ttrain-poisson-nloglik:2.504532\tval-poisson-nloglik:2.614045\n",
        "[888]\ttrain-poisson-nloglik:2.504408\tval-poisson-nloglik:2.613942\n"
       ]
      },
      {
       "output_type": "stream",
       "stream": "stderr",
       "text": [
        "[889]\ttrain-poisson-nloglik:2.504138\tval-poisson-nloglik:2.613727\n",
        "[890]\ttrain-poisson-nloglik:2.503797\tval-poisson-nloglik:2.613439\n"
       ]
      },
      {
       "output_type": "stream",
       "stream": "stderr",
       "text": [
        "[891]\ttrain-poisson-nloglik:2.503706\tval-poisson-nloglik:2.613348\n",
        "[892]\ttrain-poisson-nloglik:2.503461\tval-poisson-nloglik:2.613152\n"
       ]
      },
      {
       "output_type": "stream",
       "stream": "stderr",
       "text": [
        "[893]\ttrain-poisson-nloglik:2.503186\tval-poisson-nloglik:2.612954\n",
        "[894]\ttrain-poisson-nloglik:2.502970\tval-poisson-nloglik:2.612775\n"
       ]
      },
      {
       "output_type": "stream",
       "stream": "stderr",
       "text": [
        "[895]\ttrain-poisson-nloglik:2.502642\tval-poisson-nloglik:2.612534\n",
        "[896]\ttrain-poisson-nloglik:2.502382\tval-poisson-nloglik:2.612312\n"
       ]
      },
      {
       "output_type": "stream",
       "stream": "stderr",
       "text": [
        "[897]\ttrain-poisson-nloglik:2.502182\tval-poisson-nloglik:2.612131\n",
        "[898]\ttrain-poisson-nloglik:2.501938\tval-poisson-nloglik:2.611890\n"
       ]
      },
      {
       "output_type": "stream",
       "stream": "stderr",
       "text": [
        "[899]\ttrain-poisson-nloglik:2.501641\tval-poisson-nloglik:2.611621\n",
        "[900]\ttrain-poisson-nloglik:2.501422\tval-poisson-nloglik:2.611421\n"
       ]
      },
      {
       "output_type": "stream",
       "stream": "stderr",
       "text": [
        "[901]\ttrain-poisson-nloglik:2.501277\tval-poisson-nloglik:2.611299\n",
        "[902]\ttrain-poisson-nloglik:2.500876\tval-poisson-nloglik:2.610955\n"
       ]
      },
      {
       "output_type": "stream",
       "stream": "stderr",
       "text": [
        "[903]\ttrain-poisson-nloglik:2.500630\tval-poisson-nloglik:2.610755\n",
        "[904]\ttrain-poisson-nloglik:2.500436\tval-poisson-nloglik:2.610579\n"
       ]
      },
      {
       "output_type": "stream",
       "stream": "stderr",
       "text": [
        "[905]\ttrain-poisson-nloglik:2.500228\tval-poisson-nloglik:2.610401\n",
        "[906]\ttrain-poisson-nloglik:2.499906\tval-poisson-nloglik:2.610143\n"
       ]
      },
      {
       "output_type": "stream",
       "stream": "stderr",
       "text": [
        "[907]\ttrain-poisson-nloglik:2.499797\tval-poisson-nloglik:2.610040\n",
        "[908]\ttrain-poisson-nloglik:2.499388\tval-poisson-nloglik:2.609658\n"
       ]
      },
      {
       "output_type": "stream",
       "stream": "stderr",
       "text": [
        "[909]\ttrain-poisson-nloglik:2.499229\tval-poisson-nloglik:2.609520\n",
        "[910]\ttrain-poisson-nloglik:2.499062\tval-poisson-nloglik:2.609394\n"
       ]
      },
      {
       "output_type": "stream",
       "stream": "stderr",
       "text": [
        "[911]\ttrain-poisson-nloglik:2.498742\tval-poisson-nloglik:2.609132\n",
        "[912]\ttrain-poisson-nloglik:2.498399\tval-poisson-nloglik:2.608853\n"
       ]
      },
      {
       "output_type": "stream",
       "stream": "stderr",
       "text": [
        "[913]\ttrain-poisson-nloglik:2.498064\tval-poisson-nloglik:2.608555\n",
        "[914]\ttrain-poisson-nloglik:2.497718\tval-poisson-nloglik:2.608281\n"
       ]
      },
      {
       "output_type": "stream",
       "stream": "stderr",
       "text": [
        "[915]\ttrain-poisson-nloglik:2.497389\tval-poisson-nloglik:2.608027\n",
        "[916]\ttrain-poisson-nloglik:2.497082\tval-poisson-nloglik:2.607766\n"
       ]
      },
      {
       "output_type": "stream",
       "stream": "stderr",
       "text": [
        "[917]\ttrain-poisson-nloglik:2.496768\tval-poisson-nloglik:2.607488\n",
        "[918]\ttrain-poisson-nloglik:2.496532\tval-poisson-nloglik:2.607289\n"
       ]
      },
      {
       "output_type": "stream",
       "stream": "stderr",
       "text": [
        "[919]\ttrain-poisson-nloglik:2.496259\tval-poisson-nloglik:2.607064\n",
        "[920]\ttrain-poisson-nloglik:2.496057\tval-poisson-nloglik:2.606905\n"
       ]
      },
      {
       "output_type": "stream",
       "stream": "stderr",
       "text": [
        "[921]\ttrain-poisson-nloglik:2.495732\tval-poisson-nloglik:2.606597\n",
        "[922]\ttrain-poisson-nloglik:2.495395\tval-poisson-nloglik:2.606311\n"
       ]
      },
      {
       "output_type": "stream",
       "stream": "stderr",
       "text": [
        "[923]\ttrain-poisson-nloglik:2.495158\tval-poisson-nloglik:2.606119\n",
        "[924]\ttrain-poisson-nloglik:2.494879\tval-poisson-nloglik:2.605887\n"
       ]
      },
      {
       "output_type": "stream",
       "stream": "stderr",
       "text": [
        "[925]\ttrain-poisson-nloglik:2.494558\tval-poisson-nloglik:2.605643\n",
        "[926]\ttrain-poisson-nloglik:2.494380\tval-poisson-nloglik:2.605498\n"
       ]
      },
      {
       "output_type": "stream",
       "stream": "stderr",
       "text": [
        "[927]\ttrain-poisson-nloglik:2.494256\tval-poisson-nloglik:2.605402\n",
        "[928]\ttrain-poisson-nloglik:2.493917\tval-poisson-nloglik:2.605136\n"
       ]
      },
      {
       "output_type": "stream",
       "stream": "stderr",
       "text": [
        "[929]\ttrain-poisson-nloglik:2.493630\tval-poisson-nloglik:2.604909\n",
        "[930]\ttrain-poisson-nloglik:2.493365\tval-poisson-nloglik:2.604698\n"
       ]
      },
      {
       "output_type": "stream",
       "stream": "stderr",
       "text": [
        "[931]\ttrain-poisson-nloglik:2.492991\tval-poisson-nloglik:2.604345\n",
        "[932]\ttrain-poisson-nloglik:2.492885\tval-poisson-nloglik:2.604259\n"
       ]
      },
      {
       "output_type": "stream",
       "stream": "stderr",
       "text": [
        "[933]\ttrain-poisson-nloglik:2.492750\tval-poisson-nloglik:2.604138\n",
        "[934]\ttrain-poisson-nloglik:2.492450\tval-poisson-nloglik:2.603890\n"
       ]
      },
      {
       "output_type": "stream",
       "stream": "stderr",
       "text": [
        "[935]\ttrain-poisson-nloglik:2.492181\tval-poisson-nloglik:2.603692\n",
        "[936]\ttrain-poisson-nloglik:2.491996\tval-poisson-nloglik:2.603545\n"
       ]
      },
      {
       "output_type": "stream",
       "stream": "stderr",
       "text": [
        "[937]\ttrain-poisson-nloglik:2.491649\tval-poisson-nloglik:2.603270\n",
        "[938]\ttrain-poisson-nloglik:2.491328\tval-poisson-nloglik:2.602989\n"
       ]
      },
      {
       "output_type": "stream",
       "stream": "stderr",
       "text": [
        "[939]\ttrain-poisson-nloglik:2.491066\tval-poisson-nloglik:2.602761\n",
        "[940]\ttrain-poisson-nloglik:2.490903\tval-poisson-nloglik:2.602617\n"
       ]
      },
      {
       "output_type": "stream",
       "stream": "stderr",
       "text": [
        "[941]\ttrain-poisson-nloglik:2.490646\tval-poisson-nloglik:2.602386\n",
        "[942]\ttrain-poisson-nloglik:2.490506\tval-poisson-nloglik:2.602277\n"
       ]
      },
      {
       "output_type": "stream",
       "stream": "stderr",
       "text": [
        "[943]\ttrain-poisson-nloglik:2.490213\tval-poisson-nloglik:2.602046\n",
        "[944]\ttrain-poisson-nloglik:2.489941\tval-poisson-nloglik:2.601820\n"
       ]
      },
      {
       "output_type": "stream",
       "stream": "stderr",
       "text": [
        "[945]\ttrain-poisson-nloglik:2.489581\tval-poisson-nloglik:2.601567\n",
        "[946]\ttrain-poisson-nloglik:2.489292\tval-poisson-nloglik:2.601312\n"
       ]
      },
      {
       "output_type": "stream",
       "stream": "stderr",
       "text": [
        "[947]\ttrain-poisson-nloglik:2.489187\tval-poisson-nloglik:2.601248\n",
        "[948]\ttrain-poisson-nloglik:2.488743\tval-poisson-nloglik:2.600877\n"
       ]
      },
      {
       "output_type": "stream",
       "stream": "stderr",
       "text": [
        "[949]\ttrain-poisson-nloglik:2.488544\tval-poisson-nloglik:2.600722\n",
        "[950]\ttrain-poisson-nloglik:2.488191\tval-poisson-nloglik:2.600446\n"
       ]
      },
      {
       "output_type": "stream",
       "stream": "stderr",
       "text": [
        "[951]\ttrain-poisson-nloglik:2.487869\tval-poisson-nloglik:2.600175\n",
        "[952]\ttrain-poisson-nloglik:2.487615\tval-poisson-nloglik:2.599971\n"
       ]
      },
      {
       "output_type": "stream",
       "stream": "stderr",
       "text": [
        "[953]\ttrain-poisson-nloglik:2.487297\tval-poisson-nloglik:2.599715\n",
        "[954]\ttrain-poisson-nloglik:2.486960\tval-poisson-nloglik:2.599400\n"
       ]
      },
      {
       "output_type": "stream",
       "stream": "stderr",
       "text": [
        "[955]\ttrain-poisson-nloglik:2.486602\tval-poisson-nloglik:2.599115\n",
        "[956]\ttrain-poisson-nloglik:2.486387\tval-poisson-nloglik:2.598939\n"
       ]
      },
      {
       "output_type": "stream",
       "stream": "stderr",
       "text": [
        "[957]\ttrain-poisson-nloglik:2.485981\tval-poisson-nloglik:2.598588\n",
        "[958]\ttrain-poisson-nloglik:2.485646\tval-poisson-nloglik:2.598310\n"
       ]
      },
      {
       "output_type": "stream",
       "stream": "stderr",
       "text": [
        "[959]\ttrain-poisson-nloglik:2.485435\tval-poisson-nloglik:2.598154\n",
        "[960]\ttrain-poisson-nloglik:2.485359\tval-poisson-nloglik:2.598086\n"
       ]
      },
      {
       "output_type": "stream",
       "stream": "stderr",
       "text": [
        "[961]\ttrain-poisson-nloglik:2.485034\tval-poisson-nloglik:2.597816\n",
        "[962]\ttrain-poisson-nloglik:2.484805\tval-poisson-nloglik:2.597587\n"
       ]
      },
      {
       "output_type": "stream",
       "stream": "stderr",
       "text": [
        "[963]\ttrain-poisson-nloglik:2.484541\tval-poisson-nloglik:2.597377\n",
        "[964]\ttrain-poisson-nloglik:2.484147\tval-poisson-nloglik:2.597055\n"
       ]
      },
      {
       "output_type": "stream",
       "stream": "stderr",
       "text": [
        "[965]\ttrain-poisson-nloglik:2.483875\tval-poisson-nloglik:2.596822\n",
        "[966]\ttrain-poisson-nloglik:2.483593\tval-poisson-nloglik:2.596611\n"
       ]
      },
      {
       "output_type": "stream",
       "stream": "stderr",
       "text": [
        "[967]\ttrain-poisson-nloglik:2.483435\tval-poisson-nloglik:2.596484\n",
        "[968]\ttrain-poisson-nloglik:2.483196\tval-poisson-nloglik:2.596278\n"
       ]
      },
      {
       "output_type": "stream",
       "stream": "stderr",
       "text": [
        "[969]\ttrain-poisson-nloglik:2.482902\tval-poisson-nloglik:2.596019\n",
        "[970]\ttrain-poisson-nloglik:2.482627\tval-poisson-nloglik:2.595789\n"
       ]
      },
      {
       "output_type": "stream",
       "stream": "stderr",
       "text": [
        "[971]\ttrain-poisson-nloglik:2.482408\tval-poisson-nloglik:2.595614\n",
        "[972]\ttrain-poisson-nloglik:2.482198\tval-poisson-nloglik:2.595453\n"
       ]
      },
      {
       "output_type": "stream",
       "stream": "stderr",
       "text": [
        "[973]\ttrain-poisson-nloglik:2.481827\tval-poisson-nloglik:2.595130\n",
        "[974]\ttrain-poisson-nloglik:2.481516\tval-poisson-nloglik:2.594828\n"
       ]
      },
      {
       "output_type": "stream",
       "stream": "stderr",
       "text": [
        "[975]\ttrain-poisson-nloglik:2.481104\tval-poisson-nloglik:2.594479\n",
        "[976]\ttrain-poisson-nloglik:2.480900\tval-poisson-nloglik:2.594309\n"
       ]
      },
      {
       "output_type": "stream",
       "stream": "stderr",
       "text": [
        "[977]\ttrain-poisson-nloglik:2.480668\tval-poisson-nloglik:2.594120\n",
        "[978]\ttrain-poisson-nloglik:2.480507\tval-poisson-nloglik:2.593973\n"
       ]
      },
      {
       "output_type": "stream",
       "stream": "stderr",
       "text": [
        "[979]\ttrain-poisson-nloglik:2.480217\tval-poisson-nloglik:2.593745\n",
        "[980]\ttrain-poisson-nloglik:2.480125\tval-poisson-nloglik:2.593667\n"
       ]
      },
      {
       "output_type": "stream",
       "stream": "stderr",
       "text": [
        "[981]\ttrain-poisson-nloglik:2.479823\tval-poisson-nloglik:2.593427\n",
        "[982]\ttrain-poisson-nloglik:2.479630\tval-poisson-nloglik:2.593308\n"
       ]
      },
      {
       "output_type": "stream",
       "stream": "stderr",
       "text": [
        "[983]\ttrain-poisson-nloglik:2.479477\tval-poisson-nloglik:2.593173\n",
        "[984]\ttrain-poisson-nloglik:2.479104\tval-poisson-nloglik:2.592879\n"
       ]
      },
      {
       "output_type": "stream",
       "stream": "stderr",
       "text": [
        "[985]\ttrain-poisson-nloglik:2.478805\tval-poisson-nloglik:2.592623\n",
        "[986]\ttrain-poisson-nloglik:2.478638\tval-poisson-nloglik:2.592508\n"
       ]
      },
      {
       "output_type": "stream",
       "stream": "stderr",
       "text": [
        "[987]\ttrain-poisson-nloglik:2.478462\tval-poisson-nloglik:2.592374\n",
        "[988]\ttrain-poisson-nloglik:2.478377\tval-poisson-nloglik:2.592306\n"
       ]
      },
      {
       "output_type": "stream",
       "stream": "stderr",
       "text": [
        "[989]\ttrain-poisson-nloglik:2.478212\tval-poisson-nloglik:2.592195\n",
        "[990]\ttrain-poisson-nloglik:2.477781\tval-poisson-nloglik:2.591810\n"
       ]
      },
      {
       "output_type": "stream",
       "stream": "stderr",
       "text": [
        "[991]\ttrain-poisson-nloglik:2.477487\tval-poisson-nloglik:2.591561\n",
        "[992]\ttrain-poisson-nloglik:2.477260\tval-poisson-nloglik:2.591393\n"
       ]
      },
      {
       "output_type": "stream",
       "stream": "stderr",
       "text": [
        "[993]\ttrain-poisson-nloglik:2.476999\tval-poisson-nloglik:2.591182\n",
        "[994]\ttrain-poisson-nloglik:2.476931\tval-poisson-nloglik:2.591115\n"
       ]
      },
      {
       "output_type": "stream",
       "stream": "stderr",
       "text": [
        "[995]\ttrain-poisson-nloglik:2.476447\tval-poisson-nloglik:2.590743\n",
        "[996]\ttrain-poisson-nloglik:2.476144\tval-poisson-nloglik:2.590514\n"
       ]
      },
      {
       "output_type": "stream",
       "stream": "stderr",
       "text": [
        "[997]\ttrain-poisson-nloglik:2.475907\tval-poisson-nloglik:2.590305\n",
        "[998]\ttrain-poisson-nloglik:2.475777\tval-poisson-nloglik:2.590205\n"
       ]
      },
      {
       "output_type": "stream",
       "stream": "stderr",
       "text": [
        "[999]\ttrain-poisson-nloglik:2.475374\tval-poisson-nloglik:2.589848\n",
        "[1000]\ttrain-poisson-nloglik:2.475006\tval-poisson-nloglik:2.589541\n"
       ]
      },
      {
       "output_type": "stream",
       "stream": "stderr",
       "text": [
        "[1001]\ttrain-poisson-nloglik:2.474794\tval-poisson-nloglik:2.589345\n",
        "[1002]\ttrain-poisson-nloglik:2.474601\tval-poisson-nloglik:2.589183\n"
       ]
      },
      {
       "output_type": "stream",
       "stream": "stderr",
       "text": [
        "[1003]\ttrain-poisson-nloglik:2.474380\tval-poisson-nloglik:2.588996\n",
        "[1004]\ttrain-poisson-nloglik:2.474118\tval-poisson-nloglik:2.588759\n"
       ]
      },
      {
       "output_type": "stream",
       "stream": "stderr",
       "text": [
        "[1005]\ttrain-poisson-nloglik:2.473877\tval-poisson-nloglik:2.588545\n",
        "[1006]\ttrain-poisson-nloglik:2.473729\tval-poisson-nloglik:2.588429\n"
       ]
      },
      {
       "output_type": "stream",
       "stream": "stderr",
       "text": [
        "[1007]\ttrain-poisson-nloglik:2.473583\tval-poisson-nloglik:2.588293\n",
        "[1008]\ttrain-poisson-nloglik:2.473275\tval-poisson-nloglik:2.588054\n"
       ]
      },
      {
       "output_type": "stream",
       "stream": "stderr",
       "text": [
        "[1009]\ttrain-poisson-nloglik:2.472992\tval-poisson-nloglik:2.587825\n",
        "[1010]\ttrain-poisson-nloglik:2.472758\tval-poisson-nloglik:2.587616\n"
       ]
      },
      {
       "output_type": "stream",
       "stream": "stderr",
       "text": [
        "[1011]\ttrain-poisson-nloglik:2.472633\tval-poisson-nloglik:2.587514\n",
        "[1012]\ttrain-poisson-nloglik:2.472310\tval-poisson-nloglik:2.587252\n"
       ]
      },
      {
       "output_type": "stream",
       "stream": "stderr",
       "text": [
        "[1013]\ttrain-poisson-nloglik:2.472059\tval-poisson-nloglik:2.587036\n",
        "[1014]\ttrain-poisson-nloglik:2.471905\tval-poisson-nloglik:2.586909\n"
       ]
      },
      {
       "output_type": "stream",
       "stream": "stderr",
       "text": [
        "[1015]\ttrain-poisson-nloglik:2.471682\tval-poisson-nloglik:2.586715\n",
        "[1016]\ttrain-poisson-nloglik:2.471483\tval-poisson-nloglik:2.586564\n"
       ]
      },
      {
       "output_type": "stream",
       "stream": "stderr",
       "text": [
        "[1017]\ttrain-poisson-nloglik:2.471101\tval-poisson-nloglik:2.586237\n",
        "[1018]\ttrain-poisson-nloglik:2.470921\tval-poisson-nloglik:2.586084\n"
       ]
      },
      {
       "output_type": "stream",
       "stream": "stderr",
       "text": [
        "[1019]\ttrain-poisson-nloglik:2.470741\tval-poisson-nloglik:2.585930\n",
        "[1020]\ttrain-poisson-nloglik:2.470566\tval-poisson-nloglik:2.585801\n"
       ]
      },
      {
       "output_type": "stream",
       "stream": "stderr",
       "text": [
        "[1021]\ttrain-poisson-nloglik:2.470253\tval-poisson-nloglik:2.585599\n",
        "[1022]\ttrain-poisson-nloglik:2.470092\tval-poisson-nloglik:2.585457\n"
       ]
      },
      {
       "output_type": "stream",
       "stream": "stderr",
       "text": [
        "[1023]\ttrain-poisson-nloglik:2.469752\tval-poisson-nloglik:2.585171\n",
        "[1024]\ttrain-poisson-nloglik:2.469592\tval-poisson-nloglik:2.585040\n"
       ]
      },
      {
       "output_type": "stream",
       "stream": "stderr",
       "text": [
        "[1025]\ttrain-poisson-nloglik:2.469314\tval-poisson-nloglik:2.584834\n",
        "[1026]\ttrain-poisson-nloglik:2.469047\tval-poisson-nloglik:2.584644\n"
       ]
      },
      {
       "output_type": "stream",
       "stream": "stderr",
       "text": [
        "[1027]\ttrain-poisson-nloglik:2.468895\tval-poisson-nloglik:2.584513\n",
        "[1028]\ttrain-poisson-nloglik:2.468581\tval-poisson-nloglik:2.584244\n"
       ]
      },
      {
       "output_type": "stream",
       "stream": "stderr",
       "text": [
        "[1029]\ttrain-poisson-nloglik:2.468458\tval-poisson-nloglik:2.584150\n",
        "[1030]\ttrain-poisson-nloglik:2.468297\tval-poisson-nloglik:2.584031\n"
       ]
      },
      {
       "output_type": "stream",
       "stream": "stderr",
       "text": [
        "[1031]\ttrain-poisson-nloglik:2.467995\tval-poisson-nloglik:2.583794\n",
        "[1032]\ttrain-poisson-nloglik:2.467632\tval-poisson-nloglik:2.583507\n"
       ]
      },
      {
       "output_type": "stream",
       "stream": "stderr",
       "text": [
        "[1033]\ttrain-poisson-nloglik:2.467431\tval-poisson-nloglik:2.583330\n",
        "[1034]\ttrain-poisson-nloglik:2.467080\tval-poisson-nloglik:2.583045\n"
       ]
      },
      {
       "output_type": "stream",
       "stream": "stderr",
       "text": [
        "[1035]\ttrain-poisson-nloglik:2.466987\tval-poisson-nloglik:2.582964\n",
        "[1036]\ttrain-poisson-nloglik:2.466716\tval-poisson-nloglik:2.582737\n"
       ]
      },
      {
       "output_type": "stream",
       "stream": "stderr",
       "text": [
        "[1037]\ttrain-poisson-nloglik:2.466444\tval-poisson-nloglik:2.582505\n",
        "[1038]\ttrain-poisson-nloglik:2.466112\tval-poisson-nloglik:2.582264\n"
       ]
      },
      {
       "output_type": "stream",
       "stream": "stderr",
       "text": [
        "[1039]\ttrain-poisson-nloglik:2.465833\tval-poisson-nloglik:2.582032\n",
        "[1040]\ttrain-poisson-nloglik:2.465591\tval-poisson-nloglik:2.581822\n"
       ]
      },
      {
       "output_type": "stream",
       "stream": "stderr",
       "text": [
        "[1041]\ttrain-poisson-nloglik:2.465384\tval-poisson-nloglik:2.581641\n",
        "[1042]\ttrain-poisson-nloglik:2.465182\tval-poisson-nloglik:2.581470\n"
       ]
      },
      {
       "output_type": "stream",
       "stream": "stderr",
       "text": [
        "[1043]\ttrain-poisson-nloglik:2.464909\tval-poisson-nloglik:2.581238\n",
        "[1044]\ttrain-poisson-nloglik:2.464739\tval-poisson-nloglik:2.581115\n"
       ]
      },
      {
       "output_type": "stream",
       "stream": "stderr",
       "text": [
        "[1045]\ttrain-poisson-nloglik:2.464504\tval-poisson-nloglik:2.580930\n",
        "[1046]\ttrain-poisson-nloglik:2.464441\tval-poisson-nloglik:2.580882\n"
       ]
      },
      {
       "output_type": "stream",
       "stream": "stderr",
       "text": [
        "[1047]\ttrain-poisson-nloglik:2.464327\tval-poisson-nloglik:2.580775\n",
        "[1048]\ttrain-poisson-nloglik:2.464018\tval-poisson-nloglik:2.580525\n"
       ]
      },
      {
       "output_type": "stream",
       "stream": "stderr",
       "text": [
        "[1049]\ttrain-poisson-nloglik:2.463751\tval-poisson-nloglik:2.580289\n",
        "[1050]\ttrain-poisson-nloglik:2.463320\tval-poisson-nloglik:2.579923\n"
       ]
      },
      {
       "output_type": "stream",
       "stream": "stderr",
       "text": [
        "[1051]\ttrain-poisson-nloglik:2.463032\tval-poisson-nloglik:2.579689\n",
        "[1052]\ttrain-poisson-nloglik:2.462594\tval-poisson-nloglik:2.579300\n"
       ]
      },
      {
       "output_type": "stream",
       "stream": "stderr",
       "text": [
        "[1053]\ttrain-poisson-nloglik:2.462288\tval-poisson-nloglik:2.579042\n",
        "[1054]\ttrain-poisson-nloglik:2.462064\tval-poisson-nloglik:2.578867\n"
       ]
      },
      {
       "output_type": "stream",
       "stream": "stderr",
       "text": [
        "[1055]\ttrain-poisson-nloglik:2.461987\tval-poisson-nloglik:2.578804\n",
        "[1056]\ttrain-poisson-nloglik:2.461773\tval-poisson-nloglik:2.578625\n"
       ]
      },
      {
       "output_type": "stream",
       "stream": "stderr",
       "text": [
        "[1057]\ttrain-poisson-nloglik:2.461562\tval-poisson-nloglik:2.578425\n",
        "[1058]\ttrain-poisson-nloglik:2.461482\tval-poisson-nloglik:2.578349\n"
       ]
      },
      {
       "output_type": "stream",
       "stream": "stderr",
       "text": [
        "[1059]\ttrain-poisson-nloglik:2.461149\tval-poisson-nloglik:2.578066\n",
        "[1060]\ttrain-poisson-nloglik:2.460974\tval-poisson-nloglik:2.577922\n"
       ]
      },
      {
       "output_type": "stream",
       "stream": "stderr",
       "text": [
        "[1061]\ttrain-poisson-nloglik:2.460732\tval-poisson-nloglik:2.577765\n",
        "[1062]\ttrain-poisson-nloglik:2.460508\tval-poisson-nloglik:2.577567\n"
       ]
      },
      {
       "output_type": "stream",
       "stream": "stderr",
       "text": [
        "[1063]\ttrain-poisson-nloglik:2.460253\tval-poisson-nloglik:2.577374\n",
        "[1064]\ttrain-poisson-nloglik:2.459919\tval-poisson-nloglik:2.577087\n"
       ]
      },
      {
       "output_type": "stream",
       "stream": "stderr",
       "text": [
        "[1065]\ttrain-poisson-nloglik:2.459732\tval-poisson-nloglik:2.576942\n",
        "[1066]\ttrain-poisson-nloglik:2.459650\tval-poisson-nloglik:2.576885\n"
       ]
      },
      {
       "output_type": "stream",
       "stream": "stderr",
       "text": [
        "[1067]\ttrain-poisson-nloglik:2.459326\tval-poisson-nloglik:2.576612\n",
        "[1068]\ttrain-poisson-nloglik:2.459023\tval-poisson-nloglik:2.576369\n"
       ]
      },
      {
       "output_type": "stream",
       "stream": "stderr",
       "text": [
        "[1069]\ttrain-poisson-nloglik:2.458802\tval-poisson-nloglik:2.576180\n",
        "[1070]\ttrain-poisson-nloglik:2.458652\tval-poisson-nloglik:2.576061\n"
       ]
      },
      {
       "output_type": "stream",
       "stream": "stderr",
       "text": [
        "[1071]\ttrain-poisson-nloglik:2.458475\tval-poisson-nloglik:2.575914\n",
        "[1072]\ttrain-poisson-nloglik:2.458237\tval-poisson-nloglik:2.575726\n"
       ]
      },
      {
       "output_type": "stream",
       "stream": "stderr",
       "text": [
        "[1073]\ttrain-poisson-nloglik:2.457998\tval-poisson-nloglik:2.575522\n",
        "[1074]\ttrain-poisson-nloglik:2.457730\tval-poisson-nloglik:2.575273\n"
       ]
      },
      {
       "output_type": "stream",
       "stream": "stderr",
       "text": [
        "[1075]\ttrain-poisson-nloglik:2.457550\tval-poisson-nloglik:2.575131\n",
        "[1076]\ttrain-poisson-nloglik:2.457222\tval-poisson-nloglik:2.574862\n"
       ]
      },
      {
       "output_type": "stream",
       "stream": "stderr",
       "text": [
        "[1077]\ttrain-poisson-nloglik:2.457102\tval-poisson-nloglik:2.574735\n",
        "[1078]\ttrain-poisson-nloglik:2.456883\tval-poisson-nloglik:2.574548\n"
       ]
      },
      {
       "output_type": "stream",
       "stream": "stderr",
       "text": [
        "[1079]\ttrain-poisson-nloglik:2.456642\tval-poisson-nloglik:2.574341\n",
        "[1080]\ttrain-poisson-nloglik:2.456357\tval-poisson-nloglik:2.574098\n"
       ]
      },
      {
       "output_type": "stream",
       "stream": "stderr",
       "text": [
        "[1081]\ttrain-poisson-nloglik:2.456037\tval-poisson-nloglik:2.573858\n",
        "[1082]\ttrain-poisson-nloglik:2.455837\tval-poisson-nloglik:2.573685\n"
       ]
      },
      {
       "output_type": "stream",
       "stream": "stderr",
       "text": [
        "[1083]\ttrain-poisson-nloglik:2.455704\tval-poisson-nloglik:2.573586\n",
        "[1084]\ttrain-poisson-nloglik:2.455513\tval-poisson-nloglik:2.573448\n"
       ]
      },
      {
       "output_type": "stream",
       "stream": "stderr",
       "text": [
        "[1085]\ttrain-poisson-nloglik:2.455436\tval-poisson-nloglik:2.573375\n",
        "[1086]\ttrain-poisson-nloglik:2.455245\tval-poisson-nloglik:2.573230\n"
       ]
      },
      {
       "output_type": "stream",
       "stream": "stderr",
       "text": [
        "[1087]\ttrain-poisson-nloglik:2.455087\tval-poisson-nloglik:2.573091\n",
        "[1088]\ttrain-poisson-nloglik:2.454842\tval-poisson-nloglik:2.572898\n"
       ]
      },
      {
       "output_type": "stream",
       "stream": "stderr",
       "text": [
        "[1089]\ttrain-poisson-nloglik:2.454658\tval-poisson-nloglik:2.572725\n",
        "[1090]\ttrain-poisson-nloglik:2.454478\tval-poisson-nloglik:2.572610\n"
       ]
      },
      {
       "output_type": "stream",
       "stream": "stderr",
       "text": [
        "[1091]\ttrain-poisson-nloglik:2.454269\tval-poisson-nloglik:2.572436\n",
        "[1092]\ttrain-poisson-nloglik:2.454083\tval-poisson-nloglik:2.572262\n"
       ]
      },
      {
       "output_type": "stream",
       "stream": "stderr",
       "text": [
        "[1093]\ttrain-poisson-nloglik:2.453701\tval-poisson-nloglik:2.571949\n",
        "[1094]\ttrain-poisson-nloglik:2.453415\tval-poisson-nloglik:2.571719\n"
       ]
      },
      {
       "output_type": "stream",
       "stream": "stderr",
       "text": [
        "[1095]\ttrain-poisson-nloglik:2.453305\tval-poisson-nloglik:2.571644\n",
        "[1096]\ttrain-poisson-nloglik:2.453013\tval-poisson-nloglik:2.571420\n"
       ]
      },
      {
       "output_type": "stream",
       "stream": "stderr",
       "text": [
        "[1097]\ttrain-poisson-nloglik:2.452763\tval-poisson-nloglik:2.571198\n",
        "[1098]\ttrain-poisson-nloglik:2.452652\tval-poisson-nloglik:2.571108\n"
       ]
      },
      {
       "output_type": "stream",
       "stream": "stderr",
       "text": [
        "[1099]\ttrain-poisson-nloglik:2.452335\tval-poisson-nloglik:2.570825\n",
        "[1100]\ttrain-poisson-nloglik:2.452203\tval-poisson-nloglik:2.570711\n"
       ]
      },
      {
       "output_type": "stream",
       "stream": "stderr",
       "text": [
        "[1101]\ttrain-poisson-nloglik:2.452018\tval-poisson-nloglik:2.570574\n",
        "[1102]\ttrain-poisson-nloglik:2.451759\tval-poisson-nloglik:2.570322\n"
       ]
      },
      {
       "output_type": "stream",
       "stream": "stderr",
       "text": [
        "[1103]\ttrain-poisson-nloglik:2.451597\tval-poisson-nloglik:2.570189\n",
        "[1104]\ttrain-poisson-nloglik:2.451421\tval-poisson-nloglik:2.570068\n"
       ]
      },
      {
       "output_type": "stream",
       "stream": "stderr",
       "text": [
        "[1105]\ttrain-poisson-nloglik:2.451020\tval-poisson-nloglik:2.569710\n",
        "[1106]\ttrain-poisson-nloglik:2.450695\tval-poisson-nloglik:2.569430\n"
       ]
      },
      {
       "output_type": "stream",
       "stream": "stderr",
       "text": [
        "[1107]\ttrain-poisson-nloglik:2.450413\tval-poisson-nloglik:2.569208\n",
        "[1108]\ttrain-poisson-nloglik:2.450144\tval-poisson-nloglik:2.568989\n"
       ]
      },
      {
       "output_type": "stream",
       "stream": "stderr",
       "text": [
        "[1109]\ttrain-poisson-nloglik:2.449958\tval-poisson-nloglik:2.568843\n",
        "[1110]\ttrain-poisson-nloglik:2.449819\tval-poisson-nloglik:2.568750\n"
       ]
      },
      {
       "output_type": "stream",
       "stream": "stderr",
       "text": [
        "[1111]\ttrain-poisson-nloglik:2.449654\tval-poisson-nloglik:2.568636\n",
        "[1112]\ttrain-poisson-nloglik:2.449404\tval-poisson-nloglik:2.568423\n"
       ]
      },
      {
       "output_type": "stream",
       "stream": "stderr",
       "text": [
        "[1113]\ttrain-poisson-nloglik:2.449180\tval-poisson-nloglik:2.568263\n",
        "[1114]\ttrain-poisson-nloglik:2.448875\tval-poisson-nloglik:2.567999\n"
       ]
      },
      {
       "output_type": "stream",
       "stream": "stderr",
       "text": [
        "[1115]\ttrain-poisson-nloglik:2.448729\tval-poisson-nloglik:2.567874\n",
        "[1116]\ttrain-poisson-nloglik:2.448486\tval-poisson-nloglik:2.567698\n"
       ]
      },
      {
       "output_type": "stream",
       "stream": "stderr",
       "text": [
        "[1117]\ttrain-poisson-nloglik:2.448177\tval-poisson-nloglik:2.567461\n",
        "[1118]\ttrain-poisson-nloglik:2.448034\tval-poisson-nloglik:2.567344\n"
       ]
      },
      {
       "output_type": "stream",
       "stream": "stderr",
       "text": [
        "[1119]\ttrain-poisson-nloglik:2.447816\tval-poisson-nloglik:2.567166\n",
        "[1120]\ttrain-poisson-nloglik:2.447659\tval-poisson-nloglik:2.567031\n"
       ]
      },
      {
       "output_type": "stream",
       "stream": "stderr",
       "text": [
        "[1121]\ttrain-poisson-nloglik:2.447587\tval-poisson-nloglik:2.566971\n",
        "[1122]\ttrain-poisson-nloglik:2.447400\tval-poisson-nloglik:2.566823\n"
       ]
      },
      {
       "output_type": "stream",
       "stream": "stderr",
       "text": [
        "[1123]\ttrain-poisson-nloglik:2.447248\tval-poisson-nloglik:2.566690\n",
        "[1124]\ttrain-poisson-nloglik:2.446985\tval-poisson-nloglik:2.566478\n"
       ]
      },
      {
       "output_type": "stream",
       "stream": "stderr",
       "text": [
        "[1125]\ttrain-poisson-nloglik:2.446775\tval-poisson-nloglik:2.566303\n",
        "[1126]\ttrain-poisson-nloglik:2.446627\tval-poisson-nloglik:2.566185\n"
       ]
      },
      {
       "output_type": "stream",
       "stream": "stderr",
       "text": [
        "[1127]\ttrain-poisson-nloglik:2.446358\tval-poisson-nloglik:2.565960\n",
        "[1128]\ttrain-poisson-nloglik:2.446215\tval-poisson-nloglik:2.565818\n"
       ]
      },
      {
       "output_type": "stream",
       "stream": "stderr",
       "text": [
        "[1129]\ttrain-poisson-nloglik:2.446078\tval-poisson-nloglik:2.565717\n",
        "[1130]\ttrain-poisson-nloglik:2.445873\tval-poisson-nloglik:2.565557\n"
       ]
      },
      {
       "output_type": "stream",
       "stream": "stderr",
       "text": [
        "[1131]\ttrain-poisson-nloglik:2.445693\tval-poisson-nloglik:2.565405\n",
        "[1132]\ttrain-poisson-nloglik:2.445410\tval-poisson-nloglik:2.565180\n"
       ]
      },
      {
       "output_type": "stream",
       "stream": "stderr",
       "text": [
        "[1133]\ttrain-poisson-nloglik:2.445343\tval-poisson-nloglik:2.565132\n",
        "[1134]\ttrain-poisson-nloglik:2.445212\tval-poisson-nloglik:2.565024\n"
       ]
      },
      {
       "output_type": "stream",
       "stream": "stderr",
       "text": [
        "[1135]\ttrain-poisson-nloglik:2.445065\tval-poisson-nloglik:2.564890\n",
        "[1136]\ttrain-poisson-nloglik:2.444824\tval-poisson-nloglik:2.564723\n"
       ]
      },
      {
       "output_type": "stream",
       "stream": "stderr",
       "text": [
        "[1137]\ttrain-poisson-nloglik:2.444607\tval-poisson-nloglik:2.564545\n",
        "[1138]\ttrain-poisson-nloglik:2.444490\tval-poisson-nloglik:2.564440\n"
       ]
      },
      {
       "output_type": "stream",
       "stream": "stderr",
       "text": [
        "[1139]\ttrain-poisson-nloglik:2.444237\tval-poisson-nloglik:2.564203\n",
        "[1140]\ttrain-poisson-nloglik:2.443989\tval-poisson-nloglik:2.564002\n"
       ]
      },
      {
       "output_type": "stream",
       "stream": "stderr",
       "text": [
        "[1141]\ttrain-poisson-nloglik:2.443729\tval-poisson-nloglik:2.563769\n",
        "[1142]\ttrain-poisson-nloglik:2.443404\tval-poisson-nloglik:2.563492\n"
       ]
      },
      {
       "output_type": "stream",
       "stream": "stderr",
       "text": [
        "[1143]\ttrain-poisson-nloglik:2.443134\tval-poisson-nloglik:2.563250\n",
        "[1144]\ttrain-poisson-nloglik:2.443031\tval-poisson-nloglik:2.563163\n"
       ]
      },
      {
       "output_type": "stream",
       "stream": "stderr",
       "text": [
        "[1145]\ttrain-poisson-nloglik:2.442648\tval-poisson-nloglik:2.562859\n",
        "[1146]\ttrain-poisson-nloglik:2.442518\tval-poisson-nloglik:2.562751\n"
       ]
      },
      {
       "output_type": "stream",
       "stream": "stderr",
       "text": [
        "[1147]\ttrain-poisson-nloglik:2.442361\tval-poisson-nloglik:2.562627\n",
        "[1148]\ttrain-poisson-nloglik:2.442114\tval-poisson-nloglik:2.562419\n"
       ]
      },
      {
       "output_type": "stream",
       "stream": "stderr",
       "text": [
        "[1149]\ttrain-poisson-nloglik:2.441905\tval-poisson-nloglik:2.562250\n",
        "[1150]\ttrain-poisson-nloglik:2.441795\tval-poisson-nloglik:2.562169\n"
       ]
      },
      {
       "output_type": "stream",
       "stream": "stderr",
       "text": [
        "[1151]\ttrain-poisson-nloglik:2.441482\tval-poisson-nloglik:2.561894\n",
        "[1152]\ttrain-poisson-nloglik:2.441272\tval-poisson-nloglik:2.561718\n"
       ]
      },
      {
       "output_type": "stream",
       "stream": "stderr",
       "text": [
        "[1153]\ttrain-poisson-nloglik:2.441144\tval-poisson-nloglik:2.561630\n",
        "[1154]\ttrain-poisson-nloglik:2.440942\tval-poisson-nloglik:2.561443\n"
       ]
      },
      {
       "output_type": "stream",
       "stream": "stderr",
       "text": [
        "[1155]\ttrain-poisson-nloglik:2.440666\tval-poisson-nloglik:2.561239\n",
        "[1156]\ttrain-poisson-nloglik:2.440362\tval-poisson-nloglik:2.560995\n"
       ]
      },
      {
       "output_type": "stream",
       "stream": "stderr",
       "text": [
        "[1157]\ttrain-poisson-nloglik:2.440133\tval-poisson-nloglik:2.560811\n",
        "[1158]\ttrain-poisson-nloglik:2.439907\tval-poisson-nloglik:2.560627\n"
       ]
      },
      {
       "output_type": "stream",
       "stream": "stderr",
       "text": [
        "[1159]\ttrain-poisson-nloglik:2.439746\tval-poisson-nloglik:2.560477\n",
        "[1160]\ttrain-poisson-nloglik:2.439641\tval-poisson-nloglik:2.560403\n"
       ]
      },
      {
       "output_type": "stream",
       "stream": "stderr",
       "text": [
        "[1161]\ttrain-poisson-nloglik:2.439459\tval-poisson-nloglik:2.560248\n",
        "[1162]\ttrain-poisson-nloglik:2.439178\tval-poisson-nloglik:2.560001\n"
       ]
      },
      {
       "output_type": "stream",
       "stream": "stderr",
       "text": [
        "[1163]\ttrain-poisson-nloglik:2.438900\tval-poisson-nloglik:2.559788\n",
        "[1164]\ttrain-poisson-nloglik:2.438753\tval-poisson-nloglik:2.559655\n"
       ]
      },
      {
       "output_type": "stream",
       "stream": "stderr",
       "text": [
        "[1165]\ttrain-poisson-nloglik:2.438509\tval-poisson-nloglik:2.559458\n",
        "[1166]\ttrain-poisson-nloglik:2.438304\tval-poisson-nloglik:2.559307\n"
       ]
      },
      {
       "output_type": "stream",
       "stream": "stderr",
       "text": [
        "[1167]\ttrain-poisson-nloglik:2.438028\tval-poisson-nloglik:2.559078\n",
        "[1168]\ttrain-poisson-nloglik:2.437885\tval-poisson-nloglik:2.558976\n"
       ]
      },
      {
       "output_type": "stream",
       "stream": "stderr",
       "text": [
        "[1169]\ttrain-poisson-nloglik:2.437504\tval-poisson-nloglik:2.558697\n",
        "[1170]\ttrain-poisson-nloglik:2.437393\tval-poisson-nloglik:2.558593\n"
       ]
      },
      {
       "output_type": "stream",
       "stream": "stderr",
       "text": [
        "[1171]\ttrain-poisson-nloglik:2.437309\tval-poisson-nloglik:2.558520\n",
        "[1172]\ttrain-poisson-nloglik:2.436924\tval-poisson-nloglik:2.558250\n"
       ]
      },
      {
       "output_type": "stream",
       "stream": "stderr",
       "text": [
        "[1173]\ttrain-poisson-nloglik:2.436829\tval-poisson-nloglik:2.558161\n",
        "[1174]\ttrain-poisson-nloglik:2.436702\tval-poisson-nloglik:2.558058\n"
       ]
      },
      {
       "output_type": "stream",
       "stream": "stderr",
       "text": [
        "[1175]\ttrain-poisson-nloglik:2.436456\tval-poisson-nloglik:2.557852\n",
        "[1176]\ttrain-poisson-nloglik:2.436087\tval-poisson-nloglik:2.557526\n"
       ]
      },
      {
       "output_type": "stream",
       "stream": "stderr",
       "text": [
        "[1177]\ttrain-poisson-nloglik:2.435768\tval-poisson-nloglik:2.557272\n",
        "[1178]\ttrain-poisson-nloglik:2.435578\tval-poisson-nloglik:2.557136\n"
       ]
      },
      {
       "output_type": "stream",
       "stream": "stderr",
       "text": [
        "[1179]\ttrain-poisson-nloglik:2.435497\tval-poisson-nloglik:2.557081\n",
        "[1180]\ttrain-poisson-nloglik:2.435350\tval-poisson-nloglik:2.556962\n"
       ]
      },
      {
       "output_type": "stream",
       "stream": "stderr",
       "text": [
        "[1181]\ttrain-poisson-nloglik:2.435224\tval-poisson-nloglik:2.556872\n",
        "[1182]\ttrain-poisson-nloglik:2.435004\tval-poisson-nloglik:2.556676\n"
       ]
      },
      {
       "output_type": "stream",
       "stream": "stderr",
       "text": [
        "[1183]\ttrain-poisson-nloglik:2.434729\tval-poisson-nloglik:2.556397\n",
        "[1184]\ttrain-poisson-nloglik:2.434562\tval-poisson-nloglik:2.556256\n"
       ]
      },
      {
       "output_type": "stream",
       "stream": "stderr",
       "text": [
        "[1185]\ttrain-poisson-nloglik:2.434293\tval-poisson-nloglik:2.556033\n",
        "[1186]\ttrain-poisson-nloglik:2.433935\tval-poisson-nloglik:2.555751\n"
       ]
      },
      {
       "output_type": "stream",
       "stream": "stderr",
       "text": [
        "[1187]\ttrain-poisson-nloglik:2.433760\tval-poisson-nloglik:2.555604\n",
        "[1188]\ttrain-poisson-nloglik:2.433583\tval-poisson-nloglik:2.555455\n"
       ]
      },
      {
       "output_type": "stream",
       "stream": "stderr",
       "text": [
        "[1189]\ttrain-poisson-nloglik:2.433365\tval-poisson-nloglik:2.555277\n",
        "[1190]\ttrain-poisson-nloglik:2.433212\tval-poisson-nloglik:2.555150\n"
       ]
      },
      {
       "output_type": "stream",
       "stream": "stderr",
       "text": [
        "[1191]\ttrain-poisson-nloglik:2.432991\tval-poisson-nloglik:2.555001\n",
        "[1192]\ttrain-poisson-nloglik:2.432792\tval-poisson-nloglik:2.554827\n"
       ]
      },
      {
       "output_type": "stream",
       "stream": "stderr",
       "text": [
        "[1193]\ttrain-poisson-nloglik:2.432511\tval-poisson-nloglik:2.554606\n",
        "[1194]\ttrain-poisson-nloglik:2.432195\tval-poisson-nloglik:2.554373\n"
       ]
      },
      {
       "output_type": "stream",
       "stream": "stderr",
       "text": [
        "[1195]\ttrain-poisson-nloglik:2.431999\tval-poisson-nloglik:2.554207\n",
        "[1196]\ttrain-poisson-nloglik:2.431727\tval-poisson-nloglik:2.554003\n"
       ]
      },
      {
       "output_type": "stream",
       "stream": "stderr",
       "text": [
        "[1197]\ttrain-poisson-nloglik:2.431515\tval-poisson-nloglik:2.553817\n",
        "[1198]\ttrain-poisson-nloglik:2.431344\tval-poisson-nloglik:2.553669\n"
       ]
      },
      {
       "output_type": "stream",
       "stream": "stderr",
       "text": [
        "[1199]\ttrain-poisson-nloglik:2.431001\tval-poisson-nloglik:2.553393\n",
        "[1200]\ttrain-poisson-nloglik:2.430874\tval-poisson-nloglik:2.553298\n"
       ]
      },
      {
       "output_type": "stream",
       "stream": "stderr",
       "text": [
        "[1201]\ttrain-poisson-nloglik:2.430665\tval-poisson-nloglik:2.553110\n",
        "[1202]\ttrain-poisson-nloglik:2.430504\tval-poisson-nloglik:2.552964\n"
       ]
      },
      {
       "output_type": "stream",
       "stream": "stderr",
       "text": [
        "[1203]\ttrain-poisson-nloglik:2.430268\tval-poisson-nloglik:2.552746\n",
        "[1204]\ttrain-poisson-nloglik:2.430120\tval-poisson-nloglik:2.552616\n"
       ]
      },
      {
       "output_type": "stream",
       "stream": "stderr",
       "text": [
        "[1205]\ttrain-poisson-nloglik:2.429748\tval-poisson-nloglik:2.552285\n",
        "[1206]\ttrain-poisson-nloglik:2.429648\tval-poisson-nloglik:2.552206\n"
       ]
      },
      {
       "output_type": "stream",
       "stream": "stderr",
       "text": [
        "[1207]\ttrain-poisson-nloglik:2.429538\tval-poisson-nloglik:2.552117\n",
        "[1208]\ttrain-poisson-nloglik:2.429318\tval-poisson-nloglik:2.551939\n"
       ]
      },
      {
       "output_type": "stream",
       "stream": "stderr",
       "text": [
        "[1209]\ttrain-poisson-nloglik:2.429221\tval-poisson-nloglik:2.551865\n",
        "[1210]\ttrain-poisson-nloglik:2.429059\tval-poisson-nloglik:2.551736\n"
       ]
      },
      {
       "output_type": "stream",
       "stream": "stderr",
       "text": [
        "[1211]\ttrain-poisson-nloglik:2.428883\tval-poisson-nloglik:2.551574\n",
        "[1212]\ttrain-poisson-nloglik:2.428685\tval-poisson-nloglik:2.551419\n"
       ]
      },
      {
       "output_type": "stream",
       "stream": "stderr",
       "text": [
        "[1213]\ttrain-poisson-nloglik:2.428558\tval-poisson-nloglik:2.551300\n",
        "[1214]\ttrain-poisson-nloglik:2.428415\tval-poisson-nloglik:2.551173\n"
       ]
      },
      {
       "output_type": "stream",
       "stream": "stderr",
       "text": [
        "[1215]\ttrain-poisson-nloglik:2.428303\tval-poisson-nloglik:2.551097\n",
        "[1216]\ttrain-poisson-nloglik:2.428152\tval-poisson-nloglik:2.550974\n"
       ]
      },
      {
       "output_type": "stream",
       "stream": "stderr",
       "text": [
        "[1217]\ttrain-poisson-nloglik:2.427972\tval-poisson-nloglik:2.550799\n",
        "[1218]\ttrain-poisson-nloglik:2.427821\tval-poisson-nloglik:2.550674\n"
       ]
      },
      {
       "output_type": "stream",
       "stream": "stderr",
       "text": [
        "[1219]\ttrain-poisson-nloglik:2.427636\tval-poisson-nloglik:2.550527\n",
        "[1220]\ttrain-poisson-nloglik:2.427435\tval-poisson-nloglik:2.550367\n"
       ]
      },
      {
       "output_type": "stream",
       "stream": "stderr",
       "text": [
        "[1221]\ttrain-poisson-nloglik:2.427253\tval-poisson-nloglik:2.550229\n",
        "[1222]\ttrain-poisson-nloglik:2.427151\tval-poisson-nloglik:2.550161\n"
       ]
      },
      {
       "output_type": "stream",
       "stream": "stderr",
       "text": [
        "[1223]\ttrain-poisson-nloglik:2.426942\tval-poisson-nloglik:2.549983\n",
        "[1224]\ttrain-poisson-nloglik:2.426747\tval-poisson-nloglik:2.549852\n"
       ]
      },
      {
       "output_type": "stream",
       "stream": "stderr",
       "text": [
        "[1225]\ttrain-poisson-nloglik:2.426636\tval-poisson-nloglik:2.549733\n",
        "[1226]\ttrain-poisson-nloglik:2.426370\tval-poisson-nloglik:2.549523\n"
       ]
      },
      {
       "output_type": "stream",
       "stream": "stderr",
       "text": [
        "[1227]\ttrain-poisson-nloglik:2.426152\tval-poisson-nloglik:2.549360\n",
        "[1228]\ttrain-poisson-nloglik:2.425942\tval-poisson-nloglik:2.549172\n"
       ]
      },
      {
       "output_type": "stream",
       "stream": "stderr",
       "text": [
        "[1229]\ttrain-poisson-nloglik:2.425832\tval-poisson-nloglik:2.549075\n",
        "[1230]\ttrain-poisson-nloglik:2.425686\tval-poisson-nloglik:2.548959\n"
       ]
      },
      {
       "output_type": "stream",
       "stream": "stderr",
       "text": [
        "[1231]\ttrain-poisson-nloglik:2.425506\tval-poisson-nloglik:2.548815\n",
        "[1232]\ttrain-poisson-nloglik:2.425351\tval-poisson-nloglik:2.548714\n"
       ]
      },
      {
       "output_type": "stream",
       "stream": "stderr",
       "text": [
        "[1233]\ttrain-poisson-nloglik:2.425162\tval-poisson-nloglik:2.548576\n",
        "[1234]\ttrain-poisson-nloglik:2.424940\tval-poisson-nloglik:2.548402\n"
       ]
      },
      {
       "output_type": "stream",
       "stream": "stderr",
       "text": [
        "[1235]\ttrain-poisson-nloglik:2.424801\tval-poisson-nloglik:2.548273\n",
        "[1236]\ttrain-poisson-nloglik:2.424686\tval-poisson-nloglik:2.548174\n"
       ]
      },
      {
       "output_type": "stream",
       "stream": "stderr",
       "text": [
        "[1237]\ttrain-poisson-nloglik:2.424597\tval-poisson-nloglik:2.548118\n",
        "[1238]\ttrain-poisson-nloglik:2.424360\tval-poisson-nloglik:2.547930\n"
       ]
      },
      {
       "output_type": "stream",
       "stream": "stderr",
       "text": [
        "[1239]\ttrain-poisson-nloglik:2.424184\tval-poisson-nloglik:2.547791\n",
        "[1240]\ttrain-poisson-nloglik:2.423998\tval-poisson-nloglik:2.547638\n"
       ]
      },
      {
       "output_type": "stream",
       "stream": "stderr",
       "text": [
        "[1241]\ttrain-poisson-nloglik:2.423743\tval-poisson-nloglik:2.547407\n",
        "[1242]\ttrain-poisson-nloglik:2.423555\tval-poisson-nloglik:2.547258\n"
       ]
      },
      {
       "output_type": "stream",
       "stream": "stderr",
       "text": [
        "[1243]\ttrain-poisson-nloglik:2.423434\tval-poisson-nloglik:2.547172\n",
        "[1244]\ttrain-poisson-nloglik:2.423164\tval-poisson-nloglik:2.546957\n"
       ]
      },
      {
       "output_type": "stream",
       "stream": "stderr",
       "text": [
        "[1245]\ttrain-poisson-nloglik:2.422971\tval-poisson-nloglik:2.546797\n",
        "[1246]\ttrain-poisson-nloglik:2.422821\tval-poisson-nloglik:2.546672\n"
       ]
      },
      {
       "output_type": "stream",
       "stream": "stderr",
       "text": [
        "[1247]\ttrain-poisson-nloglik:2.422628\tval-poisson-nloglik:2.546498\n",
        "[1248]\ttrain-poisson-nloglik:2.422508\tval-poisson-nloglik:2.546411\n"
       ]
      },
      {
       "output_type": "stream",
       "stream": "stderr",
       "text": [
        "[1249]\ttrain-poisson-nloglik:2.422322\tval-poisson-nloglik:2.546256\n",
        "[1250]\ttrain-poisson-nloglik:2.422180\tval-poisson-nloglik:2.546143\n"
       ]
      },
      {
       "output_type": "stream",
       "stream": "stderr",
       "text": [
        "[1251]\ttrain-poisson-nloglik:2.421980\tval-poisson-nloglik:2.546016\n",
        "[1252]\ttrain-poisson-nloglik:2.421805\tval-poisson-nloglik:2.545860\n"
       ]
      },
      {
       "output_type": "stream",
       "stream": "stderr",
       "text": [
        "[1253]\ttrain-poisson-nloglik:2.421597\tval-poisson-nloglik:2.545681\n",
        "[1254]\ttrain-poisson-nloglik:2.421360\tval-poisson-nloglik:2.545497\n"
       ]
      },
      {
       "output_type": "stream",
       "stream": "stderr",
       "text": [
        "[1255]\ttrain-poisson-nloglik:2.421216\tval-poisson-nloglik:2.545385\n",
        "[1256]\ttrain-poisson-nloglik:2.421023\tval-poisson-nloglik:2.545227\n"
       ]
      },
      {
       "output_type": "stream",
       "stream": "stderr",
       "text": [
        "[1257]\ttrain-poisson-nloglik:2.420898\tval-poisson-nloglik:2.545137\n",
        "[1258]\ttrain-poisson-nloglik:2.420802\tval-poisson-nloglik:2.545048\n"
       ]
      },
      {
       "output_type": "stream",
       "stream": "stderr",
       "text": [
        "[1259]\ttrain-poisson-nloglik:2.420468\tval-poisson-nloglik:2.544779\n",
        "[1260]\ttrain-poisson-nloglik:2.420209\tval-poisson-nloglik:2.544591\n"
       ]
      },
      {
       "output_type": "stream",
       "stream": "stderr",
       "text": [
        "[1261]\ttrain-poisson-nloglik:2.420042\tval-poisson-nloglik:2.544437\n",
        "[1262]\ttrain-poisson-nloglik:2.419790\tval-poisson-nloglik:2.544188\n"
       ]
      },
      {
       "output_type": "stream",
       "stream": "stderr",
       "text": [
        "[1263]\ttrain-poisson-nloglik:2.419398\tval-poisson-nloglik:2.543900\n",
        "[1264]\ttrain-poisson-nloglik:2.419228\tval-poisson-nloglik:2.543759\n"
       ]
      },
      {
       "output_type": "stream",
       "stream": "stderr",
       "text": [
        "[1265]\ttrain-poisson-nloglik:2.419132\tval-poisson-nloglik:2.543672\n",
        "[1266]\ttrain-poisson-nloglik:2.419003\tval-poisson-nloglik:2.543580\n"
       ]
      },
      {
       "output_type": "stream",
       "stream": "stderr",
       "text": [
        "[1267]\ttrain-poisson-nloglik:2.418709\tval-poisson-nloglik:2.543330\n",
        "[1268]\ttrain-poisson-nloglik:2.418633\tval-poisson-nloglik:2.543254\n"
       ]
      },
      {
       "output_type": "stream",
       "stream": "stderr",
       "text": [
        "[1269]\ttrain-poisson-nloglik:2.418382\tval-poisson-nloglik:2.543051\n",
        "[1270]\ttrain-poisson-nloglik:2.418237\tval-poisson-nloglik:2.542936\n"
       ]
      },
      {
       "output_type": "stream",
       "stream": "stderr",
       "text": [
        "[1271]\ttrain-poisson-nloglik:2.418086\tval-poisson-nloglik:2.542821\n",
        "[1272]\ttrain-poisson-nloglik:2.417751\tval-poisson-nloglik:2.542528\n"
       ]
      },
      {
       "output_type": "stream",
       "stream": "stderr",
       "text": [
        "[1273]\ttrain-poisson-nloglik:2.417568\tval-poisson-nloglik:2.542392\n",
        "[1274]\ttrain-poisson-nloglik:2.417394\tval-poisson-nloglik:2.542222\n"
       ]
      },
      {
       "output_type": "stream",
       "stream": "stderr",
       "text": [
        "[1275]\ttrain-poisson-nloglik:2.417207\tval-poisson-nloglik:2.542073\n",
        "[1276]\ttrain-poisson-nloglik:2.417071\tval-poisson-nloglik:2.541945\n"
       ]
      },
      {
       "output_type": "stream",
       "stream": "stderr",
       "text": [
        "[1277]\ttrain-poisson-nloglik:2.416900\tval-poisson-nloglik:2.541820\n",
        "[1278]\ttrain-poisson-nloglik:2.416730\tval-poisson-nloglik:2.541709\n"
       ]
      },
      {
       "output_type": "stream",
       "stream": "stderr",
       "text": [
        "[1279]\ttrain-poisson-nloglik:2.416614\tval-poisson-nloglik:2.541610\n",
        "[1280]\ttrain-poisson-nloglik:2.416357\tval-poisson-nloglik:2.541400\n"
       ]
      },
      {
       "output_type": "stream",
       "stream": "stderr",
       "text": [
        "[1281]\ttrain-poisson-nloglik:2.416195\tval-poisson-nloglik:2.541258\n",
        "[1282]\ttrain-poisson-nloglik:2.415997\tval-poisson-nloglik:2.541134\n"
       ]
      },
      {
       "output_type": "stream",
       "stream": "stderr",
       "text": [
        "[1283]\ttrain-poisson-nloglik:2.415817\tval-poisson-nloglik:2.540995\n",
        "[1284]\ttrain-poisson-nloglik:2.415582\tval-poisson-nloglik:2.540805\n"
       ]
      },
      {
       "output_type": "stream",
       "stream": "stderr",
       "text": [
        "[1285]\ttrain-poisson-nloglik:2.415446\tval-poisson-nloglik:2.540700\n",
        "[1286]\ttrain-poisson-nloglik:2.415281\tval-poisson-nloglik:2.540575\n"
       ]
      },
      {
       "output_type": "stream",
       "stream": "stderr",
       "text": [
        "[1287]\ttrain-poisson-nloglik:2.415007\tval-poisson-nloglik:2.540375\n",
        "[1288]\ttrain-poisson-nloglik:2.414843\tval-poisson-nloglik:2.540236\n"
       ]
      },
      {
       "output_type": "stream",
       "stream": "stderr",
       "text": [
        "[1289]\ttrain-poisson-nloglik:2.414612\tval-poisson-nloglik:2.540036\n",
        "[1290]\ttrain-poisson-nloglik:2.414415\tval-poisson-nloglik:2.539885\n"
       ]
      },
      {
       "output_type": "stream",
       "stream": "stderr",
       "text": [
        "[1291]\ttrain-poisson-nloglik:2.414237\tval-poisson-nloglik:2.539718\n",
        "[1292]\ttrain-poisson-nloglik:2.413945\tval-poisson-nloglik:2.539476\n"
       ]
      },
      {
       "output_type": "stream",
       "stream": "stderr",
       "text": [
        "[1293]\ttrain-poisson-nloglik:2.413671\tval-poisson-nloglik:2.539259\n",
        "[1294]\ttrain-poisson-nloglik:2.413589\tval-poisson-nloglik:2.539175\n"
       ]
      },
      {
       "output_type": "stream",
       "stream": "stderr",
       "text": [
        "[1295]\ttrain-poisson-nloglik:2.413209\tval-poisson-nloglik:2.538833\n",
        "[1296]\ttrain-poisson-nloglik:2.412988\tval-poisson-nloglik:2.538675\n"
       ]
      },
      {
       "output_type": "stream",
       "stream": "stderr",
       "text": [
        "[1297]\ttrain-poisson-nloglik:2.412788\tval-poisson-nloglik:2.538498\n",
        "[1298]\ttrain-poisson-nloglik:2.412607\tval-poisson-nloglik:2.538353\n"
       ]
      },
      {
       "output_type": "stream",
       "stream": "stderr",
       "text": [
        "[1299]\ttrain-poisson-nloglik:2.412503\tval-poisson-nloglik:2.538264\n",
        "[1300]\ttrain-poisson-nloglik:2.412206\tval-poisson-nloglik:2.538004\n"
       ]
      },
      {
       "output_type": "stream",
       "stream": "stderr",
       "text": [
        "[1301]\ttrain-poisson-nloglik:2.411855\tval-poisson-nloglik:2.537716\n",
        "[1302]\ttrain-poisson-nloglik:2.411747\tval-poisson-nloglik:2.537620\n"
       ]
      },
      {
       "output_type": "stream",
       "stream": "stderr",
       "text": [
        "[1303]\ttrain-poisson-nloglik:2.411622\tval-poisson-nloglik:2.537513\n",
        "[1304]\ttrain-poisson-nloglik:2.411406\tval-poisson-nloglik:2.537343\n"
       ]
      },
      {
       "output_type": "stream",
       "stream": "stderr",
       "text": [
        "[1305]\ttrain-poisson-nloglik:2.411241\tval-poisson-nloglik:2.537202\n",
        "[1306]\ttrain-poisson-nloglik:2.411069\tval-poisson-nloglik:2.537075\n"
       ]
      },
      {
       "output_type": "stream",
       "stream": "stderr",
       "text": [
        "[1307]\ttrain-poisson-nloglik:2.410941\tval-poisson-nloglik:2.536953\n",
        "[1308]\ttrain-poisson-nloglik:2.410754\tval-poisson-nloglik:2.536818\n"
       ]
      },
      {
       "output_type": "stream",
       "stream": "stderr",
       "text": [
        "[1309]\ttrain-poisson-nloglik:2.410534\tval-poisson-nloglik:2.536657\n",
        "[1310]\ttrain-poisson-nloglik:2.410374\tval-poisson-nloglik:2.536531\n"
       ]
      },
      {
       "output_type": "stream",
       "stream": "stderr",
       "text": [
        "[1311]\ttrain-poisson-nloglik:2.410256\tval-poisson-nloglik:2.536424\n",
        "[1312]\ttrain-poisson-nloglik:2.410141\tval-poisson-nloglik:2.536339\n"
       ]
      },
      {
       "output_type": "stream",
       "stream": "stderr",
       "text": [
        "[1313]\ttrain-poisson-nloglik:2.409984\tval-poisson-nloglik:2.536219\n",
        "[1314]\ttrain-poisson-nloglik:2.409824\tval-poisson-nloglik:2.536089\n"
       ]
      },
      {
       "output_type": "stream",
       "stream": "stderr",
       "text": [
        "[1315]\ttrain-poisson-nloglik:2.409652\tval-poisson-nloglik:2.535952\n",
        "[1316]\ttrain-poisson-nloglik:2.409514\tval-poisson-nloglik:2.535858\n"
       ]
      },
      {
       "output_type": "stream",
       "stream": "stderr",
       "text": [
        "[1317]\ttrain-poisson-nloglik:2.409361\tval-poisson-nloglik:2.535729\n",
        "[1318]\ttrain-poisson-nloglik:2.409134\tval-poisson-nloglik:2.535544\n"
       ]
      },
      {
       "output_type": "stream",
       "stream": "stderr",
       "text": [
        "[1319]\ttrain-poisson-nloglik:2.408851\tval-poisson-nloglik:2.535320\n",
        "[1320]\ttrain-poisson-nloglik:2.408647\tval-poisson-nloglik:2.535138\n"
       ]
      },
      {
       "output_type": "stream",
       "stream": "stderr",
       "text": [
        "[1321]\ttrain-poisson-nloglik:2.408514\tval-poisson-nloglik:2.535032\n",
        "[1322]\ttrain-poisson-nloglik:2.408364\tval-poisson-nloglik:2.534904\n"
       ]
      },
      {
       "output_type": "stream",
       "stream": "stderr",
       "text": [
        "[1323]\ttrain-poisson-nloglik:2.408256\tval-poisson-nloglik:2.534823\n",
        "[1324]\ttrain-poisson-nloglik:2.408175\tval-poisson-nloglik:2.534748\n"
       ]
      },
      {
       "output_type": "stream",
       "stream": "stderr",
       "text": [
        "[1325]\ttrain-poisson-nloglik:2.408074\tval-poisson-nloglik:2.534662\n",
        "[1326]\ttrain-poisson-nloglik:2.407800\tval-poisson-nloglik:2.534427\n"
       ]
      },
      {
       "output_type": "stream",
       "stream": "stderr",
       "text": [
        "[1327]\ttrain-poisson-nloglik:2.407592\tval-poisson-nloglik:2.534292\n",
        "[1328]\ttrain-poisson-nloglik:2.407394\tval-poisson-nloglik:2.534140\n"
       ]
      },
      {
       "output_type": "stream",
       "stream": "stderr",
       "text": [
        "[1329]\ttrain-poisson-nloglik:2.407185\tval-poisson-nloglik:2.533972\n",
        "[1330]\ttrain-poisson-nloglik:2.407001\tval-poisson-nloglik:2.533825\n"
       ]
      },
      {
       "output_type": "stream",
       "stream": "stderr",
       "text": [
        "[1331]\ttrain-poisson-nloglik:2.406808\tval-poisson-nloglik:2.533665\n",
        "[1332]\ttrain-poisson-nloglik:2.406616\tval-poisson-nloglik:2.533516\n"
       ]
      },
      {
       "output_type": "stream",
       "stream": "stderr",
       "text": [
        "[1333]\ttrain-poisson-nloglik:2.406468\tval-poisson-nloglik:2.533396\n",
        "[1334]\ttrain-poisson-nloglik:2.406399\tval-poisson-nloglik:2.533346\n"
       ]
      },
      {
       "output_type": "stream",
       "stream": "stderr",
       "text": [
        "[1335]\ttrain-poisson-nloglik:2.406282\tval-poisson-nloglik:2.533255\n",
        "[1336]\ttrain-poisson-nloglik:2.406076\tval-poisson-nloglik:2.533090\n"
       ]
      },
      {
       "output_type": "stream",
       "stream": "stderr",
       "text": [
        "[1337]\ttrain-poisson-nloglik:2.405859\tval-poisson-nloglik:2.532907\n",
        "[1338]\ttrain-poisson-nloglik:2.405591\tval-poisson-nloglik:2.532701\n"
       ]
      },
      {
       "output_type": "stream",
       "stream": "stderr",
       "text": [
        "[1339]\ttrain-poisson-nloglik:2.405378\tval-poisson-nloglik:2.532555\n",
        "[1340]\ttrain-poisson-nloglik:2.405264\tval-poisson-nloglik:2.532466\n"
       ]
      },
      {
       "output_type": "stream",
       "stream": "stderr",
       "text": [
        "[1341]\ttrain-poisson-nloglik:2.405149\tval-poisson-nloglik:2.532354\n",
        "[1342]\ttrain-poisson-nloglik:2.405003\tval-poisson-nloglik:2.532238\n"
       ]
      },
      {
       "output_type": "stream",
       "stream": "stderr",
       "text": [
        "[1343]\ttrain-poisson-nloglik:2.404809\tval-poisson-nloglik:2.532077\n",
        "[1344]\ttrain-poisson-nloglik:2.404673\tval-poisson-nloglik:2.531984\n"
       ]
      },
      {
       "output_type": "stream",
       "stream": "stderr",
       "text": [
        "[1345]\ttrain-poisson-nloglik:2.404558\tval-poisson-nloglik:2.531892\n",
        "[1346]\ttrain-poisson-nloglik:2.404358\tval-poisson-nloglik:2.531713\n"
       ]
      },
      {
       "output_type": "stream",
       "stream": "stderr",
       "text": [
        "[1347]\ttrain-poisson-nloglik:2.404262\tval-poisson-nloglik:2.531651\n",
        "[1348]\ttrain-poisson-nloglik:2.404107\tval-poisson-nloglik:2.531531\n"
       ]
      },
      {
       "output_type": "stream",
       "stream": "stderr",
       "text": [
        "[1349]\ttrain-poisson-nloglik:2.404037\tval-poisson-nloglik:2.531483\n",
        "[1350]\ttrain-poisson-nloglik:2.403841\tval-poisson-nloglik:2.531338\n"
       ]
      },
      {
       "output_type": "stream",
       "stream": "stderr",
       "text": [
        "[1351]\ttrain-poisson-nloglik:2.403724\tval-poisson-nloglik:2.531237\n",
        "[1352]\ttrain-poisson-nloglik:2.403597\tval-poisson-nloglik:2.531120\n"
       ]
      },
      {
       "output_type": "stream",
       "stream": "stderr",
       "text": [
        "[1353]\ttrain-poisson-nloglik:2.403229\tval-poisson-nloglik:2.530814\n",
        "[1354]\ttrain-poisson-nloglik:2.403004\tval-poisson-nloglik:2.530606\n"
       ]
      },
      {
       "output_type": "stream",
       "stream": "stderr",
       "text": [
        "[1355]\ttrain-poisson-nloglik:2.402794\tval-poisson-nloglik:2.530465\n",
        "[1356]\ttrain-poisson-nloglik:2.402613\tval-poisson-nloglik:2.530314\n"
       ]
      },
      {
       "output_type": "stream",
       "stream": "stderr",
       "text": [
        "[1357]\ttrain-poisson-nloglik:2.402361\tval-poisson-nloglik:2.530098\n",
        "[1358]\ttrain-poisson-nloglik:2.402152\tval-poisson-nloglik:2.529923\n"
       ]
      },
      {
       "output_type": "stream",
       "stream": "stderr",
       "text": [
        "[1359]\ttrain-poisson-nloglik:2.401947\tval-poisson-nloglik:2.529746\n",
        "[1360]\ttrain-poisson-nloglik:2.401777\tval-poisson-nloglik:2.529629\n"
       ]
      },
      {
       "output_type": "stream",
       "stream": "stderr",
       "text": [
        "[1361]\ttrain-poisson-nloglik:2.401566\tval-poisson-nloglik:2.529428\n",
        "[1362]\ttrain-poisson-nloglik:2.401369\tval-poisson-nloglik:2.529267\n"
       ]
      },
      {
       "output_type": "stream",
       "stream": "stderr",
       "text": [
        "[1363]\ttrain-poisson-nloglik:2.401064\tval-poisson-nloglik:2.529001\n",
        "[1364]\ttrain-poisson-nloglik:2.400960\tval-poisson-nloglik:2.528910\n"
       ]
      },
      {
       "output_type": "stream",
       "stream": "stderr",
       "text": [
        "[1365]\ttrain-poisson-nloglik:2.400805\tval-poisson-nloglik:2.528796\n",
        "[1366]\ttrain-poisson-nloglik:2.400642\tval-poisson-nloglik:2.528658\n"
       ]
      },
      {
       "output_type": "stream",
       "stream": "stderr",
       "text": [
        "[1367]\ttrain-poisson-nloglik:2.400440\tval-poisson-nloglik:2.528492\n",
        "[1368]\ttrain-poisson-nloglik:2.400298\tval-poisson-nloglik:2.528384\n"
       ]
      },
      {
       "output_type": "stream",
       "stream": "stderr",
       "text": [
        "[1369]\ttrain-poisson-nloglik:2.400088\tval-poisson-nloglik:2.528225\n",
        "[1370]\ttrain-poisson-nloglik:2.399918\tval-poisson-nloglik:2.528104\n"
       ]
      },
      {
       "output_type": "stream",
       "stream": "stderr",
       "text": [
        "[1371]\ttrain-poisson-nloglik:2.399721\tval-poisson-nloglik:2.527962\n",
        "[1372]\ttrain-poisson-nloglik:2.399545\tval-poisson-nloglik:2.527833\n"
       ]
      },
      {
       "output_type": "stream",
       "stream": "stderr",
       "text": [
        "[1373]\ttrain-poisson-nloglik:2.399474\tval-poisson-nloglik:2.527784\n",
        "[1374]\ttrain-poisson-nloglik:2.399299\tval-poisson-nloglik:2.527636\n"
       ]
      },
      {
       "output_type": "stream",
       "stream": "stderr",
       "text": [
        "[1375]\ttrain-poisson-nloglik:2.399172\tval-poisson-nloglik:2.527513\n",
        "[1376]\ttrain-poisson-nloglik:2.399002\tval-poisson-nloglik:2.527382\n"
       ]
      },
      {
       "output_type": "stream",
       "stream": "stderr",
       "text": [
        "[1377]\ttrain-poisson-nloglik:2.398938\tval-poisson-nloglik:2.527336\n",
        "[1378]\ttrain-poisson-nloglik:2.398726\tval-poisson-nloglik:2.527191\n"
       ]
      },
      {
       "output_type": "stream",
       "stream": "stderr",
       "text": [
        "[1379]\ttrain-poisson-nloglik:2.398624\tval-poisson-nloglik:2.527109\n",
        "[1380]\ttrain-poisson-nloglik:2.398468\tval-poisson-nloglik:2.527005\n"
       ]
      },
      {
       "output_type": "stream",
       "stream": "stderr",
       "text": [
        "[1381]\ttrain-poisson-nloglik:2.398416\tval-poisson-nloglik:2.526955\n",
        "[1382]\ttrain-poisson-nloglik:2.398308\tval-poisson-nloglik:2.526875\n"
       ]
      },
      {
       "output_type": "stream",
       "stream": "stderr",
       "text": [
        "[1383]\ttrain-poisson-nloglik:2.398212\tval-poisson-nloglik:2.526784\n",
        "[1384]\ttrain-poisson-nloglik:2.398001\tval-poisson-nloglik:2.526627\n"
       ]
      },
      {
       "output_type": "stream",
       "stream": "stderr",
       "text": [
        "[1385]\ttrain-poisson-nloglik:2.397693\tval-poisson-nloglik:2.526355\n",
        "[1386]\ttrain-poisson-nloglik:2.397525\tval-poisson-nloglik:2.526212\n"
       ]
      },
      {
       "output_type": "stream",
       "stream": "stderr",
       "text": [
        "[1387]\ttrain-poisson-nloglik:2.397334\tval-poisson-nloglik:2.526035\n",
        "[1388]\ttrain-poisson-nloglik:2.397159\tval-poisson-nloglik:2.525887\n"
       ]
      },
      {
       "output_type": "stream",
       "stream": "stderr",
       "text": [
        "[1389]\ttrain-poisson-nloglik:2.396961\tval-poisson-nloglik:2.525735\n",
        "[1390]\ttrain-poisson-nloglik:2.396662\tval-poisson-nloglik:2.525516\n"
       ]
      },
      {
       "output_type": "stream",
       "stream": "stderr",
       "text": [
        "[1391]\ttrain-poisson-nloglik:2.396476\tval-poisson-nloglik:2.525337\n",
        "[1392]\ttrain-poisson-nloglik:2.396352\tval-poisson-nloglik:2.525244\n"
       ]
      },
      {
       "output_type": "stream",
       "stream": "stderr",
       "text": [
        "[1393]\ttrain-poisson-nloglik:2.396277\tval-poisson-nloglik:2.525178\n",
        "[1394]\ttrain-poisson-nloglik:2.396086\tval-poisson-nloglik:2.525021\n"
       ]
      },
      {
       "output_type": "stream",
       "stream": "stderr",
       "text": [
        "[1395]\ttrain-poisson-nloglik:2.395921\tval-poisson-nloglik:2.524886\n",
        "[1396]\ttrain-poisson-nloglik:2.395756\tval-poisson-nloglik:2.524759\n"
       ]
      },
      {
       "output_type": "stream",
       "stream": "stderr",
       "text": [
        "[1397]\ttrain-poisson-nloglik:2.395501\tval-poisson-nloglik:2.524568\n",
        "[1398]\ttrain-poisson-nloglik:2.395355\tval-poisson-nloglik:2.524467\n"
       ]
      },
      {
       "output_type": "stream",
       "stream": "stderr",
       "text": [
        "[1399]\ttrain-poisson-nloglik:2.395196\tval-poisson-nloglik:2.524352\n",
        "[1400]\ttrain-poisson-nloglik:2.395080\tval-poisson-nloglik:2.524242\n"
       ]
      },
      {
       "output_type": "stream",
       "stream": "stderr",
       "text": [
        "[1401]\ttrain-poisson-nloglik:2.394939\tval-poisson-nloglik:2.524133\n",
        "[1402]\ttrain-poisson-nloglik:2.394771\tval-poisson-nloglik:2.524019\n"
       ]
      },
      {
       "output_type": "stream",
       "stream": "stderr",
       "text": [
        "[1403]\ttrain-poisson-nloglik:2.394408\tval-poisson-nloglik:2.523714\n",
        "[1404]\ttrain-poisson-nloglik:2.394219\tval-poisson-nloglik:2.523556\n"
       ]
      },
      {
       "output_type": "stream",
       "stream": "stderr",
       "text": [
        "[1405]\ttrain-poisson-nloglik:2.393996\tval-poisson-nloglik:2.523354\n",
        "[1406]\ttrain-poisson-nloglik:2.393809\tval-poisson-nloglik:2.523202\n"
       ]
      },
      {
       "output_type": "stream",
       "stream": "stderr",
       "text": [
        "[1407]\ttrain-poisson-nloglik:2.393564\tval-poisson-nloglik:2.523011\n",
        "[1408]\ttrain-poisson-nloglik:2.393414\tval-poisson-nloglik:2.522897\n"
       ]
      },
      {
       "output_type": "stream",
       "stream": "stderr",
       "text": [
        "[1409]\ttrain-poisson-nloglik:2.393205\tval-poisson-nloglik:2.522727\n",
        "[1410]\ttrain-poisson-nloglik:2.392993\tval-poisson-nloglik:2.522544\n"
       ]
      },
      {
       "output_type": "stream",
       "stream": "stderr",
       "text": [
        "[1411]\ttrain-poisson-nloglik:2.392803\tval-poisson-nloglik:2.522378\n",
        "[1412]\ttrain-poisson-nloglik:2.392573\tval-poisson-nloglik:2.522192\n"
       ]
      },
      {
       "output_type": "stream",
       "stream": "stderr",
       "text": [
        "[1413]\ttrain-poisson-nloglik:2.392452\tval-poisson-nloglik:2.522096\n",
        "[1414]\ttrain-poisson-nloglik:2.392308\tval-poisson-nloglik:2.521970\n"
       ]
      },
      {
       "output_type": "stream",
       "stream": "stderr",
       "text": [
        "[1415]\ttrain-poisson-nloglik:2.392222\tval-poisson-nloglik:2.521906\n",
        "[1416]\ttrain-poisson-nloglik:2.391944\tval-poisson-nloglik:2.521655\n"
       ]
      },
      {
       "output_type": "stream",
       "stream": "stderr",
       "text": [
        "[1417]\ttrain-poisson-nloglik:2.391771\tval-poisson-nloglik:2.521493\n",
        "[1418]\ttrain-poisson-nloglik:2.391567\tval-poisson-nloglik:2.521323\n"
       ]
      },
      {
       "output_type": "stream",
       "stream": "stderr",
       "text": [
        "[1419]\ttrain-poisson-nloglik:2.391416\tval-poisson-nloglik:2.521206\n",
        "[1420]\ttrain-poisson-nloglik:2.391284\tval-poisson-nloglik:2.521105\n"
       ]
      },
      {
       "output_type": "stream",
       "stream": "stderr",
       "text": [
        "[1421]\ttrain-poisson-nloglik:2.391100\tval-poisson-nloglik:2.520941\n",
        "[1422]\ttrain-poisson-nloglik:2.390948\tval-poisson-nloglik:2.520804\n"
       ]
      },
      {
       "output_type": "stream",
       "stream": "stderr",
       "text": [
        "[1423]\ttrain-poisson-nloglik:2.390822\tval-poisson-nloglik:2.520700\n",
        "[1424]\ttrain-poisson-nloglik:2.390580\tval-poisson-nloglik:2.520524\n"
       ]
      },
      {
       "output_type": "stream",
       "stream": "stderr",
       "text": [
        "[1425]\ttrain-poisson-nloglik:2.390298\tval-poisson-nloglik:2.520293\n",
        "[1426]\ttrain-poisson-nloglik:2.390137\tval-poisson-nloglik:2.520159\n"
       ]
      },
      {
       "output_type": "stream",
       "stream": "stderr",
       "text": [
        "[1427]\ttrain-poisson-nloglik:2.389939\tval-poisson-nloglik:2.520005\n",
        "[1428]\ttrain-poisson-nloglik:2.389784\tval-poisson-nloglik:2.519911\n"
       ]
      },
      {
       "output_type": "stream",
       "stream": "stderr",
       "text": [
        "[1429]\ttrain-poisson-nloglik:2.389635\tval-poisson-nloglik:2.519797\n",
        "[1430]\ttrain-poisson-nloglik:2.389454\tval-poisson-nloglik:2.519660\n"
       ]
      },
      {
       "output_type": "stream",
       "stream": "stderr",
       "text": [
        "[1431]\ttrain-poisson-nloglik:2.389299\tval-poisson-nloglik:2.519521\n",
        "[1432]\ttrain-poisson-nloglik:2.389142\tval-poisson-nloglik:2.519408\n"
       ]
      },
      {
       "output_type": "stream",
       "stream": "stderr",
       "text": [
        "[1433]\ttrain-poisson-nloglik:2.388958\tval-poisson-nloglik:2.519295\n",
        "[1434]\ttrain-poisson-nloglik:2.388774\tval-poisson-nloglik:2.519137\n"
       ]
      },
      {
       "output_type": "stream",
       "stream": "stderr",
       "text": [
        "[1435]\ttrain-poisson-nloglik:2.388674\tval-poisson-nloglik:2.519063\n",
        "[1436]\ttrain-poisson-nloglik:2.388590\tval-poisson-nloglik:2.519001\n"
       ]
      },
      {
       "output_type": "stream",
       "stream": "stderr",
       "text": [
        "[1437]\ttrain-poisson-nloglik:2.388447\tval-poisson-nloglik:2.518891\n",
        "[1438]\ttrain-poisson-nloglik:2.388271\tval-poisson-nloglik:2.518763\n"
       ]
      },
      {
       "output_type": "stream",
       "stream": "stderr",
       "text": [
        "[1439]\ttrain-poisson-nloglik:2.388099\tval-poisson-nloglik:2.518616\n",
        "[1440]\ttrain-poisson-nloglik:2.388019\tval-poisson-nloglik:2.518545\n"
       ]
      },
      {
       "output_type": "stream",
       "stream": "stderr",
       "text": [
        "[1441]\ttrain-poisson-nloglik:2.387837\tval-poisson-nloglik:2.518406\n",
        "[1442]\ttrain-poisson-nloglik:2.387695\tval-poisson-nloglik:2.518277\n"
       ]
      },
      {
       "output_type": "stream",
       "stream": "stderr",
       "text": [
        "[1443]\ttrain-poisson-nloglik:2.387426\tval-poisson-nloglik:2.518050\n",
        "[1444]\ttrain-poisson-nloglik:2.387338\tval-poisson-nloglik:2.517977\n"
       ]
      },
      {
       "output_type": "stream",
       "stream": "stderr",
       "text": [
        "[1445]\ttrain-poisson-nloglik:2.387157\tval-poisson-nloglik:2.517820\n",
        "[1446]\ttrain-poisson-nloglik:2.387040\tval-poisson-nloglik:2.517737\n"
       ]
      },
      {
       "output_type": "stream",
       "stream": "stderr",
       "text": [
        "[1447]\ttrain-poisson-nloglik:2.386899\tval-poisson-nloglik:2.517647\n",
        "[1448]\ttrain-poisson-nloglik:2.386718\tval-poisson-nloglik:2.517505\n"
       ]
      },
      {
       "output_type": "stream",
       "stream": "stderr",
       "text": [
        "[1449]\ttrain-poisson-nloglik:2.386627\tval-poisson-nloglik:2.517406\n",
        "[1450]\ttrain-poisson-nloglik:2.386340\tval-poisson-nloglik:2.517175\n"
       ]
      },
      {
       "output_type": "stream",
       "stream": "stderr",
       "text": [
        "[1451]\ttrain-poisson-nloglik:2.386171\tval-poisson-nloglik:2.517042\n",
        "[1452]\ttrain-poisson-nloglik:2.386084\tval-poisson-nloglik:2.516966\n"
       ]
      },
      {
       "output_type": "stream",
       "stream": "stderr",
       "text": [
        "[1453]\ttrain-poisson-nloglik:2.386004\tval-poisson-nloglik:2.516902\n",
        "[1454]\ttrain-poisson-nloglik:2.385829\tval-poisson-nloglik:2.516767\n"
       ]
      },
      {
       "output_type": "stream",
       "stream": "stderr",
       "text": [
        "[1455]\ttrain-poisson-nloglik:2.385680\tval-poisson-nloglik:2.516622\n",
        "[1456]\ttrain-poisson-nloglik:2.385507\tval-poisson-nloglik:2.516500\n"
       ]
      },
      {
       "output_type": "stream",
       "stream": "stderr",
       "text": [
        "[1457]\ttrain-poisson-nloglik:2.385287\tval-poisson-nloglik:2.516325\n",
        "[1458]\ttrain-poisson-nloglik:2.385153\tval-poisson-nloglik:2.516205\n"
       ]
      },
      {
       "output_type": "stream",
       "stream": "stderr",
       "text": [
        "[1459]\ttrain-poisson-nloglik:2.385004\tval-poisson-nloglik:2.516086\n",
        "[1460]\ttrain-poisson-nloglik:2.384861\tval-poisson-nloglik:2.515979\n"
       ]
      },
      {
       "output_type": "stream",
       "stream": "stderr",
       "text": [
        "[1461]\ttrain-poisson-nloglik:2.384744\tval-poisson-nloglik:2.515880\n",
        "[1462]\ttrain-poisson-nloglik:2.384520\tval-poisson-nloglik:2.515687\n"
       ]
      },
      {
       "output_type": "stream",
       "stream": "stderr",
       "text": [
        "[1463]\ttrain-poisson-nloglik:2.384460\tval-poisson-nloglik:2.515635\n",
        "[1464]\ttrain-poisson-nloglik:2.384324\tval-poisson-nloglik:2.515523\n"
       ]
      },
      {
       "output_type": "stream",
       "stream": "stderr",
       "text": [
        "[1465]\ttrain-poisson-nloglik:2.384108\tval-poisson-nloglik:2.515348\n",
        "[1466]\ttrain-poisson-nloglik:2.383989\tval-poisson-nloglik:2.515251\n"
       ]
      },
      {
       "output_type": "stream",
       "stream": "stderr",
       "text": [
        "[1467]\ttrain-poisson-nloglik:2.383726\tval-poisson-nloglik:2.515029\n",
        "[1468]\ttrain-poisson-nloglik:2.383579\tval-poisson-nloglik:2.514915\n"
       ]
      },
      {
       "output_type": "stream",
       "stream": "stderr",
       "text": [
        "[1469]\ttrain-poisson-nloglik:2.383427\tval-poisson-nloglik:2.514793\n",
        "[1470]\ttrain-poisson-nloglik:2.383181\tval-poisson-nloglik:2.514610\n"
       ]
      },
      {
       "output_type": "stream",
       "stream": "stderr",
       "text": [
        "[1471]\ttrain-poisson-nloglik:2.383077\tval-poisson-nloglik:2.514513\n",
        "[1472]\ttrain-poisson-nloglik:2.382855\tval-poisson-nloglik:2.514354\n"
       ]
      },
      {
       "output_type": "stream",
       "stream": "stderr",
       "text": [
        "[1473]\ttrain-poisson-nloglik:2.382811\tval-poisson-nloglik:2.514318\n",
        "[1474]\ttrain-poisson-nloglik:2.382684\tval-poisson-nloglik:2.514216\n"
       ]
      },
      {
       "output_type": "stream",
       "stream": "stderr",
       "text": [
        "[1475]\ttrain-poisson-nloglik:2.382470\tval-poisson-nloglik:2.514046\n",
        "[1476]\ttrain-poisson-nloglik:2.382186\tval-poisson-nloglik:2.513841\n"
       ]
      },
      {
       "output_type": "stream",
       "stream": "stderr",
       "text": [
        "[1477]\ttrain-poisson-nloglik:2.382107\tval-poisson-nloglik:2.513771\n",
        "[1478]\ttrain-poisson-nloglik:2.381948\tval-poisson-nloglik:2.513627\n"
       ]
      },
      {
       "output_type": "stream",
       "stream": "stderr",
       "text": [
        "[1479]\ttrain-poisson-nloglik:2.381881\tval-poisson-nloglik:2.513577\n",
        "[1480]\ttrain-poisson-nloglik:2.381779\tval-poisson-nloglik:2.513494\n"
       ]
      },
      {
       "output_type": "stream",
       "stream": "stderr",
       "text": [
        "[1481]\ttrain-poisson-nloglik:2.381647\tval-poisson-nloglik:2.513383\n",
        "[1482]\ttrain-poisson-nloglik:2.381368\tval-poisson-nloglik:2.513137\n"
       ]
      },
      {
       "output_type": "stream",
       "stream": "stderr",
       "text": [
        "[1483]\ttrain-poisson-nloglik:2.381268\tval-poisson-nloglik:2.513059\n",
        "[1484]\ttrain-poisson-nloglik:2.381070\tval-poisson-nloglik:2.512871\n"
       ]
      },
      {
       "output_type": "stream",
       "stream": "stderr",
       "text": [
        "[1485]\ttrain-poisson-nloglik:2.380904\tval-poisson-nloglik:2.512744\n",
        "[1486]\ttrain-poisson-nloglik:2.380759\tval-poisson-nloglik:2.512607\n"
       ]
      },
      {
       "output_type": "stream",
       "stream": "stderr",
       "text": [
        "[1487]\ttrain-poisson-nloglik:2.380621\tval-poisson-nloglik:2.512496\n",
        "[1488]\ttrain-poisson-nloglik:2.380462\tval-poisson-nloglik:2.512358\n"
       ]
      },
      {
       "output_type": "stream",
       "stream": "stderr",
       "text": [
        "[1489]\ttrain-poisson-nloglik:2.380344\tval-poisson-nloglik:2.512246\n",
        "[1490]\ttrain-poisson-nloglik:2.380036\tval-poisson-nloglik:2.512008\n"
       ]
      },
      {
       "output_type": "stream",
       "stream": "stderr",
       "text": [
        "[1491]\ttrain-poisson-nloglik:2.379750\tval-poisson-nloglik:2.511783\n",
        "[1492]\ttrain-poisson-nloglik:2.379559\tval-poisson-nloglik:2.511631\n"
       ]
      },
      {
       "output_type": "stream",
       "stream": "stderr",
       "text": [
        "[1493]\ttrain-poisson-nloglik:2.379413\tval-poisson-nloglik:2.511490\n",
        "[1494]\ttrain-poisson-nloglik:2.379278\tval-poisson-nloglik:2.511363\n"
       ]
      },
      {
       "output_type": "stream",
       "stream": "stderr",
       "text": [
        "[1495]\ttrain-poisson-nloglik:2.379092\tval-poisson-nloglik:2.511210\n",
        "[1496]\ttrain-poisson-nloglik:2.378900\tval-poisson-nloglik:2.511058\n"
       ]
      },
      {
       "output_type": "stream",
       "stream": "stderr",
       "text": [
        "[1497]\ttrain-poisson-nloglik:2.378598\tval-poisson-nloglik:2.510841\n",
        "[1498]\ttrain-poisson-nloglik:2.378433\tval-poisson-nloglik:2.510724\n"
       ]
      },
      {
       "output_type": "stream",
       "stream": "stderr",
       "text": [
        "[1499]\ttrain-poisson-nloglik:2.378333\tval-poisson-nloglik:2.510660\n",
        "[1500]\ttrain-poisson-nloglik:2.378179\tval-poisson-nloglik:2.510529\n"
       ]
      },
      {
       "output_type": "stream",
       "stream": "stderr",
       "text": [
        "[1501]\ttrain-poisson-nloglik:2.378070\tval-poisson-nloglik:2.510424\n",
        "[1502]\ttrain-poisson-nloglik:2.377952\tval-poisson-nloglik:2.510331\n"
       ]
      },
      {
       "output_type": "stream",
       "stream": "stderr",
       "text": [
        "[1503]\ttrain-poisson-nloglik:2.377874\tval-poisson-nloglik:2.510274\n",
        "[1504]\ttrain-poisson-nloglik:2.377693\tval-poisson-nloglik:2.510137\n"
       ]
      },
      {
       "output_type": "stream",
       "stream": "stderr",
       "text": [
        "[1505]\ttrain-poisson-nloglik:2.377589\tval-poisson-nloglik:2.510054\n",
        "[1506]\ttrain-poisson-nloglik:2.377481\tval-poisson-nloglik:2.509980\n"
       ]
      },
      {
       "output_type": "stream",
       "stream": "stderr",
       "text": [
        "[1507]\ttrain-poisson-nloglik:2.377327\tval-poisson-nloglik:2.509863\n",
        "[1508]\ttrain-poisson-nloglik:2.377163\tval-poisson-nloglik:2.509710\n"
       ]
      },
      {
       "output_type": "stream",
       "stream": "stderr",
       "text": [
        "[1509]\ttrain-poisson-nloglik:2.377060\tval-poisson-nloglik:2.509624\n",
        "[1510]\ttrain-poisson-nloglik:2.376906\tval-poisson-nloglik:2.509505\n"
       ]
      },
      {
       "output_type": "stream",
       "stream": "stderr",
       "text": [
        "[1511]\ttrain-poisson-nloglik:2.376805\tval-poisson-nloglik:2.509430\n",
        "[1512]\ttrain-poisson-nloglik:2.376645\tval-poisson-nloglik:2.509297\n"
       ]
      },
      {
       "output_type": "stream",
       "stream": "stderr",
       "text": [
        "[1513]\ttrain-poisson-nloglik:2.376459\tval-poisson-nloglik:2.509125\n",
        "[1514]\ttrain-poisson-nloglik:2.376293\tval-poisson-nloglik:2.508998\n"
       ]
      },
      {
       "output_type": "stream",
       "stream": "stderr",
       "text": [
        "[1515]\ttrain-poisson-nloglik:2.376139\tval-poisson-nloglik:2.508879\n",
        "[1516]\ttrain-poisson-nloglik:2.376026\tval-poisson-nloglik:2.508784\n"
       ]
      },
      {
       "output_type": "stream",
       "stream": "stderr",
       "text": [
        "[1517]\ttrain-poisson-nloglik:2.375876\tval-poisson-nloglik:2.508674\n",
        "[1518]\ttrain-poisson-nloglik:2.375769\tval-poisson-nloglik:2.508606\n"
       ]
      },
      {
       "output_type": "stream",
       "stream": "stderr",
       "text": [
        "[1519]\ttrain-poisson-nloglik:2.375655\tval-poisson-nloglik:2.508509\n",
        "[1520]\ttrain-poisson-nloglik:2.375524\tval-poisson-nloglik:2.508411\n"
       ]
      },
      {
       "output_type": "stream",
       "stream": "stderr",
       "text": [
        "[1521]\ttrain-poisson-nloglik:2.375407\tval-poisson-nloglik:2.508332\n",
        "[1522]\ttrain-poisson-nloglik:2.375240\tval-poisson-nloglik:2.508188\n"
       ]
      },
      {
       "output_type": "stream",
       "stream": "stderr",
       "text": [
        "[1523]\ttrain-poisson-nloglik:2.374952\tval-poisson-nloglik:2.507961\n",
        "[1524]\ttrain-poisson-nloglik:2.374886\tval-poisson-nloglik:2.507926\n"
       ]
      },
      {
       "output_type": "stream",
       "stream": "stderr",
       "text": [
        "[1525]\ttrain-poisson-nloglik:2.374738\tval-poisson-nloglik:2.507812\n",
        "[1526]\ttrain-poisson-nloglik:2.374639\tval-poisson-nloglik:2.507740\n"
       ]
      },
      {
       "output_type": "stream",
       "stream": "stderr",
       "text": [
        "[1527]\ttrain-poisson-nloglik:2.374549\tval-poisson-nloglik:2.507647\n",
        "[1528]\ttrain-poisson-nloglik:2.374429\tval-poisson-nloglik:2.507534\n"
       ]
      },
      {
       "output_type": "stream",
       "stream": "stderr",
       "text": [
        "[1529]\ttrain-poisson-nloglik:2.374310\tval-poisson-nloglik:2.507438\n",
        "[1530]\ttrain-poisson-nloglik:2.374088\tval-poisson-nloglik:2.507265\n"
       ]
      },
      {
       "output_type": "stream",
       "stream": "stderr",
       "text": [
        "[1531]\ttrain-poisson-nloglik:2.373909\tval-poisson-nloglik:2.507123\n",
        "[1532]\ttrain-poisson-nloglik:2.373799\tval-poisson-nloglik:2.507021\n"
       ]
      },
      {
       "output_type": "stream",
       "stream": "stderr",
       "text": [
        "[1533]\ttrain-poisson-nloglik:2.373590\tval-poisson-nloglik:2.506870\n",
        "[1534]\ttrain-poisson-nloglik:2.373306\tval-poisson-nloglik:2.506643\n"
       ]
      },
      {
       "output_type": "stream",
       "stream": "stderr",
       "text": [
        "[1535]\ttrain-poisson-nloglik:2.373132\tval-poisson-nloglik:2.506497\n",
        "[1536]\ttrain-poisson-nloglik:2.372999\tval-poisson-nloglik:2.506379\n"
       ]
      },
      {
       "output_type": "stream",
       "stream": "stderr",
       "text": [
        "[1537]\ttrain-poisson-nloglik:2.372845\tval-poisson-nloglik:2.506243\n",
        "[1538]\ttrain-poisson-nloglik:2.372750\tval-poisson-nloglik:2.506177\n"
       ]
      },
      {
       "output_type": "stream",
       "stream": "stderr",
       "text": [
        "[1539]\ttrain-poisson-nloglik:2.372542\tval-poisson-nloglik:2.506026\n",
        "[1540]\ttrain-poisson-nloglik:2.372453\tval-poisson-nloglik:2.505966\n"
       ]
      },
      {
       "output_type": "stream",
       "stream": "stderr",
       "text": [
        "[1541]\ttrain-poisson-nloglik:2.372352\tval-poisson-nloglik:2.505877\n",
        "[1542]\ttrain-poisson-nloglik:2.372277\tval-poisson-nloglik:2.505799\n"
       ]
      },
      {
       "output_type": "stream",
       "stream": "stderr",
       "text": [
        "[1543]\ttrain-poisson-nloglik:2.372103\tval-poisson-nloglik:2.505671\n",
        "[1544]\ttrain-poisson-nloglik:2.372030\tval-poisson-nloglik:2.505610\n"
       ]
      },
      {
       "output_type": "stream",
       "stream": "stderr",
       "text": [
        "[1545]\ttrain-poisson-nloglik:2.371921\tval-poisson-nloglik:2.505516\n",
        "[1546]\ttrain-poisson-nloglik:2.371767\tval-poisson-nloglik:2.505399\n"
       ]
      },
      {
       "output_type": "stream",
       "stream": "stderr",
       "text": [
        "[1547]\ttrain-poisson-nloglik:2.371604\tval-poisson-nloglik:2.505247\n",
        "[1548]\ttrain-poisson-nloglik:2.371470\tval-poisson-nloglik:2.505145\n"
       ]
      },
      {
       "output_type": "stream",
       "stream": "stderr",
       "text": [
        "[1549]\ttrain-poisson-nloglik:2.371401\tval-poisson-nloglik:2.505086\n",
        "[1550]\ttrain-poisson-nloglik:2.371250\tval-poisson-nloglik:2.504960\n"
       ]
      },
      {
       "output_type": "stream",
       "stream": "stderr",
       "text": [
        "[1551]\ttrain-poisson-nloglik:2.371113\tval-poisson-nloglik:2.504844\n",
        "[1552]\ttrain-poisson-nloglik:2.371021\tval-poisson-nloglik:2.504763\n"
       ]
      },
      {
       "output_type": "stream",
       "stream": "stderr",
       "text": [
        "[1553]\ttrain-poisson-nloglik:2.370949\tval-poisson-nloglik:2.504710\n",
        "[1554]\ttrain-poisson-nloglik:2.370877\tval-poisson-nloglik:2.504650\n"
       ]
      },
      {
       "output_type": "stream",
       "stream": "stderr",
       "text": [
        "[1555]\ttrain-poisson-nloglik:2.370682\tval-poisson-nloglik:2.504500\n",
        "[1556]\ttrain-poisson-nloglik:2.370583\tval-poisson-nloglik:2.504415\n"
       ]
      },
      {
       "output_type": "stream",
       "stream": "stderr",
       "text": [
        "[1557]\ttrain-poisson-nloglik:2.370426\tval-poisson-nloglik:2.504281\n",
        "[1558]\ttrain-poisson-nloglik:2.370291\tval-poisson-nloglik:2.504171\n"
       ]
      },
      {
       "output_type": "stream",
       "stream": "stderr",
       "text": [
        "[1559]\ttrain-poisson-nloglik:2.370076\tval-poisson-nloglik:2.503980\n",
        "[1560]\ttrain-poisson-nloglik:2.369961\tval-poisson-nloglik:2.503897\n"
       ]
      },
      {
       "output_type": "stream",
       "stream": "stderr",
       "text": [
        "[1561]\ttrain-poisson-nloglik:2.369834\tval-poisson-nloglik:2.503792\n",
        "[1562]\ttrain-poisson-nloglik:2.369720\tval-poisson-nloglik:2.503699\n"
       ]
      },
      {
       "output_type": "stream",
       "stream": "stderr",
       "text": [
        "[1563]\ttrain-poisson-nloglik:2.369619\tval-poisson-nloglik:2.503618\n",
        "[1564]\ttrain-poisson-nloglik:2.369501\tval-poisson-nloglik:2.503550\n"
       ]
      },
      {
       "output_type": "stream",
       "stream": "stderr",
       "text": [
        "[1565]\ttrain-poisson-nloglik:2.369329\tval-poisson-nloglik:2.503417\n",
        "[1566]\ttrain-poisson-nloglik:2.369107\tval-poisson-nloglik:2.503216\n"
       ]
      },
      {
       "output_type": "stream",
       "stream": "stderr",
       "text": [
        "[1567]\ttrain-poisson-nloglik:2.368980\tval-poisson-nloglik:2.503135\n",
        "[1568]\ttrain-poisson-nloglik:2.368769\tval-poisson-nloglik:2.502966\n"
       ]
      },
      {
       "output_type": "stream",
       "stream": "stderr",
       "text": [
        "[1569]\ttrain-poisson-nloglik:2.368662\tval-poisson-nloglik:2.502880\n",
        "[1570]\ttrain-poisson-nloglik:2.368480\tval-poisson-nloglik:2.502730\n"
       ]
      },
      {
       "output_type": "stream",
       "stream": "stderr",
       "text": [
        "[1571]\ttrain-poisson-nloglik:2.368273\tval-poisson-nloglik:2.502550\n",
        "[1572]\ttrain-poisson-nloglik:2.368160\tval-poisson-nloglik:2.502456\n"
       ]
      },
      {
       "output_type": "stream",
       "stream": "stderr",
       "text": [
        "[1573]\ttrain-poisson-nloglik:2.367961\tval-poisson-nloglik:2.502310\n",
        "[1574]\ttrain-poisson-nloglik:2.367731\tval-poisson-nloglik:2.502103\n"
       ]
      },
      {
       "output_type": "stream",
       "stream": "stderr",
       "text": [
        "[1575]\ttrain-poisson-nloglik:2.367567\tval-poisson-nloglik:2.501972\n",
        "[1576]\ttrain-poisson-nloglik:2.367481\tval-poisson-nloglik:2.501904\n"
       ]
      },
      {
       "output_type": "stream",
       "stream": "stderr",
       "text": [
        "[1577]\ttrain-poisson-nloglik:2.367331\tval-poisson-nloglik:2.501798\n",
        "[1578]\ttrain-poisson-nloglik:2.367206\tval-poisson-nloglik:2.501699\n"
       ]
      },
      {
       "output_type": "stream",
       "stream": "stderr",
       "text": [
        "[1579]\ttrain-poisson-nloglik:2.367068\tval-poisson-nloglik:2.501582\n",
        "[1580]\ttrain-poisson-nloglik:2.366979\tval-poisson-nloglik:2.501503\n"
       ]
      },
      {
       "output_type": "stream",
       "stream": "stderr",
       "text": [
        "[1581]\ttrain-poisson-nloglik:2.366860\tval-poisson-nloglik:2.501412\n",
        "[1582]\ttrain-poisson-nloglik:2.366643\tval-poisson-nloglik:2.501243\n"
       ]
      },
      {
       "output_type": "stream",
       "stream": "stderr",
       "text": [
        "[1583]\ttrain-poisson-nloglik:2.366543\tval-poisson-nloglik:2.501155\n",
        "[1584]\ttrain-poisson-nloglik:2.366384\tval-poisson-nloglik:2.501038\n"
       ]
      },
      {
       "output_type": "stream",
       "stream": "stderr",
       "text": [
        "[1585]\ttrain-poisson-nloglik:2.366249\tval-poisson-nloglik:2.500925\n",
        "[1586]\ttrain-poisson-nloglik:2.366063\tval-poisson-nloglik:2.500751\n"
       ]
      },
      {
       "output_type": "stream",
       "stream": "stderr",
       "text": [
        "[1587]\ttrain-poisson-nloglik:2.365898\tval-poisson-nloglik:2.500599\n",
        "[1588]\ttrain-poisson-nloglik:2.365658\tval-poisson-nloglik:2.500423\n"
       ]
      },
      {
       "output_type": "stream",
       "stream": "stderr",
       "text": [
        "[1589]\ttrain-poisson-nloglik:2.365501\tval-poisson-nloglik:2.500288\n",
        "[1590]\ttrain-poisson-nloglik:2.365367\tval-poisson-nloglik:2.500194\n"
       ]
      },
      {
       "output_type": "stream",
       "stream": "stderr",
       "text": [
        "[1591]\ttrain-poisson-nloglik:2.365082\tval-poisson-nloglik:2.499961\n",
        "[1592]\ttrain-poisson-nloglik:2.364775\tval-poisson-nloglik:2.499706\n"
       ]
      },
      {
       "output_type": "stream",
       "stream": "stderr",
       "text": [
        "[1593]\ttrain-poisson-nloglik:2.364640\tval-poisson-nloglik:2.499590\n",
        "[1594]\ttrain-poisson-nloglik:2.364531\tval-poisson-nloglik:2.499503\n"
       ]
      },
      {
       "output_type": "stream",
       "stream": "stderr",
       "text": [
        "[1595]\ttrain-poisson-nloglik:2.364382\tval-poisson-nloglik:2.499374\n",
        "[1596]\ttrain-poisson-nloglik:2.364217\tval-poisson-nloglik:2.499253\n"
       ]
      },
      {
       "output_type": "stream",
       "stream": "stderr",
       "text": [
        "[1597]\ttrain-poisson-nloglik:2.364115\tval-poisson-nloglik:2.499168\n",
        "[1598]\ttrain-poisson-nloglik:2.363955\tval-poisson-nloglik:2.499019\n"
       ]
      },
      {
       "output_type": "stream",
       "stream": "stderr",
       "text": [
        "[1599]\ttrain-poisson-nloglik:2.363717\tval-poisson-nloglik:2.498845\n",
        "[1600]\ttrain-poisson-nloglik:2.363578\tval-poisson-nloglik:2.498735\n"
       ]
      },
      {
       "output_type": "stream",
       "stream": "stderr",
       "text": [
        "[1601]\ttrain-poisson-nloglik:2.363425\tval-poisson-nloglik:2.498595\n",
        "[1602]\ttrain-poisson-nloglik:2.363310\tval-poisson-nloglik:2.498521\n"
       ]
      },
      {
       "output_type": "stream",
       "stream": "stderr",
       "text": [
        "[1603]\ttrain-poisson-nloglik:2.363133\tval-poisson-nloglik:2.498374\n",
        "[1604]\ttrain-poisson-nloglik:2.362951\tval-poisson-nloglik:2.498218\n"
       ]
      },
      {
       "output_type": "stream",
       "stream": "stderr",
       "text": [
        "[1605]\ttrain-poisson-nloglik:2.362840\tval-poisson-nloglik:2.498112\n",
        "[1606]\ttrain-poisson-nloglik:2.362735\tval-poisson-nloglik:2.498013\n"
       ]
      },
      {
       "output_type": "stream",
       "stream": "stderr",
       "text": [
        "[1607]\ttrain-poisson-nloglik:2.362633\tval-poisson-nloglik:2.497923\n",
        "[1608]\ttrain-poisson-nloglik:2.362550\tval-poisson-nloglik:2.497849\n"
       ]
      },
      {
       "output_type": "stream",
       "stream": "stderr",
       "text": [
        "[1609]\ttrain-poisson-nloglik:2.362454\tval-poisson-nloglik:2.497760\n",
        "[1610]\ttrain-poisson-nloglik:2.362236\tval-poisson-nloglik:2.497593\n"
       ]
      },
      {
       "output_type": "stream",
       "stream": "stderr",
       "text": [
        "[1611]\ttrain-poisson-nloglik:2.362139\tval-poisson-nloglik:2.497495\n",
        "[1612]\ttrain-poisson-nloglik:2.362056\tval-poisson-nloglik:2.497424\n"
       ]
      },
      {
       "output_type": "stream",
       "stream": "stderr",
       "text": [
        "[1613]\ttrain-poisson-nloglik:2.361810\tval-poisson-nloglik:2.497238\n",
        "[1614]\ttrain-poisson-nloglik:2.361706\tval-poisson-nloglik:2.497159\n"
       ]
      },
      {
       "output_type": "stream",
       "stream": "stderr",
       "text": [
        "[1615]\ttrain-poisson-nloglik:2.361624\tval-poisson-nloglik:2.497089\n",
        "[1616]\ttrain-poisson-nloglik:2.361356\tval-poisson-nloglik:2.496847\n"
       ]
      },
      {
       "output_type": "stream",
       "stream": "stderr",
       "text": [
        "[1617]\ttrain-poisson-nloglik:2.361245\tval-poisson-nloglik:2.496774\n",
        "[1618]\ttrain-poisson-nloglik:2.360987\tval-poisson-nloglik:2.496561\n"
       ]
      },
      {
       "output_type": "stream",
       "stream": "stderr",
       "text": [
        "[1619]\ttrain-poisson-nloglik:2.360855\tval-poisson-nloglik:2.496467\n",
        "[1620]\ttrain-poisson-nloglik:2.360670\tval-poisson-nloglik:2.496306\n"
       ]
      },
      {
       "output_type": "stream",
       "stream": "stderr",
       "text": [
        "[1621]\ttrain-poisson-nloglik:2.360528\tval-poisson-nloglik:2.496196\n",
        "[1622]\ttrain-poisson-nloglik:2.360314\tval-poisson-nloglik:2.496021\n"
       ]
      },
      {
       "output_type": "stream",
       "stream": "stderr",
       "text": [
        "[1623]\ttrain-poisson-nloglik:2.360022\tval-poisson-nloglik:2.495780\n",
        "[1624]\ttrain-poisson-nloglik:2.359896\tval-poisson-nloglik:2.495700\n"
       ]
      },
      {
       "output_type": "stream",
       "stream": "stderr",
       "text": [
        "[1625]\ttrain-poisson-nloglik:2.359820\tval-poisson-nloglik:2.495651\n",
        "[1626]\ttrain-poisson-nloglik:2.359605\tval-poisson-nloglik:2.495488\n"
       ]
      },
      {
       "output_type": "stream",
       "stream": "stderr",
       "text": [
        "[1627]\ttrain-poisson-nloglik:2.359473\tval-poisson-nloglik:2.495375\n",
        "[1628]\ttrain-poisson-nloglik:2.359239\tval-poisson-nloglik:2.495198\n"
       ]
      },
      {
       "output_type": "stream",
       "stream": "stderr",
       "text": [
        "[1629]\ttrain-poisson-nloglik:2.359132\tval-poisson-nloglik:2.495103\n",
        "[1630]\ttrain-poisson-nloglik:2.358947\tval-poisson-nloglik:2.494931\n"
       ]
      },
      {
       "output_type": "stream",
       "stream": "stderr",
       "text": [
        "[1631]\ttrain-poisson-nloglik:2.358760\tval-poisson-nloglik:2.494816\n",
        "[1632]\ttrain-poisson-nloglik:2.358546\tval-poisson-nloglik:2.494637\n"
       ]
      },
      {
       "output_type": "stream",
       "stream": "stderr",
       "text": [
        "[1633]\ttrain-poisson-nloglik:2.358234\tval-poisson-nloglik:2.494396\n",
        "[1634]\ttrain-poisson-nloglik:2.358100\tval-poisson-nloglik:2.494259\n"
       ]
      },
      {
       "output_type": "stream",
       "stream": "stderr",
       "text": [
        "[1635]\ttrain-poisson-nloglik:2.357988\tval-poisson-nloglik:2.494143\n",
        "[1636]\ttrain-poisson-nloglik:2.357825\tval-poisson-nloglik:2.494028\n"
       ]
      },
      {
       "output_type": "stream",
       "stream": "stderr",
       "text": [
        "[1637]\ttrain-poisson-nloglik:2.357689\tval-poisson-nloglik:2.493915\n",
        "[1638]\ttrain-poisson-nloglik:2.357527\tval-poisson-nloglik:2.493780\n"
       ]
      },
      {
       "output_type": "stream",
       "stream": "stderr",
       "text": [
        "[1639]\ttrain-poisson-nloglik:2.357419\tval-poisson-nloglik:2.493688\n",
        "[1640]\ttrain-poisson-nloglik:2.357311\tval-poisson-nloglik:2.493604\n"
       ]
      },
      {
       "output_type": "stream",
       "stream": "stderr",
       "text": [
        "[1641]\ttrain-poisson-nloglik:2.357138\tval-poisson-nloglik:2.493472\n",
        "[1642]\ttrain-poisson-nloglik:2.356992\tval-poisson-nloglik:2.493356\n"
       ]
      },
      {
       "output_type": "stream",
       "stream": "stderr",
       "text": [
        "[1643]\ttrain-poisson-nloglik:2.356870\tval-poisson-nloglik:2.493262\n",
        "[1644]\ttrain-poisson-nloglik:2.356716\tval-poisson-nloglik:2.493124\n"
       ]
      },
      {
       "output_type": "stream",
       "stream": "stderr",
       "text": [
        "[1645]\ttrain-poisson-nloglik:2.356595\tval-poisson-nloglik:2.493029\n",
        "[1646]\ttrain-poisson-nloglik:2.356496\tval-poisson-nloglik:2.492953\n"
       ]
      },
      {
       "output_type": "stream",
       "stream": "stderr",
       "text": [
        "[1647]\ttrain-poisson-nloglik:2.356278\tval-poisson-nloglik:2.492800\n",
        "[1648]\ttrain-poisson-nloglik:2.356128\tval-poisson-nloglik:2.492660\n"
       ]
      },
      {
       "output_type": "stream",
       "stream": "stderr",
       "text": [
        "[1649]\ttrain-poisson-nloglik:2.356027\tval-poisson-nloglik:2.492584\n",
        "[1650]\ttrain-poisson-nloglik:2.355953\tval-poisson-nloglik:2.492524\n"
       ]
      },
      {
       "output_type": "stream",
       "stream": "stderr",
       "text": [
        "[1651]\ttrain-poisson-nloglik:2.355834\tval-poisson-nloglik:2.492422\n",
        "[1652]\ttrain-poisson-nloglik:2.355675\tval-poisson-nloglik:2.492287\n"
       ]
      },
      {
       "output_type": "stream",
       "stream": "stderr",
       "text": [
        "[1653]\ttrain-poisson-nloglik:2.355535\tval-poisson-nloglik:2.492169\n",
        "[1654]\ttrain-poisson-nloglik:2.355417\tval-poisson-nloglik:2.492066\n"
       ]
      },
      {
       "output_type": "stream",
       "stream": "stderr",
       "text": [
        "[1655]\ttrain-poisson-nloglik:2.355334\tval-poisson-nloglik:2.492005\n",
        "[1656]\ttrain-poisson-nloglik:2.355225\tval-poisson-nloglik:2.491925\n"
       ]
      },
      {
       "output_type": "stream",
       "stream": "stderr",
       "text": [
        "[1657]\ttrain-poisson-nloglik:2.355106\tval-poisson-nloglik:2.491820\n",
        "[1658]\ttrain-poisson-nloglik:2.354985\tval-poisson-nloglik:2.491730\n"
       ]
      },
      {
       "output_type": "stream",
       "stream": "stderr",
       "text": [
        "[1659]\ttrain-poisson-nloglik:2.354793\tval-poisson-nloglik:2.491590\n",
        "[1660]\ttrain-poisson-nloglik:2.354688\tval-poisson-nloglik:2.491503\n"
       ]
      },
      {
       "output_type": "stream",
       "stream": "stderr",
       "text": [
        "[1661]\ttrain-poisson-nloglik:2.354535\tval-poisson-nloglik:2.491406\n",
        "[1662]\ttrain-poisson-nloglik:2.354427\tval-poisson-nloglik:2.491319\n"
       ]
      },
      {
       "output_type": "stream",
       "stream": "stderr",
       "text": [
        "[1663]\ttrain-poisson-nloglik:2.354264\tval-poisson-nloglik:2.491174\n",
        "[1664]\ttrain-poisson-nloglik:2.354081\tval-poisson-nloglik:2.491032\n"
       ]
      },
      {
       "output_type": "stream",
       "stream": "stderr",
       "text": [
        "[1665]\ttrain-poisson-nloglik:2.353988\tval-poisson-nloglik:2.490965\n",
        "[1666]\ttrain-poisson-nloglik:2.353894\tval-poisson-nloglik:2.490882\n"
       ]
      },
      {
       "output_type": "stream",
       "stream": "stderr",
       "text": [
        "[1667]\ttrain-poisson-nloglik:2.353712\tval-poisson-nloglik:2.490731\n",
        "[1668]\ttrain-poisson-nloglik:2.353563\tval-poisson-nloglik:2.490613\n"
       ]
      },
      {
       "output_type": "stream",
       "stream": "stderr",
       "text": [
        "[1669]\ttrain-poisson-nloglik:2.353470\tval-poisson-nloglik:2.490551\n",
        "[1670]\ttrain-poisson-nloglik:2.353250\tval-poisson-nloglik:2.490386\n"
       ]
      },
      {
       "output_type": "stream",
       "stream": "stderr",
       "text": [
        "[1671]\ttrain-poisson-nloglik:2.353146\tval-poisson-nloglik:2.490305\n",
        "[1672]\ttrain-poisson-nloglik:2.353060\tval-poisson-nloglik:2.490232\n"
       ]
      },
      {
       "output_type": "stream",
       "stream": "stderr",
       "text": [
        "[1673]\ttrain-poisson-nloglik:2.352934\tval-poisson-nloglik:2.490135\n",
        "[1674]\ttrain-poisson-nloglik:2.352723\tval-poisson-nloglik:2.489927\n"
       ]
      },
      {
       "output_type": "stream",
       "stream": "stderr",
       "text": [
        "[1675]\ttrain-poisson-nloglik:2.352654\tval-poisson-nloglik:2.489870\n",
        "[1676]\ttrain-poisson-nloglik:2.352553\tval-poisson-nloglik:2.489782\n"
       ]
      },
      {
       "output_type": "stream",
       "stream": "stderr",
       "text": [
        "[1677]\ttrain-poisson-nloglik:2.352496\tval-poisson-nloglik:2.489745\n",
        "[1678]\ttrain-poisson-nloglik:2.352387\tval-poisson-nloglik:2.489650\n"
       ]
      },
      {
       "output_type": "stream",
       "stream": "stderr",
       "text": [
        "[1679]\ttrain-poisson-nloglik:2.352223\tval-poisson-nloglik:2.489517\n",
        "[1680]\ttrain-poisson-nloglik:2.352127\tval-poisson-nloglik:2.489449\n"
       ]
      },
      {
       "output_type": "stream",
       "stream": "stderr",
       "text": [
        "[1681]\ttrain-poisson-nloglik:2.351884\tval-poisson-nloglik:2.489244\n",
        "[1682]\ttrain-poisson-nloglik:2.351788\tval-poisson-nloglik:2.489154\n"
       ]
      },
      {
       "output_type": "stream",
       "stream": "stderr",
       "text": [
        "[1683]\ttrain-poisson-nloglik:2.351717\tval-poisson-nloglik:2.489095\n",
        "[1684]\ttrain-poisson-nloglik:2.351594\tval-poisson-nloglik:2.489000\n"
       ]
      },
      {
       "output_type": "stream",
       "stream": "stderr",
       "text": [
        "[1685]\ttrain-poisson-nloglik:2.351469\tval-poisson-nloglik:2.488895\n",
        "[1686]\ttrain-poisson-nloglik:2.351338\tval-poisson-nloglik:2.488801\n"
       ]
      },
      {
       "output_type": "stream",
       "stream": "stderr",
       "text": [
        "[1687]\ttrain-poisson-nloglik:2.351216\tval-poisson-nloglik:2.488735\n",
        "[1688]\ttrain-poisson-nloglik:2.350942\tval-poisson-nloglik:2.488492\n"
       ]
      },
      {
       "output_type": "stream",
       "stream": "stderr",
       "text": [
        "[1689]\ttrain-poisson-nloglik:2.350843\tval-poisson-nloglik:2.488402\n",
        "[1690]\ttrain-poisson-nloglik:2.350660\tval-poisson-nloglik:2.488222\n"
       ]
      },
      {
       "output_type": "stream",
       "stream": "stderr",
       "text": [
        "[1691]\ttrain-poisson-nloglik:2.350562\tval-poisson-nloglik:2.488135\n",
        "[1692]\ttrain-poisson-nloglik:2.350460\tval-poisson-nloglik:2.488046\n"
       ]
      },
      {
       "output_type": "stream",
       "stream": "stderr",
       "text": [
        "[1693]\ttrain-poisson-nloglik:2.350410\tval-poisson-nloglik:2.488003\n",
        "[1694]\ttrain-poisson-nloglik:2.350260\tval-poisson-nloglik:2.487871\n"
       ]
      },
      {
       "output_type": "stream",
       "stream": "stderr",
       "text": [
        "[1695]\ttrain-poisson-nloglik:2.350141\tval-poisson-nloglik:2.487758\n",
        "[1696]\ttrain-poisson-nloglik:2.350048\tval-poisson-nloglik:2.487688\n"
       ]
      },
      {
       "output_type": "stream",
       "stream": "stderr",
       "text": [
        "[1697]\ttrain-poisson-nloglik:2.349906\tval-poisson-nloglik:2.487569\n",
        "[1698]\ttrain-poisson-nloglik:2.349778\tval-poisson-nloglik:2.487476\n"
       ]
      },
      {
       "output_type": "stream",
       "stream": "stderr",
       "text": [
        "[1699]\ttrain-poisson-nloglik:2.349726\tval-poisson-nloglik:2.487437\n",
        "[1700]\ttrain-poisson-nloglik:2.349629\tval-poisson-nloglik:2.487351\n"
       ]
      },
      {
       "output_type": "stream",
       "stream": "stderr",
       "text": [
        "[1701]\ttrain-poisson-nloglik:2.349514\tval-poisson-nloglik:2.487275\n",
        "[1702]\ttrain-poisson-nloglik:2.349392\tval-poisson-nloglik:2.487166\n"
       ]
      },
      {
       "output_type": "stream",
       "stream": "stderr",
       "text": [
        "[1703]\ttrain-poisson-nloglik:2.349265\tval-poisson-nloglik:2.487075\n",
        "[1704]\ttrain-poisson-nloglik:2.349088\tval-poisson-nloglik:2.486919\n"
       ]
      },
      {
       "output_type": "stream",
       "stream": "stderr",
       "text": [
        "[1705]\ttrain-poisson-nloglik:2.348932\tval-poisson-nloglik:2.486799\n",
        "[1706]\ttrain-poisson-nloglik:2.348820\tval-poisson-nloglik:2.486718\n"
       ]
      },
      {
       "output_type": "stream",
       "stream": "stderr",
       "text": [
        "[1707]\ttrain-poisson-nloglik:2.348714\tval-poisson-nloglik:2.486629\n",
        "[1708]\ttrain-poisson-nloglik:2.348632\tval-poisson-nloglik:2.486565\n"
       ]
      },
      {
       "output_type": "stream",
       "stream": "stderr",
       "text": [
        "[1709]\ttrain-poisson-nloglik:2.348441\tval-poisson-nloglik:2.486421\n",
        "[1710]\ttrain-poisson-nloglik:2.348324\tval-poisson-nloglik:2.486332\n"
       ]
      },
      {
       "output_type": "stream",
       "stream": "stderr",
       "text": [
        "[1711]\ttrain-poisson-nloglik:2.348195\tval-poisson-nloglik:2.486220\n",
        "[1712]\ttrain-poisson-nloglik:2.347986\tval-poisson-nloglik:2.486055\n"
       ]
      },
      {
       "output_type": "stream",
       "stream": "stderr",
       "text": [
        "[1713]\ttrain-poisson-nloglik:2.347745\tval-poisson-nloglik:2.485865\n",
        "[1714]\ttrain-poisson-nloglik:2.347596\tval-poisson-nloglik:2.485741\n"
       ]
      },
      {
       "output_type": "stream",
       "stream": "stderr",
       "text": [
        "[1715]\ttrain-poisson-nloglik:2.347507\tval-poisson-nloglik:2.485659\n",
        "[1716]\ttrain-poisson-nloglik:2.347322\tval-poisson-nloglik:2.485515\n"
       ]
      },
      {
       "output_type": "stream",
       "stream": "stderr",
       "text": [
        "[1717]\ttrain-poisson-nloglik:2.347178\tval-poisson-nloglik:2.485419\n",
        "[1718]\ttrain-poisson-nloglik:2.347066\tval-poisson-nloglik:2.485313\n"
       ]
      },
      {
       "output_type": "stream",
       "stream": "stderr",
       "text": [
        "[1719]\ttrain-poisson-nloglik:2.346950\tval-poisson-nloglik:2.485214\n",
        "[1720]\ttrain-poisson-nloglik:2.346809\tval-poisson-nloglik:2.485107\n"
       ]
      },
      {
       "output_type": "stream",
       "stream": "stderr",
       "text": [
        "[1721]\ttrain-poisson-nloglik:2.346588\tval-poisson-nloglik:2.484961\n",
        "[1722]\ttrain-poisson-nloglik:2.346442\tval-poisson-nloglik:2.484843\n"
       ]
      },
      {
       "output_type": "stream",
       "stream": "stderr",
       "text": [
        "[1723]\ttrain-poisson-nloglik:2.346285\tval-poisson-nloglik:2.484725\n",
        "[1724]\ttrain-poisson-nloglik:2.346193\tval-poisson-nloglik:2.484633\n"
       ]
      },
      {
       "output_type": "stream",
       "stream": "stderr",
       "text": [
        "[1725]\ttrain-poisson-nloglik:2.346096\tval-poisson-nloglik:2.484543\n",
        "[1726]\ttrain-poisson-nloglik:2.346025\tval-poisson-nloglik:2.484488\n"
       ]
      },
      {
       "output_type": "stream",
       "stream": "stderr",
       "text": [
        "[1727]\ttrain-poisson-nloglik:2.345877\tval-poisson-nloglik:2.484367\n",
        "[1728]\ttrain-poisson-nloglik:2.345791\tval-poisson-nloglik:2.484283\n"
       ]
      },
      {
       "output_type": "stream",
       "stream": "stderr",
       "text": [
        "[1729]\ttrain-poisson-nloglik:2.345697\tval-poisson-nloglik:2.484198\n",
        "[1730]\ttrain-poisson-nloglik:2.345585\tval-poisson-nloglik:2.484094\n"
       ]
      },
      {
       "output_type": "stream",
       "stream": "stderr",
       "text": [
        "[1731]\ttrain-poisson-nloglik:2.345522\tval-poisson-nloglik:2.484058\n",
        "[1732]\ttrain-poisson-nloglik:2.345312\tval-poisson-nloglik:2.483865\n"
       ]
      },
      {
       "output_type": "stream",
       "stream": "stderr",
       "text": [
        "[1733]\ttrain-poisson-nloglik:2.345135\tval-poisson-nloglik:2.483702\n",
        "[1734]\ttrain-poisson-nloglik:2.344848\tval-poisson-nloglik:2.483485\n"
       ]
      },
      {
       "output_type": "stream",
       "stream": "stderr",
       "text": [
        "[1735]\ttrain-poisson-nloglik:2.344760\tval-poisson-nloglik:2.483407\n",
        "[1736]\ttrain-poisson-nloglik:2.344659\tval-poisson-nloglik:2.483325\n"
       ]
      },
      {
       "output_type": "stream",
       "stream": "stderr",
       "text": [
        "[1737]\ttrain-poisson-nloglik:2.344515\tval-poisson-nloglik:2.483204\n",
        "[1738]\ttrain-poisson-nloglik:2.344342\tval-poisson-nloglik:2.483024\n"
       ]
      },
      {
       "output_type": "stream",
       "stream": "stderr",
       "text": [
        "[1739]\ttrain-poisson-nloglik:2.344106\tval-poisson-nloglik:2.482824\n",
        "[1740]\ttrain-poisson-nloglik:2.344018\tval-poisson-nloglik:2.482758\n"
       ]
      },
      {
       "output_type": "stream",
       "stream": "stderr",
       "text": [
        "[1741]\ttrain-poisson-nloglik:2.343890\tval-poisson-nloglik:2.482643\n",
        "[1742]\ttrain-poisson-nloglik:2.343814\tval-poisson-nloglik:2.482583\n"
       ]
      },
      {
       "output_type": "stream",
       "stream": "stderr",
       "text": [
        "[1743]\ttrain-poisson-nloglik:2.343709\tval-poisson-nloglik:2.482512\n",
        "[1744]\ttrain-poisson-nloglik:2.343591\tval-poisson-nloglik:2.482421\n"
       ]
      },
      {
       "output_type": "stream",
       "stream": "stderr",
       "text": [
        "[1745]\ttrain-poisson-nloglik:2.343490\tval-poisson-nloglik:2.482324\n",
        "[1746]\ttrain-poisson-nloglik:2.343410\tval-poisson-nloglik:2.482261\n"
       ]
      },
      {
       "output_type": "stream",
       "stream": "stderr",
       "text": [
        "[1747]\ttrain-poisson-nloglik:2.343247\tval-poisson-nloglik:2.482137\n",
        "[1748]\ttrain-poisson-nloglik:2.343067\tval-poisson-nloglik:2.481992\n"
       ]
      },
      {
       "output_type": "stream",
       "stream": "stderr",
       "text": [
        "[1749]\ttrain-poisson-nloglik:2.342986\tval-poisson-nloglik:2.481928\n",
        "[1750]\ttrain-poisson-nloglik:2.342885\tval-poisson-nloglik:2.481847\n"
       ]
      },
      {
       "output_type": "stream",
       "stream": "stderr",
       "text": [
        "[1751]\ttrain-poisson-nloglik:2.342717\tval-poisson-nloglik:2.481708\n",
        "[1752]\ttrain-poisson-nloglik:2.342618\tval-poisson-nloglik:2.481612\n"
       ]
      },
      {
       "output_type": "stream",
       "stream": "stderr",
       "text": [
        "[1753]\ttrain-poisson-nloglik:2.342491\tval-poisson-nloglik:2.481519\n",
        "[1754]\ttrain-poisson-nloglik:2.342360\tval-poisson-nloglik:2.481426\n"
       ]
      },
      {
       "output_type": "stream",
       "stream": "stderr",
       "text": [
        "[1755]\ttrain-poisson-nloglik:2.342264\tval-poisson-nloglik:2.481350\n",
        "[1756]\ttrain-poisson-nloglik:2.342167\tval-poisson-nloglik:2.481273\n"
       ]
      },
      {
       "output_type": "stream",
       "stream": "stderr",
       "text": [
        "[1757]\ttrain-poisson-nloglik:2.342061\tval-poisson-nloglik:2.481197\n",
        "[1758]\ttrain-poisson-nloglik:2.341962\tval-poisson-nloglik:2.481126\n"
       ]
      },
      {
       "output_type": "stream",
       "stream": "stderr",
       "text": [
        "[1759]\ttrain-poisson-nloglik:2.341759\tval-poisson-nloglik:2.480952\n",
        "[1760]\ttrain-poisson-nloglik:2.341674\tval-poisson-nloglik:2.480898\n"
       ]
      },
      {
       "output_type": "stream",
       "stream": "stderr",
       "text": [
        "[1761]\ttrain-poisson-nloglik:2.341513\tval-poisson-nloglik:2.480750\n",
        "[1762]\ttrain-poisson-nloglik:2.341384\tval-poisson-nloglik:2.480656\n"
       ]
      },
      {
       "output_type": "stream",
       "stream": "stderr",
       "text": [
        "[1763]\ttrain-poisson-nloglik:2.341290\tval-poisson-nloglik:2.480590\n",
        "[1764]\ttrain-poisson-nloglik:2.341110\tval-poisson-nloglik:2.480454\n"
       ]
      },
      {
       "output_type": "stream",
       "stream": "stderr",
       "text": [
        "[1765]\ttrain-poisson-nloglik:2.341006\tval-poisson-nloglik:2.480371\n",
        "[1766]\ttrain-poisson-nloglik:2.340913\tval-poisson-nloglik:2.480292\n"
       ]
      },
      {
       "output_type": "stream",
       "stream": "stderr",
       "text": [
        "[1767]\ttrain-poisson-nloglik:2.340778\tval-poisson-nloglik:2.480178\n",
        "[1768]\ttrain-poisson-nloglik:2.340713\tval-poisson-nloglik:2.480115\n"
       ]
      },
      {
       "output_type": "stream",
       "stream": "stderr",
       "text": [
        "[1769]\ttrain-poisson-nloglik:2.340591\tval-poisson-nloglik:2.480022\n",
        "[1770]\ttrain-poisson-nloglik:2.340450\tval-poisson-nloglik:2.479888\n"
       ]
      },
      {
       "output_type": "stream",
       "stream": "stderr",
       "text": [
        "[1771]\ttrain-poisson-nloglik:2.340294\tval-poisson-nloglik:2.479748\n",
        "[1772]\ttrain-poisson-nloglik:2.340230\tval-poisson-nloglik:2.479700\n"
       ]
      },
      {
       "output_type": "stream",
       "stream": "stderr",
       "text": [
        "[1773]\ttrain-poisson-nloglik:2.340132\tval-poisson-nloglik:2.479619\n",
        "[1774]\ttrain-poisson-nloglik:2.340019\tval-poisson-nloglik:2.479544\n"
       ]
      },
      {
       "output_type": "stream",
       "stream": "stderr",
       "text": [
        "[1775]\ttrain-poisson-nloglik:2.339890\tval-poisson-nloglik:2.479455\n",
        "[1776]\ttrain-poisson-nloglik:2.339797\tval-poisson-nloglik:2.479388\n"
       ]
      },
      {
       "output_type": "stream",
       "stream": "stderr",
       "text": [
        "[1777]\ttrain-poisson-nloglik:2.339649\tval-poisson-nloglik:2.479258\n",
        "[1778]\ttrain-poisson-nloglik:2.339535\tval-poisson-nloglik:2.479175\n"
       ]
      },
      {
       "output_type": "stream",
       "stream": "stderr",
       "text": [
        "[1779]\ttrain-poisson-nloglik:2.339347\tval-poisson-nloglik:2.479036\n",
        "[1780]\ttrain-poisson-nloglik:2.339117\tval-poisson-nloglik:2.478856\n"
       ]
      },
      {
       "output_type": "stream",
       "stream": "stderr",
       "text": [
        "[1781]\ttrain-poisson-nloglik:2.339008\tval-poisson-nloglik:2.478781\n",
        "[1782]\ttrain-poisson-nloglik:2.338844\tval-poisson-nloglik:2.478658\n"
       ]
      },
      {
       "output_type": "stream",
       "stream": "stderr",
       "text": [
        "[1783]\ttrain-poisson-nloglik:2.338661\tval-poisson-nloglik:2.478507\n",
        "[1784]\ttrain-poisson-nloglik:2.338465\tval-poisson-nloglik:2.478345\n"
       ]
      },
      {
       "output_type": "stream",
       "stream": "stderr",
       "text": [
        "[1785]\ttrain-poisson-nloglik:2.338316\tval-poisson-nloglik:2.478232\n",
        "[1786]\ttrain-poisson-nloglik:2.338175\tval-poisson-nloglik:2.478114\n"
       ]
      },
      {
       "output_type": "stream",
       "stream": "stderr",
       "text": [
        "[1787]\ttrain-poisson-nloglik:2.338063\tval-poisson-nloglik:2.478008\n",
        "[1788]\ttrain-poisson-nloglik:2.337945\tval-poisson-nloglik:2.477926\n"
       ]
      },
      {
       "output_type": "stream",
       "stream": "stderr",
       "text": [
        "[1789]\ttrain-poisson-nloglik:2.337811\tval-poisson-nloglik:2.477824\n",
        "[1790]\ttrain-poisson-nloglik:2.337727\tval-poisson-nloglik:2.477741\n"
       ]
      },
      {
       "output_type": "stream",
       "stream": "stderr",
       "text": [
        "[1791]\ttrain-poisson-nloglik:2.337568\tval-poisson-nloglik:2.477612\n",
        "[1792]\ttrain-poisson-nloglik:2.337457\tval-poisson-nloglik:2.477529\n"
       ]
      },
      {
       "output_type": "stream",
       "stream": "stderr",
       "text": [
        "[1793]\ttrain-poisson-nloglik:2.337239\tval-poisson-nloglik:2.477334\n",
        "[1794]\ttrain-poisson-nloglik:2.337111\tval-poisson-nloglik:2.477243\n"
       ]
      },
      {
       "output_type": "stream",
       "stream": "stderr",
       "text": [
        "[1795]\ttrain-poisson-nloglik:2.336871\tval-poisson-nloglik:2.477041\n",
        "[1796]\ttrain-poisson-nloglik:2.336742\tval-poisson-nloglik:2.476931\n"
       ]
      },
      {
       "output_type": "stream",
       "stream": "stderr",
       "text": [
        "[1797]\ttrain-poisson-nloglik:2.336602\tval-poisson-nloglik:2.476828\n",
        "[1798]\ttrain-poisson-nloglik:2.336465\tval-poisson-nloglik:2.476706\n"
       ]
      },
      {
       "output_type": "stream",
       "stream": "stderr",
       "text": [
        "[1799]\ttrain-poisson-nloglik:2.336306\tval-poisson-nloglik:2.476568\n",
        "[1800]\ttrain-poisson-nloglik:2.336170\tval-poisson-nloglik:2.476471\n"
       ]
      },
      {
       "output_type": "stream",
       "stream": "stderr",
       "text": [
        "[1801]\ttrain-poisson-nloglik:2.336070\tval-poisson-nloglik:2.476381\n",
        "[1802]\ttrain-poisson-nloglik:2.335982\tval-poisson-nloglik:2.476307\n"
       ]
      },
      {
       "output_type": "stream",
       "stream": "stderr",
       "text": [
        "[1803]\ttrain-poisson-nloglik:2.335780\tval-poisson-nloglik:2.476140\n",
        "[1804]\ttrain-poisson-nloglik:2.335675\tval-poisson-nloglik:2.476049\n"
       ]
      },
      {
       "output_type": "stream",
       "stream": "stderr",
       "text": [
        "[1805]\ttrain-poisson-nloglik:2.335591\tval-poisson-nloglik:2.476001\n",
        "[1806]\ttrain-poisson-nloglik:2.335411\tval-poisson-nloglik:2.475863\n"
       ]
      },
      {
       "output_type": "stream",
       "stream": "stderr",
       "text": [
        "[1807]\ttrain-poisson-nloglik:2.335343\tval-poisson-nloglik:2.475816\n",
        "[1808]\ttrain-poisson-nloglik:2.335240\tval-poisson-nloglik:2.475731\n"
       ]
      },
      {
       "output_type": "stream",
       "stream": "stderr",
       "text": [
        "[1809]\ttrain-poisson-nloglik:2.335154\tval-poisson-nloglik:2.475646\n",
        "[1810]\ttrain-poisson-nloglik:2.334963\tval-poisson-nloglik:2.475516\n"
       ]
      },
      {
       "output_type": "stream",
       "stream": "stderr",
       "text": [
        "[1811]\ttrain-poisson-nloglik:2.334901\tval-poisson-nloglik:2.475466\n",
        "[1812]\ttrain-poisson-nloglik:2.334830\tval-poisson-nloglik:2.475402\n"
       ]
      },
      {
       "output_type": "stream",
       "stream": "stderr",
       "text": [
        "[1813]\ttrain-poisson-nloglik:2.334714\tval-poisson-nloglik:2.475326\n",
        "[1814]\ttrain-poisson-nloglik:2.334600\tval-poisson-nloglik:2.475232\n"
       ]
      },
      {
       "output_type": "stream",
       "stream": "stderr",
       "text": [
        "[1815]\ttrain-poisson-nloglik:2.334510\tval-poisson-nloglik:2.475170\n",
        "[1816]\ttrain-poisson-nloglik:2.334368\tval-poisson-nloglik:2.475039\n"
       ]
      },
      {
       "output_type": "stream",
       "stream": "stderr",
       "text": [
        "[1817]\ttrain-poisson-nloglik:2.334250\tval-poisson-nloglik:2.474941\n",
        "[1818]\ttrain-poisson-nloglik:2.334107\tval-poisson-nloglik:2.474831\n"
       ]
      },
      {
       "output_type": "stream",
       "stream": "stderr",
       "text": [
        "[1819]\ttrain-poisson-nloglik:2.334042\tval-poisson-nloglik:2.474780\n",
        "[1820]\ttrain-poisson-nloglik:2.333882\tval-poisson-nloglik:2.474656\n"
       ]
      },
      {
       "output_type": "stream",
       "stream": "stderr",
       "text": [
        "[1821]\ttrain-poisson-nloglik:2.333717\tval-poisson-nloglik:2.474507\n",
        "[1822]\ttrain-poisson-nloglik:2.333549\tval-poisson-nloglik:2.474382\n"
       ]
      },
      {
       "output_type": "stream",
       "stream": "stderr",
       "text": [
        "[1823]\ttrain-poisson-nloglik:2.333413\tval-poisson-nloglik:2.474285\n",
        "[1824]\ttrain-poisson-nloglik:2.333285\tval-poisson-nloglik:2.474173\n"
       ]
      },
      {
       "output_type": "stream",
       "stream": "stderr",
       "text": [
        "[1825]\ttrain-poisson-nloglik:2.333241\tval-poisson-nloglik:2.474135\n",
        "[1826]\ttrain-poisson-nloglik:2.333067\tval-poisson-nloglik:2.474024\n"
       ]
      },
      {
       "output_type": "stream",
       "stream": "stderr",
       "text": [
        "[1827]\ttrain-poisson-nloglik:2.332874\tval-poisson-nloglik:2.473859\n",
        "[1828]\ttrain-poisson-nloglik:2.332803\tval-poisson-nloglik:2.473802\n"
       ]
      },
      {
       "output_type": "stream",
       "stream": "stderr",
       "text": [
        "[1829]\ttrain-poisson-nloglik:2.332716\tval-poisson-nloglik:2.473735\n",
        "[1830]\ttrain-poisson-nloglik:2.332614\tval-poisson-nloglik:2.473639\n"
       ]
      },
      {
       "output_type": "stream",
       "stream": "stderr",
       "text": [
        "[1831]\ttrain-poisson-nloglik:2.332521\tval-poisson-nloglik:2.473566\n",
        "[1832]\ttrain-poisson-nloglik:2.332411\tval-poisson-nloglik:2.473463\n"
       ]
      },
      {
       "output_type": "stream",
       "stream": "stderr",
       "text": [
        "[1833]\ttrain-poisson-nloglik:2.332296\tval-poisson-nloglik:2.473370\n",
        "[1834]\ttrain-poisson-nloglik:2.332178\tval-poisson-nloglik:2.473267\n"
       ]
      },
      {
       "output_type": "stream",
       "stream": "stderr",
       "text": [
        "[1835]\ttrain-poisson-nloglik:2.331995\tval-poisson-nloglik:2.473101\n",
        "[1836]\ttrain-poisson-nloglik:2.331949\tval-poisson-nloglik:2.473074\n"
       ]
      },
      {
       "output_type": "stream",
       "stream": "stderr",
       "text": [
        "[1837]\ttrain-poisson-nloglik:2.331872\tval-poisson-nloglik:2.473011\n",
        "[1838]\ttrain-poisson-nloglik:2.331766\tval-poisson-nloglik:2.472903\n"
       ]
      },
      {
       "output_type": "stream",
       "stream": "stderr",
       "text": [
        "[1839]\ttrain-poisson-nloglik:2.331606\tval-poisson-nloglik:2.472772\n",
        "[1840]\ttrain-poisson-nloglik:2.331455\tval-poisson-nloglik:2.472661\n"
       ]
      },
      {
       "output_type": "stream",
       "stream": "stderr",
       "text": [
        "[1841]\ttrain-poisson-nloglik:2.331372\tval-poisson-nloglik:2.472611\n",
        "[1842]\ttrain-poisson-nloglik:2.331226\tval-poisson-nloglik:2.472489\n"
       ]
      },
      {
       "output_type": "stream",
       "stream": "stderr",
       "text": [
        "[1843]\ttrain-poisson-nloglik:2.331161\tval-poisson-nloglik:2.472431\n",
        "[1844]\ttrain-poisson-nloglik:2.330971\tval-poisson-nloglik:2.472288\n"
       ]
      },
      {
       "output_type": "stream",
       "stream": "stderr",
       "text": [
        "[1845]\ttrain-poisson-nloglik:2.330886\tval-poisson-nloglik:2.472191\n",
        "[1846]\ttrain-poisson-nloglik:2.330785\tval-poisson-nloglik:2.472100\n"
       ]
      },
      {
       "output_type": "stream",
       "stream": "stderr",
       "text": [
        "[1847]\ttrain-poisson-nloglik:2.330697\tval-poisson-nloglik:2.472030\n",
        "[1848]\ttrain-poisson-nloglik:2.330616\tval-poisson-nloglik:2.471973\n"
       ]
      },
      {
       "output_type": "stream",
       "stream": "stderr",
       "text": [
        "[1849]\ttrain-poisson-nloglik:2.330502\tval-poisson-nloglik:2.471881\n",
        "[1850]\ttrain-poisson-nloglik:2.330396\tval-poisson-nloglik:2.471803\n"
       ]
      },
      {
       "output_type": "stream",
       "stream": "stderr",
       "text": [
        "[1851]\ttrain-poisson-nloglik:2.330293\tval-poisson-nloglik:2.471730\n",
        "[1852]\ttrain-poisson-nloglik:2.330176\tval-poisson-nloglik:2.471638\n"
       ]
      },
      {
       "output_type": "stream",
       "stream": "stderr",
       "text": [
        "[1853]\ttrain-poisson-nloglik:2.329955\tval-poisson-nloglik:2.471457\n",
        "[1854]\ttrain-poisson-nloglik:2.329776\tval-poisson-nloglik:2.471310\n"
       ]
      },
      {
       "output_type": "stream",
       "stream": "stderr",
       "text": [
        "[1855]\ttrain-poisson-nloglik:2.329667\tval-poisson-nloglik:2.471189\n",
        "[1856]\ttrain-poisson-nloglik:2.329524\tval-poisson-nloglik:2.471065\n"
       ]
      },
      {
       "output_type": "stream",
       "stream": "stderr",
       "text": [
        "[1857]\ttrain-poisson-nloglik:2.329404\tval-poisson-nloglik:2.470966\n",
        "[1858]\ttrain-poisson-nloglik:2.329242\tval-poisson-nloglik:2.470827\n"
       ]
      },
      {
       "output_type": "stream",
       "stream": "stderr",
       "text": [
        "[1859]\ttrain-poisson-nloglik:2.329079\tval-poisson-nloglik:2.470691\n",
        "[1860]\ttrain-poisson-nloglik:2.328932\tval-poisson-nloglik:2.470577\n"
       ]
      },
      {
       "output_type": "stream",
       "stream": "stderr",
       "text": [
        "[1861]\ttrain-poisson-nloglik:2.328691\tval-poisson-nloglik:2.470406\n",
        "[1862]\ttrain-poisson-nloglik:2.328646\tval-poisson-nloglik:2.470369\n"
       ]
      },
      {
       "output_type": "stream",
       "stream": "stderr",
       "text": [
        "[1863]\ttrain-poisson-nloglik:2.328485\tval-poisson-nloglik:2.470232\n",
        "[1864]\ttrain-poisson-nloglik:2.328424\tval-poisson-nloglik:2.470176\n"
       ]
      },
      {
       "output_type": "stream",
       "stream": "stderr",
       "text": [
        "[1865]\ttrain-poisson-nloglik:2.328187\tval-poisson-nloglik:2.469966\n",
        "[1866]\ttrain-poisson-nloglik:2.328095\tval-poisson-nloglik:2.469885\n"
       ]
      },
      {
       "output_type": "stream",
       "stream": "stderr",
       "text": [
        "[1867]\ttrain-poisson-nloglik:2.327962\tval-poisson-nloglik:2.469765\n",
        "[1868]\ttrain-poisson-nloglik:2.327907\tval-poisson-nloglik:2.469716\n"
       ]
      },
      {
       "output_type": "stream",
       "stream": "stderr",
       "text": [
        "[1869]\ttrain-poisson-nloglik:2.327801\tval-poisson-nloglik:2.469627\n",
        "[1870]\ttrain-poisson-nloglik:2.327687\tval-poisson-nloglik:2.469540\n"
       ]
      },
      {
       "output_type": "stream",
       "stream": "stderr",
       "text": [
        "[1871]\ttrain-poisson-nloglik:2.327633\tval-poisson-nloglik:2.469500\n",
        "[1872]\ttrain-poisson-nloglik:2.327375\tval-poisson-nloglik:2.469293\n"
       ]
      },
      {
       "output_type": "stream",
       "stream": "stderr",
       "text": [
        "[1873]\ttrain-poisson-nloglik:2.327267\tval-poisson-nloglik:2.469218\n",
        "[1874]\ttrain-poisson-nloglik:2.327154\tval-poisson-nloglik:2.469126\n"
       ]
      },
      {
       "output_type": "stream",
       "stream": "stderr",
       "text": [
        "[1875]\ttrain-poisson-nloglik:2.327092\tval-poisson-nloglik:2.469083\n",
        "[1876]\ttrain-poisson-nloglik:2.326911\tval-poisson-nloglik:2.468963\n"
       ]
      },
      {
       "output_type": "stream",
       "stream": "stderr",
       "text": [
        "[1877]\ttrain-poisson-nloglik:2.326765\tval-poisson-nloglik:2.468859\n",
        "[1878]\ttrain-poisson-nloglik:2.326576\tval-poisson-nloglik:2.468701\n"
       ]
      },
      {
       "output_type": "stream",
       "stream": "stderr",
       "text": [
        "[1879]\ttrain-poisson-nloglik:2.326474\tval-poisson-nloglik:2.468626\n",
        "[1880]\ttrain-poisson-nloglik:2.326435\tval-poisson-nloglik:2.468595\n"
       ]
      },
      {
       "output_type": "stream",
       "stream": "stderr",
       "text": [
        "[1881]\ttrain-poisson-nloglik:2.326324\tval-poisson-nloglik:2.468512\n",
        "[1882]\ttrain-poisson-nloglik:2.326189\tval-poisson-nloglik:2.468413\n"
       ]
      },
      {
       "output_type": "stream",
       "stream": "stderr",
       "text": [
        "[1883]\ttrain-poisson-nloglik:2.325982\tval-poisson-nloglik:2.468228\n",
        "[1884]\ttrain-poisson-nloglik:2.325871\tval-poisson-nloglik:2.468131\n"
       ]
      },
      {
       "output_type": "stream",
       "stream": "stderr",
       "text": [
        "[1885]\ttrain-poisson-nloglik:2.325689\tval-poisson-nloglik:2.467982\n",
        "[1886]\ttrain-poisson-nloglik:2.325603\tval-poisson-nloglik:2.467930\n"
       ]
      },
      {
       "output_type": "stream",
       "stream": "stderr",
       "text": [
        "[1887]\ttrain-poisson-nloglik:2.325464\tval-poisson-nloglik:2.467787\n",
        "[1888]\ttrain-poisson-nloglik:2.325278\tval-poisson-nloglik:2.467640\n"
       ]
      },
      {
       "output_type": "stream",
       "stream": "stderr",
       "text": [
        "[1889]\ttrain-poisson-nloglik:2.325048\tval-poisson-nloglik:2.467475\n",
        "[1890]\ttrain-poisson-nloglik:2.324880\tval-poisson-nloglik:2.467321\n"
       ]
      },
      {
       "output_type": "stream",
       "stream": "stderr",
       "text": [
        "[1891]\ttrain-poisson-nloglik:2.324791\tval-poisson-nloglik:2.467241\n",
        "[1892]\ttrain-poisson-nloglik:2.324723\tval-poisson-nloglik:2.467190\n"
       ]
      },
      {
       "output_type": "stream",
       "stream": "stderr",
       "text": [
        "[1893]\ttrain-poisson-nloglik:2.324658\tval-poisson-nloglik:2.467145\n",
        "[1894]\ttrain-poisson-nloglik:2.324533\tval-poisson-nloglik:2.467048\n"
       ]
      },
      {
       "output_type": "stream",
       "stream": "stderr",
       "text": [
        "[1895]\ttrain-poisson-nloglik:2.324450\tval-poisson-nloglik:2.466988\n",
        "[1896]\ttrain-poisson-nloglik:2.324242\tval-poisson-nloglik:2.466807\n"
       ]
      },
      {
       "output_type": "stream",
       "stream": "stderr",
       "text": [
        "[1897]\ttrain-poisson-nloglik:2.324174\tval-poisson-nloglik:2.466755\n",
        "[1898]\ttrain-poisson-nloglik:2.324072\tval-poisson-nloglik:2.466687\n"
       ]
      },
      {
       "output_type": "stream",
       "stream": "stderr",
       "text": [
        "[1899]\ttrain-poisson-nloglik:2.323925\tval-poisson-nloglik:2.466563\n",
        "[1900]\ttrain-poisson-nloglik:2.323712\tval-poisson-nloglik:2.466398\n"
       ]
      },
      {
       "output_type": "stream",
       "stream": "stderr",
       "text": [
        "[1901]\ttrain-poisson-nloglik:2.323572\tval-poisson-nloglik:2.466264\n",
        "[1902]\ttrain-poisson-nloglik:2.323340\tval-poisson-nloglik:2.466115\n"
       ]
      },
      {
       "output_type": "stream",
       "stream": "stderr",
       "text": [
        "[1903]\ttrain-poisson-nloglik:2.323217\tval-poisson-nloglik:2.466021\n",
        "[1904]\ttrain-poisson-nloglik:2.323052\tval-poisson-nloglik:2.465896\n"
       ]
      },
      {
       "output_type": "stream",
       "stream": "stderr",
       "text": [
        "[1905]\ttrain-poisson-nloglik:2.322906\tval-poisson-nloglik:2.465762\n",
        "[1906]\ttrain-poisson-nloglik:2.322860\tval-poisson-nloglik:2.465722\n"
       ]
      },
      {
       "output_type": "stream",
       "stream": "stderr",
       "text": [
        "[1907]\ttrain-poisson-nloglik:2.322792\tval-poisson-nloglik:2.465668\n",
        "[1908]\ttrain-poisson-nloglik:2.322721\tval-poisson-nloglik:2.465597\n"
       ]
      },
      {
       "output_type": "stream",
       "stream": "stderr",
       "text": [
        "[1909]\ttrain-poisson-nloglik:2.322603\tval-poisson-nloglik:2.465489\n",
        "[1910]\ttrain-poisson-nloglik:2.322459\tval-poisson-nloglik:2.465396\n"
       ]
      },
      {
       "output_type": "stream",
       "stream": "stderr",
       "text": [
        "[1911]\ttrain-poisson-nloglik:2.322244\tval-poisson-nloglik:2.465204\n",
        "[1912]\ttrain-poisson-nloglik:2.322092\tval-poisson-nloglik:2.465079\n"
       ]
      },
      {
       "output_type": "stream",
       "stream": "stderr",
       "text": [
        "[1913]\ttrain-poisson-nloglik:2.321884\tval-poisson-nloglik:2.464902\n",
        "[1914]\ttrain-poisson-nloglik:2.321701\tval-poisson-nloglik:2.464737\n"
       ]
      },
      {
       "output_type": "stream",
       "stream": "stderr",
       "text": [
        "[1915]\ttrain-poisson-nloglik:2.321546\tval-poisson-nloglik:2.464610\n",
        "[1916]\ttrain-poisson-nloglik:2.321406\tval-poisson-nloglik:2.464489\n"
       ]
      },
      {
       "output_type": "stream",
       "stream": "stderr",
       "text": [
        "[1917]\ttrain-poisson-nloglik:2.321277\tval-poisson-nloglik:2.464370\n",
        "[1918]\ttrain-poisson-nloglik:2.321194\tval-poisson-nloglik:2.464314\n"
       ]
      },
      {
       "output_type": "stream",
       "stream": "stderr",
       "text": [
        "[1919]\ttrain-poisson-nloglik:2.321071\tval-poisson-nloglik:2.464216\n",
        "[1920]\ttrain-poisson-nloglik:2.320989\tval-poisson-nloglik:2.464167\n"
       ]
      },
      {
       "output_type": "stream",
       "stream": "stderr",
       "text": [
        "[1921]\ttrain-poisson-nloglik:2.320784\tval-poisson-nloglik:2.463990\n",
        "[1922]\ttrain-poisson-nloglik:2.320693\tval-poisson-nloglik:2.463912\n"
       ]
      },
      {
       "output_type": "stream",
       "stream": "stderr",
       "text": [
        "[1923]\ttrain-poisson-nloglik:2.320592\tval-poisson-nloglik:2.463836\n",
        "[1924]\ttrain-poisson-nloglik:2.320517\tval-poisson-nloglik:2.463787\n"
       ]
      },
      {
       "output_type": "stream",
       "stream": "stderr",
       "text": [
        "[1925]\ttrain-poisson-nloglik:2.320361\tval-poisson-nloglik:2.463655\n",
        "[1926]\ttrain-poisson-nloglik:2.320297\tval-poisson-nloglik:2.463604\n"
       ]
      },
      {
       "output_type": "stream",
       "stream": "stderr",
       "text": [
        "[1927]\ttrain-poisson-nloglik:2.320193\tval-poisson-nloglik:2.463525\n",
        "[1928]\ttrain-poisson-nloglik:2.320051\tval-poisson-nloglik:2.463424\n"
       ]
      },
      {
       "output_type": "stream",
       "stream": "stderr",
       "text": [
        "[1929]\ttrain-poisson-nloglik:2.319973\tval-poisson-nloglik:2.463352\n",
        "[1930]\ttrain-poisson-nloglik:2.319857\tval-poisson-nloglik:2.463248\n"
       ]
      },
      {
       "output_type": "stream",
       "stream": "stderr",
       "text": [
        "[1931]\ttrain-poisson-nloglik:2.319665\tval-poisson-nloglik:2.463090\n",
        "[1932]\ttrain-poisson-nloglik:2.319610\tval-poisson-nloglik:2.463034\n"
       ]
      },
      {
       "output_type": "stream",
       "stream": "stderr",
       "text": [
        "[1933]\ttrain-poisson-nloglik:2.319533\tval-poisson-nloglik:2.462973\n",
        "[1934]\ttrain-poisson-nloglik:2.319415\tval-poisson-nloglik:2.462878\n"
       ]
      },
      {
       "output_type": "stream",
       "stream": "stderr",
       "text": [
        "[1935]\ttrain-poisson-nloglik:2.319326\tval-poisson-nloglik:2.462794\n",
        "[1936]\ttrain-poisson-nloglik:2.319132\tval-poisson-nloglik:2.462627\n"
       ]
      },
      {
       "output_type": "stream",
       "stream": "stderr",
       "text": [
        "[1937]\ttrain-poisson-nloglik:2.319030\tval-poisson-nloglik:2.462557\n",
        "[1938]\ttrain-poisson-nloglik:2.318962\tval-poisson-nloglik:2.462504\n"
       ]
      },
      {
       "output_type": "stream",
       "stream": "stderr",
       "text": [
        "[1939]\ttrain-poisson-nloglik:2.318907\tval-poisson-nloglik:2.462458\n",
        "[1940]\ttrain-poisson-nloglik:2.318775\tval-poisson-nloglik:2.462353\n"
       ]
      },
      {
       "output_type": "stream",
       "stream": "stderr",
       "text": [
        "[1941]\ttrain-poisson-nloglik:2.318689\tval-poisson-nloglik:2.462300\n",
        "[1942]\ttrain-poisson-nloglik:2.318586\tval-poisson-nloglik:2.462204\n"
       ]
      },
      {
       "output_type": "stream",
       "stream": "stderr",
       "text": [
        "[1943]\ttrain-poisson-nloglik:2.318427\tval-poisson-nloglik:2.462075\n",
        "[1944]\ttrain-poisson-nloglik:2.318283\tval-poisson-nloglik:2.461966\n"
       ]
      },
      {
       "output_type": "stream",
       "stream": "stderr",
       "text": [
        "[1945]\ttrain-poisson-nloglik:2.318113\tval-poisson-nloglik:2.461829\n",
        "[1946]\ttrain-poisson-nloglik:2.317950\tval-poisson-nloglik:2.461701\n"
       ]
      },
      {
       "output_type": "stream",
       "stream": "stderr",
       "text": [
        "[1947]\ttrain-poisson-nloglik:2.317774\tval-poisson-nloglik:2.461576\n",
        "[1948]\ttrain-poisson-nloglik:2.317673\tval-poisson-nloglik:2.461488\n"
       ]
      },
      {
       "output_type": "stream",
       "stream": "stderr",
       "text": [
        "[1949]\ttrain-poisson-nloglik:2.317588\tval-poisson-nloglik:2.461425\n",
        "[1950]\ttrain-poisson-nloglik:2.317478\tval-poisson-nloglik:2.461350\n"
       ]
      },
      {
       "output_type": "stream",
       "stream": "stderr",
       "text": [
        "[1951]\ttrain-poisson-nloglik:2.317399\tval-poisson-nloglik:2.461284\n",
        "[1952]\ttrain-poisson-nloglik:2.317288\tval-poisson-nloglik:2.461181\n"
       ]
      },
      {
       "output_type": "stream",
       "stream": "stderr",
       "text": [
        "[1953]\ttrain-poisson-nloglik:2.317130\tval-poisson-nloglik:2.461041\n",
        "[1954]\ttrain-poisson-nloglik:2.317009\tval-poisson-nloglik:2.460932\n"
       ]
      },
      {
       "output_type": "stream",
       "stream": "stderr",
       "text": [
        "[1955]\ttrain-poisson-nloglik:2.316810\tval-poisson-nloglik:2.460789\n",
        "[1956]\ttrain-poisson-nloglik:2.316708\tval-poisson-nloglik:2.460721\n"
       ]
      },
      {
       "output_type": "stream",
       "stream": "stderr",
       "text": [
        "[1957]\ttrain-poisson-nloglik:2.316609\tval-poisson-nloglik:2.460643\n",
        "[1958]\ttrain-poisson-nloglik:2.316531\tval-poisson-nloglik:2.460564\n"
       ]
      },
      {
       "output_type": "stream",
       "stream": "stderr",
       "text": [
        "[1959]\ttrain-poisson-nloglik:2.316443\tval-poisson-nloglik:2.460491\n",
        "[1960]\ttrain-poisson-nloglik:2.316343\tval-poisson-nloglik:2.460414\n"
       ]
      },
      {
       "output_type": "stream",
       "stream": "stderr",
       "text": [
        "[1961]\ttrain-poisson-nloglik:2.316209\tval-poisson-nloglik:2.460294\n",
        "[1962]\ttrain-poisson-nloglik:2.316122\tval-poisson-nloglik:2.460226\n"
       ]
      },
      {
       "output_type": "stream",
       "stream": "stderr",
       "text": [
        "[1963]\ttrain-poisson-nloglik:2.316047\tval-poisson-nloglik:2.460157\n",
        "[1964]\ttrain-poisson-nloglik:2.315919\tval-poisson-nloglik:2.460065\n"
       ]
      },
      {
       "output_type": "stream",
       "stream": "stderr",
       "text": [
        "[1965]\ttrain-poisson-nloglik:2.315804\tval-poisson-nloglik:2.459979\n",
        "[1966]\ttrain-poisson-nloglik:2.315660\tval-poisson-nloglik:2.459866\n"
       ]
      },
      {
       "output_type": "stream",
       "stream": "stderr",
       "text": [
        "[1967]\ttrain-poisson-nloglik:2.315603\tval-poisson-nloglik:2.459812\n",
        "[1968]\ttrain-poisson-nloglik:2.315457\tval-poisson-nloglik:2.459686\n"
       ]
      },
      {
       "output_type": "stream",
       "stream": "stderr",
       "text": [
        "[1969]\ttrain-poisson-nloglik:2.315349\tval-poisson-nloglik:2.459610\n",
        "[1970]\ttrain-poisson-nloglik:2.315250\tval-poisson-nloglik:2.459540\n"
       ]
      },
      {
       "output_type": "stream",
       "stream": "stderr",
       "text": [
        "[1971]\ttrain-poisson-nloglik:2.315072\tval-poisson-nloglik:2.459397\n",
        "[1972]\ttrain-poisson-nloglik:2.314967\tval-poisson-nloglik:2.459305\n"
       ]
      },
      {
       "output_type": "stream",
       "stream": "stderr",
       "text": [
        "[1973]\ttrain-poisson-nloglik:2.314859\tval-poisson-nloglik:2.459224\n",
        "[1974]\ttrain-poisson-nloglik:2.314744\tval-poisson-nloglik:2.459135\n"
       ]
      },
      {
       "output_type": "stream",
       "stream": "stderr",
       "text": [
        "[1975]\ttrain-poisson-nloglik:2.314627\tval-poisson-nloglik:2.459051\n",
        "[1976]\ttrain-poisson-nloglik:2.314542\tval-poisson-nloglik:2.458984\n"
       ]
      },
      {
       "output_type": "stream",
       "stream": "stderr",
       "text": [
        "[1977]\ttrain-poisson-nloglik:2.314471\tval-poisson-nloglik:2.458929\n",
        "[1978]\ttrain-poisson-nloglik:2.314364\tval-poisson-nloglik:2.458833\n"
       ]
      },
      {
       "output_type": "stream",
       "stream": "stderr",
       "text": [
        "[1979]\ttrain-poisson-nloglik:2.314212\tval-poisson-nloglik:2.458695\n",
        "[1980]\ttrain-poisson-nloglik:2.314054\tval-poisson-nloglik:2.458561\n"
       ]
      },
      {
       "output_type": "stream",
       "stream": "stderr",
       "text": [
        "[1981]\ttrain-poisson-nloglik:2.313953\tval-poisson-nloglik:2.458488\n",
        "[1982]\ttrain-poisson-nloglik:2.313780\tval-poisson-nloglik:2.458342\n"
       ]
      },
      {
       "output_type": "stream",
       "stream": "stderr",
       "text": [
        "[1983]\ttrain-poisson-nloglik:2.313664\tval-poisson-nloglik:2.458256\n",
        "[1984]\ttrain-poisson-nloglik:2.313565\tval-poisson-nloglik:2.458169\n"
       ]
      },
      {
       "output_type": "stream",
       "stream": "stderr",
       "text": [
        "[1985]\ttrain-poisson-nloglik:2.313476\tval-poisson-nloglik:2.458085\n",
        "[1986]\ttrain-poisson-nloglik:2.313210\tval-poisson-nloglik:2.457885\n"
       ]
      },
      {
       "output_type": "stream",
       "stream": "stderr",
       "text": [
        "[1987]\ttrain-poisson-nloglik:2.313060\tval-poisson-nloglik:2.457768\n",
        "[1988]\ttrain-poisson-nloglik:2.312965\tval-poisson-nloglik:2.457691\n"
       ]
      },
      {
       "output_type": "stream",
       "stream": "stderr",
       "text": [
        "[1989]\ttrain-poisson-nloglik:2.312866\tval-poisson-nloglik:2.457621\n",
        "[1990]\ttrain-poisson-nloglik:2.312739\tval-poisson-nloglik:2.457525\n"
       ]
      },
      {
       "output_type": "stream",
       "stream": "stderr",
       "text": [
        "[1991]\ttrain-poisson-nloglik:2.312628\tval-poisson-nloglik:2.457430\n",
        "[1992]\ttrain-poisson-nloglik:2.312581\tval-poisson-nloglik:2.457395\n"
       ]
      },
      {
       "output_type": "stream",
       "stream": "stderr",
       "text": [
        "[1993]\ttrain-poisson-nloglik:2.312476\tval-poisson-nloglik:2.457303\n",
        "[1994]\ttrain-poisson-nloglik:2.312368\tval-poisson-nloglik:2.457203\n"
       ]
      },
      {
       "output_type": "stream",
       "stream": "stderr",
       "text": [
        "[1995]\ttrain-poisson-nloglik:2.312231\tval-poisson-nloglik:2.457082\n",
        "[1996]\ttrain-poisson-nloglik:2.312179\tval-poisson-nloglik:2.457057\n"
       ]
      },
      {
       "output_type": "stream",
       "stream": "stderr",
       "text": [
        "[1997]\ttrain-poisson-nloglik:2.312100\tval-poisson-nloglik:2.456990\n",
        "[1998]\ttrain-poisson-nloglik:2.312019\tval-poisson-nloglik:2.456933\n"
       ]
      },
      {
       "output_type": "stream",
       "stream": "stderr",
       "text": [
        "[1999]\ttrain-poisson-nloglik:2.311909\tval-poisson-nloglik:2.456840\n",
        "[2000]\ttrain-poisson-nloglik:2.311788\tval-poisson-nloglik:2.456744\n"
       ]
      },
      {
       "output_type": "stream",
       "stream": "stderr",
       "text": [
        "[2001]\ttrain-poisson-nloglik:2.311639\tval-poisson-nloglik:2.456634\n",
        "[2002]\ttrain-poisson-nloglik:2.311492\tval-poisson-nloglik:2.456504\n"
       ]
      },
      {
       "output_type": "stream",
       "stream": "stderr",
       "text": [
        "[2003]\ttrain-poisson-nloglik:2.311396\tval-poisson-nloglik:2.456420\n",
        "[2004]\ttrain-poisson-nloglik:2.311332\tval-poisson-nloglik:2.456370\n"
       ]
      },
      {
       "output_type": "stream",
       "stream": "stderr",
       "text": [
        "[2005]\ttrain-poisson-nloglik:2.311249\tval-poisson-nloglik:2.456307\n",
        "[2006]\ttrain-poisson-nloglik:2.311143\tval-poisson-nloglik:2.456199\n"
       ]
      },
      {
       "output_type": "stream",
       "stream": "stderr",
       "text": [
        "[2007]\ttrain-poisson-nloglik:2.311069\tval-poisson-nloglik:2.456136\n",
        "[2008]\ttrain-poisson-nloglik:2.310924\tval-poisson-nloglik:2.456019\n"
       ]
      },
      {
       "output_type": "stream",
       "stream": "stderr",
       "text": [
        "[2009]\ttrain-poisson-nloglik:2.310796\tval-poisson-nloglik:2.455908\n",
        "[2010]\ttrain-poisson-nloglik:2.310705\tval-poisson-nloglik:2.455839\n"
       ]
      },
      {
       "output_type": "stream",
       "stream": "stderr",
       "text": [
        "[2011]\ttrain-poisson-nloglik:2.310636\tval-poisson-nloglik:2.455787\n",
        "[2012]\ttrain-poisson-nloglik:2.310447\tval-poisson-nloglik:2.455648\n"
       ]
      },
      {
       "output_type": "stream",
       "stream": "stderr",
       "text": [
        "[2013]\ttrain-poisson-nloglik:2.310349\tval-poisson-nloglik:2.455569\n",
        "[2014]\ttrain-poisson-nloglik:2.310261\tval-poisson-nloglik:2.455491\n"
       ]
      },
      {
       "output_type": "stream",
       "stream": "stderr",
       "text": [
        "[2015]\ttrain-poisson-nloglik:2.310153\tval-poisson-nloglik:2.455405\n",
        "[2016]\ttrain-poisson-nloglik:2.310052\tval-poisson-nloglik:2.455321\n"
       ]
      },
      {
       "output_type": "stream",
       "stream": "stderr",
       "text": [
        "[2017]\ttrain-poisson-nloglik:2.309867\tval-poisson-nloglik:2.455118\n",
        "[2018]\ttrain-poisson-nloglik:2.309779\tval-poisson-nloglik:2.455050\n"
       ]
      },
      {
       "output_type": "stream",
       "stream": "stderr",
       "text": [
        "[2019]\ttrain-poisson-nloglik:2.309697\tval-poisson-nloglik:2.454984\n",
        "[2020]\ttrain-poisson-nloglik:2.309583\tval-poisson-nloglik:2.454889\n"
       ]
      },
      {
       "output_type": "stream",
       "stream": "stderr",
       "text": [
        "[2021]\ttrain-poisson-nloglik:2.309524\tval-poisson-nloglik:2.454841\n",
        "[2022]\ttrain-poisson-nloglik:2.309391\tval-poisson-nloglik:2.454745\n"
       ]
      },
      {
       "output_type": "stream",
       "stream": "stderr",
       "text": [
        "[2023]\ttrain-poisson-nloglik:2.309250\tval-poisson-nloglik:2.454646\n",
        "[2024]\ttrain-poisson-nloglik:2.309142\tval-poisson-nloglik:2.454563\n"
       ]
      },
      {
       "output_type": "stream",
       "stream": "stderr",
       "text": [
        "[2025]\ttrain-poisson-nloglik:2.309076\tval-poisson-nloglik:2.454509\n",
        "[2026]\ttrain-poisson-nloglik:2.308957\tval-poisson-nloglik:2.454408\n"
       ]
      },
      {
       "output_type": "stream",
       "stream": "stderr",
       "text": [
        "[2027]\ttrain-poisson-nloglik:2.308837\tval-poisson-nloglik:2.454311\n",
        "[2028]\ttrain-poisson-nloglik:2.308774\tval-poisson-nloglik:2.454245\n"
       ]
      },
      {
       "output_type": "stream",
       "stream": "stderr",
       "text": [
        "[2029]\ttrain-poisson-nloglik:2.308644\tval-poisson-nloglik:2.454139\n",
        "[2030]\ttrain-poisson-nloglik:2.308519\tval-poisson-nloglik:2.454041\n"
       ]
      },
      {
       "output_type": "stream",
       "stream": "stderr",
       "text": [
        "[2031]\ttrain-poisson-nloglik:2.308437\tval-poisson-nloglik:2.453972\n",
        "[2032]\ttrain-poisson-nloglik:2.308368\tval-poisson-nloglik:2.453925\n"
       ]
      },
      {
       "output_type": "stream",
       "stream": "stderr",
       "text": [
        "[2033]\ttrain-poisson-nloglik:2.308235\tval-poisson-nloglik:2.453813\n",
        "[2034]\ttrain-poisson-nloglik:2.308173\tval-poisson-nloglik:2.453765\n"
       ]
      },
      {
       "output_type": "stream",
       "stream": "stderr",
       "text": [
        "[2035]\ttrain-poisson-nloglik:2.308074\tval-poisson-nloglik:2.453683\n",
        "[2036]\ttrain-poisson-nloglik:2.307975\tval-poisson-nloglik:2.453614\n"
       ]
      },
      {
       "output_type": "stream",
       "stream": "stderr",
       "text": [
        "[2037]\ttrain-poisson-nloglik:2.307862\tval-poisson-nloglik:2.453532\n",
        "[2038]\ttrain-poisson-nloglik:2.307771\tval-poisson-nloglik:2.453464\n"
       ]
      },
      {
       "output_type": "stream",
       "stream": "stderr",
       "text": [
        "[2039]\ttrain-poisson-nloglik:2.307697\tval-poisson-nloglik:2.453391\n",
        "[2040]\ttrain-poisson-nloglik:2.307504\tval-poisson-nloglik:2.453250\n"
       ]
      },
      {
       "output_type": "stream",
       "stream": "stderr",
       "text": [
        "[2041]\ttrain-poisson-nloglik:2.307411\tval-poisson-nloglik:2.453173\n",
        "[2042]\ttrain-poisson-nloglik:2.307315\tval-poisson-nloglik:2.453098\n"
       ]
      },
      {
       "output_type": "stream",
       "stream": "stderr",
       "text": [
        "[2043]\ttrain-poisson-nloglik:2.307238\tval-poisson-nloglik:2.453033\n",
        "[2044]\ttrain-poisson-nloglik:2.307174\tval-poisson-nloglik:2.452976\n"
       ]
      },
      {
       "output_type": "stream",
       "stream": "stderr",
       "text": [
        "[2045]\ttrain-poisson-nloglik:2.307077\tval-poisson-nloglik:2.452905\n",
        "[2046]\ttrain-poisson-nloglik:2.307007\tval-poisson-nloglik:2.452853\n"
       ]
      },
      {
       "output_type": "stream",
       "stream": "stderr",
       "text": [
        "[2047]\ttrain-poisson-nloglik:2.306928\tval-poisson-nloglik:2.452799\n",
        "[2048]\ttrain-poisson-nloglik:2.306830\tval-poisson-nloglik:2.452717\n"
       ]
      },
      {
       "output_type": "stream",
       "stream": "stderr",
       "text": [
        "[2049]\ttrain-poisson-nloglik:2.306770\tval-poisson-nloglik:2.452664\n",
        "[2050]\ttrain-poisson-nloglik:2.306667\tval-poisson-nloglik:2.452593\n"
       ]
      },
      {
       "output_type": "stream",
       "stream": "stderr",
       "text": [
        "[2051]\ttrain-poisson-nloglik:2.306550\tval-poisson-nloglik:2.452488\n",
        "[2052]\ttrain-poisson-nloglik:2.306450\tval-poisson-nloglik:2.452402\n"
       ]
      },
      {
       "output_type": "stream",
       "stream": "stderr",
       "text": [
        "[2053]\ttrain-poisson-nloglik:2.306276\tval-poisson-nloglik:2.452242\n",
        "[2054]\ttrain-poisson-nloglik:2.306128\tval-poisson-nloglik:2.452122\n"
       ]
      },
      {
       "output_type": "stream",
       "stream": "stderr",
       "text": [
        "[2055]\ttrain-poisson-nloglik:2.306055\tval-poisson-nloglik:2.452058\n",
        "[2056]\ttrain-poisson-nloglik:2.305981\tval-poisson-nloglik:2.451995\n"
       ]
      },
      {
       "output_type": "stream",
       "stream": "stderr",
       "text": [
        "[2057]\ttrain-poisson-nloglik:2.305885\tval-poisson-nloglik:2.451919\n",
        "[2058]\ttrain-poisson-nloglik:2.305753\tval-poisson-nloglik:2.451833\n"
       ]
      },
      {
       "output_type": "stream",
       "stream": "stderr",
       "text": [
        "[2059]\ttrain-poisson-nloglik:2.305579\tval-poisson-nloglik:2.451708\n",
        "[2060]\ttrain-poisson-nloglik:2.305480\tval-poisson-nloglik:2.451635\n"
       ]
      },
      {
       "output_type": "stream",
       "stream": "stderr",
       "text": [
        "[2061]\ttrain-poisson-nloglik:2.305402\tval-poisson-nloglik:2.451575\n",
        "[2062]\ttrain-poisson-nloglik:2.305222\tval-poisson-nloglik:2.451429\n"
       ]
      },
      {
       "output_type": "stream",
       "stream": "stderr",
       "text": [
        "[2063]\ttrain-poisson-nloglik:2.305113\tval-poisson-nloglik:2.451347\n",
        "[2064]\ttrain-poisson-nloglik:2.305014\tval-poisson-nloglik:2.451266\n"
       ]
      },
      {
       "output_type": "stream",
       "stream": "stderr",
       "text": [
        "[2065]\ttrain-poisson-nloglik:2.304867\tval-poisson-nloglik:2.451147\n",
        "[2066]\ttrain-poisson-nloglik:2.304782\tval-poisson-nloglik:2.451072\n"
       ]
      },
      {
       "output_type": "stream",
       "stream": "stderr",
       "text": [
        "[2067]\ttrain-poisson-nloglik:2.304620\tval-poisson-nloglik:2.450929\n",
        "[2068]\ttrain-poisson-nloglik:2.304485\tval-poisson-nloglik:2.450826\n"
       ]
      },
      {
       "output_type": "stream",
       "stream": "stderr",
       "text": [
        "[2069]\ttrain-poisson-nloglik:2.304343\tval-poisson-nloglik:2.450728\n",
        "[2070]\ttrain-poisson-nloglik:2.304275\tval-poisson-nloglik:2.450682\n"
       ]
      },
      {
       "output_type": "stream",
       "stream": "stderr",
       "text": [
        "[2071]\ttrain-poisson-nloglik:2.304131\tval-poisson-nloglik:2.450578\n",
        "[2072]\ttrain-poisson-nloglik:2.304040\tval-poisson-nloglik:2.450494\n"
       ]
      },
      {
       "output_type": "stream",
       "stream": "stderr",
       "text": [
        "[2073]\ttrain-poisson-nloglik:2.303914\tval-poisson-nloglik:2.450408\n",
        "[2074]\ttrain-poisson-nloglik:2.303790\tval-poisson-nloglik:2.450296\n"
       ]
      },
      {
       "output_type": "stream",
       "stream": "stderr",
       "text": [
        "[2075]\ttrain-poisson-nloglik:2.303689\tval-poisson-nloglik:2.450212\n",
        "[2076]\ttrain-poisson-nloglik:2.303521\tval-poisson-nloglik:2.450066\n"
       ]
      },
      {
       "output_type": "stream",
       "stream": "stderr",
       "text": [
        "[2077]\ttrain-poisson-nloglik:2.303467\tval-poisson-nloglik:2.450023\n",
        "[2078]\ttrain-poisson-nloglik:2.303328\tval-poisson-nloglik:2.449898\n"
       ]
      },
      {
       "output_type": "stream",
       "stream": "stderr",
       "text": [
        "[2079]\ttrain-poisson-nloglik:2.303246\tval-poisson-nloglik:2.449813\n",
        "[2080]\ttrain-poisson-nloglik:2.303123\tval-poisson-nloglik:2.449721\n"
       ]
      },
      {
       "output_type": "stream",
       "stream": "stderr",
       "text": [
        "[2081]\ttrain-poisson-nloglik:2.303021\tval-poisson-nloglik:2.449645\n",
        "[2082]\ttrain-poisson-nloglik:2.302936\tval-poisson-nloglik:2.449582\n"
       ]
      },
      {
       "output_type": "stream",
       "stream": "stderr",
       "text": [
        "[2083]\ttrain-poisson-nloglik:2.302786\tval-poisson-nloglik:2.449457\n",
        "[2084]\ttrain-poisson-nloglik:2.302680\tval-poisson-nloglik:2.449373\n"
       ]
      },
      {
       "output_type": "stream",
       "stream": "stderr",
       "text": [
        "[2085]\ttrain-poisson-nloglik:2.302604\tval-poisson-nloglik:2.449311\n",
        "[2086]\ttrain-poisson-nloglik:2.302495\tval-poisson-nloglik:2.449233\n"
       ]
      },
      {
       "output_type": "stream",
       "stream": "stderr",
       "text": [
        "[2087]\ttrain-poisson-nloglik:2.302354\tval-poisson-nloglik:2.449100\n",
        "[2088]\ttrain-poisson-nloglik:2.302290\tval-poisson-nloglik:2.449042\n"
       ]
      },
      {
       "output_type": "stream",
       "stream": "stderr",
       "text": [
        "[2089]\ttrain-poisson-nloglik:2.302129\tval-poisson-nloglik:2.448900\n",
        "[2090]\ttrain-poisson-nloglik:2.302041\tval-poisson-nloglik:2.448827\n"
       ]
      },
      {
       "output_type": "stream",
       "stream": "stderr",
       "text": [
        "[2091]\ttrain-poisson-nloglik:2.301910\tval-poisson-nloglik:2.448724\n",
        "[2092]\ttrain-poisson-nloglik:2.301856\tval-poisson-nloglik:2.448686\n"
       ]
      },
      {
       "output_type": "stream",
       "stream": "stderr",
       "text": [
        "[2093]\ttrain-poisson-nloglik:2.301689\tval-poisson-nloglik:2.448547\n",
        "[2094]\ttrain-poisson-nloglik:2.301491\tval-poisson-nloglik:2.448396\n"
       ]
      },
      {
       "output_type": "stream",
       "stream": "stderr",
       "text": [
        "[2095]\ttrain-poisson-nloglik:2.301376\tval-poisson-nloglik:2.448314\n",
        "[2096]\ttrain-poisson-nloglik:2.301282\tval-poisson-nloglik:2.448252\n"
       ]
      },
      {
       "output_type": "stream",
       "stream": "stderr",
       "text": [
        "[2097]\ttrain-poisson-nloglik:2.301187\tval-poisson-nloglik:2.448177\n",
        "[2098]\ttrain-poisson-nloglik:2.301097\tval-poisson-nloglik:2.448110\n"
       ]
      },
      {
       "output_type": "stream",
       "stream": "stderr",
       "text": [
        "[2099]\ttrain-poisson-nloglik:2.300924\tval-poisson-nloglik:2.447969\n",
        "[2100]\ttrain-poisson-nloglik:2.300874\tval-poisson-nloglik:2.447922\n"
       ]
      },
      {
       "output_type": "stream",
       "stream": "stderr",
       "text": [
        "[2101]\ttrain-poisson-nloglik:2.300792\tval-poisson-nloglik:2.447847\n",
        "[2102]\ttrain-poisson-nloglik:2.300643\tval-poisson-nloglik:2.447731\n"
       ]
      },
      {
       "output_type": "stream",
       "stream": "stderr",
       "text": [
        "[2103]\ttrain-poisson-nloglik:2.300591\tval-poisson-nloglik:2.447687\n",
        "[2104]\ttrain-poisson-nloglik:2.300552\tval-poisson-nloglik:2.447664\n"
       ]
      },
      {
       "output_type": "stream",
       "stream": "stderr",
       "text": [
        "[2105]\ttrain-poisson-nloglik:2.300504\tval-poisson-nloglik:2.447623\n",
        "[2106]\ttrain-poisson-nloglik:2.300292\tval-poisson-nloglik:2.447457\n"
       ]
      },
      {
       "output_type": "stream",
       "stream": "stderr",
       "text": [
        "[2107]\ttrain-poisson-nloglik:2.300131\tval-poisson-nloglik:2.447336\n",
        "[2108]\ttrain-poisson-nloglik:2.300018\tval-poisson-nloglik:2.447241\n"
       ]
      },
      {
       "output_type": "stream",
       "stream": "stderr",
       "text": [
        "[2109]\ttrain-poisson-nloglik:2.299927\tval-poisson-nloglik:2.447165\n",
        "[2110]\ttrain-poisson-nloglik:2.299838\tval-poisson-nloglik:2.447101\n"
       ]
      },
      {
       "output_type": "stream",
       "stream": "stderr",
       "text": [
        "[2111]\ttrain-poisson-nloglik:2.299690\tval-poisson-nloglik:2.446969\n",
        "[2112]\ttrain-poisson-nloglik:2.299568\tval-poisson-nloglik:2.446875\n"
       ]
      },
      {
       "output_type": "stream",
       "stream": "stderr",
       "text": [
        "[2113]\ttrain-poisson-nloglik:2.299491\tval-poisson-nloglik:2.446828\n",
        "[2114]\ttrain-poisson-nloglik:2.299429\tval-poisson-nloglik:2.446778\n"
       ]
      },
      {
       "output_type": "stream",
       "stream": "stderr",
       "text": [
        "[2115]\ttrain-poisson-nloglik:2.299307\tval-poisson-nloglik:2.446670\n",
        "[2116]\ttrain-poisson-nloglik:2.299201\tval-poisson-nloglik:2.446590\n"
       ]
      },
      {
       "output_type": "stream",
       "stream": "stderr",
       "text": [
        "[2117]\ttrain-poisson-nloglik:2.299006\tval-poisson-nloglik:2.446436\n",
        "[2118]\ttrain-poisson-nloglik:2.298827\tval-poisson-nloglik:2.446289\n"
       ]
      },
      {
       "output_type": "stream",
       "stream": "stderr",
       "text": [
        "[2119]\ttrain-poisson-nloglik:2.298782\tval-poisson-nloglik:2.446247\n",
        "[2120]\ttrain-poisson-nloglik:2.298618\tval-poisson-nloglik:2.446114\n"
       ]
      },
      {
       "output_type": "stream",
       "stream": "stderr",
       "text": [
        "[2121]\ttrain-poisson-nloglik:2.298560\tval-poisson-nloglik:2.446061\n",
        "[2122]\ttrain-poisson-nloglik:2.298326\tval-poisson-nloglik:2.445877\n"
       ]
      },
      {
       "output_type": "stream",
       "stream": "stderr",
       "text": [
        "[2123]\ttrain-poisson-nloglik:2.298230\tval-poisson-nloglik:2.445805\n",
        "[2124]\ttrain-poisson-nloglik:2.298114\tval-poisson-nloglik:2.445694\n"
       ]
      },
      {
       "output_type": "stream",
       "stream": "stderr",
       "text": [
        "[2125]\ttrain-poisson-nloglik:2.298027\tval-poisson-nloglik:2.445627\n",
        "[2126]\ttrain-poisson-nloglik:2.297927\tval-poisson-nloglik:2.445568\n"
       ]
      },
      {
       "output_type": "stream",
       "stream": "stderr",
       "text": [
        "[2127]\ttrain-poisson-nloglik:2.297860\tval-poisson-nloglik:2.445498\n",
        "[2128]\ttrain-poisson-nloglik:2.297792\tval-poisson-nloglik:2.445440\n"
       ]
      },
      {
       "output_type": "stream",
       "stream": "stderr",
       "text": [
        "[2129]\ttrain-poisson-nloglik:2.297694\tval-poisson-nloglik:2.445366\n",
        "[2130]\ttrain-poisson-nloglik:2.297614\tval-poisson-nloglik:2.445309\n"
       ]
      },
      {
       "output_type": "stream",
       "stream": "stderr",
       "text": [
        "[2131]\ttrain-poisson-nloglik:2.297514\tval-poisson-nloglik:2.445227\n",
        "[2132]\ttrain-poisson-nloglik:2.297427\tval-poisson-nloglik:2.445165\n"
       ]
      },
      {
       "output_type": "stream",
       "stream": "stderr",
       "text": [
        "[2133]\ttrain-poisson-nloglik:2.297360\tval-poisson-nloglik:2.445095\n",
        "[2134]\ttrain-poisson-nloglik:2.297289\tval-poisson-nloglik:2.445025\n"
       ]
      },
      {
       "output_type": "stream",
       "stream": "stderr",
       "text": [
        "[2135]\ttrain-poisson-nloglik:2.297143\tval-poisson-nloglik:2.444907\n",
        "[2136]\ttrain-poisson-nloglik:2.297081\tval-poisson-nloglik:2.444859\n"
       ]
      },
      {
       "output_type": "stream",
       "stream": "stderr",
       "text": [
        "[2137]\ttrain-poisson-nloglik:2.296994\tval-poisson-nloglik:2.444794\n",
        "[2138]\ttrain-poisson-nloglik:2.296861\tval-poisson-nloglik:2.444715\n"
       ]
      },
      {
       "output_type": "stream",
       "stream": "stderr",
       "text": [
        "[2139]\ttrain-poisson-nloglik:2.296652\tval-poisson-nloglik:2.444560\n",
        "[2140]\ttrain-poisson-nloglik:2.296549\tval-poisson-nloglik:2.444495\n"
       ]
      },
      {
       "output_type": "stream",
       "stream": "stderr",
       "text": [
        "[2141]\ttrain-poisson-nloglik:2.296376\tval-poisson-nloglik:2.444363\n",
        "[2142]\ttrain-poisson-nloglik:2.296290\tval-poisson-nloglik:2.444270\n"
       ]
      },
      {
       "output_type": "stream",
       "stream": "stderr",
       "text": [
        "[2143]\ttrain-poisson-nloglik:2.296219\tval-poisson-nloglik:2.444207\n",
        "[2144]\ttrain-poisson-nloglik:2.296091\tval-poisson-nloglik:2.444096\n"
       ]
      },
      {
       "output_type": "stream",
       "stream": "stderr",
       "text": [
        "[2145]\ttrain-poisson-nloglik:2.295961\tval-poisson-nloglik:2.444005\n",
        "[2146]\ttrain-poisson-nloglik:2.295900\tval-poisson-nloglik:2.443952\n"
       ]
      },
      {
       "output_type": "stream",
       "stream": "stderr",
       "text": [
        "[2147]\ttrain-poisson-nloglik:2.295844\tval-poisson-nloglik:2.443912\n",
        "[2148]\ttrain-poisson-nloglik:2.295744\tval-poisson-nloglik:2.443837\n"
       ]
      },
      {
       "output_type": "stream",
       "stream": "stderr",
       "text": [
        "[2149]\ttrain-poisson-nloglik:2.295667\tval-poisson-nloglik:2.443775\n",
        "[2150]\ttrain-poisson-nloglik:2.295618\tval-poisson-nloglik:2.443733\n"
       ]
      },
      {
       "output_type": "stream",
       "stream": "stderr",
       "text": [
        "[2151]\ttrain-poisson-nloglik:2.295470\tval-poisson-nloglik:2.443643\n",
        "[2152]\ttrain-poisson-nloglik:2.295381\tval-poisson-nloglik:2.443570\n"
       ]
      },
      {
       "output_type": "stream",
       "stream": "stderr",
       "text": [
        "[2153]\ttrain-poisson-nloglik:2.295263\tval-poisson-nloglik:2.443477\n",
        "[2154]\ttrain-poisson-nloglik:2.295163\tval-poisson-nloglik:2.443392\n"
       ]
      },
      {
       "output_type": "stream",
       "stream": "stderr",
       "text": [
        "[2155]\ttrain-poisson-nloglik:2.295105\tval-poisson-nloglik:2.443343\n",
        "[2156]\ttrain-poisson-nloglik:2.295012\tval-poisson-nloglik:2.443271\n"
       ]
      },
      {
       "output_type": "stream",
       "stream": "stderr",
       "text": [
        "[2157]\ttrain-poisson-nloglik:2.294939\tval-poisson-nloglik:2.443207\n",
        "[2158]\ttrain-poisson-nloglik:2.294894\tval-poisson-nloglik:2.443163\n"
       ]
      },
      {
       "output_type": "stream",
       "stream": "stderr",
       "text": [
        "[2159]\ttrain-poisson-nloglik:2.294815\tval-poisson-nloglik:2.443097\n",
        "[2160]\ttrain-poisson-nloglik:2.294666\tval-poisson-nloglik:2.442976\n"
       ]
      },
      {
       "output_type": "stream",
       "stream": "stderr",
       "text": [
        "[2161]\ttrain-poisson-nloglik:2.294531\tval-poisson-nloglik:2.442880\n",
        "[2162]\ttrain-poisson-nloglik:2.294466\tval-poisson-nloglik:2.442830\n"
       ]
      },
      {
       "output_type": "stream",
       "stream": "stderr",
       "text": [
        "[2163]\ttrain-poisson-nloglik:2.294277\tval-poisson-nloglik:2.442691\n",
        "[2164]\ttrain-poisson-nloglik:2.294198\tval-poisson-nloglik:2.442632\n"
       ]
      },
      {
       "output_type": "stream",
       "stream": "stderr",
       "text": [
        "[2165]\ttrain-poisson-nloglik:2.294050\tval-poisson-nloglik:2.442497\n",
        "[2166]\ttrain-poisson-nloglik:2.293932\tval-poisson-nloglik:2.442414\n"
       ]
      },
      {
       "output_type": "stream",
       "stream": "stderr",
       "text": [
        "[2167]\ttrain-poisson-nloglik:2.293882\tval-poisson-nloglik:2.442378\n",
        "[2168]\ttrain-poisson-nloglik:2.293798\tval-poisson-nloglik:2.442324\n"
       ]
      },
      {
       "output_type": "stream",
       "stream": "stderr",
       "text": [
        "[2169]\ttrain-poisson-nloglik:2.293682\tval-poisson-nloglik:2.442217\n",
        "[2170]\ttrain-poisson-nloglik:2.293553\tval-poisson-nloglik:2.442119\n"
       ]
      },
      {
       "output_type": "stream",
       "stream": "stderr",
       "text": [
        "[2171]\ttrain-poisson-nloglik:2.293485\tval-poisson-nloglik:2.442072\n",
        "[2172]\ttrain-poisson-nloglik:2.293408\tval-poisson-nloglik:2.442017\n"
       ]
      },
      {
       "output_type": "stream",
       "stream": "stderr",
       "text": [
        "[2173]\ttrain-poisson-nloglik:2.293276\tval-poisson-nloglik:2.441889\n",
        "[2174]\ttrain-poisson-nloglik:2.293199\tval-poisson-nloglik:2.441823\n"
       ]
      },
      {
       "output_type": "stream",
       "stream": "stderr",
       "text": [
        "[2175]\ttrain-poisson-nloglik:2.293104\tval-poisson-nloglik:2.441739\n",
        "[2176]\ttrain-poisson-nloglik:2.293020\tval-poisson-nloglik:2.441671\n"
       ]
      },
      {
       "output_type": "stream",
       "stream": "stderr",
       "text": [
        "[2177]\ttrain-poisson-nloglik:2.292922\tval-poisson-nloglik:2.441592\n",
        "[2178]\ttrain-poisson-nloglik:2.292860\tval-poisson-nloglik:2.441543\n"
       ]
      },
      {
       "output_type": "stream",
       "stream": "stderr",
       "text": [
        "[2179]\ttrain-poisson-nloglik:2.292747\tval-poisson-nloglik:2.441455\n",
        "[2180]\ttrain-poisson-nloglik:2.292599\tval-poisson-nloglik:2.441338\n"
       ]
      },
      {
       "output_type": "stream",
       "stream": "stderr",
       "text": [
        "[2181]\ttrain-poisson-nloglik:2.292521\tval-poisson-nloglik:2.441282\n",
        "[2182]\ttrain-poisson-nloglik:2.292362\tval-poisson-nloglik:2.441171\n"
       ]
      },
      {
       "output_type": "stream",
       "stream": "stderr",
       "text": [
        "[2183]\ttrain-poisson-nloglik:2.292303\tval-poisson-nloglik:2.441131\n",
        "[2184]\ttrain-poisson-nloglik:2.292213\tval-poisson-nloglik:2.441057\n"
       ]
      },
      {
       "output_type": "stream",
       "stream": "stderr",
       "text": [
        "[2185]\ttrain-poisson-nloglik:2.292156\tval-poisson-nloglik:2.441001\n",
        "[2186]\ttrain-poisson-nloglik:2.292025\tval-poisson-nloglik:2.440897\n"
       ]
      },
      {
       "output_type": "stream",
       "stream": "stderr",
       "text": [
        "[2187]\ttrain-poisson-nloglik:2.291934\tval-poisson-nloglik:2.440830\n",
        "[2188]\ttrain-poisson-nloglik:2.291849\tval-poisson-nloglik:2.440773\n"
       ]
      },
      {
       "output_type": "stream",
       "stream": "stderr",
       "text": [
        "[2189]\ttrain-poisson-nloglik:2.291706\tval-poisson-nloglik:2.440655\n",
        "[2190]\ttrain-poisson-nloglik:2.291601\tval-poisson-nloglik:2.440566\n"
       ]
      },
      {
       "output_type": "stream",
       "stream": "stderr",
       "text": [
        "[2191]\ttrain-poisson-nloglik:2.291538\tval-poisson-nloglik:2.440519\n",
        "[2192]\ttrain-poisson-nloglik:2.291463\tval-poisson-nloglik:2.440462\n"
       ]
      },
      {
       "output_type": "stream",
       "stream": "stderr",
       "text": [
        "[2193]\ttrain-poisson-nloglik:2.291396\tval-poisson-nloglik:2.440409\n",
        "[2194]\ttrain-poisson-nloglik:2.291311\tval-poisson-nloglik:2.440355\n"
       ]
      },
      {
       "output_type": "stream",
       "stream": "stderr",
       "text": [
        "[2195]\ttrain-poisson-nloglik:2.291178\tval-poisson-nloglik:2.440272\n",
        "[2196]\ttrain-poisson-nloglik:2.291097\tval-poisson-nloglik:2.440202\n"
       ]
      },
      {
       "output_type": "stream",
       "stream": "stderr",
       "text": [
        "[2197]\ttrain-poisson-nloglik:2.291021\tval-poisson-nloglik:2.440137\n",
        "[2198]\ttrain-poisson-nloglik:2.290949\tval-poisson-nloglik:2.440077\n"
       ]
      },
      {
       "output_type": "stream",
       "stream": "stderr",
       "text": [
        "[2199]\ttrain-poisson-nloglik:2.290854\tval-poisson-nloglik:2.439994\n",
        "[2200]\ttrain-poisson-nloglik:2.290748\tval-poisson-nloglik:2.439899\n"
       ]
      },
      {
       "output_type": "stream",
       "stream": "stderr",
       "text": [
        "[2201]\ttrain-poisson-nloglik:2.290607\tval-poisson-nloglik:2.439780\n",
        "[2202]\ttrain-poisson-nloglik:2.290529\tval-poisson-nloglik:2.439720\n"
       ]
      },
      {
       "output_type": "stream",
       "stream": "stderr",
       "text": [
        "[2203]\ttrain-poisson-nloglik:2.290453\tval-poisson-nloglik:2.439667\n",
        "[2204]\ttrain-poisson-nloglik:2.290395\tval-poisson-nloglik:2.439613\n"
       ]
      },
      {
       "output_type": "stream",
       "stream": "stderr",
       "text": [
        "[2205]\ttrain-poisson-nloglik:2.290337\tval-poisson-nloglik:2.439565\n",
        "[2206]\ttrain-poisson-nloglik:2.290295\tval-poisson-nloglik:2.439540\n"
       ]
      },
      {
       "output_type": "stream",
       "stream": "stderr",
       "text": [
        "[2207]\ttrain-poisson-nloglik:2.290190\tval-poisson-nloglik:2.439438\n",
        "[2208]\ttrain-poisson-nloglik:2.290114\tval-poisson-nloglik:2.439365\n"
       ]
      },
      {
       "output_type": "stream",
       "stream": "stderr",
       "text": [
        "[2209]\ttrain-poisson-nloglik:2.290058\tval-poisson-nloglik:2.439316\n",
        "[2210]\ttrain-poisson-nloglik:2.289992\tval-poisson-nloglik:2.439261\n"
       ]
      },
      {
       "output_type": "stream",
       "stream": "stderr",
       "text": [
        "[2211]\ttrain-poisson-nloglik:2.289938\tval-poisson-nloglik:2.439218\n",
        "[2212]\ttrain-poisson-nloglik:2.289875\tval-poisson-nloglik:2.439169\n"
       ]
      },
      {
       "output_type": "stream",
       "stream": "stderr",
       "text": [
        "[2213]\ttrain-poisson-nloglik:2.289840\tval-poisson-nloglik:2.439134\n",
        "[2214]\ttrain-poisson-nloglik:2.289673\tval-poisson-nloglik:2.438979\n"
       ]
      },
      {
       "output_type": "stream",
       "stream": "stderr",
       "text": [
        "[2215]\ttrain-poisson-nloglik:2.289490\tval-poisson-nloglik:2.438838\n",
        "[2216]\ttrain-poisson-nloglik:2.289368\tval-poisson-nloglik:2.438758\n"
       ]
      },
      {
       "output_type": "stream",
       "stream": "stderr",
       "text": [
        "[2217]\ttrain-poisson-nloglik:2.289279\tval-poisson-nloglik:2.438683\n",
        "[2218]\ttrain-poisson-nloglik:2.289141\tval-poisson-nloglik:2.438565\n"
       ]
      },
      {
       "output_type": "stream",
       "stream": "stderr",
       "text": [
        "[2219]\ttrain-poisson-nloglik:2.289018\tval-poisson-nloglik:2.438483\n",
        "[2220]\ttrain-poisson-nloglik:2.288892\tval-poisson-nloglik:2.438378\n"
       ]
      },
      {
       "output_type": "stream",
       "stream": "stderr",
       "text": [
        "[2221]\ttrain-poisson-nloglik:2.288697\tval-poisson-nloglik:2.438222\n",
        "[2222]\ttrain-poisson-nloglik:2.288582\tval-poisson-nloglik:2.438129\n"
       ]
      },
      {
       "output_type": "stream",
       "stream": "stderr",
       "text": [
        "[2223]\ttrain-poisson-nloglik:2.288508\tval-poisson-nloglik:2.438088\n",
        "[2224]\ttrain-poisson-nloglik:2.288387\tval-poisson-nloglik:2.437991\n"
       ]
      },
      {
       "output_type": "stream",
       "stream": "stderr",
       "text": [
        "[2225]\ttrain-poisson-nloglik:2.288243\tval-poisson-nloglik:2.437872\n",
        "[2226]\ttrain-poisson-nloglik:2.288071\tval-poisson-nloglik:2.437740\n"
       ]
      },
      {
       "output_type": "stream",
       "stream": "stderr",
       "text": [
        "[2227]\ttrain-poisson-nloglik:2.287978\tval-poisson-nloglik:2.437662\n",
        "[2228]\ttrain-poisson-nloglik:2.287908\tval-poisson-nloglik:2.437594\n"
       ]
      },
      {
       "output_type": "stream",
       "stream": "stderr",
       "text": [
        "[2229]\ttrain-poisson-nloglik:2.287777\tval-poisson-nloglik:2.437487\n",
        "[2230]\ttrain-poisson-nloglik:2.287719\tval-poisson-nloglik:2.437440\n"
       ]
      },
      {
       "output_type": "stream",
       "stream": "stderr",
       "text": [
        "[2231]\ttrain-poisson-nloglik:2.287643\tval-poisson-nloglik:2.437375\n",
        "[2232]\ttrain-poisson-nloglik:2.287543\tval-poisson-nloglik:2.437301\n"
       ]
      },
      {
       "output_type": "stream",
       "stream": "stderr",
       "text": [
        "[2233]\ttrain-poisson-nloglik:2.287442\tval-poisson-nloglik:2.437222\n",
        "[2234]\ttrain-poisson-nloglik:2.287333\tval-poisson-nloglik:2.437148\n"
       ]
      },
      {
       "output_type": "stream",
       "stream": "stderr",
       "text": [
        "[2235]\ttrain-poisson-nloglik:2.287217\tval-poisson-nloglik:2.437034\n",
        "[2236]\ttrain-poisson-nloglik:2.287073\tval-poisson-nloglik:2.436930\n"
       ]
      },
      {
       "output_type": "stream",
       "stream": "stderr",
       "text": [
        "[2237]\ttrain-poisson-nloglik:2.287019\tval-poisson-nloglik:2.436898\n",
        "[2238]\ttrain-poisson-nloglik:2.286912\tval-poisson-nloglik:2.436811\n"
       ]
      },
      {
       "output_type": "stream",
       "stream": "stderr",
       "text": [
        "[2239]\ttrain-poisson-nloglik:2.286769\tval-poisson-nloglik:2.436707\n",
        "[2240]\ttrain-poisson-nloglik:2.286695\tval-poisson-nloglik:2.436644\n"
       ]
      },
      {
       "output_type": "stream",
       "stream": "stderr",
       "text": [
        "[2241]\ttrain-poisson-nloglik:2.286621\tval-poisson-nloglik:2.436575\n",
        "[2242]\ttrain-poisson-nloglik:2.286534\tval-poisson-nloglik:2.436506\n"
       ]
      },
      {
       "output_type": "stream",
       "stream": "stderr",
       "text": [
        "[2243]\ttrain-poisson-nloglik:2.286435\tval-poisson-nloglik:2.436439\n",
        "[2244]\ttrain-poisson-nloglik:2.286341\tval-poisson-nloglik:2.436368\n"
       ]
      },
      {
       "output_type": "stream",
       "stream": "stderr",
       "text": [
        "[2245]\ttrain-poisson-nloglik:2.286251\tval-poisson-nloglik:2.436307\n",
        "[2246]\ttrain-poisson-nloglik:2.286083\tval-poisson-nloglik:2.436163\n"
       ]
      },
      {
       "output_type": "stream",
       "stream": "stderr",
       "text": [
        "[2247]\ttrain-poisson-nloglik:2.285984\tval-poisson-nloglik:2.436096\n",
        "[2248]\ttrain-poisson-nloglik:2.285882\tval-poisson-nloglik:2.436013\n"
       ]
      },
      {
       "output_type": "stream",
       "stream": "stderr",
       "text": [
        "[2249]\ttrain-poisson-nloglik:2.285749\tval-poisson-nloglik:2.435905\n",
        "[2250]\ttrain-poisson-nloglik:2.285678\tval-poisson-nloglik:2.435847\n"
       ]
      },
      {
       "output_type": "stream",
       "stream": "stderr",
       "text": [
        "[2251]\ttrain-poisson-nloglik:2.285571\tval-poisson-nloglik:2.435765\n",
        "[2252]\ttrain-poisson-nloglik:2.285467\tval-poisson-nloglik:2.435672\n"
       ]
      },
      {
       "output_type": "stream",
       "stream": "stderr",
       "text": [
        "[2253]\ttrain-poisson-nloglik:2.285388\tval-poisson-nloglik:2.435626\n",
        "[2254]\ttrain-poisson-nloglik:2.285293\tval-poisson-nloglik:2.435546\n"
       ]
      },
      {
       "output_type": "stream",
       "stream": "stderr",
       "text": [
        "[2255]\ttrain-poisson-nloglik:2.285242\tval-poisson-nloglik:2.435508\n",
        "[2256]\ttrain-poisson-nloglik:2.285109\tval-poisson-nloglik:2.435406\n"
       ]
      },
      {
       "output_type": "stream",
       "stream": "stderr",
       "text": [
        "[2257]\ttrain-poisson-nloglik:2.285024\tval-poisson-nloglik:2.435362\n",
        "[2258]\ttrain-poisson-nloglik:2.284969\tval-poisson-nloglik:2.435314\n"
       ]
      },
      {
       "output_type": "stream",
       "stream": "stderr",
       "text": [
        "[2259]\ttrain-poisson-nloglik:2.284868\tval-poisson-nloglik:2.435242\n",
        "[2260]\ttrain-poisson-nloglik:2.284775\tval-poisson-nloglik:2.435183\n"
       ]
      },
      {
       "output_type": "stream",
       "stream": "stderr",
       "text": [
        "[2261]\ttrain-poisson-nloglik:2.284684\tval-poisson-nloglik:2.435106\n",
        "[2262]\ttrain-poisson-nloglik:2.284507\tval-poisson-nloglik:2.434972\n"
       ]
      },
      {
       "output_type": "stream",
       "stream": "stderr",
       "text": [
        "[2263]\ttrain-poisson-nloglik:2.284441\tval-poisson-nloglik:2.434907\n",
        "[2264]\ttrain-poisson-nloglik:2.284385\tval-poisson-nloglik:2.434872\n"
       ]
      },
      {
       "output_type": "stream",
       "stream": "stderr",
       "text": [
        "[2265]\ttrain-poisson-nloglik:2.284313\tval-poisson-nloglik:2.434814\n",
        "[2266]\ttrain-poisson-nloglik:2.284162\tval-poisson-nloglik:2.434698\n"
       ]
      },
      {
       "output_type": "stream",
       "stream": "stderr",
       "text": [
        "[2267]\ttrain-poisson-nloglik:2.284041\tval-poisson-nloglik:2.434600\n",
        "[2268]\ttrain-poisson-nloglik:2.283945\tval-poisson-nloglik:2.434522\n"
       ]
      },
      {
       "output_type": "stream",
       "stream": "stderr",
       "text": [
        "[2269]\ttrain-poisson-nloglik:2.283859\tval-poisson-nloglik:2.434437\n",
        "[2270]\ttrain-poisson-nloglik:2.283750\tval-poisson-nloglik:2.434330\n"
       ]
      },
      {
       "output_type": "stream",
       "stream": "stderr",
       "text": [
        "[2271]\ttrain-poisson-nloglik:2.283655\tval-poisson-nloglik:2.434266\n",
        "[2272]\ttrain-poisson-nloglik:2.283560\tval-poisson-nloglik:2.434181\n"
       ]
      },
      {
       "output_type": "stream",
       "stream": "stderr",
       "text": [
        "[2273]\ttrain-poisson-nloglik:2.283477\tval-poisson-nloglik:2.434116\n",
        "[2274]\ttrain-poisson-nloglik:2.283401\tval-poisson-nloglik:2.434054\n"
       ]
      },
      {
       "output_type": "stream",
       "stream": "stderr",
       "text": [
        "[2275]\ttrain-poisson-nloglik:2.283321\tval-poisson-nloglik:2.433975\n",
        "[2276]\ttrain-poisson-nloglik:2.283154\tval-poisson-nloglik:2.433841\n"
       ]
      },
      {
       "output_type": "stream",
       "stream": "stderr",
       "text": [
        "[2277]\ttrain-poisson-nloglik:2.283113\tval-poisson-nloglik:2.433800\n",
        "[2278]\ttrain-poisson-nloglik:2.283052\tval-poisson-nloglik:2.433744\n"
       ]
      },
      {
       "output_type": "stream",
       "stream": "stderr",
       "text": [
        "[2279]\ttrain-poisson-nloglik:2.282932\tval-poisson-nloglik:2.433653\n",
        "[2280]\ttrain-poisson-nloglik:2.282835\tval-poisson-nloglik:2.433588\n"
       ]
      },
      {
       "output_type": "stream",
       "stream": "stderr",
       "text": [
        "[2281]\ttrain-poisson-nloglik:2.282731\tval-poisson-nloglik:2.433523\n",
        "[2282]\ttrain-poisson-nloglik:2.282671\tval-poisson-nloglik:2.433475\n"
       ]
      },
      {
       "output_type": "stream",
       "stream": "stderr",
       "text": [
        "[2283]\ttrain-poisson-nloglik:2.282570\tval-poisson-nloglik:2.433396\n",
        "[2284]\ttrain-poisson-nloglik:2.282490\tval-poisson-nloglik:2.433346\n"
       ]
      },
      {
       "output_type": "stream",
       "stream": "stderr",
       "text": [
        "[2285]\ttrain-poisson-nloglik:2.282418\tval-poisson-nloglik:2.433289\n",
        "[2286]\ttrain-poisson-nloglik:2.282295\tval-poisson-nloglik:2.433192\n"
       ]
      },
      {
       "output_type": "stream",
       "stream": "stderr",
       "text": [
        "[2287]\ttrain-poisson-nloglik:2.282246\tval-poisson-nloglik:2.433149\n",
        "[2288]\ttrain-poisson-nloglik:2.282196\tval-poisson-nloglik:2.433112\n"
       ]
      },
      {
       "output_type": "stream",
       "stream": "stderr",
       "text": [
        "[2289]\ttrain-poisson-nloglik:2.282074\tval-poisson-nloglik:2.433027\n",
        "[2290]\ttrain-poisson-nloglik:2.281968\tval-poisson-nloglik:2.432941\n"
       ]
      },
      {
       "output_type": "stream",
       "stream": "stderr",
       "text": [
        "[2291]\ttrain-poisson-nloglik:2.281868\tval-poisson-nloglik:2.432868\n",
        "[2292]\ttrain-poisson-nloglik:2.281794\tval-poisson-nloglik:2.432796\n"
       ]
      },
      {
       "output_type": "stream",
       "stream": "stderr",
       "text": [
        "[2293]\ttrain-poisson-nloglik:2.281745\tval-poisson-nloglik:2.432746\n",
        "[2294]\ttrain-poisson-nloglik:2.281614\tval-poisson-nloglik:2.432650\n"
       ]
      },
      {
       "output_type": "stream",
       "stream": "stderr",
       "text": [
        "[2295]\ttrain-poisson-nloglik:2.281535\tval-poisson-nloglik:2.432578\n",
        "[2296]\ttrain-poisson-nloglik:2.281474\tval-poisson-nloglik:2.432534\n"
       ]
      },
      {
       "output_type": "stream",
       "stream": "stderr",
       "text": [
        "[2297]\ttrain-poisson-nloglik:2.281333\tval-poisson-nloglik:2.432454\n",
        "[2298]\ttrain-poisson-nloglik:2.281225\tval-poisson-nloglik:2.432374\n"
       ]
      },
      {
       "output_type": "stream",
       "stream": "stderr",
       "text": [
        "[2299]\ttrain-poisson-nloglik:2.281067\tval-poisson-nloglik:2.432242\n",
        "[2300]\ttrain-poisson-nloglik:2.280898\tval-poisson-nloglik:2.432082\n"
       ]
      },
      {
       "output_type": "stream",
       "stream": "stderr",
       "text": [
        "[2301]\ttrain-poisson-nloglik:2.280832\tval-poisson-nloglik:2.432018\n",
        "[2302]\ttrain-poisson-nloglik:2.280782\tval-poisson-nloglik:2.431987\n"
       ]
      },
      {
       "output_type": "stream",
       "stream": "stderr",
       "text": [
        "[2303]\ttrain-poisson-nloglik:2.280679\tval-poisson-nloglik:2.431912\n",
        "[2304]\ttrain-poisson-nloglik:2.280608\tval-poisson-nloglik:2.431851\n"
       ]
      },
      {
       "output_type": "stream",
       "stream": "stderr",
       "text": [
        "[2305]\ttrain-poisson-nloglik:2.280513\tval-poisson-nloglik:2.431755\n",
        "[2306]\ttrain-poisson-nloglik:2.280460\tval-poisson-nloglik:2.431710\n"
       ]
      },
      {
       "output_type": "stream",
       "stream": "stderr",
       "text": [
        "[2307]\ttrain-poisson-nloglik:2.280387\tval-poisson-nloglik:2.431654\n",
        "[2308]\ttrain-poisson-nloglik:2.280306\tval-poisson-nloglik:2.431603\n"
       ]
      },
      {
       "output_type": "stream",
       "stream": "stderr",
       "text": [
        "[2309]\ttrain-poisson-nloglik:2.280181\tval-poisson-nloglik:2.431496\n",
        "[2310]\ttrain-poisson-nloglik:2.280040\tval-poisson-nloglik:2.431385\n"
       ]
      },
      {
       "output_type": "stream",
       "stream": "stderr",
       "text": [
        "[2311]\ttrain-poisson-nloglik:2.279951\tval-poisson-nloglik:2.431321\n",
        "[2312]\ttrain-poisson-nloglik:2.279922\tval-poisson-nloglik:2.431301\n"
       ]
      },
      {
       "output_type": "stream",
       "stream": "stderr",
       "text": [
        "[2313]\ttrain-poisson-nloglik:2.279872\tval-poisson-nloglik:2.431266\n",
        "[2314]\ttrain-poisson-nloglik:2.279775\tval-poisson-nloglik:2.431182\n"
       ]
      },
      {
       "output_type": "stream",
       "stream": "stderr",
       "text": [
        "[2315]\ttrain-poisson-nloglik:2.279712\tval-poisson-nloglik:2.431136\n",
        "[2316]\ttrain-poisson-nloglik:2.279631\tval-poisson-nloglik:2.431049\n"
       ]
      },
      {
       "output_type": "stream",
       "stream": "stderr",
       "text": [
        "[2317]\ttrain-poisson-nloglik:2.279513\tval-poisson-nloglik:2.430959\n",
        "[2318]\ttrain-poisson-nloglik:2.279469\tval-poisson-nloglik:2.430917\n"
       ]
      },
      {
       "output_type": "stream",
       "stream": "stderr",
       "text": [
        "[2319]\ttrain-poisson-nloglik:2.279402\tval-poisson-nloglik:2.430852\n",
        "[2320]\ttrain-poisson-nloglik:2.279340\tval-poisson-nloglik:2.430799\n"
       ]
      },
      {
       "output_type": "stream",
       "stream": "stderr",
       "text": [
        "[2321]\ttrain-poisson-nloglik:2.279296\tval-poisson-nloglik:2.430766\n",
        "[2322]\ttrain-poisson-nloglik:2.279216\tval-poisson-nloglik:2.430704\n"
       ]
      },
      {
       "output_type": "stream",
       "stream": "stderr",
       "text": [
        "[2323]\ttrain-poisson-nloglik:2.279160\tval-poisson-nloglik:2.430662\n",
        "[2324]\ttrain-poisson-nloglik:2.279068\tval-poisson-nloglik:2.430591\n"
       ]
      },
      {
       "output_type": "stream",
       "stream": "stderr",
       "text": [
        "[2325]\ttrain-poisson-nloglik:2.279003\tval-poisson-nloglik:2.430528\n",
        "[2326]\ttrain-poisson-nloglik:2.278943\tval-poisson-nloglik:2.430484\n"
       ]
      },
      {
       "output_type": "stream",
       "stream": "stderr",
       "text": [
        "[2327]\ttrain-poisson-nloglik:2.278876\tval-poisson-nloglik:2.430431\n",
        "[2328]\ttrain-poisson-nloglik:2.278805\tval-poisson-nloglik:2.430369\n"
       ]
      },
      {
       "output_type": "stream",
       "stream": "stderr",
       "text": [
        "[2329]\ttrain-poisson-nloglik:2.278719\tval-poisson-nloglik:2.430307\n",
        "[2330]\ttrain-poisson-nloglik:2.278656\tval-poisson-nloglik:2.430256\n"
       ]
      },
      {
       "output_type": "stream",
       "stream": "stderr",
       "text": [
        "[2331]\ttrain-poisson-nloglik:2.278588\tval-poisson-nloglik:2.430204\n",
        "[2332]\ttrain-poisson-nloglik:2.278466\tval-poisson-nloglik:2.430096\n"
       ]
      },
      {
       "output_type": "stream",
       "stream": "stderr",
       "text": [
        "[2333]\ttrain-poisson-nloglik:2.278407\tval-poisson-nloglik:2.430051\n",
        "[2334]\ttrain-poisson-nloglik:2.278358\tval-poisson-nloglik:2.430017\n"
       ]
      },
      {
       "output_type": "stream",
       "stream": "stderr",
       "text": [
        "[2335]\ttrain-poisson-nloglik:2.278291\tval-poisson-nloglik:2.429971\n",
        "[2336]\ttrain-poisson-nloglik:2.278238\tval-poisson-nloglik:2.429919\n"
       ]
      },
      {
       "output_type": "stream",
       "stream": "stderr",
       "text": [
        "[2337]\ttrain-poisson-nloglik:2.278121\tval-poisson-nloglik:2.429808\n",
        "[2338]\ttrain-poisson-nloglik:2.278037\tval-poisson-nloglik:2.429755\n"
       ]
      },
      {
       "output_type": "stream",
       "stream": "stderr",
       "text": [
        "[2339]\ttrain-poisson-nloglik:2.277909\tval-poisson-nloglik:2.429671\n",
        "[2340]\ttrain-poisson-nloglik:2.277822\tval-poisson-nloglik:2.429603\n"
       ]
      },
      {
       "output_type": "stream",
       "stream": "stderr",
       "text": [
        "[2341]\ttrain-poisson-nloglik:2.277766\tval-poisson-nloglik:2.429556\n",
        "[2342]\ttrain-poisson-nloglik:2.277610\tval-poisson-nloglik:2.429431\n"
       ]
      },
      {
       "output_type": "stream",
       "stream": "stderr",
       "text": [
        "[2343]\ttrain-poisson-nloglik:2.277491\tval-poisson-nloglik:2.429324\n",
        "[2344]\ttrain-poisson-nloglik:2.277421\tval-poisson-nloglik:2.429263\n"
       ]
      },
      {
       "output_type": "stream",
       "stream": "stderr",
       "text": [
        "[2345]\ttrain-poisson-nloglik:2.277357\tval-poisson-nloglik:2.429218\n",
        "[2346]\ttrain-poisson-nloglik:2.277269\tval-poisson-nloglik:2.429152\n"
       ]
      },
      {
       "output_type": "stream",
       "stream": "stderr",
       "text": [
        "[2347]\ttrain-poisson-nloglik:2.277203\tval-poisson-nloglik:2.429112\n",
        "[2348]\ttrain-poisson-nloglik:2.277075\tval-poisson-nloglik:2.429022\n"
       ]
      },
      {
       "output_type": "stream",
       "stream": "stderr",
       "text": [
        "[2349]\ttrain-poisson-nloglik:2.277019\tval-poisson-nloglik:2.428972\n",
        "[2350]\ttrain-poisson-nloglik:2.276891\tval-poisson-nloglik:2.428848\n"
       ]
      },
      {
       "output_type": "stream",
       "stream": "stderr",
       "text": [
        "[2351]\ttrain-poisson-nloglik:2.276747\tval-poisson-nloglik:2.428751\n",
        "[2352]\ttrain-poisson-nloglik:2.276659\tval-poisson-nloglik:2.428683\n"
       ]
      },
      {
       "output_type": "stream",
       "stream": "stderr",
       "text": [
        "[2353]\ttrain-poisson-nloglik:2.276493\tval-poisson-nloglik:2.428552\n",
        "[2354]\ttrain-poisson-nloglik:2.276406\tval-poisson-nloglik:2.428473\n"
       ]
      },
      {
       "output_type": "stream",
       "stream": "stderr",
       "text": [
        "[2355]\ttrain-poisson-nloglik:2.276249\tval-poisson-nloglik:2.428322\n",
        "[2356]\ttrain-poisson-nloglik:2.276165\tval-poisson-nloglik:2.428276\n"
       ]
      },
      {
       "output_type": "stream",
       "stream": "stderr",
       "text": [
        "[2357]\ttrain-poisson-nloglik:2.276043\tval-poisson-nloglik:2.428183\n",
        "[2358]\ttrain-poisson-nloglik:2.275976\tval-poisson-nloglik:2.428113\n"
       ]
      },
      {
       "output_type": "stream",
       "stream": "stderr",
       "text": [
        "[2359]\ttrain-poisson-nloglik:2.275876\tval-poisson-nloglik:2.428035\n",
        "[2360]\ttrain-poisson-nloglik:2.275774\tval-poisson-nloglik:2.427967\n"
       ]
      },
      {
       "output_type": "stream",
       "stream": "stderr",
       "text": [
        "[2361]\ttrain-poisson-nloglik:2.275676\tval-poisson-nloglik:2.427892\n",
        "[2362]\ttrain-poisson-nloglik:2.275635\tval-poisson-nloglik:2.427861\n"
       ]
      },
      {
       "output_type": "stream",
       "stream": "stderr",
       "text": [
        "[2363]\ttrain-poisson-nloglik:2.275570\tval-poisson-nloglik:2.427793\n",
        "[2364]\ttrain-poisson-nloglik:2.275524\tval-poisson-nloglik:2.427761\n"
       ]
      },
      {
       "output_type": "stream",
       "stream": "stderr",
       "text": [
        "[2365]\ttrain-poisson-nloglik:2.275431\tval-poisson-nloglik:2.427689\n",
        "[2366]\ttrain-poisson-nloglik:2.275321\tval-poisson-nloglik:2.427604\n"
       ]
      },
      {
       "output_type": "stream",
       "stream": "stderr",
       "text": [
        "[2367]\ttrain-poisson-nloglik:2.275210\tval-poisson-nloglik:2.427525\n",
        "[2368]\ttrain-poisson-nloglik:2.275150\tval-poisson-nloglik:2.427472\n"
       ]
      },
      {
       "output_type": "stream",
       "stream": "stderr",
       "text": [
        "[2369]\ttrain-poisson-nloglik:2.275076\tval-poisson-nloglik:2.427412\n",
        "[2370]\ttrain-poisson-nloglik:2.275031\tval-poisson-nloglik:2.427366\n"
       ]
      },
      {
       "output_type": "stream",
       "stream": "stderr",
       "text": [
        "[2371]\ttrain-poisson-nloglik:2.274951\tval-poisson-nloglik:2.427300\n",
        "[2372]\ttrain-poisson-nloglik:2.274915\tval-poisson-nloglik:2.427262\n"
       ]
      },
      {
       "output_type": "stream",
       "stream": "stderr",
       "text": [
        "[2373]\ttrain-poisson-nloglik:2.274771\tval-poisson-nloglik:2.427127\n",
        "[2374]\ttrain-poisson-nloglik:2.274647\tval-poisson-nloglik:2.427032\n"
       ]
      },
      {
       "output_type": "stream",
       "stream": "stderr",
       "text": [
        "[2375]\ttrain-poisson-nloglik:2.274588\tval-poisson-nloglik:2.426989\n",
        "[2376]\ttrain-poisson-nloglik:2.274475\tval-poisson-nloglik:2.426879\n"
       ]
      },
      {
       "output_type": "stream",
       "stream": "stderr",
       "text": [
        "[2377]\ttrain-poisson-nloglik:2.274403\tval-poisson-nloglik:2.426816\n",
        "[2378]\ttrain-poisson-nloglik:2.274254\tval-poisson-nloglik:2.426687\n"
       ]
      },
      {
       "output_type": "stream",
       "stream": "stderr",
       "text": [
        "[2379]\ttrain-poisson-nloglik:2.274127\tval-poisson-nloglik:2.426586\n",
        "[2380]\ttrain-poisson-nloglik:2.273997\tval-poisson-nloglik:2.426486\n"
       ]
      },
      {
       "output_type": "stream",
       "stream": "stderr",
       "text": [
        "[2381]\ttrain-poisson-nloglik:2.273945\tval-poisson-nloglik:2.426450\n",
        "[2382]\ttrain-poisson-nloglik:2.273838\tval-poisson-nloglik:2.426317\n"
       ]
      },
      {
       "output_type": "stream",
       "stream": "stderr",
       "text": [
        "[2383]\ttrain-poisson-nloglik:2.273747\tval-poisson-nloglik:2.426257\n",
        "[2384]\ttrain-poisson-nloglik:2.273679\tval-poisson-nloglik:2.426212\n"
       ]
      },
      {
       "output_type": "stream",
       "stream": "stderr",
       "text": [
        "[2385]\ttrain-poisson-nloglik:2.273558\tval-poisson-nloglik:2.426126\n",
        "[2386]\ttrain-poisson-nloglik:2.273486\tval-poisson-nloglik:2.426058\n"
       ]
      },
      {
       "output_type": "stream",
       "stream": "stderr",
       "text": [
        "[2387]\ttrain-poisson-nloglik:2.273357\tval-poisson-nloglik:2.425958\n",
        "[2388]\ttrain-poisson-nloglik:2.273323\tval-poisson-nloglik:2.425935\n"
       ]
      },
      {
       "output_type": "stream",
       "stream": "stderr",
       "text": [
        "[2389]\ttrain-poisson-nloglik:2.273225\tval-poisson-nloglik:2.425855\n",
        "[2390]\ttrain-poisson-nloglik:2.273045\tval-poisson-nloglik:2.425713\n"
       ]
      },
      {
       "output_type": "stream",
       "stream": "stderr",
       "text": [
        "[2391]\ttrain-poisson-nloglik:2.272993\tval-poisson-nloglik:2.425676\n",
        "[2392]\ttrain-poisson-nloglik:2.272915\tval-poisson-nloglik:2.425606\n"
       ]
      },
      {
       "output_type": "stream",
       "stream": "stderr",
       "text": [
        "[2393]\ttrain-poisson-nloglik:2.272834\tval-poisson-nloglik:2.425541\n",
        "[2394]\ttrain-poisson-nloglik:2.272786\tval-poisson-nloglik:2.425505\n"
       ]
      },
      {
       "output_type": "stream",
       "stream": "stderr",
       "text": [
        "[2395]\ttrain-poisson-nloglik:2.272717\tval-poisson-nloglik:2.425439\n",
        "[2396]\ttrain-poisson-nloglik:2.272644\tval-poisson-nloglik:2.425384\n"
       ]
      },
      {
       "output_type": "stream",
       "stream": "stderr",
       "text": [
        "[2397]\ttrain-poisson-nloglik:2.272594\tval-poisson-nloglik:2.425336\n",
        "[2398]\ttrain-poisson-nloglik:2.272535\tval-poisson-nloglik:2.425282\n"
       ]
      },
      {
       "output_type": "stream",
       "stream": "stderr",
       "text": [
        "[2399]\ttrain-poisson-nloglik:2.272386\tval-poisson-nloglik:2.425158\n",
        "[2400]\ttrain-poisson-nloglik:2.272328\tval-poisson-nloglik:2.425109\n"
       ]
      },
      {
       "output_type": "stream",
       "stream": "stderr",
       "text": [
        "[2401]\ttrain-poisson-nloglik:2.272279\tval-poisson-nloglik:2.425084\n",
        "[2402]\ttrain-poisson-nloglik:2.272157\tval-poisson-nloglik:2.425000\n"
       ]
      },
      {
       "output_type": "stream",
       "stream": "stderr",
       "text": [
        "[2403]\ttrain-poisson-nloglik:2.272101\tval-poisson-nloglik:2.424959\n",
        "[2404]\ttrain-poisson-nloglik:2.272049\tval-poisson-nloglik:2.424924\n"
       ]
      },
      {
       "output_type": "stream",
       "stream": "stderr",
       "text": [
        "[2405]\ttrain-poisson-nloglik:2.271956\tval-poisson-nloglik:2.424846\n",
        "[2406]\ttrain-poisson-nloglik:2.271844\tval-poisson-nloglik:2.424752\n"
       ]
      },
      {
       "output_type": "stream",
       "stream": "stderr",
       "text": [
        "[2407]\ttrain-poisson-nloglik:2.271770\tval-poisson-nloglik:2.424693\n",
        "[2408]\ttrain-poisson-nloglik:2.271708\tval-poisson-nloglik:2.424632\n"
       ]
      },
      {
       "output_type": "stream",
       "stream": "stderr",
       "text": [
        "[2409]\ttrain-poisson-nloglik:2.271652\tval-poisson-nloglik:2.424592\n",
        "[2410]\ttrain-poisson-nloglik:2.271552\tval-poisson-nloglik:2.424505\n"
       ]
      },
      {
       "output_type": "stream",
       "stream": "stderr",
       "text": [
        "[2411]\ttrain-poisson-nloglik:2.271454\tval-poisson-nloglik:2.424428\n",
        "[2412]\ttrain-poisson-nloglik:2.271407\tval-poisson-nloglik:2.424386\n"
       ]
      },
      {
       "output_type": "stream",
       "stream": "stderr",
       "text": [
        "[2413]\ttrain-poisson-nloglik:2.271228\tval-poisson-nloglik:2.424239\n",
        "[2414]\ttrain-poisson-nloglik:2.271150\tval-poisson-nloglik:2.424178\n"
       ]
      },
      {
       "output_type": "stream",
       "stream": "stderr",
       "text": [
        "[2415]\ttrain-poisson-nloglik:2.271091\tval-poisson-nloglik:2.424133\n",
        "[2416]\ttrain-poisson-nloglik:2.270941\tval-poisson-nloglik:2.424008\n"
       ]
      },
      {
       "output_type": "stream",
       "stream": "stderr",
       "text": [
        "[2417]\ttrain-poisson-nloglik:2.270883\tval-poisson-nloglik:2.423955\n",
        "[2418]\ttrain-poisson-nloglik:2.270812\tval-poisson-nloglik:2.423901\n"
       ]
      },
      {
       "output_type": "stream",
       "stream": "stderr",
       "text": [
        "[2419]\ttrain-poisson-nloglik:2.270765\tval-poisson-nloglik:2.423856\n",
        "[2420]\ttrain-poisson-nloglik:2.270671\tval-poisson-nloglik:2.423775\n"
       ]
      },
      {
       "output_type": "stream",
       "stream": "stderr",
       "text": [
        "[2421]\ttrain-poisson-nloglik:2.270583\tval-poisson-nloglik:2.423714\n",
        "[2422]\ttrain-poisson-nloglik:2.270525\tval-poisson-nloglik:2.423682\n"
       ]
      },
      {
       "output_type": "stream",
       "stream": "stderr",
       "text": [
        "[2423]\ttrain-poisson-nloglik:2.270386\tval-poisson-nloglik:2.423570\n",
        "[2424]\ttrain-poisson-nloglik:2.270344\tval-poisson-nloglik:2.423539\n"
       ]
      },
      {
       "output_type": "stream",
       "stream": "stderr",
       "text": [
        "[2425]\ttrain-poisson-nloglik:2.270288\tval-poisson-nloglik:2.423489\n",
        "[2426]\ttrain-poisson-nloglik:2.270231\tval-poisson-nloglik:2.423466\n"
       ]
      },
      {
       "output_type": "stream",
       "stream": "stderr",
       "text": [
        "[2427]\ttrain-poisson-nloglik:2.270133\tval-poisson-nloglik:2.423389\n",
        "[2428]\ttrain-poisson-nloglik:2.270053\tval-poisson-nloglik:2.423325\n"
       ]
      },
      {
       "output_type": "stream",
       "stream": "stderr",
       "text": [
        "[2429]\ttrain-poisson-nloglik:2.269977\tval-poisson-nloglik:2.423266\n",
        "[2430]\ttrain-poisson-nloglik:2.269868\tval-poisson-nloglik:2.423183\n"
       ]
      },
      {
       "output_type": "stream",
       "stream": "stderr",
       "text": [
        "[2431]\ttrain-poisson-nloglik:2.269750\tval-poisson-nloglik:2.423084\n",
        "[2432]\ttrain-poisson-nloglik:2.269653\tval-poisson-nloglik:2.423001\n"
       ]
      },
      {
       "output_type": "stream",
       "stream": "stderr",
       "text": [
        "[2433]\ttrain-poisson-nloglik:2.269588\tval-poisson-nloglik:2.422945\n",
        "[2434]\ttrain-poisson-nloglik:2.269535\tval-poisson-nloglik:2.422906\n"
       ]
      },
      {
       "output_type": "stream",
       "stream": "stderr",
       "text": [
        "[2435]\ttrain-poisson-nloglik:2.269430\tval-poisson-nloglik:2.422829\n",
        "[2436]\ttrain-poisson-nloglik:2.269289\tval-poisson-nloglik:2.422711\n"
       ]
      },
      {
       "output_type": "stream",
       "stream": "stderr",
       "text": [
        "[2437]\ttrain-poisson-nloglik:2.269247\tval-poisson-nloglik:2.422673\n",
        "[2438]\ttrain-poisson-nloglik:2.269132\tval-poisson-nloglik:2.422581\n"
       ]
      },
      {
       "output_type": "stream",
       "stream": "stderr",
       "text": [
        "[2439]\ttrain-poisson-nloglik:2.269023\tval-poisson-nloglik:2.422493\n",
        "[2440]\ttrain-poisson-nloglik:2.268966\tval-poisson-nloglik:2.422444\n"
       ]
      },
      {
       "output_type": "stream",
       "stream": "stderr",
       "text": [
        "[2441]\ttrain-poisson-nloglik:2.268875\tval-poisson-nloglik:2.422357\n",
        "[2442]\ttrain-poisson-nloglik:2.268770\tval-poisson-nloglik:2.422258\n"
       ]
      },
      {
       "output_type": "stream",
       "stream": "stderr",
       "text": [
        "[2443]\ttrain-poisson-nloglik:2.268687\tval-poisson-nloglik:2.422196\n",
        "[2444]\ttrain-poisson-nloglik:2.268591\tval-poisson-nloglik:2.422131\n"
       ]
      },
      {
       "output_type": "stream",
       "stream": "stderr",
       "text": [
        "[2445]\ttrain-poisson-nloglik:2.268483\tval-poisson-nloglik:2.422083\n",
        "[2446]\ttrain-poisson-nloglik:2.268401\tval-poisson-nloglik:2.422024\n"
       ]
      },
      {
       "output_type": "stream",
       "stream": "stderr",
       "text": [
        "[2447]\ttrain-poisson-nloglik:2.268266\tval-poisson-nloglik:2.421938\n",
        "[2448]\ttrain-poisson-nloglik:2.268170\tval-poisson-nloglik:2.421856\n"
       ]
      },
      {
       "output_type": "stream",
       "stream": "stderr",
       "text": [
        "[2449]\ttrain-poisson-nloglik:2.268079\tval-poisson-nloglik:2.421787\n",
        "[2450]\ttrain-poisson-nloglik:2.268020\tval-poisson-nloglik:2.421742\n"
       ]
      },
      {
       "output_type": "stream",
       "stream": "stderr",
       "text": [
        "[2451]\ttrain-poisson-nloglik:2.267959\tval-poisson-nloglik:2.421696\n",
        "[2452]\ttrain-poisson-nloglik:2.267844\tval-poisson-nloglik:2.421605\n"
       ]
      },
      {
       "output_type": "stream",
       "stream": "stderr",
       "text": [
        "[2453]\ttrain-poisson-nloglik:2.267763\tval-poisson-nloglik:2.421533\n",
        "[2454]\ttrain-poisson-nloglik:2.267592\tval-poisson-nloglik:2.421402\n"
       ]
      },
      {
       "output_type": "stream",
       "stream": "stderr",
       "text": [
        "[2455]\ttrain-poisson-nloglik:2.267503\tval-poisson-nloglik:2.421337\n",
        "[2456]\ttrain-poisson-nloglik:2.267393\tval-poisson-nloglik:2.421266\n"
       ]
      },
      {
       "output_type": "stream",
       "stream": "stderr",
       "text": [
        "[2457]\ttrain-poisson-nloglik:2.267281\tval-poisson-nloglik:2.421175\n",
        "[2458]\ttrain-poisson-nloglik:2.267147\tval-poisson-nloglik:2.421059\n"
       ]
      },
      {
       "output_type": "stream",
       "stream": "stderr",
       "text": [
        "[2459]\ttrain-poisson-nloglik:2.267054\tval-poisson-nloglik:2.421000\n",
        "[2460]\ttrain-poisson-nloglik:2.266980\tval-poisson-nloglik:2.420947\n"
       ]
      },
      {
       "output_type": "stream",
       "stream": "stderr",
       "text": [
        "[2461]\ttrain-poisson-nloglik:2.266902\tval-poisson-nloglik:2.420887\n",
        "[2462]\ttrain-poisson-nloglik:2.266823\tval-poisson-nloglik:2.420785\n"
       ]
      },
      {
       "output_type": "stream",
       "stream": "stderr",
       "text": [
        "[2463]\ttrain-poisson-nloglik:2.266680\tval-poisson-nloglik:2.420657\n",
        "[2464]\ttrain-poisson-nloglik:2.266603\tval-poisson-nloglik:2.420590\n"
       ]
      },
      {
       "output_type": "stream",
       "stream": "stderr",
       "text": [
        "[2465]\ttrain-poisson-nloglik:2.266488\tval-poisson-nloglik:2.420500\n",
        "[2466]\ttrain-poisson-nloglik:2.266410\tval-poisson-nloglik:2.420437\n"
       ]
      },
      {
       "output_type": "stream",
       "stream": "stderr",
       "text": [
        "[2467]\ttrain-poisson-nloglik:2.266281\tval-poisson-nloglik:2.420321\n",
        "[2468]\ttrain-poisson-nloglik:2.266164\tval-poisson-nloglik:2.420218\n"
       ]
      },
      {
       "output_type": "stream",
       "stream": "stderr",
       "text": [
        "[2469]\ttrain-poisson-nloglik:2.266039\tval-poisson-nloglik:2.420117\n",
        "[2470]\ttrain-poisson-nloglik:2.265948\tval-poisson-nloglik:2.420053\n"
       ]
      },
      {
       "output_type": "stream",
       "stream": "stderr",
       "text": [
        "[2471]\ttrain-poisson-nloglik:2.265889\tval-poisson-nloglik:2.420009\n",
        "[2472]\ttrain-poisson-nloglik:2.265805\tval-poisson-nloglik:2.419942\n"
       ]
      },
      {
       "output_type": "stream",
       "stream": "stderr",
       "text": [
        "[2473]\ttrain-poisson-nloglik:2.265738\tval-poisson-nloglik:2.419896\n",
        "[2474]\ttrain-poisson-nloglik:2.265670\tval-poisson-nloglik:2.419845\n"
       ]
      },
      {
       "output_type": "stream",
       "stream": "stderr",
       "text": [
        "[2475]\ttrain-poisson-nloglik:2.265618\tval-poisson-nloglik:2.419806\n",
        "[2476]\ttrain-poisson-nloglik:2.265534\tval-poisson-nloglik:2.419740\n"
       ]
      },
      {
       "output_type": "stream",
       "stream": "stderr",
       "text": [
        "[2477]\ttrain-poisson-nloglik:2.265419\tval-poisson-nloglik:2.419637\n",
        "[2478]\ttrain-poisson-nloglik:2.265257\tval-poisson-nloglik:2.419508\n"
       ]
      },
      {
       "output_type": "stream",
       "stream": "stderr",
       "text": [
        "[2479]\ttrain-poisson-nloglik:2.265218\tval-poisson-nloglik:2.419476\n",
        "[2480]\ttrain-poisson-nloglik:2.265143\tval-poisson-nloglik:2.419425\n"
       ]
      },
      {
       "output_type": "stream",
       "stream": "stderr",
       "text": [
        "[2481]\ttrain-poisson-nloglik:2.265081\tval-poisson-nloglik:2.419377\n",
        "[2482]\ttrain-poisson-nloglik:2.265025\tval-poisson-nloglik:2.419327\n"
       ]
      },
      {
       "output_type": "stream",
       "stream": "stderr",
       "text": [
        "[2483]\ttrain-poisson-nloglik:2.264965\tval-poisson-nloglik:2.419281\n",
        "[2484]\ttrain-poisson-nloglik:2.264928\tval-poisson-nloglik:2.419266\n"
       ]
      },
      {
       "output_type": "stream",
       "stream": "stderr",
       "text": [
        "[2485]\ttrain-poisson-nloglik:2.264854\tval-poisson-nloglik:2.419218\n",
        "[2486]\ttrain-poisson-nloglik:2.264654\tval-poisson-nloglik:2.419057\n"
       ]
      },
      {
       "output_type": "stream",
       "stream": "stderr",
       "text": [
        "[2487]\ttrain-poisson-nloglik:2.264585\tval-poisson-nloglik:2.418990\n",
        "[2488]\ttrain-poisson-nloglik:2.264481\tval-poisson-nloglik:2.418896\n"
       ]
      },
      {
       "output_type": "stream",
       "stream": "stderr",
       "text": [
        "[2489]\ttrain-poisson-nloglik:2.264419\tval-poisson-nloglik:2.418849\n",
        "[2490]\ttrain-poisson-nloglik:2.264381\tval-poisson-nloglik:2.418819\n"
       ]
      },
      {
       "output_type": "stream",
       "stream": "stderr",
       "text": [
        "[2491]\ttrain-poisson-nloglik:2.264263\tval-poisson-nloglik:2.418728\n",
        "[2492]\ttrain-poisson-nloglik:2.264142\tval-poisson-nloglik:2.418638\n"
       ]
      },
      {
       "output_type": "stream",
       "stream": "stderr",
       "text": [
        "[2493]\ttrain-poisson-nloglik:2.264096\tval-poisson-nloglik:2.418608\n",
        "[2494]\ttrain-poisson-nloglik:2.264011\tval-poisson-nloglik:2.418545\n"
       ]
      },
      {
       "output_type": "stream",
       "stream": "stderr",
       "text": [
        "[2495]\ttrain-poisson-nloglik:2.263983\tval-poisson-nloglik:2.418519\n",
        "[2496]\ttrain-poisson-nloglik:2.263921\tval-poisson-nloglik:2.418462\n"
       ]
      },
      {
       "output_type": "stream",
       "stream": "stderr",
       "text": [
        "[2497]\ttrain-poisson-nloglik:2.263862\tval-poisson-nloglik:2.418427\n",
        "[2498]\ttrain-poisson-nloglik:2.263799\tval-poisson-nloglik:2.418382\n"
       ]
      },
      {
       "output_type": "stream",
       "stream": "stderr",
       "text": [
        "[2499]\ttrain-poisson-nloglik:2.263700\tval-poisson-nloglik:2.418314\n",
        "[2500]\ttrain-poisson-nloglik:2.263623\tval-poisson-nloglik:2.418258\n"
       ]
      },
      {
       "output_type": "stream",
       "stream": "stderr",
       "text": [
        "[2501]\ttrain-poisson-nloglik:2.263546\tval-poisson-nloglik:2.418199\n",
        "[2502]\ttrain-poisson-nloglik:2.263478\tval-poisson-nloglik:2.418129\n"
       ]
      },
      {
       "output_type": "stream",
       "stream": "stderr",
       "text": [
        "[2503]\ttrain-poisson-nloglik:2.263433\tval-poisson-nloglik:2.418104\n",
        "[2504]\ttrain-poisson-nloglik:2.263337\tval-poisson-nloglik:2.418033\n"
       ]
      },
      {
       "output_type": "stream",
       "stream": "stderr",
       "text": [
        "[2505]\ttrain-poisson-nloglik:2.263227\tval-poisson-nloglik:2.417926\n",
        "[2506]\ttrain-poisson-nloglik:2.263150\tval-poisson-nloglik:2.417862\n"
       ]
      },
      {
       "output_type": "stream",
       "stream": "stderr",
       "text": [
        "[2507]\ttrain-poisson-nloglik:2.263097\tval-poisson-nloglik:2.417820\n",
        "[2508]\ttrain-poisson-nloglik:2.262966\tval-poisson-nloglik:2.417710\n"
       ]
      },
      {
       "output_type": "stream",
       "stream": "stderr",
       "text": [
        "[2509]\ttrain-poisson-nloglik:2.262894\tval-poisson-nloglik:2.417645\n",
        "[2510]\ttrain-poisson-nloglik:2.262821\tval-poisson-nloglik:2.417577\n"
       ]
      },
      {
       "output_type": "stream",
       "stream": "stderr",
       "text": [
        "[2511]\ttrain-poisson-nloglik:2.262786\tval-poisson-nloglik:2.417545\n",
        "[2512]\ttrain-poisson-nloglik:2.262692\tval-poisson-nloglik:2.417469\n"
       ]
      },
      {
       "output_type": "stream",
       "stream": "stderr",
       "text": [
        "[2513]\ttrain-poisson-nloglik:2.262584\tval-poisson-nloglik:2.417379\n",
        "[2514]\ttrain-poisson-nloglik:2.262509\tval-poisson-nloglik:2.417319\n"
       ]
      },
      {
       "output_type": "stream",
       "stream": "stderr",
       "text": [
        "[2515]\ttrain-poisson-nloglik:2.262423\tval-poisson-nloglik:2.417249\n",
        "[2516]\ttrain-poisson-nloglik:2.262331\tval-poisson-nloglik:2.417176\n"
       ]
      },
      {
       "output_type": "stream",
       "stream": "stderr",
       "text": [
        "[2517]\ttrain-poisson-nloglik:2.262277\tval-poisson-nloglik:2.417127\n",
        "[2518]\ttrain-poisson-nloglik:2.262231\tval-poisson-nloglik:2.417085\n"
       ]
      },
      {
       "output_type": "stream",
       "stream": "stderr",
       "text": [
        "[2519]\ttrain-poisson-nloglik:2.262165\tval-poisson-nloglik:2.417038\n",
        "[2520]\ttrain-poisson-nloglik:2.262045\tval-poisson-nloglik:2.416949\n"
       ]
      },
      {
       "output_type": "stream",
       "stream": "stderr",
       "text": [
        "[2521]\ttrain-poisson-nloglik:2.261940\tval-poisson-nloglik:2.416871\n",
        "[2522]\ttrain-poisson-nloglik:2.261874\tval-poisson-nloglik:2.416826\n"
       ]
      },
      {
       "output_type": "stream",
       "stream": "stderr",
       "text": [
        "[2523]\ttrain-poisson-nloglik:2.261792\tval-poisson-nloglik:2.416784\n",
        "[2524]\ttrain-poisson-nloglik:2.261687\tval-poisson-nloglik:2.416690\n"
       ]
      },
      {
       "output_type": "stream",
       "stream": "stderr",
       "text": [
        "[2525]\ttrain-poisson-nloglik:2.261635\tval-poisson-nloglik:2.416652\n",
        "[2526]\ttrain-poisson-nloglik:2.261611\tval-poisson-nloglik:2.416631\n"
       ]
      },
      {
       "output_type": "stream",
       "stream": "stderr",
       "text": [
        "[2527]\ttrain-poisson-nloglik:2.261531\tval-poisson-nloglik:2.416578\n",
        "[2528]\ttrain-poisson-nloglik:2.261464\tval-poisson-nloglik:2.416520\n"
       ]
      },
      {
       "output_type": "stream",
       "stream": "stderr",
       "text": [
        "[2529]\ttrain-poisson-nloglik:2.261411\tval-poisson-nloglik:2.416473\n",
        "[2530]\ttrain-poisson-nloglik:2.261375\tval-poisson-nloglik:2.416451\n"
       ]
      },
      {
       "output_type": "stream",
       "stream": "stderr",
       "text": [
        "[2531]\ttrain-poisson-nloglik:2.261252\tval-poisson-nloglik:2.416344\n",
        "[2532]\ttrain-poisson-nloglik:2.261180\tval-poisson-nloglik:2.416291\n"
       ]
      },
      {
       "output_type": "stream",
       "stream": "stderr",
       "text": [
        "[2533]\ttrain-poisson-nloglik:2.261072\tval-poisson-nloglik:2.416211\n",
        "[2534]\ttrain-poisson-nloglik:2.260940\tval-poisson-nloglik:2.416110\n"
       ]
      },
      {
       "output_type": "stream",
       "stream": "stderr",
       "text": [
        "[2535]\ttrain-poisson-nloglik:2.260901\tval-poisson-nloglik:2.416083\n",
        "[2536]\ttrain-poisson-nloglik:2.260824\tval-poisson-nloglik:2.416032\n"
       ]
      },
      {
       "output_type": "stream",
       "stream": "stderr",
       "text": [
        "[2537]\ttrain-poisson-nloglik:2.260733\tval-poisson-nloglik:2.415961\n",
        "[2538]\ttrain-poisson-nloglik:2.260621\tval-poisson-nloglik:2.415872\n"
       ]
      },
      {
       "output_type": "stream",
       "stream": "stderr",
       "text": [
        "[2539]\ttrain-poisson-nloglik:2.260534\tval-poisson-nloglik:2.415810\n",
        "[2540]\ttrain-poisson-nloglik:2.260428\tval-poisson-nloglik:2.415728\n"
       ]
      },
      {
       "output_type": "stream",
       "stream": "stderr",
       "text": [
        "[2541]\ttrain-poisson-nloglik:2.260340\tval-poisson-nloglik:2.415655\n",
        "[2542]\ttrain-poisson-nloglik:2.260298\tval-poisson-nloglik:2.415618\n"
       ]
      },
      {
       "output_type": "stream",
       "stream": "stderr",
       "text": [
        "[2543]\ttrain-poisson-nloglik:2.260220\tval-poisson-nloglik:2.415558\n",
        "[2544]\ttrain-poisson-nloglik:2.260142\tval-poisson-nloglik:2.415493\n"
       ]
      },
      {
       "output_type": "stream",
       "stream": "stderr",
       "text": [
        "[2545]\ttrain-poisson-nloglik:2.260094\tval-poisson-nloglik:2.415459\n",
        "[2546]\ttrain-poisson-nloglik:2.260008\tval-poisson-nloglik:2.415391\n"
       ]
      },
      {
       "output_type": "stream",
       "stream": "stderr",
       "text": [
        "[2547]\ttrain-poisson-nloglik:2.259940\tval-poisson-nloglik:2.415338\n",
        "[2548]\ttrain-poisson-nloglik:2.259880\tval-poisson-nloglik:2.415285\n"
       ]
      },
      {
       "output_type": "stream",
       "stream": "stderr",
       "text": [
        "[2549]\ttrain-poisson-nloglik:2.259815\tval-poisson-nloglik:2.415214\n",
        "[2550]\ttrain-poisson-nloglik:2.259734\tval-poisson-nloglik:2.415165\n"
       ]
      },
      {
       "output_type": "stream",
       "stream": "stderr",
       "text": [
        "[2551]\ttrain-poisson-nloglik:2.259680\tval-poisson-nloglik:2.415123\n",
        "[2552]\ttrain-poisson-nloglik:2.259548\tval-poisson-nloglik:2.415011\n"
       ]
      },
      {
       "output_type": "stream",
       "stream": "stderr",
       "text": [
        "[2553]\ttrain-poisson-nloglik:2.259450\tval-poisson-nloglik:2.414926\n",
        "[2554]\ttrain-poisson-nloglik:2.259396\tval-poisson-nloglik:2.414879\n"
       ]
      },
      {
       "output_type": "stream",
       "stream": "stderr",
       "text": [
        "[2555]\ttrain-poisson-nloglik:2.259324\tval-poisson-nloglik:2.414811\n",
        "[2556]\ttrain-poisson-nloglik:2.259273\tval-poisson-nloglik:2.414774\n"
       ]
      },
      {
       "output_type": "stream",
       "stream": "stderr",
       "text": [
        "[2557]\ttrain-poisson-nloglik:2.259164\tval-poisson-nloglik:2.414672\n",
        "[2558]\ttrain-poisson-nloglik:2.259114\tval-poisson-nloglik:2.414641\n"
       ]
      },
      {
       "output_type": "stream",
       "stream": "stderr",
       "text": [
        "[2559]\ttrain-poisson-nloglik:2.259033\tval-poisson-nloglik:2.414573\n",
        "[2560]\ttrain-poisson-nloglik:2.258883\tval-poisson-nloglik:2.414450\n"
       ]
      },
      {
       "output_type": "stream",
       "stream": "stderr",
       "text": [
        "[2561]\ttrain-poisson-nloglik:2.258846\tval-poisson-nloglik:2.414416\n",
        "[2562]\ttrain-poisson-nloglik:2.258760\tval-poisson-nloglik:2.414332\n"
       ]
      },
      {
       "output_type": "stream",
       "stream": "stderr",
       "text": [
        "[2563]\ttrain-poisson-nloglik:2.258689\tval-poisson-nloglik:2.414268\n",
        "[2564]\ttrain-poisson-nloglik:2.258563\tval-poisson-nloglik:2.414177\n"
       ]
      },
      {
       "output_type": "stream",
       "stream": "stderr",
       "text": [
        "[2565]\ttrain-poisson-nloglik:2.258478\tval-poisson-nloglik:2.414106\n",
        "[2566]\ttrain-poisson-nloglik:2.258421\tval-poisson-nloglik:2.414068\n"
       ]
      },
      {
       "output_type": "stream",
       "stream": "stderr",
       "text": [
        "[2567]\ttrain-poisson-nloglik:2.258359\tval-poisson-nloglik:2.414040\n",
        "[2568]\ttrain-poisson-nloglik:2.258287\tval-poisson-nloglik:2.413985\n"
       ]
      },
      {
       "output_type": "stream",
       "stream": "stderr",
       "text": [
        "[2569]\ttrain-poisson-nloglik:2.258203\tval-poisson-nloglik:2.413920\n",
        "[2570]\ttrain-poisson-nloglik:2.258123\tval-poisson-nloglik:2.413855\n"
       ]
      },
      {
       "output_type": "stream",
       "stream": "stderr",
       "text": [
        "[2571]\ttrain-poisson-nloglik:2.258077\tval-poisson-nloglik:2.413815\n",
        "[2572]\ttrain-poisson-nloglik:2.258015\tval-poisson-nloglik:2.413780\n"
       ]
      },
      {
       "output_type": "stream",
       "stream": "stderr",
       "text": [
        "[2573]\ttrain-poisson-nloglik:2.257975\tval-poisson-nloglik:2.413743\n",
        "[2574]\ttrain-poisson-nloglik:2.257863\tval-poisson-nloglik:2.413657\n"
       ]
      },
      {
       "output_type": "stream",
       "stream": "stderr",
       "text": [
        "[2575]\ttrain-poisson-nloglik:2.257789\tval-poisson-nloglik:2.413588\n",
        "[2576]\ttrain-poisson-nloglik:2.257687\tval-poisson-nloglik:2.413500\n"
       ]
      },
      {
       "output_type": "stream",
       "stream": "stderr",
       "text": [
        "[2577]\ttrain-poisson-nloglik:2.257629\tval-poisson-nloglik:2.413448\n",
        "[2578]\ttrain-poisson-nloglik:2.257528\tval-poisson-nloglik:2.413373\n"
       ]
      },
      {
       "output_type": "stream",
       "stream": "stderr",
       "text": [
        "[2579]\ttrain-poisson-nloglik:2.257422\tval-poisson-nloglik:2.413302\n",
        "[2580]\ttrain-poisson-nloglik:2.257367\tval-poisson-nloglik:2.413262\n"
       ]
      },
      {
       "output_type": "stream",
       "stream": "stderr",
       "text": [
        "[2581]\ttrain-poisson-nloglik:2.257215\tval-poisson-nloglik:2.413146\n",
        "[2582]\ttrain-poisson-nloglik:2.257114\tval-poisson-nloglik:2.413066\n"
       ]
      },
      {
       "output_type": "stream",
       "stream": "stderr",
       "text": [
        "[2583]\ttrain-poisson-nloglik:2.257033\tval-poisson-nloglik:2.412997\n",
        "[2584]\ttrain-poisson-nloglik:2.256984\tval-poisson-nloglik:2.412959\n"
       ]
      },
      {
       "output_type": "stream",
       "stream": "stderr",
       "text": [
        "[2585]\ttrain-poisson-nloglik:2.256918\tval-poisson-nloglik:2.412903\n",
        "[2586]\ttrain-poisson-nloglik:2.256897\tval-poisson-nloglik:2.412883\n"
       ]
      },
      {
       "output_type": "stream",
       "stream": "stderr",
       "text": [
        "[2587]\ttrain-poisson-nloglik:2.256834\tval-poisson-nloglik:2.412838\n",
        "[2588]\ttrain-poisson-nloglik:2.256772\tval-poisson-nloglik:2.412783\n"
       ]
      },
      {
       "output_type": "stream",
       "stream": "stderr",
       "text": [
        "[2589]\ttrain-poisson-nloglik:2.256651\tval-poisson-nloglik:2.412694\n",
        "[2590]\ttrain-poisson-nloglik:2.256621\tval-poisson-nloglik:2.412670\n"
       ]
      },
      {
       "output_type": "stream",
       "stream": "stderr",
       "text": [
        "[2591]\ttrain-poisson-nloglik:2.256487\tval-poisson-nloglik:2.412552\n",
        "[2592]\ttrain-poisson-nloglik:2.256387\tval-poisson-nloglik:2.412468\n"
       ]
      },
      {
       "output_type": "stream",
       "stream": "stderr",
       "text": [
        "[2593]\ttrain-poisson-nloglik:2.256236\tval-poisson-nloglik:2.412342\n",
        "[2594]\ttrain-poisson-nloglik:2.256151\tval-poisson-nloglik:2.412277\n"
       ]
      },
      {
       "output_type": "stream",
       "stream": "stderr",
       "text": [
        "[2595]\ttrain-poisson-nloglik:2.256077\tval-poisson-nloglik:2.412213\n",
        "[2596]\ttrain-poisson-nloglik:2.256029\tval-poisson-nloglik:2.412180\n"
       ]
      },
      {
       "output_type": "stream",
       "stream": "stderr",
       "text": [
        "[2597]\ttrain-poisson-nloglik:2.255930\tval-poisson-nloglik:2.412101\n",
        "[2598]\ttrain-poisson-nloglik:2.255844\tval-poisson-nloglik:2.412043\n"
       ]
      },
      {
       "output_type": "stream",
       "stream": "stderr",
       "text": [
        "[2599]\ttrain-poisson-nloglik:2.255733\tval-poisson-nloglik:2.411947\n",
        "[2600]\ttrain-poisson-nloglik:2.255688\tval-poisson-nloglik:2.411910\n"
       ]
      },
      {
       "output_type": "stream",
       "stream": "stderr",
       "text": [
        "[2601]\ttrain-poisson-nloglik:2.255546\tval-poisson-nloglik:2.411797\n",
        "[2602]\ttrain-poisson-nloglik:2.255422\tval-poisson-nloglik:2.411692\n"
       ]
      },
      {
       "output_type": "stream",
       "stream": "stderr",
       "text": [
        "[2603]\ttrain-poisson-nloglik:2.255331\tval-poisson-nloglik:2.411615\n",
        "[2604]\ttrain-poisson-nloglik:2.255241\tval-poisson-nloglik:2.411537\n"
       ]
      },
      {
       "output_type": "stream",
       "stream": "stderr",
       "text": [
        "[2605]\ttrain-poisson-nloglik:2.255205\tval-poisson-nloglik:2.411510\n",
        "[2606]\ttrain-poisson-nloglik:2.255145\tval-poisson-nloglik:2.411463\n"
       ]
      },
      {
       "output_type": "stream",
       "stream": "stderr",
       "text": [
        "[2607]\ttrain-poisson-nloglik:2.255082\tval-poisson-nloglik:2.411406\n",
        "[2608]\ttrain-poisson-nloglik:2.254954\tval-poisson-nloglik:2.411300\n"
       ]
      },
      {
       "output_type": "stream",
       "stream": "stderr",
       "text": [
        "[2609]\ttrain-poisson-nloglik:2.254811\tval-poisson-nloglik:2.411190\n",
        "[2610]\ttrain-poisson-nloglik:2.254710\tval-poisson-nloglik:2.411110\n"
       ]
      },
      {
       "output_type": "stream",
       "stream": "stderr",
       "text": [
        "[2611]\ttrain-poisson-nloglik:2.254672\tval-poisson-nloglik:2.411076\n",
        "[2612]\ttrain-poisson-nloglik:2.254639\tval-poisson-nloglik:2.411057\n"
       ]
      },
      {
       "output_type": "stream",
       "stream": "stderr",
       "text": [
        "[2613]\ttrain-poisson-nloglik:2.254535\tval-poisson-nloglik:2.410986\n",
        "[2614]\ttrain-poisson-nloglik:2.254500\tval-poisson-nloglik:2.410960\n"
       ]
      },
      {
       "output_type": "stream",
       "stream": "stderr",
       "text": [
        "[2615]\ttrain-poisson-nloglik:2.254461\tval-poisson-nloglik:2.410922\n",
        "[2616]\ttrain-poisson-nloglik:2.254416\tval-poisson-nloglik:2.410891\n"
       ]
      },
      {
       "output_type": "stream",
       "stream": "stderr",
       "text": [
        "[2617]\ttrain-poisson-nloglik:2.254345\tval-poisson-nloglik:2.410845\n",
        "[2618]\ttrain-poisson-nloglik:2.254286\tval-poisson-nloglik:2.410800\n"
       ]
      },
      {
       "output_type": "stream",
       "stream": "stderr",
       "text": [
        "[2619]\ttrain-poisson-nloglik:2.254199\tval-poisson-nloglik:2.410722\n",
        "[2620]\ttrain-poisson-nloglik:2.254099\tval-poisson-nloglik:2.410667\n"
       ]
      },
      {
       "output_type": "stream",
       "stream": "stderr",
       "text": [
        "[2621]\ttrain-poisson-nloglik:2.254040\tval-poisson-nloglik:2.410623\n",
        "[2622]\ttrain-poisson-nloglik:2.253996\tval-poisson-nloglik:2.410585\n"
       ]
      },
      {
       "output_type": "stream",
       "stream": "stderr",
       "text": [
        "[2623]\ttrain-poisson-nloglik:2.253899\tval-poisson-nloglik:2.410507\n",
        "[2624]\ttrain-poisson-nloglik:2.253837\tval-poisson-nloglik:2.410462\n"
       ]
      },
      {
       "output_type": "stream",
       "stream": "stderr",
       "text": [
        "[2625]\ttrain-poisson-nloglik:2.253751\tval-poisson-nloglik:2.410400\n",
        "[2626]\ttrain-poisson-nloglik:2.253683\tval-poisson-nloglik:2.410351\n"
       ]
      },
      {
       "output_type": "stream",
       "stream": "stderr",
       "text": [
        "[2627]\ttrain-poisson-nloglik:2.253619\tval-poisson-nloglik:2.410309\n",
        "[2628]\ttrain-poisson-nloglik:2.253552\tval-poisson-nloglik:2.410262\n"
       ]
      },
      {
       "output_type": "stream",
       "stream": "stderr",
       "text": [
        "[2629]\ttrain-poisson-nloglik:2.253464\tval-poisson-nloglik:2.410197\n",
        "[2630]\ttrain-poisson-nloglik:2.253407\tval-poisson-nloglik:2.410151\n"
       ]
      },
      {
       "output_type": "stream",
       "stream": "stderr",
       "text": [
        "[2631]\ttrain-poisson-nloglik:2.253327\tval-poisson-nloglik:2.410086\n",
        "[2632]\ttrain-poisson-nloglik:2.253278\tval-poisson-nloglik:2.410046\n"
       ]
      },
      {
       "output_type": "stream",
       "stream": "stderr",
       "text": [
        "[2633]\ttrain-poisson-nloglik:2.253146\tval-poisson-nloglik:2.409937\n",
        "[2634]\ttrain-poisson-nloglik:2.253099\tval-poisson-nloglik:2.409896\n"
       ]
      },
      {
       "output_type": "stream",
       "stream": "stderr",
       "text": [
        "[2635]\ttrain-poisson-nloglik:2.253037\tval-poisson-nloglik:2.409856\n",
        "[2636]\ttrain-poisson-nloglik:2.252906\tval-poisson-nloglik:2.409752\n"
       ]
      },
      {
       "output_type": "stream",
       "stream": "stderr",
       "text": [
        "[2637]\ttrain-poisson-nloglik:2.252831\tval-poisson-nloglik:2.409701\n",
        "[2638]\ttrain-poisson-nloglik:2.252774\tval-poisson-nloglik:2.409645\n"
       ]
      },
      {
       "output_type": "stream",
       "stream": "stderr",
       "text": [
        "[2639]\ttrain-poisson-nloglik:2.252629\tval-poisson-nloglik:2.409526\n",
        "[2640]\ttrain-poisson-nloglik:2.252534\tval-poisson-nloglik:2.409456\n"
       ]
      },
      {
       "output_type": "stream",
       "stream": "stderr",
       "text": [
        "[2641]\ttrain-poisson-nloglik:2.252473\tval-poisson-nloglik:2.409392\n",
        "[2642]\ttrain-poisson-nloglik:2.252431\tval-poisson-nloglik:2.409369\n"
       ]
      },
      {
       "output_type": "stream",
       "stream": "stderr",
       "text": [
        "[2643]\ttrain-poisson-nloglik:2.252393\tval-poisson-nloglik:2.409316\n",
        "[2644]\ttrain-poisson-nloglik:2.252332\tval-poisson-nloglik:2.409271\n"
       ]
      },
      {
       "output_type": "stream",
       "stream": "stderr",
       "text": [
        "[2645]\ttrain-poisson-nloglik:2.252281\tval-poisson-nloglik:2.409235\n",
        "[2646]\ttrain-poisson-nloglik:2.252219\tval-poisson-nloglik:2.409195\n"
       ]
      },
      {
       "output_type": "stream",
       "stream": "stderr",
       "text": [
        "[2647]\ttrain-poisson-nloglik:2.252137\tval-poisson-nloglik:2.409127\n",
        "[2648]\ttrain-poisson-nloglik:2.252048\tval-poisson-nloglik:2.409053\n"
       ]
      },
      {
       "output_type": "stream",
       "stream": "stderr",
       "text": [
        "[2649]\ttrain-poisson-nloglik:2.251992\tval-poisson-nloglik:2.409000\n",
        "[2650]\ttrain-poisson-nloglik:2.251846\tval-poisson-nloglik:2.408887\n"
       ]
      },
      {
       "output_type": "stream",
       "stream": "stderr",
       "text": [
        "[2651]\ttrain-poisson-nloglik:2.251722\tval-poisson-nloglik:2.408792\n",
        "[2652]\ttrain-poisson-nloglik:2.251652\tval-poisson-nloglik:2.408731\n"
       ]
      },
      {
       "output_type": "stream",
       "stream": "stderr",
       "text": [
        "[2653]\ttrain-poisson-nloglik:2.251544\tval-poisson-nloglik:2.408636\n",
        "[2654]\ttrain-poisson-nloglik:2.251486\tval-poisson-nloglik:2.408587\n"
       ]
      },
      {
       "output_type": "stream",
       "stream": "stderr",
       "text": [
        "[2655]\ttrain-poisson-nloglik:2.251428\tval-poisson-nloglik:2.408537\n",
        "[2656]\ttrain-poisson-nloglik:2.251371\tval-poisson-nloglik:2.408497\n"
       ]
      },
      {
       "output_type": "stream",
       "stream": "stderr",
       "text": [
        "[2657]\ttrain-poisson-nloglik:2.251205\tval-poisson-nloglik:2.408360\n",
        "[2658]\ttrain-poisson-nloglik:2.251167\tval-poisson-nloglik:2.408324\n"
       ]
      },
      {
       "output_type": "stream",
       "stream": "stderr",
       "text": [
        "[2659]\ttrain-poisson-nloglik:2.251078\tval-poisson-nloglik:2.408267\n",
        "[2660]\ttrain-poisson-nloglik:2.250980\tval-poisson-nloglik:2.408193\n"
       ]
      },
      {
       "output_type": "stream",
       "stream": "stderr",
       "text": [
        "[2661]\ttrain-poisson-nloglik:2.250928\tval-poisson-nloglik:2.408153\n",
        "[2662]\ttrain-poisson-nloglik:2.250809\tval-poisson-nloglik:2.408065\n"
       ]
      },
      {
       "output_type": "stream",
       "stream": "stderr",
       "text": [
        "[2663]\ttrain-poisson-nloglik:2.250757\tval-poisson-nloglik:2.408005\n",
        "[2664]\ttrain-poisson-nloglik:2.250680\tval-poisson-nloglik:2.407946\n"
       ]
      },
      {
       "output_type": "stream",
       "stream": "stderr",
       "text": [
        "[2665]\ttrain-poisson-nloglik:2.250591\tval-poisson-nloglik:2.407884\n",
        "[2666]\ttrain-poisson-nloglik:2.250497\tval-poisson-nloglik:2.407800\n"
       ]
      },
      {
       "output_type": "stream",
       "stream": "stderr",
       "text": [
        "[2667]\ttrain-poisson-nloglik:2.250431\tval-poisson-nloglik:2.407757\n",
        "[2668]\ttrain-poisson-nloglik:2.250344\tval-poisson-nloglik:2.407687\n"
       ]
      },
      {
       "output_type": "stream",
       "stream": "stderr",
       "text": [
        "[2669]\ttrain-poisson-nloglik:2.250258\tval-poisson-nloglik:2.407623\n",
        "[2670]\ttrain-poisson-nloglik:2.250183\tval-poisson-nloglik:2.407569\n"
       ]
      },
      {
       "output_type": "stream",
       "stream": "stderr",
       "text": [
        "[2671]\ttrain-poisson-nloglik:2.250054\tval-poisson-nloglik:2.407480\n",
        "[2672]\ttrain-poisson-nloglik:2.249932\tval-poisson-nloglik:2.407380\n"
       ]
      },
      {
       "output_type": "stream",
       "stream": "stderr",
       "text": [
        "[2673]\ttrain-poisson-nloglik:2.249856\tval-poisson-nloglik:2.407327\n",
        "[2674]\ttrain-poisson-nloglik:2.249794\tval-poisson-nloglik:2.407275\n"
       ]
      },
      {
       "output_type": "stream",
       "stream": "stderr",
       "text": [
        "[2675]\ttrain-poisson-nloglik:2.249654\tval-poisson-nloglik:2.407161\n",
        "[2676]\ttrain-poisson-nloglik:2.249524\tval-poisson-nloglik:2.407045\n"
       ]
      },
      {
       "output_type": "stream",
       "stream": "stderr",
       "text": [
        "[2677]\ttrain-poisson-nloglik:2.249477\tval-poisson-nloglik:2.407017\n",
        "[2678]\ttrain-poisson-nloglik:2.249379\tval-poisson-nloglik:2.406941\n"
       ]
      },
      {
       "output_type": "stream",
       "stream": "stderr",
       "text": [
        "[2679]\ttrain-poisson-nloglik:2.249339\tval-poisson-nloglik:2.406909\n",
        "[2680]\ttrain-poisson-nloglik:2.249264\tval-poisson-nloglik:2.406859\n"
       ]
      },
      {
       "output_type": "stream",
       "stream": "stderr",
       "text": [
        "[2681]\ttrain-poisson-nloglik:2.249173\tval-poisson-nloglik:2.406779\n",
        "[2682]\ttrain-poisson-nloglik:2.249108\tval-poisson-nloglik:2.406731\n"
       ]
      },
      {
       "output_type": "stream",
       "stream": "stderr",
       "text": [
        "[2683]\ttrain-poisson-nloglik:2.249051\tval-poisson-nloglik:2.406688\n",
        "[2684]\ttrain-poisson-nloglik:2.248951\tval-poisson-nloglik:2.406624\n"
       ]
      },
      {
       "output_type": "stream",
       "stream": "stderr",
       "text": [
        "[2685]\ttrain-poisson-nloglik:2.248850\tval-poisson-nloglik:2.406539\n",
        "[2686]\ttrain-poisson-nloglik:2.248793\tval-poisson-nloglik:2.406492\n"
       ]
      },
      {
       "output_type": "stream",
       "stream": "stderr",
       "text": [
        "[2687]\ttrain-poisson-nloglik:2.248706\tval-poisson-nloglik:2.406410\n",
        "[2688]\ttrain-poisson-nloglik:2.248590\tval-poisson-nloglik:2.406322\n"
       ]
      },
      {
       "output_type": "stream",
       "stream": "stderr",
       "text": [
        "[2689]\ttrain-poisson-nloglik:2.248523\tval-poisson-nloglik:2.406267\n",
        "[2690]\ttrain-poisson-nloglik:2.248406\tval-poisson-nloglik:2.406156\n"
       ]
      },
      {
       "output_type": "stream",
       "stream": "stderr",
       "text": [
        "[2691]\ttrain-poisson-nloglik:2.248350\tval-poisson-nloglik:2.406124\n",
        "[2692]\ttrain-poisson-nloglik:2.248279\tval-poisson-nloglik:2.406073\n"
       ]
      },
      {
       "output_type": "stream",
       "stream": "stderr",
       "text": [
        "[2693]\ttrain-poisson-nloglik:2.248233\tval-poisson-nloglik:2.406040\n",
        "[2694]\ttrain-poisson-nloglik:2.248154\tval-poisson-nloglik:2.405985\n"
       ]
      },
      {
       "output_type": "stream",
       "stream": "stderr",
       "text": [
        "[2695]\ttrain-poisson-nloglik:2.248071\tval-poisson-nloglik:2.405910\n",
        "[2696]\ttrain-poisson-nloglik:2.248009\tval-poisson-nloglik:2.405862\n"
       ]
      },
      {
       "output_type": "stream",
       "stream": "stderr",
       "text": [
        "[2697]\ttrain-poisson-nloglik:2.247978\tval-poisson-nloglik:2.405830\n",
        "[2698]\ttrain-poisson-nloglik:2.247908\tval-poisson-nloglik:2.405779\n"
       ]
      },
      {
       "output_type": "stream",
       "stream": "stderr",
       "text": [
        "[2699]\ttrain-poisson-nloglik:2.247822\tval-poisson-nloglik:2.405699\n",
        "[2700]\ttrain-poisson-nloglik:2.247708\tval-poisson-nloglik:2.405604\n"
       ]
      },
      {
       "output_type": "stream",
       "stream": "stderr",
       "text": [
        "[2701]\ttrain-poisson-nloglik:2.247630\tval-poisson-nloglik:2.405529\n",
        "[2702]\ttrain-poisson-nloglik:2.247508\tval-poisson-nloglik:2.405433\n"
       ]
      },
      {
       "output_type": "stream",
       "stream": "stderr",
       "text": [
        "[2703]\ttrain-poisson-nloglik:2.247468\tval-poisson-nloglik:2.405392\n",
        "[2704]\ttrain-poisson-nloglik:2.247365\tval-poisson-nloglik:2.405315\n"
       ]
      },
      {
       "output_type": "stream",
       "stream": "stderr",
       "text": [
        "[2705]\ttrain-poisson-nloglik:2.247215\tval-poisson-nloglik:2.405210\n",
        "[2706]\ttrain-poisson-nloglik:2.247126\tval-poisson-nloglik:2.405142\n"
       ]
      },
      {
       "output_type": "stream",
       "stream": "stderr",
       "text": [
        "[2707]\ttrain-poisson-nloglik:2.247081\tval-poisson-nloglik:2.405108\n",
        "[2708]\ttrain-poisson-nloglik:2.247020\tval-poisson-nloglik:2.405073\n"
       ]
      },
      {
       "output_type": "stream",
       "stream": "stderr",
       "text": [
        "[2709]\ttrain-poisson-nloglik:2.246969\tval-poisson-nloglik:2.405032\n",
        "[2710]\ttrain-poisson-nloglik:2.246916\tval-poisson-nloglik:2.404973\n"
       ]
      },
      {
       "output_type": "stream",
       "stream": "stderr",
       "text": [
        "[2711]\ttrain-poisson-nloglik:2.246811\tval-poisson-nloglik:2.404908\n",
        "[2712]\ttrain-poisson-nloglik:2.246744\tval-poisson-nloglik:2.404852\n"
       ]
      },
      {
       "output_type": "stream",
       "stream": "stderr",
       "text": [
        "[2713]\ttrain-poisson-nloglik:2.246685\tval-poisson-nloglik:2.404814\n",
        "[2714]\ttrain-poisson-nloglik:2.246616\tval-poisson-nloglik:2.404755\n"
       ]
      },
      {
       "output_type": "stream",
       "stream": "stderr",
       "text": [
        "[2715]\ttrain-poisson-nloglik:2.246520\tval-poisson-nloglik:2.404685\n",
        "[2716]\ttrain-poisson-nloglik:2.246481\tval-poisson-nloglik:2.404655\n"
       ]
      },
      {
       "output_type": "stream",
       "stream": "stderr",
       "text": [
        "[2717]\ttrain-poisson-nloglik:2.246431\tval-poisson-nloglik:2.404615\n",
        "[2718]\ttrain-poisson-nloglik:2.246335\tval-poisson-nloglik:2.404530\n"
       ]
      },
      {
       "output_type": "stream",
       "stream": "stderr",
       "text": [
        "[2719]\ttrain-poisson-nloglik:2.246249\tval-poisson-nloglik:2.404479\n",
        "[2720]\ttrain-poisson-nloglik:2.246169\tval-poisson-nloglik:2.404414\n"
       ]
      },
      {
       "output_type": "stream",
       "stream": "stderr",
       "text": [
        "[2721]\ttrain-poisson-nloglik:2.246104\tval-poisson-nloglik:2.404354\n",
        "[2722]\ttrain-poisson-nloglik:2.246039\tval-poisson-nloglik:2.404303\n"
       ]
      },
      {
       "output_type": "stream",
       "stream": "stderr",
       "text": [
        "[2723]\ttrain-poisson-nloglik:2.245928\tval-poisson-nloglik:2.404202\n",
        "[2724]\ttrain-poisson-nloglik:2.245826\tval-poisson-nloglik:2.404124\n"
       ]
      },
      {
       "output_type": "stream",
       "stream": "stderr",
       "text": [
        "[2725]\ttrain-poisson-nloglik:2.245734\tval-poisson-nloglik:2.404035\n",
        "[2726]\ttrain-poisson-nloglik:2.245669\tval-poisson-nloglik:2.403986\n"
       ]
      },
      {
       "output_type": "stream",
       "stream": "stderr",
       "text": [
        "[2727]\ttrain-poisson-nloglik:2.245632\tval-poisson-nloglik:2.403954\n",
        "[2728]\ttrain-poisson-nloglik:2.245556\tval-poisson-nloglik:2.403892\n"
       ]
      },
      {
       "output_type": "stream",
       "stream": "stderr",
       "text": [
        "[2729]\ttrain-poisson-nloglik:2.245411\tval-poisson-nloglik:2.403779\n",
        "[2730]\ttrain-poisson-nloglik:2.245282\tval-poisson-nloglik:2.403671\n"
       ]
      },
      {
       "output_type": "stream",
       "stream": "stderr",
       "text": [
        "[2731]\ttrain-poisson-nloglik:2.245128\tval-poisson-nloglik:2.403540\n",
        "[2732]\ttrain-poisson-nloglik:2.245056\tval-poisson-nloglik:2.403481\n"
       ]
      },
      {
       "output_type": "stream",
       "stream": "stderr",
       "text": [
        "[2733]\ttrain-poisson-nloglik:2.245007\tval-poisson-nloglik:2.403440\n",
        "[2734]\ttrain-poisson-nloglik:2.244945\tval-poisson-nloglik:2.403395\n"
       ]
      },
      {
       "output_type": "stream",
       "stream": "stderr",
       "text": [
        "[2735]\ttrain-poisson-nloglik:2.244928\tval-poisson-nloglik:2.403385\n",
        "[2736]\ttrain-poisson-nloglik:2.244885\tval-poisson-nloglik:2.403353\n"
       ]
      },
      {
       "output_type": "stream",
       "stream": "stderr",
       "text": [
        "[2737]\ttrain-poisson-nloglik:2.244796\tval-poisson-nloglik:2.403282\n",
        "[2738]\ttrain-poisson-nloglik:2.244736\tval-poisson-nloglik:2.403230\n"
       ]
      },
      {
       "output_type": "stream",
       "stream": "stderr",
       "text": [
        "[2739]\ttrain-poisson-nloglik:2.244680\tval-poisson-nloglik:2.403195\n",
        "[2740]\ttrain-poisson-nloglik:2.244623\tval-poisson-nloglik:2.403146\n"
       ]
      },
      {
       "output_type": "stream",
       "stream": "stderr",
       "text": [
        "[2741]\ttrain-poisson-nloglik:2.244512\tval-poisson-nloglik:2.403063\n",
        "[2742]\ttrain-poisson-nloglik:2.244370\tval-poisson-nloglik:2.402931\n"
       ]
      },
      {
       "output_type": "stream",
       "stream": "stderr",
       "text": [
        "[2743]\ttrain-poisson-nloglik:2.244325\tval-poisson-nloglik:2.402892\n",
        "[2744]\ttrain-poisson-nloglik:2.244260\tval-poisson-nloglik:2.402846\n"
       ]
      },
      {
       "output_type": "stream",
       "stream": "stderr",
       "text": [
        "[2745]\ttrain-poisson-nloglik:2.244207\tval-poisson-nloglik:2.402792\n",
        "[2746]\ttrain-poisson-nloglik:2.244106\tval-poisson-nloglik:2.402717\n"
       ]
      },
      {
       "output_type": "stream",
       "stream": "stderr",
       "text": [
        "[2747]\ttrain-poisson-nloglik:2.244069\tval-poisson-nloglik:2.402677\n",
        "[2748]\ttrain-poisson-nloglik:2.244033\tval-poisson-nloglik:2.402649\n"
       ]
      },
      {
       "output_type": "stream",
       "stream": "stderr",
       "text": [
        "[2749]\ttrain-poisson-nloglik:2.243883\tval-poisson-nloglik:2.402555\n",
        "[2750]\ttrain-poisson-nloglik:2.243801\tval-poisson-nloglik:2.402504\n"
       ]
      },
      {
       "output_type": "stream",
       "stream": "stderr",
       "text": [
        "[2751]\ttrain-poisson-nloglik:2.243688\tval-poisson-nloglik:2.402403\n",
        "[2752]\ttrain-poisson-nloglik:2.243636\tval-poisson-nloglik:2.402352\n"
       ]
      },
      {
       "output_type": "stream",
       "stream": "stderr",
       "text": [
        "[2753]\ttrain-poisson-nloglik:2.243601\tval-poisson-nloglik:2.402320\n",
        "[2754]\ttrain-poisson-nloglik:2.243566\tval-poisson-nloglik:2.402288\n"
       ]
      },
      {
       "output_type": "stream",
       "stream": "stderr",
       "text": [
        "[2755]\ttrain-poisson-nloglik:2.243481\tval-poisson-nloglik:2.402207\n",
        "[2756]\ttrain-poisson-nloglik:2.243403\tval-poisson-nloglik:2.402157\n"
       ]
      },
      {
       "output_type": "stream",
       "stream": "stderr",
       "text": [
        "[2757]\ttrain-poisson-nloglik:2.243312\tval-poisson-nloglik:2.402096\n",
        "[2758]\ttrain-poisson-nloglik:2.243242\tval-poisson-nloglik:2.402039\n"
       ]
      },
      {
       "output_type": "stream",
       "stream": "stderr",
       "text": [
        "[2759]\ttrain-poisson-nloglik:2.243148\tval-poisson-nloglik:2.401964\n",
        "[2760]\ttrain-poisson-nloglik:2.243032\tval-poisson-nloglik:2.401869\n"
       ]
      },
      {
       "output_type": "stream",
       "stream": "stderr",
       "text": [
        "[2761]\ttrain-poisson-nloglik:2.242939\tval-poisson-nloglik:2.401809\n",
        "[2762]\ttrain-poisson-nloglik:2.242903\tval-poisson-nloglik:2.401789\n"
       ]
      },
      {
       "output_type": "stream",
       "stream": "stderr",
       "text": [
        "[2763]\ttrain-poisson-nloglik:2.242821\tval-poisson-nloglik:2.401736\n",
        "[2764]\ttrain-poisson-nloglik:2.242742\tval-poisson-nloglik:2.401692\n"
       ]
      },
      {
       "output_type": "stream",
       "stream": "stderr",
       "text": [
        "[2765]\ttrain-poisson-nloglik:2.242673\tval-poisson-nloglik:2.401635\n",
        "[2766]\ttrain-poisson-nloglik:2.242556\tval-poisson-nloglik:2.401552\n"
       ]
      },
      {
       "output_type": "stream",
       "stream": "stderr",
       "text": [
        "[2767]\ttrain-poisson-nloglik:2.242473\tval-poisson-nloglik:2.401483\n",
        "[2768]\ttrain-poisson-nloglik:2.242420\tval-poisson-nloglik:2.401429\n"
       ]
      },
      {
       "output_type": "stream",
       "stream": "stderr",
       "text": [
        "[2769]\ttrain-poisson-nloglik:2.242302\tval-poisson-nloglik:2.401331\n",
        "[2770]\ttrain-poisson-nloglik:2.242247\tval-poisson-nloglik:2.401308\n"
       ]
      },
      {
       "output_type": "stream",
       "stream": "stderr",
       "text": [
        "[2771]\ttrain-poisson-nloglik:2.242160\tval-poisson-nloglik:2.401256\n",
        "[2772]\ttrain-poisson-nloglik:2.242117\tval-poisson-nloglik:2.401219\n"
       ]
      },
      {
       "output_type": "stream",
       "stream": "stderr",
       "text": [
        "[2773]\ttrain-poisson-nloglik:2.242008\tval-poisson-nloglik:2.401119\n",
        "[2774]\ttrain-poisson-nloglik:2.241952\tval-poisson-nloglik:2.401072\n"
       ]
      },
      {
       "output_type": "stream",
       "stream": "stderr",
       "text": [
        "[2775]\ttrain-poisson-nloglik:2.241893\tval-poisson-nloglik:2.401031\n",
        "[2776]\ttrain-poisson-nloglik:2.241803\tval-poisson-nloglik:2.400949\n"
       ]
      },
      {
       "output_type": "stream",
       "stream": "stderr",
       "text": [
        "[2777]\ttrain-poisson-nloglik:2.241745\tval-poisson-nloglik:2.400906\n",
        "[2778]\ttrain-poisson-nloglik:2.241698\tval-poisson-nloglik:2.400869\n"
       ]
      },
      {
       "output_type": "stream",
       "stream": "stderr",
       "text": [
        "[2779]\ttrain-poisson-nloglik:2.241641\tval-poisson-nloglik:2.400823\n",
        "[2780]\ttrain-poisson-nloglik:2.241599\tval-poisson-nloglik:2.400794\n"
       ]
      },
      {
       "output_type": "stream",
       "stream": "stderr",
       "text": [
        "[2781]\ttrain-poisson-nloglik:2.241529\tval-poisson-nloglik:2.400750\n",
        "[2782]\ttrain-poisson-nloglik:2.241463\tval-poisson-nloglik:2.400706\n"
       ]
      },
      {
       "output_type": "stream",
       "stream": "stderr",
       "text": [
        "[2783]\ttrain-poisson-nloglik:2.241323\tval-poisson-nloglik:2.400611\n",
        "[2784]\ttrain-poisson-nloglik:2.241272\tval-poisson-nloglik:2.400569\n"
       ]
      },
      {
       "output_type": "stream",
       "stream": "stderr",
       "text": [
        "[2785]\ttrain-poisson-nloglik:2.241152\tval-poisson-nloglik:2.400476\n",
        "[2786]\ttrain-poisson-nloglik:2.241090\tval-poisson-nloglik:2.400430\n"
       ]
      },
      {
       "output_type": "stream",
       "stream": "stderr",
       "text": [
        "[2787]\ttrain-poisson-nloglik:2.241055\tval-poisson-nloglik:2.400397\n",
        "[2788]\ttrain-poisson-nloglik:2.240996\tval-poisson-nloglik:2.400351\n"
       ]
      },
      {
       "output_type": "stream",
       "stream": "stderr",
       "text": [
        "[2789]\ttrain-poisson-nloglik:2.240853\tval-poisson-nloglik:2.400243\n",
        "[2790]\ttrain-poisson-nloglik:2.240769\tval-poisson-nloglik:2.400191\n"
       ]
      },
      {
       "output_type": "stream",
       "stream": "stderr",
       "text": [
        "[2791]\ttrain-poisson-nloglik:2.240713\tval-poisson-nloglik:2.400150\n",
        "[2792]\ttrain-poisson-nloglik:2.240621\tval-poisson-nloglik:2.400071\n"
       ]
      },
      {
       "output_type": "stream",
       "stream": "stderr",
       "text": [
        "[2793]\ttrain-poisson-nloglik:2.240480\tval-poisson-nloglik:2.399957\n",
        "[2794]\ttrain-poisson-nloglik:2.240446\tval-poisson-nloglik:2.399925\n"
       ]
      },
      {
       "output_type": "stream",
       "stream": "stderr",
       "text": [
        "[2795]\ttrain-poisson-nloglik:2.240381\tval-poisson-nloglik:2.399893\n",
        "[2796]\ttrain-poisson-nloglik:2.240349\tval-poisson-nloglik:2.399871\n"
       ]
      },
      {
       "output_type": "stream",
       "stream": "stderr",
       "text": [
        "[2797]\ttrain-poisson-nloglik:2.240278\tval-poisson-nloglik:2.399822\n",
        "[2798]\ttrain-poisson-nloglik:2.240184\tval-poisson-nloglik:2.399744\n"
       ]
      },
      {
       "output_type": "stream",
       "stream": "stderr",
       "text": [
        "[2799]\ttrain-poisson-nloglik:2.240102\tval-poisson-nloglik:2.399672\n",
        "[2800]\ttrain-poisson-nloglik:2.240051\tval-poisson-nloglik:2.399637\n"
       ]
      },
      {
       "output_type": "stream",
       "stream": "stderr",
       "text": [
        "[2801]\ttrain-poisson-nloglik:2.240010\tval-poisson-nloglik:2.399616\n",
        "[2802]\ttrain-poisson-nloglik:2.239926\tval-poisson-nloglik:2.399543\n"
       ]
      },
      {
       "output_type": "stream",
       "stream": "stderr",
       "text": [
        "[2803]\ttrain-poisson-nloglik:2.239883\tval-poisson-nloglik:2.399499\n",
        "[2804]\ttrain-poisson-nloglik:2.239795\tval-poisson-nloglik:2.399432\n"
       ]
      },
      {
       "output_type": "stream",
       "stream": "stderr",
       "text": [
        "[2805]\ttrain-poisson-nloglik:2.239656\tval-poisson-nloglik:2.399329\n",
        "[2806]\ttrain-poisson-nloglik:2.239579\tval-poisson-nloglik:2.399279\n"
       ]
      },
      {
       "output_type": "stream",
       "stream": "stderr",
       "text": [
        "[2807]\ttrain-poisson-nloglik:2.239500\tval-poisson-nloglik:2.399210\n",
        "[2808]\ttrain-poisson-nloglik:2.239474\tval-poisson-nloglik:2.399177\n"
       ]
      },
      {
       "output_type": "stream",
       "stream": "stderr",
       "text": [
        "[2809]\ttrain-poisson-nloglik:2.239436\tval-poisson-nloglik:2.399141\n",
        "[2810]\ttrain-poisson-nloglik:2.239403\tval-poisson-nloglik:2.399114\n"
       ]
      },
      {
       "output_type": "stream",
       "stream": "stderr",
       "text": [
        "[2811]\ttrain-poisson-nloglik:2.239321\tval-poisson-nloglik:2.399049\n",
        "[2812]\ttrain-poisson-nloglik:2.239172\tval-poisson-nloglik:2.398922\n"
       ]
      },
      {
       "output_type": "stream",
       "stream": "stderr",
       "text": [
        "[2813]\ttrain-poisson-nloglik:2.239142\tval-poisson-nloglik:2.398899\n",
        "[2814]\ttrain-poisson-nloglik:2.239055\tval-poisson-nloglik:2.398826\n"
       ]
      },
      {
       "output_type": "stream",
       "stream": "stderr",
       "text": [
        "[2815]\ttrain-poisson-nloglik:2.238974\tval-poisson-nloglik:2.398750\n",
        "[2816]\ttrain-poisson-nloglik:2.238909\tval-poisson-nloglik:2.398697\n"
       ]
      },
      {
       "output_type": "stream",
       "stream": "stderr",
       "text": [
        "[2817]\ttrain-poisson-nloglik:2.238807\tval-poisson-nloglik:2.398649\n",
        "[2818]\ttrain-poisson-nloglik:2.238631\tval-poisson-nloglik:2.398508\n"
       ]
      },
      {
       "output_type": "stream",
       "stream": "stderr",
       "text": [
        "[2819]\ttrain-poisson-nloglik:2.238458\tval-poisson-nloglik:2.398371\n",
        "[2820]\ttrain-poisson-nloglik:2.238413\tval-poisson-nloglik:2.398327\n"
       ]
      },
      {
       "output_type": "stream",
       "stream": "stderr",
       "text": [
        "[2821]\ttrain-poisson-nloglik:2.238363\tval-poisson-nloglik:2.398294\n",
        "[2822]\ttrain-poisson-nloglik:2.238311\tval-poisson-nloglik:2.398265\n"
       ]
      },
      {
       "output_type": "stream",
       "stream": "stderr",
       "text": [
        "[2823]\ttrain-poisson-nloglik:2.238250\tval-poisson-nloglik:2.398220\n",
        "[2824]\ttrain-poisson-nloglik:2.238158\tval-poisson-nloglik:2.398115\n"
       ]
      },
      {
       "output_type": "stream",
       "stream": "stderr",
       "text": [
        "[2825]\ttrain-poisson-nloglik:2.238092\tval-poisson-nloglik:2.398061\n",
        "[2826]\ttrain-poisson-nloglik:2.238007\tval-poisson-nloglik:2.397986\n"
       ]
      },
      {
       "output_type": "stream",
       "stream": "stderr",
       "text": [
        "[2827]\ttrain-poisson-nloglik:2.237963\tval-poisson-nloglik:2.397949\n",
        "[2828]\ttrain-poisson-nloglik:2.237921\tval-poisson-nloglik:2.397920\n"
       ]
      },
      {
       "output_type": "stream",
       "stream": "stderr",
       "text": [
        "[2829]\ttrain-poisson-nloglik:2.237866\tval-poisson-nloglik:2.397887\n",
        "[2830]\ttrain-poisson-nloglik:2.237754\tval-poisson-nloglik:2.397810\n"
       ]
      },
      {
       "output_type": "stream",
       "stream": "stderr",
       "text": [
        "[2831]\ttrain-poisson-nloglik:2.237667\tval-poisson-nloglik:2.397750\n",
        "[2832]\ttrain-poisson-nloglik:2.237605\tval-poisson-nloglik:2.397693\n"
       ]
      },
      {
       "output_type": "stream",
       "stream": "stderr",
       "text": [
        "[2833]\ttrain-poisson-nloglik:2.237497\tval-poisson-nloglik:2.397607\n",
        "[2834]\ttrain-poisson-nloglik:2.237377\tval-poisson-nloglik:2.397511\n"
       ]
      },
      {
       "output_type": "stream",
       "stream": "stderr",
       "text": [
        "[2835]\ttrain-poisson-nloglik:2.237266\tval-poisson-nloglik:2.397413\n",
        "[2836]\ttrain-poisson-nloglik:2.237220\tval-poisson-nloglik:2.397386\n"
       ]
      },
      {
       "output_type": "stream",
       "stream": "stderr",
       "text": [
        "[2837]\ttrain-poisson-nloglik:2.237153\tval-poisson-nloglik:2.397315\n",
        "[2838]\ttrain-poisson-nloglik:2.237076\tval-poisson-nloglik:2.397253\n"
       ]
      },
      {
       "output_type": "stream",
       "stream": "stderr",
       "text": [
        "[2839]\ttrain-poisson-nloglik:2.236976\tval-poisson-nloglik:2.397174\n",
        "[2840]\ttrain-poisson-nloglik:2.236906\tval-poisson-nloglik:2.397106\n"
       ]
      },
      {
       "output_type": "stream",
       "stream": "stderr",
       "text": [
        "[2841]\ttrain-poisson-nloglik:2.236872\tval-poisson-nloglik:2.397072\n",
        "[2842]\ttrain-poisson-nloglik:2.236834\tval-poisson-nloglik:2.397036\n"
       ]
      },
      {
       "output_type": "stream",
       "stream": "stderr",
       "text": [
        "[2843]\ttrain-poisson-nloglik:2.236787\tval-poisson-nloglik:2.397003\n",
        "[2844]\ttrain-poisson-nloglik:2.236716\tval-poisson-nloglik:2.396946\n"
       ]
      },
      {
       "output_type": "stream",
       "stream": "stderr",
       "text": [
        "[2845]\ttrain-poisson-nloglik:2.236648\tval-poisson-nloglik:2.396893\n",
        "[2846]\ttrain-poisson-nloglik:2.236516\tval-poisson-nloglik:2.396780\n"
       ]
      },
      {
       "output_type": "stream",
       "stream": "stderr",
       "text": [
        "[2847]\ttrain-poisson-nloglik:2.236391\tval-poisson-nloglik:2.396686\n",
        "[2848]\ttrain-poisson-nloglik:2.236297\tval-poisson-nloglik:2.396606\n"
       ]
      },
      {
       "output_type": "stream",
       "stream": "stderr",
       "text": [
        "[2849]\ttrain-poisson-nloglik:2.236254\tval-poisson-nloglik:2.396576\n",
        "[2850]\ttrain-poisson-nloglik:2.236191\tval-poisson-nloglik:2.396522\n"
       ]
      },
      {
       "output_type": "stream",
       "stream": "stderr",
       "text": [
        "[2851]\ttrain-poisson-nloglik:2.236151\tval-poisson-nloglik:2.396486\n",
        "[2852]\ttrain-poisson-nloglik:2.236086\tval-poisson-nloglik:2.396433\n"
       ]
      },
      {
       "output_type": "stream",
       "stream": "stderr",
       "text": [
        "[2853]\ttrain-poisson-nloglik:2.236037\tval-poisson-nloglik:2.396394\n",
        "[2854]\ttrain-poisson-nloglik:2.236000\tval-poisson-nloglik:2.396366\n"
       ]
      },
      {
       "output_type": "stream",
       "stream": "stderr",
       "text": [
        "[2855]\ttrain-poisson-nloglik:2.235921\tval-poisson-nloglik:2.396287\n",
        "[2856]\ttrain-poisson-nloglik:2.235807\tval-poisson-nloglik:2.396196\n"
       ]
      },
      {
       "output_type": "stream",
       "stream": "stderr",
       "text": [
        "[2857]\ttrain-poisson-nloglik:2.235733\tval-poisson-nloglik:2.396136\n",
        "[2858]\ttrain-poisson-nloglik:2.235662\tval-poisson-nloglik:2.396082\n"
       ]
      },
      {
       "output_type": "stream",
       "stream": "stderr",
       "text": [
        "[2859]\ttrain-poisson-nloglik:2.235628\tval-poisson-nloglik:2.396056\n",
        "[2860]\ttrain-poisson-nloglik:2.235600\tval-poisson-nloglik:2.396021\n"
       ]
      },
      {
       "output_type": "stream",
       "stream": "stderr",
       "text": [
        "[2861]\ttrain-poisson-nloglik:2.235491\tval-poisson-nloglik:2.395941\n",
        "[2862]\ttrain-poisson-nloglik:2.235438\tval-poisson-nloglik:2.395892\n"
       ]
      },
      {
       "output_type": "stream",
       "stream": "stderr",
       "text": [
        "[2863]\ttrain-poisson-nloglik:2.235346\tval-poisson-nloglik:2.395821\n",
        "[2864]\ttrain-poisson-nloglik:2.235248\tval-poisson-nloglik:2.395743\n"
       ]
      },
      {
       "output_type": "stream",
       "stream": "stderr",
       "text": [
        "[2865]\ttrain-poisson-nloglik:2.235177\tval-poisson-nloglik:2.395703\n",
        "[2866]\ttrain-poisson-nloglik:2.235115\tval-poisson-nloglik:2.395648\n"
       ]
      },
      {
       "output_type": "stream",
       "stream": "stderr",
       "text": [
        "[2867]\ttrain-poisson-nloglik:2.234999\tval-poisson-nloglik:2.395543\n",
        "[2868]\ttrain-poisson-nloglik:2.234904\tval-poisson-nloglik:2.395476\n"
       ]
      },
      {
       "output_type": "stream",
       "stream": "stderr",
       "text": [
        "[2869]\ttrain-poisson-nloglik:2.234876\tval-poisson-nloglik:2.395460\n",
        "[2870]\ttrain-poisson-nloglik:2.234817\tval-poisson-nloglik:2.395428\n"
       ]
      },
      {
       "output_type": "stream",
       "stream": "stderr",
       "text": [
        "[2871]\ttrain-poisson-nloglik:2.234762\tval-poisson-nloglik:2.395388\n",
        "[2872]\ttrain-poisson-nloglik:2.234724\tval-poisson-nloglik:2.395358\n"
       ]
      },
      {
       "output_type": "stream",
       "stream": "stderr",
       "text": [
        "[2873]\ttrain-poisson-nloglik:2.234675\tval-poisson-nloglik:2.395323\n",
        "[2874]\ttrain-poisson-nloglik:2.234567\tval-poisson-nloglik:2.395243\n"
       ]
      },
      {
       "output_type": "stream",
       "stream": "stderr",
       "text": [
        "[2875]\ttrain-poisson-nloglik:2.234409\tval-poisson-nloglik:2.395104\n",
        "[2876]\ttrain-poisson-nloglik:2.234332\tval-poisson-nloglik:2.395050\n"
       ]
      },
      {
       "output_type": "stream",
       "stream": "stderr",
       "text": [
        "[2877]\ttrain-poisson-nloglik:2.234265\tval-poisson-nloglik:2.395004\n",
        "[2878]\ttrain-poisson-nloglik:2.234218\tval-poisson-nloglik:2.394947\n"
       ]
      },
      {
       "output_type": "stream",
       "stream": "stderr",
       "text": [
        "[2879]\ttrain-poisson-nloglik:2.234079\tval-poisson-nloglik:2.394837\n",
        "[2880]\ttrain-poisson-nloglik:2.233979\tval-poisson-nloglik:2.394767\n"
       ]
      },
      {
       "output_type": "stream",
       "stream": "stderr",
       "text": [
        "[2881]\ttrain-poisson-nloglik:2.233920\tval-poisson-nloglik:2.394720\n",
        "[2882]\ttrain-poisson-nloglik:2.233806\tval-poisson-nloglik:2.394616\n"
       ]
      },
      {
       "output_type": "stream",
       "stream": "stderr",
       "text": [
        "[2883]\ttrain-poisson-nloglik:2.233769\tval-poisson-nloglik:2.394583\n",
        "[2884]\ttrain-poisson-nloglik:2.233703\tval-poisson-nloglik:2.394542\n"
       ]
      },
      {
       "output_type": "stream",
       "stream": "stderr",
       "text": [
        "[2885]\ttrain-poisson-nloglik:2.233605\tval-poisson-nloglik:2.394484\n",
        "[2886]\ttrain-poisson-nloglik:2.233486\tval-poisson-nloglik:2.394385\n"
       ]
      },
      {
       "output_type": "stream",
       "stream": "stderr",
       "text": [
        "[2887]\ttrain-poisson-nloglik:2.233421\tval-poisson-nloglik:2.394333\n",
        "[2888]\ttrain-poisson-nloglik:2.233353\tval-poisson-nloglik:2.394276\n"
       ]
      },
      {
       "output_type": "stream",
       "stream": "stderr",
       "text": [
        "[2889]\ttrain-poisson-nloglik:2.233309\tval-poisson-nloglik:2.394255\n",
        "[2890]\ttrain-poisson-nloglik:2.233173\tval-poisson-nloglik:2.394151\n"
       ]
      },
      {
       "output_type": "stream",
       "stream": "stderr",
       "text": [
        "[2891]\ttrain-poisson-nloglik:2.233100\tval-poisson-nloglik:2.394101\n",
        "[2892]\ttrain-poisson-nloglik:2.233012\tval-poisson-nloglik:2.394051\n"
       ]
      },
      {
       "output_type": "stream",
       "stream": "stderr",
       "text": [
        "[2893]\ttrain-poisson-nloglik:2.232937\tval-poisson-nloglik:2.394005\n",
        "[2894]\ttrain-poisson-nloglik:2.232871\tval-poisson-nloglik:2.393965\n"
       ]
      },
      {
       "output_type": "stream",
       "stream": "stderr",
       "text": [
        "[2895]\ttrain-poisson-nloglik:2.232826\tval-poisson-nloglik:2.393925\n",
        "[2896]\ttrain-poisson-nloglik:2.232754\tval-poisson-nloglik:2.393875\n"
       ]
      },
      {
       "output_type": "stream",
       "stream": "stderr",
       "text": [
        "[2897]\ttrain-poisson-nloglik:2.232707\tval-poisson-nloglik:2.393832\n",
        "[2898]\ttrain-poisson-nloglik:2.232671\tval-poisson-nloglik:2.393800\n"
       ]
      },
      {
       "output_type": "stream",
       "stream": "stderr",
       "text": [
        "[2899]\ttrain-poisson-nloglik:2.232558\tval-poisson-nloglik:2.393709\n",
        "[2900]\ttrain-poisson-nloglik:2.232509\tval-poisson-nloglik:2.393663\n"
       ]
      },
      {
       "output_type": "stream",
       "stream": "stderr",
       "text": [
        "[2901]\ttrain-poisson-nloglik:2.232452\tval-poisson-nloglik:2.393622\n",
        "[2902]\ttrain-poisson-nloglik:2.232374\tval-poisson-nloglik:2.393559\n"
       ]
      },
      {
       "output_type": "stream",
       "stream": "stderr",
       "text": [
        "[2903]\ttrain-poisson-nloglik:2.232311\tval-poisson-nloglik:2.393507\n",
        "[2904]\ttrain-poisson-nloglik:2.232272\tval-poisson-nloglik:2.393467\n"
       ]
      },
      {
       "output_type": "stream",
       "stream": "stderr",
       "text": [
        "[2905]\ttrain-poisson-nloglik:2.232173\tval-poisson-nloglik:2.393395\n",
        "[2906]\ttrain-poisson-nloglik:2.232064\tval-poisson-nloglik:2.393307\n"
       ]
      },
      {
       "output_type": "stream",
       "stream": "stderr",
       "text": [
        "[2907]\ttrain-poisson-nloglik:2.232035\tval-poisson-nloglik:2.393286\n",
        "[2908]\ttrain-poisson-nloglik:2.231992\tval-poisson-nloglik:2.393260\n"
       ]
      },
      {
       "output_type": "stream",
       "stream": "stderr",
       "text": [
        "[2909]\ttrain-poisson-nloglik:2.231905\tval-poisson-nloglik:2.393202\n",
        "[2910]\ttrain-poisson-nloglik:2.231829\tval-poisson-nloglik:2.393138\n"
       ]
      },
      {
       "output_type": "stream",
       "stream": "stderr",
       "text": [
        "[2911]\ttrain-poisson-nloglik:2.231773\tval-poisson-nloglik:2.393104\n",
        "[2912]\ttrain-poisson-nloglik:2.231681\tval-poisson-nloglik:2.393026\n"
       ]
      },
      {
       "output_type": "stream",
       "stream": "stderr",
       "text": [
        "[2913]\ttrain-poisson-nloglik:2.231638\tval-poisson-nloglik:2.392997\n",
        "[2914]\ttrain-poisson-nloglik:2.231563\tval-poisson-nloglik:2.392926\n"
       ]
      },
      {
       "output_type": "stream",
       "stream": "stderr",
       "text": [
        "[2915]\ttrain-poisson-nloglik:2.231519\tval-poisson-nloglik:2.392901\n",
        "[2916]\ttrain-poisson-nloglik:2.231460\tval-poisson-nloglik:2.392862\n"
       ]
      },
      {
       "output_type": "stream",
       "stream": "stderr",
       "text": [
        "[2917]\ttrain-poisson-nloglik:2.231416\tval-poisson-nloglik:2.392818\n",
        "[2918]\ttrain-poisson-nloglik:2.231265\tval-poisson-nloglik:2.392691\n"
       ]
      },
      {
       "output_type": "stream",
       "stream": "stderr",
       "text": [
        "[2919]\ttrain-poisson-nloglik:2.231219\tval-poisson-nloglik:2.392653\n",
        "[2920]\ttrain-poisson-nloglik:2.231130\tval-poisson-nloglik:2.392596\n"
       ]
      },
      {
       "output_type": "stream",
       "stream": "stderr",
       "text": [
        "[2921]\ttrain-poisson-nloglik:2.231062\tval-poisson-nloglik:2.392548\n",
        "[2922]\ttrain-poisson-nloglik:2.230942\tval-poisson-nloglik:2.392448\n"
       ]
      },
      {
       "output_type": "stream",
       "stream": "stderr",
       "text": [
        "[2923]\ttrain-poisson-nloglik:2.230838\tval-poisson-nloglik:2.392367\n",
        "[2924]\ttrain-poisson-nloglik:2.230784\tval-poisson-nloglik:2.392332\n"
       ]
      },
      {
       "output_type": "stream",
       "stream": "stderr",
       "text": [
        "[2925]\ttrain-poisson-nloglik:2.230728\tval-poisson-nloglik:2.392274\n",
        "[2926]\ttrain-poisson-nloglik:2.230661\tval-poisson-nloglik:2.392234\n"
       ]
      },
      {
       "output_type": "stream",
       "stream": "stderr",
       "text": [
        "[2927]\ttrain-poisson-nloglik:2.230597\tval-poisson-nloglik:2.392180\n",
        "[2928]\ttrain-poisson-nloglik:2.230528\tval-poisson-nloglik:2.392134\n"
       ]
      },
      {
       "output_type": "stream",
       "stream": "stderr",
       "text": [
        "[2929]\ttrain-poisson-nloglik:2.230473\tval-poisson-nloglik:2.392101\n",
        "[2930]\ttrain-poisson-nloglik:2.230418\tval-poisson-nloglik:2.392058\n"
       ]
      },
      {
       "output_type": "stream",
       "stream": "stderr",
       "text": [
        "[2931]\ttrain-poisson-nloglik:2.230326\tval-poisson-nloglik:2.391988\n",
        "[2932]\ttrain-poisson-nloglik:2.230290\tval-poisson-nloglik:2.391959\n"
       ]
      },
      {
       "output_type": "stream",
       "stream": "stderr",
       "text": [
        "[2933]\ttrain-poisson-nloglik:2.230216\tval-poisson-nloglik:2.391913\n",
        "[2934]\ttrain-poisson-nloglik:2.230165\tval-poisson-nloglik:2.391864\n"
       ]
      },
      {
       "output_type": "stream",
       "stream": "stderr",
       "text": [
        "[2935]\ttrain-poisson-nloglik:2.230108\tval-poisson-nloglik:2.391821\n",
        "[2936]\ttrain-poisson-nloglik:2.230007\tval-poisson-nloglik:2.391715\n"
       ]
      },
      {
       "output_type": "stream",
       "stream": "stderr",
       "text": [
        "[2937]\ttrain-poisson-nloglik:2.229970\tval-poisson-nloglik:2.391689\n",
        "[2938]\ttrain-poisson-nloglik:2.229839\tval-poisson-nloglik:2.391566\n"
       ]
      },
      {
       "output_type": "stream",
       "stream": "stderr",
       "text": [
        "[2939]\ttrain-poisson-nloglik:2.229743\tval-poisson-nloglik:2.391478\n",
        "[2940]\ttrain-poisson-nloglik:2.229694\tval-poisson-nloglik:2.391438\n"
       ]
      },
      {
       "output_type": "stream",
       "stream": "stderr",
       "text": [
        "[2941]\ttrain-poisson-nloglik:2.229628\tval-poisson-nloglik:2.391389\n",
        "[2942]\ttrain-poisson-nloglik:2.229582\tval-poisson-nloglik:2.391347\n"
       ]
      },
      {
       "output_type": "stream",
       "stream": "stderr",
       "text": [
        "[2943]\ttrain-poisson-nloglik:2.229493\tval-poisson-nloglik:2.391275\n",
        "[2944]\ttrain-poisson-nloglik:2.229455\tval-poisson-nloglik:2.391242\n"
       ]
      },
      {
       "output_type": "stream",
       "stream": "stderr",
       "text": [
        "[2945]\ttrain-poisson-nloglik:2.229376\tval-poisson-nloglik:2.391176\n",
        "[2946]\ttrain-poisson-nloglik:2.229310\tval-poisson-nloglik:2.391127\n"
       ]
      },
      {
       "output_type": "stream",
       "stream": "stderr",
       "text": [
        "[2947]\ttrain-poisson-nloglik:2.229242\tval-poisson-nloglik:2.391084\n",
        "[2948]\ttrain-poisson-nloglik:2.229201\tval-poisson-nloglik:2.391041\n"
       ]
      },
      {
       "output_type": "stream",
       "stream": "stderr",
       "text": [
        "[2949]\ttrain-poisson-nloglik:2.229046\tval-poisson-nloglik:2.390914\n",
        "[2950]\ttrain-poisson-nloglik:2.229003\tval-poisson-nloglik:2.390879\n"
       ]
      },
      {
       "output_type": "stream",
       "stream": "stderr",
       "text": [
        "[2951]\ttrain-poisson-nloglik:2.228949\tval-poisson-nloglik:2.390834\n",
        "[2952]\ttrain-poisson-nloglik:2.228867\tval-poisson-nloglik:2.390780\n"
       ]
      },
      {
       "output_type": "stream",
       "stream": "stderr",
       "text": [
        "[2953]\ttrain-poisson-nloglik:2.228828\tval-poisson-nloglik:2.390743\n",
        "[2954]\ttrain-poisson-nloglik:2.228774\tval-poisson-nloglik:2.390702\n"
       ]
      },
      {
       "output_type": "stream",
       "stream": "stderr",
       "text": [
        "[2955]\ttrain-poisson-nloglik:2.228730\tval-poisson-nloglik:2.390673\n",
        "[2956]\ttrain-poisson-nloglik:2.228675\tval-poisson-nloglik:2.390634\n"
       ]
      },
      {
       "output_type": "stream",
       "stream": "stderr",
       "text": [
        "[2957]\ttrain-poisson-nloglik:2.228580\tval-poisson-nloglik:2.390538\n",
        "[2958]\ttrain-poisson-nloglik:2.228491\tval-poisson-nloglik:2.390472\n"
       ]
      },
      {
       "output_type": "stream",
       "stream": "stderr",
       "text": [
        "[2959]\ttrain-poisson-nloglik:2.228381\tval-poisson-nloglik:2.390381\n",
        "[2960]\ttrain-poisson-nloglik:2.228293\tval-poisson-nloglik:2.390307\n"
       ]
      },
      {
       "output_type": "stream",
       "stream": "stderr",
       "text": [
        "[2961]\ttrain-poisson-nloglik:2.228231\tval-poisson-nloglik:2.390257\n",
        "[2962]\ttrain-poisson-nloglik:2.228158\tval-poisson-nloglik:2.390225\n"
       ]
      },
      {
       "output_type": "stream",
       "stream": "stderr",
       "text": [
        "[2963]\ttrain-poisson-nloglik:2.228131\tval-poisson-nloglik:2.390204\n",
        "[2964]\ttrain-poisson-nloglik:2.228081\tval-poisson-nloglik:2.390168\n"
       ]
      },
      {
       "output_type": "stream",
       "stream": "stderr",
       "text": [
        "[2965]\ttrain-poisson-nloglik:2.228029\tval-poisson-nloglik:2.390127\n",
        "[2966]\ttrain-poisson-nloglik:2.227971\tval-poisson-nloglik:2.390084\n"
       ]
      },
      {
       "output_type": "stream",
       "stream": "stderr",
       "text": [
        "[2967]\ttrain-poisson-nloglik:2.227922\tval-poisson-nloglik:2.390049\n",
        "[2968]\ttrain-poisson-nloglik:2.227809\tval-poisson-nloglik:2.389955\n"
       ]
      },
      {
       "output_type": "stream",
       "stream": "stderr",
       "text": [
        "[2969]\ttrain-poisson-nloglik:2.227674\tval-poisson-nloglik:2.389840\n",
        "[2970]\ttrain-poisson-nloglik:2.227648\tval-poisson-nloglik:2.389819\n"
       ]
      },
      {
       "output_type": "stream",
       "stream": "stderr",
       "text": [
        "[2971]\ttrain-poisson-nloglik:2.227583\tval-poisson-nloglik:2.389765\n",
        "[2972]\ttrain-poisson-nloglik:2.227504\tval-poisson-nloglik:2.389721\n"
       ]
      },
      {
       "output_type": "stream",
       "stream": "stderr",
       "text": [
        "[2973]\ttrain-poisson-nloglik:2.227430\tval-poisson-nloglik:2.389670\n",
        "[2974]\ttrain-poisson-nloglik:2.227364\tval-poisson-nloglik:2.389619\n"
       ]
      },
      {
       "output_type": "stream",
       "stream": "stderr",
       "text": [
        "[2975]\ttrain-poisson-nloglik:2.227304\tval-poisson-nloglik:2.389575\n",
        "[2976]\ttrain-poisson-nloglik:2.227249\tval-poisson-nloglik:2.389529\n"
       ]
      },
      {
       "output_type": "stream",
       "stream": "stderr",
       "text": [
        "[2977]\ttrain-poisson-nloglik:2.227184\tval-poisson-nloglik:2.389475\n",
        "[2978]\ttrain-poisson-nloglik:2.227103\tval-poisson-nloglik:2.389398\n"
       ]
      },
      {
       "output_type": "stream",
       "stream": "stderr",
       "text": [
        "[2979]\ttrain-poisson-nloglik:2.227055\tval-poisson-nloglik:2.389376\n",
        "[2980]\ttrain-poisson-nloglik:2.226999\tval-poisson-nloglik:2.389324\n"
       ]
      },
      {
       "output_type": "stream",
       "stream": "stderr",
       "text": [
        "[2981]\ttrain-poisson-nloglik:2.226949\tval-poisson-nloglik:2.389280\n",
        "[2982]\ttrain-poisson-nloglik:2.226871\tval-poisson-nloglik:2.389225\n"
       ]
      },
      {
       "output_type": "stream",
       "stream": "stderr",
       "text": [
        "[2983]\ttrain-poisson-nloglik:2.226801\tval-poisson-nloglik:2.389164\n",
        "[2984]\ttrain-poisson-nloglik:2.226764\tval-poisson-nloglik:2.389139\n"
       ]
      },
      {
       "output_type": "stream",
       "stream": "stderr",
       "text": [
        "[2985]\ttrain-poisson-nloglik:2.226707\tval-poisson-nloglik:2.389103\n",
        "[2986]\ttrain-poisson-nloglik:2.226630\tval-poisson-nloglik:2.389035\n"
       ]
      },
      {
       "output_type": "stream",
       "stream": "stderr",
       "text": [
        "[2987]\ttrain-poisson-nloglik:2.226525\tval-poisson-nloglik:2.388962\n",
        "[2988]\ttrain-poisson-nloglik:2.226492\tval-poisson-nloglik:2.388930\n"
       ]
      },
      {
       "output_type": "stream",
       "stream": "stderr",
       "text": [
        "[2989]\ttrain-poisson-nloglik:2.226368\tval-poisson-nloglik:2.388829\n",
        "[2990]\ttrain-poisson-nloglik:2.226315\tval-poisson-nloglik:2.388780\n"
       ]
      },
      {
       "output_type": "stream",
       "stream": "stderr",
       "text": [
        "[2991]\ttrain-poisson-nloglik:2.226249\tval-poisson-nloglik:2.388738\n",
        "[2992]\ttrain-poisson-nloglik:2.226175\tval-poisson-nloglik:2.388663\n"
       ]
      },
      {
       "output_type": "stream",
       "stream": "stderr",
       "text": [
        "[2993]\ttrain-poisson-nloglik:2.226118\tval-poisson-nloglik:2.388620\n",
        "[2994]\ttrain-poisson-nloglik:2.226051\tval-poisson-nloglik:2.388581\n"
       ]
      },
      {
       "output_type": "stream",
       "stream": "stderr",
       "text": [
        "[2995]\ttrain-poisson-nloglik:2.226013\tval-poisson-nloglik:2.388561\n",
        "[2996]\ttrain-poisson-nloglik:2.225966\tval-poisson-nloglik:2.388519\n"
       ]
      },
      {
       "output_type": "stream",
       "stream": "stderr",
       "text": [
        "[2997]\ttrain-poisson-nloglik:2.225913\tval-poisson-nloglik:2.388483\n",
        "[2998]\ttrain-poisson-nloglik:2.225837\tval-poisson-nloglik:2.388429\n"
       ]
      },
      {
       "output_type": "stream",
       "stream": "stderr",
       "text": [
        "[2999]\ttrain-poisson-nloglik:2.225783\tval-poisson-nloglik:2.388396\n"
       ]
      }
     ],
     "prompt_number": 9
    },
    {
     "cell_type": "code",
     "collapsed": false,
     "input": [
      "xgb.plot_importance(model)\n",
      "\n",
      "## importance: f1,f15,f0,f2,f18,f16,f27,f13\n",
      "col_k = [1,15,0,2,18,16,27,13,3,4,26,9,25,20,11,5,19,8,17,12,14]\n",
      "\n",
      "print columns[col_k]"
     ],
     "language": "python",
     "metadata": {},
     "outputs": [
      {
       "output_type": "stream",
       "stream": "stdout",
       "text": [
        "Index([u'T1_V2', u'T2_V1', u'T1_V1', u'T1_V3', u'T2_V4', u'T2_V2', u'T2_V15',\n",
        "       u'T1_V16', u'T1_V4', u'T1_V5', u'T2_V14', u'T1_V11', u'T2_V13',\n",
        "       u'T2_V6', u'T1_V14', u'T1_V6', u'T2_V5', u'T1_V9', u'T2_V3', u'T1_V15',\n",
        "       u'T1_V17'],\n",
        "      dtype='object')\n"
       ]
      },
      {
       "metadata": {},
       "output_type": "display_data",
       "png": "[encoded data removed]",
       "text": [
        "<matplotlib.figure.Figure at 0x7fdc481b8390>"
       ]
      }
     ],
     "prompt_number": 14
    },
    {
     "cell_type": "code",
     "collapsed": false,
     "input": [
      "\n",
      "print 'Submit'\n",
      "preds1 = model.predict(xgsubmit)\n",
      "\n",
      "# generate solution file\n",
      "preds = pd.DataFrame({\"Id\": submit_ind, \"Hazard\": preds1})\n",
      "preds = preds.set_index('Id')\n",
      "print preds.head(11)\n",
      "preds.to_csv('submit_dev_20150824_2.csv')\n",
      "\n",
      "print 'Computing lables in test data'\n",
      "preds2 = model.predict(xgtest)\n",
      "\n",
      "# generate solution file\n",
      "preds = pd.DataFrame({\"Hazard\": test_labels, \"Model_Hazard\": preds2})\n",
      "preds = preds.set_index('Hazard')\n",
      "print preds.head()\n",
      "\n",
      "print 'Gini (Duvidoso)'\n",
      "print Gini1(test_labels,preds2)\n",
      "print Gini2(test_labels,preds2)\n",
      "\n",
      "print 'rmse' \n",
      "print np.sqrt( np.mean((test_labels - preds2)**2) )\n",
      "\n",
      "\n",
      "#preds.to_csv('test_dev_20150824_1.csv')\n",
      "\n",
      "print 'Current dir:'\n",
      "%pwd"
     ],
     "language": "python",
     "metadata": {},
     "outputs": [
      {
       "output_type": "stream",
       "stream": "stdout",
       "text": [
        "Submit\n",
        "       Hazard\n",
        "Id           \n",
        "6    3.527257\n",
        "7    9.278452\n",
        "8   12.686722\n",
        "9    5.273787\n",
        "10   5.263066\n",
        "11   5.480118\n",
        "13   8.239698\n",
        "14   2.756181\n",
        "16   4.747643\n",
        "17   4.627499\n",
        "18   8.066462"
       ]
      },
      {
       "output_type": "stream",
       "stream": "stdout",
       "text": [
        "\n",
        "Computing lables in test data"
       ]
      },
      {
       "output_type": "stream",
       "stream": "stdout",
       "text": [
        "\n",
        "        Model_Hazard\n",
        "Hazard              \n",
        "22          6.560222\n",
        "37         10.074098\n",
        "23          8.026670\n",
        "23          6.495649\n",
        "22          6.895160"
       ]
      },
      {
       "output_type": "stream",
       "stream": "stdout",
       "text": [
        "\n",
        "Gini (Duvidoso)\n",
        "0.116911902249\n",
        "0.0905561896177\n",
        "rmse\n",
        "19.997287272\n",
        "Current dir:\n"
       ]
      },
      {
       "metadata": {},
       "output_type": "pyout",
       "prompt_number": 10,
       "text": [
        "u'/home/leandroohf/Documents/kaggle/Liberty_Mutual_Group_Property_Inspection_Prediction/dev'"
       ]
      }
     ],
     "prompt_number": 10
    }
   ],
   "metadata": {}
  }
 ]
}