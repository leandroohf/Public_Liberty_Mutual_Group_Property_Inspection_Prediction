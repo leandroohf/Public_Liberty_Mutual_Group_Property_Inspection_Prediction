{
 "metadata": {
  "name": ""
 },
 "nbformat": 3,
 "nbformat_minor": 0,
 "worksheets": [
  {
   "cells": [
    {
     "cell_type": "markdown",
     "metadata": {},
     "source": [
      "# Base de treino balanciada\n",
      "\n",
      "Considerei apenas algumas Hazard < 70 (Considera tudo)\n",
      "\n",
      "kaglle score:\n",
      "\n",
      "Meu melhor kaglle score: 0.3850\n"
     ]
    },
    {
     "cell_type": "code",
     "collapsed": false,
     "input": [
      "# Setup\n",
      "import pandas as pd\n",
      "import numpy as np \n",
      "from sklearn import preprocessing\n",
      "import xgboost as xgb\n",
      "import random\n",
      "import matplotlib.pyplot as plt"
     ],
     "language": "python",
     "metadata": {},
     "outputs": [],
     "prompt_number": 1
    },
    {
     "cell_type": "code",
     "collapsed": false,
     "input": [
      "# Defining some functions\n",
      "\n",
      "print 'Defining functions (shameless stolen from the script pages)'\n",
      "\n",
      "## Gini: Shameless stolen from jpopham91's script\n",
      "def Gini1(y_true, y_pred):\n",
      "    # check and get number of samples\n",
      "    assert y_true.shape == y_pred.shape\n",
      "    n_samples = y_true.shape[0]\n",
      "    \n",
      "    # sort rows on prediction column \n",
      "    # (from largest to smallest)\n",
      "    arr = np.array([y_true, y_pred]).transpose()\n",
      "    true_order = arr[arr[:,0].argsort()][::-1,0]\n",
      "    pred_order = arr[arr[:,1].argsort()][::-1,0]\n",
      "    \n",
      "    # get Lorenz curves\n",
      "    L_true = np.cumsum(true_order) / np.sum(true_order)\n",
      "    L_pred = np.cumsum(pred_order) / np.sum(pred_order)\n",
      "    L_ones = np.linspace(1/n_samples, 1, n_samples)\n",
      "    \n",
      "    # get Gini coefficients (area between curves)\n",
      "    G_true = np.sum(L_ones - L_true)\n",
      "    G_pred = np.sum(L_ones - L_pred)\n",
      "    \n",
      "    # normalize to true Gini coefficient\n",
      "    return G_pred/G_true\n",
      "\n",
      "# Source script: justfor que por sua vez pegou da fonte abaixo\n",
      "# Source of good version: https://www.kaggle.com/c/ClaimPredictionChallenge/forums/t/703/code-to-calculate-normalizedgini    \n",
      "def Gini2_aux(actual, pred, cmpcol = 0, sortcol = 1):\n",
      "     assert( len(actual) == len(pred) )\n",
      "     all = np.asarray(np.c_[ actual, pred, np.arange(len(actual)) ], dtype=np.float)\n",
      "     all = all[ np.lexsort((all[:,2], -1*all[:,1])) ]\n",
      "     totalLosses = all[:,0].sum()\n",
      "     giniSum = all[:,0].cumsum().sum() / totalLosses\n",
      "     giniSum -= (len(actual) + 1) / 2.\n",
      "     return giniSum / len(actual)\n",
      " \n",
      "def Gini2(y_true, y_pred):\n",
      "     return Gini2_aux(y_true, y_pred) / Gini2_aux(y_true, y_true)\n",
      "\n",
      "def ReBalanceTrainData(train_pre,sample_size,y_var):\n",
      "    h = 1\n",
      "    print y_var + \": \" + str(h)\n",
      "    train_aux = train_pre[train_pre[ y_var] == h]\n",
      "    rows_sampled = np.random.choice(train_aux.index,sample_size)\n",
      "    train_balanced_pre = train_pre.ix[rows_sampled]\n",
      "\n",
      "    for h in train_pre[ y_var].unique():\n",
      "        print y_var + \": \" + str(h)\n",
      "        train_aux = train_pre[train_pre[ y_var] == h]\n",
      "        rows_sampled = np.random.choice(train_aux.index,sample_size)\n",
      "        train_balanced_pre = train_balanced_pre.append(train_pre.ix[rows_sampled])\n",
      "\n",
      "    return train_balanced_pre\n",
      "\n",
      "def SampleData(train_balanced_pre,train_size,val_size,test_size):\n",
      "\n",
      "    print 'Making a copy'\n",
      "    train_copy = train_balanced_pre.copy()\n",
      "   \n",
      "    print 'Sampling validation set'\n",
      "    np.random.seed(3)\n",
      "    val_rows_samples = np.random.choice( train_copy.index,val_size,replace=False)\n",
      "    val_data = train_copy.ix[val_rows_samples].copy()\n",
      "\n",
      "    print 'Sampling train set'\n",
      "    train_test_data = train_copy.drop(val_rows_samples).copy()\n",
      "    print 'train_test_data-size: ' + str(train_test_data.shape)\n",
      "\n",
      "    np.random.seed(7)\n",
      "    train_rows_samples = np.random.choice( train_test_data.index,train_size, replace=False)\n",
      "    train_data = train_test_data.ix[train_rows_samples].copy()\n",
      "    \n",
      "    print 'Sampling test set'\n",
      "    test_data = train_test_data.drop(train_rows_samples).copy()\n",
      "    \n",
      "    np.random.seed(5)\n",
      "    test_rows_samples = np.random.choice(test_data.index,test_size, replace=True)\n",
      "    test_data = test_data.ix[test_rows_samples].copy()\n",
      "\n",
      "    return train_data, val_data, test_data\n",
      "\n",
      "def DropColumns(data,columns_to_drop):    \n",
      "    for c in columns_to_drop:\n",
      "        print 'dropping ' + c\n",
      "        data.drop(c, axis=1, inplace=True)\n",
      "\n",
      "    return data"
     ],
     "language": "python",
     "metadata": {},
     "outputs": [
      {
       "output_type": "stream",
       "stream": "stdout",
       "text": [
        "Defining functions (shameless stolen from the script pages)\n"
       ]
      }
     ],
     "prompt_number": 6
    },
    {
     "cell_type": "code",
     "collapsed": false,
     "input": [
      "\n",
      "#load train and test \n",
      "train  = pd.read_csv('../../data/raw/train.csv', index_col=0)\n",
      "test   = pd.read_csv('../../data/raw/test.csv', index_col=0)\n",
      "\n",
      "print train.shape\n",
      "## XXX Parece BUG head() nao mostra a ultimas colunas: 10,20,30\n",
      "## Entao eu tive que duplicar para imprimir todas as colunas\n",
      "print train.iloc[:,0:10].head()\n",
      "print train.iloc[:,10:20].head()\n",
      "print train.iloc[:,20:30].head()\n",
      "print train.iloc[:,30:33].head()\n",
      "print \"==========================\"\n",
      "\n",
      "labels = train.Hazard\n",
      "%matplotlib inline\n",
      "labels.hist(bins=69)"
     ],
     "language": "python",
     "metadata": {},
     "outputs": [
      {
       "output_type": "stream",
       "stream": "stdout",
       "text": [
        "(50999, 33)\n",
        "    Hazard  T1_V1  T1_V2  T1_V3 T1_V4 T1_V5 T1_V6 T1_V7 T1_V8 T1_V9\n",
        "Id                                                                 \n",
        "1        1     15      3      2     N     B     N     B     B     D\n",
        "2        4     16     14      5     H     B     N     B     B     C\n",
        "3        1     10     10      5     N     K     N     B     B     E\n",
        "4        1     18     18      5     N     K     N     B     B     E\n",
        "5        1     13     19      5     N     H     N     B     B     E\n",
        "    T1_V10 T1_V11 T1_V12  T1_V13  T1_V14 T1_V15 T1_V16 T1_V17  T2_V1  T2_V2\n",
        "Id                                                                         \n",
        "1        7      B      B      15       1      A      B      N     36     11\n",
        "2       12      B      B      10       3      A      B      Y     78     10\n",
        "3       12      H      B      15       1      A      R      Y     71     21\n",
        "4        3      H      B      15       1      A      R      N     71     13\n",
        "5        7      H      B      10       1      A      J      N     75     10\n",
        "   T2_V3  T2_V4 T2_V5  T2_V6  T2_V7  T2_V8  T2_V9  T2_V10 T2_V11 T2_V12\n",
        "Id                                                                     \n",
        "1      N     10     B      2     37      1     11       6      Y      N\n",
        "2      Y     17     C      2     22      1     18       5      Y      Y\n",
        "3      Y     13     C      6     37      2     14       6      Y      Y\n",
        "4      N     15     A      2     25      1      1       6      Y      N\n",
        "5      Y     11     B      1     22      1      2       7      N      N\n",
        "   T2_V13  T2_V14  T2_V15\n",
        "Id                       \n",
        "1       E       2       2\n",
        "2       E       2       1\n",
        "3       E       6       1\n",
        "4       C       2       6\n",
        "5       E       1       1\n",
        "==========================\n"
       ]
      },
      {
       "metadata": {},
       "output_type": "pyout",
       "prompt_number": 15,
       "text": [
        "<matplotlib.axes.AxesSubplot at 0x7faad02feb50>"
       ]
      },
      {
       "metadata": {},
       "output_type": "display_data",
       "png": "[encoded data removed]",
       "text": [
        "<matplotlib.figure.Figure at 0x7faad02fe4d0>"
       ]
      }
     ],
     "prompt_number": 15
    },
    {
     "cell_type": "code",
     "collapsed": false,
     "input": [],
     "language": "python",
     "metadata": {},
     "outputs": [
      {
       "metadata": {},
       "output_type": "pyout",
       "prompt_number": 5,
       "text": [
        "array([ 1,  4,  5,  7, 15, 14,  8, 16,  6, 11,  3, 13,  2, 18, 10, 17, 22,\n",
        "        9, 21, 20, 12, 19, 37, 23, 28, 27, 31, 38, 41, 26, 33, 29, 30, 25,\n",
        "       24, 36, 51, 42, 34, 46, 32, 69, 40, 35, 44, 39, 49, 52, 63, 64])"
       ]
      }
     ],
     "prompt_number": 5
    },
    {
     "cell_type": "markdown",
     "metadata": {},
     "source": [
      "\n",
      "## Prepaing training data"
     ]
    },
    {
     "cell_type": "code",
     "collapsed": false,
     "input": [
      "## Fazendo copia dos dados\n",
      "train_pre = train.copy()\n",
      "\n",
      "hazard_thr = 70\n",
      "sample_size = 560 # sample size per class\n",
      "\n",
      "print \"Printing intial train dim:\"\n",
      "print train_pre.shape\n",
      "\n",
      "print \"Considering Hazard < \" + str(hazard_thr) + \" in train data\"\n",
      "\n",
      "# verifcar a capacidade de gerar hazard acima de hazard_thr\n",
      "train_pre = train_pre[ train_pre['Hazard'] < hazard_thr]\n",
      "\n",
      "train_pre['Hazard_group'] = 0 #train_pre[\"Hazard\"]\n",
      "train_pre.loc[ train_pre['Hazard'] == 13, 'Hazard_group'] = 1\n",
      "\n",
      "print 'train_pre-size: ' + str(train_pre.shape)\n",
      "print train_pre.head()"
     ],
     "language": "python",
     "metadata": {},
     "outputs": [
      {
       "output_type": "stream",
       "stream": "stdout",
       "text": [
        "Printing intial train dim:\n",
        "(50999, 33)\n",
        "Considering Hazard < 70 in train data\n",
        "train_pre-size: (50999, 34)\n",
        "    Hazard  T1_V1  T1_V2  T1_V3 T1_V4 T1_V5 T1_V6 T1_V7 T1_V8 T1_V9  \\\n",
        "Id                                                                    \n",
        "1        1     15      3      2     N     B     N     B     B     D   \n",
        "2        4     16     14      5     H     B     N     B     B     C   \n",
        "3        1     10     10      5     N     K     N     B     B     E   \n",
        "4        1     18     18      5     N     K     N     B     B     E   \n",
        "5        1     13     19      5     N     H     N     B     B     E   \n",
        "\n",
        "        ...       T2_V7 T2_V8 T2_V9  T2_V10  T2_V11 T2_V12 T2_V13 T2_V14  \\\n",
        "Id      ...                                                                \n",
        "1       ...          37     1    11       6       Y      N      E      2   \n",
        "2       ...          22     1    18       5       Y      Y      E      2   \n",
        "3       ...          37     2    14       6       Y      Y      E      6   \n",
        "4       ...          25     1     1       6       Y      N      C      2   \n",
        "5       ...          22     1     2       7       N      N      E      1   \n",
        "\n",
        "    T2_V15  Hazard_group  \n",
        "Id                        \n",
        "1        2             0  \n",
        "2        1             0  \n",
        "3        1             0  \n",
        "4        6             0  \n",
        "5        1             0  \n",
        "\n",
        "[5 rows x 34 columns]\n"
       ]
      }
     ],
     "prompt_number": 16
    },
    {
     "cell_type": "code",
     "collapsed": false,
     "input": [
      "\n",
      "y_var = 'Hazard'\n",
      "#train_balanced_pre = ReBalanceTrainData(train_pre,sample_size, y_var )\n",
      "train_balanced_pre = train_pre\n",
      "\n",
      "train_size = 15000\n",
      "val_size = 35000\n",
      "test_size = 1000\n",
      "train_data, val_data, test_data = SampleData(train_balanced_pre,train_size,val_size,test_size)\n",
      "\n",
      "#offset = 5000\n",
      "#train_data = train_balanced_pre.iloc[0:offset,:].copy()\n",
      "#val_data = train_balanced_pre.iloc[offset:50999,:].copy()\n",
      "\n",
      "#np.random.seed(5)\n",
      "#test_rows_samples = np.random.choice(val_data.index,1500, replace=True)\n",
      "#test_data = val_data.ix[test_rows_samples].copy()\n",
      "\n",
      "val_labels = val_data[y_var].copy()\n",
      "val_data.to_csv('val_data.csv')\n",
      "\n",
      "test_labels = test_data[ y_var ].copy()\n",
      "test_data.to_csv('test_data.csv')\n",
      "\n",
      "#train_data = ReBalanceTrainData(train_data,11500)\n",
      "\n",
      "train_labels = train_data[ y_var].copy()\n",
      "train_data.to_csv('train_data.csv')\n",
      "\n",
      "print 'train-size: ' + str(train_data.shape)\n",
      "print 'test-size: ' + str(test_data.shape)\n",
      "print 'val-size: ' + str(val_data.shape)"
     ],
     "language": "python",
     "metadata": {},
     "outputs": [
      {
       "output_type": "stream",
       "stream": "stdout",
       "text": [
        "Making a copy\n",
        "Sampling validation set\n",
        "Sampling train set\n",
        "train_test_data-size: (15999, 34)"
       ]
      },
      {
       "output_type": "stream",
       "stream": "stdout",
       "text": [
        "\n",
        "Sampling test set\n",
        "train-size: (15000, 34)"
       ]
      },
      {
       "output_type": "stream",
       "stream": "stdout",
       "text": [
        "\n",
        "test-size: (1000, 34)\n",
        "val-size: (35000, 34)\n"
       ]
      }
     ],
     "prompt_number": 17
    },
    {
     "cell_type": "code",
     "collapsed": false,
     "input": [
      "print 'Summary of random data slected'\n",
      "print 'train data:'\n",
      "plt.xlim(0,70);train_labels.hist(bins=(hazard_thr-1))\n"
     ],
     "language": "python",
     "metadata": {},
     "outputs": [
      {
       "output_type": "stream",
       "stream": "stdout",
       "text": [
        "Summary of random data slected\n",
        "train data:\n"
       ]
      },
      {
       "metadata": {},
       "output_type": "pyout",
       "prompt_number": 11,
       "text": [
        "<matplotlib.axes.AxesSubplot at 0x7faaf9abd410>"
       ]
      },
      {
       "metadata": {},
       "output_type": "display_data",
       "png": "[encoded data removed]",
       "text": [
        "<matplotlib.figure.Figure at 0x7faad1264a90>"
       ]
      }
     ],
     "prompt_number": 11
    },
    {
     "cell_type": "code",
     "collapsed": false,
     "input": [
      "plt.matshow(train_balanced_pre.corr());plt.colorbar()\n",
      "\n",
      "plt.matshow(train_data.corr());plt.colorbar()\n",
      "\n",
      "plt.matshow(val_data.corr());plt.colorbar()\n"
     ],
     "language": "python",
     "metadata": {},
     "outputs": [
      {
       "metadata": {},
       "output_type": "pyout",
       "prompt_number": 12,
       "text": [
        "<matplotlib.colorbar.Colorbar instance at 0x7faad03aa638>"
       ]
      },
      {
       "metadata": {},
       "output_type": "display_data",
       "png": "[encoded data removed]",
       "text": [
        "<matplotlib.figure.Figure at 0x7faad0cd5f90>"
       ]
      },
      {
       "metadata": {},
       "output_type": "display_data",
       "png": "[encoded data removed]",
       "text": [
        "<matplotlib.figure.Figure at 0x7faad0c4ff50>"
       ]
      },
      {
       "metadata": {},
       "output_type": "display_data",
       "png": "[encoded data removed]",
       "text": [
        "<matplotlib.figure.Figure at 0x7faad0532dd0>"
       ]
      }
     ],
     "prompt_number": 12
    },
    {
     "cell_type": "code",
     "collapsed": false,
     "input": [
      "submit_pre = test.copy()\n",
      "\n",
      "print \"Droping columns\"\n",
      "\n",
      "columns_to_drop = [ 'Hazard', 'Hazard_group', 'T1_V13' ,'T2_V7' , 'T2_V12','T2_V8','T1_V6','T1_V7','T2_V3','T2_V11','T2_V13']\n",
      "columns_to_keep = ['T2_V1', 'T2_V9', 'T1_V1', 'T1_V2', 'T2_V4', 'T1_V3', 'T2_V2']\n",
      "train_data = train_data[columns_to_keep] #DropColumns(train_data,columns_to_drop)\n",
      "val_data = val_data[columns_to_keep]  #DropColumns(val_data,columns_to_drop)\n",
      "test_data = test_data[columns_to_keep] #DropColumns(test_data,columns_to_drop)\n",
      "\n",
      "columns_to_drop = [ 'T1_V13' ,'T2_V7' , 'T2_V12','T2_V8','T1_V6','T1_V7','T2_V3','T2_V11','T2_V13']\n",
      "submit_pre = submit_pre[columns_to_keep] #DropColumns(submit_pre,columns_to_drop)\n",
      "\n",
      "columns = train_data.columns\n",
      "submit_ind = submit_pre.index\n",
      "\n",
      "print \"Converting to numpy array\"\n",
      "\n",
      "train_data = np.array(train_data)\n",
      "train_labels = np.array(train_labels)\n",
      "\n",
      "val_data = np.array(val_data)\n",
      "val_labels = np.array(val_labels)\n",
      "\n",
      "test_data = np.array(test_data)\n",
      "test_labels = np.array(test_labels)\n",
      "\n",
      "submit_pre = np.array(submit_pre)"
     ],
     "language": "python",
     "metadata": {},
     "outputs": [
      {
       "output_type": "stream",
       "stream": "stdout",
       "text": [
        "Droping columns\n",
        "Converting to numpy array\n"
       ]
      }
     ],
     "prompt_number": 18
    },
    {
     "cell_type": "code",
     "collapsed": false,
     "input": [
      "print \"Converting string columns to numerical levels (train_balanced_pre)\"\n",
      "# label encode the categorical variables\n",
      "\n",
      "print train_data.shape\n",
      "print val_data.shape\n",
      "print test_data.shape\n",
      "print submit_pre.shape\n",
      "\n",
      "print 'Converting train'\n",
      "for i in range(train_data.shape[1]-1):\n",
      "    lbl = preprocessing.LabelEncoder()\n",
      "    lbl.fit(list(train_data[:,i]) + list(submit_pre[:,i]) + list(test_data[:,i]) + list(val_data[:,i]))\n",
      "    train_data[:,i] = lbl.transform(train_data[:,i])\n",
      "    val_data[:,i] = lbl.transform(val_data[:,i])\n",
      "    test_data[:,i] = lbl.transform(test_data[:,i])\n",
      "    submit_pre[:,i] = lbl.transform(submit_pre[:,i])\n",
      "    \n",
      "train_data = train_data.astype(float)\n",
      "val_data = val_data.astype(float)\n",
      "test_data = test_data.astype(float)\n",
      "submit_pre = submit_pre.astype(float)"
     ],
     "language": "python",
     "metadata": {},
     "outputs": [
      {
       "output_type": "stream",
       "stream": "stdout",
       "text": [
        "Converting string columns to numerical levels (train_balanced_pre)\n",
        "(15000, 7)\n",
        "(35000, 7)\n",
        "(1000, 7)\n",
        "(51000, 7)\n",
        "Converting train\n"
       ]
      }
     ],
     "prompt_number": 19
    },
    {
     "cell_type": "markdown",
     "metadata": {},
     "source": [
      "## Seting model parameters"
     ]
    },
    {
     "cell_type": "code",
     "collapsed": false,
     "input": [
      "params = {}\n",
      "params[\"objective\"] = \"count:poisson\"  # \"reg:linear\"    \n",
      "params[\"eta\"] = 0.01\n",
      "params[\"min_child_weight\"] = 5\n",
      "params[\"subsample\"] = 0.80\n",
      "params[\"colsample_bytree\"] = 0.80\n",
      "params[\"scale_pos_weight\"] = 1.0\n",
      "params[\"silent\"] = 0\n",
      "params[\"booster\"] = \"gbtree\"\n",
      "params[\"seed\"] = 0\n",
      "params[\"max_depth\"] = 7\n",
      "\n",
      "num_rounds = 5000\n",
      "est = 7\n",
      "\n",
      "plst = list(params.items())\n",
      "print \"Prameters list\"\n",
      "print plst\n",
      "\n",
      "print 'num_rounds: ' + str(num_rounds)\n",
      "print 'early_stopping_rounds: ' + str(est)"
     ],
     "language": "python",
     "metadata": {},
     "outputs": [
      {
       "output_type": "stream",
       "stream": "stdout",
       "text": [
        "Prameters list\n",
        "[('colsample_bytree', 0.8), ('silent', 0), ('scale_pos_weight', 1.0), ('min_child_weight', 5), ('subsample', 0.8), ('eta', 0.01), ('objective', 'count:poisson'), ('seed', 0), ('max_depth', 7), ('booster', 'gbtree')]\n",
        "num_rounds: 5000\n",
        "early_stopping_rounds: 7\n"
       ]
      }
     ],
     "prompt_number": 25
    },
    {
     "cell_type": "code",
     "collapsed": false,
     "input": [
      "print 'Converting train, val, test n sbmit to DMatrix'\n",
      "\n",
      "xgsubmit = xgb.DMatrix(submit_pre)\n",
      "xgtest = xgb.DMatrix(test_data)\n",
      "\n",
      "xgval = xgb.DMatrix(val_data,label=val_labels)\n",
      "xgtrain = xgb.DMatrix(train_data,label=train_labels)\n",
      "\n",
      "print \"number of row xgtrain\"\n",
      "print xgtrain.num_row()\n",
      "\n",
      "print \"number of row xgval\"\n",
      "print xgval.num_row()\n",
      "\n",
      "print \"number of row xgsubmit\"\n",
      "print xgsubmit.num_row()\n",
      "\n",
      "print \"number of row xgtest\"\n",
      "print xgtest.num_row()"
     ],
     "language": "python",
     "metadata": {},
     "outputs": [
      {
       "output_type": "stream",
       "stream": "stdout",
       "text": [
        "Converting train, val, test n sbmit to DMatrix\n",
        "number of row xgtrain\n",
        "15000\n",
        "number of row xgval\n",
        "35000\n",
        "number of row xgsubmit\n",
        "51000\n",
        "number of row xgtest\n",
        "1000\n"
       ]
      }
     ],
     "prompt_number": 26
    },
    {
     "cell_type": "markdown",
     "metadata": {},
     "source": [
      "## Training XGBoost"
     ]
    },
    {
     "cell_type": "code",
     "collapsed": false,
     "input": [
      "res = {'train':[], 'val': []}\n",
      "#train using early stopping and predict\n",
      "\n",
      "#random.seed(13)\n",
      "#np.random.seed(13)\n",
      "watchlist = [(xgtrain, 'train'),(xgval, 'val')]\n",
      "model = xgb.train(plst, xgtrain, num_rounds, evals =watchlist, early_stopping_rounds=est,\n",
      "                evals_result=res,verbose_eval=False)\n",
      "\n",
      "print 'model was trained'\n",
      "print 'best iterations n score'\n",
      "print 'iteartion: ' + str(model.best_iteration) + \"\\t score: \"+ str(model.best_score)"
     ],
     "language": "python",
     "metadata": {},
     "outputs": [
      {
       "output_type": "stream",
       "stream": "stderr",
       "text": [
        "Will train until val error hasn't decreased in 7 rounds.\n",
        "Stopping. Best iteration:\n",
        "[703]\ttrain-poisson-nloglik:2.486291\tval-poisson-nloglik:2.947454\n",
        "\n"
       ]
      },
      {
       "output_type": "stream",
       "stream": "stdout",
       "text": [
        "model was trained\n",
        "best iterations n score\n",
        "iteartion: 703\t score: 2.947454\n"
       ]
      }
     ],
     "prompt_number": 27
    },
    {
     "cell_type": "code",
     "collapsed": false,
     "input": [
      "#print res.items()\n",
      "\n",
      "print '=== Train n val report ==='\n",
      "preds1 = model.predict(xgtrain)\n",
      "r1 = np.sqrt( np.mean((train_labels - preds1)**2) )\n",
      "\n",
      "preds2 = model.predict(xgval)\n",
      "r2 = np.sqrt( np.mean((val_labels - preds2)**2) )\n",
      "\n",
      "print \"train-rmse:\" +  str(r1) + \"\\t val-rmse:\" + str(r2)\n",
      "\n",
      "print 'PS: Gini (Duvidoso)'\n",
      "print \"train-gini1: \" + str(Gini1(train_labels,preds1)) + \"\\t val-gini1: \" + str(Gini1(val_labels,preds2)) \n",
      "print \"train-gini2: \" + str(Gini2(train_labels,preds1)) + \"\\t val-gini2: \" + str(Gini2(val_labels,preds2))\n",
      "\n",
      "# generate solution file\n",
      "preds = pd.DataFrame({\"Hazard\": train_labels, \"Model_Hazard\": preds1})\n",
      "preds = preds.set_index('Hazard')\n",
      "print \"Train\" \n",
      "print preds.head(11)\n",
      "print preds.tail(11)\n",
      "\n",
      "# generate solution file\n",
      "preds = pd.DataFrame({\"Hazard\": val_labels, \"Model_Hazard\": preds2})\n",
      "preds = preds.set_index('Hazard')\n",
      "print \"Val\" \n",
      "print preds.head(11)\n",
      "print preds.tail(11)\n",
      "\n",
      "print '=== Test report ===' \n",
      "print 'Computing lables in test data'\n",
      "preds2 = model.predict(xgtest)\n",
      "\n",
      "print 'PS: Gini (Duvidoso)'\n",
      "r1 = np.sqrt( np.mean((test_labels - preds2)**2) )\n",
      "g1 = Gini1(test_labels,preds2)\n",
      "g2 = Gini2(test_labels,preds2)\n",
      "print \"test-rmse: \" +  str(r1) + \"\\t test-GINI1: \" + str(g1) + \"\\t test-GINI2: \" + str(g2)\n",
      "\n",
      "# generate solution file\n",
      "preds = pd.DataFrame({\"Hazard\": test_labels, \"Model_Hazard\": preds2})\n",
      "preds = preds.set_index('Hazard')\n",
      "\n",
      "print \"Test\" \n",
      "print preds.head(11)\n",
      "print preds.tail(11)\n",
      "\n",
      "#preds.to_csv('test_dev_20150824_1.csv')"
     ],
     "language": "python",
     "metadata": {},
     "outputs": [
      {
       "output_type": "stream",
       "stream": "stdout",
       "text": [
        "=== Train n val report ===\n",
        "train-rmse:3.23713783492\t val-rmse:3.9637054614\n",
        "PS: Gini (Duvidoso)\n",
        "train-gini1: 0.629119207953\t val-gini1: 0.243876102185\n",
        "train-gini2: 0.629066841343\t val-gini2: 0.243830741807"
       ]
      },
      {
       "output_type": "stream",
       "stream": "stdout",
       "text": [
        "\n",
        "Train\n",
        "        Model_Hazard\n",
        "Hazard              \n",
        "4           5.242356\n",
        "1           2.653820\n",
        "10          9.456683\n",
        "1           3.693464\n",
        "1           5.640407\n",
        "7           4.343091\n",
        "1           2.924412\n",
        "5           3.284087\n",
        "7           3.761678\n",
        "1           2.838428\n",
        "1           3.135592\n",
        "        Model_Hazard\n",
        "Hazard              \n",
        "8           4.383287\n",
        "13          6.078880\n",
        "1           2.769912\n",
        "1           1.794779\n",
        "1           2.632735\n",
        "1           4.237267\n",
        "4           3.606252\n",
        "1           6.024338\n",
        "5           3.937137\n",
        "1           3.148118\n",
        "5           4.841312\n",
        "Val\n",
        "        Model_Hazard\n",
        "Hazard              \n",
        "1           4.693062\n",
        "4           3.441028\n",
        "4           2.633002\n",
        "2           4.039127\n",
        "1           5.877982\n",
        "5           4.444623\n",
        "2           6.324955\n",
        "1           3.494257\n",
        "1           2.224380\n",
        "3           3.307787\n",
        "1           5.658160\n",
        "        Model_Hazard\n",
        "Hazard              \n",
        "8           3.328870\n",
        "4           5.778108\n",
        "1           2.504565\n",
        "7           6.595413\n",
        "1           3.366722\n",
        "1           2.836377\n",
        "3           5.934419\n",
        "1           4.026616\n",
        "1           3.643706\n",
        "2           3.574073\n",
        "1           2.996508\n",
        "=== Test report ===\n",
        "Computing lables in test data\n",
        "PS: Gini (Duvidoso)"
       ]
      },
      {
       "output_type": "stream",
       "stream": "stdout",
       "text": [
        "\n",
        "test-rmse: 3.94625794693\t test-GINI1: 0.239605694123\t test-GINI2: 0.238027083679\n",
        "Test\n",
        "        Model_Hazard\n",
        "Hazard              \n",
        "1           3.301933\n",
        "1           3.246606\n",
        "3           4.444814\n",
        "4           4.111902\n",
        "4           4.304951\n",
        "1           3.447038\n",
        "4           2.155394\n",
        "4           4.568182\n",
        "1           3.331209\n",
        "7           4.357502\n",
        "4           5.573400\n",
        "        Model_Hazard\n",
        "Hazard              \n",
        "1           3.298271\n",
        "2           3.772103\n",
        "1           2.588125\n",
        "4           3.992857\n",
        "1           3.573970\n",
        "1           3.601031\n",
        "11          2.904310\n",
        "7           3.210517\n",
        "1           3.532737\n",
        "1           3.380554\n",
        "1           2.738466\n"
       ]
      }
     ],
     "prompt_number": 28
    },
    {
     "cell_type": "code",
     "collapsed": false,
     "input": [
      "\n",
      "preds3 = np.ones(val_size)*1.0\n",
      "\n",
      "print preds3.size\n",
      "\n",
      "r2 = np.sqrt( np.mean((val_labels - preds3)**2) )\n",
      "\n",
      "print \"val-rmse:\" + str(r2)\n"
     ],
     "language": "python",
     "metadata": {},
     "outputs": [
      {
       "output_type": "stream",
       "stream": "stdout",
       "text": [
        "3100\n",
        "val-rmse:0.485599064675\n"
       ]
      }
     ],
     "prompt_number": 112
    },
    {
     "cell_type": "code",
     "collapsed": false,
     "input": [
      "\n",
      "print '=== Submit ==='\n",
      "preds1 = model.predict(xgsubmit)\n",
      "\n",
      "# generate solution file\n",
      "preds = pd.DataFrame({\"Id\": submit_ind, \"Hazard\": preds1})\n",
      "preds = preds.set_index('Id')\n",
      "print preds.head(11)\n",
      "preds.to_csv('submit_dev_20150827_1.csv')\n",
      "\n",
      "print 'Current dir:'\n",
      "%pwd"
     ],
     "language": "python",
     "metadata": {},
     "outputs": [
      {
       "output_type": "stream",
       "stream": "stdout",
       "text": [
        "=== Submit ===\n",
        "      Hazard\n",
        "Id          \n",
        "6   2.542489\n",
        "7   2.426166\n",
        "8   2.737331\n",
        "9   2.220707\n",
        "10  1.888816\n",
        "11  2.470783\n",
        "13  2.460974\n",
        "14  1.926570\n",
        "16  2.306811\n",
        "17  2.022678\n",
        "18  2.306679"
       ]
      },
      {
       "output_type": "stream",
       "stream": "stdout",
       "text": [
        "\n",
        "Current dir:"
       ]
      },
      {
       "output_type": "stream",
       "stream": "stdout",
       "text": [
        "\n"
       ]
      },
      {
       "metadata": {},
       "output_type": "pyout",
       "prompt_number": 15,
       "text": [
        "u'/home/leandroohf/Documents/kaggle/Liberty_Mutual_Group_Property_Inspection_Prediction/dev'"
       ]
      }
     ],
     "prompt_number": 15
    },
    {
     "cell_type": "code",
     "collapsed": false,
     "input": [
      "xgb.plot_importance(model)\n",
      "\n",
      "## importance: f1,f15,f0,f2,f18,f16,f27,f13\n",
      "# is Hazard =1 : col_k = [14,19,0,1,16,2,15] ;[u'T2_V1', u'T2_V9', u'T1_V1', u'T1_V2', u'T2_V4', u'T1_V3', u'T2_V2']\n",
      "# is Hazard =2 : col_k = [14,19,1,0,8,22,15] ;[u'T2_V1', u'T2_V9', u'T1_V2', u'T1_V1', u'T1_V11', u'T2_V15', u'T2_V2']\n",
      "# is Hazard =3 : col_k = [1,0,19,14,15,2,16] ;[u'T1_V2', u'T1_V1', u'T2_V9', u'T2_V1', u'T2_V2', u'T1_V3', u'T2_V4']\n",
      "# is Hazard =4 : col_k = [14,19,15,16,1,0,2] ;[u'T2_V1', u'T2_V9', u'T2_V2', u'T2_V4', u'T1_V2', u'T1_V1', u'T1_V3']\n",
      "# is Hazard =5 : col_k = [19,14,0,16,1,20,15];[u'T2_V9', u'T2_V1', u'T1_V1', u'T2_V4', u'T1_V2', u'T2_V10', u'T2_V2']\n",
      "# is Hazard =7 : col_k = [1,14,16,0,15,12,2] ;[u'T1_V2', u'T2_V1', u'T2_V4', u'T1_V1', u'T2_V2', u'T1_V16', u'T1_V3'] (meia boca)\n",
      "# is Hazard =10: col_k = [14,19,0,16,1,12,20];[u'T2_V1', u'T2_V9', u'T1_V1', u'T2_V4', u'T1_V2', u'T1_V16', u'T2_V10'] \n",
      "# is Hazard =13: col_k = [19,14,3,7,2,16,20] ;[u'T2_V9', u'T2_V1', u'T1_V4', u'T1_V10', u'T1_V3', u'T2_V4', u'T2_V10'] (meia boca)\n",
      "# is Hazard =17: col_k = [8,15,19,3,0,14,16] ;[u'T1_V11', u'T2_V2', u'T2_V9', u'T1_V4', u'T1_V1', u'T2_V1', u'T2_V4'] (meia boca)\n",
      "col_k = [19,14,3,7,2,16,20]\n",
      "print columns[col_k]\n",
      "\n",
      "## Noa eh importante\n",
      "##col_k = [5,14,9,15,7,4,18,3,8,19,10,6,16,2,0]\n",
      "##print columns[col_k]\n"
     ],
     "language": "python",
     "metadata": {},
     "outputs": [
      {
       "output_type": "stream",
       "stream": "stdout",
       "text": [
        "Index([u'T2_V9', u'T2_V1', u'T1_V4', u'T1_V10', u'T1_V3', u'T2_V4', u'T2_V10'], dtype='object')\n"
       ]
      },
      {
       "metadata": {},
       "output_type": "display_data",
       "png": "[encoded data removed]",
       "text": [
        "<matplotlib.figure.Figure at 0x7efd47742410>"
       ]
      }
     ],
     "prompt_number": 153
    }
   ],
   "metadata": {}
  }
 ]
}