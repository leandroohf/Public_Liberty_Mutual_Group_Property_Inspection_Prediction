{
 "metadata": {
  "name": ""
 },
 "nbformat": 3,
 "nbformat_minor": 0,
 "worksheets": [
  {
   "cells": [
    {
     "cell_type": "markdown",
     "metadata": {},
     "source": [
      "# Base de treino balanciada\n",
      "\n",
      "Considerei apenas algumas Hazard < 70 (Considera tudo)\n",
      "\n",
      "kaglle score:\n",
      "\n",
      "Meu melhor kaglle score: 0.3850\n"
     ]
    },
    {
     "cell_type": "code",
     "collapsed": false,
     "input": [
      "# Setup\n",
      "import pandas as pd\n",
      "import numpy as np \n",
      "from sklearn import preprocessing\n",
      "import xgboost as xgb\n",
      "import random\n",
      "import matplotlib.pyplot as plt"
     ],
     "language": "python",
     "metadata": {},
     "outputs": [],
     "prompt_number": 5
    },
    {
     "cell_type": "code",
     "collapsed": false,
     "input": [
      "# Defining some functions\n",
      "\n",
      "print 'Defining functions (shameless stolen from the script pages)'\n",
      "\n",
      "## Gini: Shameless stolen from jpopham91's script\n",
      "def Gini1(y_true, y_pred):\n",
      "    # check and get number of samples\n",
      "    assert y_true.shape == y_pred.shape\n",
      "    n_samples = y_true.shape[0]\n",
      "    \n",
      "    # sort rows on prediction column \n",
      "    # (from largest to smallest)\n",
      "    arr = np.array([y_true, y_pred]).transpose()\n",
      "    true_order = arr[arr[:,0].argsort()][::-1,0]\n",
      "    pred_order = arr[arr[:,1].argsort()][::-1,0]\n",
      "    \n",
      "    # get Lorenz curves\n",
      "    L_true = np.cumsum(true_order) / np.sum(true_order)\n",
      "    L_pred = np.cumsum(pred_order) / np.sum(pred_order)\n",
      "    L_ones = np.linspace(1/n_samples, 1, n_samples)\n",
      "    \n",
      "    # get Gini coefficients (area between curves)\n",
      "    G_true = np.sum(L_ones - L_true)\n",
      "    G_pred = np.sum(L_ones - L_pred)\n",
      "    \n",
      "    # normalize to true Gini coefficient\n",
      "    return G_pred/G_true\n",
      "\n",
      "# Source script: justfor que por sua vez pegou da fonte abaixo\n",
      "# Source of good version: https://www.kaggle.com/c/ClaimPredictionChallenge/forums/t/703/code-to-calculate-normalizedgini    \n",
      "def Gini2_aux(actual, pred, cmpcol = 0, sortcol = 1):\n",
      "     assert( len(actual) == len(pred) )\n",
      "     all = np.asarray(np.c_[ actual, pred, np.arange(len(actual)) ], dtype=np.float)\n",
      "     all = all[ np.lexsort((all[:,2], -1*all[:,1])) ]\n",
      "     totalLosses = all[:,0].sum()\n",
      "     giniSum = all[:,0].cumsum().sum() / totalLosses\n",
      "     giniSum -= (len(actual) + 1) / 2.\n",
      "     return giniSum / len(actual)\n",
      " \n",
      "def Gini2(y_true, y_pred):\n",
      "     return Gini2_aux(y_true, y_pred) / Gini2_aux(y_true, y_true)\n",
      "\n",
      "def ReBalanceTrainData(train_pre,sample_size):\n",
      "    h = 1\n",
      "    print \"Hazard: \" + str(h)\n",
      "    train_aux = train_pre[train_pre.Hazard == h]\n",
      "    rows_sampled = np.random.choice(train_aux.index,sample_size)\n",
      "    train_balanced_pre = train_pre.ix[rows_sampled]\n",
      "\n",
      "    for h in range(2,hazard_thr):\n",
      "        print \"Hazard: \" + str(h)\n",
      "        train_aux = train_pre[train_pre.Hazard == h]\n",
      "        rows_sampled = np.random.choice(train_aux.index,sample_size)\n",
      "        train_balanced_pre = train_balanced_pre.append(train_pre.ix[rows_sampled])\n",
      "\n",
      "    return train_balanced_pre\n",
      "\n",
      "def SampleData(train_balanced_pre,train_size,val_size,test_size):\n",
      "\n",
      "    print 'Making a copy'\n",
      "    train_copy = train_balanced_pre.copy()\n",
      "   \n",
      "    print 'Sampling validation set'\n",
      "    np.random.seed(3)\n",
      "    val_rows_samples = np.random.choice( train_copy.index,val_size,replace=False)\n",
      "    val_data = train_copy.ix[val_rows_samples].copy()\n",
      "\n",
      "    print 'Sampling train set'\n",
      "    train_test_data = train_copy.drop(val_rows_samples).copy()\n",
      "    print 'train_test_data-size: ' + str(train_test_data.shape)\n",
      "\n",
      "    np.random.seed(7)\n",
      "    train_rows_samples = np.random.choice( train_test_data.index,train_size, replace=False)\n",
      "    train_data = train_test_data.ix[train_rows_samples].copy()\n",
      "    \n",
      "    print 'Sampling test set'\n",
      "    test_data = train_test_data.drop(train_rows_samples).copy()\n",
      "    \n",
      "    np.random.seed(5)\n",
      "    test_rows_samples = np.random.choice(test_data.index,test_size, replace=True)\n",
      "    test_data = test_data.ix[test_rows_samples].copy()\n",
      "\n",
      "    return train_data, val_data, test_data\n",
      "\n",
      "\n",
      "def DropColumns(data,columns_to_drop):    \n",
      "    for c in columns_to_drop:\n",
      "        print 'dropping ' + c\n",
      "        data.drop(c, axis=1, inplace=True)\n",
      "\n",
      "    return data"
     ],
     "language": "python",
     "metadata": {},
     "outputs": [
      {
       "output_type": "stream",
       "stream": "stdout",
       "text": [
        "Defining functions (shameless stolen from the script pages)\n"
       ]
      }
     ],
     "prompt_number": 6
    },
    {
     "cell_type": "code",
     "collapsed": false,
     "input": [
      "\n",
      "#load train and test \n",
      "train  = pd.read_csv('../data/raw/train.csv', index_col=0)\n",
      "test   = pd.read_csv('../data/raw/test.csv', index_col=0)\n",
      "\n",
      "print train.shape\n",
      "## XXX Parece BUG head() nao mostra a ultimas colunas: 10,20,30\n",
      "## Entao eu tive que duplicar para imprimir todas as colunas\n",
      "print train.iloc[:,0:10].head()\n",
      "print train.iloc[:,10:20].head()\n",
      "print train.iloc[:,20:30].head()\n",
      "print train.iloc[:,30:33].head()\n",
      "print \"==========================\"\n",
      "\n",
      "labels = train.Hazard\n",
      "%matplotlib inline\n",
      "labels.hist(bins=69)"
     ],
     "language": "python",
     "metadata": {},
     "outputs": [
      {
       "output_type": "stream",
       "stream": "stdout",
       "text": [
        "(50999, 33)\n",
        "    Hazard  T1_V1  T1_V2  T1_V3 T1_V4 T1_V5 T1_V6 T1_V7 T1_V8 T1_V9\n",
        "Id                                                                 \n",
        "1        1     15      3      2     N     B     N     B     B     D\n",
        "2        4     16     14      5     H     B     N     B     B     C\n",
        "3        1     10     10      5     N     K     N     B     B     E\n",
        "4        1     18     18      5     N     K     N     B     B     E\n",
        "5        1     13     19      5     N     H     N     B     B     E\n",
        "    T1_V10 T1_V11 T1_V12  T1_V13  T1_V14 T1_V15 T1_V16 T1_V17  T2_V1  T2_V2\n",
        "Id                                                                         \n",
        "1        7      B      B      15       1      A      B      N     36     11\n",
        "2       12      B      B      10       3      A      B      Y     78     10\n",
        "3       12      H      B      15       1      A      R      Y     71     21\n",
        "4        3      H      B      15       1      A      R      N     71     13\n",
        "5        7      H      B      10       1      A      J      N     75     10\n",
        "   T2_V3  T2_V4 T2_V5  T2_V6  T2_V7  T2_V8  T2_V9  T2_V10 T2_V11 T2_V12\n",
        "Id                                                                     \n",
        "1      N     10     B      2     37      1     11       6      Y      N\n",
        "2      Y     17     C      2     22      1     18       5      Y      Y\n",
        "3      Y     13     C      6     37      2     14       6      Y      Y\n",
        "4      N     15     A      2     25      1      1       6      Y      N\n",
        "5      Y     11     B      1     22      1      2       7      N      N\n",
        "   T2_V13  T2_V14  T2_V15\n",
        "Id                       \n",
        "1       E       2       2\n",
        "2       E       2       1\n",
        "3       E       6       1\n",
        "4       C       2       6\n",
        "5       E       1       1\n",
        "==========================\n"
       ]
      },
      {
       "metadata": {},
       "output_type": "pyout",
       "prompt_number": 116,
       "text": [
        "<matplotlib.axes.AxesSubplot at 0x7f8960912510>"
       ]
      },
      {
       "metadata": {},
       "output_type": "display_data",
       "png": "[encoded data removed]",
       "text": [
        "<matplotlib.figure.Figure at 0x7f8961028f10>"
       ]
      }
     ],
     "prompt_number": 116
    },
    {
     "cell_type": "markdown",
     "metadata": {},
     "source": [
      "\n",
      "## Prepaing training data"
     ]
    },
    {
     "cell_type": "code",
     "collapsed": false,
     "input": [
      "## Fazendo copia dos dados\n",
      "train_pre = train.copy()\n",
      "\n",
      "hazard_thr = 70\n",
      "sample_size = 3000 # sample size per class\n",
      "\n",
      "print \"Printing intial train dim:\"\n",
      "print train_pre.shape\n",
      "\n",
      "print \"Considering Hazard < \" + str(hazard_thr) + \" in train data\"\n",
      "\n",
      "# verifcar a capacidade de gerar hazard acima de hazard_thr\n",
      "train_pre = train_pre[ train_pre['Hazard'] < hazard_thr]\n",
      "\n",
      "print 'train_pre-size: ' + str(train_pre.shape)"
     ],
     "language": "python",
     "metadata": {},
     "outputs": [
      {
       "output_type": "stream",
       "stream": "stdout",
       "text": [
        "Printing intial train dim:\n",
        "(50999, 33)\n",
        "Considering Hazard < 70 in train data\n",
        "train_pre-size: (50999, 33)\n"
       ]
      }
     ],
     "prompt_number": 117
    },
    {
     "cell_type": "code",
     "collapsed": false,
     "input": [
      "#train_balanced_pre = ReBalanceTrainData(train_pre,sample_size)\n",
      "train_balanced_pre = train_pre\n",
      "\n",
      "train_size = 10000\n",
      "val_size = 40000\n",
      "test_size = 1200\n",
      "train_data, val_data, test_data = SampleData(train_balanced_pre,train_size,val_size,test_size)\n",
      "\n",
      "#offset = 5000\n",
      "#train_data = train_balanced_pre.iloc[0:offset,:].copy()\n",
      "#val_data = train_balanced_pre.iloc[offset:50999,:].copy()\n",
      "\n",
      "#np.random.seed(5)\n",
      "#test_rows_samples = np.random.choice(val_data.index,1500, replace=True)\n",
      "#test_data = val_data.ix[test_rows_samples].copy()\n",
      "\n",
      "val_labels = val_data['Hazard'].copy()\n",
      "val_data.to_csv('val_data.csv')\n",
      "\n",
      "test_labels = test_data['Hazard'].copy()\n",
      "test_data.to_csv('test_data.csv')\n",
      "\n",
      "#train_data = ReBalanceTrainData(train_data,11500)\n",
      "\n",
      "train_labels = train_data['Hazard'].copy()\n",
      "train_data.to_csv('train_data.csv')\n",
      "\n",
      "print 'train-size: ' + str(train_data.shape)\n",
      "print 'test-size: ' + str(test_data.shape)\n",
      "print 'val-size: ' + str(val_data.shape)"
     ],
     "language": "python",
     "metadata": {},
     "outputs": [
      {
       "output_type": "stream",
       "stream": "stdout",
       "text": [
        "Making a copy\n",
        "Sampling validation set\n",
        "Sampling train set\n",
        "train_test_data-size: (10999, 33)\n",
        "Sampling test set"
       ]
      },
      {
       "output_type": "stream",
       "stream": "stdout",
       "text": [
        "\n",
        "train-size: (10000, 33)"
       ]
      },
      {
       "output_type": "stream",
       "stream": "stdout",
       "text": [
        "\n",
        "test-size: (1200, 33)\n",
        "val-size: (40000, 33)\n"
       ]
      }
     ],
     "prompt_number": 118
    },
    {
     "cell_type": "code",
     "collapsed": false,
     "input": [
      "print 'Summary of random data slected'\n",
      "print 'train data:'\n",
      "train_labels.value_counts().to_csv('train_labels_describe.csv')\n",
      "plt.xlim(0,70);train_labels.hist(bins=(hazard_thr-1))\n",
      "\n",
      "print 'val data: '\n",
      "val_labels.order().value_counts().to_csv('val_labels_describe.csv')\n",
      "plt.figure();plt.xlim(0,70);val_labels.hist(bins=(hazard_thr-1))\n",
      "\n",
      "print 'test data: '\n",
      "test_labels.order().value_counts().to_csv('test_labels_describe.csv')\n",
      "plt.figure();plt.xlim(0,70);test_labels.hist( bins=(hazard_thr-1))"
     ],
     "language": "python",
     "metadata": {},
     "outputs": [
      {
       "output_type": "stream",
       "stream": "stdout",
       "text": [
        "Summary of random data slected\n",
        "train data:\n",
        "val data: "
       ]
      },
      {
       "output_type": "stream",
       "stream": "stdout",
       "text": [
        "\n",
        "test data: "
       ]
      },
      {
       "output_type": "stream",
       "stream": "stdout",
       "text": [
        "\n"
       ]
      },
      {
       "metadata": {},
       "output_type": "pyout",
       "prompt_number": 119,
       "text": [
        "<matplotlib.axes.AxesSubplot at 0x7f8960152950>"
       ]
      },
      {
       "metadata": {},
       "output_type": "display_data",
       "png": "[encoded data removed]",
       "text": [
        "<matplotlib.figure.Figure at 0x7f8960fc0450>"
       ]
      },
      {
       "metadata": {},
       "output_type": "display_data",
       "png": "[encoded data removed]",
       "text": [
        "<matplotlib.figure.Figure at 0x7f89603f1490>"
       ]
      },
      {
       "metadata": {},
       "output_type": "display_data",
       "png": "[encoded data removed]",
       "text": [
        "<matplotlib.figure.Figure at 0x7f89601527d0>"
       ]
      }
     ],
     "prompt_number": 119
    },
    {
     "cell_type": "code",
     "collapsed": false,
     "input": [
      "plt.matshow(train_balanced_pre.corr());plt.colorbar()\n",
      "train_balanced_pre.corr().to_csv('train_balanced_corr.csv')\n",
      "\n",
      "plt.matshow(train_data.corr());plt.colorbar()\n",
      "train_data.corr().to_csv('train_data_corr.csv')\n",
      "\n",
      "plt.matshow(val_data.corr());plt.colorbar()\n",
      "val_data.corr().to_csv('val_data_corr.csv')"
     ],
     "language": "python",
     "metadata": {},
     "outputs": [
      {
       "metadata": {},
       "output_type": "display_data",
       "png": "[encoded data removed]",
       "text": [
        "<matplotlib.figure.Figure at 0x7f8960801f10>"
       ]
      },
      {
       "metadata": {},
       "output_type": "display_data",
       "png": "[encoded data removed]",
       "text": [
        "<matplotlib.figure.Figure at 0x7f89603bfad0>"
       ]
      },
      {
       "metadata": {},
       "output_type": "display_data",
       "png": "[encoded data removed]",
       "text": [
        "<matplotlib.figure.Figure at 0x7f89606eed90>"
       ]
      }
     ],
     "prompt_number": 120
    },
    {
     "cell_type": "code",
     "collapsed": false,
     "input": [
      "submit_pre = test.copy()\n",
      "\n",
      "print \"Droping columns\"\n",
      "\n",
      "columns_to_drop = [ 'Hazard', 'T1_V13' ,'T2_V7' , 'T2_V12']#, 'T1_V13', 'T1_V10', 'T2_V8', 'T2_V10']\n",
      "\n",
      "train_data = DropColumns(train_data,columns_to_drop)\n",
      "val_data = DropColumns(val_data,columns_to_drop)\n",
      "test_data = DropColumns(test_data,columns_to_drop)\n",
      "\n",
      "columns_to_drop = [ 'T1_V13','T2_V7', 'T2_V12' ] #, 'T1_V13', 'T1_V10', 'T2_V8', 'T2_V10']\n",
      "\n",
      "submit_pre = DropColumns(submit_pre,columns_to_drop)\n",
      "\n",
      "columns = train_data.columns\n",
      "submit_ind = submit_pre.index\n",
      "\n",
      "print \"Converting to numpy array\"\n",
      "\n",
      "train_data = np.array(train_data)\n",
      "train_labels = np.array(train_labels)\n",
      "\n",
      "val_data = np.array(val_data)\n",
      "val_labels = np.array(val_labels)\n",
      "\n",
      "test_data = np.array(test_data)\n",
      "test_labels = np.array(test_labels)\n",
      "\n",
      "submit_pre = np.array(submit_pre)"
     ],
     "language": "python",
     "metadata": {},
     "outputs": [
      {
       "output_type": "stream",
       "stream": "stdout",
       "text": [
        "Droping columns\n",
        "dropping Hazard\n",
        "dropping T1_V13\n",
        "dropping T2_V7\n",
        "dropping T2_V12\n",
        "dropping Hazard\n",
        "dropping T1_V13\n",
        "dropping T2_V7\n",
        "dropping T2_V12\n",
        "dropping Hazard"
       ]
      },
      {
       "output_type": "stream",
       "stream": "stdout",
       "text": [
        "\n",
        "dropping T1_V13\n",
        "dropping T2_V7\n",
        "dropping T2_V12\n",
        "dropping T1_V13\n",
        "dropping T2_V7\n",
        "dropping T2_V12\n",
        "Converting to numpy array\n"
       ]
      }
     ],
     "prompt_number": 121
    },
    {
     "cell_type": "code",
     "collapsed": false,
     "input": [
      "print \"Converting string columns to numerical levels (train_balanced_pre)\"\n",
      "# label encode the categorical variables\n",
      "\n",
      "print train_data.shape\n",
      "print val_data.shape\n",
      "print test_data.shape\n",
      "print submit_pre.shape\n",
      "\n",
      "print 'Converting train'\n",
      "for i in range(train_data.shape[1]):\n",
      "    lbl = preprocessing.LabelEncoder()\n",
      "    lbl.fit(list(train_data[:,i]) + list(submit_pre[:,i]) + list(test_data[:,i]) + list(val_data[:,i]))\n",
      "    train_data[:,i] = lbl.transform(train_data[:,i])\n",
      "    val_data[:,i] = lbl.transform(val_data[:,i])\n",
      "    test_data[:,i] = lbl.transform(test_data[:,i])\n",
      "    submit_pre[:,i] = lbl.transform(submit_pre[:,i])\n",
      "    \n",
      "train_data = train_data.astype(float)\n",
      "val_data = val_data.astype(float)\n",
      "test_data = test_data.astype(float)\n",
      "submit_pre = submit_pre.astype(float)"
     ],
     "language": "python",
     "metadata": {},
     "outputs": [
      {
       "output_type": "stream",
       "stream": "stdout",
       "text": [
        "Converting string columns to numerical levels (train_balanced_pre)\n",
        "(10000, 29)\n",
        "(40000, 29)\n",
        "(1200, 29)\n",
        "(51000, 29)\n",
        "Converting train\n"
       ]
      }
     ],
     "prompt_number": 122
    },
    {
     "cell_type": "markdown",
     "metadata": {},
     "source": [
      "## Seting model parameters"
     ]
    },
    {
     "cell_type": "code",
     "collapsed": false,
     "input": [
      "params = {}\n",
      "params[\"objective\"] = \"reg:linear\" #\"count:poisson\"      \n",
      "params[\"eta\"] = 0.01\n",
      "params[\"min_child_weight\"] = 5\n",
      "params[\"subsample\"] = 0.75\n",
      "params[\"colsample_bytree\"] = 0.70\n",
      "params[\"scale_pos_weight\"] = 1.0\n",
      "params[\"silent\"] = 0\n",
      "params[\"booster\"] = \"gbtree\"\n",
      "params[\"seed\"] = 0\n",
      "params[\"max_depth\"] = 9\n",
      "\n",
      "num_rounds = 5000\n",
      "est = 51\n",
      "\n",
      "plst = list(params.items())\n",
      "print \"Prameters list\"\n",
      "print plst\n",
      "\n",
      "print 'num_rounds: ' + str(num_rounds)\n",
      "print 'early_stopping_rounds: ' + str(est)"
     ],
     "language": "python",
     "metadata": {},
     "outputs": [
      {
       "output_type": "stream",
       "stream": "stdout",
       "text": [
        "Prameters list\n",
        "[('colsample_bytree', 0.7), ('silent', 0), ('scale_pos_weight', 1.0), ('min_child_weight', 5), ('subsample', 0.75), ('eta', 0.01), ('objective', 'reg:linear'), ('seed', 0), ('max_depth', 9), ('booster', 'gbtree')]\n",
        "num_rounds: 5000\n",
        "early_stopping_rounds: 51\n"
       ]
      }
     ],
     "prompt_number": 123
    },
    {
     "cell_type": "code",
     "collapsed": false,
     "input": [
      "print 'Converting train, val, test n sbmit to DMatrix'\n",
      "\n",
      "xgsubmit = xgb.DMatrix(submit_pre)\n",
      "xgtest = xgb.DMatrix(test_data)\n",
      "\n",
      "xgval = xgb.DMatrix(val_data,label=val_labels)\n",
      "xgtrain = xgb.DMatrix(train_data,label=train_labels)\n",
      "\n",
      "print \"number of row xgtrain\"\n",
      "print xgtrain.num_row()\n",
      "\n",
      "print \"number of row xgval\"\n",
      "print xgval.num_row()\n",
      "\n",
      "print \"number of row xgsubmit\"\n",
      "print xgsubmit.num_row()\n",
      "\n",
      "print \"number of row xgtest\"\n",
      "print xgtest.num_row()"
     ],
     "language": "python",
     "metadata": {},
     "outputs": [
      {
       "output_type": "stream",
       "stream": "stdout",
       "text": [
        "Converting train, val, test n sbmit to DMatrix\n",
        "number of row xgtrain"
       ]
      },
      {
       "output_type": "stream",
       "stream": "stdout",
       "text": [
        "\n",
        "10000\n",
        "number of row xgval\n",
        "40000\n",
        "number of row xgsubmit\n",
        "51000\n",
        "number of row xgtest\n",
        "1200\n"
       ]
      }
     ],
     "prompt_number": 124
    },
    {
     "cell_type": "markdown",
     "metadata": {},
     "source": [
      "## Training XGBoost"
     ]
    },
    {
     "cell_type": "code",
     "collapsed": false,
     "input": [
      "res = {'train':[], 'val': []}\n",
      "#train using early stopping and predict\n",
      "\n",
      "#random.seed(13)\n",
      "#np.random.seed(13)\n",
      "watchlist = [(xgtrain, 'train'),(xgval, 'val')]\n",
      "model = xgb.train(plst, xgtrain, num_rounds, evals =watchlist, early_stopping_rounds=est,\n",
      "                evals_result=res,verbose_eval=False)\n",
      "\n",
      "print 'model was trained'\n",
      "print 'best iterations n score'\n",
      "print 'iteartion: ' + str(model.best_iteration) + \"\\t score: \"+ str(model.best_score)"
     ],
     "language": "python",
     "metadata": {},
     "outputs": [
      {
       "output_type": "stream",
       "stream": "stderr",
       "text": [
        "Will train until val error hasn't decreased in 51 rounds.\n",
        "Stopping. Best iteration:\n",
        "[448]\ttrain-rmse:2.535484\tval-rmse:3.827023\n",
        "\n"
       ]
      },
      {
       "output_type": "stream",
       "stream": "stdout",
       "text": [
        "model was trained\n",
        "best iterations n score\n",
        "iteartion: 448\t score: 3.827023\n"
       ]
      }
     ],
     "prompt_number": 125
    },
    {
     "cell_type": "code",
     "collapsed": false,
     "input": [
      "#print res.items()\n",
      "\n",
      "print '=== Train n val report ==='\n",
      "preds1 = model.predict(xgtrain)\n",
      "r1 = np.sqrt( np.mean((train_labels - preds1)**2) )\n",
      "\n",
      "preds2 = model.predict(xgval)\n",
      "r2 = np.sqrt( np.mean((val_labels - preds2)**2) )\n",
      "\n",
      "print \"train-rmse:\" +  str(r1) + \"\\t val-rmse:\" + str(r2)\n",
      "\n",
      "print 'PS: Gini (Duvidoso)'\n",
      "print \"train-gini1: \" + str(Gini1(train_labels,preds1)) + \"\\t val-gini1: \" + str(Gini1(val_labels,preds2)) \n",
      "print \"train-gini2: \" + str(Gini2(train_labels,preds1)) + \"\\t val-gini2: \" + str(Gini2(val_labels,preds2))\n",
      "\n",
      "print '=== Test report ===' \n",
      "print 'Computing lables in test data'\n",
      "preds2 = model.predict(xgtest)\n",
      "\n",
      "print 'PS: Gini (Duvidoso)'\n",
      "r1 = np.sqrt( np.mean((test_labels - preds2)**2) )\n",
      "g1 = Gini1(test_labels,preds2)\n",
      "g2 = Gini2(test_labels,preds2)\n",
      "print \"test-rmse: \" +  str(r1) + \"\\t test-GINI1: \" + str(g1) + \"\\t test-GINI2: \" + str(g2)\n",
      "\n",
      "# generate solution file\n",
      "preds = pd.DataFrame({\"Hazard\": test_labels, \"Model_Hazard\": preds2})\n",
      "preds = preds.set_index('Hazard')\n",
      "print preds.head(7)\n",
      "\n",
      "#preds.to_csv('test_dev_20150824_1.csv')"
     ],
     "language": "python",
     "metadata": {},
     "outputs": [
      {
       "output_type": "stream",
       "stream": "stdout",
       "text": [
        "=== Train n val report ===\n",
        "train-rmse:2.44998826243\t val-rmse:3.82748833383\n",
        "PS: Gini (Duvidoso)\n",
        "train-gini1: 0.872444020228\t val-gini1: 0.348652053724"
       ]
      },
      {
       "output_type": "stream",
       "stream": "stdout",
       "text": [
        "\n",
        "train-gini2: 0.872417037306\t val-gini2: 0.348617768456\n",
        "=== Test report ===\n",
        "Computing lables in test data\n",
        "PS: Gini (Duvidoso)"
       ]
      },
      {
       "output_type": "stream",
       "stream": "stdout",
       "text": [
        "\n",
        "test-rmse: 3.94518901317\t test-GINI1: 0.345255559405\t test-GINI2: 0.344109636583\n",
        "        Model_Hazard\n",
        "Hazard              \n",
        "13          4.796046\n",
        "10          4.479246\n",
        "9           3.975787\n",
        "1           4.764972\n",
        "12          5.365871\n",
        "23          8.422581\n",
        "1           5.060286\n"
       ]
      }
     ],
     "prompt_number": 126
    },
    {
     "cell_type": "code",
     "collapsed": false,
     "input": [
      "\n",
      "preds3 = np.ones(val_size)*1.0\n",
      "\n",
      "print preds3.size\n",
      "\n",
      "r2 = np.sqrt( np.mean((val_labels - preds3)**2) )\n",
      "\n",
      "print \"val-rmse:\" + str(r2)\n"
     ],
     "language": "python",
     "metadata": {},
     "outputs": [
      {
       "output_type": "stream",
       "stream": "stdout",
       "text": [
        "3100\n",
        "val-rmse:0.485599064675\n"
       ]
      }
     ],
     "prompt_number": 112
    },
    {
     "cell_type": "code",
     "collapsed": false,
     "input": [
      "\n",
      "print '=== Submit ==='\n",
      "preds1 = model.predict(xgsubmit)\n",
      "\n",
      "# generate solution file\n",
      "preds = pd.DataFrame({\"Id\": submit_ind, \"Hazard\": preds1})\n",
      "preds = preds.set_index('Id')\n",
      "print preds.head(11)\n",
      "preds.to_csv('submit_dev_20150825_3.csv')\n",
      "\n",
      "print 'Current dir:'\n",
      "%pwd"
     ],
     "language": "python",
     "metadata": {},
     "outputs": [
      {
       "output_type": "stream",
       "stream": "stdout",
       "text": [
        "=== Submit ===\n",
        "      Hazard\n",
        "Id          \n",
        "6   2.542489\n",
        "7   2.426166\n",
        "8   2.737331\n",
        "9   2.220707\n",
        "10  1.888816\n",
        "11  2.470783\n",
        "13  2.460974\n",
        "14  1.926570\n",
        "16  2.306811\n",
        "17  2.022678\n",
        "18  2.306679"
       ]
      },
      {
       "output_type": "stream",
       "stream": "stdout",
       "text": [
        "\n",
        "Current dir:"
       ]
      },
      {
       "output_type": "stream",
       "stream": "stdout",
       "text": [
        "\n"
       ]
      },
      {
       "metadata": {},
       "output_type": "pyout",
       "prompt_number": 15,
       "text": [
        "u'/home/leandroohf/Documents/kaggle/Liberty_Mutual_Group_Property_Inspection_Prediction/dev'"
       ]
      }
     ],
     "prompt_number": 15
    },
    {
     "cell_type": "code",
     "collapsed": false,
     "input": [
      "xgb.plot_importance(model)\n",
      "\n",
      "## importance: f1,f15,f0,f2,f18,f16,f27,f13\n",
      "#col_k = [1,15,0,2,18,16,27,13,3,4,26,9,25,20,11,5,19,8,17,12,14]\n",
      "#print columns[col_k]\n",
      "\n",
      "## Noa eh importante\n",
      "col_k = [5,14,9,15,7,4,18,3,8,19,10,6,16,2,0]\n",
      "print columns[col_k]\n"
     ],
     "language": "python",
     "metadata": {},
     "outputs": [
      {
       "output_type": "stream",
       "stream": "stdout",
       "text": [
        "Index([u'T1_V6', u'T2_V5', u'T1_V14', u'T2_V6', u'T1_V11', u'T1_V5', u'T2_V13',\n",
        "       u'T1_V4', u'T1_V13', u'T2_V14', u'T1_V16', u'T1_V10', u'T2_V7',\n",
        "       u'T1_V3', u'T1_V1'],\n",
        "      dtype='object')\n"
       ]
      },
      {
       "metadata": {},
       "output_type": "display_data",
       "png": "[encoded data removed]",
       "text": [
        "<matplotlib.figure.Figure at 0x7f9f0b2ca9d0>"
       ]
      }
     ],
     "prompt_number": 74
    }
   ],
   "metadata": {}
  }
 ]
}