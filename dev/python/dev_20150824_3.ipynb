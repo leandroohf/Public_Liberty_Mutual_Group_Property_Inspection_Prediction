{
 "metadata": {
  "name": ""
 },
 "nbformat": 3,
 "nbformat_minor": 0,
 "worksheets": [
  {
   "cells": [
    {
     "cell_type": "markdown",
     "metadata": {},
     "source": [
      "# Base de treino balanciada\n",
      "\n",
      "Considerei apenas algumas Hazard < 31\n",
      "E mantive demais parametros.\n",
      "\n",
      "[2999]\ttrain-rmse:1.190850\tval-rmse:1.863692\n",
      "\n",
      "kaglle score: 0.292845\n",
      "\n",
      "Meu melhor kaglle score: 0.3850\n",
      "\n"
     ]
    },
    {
     "cell_type": "code",
     "collapsed": false,
     "input": [
      "# Setup\n",
      "import pandas as pd\n",
      "import numpy as np \n",
      "from sklearn import preprocessing\n",
      "import xgboost as xgb\n",
      "import random"
     ],
     "language": "python",
     "metadata": {},
     "outputs": [],
     "prompt_number": 1
    },
    {
     "cell_type": "code",
     "collapsed": false,
     "input": [
      "# Defining some functions\n",
      "\n",
      "print 'Defining functions (shameless stolen from the script pages)'\n",
      "\n",
      "## Gini: Shameless stolen from jpopham91's script\n",
      "def Gini1(y_true, y_pred):\n",
      "    # check and get number of samples\n",
      "    assert y_true.shape == y_pred.shape\n",
      "    n_samples = y_true.shape[0]\n",
      "    \n",
      "    # sort rows on prediction column \n",
      "    # (from largest to smallest)\n",
      "    arr = np.array([y_true, y_pred]).transpose()\n",
      "    true_order = arr[arr[:,0].argsort()][::-1,0]\n",
      "    pred_order = arr[arr[:,1].argsort()][::-1,0]\n",
      "    \n",
      "    # get Lorenz curves\n",
      "    L_true = np.cumsum(true_order) / np.sum(true_order)\n",
      "    L_pred = np.cumsum(pred_order) / np.sum(pred_order)\n",
      "    L_ones = np.linspace(1/n_samples, 1, n_samples)\n",
      "    \n",
      "    # get Gini coefficients (area between curves)\n",
      "    G_true = np.sum(L_ones - L_true)\n",
      "    G_pred = np.sum(L_ones - L_pred)\n",
      "    \n",
      "    # normalize to true Gini coefficient\n",
      "    return G_pred/G_true\n",
      "\n",
      "# Source script: justfor que por sua vez pegou da fonte abaixo\n",
      "# Source of good version: https://www.kaggle.com/c/ClaimPredictionChallenge/forums/t/703/code-to-calculate-normalizedgini    \n",
      "def Gini2_aux(actual, pred, cmpcol = 0, sortcol = 1):\n",
      "     assert( len(actual) == len(pred) )\n",
      "     all = np.asarray(np.c_[ actual, pred, np.arange(len(actual)) ], dtype=np.float)\n",
      "     all = all[ np.lexsort((all[:,2], -1*all[:,1])) ]\n",
      "     totalLosses = all[:,0].sum()\n",
      "     giniSum = all[:,0].cumsum().sum() / totalLosses\n",
      "     giniSum -= (len(actual) + 1) / 2.\n",
      "     return giniSum / len(actual)\n",
      " \n",
      "def Gini2(y_true, y_pred):\n",
      "     return Gini2_aux(y_true, y_pred) / Gini2_aux(y_true, y_true)\n"
     ],
     "language": "python",
     "metadata": {},
     "outputs": [
      {
       "output_type": "stream",
       "stream": "stdout",
       "text": [
        "Defining functions (shameless stolen from the script pages)\n"
       ]
      }
     ],
     "prompt_number": 4
    },
    {
     "cell_type": "code",
     "collapsed": false,
     "input": [
      "\n",
      "#load train and test \n",
      "train  = pd.read_csv('../data/raw/train.csv', index_col=0)\n",
      "test   = pd.read_csv('../data/raw/test.csv', index_col=0)\n",
      "\n",
      "print train.shape\n",
      "## XXX Parece BUG head() nao mostra a ultimas colunas: 10,20,30\n",
      "## Entao eu tive que duplicar para imprimir todas as colunas\n",
      "print train.iloc[:,0:10].head()\n",
      "print train.iloc[:,10:20].head()\n",
      "print train.iloc[:,20:30].head()\n",
      "print train.iloc[:,30:33].head()\n",
      "print \"==========================\"\n",
      "\n",
      "labels = train.Hazard\n",
      "%matplotlib inline\n",
      "labels.hist(bins=69)"
     ],
     "language": "python",
     "metadata": {},
     "outputs": [
      {
       "output_type": "stream",
       "stream": "stdout",
       "text": [
        "(50999, 33)\n",
        "    Hazard  T1_V1  T1_V2  T1_V3 T1_V4 T1_V5 T1_V6 T1_V7 T1_V8 T1_V9\n",
        "Id                                                                 \n",
        "1        1     15      3      2     N     B     N     B     B     D\n",
        "2        4     16     14      5     H     B     N     B     B     C\n",
        "3        1     10     10      5     N     K     N     B     B     E\n",
        "4        1     18     18      5     N     K     N     B     B     E\n",
        "5        1     13     19      5     N     H     N     B     B     E\n",
        "    T1_V10 T1_V11 T1_V12  T1_V13  T1_V14 T1_V15 T1_V16 T1_V17  T2_V1  T2_V2\n",
        "Id                                                                         \n",
        "1        7      B      B      15       1      A      B      N     36     11\n",
        "2       12      B      B      10       3      A      B      Y     78     10\n",
        "3       12      H      B      15       1      A      R      Y     71     21\n",
        "4        3      H      B      15       1      A      R      N     71     13\n",
        "5        7      H      B      10       1      A      J      N     75     10\n",
        "   T2_V3  T2_V4 T2_V5  T2_V6  T2_V7  T2_V8  T2_V9  T2_V10 T2_V11 T2_V12\n",
        "Id                                                                     \n",
        "1      N     10     B      2     37      1     11       6      Y      N\n",
        "2      Y     17     C      2     22      1     18       5      Y      Y\n",
        "3      Y     13     C      6     37      2     14       6      Y      Y\n",
        "4      N     15     A      2     25      1      1       6      Y      N\n",
        "5      Y     11     B      1     22      1      2       7      N      N\n",
        "   T2_V13  T2_V14  T2_V15\n",
        "Id                       \n",
        "1       E       2       2\n",
        "2       E       2       1\n",
        "3       E       6       1\n",
        "4       C       2       6\n",
        "5       E       1       1\n",
        "==========================\n"
       ]
      },
      {
       "metadata": {},
       "output_type": "pyout",
       "prompt_number": 5,
       "text": [
        "<matplotlib.axes.AxesSubplot at 0x7f14d400f610>"
       ]
      },
      {
       "metadata": {},
       "output_type": "display_data",
       "png": "[encoded data removed]",
       "text": [
        "<matplotlib.figure.Figure at 0x7f14d6f0a750>"
       ]
      }
     ],
     "prompt_number": 5
    },
    {
     "cell_type": "markdown",
     "metadata": {},
     "source": [
      "\n",
      "## Prepaing training data"
     ]
    },
    {
     "cell_type": "code",
     "collapsed": false,
     "input": [
      "## Fazendo copia dos dados\n",
      "train_pre = train.copy()\n",
      "\n",
      "hazard_thr = 31\n",
      "sample_size = 3000 # sample size per class\n",
      "\n",
      "print \"Printing intial train dim:\"\n",
      "print train_pre.shape\n",
      "print \"Considering Hazard < \" + str(hazard_thr) + \" in train data\"\n",
      "\n",
      "# verifcar a capacidade de gerar hazard acima de hazard_thr\n",
      "test_pre  = train_pre[ train_pre['Hazard'] > hazard_thr]\n",
      "train_pre = train_pre[ train_pre['Hazard'] < hazard_thr]\n",
      "\n",
      "h = 1\n",
      "print \"Hazard: \" + str(h)\n",
      "train_aux = train_pre[train_pre.Hazard == h]\n",
      "rows_sampled = np.random.choice(train_aux.index,sample_size)\n",
      "train_balanced_pre = train_pre.ix[rows_sampled]\n",
      "\n",
      "for h in range(2,hazard_thr):\n",
      "    print \"Hazard: \" + str(h)\n",
      "    train_aux = train_pre[train_pre.Hazard == h]\n",
      "    rows_sampled = np.random.choice(train_aux.index,sample_size)\n",
      "    train_balanced_pre = train_balanced_pre.append(train_pre.ix[rows_sampled])\n",
      "\n",
      "print train_balanced_pre.shape\n",
      "labels_balanced = train_balanced_pre['Hazard'].copy()\n",
      "test_labels = test_pre['Hazard'].copy()"
     ],
     "language": "python",
     "metadata": {},
     "outputs": [
      {
       "output_type": "stream",
       "stream": "stdout",
       "text": [
        "Printing intial train dim:\n",
        "(50999, 33)\n",
        "Considering Hazard < 31 in train data\n",
        "Hazard: 1\n",
        "Hazard: 2\n",
        "Hazard: 3"
       ]
      },
      {
       "output_type": "stream",
       "stream": "stdout",
       "text": [
        "\n",
        "Hazard: 4\n",
        "Hazard: 5\n",
        "Hazard: 6"
       ]
      },
      {
       "output_type": "stream",
       "stream": "stdout",
       "text": [
        "\n",
        "Hazard: 7\n",
        "Hazard: 8"
       ]
      },
      {
       "output_type": "stream",
       "stream": "stdout",
       "text": [
        "\n",
        "Hazard: 9\n",
        "Hazard: 10"
       ]
      },
      {
       "output_type": "stream",
       "stream": "stdout",
       "text": [
        "\n",
        "Hazard: 11\n",
        "Hazard: 12"
       ]
      },
      {
       "output_type": "stream",
       "stream": "stdout",
       "text": [
        "\n",
        "Hazard: 13\n",
        "Hazard: 14"
       ]
      },
      {
       "output_type": "stream",
       "stream": "stdout",
       "text": [
        "\n",
        "Hazard: 15\n",
        "Hazard: 16"
       ]
      },
      {
       "output_type": "stream",
       "stream": "stdout",
       "text": [
        "\n",
        "Hazard: 17\n",
        "Hazard: 18"
       ]
      },
      {
       "output_type": "stream",
       "stream": "stdout",
       "text": [
        "\n",
        "Hazard: 19\n",
        "Hazard: 20"
       ]
      },
      {
       "output_type": "stream",
       "stream": "stdout",
       "text": [
        "\n",
        "Hazard: 21\n",
        "Hazard: 22"
       ]
      },
      {
       "output_type": "stream",
       "stream": "stdout",
       "text": [
        "\n",
        "Hazard: 23\n",
        "Hazard: 24"
       ]
      },
      {
       "output_type": "stream",
       "stream": "stdout",
       "text": [
        "\n",
        "Hazard: 25"
       ]
      },
      {
       "output_type": "stream",
       "stream": "stdout",
       "text": [
        "\n",
        "Hazard: 26"
       ]
      },
      {
       "output_type": "stream",
       "stream": "stdout",
       "text": [
        "\n",
        "Hazard: 27"
       ]
      },
      {
       "output_type": "stream",
       "stream": "stdout",
       "text": [
        "\n",
        "Hazard: 28"
       ]
      },
      {
       "output_type": "stream",
       "stream": "stdout",
       "text": [
        "\n",
        "Hazard: 29"
       ]
      },
      {
       "output_type": "stream",
       "stream": "stdout",
       "text": [
        "\n",
        "Hazard: 30"
       ]
      },
      {
       "output_type": "stream",
       "stream": "stdout",
       "text": [
        "\n",
        "(90000, 33)"
       ]
      },
      {
       "output_type": "stream",
       "stream": "stdout",
       "text": [
        "\n"
       ]
      }
     ],
     "prompt_number": 6
    },
    {
     "cell_type": "code",
     "collapsed": false,
     "input": [
      "submit_pre = test.copy()\n",
      "\n",
      "print \"Droping columns\"\n",
      "\n",
      "train_balanced_pre.drop('Hazard', axis=1, inplace=True)\n",
      "train_balanced_pre.drop('T2_V10', axis=1, inplace=True)\n",
      "train_balanced_pre.drop('T2_V7', axis=1, inplace=True)\n",
      "train_balanced_pre.drop('T1_V13', axis=1, inplace=True)\n",
      "train_balanced_pre.drop('T1_V10', axis=1, inplace=True)\n",
      "\n",
      "test_pre.drop('Hazard', axis=1, inplace=True)\n",
      "test_pre.drop('T2_V10', axis=1, inplace=True)\n",
      "test_pre.drop('T2_V7', axis=1, inplace=True)\n",
      "test_pre.drop('T1_V13', axis=1, inplace=True)\n",
      "test_pre.drop('T1_V10', axis=1, inplace=True)\n",
      "\n",
      "submit_pre.drop('T2_V10', axis=1, inplace=True)\n",
      "submit_pre.drop('T2_V7', axis=1, inplace=True)\n",
      "submit_pre.drop('T1_V13', axis=1, inplace=True)\n",
      "submit_pre.drop('T1_V10', axis=1, inplace=True)\n",
      "\n",
      "print \"Printing labels dim:\"\n",
      "print labels_balanced.shape\n",
      "print \"Printing train dim:\"\n",
      "print train_balanced_pre.shape\n",
      "print \"Printing test dim:\"\n",
      "print test_pre.shape\n",
      "print \"Printing submit dim:\"\n",
      "print submit_pre.shape\n",
      "    \n",
      "columns = train_balanced_pre.columns\n",
      "submit_ind = submit_pre.index\n",
      "\n",
      "print \"Converting to numpy array\"\n",
      "\n",
      "train_balanced_pre = np.array(train_balanced_pre)\n",
      "labels_balanced = np.array(labels_balanced)\n",
      "\n",
      "test_pre = np.array(test_pre)\n",
      "test_labels = np.array(test_labels)\n",
      "\n",
      "submit_pre = np.array(submit_pre)"
     ],
     "language": "python",
     "metadata": {},
     "outputs": [
      {
       "output_type": "stream",
       "stream": "stdout",
       "text": [
        "Droping columns\n",
        "Printing labels dim:"
       ]
      },
      {
       "output_type": "stream",
       "stream": "stdout",
       "text": [
        "\n",
        "(90000,)\n",
        "Printing train dim:\n",
        "(90000, 28)\n",
        "Printing test dim:\n",
        "(41, 28)\n",
        "Printing submit dim:\n",
        "(51000, 28)\n",
        "Converting to numpy array\n"
       ]
      }
     ],
     "prompt_number": 7
    },
    {
     "cell_type": "code",
     "collapsed": false,
     "input": [
      "lbl = preprocessing.LabelEncoder()\n",
      "\n",
      "print \"Converting string columns to numerical levels (train_balanced_pre)\"\n",
      "# label encode the categorical variables\n",
      "for i in range(train_balanced_pre.shape[1]):\n",
      "    lbl = preprocessing.LabelEncoder()\n",
      "    lbl.fit(list(train_balanced_pre[:,i]) + list(submit_pre[:,i]) + list(test_pre[:,i]))\n",
      "    train_balanced_pre[:,i] = lbl.transform(train_balanced_pre[:,i])\n",
      "    test_pre[:,i] = lbl.transform(test_pre[:,i])    \n",
      "    submit_pre[:,i] = lbl.transform(submit_pre[:,i])\n",
      "\n",
      "train_balanced_pre = train_balanced_pre.astype(float)\n",
      "test_pre = test_pre.astype(float)\n",
      "submit_pre = submit_pre.astype(float)\n",
      "\n",
      "print train_balanced_pre.shape\n",
      "print test_pre.shape"
     ],
     "language": "python",
     "metadata": {},
     "outputs": [
      {
       "output_type": "stream",
       "stream": "stdout",
       "text": [
        "Converting string columns to numerical levels (train_balanced_pre)\n",
        "(90000, 28)"
       ]
      },
      {
       "output_type": "stream",
       "stream": "stdout",
       "text": [
        "\n",
        "(41, 28)\n"
       ]
      }
     ],
     "prompt_number": 8
    },
    {
     "cell_type": "markdown",
     "metadata": {},
     "source": [
      "## Seting model parameters"
     ]
    },
    {
     "cell_type": "code",
     "collapsed": false,
     "input": [
      "params = {}\n",
      "params[\"objective\"] = \"reg:linear\" # \"count:poisson\"  \n",
      "params[\"eta\"] = 0.01\n",
      "params[\"min_child_weight\"] = 5\n",
      "params[\"subsample\"] = 0.8\n",
      "params[\"colsample_bytree\"] = 0.8\n",
      "params[\"scale_pos_weight\"] = 1.0\n",
      "params[\"silent\"] = 1\n",
      "params[\"booster\"] = \"gbtree\"\n",
      "params[\"max_depth\"] = 9\n",
      "\n",
      "num_rounds = 3000\n",
      "est = 11\n",
      "\n",
      "plst = list(params.items())\n",
      "print \"Prameters list\"\n",
      "print plst\n",
      "\n",
      "\n",
      "print 'num_rounds: ' + str(num_rounds)\n",
      "print 'early_stopping_rounds: ' + str(est)\n"
     ],
     "language": "python",
     "metadata": {},
     "outputs": [
      {
       "output_type": "stream",
       "stream": "stdout",
       "text": [
        "Prameters list\n",
        "[('colsample_bytree', 0.8), ('silent', 1), ('scale_pos_weight', 1.0), ('min_child_weight', 5), ('subsample', 0.8), ('eta', 0.01), ('objective', 'reg:linear'), ('max_depth', 9), ('booster', 'gbtree')]\n",
        "num_rounds: 3000\n",
        "early_stopping_rounds: 11\n"
       ]
      }
     ],
     "prompt_number": 9
    },
    {
     "cell_type": "code",
     "collapsed": false,
     "input": [
      "test_rows_sampled = np.random.choice(range(len(train_balanced_pre)),10000)\n",
      "\n",
      "xgsubmit = xgb.DMatrix(submit_pre)\n",
      "xgtest = xgb.DMatrix(test_pre)\n",
      "\n",
      "#create a train and validation dmatrices \n",
      "print 'Setting validation and training data'\n",
      "xgval = xgb.DMatrix(train_balanced_pre[test_rows_sampled,:],\n",
      "\t\t\t\t      label=labels_balanced[test_rows_sampled])\n",
      "xgtrain = xgb.DMatrix(np.delete(train_balanced_pre,test_rows_sampled,0),\n",
      "\t\t\t       label=np.delete(labels_balanced,test_rows_sampled,0))\n",
      "\n",
      "\n",
      "print \"number of row xgsubmit\"\n",
      "print xgsubmit.num_row()\n",
      "\n",
      "print \"number of row xgtest\"\n",
      "print xgtest.num_row()\n",
      "\n",
      "print \"number of row xgtrain\"\n",
      "print xgtrain.num_row()\n",
      "\n",
      "print \"number of row xgval\"\n",
      "print xgval.num_row()\n"
     ],
     "language": "python",
     "metadata": {},
     "outputs": [
      {
       "output_type": "stream",
       "stream": "stdout",
       "text": [
        "Setting validation and training data\n",
        "number of row xgsubmit"
       ]
      },
      {
       "output_type": "stream",
       "stream": "stdout",
       "text": [
        "\n",
        "51000\n",
        "number of row xgtest\n",
        "41\n",
        "number of row xgtrain\n",
        "80534\n",
        "number of row xgval\n",
        "10000\n"
       ]
      }
     ],
     "prompt_number": 10
    },
    {
     "cell_type": "markdown",
     "metadata": {},
     "source": [
      "## Training XGBoost"
     ]
    },
    {
     "cell_type": "code",
     "collapsed": false,
     "input": [
      "#train using early stopping and predict\n",
      "watchlist = [(xgtrain, 'train'),(xgval, 'val')]\n",
      "model = xgb.train(plst, xgtrain, num_rounds, watchlist, early_stopping_rounds=est)"
     ],
     "language": "python",
     "metadata": {},
     "outputs": [
      {
       "output_type": "stream",
       "stream": "stderr",
       "text": [
        "Will train until val error hasn't decreased in 11 rounds.\n",
        "[0]\ttrain-rmse:17.173222\tval-rmse:17.105621\n"
       ]
      },
      {
       "output_type": "stream",
       "stream": "stderr",
       "text": [
        "[1]\ttrain-rmse:17.023806\tval-rmse:16.956690\n",
        "[2]\ttrain-rmse:16.874575\tval-rmse:16.808264\n"
       ]
      },
      {
       "output_type": "stream",
       "stream": "stderr",
       "text": [
        "[3]\ttrain-rmse:16.726574\tval-rmse:16.661083\n",
        "[4]\ttrain-rmse:16.579559\tval-rmse:16.515566\n"
       ]
      },
      {
       "output_type": "stream",
       "stream": "stderr",
       "text": [
        "[5]\ttrain-rmse:16.434395\tval-rmse:16.371738\n",
        "[6]\ttrain-rmse:16.290596\tval-rmse:16.229132\n"
       ]
      },
      {
       "output_type": "stream",
       "stream": "stderr",
       "text": [
        "[7]\ttrain-rmse:16.150135\tval-rmse:16.089447\n",
        "[8]\ttrain-rmse:16.009611\tval-rmse:15.949953\n"
       ]
      },
      {
       "output_type": "stream",
       "stream": "stderr",
       "text": [
        "[9]\ttrain-rmse:15.870928\tval-rmse:15.812621\n",
        "[10]\ttrain-rmse:15.733900\tval-rmse:15.676161\n"
       ]
      },
      {
       "output_type": "stream",
       "stream": "stderr",
       "text": [
        "[11]\ttrain-rmse:15.596850\tval-rmse:15.540513\n",
        "[12]\ttrain-rmse:15.462159\tval-rmse:15.406740\n"
       ]
      },
      {
       "output_type": "stream",
       "stream": "stderr",
       "text": [
        "[13]\ttrain-rmse:15.328195\tval-rmse:15.273660\n",
        "[14]\ttrain-rmse:15.196069\tval-rmse:15.142367\n"
       ]
      },
      {
       "output_type": "stream",
       "stream": "stderr",
       "text": [
        "[15]\ttrain-rmse:15.064951\tval-rmse:15.011808\n",
        "[16]\ttrain-rmse:14.937400\tval-rmse:14.884953\n"
       ]
      },
      {
       "output_type": "stream",
       "stream": "stderr",
       "text": [
        "[17]\ttrain-rmse:14.811893\tval-rmse:14.759873\n",
        "[18]\ttrain-rmse:14.686640\tval-rmse:14.635265\n"
       ]
      },
      {
       "output_type": "stream",
       "stream": "stderr",
       "text": [
        "[19]\ttrain-rmse:14.561366\tval-rmse:14.511069\n",
        "[20]\ttrain-rmse:14.440578\tval-rmse:14.391628\n"
       ]
      },
      {
       "output_type": "stream",
       "stream": "stderr",
       "text": [
        "[21]\ttrain-rmse:14.324108\tval-rmse:14.275775\n",
        "[22]\ttrain-rmse:14.203745\tval-rmse:14.156255\n"
       ]
      },
      {
       "output_type": "stream",
       "stream": "stderr",
       "text": [
        "[23]\ttrain-rmse:14.083653\tval-rmse:14.037047\n",
        "[24]\ttrain-rmse:13.965836\tval-rmse:13.919950\n"
       ]
      },
      {
       "output_type": "stream",
       "stream": "stderr",
       "text": [
        "[25]\ttrain-rmse:13.847626\tval-rmse:13.803442\n",
        "[26]\ttrain-rmse:13.731586\tval-rmse:13.688164\n"
       ]
      },
      {
       "output_type": "stream",
       "stream": "stderr",
       "text": [
        "[27]\ttrain-rmse:13.616235\tval-rmse:13.573665\n",
        "[28]\ttrain-rmse:13.503726\tval-rmse:13.462132\n"
       ]
      },
      {
       "output_type": "stream",
       "stream": "stderr",
       "text": [
        "[29]\ttrain-rmse:13.392073\tval-rmse:13.351155\n",
        "[30]\ttrain-rmse:13.281737\tval-rmse:13.241472\n"
       ]
      },
      {
       "output_type": "stream",
       "stream": "stderr",
       "text": [
        "[31]\ttrain-rmse:13.170965\tval-rmse:13.131966\n",
        "[32]\ttrain-rmse:13.061800\tval-rmse:13.023646\n"
       ]
      },
      {
       "output_type": "stream",
       "stream": "stderr",
       "text": [
        "[33]\ttrain-rmse:12.954499\tval-rmse:12.917019\n",
        "[34]\ttrain-rmse:12.847336\tval-rmse:12.810255\n"
       ]
      },
      {
       "output_type": "stream",
       "stream": "stderr",
       "text": [
        "[35]\ttrain-rmse:12.740718\tval-rmse:12.704482\n",
        "[36]\ttrain-rmse:12.636422\tval-rmse:12.600699\n"
       ]
      },
      {
       "output_type": "stream",
       "stream": "stderr",
       "text": [
        "[37]\ttrain-rmse:12.534657\tval-rmse:12.499207\n",
        "[38]\ttrain-rmse:12.432228\tval-rmse:12.397909\n"
       ]
      },
      {
       "output_type": "stream",
       "stream": "stderr",
       "text": [
        "[39]\ttrain-rmse:12.331569\tval-rmse:12.298153\n",
        "[40]\ttrain-rmse:12.233347\tval-rmse:12.200515\n"
       ]
      },
      {
       "output_type": "stream",
       "stream": "stderr",
       "text": [
        "[41]\ttrain-rmse:12.135665\tval-rmse:12.103889\n",
        "[42]\ttrain-rmse:12.037009\tval-rmse:12.006183\n"
       ]
      },
      {
       "output_type": "stream",
       "stream": "stderr",
       "text": [
        "[43]\ttrain-rmse:11.944471\tval-rmse:11.914222\n",
        "[44]\ttrain-rmse:11.848808\tval-rmse:11.819098\n"
       ]
      },
      {
       "output_type": "stream",
       "stream": "stderr",
       "text": [
        "[45]\ttrain-rmse:11.753839\tval-rmse:11.725749\n",
        "[46]\ttrain-rmse:11.660771\tval-rmse:11.633553\n"
       ]
      },
      {
       "output_type": "stream",
       "stream": "stderr",
       "text": [
        "[47]\ttrain-rmse:11.568144\tval-rmse:11.541286\n",
        "[48]\ttrain-rmse:11.476805\tval-rmse:11.450460\n"
       ]
      },
      {
       "output_type": "stream",
       "stream": "stderr",
       "text": [
        "[49]\ttrain-rmse:11.386564\tval-rmse:11.360132\n",
        "[50]\ttrain-rmse:11.297437\tval-rmse:11.272120\n"
       ]
      },
      {
       "output_type": "stream",
       "stream": "stderr",
       "text": [
        "[51]\ttrain-rmse:11.210089\tval-rmse:11.185580\n",
        "[52]\ttrain-rmse:11.122391\tval-rmse:11.098259\n"
       ]
      },
      {
       "output_type": "stream",
       "stream": "stderr",
       "text": [
        "[53]\ttrain-rmse:11.037341\tval-rmse:11.013906\n",
        "[54]\ttrain-rmse:10.952198\tval-rmse:10.929214\n"
       ]
      },
      {
       "output_type": "stream",
       "stream": "stderr",
       "text": [
        "[55]\ttrain-rmse:10.867869\tval-rmse:10.845092\n",
        "[56]\ttrain-rmse:10.783853\tval-rmse:10.761442\n"
       ]
      },
      {
       "output_type": "stream",
       "stream": "stderr",
       "text": [
        "[57]\ttrain-rmse:10.701336\tval-rmse:10.679801\n",
        "[58]\ttrain-rmse:10.619444\tval-rmse:10.598482\n"
       ]
      },
      {
       "output_type": "stream",
       "stream": "stderr",
       "text": [
        "[59]\ttrain-rmse:10.537418\tval-rmse:10.517315\n",
        "[60]\ttrain-rmse:10.457321\tval-rmse:10.437641\n"
       ]
      },
      {
       "output_type": "stream",
       "stream": "stderr",
       "text": [
        "[61]\ttrain-rmse:10.378629\tval-rmse:10.359828\n",
        "[62]\ttrain-rmse:10.299434\tval-rmse:10.281545\n"
       ]
      },
      {
       "output_type": "stream",
       "stream": "stderr",
       "text": [
        "[63]\ttrain-rmse:10.223945\tval-rmse:10.206712\n",
        "[64]\ttrain-rmse:10.146195\tval-rmse:10.129702\n"
       ]
      },
      {
       "output_type": "stream",
       "stream": "stderr",
       "text": [
        "[65]\ttrain-rmse:10.071028\tval-rmse:10.054887\n",
        "[66]\ttrain-rmse:9.995008\tval-rmse:9.979606\n"
       ]
      },
      {
       "output_type": "stream",
       "stream": "stderr",
       "text": [
        "[67]\ttrain-rmse:9.919041\tval-rmse:9.904142\n",
        "[68]\ttrain-rmse:9.845686\tval-rmse:9.831594\n"
       ]
      },
      {
       "output_type": "stream",
       "stream": "stderr",
       "text": [
        "[69]\ttrain-rmse:9.775142\tval-rmse:9.761937\n",
        "[70]\ttrain-rmse:9.703288\tval-rmse:9.690544\n"
       ]
      },
      {
       "output_type": "stream",
       "stream": "stderr",
       "text": [
        "[71]\ttrain-rmse:9.631996\tval-rmse:9.619493\n",
        "[72]\ttrain-rmse:9.563487\tval-rmse:9.550985\n"
       ]
      },
      {
       "output_type": "stream",
       "stream": "stderr",
       "text": [
        "[73]\ttrain-rmse:9.495496\tval-rmse:9.483756\n",
        "[74]\ttrain-rmse:9.426549\tval-rmse:9.415742\n"
       ]
      },
      {
       "output_type": "stream",
       "stream": "stderr",
       "text": [
        "[75]\ttrain-rmse:9.360167\tval-rmse:9.350053\n",
        "[76]\ttrain-rmse:9.294429\tval-rmse:9.285067\n"
       ]
      },
      {
       "output_type": "stream",
       "stream": "stderr",
       "text": [
        "[77]\ttrain-rmse:9.228595\tval-rmse:9.220164\n",
        "[78]\ttrain-rmse:9.163500\tval-rmse:9.155504\n"
       ]
      },
      {
       "output_type": "stream",
       "stream": "stderr",
       "text": [
        "[79]\ttrain-rmse:9.100190\tval-rmse:9.092590\n",
        "[80]\ttrain-rmse:9.034752\tval-rmse:9.028007\n"
       ]
      },
      {
       "output_type": "stream",
       "stream": "stderr",
       "text": [
        "[81]\ttrain-rmse:8.971081\tval-rmse:8.965009\n",
        "[82]\ttrain-rmse:8.907769\tval-rmse:8.902081\n"
       ]
      },
      {
       "output_type": "stream",
       "stream": "stderr",
       "text": [
        "[83]\ttrain-rmse:8.845140\tval-rmse:8.840176\n",
        "[84]\ttrain-rmse:8.784207\tval-rmse:8.779672\n"
       ]
      },
      {
       "output_type": "stream",
       "stream": "stderr",
       "text": [
        "[85]\ttrain-rmse:8.725025\tval-rmse:8.721309\n",
        "[86]\ttrain-rmse:8.664907\tval-rmse:8.662099\n"
       ]
      },
      {
       "output_type": "stream",
       "stream": "stderr",
       "text": [
        "[87]\ttrain-rmse:8.607186\tval-rmse:8.604969\n",
        "[88]\ttrain-rmse:8.548862\tval-rmse:8.547380\n"
       ]
      },
      {
       "output_type": "stream",
       "stream": "stderr",
       "text": [
        "[89]\ttrain-rmse:8.492152\tval-rmse:8.491094\n",
        "[90]\ttrain-rmse:8.436019\tval-rmse:8.435852\n"
       ]
      },
      {
       "output_type": "stream",
       "stream": "stderr",
       "text": [
        "[91]\ttrain-rmse:8.378453\tval-rmse:8.378898\n",
        "[92]\ttrain-rmse:8.323428\tval-rmse:8.324507\n"
       ]
      },
      {
       "output_type": "stream",
       "stream": "stderr",
       "text": [
        "[93]\ttrain-rmse:8.267144\tval-rmse:8.268802\n",
        "[94]\ttrain-rmse:8.213047\tval-rmse:8.215623\n"
       ]
      },
      {
       "output_type": "stream",
       "stream": "stderr",
       "text": [
        "[95]\ttrain-rmse:8.160043\tval-rmse:8.163371\n",
        "[96]\ttrain-rmse:8.107863\tval-rmse:8.111382\n"
       ]
      },
      {
       "output_type": "stream",
       "stream": "stderr",
       "text": [
        "[97]\ttrain-rmse:8.054885\tval-rmse:8.059033\n",
        "[98]\ttrain-rmse:8.002560\tval-rmse:8.007680\n"
       ]
      },
      {
       "output_type": "stream",
       "stream": "stderr",
       "text": [
        "[99]\ttrain-rmse:7.951386\tval-rmse:7.956907\n",
        "[100]\ttrain-rmse:7.900308\tval-rmse:7.906405\n"
       ]
      },
      {
       "output_type": "stream",
       "stream": "stderr",
       "text": [
        "[101]\ttrain-rmse:7.850353\tval-rmse:7.857004\n",
        "[102]\ttrain-rmse:7.800460\tval-rmse:7.808352\n"
       ]
      },
      {
       "output_type": "stream",
       "stream": "stderr",
       "text": [
        "[103]\ttrain-rmse:7.751688\tval-rmse:7.759957\n",
        "[104]\ttrain-rmse:7.704297\tval-rmse:7.712939\n"
       ]
      },
      {
       "output_type": "stream",
       "stream": "stderr",
       "text": [
        "[105]\ttrain-rmse:7.656319\tval-rmse:7.666173\n",
        "[106]\ttrain-rmse:7.609454\tval-rmse:7.619604\n"
       ]
      },
      {
       "output_type": "stream",
       "stream": "stderr",
       "text": [
        "[107]\ttrain-rmse:7.563040\tval-rmse:7.574034\n",
        "[108]\ttrain-rmse:7.517220\tval-rmse:7.528795\n"
       ]
      },
      {
       "output_type": "stream",
       "stream": "stderr",
       "text": [
        "[109]\ttrain-rmse:7.472901\tval-rmse:7.484874\n",
        "[110]\ttrain-rmse:7.427850\tval-rmse:7.440612\n"
       ]
      },
      {
       "output_type": "stream",
       "stream": "stderr",
       "text": [
        "[111]\ttrain-rmse:7.384110\tval-rmse:7.397072\n",
        "[112]\ttrain-rmse:7.341521\tval-rmse:7.355260\n"
       ]
      },
      {
       "output_type": "stream",
       "stream": "stderr",
       "text": [
        "[113]\ttrain-rmse:7.300632\tval-rmse:7.314530\n",
        "[114]\ttrain-rmse:7.256795\tval-rmse:7.271168\n"
       ]
      },
      {
       "output_type": "stream",
       "stream": "stderr",
       "text": [
        "[115]\ttrain-rmse:7.215912\tval-rmse:7.230484\n",
        "[116]\ttrain-rmse:7.173990\tval-rmse:7.189377\n"
       ]
      },
      {
       "output_type": "stream",
       "stream": "stderr",
       "text": [
        "[117]\ttrain-rmse:7.132611\tval-rmse:7.148609\n",
        "[118]\ttrain-rmse:7.092275\tval-rmse:7.109100\n"
       ]
      },
      {
       "output_type": "stream",
       "stream": "stderr",
       "text": [
        "[119]\ttrain-rmse:7.053691\tval-rmse:7.070608\n",
        "[120]\ttrain-rmse:7.013438\tval-rmse:7.031367\n"
       ]
      },
      {
       "output_type": "stream",
       "stream": "stderr",
       "text": [
        "[121]\ttrain-rmse:6.972389\tval-rmse:6.990583\n",
        "[122]\ttrain-rmse:6.934257\tval-rmse:6.952804\n"
       ]
      },
      {
       "output_type": "stream",
       "stream": "stderr",
       "text": [
        "[123]\ttrain-rmse:6.896656\tval-rmse:6.916271\n",
        "[124]\ttrain-rmse:6.858389\tval-rmse:6.878421\n"
       ]
      },
      {
       "output_type": "stream",
       "stream": "stderr",
       "text": [
        "[125]\ttrain-rmse:6.820979\tval-rmse:6.841490\n",
        "[126]\ttrain-rmse:6.783320\tval-rmse:6.804319\n"
       ]
      },
      {
       "output_type": "stream",
       "stream": "stderr",
       "text": [
        "[127]\ttrain-rmse:6.747143\tval-rmse:6.768067\n",
        "[128]\ttrain-rmse:6.711402\tval-rmse:6.733288\n"
       ]
      },
      {
       "output_type": "stream",
       "stream": "stderr",
       "text": [
        "[129]\ttrain-rmse:6.674823\tval-rmse:6.697516\n",
        "[130]\ttrain-rmse:6.635781\tval-rmse:6.659265\n"
       ]
      },
      {
       "output_type": "stream",
       "stream": "stderr",
       "text": [
        "[131]\ttrain-rmse:6.600478\tval-rmse:6.624788\n",
        "[132]\ttrain-rmse:6.565907\tval-rmse:6.590752\n"
       ]
      },
      {
       "output_type": "stream",
       "stream": "stderr",
       "text": [
        "[133]\ttrain-rmse:6.531492\tval-rmse:6.556666\n",
        "[134]\ttrain-rmse:6.498087\tval-rmse:6.523901\n"
       ]
      },
      {
       "output_type": "stream",
       "stream": "stderr",
       "text": [
        "[135]\ttrain-rmse:6.463279\tval-rmse:6.489752\n",
        "[136]\ttrain-rmse:6.430311\tval-rmse:6.457594\n"
       ]
      },
      {
       "output_type": "stream",
       "stream": "stderr",
       "text": [
        "[137]\ttrain-rmse:6.397163\tval-rmse:6.425271\n",
        "[138]\ttrain-rmse:6.364112\tval-rmse:6.392465\n"
       ]
      },
      {
       "output_type": "stream",
       "stream": "stderr",
       "text": [
        "[139]\ttrain-rmse:6.332142\tval-rmse:6.361365\n",
        "[140]\ttrain-rmse:6.301317\tval-rmse:6.331279\n"
       ]
      },
      {
       "output_type": "stream",
       "stream": "stderr",
       "text": [
        "[141]\ttrain-rmse:6.270611\tval-rmse:6.300811\n",
        "[142]\ttrain-rmse:6.240062\tval-rmse:6.270764\n"
       ]
      },
      {
       "output_type": "stream",
       "stream": "stderr",
       "text": [
        "[143]\ttrain-rmse:6.208621\tval-rmse:6.239754\n",
        "[144]\ttrain-rmse:6.178814\tval-rmse:6.210440\n"
       ]
      },
      {
       "output_type": "stream",
       "stream": "stderr",
       "text": [
        "[145]\ttrain-rmse:6.148264\tval-rmse:6.180606\n",
        "[146]\ttrain-rmse:6.118728\tval-rmse:6.151775\n"
       ]
      },
      {
       "output_type": "stream",
       "stream": "stderr",
       "text": [
        "[147]\ttrain-rmse:6.089998\tval-rmse:6.123692\n",
        "[148]\ttrain-rmse:6.061670\tval-rmse:6.095963\n"
       ]
      },
      {
       "output_type": "stream",
       "stream": "stderr",
       "text": [
        "[149]\ttrain-rmse:6.033468\tval-rmse:6.068187\n",
        "[150]\ttrain-rmse:6.007028\tval-rmse:6.042101\n"
       ]
      },
      {
       "output_type": "stream",
       "stream": "stderr",
       "text": [
        "[151]\ttrain-rmse:5.979836\tval-rmse:6.015750\n",
        "[152]\ttrain-rmse:5.952703\tval-rmse:5.989089\n"
       ]
      },
      {
       "output_type": "stream",
       "stream": "stderr",
       "text": [
        "[153]\ttrain-rmse:5.925641\tval-rmse:5.962547\n",
        "[154]\ttrain-rmse:5.896867\tval-rmse:5.934457\n"
       ]
      },
      {
       "output_type": "stream",
       "stream": "stderr",
       "text": [
        "[155]\ttrain-rmse:5.868036\tval-rmse:5.905999\n",
        "[156]\ttrain-rmse:5.843800\tval-rmse:5.882342\n"
       ]
      },
      {
       "output_type": "stream",
       "stream": "stderr",
       "text": [
        "[157]\ttrain-rmse:5.818006\tval-rmse:5.857430\n",
        "[158]\ttrain-rmse:5.793641\tval-rmse:5.833600\n"
       ]
      },
      {
       "output_type": "stream",
       "stream": "stderr",
       "text": [
        "[159]\ttrain-rmse:5.768313\tval-rmse:5.808639\n",
        "[160]\ttrain-rmse:5.743651\tval-rmse:5.784259\n"
       ]
      },
      {
       "output_type": "stream",
       "stream": "stderr",
       "text": [
        "[161]\ttrain-rmse:5.719386\tval-rmse:5.760698\n",
        "[162]\ttrain-rmse:5.695373\tval-rmse:5.737596\n"
       ]
      },
      {
       "output_type": "stream",
       "stream": "stderr",
       "text": [
        "[163]\ttrain-rmse:5.671820\tval-rmse:5.714281\n",
        "[164]\ttrain-rmse:5.648132\tval-rmse:5.691483\n"
       ]
      },
      {
       "output_type": "stream",
       "stream": "stderr",
       "text": [
        "[165]\ttrain-rmse:5.622849\tval-rmse:5.666494\n",
        "[166]\ttrain-rmse:5.599869\tval-rmse:5.644075\n"
       ]
      },
      {
       "output_type": "stream",
       "stream": "stderr",
       "text": [
        "[167]\ttrain-rmse:5.577750\tval-rmse:5.622504\n",
        "[168]\ttrain-rmse:5.555860\tval-rmse:5.601072\n"
       ]
      },
      {
       "output_type": "stream",
       "stream": "stderr",
       "text": [
        "[169]\ttrain-rmse:5.532965\tval-rmse:5.578764\n",
        "[170]\ttrain-rmse:5.511189\tval-rmse:5.557271\n"
       ]
      },
      {
       "output_type": "stream",
       "stream": "stderr",
       "text": [
        "[171]\ttrain-rmse:5.490410\tval-rmse:5.536882\n",
        "[172]\ttrain-rmse:5.468797\tval-rmse:5.515841\n"
       ]
      },
      {
       "output_type": "stream",
       "stream": "stderr",
       "text": [
        "[173]\ttrain-rmse:5.448378\tval-rmse:5.495812\n",
        "[174]\ttrain-rmse:5.427261\tval-rmse:5.475266\n"
       ]
      },
      {
       "output_type": "stream",
       "stream": "stderr",
       "text": [
        "[175]\ttrain-rmse:5.406239\tval-rmse:5.454695\n",
        "[176]\ttrain-rmse:5.386105\tval-rmse:5.435345\n"
       ]
      },
      {
       "output_type": "stream",
       "stream": "stderr",
       "text": [
        "[177]\ttrain-rmse:5.366571\tval-rmse:5.416276\n",
        "[178]\ttrain-rmse:5.347483\tval-rmse:5.397882\n"
       ]
      },
      {
       "output_type": "stream",
       "stream": "stderr",
       "text": [
        "[179]\ttrain-rmse:5.326567\tval-rmse:5.377477\n",
        "[180]\ttrain-rmse:5.308193\tval-rmse:5.359903\n"
       ]
      },
      {
       "output_type": "stream",
       "stream": "stderr",
       "text": [
        "[181]\ttrain-rmse:5.288232\tval-rmse:5.340340\n",
        "[182]\ttrain-rmse:5.269038\tval-rmse:5.321833\n"
       ]
      },
      {
       "output_type": "stream",
       "stream": "stderr",
       "text": [
        "[183]\ttrain-rmse:5.249766\tval-rmse:5.303223\n",
        "[184]\ttrain-rmse:5.231203\tval-rmse:5.285424\n"
       ]
      },
      {
       "output_type": "stream",
       "stream": "stderr",
       "text": [
        "[185]\ttrain-rmse:5.212623\tval-rmse:5.267447\n",
        "[186]\ttrain-rmse:5.193923\tval-rmse:5.249318\n"
       ]
      },
      {
       "output_type": "stream",
       "stream": "stderr",
       "text": [
        "[187]\ttrain-rmse:5.175871\tval-rmse:5.231779\n",
        "[188]\ttrain-rmse:5.158923\tval-rmse:5.215127\n"
       ]
      },
      {
       "output_type": "stream",
       "stream": "stderr",
       "text": [
        "[189]\ttrain-rmse:5.142832\tval-rmse:5.199282\n",
        "[190]\ttrain-rmse:5.126398\tval-rmse:5.183230\n"
       ]
      },
      {
       "output_type": "stream",
       "stream": "stderr",
       "text": [
        "[191]\ttrain-rmse:5.109136\tval-rmse:5.166838\n",
        "[192]\ttrain-rmse:5.092378\tval-rmse:5.150579\n"
       ]
      },
      {
       "output_type": "stream",
       "stream": "stderr",
       "text": [
        "[193]\ttrain-rmse:5.073844\tval-rmse:5.132641\n",
        "[194]\ttrain-rmse:5.057330\tval-rmse:5.116663\n"
       ]
      },
      {
       "output_type": "stream",
       "stream": "stderr",
       "text": [
        "[195]\ttrain-rmse:5.039412\tval-rmse:5.099131\n",
        "[196]\ttrain-rmse:5.021879\tval-rmse:5.082437\n"
       ]
      },
      {
       "output_type": "stream",
       "stream": "stderr",
       "text": [
        "[197]\ttrain-rmse:5.003805\tval-rmse:5.064748\n",
        "[198]\ttrain-rmse:4.988963\tval-rmse:5.050088\n"
       ]
      },
      {
       "output_type": "stream",
       "stream": "stderr",
       "text": [
        "[199]\ttrain-rmse:4.972901\tval-rmse:5.034479\n",
        "[200]\ttrain-rmse:4.956028\tval-rmse:5.017801\n"
       ]
      },
      {
       "output_type": "stream",
       "stream": "stderr",
       "text": [
        "[201]\ttrain-rmse:4.941071\tval-rmse:5.002991\n",
        "[202]\ttrain-rmse:4.926383\tval-rmse:4.989238\n"
       ]
      },
      {
       "output_type": "stream",
       "stream": "stderr",
       "text": [
        "[203]\ttrain-rmse:4.912673\tval-rmse:4.976067\n",
        "[204]\ttrain-rmse:4.899920\tval-rmse:4.963871\n"
       ]
      },
      {
       "output_type": "stream",
       "stream": "stderr",
       "text": [
        "[205]\ttrain-rmse:4.885836\tval-rmse:4.950541\n",
        "[206]\ttrain-rmse:4.871640\tval-rmse:4.936773\n"
       ]
      },
      {
       "output_type": "stream",
       "stream": "stderr",
       "text": [
        "[207]\ttrain-rmse:4.857510\tval-rmse:4.923490\n",
        "[208]\ttrain-rmse:4.842270\tval-rmse:4.908800\n"
       ]
      },
      {
       "output_type": "stream",
       "stream": "stderr",
       "text": [
        "[209]\ttrain-rmse:4.828107\tval-rmse:4.895196\n",
        "[210]\ttrain-rmse:4.813694\tval-rmse:4.881229\n"
       ]
      },
      {
       "output_type": "stream",
       "stream": "stderr",
       "text": [
        "[211]\ttrain-rmse:4.798365\tval-rmse:4.866454\n",
        "[212]\ttrain-rmse:4.784439\tval-rmse:4.853093\n"
       ]
      },
      {
       "output_type": "stream",
       "stream": "stderr",
       "text": [
        "[213]\ttrain-rmse:4.770957\tval-rmse:4.840157\n",
        "[214]\ttrain-rmse:4.755300\tval-rmse:4.825206\n"
       ]
      },
      {
       "output_type": "stream",
       "stream": "stderr",
       "text": [
        "[215]\ttrain-rmse:4.742523\tval-rmse:4.812986\n",
        "[216]\ttrain-rmse:4.730592\tval-rmse:4.801857\n"
       ]
      },
      {
       "output_type": "stream",
       "stream": "stderr",
       "text": [
        "[217]\ttrain-rmse:4.719248\tval-rmse:4.790697\n",
        "[218]\ttrain-rmse:4.706373\tval-rmse:4.778413\n"
       ]
      },
      {
       "output_type": "stream",
       "stream": "stderr",
       "text": [
        "[219]\ttrain-rmse:4.692255\tval-rmse:4.764963\n",
        "[220]\ttrain-rmse:4.679940\tval-rmse:4.753191\n"
       ]
      },
      {
       "output_type": "stream",
       "stream": "stderr",
       "text": [
        "[221]\ttrain-rmse:4.668502\tval-rmse:4.742218\n",
        "[222]\ttrain-rmse:4.653715\tval-rmse:4.728033\n"
       ]
      },
      {
       "output_type": "stream",
       "stream": "stderr",
       "text": [
        "[223]\ttrain-rmse:4.642591\tval-rmse:4.717192\n",
        "[224]\ttrain-rmse:4.630891\tval-rmse:4.705873\n"
       ]
      },
      {
       "output_type": "stream",
       "stream": "stderr",
       "text": [
        "[225]\ttrain-rmse:4.620695\tval-rmse:4.695953\n",
        "[226]\ttrain-rmse:4.608806\tval-rmse:4.684539\n"
       ]
      },
      {
       "output_type": "stream",
       "stream": "stderr",
       "text": [
        "[227]\ttrain-rmse:4.596524\tval-rmse:4.672830\n",
        "[228]\ttrain-rmse:4.584464\tval-rmse:4.661372\n"
       ]
      },
      {
       "output_type": "stream",
       "stream": "stderr",
       "text": [
        "[229]\ttrain-rmse:4.573257\tval-rmse:4.650771\n",
        "[230]\ttrain-rmse:4.562424\tval-rmse:4.640101\n"
       ]
      },
      {
       "output_type": "stream",
       "stream": "stderr",
       "text": [
        "[231]\ttrain-rmse:4.551517\tval-rmse:4.629970\n",
        "[232]\ttrain-rmse:4.541672\tval-rmse:4.620523\n"
       ]
      },
      {
       "output_type": "stream",
       "stream": "stderr",
       "text": [
        "[233]\ttrain-rmse:4.530910\tval-rmse:4.610484\n",
        "[234]\ttrain-rmse:4.520828\tval-rmse:4.600763\n"
       ]
      },
      {
       "output_type": "stream",
       "stream": "stderr",
       "text": [
        "[235]\ttrain-rmse:4.510372\tval-rmse:4.590560\n",
        "[236]\ttrain-rmse:4.499630\tval-rmse:4.580457\n"
       ]
      },
      {
       "output_type": "stream",
       "stream": "stderr",
       "text": [
        "[237]\ttrain-rmse:4.488829\tval-rmse:4.570260\n",
        "[238]\ttrain-rmse:4.477755\tval-rmse:4.559720\n"
       ]
      },
      {
       "output_type": "stream",
       "stream": "stderr",
       "text": [
        "[239]\ttrain-rmse:4.467583\tval-rmse:4.549863\n",
        "[240]\ttrain-rmse:4.457686\tval-rmse:4.540612\n"
       ]
      },
      {
       "output_type": "stream",
       "stream": "stderr",
       "text": [
        "[241]\ttrain-rmse:4.447695\tval-rmse:4.531043\n",
        "[242]\ttrain-rmse:4.436778\tval-rmse:4.520628\n"
       ]
      },
      {
       "output_type": "stream",
       "stream": "stderr",
       "text": [
        "[243]\ttrain-rmse:4.426912\tval-rmse:4.511101\n",
        "[244]\ttrain-rmse:4.418018\tval-rmse:4.502601\n"
       ]
      },
      {
       "output_type": "stream",
       "stream": "stderr",
       "text": [
        "[245]\ttrain-rmse:4.409360\tval-rmse:4.494389\n",
        "[246]\ttrain-rmse:4.400905\tval-rmse:4.486555\n"
       ]
      },
      {
       "output_type": "stream",
       "stream": "stderr",
       "text": [
        "[247]\ttrain-rmse:4.390565\tval-rmse:4.476744\n",
        "[248]\ttrain-rmse:4.381657\tval-rmse:4.467863\n"
       ]
      },
      {
       "output_type": "stream",
       "stream": "stderr",
       "text": [
        "[249]\ttrain-rmse:4.372376\tval-rmse:4.459183\n",
        "[250]\ttrain-rmse:4.362754\tval-rmse:4.450233\n"
       ]
      },
      {
       "output_type": "stream",
       "stream": "stderr",
       "text": [
        "[251]\ttrain-rmse:4.352159\tval-rmse:4.440029\n",
        "[252]\ttrain-rmse:4.342377\tval-rmse:4.430648\n"
       ]
      },
      {
       "output_type": "stream",
       "stream": "stderr",
       "text": [
        "[253]\ttrain-rmse:4.334219\tval-rmse:4.423058\n",
        "[254]\ttrain-rmse:4.325513\tval-rmse:4.414678\n"
       ]
      },
      {
       "output_type": "stream",
       "stream": "stderr",
       "text": [
        "[255]\ttrain-rmse:4.315319\tval-rmse:4.404878\n",
        "[256]\ttrain-rmse:4.306646\tval-rmse:4.396741\n"
       ]
      },
      {
       "output_type": "stream",
       "stream": "stderr",
       "text": [
        "[257]\ttrain-rmse:4.298603\tval-rmse:4.389508\n",
        "[258]\ttrain-rmse:4.290283\tval-rmse:4.381556\n"
       ]
      },
      {
       "output_type": "stream",
       "stream": "stderr",
       "text": [
        "[259]\ttrain-rmse:4.281950\tval-rmse:4.373690\n",
        "[260]\ttrain-rmse:4.271610\tval-rmse:4.363614\n"
       ]
      },
      {
       "output_type": "stream",
       "stream": "stderr",
       "text": [
        "[261]\ttrain-rmse:4.262298\tval-rmse:4.354759\n",
        "[262]\ttrain-rmse:4.252632\tval-rmse:4.345535\n"
       ]
      },
      {
       "output_type": "stream",
       "stream": "stderr",
       "text": [
        "[263]\ttrain-rmse:4.243710\tval-rmse:4.337186\n",
        "[264]\ttrain-rmse:4.235936\tval-rmse:4.329834\n"
       ]
      },
      {
       "output_type": "stream",
       "stream": "stderr",
       "text": [
        "[265]\ttrain-rmse:4.227533\tval-rmse:4.321668\n",
        "[266]\ttrain-rmse:4.221315\tval-rmse:4.315739\n"
       ]
      },
      {
       "output_type": "stream",
       "stream": "stderr",
       "text": [
        "[267]\ttrain-rmse:4.213408\tval-rmse:4.308043\n",
        "[268]\ttrain-rmse:4.206079\tval-rmse:4.301179\n"
       ]
      },
      {
       "output_type": "stream",
       "stream": "stderr",
       "text": [
        "[269]\ttrain-rmse:4.199289\tval-rmse:4.295168\n",
        "[270]\ttrain-rmse:4.191153\tval-rmse:4.287256\n"
       ]
      },
      {
       "output_type": "stream",
       "stream": "stderr",
       "text": [
        "[271]\ttrain-rmse:4.183953\tval-rmse:4.280292\n",
        "[272]\ttrain-rmse:4.174768\tval-rmse:4.271722\n"
       ]
      },
      {
       "output_type": "stream",
       "stream": "stderr",
       "text": [
        "[273]\ttrain-rmse:4.168095\tval-rmse:4.265491\n",
        "[274]\ttrain-rmse:4.161961\tval-rmse:4.259644\n"
       ]
      },
      {
       "output_type": "stream",
       "stream": "stderr",
       "text": [
        "[275]\ttrain-rmse:4.155455\tval-rmse:4.253545\n",
        "[276]\ttrain-rmse:4.147375\tval-rmse:4.246078\n"
       ]
      },
      {
       "output_type": "stream",
       "stream": "stderr",
       "text": [
        "[277]\ttrain-rmse:4.137238\tval-rmse:4.236350\n",
        "[278]\ttrain-rmse:4.131158\tval-rmse:4.230470\n"
       ]
      },
      {
       "output_type": "stream",
       "stream": "stderr",
       "text": [
        "[279]\ttrain-rmse:4.124637\tval-rmse:4.224333\n",
        "[280]\ttrain-rmse:4.116944\tval-rmse:4.216981\n"
       ]
      },
      {
       "output_type": "stream",
       "stream": "stderr",
       "text": [
        "[281]\ttrain-rmse:4.109747\tval-rmse:4.210231\n",
        "[282]\ttrain-rmse:4.100969\tval-rmse:4.201937\n"
       ]
      },
      {
       "output_type": "stream",
       "stream": "stderr",
       "text": [
        "[283]\ttrain-rmse:4.094348\tval-rmse:4.195640\n",
        "[284]\ttrain-rmse:4.087921\tval-rmse:4.189766\n"
       ]
      },
      {
       "output_type": "stream",
       "stream": "stderr",
       "text": [
        "[285]\ttrain-rmse:4.081100\tval-rmse:4.183638\n",
        "[286]\ttrain-rmse:4.072456\tval-rmse:4.175680\n"
       ]
      },
      {
       "output_type": "stream",
       "stream": "stderr",
       "text": [
        "[287]\ttrain-rmse:4.066185\tval-rmse:4.170044\n",
        "[288]\ttrain-rmse:4.061508\tval-rmse:4.165556\n"
       ]
      },
      {
       "output_type": "stream",
       "stream": "stderr",
       "text": [
        "[289]\ttrain-rmse:4.054479\tval-rmse:4.159058\n",
        "[290]\ttrain-rmse:4.047899\tval-rmse:4.152639\n"
       ]
      },
      {
       "output_type": "stream",
       "stream": "stderr",
       "text": [
        "[291]\ttrain-rmse:4.040950\tval-rmse:4.145995\n",
        "[292]\ttrain-rmse:4.034775\tval-rmse:4.140017\n"
       ]
      },
      {
       "output_type": "stream",
       "stream": "stderr",
       "text": [
        "[293]\ttrain-rmse:4.029163\tval-rmse:4.134806\n",
        "[294]\ttrain-rmse:4.022224\tval-rmse:4.128200\n"
       ]
      },
      {
       "output_type": "stream",
       "stream": "stderr",
       "text": [
        "[295]\ttrain-rmse:4.017083\tval-rmse:4.123376\n",
        "[296]\ttrain-rmse:4.010649\tval-rmse:4.117250\n"
       ]
      },
      {
       "output_type": "stream",
       "stream": "stderr",
       "text": [
        "[297]\ttrain-rmse:4.003895\tval-rmse:4.110978\n",
        "[298]\ttrain-rmse:3.997460\tval-rmse:4.105227\n"
       ]
      },
      {
       "output_type": "stream",
       "stream": "stderr",
       "text": [
        "[299]\ttrain-rmse:3.991212\tval-rmse:4.099410\n",
        "[300]\ttrain-rmse:3.985378\tval-rmse:4.093982\n"
       ]
      },
      {
       "output_type": "stream",
       "stream": "stderr",
       "text": [
        "[301]\ttrain-rmse:3.980065\tval-rmse:4.088969\n",
        "[302]\ttrain-rmse:3.975240\tval-rmse:4.084582\n"
       ]
      },
      {
       "output_type": "stream",
       "stream": "stderr",
       "text": [
        "[303]\ttrain-rmse:3.967958\tval-rmse:4.077734\n",
        "[304]\ttrain-rmse:3.962249\tval-rmse:4.072536\n"
       ]
      },
      {
       "output_type": "stream",
       "stream": "stderr",
       "text": [
        "[305]\ttrain-rmse:3.956504\tval-rmse:4.067128\n",
        "[306]\ttrain-rmse:3.950864\tval-rmse:4.061818\n"
       ]
      },
      {
       "output_type": "stream",
       "stream": "stderr",
       "text": [
        "[307]\ttrain-rmse:3.944921\tval-rmse:4.056317\n",
        "[308]\ttrain-rmse:3.938358\tval-rmse:4.050145\n"
       ]
      },
      {
       "output_type": "stream",
       "stream": "stderr",
       "text": [
        "[309]\ttrain-rmse:3.932476\tval-rmse:4.044736\n",
        "[310]\ttrain-rmse:3.927883\tval-rmse:4.040594\n"
       ]
      },
      {
       "output_type": "stream",
       "stream": "stderr",
       "text": [
        "[311]\ttrain-rmse:3.921586\tval-rmse:4.034647\n",
        "[312]\ttrain-rmse:3.916421\tval-rmse:4.029923\n"
       ]
      },
      {
       "output_type": "stream",
       "stream": "stderr",
       "text": [
        "[313]\ttrain-rmse:3.911377\tval-rmse:4.025438\n",
        "[314]\ttrain-rmse:3.906844\tval-rmse:4.021399\n"
       ]
      },
      {
       "output_type": "stream",
       "stream": "stderr",
       "text": [
        "[315]\ttrain-rmse:3.901038\tval-rmse:4.016073\n",
        "[316]\ttrain-rmse:3.892833\tval-rmse:4.008430\n"
       ]
      },
      {
       "output_type": "stream",
       "stream": "stderr",
       "text": [
        "[317]\ttrain-rmse:3.887346\tval-rmse:4.003394\n",
        "[318]\ttrain-rmse:3.882725\tval-rmse:3.999460\n"
       ]
      },
      {
       "output_type": "stream",
       "stream": "stderr",
       "text": [
        "[319]\ttrain-rmse:3.877642\tval-rmse:3.994828\n",
        "[320]\ttrain-rmse:3.872648\tval-rmse:3.990312\n"
       ]
      },
      {
       "output_type": "stream",
       "stream": "stderr",
       "text": [
        "[321]\ttrain-rmse:3.868501\tval-rmse:3.986542\n",
        "[322]\ttrain-rmse:3.864376\tval-rmse:3.982963\n"
       ]
      },
      {
       "output_type": "stream",
       "stream": "stderr",
       "text": [
        "[323]\ttrain-rmse:3.860357\tval-rmse:3.979201\n",
        "[324]\ttrain-rmse:3.855272\tval-rmse:3.974486\n"
       ]
      },
      {
       "output_type": "stream",
       "stream": "stderr",
       "text": [
        "[325]\ttrain-rmse:3.849717\tval-rmse:3.969414\n",
        "[326]\ttrain-rmse:3.844090\tval-rmse:3.964004\n"
       ]
      },
      {
       "output_type": "stream",
       "stream": "stderr",
       "text": [
        "[327]\ttrain-rmse:3.838654\tval-rmse:3.958953\n",
        "[328]\ttrain-rmse:3.833063\tval-rmse:3.953797\n"
       ]
      },
      {
       "output_type": "stream",
       "stream": "stderr",
       "text": [
        "[329]\ttrain-rmse:3.827280\tval-rmse:3.948546\n",
        "[330]\ttrain-rmse:3.820880\tval-rmse:3.942661\n"
       ]
      },
      {
       "output_type": "stream",
       "stream": "stderr",
       "text": [
        "[331]\ttrain-rmse:3.815262\tval-rmse:3.937542\n",
        "[332]\ttrain-rmse:3.809870\tval-rmse:3.932593\n"
       ]
      },
      {
       "output_type": "stream",
       "stream": "stderr",
       "text": [
        "[333]\ttrain-rmse:3.802147\tval-rmse:3.925626\n",
        "[334]\ttrain-rmse:3.796359\tval-rmse:3.920530\n"
       ]
      },
      {
       "output_type": "stream",
       "stream": "stderr",
       "text": [
        "[335]\ttrain-rmse:3.790977\tval-rmse:3.915333\n",
        "[336]\ttrain-rmse:3.784795\tval-rmse:3.909658\n"
       ]
      },
      {
       "output_type": "stream",
       "stream": "stderr",
       "text": [
        "[337]\ttrain-rmse:3.781090\tval-rmse:3.906195\n",
        "[338]\ttrain-rmse:3.774478\tval-rmse:3.900238\n"
       ]
      },
      {
       "output_type": "stream",
       "stream": "stderr",
       "text": [
        "[339]\ttrain-rmse:3.770823\tval-rmse:3.897084\n",
        "[340]\ttrain-rmse:3.764296\tval-rmse:3.891084\n"
       ]
      },
      {
       "output_type": "stream",
       "stream": "stderr",
       "text": [
        "[341]\ttrain-rmse:3.758245\tval-rmse:3.885515\n",
        "[342]\ttrain-rmse:3.751292\tval-rmse:3.879108\n"
       ]
      },
      {
       "output_type": "stream",
       "stream": "stderr",
       "text": [
        "[343]\ttrain-rmse:3.745434\tval-rmse:3.873276\n",
        "[344]\ttrain-rmse:3.739512\tval-rmse:3.867613\n"
       ]
      },
      {
       "output_type": "stream",
       "stream": "stderr",
       "text": [
        "[345]\ttrain-rmse:3.734714\tval-rmse:3.863271\n",
        "[346]\ttrain-rmse:3.730387\tval-rmse:3.859298\n"
       ]
      },
      {
       "output_type": "stream",
       "stream": "stderr",
       "text": [
        "[347]\ttrain-rmse:3.727067\tval-rmse:3.856167\n",
        "[348]\ttrain-rmse:3.721619\tval-rmse:3.851163\n"
       ]
      },
      {
       "output_type": "stream",
       "stream": "stderr",
       "text": [
        "[349]\ttrain-rmse:3.716967\tval-rmse:3.846777\n",
        "[350]\ttrain-rmse:3.711009\tval-rmse:3.841081\n"
       ]
      },
      {
       "output_type": "stream",
       "stream": "stderr",
       "text": [
        "[351]\ttrain-rmse:3.706953\tval-rmse:3.837089\n",
        "[352]\ttrain-rmse:3.702381\tval-rmse:3.833048\n"
       ]
      },
      {
       "output_type": "stream",
       "stream": "stderr",
       "text": [
        "[353]\ttrain-rmse:3.698765\tval-rmse:3.829879\n",
        "[354]\ttrain-rmse:3.694720\tval-rmse:3.826087\n"
       ]
      },
      {
       "output_type": "stream",
       "stream": "stderr",
       "text": [
        "[355]\ttrain-rmse:3.691417\tval-rmse:3.822785\n",
        "[356]\ttrain-rmse:3.687669\tval-rmse:3.819479\n"
       ]
      },
      {
       "output_type": "stream",
       "stream": "stderr",
       "text": [
        "[357]\ttrain-rmse:3.682353\tval-rmse:3.814302\n",
        "[358]\ttrain-rmse:3.679987\tval-rmse:3.812205\n"
       ]
      },
      {
       "output_type": "stream",
       "stream": "stderr",
       "text": [
        "[359]\ttrain-rmse:3.677027\tval-rmse:3.809474\n",
        "[360]\ttrain-rmse:3.673396\tval-rmse:3.806256\n"
       ]
      },
      {
       "output_type": "stream",
       "stream": "stderr",
       "text": [
        "[361]\ttrain-rmse:3.669512\tval-rmse:3.802683\n",
        "[362]\ttrain-rmse:3.665902\tval-rmse:3.799324\n"
       ]
      },
      {
       "output_type": "stream",
       "stream": "stderr",
       "text": [
        "[363]\ttrain-rmse:3.662566\tval-rmse:3.796355\n",
        "[364]\ttrain-rmse:3.657919\tval-rmse:3.791925\n"
       ]
      },
      {
       "output_type": "stream",
       "stream": "stderr",
       "text": [
        "[365]\ttrain-rmse:3.652848\tval-rmse:3.787236\n",
        "[366]\ttrain-rmse:3.650407\tval-rmse:3.784951\n"
       ]
      },
      {
       "output_type": "stream",
       "stream": "stderr",
       "text": [
        "[367]\ttrain-rmse:3.645113\tval-rmse:3.780413\n",
        "[368]\ttrain-rmse:3.639938\tval-rmse:3.775867\n"
       ]
      },
      {
       "output_type": "stream",
       "stream": "stderr",
       "text": [
        "[369]\ttrain-rmse:3.636255\tval-rmse:3.772405\n",
        "[370]\ttrain-rmse:3.630221\tval-rmse:3.766722\n"
       ]
      },
      {
       "output_type": "stream",
       "stream": "stderr",
       "text": [
        "[371]\ttrain-rmse:3.627397\tval-rmse:3.764025\n",
        "[372]\ttrain-rmse:3.623286\tval-rmse:3.760347\n"
       ]
      },
      {
       "output_type": "stream",
       "stream": "stderr",
       "text": [
        "[373]\ttrain-rmse:3.618350\tval-rmse:3.755738\n",
        "[374]\ttrain-rmse:3.615014\tval-rmse:3.752564\n"
       ]
      },
      {
       "output_type": "stream",
       "stream": "stderr",
       "text": [
        "[375]\ttrain-rmse:3.609268\tval-rmse:3.747175\n",
        "[376]\ttrain-rmse:3.606082\tval-rmse:3.744318\n"
       ]
      },
      {
       "output_type": "stream",
       "stream": "stderr",
       "text": [
        "[377]\ttrain-rmse:3.601435\tval-rmse:3.739942\n",
        "[378]\ttrain-rmse:3.597869\tval-rmse:3.736762\n"
       ]
      },
      {
       "output_type": "stream",
       "stream": "stderr",
       "text": [
        "[379]\ttrain-rmse:3.595869\tval-rmse:3.734997\n",
        "[380]\ttrain-rmse:3.593640\tval-rmse:3.732901\n"
       ]
      },
      {
       "output_type": "stream",
       "stream": "stderr",
       "text": [
        "[381]\ttrain-rmse:3.591136\tval-rmse:3.730583\n",
        "[382]\ttrain-rmse:3.587970\tval-rmse:3.727791\n"
       ]
      },
      {
       "output_type": "stream",
       "stream": "stderr",
       "text": [
        "[383]\ttrain-rmse:3.584724\tval-rmse:3.724581\n",
        "[384]\ttrain-rmse:3.578323\tval-rmse:3.718504\n"
       ]
      },
      {
       "output_type": "stream",
       "stream": "stderr",
       "text": [
        "[385]\ttrain-rmse:3.574159\tval-rmse:3.714639\n",
        "[386]\ttrain-rmse:3.570334\tval-rmse:3.711167\n"
       ]
      },
      {
       "output_type": "stream",
       "stream": "stderr",
       "text": [
        "[387]\ttrain-rmse:3.565490\tval-rmse:3.706885\n",
        "[388]\ttrain-rmse:3.560470\tval-rmse:3.702233\n"
       ]
      },
      {
       "output_type": "stream",
       "stream": "stderr",
       "text": [
        "[389]\ttrain-rmse:3.557483\tval-rmse:3.699581\n",
        "[390]\ttrain-rmse:3.553769\tval-rmse:3.696151\n"
       ]
      },
      {
       "output_type": "stream",
       "stream": "stderr",
       "text": [
        "[391]\ttrain-rmse:3.547941\tval-rmse:3.690443\n",
        "[392]\ttrain-rmse:3.543392\tval-rmse:3.686492\n"
       ]
      },
      {
       "output_type": "stream",
       "stream": "stderr",
       "text": [
        "[393]\ttrain-rmse:3.539734\tval-rmse:3.683280\n",
        "[394]\ttrain-rmse:3.537318\tval-rmse:3.681142\n"
       ]
      },
      {
       "output_type": "stream",
       "stream": "stderr",
       "text": [
        "[395]\ttrain-rmse:3.533066\tval-rmse:3.677167\n",
        "[396]\ttrain-rmse:3.529903\tval-rmse:3.674226\n"
       ]
      },
      {
       "output_type": "stream",
       "stream": "stderr",
       "text": [
        "[397]\ttrain-rmse:3.525272\tval-rmse:3.669768\n",
        "[398]\ttrain-rmse:3.520579\tval-rmse:3.665300\n"
       ]
      },
      {
       "output_type": "stream",
       "stream": "stderr",
       "text": [
        "[399]\ttrain-rmse:3.518159\tval-rmse:3.663126\n",
        "[400]\ttrain-rmse:3.515332\tval-rmse:3.660573\n"
       ]
      },
      {
       "output_type": "stream",
       "stream": "stderr",
       "text": [
        "[401]\ttrain-rmse:3.512943\tval-rmse:3.658293\n",
        "[402]\ttrain-rmse:3.509396\tval-rmse:3.655216\n"
       ]
      },
      {
       "output_type": "stream",
       "stream": "stderr",
       "text": [
        "[403]\ttrain-rmse:3.506759\tval-rmse:3.652706\n",
        "[404]\ttrain-rmse:3.503424\tval-rmse:3.649822\n"
       ]
      },
      {
       "output_type": "stream",
       "stream": "stderr",
       "text": [
        "[405]\ttrain-rmse:3.498012\tval-rmse:3.644778\n",
        "[406]\ttrain-rmse:3.495117\tval-rmse:3.642252\n"
       ]
      },
      {
       "output_type": "stream",
       "stream": "stderr",
       "text": [
        "[407]\ttrain-rmse:3.490069\tval-rmse:3.637286\n",
        "[408]\ttrain-rmse:3.486238\tval-rmse:3.633706\n"
       ]
      },
      {
       "output_type": "stream",
       "stream": "stderr",
       "text": [
        "[409]\ttrain-rmse:3.483394\tval-rmse:3.631174\n",
        "[410]\ttrain-rmse:3.480784\tval-rmse:3.628724\n"
       ]
      },
      {
       "output_type": "stream",
       "stream": "stderr",
       "text": [
        "[411]\ttrain-rmse:3.475025\tval-rmse:3.623708\n",
        "[412]\ttrain-rmse:3.470790\tval-rmse:3.619786\n"
       ]
      },
      {
       "output_type": "stream",
       "stream": "stderr",
       "text": [
        "[413]\ttrain-rmse:3.467347\tval-rmse:3.616500\n",
        "[414]\ttrain-rmse:3.464966\tval-rmse:3.614282\n"
       ]
      },
      {
       "output_type": "stream",
       "stream": "stderr",
       "text": [
        "[415]\ttrain-rmse:3.460446\tval-rmse:3.610088\n",
        "[416]\ttrain-rmse:3.458602\tval-rmse:3.608568\n"
       ]
      },
      {
       "output_type": "stream",
       "stream": "stderr",
       "text": [
        "[417]\ttrain-rmse:3.452689\tval-rmse:3.602984\n",
        "[418]\ttrain-rmse:3.447664\tval-rmse:3.598502\n"
       ]
      },
      {
       "output_type": "stream",
       "stream": "stderr",
       "text": [
        "[419]\ttrain-rmse:3.442352\tval-rmse:3.593766\n",
        "[420]\ttrain-rmse:3.440640\tval-rmse:3.592129\n"
       ]
      },
      {
       "output_type": "stream",
       "stream": "stderr",
       "text": [
        "[421]\ttrain-rmse:3.437090\tval-rmse:3.588926\n",
        "[422]\ttrain-rmse:3.435102\tval-rmse:3.587083\n"
       ]
      },
      {
       "output_type": "stream",
       "stream": "stderr",
       "text": [
        "[423]\ttrain-rmse:3.431693\tval-rmse:3.583995\n",
        "[424]\ttrain-rmse:3.429755\tval-rmse:3.582122\n"
       ]
      },
      {
       "output_type": "stream",
       "stream": "stderr",
       "text": [
        "[425]\ttrain-rmse:3.425321\tval-rmse:3.577945\n",
        "[426]\ttrain-rmse:3.420782\tval-rmse:3.573930\n"
       ]
      },
      {
       "output_type": "stream",
       "stream": "stderr",
       "text": [
        "[427]\ttrain-rmse:3.418920\tval-rmse:3.572232\n",
        "[428]\ttrain-rmse:3.415378\tval-rmse:3.569050\n"
       ]
      },
      {
       "output_type": "stream",
       "stream": "stderr",
       "text": [
        "[429]\ttrain-rmse:3.411513\tval-rmse:3.565470\n",
        "[430]\ttrain-rmse:3.406839\tval-rmse:3.561146\n"
       ]
      },
      {
       "output_type": "stream",
       "stream": "stderr",
       "text": [
        "[431]\ttrain-rmse:3.403487\tval-rmse:3.558259\n",
        "[432]\ttrain-rmse:3.400936\tval-rmse:3.555862\n"
       ]
      },
      {
       "output_type": "stream",
       "stream": "stderr",
       "text": [
        "[433]\ttrain-rmse:3.398453\tval-rmse:3.553480\n",
        "[434]\ttrain-rmse:3.396030\tval-rmse:3.551309\n"
       ]
      },
      {
       "output_type": "stream",
       "stream": "stderr",
       "text": [
        "[435]\ttrain-rmse:3.392864\tval-rmse:3.548362\n",
        "[436]\ttrain-rmse:3.390608\tval-rmse:3.546139\n"
       ]
      },
      {
       "output_type": "stream",
       "stream": "stderr",
       "text": [
        "[437]\ttrain-rmse:3.387847\tval-rmse:3.543847\n",
        "[438]\ttrain-rmse:3.385240\tval-rmse:3.541633\n"
       ]
      },
      {
       "output_type": "stream",
       "stream": "stderr",
       "text": [
        "[439]\ttrain-rmse:3.383207\tval-rmse:3.539848\n",
        "[440]\ttrain-rmse:3.379271\tval-rmse:3.536176\n"
       ]
      },
      {
       "output_type": "stream",
       "stream": "stderr",
       "text": [
        "[441]\ttrain-rmse:3.377090\tval-rmse:3.534210\n",
        "[442]\ttrain-rmse:3.373406\tval-rmse:3.530902\n"
       ]
      },
      {
       "output_type": "stream",
       "stream": "stderr",
       "text": [
        "[443]\ttrain-rmse:3.369467\tval-rmse:3.527030\n",
        "[444]\ttrain-rmse:3.367832\tval-rmse:3.525447\n"
       ]
      },
      {
       "output_type": "stream",
       "stream": "stderr",
       "text": [
        "[445]\ttrain-rmse:3.364485\tval-rmse:3.522108\n",
        "[446]\ttrain-rmse:3.361250\tval-rmse:3.519205\n"
       ]
      },
      {
       "output_type": "stream",
       "stream": "stderr",
       "text": [
        "[447]\ttrain-rmse:3.359804\tval-rmse:3.517840\n",
        "[448]\ttrain-rmse:3.356540\tval-rmse:3.514952\n"
       ]
      },
      {
       "output_type": "stream",
       "stream": "stderr",
       "text": [
        "[449]\ttrain-rmse:3.354716\tval-rmse:3.513368\n",
        "[450]\ttrain-rmse:3.351985\tval-rmse:3.510948\n"
       ]
      },
      {
       "output_type": "stream",
       "stream": "stderr",
       "text": [
        "[451]\ttrain-rmse:3.349354\tval-rmse:3.508433\n",
        "[452]\ttrain-rmse:3.344971\tval-rmse:3.504314\n"
       ]
      },
      {
       "output_type": "stream",
       "stream": "stderr",
       "text": [
        "[453]\ttrain-rmse:3.341309\tval-rmse:3.500971\n",
        "[454]\ttrain-rmse:3.337810\tval-rmse:3.497931\n"
       ]
      },
      {
       "output_type": "stream",
       "stream": "stderr",
       "text": [
        "[455]\ttrain-rmse:3.332804\tval-rmse:3.493218\n",
        "[456]\ttrain-rmse:3.329100\tval-rmse:3.489953\n"
       ]
      },
      {
       "output_type": "stream",
       "stream": "stderr",
       "text": [
        "[457]\ttrain-rmse:3.327766\tval-rmse:3.488740\n",
        "[458]\ttrain-rmse:3.324609\tval-rmse:3.485971\n"
       ]
      },
      {
       "output_type": "stream",
       "stream": "stderr",
       "text": [
        "[459]\ttrain-rmse:3.321759\tval-rmse:3.483400\n",
        "[460]\ttrain-rmse:3.319119\tval-rmse:3.481143\n"
       ]
      },
      {
       "output_type": "stream",
       "stream": "stderr",
       "text": [
        "[461]\ttrain-rmse:3.314743\tval-rmse:3.477062\n",
        "[462]\ttrain-rmse:3.311998\tval-rmse:3.474500\n"
       ]
      },
      {
       "output_type": "stream",
       "stream": "stderr",
       "text": [
        "[463]\ttrain-rmse:3.310482\tval-rmse:3.473133\n",
        "[464]\ttrain-rmse:3.307984\tval-rmse:3.470832\n"
       ]
      },
      {
       "output_type": "stream",
       "stream": "stderr",
       "text": [
        "[465]\ttrain-rmse:3.304278\tval-rmse:3.467669\n",
        "[466]\ttrain-rmse:3.300179\tval-rmse:3.463859\n"
       ]
      },
      {
       "output_type": "stream",
       "stream": "stderr",
       "text": [
        "[467]\ttrain-rmse:3.297457\tval-rmse:3.461401\n",
        "[468]\ttrain-rmse:3.295193\tval-rmse:3.459296\n"
       ]
      },
      {
       "output_type": "stream",
       "stream": "stderr",
       "text": [
        "[469]\ttrain-rmse:3.290671\tval-rmse:3.455407\n",
        "[470]\ttrain-rmse:3.288265\tval-rmse:3.453078\n"
       ]
      },
      {
       "output_type": "stream",
       "stream": "stderr",
       "text": [
        "[471]\ttrain-rmse:3.283385\tval-rmse:3.448603\n",
        "[472]\ttrain-rmse:3.278964\tval-rmse:3.444500\n"
       ]
      },
      {
       "output_type": "stream",
       "stream": "stderr",
       "text": [
        "[473]\ttrain-rmse:3.277071\tval-rmse:3.442683\n",
        "[474]\ttrain-rmse:3.274506\tval-rmse:3.440381\n"
       ]
      },
      {
       "output_type": "stream",
       "stream": "stderr",
       "text": [
        "[475]\ttrain-rmse:3.273120\tval-rmse:3.439029\n",
        "[476]\ttrain-rmse:3.271430\tval-rmse:3.437499\n"
       ]
      },
      {
       "output_type": "stream",
       "stream": "stderr",
       "text": [
        "[477]\ttrain-rmse:3.269534\tval-rmse:3.435771\n",
        "[478]\ttrain-rmse:3.267901\tval-rmse:3.434190\n"
       ]
      },
      {
       "output_type": "stream",
       "stream": "stderr",
       "text": [
        "[479]\ttrain-rmse:3.263071\tval-rmse:3.429831\n",
        "[480]\ttrain-rmse:3.261636\tval-rmse:3.428578\n"
       ]
      },
      {
       "output_type": "stream",
       "stream": "stderr",
       "text": [
        "[481]\ttrain-rmse:3.258235\tval-rmse:3.425415\n",
        "[482]\ttrain-rmse:3.257191\tval-rmse:3.424402\n"
       ]
      },
      {
       "output_type": "stream",
       "stream": "stderr",
       "text": [
        "[483]\ttrain-rmse:3.255550\tval-rmse:3.422989\n",
        "[484]\ttrain-rmse:3.252977\tval-rmse:3.420690\n"
       ]
      },
      {
       "output_type": "stream",
       "stream": "stderr",
       "text": [
        "[485]\ttrain-rmse:3.251023\tval-rmse:3.418898\n",
        "[486]\ttrain-rmse:3.250266\tval-rmse:3.418247\n"
       ]
      },
      {
       "output_type": "stream",
       "stream": "stderr",
       "text": [
        "[487]\ttrain-rmse:3.245442\tval-rmse:3.414059\n",
        "[488]\ttrain-rmse:3.242517\tval-rmse:3.411353\n"
       ]
      },
      {
       "output_type": "stream",
       "stream": "stderr",
       "text": [
        "[489]\ttrain-rmse:3.241202\tval-rmse:3.410110\n",
        "[490]\ttrain-rmse:3.238325\tval-rmse:3.407486\n"
       ]
      },
      {
       "output_type": "stream",
       "stream": "stderr",
       "text": [
        "[491]\ttrain-rmse:3.234677\tval-rmse:3.404127\n",
        "[492]\ttrain-rmse:3.231386\tval-rmse:3.401086\n"
       ]
      },
      {
       "output_type": "stream",
       "stream": "stderr",
       "text": [
        "[493]\ttrain-rmse:3.229313\tval-rmse:3.399296\n",
        "[494]\ttrain-rmse:3.224795\tval-rmse:3.395162\n"
       ]
      },
      {
       "output_type": "stream",
       "stream": "stderr",
       "text": [
        "[495]\ttrain-rmse:3.221524\tval-rmse:3.392327\n",
        "[496]\ttrain-rmse:3.217355\tval-rmse:3.388587\n"
       ]
      },
      {
       "output_type": "stream",
       "stream": "stderr",
       "text": [
        "[497]\ttrain-rmse:3.214229\tval-rmse:3.385768\n",
        "[498]\ttrain-rmse:3.210757\tval-rmse:3.382721\n"
       ]
      },
      {
       "output_type": "stream",
       "stream": "stderr",
       "text": [
        "[499]\ttrain-rmse:3.209171\tval-rmse:3.381317\n",
        "[500]\ttrain-rmse:3.208299\tval-rmse:3.380486\n"
       ]
      },
      {
       "output_type": "stream",
       "stream": "stderr",
       "text": [
        "[501]\ttrain-rmse:3.202549\tval-rmse:3.375484\n",
        "[502]\ttrain-rmse:3.200726\tval-rmse:3.373959\n"
       ]
      },
      {
       "output_type": "stream",
       "stream": "stderr",
       "text": [
        "[503]\ttrain-rmse:3.198737\tval-rmse:3.372113\n",
        "[504]\ttrain-rmse:3.196407\tval-rmse:3.370056\n"
       ]
      },
      {
       "output_type": "stream",
       "stream": "stderr",
       "text": [
        "[505]\ttrain-rmse:3.192589\tval-rmse:3.366307\n",
        "[506]\ttrain-rmse:3.188235\tval-rmse:3.362278\n"
       ]
      },
      {
       "output_type": "stream",
       "stream": "stderr",
       "text": [
        "[507]\ttrain-rmse:3.184385\tval-rmse:3.358560\n",
        "[508]\ttrain-rmse:3.180861\tval-rmse:3.355123\n"
       ]
      },
      {
       "output_type": "stream",
       "stream": "stderr",
       "text": [
        "[509]\ttrain-rmse:3.178298\tval-rmse:3.352916\n",
        "[510]\ttrain-rmse:3.175298\tval-rmse:3.350457\n"
       ]
      },
      {
       "output_type": "stream",
       "stream": "stderr",
       "text": [
        "[511]\ttrain-rmse:3.171514\tval-rmse:3.346900\n",
        "[512]\ttrain-rmse:3.169638\tval-rmse:3.345339\n"
       ]
      },
      {
       "output_type": "stream",
       "stream": "stderr",
       "text": [
        "[513]\ttrain-rmse:3.166424\tval-rmse:3.342394\n",
        "[514]\ttrain-rmse:3.163512\tval-rmse:3.339926\n"
       ]
      },
      {
       "output_type": "stream",
       "stream": "stderr",
       "text": [
        "[515]\ttrain-rmse:3.162685\tval-rmse:3.339131\n",
        "[516]\ttrain-rmse:3.158466\tval-rmse:3.335216\n"
       ]
      },
      {
       "output_type": "stream",
       "stream": "stderr",
       "text": [
        "[517]\ttrain-rmse:3.155073\tval-rmse:3.332397\n",
        "[518]\ttrain-rmse:3.152088\tval-rmse:3.329898\n"
       ]
      },
      {
       "output_type": "stream",
       "stream": "stderr",
       "text": [
        "[519]\ttrain-rmse:3.149354\tval-rmse:3.327377\n",
        "[520]\ttrain-rmse:3.146000\tval-rmse:3.324492\n"
       ]
      },
      {
       "output_type": "stream",
       "stream": "stderr",
       "text": [
        "[521]\ttrain-rmse:3.144563\tval-rmse:3.323188\n",
        "[522]\ttrain-rmse:3.140355\tval-rmse:3.319033\n"
       ]
      },
      {
       "output_type": "stream",
       "stream": "stderr",
       "text": [
        "[523]\ttrain-rmse:3.139011\tval-rmse:3.317836\n",
        "[524]\ttrain-rmse:3.138238\tval-rmse:3.317142\n"
       ]
      },
      {
       "output_type": "stream",
       "stream": "stderr",
       "text": [
        "[525]\ttrain-rmse:3.134421\tval-rmse:3.313709\n",
        "[526]\ttrain-rmse:3.130252\tval-rmse:3.309797\n"
       ]
      },
      {
       "output_type": "stream",
       "stream": "stderr",
       "text": [
        "[527]\ttrain-rmse:3.126466\tval-rmse:3.306418\n",
        "[528]\ttrain-rmse:3.123351\tval-rmse:3.303674\n"
       ]
      },
      {
       "output_type": "stream",
       "stream": "stderr",
       "text": [
        "[529]\ttrain-rmse:3.121185\tval-rmse:3.301765\n",
        "[530]\ttrain-rmse:3.117045\tval-rmse:3.298005\n"
       ]
      },
      {
       "output_type": "stream",
       "stream": "stderr",
       "text": [
        "[531]\ttrain-rmse:3.115096\tval-rmse:3.296168\n",
        "[532]\ttrain-rmse:3.111629\tval-rmse:3.293095\n"
       ]
      },
      {
       "output_type": "stream",
       "stream": "stderr",
       "text": [
        "[533]\ttrain-rmse:3.108618\tval-rmse:3.290452\n",
        "[534]\ttrain-rmse:3.106213\tval-rmse:3.288483\n"
       ]
      },
      {
       "output_type": "stream",
       "stream": "stderr",
       "text": [
        "[535]\ttrain-rmse:3.105218\tval-rmse:3.287605\n",
        "[536]\ttrain-rmse:3.101143\tval-rmse:3.283766\n"
       ]
      },
      {
       "output_type": "stream",
       "stream": "stderr",
       "text": [
        "[537]\ttrain-rmse:3.098251\tval-rmse:3.281120\n",
        "[538]\ttrain-rmse:3.094828\tval-rmse:3.278021\n"
       ]
      },
      {
       "output_type": "stream",
       "stream": "stderr",
       "text": [
        "[539]\ttrain-rmse:3.093049\tval-rmse:3.276484\n",
        "[540]\ttrain-rmse:3.089890\tval-rmse:3.273619\n"
       ]
      },
      {
       "output_type": "stream",
       "stream": "stderr",
       "text": [
        "[541]\ttrain-rmse:3.087117\tval-rmse:3.271232\n",
        "[542]\ttrain-rmse:3.083082\tval-rmse:3.267716\n"
       ]
      },
      {
       "output_type": "stream",
       "stream": "stderr",
       "text": [
        "[543]\ttrain-rmse:3.081700\tval-rmse:3.266486\n",
        "[544]\ttrain-rmse:3.079839\tval-rmse:3.264699\n"
       ]
      },
      {
       "output_type": "stream",
       "stream": "stderr",
       "text": [
        "[545]\ttrain-rmse:3.077368\tval-rmse:3.262509\n",
        "[546]\ttrain-rmse:3.075417\tval-rmse:3.260779\n"
       ]
      },
      {
       "output_type": "stream",
       "stream": "stderr",
       "text": [
        "[547]\ttrain-rmse:3.073981\tval-rmse:3.259486\n",
        "[548]\ttrain-rmse:3.070375\tval-rmse:3.256155\n"
       ]
      },
      {
       "output_type": "stream",
       "stream": "stderr",
       "text": [
        "[549]\ttrain-rmse:3.067511\tval-rmse:3.253576\n",
        "[550]\ttrain-rmse:3.066175\tval-rmse:3.252520\n"
       ]
      },
      {
       "output_type": "stream",
       "stream": "stderr",
       "text": [
        "[551]\ttrain-rmse:3.065570\tval-rmse:3.252001\n",
        "[552]\ttrain-rmse:3.063858\tval-rmse:3.250564\n"
       ]
      },
      {
       "output_type": "stream",
       "stream": "stderr",
       "text": [
        "[553]\ttrain-rmse:3.062527\tval-rmse:3.249490\n",
        "[554]\ttrain-rmse:3.061057\tval-rmse:3.248142\n"
       ]
      },
      {
       "output_type": "stream",
       "stream": "stderr",
       "text": [
        "[555]\ttrain-rmse:3.058414\tval-rmse:3.245812\n",
        "[556]\ttrain-rmse:3.056694\tval-rmse:3.244205\n"
       ]
      },
      {
       "output_type": "stream",
       "stream": "stderr",
       "text": [
        "[557]\ttrain-rmse:3.054293\tval-rmse:3.241923\n",
        "[558]\ttrain-rmse:3.051606\tval-rmse:3.239459\n"
       ]
      },
      {
       "output_type": "stream",
       "stream": "stderr",
       "text": [
        "[559]\ttrain-rmse:3.047797\tval-rmse:3.236008\n",
        "[560]\ttrain-rmse:3.045259\tval-rmse:3.233597\n"
       ]
      },
      {
       "output_type": "stream",
       "stream": "stderr",
       "text": [
        "[561]\ttrain-rmse:3.042940\tval-rmse:3.231678\n",
        "[562]\ttrain-rmse:3.041901\tval-rmse:3.230718\n"
       ]
      },
      {
       "output_type": "stream",
       "stream": "stderr",
       "text": [
        "[563]\ttrain-rmse:3.041224\tval-rmse:3.230062\n",
        "[564]\ttrain-rmse:3.037897\tval-rmse:3.227203\n"
       ]
      },
      {
       "output_type": "stream",
       "stream": "stderr",
       "text": [
        "[565]\ttrain-rmse:3.035172\tval-rmse:3.224560\n",
        "[566]\ttrain-rmse:3.032259\tval-rmse:3.221925\n"
       ]
      },
      {
       "output_type": "stream",
       "stream": "stderr",
       "text": [
        "[567]\ttrain-rmse:3.030311\tval-rmse:3.220262\n",
        "[568]\ttrain-rmse:3.027342\tval-rmse:3.217461\n"
       ]
      },
      {
       "output_type": "stream",
       "stream": "stderr",
       "text": [
        "[569]\ttrain-rmse:3.023180\tval-rmse:3.213867\n",
        "[570]\ttrain-rmse:3.020112\tval-rmse:3.211163\n"
       ]
      },
      {
       "output_type": "stream",
       "stream": "stderr",
       "text": [
        "[571]\ttrain-rmse:3.016475\tval-rmse:3.208097\n",
        "[572]\ttrain-rmse:3.014802\tval-rmse:3.206656\n"
       ]
      },
      {
       "output_type": "stream",
       "stream": "stderr",
       "text": [
        "[573]\ttrain-rmse:3.012830\tval-rmse:3.205020\n",
        "[574]\ttrain-rmse:3.011182\tval-rmse:3.203535\n"
       ]
      },
      {
       "output_type": "stream",
       "stream": "stderr",
       "text": [
        "[575]\ttrain-rmse:3.010240\tval-rmse:3.202738\n",
        "[576]\ttrain-rmse:3.006672\tval-rmse:3.199850\n"
       ]
      },
      {
       "output_type": "stream",
       "stream": "stderr",
       "text": [
        "[577]\ttrain-rmse:3.004415\tval-rmse:3.197975\n",
        "[578]\ttrain-rmse:3.003124\tval-rmse:3.196785\n"
       ]
      },
      {
       "output_type": "stream",
       "stream": "stderr",
       "text": [
        "[579]\ttrain-rmse:3.000277\tval-rmse:3.193931\n",
        "[580]\ttrain-rmse:2.997848\tval-rmse:3.191815\n"
       ]
      },
      {
       "output_type": "stream",
       "stream": "stderr",
       "text": [
        "[581]\ttrain-rmse:2.995532\tval-rmse:3.189830\n",
        "[582]\ttrain-rmse:2.992151\tval-rmse:3.186836\n"
       ]
      },
      {
       "output_type": "stream",
       "stream": "stderr",
       "text": [
        "[583]\ttrain-rmse:2.990223\tval-rmse:3.185278\n",
        "[584]\ttrain-rmse:2.988377\tval-rmse:3.183660\n"
       ]
      },
      {
       "output_type": "stream",
       "stream": "stderr",
       "text": [
        "[585]\ttrain-rmse:2.985162\tval-rmse:3.180959\n",
        "[586]\ttrain-rmse:2.981523\tval-rmse:3.177876\n"
       ]
      },
      {
       "output_type": "stream",
       "stream": "stderr",
       "text": [
        "[587]\ttrain-rmse:2.979624\tval-rmse:3.176203\n",
        "[588]\ttrain-rmse:2.976510\tval-rmse:3.173527\n"
       ]
      },
      {
       "output_type": "stream",
       "stream": "stderr",
       "text": [
        "[589]\ttrain-rmse:2.973035\tval-rmse:3.170354\n",
        "[590]\ttrain-rmse:2.970426\tval-rmse:3.167950\n"
       ]
      },
      {
       "output_type": "stream",
       "stream": "stderr",
       "text": [
        "[591]\ttrain-rmse:2.968182\tval-rmse:3.166098\n",
        "[592]\ttrain-rmse:2.967469\tval-rmse:3.165506\n"
       ]
      },
      {
       "output_type": "stream",
       "stream": "stderr",
       "text": [
        "[593]\ttrain-rmse:2.963877\tval-rmse:3.162527\n",
        "[594]\ttrain-rmse:2.960481\tval-rmse:3.159398\n"
       ]
      },
      {
       "output_type": "stream",
       "stream": "stderr",
       "text": [
        "[595]\ttrain-rmse:2.957345\tval-rmse:3.156432\n",
        "[596]\ttrain-rmse:2.953346\tval-rmse:3.152804\n"
       ]
      },
      {
       "output_type": "stream",
       "stream": "stderr",
       "text": [
        "[597]\ttrain-rmse:2.951792\tval-rmse:3.151537\n",
        "[598]\ttrain-rmse:2.948333\tval-rmse:3.148247\n"
       ]
      },
      {
       "output_type": "stream",
       "stream": "stderr",
       "text": [
        "[599]\ttrain-rmse:2.946923\tval-rmse:3.146984\n",
        "[600]\ttrain-rmse:2.945368\tval-rmse:3.145679\n"
       ]
      },
      {
       "output_type": "stream",
       "stream": "stderr",
       "text": [
        "[601]\ttrain-rmse:2.942171\tval-rmse:3.143070\n",
        "[602]\ttrain-rmse:2.940631\tval-rmse:3.141811\n"
       ]
      },
      {
       "output_type": "stream",
       "stream": "stderr",
       "text": [
        "[603]\ttrain-rmse:2.938282\tval-rmse:3.139889\n",
        "[604]\ttrain-rmse:2.936575\tval-rmse:3.138468\n"
       ]
      },
      {
       "output_type": "stream",
       "stream": "stderr",
       "text": [
        "[605]\ttrain-rmse:2.934073\tval-rmse:3.136262\n",
        "[606]\ttrain-rmse:2.931104\tval-rmse:3.133557\n"
       ]
      },
      {
       "output_type": "stream",
       "stream": "stderr",
       "text": [
        "[607]\ttrain-rmse:2.929722\tval-rmse:3.132485\n",
        "[608]\ttrain-rmse:2.927502\tval-rmse:3.130512\n"
       ]
      },
      {
       "output_type": "stream",
       "stream": "stderr",
       "text": [
        "[609]\ttrain-rmse:2.925498\tval-rmse:3.128810\n",
        "[610]\ttrain-rmse:2.923903\tval-rmse:3.127460\n"
       ]
      },
      {
       "output_type": "stream",
       "stream": "stderr",
       "text": [
        "[611]\ttrain-rmse:2.921628\tval-rmse:3.125641\n",
        "[612]\ttrain-rmse:2.919870\tval-rmse:3.124255\n"
       ]
      },
      {
       "output_type": "stream",
       "stream": "stderr",
       "text": [
        "[613]\ttrain-rmse:2.918614\tval-rmse:3.123034\n",
        "[614]\ttrain-rmse:2.916529\tval-rmse:3.121129\n"
       ]
      },
      {
       "output_type": "stream",
       "stream": "stderr",
       "text": [
        "[615]\ttrain-rmse:2.915331\tval-rmse:3.120210\n",
        "[616]\ttrain-rmse:2.913174\tval-rmse:3.118389\n"
       ]
      },
      {
       "output_type": "stream",
       "stream": "stderr",
       "text": [
        "[617]\ttrain-rmse:2.911221\tval-rmse:3.116816\n",
        "[618]\ttrain-rmse:2.907676\tval-rmse:3.113863\n"
       ]
      },
      {
       "output_type": "stream",
       "stream": "stderr",
       "text": [
        "[619]\ttrain-rmse:2.905599\tval-rmse:3.112044\n",
        "[620]\ttrain-rmse:2.904794\tval-rmse:3.111334\n"
       ]
      },
      {
       "output_type": "stream",
       "stream": "stderr",
       "text": [
        "[621]\ttrain-rmse:2.903518\tval-rmse:3.110087\n",
        "[622]\ttrain-rmse:2.901170\tval-rmse:3.108121\n"
       ]
      },
      {
       "output_type": "stream",
       "stream": "stderr",
       "text": [
        "[623]\ttrain-rmse:2.900075\tval-rmse:3.107125\n",
        "[624]\ttrain-rmse:2.899070\tval-rmse:3.106229\n"
       ]
      },
      {
       "output_type": "stream",
       "stream": "stderr",
       "text": [
        "[625]\ttrain-rmse:2.898527\tval-rmse:3.105749\n",
        "[626]\ttrain-rmse:2.896733\tval-rmse:3.104120\n"
       ]
      },
      {
       "output_type": "stream",
       "stream": "stderr",
       "text": [
        "[627]\ttrain-rmse:2.893206\tval-rmse:3.100941\n",
        "[628]\ttrain-rmse:2.891633\tval-rmse:3.099507\n"
       ]
      },
      {
       "output_type": "stream",
       "stream": "stderr",
       "text": [
        "[629]\ttrain-rmse:2.890617\tval-rmse:3.098608\n",
        "[630]\ttrain-rmse:2.889172\tval-rmse:3.097274\n"
       ]
      },
      {
       "output_type": "stream",
       "stream": "stderr",
       "text": [
        "[631]\ttrain-rmse:2.888540\tval-rmse:3.096807\n",
        "[632]\ttrain-rmse:2.886806\tval-rmse:3.095147\n"
       ]
      },
      {
       "output_type": "stream",
       "stream": "stderr",
       "text": [
        "[633]\ttrain-rmse:2.885217\tval-rmse:3.093610\n",
        "[634]\ttrain-rmse:2.883171\tval-rmse:3.091924\n"
       ]
      },
      {
       "output_type": "stream",
       "stream": "stderr",
       "text": [
        "[635]\ttrain-rmse:2.880876\tval-rmse:3.089992\n",
        "[636]\ttrain-rmse:2.878652\tval-rmse:3.088148\n"
       ]
      },
      {
       "output_type": "stream",
       "stream": "stderr",
       "text": [
        "[637]\ttrain-rmse:2.876815\tval-rmse:3.086569\n",
        "[638]\ttrain-rmse:2.874164\tval-rmse:3.084335\n"
       ]
      },
      {
       "output_type": "stream",
       "stream": "stderr",
       "text": [
        "[639]\ttrain-rmse:2.873491\tval-rmse:3.083705\n",
        "[640]\ttrain-rmse:2.870511\tval-rmse:3.081352\n"
       ]
      },
      {
       "output_type": "stream",
       "stream": "stderr",
       "text": [
        "[641]\ttrain-rmse:2.867869\tval-rmse:3.079000\n",
        "[642]\ttrain-rmse:2.865469\tval-rmse:3.076940\n"
       ]
      },
      {
       "output_type": "stream",
       "stream": "stderr",
       "text": [
        "[643]\ttrain-rmse:2.863299\tval-rmse:3.075082\n",
        "[644]\ttrain-rmse:2.861346\tval-rmse:3.073582\n"
       ]
      },
      {
       "output_type": "stream",
       "stream": "stderr",
       "text": [
        "[645]\ttrain-rmse:2.860383\tval-rmse:3.072726\n",
        "[646]\ttrain-rmse:2.856993\tval-rmse:3.069782\n"
       ]
      },
      {
       "output_type": "stream",
       "stream": "stderr",
       "text": [
        "[647]\ttrain-rmse:2.854381\tval-rmse:3.067337\n",
        "[648]\ttrain-rmse:2.853572\tval-rmse:3.066674\n"
       ]
      },
      {
       "output_type": "stream",
       "stream": "stderr",
       "text": [
        "[649]\ttrain-rmse:2.851707\tval-rmse:3.065027\n",
        "[650]\ttrain-rmse:2.850090\tval-rmse:3.063530\n"
       ]
      },
      {
       "output_type": "stream",
       "stream": "stderr",
       "text": [
        "[651]\ttrain-rmse:2.847402\tval-rmse:3.061152\n",
        "[652]\ttrain-rmse:2.846792\tval-rmse:3.060671\n"
       ]
      },
      {
       "output_type": "stream",
       "stream": "stderr",
       "text": [
        "[653]\ttrain-rmse:2.844699\tval-rmse:3.058831\n",
        "[654]\ttrain-rmse:2.842209\tval-rmse:3.056734\n"
       ]
      },
      {
       "output_type": "stream",
       "stream": "stderr",
       "text": [
        "[655]\ttrain-rmse:2.841134\tval-rmse:3.055851\n",
        "[656]\ttrain-rmse:2.838386\tval-rmse:3.053356\n"
       ]
      },
      {
       "output_type": "stream",
       "stream": "stderr",
       "text": [
        "[657]\ttrain-rmse:2.835837\tval-rmse:3.051047\n",
        "[658]\ttrain-rmse:2.833309\tval-rmse:3.048908\n"
       ]
      },
      {
       "output_type": "stream",
       "stream": "stderr",
       "text": [
        "[659]\ttrain-rmse:2.830607\tval-rmse:3.046522\n",
        "[660]\ttrain-rmse:2.828834\tval-rmse:3.045163\n"
       ]
      },
      {
       "output_type": "stream",
       "stream": "stderr",
       "text": [
        "[661]\ttrain-rmse:2.826824\tval-rmse:3.043552\n",
        "[662]\ttrain-rmse:2.825204\tval-rmse:3.042168\n"
       ]
      },
      {
       "output_type": "stream",
       "stream": "stderr",
       "text": [
        "[663]\ttrain-rmse:2.823621\tval-rmse:3.040956\n",
        "[664]\ttrain-rmse:2.822026\tval-rmse:3.039654\n"
       ]
      },
      {
       "output_type": "stream",
       "stream": "stderr",
       "text": [
        "[665]\ttrain-rmse:2.819999\tval-rmse:3.037902\n",
        "[666]\ttrain-rmse:2.815933\tval-rmse:3.034429\n"
       ]
      },
      {
       "output_type": "stream",
       "stream": "stderr",
       "text": [
        "[667]\ttrain-rmse:2.813123\tval-rmse:3.031910\n",
        "[668]\ttrain-rmse:2.811656\tval-rmse:3.030637\n"
       ]
      },
      {
       "output_type": "stream",
       "stream": "stderr",
       "text": [
        "[669]\ttrain-rmse:2.808481\tval-rmse:3.027888\n",
        "[670]\ttrain-rmse:2.806772\tval-rmse:3.026422\n"
       ]
      },
      {
       "output_type": "stream",
       "stream": "stderr",
       "text": [
        "[671]\ttrain-rmse:2.804908\tval-rmse:3.024793\n",
        "[672]\ttrain-rmse:2.804157\tval-rmse:3.024128\n"
       ]
      },
      {
       "output_type": "stream",
       "stream": "stderr",
       "text": [
        "[673]\ttrain-rmse:2.801074\tval-rmse:3.021270\n",
        "[674]\ttrain-rmse:2.799342\tval-rmse:3.019930\n"
       ]
      },
      {
       "output_type": "stream",
       "stream": "stderr",
       "text": [
        "[675]\ttrain-rmse:2.797348\tval-rmse:3.018086\n",
        "[676]\ttrain-rmse:2.795796\tval-rmse:3.016777\n"
       ]
      },
      {
       "output_type": "stream",
       "stream": "stderr",
       "text": [
        "[677]\ttrain-rmse:2.794868\tval-rmse:3.015909\n",
        "[678]\ttrain-rmse:2.794153\tval-rmse:3.015237\n"
       ]
      },
      {
       "output_type": "stream",
       "stream": "stderr",
       "text": [
        "[679]\ttrain-rmse:2.791883\tval-rmse:3.013175\n",
        "[680]\ttrain-rmse:2.790179\tval-rmse:3.011798\n"
       ]
      },
      {
       "output_type": "stream",
       "stream": "stderr",
       "text": [
        "[681]\ttrain-rmse:2.788898\tval-rmse:3.010711\n",
        "[682]\ttrain-rmse:2.786277\tval-rmse:3.008417\n"
       ]
      },
      {
       "output_type": "stream",
       "stream": "stderr",
       "text": [
        "[683]\ttrain-rmse:2.784063\tval-rmse:3.006403\n",
        "[684]\ttrain-rmse:2.781343\tval-rmse:3.004132\n"
       ]
      },
      {
       "output_type": "stream",
       "stream": "stderr",
       "text": [
        "[685]\ttrain-rmse:2.780878\tval-rmse:3.003685\n",
        "[686]\ttrain-rmse:2.779330\tval-rmse:3.002334\n"
       ]
      },
      {
       "output_type": "stream",
       "stream": "stderr",
       "text": [
        "[687]\ttrain-rmse:2.776762\tval-rmse:3.000099\n",
        "[688]\ttrain-rmse:2.774722\tval-rmse:2.998319\n"
       ]
      },
      {
       "output_type": "stream",
       "stream": "stderr",
       "text": [
        "[689]\ttrain-rmse:2.772908\tval-rmse:2.996719\n",
        "[690]\ttrain-rmse:2.770413\tval-rmse:2.994538\n"
       ]
      },
      {
       "output_type": "stream",
       "stream": "stderr",
       "text": [
        "[691]\ttrain-rmse:2.768885\tval-rmse:2.993188\n",
        "[692]\ttrain-rmse:2.767734\tval-rmse:2.992271\n"
       ]
      },
      {
       "output_type": "stream",
       "stream": "stderr",
       "text": [
        "[693]\ttrain-rmse:2.766183\tval-rmse:2.990911\n",
        "[694]\ttrain-rmse:2.764917\tval-rmse:2.989740\n"
       ]
      },
      {
       "output_type": "stream",
       "stream": "stderr",
       "text": [
        "[695]\ttrain-rmse:2.762748\tval-rmse:2.987795\n",
        "[696]\ttrain-rmse:2.761626\tval-rmse:2.986859\n"
       ]
      },
      {
       "output_type": "stream",
       "stream": "stderr",
       "text": [
        "[697]\ttrain-rmse:2.759289\tval-rmse:2.984962\n",
        "[698]\ttrain-rmse:2.758282\tval-rmse:2.984048\n"
       ]
      },
      {
       "output_type": "stream",
       "stream": "stderr",
       "text": [
        "[699]\ttrain-rmse:2.756733\tval-rmse:2.982576\n",
        "[700]\ttrain-rmse:2.754862\tval-rmse:2.980775\n"
       ]
      },
      {
       "output_type": "stream",
       "stream": "stderr",
       "text": [
        "[701]\ttrain-rmse:2.753119\tval-rmse:2.979262\n",
        "[702]\ttrain-rmse:2.751726\tval-rmse:2.978109\n"
       ]
      },
      {
       "output_type": "stream",
       "stream": "stderr",
       "text": [
        "[703]\ttrain-rmse:2.750913\tval-rmse:2.977361\n",
        "[704]\ttrain-rmse:2.747639\tval-rmse:2.974388\n"
       ]
      },
      {
       "output_type": "stream",
       "stream": "stderr",
       "text": [
        "[705]\ttrain-rmse:2.744710\tval-rmse:2.971839\n",
        "[706]\ttrain-rmse:2.741292\tval-rmse:2.968761\n"
       ]
      },
      {
       "output_type": "stream",
       "stream": "stderr",
       "text": [
        "[707]\ttrain-rmse:2.739074\tval-rmse:2.966879\n",
        "[708]\ttrain-rmse:2.737336\tval-rmse:2.965489\n"
       ]
      },
      {
       "output_type": "stream",
       "stream": "stderr",
       "text": [
        "[709]\ttrain-rmse:2.734787\tval-rmse:2.963348\n",
        "[710]\ttrain-rmse:2.732620\tval-rmse:2.961351\n"
       ]
      },
      {
       "output_type": "stream",
       "stream": "stderr",
       "text": [
        "[711]\ttrain-rmse:2.731896\tval-rmse:2.960740\n",
        "[712]\ttrain-rmse:2.730294\tval-rmse:2.959384\n"
       ]
      },
      {
       "output_type": "stream",
       "stream": "stderr",
       "text": [
        "[713]\ttrain-rmse:2.728212\tval-rmse:2.957492\n",
        "[714]\ttrain-rmse:2.726380\tval-rmse:2.956051\n"
       ]
      },
      {
       "output_type": "stream",
       "stream": "stderr",
       "text": [
        "[715]\ttrain-rmse:2.723220\tval-rmse:2.953433\n",
        "[716]\ttrain-rmse:2.722028\tval-rmse:2.952441\n"
       ]
      },
      {
       "output_type": "stream",
       "stream": "stderr",
       "text": [
        "[717]\ttrain-rmse:2.719383\tval-rmse:2.950328\n",
        "[718]\ttrain-rmse:2.717565\tval-rmse:2.948857\n"
       ]
      },
      {
       "output_type": "stream",
       "stream": "stderr",
       "text": [
        "[719]\ttrain-rmse:2.714964\tval-rmse:2.946502\n",
        "[720]\ttrain-rmse:2.712903\tval-rmse:2.944775\n"
       ]
      },
      {
       "output_type": "stream",
       "stream": "stderr",
       "text": [
        "[721]\ttrain-rmse:2.711006\tval-rmse:2.943132\n",
        "[722]\ttrain-rmse:2.709550\tval-rmse:2.941997\n"
       ]
      },
      {
       "output_type": "stream",
       "stream": "stderr",
       "text": [
        "[723]\ttrain-rmse:2.707848\tval-rmse:2.940701\n",
        "[724]\ttrain-rmse:2.706528\tval-rmse:2.939451\n"
       ]
      },
      {
       "output_type": "stream",
       "stream": "stderr",
       "text": [
        "[725]\ttrain-rmse:2.702737\tval-rmse:2.936202\n",
        "[726]\ttrain-rmse:2.701397\tval-rmse:2.934999\n"
       ]
      },
      {
       "output_type": "stream",
       "stream": "stderr",
       "text": [
        "[727]\ttrain-rmse:2.700108\tval-rmse:2.933820\n",
        "[728]\ttrain-rmse:2.698976\tval-rmse:2.932930\n"
       ]
      },
      {
       "output_type": "stream",
       "stream": "stderr",
       "text": [
        "[729]\ttrain-rmse:2.697830\tval-rmse:2.931950\n",
        "[730]\ttrain-rmse:2.696697\tval-rmse:2.931091\n"
       ]
      },
      {
       "output_type": "stream",
       "stream": "stderr",
       "text": [
        "[731]\ttrain-rmse:2.694762\tval-rmse:2.929571\n",
        "[732]\ttrain-rmse:2.693265\tval-rmse:2.928318\n"
       ]
      },
      {
       "output_type": "stream",
       "stream": "stderr",
       "text": [
        "[733]\ttrain-rmse:2.691103\tval-rmse:2.926440\n",
        "[734]\ttrain-rmse:2.688364\tval-rmse:2.924013\n"
       ]
      },
      {
       "output_type": "stream",
       "stream": "stderr",
       "text": [
        "[735]\ttrain-rmse:2.685836\tval-rmse:2.921896\n",
        "[736]\ttrain-rmse:2.683782\tval-rmse:2.920150\n"
       ]
      },
      {
       "output_type": "stream",
       "stream": "stderr",
       "text": [
        "[737]\ttrain-rmse:2.681547\tval-rmse:2.918320\n",
        "[738]\ttrain-rmse:2.680530\tval-rmse:2.917377\n"
       ]
      },
      {
       "output_type": "stream",
       "stream": "stderr",
       "text": [
        "[739]\ttrain-rmse:2.678623\tval-rmse:2.915465\n",
        "[740]\ttrain-rmse:2.676798\tval-rmse:2.914009\n"
       ]
      },
      {
       "output_type": "stream",
       "stream": "stderr",
       "text": [
        "[741]\ttrain-rmse:2.675858\tval-rmse:2.913085\n",
        "[742]\ttrain-rmse:2.674370\tval-rmse:2.911724\n"
       ]
      },
      {
       "output_type": "stream",
       "stream": "stderr",
       "text": [
        "[743]\ttrain-rmse:2.672559\tval-rmse:2.910159\n",
        "[744]\ttrain-rmse:2.670620\tval-rmse:2.908608\n"
       ]
      },
      {
       "output_type": "stream",
       "stream": "stderr",
       "text": [
        "[745]\ttrain-rmse:2.669286\tval-rmse:2.907433\n",
        "[746]\ttrain-rmse:2.665670\tval-rmse:2.904386\n"
       ]
      },
      {
       "output_type": "stream",
       "stream": "stderr",
       "text": [
        "[747]\ttrain-rmse:2.662973\tval-rmse:2.902199\n",
        "[748]\ttrain-rmse:2.661422\tval-rmse:2.900892\n"
       ]
      },
      {
       "output_type": "stream",
       "stream": "stderr",
       "text": [
        "[749]\ttrain-rmse:2.659510\tval-rmse:2.899153\n",
        "[750]\ttrain-rmse:2.657348\tval-rmse:2.897384\n"
       ]
      },
      {
       "output_type": "stream",
       "stream": "stderr",
       "text": [
        "[751]\ttrain-rmse:2.656517\tval-rmse:2.896659\n",
        "[752]\ttrain-rmse:2.654808\tval-rmse:2.895186\n"
       ]
      },
      {
       "output_type": "stream",
       "stream": "stderr",
       "text": [
        "[753]\ttrain-rmse:2.652553\tval-rmse:2.893363\n",
        "[754]\ttrain-rmse:2.651760\tval-rmse:2.892658\n"
       ]
      },
      {
       "output_type": "stream",
       "stream": "stderr",
       "text": [
        "[755]\ttrain-rmse:2.650482\tval-rmse:2.891449\n",
        "[756]\ttrain-rmse:2.649224\tval-rmse:2.890411\n"
       ]
      },
      {
       "output_type": "stream",
       "stream": "stderr",
       "text": [
        "[757]\ttrain-rmse:2.647522\tval-rmse:2.888920\n",
        "[758]\ttrain-rmse:2.645438\tval-rmse:2.887231\n"
       ]
      },
      {
       "output_type": "stream",
       "stream": "stderr",
       "text": [
        "[759]\ttrain-rmse:2.643168\tval-rmse:2.885301\n",
        "[760]\ttrain-rmse:2.640412\tval-rmse:2.883067\n"
       ]
      },
      {
       "output_type": "stream",
       "stream": "stderr",
       "text": [
        "[761]\ttrain-rmse:2.639034\tval-rmse:2.881896\n",
        "[762]\ttrain-rmse:2.635676\tval-rmse:2.878979\n"
       ]
      },
      {
       "output_type": "stream",
       "stream": "stderr",
       "text": [
        "[763]\ttrain-rmse:2.634567\tval-rmse:2.878046\n",
        "[764]\ttrain-rmse:2.632347\tval-rmse:2.876069\n"
       ]
      },
      {
       "output_type": "stream",
       "stream": "stderr",
       "text": [
        "[765]\ttrain-rmse:2.629714\tval-rmse:2.873828\n",
        "[766]\ttrain-rmse:2.627740\tval-rmse:2.871994\n"
       ]
      },
      {
       "output_type": "stream",
       "stream": "stderr",
       "text": [
        "[767]\ttrain-rmse:2.625130\tval-rmse:2.869536\n",
        "[768]\ttrain-rmse:2.622999\tval-rmse:2.867782\n"
       ]
      },
      {
       "output_type": "stream",
       "stream": "stderr",
       "text": [
        "[769]\ttrain-rmse:2.620843\tval-rmse:2.865853\n",
        "[770]\ttrain-rmse:2.619820\tval-rmse:2.864865\n"
       ]
      },
      {
       "output_type": "stream",
       "stream": "stderr",
       "text": [
        "[771]\ttrain-rmse:2.617437\tval-rmse:2.862744\n",
        "[772]\ttrain-rmse:2.615318\tval-rmse:2.860955\n"
       ]
      },
      {
       "output_type": "stream",
       "stream": "stderr",
       "text": [
        "[773]\ttrain-rmse:2.613695\tval-rmse:2.859573\n",
        "[774]\ttrain-rmse:2.612294\tval-rmse:2.858354\n"
       ]
      },
      {
       "output_type": "stream",
       "stream": "stderr",
       "text": [
        "[775]\ttrain-rmse:2.610810\tval-rmse:2.857135\n",
        "[776]\ttrain-rmse:2.609016\tval-rmse:2.855632\n"
       ]
      },
      {
       "output_type": "stream",
       "stream": "stderr",
       "text": [
        "[777]\ttrain-rmse:2.607691\tval-rmse:2.854560\n",
        "[778]\ttrain-rmse:2.606407\tval-rmse:2.853586\n"
       ]
      },
      {
       "output_type": "stream",
       "stream": "stderr",
       "text": [
        "[779]\ttrain-rmse:2.605038\tval-rmse:2.852282\n",
        "[780]\ttrain-rmse:2.603750\tval-rmse:2.851036\n"
       ]
      },
      {
       "output_type": "stream",
       "stream": "stderr",
       "text": [
        "[781]\ttrain-rmse:2.602881\tval-rmse:2.850373\n",
        "[782]\ttrain-rmse:2.599803\tval-rmse:2.847912\n"
       ]
      },
      {
       "output_type": "stream",
       "stream": "stderr",
       "text": [
        "[783]\ttrain-rmse:2.597372\tval-rmse:2.845740\n",
        "[784]\ttrain-rmse:2.595585\tval-rmse:2.844300\n"
       ]
      },
      {
       "output_type": "stream",
       "stream": "stderr",
       "text": [
        "[785]\ttrain-rmse:2.594382\tval-rmse:2.843270\n",
        "[786]\ttrain-rmse:2.593757\tval-rmse:2.842808\n"
       ]
      },
      {
       "output_type": "stream",
       "stream": "stderr",
       "text": [
        "[787]\ttrain-rmse:2.592419\tval-rmse:2.841711\n",
        "[788]\ttrain-rmse:2.589598\tval-rmse:2.839417\n"
       ]
      },
      {
       "output_type": "stream",
       "stream": "stderr",
       "text": [
        "[789]\ttrain-rmse:2.588097\tval-rmse:2.838182\n",
        "[790]\ttrain-rmse:2.586284\tval-rmse:2.836563\n"
       ]
      },
      {
       "output_type": "stream",
       "stream": "stderr",
       "text": [
        "[791]\ttrain-rmse:2.584605\tval-rmse:2.835253\n",
        "[792]\ttrain-rmse:2.583391\tval-rmse:2.834342\n"
       ]
      },
      {
       "output_type": "stream",
       "stream": "stderr",
       "text": [
        "[793]\ttrain-rmse:2.582148\tval-rmse:2.833434\n",
        "[794]\ttrain-rmse:2.580229\tval-rmse:2.831803\n"
       ]
      },
      {
       "output_type": "stream",
       "stream": "stderr",
       "text": [
        "[795]\ttrain-rmse:2.578386\tval-rmse:2.830349\n",
        "[796]\ttrain-rmse:2.577550\tval-rmse:2.829690\n"
       ]
      },
      {
       "output_type": "stream",
       "stream": "stderr",
       "text": [
        "[797]\ttrain-rmse:2.574055\tval-rmse:2.826799\n",
        "[798]\ttrain-rmse:2.571756\tval-rmse:2.824779\n"
       ]
      },
      {
       "output_type": "stream",
       "stream": "stderr",
       "text": [
        "[799]\ttrain-rmse:2.568815\tval-rmse:2.822252\n",
        "[800]\ttrain-rmse:2.566407\tval-rmse:2.820246\n"
       ]
      },
      {
       "output_type": "stream",
       "stream": "stderr",
       "text": [
        "[801]\ttrain-rmse:2.565373\tval-rmse:2.819367\n",
        "[802]\ttrain-rmse:2.563983\tval-rmse:2.818334\n"
       ]
      },
      {
       "output_type": "stream",
       "stream": "stderr",
       "text": [
        "[803]\ttrain-rmse:2.561658\tval-rmse:2.816430\n",
        "[804]\ttrain-rmse:2.561122\tval-rmse:2.815865\n"
       ]
      },
      {
       "output_type": "stream",
       "stream": "stderr",
       "text": [
        "[805]\ttrain-rmse:2.559796\tval-rmse:2.814620\n",
        "[806]\ttrain-rmse:2.558677\tval-rmse:2.813647\n"
       ]
      },
      {
       "output_type": "stream",
       "stream": "stderr",
       "text": [
        "[807]\ttrain-rmse:2.557238\tval-rmse:2.812379\n",
        "[808]\ttrain-rmse:2.556808\tval-rmse:2.811960\n"
       ]
      },
      {
       "output_type": "stream",
       "stream": "stderr",
       "text": [
        "[809]\ttrain-rmse:2.555239\tval-rmse:2.810698\n",
        "[810]\ttrain-rmse:2.552572\tval-rmse:2.808295\n"
       ]
      },
      {
       "output_type": "stream",
       "stream": "stderr",
       "text": [
        "[811]\ttrain-rmse:2.550826\tval-rmse:2.806805\n",
        "[812]\ttrain-rmse:2.549596\tval-rmse:2.805743\n"
       ]
      },
      {
       "output_type": "stream",
       "stream": "stderr",
       "text": [
        "[813]\ttrain-rmse:2.548201\tval-rmse:2.804484\n",
        "[814]\ttrain-rmse:2.546756\tval-rmse:2.803325\n"
       ]
      },
      {
       "output_type": "stream",
       "stream": "stderr",
       "text": [
        "[815]\ttrain-rmse:2.544538\tval-rmse:2.801501\n",
        "[816]\ttrain-rmse:2.542997\tval-rmse:2.800345\n"
       ]
      },
      {
       "output_type": "stream",
       "stream": "stderr",
       "text": [
        "[817]\ttrain-rmse:2.541858\tval-rmse:2.799322\n",
        "[818]\ttrain-rmse:2.540477\tval-rmse:2.798056\n"
       ]
      },
      {
       "output_type": "stream",
       "stream": "stderr",
       "text": [
        "[819]\ttrain-rmse:2.538701\tval-rmse:2.796593\n",
        "[820]\ttrain-rmse:2.537553\tval-rmse:2.795671\n"
       ]
      },
      {
       "output_type": "stream",
       "stream": "stderr",
       "text": [
        "[821]\ttrain-rmse:2.535177\tval-rmse:2.793863\n",
        "[822]\ttrain-rmse:2.532975\tval-rmse:2.792100\n"
       ]
      },
      {
       "output_type": "stream",
       "stream": "stderr",
       "text": [
        "[823]\ttrain-rmse:2.531887\tval-rmse:2.791119\n",
        "[824]\ttrain-rmse:2.530894\tval-rmse:2.790372\n"
       ]
      },
      {
       "output_type": "stream",
       "stream": "stderr",
       "text": [
        "[825]\ttrain-rmse:2.529585\tval-rmse:2.789212\n",
        "[826]\ttrain-rmse:2.528177\tval-rmse:2.788017\n"
       ]
      },
      {
       "output_type": "stream",
       "stream": "stderr",
       "text": [
        "[827]\ttrain-rmse:2.526952\tval-rmse:2.787021\n",
        "[828]\ttrain-rmse:2.526293\tval-rmse:2.786421\n"
       ]
      },
      {
       "output_type": "stream",
       "stream": "stderr",
       "text": [
        "[829]\ttrain-rmse:2.524561\tval-rmse:2.784917\n",
        "[830]\ttrain-rmse:2.523332\tval-rmse:2.783956\n"
       ]
      },
      {
       "output_type": "stream",
       "stream": "stderr",
       "text": [
        "[831]\ttrain-rmse:2.522632\tval-rmse:2.783295\n",
        "[832]\ttrain-rmse:2.521019\tval-rmse:2.781919\n"
       ]
      },
      {
       "output_type": "stream",
       "stream": "stderr",
       "text": [
        "[833]\ttrain-rmse:2.520073\tval-rmse:2.781135\n",
        "[834]\ttrain-rmse:2.519034\tval-rmse:2.780209\n"
       ]
      },
      {
       "output_type": "stream",
       "stream": "stderr",
       "text": [
        "[835]\ttrain-rmse:2.518322\tval-rmse:2.779571\n",
        "[836]\ttrain-rmse:2.517077\tval-rmse:2.778722\n"
       ]
      },
      {
       "output_type": "stream",
       "stream": "stderr",
       "text": [
        "[837]\ttrain-rmse:2.515355\tval-rmse:2.777164\n",
        "[838]\ttrain-rmse:2.514060\tval-rmse:2.776005\n"
       ]
      },
      {
       "output_type": "stream",
       "stream": "stderr",
       "text": [
        "[839]\ttrain-rmse:2.512279\tval-rmse:2.774518\n",
        "[840]\ttrain-rmse:2.510204\tval-rmse:2.772773\n"
       ]
      },
      {
       "output_type": "stream",
       "stream": "stderr",
       "text": [
        "[841]\ttrain-rmse:2.507552\tval-rmse:2.770454\n",
        "[842]\ttrain-rmse:2.506400\tval-rmse:2.769515\n"
       ]
      },
      {
       "output_type": "stream",
       "stream": "stderr",
       "text": [
        "[843]\ttrain-rmse:2.505435\tval-rmse:2.768676\n",
        "[844]\ttrain-rmse:2.504123\tval-rmse:2.767570\n"
       ]
      },
      {
       "output_type": "stream",
       "stream": "stderr",
       "text": [
        "[845]\ttrain-rmse:2.501761\tval-rmse:2.765701\n",
        "[846]\ttrain-rmse:2.499765\tval-rmse:2.764044\n"
       ]
      },
      {
       "output_type": "stream",
       "stream": "stderr",
       "text": [
        "[847]\ttrain-rmse:2.497909\tval-rmse:2.762493\n",
        "[848]\ttrain-rmse:2.496474\tval-rmse:2.761347\n"
       ]
      },
      {
       "output_type": "stream",
       "stream": "stderr",
       "text": [
        "[849]\ttrain-rmse:2.494679\tval-rmse:2.759805\n",
        "[850]\ttrain-rmse:2.493701\tval-rmse:2.759047\n"
       ]
      },
      {
       "output_type": "stream",
       "stream": "stderr",
       "text": [
        "[851]\ttrain-rmse:2.492569\tval-rmse:2.758155\n",
        "[852]\ttrain-rmse:2.490973\tval-rmse:2.756852\n"
       ]
      },
      {
       "output_type": "stream",
       "stream": "stderr",
       "text": [
        "[853]\ttrain-rmse:2.489895\tval-rmse:2.755947\n",
        "[854]\ttrain-rmse:2.487184\tval-rmse:2.753596\n"
       ]
      },
      {
       "output_type": "stream",
       "stream": "stderr",
       "text": [
        "[855]\ttrain-rmse:2.485604\tval-rmse:2.752334\n",
        "[856]\ttrain-rmse:2.483703\tval-rmse:2.750688\n"
       ]
      },
      {
       "output_type": "stream",
       "stream": "stderr",
       "text": [
        "[857]\ttrain-rmse:2.481591\tval-rmse:2.748999\n",
        "[858]\ttrain-rmse:2.479798\tval-rmse:2.747592\n"
       ]
      },
      {
       "output_type": "stream",
       "stream": "stderr",
       "text": [
        "[859]\ttrain-rmse:2.477021\tval-rmse:2.745362\n",
        "[860]\ttrain-rmse:2.475516\tval-rmse:2.744131\n"
       ]
      },
      {
       "output_type": "stream",
       "stream": "stderr",
       "text": [
        "[861]\ttrain-rmse:2.472654\tval-rmse:2.741906\n",
        "[862]\ttrain-rmse:2.471743\tval-rmse:2.741062\n"
       ]
      },
      {
       "output_type": "stream",
       "stream": "stderr",
       "text": [
        "[863]\ttrain-rmse:2.469852\tval-rmse:2.739540\n",
        "[864]\ttrain-rmse:2.468894\tval-rmse:2.738703\n"
       ]
      },
      {
       "output_type": "stream",
       "stream": "stderr",
       "text": [
        "[865]\ttrain-rmse:2.468419\tval-rmse:2.738351\n",
        "[866]\ttrain-rmse:2.466573\tval-rmse:2.736839\n"
       ]
      },
      {
       "output_type": "stream",
       "stream": "stderr",
       "text": [
        "[867]\ttrain-rmse:2.465469\tval-rmse:2.735815\n",
        "[868]\ttrain-rmse:2.464251\tval-rmse:2.734771\n"
       ]
      },
      {
       "output_type": "stream",
       "stream": "stderr",
       "text": [
        "[869]\ttrain-rmse:2.462159\tval-rmse:2.733166\n",
        "[870]\ttrain-rmse:2.460813\tval-rmse:2.731929\n"
       ]
      },
      {
       "output_type": "stream",
       "stream": "stderr",
       "text": [
        "[871]\ttrain-rmse:2.459163\tval-rmse:2.730427\n",
        "[872]\ttrain-rmse:2.458018\tval-rmse:2.729576\n"
       ]
      },
      {
       "output_type": "stream",
       "stream": "stderr",
       "text": [
        "[873]\ttrain-rmse:2.457066\tval-rmse:2.728802\n",
        "[874]\ttrain-rmse:2.456389\tval-rmse:2.728243\n"
       ]
      },
      {
       "output_type": "stream",
       "stream": "stderr",
       "text": [
        "[875]\ttrain-rmse:2.456113\tval-rmse:2.728005\n",
        "[876]\ttrain-rmse:2.454601\tval-rmse:2.726625\n"
       ]
      },
      {
       "output_type": "stream",
       "stream": "stderr",
       "text": [
        "[877]\ttrain-rmse:2.452088\tval-rmse:2.724707\n",
        "[878]\ttrain-rmse:2.450087\tval-rmse:2.723139\n"
       ]
      },
      {
       "output_type": "stream",
       "stream": "stderr",
       "text": [
        "[879]\ttrain-rmse:2.449040\tval-rmse:2.722239\n",
        "[880]\ttrain-rmse:2.447254\tval-rmse:2.720779\n"
       ]
      },
      {
       "output_type": "stream",
       "stream": "stderr",
       "text": [
        "[881]\ttrain-rmse:2.446288\tval-rmse:2.719966\n",
        "[882]\ttrain-rmse:2.444693\tval-rmse:2.718664\n"
       ]
      },
      {
       "output_type": "stream",
       "stream": "stderr",
       "text": [
        "[883]\ttrain-rmse:2.443118\tval-rmse:2.717120\n",
        "[884]\ttrain-rmse:2.442077\tval-rmse:2.716149\n"
       ]
      },
      {
       "output_type": "stream",
       "stream": "stderr",
       "text": [
        "[885]\ttrain-rmse:2.441373\tval-rmse:2.715538\n",
        "[886]\ttrain-rmse:2.440006\tval-rmse:2.714239\n"
       ]
      },
      {
       "output_type": "stream",
       "stream": "stderr",
       "text": [
        "[887]\ttrain-rmse:2.438612\tval-rmse:2.713142\n",
        "[888]\ttrain-rmse:2.436574\tval-rmse:2.711203\n"
       ]
      },
      {
       "output_type": "stream",
       "stream": "stderr",
       "text": [
        "[889]\ttrain-rmse:2.435436\tval-rmse:2.710196\n",
        "[890]\ttrain-rmse:2.433033\tval-rmse:2.708322\n"
       ]
      },
      {
       "output_type": "stream",
       "stream": "stderr",
       "text": [
        "[891]\ttrain-rmse:2.431923\tval-rmse:2.707359\n",
        "[892]\ttrain-rmse:2.431042\tval-rmse:2.706731\n"
       ]
      },
      {
       "output_type": "stream",
       "stream": "stderr",
       "text": [
        "[893]\ttrain-rmse:2.428773\tval-rmse:2.704821\n",
        "[894]\ttrain-rmse:2.427192\tval-rmse:2.703415\n"
       ]
      },
      {
       "output_type": "stream",
       "stream": "stderr",
       "text": [
        "[895]\ttrain-rmse:2.425939\tval-rmse:2.702298\n",
        "[896]\ttrain-rmse:2.423843\tval-rmse:2.700557\n"
       ]
      },
      {
       "output_type": "stream",
       "stream": "stderr",
       "text": [
        "[897]\ttrain-rmse:2.421664\tval-rmse:2.698727\n",
        "[898]\ttrain-rmse:2.419400\tval-rmse:2.696925\n"
       ]
      },
      {
       "output_type": "stream",
       "stream": "stderr",
       "text": [
        "[899]\ttrain-rmse:2.418187\tval-rmse:2.695886\n",
        "[900]\ttrain-rmse:2.416718\tval-rmse:2.694510\n"
       ]
      },
      {
       "output_type": "stream",
       "stream": "stderr",
       "text": [
        "[901]\ttrain-rmse:2.415640\tval-rmse:2.693579\n",
        "[902]\ttrain-rmse:2.414813\tval-rmse:2.692868\n"
       ]
      },
      {
       "output_type": "stream",
       "stream": "stderr",
       "text": [
        "[903]\ttrain-rmse:2.413771\tval-rmse:2.692084\n",
        "[904]\ttrain-rmse:2.412097\tval-rmse:2.690624\n"
       ]
      },
      {
       "output_type": "stream",
       "stream": "stderr",
       "text": [
        "[905]\ttrain-rmse:2.411110\tval-rmse:2.689846\n",
        "[906]\ttrain-rmse:2.409587\tval-rmse:2.688635\n"
       ]
      },
      {
       "output_type": "stream",
       "stream": "stderr",
       "text": [
        "[907]\ttrain-rmse:2.408200\tval-rmse:2.687596\n",
        "[908]\ttrain-rmse:2.407111\tval-rmse:2.686568\n"
       ]
      },
      {
       "output_type": "stream",
       "stream": "stderr",
       "text": [
        "[909]\ttrain-rmse:2.405828\tval-rmse:2.685400\n",
        "[910]\ttrain-rmse:2.404893\tval-rmse:2.684514\n"
       ]
      },
      {
       "output_type": "stream",
       "stream": "stderr",
       "text": [
        "[911]\ttrain-rmse:2.403786\tval-rmse:2.683645\n",
        "[912]\ttrain-rmse:2.401638\tval-rmse:2.681740\n"
       ]
      },
      {
       "output_type": "stream",
       "stream": "stderr",
       "text": [
        "[913]\ttrain-rmse:2.400248\tval-rmse:2.680600\n",
        "[914]\ttrain-rmse:2.398956\tval-rmse:2.679605\n"
       ]
      },
      {
       "output_type": "stream",
       "stream": "stderr",
       "text": [
        "[915]\ttrain-rmse:2.397798\tval-rmse:2.678699\n",
        "[916]\ttrain-rmse:2.396639\tval-rmse:2.677836\n"
       ]
      },
      {
       "output_type": "stream",
       "stream": "stderr",
       "text": [
        "[917]\ttrain-rmse:2.394450\tval-rmse:2.676024\n",
        "[918]\ttrain-rmse:2.393211\tval-rmse:2.675133\n"
       ]
      },
      {
       "output_type": "stream",
       "stream": "stderr",
       "text": [
        "[919]\ttrain-rmse:2.390912\tval-rmse:2.673411\n",
        "[920]\ttrain-rmse:2.389102\tval-rmse:2.671889\n"
       ]
      },
      {
       "output_type": "stream",
       "stream": "stderr",
       "text": [
        "[921]\ttrain-rmse:2.387774\tval-rmse:2.670729\n",
        "[922]\ttrain-rmse:2.386021\tval-rmse:2.669183\n"
       ]
      },
      {
       "output_type": "stream",
       "stream": "stderr",
       "text": [
        "[923]\ttrain-rmse:2.385026\tval-rmse:2.668375\n",
        "[924]\ttrain-rmse:2.383962\tval-rmse:2.667377\n"
       ]
      },
      {
       "output_type": "stream",
       "stream": "stderr",
       "text": [
        "[925]\ttrain-rmse:2.382876\tval-rmse:2.666522\n",
        "[926]\ttrain-rmse:2.380903\tval-rmse:2.664840\n"
       ]
      },
      {
       "output_type": "stream",
       "stream": "stderr",
       "text": [
        "[927]\ttrain-rmse:2.379974\tval-rmse:2.664098\n",
        "[928]\ttrain-rmse:2.378676\tval-rmse:2.663066\n"
       ]
      },
      {
       "output_type": "stream",
       "stream": "stderr",
       "text": [
        "[929]\ttrain-rmse:2.377637\tval-rmse:2.662234\n",
        "[930]\ttrain-rmse:2.375734\tval-rmse:2.660505\n"
       ]
      },
      {
       "output_type": "stream",
       "stream": "stderr",
       "text": [
        "[931]\ttrain-rmse:2.374522\tval-rmse:2.659523\n",
        "[932]\ttrain-rmse:2.373101\tval-rmse:2.658366\n"
       ]
      },
      {
       "output_type": "stream",
       "stream": "stderr",
       "text": [
        "[933]\ttrain-rmse:2.371164\tval-rmse:2.656891\n",
        "[934]\ttrain-rmse:2.369580\tval-rmse:2.655558\n"
       ]
      },
      {
       "output_type": "stream",
       "stream": "stderr",
       "text": [
        "[935]\ttrain-rmse:2.368879\tval-rmse:2.655077\n",
        "[936]\ttrain-rmse:2.367220\tval-rmse:2.653738\n"
       ]
      },
      {
       "output_type": "stream",
       "stream": "stderr",
       "text": [
        "[937]\ttrain-rmse:2.366126\tval-rmse:2.652818\n",
        "[938]\ttrain-rmse:2.365322\tval-rmse:2.652152\n"
       ]
      },
      {
       "output_type": "stream",
       "stream": "stderr",
       "text": [
        "[939]\ttrain-rmse:2.364114\tval-rmse:2.651146\n",
        "[940]\ttrain-rmse:2.362149\tval-rmse:2.649634\n"
       ]
      },
      {
       "output_type": "stream",
       "stream": "stderr",
       "text": [
        "[941]\ttrain-rmse:2.360081\tval-rmse:2.648040\n",
        "[942]\ttrain-rmse:2.358095\tval-rmse:2.646634\n"
       ]
      },
      {
       "output_type": "stream",
       "stream": "stderr",
       "text": [
        "[943]\ttrain-rmse:2.356393\tval-rmse:2.645501\n",
        "[944]\ttrain-rmse:2.355034\tval-rmse:2.644447\n"
       ]
      },
      {
       "output_type": "stream",
       "stream": "stderr",
       "text": [
        "[945]\ttrain-rmse:2.353287\tval-rmse:2.643129\n",
        "[946]\ttrain-rmse:2.352229\tval-rmse:2.642258\n"
       ]
      },
      {
       "output_type": "stream",
       "stream": "stderr",
       "text": [
        "[947]\ttrain-rmse:2.351067\tval-rmse:2.641339\n",
        "[948]\ttrain-rmse:2.349380\tval-rmse:2.639884\n"
       ]
      },
      {
       "output_type": "stream",
       "stream": "stderr",
       "text": [
        "[949]\ttrain-rmse:2.348170\tval-rmse:2.638914\n",
        "[950]\ttrain-rmse:2.346647\tval-rmse:2.637730\n"
       ]
      },
      {
       "output_type": "stream",
       "stream": "stderr",
       "text": [
        "[951]\ttrain-rmse:2.345636\tval-rmse:2.636884\n",
        "[952]\ttrain-rmse:2.344518\tval-rmse:2.635978\n"
       ]
      },
      {
       "output_type": "stream",
       "stream": "stderr",
       "text": [
        "[953]\ttrain-rmse:2.343235\tval-rmse:2.634981\n",
        "[954]\ttrain-rmse:2.342082\tval-rmse:2.634052\n"
       ]
      },
      {
       "output_type": "stream",
       "stream": "stderr",
       "text": [
        "[955]\ttrain-rmse:2.341666\tval-rmse:2.633749\n",
        "[956]\ttrain-rmse:2.340375\tval-rmse:2.632772\n"
       ]
      },
      {
       "output_type": "stream",
       "stream": "stderr",
       "text": [
        "[957]\ttrain-rmse:2.339097\tval-rmse:2.631757\n",
        "[958]\ttrain-rmse:2.337452\tval-rmse:2.630420\n"
       ]
      },
      {
       "output_type": "stream",
       "stream": "stderr",
       "text": [
        "[959]\ttrain-rmse:2.335593\tval-rmse:2.628836\n",
        "[960]\ttrain-rmse:2.334530\tval-rmse:2.627879\n"
       ]
      },
      {
       "output_type": "stream",
       "stream": "stderr",
       "text": [
        "[961]\ttrain-rmse:2.333784\tval-rmse:2.627311\n",
        "[962]\ttrain-rmse:2.332668\tval-rmse:2.626319\n"
       ]
      },
      {
       "output_type": "stream",
       "stream": "stderr",
       "text": [
        "[963]\ttrain-rmse:2.331942\tval-rmse:2.625712\n",
        "[964]\ttrain-rmse:2.330722\tval-rmse:2.624870\n"
       ]
      },
      {
       "output_type": "stream",
       "stream": "stderr",
       "text": [
        "[965]\ttrain-rmse:2.330108\tval-rmse:2.624378\n",
        "[966]\ttrain-rmse:2.328602\tval-rmse:2.622920\n"
       ]
      },
      {
       "output_type": "stream",
       "stream": "stderr",
       "text": [
        "[967]\ttrain-rmse:2.327391\tval-rmse:2.622026\n",
        "[968]\ttrain-rmse:2.325766\tval-rmse:2.620878\n"
       ]
      },
      {
       "output_type": "stream",
       "stream": "stderr",
       "text": [
        "[969]\ttrain-rmse:2.323823\tval-rmse:2.619399\n",
        "[970]\ttrain-rmse:2.322897\tval-rmse:2.618644\n"
       ]
      },
      {
       "output_type": "stream",
       "stream": "stderr",
       "text": [
        "[971]\ttrain-rmse:2.321875\tval-rmse:2.617855\n",
        "[972]\ttrain-rmse:2.320753\tval-rmse:2.616894\n"
       ]
      },
      {
       "output_type": "stream",
       "stream": "stderr",
       "text": [
        "[973]\ttrain-rmse:2.319491\tval-rmse:2.615953\n",
        "[974]\ttrain-rmse:2.318675\tval-rmse:2.615360\n"
       ]
      },
      {
       "output_type": "stream",
       "stream": "stderr",
       "text": [
        "[975]\ttrain-rmse:2.317526\tval-rmse:2.614315\n",
        "[976]\ttrain-rmse:2.316789\tval-rmse:2.613614\n"
       ]
      },
      {
       "output_type": "stream",
       "stream": "stderr",
       "text": [
        "[977]\ttrain-rmse:2.315862\tval-rmse:2.612771\n",
        "[978]\ttrain-rmse:2.314275\tval-rmse:2.611482\n"
       ]
      },
      {
       "output_type": "stream",
       "stream": "stderr",
       "text": [
        "[979]\ttrain-rmse:2.313359\tval-rmse:2.610683\n",
        "[980]\ttrain-rmse:2.312448\tval-rmse:2.609916\n"
       ]
      },
      {
       "output_type": "stream",
       "stream": "stderr",
       "text": [
        "[981]\ttrain-rmse:2.311727\tval-rmse:2.609257\n",
        "[982]\ttrain-rmse:2.310892\tval-rmse:2.608654\n"
       ]
      },
      {
       "output_type": "stream",
       "stream": "stderr",
       "text": [
        "[983]\ttrain-rmse:2.309834\tval-rmse:2.607883\n",
        "[984]\ttrain-rmse:2.308803\tval-rmse:2.606955\n"
       ]
      },
      {
       "output_type": "stream",
       "stream": "stderr",
       "text": [
        "[985]\ttrain-rmse:2.307201\tval-rmse:2.605591\n",
        "[986]\ttrain-rmse:2.306043\tval-rmse:2.604632\n"
       ]
      },
      {
       "output_type": "stream",
       "stream": "stderr",
       "text": [
        "[987]\ttrain-rmse:2.305439\tval-rmse:2.604192\n",
        "[988]\ttrain-rmse:2.304991\tval-rmse:2.603864\n"
       ]
      },
      {
       "output_type": "stream",
       "stream": "stderr",
       "text": [
        "[989]\ttrain-rmse:2.304090\tval-rmse:2.603167\n",
        "[990]\ttrain-rmse:2.303008\tval-rmse:2.602254\n"
       ]
      },
      {
       "output_type": "stream",
       "stream": "stderr",
       "text": [
        "[991]\ttrain-rmse:2.300865\tval-rmse:2.600505\n",
        "[992]\ttrain-rmse:2.299565\tval-rmse:2.599230\n"
       ]
      },
      {
       "output_type": "stream",
       "stream": "stderr",
       "text": [
        "[993]\ttrain-rmse:2.298443\tval-rmse:2.598282\n",
        "[994]\ttrain-rmse:2.297260\tval-rmse:2.597236\n"
       ]
      },
      {
       "output_type": "stream",
       "stream": "stderr",
       "text": [
        "[995]\ttrain-rmse:2.295913\tval-rmse:2.596265\n",
        "[996]\ttrain-rmse:2.294346\tval-rmse:2.594937\n"
       ]
      },
      {
       "output_type": "stream",
       "stream": "stderr",
       "text": [
        "[997]\ttrain-rmse:2.293738\tval-rmse:2.594379\n",
        "[998]\ttrain-rmse:2.291654\tval-rmse:2.592683\n"
       ]
      },
      {
       "output_type": "stream",
       "stream": "stderr",
       "text": [
        "[999]\ttrain-rmse:2.290402\tval-rmse:2.591753\n",
        "[1000]\ttrain-rmse:2.288242\tval-rmse:2.589900\n"
       ]
      },
      {
       "output_type": "stream",
       "stream": "stderr",
       "text": [
        "[1001]\ttrain-rmse:2.286823\tval-rmse:2.588896\n",
        "[1002]\ttrain-rmse:2.285420\tval-rmse:2.587842\n"
       ]
      },
      {
       "output_type": "stream",
       "stream": "stderr",
       "text": [
        "[1003]\ttrain-rmse:2.284481\tval-rmse:2.586988\n",
        "[1004]\ttrain-rmse:2.282501\tval-rmse:2.585171\n"
       ]
      },
      {
       "output_type": "stream",
       "stream": "stderr",
       "text": [
        "[1005]\ttrain-rmse:2.281716\tval-rmse:2.584480\n",
        "[1006]\ttrain-rmse:2.280430\tval-rmse:2.583248\n"
       ]
      },
      {
       "output_type": "stream",
       "stream": "stderr",
       "text": [
        "[1007]\ttrain-rmse:2.279227\tval-rmse:2.582170\n",
        "[1008]\ttrain-rmse:2.278294\tval-rmse:2.581439\n"
       ]
      },
      {
       "output_type": "stream",
       "stream": "stderr",
       "text": [
        "[1009]\ttrain-rmse:2.276799\tval-rmse:2.580297\n",
        "[1010]\ttrain-rmse:2.276360\tval-rmse:2.579935\n"
       ]
      },
      {
       "output_type": "stream",
       "stream": "stderr",
       "text": [
        "[1011]\ttrain-rmse:2.274319\tval-rmse:2.578152\n",
        "[1012]\ttrain-rmse:2.273216\tval-rmse:2.577352\n"
       ]
      },
      {
       "output_type": "stream",
       "stream": "stderr",
       "text": [
        "[1013]\ttrain-rmse:2.272352\tval-rmse:2.576542\n",
        "[1014]\ttrain-rmse:2.271146\tval-rmse:2.575661\n"
       ]
      },
      {
       "output_type": "stream",
       "stream": "stderr",
       "text": [
        "[1015]\ttrain-rmse:2.269022\tval-rmse:2.573935\n",
        "[1016]\ttrain-rmse:2.268052\tval-rmse:2.573149\n"
       ]
      },
      {
       "output_type": "stream",
       "stream": "stderr",
       "text": [
        "[1017]\ttrain-rmse:2.266561\tval-rmse:2.571834\n",
        "[1018]\ttrain-rmse:2.265159\tval-rmse:2.570662\n"
       ]
      },
      {
       "output_type": "stream",
       "stream": "stderr",
       "text": [
        "[1019]\ttrain-rmse:2.264265\tval-rmse:2.569985\n",
        "[1020]\ttrain-rmse:2.263246\tval-rmse:2.569227\n"
       ]
      },
      {
       "output_type": "stream",
       "stream": "stderr",
       "text": [
        "[1021]\ttrain-rmse:2.262573\tval-rmse:2.568746\n",
        "[1022]\ttrain-rmse:2.261672\tval-rmse:2.568036\n"
       ]
      },
      {
       "output_type": "stream",
       "stream": "stderr",
       "text": [
        "[1023]\ttrain-rmse:2.259451\tval-rmse:2.566248\n",
        "[1024]\ttrain-rmse:2.258441\tval-rmse:2.565416\n"
       ]
      },
      {
       "output_type": "stream",
       "stream": "stderr",
       "text": [
        "[1025]\ttrain-rmse:2.257019\tval-rmse:2.564228\n",
        "[1026]\ttrain-rmse:2.256372\tval-rmse:2.563727\n"
       ]
      },
      {
       "output_type": "stream",
       "stream": "stderr",
       "text": [
        "[1027]\ttrain-rmse:2.255144\tval-rmse:2.562809\n",
        "[1028]\ttrain-rmse:2.254524\tval-rmse:2.562289\n"
       ]
      },
      {
       "output_type": "stream",
       "stream": "stderr",
       "text": [
        "[1029]\ttrain-rmse:2.253849\tval-rmse:2.561655\n",
        "[1030]\ttrain-rmse:2.252907\tval-rmse:2.560885\n"
       ]
      },
      {
       "output_type": "stream",
       "stream": "stderr",
       "text": [
        "[1031]\ttrain-rmse:2.251712\tval-rmse:2.559875\n",
        "[1032]\ttrain-rmse:2.250903\tval-rmse:2.559184\n"
       ]
      },
      {
       "output_type": "stream",
       "stream": "stderr",
       "text": [
        "[1033]\ttrain-rmse:2.249527\tval-rmse:2.558133\n",
        "[1034]\ttrain-rmse:2.247977\tval-rmse:2.556860\n"
       ]
      },
      {
       "output_type": "stream",
       "stream": "stderr",
       "text": [
        "[1035]\ttrain-rmse:2.245840\tval-rmse:2.555085\n",
        "[1036]\ttrain-rmse:2.245306\tval-rmse:2.554613\n"
       ]
      },
      {
       "output_type": "stream",
       "stream": "stderr",
       "text": [
        "[1037]\ttrain-rmse:2.244403\tval-rmse:2.553990\n",
        "[1038]\ttrain-rmse:2.243760\tval-rmse:2.553552\n"
       ]
      },
      {
       "output_type": "stream",
       "stream": "stderr",
       "text": [
        "[1039]\ttrain-rmse:2.242842\tval-rmse:2.552742\n",
        "[1040]\ttrain-rmse:2.241578\tval-rmse:2.551782\n"
       ]
      },
      {
       "output_type": "stream",
       "stream": "stderr",
       "text": [
        "[1041]\ttrain-rmse:2.240821\tval-rmse:2.551321\n",
        "[1042]\ttrain-rmse:2.239128\tval-rmse:2.550066\n"
       ]
      },
      {
       "output_type": "stream",
       "stream": "stderr",
       "text": [
        "[1043]\ttrain-rmse:2.238037\tval-rmse:2.549189\n",
        "[1044]\ttrain-rmse:2.237646\tval-rmse:2.548900\n"
       ]
      },
      {
       "output_type": "stream",
       "stream": "stderr",
       "text": [
        "[1045]\ttrain-rmse:2.235717\tval-rmse:2.547263\n",
        "[1046]\ttrain-rmse:2.234647\tval-rmse:2.546281\n"
       ]
      },
      {
       "output_type": "stream",
       "stream": "stderr",
       "text": [
        "[1047]\ttrain-rmse:2.233388\tval-rmse:2.545283\n",
        "[1048]\ttrain-rmse:2.232851\tval-rmse:2.544817\n"
       ]
      },
      {
       "output_type": "stream",
       "stream": "stderr",
       "text": [
        "[1049]\ttrain-rmse:2.231910\tval-rmse:2.544073\n",
        "[1050]\ttrain-rmse:2.229982\tval-rmse:2.542491\n"
       ]
      },
      {
       "output_type": "stream",
       "stream": "stderr",
       "text": [
        "[1051]\ttrain-rmse:2.227813\tval-rmse:2.540713\n",
        "[1052]\ttrain-rmse:2.227004\tval-rmse:2.540064\n"
       ]
      },
      {
       "output_type": "stream",
       "stream": "stderr",
       "text": [
        "[1053]\ttrain-rmse:2.226008\tval-rmse:2.539345\n",
        "[1054]\ttrain-rmse:2.225026\tval-rmse:2.538564\n"
       ]
      },
      {
       "output_type": "stream",
       "stream": "stderr",
       "text": [
        "[1055]\ttrain-rmse:2.224210\tval-rmse:2.537977\n",
        "[1056]\ttrain-rmse:2.223329\tval-rmse:2.537227\n"
       ]
      },
      {
       "output_type": "stream",
       "stream": "stderr",
       "text": [
        "[1057]\ttrain-rmse:2.222451\tval-rmse:2.536547\n",
        "[1058]\ttrain-rmse:2.220133\tval-rmse:2.534584\n"
       ]
      },
      {
       "output_type": "stream",
       "stream": "stderr",
       "text": [
        "[1059]\ttrain-rmse:2.219182\tval-rmse:2.533952\n",
        "[1060]\ttrain-rmse:2.217481\tval-rmse:2.532619\n"
       ]
      },
      {
       "output_type": "stream",
       "stream": "stderr",
       "text": [
        "[1061]\ttrain-rmse:2.216090\tval-rmse:2.531517\n",
        "[1062]\ttrain-rmse:2.215477\tval-rmse:2.531055\n"
       ]
      },
      {
       "output_type": "stream",
       "stream": "stderr",
       "text": [
        "[1063]\ttrain-rmse:2.213842\tval-rmse:2.529665\n",
        "[1064]\ttrain-rmse:2.212790\tval-rmse:2.528762\n"
       ]
      },
      {
       "output_type": "stream",
       "stream": "stderr",
       "text": [
        "[1065]\ttrain-rmse:2.212039\tval-rmse:2.528104\n",
        "[1066]\ttrain-rmse:2.210269\tval-rmse:2.526614\n"
       ]
      },
      {
       "output_type": "stream",
       "stream": "stderr",
       "text": [
        "[1067]\ttrain-rmse:2.209254\tval-rmse:2.525825\n",
        "[1068]\ttrain-rmse:2.207656\tval-rmse:2.524475\n"
       ]
      },
      {
       "output_type": "stream",
       "stream": "stderr",
       "text": [
        "[1069]\ttrain-rmse:2.206617\tval-rmse:2.523626\n",
        "[1070]\ttrain-rmse:2.204314\tval-rmse:2.521911\n"
       ]
      },
      {
       "output_type": "stream",
       "stream": "stderr",
       "text": [
        "[1071]\ttrain-rmse:2.203592\tval-rmse:2.521360\n",
        "[1072]\ttrain-rmse:2.202107\tval-rmse:2.520220\n"
       ]
      },
      {
       "output_type": "stream",
       "stream": "stderr",
       "text": [
        "[1073]\ttrain-rmse:2.201304\tval-rmse:2.519593\n",
        "[1074]\ttrain-rmse:2.200000\tval-rmse:2.518522\n"
       ]
      },
      {
       "output_type": "stream",
       "stream": "stderr",
       "text": [
        "[1075]\ttrain-rmse:2.198851\tval-rmse:2.517614\n",
        "[1076]\ttrain-rmse:2.198356\tval-rmse:2.517275\n"
       ]
      },
      {
       "output_type": "stream",
       "stream": "stderr",
       "text": [
        "[1077]\ttrain-rmse:2.196541\tval-rmse:2.515980\n",
        "[1078]\ttrain-rmse:2.195964\tval-rmse:2.515565\n"
       ]
      },
      {
       "output_type": "stream",
       "stream": "stderr",
       "text": [
        "[1079]\ttrain-rmse:2.194870\tval-rmse:2.514765\n",
        "[1080]\ttrain-rmse:2.193382\tval-rmse:2.513611\n"
       ]
      },
      {
       "output_type": "stream",
       "stream": "stderr",
       "text": [
        "[1081]\ttrain-rmse:2.192577\tval-rmse:2.512973\n",
        "[1082]\ttrain-rmse:2.190514\tval-rmse:2.511260\n"
       ]
      },
      {
       "output_type": "stream",
       "stream": "stderr",
       "text": [
        "[1083]\ttrain-rmse:2.189615\tval-rmse:2.510542\n",
        "[1084]\ttrain-rmse:2.188787\tval-rmse:2.509896\n"
       ]
      },
      {
       "output_type": "stream",
       "stream": "stderr",
       "text": [
        "[1085]\ttrain-rmse:2.187961\tval-rmse:2.509239\n",
        "[1086]\ttrain-rmse:2.186949\tval-rmse:2.508398\n"
       ]
      },
      {
       "output_type": "stream",
       "stream": "stderr",
       "text": [
        "[1087]\ttrain-rmse:2.185782\tval-rmse:2.507438\n",
        "[1088]\ttrain-rmse:2.184647\tval-rmse:2.506554\n"
       ]
      },
      {
       "output_type": "stream",
       "stream": "stderr",
       "text": [
        "[1089]\ttrain-rmse:2.183924\tval-rmse:2.506035\n",
        "[1090]\ttrain-rmse:2.182552\tval-rmse:2.504960\n"
       ]
      },
      {
       "output_type": "stream",
       "stream": "stderr",
       "text": [
        "[1091]\ttrain-rmse:2.181535\tval-rmse:2.504032\n",
        "[1092]\ttrain-rmse:2.180166\tval-rmse:2.502885\n"
       ]
      },
      {
       "output_type": "stream",
       "stream": "stderr",
       "text": [
        "[1093]\ttrain-rmse:2.179534\tval-rmse:2.502365\n",
        "[1094]\ttrain-rmse:2.178532\tval-rmse:2.501578\n"
       ]
      },
      {
       "output_type": "stream",
       "stream": "stderr",
       "text": [
        "[1095]\ttrain-rmse:2.178029\tval-rmse:2.501190\n",
        "[1096]\ttrain-rmse:2.176945\tval-rmse:2.500264\n"
       ]
      },
      {
       "output_type": "stream",
       "stream": "stderr",
       "text": [
        "[1097]\ttrain-rmse:2.175969\tval-rmse:2.499420\n",
        "[1098]\ttrain-rmse:2.173870\tval-rmse:2.497770\n"
       ]
      },
      {
       "output_type": "stream",
       "stream": "stderr",
       "text": [
        "[1099]\ttrain-rmse:2.172796\tval-rmse:2.496906\n",
        "[1100]\ttrain-rmse:2.171631\tval-rmse:2.495998\n"
       ]
      },
      {
       "output_type": "stream",
       "stream": "stderr",
       "text": [
        "[1101]\ttrain-rmse:2.170976\tval-rmse:2.495460\n",
        "[1102]\ttrain-rmse:2.170206\tval-rmse:2.494860\n"
       ]
      },
      {
       "output_type": "stream",
       "stream": "stderr",
       "text": [
        "[1103]\ttrain-rmse:2.169368\tval-rmse:2.494251\n",
        "[1104]\ttrain-rmse:2.167928\tval-rmse:2.493092\n"
       ]
      },
      {
       "output_type": "stream",
       "stream": "stderr",
       "text": [
        "[1105]\ttrain-rmse:2.167182\tval-rmse:2.492539\n",
        "[1106]\ttrain-rmse:2.165672\tval-rmse:2.491236\n"
       ]
      },
      {
       "output_type": "stream",
       "stream": "stderr",
       "text": [
        "[1107]\ttrain-rmse:2.164173\tval-rmse:2.490120\n",
        "[1108]\ttrain-rmse:2.162624\tval-rmse:2.488816\n"
       ]
      },
      {
       "output_type": "stream",
       "stream": "stderr",
       "text": [
        "[1109]\ttrain-rmse:2.161542\tval-rmse:2.487965\n",
        "[1110]\ttrain-rmse:2.160373\tval-rmse:2.486809\n"
       ]
      },
      {
       "output_type": "stream",
       "stream": "stderr",
       "text": [
        "[1111]\ttrain-rmse:2.159444\tval-rmse:2.486168\n",
        "[1112]\ttrain-rmse:2.158209\tval-rmse:2.485109\n"
       ]
      },
      {
       "output_type": "stream",
       "stream": "stderr",
       "text": [
        "[1113]\ttrain-rmse:2.157386\tval-rmse:2.484462\n",
        "[1114]\ttrain-rmse:2.155781\tval-rmse:2.483166\n"
       ]
      },
      {
       "output_type": "stream",
       "stream": "stderr",
       "text": [
        "[1115]\ttrain-rmse:2.154902\tval-rmse:2.482484\n",
        "[1116]\ttrain-rmse:2.152642\tval-rmse:2.480595\n"
       ]
      },
      {
       "output_type": "stream",
       "stream": "stderr",
       "text": [
        "[1117]\ttrain-rmse:2.152067\tval-rmse:2.480163\n",
        "[1118]\ttrain-rmse:2.150700\tval-rmse:2.479230\n"
       ]
      },
      {
       "output_type": "stream",
       "stream": "stderr",
       "text": [
        "[1119]\ttrain-rmse:2.150047\tval-rmse:2.478717\n",
        "[1120]\ttrain-rmse:2.149120\tval-rmse:2.478024\n"
       ]
      },
      {
       "output_type": "stream",
       "stream": "stderr",
       "text": [
        "[1121]\ttrain-rmse:2.148092\tval-rmse:2.477134\n",
        "[1122]\ttrain-rmse:2.146965\tval-rmse:2.476271\n"
       ]
      },
      {
       "output_type": "stream",
       "stream": "stderr",
       "text": [
        "[1123]\ttrain-rmse:2.146564\tval-rmse:2.475911\n",
        "[1124]\ttrain-rmse:2.145881\tval-rmse:2.475460\n"
       ]
      },
      {
       "output_type": "stream",
       "stream": "stderr",
       "text": [
        "[1125]\ttrain-rmse:2.144855\tval-rmse:2.474566\n",
        "[1126]\ttrain-rmse:2.143665\tval-rmse:2.473513\n"
       ]
      },
      {
       "output_type": "stream",
       "stream": "stderr",
       "text": [
        "[1127]\ttrain-rmse:2.142981\tval-rmse:2.473027\n",
        "[1128]\ttrain-rmse:2.142462\tval-rmse:2.472592\n"
       ]
      },
      {
       "output_type": "stream",
       "stream": "stderr",
       "text": [
        "[1129]\ttrain-rmse:2.141603\tval-rmse:2.471900\n",
        "[1130]\ttrain-rmse:2.140977\tval-rmse:2.471425\n"
       ]
      },
      {
       "output_type": "stream",
       "stream": "stderr",
       "text": [
        "[1131]\ttrain-rmse:2.139520\tval-rmse:2.470196\n",
        "[1132]\ttrain-rmse:2.138926\tval-rmse:2.469676\n"
       ]
      },
      {
       "output_type": "stream",
       "stream": "stderr",
       "text": [
        "[1133]\ttrain-rmse:2.137678\tval-rmse:2.468758\n",
        "[1134]\ttrain-rmse:2.137060\tval-rmse:2.468296\n"
       ]
      },
      {
       "output_type": "stream",
       "stream": "stderr",
       "text": [
        "[1135]\ttrain-rmse:2.136042\tval-rmse:2.467452\n",
        "[1136]\ttrain-rmse:2.134750\tval-rmse:2.466453\n"
       ]
      },
      {
       "output_type": "stream",
       "stream": "stderr",
       "text": [
        "[1137]\ttrain-rmse:2.132845\tval-rmse:2.464944\n",
        "[1138]\ttrain-rmse:2.131816\tval-rmse:2.464101\n"
       ]
      },
      {
       "output_type": "stream",
       "stream": "stderr",
       "text": [
        "[1139]\ttrain-rmse:2.130169\tval-rmse:2.462788\n",
        "[1140]\ttrain-rmse:2.128952\tval-rmse:2.461796\n"
       ]
      },
      {
       "output_type": "stream",
       "stream": "stderr",
       "text": [
        "[1141]\ttrain-rmse:2.127145\tval-rmse:2.460350\n",
        "[1142]\ttrain-rmse:2.125792\tval-rmse:2.459198\n"
       ]
      },
      {
       "output_type": "stream",
       "stream": "stderr",
       "text": [
        "[1143]\ttrain-rmse:2.124859\tval-rmse:2.458597\n",
        "[1144]\ttrain-rmse:2.123696\tval-rmse:2.457658\n"
       ]
      },
      {
       "output_type": "stream",
       "stream": "stderr",
       "text": [
        "[1145]\ttrain-rmse:2.122572\tval-rmse:2.456769\n",
        "[1146]\ttrain-rmse:2.121696\tval-rmse:2.456112\n"
       ]
      },
      {
       "output_type": "stream",
       "stream": "stderr",
       "text": [
        "[1147]\ttrain-rmse:2.121064\tval-rmse:2.455601\n",
        "[1148]\ttrain-rmse:2.119964\tval-rmse:2.454735\n"
       ]
      },
      {
       "output_type": "stream",
       "stream": "stderr",
       "text": [
        "[1149]\ttrain-rmse:2.119507\tval-rmse:2.454301\n",
        "[1150]\ttrain-rmse:2.119062\tval-rmse:2.453975\n"
       ]
      },
      {
       "output_type": "stream",
       "stream": "stderr",
       "text": [
        "[1151]\ttrain-rmse:2.118860\tval-rmse:2.453845\n",
        "[1152]\ttrain-rmse:2.118417\tval-rmse:2.453471\n"
       ]
      },
      {
       "output_type": "stream",
       "stream": "stderr",
       "text": [
        "[1153]\ttrain-rmse:2.117825\tval-rmse:2.453004\n",
        "[1154]\ttrain-rmse:2.115995\tval-rmse:2.451673\n"
       ]
      },
      {
       "output_type": "stream",
       "stream": "stderr",
       "text": [
        "[1155]\ttrain-rmse:2.115150\tval-rmse:2.451022\n",
        "[1156]\ttrain-rmse:2.114213\tval-rmse:2.450298\n"
       ]
      },
      {
       "output_type": "stream",
       "stream": "stderr",
       "text": [
        "[1157]\ttrain-rmse:2.113506\tval-rmse:2.449780\n",
        "[1158]\ttrain-rmse:2.112859\tval-rmse:2.449266\n"
       ]
      },
      {
       "output_type": "stream",
       "stream": "stderr",
       "text": [
        "[1159]\ttrain-rmse:2.112439\tval-rmse:2.448946\n",
        "[1160]\ttrain-rmse:2.110985\tval-rmse:2.447715\n"
       ]
      },
      {
       "output_type": "stream",
       "stream": "stderr",
       "text": [
        "[1161]\ttrain-rmse:2.110108\tval-rmse:2.447012\n",
        "[1162]\ttrain-rmse:2.108928\tval-rmse:2.446116\n"
       ]
      },
      {
       "output_type": "stream",
       "stream": "stderr",
       "text": [
        "[1163]\ttrain-rmse:2.108717\tval-rmse:2.445986\n",
        "[1164]\ttrain-rmse:2.107649\tval-rmse:2.445096\n"
       ]
      },
      {
       "output_type": "stream",
       "stream": "stderr",
       "text": [
        "[1165]\ttrain-rmse:2.106647\tval-rmse:2.444261\n",
        "[1166]\ttrain-rmse:2.106082\tval-rmse:2.443757\n"
       ]
      },
      {
       "output_type": "stream",
       "stream": "stderr",
       "text": [
        "[1167]\ttrain-rmse:2.104435\tval-rmse:2.442532\n",
        "[1168]\ttrain-rmse:2.103989\tval-rmse:2.442156\n"
       ]
      },
      {
       "output_type": "stream",
       "stream": "stderr",
       "text": [
        "[1169]\ttrain-rmse:2.103231\tval-rmse:2.441553\n",
        "[1170]\ttrain-rmse:2.102201\tval-rmse:2.440827\n"
       ]
      },
      {
       "output_type": "stream",
       "stream": "stderr",
       "text": [
        "[1171]\ttrain-rmse:2.100546\tval-rmse:2.439618\n",
        "[1172]\ttrain-rmse:2.099869\tval-rmse:2.438996\n"
       ]
      },
      {
       "output_type": "stream",
       "stream": "stderr",
       "text": [
        "[1173]\ttrain-rmse:2.098856\tval-rmse:2.438202\n",
        "[1174]\ttrain-rmse:2.097780\tval-rmse:2.437398\n"
       ]
      },
      {
       "output_type": "stream",
       "stream": "stderr",
       "text": [
        "[1175]\ttrain-rmse:2.097162\tval-rmse:2.436976\n",
        "[1176]\ttrain-rmse:2.096247\tval-rmse:2.436240\n"
       ]
      },
      {
       "output_type": "stream",
       "stream": "stderr",
       "text": [
        "[1177]\ttrain-rmse:2.094954\tval-rmse:2.435294\n",
        "[1178]\ttrain-rmse:2.093656\tval-rmse:2.434284\n"
       ]
      },
      {
       "output_type": "stream",
       "stream": "stderr",
       "text": [
        "[1179]\ttrain-rmse:2.091986\tval-rmse:2.432965\n",
        "[1180]\ttrain-rmse:2.091357\tval-rmse:2.432468\n"
       ]
      },
      {
       "output_type": "stream",
       "stream": "stderr",
       "text": [
        "[1181]\ttrain-rmse:2.090456\tval-rmse:2.431777\n",
        "[1182]\ttrain-rmse:2.088950\tval-rmse:2.430604\n"
       ]
      },
      {
       "output_type": "stream",
       "stream": "stderr",
       "text": [
        "[1183]\ttrain-rmse:2.087097\tval-rmse:2.429074\n",
        "[1184]\ttrain-rmse:2.086621\tval-rmse:2.428677\n"
       ]
      },
      {
       "output_type": "stream",
       "stream": "stderr",
       "text": [
        "[1185]\ttrain-rmse:2.085823\tval-rmse:2.428021\n",
        "[1186]\ttrain-rmse:2.085387\tval-rmse:2.427644\n"
       ]
      },
      {
       "output_type": "stream",
       "stream": "stderr",
       "text": [
        "[1187]\ttrain-rmse:2.084553\tval-rmse:2.427056\n",
        "[1188]\ttrain-rmse:2.083537\tval-rmse:2.426219\n"
       ]
      },
      {
       "output_type": "stream",
       "stream": "stderr",
       "text": [
        "[1189]\ttrain-rmse:2.082615\tval-rmse:2.425488\n",
        "[1190]\ttrain-rmse:2.081851\tval-rmse:2.424925\n"
       ]
      },
      {
       "output_type": "stream",
       "stream": "stderr",
       "text": [
        "[1191]\ttrain-rmse:2.081152\tval-rmse:2.424303\n",
        "[1192]\ttrain-rmse:2.080332\tval-rmse:2.423594\n"
       ]
      },
      {
       "output_type": "stream",
       "stream": "stderr",
       "text": [
        "[1193]\ttrain-rmse:2.080008\tval-rmse:2.423363\n",
        "[1194]\ttrain-rmse:2.079199\tval-rmse:2.422760\n"
       ]
      },
      {
       "output_type": "stream",
       "stream": "stderr",
       "text": [
        "[1195]\ttrain-rmse:2.078372\tval-rmse:2.422213\n",
        "[1196]\ttrain-rmse:2.077555\tval-rmse:2.421516\n"
       ]
      },
      {
       "output_type": "stream",
       "stream": "stderr",
       "text": [
        "[1197]\ttrain-rmse:2.076924\tval-rmse:2.420891\n",
        "[1198]\ttrain-rmse:2.075929\tval-rmse:2.420079\n"
       ]
      },
      {
       "output_type": "stream",
       "stream": "stderr",
       "text": [
        "[1199]\ttrain-rmse:2.075123\tval-rmse:2.419404\n",
        "[1200]\ttrain-rmse:2.074497\tval-rmse:2.418875\n"
       ]
      },
      {
       "output_type": "stream",
       "stream": "stderr",
       "text": [
        "[1201]\ttrain-rmse:2.073949\tval-rmse:2.418449\n",
        "[1202]\ttrain-rmse:2.073556\tval-rmse:2.418071\n"
       ]
      },
      {
       "output_type": "stream",
       "stream": "stderr",
       "text": [
        "[1203]\ttrain-rmse:2.072991\tval-rmse:2.417578\n",
        "[1204]\ttrain-rmse:2.072341\tval-rmse:2.417050\n"
       ]
      },
      {
       "output_type": "stream",
       "stream": "stderr",
       "text": [
        "[1205]\ttrain-rmse:2.070586\tval-rmse:2.415569\n",
        "[1206]\ttrain-rmse:2.069246\tval-rmse:2.414539\n"
       ]
      },
      {
       "output_type": "stream",
       "stream": "stderr",
       "text": [
        "[1207]\ttrain-rmse:2.068815\tval-rmse:2.414177\n",
        "[1208]\ttrain-rmse:2.067835\tval-rmse:2.413381\n"
       ]
      },
      {
       "output_type": "stream",
       "stream": "stderr",
       "text": [
        "[1209]\ttrain-rmse:2.066853\tval-rmse:2.412560\n",
        "[1210]\ttrain-rmse:2.064656\tval-rmse:2.410861\n"
       ]
      },
      {
       "output_type": "stream",
       "stream": "stderr",
       "text": [
        "[1211]\ttrain-rmse:2.064202\tval-rmse:2.410500\n",
        "[1212]\ttrain-rmse:2.062516\tval-rmse:2.409106\n"
       ]
      },
      {
       "output_type": "stream",
       "stream": "stderr",
       "text": [
        "[1213]\ttrain-rmse:2.061970\tval-rmse:2.408663\n",
        "[1214]\ttrain-rmse:2.061350\tval-rmse:2.408123\n"
       ]
      },
      {
       "output_type": "stream",
       "stream": "stderr",
       "text": [
        "[1215]\ttrain-rmse:2.060683\tval-rmse:2.407577\n",
        "[1216]\ttrain-rmse:2.059567\tval-rmse:2.406663\n"
       ]
      },
      {
       "output_type": "stream",
       "stream": "stderr",
       "text": [
        "[1217]\ttrain-rmse:2.058031\tval-rmse:2.405505\n",
        "[1218]\ttrain-rmse:2.057223\tval-rmse:2.404989\n"
       ]
      },
      {
       "output_type": "stream",
       "stream": "stderr",
       "text": [
        "[1219]\ttrain-rmse:2.056504\tval-rmse:2.404471\n",
        "[1220]\ttrain-rmse:2.055823\tval-rmse:2.403973\n"
       ]
      },
      {
       "output_type": "stream",
       "stream": "stderr",
       "text": [
        "[1221]\ttrain-rmse:2.054826\tval-rmse:2.403205\n",
        "[1222]\ttrain-rmse:2.054025\tval-rmse:2.402636\n"
       ]
      },
      {
       "output_type": "stream",
       "stream": "stderr",
       "text": [
        "[1223]\ttrain-rmse:2.053263\tval-rmse:2.401976\n",
        "[1224]\ttrain-rmse:2.052878\tval-rmse:2.401623\n"
       ]
      },
      {
       "output_type": "stream",
       "stream": "stderr",
       "text": [
        "[1225]\ttrain-rmse:2.051988\tval-rmse:2.400834\n",
        "[1226]\ttrain-rmse:2.050579\tval-rmse:2.399664\n"
       ]
      },
      {
       "output_type": "stream",
       "stream": "stderr",
       "text": [
        "[1227]\ttrain-rmse:2.049258\tval-rmse:2.398639\n",
        "[1228]\ttrain-rmse:2.048131\tval-rmse:2.397832\n"
       ]
      },
      {
       "output_type": "stream",
       "stream": "stderr",
       "text": [
        "[1229]\ttrain-rmse:2.047520\tval-rmse:2.397348\n",
        "[1230]\ttrain-rmse:2.046518\tval-rmse:2.396585\n"
       ]
      },
      {
       "output_type": "stream",
       "stream": "stderr",
       "text": [
        "[1231]\ttrain-rmse:2.045831\tval-rmse:2.396089\n",
        "[1232]\ttrain-rmse:2.045236\tval-rmse:2.395611\n"
       ]
      },
      {
       "output_type": "stream",
       "stream": "stderr",
       "text": [
        "[1233]\ttrain-rmse:2.043947\tval-rmse:2.394664\n",
        "[1234]\ttrain-rmse:2.042093\tval-rmse:2.393124\n"
       ]
      },
      {
       "output_type": "stream",
       "stream": "stderr",
       "text": [
        "[1235]\ttrain-rmse:2.041368\tval-rmse:2.392546\n",
        "[1236]\ttrain-rmse:2.040656\tval-rmse:2.392023\n"
       ]
      },
      {
       "output_type": "stream",
       "stream": "stderr",
       "text": [
        "[1237]\ttrain-rmse:2.039725\tval-rmse:2.391347\n",
        "[1238]\ttrain-rmse:2.038637\tval-rmse:2.390543\n"
       ]
      },
      {
       "output_type": "stream",
       "stream": "stderr",
       "text": [
        "[1239]\ttrain-rmse:2.037945\tval-rmse:2.389879\n",
        "[1240]\ttrain-rmse:2.037252\tval-rmse:2.389312\n"
       ]
      },
      {
       "output_type": "stream",
       "stream": "stderr",
       "text": [
        "[1241]\ttrain-rmse:2.036288\tval-rmse:2.388473\n",
        "[1242]\ttrain-rmse:2.035855\tval-rmse:2.388174\n"
       ]
      },
      {
       "output_type": "stream",
       "stream": "stderr",
       "text": [
        "[1243]\ttrain-rmse:2.035418\tval-rmse:2.387781\n",
        "[1244]\ttrain-rmse:2.034840\tval-rmse:2.387393\n"
       ]
      },
      {
       "output_type": "stream",
       "stream": "stderr",
       "text": [
        "[1245]\ttrain-rmse:2.034235\tval-rmse:2.386915\n",
        "[1246]\ttrain-rmse:2.032616\tval-rmse:2.385635\n"
       ]
      },
      {
       "output_type": "stream",
       "stream": "stderr",
       "text": [
        "[1247]\ttrain-rmse:2.031745\tval-rmse:2.384996\n",
        "[1248]\ttrain-rmse:2.030743\tval-rmse:2.384187\n"
       ]
      },
      {
       "output_type": "stream",
       "stream": "stderr",
       "text": [
        "[1249]\ttrain-rmse:2.029731\tval-rmse:2.383300\n",
        "[1250]\ttrain-rmse:2.029073\tval-rmse:2.382723\n"
       ]
      },
      {
       "output_type": "stream",
       "stream": "stderr",
       "text": [
        "[1251]\ttrain-rmse:2.028242\tval-rmse:2.382092\n",
        "[1252]\ttrain-rmse:2.027366\tval-rmse:2.381434\n"
       ]
      },
      {
       "output_type": "stream",
       "stream": "stderr",
       "text": [
        "[1253]\ttrain-rmse:2.026944\tval-rmse:2.381099\n",
        "[1254]\ttrain-rmse:2.026029\tval-rmse:2.380321\n"
       ]
      },
      {
       "output_type": "stream",
       "stream": "stderr",
       "text": [
        "[1255]\ttrain-rmse:2.024969\tval-rmse:2.379509\n",
        "[1256]\ttrain-rmse:2.024196\tval-rmse:2.378854\n"
       ]
      },
      {
       "output_type": "stream",
       "stream": "stderr",
       "text": [
        "[1257]\ttrain-rmse:2.023965\tval-rmse:2.378679\n",
        "[1258]\ttrain-rmse:2.023105\tval-rmse:2.378026\n"
       ]
      },
      {
       "output_type": "stream",
       "stream": "stderr",
       "text": [
        "[1259]\ttrain-rmse:2.022503\tval-rmse:2.377654\n",
        "[1260]\ttrain-rmse:2.021615\tval-rmse:2.376961\n"
       ]
      },
      {
       "output_type": "stream",
       "stream": "stderr",
       "text": [
        "[1261]\ttrain-rmse:2.020931\tval-rmse:2.376420\n",
        "[1262]\ttrain-rmse:2.020284\tval-rmse:2.375864\n"
       ]
      },
      {
       "output_type": "stream",
       "stream": "stderr",
       "text": [
        "[1263]\ttrain-rmse:2.019829\tval-rmse:2.375524\n",
        "[1264]\ttrain-rmse:2.019237\tval-rmse:2.375111\n"
       ]
      },
      {
       "output_type": "stream",
       "stream": "stderr",
       "text": [
        "[1265]\ttrain-rmse:2.018671\tval-rmse:2.374696\n",
        "[1266]\ttrain-rmse:2.017644\tval-rmse:2.373891\n"
       ]
      },
      {
       "output_type": "stream",
       "stream": "stderr",
       "text": [
        "[1267]\ttrain-rmse:2.017049\tval-rmse:2.373463\n",
        "[1268]\ttrain-rmse:2.016648\tval-rmse:2.373174\n"
       ]
      },
      {
       "output_type": "stream",
       "stream": "stderr",
       "text": [
        "[1269]\ttrain-rmse:2.015866\tval-rmse:2.372547\n",
        "[1270]\ttrain-rmse:2.015032\tval-rmse:2.371878\n"
       ]
      },
      {
       "output_type": "stream",
       "stream": "stderr",
       "text": [
        "[1271]\ttrain-rmse:2.014316\tval-rmse:2.371255\n",
        "[1272]\ttrain-rmse:2.012903\tval-rmse:2.370218\n"
       ]
      },
      {
       "output_type": "stream",
       "stream": "stderr",
       "text": [
        "[1273]\ttrain-rmse:2.012300\tval-rmse:2.369712\n",
        "[1274]\ttrain-rmse:2.011691\tval-rmse:2.369240\n"
       ]
      },
      {
       "output_type": "stream",
       "stream": "stderr",
       "text": [
        "[1275]\ttrain-rmse:2.010834\tval-rmse:2.368563\n",
        "[1276]\ttrain-rmse:2.009978\tval-rmse:2.367893\n"
       ]
      },
      {
       "output_type": "stream",
       "stream": "stderr",
       "text": [
        "[1277]\ttrain-rmse:2.009048\tval-rmse:2.367278\n",
        "[1278]\ttrain-rmse:2.007958\tval-rmse:2.366495\n"
       ]
      },
      {
       "output_type": "stream",
       "stream": "stderr",
       "text": [
        "[1279]\ttrain-rmse:2.006874\tval-rmse:2.365570\n",
        "[1280]\ttrain-rmse:2.006211\tval-rmse:2.365008\n"
       ]
      },
      {
       "output_type": "stream",
       "stream": "stderr",
       "text": [
        "[1281]\ttrain-rmse:2.005322\tval-rmse:2.364341\n",
        "[1282]\ttrain-rmse:2.004614\tval-rmse:2.363789\n"
       ]
      },
      {
       "output_type": "stream",
       "stream": "stderr",
       "text": [
        "[1283]\ttrain-rmse:2.003678\tval-rmse:2.363029\n",
        "[1284]\ttrain-rmse:2.002846\tval-rmse:2.362331\n"
       ]
      },
      {
       "output_type": "stream",
       "stream": "stderr",
       "text": [
        "[1285]\ttrain-rmse:2.001787\tval-rmse:2.361582\n",
        "[1286]\ttrain-rmse:2.000920\tval-rmse:2.360910\n"
       ]
      },
      {
       "output_type": "stream",
       "stream": "stderr",
       "text": [
        "[1287]\ttrain-rmse:2.000054\tval-rmse:2.360211\n",
        "[1288]\ttrain-rmse:1.999416\tval-rmse:2.359677\n"
       ]
      },
      {
       "output_type": "stream",
       "stream": "stderr",
       "text": [
        "[1289]\ttrain-rmse:1.998538\tval-rmse:2.358923\n",
        "[1290]\ttrain-rmse:1.997148\tval-rmse:2.357783\n"
       ]
      },
      {
       "output_type": "stream",
       "stream": "stderr",
       "text": [
        "[1291]\ttrain-rmse:1.996201\tval-rmse:2.356958\n",
        "[1292]\ttrain-rmse:1.995411\tval-rmse:2.356411\n"
       ]
      },
      {
       "output_type": "stream",
       "stream": "stderr",
       "text": [
        "[1293]\ttrain-rmse:1.993893\tval-rmse:2.355198\n",
        "[1294]\ttrain-rmse:1.993160\tval-rmse:2.354614\n"
       ]
      },
      {
       "output_type": "stream",
       "stream": "stderr",
       "text": [
        "[1295]\ttrain-rmse:1.992215\tval-rmse:2.353903\n",
        "[1296]\ttrain-rmse:1.991400\tval-rmse:2.353348\n"
       ]
      },
      {
       "output_type": "stream",
       "stream": "stderr",
       "text": [
        "[1297]\ttrain-rmse:1.991052\tval-rmse:2.353107\n",
        "[1298]\ttrain-rmse:1.990276\tval-rmse:2.352506\n"
       ]
      },
      {
       "output_type": "stream",
       "stream": "stderr",
       "text": [
        "[1299]\ttrain-rmse:1.989729\tval-rmse:2.352117\n",
        "[1300]\ttrain-rmse:1.989351\tval-rmse:2.351852\n"
       ]
      },
      {
       "output_type": "stream",
       "stream": "stderr",
       "text": [
        "[1301]\ttrain-rmse:1.988508\tval-rmse:2.351228\n",
        "[1302]\ttrain-rmse:1.987782\tval-rmse:2.350706\n"
       ]
      },
      {
       "output_type": "stream",
       "stream": "stderr",
       "text": [
        "[1303]\ttrain-rmse:1.987077\tval-rmse:2.350121\n",
        "[1304]\ttrain-rmse:1.985762\tval-rmse:2.349186\n"
       ]
      },
      {
       "output_type": "stream",
       "stream": "stderr",
       "text": [
        "[1305]\ttrain-rmse:1.985421\tval-rmse:2.348926\n",
        "[1306]\ttrain-rmse:1.984401\tval-rmse:2.348265\n"
       ]
      },
      {
       "output_type": "stream",
       "stream": "stderr",
       "text": [
        "[1307]\ttrain-rmse:1.982917\tval-rmse:2.347049\n",
        "[1308]\ttrain-rmse:1.981987\tval-rmse:2.346292\n"
       ]
      },
      {
       "output_type": "stream",
       "stream": "stderr",
       "text": [
        "[1309]\ttrain-rmse:1.981205\tval-rmse:2.345778\n",
        "[1310]\ttrain-rmse:1.980533\tval-rmse:2.345253\n"
       ]
      },
      {
       "output_type": "stream",
       "stream": "stderr",
       "text": [
        "[1311]\ttrain-rmse:1.979781\tval-rmse:2.344602\n",
        "[1312]\ttrain-rmse:1.979266\tval-rmse:2.344189\n"
       ]
      },
      {
       "output_type": "stream",
       "stream": "stderr",
       "text": [
        "[1313]\ttrain-rmse:1.978860\tval-rmse:2.343867\n",
        "[1314]\ttrain-rmse:1.978144\tval-rmse:2.343313\n"
       ]
      },
      {
       "output_type": "stream",
       "stream": "stderr",
       "text": [
        "[1315]\ttrain-rmse:1.977046\tval-rmse:2.342382\n",
        "[1316]\ttrain-rmse:1.976417\tval-rmse:2.341885\n"
       ]
      },
      {
       "output_type": "stream",
       "stream": "stderr",
       "text": [
        "[1317]\ttrain-rmse:1.975340\tval-rmse:2.341033\n",
        "[1318]\ttrain-rmse:1.974677\tval-rmse:2.340464\n"
       ]
      },
      {
       "output_type": "stream",
       "stream": "stderr",
       "text": [
        "[1319]\ttrain-rmse:1.973995\tval-rmse:2.339878\n",
        "[1320]\ttrain-rmse:1.972394\tval-rmse:2.338595\n"
       ]
      },
      {
       "output_type": "stream",
       "stream": "stderr",
       "text": [
        "[1321]\ttrain-rmse:1.971834\tval-rmse:2.338123\n",
        "[1322]\ttrain-rmse:1.970213\tval-rmse:2.336972\n"
       ]
      },
      {
       "output_type": "stream",
       "stream": "stderr",
       "text": [
        "[1323]\ttrain-rmse:1.969069\tval-rmse:2.336145\n",
        "[1324]\ttrain-rmse:1.968324\tval-rmse:2.335709\n"
       ]
      },
      {
       "output_type": "stream",
       "stream": "stderr",
       "text": [
        "[1325]\ttrain-rmse:1.967496\tval-rmse:2.335024\n",
        "[1326]\ttrain-rmse:1.967262\tval-rmse:2.334799\n"
       ]
      },
      {
       "output_type": "stream",
       "stream": "stderr",
       "text": [
        "[1327]\ttrain-rmse:1.966287\tval-rmse:2.333936\n",
        "[1328]\ttrain-rmse:1.965652\tval-rmse:2.333373\n"
       ]
      },
      {
       "output_type": "stream",
       "stream": "stderr",
       "text": [
        "[1329]\ttrain-rmse:1.964972\tval-rmse:2.332890\n",
        "[1330]\ttrain-rmse:1.964575\tval-rmse:2.332616\n"
       ]
      },
      {
       "output_type": "stream",
       "stream": "stderr",
       "text": [
        "[1331]\ttrain-rmse:1.964049\tval-rmse:2.332169\n",
        "[1332]\ttrain-rmse:1.963238\tval-rmse:2.331606\n"
       ]
      },
      {
       "output_type": "stream",
       "stream": "stderr",
       "text": [
        "[1333]\ttrain-rmse:1.962203\tval-rmse:2.330716\n",
        "[1334]\ttrain-rmse:1.961610\tval-rmse:2.330318\n"
       ]
      },
      {
       "output_type": "stream",
       "stream": "stderr",
       "text": [
        "[1335]\ttrain-rmse:1.961275\tval-rmse:2.330064\n",
        "[1336]\ttrain-rmse:1.960909\tval-rmse:2.329799\n"
       ]
      },
      {
       "output_type": "stream",
       "stream": "stderr",
       "text": [
        "[1337]\ttrain-rmse:1.959784\tval-rmse:2.328940\n",
        "[1338]\ttrain-rmse:1.959388\tval-rmse:2.328607\n"
       ]
      },
      {
       "output_type": "stream",
       "stream": "stderr",
       "text": [
        "[1339]\ttrain-rmse:1.957852\tval-rmse:2.327516\n",
        "[1340]\ttrain-rmse:1.957015\tval-rmse:2.326916\n"
       ]
      },
      {
       "output_type": "stream",
       "stream": "stderr",
       "text": [
        "[1341]\ttrain-rmse:1.956584\tval-rmse:2.326659\n",
        "[1342]\ttrain-rmse:1.956166\tval-rmse:2.326334\n"
       ]
      },
      {
       "output_type": "stream",
       "stream": "stderr",
       "text": [
        "[1343]\ttrain-rmse:1.955603\tval-rmse:2.325891\n",
        "[1344]\ttrain-rmse:1.953841\tval-rmse:2.324515\n"
       ]
      },
      {
       "output_type": "stream",
       "stream": "stderr",
       "text": [
        "[1345]\ttrain-rmse:1.953183\tval-rmse:2.324051\n",
        "[1346]\ttrain-rmse:1.952235\tval-rmse:2.323188\n"
       ]
      },
      {
       "output_type": "stream",
       "stream": "stderr",
       "text": [
        "[1347]\ttrain-rmse:1.951075\tval-rmse:2.322233\n",
        "[1348]\ttrain-rmse:1.950433\tval-rmse:2.321805\n"
       ]
      },
      {
       "output_type": "stream",
       "stream": "stderr",
       "text": [
        "[1349]\ttrain-rmse:1.949871\tval-rmse:2.321411\n",
        "[1350]\ttrain-rmse:1.949449\tval-rmse:2.321091\n"
       ]
      },
      {
       "output_type": "stream",
       "stream": "stderr",
       "text": [
        "[1351]\ttrain-rmse:1.948360\tval-rmse:2.320251\n",
        "[1352]\ttrain-rmse:1.947864\tval-rmse:2.319924\n"
       ]
      },
      {
       "output_type": "stream",
       "stream": "stderr",
       "text": [
        "[1353]\ttrain-rmse:1.947425\tval-rmse:2.319637\n",
        "[1354]\ttrain-rmse:1.946615\tval-rmse:2.318982\n"
       ]
      },
      {
       "output_type": "stream",
       "stream": "stderr",
       "text": [
        "[1355]\ttrain-rmse:1.945129\tval-rmse:2.318004\n",
        "[1356]\ttrain-rmse:1.944569\tval-rmse:2.317561\n"
       ]
      },
      {
       "output_type": "stream",
       "stream": "stderr",
       "text": [
        "[1357]\ttrain-rmse:1.943550\tval-rmse:2.316815\n",
        "[1358]\ttrain-rmse:1.943015\tval-rmse:2.316473\n"
       ]
      },
      {
       "output_type": "stream",
       "stream": "stderr",
       "text": [
        "[1359]\ttrain-rmse:1.942360\tval-rmse:2.316011\n",
        "[1360]\ttrain-rmse:1.940992\tval-rmse:2.315016\n"
       ]
      },
      {
       "output_type": "stream",
       "stream": "stderr",
       "text": [
        "[1361]\ttrain-rmse:1.940100\tval-rmse:2.314352\n",
        "[1362]\ttrain-rmse:1.939750\tval-rmse:2.314057\n"
       ]
      },
      {
       "output_type": "stream",
       "stream": "stderr",
       "text": [
        "[1363]\ttrain-rmse:1.939072\tval-rmse:2.313542\n",
        "[1364]\ttrain-rmse:1.937953\tval-rmse:2.312596\n"
       ]
      },
      {
       "output_type": "stream",
       "stream": "stderr",
       "text": [
        "[1365]\ttrain-rmse:1.937409\tval-rmse:2.312194\n",
        "[1366]\ttrain-rmse:1.936745\tval-rmse:2.311679\n"
       ]
      },
      {
       "output_type": "stream",
       "stream": "stderr",
       "text": [
        "[1367]\ttrain-rmse:1.936344\tval-rmse:2.311350\n",
        "[1368]\ttrain-rmse:1.935762\tval-rmse:2.310901\n"
       ]
      },
      {
       "output_type": "stream",
       "stream": "stderr",
       "text": [
        "[1369]\ttrain-rmse:1.935347\tval-rmse:2.310609\n",
        "[1370]\ttrain-rmse:1.934794\tval-rmse:2.310146\n"
       ]
      },
      {
       "output_type": "stream",
       "stream": "stderr",
       "text": [
        "[1371]\ttrain-rmse:1.934327\tval-rmse:2.309789\n",
        "[1372]\ttrain-rmse:1.933154\tval-rmse:2.308888\n"
       ]
      },
      {
       "output_type": "stream",
       "stream": "stderr",
       "text": [
        "[1373]\ttrain-rmse:1.931716\tval-rmse:2.307796\n",
        "[1374]\ttrain-rmse:1.930825\tval-rmse:2.307066\n"
       ]
      },
      {
       "output_type": "stream",
       "stream": "stderr",
       "text": [
        "[1375]\ttrain-rmse:1.929655\tval-rmse:2.306183\n",
        "[1376]\ttrain-rmse:1.928995\tval-rmse:2.305704\n"
       ]
      },
      {
       "output_type": "stream",
       "stream": "stderr",
       "text": [
        "[1377]\ttrain-rmse:1.928571\tval-rmse:2.305433\n",
        "[1378]\ttrain-rmse:1.927880\tval-rmse:2.304861\n"
       ]
      },
      {
       "output_type": "stream",
       "stream": "stderr",
       "text": [
        "[1379]\ttrain-rmse:1.926581\tval-rmse:2.303936\n",
        "[1380]\ttrain-rmse:1.925858\tval-rmse:2.303353\n"
       ]
      },
      {
       "output_type": "stream",
       "stream": "stderr",
       "text": [
        "[1381]\ttrain-rmse:1.925299\tval-rmse:2.302949\n",
        "[1382]\ttrain-rmse:1.924722\tval-rmse:2.302428\n"
       ]
      },
      {
       "output_type": "stream",
       "stream": "stderr",
       "text": [
        "[1383]\ttrain-rmse:1.924360\tval-rmse:2.302159\n",
        "[1384]\ttrain-rmse:1.923324\tval-rmse:2.301459\n"
       ]
      },
      {
       "output_type": "stream",
       "stream": "stderr",
       "text": [
        "[1385]\ttrain-rmse:1.922495\tval-rmse:2.300780\n",
        "[1386]\ttrain-rmse:1.921877\tval-rmse:2.300292\n"
       ]
      },
      {
       "output_type": "stream",
       "stream": "stderr",
       "text": [
        "[1387]\ttrain-rmse:1.921409\tval-rmse:2.299971\n",
        "[1388]\ttrain-rmse:1.920481\tval-rmse:2.299191\n"
       ]
      },
      {
       "output_type": "stream",
       "stream": "stderr",
       "text": [
        "[1389]\ttrain-rmse:1.919751\tval-rmse:2.298612\n",
        "[1390]\ttrain-rmse:1.919218\tval-rmse:2.298215\n"
       ]
      },
      {
       "output_type": "stream",
       "stream": "stderr",
       "text": [
        "[1391]\ttrain-rmse:1.918565\tval-rmse:2.297637\n",
        "[1392]\ttrain-rmse:1.917639\tval-rmse:2.296880\n"
       ]
      },
      {
       "output_type": "stream",
       "stream": "stderr",
       "text": [
        "[1393]\ttrain-rmse:1.917397\tval-rmse:2.296724\n",
        "[1394]\ttrain-rmse:1.916308\tval-rmse:2.295831\n"
       ]
      },
      {
       "output_type": "stream",
       "stream": "stderr",
       "text": [
        "[1395]\ttrain-rmse:1.915869\tval-rmse:2.295482\n",
        "[1396]\ttrain-rmse:1.915131\tval-rmse:2.294905\n"
       ]
      },
      {
       "output_type": "stream",
       "stream": "stderr",
       "text": [
        "[1397]\ttrain-rmse:1.914442\tval-rmse:2.294390\n",
        "[1398]\ttrain-rmse:1.913795\tval-rmse:2.293853\n"
       ]
      },
      {
       "output_type": "stream",
       "stream": "stderr",
       "text": [
        "[1399]\ttrain-rmse:1.913352\tval-rmse:2.293456\n",
        "[1400]\ttrain-rmse:1.912748\tval-rmse:2.293080\n"
       ]
      },
      {
       "output_type": "stream",
       "stream": "stderr",
       "text": [
        "[1401]\ttrain-rmse:1.912168\tval-rmse:2.292644\n",
        "[1402]\ttrain-rmse:1.911031\tval-rmse:2.291683\n"
       ]
      },
      {
       "output_type": "stream",
       "stream": "stderr",
       "text": [
        "[1403]\ttrain-rmse:1.910085\tval-rmse:2.291058\n",
        "[1404]\ttrain-rmse:1.909445\tval-rmse:2.290669\n"
       ]
      },
      {
       "output_type": "stream",
       "stream": "stderr",
       "text": [
        "[1405]\ttrain-rmse:1.908355\tval-rmse:2.289787\n",
        "[1406]\ttrain-rmse:1.906942\tval-rmse:2.288854\n"
       ]
      },
      {
       "output_type": "stream",
       "stream": "stderr",
       "text": [
        "[1407]\ttrain-rmse:1.905932\tval-rmse:2.288061\n",
        "[1408]\ttrain-rmse:1.905536\tval-rmse:2.287786\n"
       ]
      },
      {
       "output_type": "stream",
       "stream": "stderr",
       "text": [
        "[1409]\ttrain-rmse:1.904534\tval-rmse:2.287002\n",
        "[1410]\ttrain-rmse:1.904021\tval-rmse:2.286594\n"
       ]
      },
      {
       "output_type": "stream",
       "stream": "stderr",
       "text": [
        "[1411]\ttrain-rmse:1.903552\tval-rmse:2.286308\n",
        "[1412]\ttrain-rmse:1.903011\tval-rmse:2.285877\n"
       ]
      },
      {
       "output_type": "stream",
       "stream": "stderr",
       "text": [
        "[1413]\ttrain-rmse:1.902315\tval-rmse:2.285403\n",
        "[1414]\ttrain-rmse:1.901679\tval-rmse:2.284976\n"
       ]
      },
      {
       "output_type": "stream",
       "stream": "stderr",
       "text": [
        "[1415]\ttrain-rmse:1.901248\tval-rmse:2.284703\n",
        "[1416]\ttrain-rmse:1.900846\tval-rmse:2.284462\n"
       ]
      },
      {
       "output_type": "stream",
       "stream": "stderr",
       "text": [
        "[1417]\ttrain-rmse:1.900494\tval-rmse:2.284128\n",
        "[1418]\ttrain-rmse:1.899346\tval-rmse:2.283314\n"
       ]
      },
      {
       "output_type": "stream",
       "stream": "stderr",
       "text": [
        "[1419]\ttrain-rmse:1.898697\tval-rmse:2.282771\n",
        "[1420]\ttrain-rmse:1.897798\tval-rmse:2.282001\n"
       ]
      },
      {
       "output_type": "stream",
       "stream": "stderr",
       "text": [
        "[1421]\ttrain-rmse:1.896724\tval-rmse:2.281181\n",
        "[1422]\ttrain-rmse:1.896074\tval-rmse:2.280747\n"
       ]
      },
      {
       "output_type": "stream",
       "stream": "stderr",
       "text": [
        "[1423]\ttrain-rmse:1.895302\tval-rmse:2.280226\n",
        "[1424]\ttrain-rmse:1.894757\tval-rmse:2.279774\n"
       ]
      },
      {
       "output_type": "stream",
       "stream": "stderr",
       "text": [
        "[1425]\ttrain-rmse:1.894292\tval-rmse:2.279475\n",
        "[1426]\ttrain-rmse:1.893673\tval-rmse:2.279021\n"
       ]
      },
      {
       "output_type": "stream",
       "stream": "stderr",
       "text": [
        "[1427]\ttrain-rmse:1.892599\tval-rmse:2.278339\n",
        "[1428]\ttrain-rmse:1.891600\tval-rmse:2.277599\n"
       ]
      },
      {
       "output_type": "stream",
       "stream": "stderr",
       "text": [
        "[1429]\ttrain-rmse:1.890936\tval-rmse:2.277083\n",
        "[1430]\ttrain-rmse:1.890582\tval-rmse:2.276814\n"
       ]
      },
      {
       "output_type": "stream",
       "stream": "stderr",
       "text": [
        "[1431]\ttrain-rmse:1.889898\tval-rmse:2.276406\n",
        "[1432]\ttrain-rmse:1.889563\tval-rmse:2.276208\n"
       ]
      },
      {
       "output_type": "stream",
       "stream": "stderr",
       "text": [
        "[1433]\ttrain-rmse:1.889160\tval-rmse:2.275892\n",
        "[1434]\ttrain-rmse:1.888391\tval-rmse:2.275303\n"
       ]
      },
      {
       "output_type": "stream",
       "stream": "stderr",
       "text": [
        "[1435]\ttrain-rmse:1.887374\tval-rmse:2.274530\n",
        "[1436]\ttrain-rmse:1.887014\tval-rmse:2.274301\n"
       ]
      },
      {
       "output_type": "stream",
       "stream": "stderr",
       "text": [
        "[1437]\ttrain-rmse:1.885951\tval-rmse:2.273467\n",
        "[1438]\ttrain-rmse:1.885221\tval-rmse:2.272926\n"
       ]
      },
      {
       "output_type": "stream",
       "stream": "stderr",
       "text": [
        "[1439]\ttrain-rmse:1.884137\tval-rmse:2.272152\n",
        "[1440]\ttrain-rmse:1.883668\tval-rmse:2.271842\n"
       ]
      },
      {
       "output_type": "stream",
       "stream": "stderr",
       "text": [
        "[1441]\ttrain-rmse:1.882994\tval-rmse:2.271326\n",
        "[1442]\ttrain-rmse:1.882623\tval-rmse:2.271041\n"
       ]
      },
      {
       "output_type": "stream",
       "stream": "stderr",
       "text": [
        "[1443]\ttrain-rmse:1.881298\tval-rmse:2.269923\n",
        "[1444]\ttrain-rmse:1.880514\tval-rmse:2.269314\n"
       ]
      },
      {
       "output_type": "stream",
       "stream": "stderr",
       "text": [
        "[1445]\ttrain-rmse:1.880230\tval-rmse:2.269124\n",
        "[1446]\ttrain-rmse:1.879866\tval-rmse:2.268855\n"
       ]
      },
      {
       "output_type": "stream",
       "stream": "stderr",
       "text": [
        "[1447]\ttrain-rmse:1.879316\tval-rmse:2.268550\n",
        "[1448]\ttrain-rmse:1.878549\tval-rmse:2.267936\n"
       ]
      },
      {
       "output_type": "stream",
       "stream": "stderr",
       "text": [
        "[1449]\ttrain-rmse:1.878063\tval-rmse:2.267625\n",
        "[1450]\ttrain-rmse:1.877718\tval-rmse:2.267388\n"
       ]
      },
      {
       "output_type": "stream",
       "stream": "stderr",
       "text": [
        "[1451]\ttrain-rmse:1.877022\tval-rmse:2.266819\n",
        "[1452]\ttrain-rmse:1.876329\tval-rmse:2.266346\n"
       ]
      },
      {
       "output_type": "stream",
       "stream": "stderr",
       "text": [
        "[1453]\ttrain-rmse:1.875867\tval-rmse:2.265924\n",
        "[1454]\ttrain-rmse:1.875460\tval-rmse:2.265614\n"
       ]
      },
      {
       "output_type": "stream",
       "stream": "stderr",
       "text": [
        "[1455]\ttrain-rmse:1.875091\tval-rmse:2.265370\n",
        "[1456]\ttrain-rmse:1.873994\tval-rmse:2.264571\n"
       ]
      },
      {
       "output_type": "stream",
       "stream": "stderr",
       "text": [
        "[1457]\ttrain-rmse:1.873568\tval-rmse:2.264319\n",
        "[1458]\ttrain-rmse:1.872847\tval-rmse:2.263730\n"
       ]
      },
      {
       "output_type": "stream",
       "stream": "stderr",
       "text": [
        "[1459]\ttrain-rmse:1.872150\tval-rmse:2.263176\n",
        "[1460]\ttrain-rmse:1.871386\tval-rmse:2.262577\n"
       ]
      },
      {
       "output_type": "stream",
       "stream": "stderr",
       "text": [
        "[1461]\ttrain-rmse:1.870816\tval-rmse:2.262136\n",
        "[1462]\ttrain-rmse:1.870466\tval-rmse:2.261890\n"
       ]
      },
      {
       "output_type": "stream",
       "stream": "stderr",
       "text": [
        "[1463]\ttrain-rmse:1.869844\tval-rmse:2.261470\n",
        "[1464]\ttrain-rmse:1.869350\tval-rmse:2.261083\n"
       ]
      },
      {
       "output_type": "stream",
       "stream": "stderr",
       "text": [
        "[1465]\ttrain-rmse:1.868474\tval-rmse:2.260430\n",
        "[1466]\ttrain-rmse:1.867978\tval-rmse:2.260062\n"
       ]
      },
      {
       "output_type": "stream",
       "stream": "stderr",
       "text": [
        "[1467]\ttrain-rmse:1.867346\tval-rmse:2.259500\n",
        "[1468]\ttrain-rmse:1.867065\tval-rmse:2.259311\n"
       ]
      },
      {
       "output_type": "stream",
       "stream": "stderr",
       "text": [
        "[1469]\ttrain-rmse:1.866260\tval-rmse:2.258712\n",
        "[1470]\ttrain-rmse:1.864854\tval-rmse:2.257618\n"
       ]
      },
      {
       "output_type": "stream",
       "stream": "stderr",
       "text": [
        "[1471]\ttrain-rmse:1.863326\tval-rmse:2.256389\n",
        "[1472]\ttrain-rmse:1.862394\tval-rmse:2.255748\n"
       ]
      },
      {
       "output_type": "stream",
       "stream": "stderr",
       "text": [
        "[1473]\ttrain-rmse:1.862103\tval-rmse:2.255464\n",
        "[1474]\ttrain-rmse:1.861449\tval-rmse:2.254926\n"
       ]
      },
      {
       "output_type": "stream",
       "stream": "stderr",
       "text": [
        "[1475]\ttrain-rmse:1.860464\tval-rmse:2.254207\n",
        "[1476]\ttrain-rmse:1.859584\tval-rmse:2.253584\n"
       ]
      },
      {
       "output_type": "stream",
       "stream": "stderr",
       "text": [
        "[1477]\ttrain-rmse:1.859170\tval-rmse:2.253327\n",
        "[1478]\ttrain-rmse:1.857660\tval-rmse:2.252159\n"
       ]
      },
      {
       "output_type": "stream",
       "stream": "stderr",
       "text": [
        "[1479]\ttrain-rmse:1.857111\tval-rmse:2.251765\n",
        "[1480]\ttrain-rmse:1.855784\tval-rmse:2.250798\n"
       ]
      },
      {
       "output_type": "stream",
       "stream": "stderr",
       "text": [
        "[1481]\ttrain-rmse:1.854474\tval-rmse:2.249736\n",
        "[1482]\ttrain-rmse:1.852771\tval-rmse:2.248444\n"
       ]
      },
      {
       "output_type": "stream",
       "stream": "stderr",
       "text": [
        "[1483]\ttrain-rmse:1.852169\tval-rmse:2.247940\n",
        "[1484]\ttrain-rmse:1.851320\tval-rmse:2.247274\n"
       ]
      },
      {
       "output_type": "stream",
       "stream": "stderr",
       "text": [
        "[1485]\ttrain-rmse:1.850805\tval-rmse:2.246933\n",
        "[1486]\ttrain-rmse:1.850208\tval-rmse:2.246373\n"
       ]
      },
      {
       "output_type": "stream",
       "stream": "stderr",
       "text": [
        "[1487]\ttrain-rmse:1.849753\tval-rmse:2.245986\n",
        "[1488]\ttrain-rmse:1.848762\tval-rmse:2.245141\n"
       ]
      },
      {
       "output_type": "stream",
       "stream": "stderr",
       "text": [
        "[1489]\ttrain-rmse:1.847768\tval-rmse:2.244395\n",
        "[1490]\ttrain-rmse:1.846620\tval-rmse:2.243506\n"
       ]
      },
      {
       "output_type": "stream",
       "stream": "stderr",
       "text": [
        "[1491]\ttrain-rmse:1.846120\tval-rmse:2.243119\n",
        "[1492]\ttrain-rmse:1.845813\tval-rmse:2.242887\n"
       ]
      },
      {
       "output_type": "stream",
       "stream": "stderr",
       "text": [
        "[1493]\ttrain-rmse:1.845219\tval-rmse:2.242483\n",
        "[1494]\ttrain-rmse:1.844412\tval-rmse:2.241890\n"
       ]
      },
      {
       "output_type": "stream",
       "stream": "stderr",
       "text": [
        "[1495]\ttrain-rmse:1.843975\tval-rmse:2.241550\n",
        "[1496]\ttrain-rmse:1.843301\tval-rmse:2.241088\n"
       ]
      },
      {
       "output_type": "stream",
       "stream": "stderr",
       "text": [
        "[1497]\ttrain-rmse:1.843069\tval-rmse:2.240949\n",
        "[1498]\ttrain-rmse:1.842297\tval-rmse:2.240345\n"
       ]
      },
      {
       "output_type": "stream",
       "stream": "stderr",
       "text": [
        "[1499]\ttrain-rmse:1.841442\tval-rmse:2.239687\n",
        "[1500]\ttrain-rmse:1.840757\tval-rmse:2.239231\n"
       ]
      },
      {
       "output_type": "stream",
       "stream": "stderr",
       "text": [
        "[1501]\ttrain-rmse:1.839727\tval-rmse:2.238464\n",
        "[1502]\ttrain-rmse:1.839202\tval-rmse:2.238115\n"
       ]
      },
      {
       "output_type": "stream",
       "stream": "stderr",
       "text": [
        "[1503]\ttrain-rmse:1.838756\tval-rmse:2.237813\n",
        "[1504]\ttrain-rmse:1.838485\tval-rmse:2.237558\n"
       ]
      },
      {
       "output_type": "stream",
       "stream": "stderr",
       "text": [
        "[1505]\ttrain-rmse:1.837774\tval-rmse:2.237052\n",
        "[1506]\ttrain-rmse:1.837256\tval-rmse:2.236769\n"
       ]
      },
      {
       "output_type": "stream",
       "stream": "stderr",
       "text": [
        "[1507]\ttrain-rmse:1.835851\tval-rmse:2.235743\n",
        "[1508]\ttrain-rmse:1.835467\tval-rmse:2.235442\n"
       ]
      },
      {
       "output_type": "stream",
       "stream": "stderr",
       "text": [
        "[1509]\ttrain-rmse:1.835092\tval-rmse:2.235155\n",
        "[1510]\ttrain-rmse:1.834860\tval-rmse:2.235030\n"
       ]
      },
      {
       "output_type": "stream",
       "stream": "stderr",
       "text": [
        "[1511]\ttrain-rmse:1.834370\tval-rmse:2.234688\n",
        "[1512]\ttrain-rmse:1.832924\tval-rmse:2.233716\n"
       ]
      },
      {
       "output_type": "stream",
       "stream": "stderr",
       "text": [
        "[1513]\ttrain-rmse:1.832496\tval-rmse:2.233408\n",
        "[1514]\ttrain-rmse:1.831819\tval-rmse:2.232864\n"
       ]
      },
      {
       "output_type": "stream",
       "stream": "stderr",
       "text": [
        "[1515]\ttrain-rmse:1.831400\tval-rmse:2.232541\n",
        "[1516]\ttrain-rmse:1.830783\tval-rmse:2.232109\n"
       ]
      },
      {
       "output_type": "stream",
       "stream": "stderr",
       "text": [
        "[1517]\ttrain-rmse:1.830407\tval-rmse:2.231805\n",
        "[1518]\ttrain-rmse:1.830146\tval-rmse:2.231612\n"
       ]
      },
      {
       "output_type": "stream",
       "stream": "stderr",
       "text": [
        "[1519]\ttrain-rmse:1.829473\tval-rmse:2.231129\n",
        "[1520]\ttrain-rmse:1.828513\tval-rmse:2.230449\n"
       ]
      },
      {
       "output_type": "stream",
       "stream": "stderr",
       "text": [
        "[1521]\ttrain-rmse:1.828016\tval-rmse:2.230033\n",
        "[1522]\ttrain-rmse:1.826905\tval-rmse:2.229219\n"
       ]
      },
      {
       "output_type": "stream",
       "stream": "stderr",
       "text": [
        "[1523]\ttrain-rmse:1.826227\tval-rmse:2.228733\n",
        "[1524]\ttrain-rmse:1.825001\tval-rmse:2.227775\n"
       ]
      },
      {
       "output_type": "stream",
       "stream": "stderr",
       "text": [
        "[1525]\ttrain-rmse:1.824629\tval-rmse:2.227460\n",
        "[1526]\ttrain-rmse:1.823941\tval-rmse:2.226961\n"
       ]
      },
      {
       "output_type": "stream",
       "stream": "stderr",
       "text": [
        "[1527]\ttrain-rmse:1.823113\tval-rmse:2.226353\n",
        "[1528]\ttrain-rmse:1.822445\tval-rmse:2.225980\n"
       ]
      },
      {
       "output_type": "stream",
       "stream": "stderr",
       "text": [
        "[1529]\ttrain-rmse:1.821926\tval-rmse:2.225634\n",
        "[1530]\ttrain-rmse:1.820595\tval-rmse:2.224797\n"
       ]
      },
      {
       "output_type": "stream",
       "stream": "stderr",
       "text": [
        "[1531]\ttrain-rmse:1.819554\tval-rmse:2.224046\n",
        "[1532]\ttrain-rmse:1.819238\tval-rmse:2.223803\n"
       ]
      },
      {
       "output_type": "stream",
       "stream": "stderr",
       "text": [
        "[1533]\ttrain-rmse:1.818954\tval-rmse:2.223528\n",
        "[1534]\ttrain-rmse:1.818356\tval-rmse:2.223045\n"
       ]
      },
      {
       "output_type": "stream",
       "stream": "stderr",
       "text": [
        "[1535]\ttrain-rmse:1.817863\tval-rmse:2.222668\n",
        "[1536]\ttrain-rmse:1.817498\tval-rmse:2.222413\n"
       ]
      },
      {
       "output_type": "stream",
       "stream": "stderr",
       "text": [
        "[1537]\ttrain-rmse:1.816364\tval-rmse:2.221499\n",
        "[1538]\ttrain-rmse:1.815904\tval-rmse:2.221133\n"
       ]
      },
      {
       "output_type": "stream",
       "stream": "stderr",
       "text": [
        "[1539]\ttrain-rmse:1.814108\tval-rmse:2.219839\n",
        "[1540]\ttrain-rmse:1.813523\tval-rmse:2.219454\n"
       ]
      },
      {
       "output_type": "stream",
       "stream": "stderr",
       "text": [
        "[1541]\ttrain-rmse:1.813146\tval-rmse:2.219114\n",
        "[1542]\ttrain-rmse:1.812769\tval-rmse:2.218801\n"
       ]
      },
      {
       "output_type": "stream",
       "stream": "stderr",
       "text": [
        "[1543]\ttrain-rmse:1.812446\tval-rmse:2.218596\n",
        "[1544]\ttrain-rmse:1.811690\tval-rmse:2.218024\n"
       ]
      },
      {
       "output_type": "stream",
       "stream": "stderr",
       "text": [
        "[1545]\ttrain-rmse:1.811162\tval-rmse:2.217710\n",
        "[1546]\ttrain-rmse:1.810692\tval-rmse:2.217377\n"
       ]
      },
      {
       "output_type": "stream",
       "stream": "stderr",
       "text": [
        "[1547]\ttrain-rmse:1.810177\tval-rmse:2.216970\n",
        "[1548]\ttrain-rmse:1.809904\tval-rmse:2.216755\n"
       ]
      },
      {
       "output_type": "stream",
       "stream": "stderr",
       "text": [
        "[1549]\ttrain-rmse:1.809578\tval-rmse:2.216555\n",
        "[1550]\ttrain-rmse:1.809036\tval-rmse:2.216040\n"
       ]
      },
      {
       "output_type": "stream",
       "stream": "stderr",
       "text": [
        "[1551]\ttrain-rmse:1.808355\tval-rmse:2.215518\n",
        "[1552]\ttrain-rmse:1.807508\tval-rmse:2.214800\n"
       ]
      },
      {
       "output_type": "stream",
       "stream": "stderr",
       "text": [
        "[1553]\ttrain-rmse:1.806944\tval-rmse:2.214408\n",
        "[1554]\ttrain-rmse:1.806722\tval-rmse:2.214242\n"
       ]
      },
      {
       "output_type": "stream",
       "stream": "stderr",
       "text": [
        "[1555]\ttrain-rmse:1.806401\tval-rmse:2.213952\n",
        "[1556]\ttrain-rmse:1.806085\tval-rmse:2.213750\n"
       ]
      },
      {
       "output_type": "stream",
       "stream": "stderr",
       "text": [
        "[1557]\ttrain-rmse:1.805591\tval-rmse:2.213392\n",
        "[1558]\ttrain-rmse:1.805018\tval-rmse:2.212953\n"
       ]
      },
      {
       "output_type": "stream",
       "stream": "stderr",
       "text": [
        "[1559]\ttrain-rmse:1.804111\tval-rmse:2.212289\n",
        "[1560]\ttrain-rmse:1.803696\tval-rmse:2.211952\n"
       ]
      },
      {
       "output_type": "stream",
       "stream": "stderr",
       "text": [
        "[1561]\ttrain-rmse:1.802935\tval-rmse:2.211403\n",
        "[1562]\ttrain-rmse:1.802604\tval-rmse:2.211151\n"
       ]
      },
      {
       "output_type": "stream",
       "stream": "stderr",
       "text": [
        "[1563]\ttrain-rmse:1.802402\tval-rmse:2.210949\n",
        "[1564]\ttrain-rmse:1.801777\tval-rmse:2.210522\n"
       ]
      },
      {
       "output_type": "stream",
       "stream": "stderr",
       "text": [
        "[1565]\ttrain-rmse:1.800717\tval-rmse:2.209767\n",
        "[1566]\ttrain-rmse:1.800260\tval-rmse:2.209449\n"
       ]
      },
      {
       "output_type": "stream",
       "stream": "stderr",
       "text": [
        "[1567]\ttrain-rmse:1.799290\tval-rmse:2.208693\n",
        "[1568]\ttrain-rmse:1.798861\tval-rmse:2.208313\n"
       ]
      },
      {
       "output_type": "stream",
       "stream": "stderr",
       "text": [
        "[1569]\ttrain-rmse:1.798252\tval-rmse:2.207883\n",
        "[1570]\ttrain-rmse:1.797606\tval-rmse:2.207361\n"
       ]
      },
      {
       "output_type": "stream",
       "stream": "stderr",
       "text": [
        "[1571]\ttrain-rmse:1.796866\tval-rmse:2.206803\n",
        "[1572]\ttrain-rmse:1.796206\tval-rmse:2.206452\n"
       ]
      },
      {
       "output_type": "stream",
       "stream": "stderr",
       "text": [
        "[1573]\ttrain-rmse:1.795613\tval-rmse:2.205920\n",
        "[1574]\ttrain-rmse:1.794841\tval-rmse:2.205428\n"
       ]
      },
      {
       "output_type": "stream",
       "stream": "stderr",
       "text": [
        "[1575]\ttrain-rmse:1.794241\tval-rmse:2.205000\n",
        "[1576]\ttrain-rmse:1.793924\tval-rmse:2.204777\n"
       ]
      },
      {
       "output_type": "stream",
       "stream": "stderr",
       "text": [
        "[1577]\ttrain-rmse:1.793625\tval-rmse:2.204553\n",
        "[1578]\ttrain-rmse:1.792490\tval-rmse:2.203616\n"
       ]
      },
      {
       "output_type": "stream",
       "stream": "stderr",
       "text": [
        "[1579]\ttrain-rmse:1.791644\tval-rmse:2.203011\n",
        "[1580]\ttrain-rmse:1.790650\tval-rmse:2.202105\n"
       ]
      },
      {
       "output_type": "stream",
       "stream": "stderr",
       "text": [
        "[1581]\ttrain-rmse:1.790242\tval-rmse:2.201766\n",
        "[1582]\ttrain-rmse:1.789670\tval-rmse:2.201340\n"
       ]
      },
      {
       "output_type": "stream",
       "stream": "stderr",
       "text": [
        "[1583]\ttrain-rmse:1.789094\tval-rmse:2.200906\n",
        "[1584]\ttrain-rmse:1.788713\tval-rmse:2.200631\n"
       ]
      },
      {
       "output_type": "stream",
       "stream": "stderr",
       "text": [
        "[1585]\ttrain-rmse:1.788308\tval-rmse:2.200264\n",
        "[1586]\ttrain-rmse:1.787974\tval-rmse:2.200021\n"
       ]
      },
      {
       "output_type": "stream",
       "stream": "stderr",
       "text": [
        "[1587]\ttrain-rmse:1.787459\tval-rmse:2.199612\n",
        "[1588]\ttrain-rmse:1.786816\tval-rmse:2.199201\n"
       ]
      },
      {
       "output_type": "stream",
       "stream": "stderr",
       "text": [
        "[1589]\ttrain-rmse:1.786235\tval-rmse:2.198800\n",
        "[1590]\ttrain-rmse:1.785874\tval-rmse:2.198508\n"
       ]
      },
      {
       "output_type": "stream",
       "stream": "stderr",
       "text": [
        "[1591]\ttrain-rmse:1.785605\tval-rmse:2.198314\n",
        "[1592]\ttrain-rmse:1.784723\tval-rmse:2.197626\n"
       ]
      },
      {
       "output_type": "stream",
       "stream": "stderr",
       "text": [
        "[1593]\ttrain-rmse:1.784193\tval-rmse:2.197313\n",
        "[1594]\ttrain-rmse:1.783921\tval-rmse:2.197098\n"
       ]
      },
      {
       "output_type": "stream",
       "stream": "stderr",
       "text": [
        "[1595]\ttrain-rmse:1.782739\tval-rmse:2.196138\n",
        "[1596]\ttrain-rmse:1.782084\tval-rmse:2.195724\n"
       ]
      },
      {
       "output_type": "stream",
       "stream": "stderr",
       "text": [
        "[1597]\ttrain-rmse:1.781114\tval-rmse:2.194798\n",
        "[1598]\ttrain-rmse:1.779877\tval-rmse:2.193981\n"
       ]
      },
      {
       "output_type": "stream",
       "stream": "stderr",
       "text": [
        "[1599]\ttrain-rmse:1.779270\tval-rmse:2.193441\n",
        "[1600]\ttrain-rmse:1.778793\tval-rmse:2.193208\n"
       ]
      },
      {
       "output_type": "stream",
       "stream": "stderr",
       "text": [
        "[1601]\ttrain-rmse:1.777804\tval-rmse:2.192445\n",
        "[1602]\ttrain-rmse:1.777469\tval-rmse:2.192256\n"
       ]
      },
      {
       "output_type": "stream",
       "stream": "stderr",
       "text": [
        "[1603]\ttrain-rmse:1.776201\tval-rmse:2.191376\n",
        "[1604]\ttrain-rmse:1.775748\tval-rmse:2.191089\n"
       ]
      },
      {
       "output_type": "stream",
       "stream": "stderr",
       "text": [
        "[1605]\ttrain-rmse:1.775123\tval-rmse:2.190654\n",
        "[1606]\ttrain-rmse:1.774219\tval-rmse:2.190052\n"
       ]
      },
      {
       "output_type": "stream",
       "stream": "stderr",
       "text": [
        "[1607]\ttrain-rmse:1.773423\tval-rmse:2.189583\n",
        "[1608]\ttrain-rmse:1.772722\tval-rmse:2.189058\n"
       ]
      },
      {
       "output_type": "stream",
       "stream": "stderr",
       "text": [
        "[1609]\ttrain-rmse:1.772383\tval-rmse:2.188786\n",
        "[1610]\ttrain-rmse:1.770861\tval-rmse:2.187666\n"
       ]
      },
      {
       "output_type": "stream",
       "stream": "stderr",
       "text": [
        "[1611]\ttrain-rmse:1.769932\tval-rmse:2.186926\n",
        "[1612]\ttrain-rmse:1.768801\tval-rmse:2.186165\n"
       ]
      },
      {
       "output_type": "stream",
       "stream": "stderr",
       "text": [
        "[1613]\ttrain-rmse:1.768009\tval-rmse:2.185635\n",
        "[1614]\ttrain-rmse:1.767611\tval-rmse:2.185312\n"
       ]
      },
      {
       "output_type": "stream",
       "stream": "stderr",
       "text": [
        "[1615]\ttrain-rmse:1.767128\tval-rmse:2.184892\n",
        "[1616]\ttrain-rmse:1.766852\tval-rmse:2.184705\n"
       ]
      },
      {
       "output_type": "stream",
       "stream": "stderr",
       "text": [
        "[1617]\ttrain-rmse:1.766491\tval-rmse:2.184427\n",
        "[1618]\ttrain-rmse:1.765708\tval-rmse:2.183832\n"
       ]
      },
      {
       "output_type": "stream",
       "stream": "stderr",
       "text": [
        "[1619]\ttrain-rmse:1.765249\tval-rmse:2.183547\n",
        "[1620]\ttrain-rmse:1.765037\tval-rmse:2.183382\n"
       ]
      },
      {
       "output_type": "stream",
       "stream": "stderr",
       "text": [
        "[1621]\ttrain-rmse:1.764439\tval-rmse:2.182941\n",
        "[1622]\ttrain-rmse:1.763474\tval-rmse:2.182216\n"
       ]
      },
      {
       "output_type": "stream",
       "stream": "stderr",
       "text": [
        "[1623]\ttrain-rmse:1.762978\tval-rmse:2.181808\n",
        "[1624]\ttrain-rmse:1.762302\tval-rmse:2.181304\n"
       ]
      },
      {
       "output_type": "stream",
       "stream": "stderr",
       "text": [
        "[1625]\ttrain-rmse:1.761170\tval-rmse:2.180362\n",
        "[1626]\ttrain-rmse:1.760487\tval-rmse:2.179859\n"
       ]
      },
      {
       "output_type": "stream",
       "stream": "stderr",
       "text": [
        "[1627]\ttrain-rmse:1.759649\tval-rmse:2.179237\n",
        "[1628]\ttrain-rmse:1.758820\tval-rmse:2.178704\n"
       ]
      },
      {
       "output_type": "stream",
       "stream": "stderr",
       "text": [
        "[1629]\ttrain-rmse:1.758559\tval-rmse:2.178517\n",
        "[1630]\ttrain-rmse:1.758130\tval-rmse:2.178170\n"
       ]
      },
      {
       "output_type": "stream",
       "stream": "stderr",
       "text": [
        "[1631]\ttrain-rmse:1.757474\tval-rmse:2.177729\n",
        "[1632]\ttrain-rmse:1.756862\tval-rmse:2.177313\n"
       ]
      },
      {
       "output_type": "stream",
       "stream": "stderr",
       "text": [
        "[1633]\ttrain-rmse:1.756095\tval-rmse:2.176702\n",
        "[1634]\ttrain-rmse:1.755641\tval-rmse:2.176317\n"
       ]
      },
      {
       "output_type": "stream",
       "stream": "stderr",
       "text": [
        "[1635]\ttrain-rmse:1.754777\tval-rmse:2.175762\n",
        "[1636]\ttrain-rmse:1.754326\tval-rmse:2.175462\n"
       ]
      },
      {
       "output_type": "stream",
       "stream": "stderr",
       "text": [
        "[1637]\ttrain-rmse:1.753609\tval-rmse:2.174956\n",
        "[1638]\ttrain-rmse:1.753153\tval-rmse:2.174590\n"
       ]
      },
      {
       "output_type": "stream",
       "stream": "stderr",
       "text": [
        "[1639]\ttrain-rmse:1.752821\tval-rmse:2.174364\n",
        "[1640]\ttrain-rmse:1.752333\tval-rmse:2.174007\n"
       ]
      },
      {
       "output_type": "stream",
       "stream": "stderr",
       "text": [
        "[1641]\ttrain-rmse:1.751608\tval-rmse:2.173555\n",
        "[1642]\ttrain-rmse:1.750976\tval-rmse:2.173114\n"
       ]
      },
      {
       "output_type": "stream",
       "stream": "stderr",
       "text": [
        "[1643]\ttrain-rmse:1.750512\tval-rmse:2.172756\n",
        "[1644]\ttrain-rmse:1.749983\tval-rmse:2.172341\n"
       ]
      },
      {
       "output_type": "stream",
       "stream": "stderr",
       "text": [
        "[1645]\ttrain-rmse:1.749177\tval-rmse:2.171660\n",
        "[1646]\ttrain-rmse:1.748582\tval-rmse:2.171193\n"
       ]
      },
      {
       "output_type": "stream",
       "stream": "stderr",
       "text": [
        "[1647]\ttrain-rmse:1.747957\tval-rmse:2.170715\n",
        "[1648]\ttrain-rmse:1.747045\tval-rmse:2.169924\n"
       ]
      },
      {
       "output_type": "stream",
       "stream": "stderr",
       "text": [
        "[1649]\ttrain-rmse:1.746563\tval-rmse:2.169569\n",
        "[1650]\ttrain-rmse:1.745771\tval-rmse:2.168988\n"
       ]
      },
      {
       "output_type": "stream",
       "stream": "stderr",
       "text": [
        "[1651]\ttrain-rmse:1.745407\tval-rmse:2.168667\n",
        "[1652]\ttrain-rmse:1.744821\tval-rmse:2.168267\n"
       ]
      },
      {
       "output_type": "stream",
       "stream": "stderr",
       "text": [
        "[1653]\ttrain-rmse:1.744355\tval-rmse:2.167931\n",
        "[1654]\ttrain-rmse:1.743069\tval-rmse:2.167074\n"
       ]
      },
      {
       "output_type": "stream",
       "stream": "stderr",
       "text": [
        "[1655]\ttrain-rmse:1.742795\tval-rmse:2.166892\n",
        "[1656]\ttrain-rmse:1.741537\tval-rmse:2.166003\n"
       ]
      },
      {
       "output_type": "stream",
       "stream": "stderr",
       "text": [
        "[1657]\ttrain-rmse:1.741251\tval-rmse:2.165846\n",
        "[1658]\ttrain-rmse:1.740925\tval-rmse:2.165584\n"
       ]
      },
      {
       "output_type": "stream",
       "stream": "stderr",
       "text": [
        "[1659]\ttrain-rmse:1.740061\tval-rmse:2.164869\n",
        "[1660]\ttrain-rmse:1.739799\tval-rmse:2.164642\n"
       ]
      },
      {
       "output_type": "stream",
       "stream": "stderr",
       "text": [
        "[1661]\ttrain-rmse:1.738820\tval-rmse:2.163894\n",
        "[1662]\ttrain-rmse:1.737928\tval-rmse:2.163234\n"
       ]
      },
      {
       "output_type": "stream",
       "stream": "stderr",
       "text": [
        "[1663]\ttrain-rmse:1.737644\tval-rmse:2.162996\n",
        "[1664]\ttrain-rmse:1.737069\tval-rmse:2.162565\n"
       ]
      },
      {
       "output_type": "stream",
       "stream": "stderr",
       "text": [
        "[1665]\ttrain-rmse:1.736724\tval-rmse:2.162313\n",
        "[1666]\ttrain-rmse:1.735706\tval-rmse:2.161547\n"
       ]
      },
      {
       "output_type": "stream",
       "stream": "stderr",
       "text": [
        "[1667]\ttrain-rmse:1.735207\tval-rmse:2.161126\n",
        "[1668]\ttrain-rmse:1.734960\tval-rmse:2.160973\n"
       ]
      },
      {
       "output_type": "stream",
       "stream": "stderr",
       "text": [
        "[1669]\ttrain-rmse:1.734488\tval-rmse:2.160666\n",
        "[1670]\ttrain-rmse:1.734297\tval-rmse:2.160541\n"
       ]
      },
      {
       "output_type": "stream",
       "stream": "stderr",
       "text": [
        "[1671]\ttrain-rmse:1.733283\tval-rmse:2.159896\n",
        "[1672]\ttrain-rmse:1.732929\tval-rmse:2.159689\n"
       ]
      },
      {
       "output_type": "stream",
       "stream": "stderr",
       "text": [
        "[1673]\ttrain-rmse:1.732543\tval-rmse:2.159388\n",
        "[1674]\ttrain-rmse:1.731996\tval-rmse:2.159058\n"
       ]
      },
      {
       "output_type": "stream",
       "stream": "stderr",
       "text": [
        "[1675]\ttrain-rmse:1.731500\tval-rmse:2.158755\n",
        "[1676]\ttrain-rmse:1.731157\tval-rmse:2.158444\n"
       ]
      },
      {
       "output_type": "stream",
       "stream": "stderr",
       "text": [
        "[1677]\ttrain-rmse:1.730680\tval-rmse:2.158120\n",
        "[1678]\ttrain-rmse:1.729791\tval-rmse:2.157531\n"
       ]
      },
      {
       "output_type": "stream",
       "stream": "stderr",
       "text": [
        "[1679]\ttrain-rmse:1.729304\tval-rmse:2.157221\n",
        "[1680]\ttrain-rmse:1.728673\tval-rmse:2.156717\n"
       ]
      },
      {
       "output_type": "stream",
       "stream": "stderr",
       "text": [
        "[1681]\ttrain-rmse:1.728251\tval-rmse:2.156392\n",
        "[1682]\ttrain-rmse:1.728062\tval-rmse:2.156253\n"
       ]
      },
      {
       "output_type": "stream",
       "stream": "stderr",
       "text": [
        "[1683]\ttrain-rmse:1.727725\tval-rmse:2.155972\n",
        "[1684]\ttrain-rmse:1.726705\tval-rmse:2.155255\n"
       ]
      },
      {
       "output_type": "stream",
       "stream": "stderr",
       "text": [
        "[1685]\ttrain-rmse:1.725894\tval-rmse:2.154710\n",
        "[1686]\ttrain-rmse:1.725560\tval-rmse:2.154448\n"
       ]
      },
      {
       "output_type": "stream",
       "stream": "stderr",
       "text": [
        "[1687]\ttrain-rmse:1.724324\tval-rmse:2.153582\n",
        "[1688]\ttrain-rmse:1.723818\tval-rmse:2.153214\n"
       ]
      },
      {
       "output_type": "stream",
       "stream": "stderr",
       "text": [
        "[1689]\ttrain-rmse:1.723403\tval-rmse:2.152926\n",
        "[1690]\ttrain-rmse:1.723092\tval-rmse:2.152623\n"
       ]
      },
      {
       "output_type": "stream",
       "stream": "stderr",
       "text": [
        "[1691]\ttrain-rmse:1.722752\tval-rmse:2.152420\n",
        "[1692]\ttrain-rmse:1.722395\tval-rmse:2.152153\n"
       ]
      },
      {
       "output_type": "stream",
       "stream": "stderr",
       "text": [
        "[1693]\ttrain-rmse:1.721819\tval-rmse:2.151668\n",
        "[1694]\ttrain-rmse:1.721277\tval-rmse:2.151252\n"
       ]
      },
      {
       "output_type": "stream",
       "stream": "stderr",
       "text": [
        "[1695]\ttrain-rmse:1.720759\tval-rmse:2.150890\n",
        "[1696]\ttrain-rmse:1.720521\tval-rmse:2.150635\n"
       ]
      },
      {
       "output_type": "stream",
       "stream": "stderr",
       "text": [
        "[1697]\ttrain-rmse:1.719980\tval-rmse:2.150233\n",
        "[1698]\ttrain-rmse:1.719130\tval-rmse:2.149587\n"
       ]
      },
      {
       "output_type": "stream",
       "stream": "stderr",
       "text": [
        "[1699]\ttrain-rmse:1.718186\tval-rmse:2.148939\n",
        "[1700]\ttrain-rmse:1.717485\tval-rmse:2.148468\n"
       ]
      },
      {
       "output_type": "stream",
       "stream": "stderr",
       "text": [
        "[1701]\ttrain-rmse:1.716627\tval-rmse:2.147830\n",
        "[1702]\ttrain-rmse:1.716065\tval-rmse:2.147380\n"
       ]
      },
      {
       "output_type": "stream",
       "stream": "stderr",
       "text": [
        "[1703]\ttrain-rmse:1.714964\tval-rmse:2.146388\n",
        "[1704]\ttrain-rmse:1.714690\tval-rmse:2.146176\n"
       ]
      },
      {
       "output_type": "stream",
       "stream": "stderr",
       "text": [
        "[1705]\ttrain-rmse:1.714274\tval-rmse:2.145821\n",
        "[1706]\ttrain-rmse:1.713777\tval-rmse:2.145432\n"
       ]
      },
      {
       "output_type": "stream",
       "stream": "stderr",
       "text": [
        "[1707]\ttrain-rmse:1.712491\tval-rmse:2.144457\n",
        "[1708]\ttrain-rmse:1.712040\tval-rmse:2.144209\n"
       ]
      },
      {
       "output_type": "stream",
       "stream": "stderr",
       "text": [
        "[1709]\ttrain-rmse:1.711747\tval-rmse:2.143970\n",
        "[1710]\ttrain-rmse:1.711129\tval-rmse:2.143440\n"
       ]
      },
      {
       "output_type": "stream",
       "stream": "stderr",
       "text": [
        "[1711]\ttrain-rmse:1.710308\tval-rmse:2.142837\n",
        "[1712]\ttrain-rmse:1.709700\tval-rmse:2.142443\n"
       ]
      },
      {
       "output_type": "stream",
       "stream": "stderr",
       "text": [
        "[1713]\ttrain-rmse:1.709241\tval-rmse:2.142087\n",
        "[1714]\ttrain-rmse:1.708366\tval-rmse:2.141400\n"
       ]
      },
      {
       "output_type": "stream",
       "stream": "stderr",
       "text": [
        "[1715]\ttrain-rmse:1.707950\tval-rmse:2.141119\n",
        "[1716]\ttrain-rmse:1.707460\tval-rmse:2.140774\n"
       ]
      },
      {
       "output_type": "stream",
       "stream": "stderr",
       "text": [
        "[1717]\ttrain-rmse:1.706828\tval-rmse:2.140219\n",
        "[1718]\ttrain-rmse:1.706065\tval-rmse:2.139609\n"
       ]
      },
      {
       "output_type": "stream",
       "stream": "stderr",
       "text": [
        "[1719]\ttrain-rmse:1.705802\tval-rmse:2.139494\n",
        "[1720]\ttrain-rmse:1.705379\tval-rmse:2.139182\n"
       ]
      },
      {
       "output_type": "stream",
       "stream": "stderr",
       "text": [
        "[1721]\ttrain-rmse:1.704684\tval-rmse:2.138665\n",
        "[1722]\ttrain-rmse:1.704475\tval-rmse:2.138481\n"
       ]
      },
      {
       "output_type": "stream",
       "stream": "stderr",
       "text": [
        "[1723]\ttrain-rmse:1.703772\tval-rmse:2.138057\n",
        "[1724]\ttrain-rmse:1.703201\tval-rmse:2.137685\n"
       ]
      },
      {
       "output_type": "stream",
       "stream": "stderr",
       "text": [
        "[1725]\ttrain-rmse:1.702369\tval-rmse:2.137085\n",
        "[1726]\ttrain-rmse:1.701580\tval-rmse:2.136543\n"
       ]
      },
      {
       "output_type": "stream",
       "stream": "stderr",
       "text": [
        "[1727]\ttrain-rmse:1.701298\tval-rmse:2.136364\n",
        "[1728]\ttrain-rmse:1.700767\tval-rmse:2.135953\n"
       ]
      },
      {
       "output_type": "stream",
       "stream": "stderr",
       "text": [
        "[1729]\ttrain-rmse:1.700185\tval-rmse:2.135598\n",
        "[1730]\ttrain-rmse:1.699481\tval-rmse:2.135202\n"
       ]
      },
      {
       "output_type": "stream",
       "stream": "stderr",
       "text": [
        "[1731]\ttrain-rmse:1.699080\tval-rmse:2.134894\n",
        "[1732]\ttrain-rmse:1.698803\tval-rmse:2.134734\n"
       ]
      },
      {
       "output_type": "stream",
       "stream": "stderr",
       "text": [
        "[1733]\ttrain-rmse:1.698357\tval-rmse:2.134411\n",
        "[1734]\ttrain-rmse:1.697854\tval-rmse:2.133989\n"
       ]
      },
      {
       "output_type": "stream",
       "stream": "stderr",
       "text": [
        "[1735]\ttrain-rmse:1.697395\tval-rmse:2.133710\n",
        "[1736]\ttrain-rmse:1.696490\tval-rmse:2.132950\n"
       ]
      },
      {
       "output_type": "stream",
       "stream": "stderr",
       "text": [
        "[1737]\ttrain-rmse:1.695669\tval-rmse:2.132363\n",
        "[1738]\ttrain-rmse:1.694803\tval-rmse:2.131743\n"
       ]
      },
      {
       "output_type": "stream",
       "stream": "stderr",
       "text": [
        "[1739]\ttrain-rmse:1.694515\tval-rmse:2.131567\n",
        "[1740]\ttrain-rmse:1.694358\tval-rmse:2.131435\n"
       ]
      },
      {
       "output_type": "stream",
       "stream": "stderr",
       "text": [
        "[1741]\ttrain-rmse:1.692988\tval-rmse:2.130564\n",
        "[1742]\ttrain-rmse:1.692582\tval-rmse:2.130298\n"
       ]
      },
      {
       "output_type": "stream",
       "stream": "stderr",
       "text": [
        "[1743]\ttrain-rmse:1.691584\tval-rmse:2.129530\n",
        "[1744]\ttrain-rmse:1.691080\tval-rmse:2.129128\n"
       ]
      },
      {
       "output_type": "stream",
       "stream": "stderr",
       "text": [
        "[1745]\ttrain-rmse:1.690441\tval-rmse:2.128649\n",
        "[1746]\ttrain-rmse:1.689812\tval-rmse:2.128213\n"
       ]
      },
      {
       "output_type": "stream",
       "stream": "stderr",
       "text": [
        "[1747]\ttrain-rmse:1.689400\tval-rmse:2.127969\n",
        "[1748]\ttrain-rmse:1.689126\tval-rmse:2.127805\n"
       ]
      },
      {
       "output_type": "stream",
       "stream": "stderr",
       "text": [
        "[1749]\ttrain-rmse:1.688657\tval-rmse:2.127512\n",
        "[1750]\ttrain-rmse:1.688088\tval-rmse:2.127157\n"
       ]
      },
      {
       "output_type": "stream",
       "stream": "stderr",
       "text": [
        "[1751]\ttrain-rmse:1.687485\tval-rmse:2.126726\n",
        "[1752]\ttrain-rmse:1.687000\tval-rmse:2.126485\n"
       ]
      },
      {
       "output_type": "stream",
       "stream": "stderr",
       "text": [
        "[1753]\ttrain-rmse:1.686539\tval-rmse:2.126165\n",
        "[1754]\ttrain-rmse:1.686223\tval-rmse:2.125929\n"
       ]
      },
      {
       "output_type": "stream",
       "stream": "stderr",
       "text": [
        "[1755]\ttrain-rmse:1.685474\tval-rmse:2.125334\n",
        "[1756]\ttrain-rmse:1.684607\tval-rmse:2.124748\n"
       ]
      },
      {
       "output_type": "stream",
       "stream": "stderr",
       "text": [
        "[1757]\ttrain-rmse:1.684282\tval-rmse:2.124521\n",
        "[1758]\ttrain-rmse:1.682552\tval-rmse:2.123170\n"
       ]
      },
      {
       "output_type": "stream",
       "stream": "stderr",
       "text": [
        "[1759]\ttrain-rmse:1.681100\tval-rmse:2.122167\n",
        "[1760]\ttrain-rmse:1.680551\tval-rmse:2.121690\n"
       ]
      },
      {
       "output_type": "stream",
       "stream": "stderr",
       "text": [
        "[1761]\ttrain-rmse:1.679954\tval-rmse:2.121276\n",
        "[1762]\ttrain-rmse:1.679556\tval-rmse:2.120999\n"
       ]
      },
      {
       "output_type": "stream",
       "stream": "stderr",
       "text": [
        "[1763]\ttrain-rmse:1.679213\tval-rmse:2.120821\n",
        "[1764]\ttrain-rmse:1.678981\tval-rmse:2.120699\n"
       ]
      },
      {
       "output_type": "stream",
       "stream": "stderr",
       "text": [
        "[1765]\ttrain-rmse:1.678604\tval-rmse:2.120425\n",
        "[1766]\ttrain-rmse:1.677473\tval-rmse:2.119697\n"
       ]
      },
      {
       "output_type": "stream",
       "stream": "stderr",
       "text": [
        "[1767]\ttrain-rmse:1.676812\tval-rmse:2.119220\n",
        "[1768]\ttrain-rmse:1.676566\tval-rmse:2.119055\n"
       ]
      },
      {
       "output_type": "stream",
       "stream": "stderr",
       "text": [
        "[1769]\ttrain-rmse:1.675417\tval-rmse:2.118212\n",
        "[1770]\ttrain-rmse:1.674973\tval-rmse:2.117849\n"
       ]
      },
      {
       "output_type": "stream",
       "stream": "stderr",
       "text": [
        "[1771]\ttrain-rmse:1.674819\tval-rmse:2.117754\n",
        "[1772]\ttrain-rmse:1.674524\tval-rmse:2.117532\n"
       ]
      },
      {
       "output_type": "stream",
       "stream": "stderr",
       "text": [
        "[1773]\ttrain-rmse:1.673482\tval-rmse:2.116760\n",
        "[1774]\ttrain-rmse:1.673060\tval-rmse:2.116430\n"
       ]
      },
      {
       "output_type": "stream",
       "stream": "stderr",
       "text": [
        "[1775]\ttrain-rmse:1.672025\tval-rmse:2.115758\n",
        "[1776]\ttrain-rmse:1.671732\tval-rmse:2.115583\n"
       ]
      },
      {
       "output_type": "stream",
       "stream": "stderr",
       "text": [
        "[1777]\ttrain-rmse:1.671389\tval-rmse:2.115369\n",
        "[1778]\ttrain-rmse:1.670946\tval-rmse:2.114983\n"
       ]
      },
      {
       "output_type": "stream",
       "stream": "stderr",
       "text": [
        "[1779]\ttrain-rmse:1.670503\tval-rmse:2.114663\n",
        "[1780]\ttrain-rmse:1.669698\tval-rmse:2.114073\n"
       ]
      },
      {
       "output_type": "stream",
       "stream": "stderr",
       "text": [
        "[1781]\ttrain-rmse:1.668926\tval-rmse:2.113571\n",
        "[1782]\ttrain-rmse:1.668521\tval-rmse:2.113314\n"
       ]
      },
      {
       "output_type": "stream",
       "stream": "stderr",
       "text": [
        "[1783]\ttrain-rmse:1.667918\tval-rmse:2.112847\n",
        "[1784]\ttrain-rmse:1.667231\tval-rmse:2.112328\n"
       ]
      },
      {
       "output_type": "stream",
       "stream": "stderr",
       "text": [
        "[1785]\ttrain-rmse:1.666812\tval-rmse:2.112008\n",
        "[1786]\ttrain-rmse:1.666228\tval-rmse:2.111584\n"
       ]
      },
      {
       "output_type": "stream",
       "stream": "stderr",
       "text": [
        "[1787]\ttrain-rmse:1.665850\tval-rmse:2.111224\n",
        "[1788]\ttrain-rmse:1.665306\tval-rmse:2.110818\n"
       ]
      },
      {
       "output_type": "stream",
       "stream": "stderr",
       "text": [
        "[1789]\ttrain-rmse:1.664462\tval-rmse:2.110147\n",
        "[1790]\ttrain-rmse:1.663911\tval-rmse:2.109676\n"
       ]
      },
      {
       "output_type": "stream",
       "stream": "stderr",
       "text": [
        "[1791]\ttrain-rmse:1.663208\tval-rmse:2.109226\n",
        "[1792]\ttrain-rmse:1.662068\tval-rmse:2.108389\n"
       ]
      },
      {
       "output_type": "stream",
       "stream": "stderr",
       "text": [
        "[1793]\ttrain-rmse:1.661554\tval-rmse:2.108034\n",
        "[1794]\ttrain-rmse:1.660841\tval-rmse:2.107530\n"
       ]
      },
      {
       "output_type": "stream",
       "stream": "stderr",
       "text": [
        "[1795]\ttrain-rmse:1.660416\tval-rmse:2.107204\n",
        "[1796]\ttrain-rmse:1.659582\tval-rmse:2.106682\n"
       ]
      },
      {
       "output_type": "stream",
       "stream": "stderr",
       "text": [
        "[1797]\ttrain-rmse:1.659221\tval-rmse:2.106439\n",
        "[1798]\ttrain-rmse:1.658715\tval-rmse:2.106008\n"
       ]
      },
      {
       "output_type": "stream",
       "stream": "stderr",
       "text": [
        "[1799]\ttrain-rmse:1.657573\tval-rmse:2.105024\n",
        "[1800]\ttrain-rmse:1.656221\tval-rmse:2.103959\n"
       ]
      },
      {
       "output_type": "stream",
       "stream": "stderr",
       "text": [
        "[1801]\ttrain-rmse:1.655911\tval-rmse:2.103791\n",
        "[1802]\ttrain-rmse:1.654832\tval-rmse:2.103024\n"
       ]
      },
      {
       "output_type": "stream",
       "stream": "stderr",
       "text": [
        "[1803]\ttrain-rmse:1.654482\tval-rmse:2.102795\n",
        "[1804]\ttrain-rmse:1.654174\tval-rmse:2.102538\n"
       ]
      },
      {
       "output_type": "stream",
       "stream": "stderr",
       "text": [
        "[1805]\ttrain-rmse:1.653942\tval-rmse:2.102405\n",
        "[1806]\ttrain-rmse:1.653349\tval-rmse:2.102052\n"
       ]
      },
      {
       "output_type": "stream",
       "stream": "stderr",
       "text": [
        "[1807]\ttrain-rmse:1.652622\tval-rmse:2.101482\n",
        "[1808]\ttrain-rmse:1.652182\tval-rmse:2.101214\n"
       ]
      },
      {
       "output_type": "stream",
       "stream": "stderr",
       "text": [
        "[1809]\ttrain-rmse:1.651902\tval-rmse:2.101042\n",
        "[1810]\ttrain-rmse:1.651547\tval-rmse:2.100775\n"
       ]
      },
      {
       "output_type": "stream",
       "stream": "stderr",
       "text": [
        "[1811]\ttrain-rmse:1.650550\tval-rmse:2.100133\n",
        "[1812]\ttrain-rmse:1.650191\tval-rmse:2.099883\n"
       ]
      },
      {
       "output_type": "stream",
       "stream": "stderr",
       "text": [
        "[1813]\ttrain-rmse:1.649728\tval-rmse:2.099590\n",
        "[1814]\ttrain-rmse:1.649349\tval-rmse:2.099353\n"
       ]
      },
      {
       "output_type": "stream",
       "stream": "stderr",
       "text": [
        "[1815]\ttrain-rmse:1.648774\tval-rmse:2.098971\n",
        "[1816]\ttrain-rmse:1.648256\tval-rmse:2.098669\n"
       ]
      },
      {
       "output_type": "stream",
       "stream": "stderr",
       "text": [
        "[1817]\ttrain-rmse:1.647791\tval-rmse:2.098262\n",
        "[1818]\ttrain-rmse:1.647672\tval-rmse:2.098148\n"
       ]
      },
      {
       "output_type": "stream",
       "stream": "stderr",
       "text": [
        "[1819]\ttrain-rmse:1.647549\tval-rmse:2.098095\n",
        "[1820]\ttrain-rmse:1.646821\tval-rmse:2.097576\n"
       ]
      },
      {
       "output_type": "stream",
       "stream": "stderr",
       "text": [
        "[1821]\ttrain-rmse:1.646289\tval-rmse:2.097166\n",
        "[1822]\ttrain-rmse:1.645719\tval-rmse:2.096714\n"
       ]
      },
      {
       "output_type": "stream",
       "stream": "stderr",
       "text": [
        "[1823]\ttrain-rmse:1.645384\tval-rmse:2.096474\n",
        "[1824]\ttrain-rmse:1.644112\tval-rmse:2.095537\n"
       ]
      },
      {
       "output_type": "stream",
       "stream": "stderr",
       "text": [
        "[1825]\ttrain-rmse:1.643664\tval-rmse:2.095168\n",
        "[1826]\ttrain-rmse:1.643016\tval-rmse:2.094695\n"
       ]
      },
      {
       "output_type": "stream",
       "stream": "stderr",
       "text": [
        "[1827]\ttrain-rmse:1.642846\tval-rmse:2.094556\n",
        "[1828]\ttrain-rmse:1.642410\tval-rmse:2.094263\n"
       ]
      },
      {
       "output_type": "stream",
       "stream": "stderr",
       "text": [
        "[1829]\ttrain-rmse:1.642209\tval-rmse:2.094159\n",
        "[1830]\ttrain-rmse:1.642025\tval-rmse:2.093991\n"
       ]
      },
      {
       "output_type": "stream",
       "stream": "stderr",
       "text": [
        "[1831]\ttrain-rmse:1.641829\tval-rmse:2.093863\n",
        "[1832]\ttrain-rmse:1.641184\tval-rmse:2.093409\n"
       ]
      },
      {
       "output_type": "stream",
       "stream": "stderr",
       "text": [
        "[1833]\ttrain-rmse:1.640690\tval-rmse:2.093014\n",
        "[1834]\ttrain-rmse:1.640282\tval-rmse:2.092799\n"
       ]
      },
      {
       "output_type": "stream",
       "stream": "stderr",
       "text": [
        "[1835]\ttrain-rmse:1.639414\tval-rmse:2.092128\n",
        "[1836]\ttrain-rmse:1.639080\tval-rmse:2.091922\n"
       ]
      },
      {
       "output_type": "stream",
       "stream": "stderr",
       "text": [
        "[1837]\ttrain-rmse:1.638588\tval-rmse:2.091550\n",
        "[1838]\ttrain-rmse:1.637902\tval-rmse:2.091078\n"
       ]
      },
      {
       "output_type": "stream",
       "stream": "stderr",
       "text": [
        "[1839]\ttrain-rmse:1.637406\tval-rmse:2.090763\n",
        "[1840]\ttrain-rmse:1.637224\tval-rmse:2.090622\n"
       ]
      },
      {
       "output_type": "stream",
       "stream": "stderr",
       "text": [
        "[1841]\ttrain-rmse:1.636647\tval-rmse:2.090172\n",
        "[1842]\ttrain-rmse:1.636117\tval-rmse:2.089781\n"
       ]
      },
      {
       "output_type": "stream",
       "stream": "stderr",
       "text": [
        "[1843]\ttrain-rmse:1.635541\tval-rmse:2.089373\n",
        "[1844]\ttrain-rmse:1.635209\tval-rmse:2.089135\n"
       ]
      },
      {
       "output_type": "stream",
       "stream": "stderr",
       "text": [
        "[1845]\ttrain-rmse:1.634658\tval-rmse:2.088655\n",
        "[1846]\ttrain-rmse:1.634275\tval-rmse:2.088367\n"
       ]
      },
      {
       "output_type": "stream",
       "stream": "stderr",
       "text": [
        "[1847]\ttrain-rmse:1.633893\tval-rmse:2.088180\n",
        "[1848]\ttrain-rmse:1.633509\tval-rmse:2.087841\n"
       ]
      },
      {
       "output_type": "stream",
       "stream": "stderr",
       "text": [
        "[1849]\ttrain-rmse:1.633333\tval-rmse:2.087718\n",
        "[1850]\ttrain-rmse:1.632861\tval-rmse:2.087371\n"
       ]
      },
      {
       "output_type": "stream",
       "stream": "stderr",
       "text": [
        "[1851]\ttrain-rmse:1.632082\tval-rmse:2.086891\n",
        "[1852]\ttrain-rmse:1.631417\tval-rmse:2.086464\n"
       ]
      },
      {
       "output_type": "stream",
       "stream": "stderr",
       "text": [
        "[1853]\ttrain-rmse:1.630736\tval-rmse:2.086020\n",
        "[1854]\ttrain-rmse:1.629750\tval-rmse:2.085273\n"
       ]
      },
      {
       "output_type": "stream",
       "stream": "stderr",
       "text": [
        "[1855]\ttrain-rmse:1.628888\tval-rmse:2.084728\n",
        "[1856]\ttrain-rmse:1.627943\tval-rmse:2.084049\n"
       ]
      },
      {
       "output_type": "stream",
       "stream": "stderr",
       "text": [
        "[1857]\ttrain-rmse:1.627207\tval-rmse:2.083463\n",
        "[1858]\ttrain-rmse:1.625718\tval-rmse:2.082349\n"
       ]
      },
      {
       "output_type": "stream",
       "stream": "stderr",
       "text": [
        "[1859]\ttrain-rmse:1.625370\tval-rmse:2.082134\n",
        "[1860]\ttrain-rmse:1.624889\tval-rmse:2.081823\n"
       ]
      },
      {
       "output_type": "stream",
       "stream": "stderr",
       "text": [
        "[1861]\ttrain-rmse:1.624161\tval-rmse:2.081255\n",
        "[1862]\ttrain-rmse:1.623848\tval-rmse:2.081025\n"
       ]
      },
      {
       "output_type": "stream",
       "stream": "stderr",
       "text": [
        "[1863]\ttrain-rmse:1.623432\tval-rmse:2.080758\n",
        "[1864]\ttrain-rmse:1.623154\tval-rmse:2.080576\n"
       ]
      },
      {
       "output_type": "stream",
       "stream": "stderr",
       "text": [
        "[1865]\ttrain-rmse:1.622720\tval-rmse:2.080271\n",
        "[1866]\ttrain-rmse:1.621481\tval-rmse:2.079402\n"
       ]
      },
      {
       "output_type": "stream",
       "stream": "stderr",
       "text": [
        "[1867]\ttrain-rmse:1.620719\tval-rmse:2.078734\n",
        "[1868]\ttrain-rmse:1.620078\tval-rmse:2.078260\n"
       ]
      },
      {
       "output_type": "stream",
       "stream": "stderr",
       "text": [
        "[1869]\ttrain-rmse:1.619641\tval-rmse:2.077970\n",
        "[1870]\ttrain-rmse:1.618799\tval-rmse:2.077386\n"
       ]
      },
      {
       "output_type": "stream",
       "stream": "stderr",
       "text": [
        "[1871]\ttrain-rmse:1.618108\tval-rmse:2.076793\n",
        "[1872]\ttrain-rmse:1.617624\tval-rmse:2.076435\n"
       ]
      },
      {
       "output_type": "stream",
       "stream": "stderr",
       "text": [
        "[1873]\ttrain-rmse:1.617310\tval-rmse:2.076188\n",
        "[1874]\ttrain-rmse:1.616650\tval-rmse:2.075696\n"
       ]
      },
      {
       "output_type": "stream",
       "stream": "stderr",
       "text": [
        "[1875]\ttrain-rmse:1.615406\tval-rmse:2.074733\n",
        "[1876]\ttrain-rmse:1.614855\tval-rmse:2.074393\n"
       ]
      },
      {
       "output_type": "stream",
       "stream": "stderr",
       "text": [
        "[1877]\ttrain-rmse:1.614368\tval-rmse:2.074041\n",
        "[1878]\ttrain-rmse:1.613763\tval-rmse:2.073573\n"
       ]
      },
      {
       "output_type": "stream",
       "stream": "stderr",
       "text": [
        "[1879]\ttrain-rmse:1.612923\tval-rmse:2.072923\n",
        "[1880]\ttrain-rmse:1.612073\tval-rmse:2.072341\n"
       ]
      },
      {
       "output_type": "stream",
       "stream": "stderr",
       "text": [
        "[1881]\ttrain-rmse:1.610967\tval-rmse:2.071492\n",
        "[1882]\ttrain-rmse:1.610541\tval-rmse:2.071225\n"
       ]
      },
      {
       "output_type": "stream",
       "stream": "stderr",
       "text": [
        "[1883]\ttrain-rmse:1.609464\tval-rmse:2.070568\n",
        "[1884]\ttrain-rmse:1.609040\tval-rmse:2.070207\n"
       ]
      },
      {
       "output_type": "stream",
       "stream": "stderr",
       "text": [
        "[1885]\ttrain-rmse:1.608648\tval-rmse:2.069978\n",
        "[1886]\ttrain-rmse:1.608124\tval-rmse:2.069544\n"
       ]
      },
      {
       "output_type": "stream",
       "stream": "stderr",
       "text": [
        "[1887]\ttrain-rmse:1.607453\tval-rmse:2.069046\n",
        "[1888]\ttrain-rmse:1.606606\tval-rmse:2.068435\n"
       ]
      },
      {
       "output_type": "stream",
       "stream": "stderr",
       "text": [
        "[1889]\ttrain-rmse:1.606235\tval-rmse:2.068257\n",
        "[1890]\ttrain-rmse:1.606021\tval-rmse:2.068097\n"
       ]
      },
      {
       "output_type": "stream",
       "stream": "stderr",
       "text": [
        "[1891]\ttrain-rmse:1.605521\tval-rmse:2.067743\n",
        "[1892]\ttrain-rmse:1.605247\tval-rmse:2.067528\n"
       ]
      },
      {
       "output_type": "stream",
       "stream": "stderr",
       "text": [
        "[1893]\ttrain-rmse:1.605075\tval-rmse:2.067434\n",
        "[1894]\ttrain-rmse:1.604441\tval-rmse:2.066989\n"
       ]
      },
      {
       "output_type": "stream",
       "stream": "stderr",
       "text": [
        "[1895]\ttrain-rmse:1.603804\tval-rmse:2.066561\n",
        "[1896]\ttrain-rmse:1.603406\tval-rmse:2.066302\n"
       ]
      },
      {
       "output_type": "stream",
       "stream": "stderr",
       "text": [
        "[1897]\ttrain-rmse:1.602523\tval-rmse:2.065578\n",
        "[1898]\ttrain-rmse:1.601995\tval-rmse:2.065106\n"
       ]
      },
      {
       "output_type": "stream",
       "stream": "stderr",
       "text": [
        "[1899]\ttrain-rmse:1.601531\tval-rmse:2.064776\n",
        "[1900]\ttrain-rmse:1.600953\tval-rmse:2.064355\n"
       ]
      },
      {
       "output_type": "stream",
       "stream": "stderr",
       "text": [
        "[1901]\ttrain-rmse:1.600579\tval-rmse:2.064124\n",
        "[1902]\ttrain-rmse:1.600153\tval-rmse:2.063776\n"
       ]
      },
      {
       "output_type": "stream",
       "stream": "stderr",
       "text": [
        "[1903]\ttrain-rmse:1.599797\tval-rmse:2.063435\n",
        "[1904]\ttrain-rmse:1.599583\tval-rmse:2.063343\n"
       ]
      },
      {
       "output_type": "stream",
       "stream": "stderr",
       "text": [
        "[1905]\ttrain-rmse:1.599456\tval-rmse:2.063277\n",
        "[1906]\ttrain-rmse:1.598990\tval-rmse:2.062882\n"
       ]
      },
      {
       "output_type": "stream",
       "stream": "stderr",
       "text": [
        "[1907]\ttrain-rmse:1.598448\tval-rmse:2.062599\n",
        "[1908]\ttrain-rmse:1.598076\tval-rmse:2.062264\n"
       ]
      },
      {
       "output_type": "stream",
       "stream": "stderr",
       "text": [
        "[1909]\ttrain-rmse:1.597000\tval-rmse:2.061585\n",
        "[1910]\ttrain-rmse:1.596451\tval-rmse:2.061158\n"
       ]
      },
      {
       "output_type": "stream",
       "stream": "stderr",
       "text": [
        "[1911]\ttrain-rmse:1.595874\tval-rmse:2.060740\n",
        "[1912]\ttrain-rmse:1.595639\tval-rmse:2.060579\n"
       ]
      },
      {
       "output_type": "stream",
       "stream": "stderr",
       "text": [
        "[1913]\ttrain-rmse:1.595039\tval-rmse:2.060168\n",
        "[1914]\ttrain-rmse:1.594774\tval-rmse:2.060055\n"
       ]
      },
      {
       "output_type": "stream",
       "stream": "stderr",
       "text": [
        "[1915]\ttrain-rmse:1.594423\tval-rmse:2.059773\n",
        "[1916]\ttrain-rmse:1.593878\tval-rmse:2.059316\n"
       ]
      },
      {
       "output_type": "stream",
       "stream": "stderr",
       "text": [
        "[1917]\ttrain-rmse:1.593369\tval-rmse:2.058933\n",
        "[1918]\ttrain-rmse:1.593006\tval-rmse:2.058703\n"
       ]
      },
      {
       "output_type": "stream",
       "stream": "stderr",
       "text": [
        "[1919]\ttrain-rmse:1.592161\tval-rmse:2.058185\n",
        "[1920]\ttrain-rmse:1.591442\tval-rmse:2.057730\n"
       ]
      },
      {
       "output_type": "stream",
       "stream": "stderr",
       "text": [
        "[1921]\ttrain-rmse:1.590892\tval-rmse:2.057367\n",
        "[1922]\ttrain-rmse:1.590590\tval-rmse:2.057206\n"
       ]
      },
      {
       "output_type": "stream",
       "stream": "stderr",
       "text": [
        "[1923]\ttrain-rmse:1.590326\tval-rmse:2.057012\n",
        "[1924]\ttrain-rmse:1.589557\tval-rmse:2.056362\n"
       ]
      },
      {
       "output_type": "stream",
       "stream": "stderr",
       "text": [
        "[1925]\ttrain-rmse:1.589158\tval-rmse:2.056090\n",
        "[1926]\ttrain-rmse:1.588889\tval-rmse:2.055925\n"
       ]
      },
      {
       "output_type": "stream",
       "stream": "stderr",
       "text": [
        "[1927]\ttrain-rmse:1.588493\tval-rmse:2.055686\n",
        "[1928]\ttrain-rmse:1.587935\tval-rmse:2.055311\n"
       ]
      },
      {
       "output_type": "stream",
       "stream": "stderr",
       "text": [
        "[1929]\ttrain-rmse:1.587564\tval-rmse:2.055093\n",
        "[1930]\ttrain-rmse:1.587026\tval-rmse:2.054668\n"
       ]
      },
      {
       "output_type": "stream",
       "stream": "stderr",
       "text": [
        "[1931]\ttrain-rmse:1.586731\tval-rmse:2.054469\n",
        "[1932]\ttrain-rmse:1.586215\tval-rmse:2.054096\n"
       ]
      },
      {
       "output_type": "stream",
       "stream": "stderr",
       "text": [
        "[1933]\ttrain-rmse:1.585848\tval-rmse:2.053856\n",
        "[1934]\ttrain-rmse:1.585304\tval-rmse:2.053415\n"
       ]
      },
      {
       "output_type": "stream",
       "stream": "stderr",
       "text": [
        "[1935]\ttrain-rmse:1.584760\tval-rmse:2.052984\n",
        "[1936]\ttrain-rmse:1.584246\tval-rmse:2.052583\n"
       ]
      },
      {
       "output_type": "stream",
       "stream": "stderr",
       "text": [
        "[1937]\ttrain-rmse:1.583729\tval-rmse:2.052138\n",
        "[1938]\ttrain-rmse:1.583480\tval-rmse:2.051948\n"
       ]
      },
      {
       "output_type": "stream",
       "stream": "stderr",
       "text": [
        "[1939]\ttrain-rmse:1.583291\tval-rmse:2.051823\n",
        "[1940]\ttrain-rmse:1.582376\tval-rmse:2.051259\n"
       ]
      },
      {
       "output_type": "stream",
       "stream": "stderr",
       "text": [
        "[1941]\ttrain-rmse:1.582158\tval-rmse:2.051130\n",
        "[1942]\ttrain-rmse:1.581518\tval-rmse:2.050760\n"
       ]
      },
      {
       "output_type": "stream",
       "stream": "stderr",
       "text": [
        "[1943]\ttrain-rmse:1.581285\tval-rmse:2.050586\n",
        "[1944]\ttrain-rmse:1.580916\tval-rmse:2.050344\n"
       ]
      },
      {
       "output_type": "stream",
       "stream": "stderr",
       "text": [
        "[1945]\ttrain-rmse:1.580082\tval-rmse:2.049850\n",
        "[1946]\ttrain-rmse:1.579673\tval-rmse:2.049586\n"
       ]
      },
      {
       "output_type": "stream",
       "stream": "stderr",
       "text": [
        "[1947]\ttrain-rmse:1.579468\tval-rmse:2.049402\n",
        "[1948]\ttrain-rmse:1.579304\tval-rmse:2.049297\n"
       ]
      },
      {
       "output_type": "stream",
       "stream": "stderr",
       "text": [
        "[1949]\ttrain-rmse:1.579005\tval-rmse:2.049121\n",
        "[1950]\ttrain-rmse:1.578510\tval-rmse:2.048777\n"
       ]
      },
      {
       "output_type": "stream",
       "stream": "stderr",
       "text": [
        "[1951]\ttrain-rmse:1.577963\tval-rmse:2.048377\n",
        "[1952]\ttrain-rmse:1.577615\tval-rmse:2.048113\n"
       ]
      },
      {
       "output_type": "stream",
       "stream": "stderr",
       "text": [
        "[1953]\ttrain-rmse:1.577135\tval-rmse:2.047824\n",
        "[1954]\ttrain-rmse:1.576654\tval-rmse:2.047547\n"
       ]
      },
      {
       "output_type": "stream",
       "stream": "stderr",
       "text": [
        "[1955]\ttrain-rmse:1.576070\tval-rmse:2.047153\n",
        "[1956]\ttrain-rmse:1.575758\tval-rmse:2.046910\n"
       ]
      },
      {
       "output_type": "stream",
       "stream": "stderr",
       "text": [
        "[1957]\ttrain-rmse:1.575111\tval-rmse:2.046378\n",
        "[1958]\ttrain-rmse:1.574368\tval-rmse:2.045861\n"
       ]
      },
      {
       "output_type": "stream",
       "stream": "stderr",
       "text": [
        "[1959]\ttrain-rmse:1.574018\tval-rmse:2.045624\n",
        "[1960]\ttrain-rmse:1.573243\tval-rmse:2.045118\n"
       ]
      },
      {
       "output_type": "stream",
       "stream": "stderr",
       "text": [
        "[1961]\ttrain-rmse:1.572678\tval-rmse:2.044692\n",
        "[1962]\ttrain-rmse:1.571802\tval-rmse:2.044059\n"
       ]
      },
      {
       "output_type": "stream",
       "stream": "stderr",
       "text": [
        "[1963]\ttrain-rmse:1.571477\tval-rmse:2.043769\n",
        "[1964]\ttrain-rmse:1.570861\tval-rmse:2.043331\n"
       ]
      },
      {
       "output_type": "stream",
       "stream": "stderr",
       "text": [
        "[1965]\ttrain-rmse:1.570548\tval-rmse:2.043122\n",
        "[1966]\ttrain-rmse:1.570328\tval-rmse:2.043031\n"
       ]
      },
      {
       "output_type": "stream",
       "stream": "stderr",
       "text": [
        "[1967]\ttrain-rmse:1.569926\tval-rmse:2.042778\n",
        "[1968]\ttrain-rmse:1.569558\tval-rmse:2.042487\n"
       ]
      },
      {
       "output_type": "stream",
       "stream": "stderr",
       "text": [
        "[1969]\ttrain-rmse:1.569394\tval-rmse:2.042374\n",
        "[1970]\ttrain-rmse:1.569008\tval-rmse:2.042124\n"
       ]
      },
      {
       "output_type": "stream",
       "stream": "stderr",
       "text": [
        "[1971]\ttrain-rmse:1.568645\tval-rmse:2.041873\n",
        "[1972]\ttrain-rmse:1.567676\tval-rmse:2.041217\n"
       ]
      },
      {
       "output_type": "stream",
       "stream": "stderr",
       "text": [
        "[1973]\ttrain-rmse:1.567411\tval-rmse:2.040982\n",
        "[1974]\ttrain-rmse:1.567006\tval-rmse:2.040729\n"
       ]
      },
      {
       "output_type": "stream",
       "stream": "stderr",
       "text": [
        "[1975]\ttrain-rmse:1.566410\tval-rmse:2.040338\n",
        "[1976]\ttrain-rmse:1.565420\tval-rmse:2.039498\n"
       ]
      },
      {
       "output_type": "stream",
       "stream": "stderr",
       "text": [
        "[1977]\ttrain-rmse:1.565256\tval-rmse:2.039378\n",
        "[1978]\ttrain-rmse:1.565037\tval-rmse:2.039248\n"
       ]
      },
      {
       "output_type": "stream",
       "stream": "stderr",
       "text": [
        "[1979]\ttrain-rmse:1.564728\tval-rmse:2.039057\n",
        "[1980]\ttrain-rmse:1.563879\tval-rmse:2.038376\n"
       ]
      },
      {
       "output_type": "stream",
       "stream": "stderr",
       "text": [
        "[1981]\ttrain-rmse:1.563536\tval-rmse:2.038167\n",
        "[1982]\ttrain-rmse:1.563007\tval-rmse:2.037776\n"
       ]
      },
      {
       "output_type": "stream",
       "stream": "stderr",
       "text": [
        "[1983]\ttrain-rmse:1.562697\tval-rmse:2.037615\n",
        "[1984]\ttrain-rmse:1.562445\tval-rmse:2.037425\n"
       ]
      },
      {
       "output_type": "stream",
       "stream": "stderr",
       "text": [
        "[1985]\ttrain-rmse:1.561964\tval-rmse:2.037147\n",
        "[1986]\ttrain-rmse:1.561620\tval-rmse:2.036827\n"
       ]
      },
      {
       "output_type": "stream",
       "stream": "stderr",
       "text": [
        "[1987]\ttrain-rmse:1.560992\tval-rmse:2.036471\n",
        "[1988]\ttrain-rmse:1.560433\tval-rmse:2.036009\n"
       ]
      },
      {
       "output_type": "stream",
       "stream": "stderr",
       "text": [
        "[1989]\ttrain-rmse:1.560188\tval-rmse:2.035802\n",
        "[1990]\ttrain-rmse:1.559930\tval-rmse:2.035650\n"
       ]
      },
      {
       "output_type": "stream",
       "stream": "stderr",
       "text": [
        "[1991]\ttrain-rmse:1.559739\tval-rmse:2.035469\n",
        "[1992]\ttrain-rmse:1.559445\tval-rmse:2.035239\n"
       ]
      },
      {
       "output_type": "stream",
       "stream": "stderr",
       "text": [
        "[1993]\ttrain-rmse:1.558459\tval-rmse:2.034556\n",
        "[1994]\ttrain-rmse:1.557912\tval-rmse:2.034201\n"
       ]
      },
      {
       "output_type": "stream",
       "stream": "stderr",
       "text": [
        "[1995]\ttrain-rmse:1.557352\tval-rmse:2.033814\n",
        "[1996]\ttrain-rmse:1.556494\tval-rmse:2.033149\n"
       ]
      },
      {
       "output_type": "stream",
       "stream": "stderr",
       "text": [
        "[1997]\ttrain-rmse:1.556300\tval-rmse:2.033001\n",
        "[1998]\ttrain-rmse:1.555833\tval-rmse:2.032691\n"
       ]
      },
      {
       "output_type": "stream",
       "stream": "stderr",
       "text": [
        "[1999]\ttrain-rmse:1.555436\tval-rmse:2.032428\n",
        "[2000]\ttrain-rmse:1.554745\tval-rmse:2.031945\n"
       ]
      },
      {
       "output_type": "stream",
       "stream": "stderr",
       "text": [
        "[2001]\ttrain-rmse:1.554342\tval-rmse:2.031671\n",
        "[2002]\ttrain-rmse:1.553790\tval-rmse:2.031250\n"
       ]
      },
      {
       "output_type": "stream",
       "stream": "stderr",
       "text": [
        "[2003]\ttrain-rmse:1.553014\tval-rmse:2.030752\n",
        "[2004]\ttrain-rmse:1.552529\tval-rmse:2.030368\n"
       ]
      },
      {
       "output_type": "stream",
       "stream": "stderr",
       "text": [
        "[2005]\ttrain-rmse:1.552088\tval-rmse:2.030103\n",
        "[2006]\ttrain-rmse:1.550781\tval-rmse:2.029239\n"
       ]
      },
      {
       "output_type": "stream",
       "stream": "stderr",
       "text": [
        "[2007]\ttrain-rmse:1.550253\tval-rmse:2.028792\n",
        "[2008]\ttrain-rmse:1.549762\tval-rmse:2.028474\n"
       ]
      },
      {
       "output_type": "stream",
       "stream": "stderr",
       "text": [
        "[2009]\ttrain-rmse:1.549302\tval-rmse:2.028138\n",
        "[2010]\ttrain-rmse:1.548615\tval-rmse:2.027767\n"
       ]
      },
      {
       "output_type": "stream",
       "stream": "stderr",
       "text": [
        "[2011]\ttrain-rmse:1.548366\tval-rmse:2.027543\n",
        "[2012]\ttrain-rmse:1.547914\tval-rmse:2.027209\n"
       ]
      },
      {
       "output_type": "stream",
       "stream": "stderr",
       "text": [
        "[2013]\ttrain-rmse:1.547088\tval-rmse:2.026560\n",
        "[2014]\ttrain-rmse:1.546704\tval-rmse:2.026367\n"
       ]
      },
      {
       "output_type": "stream",
       "stream": "stderr",
       "text": [
        "[2015]\ttrain-rmse:1.546466\tval-rmse:2.026164\n",
        "[2016]\ttrain-rmse:1.546163\tval-rmse:2.025970\n"
       ]
      },
      {
       "output_type": "stream",
       "stream": "stderr",
       "text": [
        "[2017]\ttrain-rmse:1.545869\tval-rmse:2.025797\n",
        "[2018]\ttrain-rmse:1.545594\tval-rmse:2.025639\n"
       ]
      },
      {
       "output_type": "stream",
       "stream": "stderr",
       "text": [
        "[2019]\ttrain-rmse:1.545060\tval-rmse:2.025286\n",
        "[2020]\ttrain-rmse:1.544789\tval-rmse:2.025135\n"
       ]
      },
      {
       "output_type": "stream",
       "stream": "stderr",
       "text": [
        "[2021]\ttrain-rmse:1.543975\tval-rmse:2.024625\n",
        "[2022]\ttrain-rmse:1.543806\tval-rmse:2.024507\n"
       ]
      },
      {
       "output_type": "stream",
       "stream": "stderr",
       "text": [
        "[2023]\ttrain-rmse:1.542830\tval-rmse:2.023785\n",
        "[2024]\ttrain-rmse:1.542056\tval-rmse:2.023278\n"
       ]
      },
      {
       "output_type": "stream",
       "stream": "stderr",
       "text": [
        "[2025]\ttrain-rmse:1.541337\tval-rmse:2.022762\n",
        "[2026]\ttrain-rmse:1.541108\tval-rmse:2.022582\n"
       ]
      },
      {
       "output_type": "stream",
       "stream": "stderr",
       "text": [
        "[2027]\ttrain-rmse:1.540756\tval-rmse:2.022392\n",
        "[2028]\ttrain-rmse:1.539847\tval-rmse:2.021787\n"
       ]
      },
      {
       "output_type": "stream",
       "stream": "stderr",
       "text": [
        "[2029]\ttrain-rmse:1.539077\tval-rmse:2.021266\n",
        "[2030]\ttrain-rmse:1.538484\tval-rmse:2.020761\n"
       ]
      },
      {
       "output_type": "stream",
       "stream": "stderr",
       "text": [
        "[2031]\ttrain-rmse:1.537710\tval-rmse:2.020180\n",
        "[2032]\ttrain-rmse:1.537416\tval-rmse:2.019940\n"
       ]
      },
      {
       "output_type": "stream",
       "stream": "stderr",
       "text": [
        "[2033]\ttrain-rmse:1.537014\tval-rmse:2.019690\n",
        "[2034]\ttrain-rmse:1.536740\tval-rmse:2.019485\n"
       ]
      },
      {
       "output_type": "stream",
       "stream": "stderr",
       "text": [
        "[2035]\ttrain-rmse:1.536350\tval-rmse:2.019237\n",
        "[2036]\ttrain-rmse:1.536184\tval-rmse:2.019120\n"
       ]
      },
      {
       "output_type": "stream",
       "stream": "stderr",
       "text": [
        "[2037]\ttrain-rmse:1.535350\tval-rmse:2.018548\n",
        "[2038]\ttrain-rmse:1.534878\tval-rmse:2.018166\n"
       ]
      },
      {
       "output_type": "stream",
       "stream": "stderr",
       "text": [
        "[2039]\ttrain-rmse:1.534111\tval-rmse:2.017565\n",
        "[2040]\ttrain-rmse:1.533557\tval-rmse:2.017131\n"
       ]
      },
      {
       "output_type": "stream",
       "stream": "stderr",
       "text": [
        "[2041]\ttrain-rmse:1.533413\tval-rmse:2.017016\n",
        "[2042]\ttrain-rmse:1.533004\tval-rmse:2.016732\n"
       ]
      },
      {
       "output_type": "stream",
       "stream": "stderr",
       "text": [
        "[2043]\ttrain-rmse:1.532644\tval-rmse:2.016534\n",
        "[2044]\ttrain-rmse:1.531716\tval-rmse:2.015883\n"
       ]
      },
      {
       "output_type": "stream",
       "stream": "stderr",
       "text": [
        "[2045]\ttrain-rmse:1.530842\tval-rmse:2.015360\n",
        "[2046]\ttrain-rmse:1.529690\tval-rmse:2.014552\n"
       ]
      },
      {
       "output_type": "stream",
       "stream": "stderr",
       "text": [
        "[2047]\ttrain-rmse:1.529435\tval-rmse:2.014358\n",
        "[2048]\ttrain-rmse:1.528472\tval-rmse:2.013674\n"
       ]
      },
      {
       "output_type": "stream",
       "stream": "stderr",
       "text": [
        "[2049]\ttrain-rmse:1.528093\tval-rmse:2.013417\n",
        "[2050]\ttrain-rmse:1.527720\tval-rmse:2.013151\n"
       ]
      },
      {
       "output_type": "stream",
       "stream": "stderr",
       "text": [
        "[2051]\ttrain-rmse:1.527310\tval-rmse:2.012867\n",
        "[2052]\ttrain-rmse:1.526847\tval-rmse:2.012511\n"
       ]
      },
      {
       "output_type": "stream",
       "stream": "stderr",
       "text": [
        "[2053]\ttrain-rmse:1.526240\tval-rmse:2.012062\n",
        "[2054]\ttrain-rmse:1.525708\tval-rmse:2.011749\n"
       ]
      },
      {
       "output_type": "stream",
       "stream": "stderr",
       "text": [
        "[2055]\ttrain-rmse:1.525508\tval-rmse:2.011621\n",
        "[2056]\ttrain-rmse:1.524794\tval-rmse:2.011110\n"
       ]
      },
      {
       "output_type": "stream",
       "stream": "stderr",
       "text": [
        "[2057]\ttrain-rmse:1.523751\tval-rmse:2.010358\n",
        "[2058]\ttrain-rmse:1.523179\tval-rmse:2.009926\n"
       ]
      },
      {
       "output_type": "stream",
       "stream": "stderr",
       "text": [
        "[2059]\ttrain-rmse:1.522517\tval-rmse:2.009345\n",
        "[2060]\ttrain-rmse:1.521902\tval-rmse:2.008942\n"
       ]
      },
      {
       "output_type": "stream",
       "stream": "stderr",
       "text": [
        "[2061]\ttrain-rmse:1.521501\tval-rmse:2.008765\n",
        "[2062]\ttrain-rmse:1.520815\tval-rmse:2.008422\n"
       ]
      },
      {
       "output_type": "stream",
       "stream": "stderr",
       "text": [
        "[2063]\ttrain-rmse:1.520504\tval-rmse:2.008205\n",
        "[2064]\ttrain-rmse:1.520142\tval-rmse:2.007953\n"
       ]
      },
      {
       "output_type": "stream",
       "stream": "stderr",
       "text": [
        "[2065]\ttrain-rmse:1.519785\tval-rmse:2.007718\n",
        "[2066]\ttrain-rmse:1.519457\tval-rmse:2.007478\n"
       ]
      },
      {
       "output_type": "stream",
       "stream": "stderr",
       "text": [
        "[2067]\ttrain-rmse:1.519255\tval-rmse:2.007354\n",
        "[2068]\ttrain-rmse:1.518784\tval-rmse:2.007025\n"
       ]
      },
      {
       "output_type": "stream",
       "stream": "stderr",
       "text": [
        "[2069]\ttrain-rmse:1.518445\tval-rmse:2.006825\n",
        "[2070]\ttrain-rmse:1.518262\tval-rmse:2.006718\n"
       ]
      },
      {
       "output_type": "stream",
       "stream": "stderr",
       "text": [
        "[2071]\ttrain-rmse:1.517521\tval-rmse:2.006190\n",
        "[2072]\ttrain-rmse:1.517116\tval-rmse:2.005927\n"
       ]
      },
      {
       "output_type": "stream",
       "stream": "stderr",
       "text": [
        "[2073]\ttrain-rmse:1.516657\tval-rmse:2.005589\n",
        "[2074]\ttrain-rmse:1.516123\tval-rmse:2.005191\n"
       ]
      },
      {
       "output_type": "stream",
       "stream": "stderr",
       "text": [
        "[2075]\ttrain-rmse:1.515836\tval-rmse:2.004977\n",
        "[2076]\ttrain-rmse:1.515404\tval-rmse:2.004697\n"
       ]
      },
      {
       "output_type": "stream",
       "stream": "stderr",
       "text": [
        "[2077]\ttrain-rmse:1.515050\tval-rmse:2.004484\n",
        "[2078]\ttrain-rmse:1.514623\tval-rmse:2.004172\n"
       ]
      },
      {
       "output_type": "stream",
       "stream": "stderr",
       "text": [
        "[2079]\ttrain-rmse:1.514178\tval-rmse:2.003929\n",
        "[2080]\ttrain-rmse:1.513907\tval-rmse:2.003736\n"
       ]
      },
      {
       "output_type": "stream",
       "stream": "stderr",
       "text": [
        "[2081]\ttrain-rmse:1.513534\tval-rmse:2.003495\n",
        "[2082]\ttrain-rmse:1.513345\tval-rmse:2.003401\n"
       ]
      },
      {
       "output_type": "stream",
       "stream": "stderr",
       "text": [
        "[2083]\ttrain-rmse:1.512745\tval-rmse:2.002938\n",
        "[2084]\ttrain-rmse:1.512362\tval-rmse:2.002668\n"
       ]
      },
      {
       "output_type": "stream",
       "stream": "stderr",
       "text": [
        "[2085]\ttrain-rmse:1.512132\tval-rmse:2.002530\n",
        "[2086]\ttrain-rmse:1.511444\tval-rmse:2.002097\n"
       ]
      },
      {
       "output_type": "stream",
       "stream": "stderr",
       "text": [
        "[2087]\ttrain-rmse:1.510748\tval-rmse:2.001623\n",
        "[2088]\ttrain-rmse:1.510330\tval-rmse:2.001386\n"
       ]
      },
      {
       "output_type": "stream",
       "stream": "stderr",
       "text": [
        "[2089]\ttrain-rmse:1.509512\tval-rmse:2.000905\n",
        "[2090]\ttrain-rmse:1.508838\tval-rmse:2.000472\n"
       ]
      },
      {
       "output_type": "stream",
       "stream": "stderr",
       "text": [
        "[2091]\ttrain-rmse:1.508365\tval-rmse:2.000066\n",
        "[2092]\ttrain-rmse:1.508105\tval-rmse:1.999866\n"
       ]
      },
      {
       "output_type": "stream",
       "stream": "stderr",
       "text": [
        "[2093]\ttrain-rmse:1.507732\tval-rmse:1.999705\n",
        "[2094]\ttrain-rmse:1.506246\tval-rmse:1.998718\n"
       ]
      },
      {
       "output_type": "stream",
       "stream": "stderr",
       "text": [
        "[2095]\ttrain-rmse:1.506147\tval-rmse:1.998648\n",
        "[2096]\ttrain-rmse:1.505717\tval-rmse:1.998357\n"
       ]
      },
      {
       "output_type": "stream",
       "stream": "stderr",
       "text": [
        "[2097]\ttrain-rmse:1.505405\tval-rmse:1.998146\n",
        "[2098]\ttrain-rmse:1.504941\tval-rmse:1.997849\n"
       ]
      },
      {
       "output_type": "stream",
       "stream": "stderr",
       "text": [
        "[2099]\ttrain-rmse:1.504646\tval-rmse:1.997568\n",
        "[2100]\ttrain-rmse:1.504229\tval-rmse:1.997345\n"
       ]
      },
      {
       "output_type": "stream",
       "stream": "stderr",
       "text": [
        "[2101]\ttrain-rmse:1.503707\tval-rmse:1.996955\n",
        "[2102]\ttrain-rmse:1.503140\tval-rmse:1.996614\n"
       ]
      },
      {
       "output_type": "stream",
       "stream": "stderr",
       "text": [
        "[2103]\ttrain-rmse:1.502414\tval-rmse:1.996157\n",
        "[2104]\ttrain-rmse:1.501473\tval-rmse:1.995387\n"
       ]
      },
      {
       "output_type": "stream",
       "stream": "stderr",
       "text": [
        "[2105]\ttrain-rmse:1.501247\tval-rmse:1.995240\n",
        "[2106]\ttrain-rmse:1.500836\tval-rmse:1.994975\n"
       ]
      },
      {
       "output_type": "stream",
       "stream": "stderr",
       "text": [
        "[2107]\ttrain-rmse:1.500157\tval-rmse:1.994505\n",
        "[2108]\ttrain-rmse:1.499690\tval-rmse:1.994242\n"
       ]
      },
      {
       "output_type": "stream",
       "stream": "stderr",
       "text": [
        "[2109]\ttrain-rmse:1.499542\tval-rmse:1.994108\n",
        "[2110]\ttrain-rmse:1.499156\tval-rmse:1.993866\n"
       ]
      },
      {
       "output_type": "stream",
       "stream": "stderr",
       "text": [
        "[2111]\ttrain-rmse:1.498785\tval-rmse:1.993669\n",
        "[2112]\ttrain-rmse:1.498460\tval-rmse:1.993453\n"
       ]
      },
      {
       "output_type": "stream",
       "stream": "stderr",
       "text": [
        "[2113]\ttrain-rmse:1.498141\tval-rmse:1.993311\n",
        "[2114]\ttrain-rmse:1.497214\tval-rmse:1.992656\n"
       ]
      },
      {
       "output_type": "stream",
       "stream": "stderr",
       "text": [
        "[2115]\ttrain-rmse:1.496706\tval-rmse:1.992325\n",
        "[2116]\ttrain-rmse:1.496491\tval-rmse:1.992157\n"
       ]
      },
      {
       "output_type": "stream",
       "stream": "stderr",
       "text": [
        "[2117]\ttrain-rmse:1.496114\tval-rmse:1.991925\n",
        "[2118]\ttrain-rmse:1.495315\tval-rmse:1.991294\n"
       ]
      },
      {
       "output_type": "stream",
       "stream": "stderr",
       "text": [
        "[2119]\ttrain-rmse:1.495003\tval-rmse:1.991105\n",
        "[2120]\ttrain-rmse:1.494227\tval-rmse:1.990570\n"
       ]
      },
      {
       "output_type": "stream",
       "stream": "stderr",
       "text": [
        "[2121]\ttrain-rmse:1.493987\tval-rmse:1.990417\n",
        "[2122]\ttrain-rmse:1.493275\tval-rmse:1.989964\n"
       ]
      },
      {
       "output_type": "stream",
       "stream": "stderr",
       "text": [
        "[2123]\ttrain-rmse:1.492715\tval-rmse:1.989596\n",
        "[2124]\ttrain-rmse:1.492468\tval-rmse:1.989407\n"
       ]
      },
      {
       "output_type": "stream",
       "stream": "stderr",
       "text": [
        "[2125]\ttrain-rmse:1.492210\tval-rmse:1.989224\n",
        "[2126]\ttrain-rmse:1.491593\tval-rmse:1.988848\n"
       ]
      },
      {
       "output_type": "stream",
       "stream": "stderr",
       "text": [
        "[2127]\ttrain-rmse:1.491349\tval-rmse:1.988668\n",
        "[2128]\ttrain-rmse:1.491123\tval-rmse:1.988446\n"
       ]
      },
      {
       "output_type": "stream",
       "stream": "stderr",
       "text": [
        "[2129]\ttrain-rmse:1.490949\tval-rmse:1.988384\n",
        "[2130]\ttrain-rmse:1.490351\tval-rmse:1.987965\n"
       ]
      },
      {
       "output_type": "stream",
       "stream": "stderr",
       "text": [
        "[2131]\ttrain-rmse:1.490094\tval-rmse:1.987797\n",
        "[2132]\ttrain-rmse:1.489825\tval-rmse:1.987653\n"
       ]
      },
      {
       "output_type": "stream",
       "stream": "stderr",
       "text": [
        "[2133]\ttrain-rmse:1.489031\tval-rmse:1.987134\n",
        "[2134]\ttrain-rmse:1.488739\tval-rmse:1.986902\n"
       ]
      },
      {
       "output_type": "stream",
       "stream": "stderr",
       "text": [
        "[2135]\ttrain-rmse:1.488468\tval-rmse:1.986758\n",
        "[2136]\ttrain-rmse:1.488199\tval-rmse:1.986657\n"
       ]
      },
      {
       "output_type": "stream",
       "stream": "stderr",
       "text": [
        "[2137]\ttrain-rmse:1.487989\tval-rmse:1.986528\n",
        "[2138]\ttrain-rmse:1.487419\tval-rmse:1.986128\n"
       ]
      },
      {
       "output_type": "stream",
       "stream": "stderr",
       "text": [
        "[2139]\ttrain-rmse:1.487017\tval-rmse:1.985836\n",
        "[2140]\ttrain-rmse:1.486611\tval-rmse:1.985504\n"
       ]
      },
      {
       "output_type": "stream",
       "stream": "stderr",
       "text": [
        "[2141]\ttrain-rmse:1.486308\tval-rmse:1.985293\n",
        "[2142]\ttrain-rmse:1.486099\tval-rmse:1.985142\n"
       ]
      },
      {
       "output_type": "stream",
       "stream": "stderr",
       "text": [
        "[2143]\ttrain-rmse:1.485411\tval-rmse:1.984582\n",
        "[2144]\ttrain-rmse:1.485177\tval-rmse:1.984459\n"
       ]
      },
      {
       "output_type": "stream",
       "stream": "stderr",
       "text": [
        "[2145]\ttrain-rmse:1.485014\tval-rmse:1.984301\n",
        "[2146]\ttrain-rmse:1.484312\tval-rmse:1.983822\n"
       ]
      },
      {
       "output_type": "stream",
       "stream": "stderr",
       "text": [
        "[2147]\ttrain-rmse:1.483890\tval-rmse:1.983541\n",
        "[2148]\ttrain-rmse:1.483534\tval-rmse:1.983322\n"
       ]
      },
      {
       "output_type": "stream",
       "stream": "stderr",
       "text": [
        "[2149]\ttrain-rmse:1.483274\tval-rmse:1.983209\n",
        "[2150]\ttrain-rmse:1.482995\tval-rmse:1.983042\n"
       ]
      },
      {
       "output_type": "stream",
       "stream": "stderr",
       "text": [
        "[2151]\ttrain-rmse:1.482216\tval-rmse:1.982552\n",
        "[2152]\ttrain-rmse:1.481992\tval-rmse:1.982400\n"
       ]
      },
      {
       "output_type": "stream",
       "stream": "stderr",
       "text": [
        "[2153]\ttrain-rmse:1.481335\tval-rmse:1.981825\n",
        "[2154]\ttrain-rmse:1.480925\tval-rmse:1.981543\n"
       ]
      },
      {
       "output_type": "stream",
       "stream": "stderr",
       "text": [
        "[2155]\ttrain-rmse:1.480571\tval-rmse:1.981265\n",
        "[2156]\ttrain-rmse:1.480337\tval-rmse:1.981128\n"
       ]
      },
      {
       "output_type": "stream",
       "stream": "stderr",
       "text": [
        "[2157]\ttrain-rmse:1.480012\tval-rmse:1.980800\n",
        "[2158]\ttrain-rmse:1.479734\tval-rmse:1.980675\n"
       ]
      },
      {
       "output_type": "stream",
       "stream": "stderr",
       "text": [
        "[2159]\ttrain-rmse:1.479354\tval-rmse:1.980402\n",
        "[2160]\ttrain-rmse:1.479114\tval-rmse:1.980279\n"
       ]
      },
      {
       "output_type": "stream",
       "stream": "stderr",
       "text": [
        "[2161]\ttrain-rmse:1.478874\tval-rmse:1.980115\n",
        "[2162]\ttrain-rmse:1.478124\tval-rmse:1.979687\n"
       ]
      },
      {
       "output_type": "stream",
       "stream": "stderr",
       "text": [
        "[2163]\ttrain-rmse:1.477854\tval-rmse:1.979547\n",
        "[2164]\ttrain-rmse:1.477287\tval-rmse:1.979138\n"
       ]
      },
      {
       "output_type": "stream",
       "stream": "stderr",
       "text": [
        "[2165]\ttrain-rmse:1.477106\tval-rmse:1.979002\n",
        "[2166]\ttrain-rmse:1.476758\tval-rmse:1.978670\n"
       ]
      },
      {
       "output_type": "stream",
       "stream": "stderr",
       "text": [
        "[2167]\ttrain-rmse:1.476348\tval-rmse:1.978390\n",
        "[2168]\ttrain-rmse:1.476144\tval-rmse:1.978237\n"
       ]
      },
      {
       "output_type": "stream",
       "stream": "stderr",
       "text": [
        "[2169]\ttrain-rmse:1.475198\tval-rmse:1.977641\n",
        "[2170]\ttrain-rmse:1.474988\tval-rmse:1.977531\n"
       ]
      },
      {
       "output_type": "stream",
       "stream": "stderr",
       "text": [
        "[2171]\ttrain-rmse:1.474757\tval-rmse:1.977426\n",
        "[2172]\ttrain-rmse:1.474189\tval-rmse:1.977046\n"
       ]
      },
      {
       "output_type": "stream",
       "stream": "stderr",
       "text": [
        "[2173]\ttrain-rmse:1.473677\tval-rmse:1.976687\n",
        "[2174]\ttrain-rmse:1.473282\tval-rmse:1.976408\n"
       ]
      },
      {
       "output_type": "stream",
       "stream": "stderr",
       "text": [
        "[2175]\ttrain-rmse:1.472944\tval-rmse:1.976189\n",
        "[2176]\ttrain-rmse:1.472264\tval-rmse:1.975669\n"
       ]
      },
      {
       "output_type": "stream",
       "stream": "stderr",
       "text": [
        "[2177]\ttrain-rmse:1.472031\tval-rmse:1.975528\n",
        "[2178]\ttrain-rmse:1.471108\tval-rmse:1.974948\n"
       ]
      },
      {
       "output_type": "stream",
       "stream": "stderr",
       "text": [
        "[2179]\ttrain-rmse:1.470747\tval-rmse:1.974776\n",
        "[2180]\ttrain-rmse:1.470271\tval-rmse:1.974445\n"
       ]
      },
      {
       "output_type": "stream",
       "stream": "stderr",
       "text": [
        "[2181]\ttrain-rmse:1.470035\tval-rmse:1.974256\n",
        "[2182]\ttrain-rmse:1.469803\tval-rmse:1.974110\n"
       ]
      },
      {
       "output_type": "stream",
       "stream": "stderr",
       "text": [
        "[2183]\ttrain-rmse:1.468942\tval-rmse:1.973474\n",
        "[2184]\ttrain-rmse:1.468581\tval-rmse:1.973227\n"
       ]
      },
      {
       "output_type": "stream",
       "stream": "stderr",
       "text": [
        "[2185]\ttrain-rmse:1.468309\tval-rmse:1.973050\n",
        "[2186]\ttrain-rmse:1.467636\tval-rmse:1.972602\n"
       ]
      },
      {
       "output_type": "stream",
       "stream": "stderr",
       "text": [
        "[2187]\ttrain-rmse:1.467348\tval-rmse:1.972401\n",
        "[2188]\ttrain-rmse:1.467041\tval-rmse:1.972189\n"
       ]
      },
      {
       "output_type": "stream",
       "stream": "stderr",
       "text": [
        "[2189]\ttrain-rmse:1.466246\tval-rmse:1.971555\n",
        "[2190]\ttrain-rmse:1.465493\tval-rmse:1.971068\n"
       ]
      },
      {
       "output_type": "stream",
       "stream": "stderr",
       "text": [
        "[2191]\ttrain-rmse:1.464671\tval-rmse:1.970399\n",
        "[2192]\ttrain-rmse:1.464462\tval-rmse:1.970263\n"
       ]
      },
      {
       "output_type": "stream",
       "stream": "stderr",
       "text": [
        "[2193]\ttrain-rmse:1.463313\tval-rmse:1.969634\n",
        "[2194]\ttrain-rmse:1.462768\tval-rmse:1.969287\n"
       ]
      },
      {
       "output_type": "stream",
       "stream": "stderr",
       "text": [
        "[2195]\ttrain-rmse:1.462560\tval-rmse:1.969190\n",
        "[2196]\ttrain-rmse:1.461668\tval-rmse:1.968473\n"
       ]
      },
      {
       "output_type": "stream",
       "stream": "stderr",
       "text": [
        "[2197]\ttrain-rmse:1.461110\tval-rmse:1.968079\n",
        "[2198]\ttrain-rmse:1.460682\tval-rmse:1.967834\n"
       ]
      },
      {
       "output_type": "stream",
       "stream": "stderr",
       "text": [
        "[2199]\ttrain-rmse:1.460070\tval-rmse:1.967315\n",
        "[2200]\ttrain-rmse:1.459485\tval-rmse:1.966965\n"
       ]
      },
      {
       "output_type": "stream",
       "stream": "stderr",
       "text": [
        "[2201]\ttrain-rmse:1.458970\tval-rmse:1.966636\n",
        "[2202]\ttrain-rmse:1.458462\tval-rmse:1.966314\n"
       ]
      },
      {
       "output_type": "stream",
       "stream": "stderr",
       "text": [
        "[2203]\ttrain-rmse:1.457616\tval-rmse:1.965734\n",
        "[2204]\ttrain-rmse:1.457251\tval-rmse:1.965478\n"
       ]
      },
      {
       "output_type": "stream",
       "stream": "stderr",
       "text": [
        "[2205]\ttrain-rmse:1.456970\tval-rmse:1.965257\n",
        "[2206]\ttrain-rmse:1.456449\tval-rmse:1.964891\n"
       ]
      },
      {
       "output_type": "stream",
       "stream": "stderr",
       "text": [
        "[2207]\ttrain-rmse:1.456029\tval-rmse:1.964622\n",
        "[2208]\ttrain-rmse:1.455788\tval-rmse:1.964454\n"
       ]
      },
      {
       "output_type": "stream",
       "stream": "stderr",
       "text": [
        "[2209]\ttrain-rmse:1.455318\tval-rmse:1.964103\n",
        "[2210]\ttrain-rmse:1.454937\tval-rmse:1.963850\n"
       ]
      },
      {
       "output_type": "stream",
       "stream": "stderr",
       "text": [
        "[2211]\ttrain-rmse:1.454776\tval-rmse:1.963741\n",
        "[2212]\ttrain-rmse:1.454153\tval-rmse:1.963317\n"
       ]
      },
      {
       "output_type": "stream",
       "stream": "stderr",
       "text": [
        "[2213]\ttrain-rmse:1.453865\tval-rmse:1.963165\n",
        "[2214]\ttrain-rmse:1.453394\tval-rmse:1.962908\n"
       ]
      },
      {
       "output_type": "stream",
       "stream": "stderr",
       "text": [
        "[2215]\ttrain-rmse:1.452816\tval-rmse:1.962467\n",
        "[2216]\ttrain-rmse:1.452096\tval-rmse:1.961936\n"
       ]
      },
      {
       "output_type": "stream",
       "stream": "stderr",
       "text": [
        "[2217]\ttrain-rmse:1.451710\tval-rmse:1.961601\n",
        "[2218]\ttrain-rmse:1.451104\tval-rmse:1.961174\n"
       ]
      },
      {
       "output_type": "stream",
       "stream": "stderr",
       "text": [
        "[2219]\ttrain-rmse:1.450742\tval-rmse:1.960923\n",
        "[2220]\ttrain-rmse:1.450430\tval-rmse:1.960700\n"
       ]
      },
      {
       "output_type": "stream",
       "stream": "stderr",
       "text": [
        "[2221]\ttrain-rmse:1.449524\tval-rmse:1.959989\n",
        "[2222]\ttrain-rmse:1.449079\tval-rmse:1.959738\n"
       ]
      },
      {
       "output_type": "stream",
       "stream": "stderr",
       "text": [
        "[2223]\ttrain-rmse:1.448117\tval-rmse:1.959046\n",
        "[2224]\ttrain-rmse:1.447833\tval-rmse:1.958887\n"
       ]
      },
      {
       "output_type": "stream",
       "stream": "stderr",
       "text": [
        "[2225]\ttrain-rmse:1.447551\tval-rmse:1.958717\n",
        "[2226]\ttrain-rmse:1.446935\tval-rmse:1.958352\n"
       ]
      },
      {
       "output_type": "stream",
       "stream": "stderr",
       "text": [
        "[2227]\ttrain-rmse:1.446388\tval-rmse:1.958018\n",
        "[2228]\ttrain-rmse:1.446178\tval-rmse:1.957896\n"
       ]
      },
      {
       "output_type": "stream",
       "stream": "stderr",
       "text": [
        "[2229]\ttrain-rmse:1.445772\tval-rmse:1.957653\n",
        "[2230]\ttrain-rmse:1.445064\tval-rmse:1.957186\n"
       ]
      },
      {
       "output_type": "stream",
       "stream": "stderr",
       "text": [
        "[2231]\ttrain-rmse:1.444715\tval-rmse:1.956940\n",
        "[2232]\ttrain-rmse:1.444396\tval-rmse:1.956754\n"
       ]
      },
      {
       "output_type": "stream",
       "stream": "stderr",
       "text": [
        "[2233]\ttrain-rmse:1.443919\tval-rmse:1.956457\n",
        "[2234]\ttrain-rmse:1.443065\tval-rmse:1.955926\n"
       ]
      },
      {
       "output_type": "stream",
       "stream": "stderr",
       "text": [
        "[2235]\ttrain-rmse:1.442668\tval-rmse:1.955624\n",
        "[2236]\ttrain-rmse:1.442085\tval-rmse:1.955274\n"
       ]
      },
      {
       "output_type": "stream",
       "stream": "stderr",
       "text": [
        "[2237]\ttrain-rmse:1.441623\tval-rmse:1.954907\n",
        "[2238]\ttrain-rmse:1.441523\tval-rmse:1.954834\n"
       ]
      },
      {
       "output_type": "stream",
       "stream": "stderr",
       "text": [
        "[2239]\ttrain-rmse:1.440981\tval-rmse:1.954408\n",
        "[2240]\ttrain-rmse:1.440345\tval-rmse:1.953988\n"
       ]
      },
      {
       "output_type": "stream",
       "stream": "stderr",
       "text": [
        "[2241]\ttrain-rmse:1.440149\tval-rmse:1.953857\n",
        "[2242]\ttrain-rmse:1.439622\tval-rmse:1.953564\n"
       ]
      },
      {
       "output_type": "stream",
       "stream": "stderr",
       "text": [
        "[2243]\ttrain-rmse:1.439402\tval-rmse:1.953444\n",
        "[2244]\ttrain-rmse:1.438884\tval-rmse:1.953124\n"
       ]
      },
      {
       "output_type": "stream",
       "stream": "stderr",
       "text": [
        "[2245]\ttrain-rmse:1.438596\tval-rmse:1.952899\n",
        "[2246]\ttrain-rmse:1.438147\tval-rmse:1.952576\n"
       ]
      },
      {
       "output_type": "stream",
       "stream": "stderr",
       "text": [
        "[2247]\ttrain-rmse:1.437744\tval-rmse:1.952250\n",
        "[2248]\ttrain-rmse:1.437456\tval-rmse:1.952059\n"
       ]
      },
      {
       "output_type": "stream",
       "stream": "stderr",
       "text": [
        "[2249]\ttrain-rmse:1.437197\tval-rmse:1.951836\n",
        "[2250]\ttrain-rmse:1.436989\tval-rmse:1.951696\n"
       ]
      },
      {
       "output_type": "stream",
       "stream": "stderr",
       "text": [
        "[2251]\ttrain-rmse:1.436524\tval-rmse:1.951377\n",
        "[2252]\ttrain-rmse:1.435719\tval-rmse:1.950905\n"
       ]
      },
      {
       "output_type": "stream",
       "stream": "stderr",
       "text": [
        "[2253]\ttrain-rmse:1.435605\tval-rmse:1.950863\n",
        "[2254]\ttrain-rmse:1.434925\tval-rmse:1.950482\n"
       ]
      },
      {
       "output_type": "stream",
       "stream": "stderr",
       "text": [
        "[2255]\ttrain-rmse:1.434587\tval-rmse:1.950230\n",
        "[2256]\ttrain-rmse:1.434416\tval-rmse:1.950144\n"
       ]
      },
      {
       "output_type": "stream",
       "stream": "stderr",
       "text": [
        "[2257]\ttrain-rmse:1.434060\tval-rmse:1.949897\n",
        "[2258]\ttrain-rmse:1.433766\tval-rmse:1.949669\n"
       ]
      },
      {
       "output_type": "stream",
       "stream": "stderr",
       "text": [
        "[2259]\ttrain-rmse:1.433456\tval-rmse:1.949422\n",
        "[2260]\ttrain-rmse:1.433064\tval-rmse:1.949161\n"
       ]
      },
      {
       "output_type": "stream",
       "stream": "stderr",
       "text": [
        "[2261]\ttrain-rmse:1.432350\tval-rmse:1.948783\n",
        "[2262]\ttrain-rmse:1.431742\tval-rmse:1.948388\n"
       ]
      },
      {
       "output_type": "stream",
       "stream": "stderr",
       "text": [
        "[2263]\ttrain-rmse:1.431422\tval-rmse:1.948164\n",
        "[2264]\ttrain-rmse:1.430916\tval-rmse:1.947790\n"
       ]
      },
      {
       "output_type": "stream",
       "stream": "stderr",
       "text": [
        "[2265]\ttrain-rmse:1.430227\tval-rmse:1.947307\n",
        "[2266]\ttrain-rmse:1.429969\tval-rmse:1.947116\n"
       ]
      },
      {
       "output_type": "stream",
       "stream": "stderr",
       "text": [
        "[2267]\ttrain-rmse:1.429570\tval-rmse:1.946795\n",
        "[2268]\ttrain-rmse:1.429209\tval-rmse:1.946515\n"
       ]
      },
      {
       "output_type": "stream",
       "stream": "stderr",
       "text": [
        "[2269]\ttrain-rmse:1.428852\tval-rmse:1.946276\n",
        "[2270]\ttrain-rmse:1.428651\tval-rmse:1.946111\n"
       ]
      },
      {
       "output_type": "stream",
       "stream": "stderr",
       "text": [
        "[2271]\ttrain-rmse:1.428295\tval-rmse:1.945901\n",
        "[2272]\ttrain-rmse:1.428031\tval-rmse:1.945623\n"
       ]
      },
      {
       "output_type": "stream",
       "stream": "stderr",
       "text": [
        "[2273]\ttrain-rmse:1.427678\tval-rmse:1.945367\n",
        "[2274]\ttrain-rmse:1.427513\tval-rmse:1.945251\n"
       ]
      },
      {
       "output_type": "stream",
       "stream": "stderr",
       "text": [
        "[2275]\ttrain-rmse:1.427165\tval-rmse:1.945079\n",
        "[2276]\ttrain-rmse:1.426557\tval-rmse:1.944683\n"
       ]
      },
      {
       "output_type": "stream",
       "stream": "stderr",
       "text": [
        "[2277]\ttrain-rmse:1.425833\tval-rmse:1.944198\n",
        "[2278]\ttrain-rmse:1.425411\tval-rmse:1.943930\n"
       ]
      },
      {
       "output_type": "stream",
       "stream": "stderr",
       "text": [
        "[2279]\ttrain-rmse:1.425147\tval-rmse:1.943731\n",
        "[2280]\ttrain-rmse:1.424671\tval-rmse:1.943382\n"
       ]
      },
      {
       "output_type": "stream",
       "stream": "stderr",
       "text": [
        "[2281]\ttrain-rmse:1.424473\tval-rmse:1.943216\n",
        "[2282]\ttrain-rmse:1.424209\tval-rmse:1.943047\n"
       ]
      },
      {
       "output_type": "stream",
       "stream": "stderr",
       "text": [
        "[2283]\ttrain-rmse:1.424009\tval-rmse:1.942913\n",
        "[2284]\ttrain-rmse:1.423510\tval-rmse:1.942538\n"
       ]
      },
      {
       "output_type": "stream",
       "stream": "stderr",
       "text": [
        "[2285]\ttrain-rmse:1.423031\tval-rmse:1.942206\n",
        "[2286]\ttrain-rmse:1.422813\tval-rmse:1.942050\n"
       ]
      },
      {
       "output_type": "stream",
       "stream": "stderr",
       "text": [
        "[2287]\ttrain-rmse:1.422660\tval-rmse:1.941941\n",
        "[2288]\ttrain-rmse:1.422468\tval-rmse:1.941816\n"
       ]
      },
      {
       "output_type": "stream",
       "stream": "stderr",
       "text": [
        "[2289]\ttrain-rmse:1.422205\tval-rmse:1.941590\n",
        "[2290]\ttrain-rmse:1.421945\tval-rmse:1.941383\n"
       ]
      },
      {
       "output_type": "stream",
       "stream": "stderr",
       "text": [
        "[2291]\ttrain-rmse:1.421531\tval-rmse:1.941106\n",
        "[2292]\ttrain-rmse:1.421394\tval-rmse:1.941041\n"
       ]
      },
      {
       "output_type": "stream",
       "stream": "stderr",
       "text": [
        "[2293]\ttrain-rmse:1.421075\tval-rmse:1.940819\n",
        "[2294]\ttrain-rmse:1.420229\tval-rmse:1.940109\n"
       ]
      },
      {
       "output_type": "stream",
       "stream": "stderr",
       "text": [
        "[2295]\ttrain-rmse:1.420063\tval-rmse:1.939982\n",
        "[2296]\ttrain-rmse:1.419634\tval-rmse:1.939690\n"
       ]
      },
      {
       "output_type": "stream",
       "stream": "stderr",
       "text": [
        "[2297]\ttrain-rmse:1.419222\tval-rmse:1.939406\n",
        "[2298]\ttrain-rmse:1.418468\tval-rmse:1.938912\n"
       ]
      },
      {
       "output_type": "stream",
       "stream": "stderr",
       "text": [
        "[2299]\ttrain-rmse:1.417975\tval-rmse:1.938589\n",
        "[2300]\ttrain-rmse:1.417707\tval-rmse:1.938373\n"
       ]
      },
      {
       "output_type": "stream",
       "stream": "stderr",
       "text": [
        "[2301]\ttrain-rmse:1.417589\tval-rmse:1.938293\n",
        "[2302]\ttrain-rmse:1.417293\tval-rmse:1.938050\n"
       ]
      },
      {
       "output_type": "stream",
       "stream": "stderr",
       "text": [
        "[2303]\ttrain-rmse:1.416922\tval-rmse:1.937844\n",
        "[2304]\ttrain-rmse:1.416810\tval-rmse:1.937789\n"
       ]
      },
      {
       "output_type": "stream",
       "stream": "stderr",
       "text": [
        "[2305]\ttrain-rmse:1.416561\tval-rmse:1.937640\n",
        "[2306]\ttrain-rmse:1.416270\tval-rmse:1.937443\n"
       ]
      },
      {
       "output_type": "stream",
       "stream": "stderr",
       "text": [
        "[2307]\ttrain-rmse:1.416090\tval-rmse:1.937348\n",
        "[2308]\ttrain-rmse:1.415277\tval-rmse:1.936809\n"
       ]
      },
      {
       "output_type": "stream",
       "stream": "stderr",
       "text": [
        "[2309]\ttrain-rmse:1.415137\tval-rmse:1.936707\n",
        "[2310]\ttrain-rmse:1.414918\tval-rmse:1.936558\n"
       ]
      },
      {
       "output_type": "stream",
       "stream": "stderr",
       "text": [
        "[2311]\ttrain-rmse:1.414714\tval-rmse:1.936424\n",
        "[2312]\ttrain-rmse:1.414212\tval-rmse:1.936069\n"
       ]
      },
      {
       "output_type": "stream",
       "stream": "stderr",
       "text": [
        "[2313]\ttrain-rmse:1.413978\tval-rmse:1.935959\n",
        "[2314]\ttrain-rmse:1.413850\tval-rmse:1.935857\n"
       ]
      },
      {
       "output_type": "stream",
       "stream": "stderr",
       "text": [
        "[2315]\ttrain-rmse:1.413254\tval-rmse:1.935451\n",
        "[2316]\ttrain-rmse:1.412871\tval-rmse:1.935155\n"
       ]
      },
      {
       "output_type": "stream",
       "stream": "stderr",
       "text": [
        "[2317]\ttrain-rmse:1.412327\tval-rmse:1.934814\n",
        "[2318]\ttrain-rmse:1.412027\tval-rmse:1.934637\n"
       ]
      },
      {
       "output_type": "stream",
       "stream": "stderr",
       "text": [
        "[2319]\ttrain-rmse:1.411487\tval-rmse:1.934327\n",
        "[2320]\ttrain-rmse:1.411158\tval-rmse:1.934060\n"
       ]
      },
      {
       "output_type": "stream",
       "stream": "stderr",
       "text": [
        "[2321]\ttrain-rmse:1.410890\tval-rmse:1.933920\n",
        "[2322]\ttrain-rmse:1.410615\tval-rmse:1.933711\n"
       ]
      },
      {
       "output_type": "stream",
       "stream": "stderr",
       "text": [
        "[2323]\ttrain-rmse:1.410192\tval-rmse:1.933404\n",
        "[2324]\ttrain-rmse:1.409795\tval-rmse:1.933136\n"
       ]
      },
      {
       "output_type": "stream",
       "stream": "stderr",
       "text": [
        "[2325]\ttrain-rmse:1.409685\tval-rmse:1.933077\n",
        "[2326]\ttrain-rmse:1.409319\tval-rmse:1.932817\n"
       ]
      },
      {
       "output_type": "stream",
       "stream": "stderr",
       "text": [
        "[2327]\ttrain-rmse:1.408730\tval-rmse:1.932467\n",
        "[2328]\ttrain-rmse:1.408287\tval-rmse:1.932175\n"
       ]
      },
      {
       "output_type": "stream",
       "stream": "stderr",
       "text": [
        "[2329]\ttrain-rmse:1.408107\tval-rmse:1.932001\n",
        "[2330]\ttrain-rmse:1.407914\tval-rmse:1.931882\n"
       ]
      },
      {
       "output_type": "stream",
       "stream": "stderr",
       "text": [
        "[2331]\ttrain-rmse:1.407584\tval-rmse:1.931615\n",
        "[2332]\ttrain-rmse:1.407259\tval-rmse:1.931380\n"
       ]
      },
      {
       "output_type": "stream",
       "stream": "stderr",
       "text": [
        "[2333]\ttrain-rmse:1.406668\tval-rmse:1.931099\n",
        "[2334]\ttrain-rmse:1.406281\tval-rmse:1.930831\n"
       ]
      },
      {
       "output_type": "stream",
       "stream": "stderr",
       "text": [
        "[2335]\ttrain-rmse:1.405362\tval-rmse:1.930173\n",
        "[2336]\ttrain-rmse:1.404914\tval-rmse:1.929843\n"
       ]
      },
      {
       "output_type": "stream",
       "stream": "stderr",
       "text": [
        "[2337]\ttrain-rmse:1.404641\tval-rmse:1.929675\n",
        "[2338]\ttrain-rmse:1.404531\tval-rmse:1.929613\n"
       ]
      },
      {
       "output_type": "stream",
       "stream": "stderr",
       "text": [
        "[2339]\ttrain-rmse:1.404186\tval-rmse:1.929390\n",
        "[2340]\ttrain-rmse:1.403583\tval-rmse:1.928902\n"
       ]
      },
      {
       "output_type": "stream",
       "stream": "stderr",
       "text": [
        "[2341]\ttrain-rmse:1.403369\tval-rmse:1.928748\n",
        "[2342]\ttrain-rmse:1.402826\tval-rmse:1.928396\n"
       ]
      },
      {
       "output_type": "stream",
       "stream": "stderr",
       "text": [
        "[2343]\ttrain-rmse:1.402745\tval-rmse:1.928345\n",
        "[2344]\ttrain-rmse:1.402390\tval-rmse:1.928103\n"
       ]
      },
      {
       "output_type": "stream",
       "stream": "stderr",
       "text": [
        "[2345]\ttrain-rmse:1.402081\tval-rmse:1.927886\n",
        "[2346]\ttrain-rmse:1.401540\tval-rmse:1.927513\n"
       ]
      },
      {
       "output_type": "stream",
       "stream": "stderr",
       "text": [
        "[2347]\ttrain-rmse:1.401173\tval-rmse:1.927318\n",
        "[2348]\ttrain-rmse:1.400792\tval-rmse:1.927156\n"
       ]
      },
      {
       "output_type": "stream",
       "stream": "stderr",
       "text": [
        "[2349]\ttrain-rmse:1.400596\tval-rmse:1.927020\n",
        "[2350]\ttrain-rmse:1.400444\tval-rmse:1.926918\n"
       ]
      },
      {
       "output_type": "stream",
       "stream": "stderr",
       "text": [
        "[2351]\ttrain-rmse:1.400129\tval-rmse:1.926660\n",
        "[2352]\ttrain-rmse:1.399909\tval-rmse:1.926436\n"
       ]
      },
      {
       "output_type": "stream",
       "stream": "stderr",
       "text": [
        "[2353]\ttrain-rmse:1.399112\tval-rmse:1.925867\n",
        "[2354]\ttrain-rmse:1.398637\tval-rmse:1.925549\n"
       ]
      },
      {
       "output_type": "stream",
       "stream": "stderr",
       "text": [
        "[2355]\ttrain-rmse:1.398403\tval-rmse:1.925344\n",
        "[2356]\ttrain-rmse:1.398267\tval-rmse:1.925251\n"
       ]
      },
      {
       "output_type": "stream",
       "stream": "stderr",
       "text": [
        "[2357]\ttrain-rmse:1.397904\tval-rmse:1.925028\n",
        "[2358]\ttrain-rmse:1.397575\tval-rmse:1.924796\n"
       ]
      },
      {
       "output_type": "stream",
       "stream": "stderr",
       "text": [
        "[2359]\ttrain-rmse:1.397209\tval-rmse:1.924553\n",
        "[2360]\ttrain-rmse:1.396215\tval-rmse:1.923799\n"
       ]
      },
      {
       "output_type": "stream",
       "stream": "stderr",
       "text": [
        "[2361]\ttrain-rmse:1.395509\tval-rmse:1.923311\n",
        "[2362]\ttrain-rmse:1.395314\tval-rmse:1.923221\n"
       ]
      },
      {
       "output_type": "stream",
       "stream": "stderr",
       "text": [
        "[2363]\ttrain-rmse:1.394226\tval-rmse:1.922567\n",
        "[2364]\ttrain-rmse:1.394020\tval-rmse:1.922392\n"
       ]
      },
      {
       "output_type": "stream",
       "stream": "stderr",
       "text": [
        "[2365]\ttrain-rmse:1.393181\tval-rmse:1.921820\n",
        "[2366]\ttrain-rmse:1.393045\tval-rmse:1.921697\n"
       ]
      },
      {
       "output_type": "stream",
       "stream": "stderr",
       "text": [
        "[2367]\ttrain-rmse:1.392634\tval-rmse:1.921430\n",
        "[2368]\ttrain-rmse:1.392356\tval-rmse:1.921262\n"
       ]
      },
      {
       "output_type": "stream",
       "stream": "stderr",
       "text": [
        "[2369]\ttrain-rmse:1.391700\tval-rmse:1.920784\n",
        "[2370]\ttrain-rmse:1.391381\tval-rmse:1.920578\n"
       ]
      },
      {
       "output_type": "stream",
       "stream": "stderr",
       "text": [
        "[2371]\ttrain-rmse:1.391142\tval-rmse:1.920456\n",
        "[2372]\ttrain-rmse:1.390720\tval-rmse:1.920174\n"
       ]
      },
      {
       "output_type": "stream",
       "stream": "stderr",
       "text": [
        "[2373]\ttrain-rmse:1.390418\tval-rmse:1.920023\n",
        "[2374]\ttrain-rmse:1.389891\tval-rmse:1.919644\n"
       ]
      },
      {
       "output_type": "stream",
       "stream": "stderr",
       "text": [
        "[2375]\ttrain-rmse:1.389347\tval-rmse:1.919184\n",
        "[2376]\ttrain-rmse:1.389157\tval-rmse:1.919014\n"
       ]
      },
      {
       "output_type": "stream",
       "stream": "stderr",
       "text": [
        "[2377]\ttrain-rmse:1.388861\tval-rmse:1.918757\n",
        "[2378]\ttrain-rmse:1.388641\tval-rmse:1.918599\n"
       ]
      },
      {
       "output_type": "stream",
       "stream": "stderr",
       "text": [
        "[2379]\ttrain-rmse:1.388232\tval-rmse:1.918355\n",
        "[2380]\ttrain-rmse:1.387586\tval-rmse:1.917900\n"
       ]
      },
      {
       "output_type": "stream",
       "stream": "stderr",
       "text": [
        "[2381]\ttrain-rmse:1.387259\tval-rmse:1.917655\n",
        "[2382]\ttrain-rmse:1.387075\tval-rmse:1.917529\n"
       ]
      },
      {
       "output_type": "stream",
       "stream": "stderr",
       "text": [
        "[2383]\ttrain-rmse:1.386085\tval-rmse:1.916856\n",
        "[2384]\ttrain-rmse:1.385733\tval-rmse:1.916530\n"
       ]
      },
      {
       "output_type": "stream",
       "stream": "stderr",
       "text": [
        "[2385]\ttrain-rmse:1.385628\tval-rmse:1.916475\n",
        "[2386]\ttrain-rmse:1.384925\tval-rmse:1.915992\n"
       ]
      },
      {
       "output_type": "stream",
       "stream": "stderr",
       "text": [
        "[2387]\ttrain-rmse:1.384720\tval-rmse:1.915857\n",
        "[2388]\ttrain-rmse:1.384327\tval-rmse:1.915620\n"
       ]
      },
      {
       "output_type": "stream",
       "stream": "stderr",
       "text": [
        "[2389]\ttrain-rmse:1.384153\tval-rmse:1.915514\n",
        "[2390]\ttrain-rmse:1.383771\tval-rmse:1.915189\n"
       ]
      },
      {
       "output_type": "stream",
       "stream": "stderr",
       "text": [
        "[2391]\ttrain-rmse:1.383428\tval-rmse:1.914894\n",
        "[2392]\ttrain-rmse:1.383293\tval-rmse:1.914800\n"
       ]
      },
      {
       "output_type": "stream",
       "stream": "stderr",
       "text": [
        "[2393]\ttrain-rmse:1.383201\tval-rmse:1.914717\n",
        "[2394]\ttrain-rmse:1.382349\tval-rmse:1.914196\n"
       ]
      },
      {
       "output_type": "stream",
       "stream": "stderr",
       "text": [
        "[2395]\ttrain-rmse:1.382112\tval-rmse:1.913987\n",
        "[2396]\ttrain-rmse:1.381407\tval-rmse:1.913503\n"
       ]
      },
      {
       "output_type": "stream",
       "stream": "stderr",
       "text": [
        "[2397]\ttrain-rmse:1.381136\tval-rmse:1.913362\n",
        "[2398]\ttrain-rmse:1.380710\tval-rmse:1.913083\n"
       ]
      },
      {
       "output_type": "stream",
       "stream": "stderr",
       "text": [
        "[2399]\ttrain-rmse:1.380482\tval-rmse:1.912908\n",
        "[2400]\ttrain-rmse:1.379838\tval-rmse:1.912510\n"
       ]
      },
      {
       "output_type": "stream",
       "stream": "stderr",
       "text": [
        "[2401]\ttrain-rmse:1.379433\tval-rmse:1.912212\n",
        "[2402]\ttrain-rmse:1.379283\tval-rmse:1.912131\n"
       ]
      },
      {
       "output_type": "stream",
       "stream": "stderr",
       "text": [
        "[2403]\ttrain-rmse:1.379132\tval-rmse:1.912045\n",
        "[2404]\ttrain-rmse:1.378824\tval-rmse:1.911857\n"
       ]
      },
      {
       "output_type": "stream",
       "stream": "stderr",
       "text": [
        "[2405]\ttrain-rmse:1.378464\tval-rmse:1.911635\n",
        "[2406]\ttrain-rmse:1.377740\tval-rmse:1.911144\n"
       ]
      },
      {
       "output_type": "stream",
       "stream": "stderr",
       "text": [
        "[2407]\ttrain-rmse:1.377504\tval-rmse:1.910989\n",
        "[2408]\ttrain-rmse:1.377254\tval-rmse:1.910812\n"
       ]
      },
      {
       "output_type": "stream",
       "stream": "stderr",
       "text": [
        "[2409]\ttrain-rmse:1.376377\tval-rmse:1.910164\n",
        "[2410]\ttrain-rmse:1.375728\tval-rmse:1.909624\n"
       ]
      },
      {
       "output_type": "stream",
       "stream": "stderr",
       "text": [
        "[2411]\ttrain-rmse:1.375408\tval-rmse:1.909410\n",
        "[2412]\ttrain-rmse:1.374976\tval-rmse:1.909097\n"
       ]
      },
      {
       "output_type": "stream",
       "stream": "stderr",
       "text": [
        "[2413]\ttrain-rmse:1.374675\tval-rmse:1.908897\n",
        "[2414]\ttrain-rmse:1.374299\tval-rmse:1.908602\n"
       ]
      },
      {
       "output_type": "stream",
       "stream": "stderr",
       "text": [
        "[2415]\ttrain-rmse:1.373795\tval-rmse:1.908271\n",
        "[2416]\ttrain-rmse:1.373388\tval-rmse:1.908066\n"
       ]
      },
      {
       "output_type": "stream",
       "stream": "stderr",
       "text": [
        "[2417]\ttrain-rmse:1.373248\tval-rmse:1.907975\n",
        "[2418]\ttrain-rmse:1.372787\tval-rmse:1.907777\n"
       ]
      },
      {
       "output_type": "stream",
       "stream": "stderr",
       "text": [
        "[2419]\ttrain-rmse:1.371990\tval-rmse:1.907171\n",
        "[2420]\ttrain-rmse:1.371263\tval-rmse:1.906689\n"
       ]
      },
      {
       "output_type": "stream",
       "stream": "stderr",
       "text": [
        "[2421]\ttrain-rmse:1.371105\tval-rmse:1.906569\n",
        "[2422]\ttrain-rmse:1.370733\tval-rmse:1.906245\n"
       ]
      },
      {
       "output_type": "stream",
       "stream": "stderr",
       "text": [
        "[2423]\ttrain-rmse:1.370519\tval-rmse:1.906082\n",
        "[2424]\ttrain-rmse:1.370170\tval-rmse:1.905826\n"
       ]
      },
      {
       "output_type": "stream",
       "stream": "stderr",
       "text": [
        "[2425]\ttrain-rmse:1.369675\tval-rmse:1.905478\n",
        "[2426]\ttrain-rmse:1.369003\tval-rmse:1.905040\n"
       ]
      },
      {
       "output_type": "stream",
       "stream": "stderr",
       "text": [
        "[2427]\ttrain-rmse:1.368816\tval-rmse:1.904962\n",
        "[2428]\ttrain-rmse:1.367983\tval-rmse:1.904522\n"
       ]
      },
      {
       "output_type": "stream",
       "stream": "stderr",
       "text": [
        "[2429]\ttrain-rmse:1.366888\tval-rmse:1.903799\n",
        "[2430]\ttrain-rmse:1.366517\tval-rmse:1.903555\n"
       ]
      },
      {
       "output_type": "stream",
       "stream": "stderr",
       "text": [
        "[2431]\ttrain-rmse:1.366021\tval-rmse:1.903217\n",
        "[2432]\ttrain-rmse:1.365863\tval-rmse:1.903140\n"
       ]
      },
      {
       "output_type": "stream",
       "stream": "stderr",
       "text": [
        "[2433]\ttrain-rmse:1.365492\tval-rmse:1.902930\n",
        "[2434]\ttrain-rmse:1.365274\tval-rmse:1.902835\n"
       ]
      },
      {
       "output_type": "stream",
       "stream": "stderr",
       "text": [
        "[2435]\ttrain-rmse:1.365018\tval-rmse:1.902664\n",
        "[2436]\ttrain-rmse:1.364771\tval-rmse:1.902542\n"
       ]
      },
      {
       "output_type": "stream",
       "stream": "stderr",
       "text": [
        "[2437]\ttrain-rmse:1.364521\tval-rmse:1.902382\n",
        "[2438]\ttrain-rmse:1.364364\tval-rmse:1.902307\n"
       ]
      },
      {
       "output_type": "stream",
       "stream": "stderr",
       "text": [
        "[2439]\ttrain-rmse:1.363966\tval-rmse:1.902048\n",
        "[2440]\ttrain-rmse:1.363578\tval-rmse:1.901779\n"
       ]
      },
      {
       "output_type": "stream",
       "stream": "stderr",
       "text": [
        "[2441]\ttrain-rmse:1.362840\tval-rmse:1.901282\n",
        "[2442]\ttrain-rmse:1.362351\tval-rmse:1.901004\n"
       ]
      },
      {
       "output_type": "stream",
       "stream": "stderr",
       "text": [
        "[2443]\ttrain-rmse:1.362047\tval-rmse:1.900842\n",
        "[2444]\ttrain-rmse:1.361166\tval-rmse:1.900293\n"
       ]
      },
      {
       "output_type": "stream",
       "stream": "stderr",
       "text": [
        "[2445]\ttrain-rmse:1.360614\tval-rmse:1.899924\n",
        "[2446]\ttrain-rmse:1.360482\tval-rmse:1.899803\n"
       ]
      },
      {
       "output_type": "stream",
       "stream": "stderr",
       "text": [
        "[2447]\ttrain-rmse:1.359882\tval-rmse:1.899424\n",
        "[2448]\ttrain-rmse:1.359559\tval-rmse:1.899238\n"
       ]
      },
      {
       "output_type": "stream",
       "stream": "stderr",
       "text": [
        "[2449]\ttrain-rmse:1.359037\tval-rmse:1.898931\n",
        "[2450]\ttrain-rmse:1.358871\tval-rmse:1.898817\n"
       ]
      },
      {
       "output_type": "stream",
       "stream": "stderr",
       "text": [
        "[2451]\ttrain-rmse:1.358510\tval-rmse:1.898594\n",
        "[2452]\ttrain-rmse:1.358228\tval-rmse:1.898432\n"
       ]
      },
      {
       "output_type": "stream",
       "stream": "stderr",
       "text": [
        "[2453]\ttrain-rmse:1.357821\tval-rmse:1.898176\n",
        "[2454]\ttrain-rmse:1.357393\tval-rmse:1.897932\n"
       ]
      },
      {
       "output_type": "stream",
       "stream": "stderr",
       "text": [
        "[2455]\ttrain-rmse:1.356678\tval-rmse:1.897400\n",
        "[2456]\ttrain-rmse:1.356122\tval-rmse:1.897068\n"
       ]
      },
      {
       "output_type": "stream",
       "stream": "stderr",
       "text": [
        "[2457]\ttrain-rmse:1.355922\tval-rmse:1.896937\n",
        "[2458]\ttrain-rmse:1.355399\tval-rmse:1.896579\n"
       ]
      },
      {
       "output_type": "stream",
       "stream": "stderr",
       "text": [
        "[2459]\ttrain-rmse:1.354737\tval-rmse:1.896170\n",
        "[2460]\ttrain-rmse:1.354322\tval-rmse:1.895889\n"
       ]
      },
      {
       "output_type": "stream",
       "stream": "stderr",
       "text": [
        "[2461]\ttrain-rmse:1.354060\tval-rmse:1.895737\n",
        "[2462]\ttrain-rmse:1.353498\tval-rmse:1.895387\n"
       ]
      },
      {
       "output_type": "stream",
       "stream": "stderr",
       "text": [
        "[2463]\ttrain-rmse:1.353407\tval-rmse:1.895315\n",
        "[2464]\ttrain-rmse:1.353046\tval-rmse:1.895025\n"
       ]
      },
      {
       "output_type": "stream",
       "stream": "stderr",
       "text": [
        "[2465]\ttrain-rmse:1.352738\tval-rmse:1.894794\n",
        "[2466]\ttrain-rmse:1.352567\tval-rmse:1.894700\n"
       ]
      },
      {
       "output_type": "stream",
       "stream": "stderr",
       "text": [
        "[2467]\ttrain-rmse:1.352444\tval-rmse:1.894629\n",
        "[2468]\ttrain-rmse:1.351922\tval-rmse:1.894300\n"
       ]
      },
      {
       "output_type": "stream",
       "stream": "stderr",
       "text": [
        "[2469]\ttrain-rmse:1.351156\tval-rmse:1.893750\n",
        "[2470]\ttrain-rmse:1.350857\tval-rmse:1.893606\n"
       ]
      },
      {
       "output_type": "stream",
       "stream": "stderr",
       "text": [
        "[2471]\ttrain-rmse:1.350436\tval-rmse:1.893329\n",
        "[2472]\ttrain-rmse:1.349630\tval-rmse:1.892813\n"
       ]
      },
      {
       "output_type": "stream",
       "stream": "stderr",
       "text": [
        "[2473]\ttrain-rmse:1.349467\tval-rmse:1.892682\n",
        "[2474]\ttrain-rmse:1.349175\tval-rmse:1.892517\n"
       ]
      },
      {
       "output_type": "stream",
       "stream": "stderr",
       "text": [
        "[2475]\ttrain-rmse:1.348680\tval-rmse:1.892273\n",
        "[2476]\ttrain-rmse:1.348076\tval-rmse:1.891915\n"
       ]
      },
      {
       "output_type": "stream",
       "stream": "stderr",
       "text": [
        "[2477]\ttrain-rmse:1.347840\tval-rmse:1.891733\n",
        "[2478]\ttrain-rmse:1.347537\tval-rmse:1.891487\n"
       ]
      },
      {
       "output_type": "stream",
       "stream": "stderr",
       "text": [
        "[2479]\ttrain-rmse:1.347364\tval-rmse:1.891347\n",
        "[2480]\ttrain-rmse:1.346819\tval-rmse:1.890928\n"
       ]
      },
      {
       "output_type": "stream",
       "stream": "stderr",
       "text": [
        "[2481]\ttrain-rmse:1.346459\tval-rmse:1.890648\n",
        "[2482]\ttrain-rmse:1.345894\tval-rmse:1.890178\n"
       ]
      },
      {
       "output_type": "stream",
       "stream": "stderr",
       "text": [
        "[2483]\ttrain-rmse:1.345185\tval-rmse:1.889779\n",
        "[2484]\ttrain-rmse:1.345003\tval-rmse:1.889647\n"
       ]
      },
      {
       "output_type": "stream",
       "stream": "stderr",
       "text": [
        "[2485]\ttrain-rmse:1.344850\tval-rmse:1.889520\n",
        "[2486]\ttrain-rmse:1.344128\tval-rmse:1.889082\n"
       ]
      },
      {
       "output_type": "stream",
       "stream": "stderr",
       "text": [
        "[2487]\ttrain-rmse:1.343514\tval-rmse:1.888737\n",
        "[2488]\ttrain-rmse:1.342936\tval-rmse:1.888342\n"
       ]
      },
      {
       "output_type": "stream",
       "stream": "stderr",
       "text": [
        "[2489]\ttrain-rmse:1.342718\tval-rmse:1.888162\n",
        "[2490]\ttrain-rmse:1.342117\tval-rmse:1.887802\n"
       ]
      },
      {
       "output_type": "stream",
       "stream": "stderr",
       "text": [
        "[2491]\ttrain-rmse:1.341807\tval-rmse:1.887558\n",
        "[2492]\ttrain-rmse:1.341705\tval-rmse:1.887512\n"
       ]
      },
      {
       "output_type": "stream",
       "stream": "stderr",
       "text": [
        "[2493]\ttrain-rmse:1.341401\tval-rmse:1.887328\n",
        "[2494]\ttrain-rmse:1.341213\tval-rmse:1.887186\n"
       ]
      },
      {
       "output_type": "stream",
       "stream": "stderr",
       "text": [
        "[2495]\ttrain-rmse:1.340943\tval-rmse:1.886998\n",
        "[2496]\ttrain-rmse:1.340258\tval-rmse:1.886588\n"
       ]
      },
      {
       "output_type": "stream",
       "stream": "stderr",
       "text": [
        "[2497]\ttrain-rmse:1.340037\tval-rmse:1.886477\n",
        "[2498]\ttrain-rmse:1.339739\tval-rmse:1.886326\n"
       ]
      },
      {
       "output_type": "stream",
       "stream": "stderr",
       "text": [
        "[2499]\ttrain-rmse:1.339245\tval-rmse:1.886048\n",
        "[2500]\ttrain-rmse:1.338889\tval-rmse:1.885789\n"
       ]
      },
      {
       "output_type": "stream",
       "stream": "stderr",
       "text": [
        "[2501]\ttrain-rmse:1.338587\tval-rmse:1.885611\n",
        "[2502]\ttrain-rmse:1.337992\tval-rmse:1.885263\n"
       ]
      },
      {
       "output_type": "stream",
       "stream": "stderr",
       "text": [
        "[2503]\ttrain-rmse:1.337808\tval-rmse:1.885133\n",
        "[2504]\ttrain-rmse:1.337464\tval-rmse:1.884923\n"
       ]
      },
      {
       "output_type": "stream",
       "stream": "stderr",
       "text": [
        "[2505]\ttrain-rmse:1.337076\tval-rmse:1.884733\n",
        "[2506]\ttrain-rmse:1.336007\tval-rmse:1.884050\n"
       ]
      },
      {
       "output_type": "stream",
       "stream": "stderr",
       "text": [
        "[2507]\ttrain-rmse:1.335643\tval-rmse:1.883833\n",
        "[2508]\ttrain-rmse:1.335495\tval-rmse:1.883738\n"
       ]
      },
      {
       "output_type": "stream",
       "stream": "stderr",
       "text": [
        "[2509]\ttrain-rmse:1.334973\tval-rmse:1.883398\n",
        "[2510]\ttrain-rmse:1.334841\tval-rmse:1.883285\n"
       ]
      },
      {
       "output_type": "stream",
       "stream": "stderr",
       "text": [
        "[2511]\ttrain-rmse:1.334369\tval-rmse:1.883018\n",
        "[2512]\ttrain-rmse:1.333661\tval-rmse:1.882581\n"
       ]
      },
      {
       "output_type": "stream",
       "stream": "stderr",
       "text": [
        "[2513]\ttrain-rmse:1.333341\tval-rmse:1.882390\n",
        "[2514]\ttrain-rmse:1.333106\tval-rmse:1.882271\n"
       ]
      },
      {
       "output_type": "stream",
       "stream": "stderr",
       "text": [
        "[2515]\ttrain-rmse:1.332903\tval-rmse:1.882156\n",
        "[2516]\ttrain-rmse:1.332578\tval-rmse:1.881961\n"
       ]
      },
      {
       "output_type": "stream",
       "stream": "stderr",
       "text": [
        "[2517]\ttrain-rmse:1.331803\tval-rmse:1.881438\n",
        "[2518]\ttrain-rmse:1.331596\tval-rmse:1.881277\n"
       ]
      },
      {
       "output_type": "stream",
       "stream": "stderr",
       "text": [
        "[2519]\ttrain-rmse:1.331271\tval-rmse:1.881077\n",
        "[2520]\ttrain-rmse:1.331084\tval-rmse:1.880968\n"
       ]
      },
      {
       "output_type": "stream",
       "stream": "stderr",
       "text": [
        "[2521]\ttrain-rmse:1.330489\tval-rmse:1.880513\n",
        "[2522]\ttrain-rmse:1.330138\tval-rmse:1.880309\n"
       ]
      },
      {
       "output_type": "stream",
       "stream": "stderr",
       "text": [
        "[2523]\ttrain-rmse:1.329639\tval-rmse:1.879989\n",
        "[2524]\ttrain-rmse:1.329357\tval-rmse:1.879772\n"
       ]
      },
      {
       "output_type": "stream",
       "stream": "stderr",
       "text": [
        "[2525]\ttrain-rmse:1.329263\tval-rmse:1.879721\n",
        "[2526]\ttrain-rmse:1.328671\tval-rmse:1.879350\n"
       ]
      },
      {
       "output_type": "stream",
       "stream": "stderr",
       "text": [
        "[2527]\ttrain-rmse:1.328515\tval-rmse:1.879245\n",
        "[2528]\ttrain-rmse:1.328098\tval-rmse:1.878954\n"
       ]
      },
      {
       "output_type": "stream",
       "stream": "stderr",
       "text": [
        "[2529]\ttrain-rmse:1.327760\tval-rmse:1.878745\n",
        "[2530]\ttrain-rmse:1.327458\tval-rmse:1.878572\n"
       ]
      },
      {
       "output_type": "stream",
       "stream": "stderr",
       "text": [
        "[2531]\ttrain-rmse:1.327364\tval-rmse:1.878481\n",
        "[2532]\ttrain-rmse:1.327135\tval-rmse:1.878292\n"
       ]
      },
      {
       "output_type": "stream",
       "stream": "stderr",
       "text": [
        "[2533]\ttrain-rmse:1.326840\tval-rmse:1.878048\n",
        "[2534]\ttrain-rmse:1.326245\tval-rmse:1.877696\n"
       ]
      },
      {
       "output_type": "stream",
       "stream": "stderr",
       "text": [
        "[2535]\ttrain-rmse:1.325757\tval-rmse:1.877395\n",
        "[2536]\ttrain-rmse:1.325338\tval-rmse:1.877127\n"
       ]
      },
      {
       "output_type": "stream",
       "stream": "stderr",
       "text": [
        "[2537]\ttrain-rmse:1.324831\tval-rmse:1.876753\n",
        "[2538]\ttrain-rmse:1.324103\tval-rmse:1.876206\n"
       ]
      },
      {
       "output_type": "stream",
       "stream": "stderr",
       "text": [
        "[2539]\ttrain-rmse:1.323993\tval-rmse:1.876131\n",
        "[2540]\ttrain-rmse:1.323343\tval-rmse:1.875623\n"
       ]
      },
      {
       "output_type": "stream",
       "stream": "stderr",
       "text": [
        "[2541]\ttrain-rmse:1.322957\tval-rmse:1.875358\n",
        "[2542]\ttrain-rmse:1.322552\tval-rmse:1.875029\n"
       ]
      },
      {
       "output_type": "stream",
       "stream": "stderr",
       "text": [
        "[2543]\ttrain-rmse:1.322445\tval-rmse:1.874944\n",
        "[2544]\ttrain-rmse:1.322271\tval-rmse:1.874811\n"
       ]
      },
      {
       "output_type": "stream",
       "stream": "stderr",
       "text": [
        "[2545]\ttrain-rmse:1.321905\tval-rmse:1.874573\n",
        "[2546]\ttrain-rmse:1.321770\tval-rmse:1.874493\n"
       ]
      },
      {
       "output_type": "stream",
       "stream": "stderr",
       "text": [
        "[2547]\ttrain-rmse:1.321413\tval-rmse:1.874264\n",
        "[2548]\ttrain-rmse:1.320940\tval-rmse:1.873891\n"
       ]
      },
      {
       "output_type": "stream",
       "stream": "stderr",
       "text": [
        "[2549]\ttrain-rmse:1.320538\tval-rmse:1.873564\n",
        "[2550]\ttrain-rmse:1.320237\tval-rmse:1.873408\n"
       ]
      },
      {
       "output_type": "stream",
       "stream": "stderr",
       "text": [
        "[2551]\ttrain-rmse:1.319945\tval-rmse:1.873217\n",
        "[2552]\ttrain-rmse:1.319832\tval-rmse:1.873128\n"
       ]
      },
      {
       "output_type": "stream",
       "stream": "stderr",
       "text": [
        "[2553]\ttrain-rmse:1.319503\tval-rmse:1.872875\n",
        "[2554]\ttrain-rmse:1.319104\tval-rmse:1.872666\n"
       ]
      },
      {
       "output_type": "stream",
       "stream": "stderr",
       "text": [
        "[2555]\ttrain-rmse:1.318701\tval-rmse:1.872301\n",
        "[2556]\ttrain-rmse:1.318566\tval-rmse:1.872223\n"
       ]
      },
      {
       "output_type": "stream",
       "stream": "stderr",
       "text": [
        "[2557]\ttrain-rmse:1.318158\tval-rmse:1.872028\n",
        "[2558]\ttrain-rmse:1.317865\tval-rmse:1.871863\n"
       ]
      },
      {
       "output_type": "stream",
       "stream": "stderr",
       "text": [
        "[2559]\ttrain-rmse:1.317379\tval-rmse:1.871539\n",
        "[2560]\ttrain-rmse:1.317278\tval-rmse:1.871453\n"
       ]
      },
      {
       "output_type": "stream",
       "stream": "stderr",
       "text": [
        "[2561]\ttrain-rmse:1.317112\tval-rmse:1.871379\n",
        "[2562]\ttrain-rmse:1.316981\tval-rmse:1.871330\n"
       ]
      },
      {
       "output_type": "stream",
       "stream": "stderr",
       "text": [
        "[2563]\ttrain-rmse:1.316733\tval-rmse:1.871143\n",
        "[2564]\ttrain-rmse:1.316497\tval-rmse:1.871026\n"
       ]
      },
      {
       "output_type": "stream",
       "stream": "stderr",
       "text": [
        "[2565]\ttrain-rmse:1.316238\tval-rmse:1.870889\n",
        "[2566]\ttrain-rmse:1.316090\tval-rmse:1.870785\n"
       ]
      },
      {
       "output_type": "stream",
       "stream": "stderr",
       "text": [
        "[2567]\ttrain-rmse:1.315707\tval-rmse:1.870484\n",
        "[2568]\ttrain-rmse:1.315063\tval-rmse:1.870085\n"
       ]
      },
      {
       "output_type": "stream",
       "stream": "stderr",
       "text": [
        "[2569]\ttrain-rmse:1.314657\tval-rmse:1.869805\n",
        "[2570]\ttrain-rmse:1.314515\tval-rmse:1.869702\n"
       ]
      },
      {
       "output_type": "stream",
       "stream": "stderr",
       "text": [
        "[2571]\ttrain-rmse:1.313775\tval-rmse:1.869290\n",
        "[2572]\ttrain-rmse:1.313499\tval-rmse:1.869147\n"
       ]
      },
      {
       "output_type": "stream",
       "stream": "stderr",
       "text": [
        "[2573]\ttrain-rmse:1.313101\tval-rmse:1.868901\n",
        "[2574]\ttrain-rmse:1.312703\tval-rmse:1.868694\n"
       ]
      },
      {
       "output_type": "stream",
       "stream": "stderr",
       "text": [
        "[2575]\ttrain-rmse:1.312400\tval-rmse:1.868485\n",
        "[2576]\ttrain-rmse:1.312160\tval-rmse:1.868357\n"
       ]
      },
      {
       "output_type": "stream",
       "stream": "stderr",
       "text": [
        "[2577]\ttrain-rmse:1.311968\tval-rmse:1.868205\n",
        "[2578]\ttrain-rmse:1.311762\tval-rmse:1.868123\n"
       ]
      },
      {
       "output_type": "stream",
       "stream": "stderr",
       "text": [
        "[2579]\ttrain-rmse:1.311622\tval-rmse:1.868051\n",
        "[2580]\ttrain-rmse:1.310991\tval-rmse:1.867608\n"
       ]
      },
      {
       "output_type": "stream",
       "stream": "stderr",
       "text": [
        "[2581]\ttrain-rmse:1.310805\tval-rmse:1.867497\n",
        "[2582]\ttrain-rmse:1.310527\tval-rmse:1.867323\n"
       ]
      },
      {
       "output_type": "stream",
       "stream": "stderr",
       "text": [
        "[2583]\ttrain-rmse:1.310197\tval-rmse:1.867117\n",
        "[2584]\ttrain-rmse:1.309864\tval-rmse:1.866952\n"
       ]
      },
      {
       "output_type": "stream",
       "stream": "stderr",
       "text": [
        "[2585]\ttrain-rmse:1.309749\tval-rmse:1.866858\n",
        "[2586]\ttrain-rmse:1.309639\tval-rmse:1.866808\n"
       ]
      },
      {
       "output_type": "stream",
       "stream": "stderr",
       "text": [
        "[2587]\ttrain-rmse:1.308981\tval-rmse:1.866370\n",
        "[2588]\ttrain-rmse:1.308845\tval-rmse:1.866241\n"
       ]
      },
      {
       "output_type": "stream",
       "stream": "stderr",
       "text": [
        "[2589]\ttrain-rmse:1.308546\tval-rmse:1.866089\n",
        "[2590]\ttrain-rmse:1.308288\tval-rmse:1.865959\n"
       ]
      },
      {
       "output_type": "stream",
       "stream": "stderr",
       "text": [
        "[2591]\ttrain-rmse:1.307849\tval-rmse:1.865722\n",
        "[2592]\ttrain-rmse:1.307506\tval-rmse:1.865514\n"
       ]
      },
      {
       "output_type": "stream",
       "stream": "stderr",
       "text": [
        "[2593]\ttrain-rmse:1.307061\tval-rmse:1.865227\n",
        "[2594]\ttrain-rmse:1.306610\tval-rmse:1.864997\n"
       ]
      },
      {
       "output_type": "stream",
       "stream": "stderr",
       "text": [
        "[2595]\ttrain-rmse:1.306402\tval-rmse:1.864840\n",
        "[2596]\ttrain-rmse:1.306079\tval-rmse:1.864583\n"
       ]
      },
      {
       "output_type": "stream",
       "stream": "stderr",
       "text": [
        "[2597]\ttrain-rmse:1.305508\tval-rmse:1.864298\n",
        "[2598]\ttrain-rmse:1.305089\tval-rmse:1.864015\n"
       ]
      },
      {
       "output_type": "stream",
       "stream": "stderr",
       "text": [
        "[2599]\ttrain-rmse:1.304965\tval-rmse:1.863940\n",
        "[2600]\ttrain-rmse:1.304451\tval-rmse:1.863701\n"
       ]
      },
      {
       "output_type": "stream",
       "stream": "stderr",
       "text": [
        "[2601]\ttrain-rmse:1.304312\tval-rmse:1.863627\n",
        "[2602]\ttrain-rmse:1.303942\tval-rmse:1.863370\n"
       ]
      },
      {
       "output_type": "stream",
       "stream": "stderr",
       "text": [
        "[2603]\ttrain-rmse:1.303535\tval-rmse:1.863132\n",
        "[2604]\ttrain-rmse:1.303308\tval-rmse:1.862955\n"
       ]
      },
      {
       "output_type": "stream",
       "stream": "stderr",
       "text": [
        "[2605]\ttrain-rmse:1.303136\tval-rmse:1.862826\n",
        "[2606]\ttrain-rmse:1.302873\tval-rmse:1.862627\n"
       ]
      },
      {
       "output_type": "stream",
       "stream": "stderr",
       "text": [
        "[2607]\ttrain-rmse:1.302708\tval-rmse:1.862500\n",
        "[2608]\ttrain-rmse:1.302563\tval-rmse:1.862402\n"
       ]
      },
      {
       "output_type": "stream",
       "stream": "stderr",
       "text": [
        "[2609]\ttrain-rmse:1.302076\tval-rmse:1.861996\n",
        "[2610]\ttrain-rmse:1.301645\tval-rmse:1.861721\n"
       ]
      },
      {
       "output_type": "stream",
       "stream": "stderr",
       "text": [
        "[2611]\ttrain-rmse:1.301353\tval-rmse:1.861547\n",
        "[2612]\ttrain-rmse:1.300633\tval-rmse:1.861072\n"
       ]
      },
      {
       "output_type": "stream",
       "stream": "stderr",
       "text": [
        "[2613]\ttrain-rmse:1.300175\tval-rmse:1.860803\n",
        "[2614]\ttrain-rmse:1.299990\tval-rmse:1.860667\n"
       ]
      },
      {
       "output_type": "stream",
       "stream": "stderr",
       "text": [
        "[2615]\ttrain-rmse:1.299563\tval-rmse:1.860423\n",
        "[2616]\ttrain-rmse:1.299328\tval-rmse:1.860293\n"
       ]
      },
      {
       "output_type": "stream",
       "stream": "stderr",
       "text": [
        "[2617]\ttrain-rmse:1.299168\tval-rmse:1.860209\n",
        "[2618]\ttrain-rmse:1.298302\tval-rmse:1.859684\n"
       ]
      },
      {
       "output_type": "stream",
       "stream": "stderr",
       "text": [
        "[2619]\ttrain-rmse:1.298055\tval-rmse:1.859496\n",
        "[2620]\ttrain-rmse:1.297822\tval-rmse:1.859348\n"
       ]
      },
      {
       "output_type": "stream",
       "stream": "stderr",
       "text": [
        "[2621]\ttrain-rmse:1.297037\tval-rmse:1.858833\n",
        "[2622]\ttrain-rmse:1.296695\tval-rmse:1.858636\n"
       ]
      },
      {
       "output_type": "stream",
       "stream": "stderr",
       "text": [
        "[2623]\ttrain-rmse:1.296447\tval-rmse:1.858538\n",
        "[2624]\ttrain-rmse:1.295841\tval-rmse:1.858006\n"
       ]
      },
      {
       "output_type": "stream",
       "stream": "stderr",
       "text": [
        "[2625]\ttrain-rmse:1.295229\tval-rmse:1.857598\n",
        "[2626]\ttrain-rmse:1.294676\tval-rmse:1.857311\n"
       ]
      },
      {
       "output_type": "stream",
       "stream": "stderr",
       "text": [
        "[2627]\ttrain-rmse:1.294286\tval-rmse:1.857006\n",
        "[2628]\ttrain-rmse:1.293876\tval-rmse:1.856716\n"
       ]
      },
      {
       "output_type": "stream",
       "stream": "stderr",
       "text": [
        "[2629]\ttrain-rmse:1.293811\tval-rmse:1.856689\n",
        "[2630]\ttrain-rmse:1.293351\tval-rmse:1.856345\n"
       ]
      },
      {
       "output_type": "stream",
       "stream": "stderr",
       "text": [
        "[2631]\ttrain-rmse:1.292951\tval-rmse:1.856126\n",
        "[2632]\ttrain-rmse:1.292642\tval-rmse:1.855984\n"
       ]
      },
      {
       "output_type": "stream",
       "stream": "stderr",
       "text": [
        "[2633]\ttrain-rmse:1.292385\tval-rmse:1.855882\n",
        "[2634]\ttrain-rmse:1.292012\tval-rmse:1.855722\n"
       ]
      },
      {
       "output_type": "stream",
       "stream": "stderr",
       "text": [
        "[2635]\ttrain-rmse:1.291776\tval-rmse:1.855583\n",
        "[2636]\ttrain-rmse:1.291573\tval-rmse:1.855443\n"
       ]
      },
      {
       "output_type": "stream",
       "stream": "stderr",
       "text": [
        "[2637]\ttrain-rmse:1.291267\tval-rmse:1.855255\n",
        "[2638]\ttrain-rmse:1.290923\tval-rmse:1.855049\n"
       ]
      },
      {
       "output_type": "stream",
       "stream": "stderr",
       "text": [
        "[2639]\ttrain-rmse:1.290715\tval-rmse:1.854962\n",
        "[2640]\ttrain-rmse:1.290452\tval-rmse:1.854763\n"
       ]
      },
      {
       "output_type": "stream",
       "stream": "stderr",
       "text": [
        "[2641]\ttrain-rmse:1.290162\tval-rmse:1.854619\n",
        "[2642]\ttrain-rmse:1.289300\tval-rmse:1.854079\n"
       ]
      },
      {
       "output_type": "stream",
       "stream": "stderr",
       "text": [
        "[2643]\ttrain-rmse:1.289160\tval-rmse:1.854022\n",
        "[2644]\ttrain-rmse:1.288895\tval-rmse:1.853848\n"
       ]
      },
      {
       "output_type": "stream",
       "stream": "stderr",
       "text": [
        "[2645]\ttrain-rmse:1.288530\tval-rmse:1.853626\n",
        "[2646]\ttrain-rmse:1.288095\tval-rmse:1.853284\n"
       ]
      },
      {
       "output_type": "stream",
       "stream": "stderr",
       "text": [
        "[2647]\ttrain-rmse:1.287941\tval-rmse:1.853141\n",
        "[2648]\ttrain-rmse:1.287329\tval-rmse:1.852804\n"
       ]
      },
      {
       "output_type": "stream",
       "stream": "stderr",
       "text": [
        "[2649]\ttrain-rmse:1.286868\tval-rmse:1.852492\n",
        "[2650]\ttrain-rmse:1.286691\tval-rmse:1.852367\n"
       ]
      },
      {
       "output_type": "stream",
       "stream": "stderr",
       "text": [
        "[2651]\ttrain-rmse:1.286455\tval-rmse:1.852200\n",
        "[2652]\ttrain-rmse:1.286025\tval-rmse:1.851870\n"
       ]
      },
      {
       "output_type": "stream",
       "stream": "stderr",
       "text": [
        "[2653]\ttrain-rmse:1.285886\tval-rmse:1.851789\n",
        "[2654]\ttrain-rmse:1.285553\tval-rmse:1.851599\n"
       ]
      },
      {
       "output_type": "stream",
       "stream": "stderr",
       "text": [
        "[2655]\ttrain-rmse:1.285377\tval-rmse:1.851490\n",
        "[2656]\ttrain-rmse:1.285153\tval-rmse:1.851356\n"
       ]
      },
      {
       "output_type": "stream",
       "stream": "stderr",
       "text": [
        "[2657]\ttrain-rmse:1.284534\tval-rmse:1.851041\n",
        "[2658]\ttrain-rmse:1.284276\tval-rmse:1.850925\n"
       ]
      },
      {
       "output_type": "stream",
       "stream": "stderr",
       "text": [
        "[2659]\ttrain-rmse:1.284125\tval-rmse:1.850822\n",
        "[2660]\ttrain-rmse:1.283933\tval-rmse:1.850730\n"
       ]
      },
      {
       "output_type": "stream",
       "stream": "stderr",
       "text": [
        "[2661]\ttrain-rmse:1.283541\tval-rmse:1.850470\n",
        "[2662]\ttrain-rmse:1.283389\tval-rmse:1.850379\n"
       ]
      },
      {
       "output_type": "stream",
       "stream": "stderr",
       "text": [
        "[2663]\ttrain-rmse:1.282898\tval-rmse:1.850026\n",
        "[2664]\ttrain-rmse:1.282644\tval-rmse:1.849850\n"
       ]
      },
      {
       "output_type": "stream",
       "stream": "stderr",
       "text": [
        "[2665]\ttrain-rmse:1.282461\tval-rmse:1.849764\n",
        "[2666]\ttrain-rmse:1.282343\tval-rmse:1.849703\n"
       ]
      },
      {
       "output_type": "stream",
       "stream": "stderr",
       "text": [
        "[2667]\ttrain-rmse:1.282194\tval-rmse:1.849609\n",
        "[2668]\ttrain-rmse:1.281916\tval-rmse:1.849411\n"
       ]
      },
      {
       "output_type": "stream",
       "stream": "stderr",
       "text": [
        "[2669]\ttrain-rmse:1.281627\tval-rmse:1.849244\n",
        "[2670]\ttrain-rmse:1.281400\tval-rmse:1.849086\n"
       ]
      },
      {
       "output_type": "stream",
       "stream": "stderr",
       "text": [
        "[2671]\ttrain-rmse:1.281072\tval-rmse:1.848899\n",
        "[2672]\ttrain-rmse:1.280897\tval-rmse:1.848789\n"
       ]
      },
      {
       "output_type": "stream",
       "stream": "stderr",
       "text": [
        "[2673]\ttrain-rmse:1.280743\tval-rmse:1.848672\n",
        "[2674]\ttrain-rmse:1.280581\tval-rmse:1.848580\n"
       ]
      },
      {
       "output_type": "stream",
       "stream": "stderr",
       "text": [
        "[2675]\ttrain-rmse:1.280236\tval-rmse:1.848421\n",
        "[2676]\ttrain-rmse:1.279865\tval-rmse:1.848212\n"
       ]
      },
      {
       "output_type": "stream",
       "stream": "stderr",
       "text": [
        "[2677]\ttrain-rmse:1.279513\tval-rmse:1.848021\n",
        "[2678]\ttrain-rmse:1.279242\tval-rmse:1.847851\n"
       ]
      },
      {
       "output_type": "stream",
       "stream": "stderr",
       "text": [
        "[2679]\ttrain-rmse:1.279017\tval-rmse:1.847647\n",
        "[2680]\ttrain-rmse:1.278732\tval-rmse:1.847493\n"
       ]
      },
      {
       "output_type": "stream",
       "stream": "stderr",
       "text": [
        "[2681]\ttrain-rmse:1.278419\tval-rmse:1.847252\n",
        "[2682]\ttrain-rmse:1.277831\tval-rmse:1.846836\n"
       ]
      },
      {
       "output_type": "stream",
       "stream": "stderr",
       "text": [
        "[2683]\ttrain-rmse:1.277124\tval-rmse:1.846196\n",
        "[2684]\ttrain-rmse:1.276864\tval-rmse:1.846057\n"
       ]
      },
      {
       "output_type": "stream",
       "stream": "stderr",
       "text": [
        "[2685]\ttrain-rmse:1.276548\tval-rmse:1.845861\n",
        "[2686]\ttrain-rmse:1.276094\tval-rmse:1.845593\n"
       ]
      },
      {
       "output_type": "stream",
       "stream": "stderr",
       "text": [
        "[2687]\ttrain-rmse:1.275691\tval-rmse:1.845333\n",
        "[2688]\ttrain-rmse:1.275243\tval-rmse:1.845012\n"
       ]
      },
      {
       "output_type": "stream",
       "stream": "stderr",
       "text": [
        "[2689]\ttrain-rmse:1.275033\tval-rmse:1.844860\n",
        "[2690]\ttrain-rmse:1.274909\tval-rmse:1.844770\n"
       ]
      },
      {
       "output_type": "stream",
       "stream": "stderr",
       "text": [
        "[2691]\ttrain-rmse:1.274837\tval-rmse:1.844703\n",
        "[2692]\ttrain-rmse:1.274378\tval-rmse:1.844402\n"
       ]
      },
      {
       "output_type": "stream",
       "stream": "stderr",
       "text": [
        "[2693]\ttrain-rmse:1.274147\tval-rmse:1.844281\n",
        "[2694]\ttrain-rmse:1.273475\tval-rmse:1.843884\n"
       ]
      },
      {
       "output_type": "stream",
       "stream": "stderr",
       "text": [
        "[2695]\ttrain-rmse:1.273307\tval-rmse:1.843740\n",
        "[2696]\ttrain-rmse:1.272982\tval-rmse:1.843514\n"
       ]
      },
      {
       "output_type": "stream",
       "stream": "stderr",
       "text": [
        "[2697]\ttrain-rmse:1.272449\tval-rmse:1.843174\n",
        "[2698]\ttrain-rmse:1.271763\tval-rmse:1.842721\n"
       ]
      },
      {
       "output_type": "stream",
       "stream": "stderr",
       "text": [
        "[2699]\ttrain-rmse:1.271480\tval-rmse:1.842568\n",
        "[2700]\ttrain-rmse:1.271277\tval-rmse:1.842419\n"
       ]
      },
      {
       "output_type": "stream",
       "stream": "stderr",
       "text": [
        "[2701]\ttrain-rmse:1.270909\tval-rmse:1.842223\n",
        "[2702]\ttrain-rmse:1.270601\tval-rmse:1.842017\n"
       ]
      },
      {
       "output_type": "stream",
       "stream": "stderr",
       "text": [
        "[2703]\ttrain-rmse:1.270482\tval-rmse:1.841934\n",
        "[2704]\ttrain-rmse:1.270117\tval-rmse:1.841710\n"
       ]
      },
      {
       "output_type": "stream",
       "stream": "stderr",
       "text": [
        "[2705]\ttrain-rmse:1.269930\tval-rmse:1.841564\n",
        "[2706]\ttrain-rmse:1.269387\tval-rmse:1.841190\n"
       ]
      },
      {
       "output_type": "stream",
       "stream": "stderr",
       "text": [
        "[2707]\ttrain-rmse:1.269266\tval-rmse:1.841121\n",
        "[2708]\ttrain-rmse:1.268695\tval-rmse:1.840690\n"
       ]
      },
      {
       "output_type": "stream",
       "stream": "stderr",
       "text": [
        "[2709]\ttrain-rmse:1.268259\tval-rmse:1.840435\n",
        "[2710]\ttrain-rmse:1.267862\tval-rmse:1.840155\n"
       ]
      },
      {
       "output_type": "stream",
       "stream": "stderr",
       "text": [
        "[2711]\ttrain-rmse:1.267792\tval-rmse:1.840111\n",
        "[2712]\ttrain-rmse:1.267404\tval-rmse:1.839823\n"
       ]
      },
      {
       "output_type": "stream",
       "stream": "stderr",
       "text": [
        "[2713]\ttrain-rmse:1.267186\tval-rmse:1.839654\n",
        "[2714]\ttrain-rmse:1.266987\tval-rmse:1.839515\n"
       ]
      },
      {
       "output_type": "stream",
       "stream": "stderr",
       "text": [
        "[2715]\ttrain-rmse:1.266847\tval-rmse:1.839474\n",
        "[2716]\ttrain-rmse:1.266669\tval-rmse:1.839390\n"
       ]
      },
      {
       "output_type": "stream",
       "stream": "stderr",
       "text": [
        "[2717]\ttrain-rmse:1.265928\tval-rmse:1.838883\n",
        "[2718]\ttrain-rmse:1.265592\tval-rmse:1.838647\n"
       ]
      },
      {
       "output_type": "stream",
       "stream": "stderr",
       "text": [
        "[2719]\ttrain-rmse:1.265275\tval-rmse:1.838412\n",
        "[2720]\ttrain-rmse:1.264902\tval-rmse:1.838197\n"
       ]
      },
      {
       "output_type": "stream",
       "stream": "stderr",
       "text": [
        "[2721]\ttrain-rmse:1.264361\tval-rmse:1.837834\n",
        "[2722]\ttrain-rmse:1.264183\tval-rmse:1.837745\n"
       ]
      },
      {
       "output_type": "stream",
       "stream": "stderr",
       "text": [
        "[2723]\ttrain-rmse:1.264036\tval-rmse:1.837627\n",
        "[2724]\ttrain-rmse:1.263734\tval-rmse:1.837445\n"
       ]
      },
      {
       "output_type": "stream",
       "stream": "stderr",
       "text": [
        "[2725]\ttrain-rmse:1.263539\tval-rmse:1.837347\n",
        "[2726]\ttrain-rmse:1.263333\tval-rmse:1.837209\n"
       ]
      },
      {
       "output_type": "stream",
       "stream": "stderr",
       "text": [
        "[2727]\ttrain-rmse:1.263122\tval-rmse:1.837056\n",
        "[2728]\ttrain-rmse:1.262906\tval-rmse:1.836900\n"
       ]
      },
      {
       "output_type": "stream",
       "stream": "stderr",
       "text": [
        "[2729]\ttrain-rmse:1.262480\tval-rmse:1.836702\n",
        "[2730]\ttrain-rmse:1.262207\tval-rmse:1.836505\n"
       ]
      },
      {
       "output_type": "stream",
       "stream": "stderr",
       "text": [
        "[2731]\ttrain-rmse:1.262068\tval-rmse:1.836437\n",
        "[2732]\ttrain-rmse:1.261762\tval-rmse:1.836254\n"
       ]
      },
      {
       "output_type": "stream",
       "stream": "stderr",
       "text": [
        "[2733]\ttrain-rmse:1.261645\tval-rmse:1.836199\n",
        "[2734]\ttrain-rmse:1.261483\tval-rmse:1.836099\n"
       ]
      },
      {
       "output_type": "stream",
       "stream": "stderr",
       "text": [
        "[2735]\ttrain-rmse:1.261359\tval-rmse:1.836014\n",
        "[2736]\ttrain-rmse:1.260927\tval-rmse:1.835708\n"
       ]
      },
      {
       "output_type": "stream",
       "stream": "stderr",
       "text": [
        "[2737]\ttrain-rmse:1.260499\tval-rmse:1.835420\n",
        "[2738]\ttrain-rmse:1.260204\tval-rmse:1.835252\n"
       ]
      },
      {
       "output_type": "stream",
       "stream": "stderr",
       "text": [
        "[2739]\ttrain-rmse:1.259935\tval-rmse:1.835086\n",
        "[2740]\ttrain-rmse:1.259130\tval-rmse:1.834560\n"
       ]
      },
      {
       "output_type": "stream",
       "stream": "stderr",
       "text": [
        "[2741]\ttrain-rmse:1.258908\tval-rmse:1.834430\n",
        "[2742]\ttrain-rmse:1.258144\tval-rmse:1.833785\n"
       ]
      },
      {
       "output_type": "stream",
       "stream": "stderr",
       "text": [
        "[2743]\ttrain-rmse:1.257465\tval-rmse:1.833321\n",
        "[2744]\ttrain-rmse:1.257214\tval-rmse:1.833143\n"
       ]
      },
      {
       "output_type": "stream",
       "stream": "stderr",
       "text": [
        "[2745]\ttrain-rmse:1.256882\tval-rmse:1.832918\n",
        "[2746]\ttrain-rmse:1.256217\tval-rmse:1.832491\n"
       ]
      },
      {
       "output_type": "stream",
       "stream": "stderr",
       "text": [
        "[2747]\ttrain-rmse:1.256076\tval-rmse:1.832424\n",
        "[2748]\ttrain-rmse:1.255719\tval-rmse:1.832196\n"
       ]
      },
      {
       "output_type": "stream",
       "stream": "stderr",
       "text": [
        "[2749]\ttrain-rmse:1.255645\tval-rmse:1.832151\n",
        "[2750]\ttrain-rmse:1.255526\tval-rmse:1.832088\n"
       ]
      },
      {
       "output_type": "stream",
       "stream": "stderr",
       "text": [
        "[2751]\ttrain-rmse:1.255322\tval-rmse:1.831981\n",
        "[2752]\ttrain-rmse:1.255106\tval-rmse:1.831858\n"
       ]
      },
      {
       "output_type": "stream",
       "stream": "stderr",
       "text": [
        "[2753]\ttrain-rmse:1.254896\tval-rmse:1.831690\n",
        "[2754]\ttrain-rmse:1.254601\tval-rmse:1.831481\n"
       ]
      },
      {
       "output_type": "stream",
       "stream": "stderr",
       "text": [
        "[2755]\ttrain-rmse:1.254345\tval-rmse:1.831321\n",
        "[2756]\ttrain-rmse:1.253968\tval-rmse:1.831123\n"
       ]
      },
      {
       "output_type": "stream",
       "stream": "stderr",
       "text": [
        "[2757]\ttrain-rmse:1.253709\tval-rmse:1.830955\n",
        "[2758]\ttrain-rmse:1.253484\tval-rmse:1.830803\n"
       ]
      },
      {
       "output_type": "stream",
       "stream": "stderr",
       "text": [
        "[2759]\ttrain-rmse:1.253368\tval-rmse:1.830739\n",
        "[2760]\ttrain-rmse:1.252920\tval-rmse:1.830524\n"
       ]
      },
      {
       "output_type": "stream",
       "stream": "stderr",
       "text": [
        "[2761]\ttrain-rmse:1.252257\tval-rmse:1.830094\n",
        "[2762]\ttrain-rmse:1.252006\tval-rmse:1.829903\n"
       ]
      },
      {
       "output_type": "stream",
       "stream": "stderr",
       "text": [
        "[2763]\ttrain-rmse:1.251812\tval-rmse:1.829829\n",
        "[2764]\ttrain-rmse:1.251669\tval-rmse:1.829733\n"
       ]
      },
      {
       "output_type": "stream",
       "stream": "stderr",
       "text": [
        "[2765]\ttrain-rmse:1.251523\tval-rmse:1.829656\n",
        "[2766]\ttrain-rmse:1.251047\tval-rmse:1.829415\n"
       ]
      },
      {
       "output_type": "stream",
       "stream": "stderr",
       "text": [
        "[2767]\ttrain-rmse:1.250577\tval-rmse:1.829091\n",
        "[2768]\ttrain-rmse:1.250503\tval-rmse:1.829052\n"
       ]
      },
      {
       "output_type": "stream",
       "stream": "stderr",
       "text": [
        "[2769]\ttrain-rmse:1.250154\tval-rmse:1.828776\n",
        "[2770]\ttrain-rmse:1.249819\tval-rmse:1.828565\n"
       ]
      },
      {
       "output_type": "stream",
       "stream": "stderr",
       "text": [
        "[2771]\ttrain-rmse:1.249665\tval-rmse:1.828466\n",
        "[2772]\ttrain-rmse:1.249187\tval-rmse:1.828156\n"
       ]
      },
      {
       "output_type": "stream",
       "stream": "stderr",
       "text": [
        "[2773]\ttrain-rmse:1.248902\tval-rmse:1.827978\n",
        "[2774]\ttrain-rmse:1.248570\tval-rmse:1.827777\n"
       ]
      },
      {
       "output_type": "stream",
       "stream": "stderr",
       "text": [
        "[2775]\ttrain-rmse:1.247858\tval-rmse:1.827385\n",
        "[2776]\ttrain-rmse:1.247567\tval-rmse:1.827199\n"
       ]
      },
      {
       "output_type": "stream",
       "stream": "stderr",
       "text": [
        "[2777]\ttrain-rmse:1.247150\tval-rmse:1.826954\n",
        "[2778]\ttrain-rmse:1.246982\tval-rmse:1.826867\n"
       ]
      },
      {
       "output_type": "stream",
       "stream": "stderr",
       "text": [
        "[2779]\ttrain-rmse:1.246526\tval-rmse:1.826530\n",
        "[2780]\ttrain-rmse:1.246147\tval-rmse:1.826298\n"
       ]
      },
      {
       "output_type": "stream",
       "stream": "stderr",
       "text": [
        "[2781]\ttrain-rmse:1.245595\tval-rmse:1.825957\n",
        "[2782]\ttrain-rmse:1.245418\tval-rmse:1.825873\n"
       ]
      },
      {
       "output_type": "stream",
       "stream": "stderr",
       "text": [
        "[2783]\ttrain-rmse:1.244834\tval-rmse:1.825534\n",
        "[2784]\ttrain-rmse:1.244249\tval-rmse:1.825154\n"
       ]
      },
      {
       "output_type": "stream",
       "stream": "stderr",
       "text": [
        "[2785]\ttrain-rmse:1.243861\tval-rmse:1.824904\n",
        "[2786]\ttrain-rmse:1.243650\tval-rmse:1.824805\n"
       ]
      },
      {
       "output_type": "stream",
       "stream": "stderr",
       "text": [
        "[2787]\ttrain-rmse:1.243275\tval-rmse:1.824616\n",
        "[2788]\ttrain-rmse:1.243026\tval-rmse:1.824434\n"
       ]
      },
      {
       "output_type": "stream",
       "stream": "stderr",
       "text": [
        "[2789]\ttrain-rmse:1.242958\tval-rmse:1.824387\n",
        "[2790]\ttrain-rmse:1.242633\tval-rmse:1.824193\n"
       ]
      },
      {
       "output_type": "stream",
       "stream": "stderr",
       "text": [
        "[2791]\ttrain-rmse:1.242104\tval-rmse:1.823796\n",
        "[2792]\ttrain-rmse:1.241903\tval-rmse:1.823702\n"
       ]
      },
      {
       "output_type": "stream",
       "stream": "stderr",
       "text": [
        "[2793]\ttrain-rmse:1.241782\tval-rmse:1.823620\n",
        "[2794]\ttrain-rmse:1.241578\tval-rmse:1.823474\n"
       ]
      },
      {
       "output_type": "stream",
       "stream": "stderr",
       "text": [
        "[2795]\ttrain-rmse:1.241448\tval-rmse:1.823380\n",
        "[2796]\ttrain-rmse:1.240789\tval-rmse:1.822998\n"
       ]
      },
      {
       "output_type": "stream",
       "stream": "stderr",
       "text": [
        "[2797]\ttrain-rmse:1.240541\tval-rmse:1.822832\n",
        "[2798]\ttrain-rmse:1.240379\tval-rmse:1.822723\n"
       ]
      },
      {
       "output_type": "stream",
       "stream": "stderr",
       "text": [
        "[2799]\ttrain-rmse:1.239883\tval-rmse:1.822404\n",
        "[2800]\ttrain-rmse:1.239417\tval-rmse:1.822108\n"
       ]
      },
      {
       "output_type": "stream",
       "stream": "stderr",
       "text": [
        "[2801]\ttrain-rmse:1.239021\tval-rmse:1.821843\n",
        "[2802]\ttrain-rmse:1.238716\tval-rmse:1.821684\n"
       ]
      },
      {
       "output_type": "stream",
       "stream": "stderr",
       "text": [
        "[2803]\ttrain-rmse:1.238617\tval-rmse:1.821635\n",
        "[2804]\ttrain-rmse:1.238095\tval-rmse:1.821328\n"
       ]
      },
      {
       "output_type": "stream",
       "stream": "stderr",
       "text": [
        "[2805]\ttrain-rmse:1.237845\tval-rmse:1.821193\n",
        "[2806]\ttrain-rmse:1.237536\tval-rmse:1.821018\n"
       ]
      },
      {
       "output_type": "stream",
       "stream": "stderr",
       "text": [
        "[2807]\ttrain-rmse:1.237236\tval-rmse:1.820798\n",
        "[2808]\ttrain-rmse:1.236675\tval-rmse:1.820434\n"
       ]
      },
      {
       "output_type": "stream",
       "stream": "stderr",
       "text": [
        "[2809]\ttrain-rmse:1.235693\tval-rmse:1.819772\n",
        "[2810]\ttrain-rmse:1.235587\tval-rmse:1.819706\n"
       ]
      },
      {
       "output_type": "stream",
       "stream": "stderr",
       "text": [
        "[2811]\ttrain-rmse:1.235378\tval-rmse:1.819555\n",
        "[2812]\ttrain-rmse:1.235265\tval-rmse:1.819507\n"
       ]
      },
      {
       "output_type": "stream",
       "stream": "stderr",
       "text": [
        "[2813]\ttrain-rmse:1.235096\tval-rmse:1.819394\n",
        "[2814]\ttrain-rmse:1.234574\tval-rmse:1.819082\n"
       ]
      },
      {
       "output_type": "stream",
       "stream": "stderr",
       "text": [
        "[2815]\ttrain-rmse:1.234287\tval-rmse:1.818865\n",
        "[2816]\ttrain-rmse:1.233929\tval-rmse:1.818662\n"
       ]
      },
      {
       "output_type": "stream",
       "stream": "stderr",
       "text": [
        "[2817]\ttrain-rmse:1.233733\tval-rmse:1.818514\n",
        "[2818]\ttrain-rmse:1.233368\tval-rmse:1.818279\n"
       ]
      },
      {
       "output_type": "stream",
       "stream": "stderr",
       "text": [
        "[2819]\ttrain-rmse:1.233098\tval-rmse:1.818112\n",
        "[2820]\ttrain-rmse:1.232861\tval-rmse:1.817985\n"
       ]
      },
      {
       "output_type": "stream",
       "stream": "stderr",
       "text": [
        "[2821]\ttrain-rmse:1.232581\tval-rmse:1.817843\n",
        "[2822]\ttrain-rmse:1.232498\tval-rmse:1.817831\n"
       ]
      },
      {
       "output_type": "stream",
       "stream": "stderr",
       "text": [
        "[2823]\ttrain-rmse:1.232108\tval-rmse:1.817631\n",
        "[2824]\ttrain-rmse:1.231873\tval-rmse:1.817460\n"
       ]
      },
      {
       "output_type": "stream",
       "stream": "stderr",
       "text": [
        "[2825]\ttrain-rmse:1.231472\tval-rmse:1.817210\n",
        "[2826]\ttrain-rmse:1.231100\tval-rmse:1.817004\n"
       ]
      },
      {
       "output_type": "stream",
       "stream": "stderr",
       "text": [
        "[2827]\ttrain-rmse:1.231018\tval-rmse:1.816975\n",
        "[2828]\ttrain-rmse:1.230680\tval-rmse:1.816775\n"
       ]
      },
      {
       "output_type": "stream",
       "stream": "stderr",
       "text": [
        "[2829]\ttrain-rmse:1.230139\tval-rmse:1.816423\n",
        "[2830]\ttrain-rmse:1.229936\tval-rmse:1.816296\n"
       ]
      },
      {
       "output_type": "stream",
       "stream": "stderr",
       "text": [
        "[2831]\ttrain-rmse:1.229641\tval-rmse:1.816073\n",
        "[2832]\ttrain-rmse:1.229084\tval-rmse:1.815749\n"
       ]
      },
      {
       "output_type": "stream",
       "stream": "stderr",
       "text": [
        "[2833]\ttrain-rmse:1.228466\tval-rmse:1.815372\n",
        "[2834]\ttrain-rmse:1.228109\tval-rmse:1.815174\n"
       ]
      },
      {
       "output_type": "stream",
       "stream": "stderr",
       "text": [
        "[2835]\ttrain-rmse:1.227206\tval-rmse:1.814663\n",
        "[2836]\ttrain-rmse:1.226903\tval-rmse:1.814506\n"
       ]
      },
      {
       "output_type": "stream",
       "stream": "stderr",
       "text": [
        "[2837]\ttrain-rmse:1.226566\tval-rmse:1.814329\n",
        "[2838]\ttrain-rmse:1.225733\tval-rmse:1.813756\n"
       ]
      },
      {
       "output_type": "stream",
       "stream": "stderr",
       "text": [
        "[2839]\ttrain-rmse:1.225117\tval-rmse:1.813378\n",
        "[2840]\ttrain-rmse:1.224981\tval-rmse:1.813249\n"
       ]
      },
      {
       "output_type": "stream",
       "stream": "stderr",
       "text": [
        "[2841]\ttrain-rmse:1.224849\tval-rmse:1.813158\n",
        "[2842]\ttrain-rmse:1.224741\tval-rmse:1.813087\n"
       ]
      },
      {
       "output_type": "stream",
       "stream": "stderr",
       "text": [
        "[2843]\ttrain-rmse:1.224567\tval-rmse:1.812960\n",
        "[2844]\ttrain-rmse:1.224460\tval-rmse:1.812898\n"
       ]
      },
      {
       "output_type": "stream",
       "stream": "stderr",
       "text": [
        "[2845]\ttrain-rmse:1.224220\tval-rmse:1.812750\n",
        "[2846]\ttrain-rmse:1.224127\tval-rmse:1.812698\n"
       ]
      },
      {
       "output_type": "stream",
       "stream": "stderr",
       "text": [
        "[2847]\ttrain-rmse:1.223929\tval-rmse:1.812541\n",
        "[2848]\ttrain-rmse:1.223528\tval-rmse:1.812313\n"
       ]
      },
      {
       "output_type": "stream",
       "stream": "stderr",
       "text": [
        "[2849]\ttrain-rmse:1.223156\tval-rmse:1.812103\n",
        "[2850]\ttrain-rmse:1.223000\tval-rmse:1.812019\n"
       ]
      },
      {
       "output_type": "stream",
       "stream": "stderr",
       "text": [
        "[2851]\ttrain-rmse:1.222880\tval-rmse:1.811958\n",
        "[2852]\ttrain-rmse:1.222523\tval-rmse:1.811667\n"
       ]
      },
      {
       "output_type": "stream",
       "stream": "stderr",
       "text": [
        "[2853]\ttrain-rmse:1.222352\tval-rmse:1.811543\n",
        "[2854]\ttrain-rmse:1.221522\tval-rmse:1.810938\n"
       ]
      },
      {
       "output_type": "stream",
       "stream": "stderr",
       "text": [
        "[2855]\ttrain-rmse:1.221063\tval-rmse:1.810696\n",
        "[2856]\ttrain-rmse:1.220403\tval-rmse:1.810206\n"
       ]
      },
      {
       "output_type": "stream",
       "stream": "stderr",
       "text": [
        "[2857]\ttrain-rmse:1.219803\tval-rmse:1.809886\n",
        "[2858]\ttrain-rmse:1.219551\tval-rmse:1.809742\n"
       ]
      },
      {
       "output_type": "stream",
       "stream": "stderr",
       "text": [
        "[2859]\ttrain-rmse:1.219251\tval-rmse:1.809468\n",
        "[2860]\ttrain-rmse:1.218979\tval-rmse:1.809332\n"
       ]
      },
      {
       "output_type": "stream",
       "stream": "stderr",
       "text": [
        "[2861]\ttrain-rmse:1.218767\tval-rmse:1.809246\n",
        "[2862]\ttrain-rmse:1.218544\tval-rmse:1.809134\n"
       ]
      },
      {
       "output_type": "stream",
       "stream": "stderr",
       "text": [
        "[2863]\ttrain-rmse:1.218297\tval-rmse:1.809011\n",
        "[2864]\ttrain-rmse:1.218065\tval-rmse:1.808861\n"
       ]
      },
      {
       "output_type": "stream",
       "stream": "stderr",
       "text": [
        "[2865]\ttrain-rmse:1.217783\tval-rmse:1.808694\n",
        "[2866]\ttrain-rmse:1.217468\tval-rmse:1.808455\n"
       ]
      },
      {
       "output_type": "stream",
       "stream": "stderr",
       "text": [
        "[2867]\ttrain-rmse:1.217277\tval-rmse:1.808359\n",
        "[2868]\ttrain-rmse:1.216859\tval-rmse:1.808111\n"
       ]
      },
      {
       "output_type": "stream",
       "stream": "stderr",
       "text": [
        "[2869]\ttrain-rmse:1.216588\tval-rmse:1.807948\n",
        "[2870]\ttrain-rmse:1.216310\tval-rmse:1.807746\n"
       ]
      },
      {
       "output_type": "stream",
       "stream": "stderr",
       "text": [
        "[2871]\ttrain-rmse:1.216166\tval-rmse:1.807620\n",
        "[2872]\ttrain-rmse:1.215665\tval-rmse:1.807300\n"
       ]
      },
      {
       "output_type": "stream",
       "stream": "stderr",
       "text": [
        "[2873]\ttrain-rmse:1.215582\tval-rmse:1.807251\n",
        "[2874]\ttrain-rmse:1.215422\tval-rmse:1.807136\n"
       ]
      },
      {
       "output_type": "stream",
       "stream": "stderr",
       "text": [
        "[2875]\ttrain-rmse:1.215060\tval-rmse:1.806916\n",
        "[2876]\ttrain-rmse:1.214631\tval-rmse:1.806582\n"
       ]
      },
      {
       "output_type": "stream",
       "stream": "stderr",
       "text": [
        "[2877]\ttrain-rmse:1.214393\tval-rmse:1.806427\n",
        "[2878]\ttrain-rmse:1.213645\tval-rmse:1.806004\n"
       ]
      },
      {
       "output_type": "stream",
       "stream": "stderr",
       "text": [
        "[2879]\ttrain-rmse:1.213030\tval-rmse:1.805597\n",
        "[2880]\ttrain-rmse:1.212871\tval-rmse:1.805507\n"
       ]
      },
      {
       "output_type": "stream",
       "stream": "stderr",
       "text": [
        "[2881]\ttrain-rmse:1.212680\tval-rmse:1.805401\n",
        "[2882]\ttrain-rmse:1.212543\tval-rmse:1.805343\n"
       ]
      },
      {
       "output_type": "stream",
       "stream": "stderr",
       "text": [
        "[2883]\ttrain-rmse:1.212107\tval-rmse:1.805108\n",
        "[2884]\ttrain-rmse:1.211987\tval-rmse:1.805046\n"
       ]
      },
      {
       "output_type": "stream",
       "stream": "stderr",
       "text": [
        "[2885]\ttrain-rmse:1.211743\tval-rmse:1.804907\n",
        "[2886]\ttrain-rmse:1.211290\tval-rmse:1.804660\n"
       ]
      },
      {
       "output_type": "stream",
       "stream": "stderr",
       "text": [
        "[2887]\ttrain-rmse:1.211039\tval-rmse:1.804478\n",
        "[2888]\ttrain-rmse:1.210848\tval-rmse:1.804382\n"
       ]
      },
      {
       "output_type": "stream",
       "stream": "stderr",
       "text": [
        "[2889]\ttrain-rmse:1.210312\tval-rmse:1.804107\n",
        "[2890]\ttrain-rmse:1.209870\tval-rmse:1.803795\n"
       ]
      },
      {
       "output_type": "stream",
       "stream": "stderr",
       "text": [
        "[2891]\ttrain-rmse:1.209262\tval-rmse:1.803445\n",
        "[2892]\ttrain-rmse:1.208991\tval-rmse:1.803290\n"
       ]
      },
      {
       "output_type": "stream",
       "stream": "stderr",
       "text": [
        "[2893]\ttrain-rmse:1.208183\tval-rmse:1.802718\n",
        "[2894]\ttrain-rmse:1.207825\tval-rmse:1.802510\n"
       ]
      },
      {
       "output_type": "stream",
       "stream": "stderr",
       "text": [
        "[2895]\ttrain-rmse:1.207367\tval-rmse:1.802243\n",
        "[2896]\ttrain-rmse:1.206954\tval-rmse:1.802059\n"
       ]
      },
      {
       "output_type": "stream",
       "stream": "stderr",
       "text": [
        "[2897]\ttrain-rmse:1.206871\tval-rmse:1.801990\n",
        "[2898]\ttrain-rmse:1.206683\tval-rmse:1.801868\n"
       ]
      },
      {
       "output_type": "stream",
       "stream": "stderr",
       "text": [
        "[2899]\ttrain-rmse:1.206507\tval-rmse:1.801796\n",
        "[2900]\ttrain-rmse:1.206250\tval-rmse:1.801612\n"
       ]
      },
      {
       "output_type": "stream",
       "stream": "stderr",
       "text": [
        "[2901]\ttrain-rmse:1.205864\tval-rmse:1.801381\n",
        "[2902]\ttrain-rmse:1.205606\tval-rmse:1.801210\n"
       ]
      },
      {
       "output_type": "stream",
       "stream": "stderr",
       "text": [
        "[2903]\ttrain-rmse:1.205072\tval-rmse:1.800874\n",
        "[2904]\ttrain-rmse:1.204694\tval-rmse:1.800627\n"
       ]
      },
      {
       "output_type": "stream",
       "stream": "stderr",
       "text": [
        "[2905]\ttrain-rmse:1.204412\tval-rmse:1.800413\n",
        "[2906]\ttrain-rmse:1.204246\tval-rmse:1.800319\n"
       ]
      },
      {
       "output_type": "stream",
       "stream": "stderr",
       "text": [
        "[2907]\ttrain-rmse:1.203838\tval-rmse:1.800102\n",
        "[2908]\ttrain-rmse:1.203670\tval-rmse:1.799982\n"
       ]
      },
      {
       "output_type": "stream",
       "stream": "stderr",
       "text": [
        "[2909]\ttrain-rmse:1.203286\tval-rmse:1.799781\n",
        "[2910]\ttrain-rmse:1.203067\tval-rmse:1.799674\n"
       ]
      },
      {
       "output_type": "stream",
       "stream": "stderr",
       "text": [
        "[2911]\ttrain-rmse:1.202929\tval-rmse:1.799566\n",
        "[2912]\ttrain-rmse:1.202746\tval-rmse:1.799483\n"
       ]
      },
      {
       "output_type": "stream",
       "stream": "stderr",
       "text": [
        "[2913]\ttrain-rmse:1.202569\tval-rmse:1.799370\n",
        "[2914]\ttrain-rmse:1.202308\tval-rmse:1.799217\n"
       ]
      },
      {
       "output_type": "stream",
       "stream": "stderr",
       "text": [
        "[2915]\ttrain-rmse:1.202038\tval-rmse:1.799033\n",
        "[2916]\ttrain-rmse:1.201754\tval-rmse:1.798887\n"
       ]
      },
      {
       "output_type": "stream",
       "stream": "stderr",
       "text": [
        "[2917]\ttrain-rmse:1.201578\tval-rmse:1.798762\n",
        "[2918]\ttrain-rmse:1.201468\tval-rmse:1.798709\n"
       ]
      },
      {
       "output_type": "stream",
       "stream": "stderr",
       "text": [
        "[2919]\ttrain-rmse:1.200881\tval-rmse:1.798344\n",
        "[2920]\ttrain-rmse:1.200527\tval-rmse:1.798119\n"
       ]
      },
      {
       "output_type": "stream",
       "stream": "stderr",
       "text": [
        "[2921]\ttrain-rmse:1.200341\tval-rmse:1.797980\n",
        "[2922]\ttrain-rmse:1.200209\tval-rmse:1.797906\n"
       ]
      },
      {
       "output_type": "stream",
       "stream": "stderr",
       "text": [
        "[2923]\ttrain-rmse:1.200095\tval-rmse:1.797824\n",
        "[2924]\ttrain-rmse:1.199784\tval-rmse:1.797515\n"
       ]
      },
      {
       "output_type": "stream",
       "stream": "stderr",
       "text": [
        "[2925]\ttrain-rmse:1.199443\tval-rmse:1.797260\n",
        "[2926]\ttrain-rmse:1.199206\tval-rmse:1.797141\n"
       ]
      },
      {
       "output_type": "stream",
       "stream": "stderr",
       "text": [
        "[2927]\ttrain-rmse:1.198811\tval-rmse:1.796887\n",
        "[2928]\ttrain-rmse:1.198306\tval-rmse:1.796610\n"
       ]
      },
      {
       "output_type": "stream",
       "stream": "stderr",
       "text": [
        "[2929]\ttrain-rmse:1.198084\tval-rmse:1.796476\n",
        "[2930]\ttrain-rmse:1.197940\tval-rmse:1.796414\n"
       ]
      },
      {
       "output_type": "stream",
       "stream": "stderr",
       "text": [
        "[2931]\ttrain-rmse:1.197533\tval-rmse:1.796162\n",
        "[2932]\ttrain-rmse:1.197210\tval-rmse:1.795950\n"
       ]
      },
      {
       "output_type": "stream",
       "stream": "stderr",
       "text": [
        "[2933]\ttrain-rmse:1.197090\tval-rmse:1.795897\n",
        "[2934]\ttrain-rmse:1.196805\tval-rmse:1.795678\n"
       ]
      },
      {
       "output_type": "stream",
       "stream": "stderr",
       "text": [
        "[2935]\ttrain-rmse:1.196039\tval-rmse:1.795212\n",
        "[2936]\ttrain-rmse:1.195868\tval-rmse:1.795071\n"
       ]
      },
      {
       "output_type": "stream",
       "stream": "stderr",
       "text": [
        "[2937]\ttrain-rmse:1.195460\tval-rmse:1.794773\n",
        "[2938]\ttrain-rmse:1.195339\tval-rmse:1.794743\n"
       ]
      },
      {
       "output_type": "stream",
       "stream": "stderr",
       "text": [
        "[2939]\ttrain-rmse:1.194744\tval-rmse:1.794451\n",
        "[2940]\ttrain-rmse:1.194349\tval-rmse:1.794223\n"
       ]
      },
      {
       "output_type": "stream",
       "stream": "stderr",
       "text": [
        "[2941]\ttrain-rmse:1.193978\tval-rmse:1.793984\n",
        "[2942]\ttrain-rmse:1.193838\tval-rmse:1.793909\n"
       ]
      },
      {
       "output_type": "stream",
       "stream": "stderr",
       "text": [
        "[2943]\ttrain-rmse:1.193656\tval-rmse:1.793802\n",
        "[2944]\ttrain-rmse:1.193290\tval-rmse:1.793539\n"
       ]
      },
      {
       "output_type": "stream",
       "stream": "stderr",
       "text": [
        "[2945]\ttrain-rmse:1.193111\tval-rmse:1.793439\n",
        "[2946]\ttrain-rmse:1.192799\tval-rmse:1.793216\n"
       ]
      },
      {
       "output_type": "stream",
       "stream": "stderr",
       "text": [
        "[2947]\ttrain-rmse:1.192294\tval-rmse:1.792931\n",
        "[2948]\ttrain-rmse:1.191844\tval-rmse:1.792633\n"
       ]
      },
      {
       "output_type": "stream",
       "stream": "stderr",
       "text": [
        "[2949]\ttrain-rmse:1.191402\tval-rmse:1.792385\n",
        "[2950]\ttrain-rmse:1.191231\tval-rmse:1.792275\n"
       ]
      },
      {
       "output_type": "stream",
       "stream": "stderr",
       "text": [
        "[2951]\ttrain-rmse:1.191136\tval-rmse:1.792196\n",
        "[2952]\ttrain-rmse:1.190641\tval-rmse:1.791943\n"
       ]
      },
      {
       "output_type": "stream",
       "stream": "stderr",
       "text": [
        "[2953]\ttrain-rmse:1.190395\tval-rmse:1.791794\n",
        "[2954]\ttrain-rmse:1.190201\tval-rmse:1.791732\n"
       ]
      },
      {
       "output_type": "stream",
       "stream": "stderr",
       "text": [
        "[2955]\ttrain-rmse:1.189789\tval-rmse:1.791498\n",
        "[2956]\ttrain-rmse:1.189628\tval-rmse:1.791389\n"
       ]
      },
      {
       "output_type": "stream",
       "stream": "stderr",
       "text": [
        "[2957]\ttrain-rmse:1.189408\tval-rmse:1.791191\n",
        "[2958]\ttrain-rmse:1.189213\tval-rmse:1.791069\n"
       ]
      },
      {
       "output_type": "stream",
       "stream": "stderr",
       "text": [
        "[2959]\ttrain-rmse:1.189071\tval-rmse:1.790982\n",
        "[2960]\ttrain-rmse:1.188733\tval-rmse:1.790816\n"
       ]
      },
      {
       "output_type": "stream",
       "stream": "stderr",
       "text": [
        "[2961]\ttrain-rmse:1.188518\tval-rmse:1.790697\n",
        "[2962]\ttrain-rmse:1.187864\tval-rmse:1.790362\n"
       ]
      },
      {
       "output_type": "stream",
       "stream": "stderr",
       "text": [
        "[2963]\ttrain-rmse:1.187646\tval-rmse:1.790235\n",
        "[2964]\ttrain-rmse:1.187489\tval-rmse:1.790119\n"
       ]
      },
      {
       "output_type": "stream",
       "stream": "stderr",
       "text": [
        "[2965]\ttrain-rmse:1.187198\tval-rmse:1.789959\n",
        "[2966]\ttrain-rmse:1.186696\tval-rmse:1.789699\n"
       ]
      },
      {
       "output_type": "stream",
       "stream": "stderr",
       "text": [
        "[2967]\ttrain-rmse:1.186394\tval-rmse:1.789499\n",
        "[2968]\ttrain-rmse:1.186094\tval-rmse:1.789355\n"
       ]
      },
      {
       "output_type": "stream",
       "stream": "stderr",
       "text": [
        "[2969]\ttrain-rmse:1.185637\tval-rmse:1.789020\n",
        "[2970]\ttrain-rmse:1.185312\tval-rmse:1.788828\n"
       ]
      },
      {
       "output_type": "stream",
       "stream": "stderr",
       "text": [
        "[2971]\ttrain-rmse:1.184897\tval-rmse:1.788521\n",
        "[2972]\ttrain-rmse:1.184701\tval-rmse:1.788395\n"
       ]
      },
      {
       "output_type": "stream",
       "stream": "stderr",
       "text": [
        "[2973]\ttrain-rmse:1.184392\tval-rmse:1.788194\n",
        "[2974]\ttrain-rmse:1.183956\tval-rmse:1.787930\n"
       ]
      },
      {
       "output_type": "stream",
       "stream": "stderr",
       "text": [
        "[2975]\ttrain-rmse:1.183596\tval-rmse:1.787722\n",
        "[2976]\ttrain-rmse:1.183185\tval-rmse:1.787502\n"
       ]
      },
      {
       "output_type": "stream",
       "stream": "stderr",
       "text": [
        "[2977]\ttrain-rmse:1.182853\tval-rmse:1.787379\n",
        "[2978]\ttrain-rmse:1.182601\tval-rmse:1.787213\n"
       ]
      },
      {
       "output_type": "stream",
       "stream": "stderr",
       "text": [
        "[2979]\ttrain-rmse:1.182322\tval-rmse:1.787022\n",
        "[2980]\ttrain-rmse:1.181964\tval-rmse:1.786796\n"
       ]
      },
      {
       "output_type": "stream",
       "stream": "stderr",
       "text": [
        "[2981]\ttrain-rmse:1.181385\tval-rmse:1.786442\n",
        "[2982]\ttrain-rmse:1.181118\tval-rmse:1.786288\n"
       ]
      },
      {
       "output_type": "stream",
       "stream": "stderr",
       "text": [
        "[2983]\ttrain-rmse:1.180976\tval-rmse:1.786209\n",
        "[2984]\ttrain-rmse:1.180727\tval-rmse:1.786057\n"
       ]
      },
      {
       "output_type": "stream",
       "stream": "stderr",
       "text": [
        "[2985]\ttrain-rmse:1.179945\tval-rmse:1.785580\n",
        "[2986]\ttrain-rmse:1.179756\tval-rmse:1.785470\n"
       ]
      },
      {
       "output_type": "stream",
       "stream": "stderr",
       "text": [
        "[2987]\ttrain-rmse:1.179594\tval-rmse:1.785368\n",
        "[2988]\ttrain-rmse:1.179348\tval-rmse:1.785195\n"
       ]
      },
      {
       "output_type": "stream",
       "stream": "stderr",
       "text": [
        "[2989]\ttrain-rmse:1.178535\tval-rmse:1.784625\n",
        "[2990]\ttrain-rmse:1.178289\tval-rmse:1.784473\n"
       ]
      },
      {
       "output_type": "stream",
       "stream": "stderr",
       "text": [
        "[2991]\ttrain-rmse:1.178178\tval-rmse:1.784414\n",
        "[2992]\ttrain-rmse:1.177826\tval-rmse:1.784153\n"
       ]
      },
      {
       "output_type": "stream",
       "stream": "stderr",
       "text": [
        "[2993]\ttrain-rmse:1.177440\tval-rmse:1.783965\n",
        "[2994]\ttrain-rmse:1.177083\tval-rmse:1.783728\n"
       ]
      },
      {
       "output_type": "stream",
       "stream": "stderr",
       "text": [
        "[2995]\ttrain-rmse:1.176700\tval-rmse:1.783501\n",
        "[2996]\ttrain-rmse:1.175893\tval-rmse:1.782921\n"
       ]
      },
      {
       "output_type": "stream",
       "stream": "stderr",
       "text": [
        "[2997]\ttrain-rmse:1.175479\tval-rmse:1.782617\n",
        "[2998]\ttrain-rmse:1.175279\tval-rmse:1.782486\n"
       ]
      },
      {
       "output_type": "stream",
       "stream": "stderr",
       "text": [
        "[2999]\ttrain-rmse:1.175018\tval-rmse:1.782326\n"
       ]
      }
     ],
     "prompt_number": 11
    },
    {
     "cell_type": "code",
     "collapsed": false,
     "input": [
      "xgb.plot_importance(model)\n",
      "\n",
      "## importance: f1,f15,f0,f2,f18,f16,f27,f13\n",
      "col_k = [1,15,0,2,18,16,27,13,3,4,26,9,25,20,11,5,19,8,17,12,14]\n",
      "\n",
      "print columns[col_k]"
     ],
     "language": "python",
     "metadata": {},
     "outputs": [
      {
       "output_type": "stream",
       "stream": "stdout",
       "text": [
        "Index([u'T1_V2', u'T2_V1', u'T1_V1', u'T1_V3', u'T2_V4', u'T2_V2', u'T2_V15',\n",
        "       u'T1_V16', u'T1_V4', u'T1_V5', u'T2_V14', u'T1_V11', u'T2_V13',\n",
        "       u'T2_V6', u'T1_V14', u'T1_V6', u'T2_V5', u'T1_V9', u'T2_V3', u'T1_V15',\n",
        "       u'T1_V17'],\n",
        "      dtype='object')\n"
       ]
      },
      {
       "metadata": {},
       "output_type": "display_data",
       "png": "[encoded data removed]",
       "text": [
        "<matplotlib.figure.Figure at 0x7fdc481b8390>"
       ]
      }
     ],
     "prompt_number": 14
    },
    {
     "cell_type": "code",
     "collapsed": false,
     "input": [
      "print '=== Train n val report ==='\n",
      "preds1 = model.predict(xgtrain)\n",
      "r1 = np.sqrt( np.mean((np.delete(labels_balanced,test_rows_sampled,0) - preds1)**2) )\n",
      "\n",
      "preds2 = model.predict(xgval)\n",
      "r2 = np.sqrt( np.mean((labels_balanced[test_rows_sampled] - preds2)**2) )\n",
      "\n",
      "print \"train-rmse:\" +  str(r1) + \"\\t val-rmse:\" + str(r2)\n",
      "\n",
      "print 'PS: Gini (Duvidoso)'\n",
      "print \"train-gini1: \" + str(Gini1(np.delete(labels_balanced,test_rows_sampled,0),preds1)) + \"\\t val-gini1: \" + str(Gini1(labels_balanced[test_rows_sampled],preds2)) \n",
      "print \"train-gini2: \" + str(Gini2(np.delete(labels_balanced,test_rows_sampled,0),preds1)) + \"\\t val-gini2: \" + str(Gini2(labels_balanced[test_rows_sampled],preds2))\n",
      "\n",
      "print 'Computing lables in test data'\n",
      "preds2 = model.predict(xgtest)\n",
      "\n",
      "# generate solution file\n",
      "preds = pd.DataFrame({\"Hazard\": test_labels, \"Model_Hazard\": preds2})\n",
      "preds = preds.set_index('Hazard')\n",
      "print preds.head()\n",
      "\n",
      "print 'Gini (Duvidoso)'\n",
      "print Gini1(test_labels,preds2)\n",
      "print Gini2(test_labels,preds2)\n",
      "\n",
      "print 'rmse' \n",
      "print np.sqrt( np.mean((test_labels - preds2)**2) )\n",
      "\n",
      "#preds.to_csv('test_dev_20150824_1.csv')"
     ],
     "language": "python",
     "metadata": {},
     "outputs": [
      {
       "output_type": "stream",
       "stream": "stdout",
       "text": [
        "=== Train n val report ===\n",
        "train-rmse:1.17501828353\t val-rmse:1.78232564793\n",
        "PS: Gini (Duvidoso)\n",
        "train-gini1: 0.991803237529\t val-gini1: 0.977878778601"
       ]
      },
      {
       "output_type": "stream",
       "stream": "stdout",
       "text": [
        "\n",
        "train-gini2: 0.991802921465\t val-gini2: 0.977871883797\n",
        "Computing lables in test data\n",
        "        Model_Hazard\n",
        "Hazard              \n",
        "37         12.842974\n",
        "38         10.948874\n",
        "41          9.044538\n",
        "33          6.534524\n",
        "36         15.115508"
       ]
      },
      {
       "output_type": "stream",
       "stream": "stdout",
       "text": [
        "\n",
        "Gini (Duvidoso)\n",
        "0.13464081093\n",
        "-0.0564971751412\n",
        "rmse\n",
        "30.4860630547\n"
       ]
      }
     ],
     "prompt_number": 13
    },
    {
     "cell_type": "code",
     "collapsed": false,
     "input": [
      "print 'Submit'\n",
      "preds1 = model.predict(xgsubmit)\n",
      "\n",
      "# generate solution file\n",
      "preds = pd.DataFrame({\"Id\": submit_ind, \"Hazard\": preds1})\n",
      "preds = preds.set_index('Id')\n",
      "print preds.head(11)\n",
      "preds.to_csv('submit_dev_20150824_3.csv')\n",
      "\n",
      "\n",
      "print 'Current dir:'\n",
      "%pwd"
     ],
     "language": "python",
     "metadata": {},
     "outputs": []
    }
   ],
   "metadata": {}
  }
 ]
}